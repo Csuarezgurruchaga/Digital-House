{
 "cells": [
  {
   "cell_type": "code",
   "execution_count": 1,
   "metadata": {},
   "outputs": [
    {
     "name": "stdout",
     "output_type": "stream",
     "text": [
      "/Users/csuarezgurruchaga/Desktop/Digital-House/CLASE_23/dsad_2021/common\n",
      "default checking\n",
      "Running command `conda list`... ok\n",
      "jupyterlab=2.2.6 already installed\n",
      "pandas=1.1.5 already installed\n",
      "bokeh=2.2.3 already installed\n",
      "seaborn=0.11.0 already installed\n",
      "matplotlib=3.3.2 already installed\n",
      "ipywidgets=7.5.1 already installed\n",
      "pytest=6.2.1 already installed\n",
      "chardet=4.0.0 already installed\n",
      "psutil=5.7.2 already installed\n",
      "scipy=1.5.2 already installed\n",
      "statsmodels=0.12.1 already installed\n",
      "scikit-learn=0.23.2 already installed\n",
      "xlrd=2.0.1 already installed\n",
      "Running command `conda install --yes nltk=3.5.0`... ok\n",
      "Collecting package metadata (current_repodata.json): ...working... done\n",
      "Solving environment: ...working... done\n",
      "\n",
      "# All requested packages already installed.\n",
      "\n",
      "\n",
      "unidecode=1.1.1 already installed\n",
      "pydotplus=2.0.2 already installed\n",
      "pandas-datareader=0.9.0 already installed\n",
      "flask=1.1.2 already installed\n"
     ]
    }
   ],
   "source": [
    "# initial setup\n",
    "%run \"../../../common/0_notebooks_base_setup.py\"\n"
   ]
  },
  {
   "cell_type": "markdown",
   "metadata": {},
   "source": [
    "[<img src=\"https://www.digitalhouse.com/ar/logo-DH.png\" width=\"400\" height=\"200\" align='right'>](http://digitalhouse.com.ar/)"
   ]
  },
  {
   "cell_type": "markdown",
   "metadata": {
    "colab_type": "text",
    "id": "bEs0UIxR2FkB"
   },
   "source": [
    "# Práctica Guiada\n",
    "## Regularización, Overfitting  y _Cross validation_\n",
    "\n",
    "Analicemos nuevamente el dataset inmobiliario de Boston y apliquemos cross-validation. Hay un excelente [ejemplo](http://scikit-learn.org/stable/auto_examples/plot_cv_predict.html) en la página de scikit-learn. Usemos ese código y modifiquémoslo para comparar el ajuste con _cross-validation_ contra el caso sin _cross-validation_. Vas a necesitar [esta función](http://scikit-learn.org/stable/modules/generated/sklearn.model_selection.cross_val_score.html) para ver las métricas del modelo con _cross-validation_ ."
   ]
  },
  {
   "cell_type": "markdown",
   "metadata": {
    "colab_type": "text",
    "id": "sZTgHBDS2FkG"
   },
   "source": [
    "Trabajar sobre el [ejemplo](http://scikit-learn.org/stable/auto_examples/plot_cv_predict.html) de cross-validation, agregando calculos de $r^2$. ¿Difiere el score usando CV del score obtenido sobre el set completos de datos? ¿En qué sentido? ¿Por qué?"
   ]
  },
  {
   "cell_type": "code",
   "execution_count": 2,
   "metadata": {
    "colab": {},
    "colab_type": "code",
    "id": "_XY6CMXP2FkJ",
    "outputId": "dfbaa721-1e09-4367-8a00-4aab06ddd32a"
   },
   "outputs": [
    {
     "data": {
      "text/plain": [
       "(array([0.66861075, 0.67218542, 0.67382079, 0.77514668, 0.73160649]),\n",
       " 0.7042740230783744)"
      ]
     },
     "execution_count": 2,
     "metadata": {},
     "output_type": "execute_result"
    }
   ],
   "source": [
    "import random\n",
    "import matplotlib.pyplot as plt\n",
    "import pandas as pd\n",
    "from sklearn import datasets, linear_model\n",
    "from sklearn.model_selection import cross_val_score, train_test_split, KFold\n",
    "from sklearn.metrics import r2_score\n",
    "from sklearn.preprocessing import StandardScaler\n",
    "  \n",
    "random.seed(3)\n",
    "boston = datasets.load_boston()\n",
    "y = boston.target\n",
    "X = pd.DataFrame(boston.data, columns=boston.feature_names)\n",
    "X_train, X_test, y_train, y_test = train_test_split(X, y, test_size=0.30, random_state=42)\n",
    "lr = linear_model.LinearRegression()\n",
    "cv = KFold(5, shuffle=True)\n",
    "scores = cross_val_score(lr, X_train, y_train, cv=cv, scoring='r2')\n",
    "scores, scores.mean()"
   ]
  },
  {
   "cell_type": "markdown",
   "metadata": {
    "colab_type": "text",
    "id": "VWSAzI5u2Fkp"
   },
   "source": [
    "## Regularización: Lasso\n",
    "\n",
    "Lasso (en inglés: _least absolute shrinkage and selection operator_) es otra forma de regularization. A esta altura, deberías poder modificar los ejemplos del notebook aplicando el modelo [Lasso](http://scikit-learn.org/stable/modules/linear_model.html#lasso) de scikit-learn y su versión con _cross-validation_ `LassoCV`. \n",
    "\n",
    "La principal diferencia entre Lasso y Ridge es cómo se penaliza. Analizando la documentacion, buscá las diferencias conceptuales y prácticas entre ambos.\n",
    "\n",
    "¿Cuántos coeficientes son exactamente cero?\n",
    "\n",
    "¿Es el $\\alpha$ óptimo seleccionado por CV el mismo sin importar la escala de las variables?\n",
    "\n",
    "Recuerde que en Lasso y Ridge es necesario que lo features esten en la misma escala"
   ]
  },
  {
   "cell_type": "code",
   "execution_count": 3,
   "metadata": {
    "colab": {},
    "colab_type": "code",
    "id": "Y85Atb2v2Fkr",
    "outputId": "afee121f-6e43-479a-9269-59a57d6f8243"
   },
   "outputs": [
    {
     "data": {
      "text/plain": [
       "{'alpha': 0.7051444556162021,\n",
       " 'scores': array([0.6940235 , 0.75414865, 0.73775976, 0.53855066, 0.68009309]),\n",
       " 'mean_score': 0.680915133487735,\n",
       " 'zero_coefs': 3}"
      ]
     },
     "execution_count": 3,
     "metadata": {},
     "output_type": "execute_result"
    }
   ],
   "source": [
    "model = linear_model.LassoCV().fit(X_train, y_train)\n",
    "scores = cross_val_score(model, X_train, y_train, cv=cv, scoring='r2')\n",
    "dict(alpha=model.alpha_, scores=scores, mean_score=scores.mean(), zero_coefs=(model.coef_ == 0).sum())"
   ]
  },
  {
   "cell_type": "code",
   "execution_count": 4,
   "metadata": {
    "colab": {},
    "colab_type": "code",
    "id": "oxyy6cem2Fkx",
    "outputId": "969bc789-2959-4441-d391-68fa7d5b3225"
   },
   "outputs": [
    {
     "data": {
      "text/plain": [
       "{'alpha': 0.008002884283707804,\n",
       " 'scores': array([0.66046858, 0.61037712, 0.69208088, 0.7285869 , 0.79099912]),\n",
       " 'mean_score': 0.6965025188235014,\n",
       " 'zero_coefs': 2}"
      ]
     },
     "execution_count": 4,
     "metadata": {},
     "output_type": "execute_result"
    }
   ],
   "source": [
    "model = linear_model.LassoCV(normalize=True).fit(X, y)\n",
    "scores = cross_val_score(model, X, y, cv=cv, scoring='r2')\n",
    "dict(alpha=model.alpha_, scores=scores, mean_score=scores.mean(), zero_coefs=(model.coef_ == 0).sum())"
   ]
  },
  {
   "cell_type": "code",
   "execution_count": 7,
   "metadata": {
    "colab": {},
    "colab_type": "code",
    "id": "3ZoL46Vn2Fk5",
    "outputId": "b4b18825-252b-4f6b-fb7c-393ddd73a456"
   },
   "outputs": [
    {
     "data": {
      "text/plain": [
       "{'alpha': 0.1,\n",
       " 'scores': array([0.78413514, 0.6643472 , 0.70319262, 0.68352827, 0.68305048]),\n",
       " 'mean_score': 0.703650742027053,\n",
       " 'zero_coefs': 0}"
      ]
     },
     "execution_count": 7,
     "metadata": {},
     "output_type": "execute_result"
    }
   ],
   "source": [
    "model = linear_model.RidgeCV(normalize=True).fit(X, y)\n",
    "scores = cross_val_score(model, X, y, cv=cv, scoring='r2')\n",
    "dict(alpha=model.alpha_, scores=scores, mean_score=scores.mean(),zero_coefs=(model.coef_ == 0).sum())"
   ]
  },
  {
   "cell_type": "markdown",
   "metadata": {},
   "source": [
    "La principal diferencia entre Lasso y Ridge es cómo se penaliza. Analizando la documentacion, buscá las diferencias conceptuales y prácticas entre ambos.\n",
    "\n",
    "La regresion Lasso, utiliza la suma de los valores absolutos de los coeficientes beta de las features, sin incluir el intercepto. A su vez, con valores altos de ALPHA, es posible que penalice tanto a algunos coeficientes beta que los reduzca a cero, ya que no los considere necesario para predecir la variable target. Por otro lado tenemos la Regression Ridge, en la cual nuestro coeficiente de penalizacion ALPHA, multiplica a la suma de los cuadrados de los coeficientes beta del modelo, sin incluir al intercepto."
   ]
  },
  {
   "cell_type": "markdown",
   "metadata": {},
   "source": [
    "¿Cuántos coeficientes son exactamente cero?\n",
    "\n",
    "\n"
   ]
  },
  {
   "cell_type": "markdown",
   "metadata": {},
   "source": [
    "La regression Lasso sin escalar, llevo a cero 3 Features, luego, al normalizarla, llevo 2 Features a cero."
   ]
  },
  {
   "cell_type": "markdown",
   "metadata": {},
   "source": [
    "¿Es el  𝛼  óptimo seleccionado por CV el mismo sin importar la escala de las variables?\n",
    "\n"
   ]
  },
  {
   "cell_type": "markdown",
   "metadata": {},
   "source": [
    "No, el valor de alpha se ve afectado, es por esto que siempre al hacer Regularizaciones, debemos escalar primero las features"
   ]
  },
  {
   "cell_type": "markdown",
   "metadata": {},
   "source": [
    "Recuerde que en Lasso y Ridge es necesario que lo features esten en la misma escala"
   ]
  }
 ],
 "metadata": {
  "colab": {
   "collapsed_sections": [],
   "name": "4.PRACTICA_INDEPENDIENTE_Regularización_Overfitting.ipynb",
   "provenance": [],
   "version": "0.3.2"
  },
  "kernelspec": {
   "display_name": "Python [conda env:dhdsblend2021] *",
   "language": "python",
   "name": "conda-env-dhdsblend2021-py"
  },
  "language_info": {
   "codemirror_mode": {
    "name": "ipython",
    "version": 3
   },
   "file_extension": ".py",
   "mimetype": "text/x-python",
   "name": "python",
   "nbconvert_exporter": "python",
   "pygments_lexer": "ipython3",
   "version": "3.8.11"
  }
 },
 "nbformat": 4,
 "nbformat_minor": 4
}
