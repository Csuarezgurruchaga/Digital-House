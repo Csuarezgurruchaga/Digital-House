{
 "cells": [
  {
   "cell_type": "markdown",
   "id": "6c120ef0-a302-401a-b311-48126e3bccfc",
   "metadata": {},
   "source": [
    "Usando el dataset de propiedades en Boston (https://www.kaggle.com/c/boston-housing) vamos a tratar de predecir el valor de medv usando una regresión lineal simple.\n",
    "\n",
    "Vamos a usar como variable predictora aquella que tenga correlación más alta con la variable target. ¿Cuál es esa variable?\n",
    "\n",
    "Graficar en un scatterplot medv en función de la variable determinada en el paso anterior.\n",
    "\n",
    "Construir los conjuntos de train y test, normalizar la variable predictora y usar la clase MyGradientDescent para ajustar la regresión lineal simple.\n",
    "\n",
    "Graficar el valor de la función de costo para cada iteración (época)\n",
    "\n",
    "Graficar en un scatterplot los datos de test y los valores predichos por el modelo para esos datos.\n",
    "\n",
    "Calcular el error cuadrático medio sobre los datos de test.\n",
    "\n",
    "Usar LinearRegression de sklearn.linear_model y comparar con resultados obtenidos con descenso gradiente."
   ]
  },
  {
   "cell_type": "code",
   "execution_count": 1,
   "id": "a51aba9b-d134-4e3c-97de-657021ea28d2",
   "metadata": {},
   "outputs": [],
   "source": [
    "import pandas as pd\n",
    "import numpy as np\n",
    "import matplotlib.pyplot as plt\n",
    "import seaborn as sns\n",
    "\n",
    "from sklearn.linear_model import LinearRegression\n",
    "\n",
    "from sklearn.model_selection import train_test_split\n",
    "from sklearn.preprocessing import StandardScaler\n",
    "from sklearn.metrics import mean_squared_error\n"
   ]
  },
  {
   "cell_type": "code",
   "execution_count": 2,
   "id": "cdb26a26-ee38-4221-86e4-08966e8a5630",
   "metadata": {},
   "outputs": [],
   "source": [
    "class MyGradientDescent():\n",
    "    def __init__(self, learning_rate):\n",
    "        self.learning_rate = learning_rate #usamos la velocidad de aprendizaje establecida en el constructor de la clase\n",
    "        self.beta1 = 0 #inicializamos beta1 en 0\n",
    "        self.beta0 = 0 #inicializamos beta0 en 0\n",
    "          \n",
    "    def fit(self, X, y, epochs = 100):\n",
    "        N = len(X)  #cantidad de filas del dataset\n",
    "        history = [] #vamos a guardar acá el valor de la función de pérdida en cada iteración\n",
    "        \n",
    "        for e in range(epochs):  #calculamos el valor de la pérdida para cada iteración\n",
    "            for i in range(N):                \n",
    "                Xi = X[i, :]\n",
    "                yi = y.iloc[i] \n",
    "                \n",
    "                hi = self.beta1 * Xi + self.beta0 #valor predicho para la fila i\n",
    "                f = hi - yi #residuo o error de predicción para la fila i\n",
    "                \n",
    "                self.beta1 -= self.learning_rate * 2 / N * f * Xi #por definicion de beta0 \n",
    "                self.beta0 -= self.learning_rate * 2 / N * f # por definicion de beta0 \n",
    "            \n",
    "            loss = mean_squared_error(y, (self.beta1 * X + self.beta0))\n",
    "                                      \n",
    "            if e % 100 == 0:\n",
    "                print(f\"Epoch: {e}, Loss: {loss})\")\n",
    "            \n",
    "            history.append(loss) #guardamos los valores de la función de pérdida en cada iteración\n",
    "                                      \n",
    "        return history\n",
    "                \n",
    "    def predict(self, X):\n",
    "        return self.beta1 * X + self.beta0"
   ]
  },
  {
   "cell_type": "code",
   "execution_count": 3,
   "id": "b07ac4f1-bf0b-481b-bfaf-a895b1875452",
   "metadata": {},
   "outputs": [
    {
     "data": {
      "text/html": [
       "<div>\n",
       "<style scoped>\n",
       "    .dataframe tbody tr th:only-of-type {\n",
       "        vertical-align: middle;\n",
       "    }\n",
       "\n",
       "    .dataframe tbody tr th {\n",
       "        vertical-align: top;\n",
       "    }\n",
       "\n",
       "    .dataframe thead th {\n",
       "        text-align: right;\n",
       "    }\n",
       "</style>\n",
       "<table border=\"1\" class=\"dataframe\">\n",
       "  <thead>\n",
       "    <tr style=\"text-align: right;\">\n",
       "      <th></th>\n",
       "      <th>crim</th>\n",
       "      <th>zn</th>\n",
       "      <th>indus</th>\n",
       "      <th>chas</th>\n",
       "      <th>nox</th>\n",
       "      <th>rm</th>\n",
       "      <th>age</th>\n",
       "      <th>dis</th>\n",
       "      <th>rad</th>\n",
       "      <th>tax</th>\n",
       "      <th>ptratio</th>\n",
       "      <th>black</th>\n",
       "      <th>lstat</th>\n",
       "      <th>medv</th>\n",
       "    </tr>\n",
       "  </thead>\n",
       "  <tbody>\n",
       "    <tr>\n",
       "      <th>0</th>\n",
       "      <td>0.15876</td>\n",
       "      <td>0.0</td>\n",
       "      <td>10.81</td>\n",
       "      <td>0.0</td>\n",
       "      <td>0.413</td>\n",
       "      <td>5.961</td>\n",
       "      <td>17.5</td>\n",
       "      <td>5.2873</td>\n",
       "      <td>4.0</td>\n",
       "      <td>305.0</td>\n",
       "      <td>19.2</td>\n",
       "      <td>376.94</td>\n",
       "      <td>9.88</td>\n",
       "      <td>21.7</td>\n",
       "    </tr>\n",
       "    <tr>\n",
       "      <th>1</th>\n",
       "      <td>0.10328</td>\n",
       "      <td>25.0</td>\n",
       "      <td>5.13</td>\n",
       "      <td>0.0</td>\n",
       "      <td>0.453</td>\n",
       "      <td>5.927</td>\n",
       "      <td>47.2</td>\n",
       "      <td>6.9320</td>\n",
       "      <td>8.0</td>\n",
       "      <td>284.0</td>\n",
       "      <td>19.7</td>\n",
       "      <td>396.90</td>\n",
       "      <td>9.22</td>\n",
       "      <td>19.6</td>\n",
       "    </tr>\n",
       "    <tr>\n",
       "      <th>2</th>\n",
       "      <td>0.34940</td>\n",
       "      <td>0.0</td>\n",
       "      <td>9.90</td>\n",
       "      <td>0.0</td>\n",
       "      <td>0.544</td>\n",
       "      <td>5.972</td>\n",
       "      <td>76.7</td>\n",
       "      <td>3.1025</td>\n",
       "      <td>4.0</td>\n",
       "      <td>304.0</td>\n",
       "      <td>18.4</td>\n",
       "      <td>396.24</td>\n",
       "      <td>9.97</td>\n",
       "      <td>20.3</td>\n",
       "    </tr>\n",
       "    <tr>\n",
       "      <th>3</th>\n",
       "      <td>2.73397</td>\n",
       "      <td>0.0</td>\n",
       "      <td>19.58</td>\n",
       "      <td>0.0</td>\n",
       "      <td>0.871</td>\n",
       "      <td>5.597</td>\n",
       "      <td>94.9</td>\n",
       "      <td>1.5257</td>\n",
       "      <td>5.0</td>\n",
       "      <td>403.0</td>\n",
       "      <td>14.7</td>\n",
       "      <td>351.85</td>\n",
       "      <td>21.45</td>\n",
       "      <td>15.4</td>\n",
       "    </tr>\n",
       "    <tr>\n",
       "      <th>4</th>\n",
       "      <td>0.04337</td>\n",
       "      <td>21.0</td>\n",
       "      <td>5.64</td>\n",
       "      <td>0.0</td>\n",
       "      <td>0.439</td>\n",
       "      <td>6.115</td>\n",
       "      <td>63.0</td>\n",
       "      <td>6.8147</td>\n",
       "      <td>4.0</td>\n",
       "      <td>243.0</td>\n",
       "      <td>16.8</td>\n",
       "      <td>393.97</td>\n",
       "      <td>9.43</td>\n",
       "      <td>20.5</td>\n",
       "    </tr>\n",
       "  </tbody>\n",
       "</table>\n",
       "</div>"
      ],
      "text/plain": [
       "      crim    zn  indus  chas    nox     rm   age     dis  rad    tax  \\\n",
       "0  0.15876   0.0  10.81   0.0  0.413  5.961  17.5  5.2873  4.0  305.0   \n",
       "1  0.10328  25.0   5.13   0.0  0.453  5.927  47.2  6.9320  8.0  284.0   \n",
       "2  0.34940   0.0   9.90   0.0  0.544  5.972  76.7  3.1025  4.0  304.0   \n",
       "3  2.73397   0.0  19.58   0.0  0.871  5.597  94.9  1.5257  5.0  403.0   \n",
       "4  0.04337  21.0   5.64   0.0  0.439  6.115  63.0  6.8147  4.0  243.0   \n",
       "\n",
       "   ptratio   black  lstat  medv  \n",
       "0     19.2  376.94   9.88  21.7  \n",
       "1     19.7  396.90   9.22  19.6  \n",
       "2     18.4  396.24   9.97  20.3  \n",
       "3     14.7  351.85  21.45  15.4  \n",
       "4     16.8  393.97   9.43  20.5  "
      ]
     },
     "execution_count": 3,
     "metadata": {},
     "output_type": "execute_result"
    }
   ],
   "source": [
    "\n",
    "df = pd.read_csv('../Data/boston_data.csv')\n",
    "\n",
    "df.head()"
   ]
  },
  {
   "cell_type": "code",
   "execution_count": 4,
   "id": "bbb3a707-3e07-498b-beef-52265b0b85e1",
   "metadata": {},
   "outputs": [
    {
     "data": {
      "text/plain": [
       "medv       1.000000\n",
       "lstat      0.742695\n",
       "rm         0.683541\n",
       "ptratio    0.506313\n",
       "indus      0.501698\n",
       "tax        0.495792\n",
       "nox        0.439225\n",
       "rad        0.423508\n",
       "crim       0.400956\n",
       "age        0.390863\n",
       "black      0.360071\n",
       "zn         0.355608\n",
       "dis        0.264876\n",
       "chas       0.141400\n",
       "Name: medv, dtype: float64"
      ]
     },
     "execution_count": 4,
     "metadata": {},
     "output_type": "execute_result"
    }
   ],
   "source": [
    "abs(df.corr()[\"medv\"]).sort_values(ascending = False)"
   ]
  },
  {
   "cell_type": "code",
   "execution_count": 5,
   "id": "c212e75b-09f4-4ac2-8cb4-db10f43d22de",
   "metadata": {},
   "outputs": [],
   "source": [
    "# La feature con mayor correlacion es lstat"
   ]
  },
  {
   "cell_type": "code",
   "execution_count": 6,
   "id": "2762b8db-c4b0-4263-8d2d-9f8feb0151db",
   "metadata": {},
   "outputs": [
    {
     "data": {
      "image/png": "[encoded data removed]",
      "text/plain": [
       "<Figure size 432x288 with 1 Axes>"
      ]
     },
     "metadata": {
      "needs_background": "light"
     },
     "output_type": "display_data"
    }
   ],
   "source": [
    "sns.scatterplot(data = df,x='lstat',y='medv')\n",
    "plt.show()"
   ]
  },
  {
   "cell_type": "markdown",
   "id": "320b94ef-6738-440f-b0d8-89c926066acb",
   "metadata": {},
   "source": [
    "Construir los conjuntos de train y test, normalizar la variable predictora y usar la clase MyGradientDescent para ajustar la regresión lineal simple."
   ]
  },
  {
   "cell_type": "code",
   "execution_count": null,
   "id": "256be700-a486-4227-86de-89aa399e3c88",
   "metadata": {},
   "outputs": [],
   "source": []
  },
  {
   "cell_type": "code",
   "execution_count": 7,
   "id": "736440db-60c3-47c1-b73c-6ec8ec0b1437",
   "metadata": {},
   "outputs": [],
   "source": [
    "X = pd.DataFrame(df.lstat)\n",
    "y = df.medv\n",
    "\n",
    "X_train,X_test, y_train, y_test = train_test_split(X, y, random_state = 1203)"
   ]
  },
  {
   "cell_type": "code",
   "execution_count": 8,
   "id": "1e6a7ba7-29c0-4091-9823-773bd5fe9d78",
   "metadata": {},
   "outputs": [],
   "source": [
    "esc = StandardScaler()\n",
    "\n",
    "X_train_esc = esc.fit_transform((X_train))\n",
    "X_test_esc = esc.transform(X_test)"
   ]
  },
  {
   "cell_type": "code",
   "execution_count": 9,
   "id": "59cc61b7-a08c-4df4-8da1-f6e62ed37a6d",
   "metadata": {},
   "outputs": [],
   "source": [
    "gd = MyGradientDescent(0.02)"
   ]
  },
  {
   "cell_type": "code",
   "execution_count": 10,
   "id": "bfaddcf0-f2af-48aa-9dac-3c1f53209bda",
   "metadata": {},
   "outputs": [
    {
     "name": "stdout",
     "output_type": "stream",
     "text": [
      "Epoch: 0, Loss: 533.7986540637792)\n"
     ]
    }
   ],
   "source": [
    "history=gd.fit(X_train_esc, y_train)"
   ]
  },
  {
   "cell_type": "code",
   "execution_count": 11,
   "id": "b7ad4da2-f491-4aff-8ce6-73b08cff6391",
   "metadata": {},
   "outputs": [],
   "source": [
    "## Valores de la funcion costo, que cada vez disminuye mas\n",
    "\n",
    "# history"
   ]
  },
  {
   "cell_type": "code",
   "execution_count": 12,
   "id": "5fcc2028-723f-4524-b96c-663338b0a4f9",
   "metadata": {},
   "outputs": [
    {
     "data": {
      "image/png": "[encoded data removed]",
      "text/plain": [
       "<Figure size 432x288 with 1 Axes>"
      ]
     },
     "metadata": {
      "needs_background": "light"
     },
     "output_type": "display_data"
    }
   ],
   "source": [
    "sns.lineplot(x = range(len(history)), y = history)\n",
    "plt.title('FUNCION COSTO')\n",
    "plt.show()"
   ]
  },
  {
   "cell_type": "code",
   "execution_count": 13,
   "id": "fd1e5dfc-45d4-480a-8d83-c3b4534a62e9",
   "metadata": {},
   "outputs": [
    {
     "data": {
      "image/png": "[encoded data removed]",
      "text/plain": [
       "<Figure size 432x288 with 1 Axes>"
      ]
     },
     "metadata": {
      "needs_background": "light"
     },
     "output_type": "display_data"
    }
   ],
   "source": [
    "sns.scatterplot(x=X_test_esc[:,0], y= y_test)\n",
    "sns.lineplot(x = X_test_esc[:,0], y = gd.predict(X_test_esc)[:,0], color = 'r')\n",
    "\n",
    "plt.show()\n",
    "\n",
    "#Puntos datos de test\n",
    "#Linea roja modelo"
   ]
  },
  {
   "cell_type": "code",
   "execution_count": null,
   "id": "cf057d2d-b1ed-4d79-8ed3-411c267cec45",
   "metadata": {},
   "outputs": [],
   "source": []
  },
  {
   "cell_type": "code",
   "execution_count": 14,
   "id": "af811752-c6b1-4b2e-b156-40c8940fe98a",
   "metadata": {},
   "outputs": [
    {
     "data": {
      "text/plain": [
       "33.93971636823142"
      ]
     },
     "execution_count": 14,
     "metadata": {},
     "output_type": "execute_result"
    }
   ],
   "source": [
    "# Error cuadratico medio de nuestra clase (Hecho con Descenso Gradiente)\n",
    "\n",
    "mean_squared_error(y_test ,gd.predict(X_test_esc)[:,0])"
   ]
  },
  {
   "cell_type": "code",
   "execution_count": null,
   "id": "bd7a2d66-68eb-4ec3-ab0d-db791aa8dd74",
   "metadata": {},
   "outputs": [],
   "source": []
  },
  {
   "cell_type": "code",
   "execution_count": 15,
   "id": "180e5d8b-999b-47c2-8b69-2ee8b2c74e26",
   "metadata": {},
   "outputs": [],
   "source": [
    "lr = LinearRegression()"
   ]
  },
  {
   "cell_type": "code",
   "execution_count": 16,
   "id": "ec96bb1b-38b3-42b2-82de-8a0009d9bc9f",
   "metadata": {},
   "outputs": [
    {
     "data": {
      "text/plain": [
       "LinearRegression()"
      ]
     },
     "execution_count": 16,
     "metadata": {},
     "output_type": "execute_result"
    }
   ],
   "source": [
    "lr.fit(X_train_esc, y_train)"
   ]
  },
  {
   "cell_type": "code",
   "execution_count": 17,
   "id": "78bb22f0-d4f0-4fbb-aef6-d9908b72a3c8",
   "metadata": {},
   "outputs": [
    {
     "data": {
      "text/plain": [
       "34.05000621258563"
      ]
     },
     "execution_count": 17,
     "metadata": {},
     "output_type": "execute_result"
    }
   ],
   "source": [
    "# Error cuadratico medio de la regression de sklearn\n",
    "\n",
    "mean_squared_error(y_test ,lr.predict(X_test_esc))"
   ]
  },
  {
   "cell_type": "code",
   "execution_count": null,
   "id": "db6520c0-efbf-4dbd-bb2a-4d310af8ce7b",
   "metadata": {},
   "outputs": [],
   "source": []
  }
 ],
 "metadata": {
  "kernelspec": {
   "display_name": "Python 3",
   "language": "python",
   "name": "python3"
  },
  "language_info": {
   "codemirror_mode": {
    "name": "ipython",
    "version": 3
   },
   "file_extension": ".py",
   "mimetype": "text/x-python",
   "name": "python",
   "nbconvert_exporter": "python",
   "pygments_lexer": "ipython3",
   "version": "3.8.8"
  }
 },
 "nbformat": 4,
 "nbformat_minor": 5
}
