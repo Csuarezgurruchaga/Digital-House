{
 "cells": [
  {
   "cell_type": "code",
   "execution_count": 1,
   "id": "57b0bab2",
   "metadata": {},
   "outputs": [
    {
     "name": "stdout",
     "output_type": "stream",
     "text": [
      "/Users/csuarezgurruchaga/Desktop/Digital-House/CLASE_44/dsad_2021/common\n",
      "default checking\n",
      "Running command `conda list`... ok\n",
      "jupyterlab=2.2.6 already installed\n",
      "pandas=1.1.5 already installed\n",
      "bokeh=2.2.3 already installed\n",
      "seaborn=0.11.0 already installed\n",
      "matplotlib=3.3.2 already installed\n",
      "ipywidgets=7.5.1 already installed\n",
      "pytest=6.2.1 already installed\n",
      "chardet=4.0.0 already installed\n",
      "psutil=5.7.2 already installed\n",
      "scipy=1.5.2 already installed\n",
      "statsmodels=0.12.1 already installed\n",
      "scikit-learn=0.23.2 already installed\n",
      "xlrd=2.0.1 already installed\n",
      "Running command `conda install --yes nltk=3.5.0`... ok\n",
      "Collecting package metadata (current_repodata.json): ...working... done\n",
      "Solving environment: ...working... done\n",
      "\n",
      "# All requested packages already installed.\n",
      "\n",
      "\n",
      "unidecode=1.1.1 already installed\n",
      "pydotplus=2.0.2 already installed\n",
      "pandas-datareader=0.9.0 already installed\n",
      "flask=1.1.2 already installed\n"
     ]
    }
   ],
   "source": [
    "# initial setup\n",
    "%run \"../../../common/0_notebooks_base_setup.py\"\n"
   ]
  },
  {
   "cell_type": "markdown",
   "id": "6128e178",
   "metadata": {},
   "source": [
    "---\n",
    "\n",
    "<img src='../../../common/logo_DH.png' align='left' width=35%/>"
   ]
  },
  {
   "cell_type": "markdown",
   "id": "8cd60784",
   "metadata": {},
   "source": [
    "# Descenso gradiente"
   ]
  },
  {
   "cell_type": "markdown",
   "id": "87622ef1",
   "metadata": {},
   "source": [
    "Vamos a usar el dataset de propiedades en Boston (https://www.kaggle.com/c/boston-housing) y tratar de predecir el valor de `medv` usando una regresión lineal múltiple.\n",
    "\n",
    "Para eso, vamos a modificar la clase `MyGradientDescent` presentada en el encuentro sincrónico y usarla para entrenar un modelo de regresión lineal múltiple y uno simple."
   ]
  },
  {
   "cell_type": "markdown",
   "id": "6ef822d8",
   "metadata": {},
   "source": [
    "Ayuda: \n",
    "\n",
    "<p style=\"font-size:16px;\">\n",
    "$h =  \\beta_0 + \\beta_1. X_1 + \\beta_2. X_2 + \\beta_3. X_3 + ... + \\beta_m. X_m$\n",
    "</p>\n",
    "\n",
    "i es el índice de la fila en el dataset\n",
    "\n",
    "<p style=\"font-size:16px;\">\n",
    "$h_i =  \\beta_0 + \\beta_1. X_{i1} + \\beta_2. X_{i2} + \\beta_3. X_{i3} + ... + \\beta_m. X_{im}$\n",
    "</p>    \n",
    "<p style=\"font-size:16px;\">\n",
    "$\\beta_0 = \\beta_0 - \\alpha \\frac{1}{m} \\sum (h_i - y_i)$\n",
    "</p>    \n",
    "<p style=\"font-size:16px;\">\n",
    "$\\beta_i = \\beta_i - \\alpha \\frac{1}{m} \\sum (h_i - y_i). X_i$\n",
    "</p>    \n",
    "\n",
    "Costo (error cuadrático medio): \n",
    "<p style=\"font-size:16px;\">    \n",
    "$J(\\beta_0, ..., \\beta_m) = \\frac{1}{N} \\sum_{i=1}^N (h_i - y_i)^2  $\n",
    "</p>\n",
    "Gradiente: \n",
    "\n",
    "<p style=\"font-size:16px;\">    \n",
    "$\\frac{\\partial J(\\beta_0, ..., \\beta_m)}{\\partial \\beta_j} = \\frac{2}{N} \\sum_{i=1}^N (h_i - y_i). X_{ij} $\n",
    "</p>    \n",
    "\n",
    "N es el número de observaciones o filas del dataset\n",
    "\n",
    "Entonces \n",
    "\n",
    "$\\beta_0 = \\beta_0 - \\alpha .\\frac{2}{N} \\sum_{i=1}^N (h_i - y_i). X_{i0}$\n",
    "\n",
    "como $X_{i0} = 1$ queda:\n",
    "\n",
    "$\\beta_0 = \\beta_0 - \\alpha .\\frac{2}{N} \\sum_{i=1}^N (h_i - y_i)$\n",
    "\n",
    "$\\beta_1 = \\beta_1 - \\alpha .\\frac{2}{N} \\sum_{i=1}^N (h_i - y_i). X_{i1}$\n",
    "\n",
    "$\\beta_2 = \\beta_2 - \\alpha .\\frac{2}{N} \\sum_{i=1}^N (h_i - y_i). X_{i2}$\n",
    "\n",
    "... \n",
    "\n",
    "$\\beta_j = \\beta_j - \\alpha .\\frac{2}{N} \\sum_{i=1}^N (h_i - y_i). X_{ij}$\n",
    "\n",
    "\n",
    "$\\alpha$ = Learning Rate"
   ]
  },
  {
   "cell_type": "markdown",
   "id": "982a1491",
   "metadata": {},
   "source": [
    "## Imports"
   ]
  },
  {
   "cell_type": "code",
   "execution_count": 2,
   "id": "ffd03d83",
   "metadata": {},
   "outputs": [],
   "source": [
    "import pandas as pd\n",
    "import numpy as np\n",
    "import matplotlib.pyplot as plt\n",
    "import seaborn as sns\n",
    "\n",
    "from sklearn.model_selection import train_test_split\n",
    "from sklearn.metrics import mean_squared_error\n",
    "from sklearn.preprocessing import StandardScaler"
   ]
  },
  {
   "cell_type": "markdown",
   "id": "326737ff",
   "metadata": {},
   "source": [
    "## Ejercicio 1\n",
    "\n",
    "Leer los datos del archivo `Data/boston_data.csv` en un dataframe y construir un heatmap de correlaciones entre sus columnas"
   ]
  },
  {
   "cell_type": "code",
   "execution_count": 5,
   "id": "0c5e7bcb",
   "metadata": {},
   "outputs": [
    {
     "data": {
      "text/html": [
       "<div>\n",
       "<style scoped>\n",
       "    .dataframe tbody tr th:only-of-type {\n",
       "        vertical-align: middle;\n",
       "    }\n",
       "\n",
       "    .dataframe tbody tr th {\n",
       "        vertical-align: top;\n",
       "    }\n",
       "\n",
       "    .dataframe thead th {\n",
       "        text-align: right;\n",
       "    }\n",
       "</style>\n",
       "<table border=\"1\" class=\"dataframe\">\n",
       "  <thead>\n",
       "    <tr style=\"text-align: right;\">\n",
       "      <th></th>\n",
       "      <th>crim</th>\n",
       "      <th>zn</th>\n",
       "      <th>indus</th>\n",
       "      <th>chas</th>\n",
       "      <th>nox</th>\n",
       "      <th>rm</th>\n",
       "      <th>age</th>\n",
       "      <th>dis</th>\n",
       "      <th>rad</th>\n",
       "      <th>tax</th>\n",
       "      <th>ptratio</th>\n",
       "      <th>black</th>\n",
       "      <th>lstat</th>\n",
       "      <th>medv</th>\n",
       "    </tr>\n",
       "  </thead>\n",
       "  <tbody>\n",
       "    <tr>\n",
       "      <th>0</th>\n",
       "      <td>0.15876</td>\n",
       "      <td>0.0</td>\n",
       "      <td>10.81</td>\n",
       "      <td>0.0</td>\n",
       "      <td>0.413</td>\n",
       "      <td>5.961</td>\n",
       "      <td>17.5</td>\n",
       "      <td>5.2873</td>\n",
       "      <td>4.0</td>\n",
       "      <td>305.0</td>\n",
       "      <td>19.2</td>\n",
       "      <td>376.94</td>\n",
       "      <td>9.88</td>\n",
       "      <td>21.7</td>\n",
       "    </tr>\n",
       "    <tr>\n",
       "      <th>1</th>\n",
       "      <td>0.10328</td>\n",
       "      <td>25.0</td>\n",
       "      <td>5.13</td>\n",
       "      <td>0.0</td>\n",
       "      <td>0.453</td>\n",
       "      <td>5.927</td>\n",
       "      <td>47.2</td>\n",
       "      <td>6.9320</td>\n",
       "      <td>8.0</td>\n",
       "      <td>284.0</td>\n",
       "      <td>19.7</td>\n",
       "      <td>396.90</td>\n",
       "      <td>9.22</td>\n",
       "      <td>19.6</td>\n",
       "    </tr>\n",
       "    <tr>\n",
       "      <th>2</th>\n",
       "      <td>0.34940</td>\n",
       "      <td>0.0</td>\n",
       "      <td>9.90</td>\n",
       "      <td>0.0</td>\n",
       "      <td>0.544</td>\n",
       "      <td>5.972</td>\n",
       "      <td>76.7</td>\n",
       "      <td>3.1025</td>\n",
       "      <td>4.0</td>\n",
       "      <td>304.0</td>\n",
       "      <td>18.4</td>\n",
       "      <td>396.24</td>\n",
       "      <td>9.97</td>\n",
       "      <td>20.3</td>\n",
       "    </tr>\n",
       "    <tr>\n",
       "      <th>3</th>\n",
       "      <td>2.73397</td>\n",
       "      <td>0.0</td>\n",
       "      <td>19.58</td>\n",
       "      <td>0.0</td>\n",
       "      <td>0.871</td>\n",
       "      <td>5.597</td>\n",
       "      <td>94.9</td>\n",
       "      <td>1.5257</td>\n",
       "      <td>5.0</td>\n",
       "      <td>403.0</td>\n",
       "      <td>14.7</td>\n",
       "      <td>351.85</td>\n",
       "      <td>21.45</td>\n",
       "      <td>15.4</td>\n",
       "    </tr>\n",
       "    <tr>\n",
       "      <th>4</th>\n",
       "      <td>0.04337</td>\n",
       "      <td>21.0</td>\n",
       "      <td>5.64</td>\n",
       "      <td>0.0</td>\n",
       "      <td>0.439</td>\n",
       "      <td>6.115</td>\n",
       "      <td>63.0</td>\n",
       "      <td>6.8147</td>\n",
       "      <td>4.0</td>\n",
       "      <td>243.0</td>\n",
       "      <td>16.8</td>\n",
       "      <td>393.97</td>\n",
       "      <td>9.43</td>\n",
       "      <td>20.5</td>\n",
       "    </tr>\n",
       "  </tbody>\n",
       "</table>\n",
       "</div>"
      ],
      "text/plain": [
       "      crim    zn  indus  chas    nox     rm   age     dis  rad    tax  \\\n",
       "0  0.15876   0.0  10.81   0.0  0.413  5.961  17.5  5.2873  4.0  305.0   \n",
       "1  0.10328  25.0   5.13   0.0  0.453  5.927  47.2  6.9320  8.0  284.0   \n",
       "2  0.34940   0.0   9.90   0.0  0.544  5.972  76.7  3.1025  4.0  304.0   \n",
       "3  2.73397   0.0  19.58   0.0  0.871  5.597  94.9  1.5257  5.0  403.0   \n",
       "4  0.04337  21.0   5.64   0.0  0.439  6.115  63.0  6.8147  4.0  243.0   \n",
       "\n",
       "   ptratio   black  lstat  medv  \n",
       "0     19.2  376.94   9.88  21.7  \n",
       "1     19.7  396.90   9.22  19.6  \n",
       "2     18.4  396.24   9.97  20.3  \n",
       "3     14.7  351.85  21.45  15.4  \n",
       "4     16.8  393.97   9.43  20.5  "
      ]
     },
     "execution_count": 5,
     "metadata": {},
     "output_type": "execute_result"
    }
   ],
   "source": [
    "df = pd.read_csv('../Data/boston_data.csv')\n",
    "\n",
    "df.head()"
   ]
  },
  {
   "cell_type": "code",
   "execution_count": 17,
   "id": "45549c50",
   "metadata": {},
   "outputs": [
    {
     "data": {
      "image/png": "[encoded data removed]",
      "text/plain": [
       "<Figure size 640x480 with 2 Axes>"
      ]
     },
     "metadata": {},
     "output_type": "display_data"
    }
   ],
   "source": [
    "sns.heatmap(data = abs(df.corr()), annot=False, fmt='4f',cmap='Blues')\n",
    "plt.show()"
   ]
  },
  {
   "cell_type": "markdown",
   "id": "4498b40a",
   "metadata": {},
   "source": [
    "## Ejercicio 2 \n",
    "\n",
    "La variable target del modelo es `medv`.\n",
    "\n",
    "Seleccionar como variables predictoras las tres variables que tengan mayor correlación (en valor absoluto) con la variable target.\n",
    "\n",
    "Construir los conjuntos de train y test y normalizar las features."
   ]
  },
  {
   "cell_type": "code",
   "execution_count": 26,
   "id": "43b4c9b5",
   "metadata": {},
   "outputs": [
    {
     "data": {
      "text/plain": [
       "medv     1.000000\n",
       "lstat    0.844794\n",
       "rm       0.630316\n",
       "indus    0.589243\n",
       "Name: medv, dtype: float64"
      ]
     },
     "execution_count": 26,
     "metadata": {},
     "output_type": "execute_result"
    }
   ],
   "source": [
    "abs(df.corr(method='spearman')['medv']).sort_values(ascending = False)[:4]"
   ]
  },
  {
   "cell_type": "code",
   "execution_count": 28,
   "id": "ab0610c7",
   "metadata": {},
   "outputs": [],
   "source": [
    "X = df[['lstat','rm','indus']]\n",
    "y = df.medv\n",
    "\n",
    "\n",
    "X_train, X_test, y_train, y_test=train_test_split(X, y, random_state = 1203)"
   ]
  },
  {
   "cell_type": "code",
   "execution_count": 29,
   "id": "0bc92183",
   "metadata": {},
   "outputs": [],
   "source": [
    "esc = StandardScaler()\n",
    "\n",
    "X_train_esc = esc.fit_transform(X_train)\n",
    "X_test_esc = esc.transform(X_test)"
   ]
  },
  {
   "cell_type": "code",
   "execution_count": null,
   "id": "4d2823c0",
   "metadata": {},
   "outputs": [],
   "source": []
  },
  {
   "cell_type": "markdown",
   "id": "b2c6d569",
   "metadata": {},
   "source": [
    "## Ejercicio 3\n",
    "\n",
    "Modificar la clase `MyGradientDescent` presentada en el encuentro sincrónico para resolver ahora una regresión **múltiple** usando descenso gradiente.\n",
    "\n",
    "```\n",
    "\n",
    "class MyGradientDescent():\n",
    "    def __init__(self, learning_rate):\n",
    "        self.learning_rate = learning_rate\n",
    "        self.beta1 = 0\n",
    "        self.beta0 = 0\n",
    "          \n",
    "    def fit(self, X, y, epochs = 100):\n",
    "        N = len(X)\n",
    "        history = []\n",
    "        \n",
    "        for e in range(epochs):\n",
    "            for i in range(N):\n",
    "                Xi = X[i, :]\n",
    "                yi = y.iloc[i]                 \n",
    "                \n",
    "                hi = self.beta1 * Xi + self.beta0\n",
    "                f = hi - yi\n",
    "                \n",
    "                self.beta1 -= self.learning_rate * 2 / N * f * Xi\n",
    "                self.beta0 -= self.learning_rate * 2 / N * f \n",
    "\n",
    "            loss = 0\n",
    "            loss = mean_squared_error(y, (self.beta1 * X + self.beta0))\n",
    "                                      \n",
    "            if e % 100 == 0:\n",
    "                print(f\"Epoch: {e}, Loss: {loss})\")\n",
    "            \n",
    "            history.append(loss)\n",
    "                                      \n",
    "        return history\n",
    "                \n",
    "    def predict(self, X):\n",
    "        return self.beta1 * X + self.beta0\n",
    "\n",
    "\n",
    "```\n",
    "\n",
    "Tener en cuenta las fórmulas presentadas en la ayuda al inicio de la notebook."
   ]
  },
  {
   "cell_type": "code",
   "execution_count": 39,
   "id": "914e5543",
   "metadata": {},
   "outputs": [],
   "source": [
    "class MyGradientDescentMultiple():\n",
    "    def __init__(self, learning_rate, n):\n",
    "        self.learning_rate = learning_rate\n",
    "        self.betas = np.repeat(0, n) # tantos 0 como betas\n",
    "        self.beta0 = 0\n",
    "          \n",
    "    def fit(self, X, y, epochs = 100):\n",
    "        N = len(X)\n",
    "        history = []\n",
    "        n = X.shape[1] # Obtengo la cantidad de coeficientes, segun la cantidad de features\n",
    "        \n",
    "        for e in range(epochs):\n",
    "            \n",
    "            gradiente_0 = 0 # gradiente de Beta 0\n",
    "            gradiente = np.repeat(0, n) #gradiente de los betas  #vector de ceros\n",
    "            \n",
    "            for i in range(N):\n",
    "                Xi = X[i, :]\n",
    "                yi = y.iloc[i]                 \n",
    "                \n",
    "                # multiplico el valor de la observacion(Xi) * el valor del\n",
    "                # coeficiente beta correspondiente a cada feature\n",
    "                hi = np.dot(Xi, self.betas) + self.beta0  \n",
    "                \n",
    "                gradiente = gradiente + (hi - yi) * Xi\n",
    "                gradiente_0 = gradiente_0 + (hi - yi)\n",
    "                \n",
    "                self.beta0 = self.beta0 - self.learning_rate * 2 / N * gradiente_0 \n",
    "                self.betas = self.betas - self.learning_rate * 2 / N * gradiente \n",
    "\n",
    "\n",
    "            pred = np.dot(X, self.betas) + self.beta0\n",
    "            loss = mean_squared_error(y, pred)\n",
    "                                      \n",
    "            if e % 100 == 0:\n",
    "                print(f\"Epoch: {e}, Loss: {loss})\")\n",
    "            \n",
    "            history.append(loss)\n",
    "                                      \n",
    "        return history\n",
    "                \n",
    "    def predict(self, X):\n",
    "        return np.dot(X, self.betas) + self.beta0\n"
   ]
  },
  {
   "cell_type": "markdown",
   "id": "bedf3a67",
   "metadata": {},
   "source": [
    "## Ejercicio 4\n",
    "\n",
    "Entrenar la regresión lineal múltiple con tres variables predictoras (seleccionadas en el ejercicio 2) usando la clase que definieron en el ejercicio 3.\n",
    "\n",
    "Evaluar la performance en test mediante el error cuadrático medio."
   ]
  },
  {
   "cell_type": "code",
   "execution_count": 48,
   "id": "3c4162d8",
   "metadata": {},
   "outputs": [],
   "source": [
    "mgd=MyGradientDescentMultiple(0.01, 3)"
   ]
  },
  {
   "cell_type": "code",
   "execution_count": 49,
   "id": "e6a1de74",
   "metadata": {},
   "outputs": [
    {
     "name": "stdout",
     "output_type": "stream",
     "text": [
      "Epoch: 0, Loss: 398.10250809007806)\n"
     ]
    }
   ],
   "source": [
    "history = mgd.fit(X_train_esc, y_train)"
   ]
  },
  {
   "cell_type": "code",
   "execution_count": 50,
   "id": "0116f515",
   "metadata": {
    "collapsed": true,
    "jupyter": {
     "outputs_hidden": true
    }
   },
   "outputs": [
    {
     "data": {
      "text/plain": [
       "[398.10250809007806,\n",
       " 269.2217158322429,\n",
       " 193.72046102780618,\n",
       " 134.7179317753501,\n",
       " 102.28796472236856,\n",
       " 74.94337804826145,\n",
       " 61.352770973322734,\n",
       " 48.486140146453835,\n",
       " 43.00818183331041,\n",
       " 36.81959569009638,\n",
       " 34.76248938247623,\n",
       " 31.69977308947928,\n",
       " 31.038001614380576,\n",
       " 29.468977602599274,\n",
       " 29.3435184805054,\n",
       " 28.507744421288315,\n",
       " 28.564578905775207,\n",
       " 28.100873428863707,\n",
       " 28.20127134844024,\n",
       " 27.933687791784628,\n",
       " 28.02844007537687,\n",
       " 27.86851771214417,\n",
       " 27.944071439124198,\n",
       " 27.84566003006351,\n",
       " 27.90154562584889,\n",
       " 27.839580186638198,\n",
       " 27.879295862045037,\n",
       " 27.839601241025058,\n",
       " 27.867175203696803,\n",
       " 27.841427941018463,\n",
       " 27.860300620656812,\n",
       " 27.84345232877581,\n",
       " 27.856253516754776,\n",
       " 27.84516091656777,\n",
       " 27.853793580874438,\n",
       " 27.84645981414413,\n",
       " 27.85225938238509,\n",
       " 27.847396950486882,\n",
       " 27.851283520735144,\n",
       " 27.84805345328856,\n",
       " 27.850653756862037,\n",
       " 27.84850529153186,\n",
       " 27.850243127189692,\n",
       " 27.848812852812813,\n",
       " 27.84997344348386,\n",
       " 27.849020733913594,\n",
       " 27.849795445731942,\n",
       " 27.849160599365824,\n",
       " 27.849677565075787,\n",
       " 27.84925442126081,\n",
       " 27.849599318811695,\n",
       " 27.849317232902052,\n",
       " 27.849547300881127,\n",
       " 27.849359228947122,\n",
       " 27.849512683763244,\n",
       " 27.849387283274726,\n",
       " 27.849489630690428,\n",
       " 27.849406013403183,\n",
       " 27.849474271538902,\n",
       " 27.84941851353946,\n",
       " 27.84946403532386,\n",
       " 27.849426853758228,\n",
       " 27.849457211925333,\n",
       " 27.849432417485605,\n",
       " 27.84945266286778,\n",
       " 27.849436128602097,\n",
       " 27.849449629803576,\n",
       " 27.849438603801048,\n",
       " 27.84944760739922,\n",
       " 27.849440254596942,\n",
       " 27.849446258834593,\n",
       " 27.84944135553203,\n",
       " 27.849445359570957,\n",
       " 27.849442089741505,\n",
       " 27.849444759904326,\n",
       " 27.84944257937541,\n",
       " 27.849444360016932,\n",
       " 27.849442905901856,\n",
       " 27.84944409335023,\n",
       " 27.849443123653852,\n",
       " 27.849443915521466,\n",
       " 27.849443268866292,\n",
       " 27.849443796934594,\n",
       " 27.849443365703877,\n",
       " 27.849443717853635,\n",
       " 27.849443430281628,\n",
       " 27.849443665117555,\n",
       " 27.849443473346334,\n",
       " 27.849443629949842,\n",
       " 27.849443502064677,\n",
       " 27.849443606497793,\n",
       " 27.84944352121591,\n",
       " 27.849443590858506,\n",
       " 27.849443533987184,\n",
       " 27.849443580429238,\n",
       " 27.849443542503877,\n",
       " 27.849443573474346,\n",
       " 27.849443548183345,\n",
       " 27.849443568836396,\n",
       " 27.849443551970776]"
      ]
     },
     "execution_count": 50,
     "metadata": {},
     "output_type": "execute_result"
    }
   ],
   "source": [
    "history"
   ]
  },
  {
   "cell_type": "code",
   "execution_count": 54,
   "id": "178a0986",
   "metadata": {},
   "outputs": [
    {
     "data": {
      "text/plain": [
       "array([ 9.47690529, 21.7053452 , 18.68429968, 32.92871764, 19.97966833,\n",
       "       16.47717136, 23.50833665, 25.66105533, 27.01255045, 27.28966045,\n",
       "       27.72089185, 21.5465033 , 18.04865493, 24.46456989, 29.04449387,\n",
       "       17.94754861, 30.27672099, 26.54421723, 20.33725036, 29.56272806,\n",
       "       26.86817151, 18.9407628 , 28.88477418, 19.35022035, 22.92043375,\n",
       "       19.02467862,  6.49320158, 21.85638182, 18.01963726, 18.82412307,\n",
       "       30.03515437, 26.21947206, 27.1028045 , 15.50229993, 23.74488254,\n",
       "       25.76830198, 16.82221027, 21.42219686, 38.69345074, 30.86738267,\n",
       "       25.45006273, 37.30683225, 20.15150999, 16.73423359, 18.0116767 ,\n",
       "       31.34799474, 20.14949648, 22.76058745, 23.2472438 , 36.38613851,\n",
       "       24.39310494, 21.7823274 , 25.53185714, 33.07932358, 26.32399602,\n",
       "       30.66536421, 24.75183085, 19.45015366, 15.24476267, 20.32700715,\n",
       "       34.78394666, 24.2574492 ,  1.66369175, 16.04132807, 21.39987452,\n",
       "       32.8123658 , 29.46783972, 21.95266579, 23.35312046, 14.17468035,\n",
       "       18.46746957, 17.23976789, 24.06726962, 23.61447276, 20.06338009,\n",
       "       26.25142038, 24.55548165, 25.08477683, 21.43281446,  8.60435919,\n",
       "       35.16967897, 16.61162081, 23.69652568, 27.91865796, 25.67981349,\n",
       "       30.20187585, 15.07984894, 14.59179084, 23.07178043, 22.90586662,\n",
       "       22.64843119, 35.07816345, 30.86523212, 12.76475392, 28.23393216,\n",
       "       17.0748009 , 25.72265185,  8.92634116, 22.48634596, 19.05800704,\n",
       "       22.17865294])"
      ]
     },
     "execution_count": 54,
     "metadata": {},
     "output_type": "execute_result"
    }
   ],
   "source": [
    "predictions = mgd.predict(X_test_esc)\n",
    "predictions"
   ]
  },
  {
   "cell_type": "code",
   "execution_count": 55,
   "id": "f60548c2",
   "metadata": {},
   "outputs": [
    {
     "data": {
      "text/plain": [
       "26.08405495248997"
      ]
     },
     "execution_count": 55,
     "metadata": {},
     "output_type": "execute_result"
    }
   ],
   "source": [
    "mean_squared_error(y_test, predictions)"
   ]
  },
  {
   "cell_type": "markdown",
   "id": "f9e117db",
   "metadata": {},
   "source": [
    "## Ejercicio 5\n",
    "\n",
    "Graficar el valor de pérdida en función de las épocas"
   ]
  },
  {
   "cell_type": "code",
   "execution_count": 58,
   "id": "b3ec7646",
   "metadata": {},
   "outputs": [
    {
     "data": {
      "image/png": "[encoded data removed]",
      "text/plain": [
       "<Figure size 640x480 with 1 Axes>"
      ]
     },
     "metadata": {},
     "output_type": "display_data"
    }
   ],
   "source": [
    "sns.lineplot(x = range(len(history)), y = history)\n",
    "plt.title('FUNCION DE COSTO, A LO LARGO DE LAS ITERACIONES')\n",
    "plt.show()"
   ]
  },
  {
   "cell_type": "markdown",
   "id": "febed5db",
   "metadata": {},
   "source": [
    "## Ejercicio 6\n",
    "\n",
    "Usar la misma clase del ejercicio 3 para ajustar una regresión lineal simple cuya variable predictora sea `lstat` y comprobar el resultado obtenido es el mismo que con `MyGradientDescent`\n",
    "\n",
    "Graficar en un scatterplot los datos de test y los predichos por el modelo."
   ]
  },
  {
   "cell_type": "code",
   "execution_count": null,
   "id": "63b52798",
   "metadata": {},
   "outputs": [],
   "source": []
  },
  {
   "cell_type": "code",
   "execution_count": 60,
   "id": "db9c9ffc",
   "metadata": {},
   "outputs": [
    {
     "ename": "NameError",
     "evalue": "name 'MyGradientDescentMultiple' is not defined",
     "output_type": "error",
     "traceback": [
      "\u001b[0;31m---------------------------------------------------------------------------\u001b[0m",
      "\u001b[0;31mNameError\u001b[0m                                 Traceback (most recent call last)",
      "\u001b[0;32m<ipython-input-60-702eaed59907>\u001b[0m in \u001b[0;36m<module>\u001b[0;34m\u001b[0m\n\u001b[0;32m----> 1\u001b[0;31m \u001b[0mmodel_simple\u001b[0m \u001b[0;34m=\u001b[0m \u001b[0mMyGradientDescentMultiple\u001b[0m\u001b[0;34m(\u001b[0m\u001b[0mlearning_rate\u001b[0m \u001b[0;34m=\u001b[0m \u001b[0;36m0.01\u001b[0m\u001b[0;34m,\u001b[0m \u001b[0mm\u001b[0m \u001b[0;34m=\u001b[0m \u001b[0;36m1\u001b[0m\u001b[0;34m)\u001b[0m\u001b[0;34m\u001b[0m\u001b[0;34m\u001b[0m\u001b[0m\n\u001b[0m\u001b[1;32m      2\u001b[0m \u001b[0mhistory\u001b[0m \u001b[0;34m=\u001b[0m \u001b[0mmodel_simple\u001b[0m\u001b[0;34m.\u001b[0m\u001b[0mfit\u001b[0m\u001b[0;34m(\u001b[0m\u001b[0mX_train_scl\u001b[0m\u001b[0;34m,\u001b[0m \u001b[0my_train\u001b[0m\u001b[0;34m,\u001b[0m \u001b[0;36m1000\u001b[0m\u001b[0;34m)\u001b[0m\u001b[0;34m\u001b[0m\u001b[0;34m\u001b[0m\u001b[0m\n\u001b[1;32m      3\u001b[0m \u001b[0;34m\u001b[0m\u001b[0m\n\u001b[1;32m      4\u001b[0m \u001b[0mpredictions\u001b[0m \u001b[0;34m=\u001b[0m \u001b[0mmodel_simple\u001b[0m\u001b[0;34m.\u001b[0m\u001b[0mpredict\u001b[0m\u001b[0;34m(\u001b[0m\u001b[0mX_test_esc\u001b[0m\u001b[0;34m)\u001b[0m\u001b[0;34m\u001b[0m\u001b[0;34m\u001b[0m\u001b[0m\n",
      "\u001b[0;31mNameError\u001b[0m: name 'MyGradientDescentMultiple' is not defined"
     ]
    }
   ],
   "source": [
    "model_simple = MyGradientDescentMultiple(learning_rate = 0.01, m = 1)\n",
    "history = model_simple.fit(X_train_scl, y_train, 1000)\n",
    "\n",
    "predictions = model_simple.predict(X_test_esc)"
   ]
  },
  {
   "cell_type": "code",
   "execution_count": null,
   "id": "2fe87938",
   "metadata": {},
   "outputs": [],
   "source": [
    "print(model_simple.betas)\n",
    "print(model_simple.beta0)"
   ]
  },
  {
   "cell_type": "code",
   "execution_count": null,
   "id": "b8d476db",
   "metadata": {},
   "outputs": [],
   "source": [
    "mean_squared_error(y_test, predictions)"
   ]
  },
  {
   "cell_type": "code",
   "execution_count": null,
   "id": "f33b85e4",
   "metadata": {},
   "outputs": [],
   "source": [
    "sns.lineplot(x = range(len(history)), y = history);"
   ]
  },
  {
   "cell_type": "code",
   "execution_count": null,
   "id": "ea42eded",
   "metadata": {},
   "outputs": [],
   "source": [
    "sns.scatterplot(x = X_test_scl[:, 0], y = y_test )\n",
    "sns.lineplot(x = X_test_scl[:, 0], y = predictions, color=\"orange\");"
   ]
  },
  {
   "cell_type": "markdown",
   "id": "7ffb2225",
   "metadata": {},
   "source": [
    "Ahora veamos que devuelve `MyGradientDescent`"
   ]
  },
  {
   "cell_type": "code",
   "execution_count": null,
   "id": "35948b35",
   "metadata": {},
   "outputs": [],
   "source": [
    "class MyGradientDescent():\n",
    "    def __init__(self, learning_rate):\n",
    "        self.learning_rate = learning_rate\n",
    "        self.beta1 = 0\n",
    "        self.beta0 = 0\n",
    "          \n",
    "    def fit(self, X, y, epochs = 100):\n",
    "        N = len(X)\n",
    "        history = []\n",
    "        \n",
    "        for e in range(epochs):\n",
    "            for i in range(N):\n",
    "                Xi = X[i, :]\n",
    "                yi = y.iloc[i] \n",
    "                \n",
    "                hi = self.beta1 * Xi + self.beta0\n",
    "                f = hi - yi\n",
    "                \n",
    "                self.beta1 -= self.learning_rate * 2 / N * f * Xi\n",
    "                self.beta0 -= self.learning_rate * 2 / N * f \n",
    "\n",
    "            loss = 0\n",
    "            loss = mean_squared_error(y, (self.beta1 * X + self.beta0))\n",
    "                                      \n",
    "            if e % 100 == 0:\n",
    "                print(f\"Epoch: {e}, Loss: {loss})\")\n",
    "            \n",
    "            history.append(loss)\n",
    "                                      \n",
    "        return history\n",
    "                \n",
    "    def predict(self, X):\n",
    "        return self.beta1 * X + self.beta0"
   ]
  },
  {
   "cell_type": "code",
   "execution_count": null,
   "id": "3ce31f21",
   "metadata": {},
   "outputs": [],
   "source": [
    "model_lineal_simple = MyGradientDescent(learning_rate = 0.01)\n",
    "history = model_lineal_simple.fit(X_train_esc, y_train, 1000)\n",
    "\n",
    "predictions = model_lineal_simple.predict(X_test_esc)"
   ]
  },
  {
   "cell_type": "code",
   "execution_count": null,
   "id": "3d04cad8",
   "metadata": {},
   "outputs": [],
   "source": [
    "mean_squared_error(y_test, predictions)"
   ]
  },
  {
   "cell_type": "code",
   "execution_count": null,
   "id": "1ca89085",
   "metadata": {},
   "outputs": [],
   "source": []
  },
  {
   "cell_type": "markdown",
   "id": "67860a98",
   "metadata": {},
   "source": [
    "## Ejercicio 7 - Opcional\n",
    "\n",
    "Intenten entrenar un modelo con cinco variables predictoras. \n",
    "\n",
    "Posiblemente tengan que probar distintos valores de learning rate para conseguir resultados aceptables."
   ]
  },
  {
   "cell_type": "code",
   "execution_count": null,
   "id": "c0bab5ec",
   "metadata": {},
   "outputs": [],
   "source": []
  },
  {
   "cell_type": "markdown",
   "id": "6575cb33",
   "metadata": {},
   "source": [
    "## Conclusión\n",
    "\n",
    "Implementando de forma más general la clase `MyGradientDescent` logramos usar el mismo código para resolver regresiones lineales simples y múltiples con descenso gradiente."
   ]
  },
  {
   "cell_type": "markdown",
   "id": "dbcd1962",
   "metadata": {},
   "source": [
    "## Referencias\n",
    "\n",
    "---\n",
    "\n",
    "https://towardsdatascience.com/multivariate-linear-regression-in-python-step-by-step-128c2b127171\n",
    "\n",
    "https://towardsdatascience.com/gradient-descent-in-python-a0d07285742f\n"
   ]
  }
 ],
 "metadata": {
  "kernelspec": {
   "display_name": "Python [conda env:dhdsblend2021] *",
   "language": "python",
   "name": "conda-env-dhdsblend2021-py"
  },
  "language_info": {
   "codemirror_mode": {
    "name": "ipython",
    "version": 3
   },
   "file_extension": ".py",
   "mimetype": "text/x-python",
   "name": "python",
   "nbconvert_exporter": "python",
   "pygments_lexer": "ipython3",
   "version": "3.8.11"
  }
 },
 "nbformat": 4,
 "nbformat_minor": 5
}
