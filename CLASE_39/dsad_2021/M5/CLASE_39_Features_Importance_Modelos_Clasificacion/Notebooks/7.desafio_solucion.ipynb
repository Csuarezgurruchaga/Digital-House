{
 "cells": [
  {
   "cell_type": "code",
   "execution_count": 1,
   "metadata": {},
   "outputs": [
    {
     "name": "stdout",
     "output_type": "stream",
     "text": [
      "/Users/csuarezgurruchaga/Desktop/Digital-House/CLASE_39/dsad_2021/common\n",
      "default checking\n",
      "Running command `conda list`... ok\n",
      "jupyterlab=2.2.6 already installed\n",
      "pandas=1.1.5 already installed\n",
      "bokeh=2.2.3 already installed\n",
      "seaborn=0.11.0 already installed\n",
      "matplotlib=3.3.2 already installed\n",
      "ipywidgets=7.5.1 already installed\n",
      "pytest=6.2.1 already installed\n",
      "chardet=4.0.0 already installed\n",
      "psutil=5.7.2 already installed\n",
      "scipy=1.5.2 already installed\n",
      "statsmodels=0.12.1 already installed\n",
      "scikit-learn=0.23.2 already installed\n",
      "xlrd=2.0.1 already installed\n",
      "Running command `conda install --yes nltk=3.5.0`... ok\n",
      "Collecting package metadata (current_repodata.json): ...working... done\n",
      "Solving environment: ...working... done\n",
      "\n",
      "# All requested packages already installed.\n",
      "\n",
      "\n",
      "unidecode=1.1.1 already installed\n",
      "pydotplus=2.0.2 already installed\n",
      "pandas-datareader=0.9.0 already installed\n",
      "flask=1.1.2 already installed\n"
     ]
    }
   ],
   "source": [
    "# initial setup\n",
    "%run \"../../../common/0_notebooks_base_setup.py\"\n"
   ]
  },
  {
   "cell_type": "markdown",
   "metadata": {},
   "source": [
    "---\n",
    "\n",
    "<img src='../../../common/logo_DH.png' align='left' width=35%/>\n"
   ]
  },
  {
   "cell_type": "markdown",
   "metadata": {},
   "source": [
    "## Dataset\n",
    "\n",
    "**Introducción**\n",
    "\n",
    "La Organización Mundial de la Salud ha estimado que 12 millones de muertes ocurren en todo el mundo, cada año debido a enfermedades del corazón. La mitad de las muertes en los Estados Unidos y otros países desarrollados se deben a enfermedades cardiovasculares. El pronóstico temprano de las enfermedades cardiovasculares puede ayudar a tomar decisiones sobre los cambios en el estilo de vida en pacientes de alto riesgo y, a su vez, reducir las complicaciones. Esta investigación tiene la intención de identificar los factores más relevantes / de riesgo de enfermedad cardíaca, así como predecir el riesgo general mediante distintos modelos de clasificación\n",
    "\n",
    "**Fuente**\n",
    "\n",
    "El conjunto de datos está disponible públicamente en el sitio web de Kaggle (https://www.kaggle.com/amanajmera1/framingham-heart-study-dataset), y proviene de un estudio cardiovascular en curso en residentes de la ciudad de Framingham, Massachusetts. El objetivo de la clasificación es predecir si el paciente tiene riesgo de enfermedad coronaria (CHD) en los próximos 10 años. El conjunto de datos proporciona la información del paciente. Incluye más de 4000 registros y 15 atributos.\n",
    "\n",
    "**Variables**\n",
    "\n",
    "Cada atributo es un factor de riesgo potencial. Hay factores de riesgo demográficos, conductuales y médicos.\n",
    "\n",
    "Demográficos:\n",
    "\n",
    "• Sex: male or female(Nominal)\n",
    "\n",
    "• Age: Age of the patient;(Continuous - Although the recorded ages have been truncated to whole numbers, the concept of age is continuous)\n",
    "Behavioral\n",
    "\n",
    "• Current Smoker: whether or not the patient is a current smoker (Nominal)\n",
    "\n",
    "• Cigs Per Day: the number of cigarettes that the person smoked on average in one day.(can be considered continuous as one can have any number of cigarettes, even half a cigarette.)\n",
    "\n",
    "Médicos (histórico):\n",
    "\n",
    "• BP Meds: whether or not the patient was on blood pressure medication (Nominal)\n",
    "\n",
    "• Prevalent Stroke: whether or not the patient had previously had a stroke (Nominal)\n",
    "\n",
    "• Prevalent Hyp: whether or not the patient was hypertensive (Nominal)\n",
    "\n",
    "• Diabetes: whether or not the patient had diabetes (Nominal)\n",
    "\n",
    "Médicos (actual):\n",
    "\n",
    "• Tot Chol: total cholesterol level (Continuous)\n",
    "\n",
    "• Sys BP: systolic blood pressure (Continuous)\n",
    "\n",
    "• Dia BP: diastolic blood pressure (Continuous)\n",
    "\n",
    "• BMI: Body Mass Index (Continuous)\n",
    "\n",
    "• Heart Rate: heart rate (Continuous - In medical research, variables such as heart rate though in fact discrete, yet are considered continuous because of large number of possible values.)\n",
    "\n",
    "• Glucose: glucose level (Continuous)\n",
    "\n",
    "Variable a predecir (target):\n",
    "\n",
    "• 10 year risk of coronary heart disease CHD (binary: “1”, means “Yes”, “0” means “No”)\n",
    "\n"
   ]
  },
  {
   "cell_type": "markdown",
   "metadata": {},
   "source": [
    "## Ejercicios\n",
    "\n",
    "En esta clase vamos entrenar distintos modelos de clasificación usando:\n",
    "    \n",
    "* Regresión Logística    \n",
    "\n",
    "* KNN\n",
    "\n",
    "* Classification Tree\n",
    "\n",
    "* Random Forest\n",
    "\n",
    "\n",
    "Para cada uno de ello vamos a evaluar la preformance en testing del modelo resultado\n",
    "\n",
    "* Default\n",
    "\n",
    "* Grid Search Cross Validation KFold\n",
    "\n",
    "* Grid Search CV Stratified KFold\n",
    "\n",
    "* Bagging\n",
    "\n",
    "* Bagging Grid Search Cross Validation\n",
    "\n",
    "Las métricas que vamos a calcular para cada modelo son\n",
    "\n",
    "* score\n",
    "\n",
    "* confusion matrix\n",
    "\n",
    "\n"
   ]
  },
  {
   "cell_type": "markdown",
   "metadata": {},
   "source": [
    "## Imports"
   ]
  },
  {
   "cell_type": "code",
   "execution_count": 2,
   "metadata": {},
   "outputs": [],
   "source": [
    "import pandas as pd\n",
    "import numpy as np\n",
    "import matplotlib.pyplot as plt\n",
    "from sklearn import metrics\n",
    "from sklearn.linear_model import LogisticRegression\n",
    "from sklearn.neighbors import KNeighborsClassifier\n",
    "from sklearn.tree import DecisionTreeClassifier\n",
    "from sklearn.ensemble import BaggingClassifier, RandomForestClassifier\n",
    "from sklearn.model_selection import train_test_split, KFold\n",
    "from sklearn.preprocessing import StandardScaler\n",
    "from sklearn.model_selection import GridSearchCV, cross_val_score, StratifiedKFold\n",
    "from sklearn.metrics import auc, plot_roc_curve\n"
   ]
  },
  {
   "cell_type": "markdown",
   "metadata": {},
   "source": [
    "## Ejercicio 1\n",
    "\n",
    "1.1) Leamos los datos del archivo datasets_222487_478477_framingham.csv\n",
    "\n",
    "1.2) ¿Qué porcentaje de registros hay en cada una de las categorías target?\n",
    "\n",
    "1.3) ¿El dataset tiene datos faltantes?\n",
    "\n",
    "1.4) Usemos `dropna` para eliminar los registros con valores faltantes, y volvamos a calcular el porcentaje de registros hay en cada una de las categorías target \n",
    "\n",
    "https://pandas.pydata.org/pandas-docs/stable/reference/api/pandas.DataFrame.dropna.html\n"
   ]
  },
  {
   "cell_type": "code",
   "execution_count": 3,
   "metadata": {},
   "outputs": [
    {
     "data": {
      "text/plain": [
       "(4238, 16)"
      ]
     },
     "execution_count": 3,
     "metadata": {},
     "output_type": "execute_result"
    }
   ],
   "source": [
    "data_raw = pd.read_csv('../Data/datasets_222487_478477_framingham.csv')\n",
    "data_raw.shape"
   ]
  },
  {
   "cell_type": "code",
   "execution_count": 4,
   "metadata": {},
   "outputs": [
    {
     "data": {
      "text/plain": [
       "Index(['male', 'age', 'education', 'currentSmoker', 'cigsPerDay', 'BPMeds',\n",
       "       'prevalentStroke', 'prevalentHyp', 'diabetes', 'totChol', 'sysBP',\n",
       "       'diaBP', 'BMI', 'heartRate', 'glucose', 'TenYearCHD'],\n",
       "      dtype='object')"
      ]
     },
     "execution_count": 4,
     "metadata": {},
     "output_type": "execute_result"
    }
   ],
   "source": [
    "data_raw.columns"
   ]
  },
  {
   "cell_type": "markdown",
   "metadata": {},
   "source": [
    "Veamos qué procentaje de registros hay en cada una de las categorías target"
   ]
  },
  {
   "cell_type": "code",
   "execution_count": 5,
   "metadata": {},
   "outputs": [
    {
     "data": {
      "text/plain": [
       "0    0.848042\n",
       "1    0.151958\n",
       "Name: TenYearCHD, dtype: float64"
      ]
     },
     "execution_count": 5,
     "metadata": {},
     "output_type": "execute_result"
    }
   ],
   "source": [
    "data_raw.TenYearCHD.value_counts() / data_raw.shape[0]"
   ]
  },
  {
   "cell_type": "code",
   "execution_count": 6,
   "metadata": {},
   "outputs": [
    {
     "name": "stdout",
     "output_type": "stream",
     "text": [
      "<class 'pandas.core.frame.DataFrame'>\n",
      "RangeIndex: 4238 entries, 0 to 4237\n",
      "Data columns (total 16 columns):\n",
      " #   Column           Non-Null Count  Dtype  \n",
      "---  ------           --------------  -----  \n",
      " 0   male             4238 non-null   int64  \n",
      " 1   age              4238 non-null   int64  \n",
      " 2   education        4133 non-null   float64\n",
      " 3   currentSmoker    4238 non-null   int64  \n",
      " 4   cigsPerDay       4209 non-null   float64\n",
      " 5   BPMeds           4185 non-null   float64\n",
      " 6   prevalentStroke  4238 non-null   int64  \n",
      " 7   prevalentHyp     4238 non-null   int64  \n",
      " 8   diabetes         4238 non-null   int64  \n",
      " 9   totChol          4188 non-null   float64\n",
      " 10  sysBP            4238 non-null   float64\n",
      " 11  diaBP            4238 non-null   float64\n",
      " 12  BMI              4219 non-null   float64\n",
      " 13  heartRate        4237 non-null   float64\n",
      " 14  glucose          3850 non-null   float64\n",
      " 15  TenYearCHD       4238 non-null   int64  \n",
      "dtypes: float64(9), int64(7)\n",
      "memory usage: 529.9 KB\n"
     ]
    }
   ],
   "source": [
    "data_raw.info()"
   ]
  },
  {
   "cell_type": "code",
   "execution_count": 7,
   "metadata": {},
   "outputs": [
    {
     "data": {
      "text/plain": [
       "(3656, 16)"
      ]
     },
     "execution_count": 7,
     "metadata": {},
     "output_type": "execute_result"
    }
   ],
   "source": [
    "data = data_raw.dropna()\n",
    "data.shape"
   ]
  },
  {
   "cell_type": "code",
   "execution_count": 8,
   "metadata": {},
   "outputs": [
    {
     "data": {
      "text/plain": [
       "0    0.847648\n",
       "1    0.152352\n",
       "Name: TenYearCHD, dtype: float64"
      ]
     },
     "execution_count": 8,
     "metadata": {},
     "output_type": "execute_result"
    }
   ],
   "source": [
    "data.TenYearCHD.value_counts() / data.shape[0]"
   ]
  },
  {
   "cell_type": "markdown",
   "metadata": {},
   "source": [
    "Vemos que en este caso, eliminando los registros que tienen algun valor nulo no cambiamos la proporción de registros en cada una de las categorías target"
   ]
  },
  {
   "cell_type": "code",
   "execution_count": 9,
   "metadata": {},
   "outputs": [
    {
     "data": {
      "text/plain": [
       "male                 int64\n",
       "age                  int64\n",
       "education          float64\n",
       "currentSmoker        int64\n",
       "cigsPerDay         float64\n",
       "BPMeds             float64\n",
       "prevalentStroke      int64\n",
       "prevalentHyp         int64\n",
       "diabetes             int64\n",
       "totChol            float64\n",
       "sysBP              float64\n",
       "diaBP              float64\n",
       "BMI                float64\n",
       "heartRate          float64\n",
       "glucose            float64\n",
       "TenYearCHD           int64\n",
       "dtype: object"
      ]
     },
     "execution_count": 9,
     "metadata": {},
     "output_type": "execute_result"
    }
   ],
   "source": [
    "data.dtypes"
   ]
  },
  {
   "cell_type": "code",
   "execution_count": 10,
   "metadata": {},
   "outputs": [
    {
     "data": {
      "text/html": [
       "<div>\n",
       "<style scoped>\n",
       "    .dataframe tbody tr th:only-of-type {\n",
       "        vertical-align: middle;\n",
       "    }\n",
       "\n",
       "    .dataframe tbody tr th {\n",
       "        vertical-align: top;\n",
       "    }\n",
       "\n",
       "    .dataframe thead th {\n",
       "        text-align: right;\n",
       "    }\n",
       "</style>\n",
       "<table border=\"1\" class=\"dataframe\">\n",
       "  <thead>\n",
       "    <tr style=\"text-align: right;\">\n",
       "      <th></th>\n",
       "      <th>male</th>\n",
       "      <th>age</th>\n",
       "      <th>education</th>\n",
       "      <th>currentSmoker</th>\n",
       "      <th>cigsPerDay</th>\n",
       "      <th>BPMeds</th>\n",
       "      <th>prevalentStroke</th>\n",
       "      <th>prevalentHyp</th>\n",
       "      <th>diabetes</th>\n",
       "      <th>totChol</th>\n",
       "      <th>sysBP</th>\n",
       "      <th>diaBP</th>\n",
       "      <th>BMI</th>\n",
       "      <th>heartRate</th>\n",
       "      <th>glucose</th>\n",
       "      <th>TenYearCHD</th>\n",
       "    </tr>\n",
       "  </thead>\n",
       "  <tbody>\n",
       "    <tr>\n",
       "      <th>0</th>\n",
       "      <td>1</td>\n",
       "      <td>39</td>\n",
       "      <td>4.0</td>\n",
       "      <td>0</td>\n",
       "      <td>0.0</td>\n",
       "      <td>0.0</td>\n",
       "      <td>0</td>\n",
       "      <td>0</td>\n",
       "      <td>0</td>\n",
       "      <td>195.0</td>\n",
       "      <td>106.0</td>\n",
       "      <td>70.0</td>\n",
       "      <td>26.97</td>\n",
       "      <td>80.0</td>\n",
       "      <td>77.0</td>\n",
       "      <td>0</td>\n",
       "    </tr>\n",
       "    <tr>\n",
       "      <th>1</th>\n",
       "      <td>0</td>\n",
       "      <td>46</td>\n",
       "      <td>2.0</td>\n",
       "      <td>0</td>\n",
       "      <td>0.0</td>\n",
       "      <td>0.0</td>\n",
       "      <td>0</td>\n",
       "      <td>0</td>\n",
       "      <td>0</td>\n",
       "      <td>250.0</td>\n",
       "      <td>121.0</td>\n",
       "      <td>81.0</td>\n",
       "      <td>28.73</td>\n",
       "      <td>95.0</td>\n",
       "      <td>76.0</td>\n",
       "      <td>0</td>\n",
       "    </tr>\n",
       "    <tr>\n",
       "      <th>2</th>\n",
       "      <td>1</td>\n",
       "      <td>48</td>\n",
       "      <td>1.0</td>\n",
       "      <td>1</td>\n",
       "      <td>20.0</td>\n",
       "      <td>0.0</td>\n",
       "      <td>0</td>\n",
       "      <td>0</td>\n",
       "      <td>0</td>\n",
       "      <td>245.0</td>\n",
       "      <td>127.5</td>\n",
       "      <td>80.0</td>\n",
       "      <td>25.34</td>\n",
       "      <td>75.0</td>\n",
       "      <td>70.0</td>\n",
       "      <td>0</td>\n",
       "    </tr>\n",
       "    <tr>\n",
       "      <th>3</th>\n",
       "      <td>0</td>\n",
       "      <td>61</td>\n",
       "      <td>3.0</td>\n",
       "      <td>1</td>\n",
       "      <td>30.0</td>\n",
       "      <td>0.0</td>\n",
       "      <td>0</td>\n",
       "      <td>1</td>\n",
       "      <td>0</td>\n",
       "      <td>225.0</td>\n",
       "      <td>150.0</td>\n",
       "      <td>95.0</td>\n",
       "      <td>28.58</td>\n",
       "      <td>65.0</td>\n",
       "      <td>103.0</td>\n",
       "      <td>1</td>\n",
       "    </tr>\n",
       "    <tr>\n",
       "      <th>4</th>\n",
       "      <td>0</td>\n",
       "      <td>46</td>\n",
       "      <td>3.0</td>\n",
       "      <td>1</td>\n",
       "      <td>23.0</td>\n",
       "      <td>0.0</td>\n",
       "      <td>0</td>\n",
       "      <td>0</td>\n",
       "      <td>0</td>\n",
       "      <td>285.0</td>\n",
       "      <td>130.0</td>\n",
       "      <td>84.0</td>\n",
       "      <td>23.10</td>\n",
       "      <td>85.0</td>\n",
       "      <td>85.0</td>\n",
       "      <td>0</td>\n",
       "    </tr>\n",
       "  </tbody>\n",
       "</table>\n",
       "</div>"
      ],
      "text/plain": [
       "   male  age  education  currentSmoker  cigsPerDay  BPMeds  prevalentStroke  \\\n",
       "0     1   39        4.0              0         0.0     0.0                0   \n",
       "1     0   46        2.0              0         0.0     0.0                0   \n",
       "2     1   48        1.0              1        20.0     0.0                0   \n",
       "3     0   61        3.0              1        30.0     0.0                0   \n",
       "4     0   46        3.0              1        23.0     0.0                0   \n",
       "\n",
       "   prevalentHyp  diabetes  totChol  sysBP  diaBP    BMI  heartRate  glucose  \\\n",
       "0             0         0    195.0  106.0   70.0  26.97       80.0     77.0   \n",
       "1             0         0    250.0  121.0   81.0  28.73       95.0     76.0   \n",
       "2             0         0    245.0  127.5   80.0  25.34       75.0     70.0   \n",
       "3             1         0    225.0  150.0   95.0  28.58       65.0    103.0   \n",
       "4             0         0    285.0  130.0   84.0  23.10       85.0     85.0   \n",
       "\n",
       "   TenYearCHD  \n",
       "0           0  \n",
       "1           0  \n",
       "2           0  \n",
       "3           1  \n",
       "4           0  "
      ]
     },
     "execution_count": 10,
     "metadata": {},
     "output_type": "execute_result"
    }
   ],
   "source": [
    "data.head()"
   ]
  },
  {
   "cell_type": "markdown",
   "metadata": {},
   "source": [
    "## Ejercicio 2 - Train Test Split + StandardScaler\n",
    "\n",
    "Construir los conjuntos de entranamiento y test y usando StandardScaler normalizar las features\n",
    "\n",
    "https://scikit-learn.org/stable/modules/generated/sklearn.preprocessing.StandardScaler.html"
   ]
  },
  {
   "cell_type": "code",
   "execution_count": 11,
   "metadata": {},
   "outputs": [],
   "source": [
    "X=data.drop([\"TenYearCHD\"],axis=1)\n",
    "y=data[\"TenYearCHD\"]\n",
    "X_train, X_test, y_train, y_test = train_test_split(X, y, test_size=0.3, random_state=717)"
   ]
  },
  {
   "cell_type": "code",
   "execution_count": 12,
   "metadata": {},
   "outputs": [],
   "source": [
    "sc = StandardScaler()\n",
    "X_train_sc = sc.fit_transform(X_train)\n",
    "X_test_sc = sc.transform(X_test)"
   ]
  },
  {
   "cell_type": "markdown",
   "metadata": {},
   "source": [
    "## De la práctica de checkpoint:\n",
    "\n",
    "Vamos a usar esta función para entrenar todos los modelos que pide el enunciado, devolviendo como resultado las métricas de evaluación de cada modelo."
   ]
  },
  {
   "cell_type": "code",
   "execution_count": 13,
   "metadata": {},
   "outputs": [],
   "source": [
    "def evaluate_model(model_instance, X_train, y_train, X_test, y_test, gridSearch_params, gridSearch_bagging_params):\n",
    "    \n",
    "    # entreno el modelo default\n",
    "    model_instance.fit(X_train, y_train)\n",
    "    \n",
    "    # calculo el score sobre los datos de test\n",
    "    score_default_test = model_instance.score(X_test, y_test)\n",
    "    \n",
    "    # calculo la matriz de confusión\n",
    "    predictions_default = model_instance.predict(X_test)\n",
    "    confusion_matrix_default = metrics.confusion_matrix(y_test, predictions_default)\n",
    "    \n",
    "    ###################################################\n",
    "    \n",
    "    # gridSearch KFold:    \n",
    "    cv_KFold = KFold(n_splits=3, shuffle=True, random_state=371)\n",
    "    grid_search_CV_KFold_model = GridSearchCV(model_instance, gridSearch_params, n_jobs=-1, cv = cv_KFold)    \n",
    "    grid_search_CV_KFold_model.fit(X_train, y_train)        \n",
    "    scores_KFold = cross_val_score(model_instance, X_train, y_train, cv=cv_KFold, n_jobs=-1)\n",
    "    mean_score_grid_search_CV_KFold_model = scores_KFold.mean()\n",
    "    std_score_grid_search_CV_KFold_model = scores_KFold.std()\n",
    "        \n",
    "    score_grid_search_CV_KFold_model = grid_search_CV_KFold_model.best_score_\n",
    "    params_grid_search_CV_KFold_model = grid_search_CV_KFold_model.best_params_\n",
    "    \n",
    "    score_grid_search_CV_KFold_model_test = grid_search_CV_KFold_model.score(X_test, y_test)\n",
    "    predictions_grid_search_CV_KFold_model = grid_search_CV_KFold_model.predict(X_test)    \n",
    "    confusion_matrix_grid_search_CV_KFold_model = metrics.confusion_matrix(y_test, predictions_grid_search_CV_KFold_model)\n",
    "\n",
    "    ###################################################\n",
    "    \n",
    "    # gridSearch Stratified KFold:    \n",
    "    cv_Stratified_KFold = StratifiedKFold(n_splits=3, shuffle=True, random_state=371)\n",
    "    grid_search_CV_Stratified_KFold_model = GridSearchCV(model_instance, gridSearch_params, n_jobs=-1, cv = cv_Stratified_KFold)    \n",
    "    grid_search_CV_Stratified_KFold_model.fit(X_train, y_train)        \n",
    "    scores_Stratified_KFold = cross_val_score(model_instance, X_train, y_train, cv=cv_Stratified_KFold, n_jobs=-1)\n",
    "    mean_score_grid_search_CV_Stratified_KFold_model = scores_Stratified_KFold.mean()\n",
    "    std_score_grid_search_CV_Stratified_KFold_model = scores_Stratified_KFold.std()    \n",
    "    \n",
    "    score_grid_search_CV_Stratified_KFold_model = grid_search_CV_Stratified_KFold_model.best_score_\n",
    "    params_grid_search_CV_Stratified_KFold_model = grid_search_CV_Stratified_KFold_model.best_params_\n",
    "    \n",
    "    score_grid_search_CV_Stratified_KFold_model_test = grid_search_CV_Stratified_KFold_model.score(X_test, y_test)\n",
    "    predictions_grid_search_CV_Stratified_KFold_model = grid_search_CV_Stratified_KFold_model.predict(X_test)\n",
    "    confusion_matrix_grid_search_CV_Stratified_KFold_model = metrics.confusion_matrix(y_test, predictions_grid_search_CV_Stratified_KFold_model)\n",
    "\n",
    "    ###################################################\n",
    "    \n",
    "    if gridSearch_bagging_params:\n",
    "\n",
    "        # bagging\n",
    "\n",
    "        bagging_model_default = BaggingClassifier(base_estimator = model_instance)\n",
    "        bagging_model_default.fit(X_train, y_train)\n",
    "        score_bagging_model_default_test =  bagging_model_default.score(X_test, y_test)\n",
    "        \n",
    "        predictions_bagging_model_default = bagging_model_default.predict(X_test)\n",
    "        confusion_matrix_bagging_model_default = metrics.confusion_matrix(y_test, predictions_bagging_model_default)    \n",
    "\n",
    "        ###################################################\n",
    "\n",
    "        # bagging Stratified KFold cross validation usando de base el mejor modelo de gridsearch estratificado\n",
    "        base_estimator_stratified_grid_search = grid_search_CV_Stratified_KFold_model.best_estimator_\n",
    "        cv_Stratified_KFold =StratifiedKFold(n_splits=3, shuffle=True, random_state=371)\n",
    "        grid_search_bagging_model = GridSearchCV(BaggingClassifier(base_estimator = base_estimator_stratified_grid_search),\n",
    "                               gridSearch_bagging_params, n_jobs=-1, cv = cv_Stratified_KFold)\n",
    "\n",
    "        grid_search_bagging_model.fit(X_train, y_train)\n",
    "        \n",
    "        score_grid_search_bagging_model_test = grid_search_bagging_model.score(X_test, y_test)\n",
    "        predictions_grid_search_bagging_model = grid_search_bagging_model.predict(X_test)\n",
    "        confusion_matrix_grid_search_bagging_model = metrics.confusion_matrix(y_test, predictions_grid_search_bagging_model)\n",
    "        scores_bagging_Stratified_KFold = cross_val_score(BaggingClassifier(base_estimator = base_estimator_stratified_grid_search),\n",
    "                                                          X_train, y_train, cv=cv_Stratified_KFold, n_jobs=-1)\n",
    "        mean_score_bagging_grid_search_CV_Stratified_KFold_model = scores_bagging_Stratified_KFold.mean()\n",
    "        std_score_bagging_grid_search_CV_Stratified_KFold_model = scores_bagging_Stratified_KFold.std()    \n",
    "        \n",
    "        best_score_bagging_grid_search_CV_Stratified_KFold_model = grid_search_bagging_model.best_score_\n",
    "        best_params_bagging_grid_search_CV_Stratified_KFold_model = grid_search_bagging_model.best_params_\n",
    "    \n",
    "    else:\n",
    "        \n",
    "        score_bagging_model_default_test = None\n",
    "        confusion_matrix_bagging_model_default = None\n",
    "        mean_score_bagging_grid_search_CV_Stratified_KFold_model = None\n",
    "        std_score_bagging_grid_search_CV_Stratified_KFold_model = None\n",
    "        confusion_matrix_grid_search_bagging_model = None\n",
    "        best_score_bagging_grid_search_CV_Stratified_KFold_model = None\n",
    "        score_grid_search_bagging_model_test = None\n",
    "        best_params_bagging_grid_search_CV_Stratified_KFold_model = None\n",
    "\n",
    "                                                                                                                                     \n",
    "    ###################################################\n",
    "    \n",
    "    \n",
    "    # armo un diccionario con todos los valores de performance que calculé para los modelos\n",
    "    result = {\n",
    "        'default': {\n",
    "            'score': score_default_test,\n",
    "            'confusion_matrix': confusion_matrix_default            \n",
    "        },\n",
    "        'cv_kfold': {\n",
    "            'mean_score_grid_search': mean_score_grid_search_CV_KFold_model,\n",
    "            'std_score_grid_search': std_score_grid_search_CV_KFold_model,\n",
    "            'best_score_grid_search': score_grid_search_CV_KFold_model,\n",
    "            'score': score_grid_search_CV_KFold_model_test,\n",
    "            'confusion_matrix': confusion_matrix_grid_search_CV_KFold_model           \n",
    "        },\n",
    "        'cv_stratified_kfold': {\n",
    "            'mean_score_grid_search': mean_score_grid_search_CV_Stratified_KFold_model,\n",
    "            'std_score_grid_search': std_score_grid_search_CV_Stratified_KFold_model,\n",
    "            'best_score_grid_search': score_grid_search_CV_Stratified_KFold_model,\n",
    "            'score': score_grid_search_CV_Stratified_KFold_model_test,\n",
    "            'confusion_matrix': confusion_matrix_grid_search_CV_Stratified_KFold_model           \n",
    "        },\n",
    "        'bagging': {\n",
    "            'score': score_bagging_model_default_test,\n",
    "            'confusion_matrix': confusion_matrix_bagging_model_default           \n",
    "        },\n",
    "        'bagging_cv_stratified_kfold': {\n",
    "            'mean_score_grid_search': mean_score_bagging_grid_search_CV_Stratified_KFold_model,\n",
    "            'std_score_grid_search': std_score_bagging_grid_search_CV_Stratified_KFold_model,\n",
    "            'best_score_grid_search': best_params_bagging_grid_search_CV_Stratified_KFold_model,\n",
    "            'score': score_grid_search_bagging_model_test,\n",
    "            'confusion_matrix': confusion_matrix_grid_search_bagging_model           \n",
    "        }\n",
    "        \n",
    "    }\n",
    "    \n",
    "    return result\n",
    "        \n",
    "#           'trained_model_instance': model_instance, \n",
    "#              'score_default': score_default_test,\n",
    "#              'confusion_matrix_default': confusion_matrix_default,\n",
    "#              'mean_score_grid_search_CV_KFold_model': mean_score_grid_search_CV_KFold_model, \n",
    "#              'std_score_grid_search_CV_KFold_model': std_score_grid_search_CV_KFold_model, \n",
    "#              'best_score_grid_search_CV_KFold_model': score_grid_search_CV_KFold_model,\n",
    "#              'best_params_grid_search_CV_KFold_model': params_grid_search_CV_KFold_model,              \n",
    "#              'score_grid_search_CV_KFold_model_test': score_grid_search_CV_KFold_model_test,\n",
    "#              'confusion_matrix_grid_search_CV_KFold_model': confusion_matrix_grid_search_CV_KFold_model,\n",
    "        \n",
    "#              'mean_score_grid_search_CV_Stratified_KFold_model': mean_score_grid_search_CV_Stratified_KFold_model, \n",
    "#              'std_score_grid_search_CV_Stratified_KFold_model': std_score_grid_search_CV_Stratified_KFold_model, \n",
    "#              'best_score_grid_search_CV_Stratified_KFold_model': score_grid_search_CV_Stratified_KFold_model,\n",
    "#              'best_params_grid_search_CV_Stratified_KFold_model': params_grid_search_CV_Stratified_KFold_model,              \n",
    "#              'score_grid_search_CV_Stratified_KFold_model_test': score_grid_search_CV_Stratified_KFold_model_test,\n",
    "#              'confusion_matrix_grid_search_CV_Stratified_KFold_model': confusion_matrix_grid_search_CV_Stratified_KFold_model,\n",
    "        \n",
    "#              'score_bagging_default': score_bagging_model_default_test,\n",
    "#              'confusion_matrix_bagging_default': confusion_matrix_bagging_model_default,\n",
    "        \n",
    "#              'mean_score_bagging_grid_search_CV_Stratified_KFold_model': mean_score_bagging_grid_search_CV_Stratified_KFold_model, \n",
    "#              'std_score_bagging_grid_search_CV__StratifiedKFold_model': std_score_bagging_grid_search_CV_Stratified_KFold_model, \n",
    "#              'best_score_bagging_grid_search_CV_Stratified_KFold_model': best_score_bagging_grid_search_CV_Stratified_KFold_model,\n",
    "#              'best_params_bagging_grid_search_CV_Stratified_KFold_model': best_params_bagging_grid_search_CV_Stratified_KFold_model,              \n",
    "#              'score_bagging_grid_search_CV_Stratified_KFold_model_test': score_grid_search_bagging_model_test,\n",
    "#              'confusion_matrix_bagging_grid_search_CV_Stratified_KFold_model': confusion_matrix_grid_search_bagging_model,\n",
    "\n",
    "    \n",
    "    \n",
    "    \n",
    "    \n",
    "    "
   ]
  },
  {
   "cell_type": "markdown",
   "metadata": {},
   "source": [
    "## Ejercicio 3 - Regresión Logística\n",
    "\n",
    "Usemos la función definida en el checkpoint que evalua la performance de modelos en un modelo de regresión logística usando `LogisticRegression` con los parámetros por default\n",
    "\n",
    "https://scikit-learn.org/stable/modules/generated/sklearn.linear_model.LogisticRegression.html\n",
    "\n",
    "Los parámetros de GridSearchCV que vamos a probar son \n",
    "\n",
    "``params = {'C': [0.001, 0.01, 0.1, 1.0, 10.0, 100.0], 'penalty': ['l1', 'l2']}``\n",
    "\n",
    "Los parámetros de bagging que vamos a probar son\n",
    "\n",
    "<code>\n",
    "bagging_params = {'n_estimators': [10, 100],\n",
    "\n",
    "                  'max_samples': [0.01, 1.0],\n",
    "                  \n",
    "                  'max_features': [0.3, 1.0],\n",
    "                  \n",
    "                  'bootstrap_features': [True, False]}\n",
    "</code>\n",
    "\n"
   ]
  },
  {
   "cell_type": "code",
   "execution_count": 14,
   "metadata": {},
   "outputs": [
    {
     "data": {
      "text/plain": [
       "{'default': {'score': 0.8596171376481313,\n",
       "  'confusion_matrix': array([[928,   4],\n",
       "         [150,  15]])},\n",
       " 'cv_kfold': {'mean_score_grid_search': 0.848378272762798,\n",
       "  'std_score_grid_search': 0.01664364160925896,\n",
       "  'best_score_grid_search': 0.8487690504103166,\n",
       "  'score': 0.8596171376481313,\n",
       "  'confusion_matrix': array([[932,   0],\n",
       "         [154,  11]])},\n",
       " 'cv_stratified_kfold': {'mean_score_grid_search': 0.8460336068776866,\n",
       "  'std_score_grid_search': 0.0030769862735490015,\n",
       "  'best_score_grid_search': 0.8499413833528721,\n",
       "  'score': 0.8596171376481313,\n",
       "  'confusion_matrix': array([[932,   0],\n",
       "         [154,  11]])},\n",
       " 'bagging': {'score': 0.8614402917046491,\n",
       "  'confusion_matrix': array([[926,   6],\n",
       "         [146,  19]])},\n",
       " 'bagging_cv_stratified_kfold': {'mean_score_grid_search': 0.848378272762798,\n",
       "  'std_score_grid_search': 0.0019925828501730007,\n",
       "  'best_score_grid_search': {'bootstrap_features': False,\n",
       "   'max_features': 1.0,\n",
       "   'max_samples': 1.0,\n",
       "   'n_estimators': 100},\n",
       "  'score': 0.8587055606198724,\n",
       "  'confusion_matrix': array([[932,   0],\n",
       "         [155,  10]])}}"
      ]
     },
     "execution_count": 14,
     "metadata": {},
     "output_type": "execute_result"
    }
   ],
   "source": [
    "model_instance = LogisticRegression()\n",
    "x_train = X_train_sc\n",
    "x_test =  X_test_sc\n",
    "gridSearch_params = {'C': [0, 1e-20, 1e-10, 1e-5, 1e-4, 0.001, 0.01, 0.1, 1.0, 10.0, 100.0], 'penalty': ['l1', 'l2']}\n",
    "gridSearch_bagging_params = {'n_estimators': [10, 100],\n",
    "                  'max_samples': [0.01, 1.0],                  \n",
    "                  'max_features': [0.3, 1.0],                  \n",
    "                  'bootstrap_features': [True, False]}\n",
    "\n",
    "logistic_metrics = evaluate_model(model_instance, x_train, y_train, x_test, y_test, gridSearch_params, gridSearch_bagging_params)\n",
    "\n",
    "logistic_metrics"
   ]
  },
  {
   "cell_type": "markdown",
   "metadata": {},
   "source": [
    "(Para todos los modelos vamos a ver que la capacidad de predicción de la clase minoritaria es bastante mala)"
   ]
  },
  {
   "cell_type": "markdown",
   "metadata": {},
   "source": [
    "## Ejercicio 4 - KNN\n",
    "\n",
    "Usemos la función definida en el checkpoint que evalua la performance de modelos en un modelo KNN usando `KNeighborsClassifier` con los parámetros por default (n_neighbors=5)\n",
    "\n",
    "https://scikit-learn.org/stable/modules/generated/sklearn.neighbors.KNeighborsClassifier.html\n",
    "\n",
    "Los parámetros de GridSearchCV que vamos a probar son \n",
    "\n",
    "``params =  {'n_neighbors': range(1,50)}``\n",
    "\n",
    "Los parámetros de bagging que vamos a probar son\n",
    "\n",
    "<code>\n",
    "bagging_params = {'n_estimators': [10, 100],\n",
    "\n",
    "                  'max_samples': [0.05, 1.0],\n",
    "                  \n",
    "                  'max_features': [0.3, 1.0],\n",
    "                  \n",
    "                  'bootstrap_features': [True, False]}\n",
    "</code>\n",
    "\n"
   ]
  },
  {
   "cell_type": "code",
   "execution_count": 15,
   "metadata": {},
   "outputs": [
    {
     "data": {
      "text/plain": [
       "{'default': {'score': 0.8422971741112124,\n",
       "  'confusion_matrix': array([[904,  28],\n",
       "         [145,  20]])},\n",
       " 'cv_kfold': {'mean_score_grid_search': 0.8237592809691286,\n",
       "  'std_score_grid_search': 0.012995927431274612,\n",
       "  'best_score_grid_search': 0.8468151621727237,\n",
       "  'score': 0.8495897903372835,\n",
       "  'confusion_matrix': array([[932,   0],\n",
       "         [165,   0]])},\n",
       " 'cv_stratified_kfold': {'mean_score_grid_search': 0.8284486127393512,\n",
       "  'std_score_grid_search': 0.009587998551297614,\n",
       "  'best_score_grid_search': 0.8479874951152794,\n",
       "  'score': 0.8495897903372835,\n",
       "  'confusion_matrix': array([[931,   1],\n",
       "         [164,   1]])},\n",
       " 'bagging': {'score': 0.8441203281677302,\n",
       "  'confusion_matrix': array([[907,  25],\n",
       "         [146,  19]])},\n",
       " 'bagging_cv_stratified_kfold': {'mean_score_grid_search': 0.8472059398202423,\n",
       "  'std_score_grid_search': 0.0014621560714239863,\n",
       "  'best_score_grid_search': {'bootstrap_features': True,\n",
       "   'max_features': 1.0,\n",
       "   'max_samples': 1.0,\n",
       "   'n_estimators': 100},\n",
       "  'score': 0.8495897903372835,\n",
       "  'confusion_matrix': array([[932,   0],\n",
       "         [165,   0]])}}"
      ]
     },
     "execution_count": 15,
     "metadata": {},
     "output_type": "execute_result"
    }
   ],
   "source": [
    "model_instance = KNeighborsClassifier()\n",
    "x_train = X_train_sc\n",
    "x_test =  X_test_sc\n",
    "gridSearch_params = {'n_neighbors': range(1,50)}\n",
    "gridSearch_bagging_params = {'n_estimators': [10, 100],\n",
    "                  'max_samples': [0.05, 1.0],                  \n",
    "                  'max_features': [0.3, 1.0],                  \n",
    "                  'bootstrap_features': [True, False]}\n",
    "\n",
    "knn_metrics = evaluate_model(model_instance, x_train, y_train, x_test, y_test, gridSearch_params, gridSearch_bagging_params)\n",
    "\n",
    "knn_metrics"
   ]
  },
  {
   "cell_type": "markdown",
   "metadata": {},
   "source": [
    "## Ejercicio 5 - Tree\n",
    "\n",
    "Usemos la función definida en el checkpoint que evalua la performance de modelos en un modelo de árbol de decisión usando `DecisionTreeClassifier` con los parámetros por default\n",
    "\n",
    "https://scikit-learn.org/stable/modules/generated/sklearn.tree.DecisionTreeClassifier.html\n",
    "\n",
    "Los parámetros de GridSearchCV que vamos a probar son \n",
    "\n",
    "``params =  {'criterion': ['gini', 'entropy'],\n",
    "          'splitter': ['best', 'random'],\n",
    "          'max_depth': [None, 5, 10],\n",
    "          'min_samples_split': [2, 5],\n",
    "          'min_samples_leaf': [1, 2, 3]}``\n",
    "\n",
    "Los parámetros de bagging que vamos a probar son\n",
    "\n",
    "<code>\n",
    "bagging_params = {'n_estimators': [10, 100],\n",
    "\n",
    "                  'max_samples': [0.01, 1.0],\n",
    "                  \n",
    "                  'max_features': [0.3, 1.0],\n",
    "                  \n",
    "                  'bootstrap_features': [True, False]}\n",
    "</code>\n"
   ]
  },
  {
   "cell_type": "code",
   "execution_count": 16,
   "metadata": {},
   "outputs": [
    {
     "data": {
      "text/plain": [
       "{'default': {'score': 0.7611668185961714,\n",
       "  'confusion_matrix': array([[786, 146],\n",
       "         [116,  49]])},\n",
       " 'cv_kfold': {'mean_score_grid_search': 0.76357952325127,\n",
       "  'std_score_grid_search': 0.017762122981420114,\n",
       "  'best_score_grid_search': 0.8436889409925752,\n",
       "  'score': 0.8441203281677302,\n",
       "  'confusion_matrix': array([[917,  15],\n",
       "         [156,   9]])},\n",
       " 'cv_stratified_kfold': {'mean_score_grid_search': 0.7655334114888629,\n",
       "  'std_score_grid_search': 0.009427384198370315,\n",
       "  'best_score_grid_search': 0.8464243845252052,\n",
       "  'score': 0.8441203281677302,\n",
       "  'confusion_matrix': array([[919,  13],\n",
       "         [158,   7]])},\n",
       " 'bagging': {'score': 0.8432087511394712,\n",
       "  'confusion_matrix': array([[906,  26],\n",
       "         [146,  19]])},\n",
       " 'bagging_cv_stratified_kfold': {'mean_score_grid_search': 0.8468151621727237,\n",
       "  'std_score_grid_search': 0.000552643048993009,\n",
       "  'best_score_grid_search': {'bootstrap_features': True,\n",
       "   'max_features': 1.0,\n",
       "   'max_samples': 1.0,\n",
       "   'n_estimators': 10},\n",
       "  'score': 0.8505013673655424,\n",
       "  'confusion_matrix': array([[932,   0],\n",
       "         [164,   1]])}}"
      ]
     },
     "execution_count": 16,
     "metadata": {},
     "output_type": "execute_result"
    }
   ],
   "source": [
    "model_instance = DecisionTreeClassifier()\n",
    "x_train = X_train_sc\n",
    "x_test =  X_test_sc\n",
    "gridSearch_params = {'criterion': ['gini', 'entropy'],\n",
    "          'splitter': ['best', 'random'],\n",
    "          'max_depth': [None, 5, 10],\n",
    "          'min_samples_split': [2, 5],\n",
    "          'min_samples_leaf': [1, 2, 3]}\n",
    "\n",
    "gridSearch_bagging_params = {'n_estimators': [10, 100],\n",
    "                  'max_samples': [0.01, 1.0],                  \n",
    "                  'max_features': [0.3, 1.0],                  \n",
    "                  'bootstrap_features': [True, False]}\n",
    "\n",
    "decision_tree_metrics = evaluate_model(model_instance, x_train, y_train, x_test, y_test, gridSearch_params, gridSearch_bagging_params)\n",
    "\n",
    "decision_tree_metrics"
   ]
  },
  {
   "cell_type": "markdown",
   "metadata": {},
   "source": [
    "## Ejercicio 6 - Random Forest\n",
    "\n",
    "Usemos la función definida en el checkpoint que evalua la performance de modelos en un modelo random forest usando `RandomForestClassifier` con los parámetros por default\n",
    "\n",
    "https://scikit-learn.org/stable/modules/generated/sklearn.ensemble.RandomForestClassifier.html\n",
    "\n",
    "Los parámetros de GridSearchCV que vamos a probar son \n",
    "\n",
    "``params =   {'n_estimators':[3, 5, 10, 50],\n",
    "          'criterion': ['gini', 'entropy'],\n",
    "          'max_depth': [None, 3, 5],\n",
    "          'min_samples_split': [2,5],\n",
    "          'class_weight':[None, 'balanced']}``\n",
    "\n",
    "(No vamos a hacer bagging sobre este modelo porque ya es un ensamble.)"
   ]
  },
  {
   "cell_type": "code",
   "execution_count": 17,
   "metadata": {},
   "outputs": [
    {
     "data": {
      "text/plain": [
       "{'default': {'score': 0.8514129443938013,\n",
       "  'confusion_matrix': array([[924,   8],\n",
       "         [155,  10]])},\n",
       " 'cv_kfold': {'mean_score_grid_search': 0.8436889409925753,\n",
       "  'std_score_grid_search': 0.01471525625929092,\n",
       "  'best_score_grid_search': 0.8491598280578351,\n",
       "  'score': 0.8486782133090246,\n",
       "  'confusion_matrix': array([[928,   4],\n",
       "         [162,   3]])},\n",
       " 'cv_stratified_kfold': {'mean_score_grid_search': 0.8425166080500196,\n",
       "  'std_score_grid_search': 0.003868501342951011,\n",
       "  'best_score_grid_search': 0.8491598280578351,\n",
       "  'score': 0.8523245214220602,\n",
       "  'confusion_matrix': array([[929,   3],\n",
       "         [159,   6]])},\n",
       " 'bagging': {'score': None, 'confusion_matrix': None},\n",
       " 'bagging_cv_stratified_kfold': {'mean_score_grid_search': None,\n",
       "  'std_score_grid_search': None,\n",
       "  'best_score_grid_search': None,\n",
       "  'score': None,\n",
       "  'confusion_matrix': None}}"
      ]
     },
     "execution_count": 17,
     "metadata": {},
     "output_type": "execute_result"
    }
   ],
   "source": [
    "model_instance = RandomForestClassifier()\n",
    "x_train = X_train_sc\n",
    "x_test =  X_test_sc\n",
    "gridSearch_params = {'n_estimators':[3, 5, 10, 50],\n",
    "          'criterion': ['gini', 'entropy'],\n",
    "          'max_depth': [None, 3, 5],\n",
    "          'min_samples_split': [2,5],\n",
    "          'class_weight':[None, 'balanced']}\n",
    "\n",
    "gridSearch_bagging_params = None\n",
    "\n",
    "random_forest_metrics = evaluate_model(model_instance, x_train, y_train, x_test, y_test, gridSearch_params, gridSearch_bagging_params)\n",
    "\n",
    "random_forest_metrics"
   ]
  },
  {
   "cell_type": "markdown",
   "metadata": {},
   "source": [
    "## Ejercicio 7 - Evaluación de modelos\n",
    "\n",
    "Vamos a comparar los resultados de los diferentes modelos. Para eso, grafiquemos como barras los scores de los modelos evaluados en el conjunto de testing. \n",
    "\n",
    "¿Cuál es el ganador?\n",
    "\n",
    "Repetir el gráfico mostrando el valor medio el desvío estandard de la validación cruzada. ¿Es el mismo ganador?\n"
   ]
  },
  {
   "cell_type": "code",
   "execution_count": 28,
   "metadata": {},
   "outputs": [],
   "source": [
    "%matplotlib inline\n",
    "all_model_metrics = [logistic_metrics, knn_metrics, decision_tree_metrics, random_forest_metrics]\n",
    "all_model_names =  ['logistic', 'knn', 'decision_tree', 'random_forest']\n",
    "\n",
    "data_to_plot = pd.DataFrame(columns = ['model', 'score'])\n",
    "data_to_plot\n",
    "\n",
    "for i in range(len(all_model_names)):\n",
    "    model_name_prefix = all_model_names[i]\n",
    "    model_metric = all_model_metrics[i]        \n",
    "    for model_metric_key in model_metric.keys():    \n",
    "        score = model_metric[model_metric_key]['score']        \n",
    "        data_to_plot = data_to_plot.append({'model': model_name_prefix + '_' + model_metric_key, 'score':score}, ignore_index=True)\n",
    "        \n",
    "data_to_plot.index = data_to_plot.model\n",
    "\n",
    "data_to_plot.sort_values(by = 'score', axis=0, ascending=True, inplace=True)\n"
   ]
  },
  {
   "cell_type": "code",
   "execution_count": 29,
   "metadata": {},
   "outputs": [
    {
     "data": {
      "text/plain": [
       "(0.7, 0.9)"
      ]
     },
     "execution_count": 29,
     "metadata": {},
     "output_type": "execute_result"
    },
    {
     "data": {
      "image/png": "[encoded data removed]",
      "text/plain": [
       "<Figure size 432x288 with 1 Axes>"
      ]
     },
     "metadata": {
      "needs_background": "light"
     },
     "output_type": "display_data"
    }
   ],
   "source": [
    "data_to_plot.plot(kind='bar')\n",
    "plt.ylim(0.7, 0.9)\n"
   ]
  },
  {
   "cell_type": "code",
   "execution_count": 30,
   "metadata": {},
   "outputs": [],
   "source": [
    "data_to_plot_cv = pd.DataFrame(columns = ['model', 'score', 'error'])\n",
    "\n",
    "for i in range(len(all_model_names)):\n",
    "    model_name_prefix = all_model_names[i]\n",
    "    model_metric = all_model_metrics[i]        \n",
    "    for model_metric_key in model_metric.keys():    \n",
    "        model = model_metric[model_metric_key]\n",
    "        if 'mean_score_grid_search' in model.keys() and 'std_score_grid_search' in model.keys():\n",
    "            score = model['mean_score_grid_search']        \n",
    "            std = model['std_score_grid_search']        \n",
    "            data_to_plot_cv = data_to_plot_cv.append({'model': model_name_prefix + '_' + model_metric_key, \n",
    "                                            'score':score,\n",
    "                                            'error': std,\n",
    "                                           }, ignore_index=True)\n",
    "        \n",
    "data_to_plot_cv.index = data_to_plot_cv.model\n",
    "\n",
    "data_to_plot_cv.sort_values(by = 'score', axis=0, ascending=True, inplace=True)"
   ]
  },
  {
   "cell_type": "code",
   "execution_count": 31,
   "metadata": {},
   "outputs": [
    {
     "data": {
      "text/html": [
       "<div>\n",
       "<style scoped>\n",
       "    .dataframe tbody tr th:only-of-type {\n",
       "        vertical-align: middle;\n",
       "    }\n",
       "\n",
       "    .dataframe tbody tr th {\n",
       "        vertical-align: top;\n",
       "    }\n",
       "\n",
       "    .dataframe thead th {\n",
       "        text-align: right;\n",
       "    }\n",
       "</style>\n",
       "<table border=\"1\" class=\"dataframe\">\n",
       "  <thead>\n",
       "    <tr style=\"text-align: right;\">\n",
       "      <th></th>\n",
       "      <th>model</th>\n",
       "      <th>score</th>\n",
       "      <th>error</th>\n",
       "    </tr>\n",
       "    <tr>\n",
       "      <th>model</th>\n",
       "      <th></th>\n",
       "      <th></th>\n",
       "      <th></th>\n",
       "    </tr>\n",
       "  </thead>\n",
       "  <tbody>\n",
       "    <tr>\n",
       "      <th>decision_tree_cv_kfold</th>\n",
       "      <td>decision_tree_cv_kfold</td>\n",
       "      <td>0.763580</td>\n",
       "      <td>0.017762</td>\n",
       "    </tr>\n",
       "    <tr>\n",
       "      <th>decision_tree_cv_stratified_kfold</th>\n",
       "      <td>decision_tree_cv_stratified_kfold</td>\n",
       "      <td>0.765533</td>\n",
       "      <td>0.009427</td>\n",
       "    </tr>\n",
       "    <tr>\n",
       "      <th>knn_cv_kfold</th>\n",
       "      <td>knn_cv_kfold</td>\n",
       "      <td>0.823759</td>\n",
       "      <td>0.012996</td>\n",
       "    </tr>\n",
       "    <tr>\n",
       "      <th>knn_cv_stratified_kfold</th>\n",
       "      <td>knn_cv_stratified_kfold</td>\n",
       "      <td>0.828449</td>\n",
       "      <td>0.009588</td>\n",
       "    </tr>\n",
       "    <tr>\n",
       "      <th>random_forest_cv_stratified_kfold</th>\n",
       "      <td>random_forest_cv_stratified_kfold</td>\n",
       "      <td>0.842517</td>\n",
       "      <td>0.003869</td>\n",
       "    </tr>\n",
       "    <tr>\n",
       "      <th>random_forest_cv_kfold</th>\n",
       "      <td>random_forest_cv_kfold</td>\n",
       "      <td>0.843689</td>\n",
       "      <td>0.014715</td>\n",
       "    </tr>\n",
       "    <tr>\n",
       "      <th>logistic_cv_stratified_kfold</th>\n",
       "      <td>logistic_cv_stratified_kfold</td>\n",
       "      <td>0.846034</td>\n",
       "      <td>0.003077</td>\n",
       "    </tr>\n",
       "    <tr>\n",
       "      <th>decision_tree_bagging_cv_stratified_kfold</th>\n",
       "      <td>decision_tree_bagging_cv_stratified_kfold</td>\n",
       "      <td>0.846815</td>\n",
       "      <td>0.000553</td>\n",
       "    </tr>\n",
       "    <tr>\n",
       "      <th>knn_bagging_cv_stratified_kfold</th>\n",
       "      <td>knn_bagging_cv_stratified_kfold</td>\n",
       "      <td>0.847206</td>\n",
       "      <td>0.001462</td>\n",
       "    </tr>\n",
       "    <tr>\n",
       "      <th>logistic_cv_kfold</th>\n",
       "      <td>logistic_cv_kfold</td>\n",
       "      <td>0.848378</td>\n",
       "      <td>0.016644</td>\n",
       "    </tr>\n",
       "    <tr>\n",
       "      <th>logistic_bagging_cv_stratified_kfold</th>\n",
       "      <td>logistic_bagging_cv_stratified_kfold</td>\n",
       "      <td>0.848378</td>\n",
       "      <td>0.001993</td>\n",
       "    </tr>\n",
       "    <tr>\n",
       "      <th>random_forest_bagging_cv_stratified_kfold</th>\n",
       "      <td>random_forest_bagging_cv_stratified_kfold</td>\n",
       "      <td>NaN</td>\n",
       "      <td>NaN</td>\n",
       "    </tr>\n",
       "  </tbody>\n",
       "</table>\n",
       "</div>"
      ],
      "text/plain": [
       "                                                                               model  \\\n",
       "model                                                                                  \n",
       "decision_tree_cv_kfold                                        decision_tree_cv_kfold   \n",
       "decision_tree_cv_stratified_kfold                  decision_tree_cv_stratified_kfold   \n",
       "knn_cv_kfold                                                            knn_cv_kfold   \n",
       "knn_cv_stratified_kfold                                      knn_cv_stratified_kfold   \n",
       "random_forest_cv_stratified_kfold                  random_forest_cv_stratified_kfold   \n",
       "random_forest_cv_kfold                                        random_forest_cv_kfold   \n",
       "logistic_cv_stratified_kfold                            logistic_cv_stratified_kfold   \n",
       "decision_tree_bagging_cv_stratified_kfold  decision_tree_bagging_cv_stratified_kfold   \n",
       "knn_bagging_cv_stratified_kfold                      knn_bagging_cv_stratified_kfold   \n",
       "logistic_cv_kfold                                                  logistic_cv_kfold   \n",
       "logistic_bagging_cv_stratified_kfold            logistic_bagging_cv_stratified_kfold   \n",
       "random_forest_bagging_cv_stratified_kfold  random_forest_bagging_cv_stratified_kfold   \n",
       "\n",
       "                                              score     error  \n",
       "model                                                          \n",
       "decision_tree_cv_kfold                     0.763580  0.017762  \n",
       "decision_tree_cv_stratified_kfold          0.765533  0.009427  \n",
       "knn_cv_kfold                               0.823759  0.012996  \n",
       "knn_cv_stratified_kfold                    0.828449  0.009588  \n",
       "random_forest_cv_stratified_kfold          0.842517  0.003869  \n",
       "random_forest_cv_kfold                     0.843689  0.014715  \n",
       "logistic_cv_stratified_kfold               0.846034  0.003077  \n",
       "decision_tree_bagging_cv_stratified_kfold  0.846815  0.000553  \n",
       "knn_bagging_cv_stratified_kfold            0.847206  0.001462  \n",
       "logistic_cv_kfold                          0.848378  0.016644  \n",
       "logistic_bagging_cv_stratified_kfold       0.848378  0.001993  \n",
       "random_forest_bagging_cv_stratified_kfold       NaN       NaN  "
      ]
     },
     "execution_count": 31,
     "metadata": {},
     "output_type": "execute_result"
    }
   ],
   "source": [
    "data_to_plot_cv"
   ]
  },
  {
   "cell_type": "code",
   "execution_count": 32,
   "metadata": {},
   "outputs": [
    {
     "data": {
      "text/plain": [
       "(0.7, 0.9)"
      ]
     },
     "execution_count": 32,
     "metadata": {},
     "output_type": "execute_result"
    },
    {
     "data": {
      "image/png": "[encoded data removed]",
      "text/plain": [
       "<Figure size 432x288 with 1 Axes>"
      ]
     },
     "metadata": {
      "needs_background": "light"
     },
     "output_type": "display_data"
    }
   ],
   "source": [
    "fig, ax = plt.subplots()\n",
    "x_values = range(data_to_plot_cv.shape[0])\n",
    "y_values = data_to_plot_cv.score\n",
    "rects1 = ax.bar(x_values, y_values,\n",
    "                yerr=data_to_plot_cv.error,\n",
    "                tick_label=data_to_plot_cv.index)\n",
    "\n",
    "ax.set_ylabel('Scores')\n",
    "plt.xticks(rotation=90)\n",
    "plt.ylim(0.7, 0.9)"
   ]
  },
  {
   "cell_type": "code",
   "execution_count": 33,
   "metadata": {},
   "outputs": [
    {
     "data": {
      "text/plain": [
       "model\n",
       "decision_tree_cv_kfold                       0.763580\n",
       "decision_tree_cv_stratified_kfold            0.765533\n",
       "knn_cv_kfold                                 0.823759\n",
       "knn_cv_stratified_kfold                      0.828449\n",
       "random_forest_cv_stratified_kfold            0.842517\n",
       "random_forest_cv_kfold                       0.843689\n",
       "logistic_cv_stratified_kfold                 0.846034\n",
       "decision_tree_bagging_cv_stratified_kfold    0.846815\n",
       "knn_bagging_cv_stratified_kfold              0.847206\n",
       "logistic_cv_kfold                            0.848378\n",
       "logistic_bagging_cv_stratified_kfold         0.848378\n",
       "random_forest_bagging_cv_stratified_kfold         NaN\n",
       "Name: score, dtype: float64"
      ]
     },
     "execution_count": 33,
     "metadata": {},
     "output_type": "execute_result"
    }
   ],
   "source": [
    "y_values"
   ]
  },
  {
   "cell_type": "markdown",
   "metadata": {},
   "source": [
    "## Ejercicio 8 - Importancia de features\n",
    "\n",
    "Veamos ahora la cuál es la importancia de cada variable predictora en el modelo random forest\n",
    "\n",
    "https://scikit-learn.org/stable/modules/generated/sklearn.ensemble.RandomForestClassifier.html#sklearn.ensemble.RandomForestClassifier.feature_importances_\n",
    "\n",
    "Representemos en un gráfico de barras la importancia de cada una, y su error definido como el desvío estandar de las importancias de cada variable sobre todos los árboles.\n"
   ]
  },
  {
   "cell_type": "code",
   "execution_count": 34,
   "metadata": {},
   "outputs": [
    {
     "data": {
      "text/plain": [
       "array([0.02081578, 0.12934942, 0.03701672, 0.01262943, 0.04967551,\n",
       "       0.00687372, 0.00235755, 0.01747798, 0.00715259, 0.12304997,\n",
       "       0.13105822, 0.12324144, 0.12673968, 0.09626596, 0.11629601])"
      ]
     },
     "execution_count": 34,
     "metadata": {},
     "output_type": "execute_result"
    }
   ],
   "source": [
    "random_forest = RandomForestClassifier()\n",
    "random_forest.fit(X_train_sc, y_train)\n",
    "feature_importance = random_forest.feature_importances_\n",
    "feature_importance"
   ]
  },
  {
   "cell_type": "code",
   "execution_count": 35,
   "metadata": {},
   "outputs": [
    {
     "data": {
      "text/plain": [
       "array([0.00793779, 0.02150978, 0.01143288, 0.00622891, 0.01196912,\n",
       "       0.00435458, 0.00260397, 0.00873272, 0.0049703 , 0.0183759 ,\n",
       "       0.02314288, 0.0230195 , 0.01858849, 0.01782511, 0.01816815])"
      ]
     },
     "execution_count": 35,
     "metadata": {},
     "output_type": "execute_result"
    }
   ],
   "source": [
    "# error:\n",
    "std = np.std([tree.feature_importances_ for tree in random_forest.estimators_], axis=0)\n",
    "std"
   ]
  },
  {
   "cell_type": "code",
   "execution_count": 36,
   "metadata": {},
   "outputs": [
    {
     "data": {
      "text/html": [
       "<div>\n",
       "<style scoped>\n",
       "    .dataframe tbody tr th:only-of-type {\n",
       "        vertical-align: middle;\n",
       "    }\n",
       "\n",
       "    .dataframe tbody tr th {\n",
       "        vertical-align: top;\n",
       "    }\n",
       "\n",
       "    .dataframe thead th {\n",
       "        text-align: right;\n",
       "    }\n",
       "</style>\n",
       "<table border=\"1\" class=\"dataframe\">\n",
       "  <thead>\n",
       "    <tr style=\"text-align: right;\">\n",
       "      <th></th>\n",
       "      <th>feature</th>\n",
       "      <th>importance</th>\n",
       "      <th>error</th>\n",
       "    </tr>\n",
       "  </thead>\n",
       "  <tbody>\n",
       "    <tr>\n",
       "      <th>10</th>\n",
       "      <td>sysBP</td>\n",
       "      <td>0.131058</td>\n",
       "      <td>0.023143</td>\n",
       "    </tr>\n",
       "    <tr>\n",
       "      <th>1</th>\n",
       "      <td>age</td>\n",
       "      <td>0.129349</td>\n",
       "      <td>0.021510</td>\n",
       "    </tr>\n",
       "    <tr>\n",
       "      <th>12</th>\n",
       "      <td>BMI</td>\n",
       "      <td>0.126740</td>\n",
       "      <td>0.018588</td>\n",
       "    </tr>\n",
       "    <tr>\n",
       "      <th>11</th>\n",
       "      <td>diaBP</td>\n",
       "      <td>0.123241</td>\n",
       "      <td>0.023020</td>\n",
       "    </tr>\n",
       "    <tr>\n",
       "      <th>9</th>\n",
       "      <td>totChol</td>\n",
       "      <td>0.123050</td>\n",
       "      <td>0.018376</td>\n",
       "    </tr>\n",
       "    <tr>\n",
       "      <th>14</th>\n",
       "      <td>glucose</td>\n",
       "      <td>0.116296</td>\n",
       "      <td>0.018168</td>\n",
       "    </tr>\n",
       "    <tr>\n",
       "      <th>13</th>\n",
       "      <td>heartRate</td>\n",
       "      <td>0.096266</td>\n",
       "      <td>0.017825</td>\n",
       "    </tr>\n",
       "    <tr>\n",
       "      <th>4</th>\n",
       "      <td>cigsPerDay</td>\n",
       "      <td>0.049676</td>\n",
       "      <td>0.011969</td>\n",
       "    </tr>\n",
       "    <tr>\n",
       "      <th>2</th>\n",
       "      <td>education</td>\n",
       "      <td>0.037017</td>\n",
       "      <td>0.011433</td>\n",
       "    </tr>\n",
       "    <tr>\n",
       "      <th>0</th>\n",
       "      <td>male</td>\n",
       "      <td>0.020816</td>\n",
       "      <td>0.007938</td>\n",
       "    </tr>\n",
       "    <tr>\n",
       "      <th>7</th>\n",
       "      <td>prevalentHyp</td>\n",
       "      <td>0.017478</td>\n",
       "      <td>0.008733</td>\n",
       "    </tr>\n",
       "    <tr>\n",
       "      <th>3</th>\n",
       "      <td>currentSmoker</td>\n",
       "      <td>0.012629</td>\n",
       "      <td>0.006229</td>\n",
       "    </tr>\n",
       "    <tr>\n",
       "      <th>8</th>\n",
       "      <td>diabetes</td>\n",
       "      <td>0.007153</td>\n",
       "      <td>0.004970</td>\n",
       "    </tr>\n",
       "    <tr>\n",
       "      <th>5</th>\n",
       "      <td>BPMeds</td>\n",
       "      <td>0.006874</td>\n",
       "      <td>0.004355</td>\n",
       "    </tr>\n",
       "    <tr>\n",
       "      <th>6</th>\n",
       "      <td>prevalentStroke</td>\n",
       "      <td>0.002358</td>\n",
       "      <td>0.002604</td>\n",
       "    </tr>\n",
       "  </tbody>\n",
       "</table>\n",
       "</div>"
      ],
      "text/plain": [
       "            feature  importance     error\n",
       "10            sysBP    0.131058  0.023143\n",
       "1               age    0.129349  0.021510\n",
       "12              BMI    0.126740  0.018588\n",
       "11            diaBP    0.123241  0.023020\n",
       "9           totChol    0.123050  0.018376\n",
       "14          glucose    0.116296  0.018168\n",
       "13        heartRate    0.096266  0.017825\n",
       "4        cigsPerDay    0.049676  0.011969\n",
       "2         education    0.037017  0.011433\n",
       "0              male    0.020816  0.007938\n",
       "7      prevalentHyp    0.017478  0.008733\n",
       "3     currentSmoker    0.012629  0.006229\n",
       "8          diabetes    0.007153  0.004970\n",
       "5            BPMeds    0.006874  0.004355\n",
       "6   prevalentStroke    0.002358  0.002604"
      ]
     },
     "execution_count": 36,
     "metadata": {},
     "output_type": "execute_result"
    }
   ],
   "source": [
    "feature_names = data.columns\n",
    "\n",
    "data_to_plot = pd.DataFrame(columns = ['feature', 'importance', 'error'])\n",
    "\n",
    "for i in range(len(feature_importance)):\n",
    "    data_to_plot = data_to_plot.append({'feature': feature_names[i],\n",
    "                                        'importance': feature_importance[i],\n",
    "                                        'error': std[i]\n",
    "                                       }, ignore_index=True)    \n",
    "\n",
    "data_to_plot.sort_values(by = 'importance', axis=0, ascending=False, inplace=True)\n",
    "data_to_plot"
   ]
  },
  {
   "cell_type": "code",
   "execution_count": 37,
   "metadata": {},
   "outputs": [
    {
     "data": {
      "image/png": "[encoded data removed]",
      "text/plain": [
       "<Figure size 432x288 with 1 Axes>"
      ]
     },
     "metadata": {
      "needs_background": "light"
     },
     "output_type": "display_data"
    }
   ],
   "source": [
    "plt.figure()\n",
    "plt.title(\"Importancia de los features en RandomForest\")\n",
    "x_values = range(data_to_plot.shape[0])\n",
    "y_values = data_to_plot.importance\n",
    "y_err = data_to_plot.error\n",
    "plt.bar(x_values, y_values, color=\"r\", align=\"center\", yerr=y_err )\n",
    "plt.xticks(x_values, data_to_plot.feature, rotation=90)\n",
    "plt.show()"
   ]
  },
  {
   "cell_type": "markdown",
   "metadata": {},
   "source": [
    "## Referencias \n",
    "\n",
    "Cross Validation\n",
    "https://scikit-learn.org/stable/modules/cross_validation.html\n",
    "\n",
    "StratifiedKFold\n",
    "https://scikit-learn.org/stable/modules/generated/sklearn.model_selection.StratifiedKFold.html#sklearn.model_selection.StratifiedKFold\n",
    "\n",
    "Grid Search\n",
    "https://scikit-learn.org/stable/modules/grid_search.html#grid-search\n",
    "\n",
    "ROC\n",
    "https://scikit-learn.org/stable/auto_examples/model_selection/plot_roc_crossval.html#sphx-glr-auto-examples-model-selection-plot-roc-crossval-py\n",
    "\n",
    "BaggingClassifier\n",
    "https://scikit-learn.org/stable/modules/generated/sklearn.ensemble.BaggingClassifier.html\n"
   ]
  }
 ],
 "metadata": {
  "kernelspec": {
   "display_name": "Python [conda env:dhdsblend2021] *",
   "language": "python",
   "name": "conda-env-dhdsblend2021-py"
  },
  "language_info": {
   "codemirror_mode": {
    "name": "ipython",
    "version": 3
   },
   "file_extension": ".py",
   "mimetype": "text/x-python",
   "name": "python",
   "nbconvert_exporter": "python",
   "pygments_lexer": "ipython3",
   "version": "3.8.11"
  }
 },
 "nbformat": 4,
 "nbformat_minor": 4
}
