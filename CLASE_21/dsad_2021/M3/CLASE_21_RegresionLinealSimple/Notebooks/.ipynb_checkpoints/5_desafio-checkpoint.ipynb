{
 "cells": [
  {
   "cell_type": "code",
   "execution_count": 1,
   "metadata": {},
   "outputs": [
    {
     "name": "stdout",
     "output_type": "stream",
     "text": [
      "/Users/csuarezgurruchaga/Desktop/Digital-House/CLASE_21/dsad_2021/common\n",
      "default checking\n",
      "Running command `conda list`... ok\n",
      "jupyterlab=2.2.6 already installed\n",
      "pandas=1.1.5 already installed\n",
      "bokeh=2.2.3 already installed\n",
      "seaborn=0.11.0 already installed\n",
      "matplotlib=3.3.2 already installed\n",
      "ipywidgets=7.5.1 already installed\n",
      "pytest=6.2.1 already installed\n",
      "chardet=4.0.0 already installed\n",
      "psutil=5.7.2 already installed\n",
      "scipy=1.5.2 already installed\n",
      "statsmodels=0.12.1 already installed\n",
      "scikit-learn=0.23.2 already installed\n",
      "xlrd=2.0.1 already installed\n",
      "Running command `conda install --yes nltk=3.5.0`... ok\n",
      "Collecting package metadata (current_repodata.json): ...working... done\n",
      "Solving environment: ...working... done\n",
      "\n",
      "# All requested packages already installed.\n",
      "\n",
      "\n",
      "unidecode=1.1.1 already installed\n",
      "pydotplus=2.0.2 already installed\n",
      "pandas-datareader=0.9.0 already installed\n",
      "flask=1.1.2 already installed\n"
     ]
    }
   ],
   "source": [
    "# initial setup\n",
    "%run \"../../../common/0_notebooks_base_setup.py\"\n"
   ]
  },
  {
   "cell_type": "markdown",
   "metadata": {},
   "source": [
    "[<img src=\"https://www.digitalhouse.com/ar/logo-DH.png\" width=\"400\" height=\"200\" align='right'>](http://digitalhouse.com.ar/)"
   ]
  },
  {
   "cell_type": "markdown",
   "metadata": {},
   "source": [
    "# Regresión Lineal con scikit-learn y statsmodels  "
   ]
  },
  {
   "cell_type": "markdown",
   "metadata": {},
   "source": [
    "## Resumen\n",
    "\n",
    "\n",
    "<div>\n",
    "<img src=\"https://www.aboutbrasil.com/modules/images/Soccer_fans_Beer_Brazil.jpg\" width=\"200\"/>\n",
    "</div>\n",
    "\n",
    "La cerveza es una de las bebidas más consumidas del mundo, perfecta para casi cualquier situación. Alrededor del mundo miles de personas la consumen regularmente. Sin embargo, ¿alguna vez te has detenido a pensar qué países son la cerveza más consumidora del mundo? ¿El primero que se te ocurrió fue **Alemania**? Bueno, sé que no es así.\n",
    "\n",
    "\n",
    "\n",
    "La respuesta a esa pregunta es rotunda: la República Checa. Según una investigación de la compañía de bebidas japonesa [Kirin](https://www.kirinholdings.co.jp/english/news/2019/1224_01.html), el país ha encabezado la tabla de consumo de cerveza per cápita durante 26 años consecutivos.\n",
    "En 2019, el año más reciente para el que hay estadísticas disponibles, los checos bebieron 191 litros por persona!!! **CASI 200 litros!!!!**\n",
    "\n",
    "### Acerca del dataset\n",
    "\n",
    "\n",
    "Los datos (muestra) fueron recolectados en São Paulo - Brasil, en un área universitaria, donde hay algunas fiestas con grupos de estudiantes de 18 a 28 años de edad (promedio). El conjunto de datos utilizado para esta actividad tiene 7 atributos, siendo un Objetivo, con un período de un año. Los datos o recursos te los podes descarfar desde [aqui](https://www.kaggle.com/dongeorge/beer-consumption-sao-paulo)\n"
   ]
  },
  {
   "cell_type": "code",
   "execution_count": 2,
   "metadata": {
    "_cell_guid": "b1076dfc-b9ad-4769-8c92-a6c4dae69d19",
    "_uuid": "8f2839f25d086af736a60e9eeb907d3b93b6e0e5"
   },
   "outputs": [
    {
     "data": {
      "text/html": [
       "        <script type=\"text/javascript\">\n",
       "        window.PlotlyConfig = {MathJaxConfig: 'local'};\n",
       "        if (window.MathJax) {MathJax.Hub.Config({SVG: {font: \"STIX-Web\"}});}\n",
       "        if (typeof require !== 'undefined') {\n",
       "        require.undef(\"plotly\");\n",
       "        requirejs.config({\n",
       "            paths: {\n",
       "                'plotly': ['https://cdn.plot.ly/plotly-latest.min']\n",
       "            }\n",
       "        });\n",
       "        require(['plotly'], function(Plotly) {\n",
       "            window._Plotly = Plotly;\n",
       "        });\n",
       "        }\n",
       "        </script>\n",
       "        "
      ]
     },
     "metadata": {},
     "output_type": "display_data"
    }
   ],
   "source": [
    "import numpy as np # linear algebra\n",
    "import pandas as pd # data processing, CSV file I/O (e.g. pd.read_csv)\n",
    "import seaborn as sns\n",
    "import matplotlib.pyplot as plt\n",
    "from collections import Counter\n",
    "%matplotlib inline\n",
    "from plotly.offline import download_plotlyjs, init_notebook_mode, plot, iplot\n",
    "import plotly as py\n",
    "import plotly.graph_objs as go\n",
    "init_notebook_mode(connected=True) #do not miss this line\n",
    "import warnings\n",
    "\n",
    "warnings.filterwarnings('ignore')\n",
    "\n"
   ]
  },
  {
   "cell_type": "code",
   "execution_count": 3,
   "metadata": {
    "_cell_guid": "79c7e3d0-c299-4dcb-8224-4455121ee9b0",
    "_uuid": "d629ff2d2480ee46fbb7e2d37f6b5fab8052498a"
   },
   "outputs": [],
   "source": [
    "data=pd.read_csv(\"../Data/Consumo_cerveja.csv\",parse_dates=['Fecha'])"
   ]
  },
  {
   "cell_type": "code",
   "execution_count": 4,
   "metadata": {},
   "outputs": [
    {
     "name": "stdout",
     "output_type": "stream",
     "text": [
      "<class 'pandas.core.frame.DataFrame'>\n",
      "RangeIndex: 365 entries, 0 to 364\n",
      "Data columns (total 7 columns):\n",
      " #   Column              Non-Null Count  Dtype         \n",
      "---  ------              --------------  -----         \n",
      " 0   Fecha               365 non-null    datetime64[ns]\n",
      " 1   Temperatura_Media   365 non-null    float64       \n",
      " 2   Temperatura_Minima  365 non-null    float64       \n",
      " 3   Temperatura_Maxima  365 non-null    float64       \n",
      " 4   Precipitac          365 non-null    float64       \n",
      " 5   Fin_de_Semana       365 non-null    float64       \n",
      " 6   Consumo_de_cerveza  365 non-null    float64       \n",
      "dtypes: datetime64[ns](1), float64(6)\n",
      "memory usage: 20.1 KB\n"
     ]
    }
   ],
   "source": [
    "data.info()"
   ]
  },
  {
   "cell_type": "code",
   "execution_count": 5,
   "metadata": {},
   "outputs": [
    {
     "data": {
      "text/html": [
       "<div>\n",
       "<style scoped>\n",
       "    .dataframe tbody tr th:only-of-type {\n",
       "        vertical-align: middle;\n",
       "    }\n",
       "\n",
       "    .dataframe tbody tr th {\n",
       "        vertical-align: top;\n",
       "    }\n",
       "\n",
       "    .dataframe thead th {\n",
       "        text-align: right;\n",
       "    }\n",
       "</style>\n",
       "<table border=\"1\" class=\"dataframe\">\n",
       "  <thead>\n",
       "    <tr style=\"text-align: right;\">\n",
       "      <th></th>\n",
       "      <th>Fecha</th>\n",
       "      <th>Temperatura_Media</th>\n",
       "      <th>Temperatura_Minima</th>\n",
       "      <th>Temperatura_Maxima</th>\n",
       "      <th>Precipitac</th>\n",
       "      <th>Fin_de_Semana</th>\n",
       "      <th>Consumo_de_cerveza</th>\n",
       "    </tr>\n",
       "  </thead>\n",
       "  <tbody>\n",
       "    <tr>\n",
       "      <th>0</th>\n",
       "      <td>2015-01-01</td>\n",
       "      <td>27.30</td>\n",
       "      <td>23.9</td>\n",
       "      <td>32.5</td>\n",
       "      <td>0.0</td>\n",
       "      <td>0.0</td>\n",
       "      <td>25.461</td>\n",
       "    </tr>\n",
       "    <tr>\n",
       "      <th>1</th>\n",
       "      <td>2015-01-02</td>\n",
       "      <td>27.02</td>\n",
       "      <td>24.5</td>\n",
       "      <td>33.5</td>\n",
       "      <td>0.0</td>\n",
       "      <td>0.0</td>\n",
       "      <td>28.972</td>\n",
       "    </tr>\n",
       "    <tr>\n",
       "      <th>2</th>\n",
       "      <td>2015-01-03</td>\n",
       "      <td>24.82</td>\n",
       "      <td>22.4</td>\n",
       "      <td>29.9</td>\n",
       "      <td>0.0</td>\n",
       "      <td>1.0</td>\n",
       "      <td>30.814</td>\n",
       "    </tr>\n",
       "    <tr>\n",
       "      <th>3</th>\n",
       "      <td>2015-01-04</td>\n",
       "      <td>23.98</td>\n",
       "      <td>21.5</td>\n",
       "      <td>28.6</td>\n",
       "      <td>1.2</td>\n",
       "      <td>1.0</td>\n",
       "      <td>29.799</td>\n",
       "    </tr>\n",
       "    <tr>\n",
       "      <th>4</th>\n",
       "      <td>2015-01-05</td>\n",
       "      <td>23.82</td>\n",
       "      <td>21.0</td>\n",
       "      <td>28.3</td>\n",
       "      <td>0.0</td>\n",
       "      <td>0.0</td>\n",
       "      <td>28.900</td>\n",
       "    </tr>\n",
       "  </tbody>\n",
       "</table>\n",
       "</div>"
      ],
      "text/plain": [
       "       Fecha  Temperatura_Media  Temperatura_Minima  Temperatura_Maxima  \\\n",
       "0 2015-01-01              27.30                23.9                32.5   \n",
       "1 2015-01-02              27.02                24.5                33.5   \n",
       "2 2015-01-03              24.82                22.4                29.9   \n",
       "3 2015-01-04              23.98                21.5                28.6   \n",
       "4 2015-01-05              23.82                21.0                28.3   \n",
       "\n",
       "   Precipitac  Fin_de_Semana  Consumo_de_cerveza  \n",
       "0         0.0            0.0              25.461  \n",
       "1         0.0            0.0              28.972  \n",
       "2         0.0            1.0              30.814  \n",
       "3         1.2            1.0              29.799  \n",
       "4         0.0            0.0              28.900  "
      ]
     },
     "execution_count": 5,
     "metadata": {},
     "output_type": "execute_result"
    }
   ],
   "source": [
    "data.head()"
   ]
  },
  {
   "cell_type": "code",
   "execution_count": 6,
   "metadata": {},
   "outputs": [
    {
     "data": {
      "text/html": [
       "<div>\n",
       "<style scoped>\n",
       "    .dataframe tbody tr th:only-of-type {\n",
       "        vertical-align: middle;\n",
       "    }\n",
       "\n",
       "    .dataframe tbody tr th {\n",
       "        vertical-align: top;\n",
       "    }\n",
       "\n",
       "    .dataframe thead th {\n",
       "        text-align: right;\n",
       "    }\n",
       "</style>\n",
       "<table border=\"1\" class=\"dataframe\">\n",
       "  <thead>\n",
       "    <tr style=\"text-align: right;\">\n",
       "      <th></th>\n",
       "      <th>Temperatura_Media</th>\n",
       "      <th>Temperatura_Minima</th>\n",
       "      <th>Temperatura_Maxima</th>\n",
       "      <th>Precipitac</th>\n",
       "      <th>Fin_de_Semana</th>\n",
       "      <th>Consumo_de_cerveza</th>\n",
       "    </tr>\n",
       "  </thead>\n",
       "  <tbody>\n",
       "    <tr>\n",
       "      <th>Temperatura_Media</th>\n",
       "      <td>1.000000</td>\n",
       "      <td>0.862752</td>\n",
       "      <td>0.922513</td>\n",
       "      <td>0.024416</td>\n",
       "      <td>-0.050803</td>\n",
       "      <td>0.574615</td>\n",
       "    </tr>\n",
       "    <tr>\n",
       "      <th>Temperatura_Minima</th>\n",
       "      <td>0.862752</td>\n",
       "      <td>1.000000</td>\n",
       "      <td>0.672929</td>\n",
       "      <td>0.098625</td>\n",
       "      <td>-0.059534</td>\n",
       "      <td>0.392509</td>\n",
       "    </tr>\n",
       "    <tr>\n",
       "      <th>Temperatura_Maxima</th>\n",
       "      <td>0.922513</td>\n",
       "      <td>0.672929</td>\n",
       "      <td>1.000000</td>\n",
       "      <td>-0.049305</td>\n",
       "      <td>-0.040258</td>\n",
       "      <td>0.642672</td>\n",
       "    </tr>\n",
       "    <tr>\n",
       "      <th>Precipitac</th>\n",
       "      <td>0.024416</td>\n",
       "      <td>0.098625</td>\n",
       "      <td>-0.049305</td>\n",
       "      <td>1.000000</td>\n",
       "      <td>0.001587</td>\n",
       "      <td>-0.193784</td>\n",
       "    </tr>\n",
       "    <tr>\n",
       "      <th>Fin_de_Semana</th>\n",
       "      <td>-0.050803</td>\n",
       "      <td>-0.059534</td>\n",
       "      <td>-0.040258</td>\n",
       "      <td>0.001587</td>\n",
       "      <td>1.000000</td>\n",
       "      <td>0.505981</td>\n",
       "    </tr>\n",
       "    <tr>\n",
       "      <th>Consumo_de_cerveza</th>\n",
       "      <td>0.574615</td>\n",
       "      <td>0.392509</td>\n",
       "      <td>0.642672</td>\n",
       "      <td>-0.193784</td>\n",
       "      <td>0.505981</td>\n",
       "      <td>1.000000</td>\n",
       "    </tr>\n",
       "  </tbody>\n",
       "</table>\n",
       "</div>"
      ],
      "text/plain": [
       "                    Temperatura_Media  Temperatura_Minima  Temperatura_Maxima  \\\n",
       "Temperatura_Media            1.000000            0.862752            0.922513   \n",
       "Temperatura_Minima           0.862752            1.000000            0.672929   \n",
       "Temperatura_Maxima           0.922513            0.672929            1.000000   \n",
       "Precipitac                   0.024416            0.098625           -0.049305   \n",
       "Fin_de_Semana               -0.050803           -0.059534           -0.040258   \n",
       "Consumo_de_cerveza           0.574615            0.392509            0.642672   \n",
       "\n",
       "                    Precipitac  Fin_de_Semana  Consumo_de_cerveza  \n",
       "Temperatura_Media     0.024416      -0.050803            0.574615  \n",
       "Temperatura_Minima    0.098625      -0.059534            0.392509  \n",
       "Temperatura_Maxima   -0.049305      -0.040258            0.642672  \n",
       "Precipitac            1.000000       0.001587           -0.193784  \n",
       "Fin_de_Semana         0.001587       1.000000            0.505981  \n",
       "Consumo_de_cerveza   -0.193784       0.505981            1.000000  "
      ]
     },
     "execution_count": 6,
     "metadata": {},
     "output_type": "execute_result"
    }
   ],
   "source": [
    "data.corr()"
   ]
  },
  {
   "cell_type": "markdown",
   "metadata": {},
   "source": [
    "### ¿ Qué dia de la semana ?"
   ]
  },
  {
   "cell_type": "code",
   "execution_count": 7,
   "metadata": {},
   "outputs": [],
   "source": [
    "data['dia_semana']=data.Fin_de_Semana.apply(lambda x: 'Dia_de_Semana' if x==0 else 'Fin_de_semana')"
   ]
  },
  {
   "cell_type": "code",
   "execution_count": 16,
   "metadata": {},
   "outputs": [
    {
     "data": {
      "text/plain": [
       "Text(0, 0.5, 'Consumo de cerveza')"
      ]
     },
     "execution_count": 16,
     "metadata": {},
     "output_type": "execute_result"
    },
    {
     "data": {
      "image/png": "[encoded data removed]",
      "text/plain": [
       "<Figure size 432x288 with 1 Axes>"
      ]
     },
     "metadata": {
      "needs_background": "light"
     },
     "output_type": "display_data"
    }
   ],
   "source": [
    "# violin plot\n",
    "\n",
    "sns.violinplot(x=\"dia_semana\", y=\"Consumo_de_cerveza\",data=data)\n",
    "plt.title(\"Consumo de cervaza por segun dia de la semana.\")\n",
    "plt.xlabel('dia_semana vs fin_de_semana')\n",
    "plt.ylabel(\"Consumo de cerveza\")"
   ]
  },
  {
   "cell_type": "markdown",
   "metadata": {},
   "source": [
    "## Distribución del consumo semanal.\n",
    "\n",
    "Representemos en un gráfico de torta la distribución del consumo semanal en la categorías semana y fin de semana."
   ]
  },
  {
   "cell_type": "code",
   "execution_count": 19,
   "metadata": {},
   "outputs": [
    {
     "data": {
      "application/vnd.plotly.v1+json": {
       "config": {
        "plotlyServerURL": "https://plotly.com"
       },
       "data": [
        {
         "domain": {
          "x": [
           0,
           1
          ],
          "y": [
           0,
           1
          ]
         },
         "hovertemplate": "dia_semana=%{label}<br>Consumo_de_cerveza=%{value}<extra></extra>",
         "labels": [
          "Dia_de_Semana",
          "Dia_de_Semana",
          "Fin_de_semana",
          "Fin_de_semana",
          "Dia_de_Semana",
          "Dia_de_Semana",
          "Dia_de_Semana",
          "Dia_de_Semana",
          "Dia_de_Semana",
          "Fin_de_semana",
          "Fin_de_semana",
          "Dia_de_Semana",
          "Dia_de_Semana",
          "Dia_de_Semana",
          "Dia_de_Semana",
          "Dia_de_Semana",
          "Fin_de_semana",
          "Fin_de_semana",
          "Dia_de_Semana",
          "Dia_de_Semana",
          "Dia_de_Semana",
          "Dia_de_Semana",
          "Dia_de_Semana",
          "Fin_de_semana",
          "Fin_de_semana",
          "Dia_de_Semana",
          "Dia_de_Semana",
          "Dia_de_Semana",
          "Dia_de_Semana",
          "Dia_de_Semana",
          "Fin_de_semana",
          "Fin_de_semana",
          "Dia_de_Semana",
          "Dia_de_Semana",
          "Dia_de_Semana",
          "Dia_de_Semana",
          "Dia_de_Semana",
          "Fin_de_semana",
          "Fin_de_semana",
          "Dia_de_Semana",
          "Dia_de_Semana",
          "Dia_de_Semana",
          "Dia_de_Semana",
          "Dia_de_Semana",
          "Fin_de_semana",
          "Fin_de_semana",
          "Dia_de_Semana",
          "Dia_de_Semana",
          "Dia_de_Semana",
          "Dia_de_Semana",
          "Dia_de_Semana",
          "Fin_de_semana",
          "Fin_de_semana",
          "Dia_de_Semana",
          "Dia_de_Semana",
          "Dia_de_Semana",
          "Dia_de_Semana",
          "Dia_de_Semana",
          "Fin_de_semana",
          "Fin_de_semana",
          "Dia_de_Semana",
          "Dia_de_Semana",
          "Dia_de_Semana",
          "Dia_de_Semana",
          "Dia_de_Semana",
          "Fin_de_semana",
          "Fin_de_semana",
          "Dia_de_Semana",
          "Dia_de_Semana",
          "Dia_de_Semana",
          "Dia_de_Semana",
          "Dia_de_Semana",
          "Fin_de_semana",
          "Fin_de_semana",
          "Dia_de_Semana",
          "Dia_de_Semana",
          "Dia_de_Semana",
          "Dia_de_Semana",
          "Dia_de_Semana",
          "Fin_de_semana",
          "Fin_de_semana",
          "Dia_de_Semana",
          "Dia_de_Semana",
          "Dia_de_Semana",
          "Dia_de_Semana",
          "Dia_de_Semana",
          "Fin_de_semana",
          "Fin_de_semana",
          "Dia_de_Semana",
          "Dia_de_Semana",
          "Dia_de_Semana",
          "Dia_de_Semana",
          "Dia_de_Semana",
          "Fin_de_semana",
          "Fin_de_semana",
          "Dia_de_Semana",
          "Dia_de_Semana",
          "Dia_de_Semana",
          "Dia_de_Semana",
          "Dia_de_Semana",
          "Fin_de_semana",
          "Fin_de_semana",
          "Dia_de_Semana",
          "Dia_de_Semana",
          "Dia_de_Semana",
          "Dia_de_Semana",
          "Dia_de_Semana",
          "Fin_de_semana",
          "Fin_de_semana",
          "Dia_de_Semana",
          "Dia_de_Semana",
          "Dia_de_Semana",
          "Dia_de_Semana",
          "Dia_de_Semana",
          "Fin_de_semana",
          "Fin_de_semana",
          "Dia_de_Semana",
          "Dia_de_Semana",
          "Dia_de_Semana",
          "Dia_de_Semana",
          "Dia_de_Semana",
          "Fin_de_semana",
          "Fin_de_semana",
          "Dia_de_Semana",
          "Dia_de_Semana",
          "Dia_de_Semana",
          "Dia_de_Semana",
          "Dia_de_Semana",
          "Fin_de_semana",
          "Fin_de_semana",
          "Dia_de_Semana",
          "Dia_de_Semana",
          "Dia_de_Semana",
          "Dia_de_Semana",
          "Dia_de_Semana",
          "Fin_de_semana",
          "Fin_de_semana",
          "Dia_de_Semana",
          "Dia_de_Semana",
          "Dia_de_Semana",
          "Dia_de_Semana",
          "Dia_de_Semana",
          "Fin_de_semana",
          "Fin_de_semana",
          "Dia_de_Semana",
          "Dia_de_Semana",
          "Dia_de_Semana",
          "Dia_de_Semana",
          "Dia_de_Semana",
          "Fin_de_semana",
          "Fin_de_semana",
          "Dia_de_Semana",
          "Dia_de_Semana",
          "Dia_de_Semana",
          "Dia_de_Semana",
          "Dia_de_Semana",
          "Fin_de_semana",
          "Fin_de_semana",
          "Dia_de_Semana",
          "Dia_de_Semana",
          "Dia_de_Semana",
          "Dia_de_Semana",
          "Dia_de_Semana",
          "Fin_de_semana",
          "Fin_de_semana",
          "Dia_de_Semana",
          "Dia_de_Semana",
          "Dia_de_Semana",
          "Dia_de_Semana",
          "Dia_de_Semana",
          "Fin_de_semana",
          "Fin_de_semana",
          "Dia_de_Semana",
          "Dia_de_Semana",
          "Dia_de_Semana",
          "Dia_de_Semana",
          "Dia_de_Semana",
          "Fin_de_semana",
          "Fin_de_semana",
          "Dia_de_Semana",
          "Dia_de_Semana",
          "Dia_de_Semana",
          "Dia_de_Semana",
          "Dia_de_Semana",
          "Fin_de_semana",
          "Fin_de_semana",
          "Dia_de_Semana",
          "Dia_de_Semana",
          "Dia_de_Semana",
          "Dia_de_Semana",
          "Dia_de_Semana",
          "Fin_de_semana",
          "Fin_de_semana",
          "Dia_de_Semana",
          "Dia_de_Semana",
          "Dia_de_Semana",
          "Dia_de_Semana",
          "Dia_de_Semana",
          "Fin_de_semana",
          "Fin_de_semana",
          "Dia_de_Semana",
          "Dia_de_Semana",
          "Dia_de_Semana",
          "Dia_de_Semana",
          "Dia_de_Semana",
          "Fin_de_semana",
          "Fin_de_semana",
          "Dia_de_Semana",
          "Dia_de_Semana",
          "Dia_de_Semana",
          "Dia_de_Semana",
          "Dia_de_Semana",
          "Fin_de_semana",
          "Fin_de_semana",
          "Dia_de_Semana",
          "Dia_de_Semana",
          "Dia_de_Semana",
          "Dia_de_Semana",
          "Dia_de_Semana",
          "Fin_de_semana",
          "Fin_de_semana",
          "Dia_de_Semana",
          "Dia_de_Semana",
          "Dia_de_Semana",
          "Dia_de_Semana",
          "Dia_de_Semana",
          "Fin_de_semana",
          "Fin_de_semana",
          "Dia_de_Semana",
          "Dia_de_Semana",
          "Dia_de_Semana",
          "Dia_de_Semana",
          "Dia_de_Semana",
          "Fin_de_semana",
          "Fin_de_semana",
          "Dia_de_Semana",
          "Dia_de_Semana",
          "Dia_de_Semana",
          "Dia_de_Semana",
          "Dia_de_Semana",
          "Fin_de_semana",
          "Fin_de_semana",
          "Dia_de_Semana",
          "Dia_de_Semana",
          "Dia_de_Semana",
          "Dia_de_Semana",
          "Dia_de_Semana",
          "Fin_de_semana",
          "Fin_de_semana",
          "Dia_de_Semana",
          "Dia_de_Semana",
          "Dia_de_Semana",
          "Dia_de_Semana",
          "Dia_de_Semana",
          "Fin_de_semana",
          "Fin_de_semana",
          "Dia_de_Semana",
          "Dia_de_Semana",
          "Dia_de_Semana",
          "Dia_de_Semana",
          "Dia_de_Semana",
          "Fin_de_semana",
          "Fin_de_semana",
          "Dia_de_Semana",
          "Dia_de_Semana",
          "Dia_de_Semana",
          "Dia_de_Semana",
          "Dia_de_Semana",
          "Fin_de_semana",
          "Fin_de_semana",
          "Dia_de_Semana",
          "Dia_de_Semana",
          "Dia_de_Semana",
          "Dia_de_Semana",
          "Dia_de_Semana",
          "Fin_de_semana",
          "Fin_de_semana",
          "Dia_de_Semana",
          "Dia_de_Semana",
          "Dia_de_Semana",
          "Dia_de_Semana",
          "Dia_de_Semana",
          "Fin_de_semana",
          "Fin_de_semana",
          "Dia_de_Semana",
          "Dia_de_Semana",
          "Dia_de_Semana",
          "Dia_de_Semana",
          "Dia_de_Semana",
          "Fin_de_semana",
          "Fin_de_semana",
          "Dia_de_Semana",
          "Dia_de_Semana",
          "Dia_de_Semana",
          "Dia_de_Semana",
          "Dia_de_Semana",
          "Fin_de_semana",
          "Fin_de_semana",
          "Dia_de_Semana",
          "Dia_de_Semana",
          "Dia_de_Semana",
          "Dia_de_Semana",
          "Dia_de_Semana",
          "Fin_de_semana",
          "Fin_de_semana",
          "Dia_de_Semana",
          "Dia_de_Semana",
          "Dia_de_Semana",
          "Dia_de_Semana",
          "Dia_de_Semana",
          "Fin_de_semana",
          "Fin_de_semana",
          "Dia_de_Semana",
          "Dia_de_Semana",
          "Dia_de_Semana",
          "Dia_de_Semana",
          "Dia_de_Semana",
          "Fin_de_semana",
          "Fin_de_semana",
          "Dia_de_Semana",
          "Dia_de_Semana",
          "Dia_de_Semana",
          "Dia_de_Semana",
          "Dia_de_Semana",
          "Fin_de_semana",
          "Fin_de_semana",
          "Dia_de_Semana",
          "Dia_de_Semana",
          "Dia_de_Semana",
          "Dia_de_Semana",
          "Dia_de_Semana",
          "Fin_de_semana",
          "Fin_de_semana",
          "Dia_de_Semana",
          "Dia_de_Semana",
          "Dia_de_Semana",
          "Dia_de_Semana",
          "Dia_de_Semana",
          "Fin_de_semana",
          "Fin_de_semana",
          "Dia_de_Semana",
          "Dia_de_Semana",
          "Dia_de_Semana",
          "Dia_de_Semana",
          "Dia_de_Semana",
          "Fin_de_semana",
          "Fin_de_semana",
          "Dia_de_Semana",
          "Dia_de_Semana",
          "Dia_de_Semana",
          "Dia_de_Semana",
          "Dia_de_Semana",
          "Fin_de_semana",
          "Fin_de_semana",
          "Dia_de_Semana",
          "Dia_de_Semana",
          "Dia_de_Semana",
          "Dia_de_Semana",
          "Dia_de_Semana",
          "Fin_de_semana",
          "Fin_de_semana",
          "Dia_de_Semana",
          "Dia_de_Semana",
          "Dia_de_Semana",
          "Dia_de_Semana"
         ],
         "legendgroup": "",
         "name": "",
         "showlegend": true,
         "type": "pie",
         "values": [
          25.461,
          28.971999999999998,
          30.814,
          29.799,
          28.9,
          28.218000000000004,
          29.732,
          28.397,
          24.886,
          37.937,
          36.254,
          25.743000000000002,
          26.99,
          31.825,
          25.724,
          29.938000000000002,
          37.69,
          30.524,
          29.265,
          35.126999999999995,
          29.13,
          25.795,
          21.784000000000002,
          28.348000000000003,
          31.088,
          21.52,
          29.971999999999998,
          22.603,
          22.695999999999998,
          26.845,
          27.03,
          32.056999999999995,
          24.096999999999998,
          31.655,
          24.738000000000003,
          19.95,
          22.820999999999998,
          28.893,
          29.926,
          24.061999999999998,
          21.136999999999997,
          26.805,
          26.389,
          24.219,
          30.230999999999998,
          24.968000000000004,
          25.343000000000004,
          17.399,
          21.392,
          22.921999999999997,
          24.566999999999997,
          30.943,
          30.825,
          25.691999999999997,
          26.959,
          25.366,
          22.784000000000002,
          26.241,
          26.467,
          27.475,
          28.749000000000002,
          24.146,
          22.988000000000003,
          30.3,
          22.654,
          29.09,
          24.619,
          20.016,
          23.041999999999998,
          22.933000000000003,
          22.409000000000002,
          21.281,
          28.844,
          32.872,
          20.903000000000002,
          26.275,
          20.167,
          23.628,
          24.213,
          28.631,
          25.855,
          21.406,
          21.616999999999997,
          22.401,
          27.989,
          24.974,
          29.76,
          26.116,
          25.85,
          24.925,
          21.979,
          22.116,
          24.866999999999997,
          33.45,
          32.713,
          22.355999999999998,
          21.004,
          23.362,
          20.298,
          24.862,
          30.505,
          25.07,
          22.62,
          22.000999999999998,
          23.469,
          21.735,
          21.593000000000004,
          33.821999999999996,
          28.028000000000002,
          24.304000000000002,
          31.108,
          19.113,
          23.198,
          24.388,
          27.42,
          30.479,
          21.838,
          20.811999999999998,
          19.761,
          20.452,
          17.939,
          25.272,
          28.049,
          25.316999999999997,
          21.826,
          20.68,
          19.143,
          18.146,
          25.489,
          23.537,
          16.956,
          19.052,
          17.287,
          20.3,
          20.538,
          23.701999999999998,
          28.410999999999998,
          21.073,
          24.215,
          19.525,
          20.785999999999998,
          20.429000000000002,
          27.25,
          31.386999999999997,
          26.075,
          22.162,
          24.258000000000003,
          24.683000000000003,
          21.245,
          25.936999999999998,
          26.081,
          16.227999999999998,
          20.105999999999998,
          21.055,
          22.772,
          25.142,
          31.129,
          30.498,
          26.15,
          21.326999999999998,
          22.008000000000003,
          24.615,
          22.375,
          29.607,
          32.983000000000004,
          19.119,
          21.029,
          23.898000000000003,
          24.534000000000002,
          16.748,
          23.055,
          28.857,
          23.022,
          27.146,
          17.241,
          19.463,
          21.86,
          24.226999999999997,
          27.594,
          24.863000000000003,
          20.160999999999998,
          20.824,
          19.727,
          14.94,
          24.631999999999998,
          21.294,
          18.448,
          21.237,
          19.849,
          20.74,
          25.698,
          26.691,
          33.298,
          25.64,
          23.936999999999998,
          28.741999999999997,
          21.748,
          22.031999999999996,
          24.826999999999998,
          32.473,
          20.62,
          21.825,
          14.343,
          19.029,
          21.104,
          20.738000000000003,
          25.233,
          18.975,
          19.64,
          22.522,
          24.226999999999997,
          24.726,
          32.467,
          31.663,
          25.866999999999997,
          27.724,
          22.039,
          26.127,
          26.58,
          31.31,
          33.516999999999996,
          23.180999999999997,
          24.183000000000003,
          24.594,
          22.61,
          25.479,
          29.621,
          26.272,
          22.541,
          23.07,
          26.021,
          17.655,
          23.243000000000002,
          30.177,
          27.518,
          23.21,
          21.092,
          23.357,
          17.887999999999998,
          22.217,
          31.680999999999997,
          31.833000000000002,
          28.441,
          22.389,
          20.680999999999997,
          24.221999999999998,
          19.345,
          21.826999999999998,
          23.566,
          20.227,
          17.075,
          16.977,
          21.525,
          21.454,
          21.814,
          21.252,
          20.464000000000002,
          30.775,
          25.343000000000004,
          33.93,
          26.311,
          31.836,
          34.695,
          29.829,
          26.362,
          32.589,
          30.345,
          29.410999999999998,
          29.636999999999997,
          32.184,
          17.730999999999998,
          24.114,
          28.034000000000002,
          22.664,
          27.488000000000003,
          24.875999999999998,
          24.862,
          24.679000000000002,
          22.304000000000002,
          30.329,
          33.181999999999995,
          23.849,
          33.33,
          34.496,
          26.249000000000002,
          26.523000000000003,
          26.793000000000003,
          35.861,
          27.386999999999997,
          32.666,
          22.199,
          24,
          27.871,
          31.139,
          23.065,
          26.594,
          27.656999999999996,
          26.594,
          28.084,
          27.581999999999997,
          24.862,
          22.634,
          31.649,
          35.781,
          24.429000000000002,
          20.648000000000003,
          22.741,
          21.479,
          23.134,
          20.575,
          24.33,
          28.61,
          28.456,
          27.964000000000002,
          29.569000000000003,
          29.267,
          28.647,
          26.836,
          29.386,
          24.609,
          26.964000000000002,
          23.614,
          22.96,
          20.332,
          30.392,
          31.933000000000003,
          21.662,
          21.689,
          25.119,
          25.285,
          28.979,
          34.382,
          30.616999999999997,
          20.238,
          24.529,
          30.471,
          28.405,
          29.513,
          32.451,
          32.78,
          23.375,
          27.713,
          27.136999999999997,
          22.933000000000003,
          30.74,
          29.579,
          29.188000000000002,
          28.131,
          28.616999999999997,
          21.061999999999998,
          24.337,
          27.041999999999998,
          32.536,
          30.127,
          24.834,
          26.828000000000003,
          26.468000000000004,
          31.572,
          26.308000000000003,
          21.955,
          32.306999999999995,
          26.095,
          22.309,
          20.467,
          22.445999999999998
         ]
        }
       ],
       "layout": {
        "autosize": true,
        "legend": {
         "tracegroupgap": 0
        },
        "template": {
         "data": {
          "bar": [
           {
            "error_x": {
             "color": "#2a3f5f"
            },
            "error_y": {
             "color": "#2a3f5f"
            },
            "marker": {
             "line": {
              "color": "#E5ECF6",
              "width": 0.5
             }
            },
            "type": "bar"
           }
          ],
          "barpolar": [
           {
            "marker": {
             "line": {
              "color": "#E5ECF6",
              "width": 0.5
             }
            },
            "type": "barpolar"
           }
          ],
          "carpet": [
           {
            "aaxis": {
             "endlinecolor": "#2a3f5f",
             "gridcolor": "white",
             "linecolor": "white",
             "minorgridcolor": "white",
             "startlinecolor": "#2a3f5f"
            },
            "baxis": {
             "endlinecolor": "#2a3f5f",
             "gridcolor": "white",
             "linecolor": "white",
             "minorgridcolor": "white",
             "startlinecolor": "#2a3f5f"
            },
            "type": "carpet"
           }
          ],
          "choropleth": [
           {
            "colorbar": {
             "outlinewidth": 0,
             "ticks": ""
            },
            "type": "choropleth"
           }
          ],
          "contour": [
           {
            "colorbar": {
             "outlinewidth": 0,
             "ticks": ""
            },
            "colorscale": [
             [
              0,
              "#0d0887"
             ],
             [
              0.1111111111111111,
              "#46039f"
             ],
             [
              0.2222222222222222,
              "#7201a8"
             ],
             [
              0.3333333333333333,
              "#9c179e"
             ],
             [
              0.4444444444444444,
              "#bd3786"
             ],
             [
              0.5555555555555556,
              "#d8576b"
             ],
             [
              0.6666666666666666,
              "#ed7953"
             ],
             [
              0.7777777777777778,
              "#fb9f3a"
             ],
             [
              0.8888888888888888,
              "#fdca26"
             ],
             [
              1,
              "#f0f921"
             ]
            ],
            "type": "contour"
           }
          ],
          "contourcarpet": [
           {
            "colorbar": {
             "outlinewidth": 0,
             "ticks": ""
            },
            "type": "contourcarpet"
           }
          ],
          "heatmap": [
           {
            "colorbar": {
             "outlinewidth": 0,
             "ticks": ""
            },
            "colorscale": [
             [
              0,
              "#0d0887"
             ],
             [
              0.1111111111111111,
              "#46039f"
             ],
             [
              0.2222222222222222,
              "#7201a8"
             ],
             [
              0.3333333333333333,
              "#9c179e"
             ],
             [
              0.4444444444444444,
              "#bd3786"
             ],
             [
              0.5555555555555556,
              "#d8576b"
             ],
             [
              0.6666666666666666,
              "#ed7953"
             ],
             [
              0.7777777777777778,
              "#fb9f3a"
             ],
             [
              0.8888888888888888,
              "#fdca26"
             ],
             [
              1,
              "#f0f921"
             ]
            ],
            "type": "heatmap"
           }
          ],
          "heatmapgl": [
           {
            "colorbar": {
             "outlinewidth": 0,
             "ticks": ""
            },
            "colorscale": [
             [
              0,
              "#0d0887"
             ],
             [
              0.1111111111111111,
              "#46039f"
             ],
             [
              0.2222222222222222,
              "#7201a8"
             ],
             [
              0.3333333333333333,
              "#9c179e"
             ],
             [
              0.4444444444444444,
              "#bd3786"
             ],
             [
              0.5555555555555556,
              "#d8576b"
             ],
             [
              0.6666666666666666,
              "#ed7953"
             ],
             [
              0.7777777777777778,
              "#fb9f3a"
             ],
             [
              0.8888888888888888,
              "#fdca26"
             ],
             [
              1,
              "#f0f921"
             ]
            ],
            "type": "heatmapgl"
           }
          ],
          "histogram": [
           {
            "marker": {
             "colorbar": {
              "outlinewidth": 0,
              "ticks": ""
             }
            },
            "type": "histogram"
           }
          ],
          "histogram2d": [
           {
            "colorbar": {
             "outlinewidth": 0,
             "ticks": ""
            },
            "colorscale": [
             [
              0,
              "#0d0887"
             ],
             [
              0.1111111111111111,
              "#46039f"
             ],
             [
              0.2222222222222222,
              "#7201a8"
             ],
             [
              0.3333333333333333,
              "#9c179e"
             ],
             [
              0.4444444444444444,
              "#bd3786"
             ],
             [
              0.5555555555555556,
              "#d8576b"
             ],
             [
              0.6666666666666666,
              "#ed7953"
             ],
             [
              0.7777777777777778,
              "#fb9f3a"
             ],
             [
              0.8888888888888888,
              "#fdca26"
             ],
             [
              1,
              "#f0f921"
             ]
            ],
            "type": "histogram2d"
           }
          ],
          "histogram2dcontour": [
           {
            "colorbar": {
             "outlinewidth": 0,
             "ticks": ""
            },
            "colorscale": [
             [
              0,
              "#0d0887"
             ],
             [
              0.1111111111111111,
              "#46039f"
             ],
             [
              0.2222222222222222,
              "#7201a8"
             ],
             [
              0.3333333333333333,
              "#9c179e"
             ],
             [
              0.4444444444444444,
              "#bd3786"
             ],
             [
              0.5555555555555556,
              "#d8576b"
             ],
             [
              0.6666666666666666,
              "#ed7953"
             ],
             [
              0.7777777777777778,
              "#fb9f3a"
             ],
             [
              0.8888888888888888,
              "#fdca26"
             ],
             [
              1,
              "#f0f921"
             ]
            ],
            "type": "histogram2dcontour"
           }
          ],
          "mesh3d": [
           {
            "colorbar": {
             "outlinewidth": 0,
             "ticks": ""
            },
            "type": "mesh3d"
           }
          ],
          "parcoords": [
           {
            "line": {
             "colorbar": {
              "outlinewidth": 0,
              "ticks": ""
             }
            },
            "type": "parcoords"
           }
          ],
          "pie": [
           {
            "automargin": true,
            "type": "pie"
           }
          ],
          "scatter": [
           {
            "marker": {
             "colorbar": {
              "outlinewidth": 0,
              "ticks": ""
             }
            },
            "type": "scatter"
           }
          ],
          "scatter3d": [
           {
            "line": {
             "colorbar": {
              "outlinewidth": 0,
              "ticks": ""
             }
            },
            "marker": {
             "colorbar": {
              "outlinewidth": 0,
              "ticks": ""
             }
            },
            "type": "scatter3d"
           }
          ],
          "scattercarpet": [
           {
            "marker": {
             "colorbar": {
              "outlinewidth": 0,
              "ticks": ""
             }
            },
            "type": "scattercarpet"
           }
          ],
          "scattergeo": [
           {
            "marker": {
             "colorbar": {
              "outlinewidth": 0,
              "ticks": ""
             }
            },
            "type": "scattergeo"
           }
          ],
          "scattergl": [
           {
            "marker": {
             "colorbar": {
              "outlinewidth": 0,
              "ticks": ""
             }
            },
            "type": "scattergl"
           }
          ],
          "scattermapbox": [
           {
            "marker": {
             "colorbar": {
              "outlinewidth": 0,
              "ticks": ""
             }
            },
            "type": "scattermapbox"
           }
          ],
          "scatterpolar": [
           {
            "marker": {
             "colorbar": {
              "outlinewidth": 0,
              "ticks": ""
             }
            },
            "type": "scatterpolar"
           }
          ],
          "scatterpolargl": [
           {
            "marker": {
             "colorbar": {
              "outlinewidth": 0,
              "ticks": ""
             }
            },
            "type": "scatterpolargl"
           }
          ],
          "scatterternary": [
           {
            "marker": {
             "colorbar": {
              "outlinewidth": 0,
              "ticks": ""
             }
            },
            "type": "scatterternary"
           }
          ],
          "surface": [
           {
            "colorbar": {
             "outlinewidth": 0,
             "ticks": ""
            },
            "colorscale": [
             [
              0,
              "#0d0887"
             ],
             [
              0.1111111111111111,
              "#46039f"
             ],
             [
              0.2222222222222222,
              "#7201a8"
             ],
             [
              0.3333333333333333,
              "#9c179e"
             ],
             [
              0.4444444444444444,
              "#bd3786"
             ],
             [
              0.5555555555555556,
              "#d8576b"
             ],
             [
              0.6666666666666666,
              "#ed7953"
             ],
             [
              0.7777777777777778,
              "#fb9f3a"
             ],
             [
              0.8888888888888888,
              "#fdca26"
             ],
             [
              1,
              "#f0f921"
             ]
            ],
            "type": "surface"
           }
          ],
          "table": [
           {
            "cells": {
             "fill": {
              "color": "#EBF0F8"
             },
             "line": {
              "color": "white"
             }
            },
            "header": {
             "fill": {
              "color": "#C8D4E3"
             },
             "line": {
              "color": "white"
             }
            },
            "type": "table"
           }
          ]
         },
         "layout": {
          "annotationdefaults": {
           "arrowcolor": "#2a3f5f",
           "arrowhead": 0,
           "arrowwidth": 1
          },
          "autotypenumbers": "strict",
          "coloraxis": {
           "colorbar": {
            "outlinewidth": 0,
            "ticks": ""
           }
          },
          "colorscale": {
           "diverging": [
            [
             0,
             "#8e0152"
            ],
            [
             0.1,
             "#c51b7d"
            ],
            [
             0.2,
             "#de77ae"
            ],
            [
             0.3,
             "#f1b6da"
            ],
            [
             0.4,
             "#fde0ef"
            ],
            [
             0.5,
             "#f7f7f7"
            ],
            [
             0.6,
             "#e6f5d0"
            ],
            [
             0.7,
             "#b8e186"
            ],
            [
             0.8,
             "#7fbc41"
            ],
            [
             0.9,
             "#4d9221"
            ],
            [
             1,
             "#276419"
            ]
           ],
           "sequential": [
            [
             0,
             "#0d0887"
            ],
            [
             0.1111111111111111,
             "#46039f"
            ],
            [
             0.2222222222222222,
             "#7201a8"
            ],
            [
             0.3333333333333333,
             "#9c179e"
            ],
            [
             0.4444444444444444,
             "#bd3786"
            ],
            [
             0.5555555555555556,
             "#d8576b"
            ],
            [
             0.6666666666666666,
             "#ed7953"
            ],
            [
             0.7777777777777778,
             "#fb9f3a"
            ],
            [
             0.8888888888888888,
             "#fdca26"
            ],
            [
             1,
             "#f0f921"
            ]
           ],
           "sequentialminus": [
            [
             0,
             "#0d0887"
            ],
            [
             0.1111111111111111,
             "#46039f"
            ],
            [
             0.2222222222222222,
             "#7201a8"
            ],
            [
             0.3333333333333333,
             "#9c179e"
            ],
            [
             0.4444444444444444,
             "#bd3786"
            ],
            [
             0.5555555555555556,
             "#d8576b"
            ],
            [
             0.6666666666666666,
             "#ed7953"
            ],
            [
             0.7777777777777778,
             "#fb9f3a"
            ],
            [
             0.8888888888888888,
             "#fdca26"
            ],
            [
             1,
             "#f0f921"
            ]
           ]
          },
          "colorway": [
           "#636efa",
           "#EF553B",
           "#00cc96",
           "#ab63fa",
           "#FFA15A",
           "#19d3f3",
           "#FF6692",
           "#B6E880",
           "#FF97FF",
           "#FECB52"
          ],
          "font": {
           "color": "#2a3f5f"
          },
          "geo": {
           "bgcolor": "white",
           "lakecolor": "white",
           "landcolor": "#E5ECF6",
           "showlakes": true,
           "showland": true,
           "subunitcolor": "white"
          },
          "hoverlabel": {
           "align": "left"
          },
          "hovermode": "closest",
          "mapbox": {
           "style": "light"
          },
          "paper_bgcolor": "white",
          "plot_bgcolor": "#E5ECF6",
          "polar": {
           "angularaxis": {
            "gridcolor": "white",
            "linecolor": "white",
            "ticks": ""
           },
           "bgcolor": "#E5ECF6",
           "radialaxis": {
            "gridcolor": "white",
            "linecolor": "white",
            "ticks": ""
           }
          },
          "scene": {
           "xaxis": {
            "backgroundcolor": "#E5ECF6",
            "gridcolor": "white",
            "gridwidth": 2,
            "linecolor": "white",
            "showbackground": true,
            "ticks": "",
            "zerolinecolor": "white"
           },
           "yaxis": {
            "backgroundcolor": "#E5ECF6",
            "gridcolor": "white",
            "gridwidth": 2,
            "linecolor": "white",
            "showbackground": true,
            "ticks": "",
            "zerolinecolor": "white"
           },
           "zaxis": {
            "backgroundcolor": "#E5ECF6",
            "gridcolor": "white",
            "gridwidth": 2,
            "linecolor": "white",
            "showbackground": true,
            "ticks": "",
            "zerolinecolor": "white"
           }
          },
          "shapedefaults": {
           "line": {
            "color": "#2a3f5f"
           }
          },
          "ternary": {
           "aaxis": {
            "gridcolor": "white",
            "linecolor": "white",
            "ticks": ""
           },
           "baxis": {
            "gridcolor": "white",
            "linecolor": "white",
            "ticks": ""
           },
           "bgcolor": "#E5ECF6",
           "caxis": {
            "gridcolor": "white",
            "linecolor": "white",
            "ticks": ""
           }
          },
          "title": {
           "x": 0.05
          },
          "xaxis": {
           "automargin": true,
           "gridcolor": "white",
           "linecolor": "white",
           "ticks": "",
           "title": {
            "standoff": 15
           },
           "zerolinecolor": "white",
           "zerolinewidth": 2
          },
          "yaxis": {
           "automargin": true,
           "gridcolor": "white",
           "linecolor": "white",
           "ticks": "",
           "title": {
            "standoff": 15
           },
           "zerolinecolor": "white",
           "zerolinewidth": 2
          }
         }
        },
        "title": {
         "text": "DISTRIBUCION DEL CONSUMO SEMANAL"
        }
       }
      },
      "image/png": "[encoded data removed]",
      "text/html": [
       "<div>                            <div id=\"6433f32c-fc97-45d7-bcfd-030fc8959c34\" class=\"plotly-graph-div\" style=\"height:525px; width:100%;\"></div>            <script type=\"text/javascript\">                require([\"plotly\"], function(Plotly) {                    window.PLOTLYENV=window.PLOTLYENV || {};                                    if (document.getElementById(\"6433f32c-fc97-45d7-bcfd-030fc8959c34\")) {                    Plotly.newPlot(                        \"6433f32c-fc97-45d7-bcfd-030fc8959c34\",                        [{\"domain\": {\"x\": [0.0, 1.0], \"y\": [0.0, 1.0]}, \"hovertemplate\": \"dia_semana=%{label}<br>Consumo_de_cerveza=%{value}<extra></extra>\", \"labels\": [\"Dia_de_Semana\", \"Dia_de_Semana\", \"Fin_de_semana\", \"Fin_de_semana\", \"Dia_de_Semana\", \"Dia_de_Semana\", \"Dia_de_Semana\", \"Dia_de_Semana\", \"Dia_de_Semana\", \"Fin_de_semana\", \"Fin_de_semana\", \"Dia_de_Semana\", \"Dia_de_Semana\", \"Dia_de_Semana\", \"Dia_de_Semana\", \"Dia_de_Semana\", \"Fin_de_semana\", \"Fin_de_semana\", \"Dia_de_Semana\", \"Dia_de_Semana\", \"Dia_de_Semana\", \"Dia_de_Semana\", \"Dia_de_Semana\", \"Fin_de_semana\", \"Fin_de_semana\", \"Dia_de_Semana\", \"Dia_de_Semana\", \"Dia_de_Semana\", \"Dia_de_Semana\", \"Dia_de_Semana\", \"Fin_de_semana\", \"Fin_de_semana\", \"Dia_de_Semana\", \"Dia_de_Semana\", \"Dia_de_Semana\", \"Dia_de_Semana\", \"Dia_de_Semana\", \"Fin_de_semana\", \"Fin_de_semana\", \"Dia_de_Semana\", \"Dia_de_Semana\", \"Dia_de_Semana\", \"Dia_de_Semana\", \"Dia_de_Semana\", \"Fin_de_semana\", \"Fin_de_semana\", \"Dia_de_Semana\", \"Dia_de_Semana\", \"Dia_de_Semana\", \"Dia_de_Semana\", \"Dia_de_Semana\", \"Fin_de_semana\", \"Fin_de_semana\", \"Dia_de_Semana\", \"Dia_de_Semana\", \"Dia_de_Semana\", \"Dia_de_Semana\", \"Dia_de_Semana\", \"Fin_de_semana\", \"Fin_de_semana\", \"Dia_de_Semana\", \"Dia_de_Semana\", \"Dia_de_Semana\", \"Dia_de_Semana\", \"Dia_de_Semana\", \"Fin_de_semana\", \"Fin_de_semana\", \"Dia_de_Semana\", \"Dia_de_Semana\", \"Dia_de_Semana\", \"Dia_de_Semana\", \"Dia_de_Semana\", \"Fin_de_semana\", \"Fin_de_semana\", \"Dia_de_Semana\", \"Dia_de_Semana\", \"Dia_de_Semana\", \"Dia_de_Semana\", \"Dia_de_Semana\", \"Fin_de_semana\", \"Fin_de_semana\", \"Dia_de_Semana\", \"Dia_de_Semana\", \"Dia_de_Semana\", \"Dia_de_Semana\", \"Dia_de_Semana\", \"Fin_de_semana\", \"Fin_de_semana\", \"Dia_de_Semana\", \"Dia_de_Semana\", \"Dia_de_Semana\", \"Dia_de_Semana\", \"Dia_de_Semana\", \"Fin_de_semana\", \"Fin_de_semana\", \"Dia_de_Semana\", \"Dia_de_Semana\", \"Dia_de_Semana\", \"Dia_de_Semana\", \"Dia_de_Semana\", \"Fin_de_semana\", \"Fin_de_semana\", \"Dia_de_Semana\", \"Dia_de_Semana\", \"Dia_de_Semana\", \"Dia_de_Semana\", \"Dia_de_Semana\", \"Fin_de_semana\", \"Fin_de_semana\", \"Dia_de_Semana\", \"Dia_de_Semana\", \"Dia_de_Semana\", \"Dia_de_Semana\", \"Dia_de_Semana\", \"Fin_de_semana\", \"Fin_de_semana\", \"Dia_de_Semana\", \"Dia_de_Semana\", \"Dia_de_Semana\", \"Dia_de_Semana\", \"Dia_de_Semana\", \"Fin_de_semana\", \"Fin_de_semana\", \"Dia_de_Semana\", \"Dia_de_Semana\", \"Dia_de_Semana\", \"Dia_de_Semana\", \"Dia_de_Semana\", \"Fin_de_semana\", \"Fin_de_semana\", \"Dia_de_Semana\", \"Dia_de_Semana\", \"Dia_de_Semana\", \"Dia_de_Semana\", \"Dia_de_Semana\", \"Fin_de_semana\", \"Fin_de_semana\", \"Dia_de_Semana\", \"Dia_de_Semana\", \"Dia_de_Semana\", \"Dia_de_Semana\", \"Dia_de_Semana\", \"Fin_de_semana\", \"Fin_de_semana\", \"Dia_de_Semana\", \"Dia_de_Semana\", \"Dia_de_Semana\", \"Dia_de_Semana\", \"Dia_de_Semana\", \"Fin_de_semana\", \"Fin_de_semana\", \"Dia_de_Semana\", \"Dia_de_Semana\", \"Dia_de_Semana\", \"Dia_de_Semana\", \"Dia_de_Semana\", \"Fin_de_semana\", \"Fin_de_semana\", \"Dia_de_Semana\", \"Dia_de_Semana\", \"Dia_de_Semana\", \"Dia_de_Semana\", \"Dia_de_Semana\", \"Fin_de_semana\", \"Fin_de_semana\", \"Dia_de_Semana\", \"Dia_de_Semana\", \"Dia_de_Semana\", \"Dia_de_Semana\", \"Dia_de_Semana\", \"Fin_de_semana\", \"Fin_de_semana\", \"Dia_de_Semana\", \"Dia_de_Semana\", \"Dia_de_Semana\", \"Dia_de_Semana\", \"Dia_de_Semana\", \"Fin_de_semana\", \"Fin_de_semana\", \"Dia_de_Semana\", \"Dia_de_Semana\", \"Dia_de_Semana\", \"Dia_de_Semana\", \"Dia_de_Semana\", \"Fin_de_semana\", \"Fin_de_semana\", \"Dia_de_Semana\", \"Dia_de_Semana\", \"Dia_de_Semana\", \"Dia_de_Semana\", \"Dia_de_Semana\", \"Fin_de_semana\", \"Fin_de_semana\", \"Dia_de_Semana\", \"Dia_de_Semana\", \"Dia_de_Semana\", \"Dia_de_Semana\", \"Dia_de_Semana\", \"Fin_de_semana\", \"Fin_de_semana\", \"Dia_de_Semana\", \"Dia_de_Semana\", \"Dia_de_Semana\", \"Dia_de_Semana\", \"Dia_de_Semana\", \"Fin_de_semana\", \"Fin_de_semana\", \"Dia_de_Semana\", \"Dia_de_Semana\", \"Dia_de_Semana\", \"Dia_de_Semana\", \"Dia_de_Semana\", \"Fin_de_semana\", \"Fin_de_semana\", \"Dia_de_Semana\", \"Dia_de_Semana\", \"Dia_de_Semana\", \"Dia_de_Semana\", \"Dia_de_Semana\", \"Fin_de_semana\", \"Fin_de_semana\", \"Dia_de_Semana\", \"Dia_de_Semana\", \"Dia_de_Semana\", \"Dia_de_Semana\", \"Dia_de_Semana\", \"Fin_de_semana\", \"Fin_de_semana\", \"Dia_de_Semana\", \"Dia_de_Semana\", \"Dia_de_Semana\", \"Dia_de_Semana\", \"Dia_de_Semana\", \"Fin_de_semana\", \"Fin_de_semana\", \"Dia_de_Semana\", \"Dia_de_Semana\", \"Dia_de_Semana\", \"Dia_de_Semana\", \"Dia_de_Semana\", \"Fin_de_semana\", \"Fin_de_semana\", \"Dia_de_Semana\", \"Dia_de_Semana\", \"Dia_de_Semana\", \"Dia_de_Semana\", \"Dia_de_Semana\", \"Fin_de_semana\", \"Fin_de_semana\", \"Dia_de_Semana\", \"Dia_de_Semana\", \"Dia_de_Semana\", \"Dia_de_Semana\", \"Dia_de_Semana\", \"Fin_de_semana\", \"Fin_de_semana\", \"Dia_de_Semana\", \"Dia_de_Semana\", \"Dia_de_Semana\", \"Dia_de_Semana\", \"Dia_de_Semana\", \"Fin_de_semana\", \"Fin_de_semana\", \"Dia_de_Semana\", \"Dia_de_Semana\", \"Dia_de_Semana\", \"Dia_de_Semana\", \"Dia_de_Semana\", \"Fin_de_semana\", \"Fin_de_semana\", \"Dia_de_Semana\", \"Dia_de_Semana\", \"Dia_de_Semana\", \"Dia_de_Semana\", \"Dia_de_Semana\", \"Fin_de_semana\", \"Fin_de_semana\", \"Dia_de_Semana\", \"Dia_de_Semana\", \"Dia_de_Semana\", \"Dia_de_Semana\", \"Dia_de_Semana\", \"Fin_de_semana\", \"Fin_de_semana\", \"Dia_de_Semana\", \"Dia_de_Semana\", \"Dia_de_Semana\", \"Dia_de_Semana\", \"Dia_de_Semana\", \"Fin_de_semana\", \"Fin_de_semana\", \"Dia_de_Semana\", \"Dia_de_Semana\", \"Dia_de_Semana\", \"Dia_de_Semana\", \"Dia_de_Semana\", \"Fin_de_semana\", \"Fin_de_semana\", \"Dia_de_Semana\", \"Dia_de_Semana\", \"Dia_de_Semana\", \"Dia_de_Semana\", \"Dia_de_Semana\", \"Fin_de_semana\", \"Fin_de_semana\", \"Dia_de_Semana\", \"Dia_de_Semana\", \"Dia_de_Semana\", \"Dia_de_Semana\", \"Dia_de_Semana\", \"Fin_de_semana\", \"Fin_de_semana\", \"Dia_de_Semana\", \"Dia_de_Semana\", \"Dia_de_Semana\", \"Dia_de_Semana\", \"Dia_de_Semana\", \"Fin_de_semana\", \"Fin_de_semana\", \"Dia_de_Semana\", \"Dia_de_Semana\", \"Dia_de_Semana\", \"Dia_de_Semana\", \"Dia_de_Semana\", \"Fin_de_semana\", \"Fin_de_semana\", \"Dia_de_Semana\", \"Dia_de_Semana\", \"Dia_de_Semana\", \"Dia_de_Semana\", \"Dia_de_Semana\", \"Fin_de_semana\", \"Fin_de_semana\", \"Dia_de_Semana\", \"Dia_de_Semana\", \"Dia_de_Semana\", \"Dia_de_Semana\", \"Dia_de_Semana\", \"Fin_de_semana\", \"Fin_de_semana\", \"Dia_de_Semana\", \"Dia_de_Semana\", \"Dia_de_Semana\", \"Dia_de_Semana\", \"Dia_de_Semana\", \"Fin_de_semana\", \"Fin_de_semana\", \"Dia_de_Semana\", \"Dia_de_Semana\", \"Dia_de_Semana\", \"Dia_de_Semana\", \"Dia_de_Semana\", \"Fin_de_semana\", \"Fin_de_semana\", \"Dia_de_Semana\", \"Dia_de_Semana\", \"Dia_de_Semana\", \"Dia_de_Semana\", \"Dia_de_Semana\", \"Fin_de_semana\", \"Fin_de_semana\", \"Dia_de_Semana\", \"Dia_de_Semana\", \"Dia_de_Semana\", \"Dia_de_Semana\"], \"legendgroup\": \"\", \"name\": \"\", \"showlegend\": true, \"type\": \"pie\", \"values\": [25.461, 28.971999999999998, 30.814, 29.799, 28.9, 28.218000000000004, 29.732, 28.397, 24.886, 37.937, 36.254, 25.743000000000002, 26.99, 31.825, 25.724, 29.938000000000002, 37.69, 30.524, 29.265, 35.126999999999995, 29.13, 25.795, 21.784000000000002, 28.348000000000003, 31.088, 21.52, 29.971999999999998, 22.603, 22.695999999999998, 26.845, 27.03, 32.056999999999995, 24.096999999999998, 31.655, 24.738000000000003, 19.95, 22.820999999999998, 28.893, 29.926, 24.061999999999998, 21.136999999999997, 26.805, 26.389, 24.219, 30.230999999999998, 24.968000000000004, 25.343000000000004, 17.399, 21.392, 22.921999999999997, 24.566999999999997, 30.943, 30.825, 25.691999999999997, 26.959, 25.366, 22.784000000000002, 26.241, 26.467, 27.475, 28.749000000000002, 24.146, 22.988000000000003, 30.3, 22.654, 29.09, 24.619, 20.016, 23.041999999999998, 22.933000000000003, 22.409000000000002, 21.281, 28.844, 32.872, 20.903000000000002, 26.275, 20.167, 23.628, 24.213, 28.631, 25.855, 21.406, 21.616999999999997, 22.401, 27.989, 24.974, 29.76, 26.116, 25.85, 24.925, 21.979, 22.116, 24.866999999999997, 33.45, 32.713, 22.355999999999998, 21.004, 23.362, 20.298, 24.862, 30.505, 25.07, 22.62, 22.000999999999998, 23.469, 21.735, 21.593000000000004, 33.821999999999996, 28.028000000000002, 24.304000000000002, 31.108, 19.113, 23.198, 24.388, 27.42, 30.479, 21.838, 20.811999999999998, 19.761, 20.452, 17.939, 25.272, 28.049, 25.316999999999997, 21.826, 20.68, 19.143, 18.146, 25.489, 23.537, 16.956, 19.052, 17.287, 20.3, 20.538, 23.701999999999998, 28.410999999999998, 21.073, 24.215, 19.525, 20.785999999999998, 20.429000000000002, 27.25, 31.386999999999997, 26.075, 22.162, 24.258000000000003, 24.683000000000003, 21.245, 25.936999999999998, 26.081, 16.227999999999998, 20.105999999999998, 21.055, 22.772, 25.142, 31.129, 30.498, 26.15, 21.326999999999998, 22.008000000000003, 24.615, 22.375, 29.607, 32.983000000000004, 19.119, 21.029, 23.898000000000003, 24.534000000000002, 16.748, 23.055, 28.857, 23.022, 27.146, 17.241, 19.463, 21.86, 24.226999999999997, 27.594, 24.863000000000003, 20.160999999999998, 20.824, 19.727, 14.94, 24.631999999999998, 21.294, 18.448, 21.237, 19.849, 20.74, 25.698, 26.691, 33.298, 25.64, 23.936999999999998, 28.741999999999997, 21.748, 22.031999999999996, 24.826999999999998, 32.473, 20.62, 21.825, 14.343, 19.029, 21.104, 20.738000000000003, 25.233, 18.975, 19.64, 22.522, 24.226999999999997, 24.726, 32.467, 31.663, 25.866999999999997, 27.724, 22.039, 26.127, 26.58, 31.31, 33.516999999999996, 23.180999999999997, 24.183000000000003, 24.594, 22.61, 25.479, 29.621, 26.272, 22.541, 23.07, 26.021, 17.655, 23.243000000000002, 30.177, 27.518, 23.21, 21.092, 23.357, 17.887999999999998, 22.217, 31.680999999999997, 31.833000000000002, 28.441, 22.389, 20.680999999999997, 24.221999999999998, 19.345, 21.826999999999998, 23.566, 20.227, 17.075, 16.977, 21.525, 21.454, 21.814, 21.252, 20.464000000000002, 30.775, 25.343000000000004, 33.93, 26.311, 31.836, 34.695, 29.829, 26.362, 32.589, 30.345, 29.410999999999998, 29.636999999999997, 32.184, 17.730999999999998, 24.114, 28.034000000000002, 22.664, 27.488000000000003, 24.875999999999998, 24.862, 24.679000000000002, 22.304000000000002, 30.329, 33.181999999999995, 23.849, 33.33, 34.496, 26.249000000000002, 26.523000000000003, 26.793000000000003, 35.861, 27.386999999999997, 32.666, 22.199, 24.0, 27.871, 31.139, 23.065, 26.594, 27.656999999999996, 26.594, 28.084, 27.581999999999997, 24.862, 22.634, 31.649, 35.781, 24.429000000000002, 20.648000000000003, 22.741, 21.479, 23.134, 20.575, 24.33, 28.61, 28.456, 27.964000000000002, 29.569000000000003, 29.267, 28.647, 26.836, 29.386, 24.609, 26.964000000000002, 23.614, 22.96, 20.332, 30.392, 31.933000000000003, 21.662, 21.689, 25.119, 25.285, 28.979, 34.382, 30.616999999999997, 20.238, 24.529, 30.471, 28.405, 29.513, 32.451, 32.78, 23.375, 27.713, 27.136999999999997, 22.933000000000003, 30.74, 29.579, 29.188000000000002, 28.131, 28.616999999999997, 21.061999999999998, 24.337, 27.041999999999998, 32.536, 30.127, 24.834, 26.828000000000003, 26.468000000000004, 31.572, 26.308000000000003, 21.955, 32.306999999999995, 26.095, 22.309, 20.467, 22.445999999999998]}],                        {\"legend\": {\"tracegroupgap\": 0}, \"template\": {\"data\": {\"bar\": [{\"error_x\": {\"color\": \"#2a3f5f\"}, \"error_y\": {\"color\": \"#2a3f5f\"}, \"marker\": {\"line\": {\"color\": \"#E5ECF6\", \"width\": 0.5}}, \"type\": \"bar\"}], \"barpolar\": [{\"marker\": {\"line\": {\"color\": \"#E5ECF6\", \"width\": 0.5}}, \"type\": \"barpolar\"}], \"carpet\": [{\"aaxis\": {\"endlinecolor\": \"#2a3f5f\", \"gridcolor\": \"white\", \"linecolor\": \"white\", \"minorgridcolor\": \"white\", \"startlinecolor\": \"#2a3f5f\"}, \"baxis\": {\"endlinecolor\": \"#2a3f5f\", \"gridcolor\": \"white\", \"linecolor\": \"white\", \"minorgridcolor\": \"white\", \"startlinecolor\": \"#2a3f5f\"}, \"type\": \"carpet\"}], \"choropleth\": [{\"colorbar\": {\"outlinewidth\": 0, \"ticks\": \"\"}, \"type\": \"choropleth\"}], \"contour\": [{\"colorbar\": {\"outlinewidth\": 0, \"ticks\": \"\"}, \"colorscale\": [[0.0, \"#0d0887\"], [0.1111111111111111, \"#46039f\"], [0.2222222222222222, \"#7201a8\"], [0.3333333333333333, \"#9c179e\"], [0.4444444444444444, \"#bd3786\"], [0.5555555555555556, \"#d8576b\"], [0.6666666666666666, \"#ed7953\"], [0.7777777777777778, \"#fb9f3a\"], [0.8888888888888888, \"#fdca26\"], [1.0, \"#f0f921\"]], \"type\": \"contour\"}], \"contourcarpet\": [{\"colorbar\": {\"outlinewidth\": 0, \"ticks\": \"\"}, \"type\": \"contourcarpet\"}], \"heatmap\": [{\"colorbar\": {\"outlinewidth\": 0, \"ticks\": \"\"}, \"colorscale\": [[0.0, \"#0d0887\"], [0.1111111111111111, \"#46039f\"], [0.2222222222222222, \"#7201a8\"], [0.3333333333333333, \"#9c179e\"], [0.4444444444444444, \"#bd3786\"], [0.5555555555555556, \"#d8576b\"], [0.6666666666666666, \"#ed7953\"], [0.7777777777777778, \"#fb9f3a\"], [0.8888888888888888, \"#fdca26\"], [1.0, \"#f0f921\"]], \"type\": \"heatmap\"}], \"heatmapgl\": [{\"colorbar\": {\"outlinewidth\": 0, \"ticks\": \"\"}, \"colorscale\": [[0.0, \"#0d0887\"], [0.1111111111111111, \"#46039f\"], [0.2222222222222222, \"#7201a8\"], [0.3333333333333333, \"#9c179e\"], [0.4444444444444444, \"#bd3786\"], [0.5555555555555556, \"#d8576b\"], [0.6666666666666666, \"#ed7953\"], [0.7777777777777778, \"#fb9f3a\"], [0.8888888888888888, \"#fdca26\"], [1.0, \"#f0f921\"]], \"type\": \"heatmapgl\"}], \"histogram\": [{\"marker\": {\"colorbar\": {\"outlinewidth\": 0, \"ticks\": \"\"}}, \"type\": \"histogram\"}], \"histogram2d\": [{\"colorbar\": {\"outlinewidth\": 0, \"ticks\": \"\"}, \"colorscale\": [[0.0, \"#0d0887\"], [0.1111111111111111, \"#46039f\"], [0.2222222222222222, \"#7201a8\"], [0.3333333333333333, \"#9c179e\"], [0.4444444444444444, \"#bd3786\"], [0.5555555555555556, \"#d8576b\"], [0.6666666666666666, \"#ed7953\"], [0.7777777777777778, \"#fb9f3a\"], [0.8888888888888888, \"#fdca26\"], [1.0, \"#f0f921\"]], \"type\": \"histogram2d\"}], \"histogram2dcontour\": [{\"colorbar\": {\"outlinewidth\": 0, \"ticks\": \"\"}, \"colorscale\": [[0.0, \"#0d0887\"], [0.1111111111111111, \"#46039f\"], [0.2222222222222222, \"#7201a8\"], [0.3333333333333333, \"#9c179e\"], [0.4444444444444444, \"#bd3786\"], [0.5555555555555556, \"#d8576b\"], [0.6666666666666666, \"#ed7953\"], [0.7777777777777778, \"#fb9f3a\"], [0.8888888888888888, \"#fdca26\"], [1.0, \"#f0f921\"]], \"type\": \"histogram2dcontour\"}], \"mesh3d\": [{\"colorbar\": {\"outlinewidth\": 0, \"ticks\": \"\"}, \"type\": \"mesh3d\"}], \"parcoords\": [{\"line\": {\"colorbar\": {\"outlinewidth\": 0, \"ticks\": \"\"}}, \"type\": \"parcoords\"}], \"pie\": [{\"automargin\": true, \"type\": \"pie\"}], \"scatter\": [{\"marker\": {\"colorbar\": {\"outlinewidth\": 0, \"ticks\": \"\"}}, \"type\": \"scatter\"}], \"scatter3d\": [{\"line\": {\"colorbar\": {\"outlinewidth\": 0, \"ticks\": \"\"}}, \"marker\": {\"colorbar\": {\"outlinewidth\": 0, \"ticks\": \"\"}}, \"type\": \"scatter3d\"}], \"scattercarpet\": [{\"marker\": {\"colorbar\": {\"outlinewidth\": 0, \"ticks\": \"\"}}, \"type\": \"scattercarpet\"}], \"scattergeo\": [{\"marker\": {\"colorbar\": {\"outlinewidth\": 0, \"ticks\": \"\"}}, \"type\": \"scattergeo\"}], \"scattergl\": [{\"marker\": {\"colorbar\": {\"outlinewidth\": 0, \"ticks\": \"\"}}, \"type\": \"scattergl\"}], \"scattermapbox\": [{\"marker\": {\"colorbar\": {\"outlinewidth\": 0, \"ticks\": \"\"}}, \"type\": \"scattermapbox\"}], \"scatterpolar\": [{\"marker\": {\"colorbar\": {\"outlinewidth\": 0, \"ticks\": \"\"}}, \"type\": \"scatterpolar\"}], \"scatterpolargl\": [{\"marker\": {\"colorbar\": {\"outlinewidth\": 0, \"ticks\": \"\"}}, \"type\": \"scatterpolargl\"}], \"scatterternary\": [{\"marker\": {\"colorbar\": {\"outlinewidth\": 0, \"ticks\": \"\"}}, \"type\": \"scatterternary\"}], \"surface\": [{\"colorbar\": {\"outlinewidth\": 0, \"ticks\": \"\"}, \"colorscale\": [[0.0, \"#0d0887\"], [0.1111111111111111, \"#46039f\"], [0.2222222222222222, \"#7201a8\"], [0.3333333333333333, \"#9c179e\"], [0.4444444444444444, \"#bd3786\"], [0.5555555555555556, \"#d8576b\"], [0.6666666666666666, \"#ed7953\"], [0.7777777777777778, \"#fb9f3a\"], [0.8888888888888888, \"#fdca26\"], [1.0, \"#f0f921\"]], \"type\": \"surface\"}], \"table\": [{\"cells\": {\"fill\": {\"color\": \"#EBF0F8\"}, \"line\": {\"color\": \"white\"}}, \"header\": {\"fill\": {\"color\": \"#C8D4E3\"}, \"line\": {\"color\": \"white\"}}, \"type\": \"table\"}]}, \"layout\": {\"annotationdefaults\": {\"arrowcolor\": \"#2a3f5f\", \"arrowhead\": 0, \"arrowwidth\": 1}, \"autotypenumbers\": \"strict\", \"coloraxis\": {\"colorbar\": {\"outlinewidth\": 0, \"ticks\": \"\"}}, \"colorscale\": {\"diverging\": [[0, \"#8e0152\"], [0.1, \"#c51b7d\"], [0.2, \"#de77ae\"], [0.3, \"#f1b6da\"], [0.4, \"#fde0ef\"], [0.5, \"#f7f7f7\"], [0.6, \"#e6f5d0\"], [0.7, \"#b8e186\"], [0.8, \"#7fbc41\"], [0.9, \"#4d9221\"], [1, \"#276419\"]], \"sequential\": [[0.0, \"#0d0887\"], [0.1111111111111111, \"#46039f\"], [0.2222222222222222, \"#7201a8\"], [0.3333333333333333, \"#9c179e\"], [0.4444444444444444, \"#bd3786\"], [0.5555555555555556, \"#d8576b\"], [0.6666666666666666, \"#ed7953\"], [0.7777777777777778, \"#fb9f3a\"], [0.8888888888888888, \"#fdca26\"], [1.0, \"#f0f921\"]], \"sequentialminus\": [[0.0, \"#0d0887\"], [0.1111111111111111, \"#46039f\"], [0.2222222222222222, \"#7201a8\"], [0.3333333333333333, \"#9c179e\"], [0.4444444444444444, \"#bd3786\"], [0.5555555555555556, \"#d8576b\"], [0.6666666666666666, \"#ed7953\"], [0.7777777777777778, \"#fb9f3a\"], [0.8888888888888888, \"#fdca26\"], [1.0, \"#f0f921\"]]}, \"colorway\": [\"#636efa\", \"#EF553B\", \"#00cc96\", \"#ab63fa\", \"#FFA15A\", \"#19d3f3\", \"#FF6692\", \"#B6E880\", \"#FF97FF\", \"#FECB52\"], \"font\": {\"color\": \"#2a3f5f\"}, \"geo\": {\"bgcolor\": \"white\", \"lakecolor\": \"white\", \"landcolor\": \"#E5ECF6\", \"showlakes\": true, \"showland\": true, \"subunitcolor\": \"white\"}, \"hoverlabel\": {\"align\": \"left\"}, \"hovermode\": \"closest\", \"mapbox\": {\"style\": \"light\"}, \"paper_bgcolor\": \"white\", \"plot_bgcolor\": \"#E5ECF6\", \"polar\": {\"angularaxis\": {\"gridcolor\": \"white\", \"linecolor\": \"white\", \"ticks\": \"\"}, \"bgcolor\": \"#E5ECF6\", \"radialaxis\": {\"gridcolor\": \"white\", \"linecolor\": \"white\", \"ticks\": \"\"}}, \"scene\": {\"xaxis\": {\"backgroundcolor\": \"#E5ECF6\", \"gridcolor\": \"white\", \"gridwidth\": 2, \"linecolor\": \"white\", \"showbackground\": true, \"ticks\": \"\", \"zerolinecolor\": \"white\"}, \"yaxis\": {\"backgroundcolor\": \"#E5ECF6\", \"gridcolor\": \"white\", \"gridwidth\": 2, \"linecolor\": \"white\", \"showbackground\": true, \"ticks\": \"\", \"zerolinecolor\": \"white\"}, \"zaxis\": {\"backgroundcolor\": \"#E5ECF6\", \"gridcolor\": \"white\", \"gridwidth\": 2, \"linecolor\": \"white\", \"showbackground\": true, \"ticks\": \"\", \"zerolinecolor\": \"white\"}}, \"shapedefaults\": {\"line\": {\"color\": \"#2a3f5f\"}}, \"ternary\": {\"aaxis\": {\"gridcolor\": \"white\", \"linecolor\": \"white\", \"ticks\": \"\"}, \"baxis\": {\"gridcolor\": \"white\", \"linecolor\": \"white\", \"ticks\": \"\"}, \"bgcolor\": \"#E5ECF6\", \"caxis\": {\"gridcolor\": \"white\", \"linecolor\": \"white\", \"ticks\": \"\"}}, \"title\": {\"x\": 0.05}, \"xaxis\": {\"automargin\": true, \"gridcolor\": \"white\", \"linecolor\": \"white\", \"ticks\": \"\", \"title\": {\"standoff\": 15}, \"zerolinecolor\": \"white\", \"zerolinewidth\": 2}, \"yaxis\": {\"automargin\": true, \"gridcolor\": \"white\", \"linecolor\": \"white\", \"ticks\": \"\", \"title\": {\"standoff\": 15}, \"zerolinecolor\": \"white\", \"zerolinewidth\": 2}}}, \"title\": {\"text\": \"DISTRIBUCION DEL CONSUMO SEMANAL\"}},                        {\"responsive\": true}                    ).then(function(){\n",
       "                            \n",
       "var gd = document.getElementById('6433f32c-fc97-45d7-bcfd-030fc8959c34');\n",
       "var x = new MutationObserver(function (mutations, observer) {{\n",
       "        var display = window.getComputedStyle(gd).display;\n",
       "        if (!display || display === 'none') {{\n",
       "            console.log([gd, 'removed!']);\n",
       "            Plotly.purge(gd);\n",
       "            observer.disconnect();\n",
       "        }}\n",
       "}});\n",
       "\n",
       "// Listen for the removal of the full notebook cells\n",
       "var notebookContainer = gd.closest('#notebook-container');\n",
       "if (notebookContainer) {{\n",
       "    x.observe(notebookContainer, {childList: true});\n",
       "}}\n",
       "\n",
       "// Listen for the clearing of the current output cell\n",
       "var outputEl = gd.closest('.output');\n",
       "if (outputEl) {{\n",
       "    x.observe(outputEl, {childList: true});\n",
       "}}\n",
       "\n",
       "                        })                };                });            </script>        </div>"
      ]
     },
     "metadata": {},
     "output_type": "display_data"
    }
   ],
   "source": [
    "import plotly.express as px\n",
    "\n",
    "fig = px.pie(data, values='Consumo_de_cerveza', names='dia_semana', title='DISTRIBUCION DEL CONSUMO SEMANAL')\n",
    "fig.show()\n"
   ]
  },
  {
   "cell_type": "markdown",
   "metadata": {},
   "source": [
    "## Relacion entre el consumo y la temperatura\n",
    "\n",
    "### Influencia de la temperatura. \n",
    "Nuestra intuicion nos señala que probablemente el consumo de cerveza aumente conforme aumente la temperatura. \n",
    "* ¿Cómo es cambia la temperatura en brasil segun las estaciones del año?\n",
    "\n",
    "Datos climaticos de brasil sugieren que la misma sigue la siguiente tendencia.\n",
    "\n",
    "<div>\n",
    "<img src=\"https://images.climate-data.org/location/655/temperature-graph.png\" width=\"600\"/>\n",
    "</div>\n",
    "\n",
    "### Variación del consumo de cerveza por mes.\n",
    "\n",
    "Representemos, usando boxplots para cada mes, el consumo de cerveza en litros."
   ]
  },
  {
   "cell_type": "code",
   "execution_count": 26,
   "metadata": {},
   "outputs": [],
   "source": [
    "data['month']=data.Fecha.dt.month"
   ]
  },
  {
   "cell_type": "code",
   "execution_count": 28,
   "metadata": {},
   "outputs": [
    {
     "data": {
      "application/vnd.plotly.v1+json": {
       "config": {
        "plotlyServerURL": "https://plotly.com"
       },
       "data": [
        {
         "alignmentgroup": "True",
         "hovertemplate": "month=%{x}<br>Consumo_de_cerveza=%{y}<extra></extra>",
         "legendgroup": "",
         "marker": {
          "color": "#636efa"
         },
         "name": "",
         "notched": false,
         "offsetgroup": "",
         "orientation": "v",
         "showlegend": false,
         "type": "box",
         "x": [
          1,
          1,
          1,
          1,
          1,
          1,
          1,
          1,
          1,
          1,
          1,
          1,
          1,
          1,
          1,
          1,
          1,
          1,
          1,
          1,
          1,
          1,
          1,
          1,
          1,
          1,
          1,
          1,
          1,
          1,
          1,
          2,
          2,
          2,
          2,
          2,
          2,
          2,
          2,
          2,
          2,
          2,
          2,
          2,
          2,
          2,
          2,
          2,
          2,
          2,
          2,
          2,
          2,
          2,
          2,
          2,
          2,
          2,
          2,
          3,
          3,
          3,
          3,
          3,
          3,
          3,
          3,
          3,
          3,
          3,
          3,
          3,
          3,
          3,
          3,
          3,
          3,
          3,
          3,
          3,
          3,
          3,
          3,
          3,
          3,
          3,
          3,
          3,
          3,
          3,
          4,
          4,
          4,
          4,
          4,
          4,
          4,
          4,
          4,
          4,
          4,
          4,
          4,
          4,
          4,
          4,
          4,
          4,
          4,
          4,
          4,
          4,
          4,
          4,
          4,
          4,
          4,
          4,
          4,
          4,
          5,
          5,
          5,
          5,
          5,
          5,
          5,
          5,
          5,
          5,
          5,
          5,
          5,
          5,
          5,
          5,
          5,
          5,
          5,
          5,
          5,
          5,
          5,
          5,
          5,
          5,
          5,
          5,
          5,
          5,
          5,
          6,
          6,
          6,
          6,
          6,
          6,
          6,
          6,
          6,
          6,
          6,
          6,
          6,
          6,
          6,
          6,
          6,
          6,
          6,
          6,
          6,
          6,
          6,
          6,
          6,
          6,
          6,
          6,
          6,
          6,
          7,
          7,
          7,
          7,
          7,
          7,
          7,
          7,
          7,
          7,
          7,
          7,
          7,
          7,
          7,
          7,
          7,
          7,
          7,
          7,
          7,
          7,
          7,
          7,
          7,
          7,
          7,
          7,
          7,
          7,
          7,
          8,
          8,
          8,
          8,
          8,
          8,
          8,
          8,
          8,
          8,
          8,
          8,
          8,
          8,
          8,
          8,
          8,
          8,
          8,
          8,
          8,
          8,
          8,
          8,
          8,
          8,
          8,
          8,
          8,
          8,
          8,
          9,
          9,
          9,
          9,
          9,
          9,
          9,
          9,
          9,
          9,
          9,
          9,
          9,
          9,
          9,
          9,
          9,
          9,
          9,
          9,
          9,
          9,
          9,
          9,
          9,
          9,
          9,
          9,
          9,
          9,
          10,
          10,
          10,
          10,
          10,
          10,
          10,
          10,
          10,
          10,
          10,
          10,
          10,
          10,
          10,
          10,
          10,
          10,
          10,
          10,
          10,
          10,
          10,
          10,
          10,
          10,
          10,
          10,
          10,
          10,
          10,
          11,
          11,
          11,
          11,
          11,
          11,
          11,
          11,
          11,
          11,
          11,
          11,
          11,
          11,
          11,
          11,
          11,
          11,
          11,
          11,
          11,
          11,
          11,
          11,
          11,
          11,
          11,
          11,
          11,
          11,
          12,
          12,
          12,
          12,
          12,
          12,
          12,
          12,
          12,
          12,
          12,
          12,
          12,
          12,
          12,
          12,
          12,
          12,
          12,
          12,
          12,
          12,
          12,
          12,
          12,
          12,
          12,
          12,
          12,
          12,
          12
         ],
         "x0": " ",
         "xaxis": "x",
         "y": [
          25.461,
          28.971999999999998,
          30.814,
          29.799,
          28.9,
          28.218000000000004,
          29.732,
          28.397,
          24.886,
          37.937,
          36.254,
          25.743000000000002,
          26.99,
          31.825,
          25.724,
          29.938000000000002,
          37.69,
          30.524,
          29.265,
          35.126999999999995,
          29.13,
          25.795,
          21.784000000000002,
          28.348000000000003,
          31.088,
          21.52,
          29.971999999999998,
          22.603,
          22.695999999999998,
          26.845,
          27.03,
          32.056999999999995,
          24.096999999999998,
          31.655,
          24.738000000000003,
          19.95,
          22.820999999999998,
          28.893,
          29.926,
          24.061999999999998,
          21.136999999999997,
          26.805,
          26.389,
          24.219,
          30.230999999999998,
          24.968000000000004,
          25.343000000000004,
          17.399,
          21.392,
          22.921999999999997,
          24.566999999999997,
          30.943,
          30.825,
          25.691999999999997,
          26.959,
          25.366,
          22.784000000000002,
          26.241,
          26.467,
          27.475,
          28.749000000000002,
          24.146,
          22.988000000000003,
          30.3,
          22.654,
          29.09,
          24.619,
          20.016,
          23.041999999999998,
          22.933000000000003,
          22.409000000000002,
          21.281,
          28.844,
          32.872,
          20.903000000000002,
          26.275,
          20.167,
          23.628,
          24.213,
          28.631,
          25.855,
          21.406,
          21.616999999999997,
          22.401,
          27.989,
          24.974,
          29.76,
          26.116,
          25.85,
          24.925,
          21.979,
          22.116,
          24.866999999999997,
          33.45,
          32.713,
          22.355999999999998,
          21.004,
          23.362,
          20.298,
          24.862,
          30.505,
          25.07,
          22.62,
          22.000999999999998,
          23.469,
          21.735,
          21.593000000000004,
          33.821999999999996,
          28.028000000000002,
          24.304000000000002,
          31.108,
          19.113,
          23.198,
          24.388,
          27.42,
          30.479,
          21.838,
          20.811999999999998,
          19.761,
          20.452,
          17.939,
          25.272,
          28.049,
          25.316999999999997,
          21.826,
          20.68,
          19.143,
          18.146,
          25.489,
          23.537,
          16.956,
          19.052,
          17.287,
          20.3,
          20.538,
          23.701999999999998,
          28.410999999999998,
          21.073,
          24.215,
          19.525,
          20.785999999999998,
          20.429000000000002,
          27.25,
          31.386999999999997,
          26.075,
          22.162,
          24.258000000000003,
          24.683000000000003,
          21.245,
          25.936999999999998,
          26.081,
          16.227999999999998,
          20.105999999999998,
          21.055,
          22.772,
          25.142,
          31.129,
          30.498,
          26.15,
          21.326999999999998,
          22.008000000000003,
          24.615,
          22.375,
          29.607,
          32.983000000000004,
          19.119,
          21.029,
          23.898000000000003,
          24.534000000000002,
          16.748,
          23.055,
          28.857,
          23.022,
          27.146,
          17.241,
          19.463,
          21.86,
          24.226999999999997,
          27.594,
          24.863000000000003,
          20.160999999999998,
          20.824,
          19.727,
          14.94,
          24.631999999999998,
          21.294,
          18.448,
          21.237,
          19.849,
          20.74,
          25.698,
          26.691,
          33.298,
          25.64,
          23.936999999999998,
          28.741999999999997,
          21.748,
          22.031999999999996,
          24.826999999999998,
          32.473,
          20.62,
          21.825,
          14.343,
          19.029,
          21.104,
          20.738000000000003,
          25.233,
          18.975,
          19.64,
          22.522,
          24.226999999999997,
          24.726,
          32.467,
          31.663,
          25.866999999999997,
          27.724,
          22.039,
          26.127,
          26.58,
          31.31,
          33.516999999999996,
          23.180999999999997,
          24.183000000000003,
          24.594,
          22.61,
          25.479,
          29.621,
          26.272,
          22.541,
          23.07,
          26.021,
          17.655,
          23.243000000000002,
          30.177,
          27.518,
          23.21,
          21.092,
          23.357,
          17.887999999999998,
          22.217,
          31.680999999999997,
          31.833000000000002,
          28.441,
          22.389,
          20.680999999999997,
          24.221999999999998,
          19.345,
          21.826999999999998,
          23.566,
          20.227,
          17.075,
          16.977,
          21.525,
          21.454,
          21.814,
          21.252,
          20.464000000000002,
          30.775,
          25.343000000000004,
          33.93,
          26.311,
          31.836,
          34.695,
          29.829,
          26.362,
          32.589,
          30.345,
          29.410999999999998,
          29.636999999999997,
          32.184,
          17.730999999999998,
          24.114,
          28.034000000000002,
          22.664,
          27.488000000000003,
          24.875999999999998,
          24.862,
          24.679000000000002,
          22.304000000000002,
          30.329,
          33.181999999999995,
          23.849,
          33.33,
          34.496,
          26.249000000000002,
          26.523000000000003,
          26.793000000000003,
          35.861,
          27.386999999999997,
          32.666,
          22.199,
          24,
          27.871,
          31.139,
          23.065,
          26.594,
          27.656999999999996,
          26.594,
          28.084,
          27.581999999999997,
          24.862,
          22.634,
          31.649,
          35.781,
          24.429000000000002,
          20.648000000000003,
          22.741,
          21.479,
          23.134,
          20.575,
          24.33,
          28.61,
          28.456,
          27.964000000000002,
          29.569000000000003,
          29.267,
          28.647,
          26.836,
          29.386,
          24.609,
          26.964000000000002,
          23.614,
          22.96,
          20.332,
          30.392,
          31.933000000000003,
          21.662,
          21.689,
          25.119,
          25.285,
          28.979,
          34.382,
          30.616999999999997,
          20.238,
          24.529,
          30.471,
          28.405,
          29.513,
          32.451,
          32.78,
          23.375,
          27.713,
          27.136999999999997,
          22.933000000000003,
          30.74,
          29.579,
          29.188000000000002,
          28.131,
          28.616999999999997,
          21.061999999999998,
          24.337,
          27.041999999999998,
          32.536,
          30.127,
          24.834,
          26.828000000000003,
          26.468000000000004,
          31.572,
          26.308000000000003,
          21.955,
          32.306999999999995,
          26.095,
          22.309,
          20.467,
          22.445999999999998
         ],
         "y0": " ",
         "yaxis": "y"
        }
       ],
       "layout": {
        "autosize": true,
        "boxmode": "group",
        "legend": {
         "tracegroupgap": 0
        },
        "margin": {
         "t": 60
        },
        "template": {
         "data": {
          "bar": [
           {
            "error_x": {
             "color": "#2a3f5f"
            },
            "error_y": {
             "color": "#2a3f5f"
            },
            "marker": {
             "line": {
              "color": "#E5ECF6",
              "width": 0.5
             }
            },
            "type": "bar"
           }
          ],
          "barpolar": [
           {
            "marker": {
             "line": {
              "color": "#E5ECF6",
              "width": 0.5
             }
            },
            "type": "barpolar"
           }
          ],
          "carpet": [
           {
            "aaxis": {
             "endlinecolor": "#2a3f5f",
             "gridcolor": "white",
             "linecolor": "white",
             "minorgridcolor": "white",
             "startlinecolor": "#2a3f5f"
            },
            "baxis": {
             "endlinecolor": "#2a3f5f",
             "gridcolor": "white",
             "linecolor": "white",
             "minorgridcolor": "white",
             "startlinecolor": "#2a3f5f"
            },
            "type": "carpet"
           }
          ],
          "choropleth": [
           {
            "colorbar": {
             "outlinewidth": 0,
             "ticks": ""
            },
            "type": "choropleth"
           }
          ],
          "contour": [
           {
            "colorbar": {
             "outlinewidth": 0,
             "ticks": ""
            },
            "colorscale": [
             [
              0,
              "#0d0887"
             ],
             [
              0.1111111111111111,
              "#46039f"
             ],
             [
              0.2222222222222222,
              "#7201a8"
             ],
             [
              0.3333333333333333,
              "#9c179e"
             ],
             [
              0.4444444444444444,
              "#bd3786"
             ],
             [
              0.5555555555555556,
              "#d8576b"
             ],
             [
              0.6666666666666666,
              "#ed7953"
             ],
             [
              0.7777777777777778,
              "#fb9f3a"
             ],
             [
              0.8888888888888888,
              "#fdca26"
             ],
             [
              1,
              "#f0f921"
             ]
            ],
            "type": "contour"
           }
          ],
          "contourcarpet": [
           {
            "colorbar": {
             "outlinewidth": 0,
             "ticks": ""
            },
            "type": "contourcarpet"
           }
          ],
          "heatmap": [
           {
            "colorbar": {
             "outlinewidth": 0,
             "ticks": ""
            },
            "colorscale": [
             [
              0,
              "#0d0887"
             ],
             [
              0.1111111111111111,
              "#46039f"
             ],
             [
              0.2222222222222222,
              "#7201a8"
             ],
             [
              0.3333333333333333,
              "#9c179e"
             ],
             [
              0.4444444444444444,
              "#bd3786"
             ],
             [
              0.5555555555555556,
              "#d8576b"
             ],
             [
              0.6666666666666666,
              "#ed7953"
             ],
             [
              0.7777777777777778,
              "#fb9f3a"
             ],
             [
              0.8888888888888888,
              "#fdca26"
             ],
             [
              1,
              "#f0f921"
             ]
            ],
            "type": "heatmap"
           }
          ],
          "heatmapgl": [
           {
            "colorbar": {
             "outlinewidth": 0,
             "ticks": ""
            },
            "colorscale": [
             [
              0,
              "#0d0887"
             ],
             [
              0.1111111111111111,
              "#46039f"
             ],
             [
              0.2222222222222222,
              "#7201a8"
             ],
             [
              0.3333333333333333,
              "#9c179e"
             ],
             [
              0.4444444444444444,
              "#bd3786"
             ],
             [
              0.5555555555555556,
              "#d8576b"
             ],
             [
              0.6666666666666666,
              "#ed7953"
             ],
             [
              0.7777777777777778,
              "#fb9f3a"
             ],
             [
              0.8888888888888888,
              "#fdca26"
             ],
             [
              1,
              "#f0f921"
             ]
            ],
            "type": "heatmapgl"
           }
          ],
          "histogram": [
           {
            "marker": {
             "colorbar": {
              "outlinewidth": 0,
              "ticks": ""
             }
            },
            "type": "histogram"
           }
          ],
          "histogram2d": [
           {
            "colorbar": {
             "outlinewidth": 0,
             "ticks": ""
            },
            "colorscale": [
             [
              0,
              "#0d0887"
             ],
             [
              0.1111111111111111,
              "#46039f"
             ],
             [
              0.2222222222222222,
              "#7201a8"
             ],
             [
              0.3333333333333333,
              "#9c179e"
             ],
             [
              0.4444444444444444,
              "#bd3786"
             ],
             [
              0.5555555555555556,
              "#d8576b"
             ],
             [
              0.6666666666666666,
              "#ed7953"
             ],
             [
              0.7777777777777778,
              "#fb9f3a"
             ],
             [
              0.8888888888888888,
              "#fdca26"
             ],
             [
              1,
              "#f0f921"
             ]
            ],
            "type": "histogram2d"
           }
          ],
          "histogram2dcontour": [
           {
            "colorbar": {
             "outlinewidth": 0,
             "ticks": ""
            },
            "colorscale": [
             [
              0,
              "#0d0887"
             ],
             [
              0.1111111111111111,
              "#46039f"
             ],
             [
              0.2222222222222222,
              "#7201a8"
             ],
             [
              0.3333333333333333,
              "#9c179e"
             ],
             [
              0.4444444444444444,
              "#bd3786"
             ],
             [
              0.5555555555555556,
              "#d8576b"
             ],
             [
              0.6666666666666666,
              "#ed7953"
             ],
             [
              0.7777777777777778,
              "#fb9f3a"
             ],
             [
              0.8888888888888888,
              "#fdca26"
             ],
             [
              1,
              "#f0f921"
             ]
            ],
            "type": "histogram2dcontour"
           }
          ],
          "mesh3d": [
           {
            "colorbar": {
             "outlinewidth": 0,
             "ticks": ""
            },
            "type": "mesh3d"
           }
          ],
          "parcoords": [
           {
            "line": {
             "colorbar": {
              "outlinewidth": 0,
              "ticks": ""
             }
            },
            "type": "parcoords"
           }
          ],
          "pie": [
           {
            "automargin": true,
            "type": "pie"
           }
          ],
          "scatter": [
           {
            "marker": {
             "colorbar": {
              "outlinewidth": 0,
              "ticks": ""
             }
            },
            "type": "scatter"
           }
          ],
          "scatter3d": [
           {
            "line": {
             "colorbar": {
              "outlinewidth": 0,
              "ticks": ""
             }
            },
            "marker": {
             "colorbar": {
              "outlinewidth": 0,
              "ticks": ""
             }
            },
            "type": "scatter3d"
           }
          ],
          "scattercarpet": [
           {
            "marker": {
             "colorbar": {
              "outlinewidth": 0,
              "ticks": ""
             }
            },
            "type": "scattercarpet"
           }
          ],
          "scattergeo": [
           {
            "marker": {
             "colorbar": {
              "outlinewidth": 0,
              "ticks": ""
             }
            },
            "type": "scattergeo"
           }
          ],
          "scattergl": [
           {
            "marker": {
             "colorbar": {
              "outlinewidth": 0,
              "ticks": ""
             }
            },
            "type": "scattergl"
           }
          ],
          "scattermapbox": [
           {
            "marker": {
             "colorbar": {
              "outlinewidth": 0,
              "ticks": ""
             }
            },
            "type": "scattermapbox"
           }
          ],
          "scatterpolar": [
           {
            "marker": {
             "colorbar": {
              "outlinewidth": 0,
              "ticks": ""
             }
            },
            "type": "scatterpolar"
           }
          ],
          "scatterpolargl": [
           {
            "marker": {
             "colorbar": {
              "outlinewidth": 0,
              "ticks": ""
             }
            },
            "type": "scatterpolargl"
           }
          ],
          "scatterternary": [
           {
            "marker": {
             "colorbar": {
              "outlinewidth": 0,
              "ticks": ""
             }
            },
            "type": "scatterternary"
           }
          ],
          "surface": [
           {
            "colorbar": {
             "outlinewidth": 0,
             "ticks": ""
            },
            "colorscale": [
             [
              0,
              "#0d0887"
             ],
             [
              0.1111111111111111,
              "#46039f"
             ],
             [
              0.2222222222222222,
              "#7201a8"
             ],
             [
              0.3333333333333333,
              "#9c179e"
             ],
             [
              0.4444444444444444,
              "#bd3786"
             ],
             [
              0.5555555555555556,
              "#d8576b"
             ],
             [
              0.6666666666666666,
              "#ed7953"
             ],
             [
              0.7777777777777778,
              "#fb9f3a"
             ],
             [
              0.8888888888888888,
              "#fdca26"
             ],
             [
              1,
              "#f0f921"
             ]
            ],
            "type": "surface"
           }
          ],
          "table": [
           {
            "cells": {
             "fill": {
              "color": "#EBF0F8"
             },
             "line": {
              "color": "white"
             }
            },
            "header": {
             "fill": {
              "color": "#C8D4E3"
             },
             "line": {
              "color": "white"
             }
            },
            "type": "table"
           }
          ]
         },
         "layout": {
          "annotationdefaults": {
           "arrowcolor": "#2a3f5f",
           "arrowhead": 0,
           "arrowwidth": 1
          },
          "autotypenumbers": "strict",
          "coloraxis": {
           "colorbar": {
            "outlinewidth": 0,
            "ticks": ""
           }
          },
          "colorscale": {
           "diverging": [
            [
             0,
             "#8e0152"
            ],
            [
             0.1,
             "#c51b7d"
            ],
            [
             0.2,
             "#de77ae"
            ],
            [
             0.3,
             "#f1b6da"
            ],
            [
             0.4,
             "#fde0ef"
            ],
            [
             0.5,
             "#f7f7f7"
            ],
            [
             0.6,
             "#e6f5d0"
            ],
            [
             0.7,
             "#b8e186"
            ],
            [
             0.8,
             "#7fbc41"
            ],
            [
             0.9,
             "#4d9221"
            ],
            [
             1,
             "#276419"
            ]
           ],
           "sequential": [
            [
             0,
             "#0d0887"
            ],
            [
             0.1111111111111111,
             "#46039f"
            ],
            [
             0.2222222222222222,
             "#7201a8"
            ],
            [
             0.3333333333333333,
             "#9c179e"
            ],
            [
             0.4444444444444444,
             "#bd3786"
            ],
            [
             0.5555555555555556,
             "#d8576b"
            ],
            [
             0.6666666666666666,
             "#ed7953"
            ],
            [
             0.7777777777777778,
             "#fb9f3a"
            ],
            [
             0.8888888888888888,
             "#fdca26"
            ],
            [
             1,
             "#f0f921"
            ]
           ],
           "sequentialminus": [
            [
             0,
             "#0d0887"
            ],
            [
             0.1111111111111111,
             "#46039f"
            ],
            [
             0.2222222222222222,
             "#7201a8"
            ],
            [
             0.3333333333333333,
             "#9c179e"
            ],
            [
             0.4444444444444444,
             "#bd3786"
            ],
            [
             0.5555555555555556,
             "#d8576b"
            ],
            [
             0.6666666666666666,
             "#ed7953"
            ],
            [
             0.7777777777777778,
             "#fb9f3a"
            ],
            [
             0.8888888888888888,
             "#fdca26"
            ],
            [
             1,
             "#f0f921"
            ]
           ]
          },
          "colorway": [
           "#636efa",
           "#EF553B",
           "#00cc96",
           "#ab63fa",
           "#FFA15A",
           "#19d3f3",
           "#FF6692",
           "#B6E880",
           "#FF97FF",
           "#FECB52"
          ],
          "font": {
           "color": "#2a3f5f"
          },
          "geo": {
           "bgcolor": "white",
           "lakecolor": "white",
           "landcolor": "#E5ECF6",
           "showlakes": true,
           "showland": true,
           "subunitcolor": "white"
          },
          "hoverlabel": {
           "align": "left"
          },
          "hovermode": "closest",
          "mapbox": {
           "style": "light"
          },
          "paper_bgcolor": "white",
          "plot_bgcolor": "#E5ECF6",
          "polar": {
           "angularaxis": {
            "gridcolor": "white",
            "linecolor": "white",
            "ticks": ""
           },
           "bgcolor": "#E5ECF6",
           "radialaxis": {
            "gridcolor": "white",
            "linecolor": "white",
            "ticks": ""
           }
          },
          "scene": {
           "xaxis": {
            "backgroundcolor": "#E5ECF6",
            "gridcolor": "white",
            "gridwidth": 2,
            "linecolor": "white",
            "showbackground": true,
            "ticks": "",
            "zerolinecolor": "white"
           },
           "yaxis": {
            "backgroundcolor": "#E5ECF6",
            "gridcolor": "white",
            "gridwidth": 2,
            "linecolor": "white",
            "showbackground": true,
            "ticks": "",
            "zerolinecolor": "white"
           },
           "zaxis": {
            "backgroundcolor": "#E5ECF6",
            "gridcolor": "white",
            "gridwidth": 2,
            "linecolor": "white",
            "showbackground": true,
            "ticks": "",
            "zerolinecolor": "white"
           }
          },
          "shapedefaults": {
           "line": {
            "color": "#2a3f5f"
           }
          },
          "ternary": {
           "aaxis": {
            "gridcolor": "white",
            "linecolor": "white",
            "ticks": ""
           },
           "baxis": {
            "gridcolor": "white",
            "linecolor": "white",
            "ticks": ""
           },
           "bgcolor": "#E5ECF6",
           "caxis": {
            "gridcolor": "white",
            "linecolor": "white",
            "ticks": ""
           }
          },
          "title": {
           "x": 0.05
          },
          "xaxis": {
           "automargin": true,
           "gridcolor": "white",
           "linecolor": "white",
           "ticks": "",
           "title": {
            "standoff": 15
           },
           "zerolinecolor": "white",
           "zerolinewidth": 2
          },
          "yaxis": {
           "automargin": true,
           "gridcolor": "white",
           "linecolor": "white",
           "ticks": "",
           "title": {
            "standoff": 15
           },
           "zerolinecolor": "white",
           "zerolinewidth": 2
          }
         }
        },
        "xaxis": {
         "anchor": "y",
         "autorange": true,
         "domain": [
          0,
          1
         ],
         "range": [
          0.5,
          12.5
         ],
         "title": {
          "text": "month"
         },
         "type": "linear"
        },
        "yaxis": {
         "anchor": "x",
         "autorange": true,
         "domain": [
          0,
          1
         ],
         "range": [
          13.032222222222222,
          39.24777777777778
         ],
         "title": {
          "text": "Consumo_de_cerveza"
         },
         "type": "linear"
        }
       }
      },
      "image/png": "[encoded data removed]",
      "text/html": [
       "<div>                            <div id=\"19ff919d-3ab4-4f5a-9988-a1c8e270a928\" class=\"plotly-graph-div\" style=\"height:525px; width:100%;\"></div>            <script type=\"text/javascript\">                require([\"plotly\"], function(Plotly) {                    window.PLOTLYENV=window.PLOTLYENV || {};                                    if (document.getElementById(\"19ff919d-3ab4-4f5a-9988-a1c8e270a928\")) {                    Plotly.newPlot(                        \"19ff919d-3ab4-4f5a-9988-a1c8e270a928\",                        [{\"alignmentgroup\": \"True\", \"hovertemplate\": \"month=%{x}<br>Consumo_de_cerveza=%{y}<extra></extra>\", \"legendgroup\": \"\", \"marker\": {\"color\": \"#636efa\"}, \"name\": \"\", \"notched\": false, \"offsetgroup\": \"\", \"orientation\": \"v\", \"showlegend\": false, \"type\": \"box\", \"x\": [1, 1, 1, 1, 1, 1, 1, 1, 1, 1, 1, 1, 1, 1, 1, 1, 1, 1, 1, 1, 1, 1, 1, 1, 1, 1, 1, 1, 1, 1, 1, 2, 2, 2, 2, 2, 2, 2, 2, 2, 2, 2, 2, 2, 2, 2, 2, 2, 2, 2, 2, 2, 2, 2, 2, 2, 2, 2, 2, 3, 3, 3, 3, 3, 3, 3, 3, 3, 3, 3, 3, 3, 3, 3, 3, 3, 3, 3, 3, 3, 3, 3, 3, 3, 3, 3, 3, 3, 3, 3, 4, 4, 4, 4, 4, 4, 4, 4, 4, 4, 4, 4, 4, 4, 4, 4, 4, 4, 4, 4, 4, 4, 4, 4, 4, 4, 4, 4, 4, 4, 5, 5, 5, 5, 5, 5, 5, 5, 5, 5, 5, 5, 5, 5, 5, 5, 5, 5, 5, 5, 5, 5, 5, 5, 5, 5, 5, 5, 5, 5, 5, 6, 6, 6, 6, 6, 6, 6, 6, 6, 6, 6, 6, 6, 6, 6, 6, 6, 6, 6, 6, 6, 6, 6, 6, 6, 6, 6, 6, 6, 6, 7, 7, 7, 7, 7, 7, 7, 7, 7, 7, 7, 7, 7, 7, 7, 7, 7, 7, 7, 7, 7, 7, 7, 7, 7, 7, 7, 7, 7, 7, 7, 8, 8, 8, 8, 8, 8, 8, 8, 8, 8, 8, 8, 8, 8, 8, 8, 8, 8, 8, 8, 8, 8, 8, 8, 8, 8, 8, 8, 8, 8, 8, 9, 9, 9, 9, 9, 9, 9, 9, 9, 9, 9, 9, 9, 9, 9, 9, 9, 9, 9, 9, 9, 9, 9, 9, 9, 9, 9, 9, 9, 9, 10, 10, 10, 10, 10, 10, 10, 10, 10, 10, 10, 10, 10, 10, 10, 10, 10, 10, 10, 10, 10, 10, 10, 10, 10, 10, 10, 10, 10, 10, 10, 11, 11, 11, 11, 11, 11, 11, 11, 11, 11, 11, 11, 11, 11, 11, 11, 11, 11, 11, 11, 11, 11, 11, 11, 11, 11, 11, 11, 11, 11, 12, 12, 12, 12, 12, 12, 12, 12, 12, 12, 12, 12, 12, 12, 12, 12, 12, 12, 12, 12, 12, 12, 12, 12, 12, 12, 12, 12, 12, 12, 12], \"x0\": \" \", \"xaxis\": \"x\", \"y\": [25.461, 28.971999999999998, 30.814, 29.799, 28.9, 28.218000000000004, 29.732, 28.397, 24.886, 37.937, 36.254, 25.743000000000002, 26.99, 31.825, 25.724, 29.938000000000002, 37.69, 30.524, 29.265, 35.126999999999995, 29.13, 25.795, 21.784000000000002, 28.348000000000003, 31.088, 21.52, 29.971999999999998, 22.603, 22.695999999999998, 26.845, 27.03, 32.056999999999995, 24.096999999999998, 31.655, 24.738000000000003, 19.95, 22.820999999999998, 28.893, 29.926, 24.061999999999998, 21.136999999999997, 26.805, 26.389, 24.219, 30.230999999999998, 24.968000000000004, 25.343000000000004, 17.399, 21.392, 22.921999999999997, 24.566999999999997, 30.943, 30.825, 25.691999999999997, 26.959, 25.366, 22.784000000000002, 26.241, 26.467, 27.475, 28.749000000000002, 24.146, 22.988000000000003, 30.3, 22.654, 29.09, 24.619, 20.016, 23.041999999999998, 22.933000000000003, 22.409000000000002, 21.281, 28.844, 32.872, 20.903000000000002, 26.275, 20.167, 23.628, 24.213, 28.631, 25.855, 21.406, 21.616999999999997, 22.401, 27.989, 24.974, 29.76, 26.116, 25.85, 24.925, 21.979, 22.116, 24.866999999999997, 33.45, 32.713, 22.355999999999998, 21.004, 23.362, 20.298, 24.862, 30.505, 25.07, 22.62, 22.000999999999998, 23.469, 21.735, 21.593000000000004, 33.821999999999996, 28.028000000000002, 24.304000000000002, 31.108, 19.113, 23.198, 24.388, 27.42, 30.479, 21.838, 20.811999999999998, 19.761, 20.452, 17.939, 25.272, 28.049, 25.316999999999997, 21.826, 20.68, 19.143, 18.146, 25.489, 23.537, 16.956, 19.052, 17.287, 20.3, 20.538, 23.701999999999998, 28.410999999999998, 21.073, 24.215, 19.525, 20.785999999999998, 20.429000000000002, 27.25, 31.386999999999997, 26.075, 22.162, 24.258000000000003, 24.683000000000003, 21.245, 25.936999999999998, 26.081, 16.227999999999998, 20.105999999999998, 21.055, 22.772, 25.142, 31.129, 30.498, 26.15, 21.326999999999998, 22.008000000000003, 24.615, 22.375, 29.607, 32.983000000000004, 19.119, 21.029, 23.898000000000003, 24.534000000000002, 16.748, 23.055, 28.857, 23.022, 27.146, 17.241, 19.463, 21.86, 24.226999999999997, 27.594, 24.863000000000003, 20.160999999999998, 20.824, 19.727, 14.94, 24.631999999999998, 21.294, 18.448, 21.237, 19.849, 20.74, 25.698, 26.691, 33.298, 25.64, 23.936999999999998, 28.741999999999997, 21.748, 22.031999999999996, 24.826999999999998, 32.473, 20.62, 21.825, 14.343, 19.029, 21.104, 20.738000000000003, 25.233, 18.975, 19.64, 22.522, 24.226999999999997, 24.726, 32.467, 31.663, 25.866999999999997, 27.724, 22.039, 26.127, 26.58, 31.31, 33.516999999999996, 23.180999999999997, 24.183000000000003, 24.594, 22.61, 25.479, 29.621, 26.272, 22.541, 23.07, 26.021, 17.655, 23.243000000000002, 30.177, 27.518, 23.21, 21.092, 23.357, 17.887999999999998, 22.217, 31.680999999999997, 31.833000000000002, 28.441, 22.389, 20.680999999999997, 24.221999999999998, 19.345, 21.826999999999998, 23.566, 20.227, 17.075, 16.977, 21.525, 21.454, 21.814, 21.252, 20.464000000000002, 30.775, 25.343000000000004, 33.93, 26.311, 31.836, 34.695, 29.829, 26.362, 32.589, 30.345, 29.410999999999998, 29.636999999999997, 32.184, 17.730999999999998, 24.114, 28.034000000000002, 22.664, 27.488000000000003, 24.875999999999998, 24.862, 24.679000000000002, 22.304000000000002, 30.329, 33.181999999999995, 23.849, 33.33, 34.496, 26.249000000000002, 26.523000000000003, 26.793000000000003, 35.861, 27.386999999999997, 32.666, 22.199, 24.0, 27.871, 31.139, 23.065, 26.594, 27.656999999999996, 26.594, 28.084, 27.581999999999997, 24.862, 22.634, 31.649, 35.781, 24.429000000000002, 20.648000000000003, 22.741, 21.479, 23.134, 20.575, 24.33, 28.61, 28.456, 27.964000000000002, 29.569000000000003, 29.267, 28.647, 26.836, 29.386, 24.609, 26.964000000000002, 23.614, 22.96, 20.332, 30.392, 31.933000000000003, 21.662, 21.689, 25.119, 25.285, 28.979, 34.382, 30.616999999999997, 20.238, 24.529, 30.471, 28.405, 29.513, 32.451, 32.78, 23.375, 27.713, 27.136999999999997, 22.933000000000003, 30.74, 29.579, 29.188000000000002, 28.131, 28.616999999999997, 21.061999999999998, 24.337, 27.041999999999998, 32.536, 30.127, 24.834, 26.828000000000003, 26.468000000000004, 31.572, 26.308000000000003, 21.955, 32.306999999999995, 26.095, 22.309, 20.467, 22.445999999999998], \"y0\": \" \", \"yaxis\": \"y\"}],                        {\"boxmode\": \"group\", \"legend\": {\"tracegroupgap\": 0}, \"margin\": {\"t\": 60}, \"template\": {\"data\": {\"bar\": [{\"error_x\": {\"color\": \"#2a3f5f\"}, \"error_y\": {\"color\": \"#2a3f5f\"}, \"marker\": {\"line\": {\"color\": \"#E5ECF6\", \"width\": 0.5}}, \"type\": \"bar\"}], \"barpolar\": [{\"marker\": {\"line\": {\"color\": \"#E5ECF6\", \"width\": 0.5}}, \"type\": \"barpolar\"}], \"carpet\": [{\"aaxis\": {\"endlinecolor\": \"#2a3f5f\", \"gridcolor\": \"white\", \"linecolor\": \"white\", \"minorgridcolor\": \"white\", \"startlinecolor\": \"#2a3f5f\"}, \"baxis\": {\"endlinecolor\": \"#2a3f5f\", \"gridcolor\": \"white\", \"linecolor\": \"white\", \"minorgridcolor\": \"white\", \"startlinecolor\": \"#2a3f5f\"}, \"type\": \"carpet\"}], \"choropleth\": [{\"colorbar\": {\"outlinewidth\": 0, \"ticks\": \"\"}, \"type\": \"choropleth\"}], \"contour\": [{\"colorbar\": {\"outlinewidth\": 0, \"ticks\": \"\"}, \"colorscale\": [[0.0, \"#0d0887\"], [0.1111111111111111, \"#46039f\"], [0.2222222222222222, \"#7201a8\"], [0.3333333333333333, \"#9c179e\"], [0.4444444444444444, \"#bd3786\"], [0.5555555555555556, \"#d8576b\"], [0.6666666666666666, \"#ed7953\"], [0.7777777777777778, \"#fb9f3a\"], [0.8888888888888888, \"#fdca26\"], [1.0, \"#f0f921\"]], \"type\": \"contour\"}], \"contourcarpet\": [{\"colorbar\": {\"outlinewidth\": 0, \"ticks\": \"\"}, \"type\": \"contourcarpet\"}], \"heatmap\": [{\"colorbar\": {\"outlinewidth\": 0, \"ticks\": \"\"}, \"colorscale\": [[0.0, \"#0d0887\"], [0.1111111111111111, \"#46039f\"], [0.2222222222222222, \"#7201a8\"], [0.3333333333333333, \"#9c179e\"], [0.4444444444444444, \"#bd3786\"], [0.5555555555555556, \"#d8576b\"], [0.6666666666666666, \"#ed7953\"], [0.7777777777777778, \"#fb9f3a\"], [0.8888888888888888, \"#fdca26\"], [1.0, \"#f0f921\"]], \"type\": \"heatmap\"}], \"heatmapgl\": [{\"colorbar\": {\"outlinewidth\": 0, \"ticks\": \"\"}, \"colorscale\": [[0.0, \"#0d0887\"], [0.1111111111111111, \"#46039f\"], [0.2222222222222222, \"#7201a8\"], [0.3333333333333333, \"#9c179e\"], [0.4444444444444444, \"#bd3786\"], [0.5555555555555556, \"#d8576b\"], [0.6666666666666666, \"#ed7953\"], [0.7777777777777778, \"#fb9f3a\"], [0.8888888888888888, \"#fdca26\"], [1.0, \"#f0f921\"]], \"type\": \"heatmapgl\"}], \"histogram\": [{\"marker\": {\"colorbar\": {\"outlinewidth\": 0, \"ticks\": \"\"}}, \"type\": \"histogram\"}], \"histogram2d\": [{\"colorbar\": {\"outlinewidth\": 0, \"ticks\": \"\"}, \"colorscale\": [[0.0, \"#0d0887\"], [0.1111111111111111, \"#46039f\"], [0.2222222222222222, \"#7201a8\"], [0.3333333333333333, \"#9c179e\"], [0.4444444444444444, \"#bd3786\"], [0.5555555555555556, \"#d8576b\"], [0.6666666666666666, \"#ed7953\"], [0.7777777777777778, \"#fb9f3a\"], [0.8888888888888888, \"#fdca26\"], [1.0, \"#f0f921\"]], \"type\": \"histogram2d\"}], \"histogram2dcontour\": [{\"colorbar\": {\"outlinewidth\": 0, \"ticks\": \"\"}, \"colorscale\": [[0.0, \"#0d0887\"], [0.1111111111111111, \"#46039f\"], [0.2222222222222222, \"#7201a8\"], [0.3333333333333333, \"#9c179e\"], [0.4444444444444444, \"#bd3786\"], [0.5555555555555556, \"#d8576b\"], [0.6666666666666666, \"#ed7953\"], [0.7777777777777778, \"#fb9f3a\"], [0.8888888888888888, \"#fdca26\"], [1.0, \"#f0f921\"]], \"type\": \"histogram2dcontour\"}], \"mesh3d\": [{\"colorbar\": {\"outlinewidth\": 0, \"ticks\": \"\"}, \"type\": \"mesh3d\"}], \"parcoords\": [{\"line\": {\"colorbar\": {\"outlinewidth\": 0, \"ticks\": \"\"}}, \"type\": \"parcoords\"}], \"pie\": [{\"automargin\": true, \"type\": \"pie\"}], \"scatter\": [{\"marker\": {\"colorbar\": {\"outlinewidth\": 0, \"ticks\": \"\"}}, \"type\": \"scatter\"}], \"scatter3d\": [{\"line\": {\"colorbar\": {\"outlinewidth\": 0, \"ticks\": \"\"}}, \"marker\": {\"colorbar\": {\"outlinewidth\": 0, \"ticks\": \"\"}}, \"type\": \"scatter3d\"}], \"scattercarpet\": [{\"marker\": {\"colorbar\": {\"outlinewidth\": 0, \"ticks\": \"\"}}, \"type\": \"scattercarpet\"}], \"scattergeo\": [{\"marker\": {\"colorbar\": {\"outlinewidth\": 0, \"ticks\": \"\"}}, \"type\": \"scattergeo\"}], \"scattergl\": [{\"marker\": {\"colorbar\": {\"outlinewidth\": 0, \"ticks\": \"\"}}, \"type\": \"scattergl\"}], \"scattermapbox\": [{\"marker\": {\"colorbar\": {\"outlinewidth\": 0, \"ticks\": \"\"}}, \"type\": \"scattermapbox\"}], \"scatterpolar\": [{\"marker\": {\"colorbar\": {\"outlinewidth\": 0, \"ticks\": \"\"}}, \"type\": \"scatterpolar\"}], \"scatterpolargl\": [{\"marker\": {\"colorbar\": {\"outlinewidth\": 0, \"ticks\": \"\"}}, \"type\": \"scatterpolargl\"}], \"scatterternary\": [{\"marker\": {\"colorbar\": {\"outlinewidth\": 0, \"ticks\": \"\"}}, \"type\": \"scatterternary\"}], \"surface\": [{\"colorbar\": {\"outlinewidth\": 0, \"ticks\": \"\"}, \"colorscale\": [[0.0, \"#0d0887\"], [0.1111111111111111, \"#46039f\"], [0.2222222222222222, \"#7201a8\"], [0.3333333333333333, \"#9c179e\"], [0.4444444444444444, \"#bd3786\"], [0.5555555555555556, \"#d8576b\"], [0.6666666666666666, \"#ed7953\"], [0.7777777777777778, \"#fb9f3a\"], [0.8888888888888888, \"#fdca26\"], [1.0, \"#f0f921\"]], \"type\": \"surface\"}], \"table\": [{\"cells\": {\"fill\": {\"color\": \"#EBF0F8\"}, \"line\": {\"color\": \"white\"}}, \"header\": {\"fill\": {\"color\": \"#C8D4E3\"}, \"line\": {\"color\": \"white\"}}, \"type\": \"table\"}]}, \"layout\": {\"annotationdefaults\": {\"arrowcolor\": \"#2a3f5f\", \"arrowhead\": 0, \"arrowwidth\": 1}, \"autotypenumbers\": \"strict\", \"coloraxis\": {\"colorbar\": {\"outlinewidth\": 0, \"ticks\": \"\"}}, \"colorscale\": {\"diverging\": [[0, \"#8e0152\"], [0.1, \"#c51b7d\"], [0.2, \"#de77ae\"], [0.3, \"#f1b6da\"], [0.4, \"#fde0ef\"], [0.5, \"#f7f7f7\"], [0.6, \"#e6f5d0\"], [0.7, \"#b8e186\"], [0.8, \"#7fbc41\"], [0.9, \"#4d9221\"], [1, \"#276419\"]], \"sequential\": [[0.0, \"#0d0887\"], [0.1111111111111111, \"#46039f\"], [0.2222222222222222, \"#7201a8\"], [0.3333333333333333, \"#9c179e\"], [0.4444444444444444, \"#bd3786\"], [0.5555555555555556, \"#d8576b\"], [0.6666666666666666, \"#ed7953\"], [0.7777777777777778, \"#fb9f3a\"], [0.8888888888888888, \"#fdca26\"], [1.0, \"#f0f921\"]], \"sequentialminus\": [[0.0, \"#0d0887\"], [0.1111111111111111, \"#46039f\"], [0.2222222222222222, \"#7201a8\"], [0.3333333333333333, \"#9c179e\"], [0.4444444444444444, \"#bd3786\"], [0.5555555555555556, \"#d8576b\"], [0.6666666666666666, \"#ed7953\"], [0.7777777777777778, \"#fb9f3a\"], [0.8888888888888888, \"#fdca26\"], [1.0, \"#f0f921\"]]}, \"colorway\": [\"#636efa\", \"#EF553B\", \"#00cc96\", \"#ab63fa\", \"#FFA15A\", \"#19d3f3\", \"#FF6692\", \"#B6E880\", \"#FF97FF\", \"#FECB52\"], \"font\": {\"color\": \"#2a3f5f\"}, \"geo\": {\"bgcolor\": \"white\", \"lakecolor\": \"white\", \"landcolor\": \"#E5ECF6\", \"showlakes\": true, \"showland\": true, \"subunitcolor\": \"white\"}, \"hoverlabel\": {\"align\": \"left\"}, \"hovermode\": \"closest\", \"mapbox\": {\"style\": \"light\"}, \"paper_bgcolor\": \"white\", \"plot_bgcolor\": \"#E5ECF6\", \"polar\": {\"angularaxis\": {\"gridcolor\": \"white\", \"linecolor\": \"white\", \"ticks\": \"\"}, \"bgcolor\": \"#E5ECF6\", \"radialaxis\": {\"gridcolor\": \"white\", \"linecolor\": \"white\", \"ticks\": \"\"}}, \"scene\": {\"xaxis\": {\"backgroundcolor\": \"#E5ECF6\", \"gridcolor\": \"white\", \"gridwidth\": 2, \"linecolor\": \"white\", \"showbackground\": true, \"ticks\": \"\", \"zerolinecolor\": \"white\"}, \"yaxis\": {\"backgroundcolor\": \"#E5ECF6\", \"gridcolor\": \"white\", \"gridwidth\": 2, \"linecolor\": \"white\", \"showbackground\": true, \"ticks\": \"\", \"zerolinecolor\": \"white\"}, \"zaxis\": {\"backgroundcolor\": \"#E5ECF6\", \"gridcolor\": \"white\", \"gridwidth\": 2, \"linecolor\": \"white\", \"showbackground\": true, \"ticks\": \"\", \"zerolinecolor\": \"white\"}}, \"shapedefaults\": {\"line\": {\"color\": \"#2a3f5f\"}}, \"ternary\": {\"aaxis\": {\"gridcolor\": \"white\", \"linecolor\": \"white\", \"ticks\": \"\"}, \"baxis\": {\"gridcolor\": \"white\", \"linecolor\": \"white\", \"ticks\": \"\"}, \"bgcolor\": \"#E5ECF6\", \"caxis\": {\"gridcolor\": \"white\", \"linecolor\": \"white\", \"ticks\": \"\"}}, \"title\": {\"x\": 0.05}, \"xaxis\": {\"automargin\": true, \"gridcolor\": \"white\", \"linecolor\": \"white\", \"ticks\": \"\", \"title\": {\"standoff\": 15}, \"zerolinecolor\": \"white\", \"zerolinewidth\": 2}, \"yaxis\": {\"automargin\": true, \"gridcolor\": \"white\", \"linecolor\": \"white\", \"ticks\": \"\", \"title\": {\"standoff\": 15}, \"zerolinecolor\": \"white\", \"zerolinewidth\": 2}}}, \"xaxis\": {\"anchor\": \"y\", \"domain\": [0.0, 1.0], \"title\": {\"text\": \"month\"}}, \"yaxis\": {\"anchor\": \"x\", \"domain\": [0.0, 1.0], \"title\": {\"text\": \"Consumo_de_cerveza\"}}},                        {\"responsive\": true}                    ).then(function(){\n",
       "                            \n",
       "var gd = document.getElementById('19ff919d-3ab4-4f5a-9988-a1c8e270a928');\n",
       "var x = new MutationObserver(function (mutations, observer) {{\n",
       "        var display = window.getComputedStyle(gd).display;\n",
       "        if (!display || display === 'none') {{\n",
       "            console.log([gd, 'removed!']);\n",
       "            Plotly.purge(gd);\n",
       "            observer.disconnect();\n",
       "        }}\n",
       "}});\n",
       "\n",
       "// Listen for the removal of the full notebook cells\n",
       "var notebookContainer = gd.closest('#notebook-container');\n",
       "if (notebookContainer) {{\n",
       "    x.observe(notebookContainer, {childList: true});\n",
       "}}\n",
       "\n",
       "// Listen for the clearing of the current output cell\n",
       "var outputEl = gd.closest('.output');\n",
       "if (outputEl) {{\n",
       "    x.observe(outputEl, {childList: true});\n",
       "}}\n",
       "\n",
       "                        })                };                });            </script>        </div>"
      ]
     },
     "metadata": {},
     "output_type": "display_data"
    }
   ],
   "source": [
    "fig2 = px.box(data_frame=data, x='month' ,y='Consumo_de_cerveza')\n",
    "fig2.show()"
   ]
  },
  {
   "cell_type": "markdown",
   "metadata": {},
   "source": [
    "Parece que existe una relacion entre la temperatura y el consumo. ¿Será que tomamos cerveza para refrescarnos?\n",
    "\n",
    "Usemos un heatmap para representar la matriz de correlaciones"
   ]
  },
  {
   "cell_type": "code",
   "execution_count": 51,
   "metadata": {},
   "outputs": [
    {
     "data": {
      "image/png": "[encoded data removed]",
      "text/plain": [
       "<Figure size 432x288 with 2 Axes>"
      ]
     },
     "metadata": {
      "needs_background": "light"
     },
     "output_type": "display_data"
    }
   ],
   "source": [
    "sns.heatmap(data.corr(), annot=True, cmap='Blues');\n",
    "plt.title(\"Correlation Heatmap\")\n",
    "plt.show()"
   ]
  },
  {
   "cell_type": "code",
   "execution_count": null,
   "metadata": {},
   "outputs": [],
   "source": [
    "\n"
   ]
  },
  {
   "cell_type": "code",
   "execution_count": 9,
   "metadata": {},
   "outputs": [
    {
     "data": {
      "image/png": "[encoded data removed]",
      "text/plain": [
       "<Figure size 360x360 with 1 Axes>"
      ]
     },
     "metadata": {
      "needs_background": "light"
     },
     "output_type": "display_data"
    }
   ],
   "source": [
    "sns.lmplot(x=\"Consumo_de_cerveza\", y=\"Temperatura_Maxima\", data=data)\n",
    "plt.title(\"Cuanto tomamos en relacion a la temperatura? \")\n",
    "plt.show()"
   ]
  },
  {
   "cell_type": "markdown",
   "metadata": {},
   "source": [
    "<div class=\"alert alert-block alert-success\">\n",
    "<b>Conclusiones:</b> \n",
    "    Encontramos algunas relaciones lógicas entre el consumo de cerveza y la temperatura o el momento de la semana.\n",
    "    Dado que encontramos tal vez una relacion lineal entre la temperatura maxima y el consumo podemos entrenar un modelo lineal para predecir el consumo dado la temperatura.\n",
    "</div>"
   ]
  },
  {
   "cell_type": "markdown",
   "metadata": {},
   "source": [
    "### Modelo Lineal\n",
    "\n",
    "Calculemos una regresión lineal ajustando el modelo con la variable predictora temperatura máxima.\n"
   ]
  },
  {
   "cell_type": "code",
   "execution_count": 30,
   "metadata": {},
   "outputs": [],
   "source": [
    "from sklearn import linear_model\n",
    "from sklearn.metrics import mean_squared_error, r2_score\n",
    "from sklearn.model_selection import train_test_split"
   ]
  },
  {
   "cell_type": "code",
   "execution_count": 56,
   "metadata": {},
   "outputs": [
    {
     "name": "stdout",
     "output_type": "stream",
     "text": [
      "Intercepto=   7.9749393794593075\n",
      "RM=   [0.65484558]\n",
      "R2_train=   0.413027909953363\n"
     ]
    }
   ],
   "source": [
    "# Selecciono la variable predictora y la variable objetivo\n",
    "\n",
    "X=data[['Temperatura_Maxima']]\n",
    "y=data['Consumo_de_cerveza']\n",
    "\n",
    "# Instanciamos el modelo\n",
    "lm = linear_model.LinearRegression()\n",
    "\n",
    "# Fiteo el modelo\n",
    "\n",
    "modelo=lm.fit(X,y)\n",
    "# modelo\n",
    "\n",
    "# Guardo las predicciones en un vector\n",
    "prediccion = lm.predict(X)\n",
    "# prediccion\n",
    "# Imprimimos el intercepto y los coeficientes como atributos del objeto entrenado.\n",
    "print ('Intercepto=', ' ', modelo.intercept_)\n",
    "print ('RM=', ' ', modelo.coef_)\n",
    "# imprimos la metrica que mide la bondad de ajusto del modelo. En este caso el R2.\n",
    "print ('R2_train=', ' ', modelo.score(X, y))"
   ]
  },
  {
   "cell_type": "code",
   "execution_count": null,
   "metadata": {},
   "outputs": [],
   "source": []
  },
  {
   "cell_type": "markdown",
   "metadata": {},
   "source": [
    "Grafiquemos usando un scatterplot los datos y la recta resultado del ajuste."
   ]
  },
  {
   "cell_type": "code",
   "execution_count": 70,
   "metadata": {},
   "outputs": [
    {
     "data": {
      "image/png": "[encoded data removed]",
      "text/plain": [
       "<Figure size 720x720 with 1 Axes>"
      ]
     },
     "metadata": {
      "needs_background": "light"
     },
     "output_type": "display_data"
    }
   ],
   "source": [
    "plt.figure(figsize=(10,10))\n",
    "plt.plot(X,prediccion,color=\"red\",label=\"Predict line\")\n",
    "plt.scatter(X,y)\n",
    "plt.title(\"Predict with Linear Regression\")\n",
    "plt.ylabel(\"Beer consumption\")\n",
    "plt.xlabel(\"Max Temperature\")\n",
    "plt.legend()\n",
    "plt.show()"
   ]
  },
  {
   "cell_type": "markdown",
   "metadata": {},
   "source": [
    "Usando la regresión lineal construida, cuál es el valor predicho cuando la temperatura máxima es 30 grados?"
   ]
  },
  {
   "cell_type": "code",
   "execution_count": 72,
   "metadata": {},
   "outputs": [
    {
     "data": {
      "text/plain": [
       "array([27.6203069])"
      ]
     },
     "execution_count": 72,
     "metadata": {},
     "output_type": "execute_result"
    }
   ],
   "source": [
    "lm.predict([[30]])"
   ]
  }
 ],
 "metadata": {
  "kernelspec": {
   "display_name": "Python [conda env:dhdsblend2021] *",
   "language": "python",
   "name": "conda-env-dhdsblend2021-py"
  },
  "language_info": {
   "codemirror_mode": {
    "name": "ipython",
    "version": 3
   },
   "file_extension": ".py",
   "mimetype": "text/x-python",
   "name": "python",
   "nbconvert_exporter": "python",
   "pygments_lexer": "ipython3",
   "version": "3.8.11"
  }
 },
 "nbformat": 4,
 "nbformat_minor": 4
}
