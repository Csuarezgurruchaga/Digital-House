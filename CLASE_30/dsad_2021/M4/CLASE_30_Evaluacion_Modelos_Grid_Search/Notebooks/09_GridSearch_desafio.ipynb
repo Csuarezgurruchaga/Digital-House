{
 "cells": [
  {
   "cell_type": "code",
   "execution_count": 1,
   "metadata": {},
   "outputs": [
    {
     "name": "stdout",
     "output_type": "stream",
     "text": [
      "/Users/csuarezgurruchaga/Desktop/Digital-House/CLASE_30/dsad_2021/common\n",
      "default checking\n",
      "Running command `conda list`... ok\n",
      "jupyterlab=2.2.6 already installed\n",
      "pandas=1.1.5 already installed\n",
      "bokeh=2.2.3 already installed\n",
      "seaborn=0.11.0 already installed\n",
      "matplotlib=3.3.2 already installed\n",
      "ipywidgets=7.5.1 already installed\n",
      "pytest=6.2.1 already installed\n",
      "chardet=4.0.0 already installed\n",
      "psutil=5.7.2 already installed\n",
      "scipy=1.5.2 already installed\n",
      "statsmodels=0.12.1 already installed\n",
      "scikit-learn=0.23.2 already installed\n",
      "xlrd=2.0.1 already installed\n",
      "Running command `conda install --yes nltk=3.5.0`... ok\n",
      "Collecting package metadata (current_repodata.json): ...working... done\n",
      "Solving environment: ...working... done\n",
      "\n",
      "# All requested packages already installed.\n",
      "\n",
      "\n",
      "unidecode=1.1.1 already installed\n",
      "pydotplus=2.0.2 already installed\n",
      "pandas-datareader=0.9.0 already installed\n",
      "flask=1.1.2 already installed\n"
     ]
    }
   ],
   "source": [
    "# initial setup\n",
    "%run \"../../../common/0_notebooks_base_setup.py\"\n"
   ]
  },
  {
   "cell_type": "markdown",
   "metadata": {},
   "source": [
    "---\n",
    "\n",
    "<img src='../../../common/logo_DH.png' align='left' width=35%/>"
   ]
  },
  {
   "cell_type": "markdown",
   "metadata": {
    "colab_type": "text",
    "id": "pZ39pfwzi7bE"
   },
   "source": [
    "# LAB: Estimando hiperparámetros con `GridSearchCV` para Regresión Logística y KNN"
   ]
  },
  {
   "cell_type": "markdown",
   "metadata": {
    "colab_type": "text",
    "id": "1SA5rbqBi7bG"
   },
   "source": [
    "## Introducción"
   ]
  },
  {
   "cell_type": "markdown",
   "metadata": {
    "colab_type": "text",
    "id": "-MUV2CrCi7bH"
   },
   "source": [
    "El objetivo de esta práctica es que puedan comenzar a tunear hiperparámetros usando Cross Validation. Para eso, usaremos `GridSearchCV`.\n",
    "\n",
    "Utilizaremos un dataset sobre cáncer de mama. Contiene información de estudios clínicos y celulares. El objetivo es predecir el carácter benigno ($class_t=0$) maligno ($class_t=1$) del cáncer en función de una serie de predictores a nivel celular.\n",
    "\n",
    "    + class_t es la variable target\n",
    "    + el resto son variables con valores normalizados de 1 a 10\n",
    "\n",
    "[Aquí](https://archive.ics.uci.edu/ml/machine-learning-databases/breast-cancer-wisconsin/breast-cancer-wisconsin.names) pueden encontrar más información sobre el dataset.\n",
    "\n",
    "**Nota:** se eliminaron del dataset original 16 casos con valores perdidos en algunos campos."
   ]
  },
  {
   "cell_type": "markdown",
   "metadata": {
    "colab_type": "text",
    "id": "08w2000-i7bI"
   },
   "source": [
    "## Tareas"
   ]
  },
  {
   "cell_type": "markdown",
   "metadata": {
    "colab_type": "text",
    "id": "1NIKafjGi7bK"
   },
   "source": [
    "Para esta práctica deberá \n",
    "\n",
    "1. Construir dos clasificadores: Regresión Logística y K-Vecinos más Cercanos (KNN)\n",
    "2. Estimar los hiperpáremetros del modelo\n",
    "    \n",
    "    - 2.1 **LogReg:** deberá tunear un modelo con solver 'saga', C's = 1, 10, 100, 1000, y regularización L1 y L2\n",
    "    - 2.2 **KNN:** deberá tunear tanto el parámetro k, como la medida del peso dado a los K vecinos (uniforme o distancia). También podría probar con el parámetro p que define el tipo de distancia con el que se calculan los vecinos más cercanos.\n",
    "      \n",
    "      \n",
    "3. Estimar los modelos finales\n",
    "4. Evaluar cuál de los dos performa mejor\n",
    "\n",
    "**Importante:** recuerde que deberá diseñar cuidadosamente las diferentes estrategias de validación de las diferentes etapas de estimación del modelo."
   ]
  },
  {
   "cell_type": "markdown",
   "metadata": {
    "colab_type": "text",
    "id": "UEaemDQDi7bL"
   },
   "source": [
    "Importamos los paquetes necesarios\n"
   ]
  },
  {
   "cell_type": "code",
   "execution_count": 2,
   "metadata": {
    "colab": {},
    "colab_type": "code",
    "id": "-jGiJ0FTi7bM"
   },
   "outputs": [],
   "source": [
    "from sklearn.linear_model import LogisticRegression\n",
    "from sklearn.neighbors import KNeighborsClassifier\n",
    "from sklearn.model_selection import GridSearchCV, train_test_split\n",
    "from sklearn.metrics import classification_report, confusion_matrix\n",
    "import pandas as pd\n",
    "import numpy as np\n",
    "import seaborn as sns\n",
    "from sklearn import datasets\n",
    "from sklearn.preprocessing import normalize"
   ]
  },
  {
   "cell_type": "markdown",
   "metadata": {
    "colab_type": "text",
    "id": "ym3Q25YJi7bS"
   },
   "source": [
    "Importamos el dataset"
   ]
  },
  {
   "cell_type": "code",
   "execution_count": 3,
   "metadata": {
    "colab": {},
    "colab_type": "code",
    "id": "hhUFtsYri7bU"
   },
   "outputs": [],
   "source": [
    "df = pd.read_csv('../Data/breast-cancer.csv', header = None)\n",
    "df.columns = ['ID', 'clump_Thickness', 'unif_cell_size', 'unif_cell_shape', 'adhesion', 'epith_cell_Size', 'bare_nuclei',\n",
    "              'bland_chromatin ','norm_nucleoli', 'mitoses', 'class_t']"
   ]
  },
  {
   "cell_type": "markdown",
   "metadata": {},
   "source": [
    "Exploramos el dataset"
   ]
  },
  {
   "cell_type": "code",
   "execution_count": 5,
   "metadata": {},
   "outputs": [
    {
     "data": {
      "text/plain": [
       "(683, 11)"
      ]
     },
     "execution_count": 5,
     "metadata": {},
     "output_type": "execute_result"
    }
   ],
   "source": [
    "df.shape"
   ]
  },
  {
   "cell_type": "code",
   "execution_count": 6,
   "metadata": {},
   "outputs": [
    {
     "data": {
      "text/html": [
       "<div>\n",
       "<style scoped>\n",
       "    .dataframe tbody tr th:only-of-type {\n",
       "        vertical-align: middle;\n",
       "    }\n",
       "\n",
       "    .dataframe tbody tr th {\n",
       "        vertical-align: top;\n",
       "    }\n",
       "\n",
       "    .dataframe thead th {\n",
       "        text-align: right;\n",
       "    }\n",
       "</style>\n",
       "<table border=\"1\" class=\"dataframe\">\n",
       "  <thead>\n",
       "    <tr style=\"text-align: right;\">\n",
       "      <th></th>\n",
       "      <th>ID</th>\n",
       "      <th>clump_Thickness</th>\n",
       "      <th>unif_cell_size</th>\n",
       "      <th>unif_cell_shape</th>\n",
       "      <th>adhesion</th>\n",
       "      <th>epith_cell_Size</th>\n",
       "      <th>bare_nuclei</th>\n",
       "      <th>bland_chromatin</th>\n",
       "      <th>norm_nucleoli</th>\n",
       "      <th>mitoses</th>\n",
       "      <th>class_t</th>\n",
       "    </tr>\n",
       "  </thead>\n",
       "  <tbody>\n",
       "    <tr>\n",
       "      <th>0</th>\n",
       "      <td>1000025</td>\n",
       "      <td>5</td>\n",
       "      <td>1</td>\n",
       "      <td>1</td>\n",
       "      <td>1</td>\n",
       "      <td>2</td>\n",
       "      <td>1</td>\n",
       "      <td>3</td>\n",
       "      <td>1</td>\n",
       "      <td>1</td>\n",
       "      <td>2</td>\n",
       "    </tr>\n",
       "    <tr>\n",
       "      <th>1</th>\n",
       "      <td>1002945</td>\n",
       "      <td>5</td>\n",
       "      <td>4</td>\n",
       "      <td>4</td>\n",
       "      <td>5</td>\n",
       "      <td>7</td>\n",
       "      <td>10</td>\n",
       "      <td>3</td>\n",
       "      <td>2</td>\n",
       "      <td>1</td>\n",
       "      <td>2</td>\n",
       "    </tr>\n",
       "    <tr>\n",
       "      <th>2</th>\n",
       "      <td>1015425</td>\n",
       "      <td>3</td>\n",
       "      <td>1</td>\n",
       "      <td>1</td>\n",
       "      <td>1</td>\n",
       "      <td>2</td>\n",
       "      <td>2</td>\n",
       "      <td>3</td>\n",
       "      <td>1</td>\n",
       "      <td>1</td>\n",
       "      <td>2</td>\n",
       "    </tr>\n",
       "    <tr>\n",
       "      <th>3</th>\n",
       "      <td>1016277</td>\n",
       "      <td>6</td>\n",
       "      <td>8</td>\n",
       "      <td>8</td>\n",
       "      <td>1</td>\n",
       "      <td>3</td>\n",
       "      <td>4</td>\n",
       "      <td>3</td>\n",
       "      <td>7</td>\n",
       "      <td>1</td>\n",
       "      <td>2</td>\n",
       "    </tr>\n",
       "    <tr>\n",
       "      <th>4</th>\n",
       "      <td>1017023</td>\n",
       "      <td>4</td>\n",
       "      <td>1</td>\n",
       "      <td>1</td>\n",
       "      <td>3</td>\n",
       "      <td>2</td>\n",
       "      <td>1</td>\n",
       "      <td>3</td>\n",
       "      <td>1</td>\n",
       "      <td>1</td>\n",
       "      <td>2</td>\n",
       "    </tr>\n",
       "  </tbody>\n",
       "</table>\n",
       "</div>"
      ],
      "text/plain": [
       "        ID  clump_Thickness  unif_cell_size  unif_cell_shape  adhesion  \\\n",
       "0  1000025                5               1                1         1   \n",
       "1  1002945                5               4                4         5   \n",
       "2  1015425                3               1                1         1   \n",
       "3  1016277                6               8                8         1   \n",
       "4  1017023                4               1                1         3   \n",
       "\n",
       "   epith_cell_Size  bare_nuclei  bland_chromatin   norm_nucleoli  mitoses  \\\n",
       "0                2            1                 3              1        1   \n",
       "1                7           10                 3              2        1   \n",
       "2                2            2                 3              1        1   \n",
       "3                3            4                 3              7        1   \n",
       "4                2            1                 3              1        1   \n",
       "\n",
       "   class_t  \n",
       "0        2  \n",
       "1        2  \n",
       "2        2  \n",
       "3        2  \n",
       "4        2  "
      ]
     },
     "execution_count": 6,
     "metadata": {},
     "output_type": "execute_result"
    }
   ],
   "source": [
    "df.head()"
   ]
  },
  {
   "cell_type": "markdown",
   "metadata": {
    "colab_type": "text",
    "id": "DjJAgHOHi7bY"
   },
   "source": [
    "Recodificamos las clases en \"0\" y \"1\""
   ]
  },
  {
   "cell_type": "code",
   "execution_count": 8,
   "metadata": {
    "colab": {},
    "colab_type": "code",
    "id": "4XgcbUXoi7bZ"
   },
   "outputs": [],
   "source": [
    "df.class_t[df['class_t'] == 2] = 0\n",
    "df.class_t[df['class_t'] == 4] = 1"
   ]
  },
  {
   "cell_type": "markdown",
   "metadata": {
    "colab_type": "text",
    "id": "2zDZSjswi7bd"
   },
   "source": [
    "Hacemos el split entre target y features"
   ]
  },
  {
   "cell_type": "code",
   "execution_count": 10,
   "metadata": {
    "colab": {},
    "colab_type": "code",
    "id": "Q8Q0qCiki7bf"
   },
   "outputs": [],
   "source": [
    "X = df.iloc[:,1:9]\n",
    "y = df['class_t']\n",
    "\n",
    "X_train, X_test, y_train, y_test = train_test_split(X, y, test_size=0.4, stratify=df['class_t'])"
   ]
  },
  {
   "cell_type": "markdown",
   "metadata": {
    "colab_type": "text",
    "id": "MtPQ63XUjSyZ"
   },
   "source": [
    "¿Hace falta estandarizar en este caso?"
   ]
  },
  {
   "cell_type": "code",
   "execution_count": 38,
   "metadata": {
    "colab": {},
    "colab_type": "code",
    "id": "1SeRThqsjP29"
   },
   "outputs": [],
   "source": [
    "from sklearn.preprocessing import StandardScaler\n",
    "\n",
    "esc = StandardScaler()\n",
    "X_train = esc.fit_transform(X_train)\n",
    "X_test = esc.transform(X_test)"
   ]
  },
  {
   "cell_type": "markdown",
   "metadata": {},
   "source": [
    "Aplicamos GridSearchCV y validamos el mejor modelo con los datos de test"
   ]
  },
  {
   "cell_type": "markdown",
   "metadata": {
    "colab_type": "text",
    "id": "f2niF7b7i7bk"
   },
   "source": [
    "**Pista 1:** Conviene realizar dos listas, una con los estimadores de los modelos y otra con la grid de parámetros a estimar en cada modelo.\n",
    "\n",
    "**Pista 2:** Conviene iterar sobre esas listas para estimar los hiperparámetros de los modelos"
   ]
  },
  {
   "cell_type": "code",
   "execution_count": 39,
   "metadata": {
    "colab": {},
    "colab_type": "code",
    "id": "IYwM0lY7i7bl"
   },
   "outputs": [],
   "source": [
    "models = [LogisticRegression(),\n",
    "          KNeighborsClassifier()]"
   ]
  },
  {
   "cell_type": "code",
   "execution_count": 40,
   "metadata": {
    "colab": {},
    "colab_type": "code",
    "id": "2tvslAf2i7br"
   },
   "outputs": [],
   "source": [
    "params = [\n",
    "    {'C': [1, 10, 100, 1000],\n",
    "     'penalty': ['l1', 'l2',],\n",
    "     'solver': ['saga']},\n",
    "    {'n_neighbors': range(1,200),\n",
    "     'weights' : ['uniform', 'distance'],\n",
    "     'p' : [1, 2, 3]}\n",
    "          ]"
   ]
  },
  {
   "cell_type": "code",
   "execution_count": 41,
   "metadata": {},
   "outputs": [],
   "source": [
    "from sklearn.model_selection import StratifiedKFold\n",
    "folds=StratifiedKFold(n_splits=10, random_state=19, shuffle=True)"
   ]
  },
  {
   "cell_type": "markdown",
   "metadata": {},
   "source": [
    "Evaluamos la mejor configuración de hiperparámetros de cada modelo: **LogReg** y **KNN**"
   ]
  },
  {
   "cell_type": "code",
   "execution_count": 42,
   "metadata": {},
   "outputs": [],
   "source": [
    "# importamos e instanciamos el GridSearchCV\n",
    "from sklearn.model_selection import GridSearchCV\n",
    "\n",
    "grid=GridSearchCV(models, params,cv=folds)"
   ]
  },
  {
   "cell_type": "code",
   "execution_count": 43,
   "metadata": {},
   "outputs": [
    {
     "name": "stdout",
     "output_type": "stream",
     "text": [
      "GridSearchCV(cv=StratifiedKFold(n_splits=10, random_state=19, shuffle=True),\n",
      "             estimator=LogisticRegression(), n_jobs=4,\n",
      "             param_grid={'C': [1, 10, 100, 1000], 'penalty': ['l1', 'l2'],\n",
      "                         'solver': ['saga']},\n",
      "             scoring='accuracy')\n",
      "GridSearchCV(cv=StratifiedKFold(n_splits=10, random_state=19, shuffle=True),\n",
      "             estimator=KNeighborsClassifier(), n_jobs=4,\n",
      "             param_grid={'n_neighbors': range(1, 200), 'p': [1, 2, 3],\n",
      "                         'weights': ['uniform', 'distance']},\n",
      "             scoring='accuracy')\n"
     ]
    }
   ],
   "source": [
    "grids = []\n",
    "for i in range(len(models)):\n",
    "    gs = GridSearchCV(estimator=models[i], param_grid=params[i], scoring='accuracy', cv=folds, n_jobs=4)\n",
    "    print (gs)\n",
    "    fit = gs.fit(X_train, y_train)\n",
    "    grids.append(fit)"
   ]
  },
  {
   "cell_type": "code",
   "execution_count": 44,
   "metadata": {},
   "outputs": [
    {
     "name": "stdout",
     "output_type": "stream",
     "text": [
      "0.9632926829268292\n",
      "LogisticRegression(C=1, penalty='l1', solver='saga')\n",
      "{'C': 1, 'penalty': 'l1', 'solver': 'saga'}\n",
      "0.9706707317073169\n",
      "KNeighborsClassifier(n_neighbors=1, p=1)\n",
      "{'n_neighbors': 1, 'p': 1, 'weights': 'uniform'}\n"
     ]
    }
   ],
   "source": [
    "for i in grids:\n",
    "    print (i.best_score_)\n",
    "    print (i.best_estimator_)\n",
    "    print (i.best_params_)"
   ]
  },
  {
   "cell_type": "code",
   "execution_count": 45,
   "metadata": {},
   "outputs": [],
   "source": [
    "y_preds_log = grids[0].predict(X_test)\n",
    "y_preds_knn = grids[1].predict(X_test)"
   ]
  },
  {
   "cell_type": "code",
   "execution_count": null,
   "metadata": {
    "colab": {},
    "colab_type": "code",
    "id": "r-X3IbTJi7cM",
    "outputId": "c0099cd3-fe60-44f4-99d0-ec69cef89c75"
   },
   "outputs": [],
   "source": []
  },
  {
   "cell_type": "code",
   "execution_count": null,
   "metadata": {},
   "outputs": [],
   "source": []
  },
  {
   "cell_type": "code",
   "execution_count": null,
   "metadata": {},
   "outputs": [],
   "source": []
  },
  {
   "cell_type": "code",
   "execution_count": null,
   "metadata": {},
   "outputs": [],
   "source": []
  },
  {
   "cell_type": "markdown",
   "metadata": {
    "colab_type": "text",
    "id": "yVZuwGxBi7cc"
   },
   "source": [
    "## Diferencia de performance entre Random Search y Gridsearch\n",
    "\n",
    "Dado el siguiente conjunto de parámetros:\n",
    "\n",
    "        param_dist = {\n",
    "                    'n_neighbors': range(1,200),\n",
    "                    'weights' : ['uniform', 'distance'],\n",
    "                    'p' : [1, 2, 3]\n",
    "                    }\n",
    "\n",
    "Implementar una búsqueda del conjunto óptimo de hiperparámetros tanto con GridSearchCV como con RandomSearchCV.\n",
    "Verificar la diferencia en cada caso de:\n",
    "    \n",
    "    1. El tiempo de ejecución (utilizando la biblioteca time)\n",
    "    2. La combinación óptima de parámetros\n",
    "    3. La performance del mejor modelo en cada caso sobre los datos del test set que separamos anteriormente en términos de accuracy\n"
   ]
  },
  {
   "cell_type": "code",
   "execution_count": null,
   "metadata": {},
   "outputs": [],
   "source": []
  }
 ],
 "metadata": {
  "colab": {
   "collapsed_sections": [],
   "name": "Solution_LAB_Introducción_Grid_Search.ipynb",
   "provenance": [],
   "version": "0.3.2"
  },
  "kernelspec": {
   "display_name": "Python 3",
   "language": "python",
   "name": "python3"
  },
  "language_info": {
   "codemirror_mode": {
    "name": "ipython",
    "version": 3
   },
   "file_extension": ".py",
   "mimetype": "text/x-python",
   "name": "python",
   "nbconvert_exporter": "python",
   "pygments_lexer": "ipython3",
   "version": "3.8.8"
  }
 },
 "nbformat": 4,
 "nbformat_minor": 4
}
