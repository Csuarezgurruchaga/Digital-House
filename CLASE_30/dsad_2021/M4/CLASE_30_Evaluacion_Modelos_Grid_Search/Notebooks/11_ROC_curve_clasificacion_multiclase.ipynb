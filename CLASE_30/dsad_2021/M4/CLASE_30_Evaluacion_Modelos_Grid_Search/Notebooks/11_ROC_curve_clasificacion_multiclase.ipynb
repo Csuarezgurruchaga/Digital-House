{
 "cells": [
  {
   "cell_type": "code",
   "execution_count": 1,
   "id": "regulation-hartford",
   "metadata": {},
   "outputs": [],
   "source": [
    "import numpy as np\n",
    "import pandas as pd\n",
    "import matplotlib.pyplot as plt\n",
    "\n",
    "from sklearn import datasets\n",
    "from sklearn.model_selection import train_test_split, GridSearchCV, StratifiedKFold\n",
    "from sklearn.preprocessing import StandardScaler, label_binarize\n",
    "from sklearn.linear_model import LogisticRegression\n",
    "from sklearn.metrics import classification_report, confusion_matrix, roc_auc_score"
   ]
  },
  {
   "cell_type": "code",
   "execution_count": 2,
   "id": "neutral-calculation",
   "metadata": {},
   "outputs": [],
   "source": [
    "# Importamos dataset de iris para clasificación\n",
    "iris = datasets.load_iris()\n",
    "X = pd.DataFrame(iris.data, columns = iris.feature_names)\n",
    "y = pd.Series(iris.target)"
   ]
  },
  {
   "cell_type": "code",
   "execution_count": 3,
   "id": "boxed-adapter",
   "metadata": {},
   "outputs": [
    {
     "data": {
      "text/html": [
       "<div>\n",
       "<style scoped>\n",
       "    .dataframe tbody tr th:only-of-type {\n",
       "        vertical-align: middle;\n",
       "    }\n",
       "\n",
       "    .dataframe tbody tr th {\n",
       "        vertical-align: top;\n",
       "    }\n",
       "\n",
       "    .dataframe thead th {\n",
       "        text-align: right;\n",
       "    }\n",
       "</style>\n",
       "<table border=\"1\" class=\"dataframe\">\n",
       "  <thead>\n",
       "    <tr style=\"text-align: right;\">\n",
       "      <th></th>\n",
       "      <th>sepal length (cm)</th>\n",
       "      <th>sepal width (cm)</th>\n",
       "      <th>petal length (cm)</th>\n",
       "      <th>petal width (cm)</th>\n",
       "    </tr>\n",
       "  </thead>\n",
       "  <tbody>\n",
       "    <tr>\n",
       "      <th>0</th>\n",
       "      <td>5.1</td>\n",
       "      <td>3.5</td>\n",
       "      <td>1.4</td>\n",
       "      <td>0.2</td>\n",
       "    </tr>\n",
       "    <tr>\n",
       "      <th>1</th>\n",
       "      <td>4.9</td>\n",
       "      <td>3.0</td>\n",
       "      <td>1.4</td>\n",
       "      <td>0.2</td>\n",
       "    </tr>\n",
       "    <tr>\n",
       "      <th>2</th>\n",
       "      <td>4.7</td>\n",
       "      <td>3.2</td>\n",
       "      <td>1.3</td>\n",
       "      <td>0.2</td>\n",
       "    </tr>\n",
       "    <tr>\n",
       "      <th>3</th>\n",
       "      <td>4.6</td>\n",
       "      <td>3.1</td>\n",
       "      <td>1.5</td>\n",
       "      <td>0.2</td>\n",
       "    </tr>\n",
       "    <tr>\n",
       "      <th>4</th>\n",
       "      <td>5.0</td>\n",
       "      <td>3.6</td>\n",
       "      <td>1.4</td>\n",
       "      <td>0.2</td>\n",
       "    </tr>\n",
       "  </tbody>\n",
       "</table>\n",
       "</div>"
      ],
      "text/plain": [
       "   sepal length (cm)  sepal width (cm)  petal length (cm)  petal width (cm)\n",
       "0                5.1               3.5                1.4               0.2\n",
       "1                4.9               3.0                1.4               0.2\n",
       "2                4.7               3.2                1.3               0.2\n",
       "3                4.6               3.1                1.5               0.2\n",
       "4                5.0               3.6                1.4               0.2"
      ]
     },
     "execution_count": 3,
     "metadata": {},
     "output_type": "execute_result"
    }
   ],
   "source": [
    "X.head()"
   ]
  },
  {
   "cell_type": "code",
   "execution_count": 4,
   "id": "bridal-passage",
   "metadata": {},
   "outputs": [
    {
     "data": {
      "text/plain": [
       "0      0\n",
       "1      0\n",
       "2      0\n",
       "3      0\n",
       "4      0\n",
       "      ..\n",
       "145    2\n",
       "146    2\n",
       "147    2\n",
       "148    2\n",
       "149    2\n",
       "Length: 150, dtype: int64"
      ]
     },
     "execution_count": 4,
     "metadata": {},
     "output_type": "execute_result"
    }
   ],
   "source": [
    "y"
   ]
  },
  {
   "cell_type": "code",
   "execution_count": 5,
   "id": "presidential-sheffield",
   "metadata": {},
   "outputs": [
    {
     "data": {
      "text/plain": [
       "0    50\n",
       "1    50\n",
       "2    50\n",
       "dtype: int64"
      ]
     },
     "execution_count": 5,
     "metadata": {},
     "output_type": "execute_result"
    }
   ],
   "source": [
    "y.value_counts()"
   ]
  },
  {
   "cell_type": "code",
   "execution_count": 6,
   "id": "checked-prompt",
   "metadata": {},
   "outputs": [],
   "source": [
    "# Agregamos columnas con 'ruido' (valores al azar), para que no sea tan perfecto\n",
    "# agregamnos 800 columnas (sí.... es un ejemplo malvado)\n",
    "random_state = np.random.RandomState(0)\n",
    "n_samples, n_features = X.shape\n",
    "X = np.c_[X, random_state.randn(n_samples, 200 * n_features)]"
   ]
  },
  {
   "cell_type": "code",
   "execution_count": 7,
   "id": "prescribed-ranking",
   "metadata": {},
   "outputs": [
    {
     "data": {
      "text/plain": [
       "array([[ 5.1       ,  3.5       ,  1.4       , ..., -1.07709907,\n",
       "        -0.4246633 , -0.8299646 ],\n",
       "       [ 4.9       ,  3.        ,  1.4       , ...,  1.4121517 ,\n",
       "        -1.38043075, -0.53591456],\n",
       "       [ 4.7       ,  3.2       ,  1.3       , ...,  0.65880214,\n",
       "        -0.59691711, -0.22295918],\n",
       "       ...,\n",
       "       [ 6.5       ,  3.        ,  5.2       , ..., -0.5154906 ,\n",
       "        -0.12964864, -0.5092809 ],\n",
       "       [ 6.2       ,  3.4       ,  5.4       , ...,  1.42147798,\n",
       "        -0.61336209, -0.34432031],\n",
       "       [ 5.9       ,  3.        ,  5.1       , ...,  2.53170549,\n",
       "        -0.03572203,  0.17320019]])"
      ]
     },
     "execution_count": 7,
     "metadata": {},
     "output_type": "execute_result"
    }
   ],
   "source": [
    "X"
   ]
  },
  {
   "cell_type": "code",
   "execution_count": 8,
   "id": "reflected-money",
   "metadata": {},
   "outputs": [
    {
     "data": {
      "text/plain": [
       "(150, 804)"
      ]
     },
     "execution_count": 8,
     "metadata": {},
     "output_type": "execute_result"
    }
   ],
   "source": [
    "X.shape"
   ]
  },
  {
   "cell_type": "code",
   "execution_count": 9,
   "id": "infrared-floating",
   "metadata": {},
   "outputs": [
    {
     "data": {
      "text/plain": [
       "150"
      ]
     },
     "execution_count": 9,
     "metadata": {},
     "output_type": "execute_result"
    }
   ],
   "source": [
    "y.size"
   ]
  },
  {
   "cell_type": "code",
   "execution_count": 10,
   "id": "least-alfred",
   "metadata": {},
   "outputs": [],
   "source": [
    "# Hacemnos la división entre train y test, asegurándonos de mezclar antes los datos,\n",
    "# y estratificando por las clases por las dudas (aunque sabemos que las clases están balanceadas)\n",
    "X_train, X_test, y_train, y_test = train_test_split(X, y, stratify = y, test_size=0.3, random_state=0)"
   ]
  },
  {
   "cell_type": "code",
   "execution_count": 11,
   "id": "located-uganda",
   "metadata": {},
   "outputs": [],
   "source": [
    "# Escalamos los datos, porque vamos a usar Regresión logística con regularización\n",
    "scaler = StandardScaler()\n",
    "X_train_sc = scaler.fit_transform(X_train)\n",
    "X_test_sc = scaler.transform(X_test)"
   ]
  },
  {
   "cell_type": "code",
   "execution_count": 12,
   "id": "animal-discount",
   "metadata": {},
   "outputs": [],
   "source": [
    "# definimos 3 folds estratificados, para el cross-validation\n",
    "kf = StratifiedKFold(n_splits = 3, random_state = 12, shuffle = True)"
   ]
  },
  {
   "cell_type": "code",
   "execution_count": 13,
   "id": "quarterly-shade",
   "metadata": {},
   "outputs": [],
   "source": [
    "logit = LogisticRegression(multi_class =  'ovr', max_iter = 10000)"
   ]
  },
  {
   "cell_type": "code",
   "execution_count": 14,
   "id": "roman-recycling",
   "metadata": {},
   "outputs": [],
   "source": [
    "grilla = dict(penalty =  ['none', 'l1', 'l2'],\n",
    "              C = [0.01, 0.1, 1, 10, 100],\n",
    "             solver = ['saga'])"
   ]
  },
  {
   "cell_type": "code",
   "execution_count": 15,
   "id": "capable-police",
   "metadata": {},
   "outputs": [],
   "source": [
    "# usamos como scoring para estimar los hiperparámetros el área bajo la curva, tomando \n",
    "# para la clasificación 'ovr' (one versus rest), que es una de las maneras de transformar \n",
    "# una clasificación multiclase en n clasificaciones binaria, una para cada clase\n",
    "# Podría tomar otra métrica, pero elegí esa para mostrar cómo la usamos\n",
    "grid = GridSearchCV(estimator = logit, param_grid = grilla, cv = kf, scoring = 'roc_auc_ovr', n_jobs = -1)"
   ]
  },
  {
   "cell_type": "code",
   "execution_count": 16,
   "id": "noticed-disney",
   "metadata": {},
   "outputs": [
    {
     "data": {
      "text/plain": [
       "GridSearchCV(cv=StratifiedKFold(n_splits=3, random_state=12, shuffle=True),\n",
       "             estimator=LogisticRegression(max_iter=10000, multi_class='ovr'),\n",
       "             n_jobs=-1,\n",
       "             param_grid={'C': [0.01, 0.1, 1, 10, 100],\n",
       "                         'penalty': ['none', 'l1', 'l2'], 'solver': ['saga']},\n",
       "             scoring='roc_auc_ovr')"
      ]
     },
     "execution_count": 16,
     "metadata": {},
     "output_type": "execute_result"
    }
   ],
   "source": [
    "grid.fit(X_train_sc, y_train)"
   ]
  },
  {
   "cell_type": "code",
   "execution_count": 17,
   "id": "reliable-african",
   "metadata": {},
   "outputs": [
    {
     "data": {
      "text/plain": [
       "{'C': 0.1, 'penalty': 'l1', 'solver': 'saga'}"
      ]
     },
     "execution_count": 17,
     "metadata": {},
     "output_type": "execute_result"
    }
   ],
   "source": [
    "grid.best_params_"
   ]
  },
  {
   "cell_type": "code",
   "execution_count": 18,
   "id": "radical-ensemble",
   "metadata": {},
   "outputs": [],
   "source": [
    "y_train_pred =grid.predict(X_train_sc)"
   ]
  },
  {
   "cell_type": "code",
   "execution_count": 19,
   "id": "regional-firmware",
   "metadata": {},
   "outputs": [
    {
     "data": {
      "text/plain": [
       "array([[35,  0,  0],\n",
       "       [ 0, 29,  6],\n",
       "       [ 0,  2, 33]])"
      ]
     },
     "execution_count": 19,
     "metadata": {},
     "output_type": "execute_result"
    }
   ],
   "source": [
    "confusion_matrix(y_train, y_train_pred)"
   ]
  },
  {
   "cell_type": "code",
   "execution_count": 20,
   "id": "medium-capture",
   "metadata": {},
   "outputs": [],
   "source": [
    "y_test_pred = grid.predict(X_test_sc)"
   ]
  },
  {
   "cell_type": "code",
   "execution_count": 21,
   "id": "loose-experience",
   "metadata": {},
   "outputs": [
    {
     "data": {
      "text/plain": [
       "array([[15,  0,  0],\n",
       "       [ 0,  7,  8],\n",
       "       [ 0,  1, 14]])"
      ]
     },
     "execution_count": 21,
     "metadata": {},
     "output_type": "execute_result"
    }
   ],
   "source": [
    "confusion_matrix(y_test, y_test_pred)"
   ]
  },
  {
   "cell_type": "code",
   "execution_count": 22,
   "id": "mechanical-ecology",
   "metadata": {},
   "outputs": [
    {
     "name": "stdout",
     "output_type": "stream",
     "text": [
      "              precision    recall  f1-score   support\n",
      "\n",
      "           0       1.00      1.00      1.00        15\n",
      "           1       0.88      0.47      0.61        15\n",
      "           2       0.64      0.93      0.76        15\n",
      "\n",
      "    accuracy                           0.80        45\n",
      "   macro avg       0.84      0.80      0.79        45\n",
      "weighted avg       0.84      0.80      0.79        45\n",
      "\n"
     ]
    }
   ],
   "source": [
    "print(classification_report(y_test, y_test_pred))"
   ]
  },
  {
   "cell_type": "code",
   "execution_count": 23,
   "id": "imported-wrestling",
   "metadata": {},
   "outputs": [],
   "source": [
    "# Para graficar la curva ROC, necesito hacer predict_proba\n",
    "y_test_pred_proba = grid.predict_proba(X_test_sc)"
   ]
  },
  {
   "cell_type": "code",
   "execution_count": 24,
   "id": "tropical-dayton",
   "metadata": {},
   "outputs": [
    {
     "data": {
      "text/plain": [
       "array([[0.03300093, 0.19920199, 0.76779708],\n",
       "       [0.05330244, 0.32614075, 0.62055682],\n",
       "       [0.71368864, 0.25948403, 0.02682733],\n",
       "       [0.81071771, 0.13792362, 0.05135867],\n",
       "       [0.12394876, 0.4367801 , 0.43927114]])"
      ]
     },
     "execution_count": 24,
     "metadata": {},
     "output_type": "execute_result"
    }
   ],
   "source": [
    "# y_test_pred_proba tiene 3 columnas\n",
    "#  y_test_pred_proba[0]: probabilidad de que la observación sea de la clase 0\n",
    "#  y_test_pred_proba[1]: probabilidad de que la observación sea de la clase 1\n",
    "#  y_test_pred_proba[2]: probabilidad de que la observación sea de la clase 2\n",
    "\n",
    "# Vemos los 5 primeros registros\n",
    "y_test_pred_proba[:5,]"
   ]
  },
  {
   "cell_type": "code",
   "execution_count": 25,
   "id": "sufficient-medium",
   "metadata": {},
   "outputs": [
    {
     "data": {
      "text/plain": [
       "0.9422222222222222"
      ]
     },
     "execution_count": 25,
     "metadata": {},
     "output_type": "execute_result"
    }
   ],
   "source": [
    "# le digo que para el score multiclase, utilice 'ovr', y que haga macro average\n",
    "roc_auc_score(y_test, y_test_pred_proba, multi_class = 'ovr', average = 'macro')"
   ]
  },
  {
   "cell_type": "code",
   "execution_count": 26,
   "id": "certified-nudist",
   "metadata": {},
   "outputs": [
    {
     "data": {
      "text/plain": [
       "136    2\n",
       "142    2\n",
       "39     0\n",
       "44     0\n",
       "50     1\n",
       "dtype: int64"
      ]
     },
     "execution_count": 26,
     "metadata": {},
     "output_type": "execute_result"
    }
   ],
   "source": [
    "# primeros 5 registros de y_test\n",
    "y_test[:5]"
   ]
  },
  {
   "cell_type": "code",
   "execution_count": 27,
   "id": "tropical-conservation",
   "metadata": {},
   "outputs": [],
   "source": [
    "# Para graficar la curva ROC, voy a usar roc_curve\n",
    "# Pero roc_curve sirve solamente para clasificación binaria\n",
    "# Por lo tanto, voy a tener que usarlo sobre cada clasificador de una clase vs el resto\n",
    "# Para lograr eso, tengo  que binarizar el target, y lo hago con label_binarize\n",
    "# Esta operación puede asimilarse a lo que hacemos con get_dummies\n",
    "# Es decir, si tenemos nuestro target\n",
    "# y_test = [2, 2, 0, 0, 1] por ejemplo, label_binarize va a generar una 'variable dummy' por cada clase, y en cada\n",
    "# observación pondrá 1 si la observación es de esa clase, o 0 si es de cualquier otra.\n",
    "# Así, el y_test de nuestro ejemplo va a transformarse en una matriz del tipo:\n",
    "#  clase0    clase1    clase2 \n",
    "#    0         0         1\n",
    "#    0         0         1\n",
    "#    1         0         0\n",
    "#    1         0         0\n",
    "#    0         1         0\n",
    "#"
   ]
  },
  {
   "cell_type": "code",
   "execution_count": 28,
   "id": "approximate-value",
   "metadata": {},
   "outputs": [
    {
     "data": {
      "text/plain": [
       "45"
      ]
     },
     "execution_count": 28,
     "metadata": {},
     "output_type": "execute_result"
    }
   ],
   "source": [
    "# Binarizo el target\n",
    "\n",
    "y_test_bin = label_binarize(y_test, classes=[0, 1, 2])\n",
    "n_classes = y_test_bin.shape[1]\n",
    "len(y_test_bin[:,0])"
   ]
  },
  {
   "cell_type": "code",
   "execution_count": 29,
   "id": "strange-friendship",
   "metadata": {},
   "outputs": [
    {
     "data": {
      "text/plain": [
       "45"
      ]
     },
     "execution_count": 29,
     "metadata": {},
     "output_type": "execute_result"
    }
   ],
   "source": [
    "len(y_test_pred_proba[:,0])"
   ]
  },
  {
   "cell_type": "code",
   "execution_count": 30,
   "id": "coastal-herald",
   "metadata": {},
   "outputs": [
    {
     "data": {
      "image/png": "[encoded data removed]",
      "text/plain": [
       "<Figure size 432x288 with 1 Axes>"
      ]
     },
     "metadata": {
      "needs_background": "light"
     },
     "output_type": "display_data"
    }
   ],
   "source": [
    "from sklearn.metrics import roc_curve\n",
    "\n",
    "plt.axis([0, 1.01, 0, 1.01])\n",
    "plt.xlabel('FPR or (1 - Specificty)'); plt.ylabel('TPR or Sensitivity'); plt.title('ROC Curve')\n",
    "colors = ['black', 'green', 'blue']\n",
    "\n",
    "for i in range(0, n_classes):\n",
    "    fpr_roc,tpr_roc,thr_roc = roc_curve(y_test_bin[:,i], y_test_pred_proba[:,i])\n",
    "    df = pd.DataFrame(dict(fpr=fpr_roc, tpr=tpr_roc, thr = thr_roc))\n",
    "    plt.plot(df['fpr'],df['tpr'], label = f' clase {i}', color = colors[i])\n",
    "plt.plot(np.arange(0,1, step =0.01), np.arange(0,1, step =0.01), color = 'red', linestyle = '--')\n",
    "plt.legend()\n",
    "plt.show()"
   ]
  }
 ],
 "metadata": {
  "kernelspec": {
   "display_name": "Python 3",
   "language": "python",
   "name": "python3"
  },
  "language_info": {
   "codemirror_mode": {
    "name": "ipython",
    "version": 3
   },
   "file_extension": ".py",
   "mimetype": "text/x-python",
   "name": "python",
   "nbconvert_exporter": "python",
   "pygments_lexer": "ipython3",
   "version": "3.8.8"
  }
 },
 "nbformat": 4,
 "nbformat_minor": 5
}
