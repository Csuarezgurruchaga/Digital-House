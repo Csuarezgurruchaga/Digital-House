{
 "cells": [
  {
   "cell_type": "code",
   "execution_count": 1,
   "metadata": {
    "slideshow": {
     "slide_type": "skip"
    }
   },
   "outputs": [
    {
     "name": "stdout",
     "output_type": "stream",
     "text": [
      "/media/paulati/Nuevo vol/paula/dh/2021/dsad_2021_paula/common\n",
      "default checking\n",
      "Running command `conda list`... ok\n",
      "jupyterlab=2.2.6 already installed\n",
      "pandas=1.1.5 already installed\n",
      "bokeh=2.2.3 already installed\n",
      "seaborn=0.11.0 already installed\n",
      "matplotlib=3.3.2 already installed\n",
      "ipywidgets=7.5.1 already installed\n",
      "pytest=6.2.1 already installed\n",
      "chardet=4.0.0 already installed\n",
      "psutil=5.7.2 already installed\n",
      "scipy=1.5.2 already installed\n",
      "statsmodels=0.12.1 already installed\n",
      "scikit-learn=0.23.2 already installed\n",
      "xlrd=2.0.1 already installed\n",
      "nltk=3.5 already installed\n",
      "unidecode=1.1.1 already installed\n",
      "pydotplus=2.0.2 already installed\n",
      "pandas-datareader=0.9.0 already installed\n",
      "flask=1.1.2 already installed\n"
     ]
    }
   ],
   "source": [
    "# initial setup\n",
    "%run \"../../../common/0_notebooks_base_setup.py\"\n"
   ]
  },
  {
   "cell_type": "markdown",
   "metadata": {
    "slideshow": {
     "slide_type": "slide"
    }
   },
   "source": [
    "<link rel=\"stylesheet\" href=\"../../../common/dhds.css\">\n",
    "<div class=\"Table\">\n",
    "    <div class=\"Row\">\n",
    "        <div class=\"Cell grey left\"> <img src=\"https://raw.githubusercontent.com/Digital-House-DATA/ds_blend_2021_img/master/M4/CLASE_30_Ev-Modelos_Grid-Search/Presentacion/img/M4_CLASE_30_portada.jpg\" align=\"center\" width=\"70%\"/></div>\n",
    "        <div class=\"Cell right\">\n",
    "            <div class=\"div-logo\"><img src=\"https://raw.githubusercontent.com/Digital-House-DATA/ds_blend_2021_img/master/common/logo_DH.png\" align=\"center\" width=70% /></div>\n",
    "            <div class=\"div-curso\">DATA SCIENCE</div>\n",
    "            <div class=\"div-modulo\">MÓDULO 4</div>\n",
    "            <div class=\"div-contenido\">Evaluación de Modelos en Problemas de Clasificación</div>\n",
    "            <div class=\"div-contenido\">Grid Search - Random Search</div>\n",
    "        </div>\n",
    "    </div>\n",
    "</div>"
   ]
  },
  {
   "cell_type": "markdown",
   "metadata": {
    "slideshow": {
     "slide_type": "slide"
    }
   },
   "source": [
    "### Agenda\n",
    "\n",
    "---\n",
    "\n",
    "- Métricas de evaluación de modelos de clasificación\n",
    "\n",
    "- Curva ROC y AUC (Area bajo la curva)\n",
    "\n",
    "- GridSearch y RandomSearch: estrategias para definir hiperparámetros\n"
   ]
  },
  {
   "cell_type": "markdown",
   "metadata": {
    "slideshow": {
     "slide_type": "slide"
    }
   },
   "source": [
    "### Introducción\n",
    "\n",
    "---\n",
    "\n",
    "¿Cómo evaluamos los modelos supervisados de machine learning?\n",
    "\n",
    "- Con las **regresiones** el valor a predecir es una *variable continua*. Ya analizamos métricas para evaluarlas.\n",
    "\n",
    "- En los problemas de **clasificación**, el objetivo es **predecir la pertenencia o la probabilidad de pertenencia** de un caso a una clase. \n",
    "\n",
    "Estudiaremos *distintas métricas* para *evaluar la performance de un clasificador*.\n",
    "\n",
    "<img src=\"https://raw.githubusercontent.com/Digital-House-DATA/ds_blend_2021_img/master/M4/CLASE_30_Ev-Modelos_Grid-Search/Presentacion/img/M4_CLASE_30_regression_vs_classification.png\" alt=\"Regresion vs Classification\" width=45% height=25% />"
   ]
  },
  {
   "cell_type": "markdown",
   "metadata": {
    "slideshow": {
     "slide_type": "slide"
    }
   },
   "source": [
    "### Outcomes\n",
    "\n",
    "---\n",
    "\n",
    "- *Outcomes:* declaraciones específicas y mensurables que permiten saber si alcanzó los objetivos.\n",
    "\n",
    "Los outcomes en *una clasificación* y *en función de la tasa de acierto* se pueden dividir en cuatro clases **(TP, TN, FP, FN)**. \n",
    "\n",
    "Las cuatro clases son:\n",
    "\n",
    "- **Verdaderos positivos (TP):** es una clase positiva clasificada correctamente. \n",
    "\n",
    "- **Verdaderos negativos (TN):** es una clase negativa clasificada correctamente.\n",
    "\n",
    "- **Falsos positivos (FP):** es una clase negativa que fue clasificada como positiva.\n",
    "\n",
    "- **Falsos negativos (FN):** es una clase positiva que fue clasificada como negativa."
   ]
  },
  {
   "cell_type": "markdown",
   "metadata": {
    "slideshow": {
     "slide_type": "subslide"
    }
   },
   "source": [
    "Ejemplo: un modelo que determina si un individuo *pertenece o no a la clase “enfermo” = 1*.\n",
    "\n",
    "<img src=\"https://raw.githubusercontent.com/Digital-House-DATA/ds_blend_2021_img/master/M4/CLASE_30_Ev-Modelos_Grid-Search/Presentacion/img/M4_CLASE_30_matriz_confusion_ejemplo.PNG\" alt=\"matriz confusion\" width=60% height=40% />\n",
    "\n",
    "Definimos *positivo* al valor 1 del estimador $\\hat{y}$. \n",
    "\n",
    "En este ejemplo, positivo es $\\hat{y} = 1$, que equivale a enfermo.\n",
    "\n",
    "<div id=\"caja7\" style=\"float:left;width: 100%;\">\n",
    "  <div style=\"float:left;width: 15%;\"><img src=\"../../../common/icons/kit_de_salida.png\" style=\"align:left\"/> </div>\n",
    "  <br>\n",
    "  <br>  \n",
    "  <div style=\"float:left;width: 85%;\"><label>En este ejemplo, que es más importante? <b>Evitar los FP o los FN?</b></label></div>\n",
    "<br>"
   ]
  },
  {
   "cell_type": "markdown",
   "metadata": {
    "slideshow": {
     "slide_type": "slide"
    }
   },
   "source": [
    "### Matriz de confusión\n",
    "\n",
    "---\n",
    "\n",
    "La matriz anterior se llama **Matriz de confusión**.\n",
    "\n",
    "Es una **tabla de doble entrada** donde se describen *los resultados reales* vs. *resultados predichos* .\n",
    "\n",
    "<img src=\"https://raw.githubusercontent.com/Digital-House-DATA/ds_blend_2021_img/master/M4/CLASE_30_Ev-Modelos_Grid-Search/Presentacion/img/M4_CLASE_30_matriz_confusion.png\" alt=\"matriz confusion\" width=60% height=40% />\n"
   ]
  },
  {
   "cell_type": "markdown",
   "metadata": {
    "slideshow": {
     "slide_type": "slide"
    }
   },
   "source": [
    "<div class=\"div-dhds-fondo-1\"> Dataset \n",
    "<img src=\"https://raw.githubusercontent.com/Digital-House-DATA/ds_blend_2021_img/master/M3/CLASE_21_Regresion_Lineal_Simple/Presentacion/img/M3_CLASE_21_separador.png\" align=\"center\" />\n",
    "\n",
    "</div>"
   ]
  },
  {
   "cell_type": "markdown",
   "metadata": {
    "slideshow": {
     "slide_type": "slide"
    }
   },
   "source": [
    "###  Dataset\n",
    "\n",
    "---\n",
    "Para ejemplificar los conceptos, usamos un conjunto de abulones, una especie de moluscos, llamados también orejas de mar.\n",
    "\n",
    "Pueden consultar detalles del dataset <a href=\"https://archive.ics.uci.edu/ml/datasets/Abalone\" target=\"_blank\">aquí</a>.\n",
    "\n",
    "<img src=\"https://raw.githubusercontent.com/Digital-House-DATA/ds_blend_2021_img/master/M4/CLASE_30_Ev-Modelos_Grid-Search/Presentacion/img/M4_CLASE_30_abadone.jpg\" alt=\"abadone\" width=45% height=25% />\n",
    "\n",
    "Dadas ciertas características del animal, se intenta predecir la edad. \n",
    "\n",
    "En nuestro caso, queremos clasificarlos con *una clase binaria que indica si es adulto* (0 = no adulto, 1 = adulto)."
   ]
  },
  {
   "cell_type": "code",
   "execution_count": 2,
   "metadata": {
    "slideshow": {
     "slide_type": "skip"
    }
   },
   "outputs": [],
   "source": [
    "from sklearn import preprocessing\n",
    "from sklearn import datasets\n",
    "from sklearn.model_selection import train_test_split\n",
    "from sklearn.datasets import make_classification\n",
    "from sklearn.preprocessing import StandardScaler\n",
    "import matplotlib.pyplot as plt\n",
    "import pandas as pd\n",
    "import numpy as np\n",
    "import seaborn as sns"
   ]
  },
  {
   "cell_type": "code",
   "execution_count": 3,
   "metadata": {
    "slideshow": {
     "slide_type": "subslide"
    }
   },
   "outputs": [
    {
     "name": "stdout",
     "output_type": "stream",
     "text": [
      "Filas: 3676 Columnas: 10\n"
     ]
    },
    {
     "data": {
      "text/html": [
       "<div>\n",
       "<style scoped>\n",
       "    .dataframe tbody tr th:only-of-type {\n",
       "        vertical-align: middle;\n",
       "    }\n",
       "\n",
       "    .dataframe tbody tr th {\n",
       "        vertical-align: top;\n",
       "    }\n",
       "\n",
       "    .dataframe thead th {\n",
       "        text-align: right;\n",
       "    }\n",
       "</style>\n",
       "<table border=\"1\" class=\"dataframe\">\n",
       "  <thead>\n",
       "    <tr style=\"text-align: right;\">\n",
       "      <th></th>\n",
       "      <th>Sex</th>\n",
       "      <th>Length</th>\n",
       "      <th>Diameter</th>\n",
       "      <th>Height</th>\n",
       "      <th>Whole_weight</th>\n",
       "      <th>Shucked_weight</th>\n",
       "      <th>Viscera_weight</th>\n",
       "      <th>Shell_weight</th>\n",
       "      <th>Rings</th>\n",
       "      <th>Adulto</th>\n",
       "    </tr>\n",
       "  </thead>\n",
       "  <tbody>\n",
       "    <tr>\n",
       "      <th>1731</th>\n",
       "      <td>F</td>\n",
       "      <td>0.665</td>\n",
       "      <td>0.505</td>\n",
       "      <td>0.160</td>\n",
       "      <td>12.9150</td>\n",
       "      <td>0.6310</td>\n",
       "      <td>0.2925</td>\n",
       "      <td>0.3200</td>\n",
       "      <td>11</td>\n",
       "      <td>0</td>\n",
       "    </tr>\n",
       "    <tr>\n",
       "      <th>2390</th>\n",
       "      <td>F</td>\n",
       "      <td>0.455</td>\n",
       "      <td>0.350</td>\n",
       "      <td>0.125</td>\n",
       "      <td>0.4485</td>\n",
       "      <td>0.1585</td>\n",
       "      <td>0.1020</td>\n",
       "      <td>0.1335</td>\n",
       "      <td>16</td>\n",
       "      <td>1</td>\n",
       "    </tr>\n",
       "    <tr>\n",
       "      <th>3082</th>\n",
       "      <td>F</td>\n",
       "      <td>0.755</td>\n",
       "      <td>0.575</td>\n",
       "      <td>0.200</td>\n",
       "      <td>2.0730</td>\n",
       "      <td>10.1350</td>\n",
       "      <td>0.4655</td>\n",
       "      <td>0.4800</td>\n",
       "      <td>11</td>\n",
       "      <td>1</td>\n",
       "    </tr>\n",
       "  </tbody>\n",
       "</table>\n",
       "</div>"
      ],
      "text/plain": [
       "     Sex  Length  Diameter  Height  Whole_weight  Shucked_weight  \\\n",
       "1731   F   0.665     0.505   0.160       12.9150          0.6310   \n",
       "2390   F   0.455     0.350   0.125        0.4485          0.1585   \n",
       "3082   F   0.755     0.575   0.200        2.0730         10.1350   \n",
       "\n",
       "      Viscera_weight  Shell_weight  Rings  Adulto  \n",
       "1731          0.2925        0.3200     11       0  \n",
       "2390          0.1020        0.1335     16       1  \n",
       "3082          0.4655        0.4800     11       1  "
      ]
     },
     "execution_count": 3,
     "metadata": {},
     "output_type": "execute_result"
    }
   ],
   "source": [
    "df = pd.read_csv('../Data/abalone.csv', sep=';')\n",
    "print('Filas:', df.shape[0], 'Columnas:', df.shape[1])\n",
    "df.sample(3)"
   ]
  },
  {
   "cell_type": "markdown",
   "metadata": {
    "slideshow": {
     "slide_type": "fragment"
    }
   },
   "source": [
    "Armamos la matriz de features ($X$) y el target ($y$)"
   ]
  },
  {
   "cell_type": "code",
   "execution_count": 4,
   "metadata": {
    "slideshow": {
     "slide_type": "fragment"
    }
   },
   "outputs": [],
   "source": [
    "X = df.drop(['Adulto','Sex'], axis=1)\n",
    "y = df['Adulto']"
   ]
  },
  {
   "cell_type": "code",
   "execution_count": 5,
   "metadata": {
    "slideshow": {
     "slide_type": "fragment"
    }
   },
   "outputs": [
    {
     "name": "stdout",
     "output_type": "stream",
     "text": [
      "Total por labels: \n",
      " Adulto\n",
      "0    2073\n",
      "1    1603\n",
      "Name: Adulto, dtype: int64\n"
     ]
    }
   ],
   "source": [
    "print('Total por labels: \\n', y.groupby(y).count())"
   ]
  },
  {
   "cell_type": "markdown",
   "metadata": {
    "slideshow": {
     "slide_type": "slide"
    }
   },
   "source": [
    "Creamos el modelo KNN con 9 vecinos."
   ]
  },
  {
   "cell_type": "code",
   "execution_count": 6,
   "metadata": {
    "colab": {},
    "colab_type": "code",
    "id": "4uqP_8_yYZs-",
    "slideshow": {
     "slide_type": "fragment"
    }
   },
   "outputs": [],
   "source": [
    "from sklearn.neighbors import KNeighborsClassifier\n",
    "knn = KNeighborsClassifier(n_neighbors=9)"
   ]
  },
  {
   "cell_type": "code",
   "execution_count": 7,
   "metadata": {
    "slideshow": {
     "slide_type": "fragment"
    }
   },
   "outputs": [],
   "source": [
    "# Generamos los datasets de train y test.\n",
    "from sklearn.model_selection import train_test_split\n",
    "X_train, X_test, y_train, y_test = train_test_split(X, y, test_size = 0.30, random_state=56)\n",
    "\n",
    "# Ajustamos a los datos de entrenamiento.\n",
    "knn.fit(X_train, y_train);\n",
    "\n",
    "# Predecimos etiquetas para los datos de test.\n",
    "y_pred = knn.predict(X_test)"
   ]
  },
  {
   "cell_type": "markdown",
   "metadata": {
    "slideshow": {
     "slide_type": "fragment"
    }
   },
   "source": [
    "Ahora si! A evaluarlo con distintas métricas\n",
    "\n",
    "<img src=\"https://raw.githubusercontent.com/Digital-House-DATA/ds_blend_2021_img/master/M4/CLASE_30_Ev-Modelos_Grid-Search/Presentacion/img/M4_CLASE_30_homero.jpg\" alt=\"abadone\" width=45% height=25% align=\"center\"/>"
   ]
  },
  {
   "cell_type": "markdown",
   "metadata": {
    "slideshow": {
     "slide_type": "slide"
    }
   },
   "source": [
    "<div class=\"div-dhds-fondo-1\"> Métricas \n",
    "<img src=\"https://raw.githubusercontent.com/Digital-House-DATA/ds_blend_2021_img/master/M3/CLASE_21_Regresion_Lineal_Simple/Presentacion/img/M3_CLASE_21_separador.png\" align=\"center\" />\n",
    "\n",
    "</div>"
   ]
  },
  {
   "cell_type": "markdown",
   "metadata": {
    "slideshow": {
     "slide_type": "slide"
    }
   },
   "source": [
    "###  Métricas\n",
    "\n",
    "---\n",
    "\n",
    "A partir de la **Matriz de confusión** podemos derivar **distintas métricas** para evaluar los modelos de clasificación.\n",
    "\n",
    "<img src=\"https://raw.githubusercontent.com/Digital-House-DATA/ds_blend_2021_img/master/M4/CLASE_30_Ev-Modelos_Grid-Search/Presentacion/img/M4_CLASE_30_metrics.png\" alt=\"Drawing\" style=\"width: 500px;\"/>"
   ]
  },
  {
   "cell_type": "markdown",
   "metadata": {
    "slideshow": {
     "slide_type": "slide"
    }
   },
   "source": [
    "### Matriz de confusión\n",
    "\n",
    "---\n",
    "\n",
    "Veamos cómo se calcula con *scikit-learn*.\n",
    "\n",
    "\n",
    "Usando el dataset de test, usamos **y_test** que son los valores target reales, y los comparamos con **y_pred** que son los valores target predichos."
   ]
  },
  {
   "cell_type": "code",
   "execution_count": 8,
   "metadata": {
    "slideshow": {
     "slide_type": "fragment"
    }
   },
   "outputs": [
    {
     "name": "stdout",
     "output_type": "stream",
     "text": [
      "[[573  72]\n",
      " [ 43 415]]\n"
     ]
    }
   ],
   "source": [
    "from sklearn.metrics import confusion_matrix\n",
    "confusion = confusion_matrix(y_test, y_pred)\n",
    "print(confusion)"
   ]
  },
  {
   "cell_type": "markdown",
   "metadata": {
    "slideshow": {
     "slide_type": "subslide"
    }
   },
   "source": [
    "Y podemos calcular:\n",
    "\n",
    "<img src=\"https://raw.githubusercontent.com/Digital-House-DATA/ds_blend_2021_img/master/M4/CLASE_30_Ev-Modelos_Grid-Search/Presentacion/img/M4_CLASE_30_matriz_confusion.png\" alt=\"matriz confusion\" width=60% height=40% />\n",
    "\n",
    "* **True Positives (TP):** adultos predichos correctamente (clase positiva, 1) **(415)**\n",
    "\n",
    "* **True Negatives (TN):** no adultos predichos correctamente (clase negativa, 0) **(573)**\n",
    "\n",
    "* **False Positives (FP):** no adultos predichos adultos **(72)**\n",
    "\n",
    "* **False Negatives (FN):** adultos predichos no adultos **(43)**"
   ]
  },
  {
   "cell_type": "code",
   "execution_count": 9,
   "metadata": {
    "slideshow": {
     "slide_type": "fragment"
    }
   },
   "outputs": [
    {
     "name": "stdout",
     "output_type": "stream",
     "text": [
      "TP:  415  TN:  573  FP:  72  FN:  43\n"
     ]
    }
   ],
   "source": [
    "TP = confusion[1, 1]; TN = confusion[0, 0] ; FP = confusion[0, 1] ; FN = confusion[1, 0]\n",
    "print('TP: ', TP,' TN: ', TN,' FP: ',FP,' FN: ',FN )"
   ]
  },
  {
   "cell_type": "markdown",
   "metadata": {
    "slideshow": {
     "slide_type": "slide"
    }
   },
   "source": [
    "### Accuracy\n",
    "\n",
    "---\n",
    "\n",
    "- Accuracy es la **proporción de clases correctamente predichas**.\n",
    "\n",
    "\n",
    "<p style=\"font-size=24px;\">\n",
    "$$Accuracy = \\frac{TP + TN}{TP + TN + FP + FN}$$\n",
    "</p>\n",
    "\n",
    "\n",
    "**Definición:** `Accuracy` se calcula como la proporción de casos correctamente clasificados de los datos de **test** sobre el total de casos de **test**.\n",
    "\n",
    "\n",
    "**Documentación:** [`accuracy_score`](https://scikit-learn.org/stable/modules/generated/sklearn.metrics.accuracy_score.html)."
   ]
  },
  {
   "cell_type": "markdown",
   "metadata": {
    "slideshow": {
     "slide_type": "subslide"
    }
   },
   "source": [
    "Para calcularlo importamos del módulo [`metrics`](https://scikit-learn.org/stable/modules/generated/sklearn.metrics.confusion_matrix.html?highlight=confusion%20matrix#sklearn.metrics.confusion_matrix) la función `accuracy_score`."
   ]
  },
  {
   "cell_type": "code",
   "execution_count": 10,
   "metadata": {
    "slideshow": {
     "slide_type": "fragment"
    }
   },
   "outputs": [
    {
     "name": "stdout",
     "output_type": "stream",
     "text": [
      "Accuracy= 0.8957388939256573\n"
     ]
    }
   ],
   "source": [
    "from sklearn.metrics import accuracy_score\n",
    "print('Accuracy=', accuracy_score(y_test, y_pred))"
   ]
  },
  {
   "cell_type": "markdown",
   "metadata": {
    "slideshow": {
     "slide_type": "fragment"
    }
   },
   "source": [
    "Podemos calcularlo también usando la fórmula:"
   ]
  },
  {
   "cell_type": "code",
   "execution_count": 11,
   "metadata": {
    "slideshow": {
     "slide_type": "fragment"
    }
   },
   "outputs": [
    {
     "name": "stdout",
     "output_type": "stream",
     "text": [
      "Accuracy= 0.8957388939256573\n",
      "Total de casos correctamente predichos (TP+TN) = 988\n",
      "Total de casos (TP+TN+FP+FN) = 1103\n"
     ]
    }
   ],
   "source": [
    "print('Accuracy=', (TP+TN)/ (TP+TN+FP+FN))\n",
    "print('Total de casos correctamente predichos (TP+TN) =',(TP+TN))\n",
    "print('Total de casos (TP+TN+FP+FN) =',(TP+TN+FP+FN))"
   ]
  },
  {
   "cell_type": "markdown",
   "metadata": {
    "slideshow": {
     "slide_type": "slide"
    }
   },
   "source": [
    "### Accuracy\n",
    "\n",
    "---\n",
    "\n",
    "**¿Qué significa?** : que encontramos el **89% (aprox.)** de los casos —en el **test set**— correctamente clasificados.\n",
    "\n",
    "<img src=\"https://raw.githubusercontent.com/Digital-House-DATA/ds_blend_2021_img/master/M4/CLASE_30_Ev-Modelos_Grid-Search/Presentacion/img/M4_CLASE_30_accuracy_cuadro.png\" alt=\"accuracy_cuadro\" width=60% height=40% />"
   ]
  },
  {
   "cell_type": "markdown",
   "metadata": {
    "slideshow": {
     "slide_type": "subslide"
    }
   },
   "source": [
    "- Un inconveniente: **accuracy** hace foco tanto en la detección correcta de **TP** (casos positivos) como de **TN** (casos negativos). \n",
    "\n",
    "    Pero quizás *solo* necesitemos enfocarnos en la detección de los **TP** y no de los **TN**. Y esta métrica no detecta si *no tengo casos positivos no predichos*.\n",
    "\n",
    "- En ciertos problemas, el número de clases positivas es bajo. Los llamamos problemas de **clases desbalanceadas**, donde hay que evitar que los modelos predigan todas las instancias como pertenecientes a la clase mayoritaria.\n",
    "\n",
    "    Un problema típico es la detección de default financiero (pocas personas con créditos terminan no pagando sus cuotas... ponele)."
   ]
  },
  {
   "cell_type": "markdown",
   "metadata": {
    "slideshow": {
     "slide_type": "slide"
    }
   },
   "source": [
    "### Recall (Sensitivity)\n",
    "\n",
    "---\n",
    "\n",
    "- Recall (Sensibilidad o True Positive Rate) es la **proporción de positivos correctamente predichos**.\n",
    "\n",
    "<p style=\"font-size=24px;\">\n",
    "$$Recall \\space (Sensitivity) = \\frac{TP}{TP + FN}$$</p>\n",
    "\n",
    "**Definición:** `Recall` mide la capacidad del modelo de detectar los **verdaderos positivos (TP)** sobre **todos los casos que son positivos (TP+FN)**. Qué tan \"sensible\" es.\n",
    "\n",
    "**Documentación:** [`recall_score`](https://scikit-learn.org/stable/modules/generated/sklearn.metrics.recall_score.html)."
   ]
  },
  {
   "cell_type": "markdown",
   "metadata": {
    "slideshow": {
     "slide_type": "subslide"
    }
   },
   "source": [
    "Para calcularlo, importamos del módulo [`metrics`](https://scikit-learn.org/stable/modules/generated/sklearn.metrics.confusion_matrix.html?highlight=confusion%20matrix#sklearn.metrics.confusion_matrix) la función `recall_score`."
   ]
  },
  {
   "cell_type": "code",
   "execution_count": 12,
   "metadata": {
    "slideshow": {
     "slide_type": "fragment"
    }
   },
   "outputs": [
    {
     "name": "stdout",
     "output_type": "stream",
     "text": [
      "0.9061135371179039\n"
     ]
    }
   ],
   "source": [
    "from sklearn.metrics import recall_score\n",
    "print(recall_score(y_test, y_pred))"
   ]
  },
  {
   "cell_type": "markdown",
   "metadata": {
    "slideshow": {
     "slide_type": "fragment"
    }
   },
   "source": [
    "Podemos calcularlo también usando la fórmula:"
   ]
  },
  {
   "cell_type": "code",
   "execution_count": 13,
   "metadata": {
    "slideshow": {
     "slide_type": "fragment"
    }
   },
   "outputs": [
    {
     "name": "stdout",
     "output_type": "stream",
     "text": [
      "Recall= 0.9061135371179039\n",
      "Total de casos positivos predichos correctamente (TP) = 415\n",
      "Total de casos positivos reales (TP+FN) = 458\n"
     ]
    }
   ],
   "source": [
    "print('Recall=', (TP)/ (TP+FN))\n",
    "print('Total de casos positivos predichos correctamente (TP) =',(TP))\n",
    "print('Total de casos positivos reales (TP+FN) =',(TP+FN))"
   ]
  },
  {
   "cell_type": "markdown",
   "metadata": {
    "slideshow": {
     "slide_type": "slide"
    }
   },
   "source": [
    "### Recall\n",
    "\n",
    "---\n",
    "\n",
    "**¿Qué significa?** : que encontramos el **90% (aprox.)** de los casos positivos — en el **test set**— correctamente clasificados.\n",
    "\n",
    "<img src=\"https://raw.githubusercontent.com/Digital-House-DATA/ds_blend_2021_img/master/M4/CLASE_30_Ev-Modelos_Grid-Search/Presentacion/img/M4_CLASE_30_recall_cuadro.png\" alt=\"recall_cuadro\" width=60% height=40% />"
   ]
  },
  {
   "cell_type": "markdown",
   "metadata": {
    "slideshow": {
     "slide_type": "fragment"
    }
   },
   "source": [
    "- Si su valor es bajo, es porque hay presencia de **falsos negativos**. Por eso, esta medida es sensible a los FN.\n",
    "\n",
    "- Comparado con **accuracy_score**, esta medida se enfoca en los casos positivos, así muestra cómo funciona nuestro modelo en relación al objeto de interés  de nuestro negocio.\n",
    "\n",
    "- Útil cuando la ocurrencia de **falsos negativos** es inaceptables. En nuestro ejemplo, no podemos permitir que un adultos sea clasificado como no-adulto. "
   ]
  },
  {
   "cell_type": "markdown",
   "metadata": {
    "slideshow": {
     "slide_type": "slide"
    }
   },
   "source": [
    "### Precision\n",
    "\n",
    "---\n",
    "\n",
    "- Precision o *positive predictive value (PPV)* es la **proporción de positivos correctamente predichos sobre el total de predicciones positivas.**\n",
    "\n",
    "<p style=\"font-size=24px;\">\n",
    "$$Precision = \\frac{TP}{TP + FP}$$</p>\n",
    "\n",
    "**Definición:** `Precision` mide qué tan **\"preciso\"** es el clasificador al predecir las instancias positivas. Se calcula como el número de **verdaderos positivos (TP)** sobre **todos los casos que son predichos positivos (TP+FP)**.\n",
    "\n",
    "**Documentación:** [`precision_score`](https://scikit-learn.org/stable/modules/generated/sklearn.metrics.precision_score.html)."
   ]
  },
  {
   "cell_type": "markdown",
   "metadata": {
    "slideshow": {
     "slide_type": "subslide"
    }
   },
   "source": [
    "Para calcularlo, importamos del módulo [`metrics`](https://scikit-learn.org/stable/modules/generated/sklearn.metrics.confusion_matrix.html?highlight=confusion%20matrix#sklearn.metrics.confusion_matrix) la función `precision_score`."
   ]
  },
  {
   "cell_type": "code",
   "execution_count": 14,
   "metadata": {
    "slideshow": {
     "slide_type": "fragment"
    }
   },
   "outputs": [
    {
     "name": "stdout",
     "output_type": "stream",
     "text": [
      "0.8521560574948666\n"
     ]
    }
   ],
   "source": [
    "from sklearn.metrics import precision_score\n",
    "print(precision_score(y_test, y_pred))"
   ]
  },
  {
   "cell_type": "markdown",
   "metadata": {
    "slideshow": {
     "slide_type": "fragment"
    }
   },
   "source": [
    "Podemos calcularlo también usando la fórmula:"
   ]
  },
  {
   "cell_type": "code",
   "execution_count": 15,
   "metadata": {
    "slideshow": {
     "slide_type": "fragment"
    }
   },
   "outputs": [
    {
     "name": "stdout",
     "output_type": "stream",
     "text": [
      "Recall= 0.8521560574948666\n",
      "Total de casos positivos predichos correctamente (TP) = 415\n",
      "Total de casos positivos predichos (TP+FP) = 487\n"
     ]
    }
   ],
   "source": [
    "print('Recall=', (TP)/ (TP+FP))\n",
    "print('Total de casos positivos predichos correctamente (TP) =',(TP))\n",
    "print('Total de casos positivos predichos (TP+FP) =',(TP+FP))"
   ]
  },
  {
   "cell_type": "markdown",
   "metadata": {
    "slideshow": {
     "slide_type": "slide"
    }
   },
   "source": [
    "### Precision\n",
    "\n",
    "---\n",
    "\n",
    "**¿Qué significa?** : que encontramos el **85% (aprox.)** de los casos **predichos** positivos,  correctamente clasificados.\n",
    "\n",
    "<img src=\"https://raw.githubusercontent.com/Digital-House-DATA/ds_blend_2021_img/master/M4/CLASE_30_Ev-Modelos_Grid-Search/Presentacion/img/M4_CLASE_30_precision_cuadro.png\" alt=\"precision_cuadro\" width=60% height=40% />"
   ]
  },
  {
   "cell_type": "markdown",
   "metadata": {
    "slideshow": {
     "slide_type": "fragment"
    }
   },
   "source": [
    "- Si su valor es bajo, es porque hay presencia de **falsos positivos**. Por eso, esta medida es sensible a los FP.\n",
    "\n",
    "- Util cuando necesitamos estar seguros de los **verdaderos positivos**. Por ejemplo, confiar que un mail predicho como spam lo es."
   ]
  },
  {
   "cell_type": "markdown",
   "metadata": {
    "slideshow": {
     "slide_type": "slide"
    }
   },
   "source": [
    "<br>\n",
    "<div id=\"caja9\" style=\"float:left;width: 100%;\">\n",
    "  <div style=\"float:left;width: 15%;\"><img src=\"../../../common/icons/kit_de_salida.png\" style=\"align:left\"/> </div>\n",
    "  <div style=\"float:left;width: 85%;\"><label>Tener en cuenta la diferencia entre <b>recall</b> y <b>precisión</b>. Ambos están pesando los <b>verdaderos positivos (TP)</b>; con <b>recall</b> respecto a los positivos reales; con <b>precisión</b>, respecto a los positivos predichos."
   ]
  },
  {
   "cell_type": "markdown",
   "metadata": {
    "slideshow": {
     "slide_type": "slide"
    }
   },
   "source": [
    "### Specificity\n",
    "\n",
    "---\n",
    "\n",
    "- Specificity *(especificidad o true negative rate (TNR))* es la **proporción de negativos correctamente predichos sobre el total de casos negativos.**\n",
    "\n",
    "\n",
    "<p style=\"font-size=24px;\">\n",
    "$$Specificity = \\frac{TN}{TN + FP}$$</p>\n",
    "\n",
    "**Definición:** *specificity* mide qué tan **\"específico\"** es el clasificador al predecir las instancias positivas. Se calcula como el número de **verdaderos negativos (TN)** sobre **todos los casos que son negativos (TN+FP)**."
   ]
  },
  {
   "cell_type": "markdown",
   "metadata": {
    "slideshow": {
     "slide_type": "subslide"
    }
   },
   "source": [
    "Solo podemos calcularla usando la fórmula:"
   ]
  },
  {
   "cell_type": "code",
   "execution_count": 16,
   "metadata": {
    "slideshow": {
     "slide_type": "fragment"
    }
   },
   "outputs": [
    {
     "name": "stdout",
     "output_type": "stream",
     "text": [
      "Specificity= 0.8883720930232558\n",
      "Total de casos negativos predichos correctamente (TN) = 573\n",
      "Total de casos negativos (TN+FP) = 645\n"
     ]
    }
   ],
   "source": [
    "print('Specificity=', (TN)/ (TN+FP))\n",
    "print('Total de casos negativos predichos correctamente (TN) =',(TN))\n",
    "print('Total de casos negativos (TN+FP) =',(TN+FP))"
   ]
  },
  {
   "cell_type": "markdown",
   "metadata": {
    "slideshow": {
     "slide_type": "slide"
    }
   },
   "source": [
    "### Specificity\n",
    "\n",
    "---\n",
    "\n",
    "**¿Qué significa?** : que encontramos el **88% (aprox.)** de los casos negativos,  correctamente clasificados.\n",
    "\n",
    "<img src=\"https://raw.githubusercontent.com/Digital-House-DATA/ds_blend_2021_img/master/M4/CLASE_30_Ev-Modelos_Grid-Search/Presentacion/img/M4_CLASE_30_specificity_cuadro.png\" alt=\"specificity_cuadro\" width=60% height=40% />"
   ]
  },
  {
   "cell_type": "markdown",
   "metadata": {
    "slideshow": {
     "slide_type": "fragment"
    }
   },
   "source": [
    "- Si su valor es bajo, es porque hay presencia de **falsos positivos**. Por eso, esta medida es sensible a los FP.\n",
    "\n",
    "- Un modelo muy específico, indica pocos errores de falsos positivos. En nuestro modelo, pocas veces dijo que un abalón es adulto, cuando en realidad no lo es.\n",
    "\n",
    "- Otro ejemplo donde importa una alta especificidad, es si predecimos que una persona está enferma al cual debemos suministrarle una droga potente, y no lo está realmente. "
   ]
  },
  {
   "cell_type": "markdown",
   "metadata": {
    "slideshow": {
     "slide_type": "slide"
    }
   },
   "source": [
    "### Comparación de métricas\n",
    "\n",
    "---\n",
    "\n",
    "- Debemos tener en cuenta **Recall** cuando no podemos aceptar los *falsos negativos*.\n",
    "\n",
    "- **Specificity** cuando no debemos aceptar *falsos positivos*.\n",
    "\n",
    "- **Precision** cuando debemos estar seguros de los *verdaderos positivos*.\n",
    "\n",
    "<img src=\"https://raw.githubusercontent.com/Digital-House-DATA/ds_blend_2021_img/master/M4/CLASE_30_Ev-Modelos_Grid-Search/Presentacion/img/M4_CLASE_30_comparacion.png\" alt=\"comparacion\" width=50% height=30% />"
   ]
  },
  {
   "cell_type": "markdown",
   "metadata": {
    "slideshow": {
     "slide_type": "slide"
    }
   },
   "source": [
    "### F1-Score\n",
    "\n",
    "---\n",
    "\n",
    "- F1-Score es la media armónica entre *Recall* y *Precisión*.\n",
    "\n",
    "\n",
    "<p style=\"font-size=24px;\">\n",
    "$$F1 = \\frac{2}{\\frac{1}{precision} + \\frac{1}{recall}} = \\frac{2 * precision * recall}{precision + recall}$$\n",
    "</p>\n",
    "\n",
    "Como regla general, cuanto mayor es esta métrica, mejor es el modelo.\n",
    "\n",
    "Pero para tener un `f1-score` alto, es necesario que tanto **recall** como **precision** sean altos, mientras que un `f1-score` bajo puede ser el resultado de un valor bajo en por lo menos una de estas métricas o en ambas a la vez.\n",
    "\n",
    "**Documentación:** [`f1_score`](https://scikit-learn.org/stable/modules/generated/sklearn.metrics.f1_score.html)."
   ]
  },
  {
   "cell_type": "markdown",
   "metadata": {
    "slideshow": {
     "slide_type": "subslide"
    }
   },
   "source": [
    "Para calcularlo, importamos del módulo [`metrics`](https://scikit-learn.org/stable/modules/generated/sklearn.metrics.confusion_matrix.html?highlight=confusion%20matrix#sklearn.metrics.confusion_matrix) la función `f1_score`."
   ]
  },
  {
   "cell_type": "code",
   "execution_count": 17,
   "metadata": {
    "slideshow": {
     "slide_type": "fragment"
    }
   },
   "outputs": [
    {
     "name": "stdout",
     "output_type": "stream",
     "text": [
      "0.8783068783068783\n"
     ]
    }
   ],
   "source": [
    "from sklearn.metrics import f1_score\n",
    "print(f1_score(y_test, y_pred))"
   ]
  },
  {
   "cell_type": "markdown",
   "metadata": {
    "slideshow": {
     "slide_type": "slide"
    }
   },
   "source": [
    "### F1-Score\n",
    "\n",
    "---\n",
    "\n",
    "<img src=\"https://raw.githubusercontent.com/Digital-House-DATA/ds_blend_2021_img/master/M4/CLASE_30_Ev-Modelos_Grid-Search/Presentacion/img/M4_CLASE_30_F1_cuadro.jpg\" alt=\"specificity_cuadro\" width=40% height=30% />\n",
    "\n",
    "- La ventaja de usar la media armónica (en vez de la media aritmética) es que el resultado del f1-score no es sensible a valores altos de una de las dos variables (**recall** o **precision**). \n",
    "\n",
    "- Por otro lado, no todos los valores extremos son ignorados, ya que los que son muy bajos si tienen peso en el resultado final."
   ]
  },
  {
   "cell_type": "markdown",
   "metadata": {
    "slideshow": {
     "slide_type": "slide"
    }
   },
   "source": [
    "<div class=\"div-dhds-fondo-1\"> Umbrales (thresholds)\n",
    "<img src=\"https://raw.githubusercontent.com/Digital-House-DATA/ds_blend_2021_img/master/M3/CLASE_21_Regresion_Lineal_Simple/Presentacion/img/M3_CLASE_21_separador.png\" align=\"center\" />\n",
    "\n",
    "</div>"
   ]
  },
  {
   "cell_type": "markdown",
   "metadata": {
    "slideshow": {
     "slide_type": "slide"
    }
   },
   "source": [
    "### Umbrales (thresholds)\n",
    "\n",
    "---\n",
    "Cuando realizamos las predicciones, por cada observación asignamos *un valor de la clase*.\n",
    "\n",
    "Las predicciones se encuentran en *y_pred*, donde el valor 0 indica que no es adulto, 1 que sí lo es. "
   ]
  },
  {
   "cell_type": "code",
   "execution_count": 18,
   "metadata": {
    "slideshow": {
     "slide_type": "fragment"
    }
   },
   "outputs": [
    {
     "data": {
      "text/plain": [
       "0    616\n",
       "1    487\n",
       "dtype: int64"
      ]
     },
     "execution_count": 18,
     "metadata": {},
     "output_type": "execute_result"
    }
   ],
   "source": [
    "pd.Series(y_pred).value_counts()"
   ]
  },
  {
   "cell_type": "markdown",
   "metadata": {
    "slideshow": {
     "slide_type": "fragment"
    }
   },
   "source": [
    "También podemos predecir un **valor de probabilidad de pertenencia a una clase**. \n",
    "\n",
    "En lugar de usar los valores 0 y 1, *tomamos valores que van desde 0 hasta 1*. \n",
    "\n",
    "**Más cerca de 0** , más probable que pertenezca a la **clase negativa**; **más cerca de 1** indica que probablemente sea de **clase positiva**. \n",
    "\n",
    "Para acceder a estos valores de probabilidad, usamos el método [`.predict_proba()`](https://scikit-learn.org/stable/modules/generated/sklearn.linear_model.LogisticRegression.html#sklearn.linear_model.LogisticRegression.predict_proba) del modelo. "
   ]
  },
  {
   "cell_type": "code",
   "execution_count": 19,
   "metadata": {
    "slideshow": {
     "slide_type": "subslide"
    }
   },
   "outputs": [],
   "source": [
    "y_pred_proba = knn.predict_proba(X_test)"
   ]
  },
  {
   "cell_type": "markdown",
   "metadata": {
    "slideshow": {
     "slide_type": "fragment"
    }
   },
   "source": [
    "- El método `.predict_proba()` devuelve un array con dos probabilidades para cada instancia del test set: $p(y=0)$ y $p(y=1)$, en ese orden.\n",
    "\n",
    "- La primera columna es la probabilidad de pertenecer a la clase 0 (negativa), y la segunda columna a la clase 1 (positiva). "
   ]
  },
  {
   "cell_type": "code",
   "execution_count": 20,
   "metadata": {
    "slideshow": {
     "slide_type": "fragment"
    }
   },
   "outputs": [
    {
     "data": {
      "text/plain": [
       "array([[0.11111111, 0.88888889],\n",
       "       [0.        , 1.        ],\n",
       "       [0.        , 1.        ],\n",
       "       [1.        , 0.        ]])"
      ]
     },
     "execution_count": 20,
     "metadata": {},
     "output_type": "execute_result"
    }
   ],
   "source": [
    "y_pred_proba[5:9]"
   ]
  },
  {
   "cell_type": "markdown",
   "metadata": {
    "slideshow": {
     "slide_type": "slide"
    }
   },
   "source": [
    "### Umbrales (thresholds)\n",
    "\n",
    "---\n",
    "El método `.predict`, asume que **si $p(y=1) > 0.5$, entonces, la predicción del modelo será $y=1$**.\n",
    "\n",
    "Al *valor 0.5* lo llamamos **umbral (threshold)**.\n",
    "\n",
    "<img src=\"https://raw.githubusercontent.com/Digital-House-DATA/ds_blend_2021_img/master/M4/CLASE_30_Ev-Modelos_Grid-Search/Presentacion/img/M4_CLASE_30_threshold_05.png\" alt=\"threshold_05\" width=60% height=40% />\n",
    "\n"
   ]
  },
  {
   "cell_type": "code",
   "execution_count": 21,
   "metadata": {
    "slideshow": {
     "slide_type": "subslide"
    }
   },
   "outputs": [
    {
     "data": {
      "text/plain": [
       "0    616\n",
       "1    487\n",
       "dtype: int64"
      ]
     },
     "execution_count": 21,
     "metadata": {},
     "output_type": "execute_result"
    }
   ],
   "source": [
    "# Pertenencia a partir de las probabilidades\n",
    "pd.Series(y_pred_proba[:,1]>0.5).astype(int).value_counts()"
   ]
  },
  {
   "cell_type": "markdown",
   "metadata": {
    "slideshow": {
     "slide_type": "fragment"
    }
   },
   "source": [
    "- Es igual a lo predicho con el método `.predict`."
   ]
  },
  {
   "cell_type": "code",
   "execution_count": 22,
   "metadata": {
    "slideshow": {
     "slide_type": "fragment"
    }
   },
   "outputs": [
    {
     "data": {
      "text/plain": [
       "0    616\n",
       "1    487\n",
       "dtype: int64"
      ]
     },
     "execution_count": 22,
     "metadata": {},
     "output_type": "execute_result"
    }
   ],
   "source": [
    "# Pertenencia calculada a partir del método .predict()\n",
    "pd.Series(y_pred).value_counts()"
   ]
  },
  {
   "cell_type": "markdown",
   "metadata": {
    "slideshow": {
     "slide_type": "slide"
    }
   },
   "source": [
    "### Modificando el umbral\n",
    "\n",
    "---\n",
    "Podemos **modificar el umbral** asignando un valor menor o mayor al default (0.5), que esté entre 0 y 1. (Recordemos que es una probabilidad!)\n",
    "\n",
    "Por ejemplo, si queremos una definición menos rigurosa de adulto usamos un umbral menor, 0.3, para incorporar más casos como adulto.\n",
    "\n",
    "Estamos corriendo el umbral hacia la izquierda."
   ]
  },
  {
   "cell_type": "markdown",
   "metadata": {
    "slideshow": {
     "slide_type": "fragment"
    }
   },
   "source": [
    "Tenemos dos opciones para hacer las transformaciones con distintos thresholds. \n",
    "\n",
    "- Utilizar la función `binarize` del módulo *preprocessing de sklearn*.\n",
    "\n",
    "- Generar un booleano y pasarlo a int."
   ]
  },
  {
   "cell_type": "code",
   "execution_count": 23,
   "metadata": {
    "slideshow": {
     "slide_type": "fragment"
    }
   },
   "outputs": [],
   "source": [
    "from sklearn.preprocessing import binarize\n",
    "y_pred_03 = binarize(y_pred_proba, threshold=0.3)[:,1]"
   ]
  },
  {
   "cell_type": "code",
   "execution_count": 24,
   "metadata": {
    "slideshow": {
     "slide_type": "fragment"
    }
   },
   "outputs": [],
   "source": [
    "y_pred_03 = (y_pred_proba[:,1] > 0.3).astype(int)"
   ]
  },
  {
   "cell_type": "markdown",
   "metadata": {
    "slideshow": {
     "slide_type": "slide"
    }
   },
   "source": [
    "### Modificando el umbral\n",
    "\n",
    "---\n",
    "Comparemos las métricas entre el valor de umbral original 0.5 y el nuevo 0.3."
   ]
  },
  {
   "cell_type": "code",
   "execution_count": 25,
   "metadata": {
    "slideshow": {
     "slide_type": "fragment"
    }
   },
   "outputs": [
    {
     "name": "stdout",
     "output_type": "stream",
     "text": [
      "Matrix Original\n"
     ]
    },
    {
     "data": {
      "text/plain": [
       "array([[573,  72],\n",
       "       [ 43, 415]])"
      ]
     },
     "metadata": {},
     "output_type": "display_data"
    },
    {
     "name": "stdout",
     "output_type": "stream",
     "text": [
      "\n",
      "Nueva Matrix\n"
     ]
    },
    {
     "data": {
      "text/plain": [
       "array([[546,  99],\n",
       "       [ 35, 423]])"
      ]
     },
     "metadata": {},
     "output_type": "display_data"
    }
   ],
   "source": [
    "print('Matrix Original')\n",
    "display(confusion_matrix(y_test,y_pred))\n",
    "print('')\n",
    "print('Nueva Matrix')\n",
    "display(confusion_matrix(y_test,y_pred_03))"
   ]
  },
  {
   "cell_type": "markdown",
   "metadata": {
    "slideshow": {
     "slide_type": "subslide"
    }
   },
   "source": [
    "- Observemos que efectivamente *los casos positivos correctamente clasificados (TP)* pasaron de 415 a 423.\n",
    "\n",
    "- Y bajaron *los casos negativos correctamente clasificados (TN)*.\n",
    "\n",
    "- Crecieron los *falsos positivos (FP)*, de 72 a 99.\n",
    "\n",
    "- Y bajaron *los falsos negativos (FN)*.\n",
    "\n",
    "Podemos deducir que logramos aumentar el número de adultos predichos correctamente. \n",
    "\n",
    "Pero con el costo de subir los errores de falsos positivos, lo que es lógico, ya que al bajar el umbral incorporamos más casos predichos como positivos, y en realidad son negativos."
   ]
  },
  {
   "cell_type": "markdown",
   "metadata": {
    "slideshow": {
     "slide_type": "slide"
    }
   },
   "source": [
    "### Comparando métricas\n",
    "\n",
    "---\n",
    "Veamos las métricas en ambos casos:"
   ]
  },
  {
   "cell_type": "markdown",
   "metadata": {
    "slideshow": {
     "slide_type": "fragment"
    }
   },
   "source": [
    "**Accuracy**"
   ]
  },
  {
   "cell_type": "code",
   "execution_count": 26,
   "metadata": {
    "slideshow": {
     "slide_type": "fragment"
    }
   },
   "outputs": [
    {
     "name": "stdout",
     "output_type": "stream",
     "text": [
      "Acc umbral 0.5 = 0.8957388939256573\n",
      "Acc umbral 0.3 = 0.8785131459655485\n"
     ]
    }
   ],
   "source": [
    "print('Acc umbral 0.5 =', accuracy_score(y_test, y_pred))\n",
    "print('Acc umbral 0.3 =', accuracy_score(y_test, y_pred_03))"
   ]
  },
  {
   "cell_type": "markdown",
   "metadata": {
    "slideshow": {
     "slide_type": "subslide"
    }
   },
   "source": [
    "**Recall**"
   ]
  },
  {
   "cell_type": "code",
   "execution_count": 27,
   "metadata": {
    "slideshow": {
     "slide_type": "fragment"
    }
   },
   "outputs": [
    {
     "name": "stdout",
     "output_type": "stream",
     "text": [
      "Recall umbral 0.5= 0.9061135371179039\n",
      "Recall umbral 0.3= 0.9235807860262009\n"
     ]
    }
   ],
   "source": [
    "print('Recall umbral 0.5=', recall_score(y_test, y_pred))\n",
    "print('Recall umbral 0.3=', recall_score(y_test, y_pred_03))"
   ]
  },
  {
   "cell_type": "markdown",
   "metadata": {
    "slideshow": {
     "slide_type": "fragment"
    }
   },
   "source": [
    "**Precision**"
   ]
  },
  {
   "cell_type": "code",
   "execution_count": 28,
   "metadata": {
    "slideshow": {
     "slide_type": "fragment"
    }
   },
   "outputs": [
    {
     "name": "stdout",
     "output_type": "stream",
     "text": [
      "Precision umbral 0.5= 0.8521560574948666\n",
      "Precision umbral 0.3= 0.8103448275862069\n"
     ]
    }
   ],
   "source": [
    "print('Precision umbral 0.5=', precision_score(y_test, y_pred))\n",
    "print('Precision umbral 0.3=', precision_score(y_test, y_pred_03))"
   ]
  },
  {
   "cell_type": "markdown",
   "metadata": {
    "slideshow": {
     "slide_type": "fragment"
    }
   },
   "source": [
    "**Specificity**"
   ]
  },
  {
   "cell_type": "code",
   "execution_count": 29,
   "metadata": {
    "slideshow": {
     "slide_type": "fragment"
    }
   },
   "outputs": [
    {
     "name": "stdout",
     "output_type": "stream",
     "text": [
      "Spec umbral 0.5 = 0.8883720930232558\n",
      "Spec umbral 0.3 = 0.8465116279069768\n"
     ]
    }
   ],
   "source": [
    "# definimos la función que va a tomar como argumentos los valores reales y los predichos\n",
    "def specificity(y_true, y_pred):\n",
    "    tn, fp, fn, tp = confusion_matrix(y_true, y_pred).ravel()\n",
    "    sp = tn / (tn+fp)\n",
    "    return(sp)\n",
    "\n",
    "print('Spec umbral 0.5 =', specificity(y_test, y_pred))\n",
    "print('Spec umbral 0.3 =', specificity(y_test, y_pred_03))"
   ]
  },
  {
   "cell_type": "markdown",
   "metadata": {
    "slideshow": {
     "slide_type": "slide"
    }
   },
   "source": [
    "### Comparando métricas\n",
    "\n",
    "---"
   ]
  },
  {
   "cell_type": "markdown",
   "metadata": {
    "slideshow": {
     "slide_type": "fragment"
    }
   },
   "source": [
    "Al disminuir el valor del umbral aumenta la cantidad de predichos positivos. Entonces:\n",
    "\n",
    "- Puede aumentar la cantidad de **True Positives**, y por lo tanto también **Recall**. El clasificador es más **\"sensible\"** a las instancias positivas.\n",
    "\n",
    "- También puede aumentar la cantidad de **Falsos Positivos**, generando un peor indicador para **Specificity** y también **Precision**.\n",
    "\n",
    "- **Sensitivity** y **Specificity** tiene una relación inversa: siempre al mejorar uno, empeora el otro.\n",
    "\n",
    "**¿Análogamente, qué pasa al aumentar el valor del umbral?**"
   ]
  },
  {
   "cell_type": "markdown",
   "metadata": {
    "slideshow": {
     "slide_type": "subslide"
    }
   },
   "source": [
    "**¿Cuando nos sirve modificar los umbrales?** \n",
    "\n",
    "\n",
    "**Vamos a intentar encontrar un valor del umbral que maximice la cantidad de verdaderos positivos y verdaderos negativos, y minimice la cantidad de falsos positivos y falsos negativos.**\n",
    "\n",
    "Dependiendo del problema vamos a estar más interesados en mejorar la detección de positivos, o de negativos."
   ]
  },
  {
   "cell_type": "markdown",
   "metadata": {
    "slideshow": {
     "slide_type": "slide"
    }
   },
   "source": [
    "<div class=\"div-dhds-fondo-1\"> Curva ROC y AUC (Area bajo la curva)\n",
    "<img src=\"https://raw.githubusercontent.com/Digital-House-DATA/ds_blend_2021_img/master/M3/CLASE_21_Regresion_Lineal_Simple/Presentacion/img/M3_CLASE_21_separador.png\" align=\"center\" />\n",
    "\n",
    "</div>"
   ]
  },
  {
   "cell_type": "markdown",
   "metadata": {
    "slideshow": {
     "slide_type": "slide"
    }
   },
   "source": [
    "### Curva ROC\n",
    "\n",
    "---\n",
    "La **Curva ROC** evalua la relación entre **specificity** (o su inversa $1-FPR$, tasa de falsos negativos) y **sensitivity o recall** (o también llamada $TPR$, tasa de verdaderos positivos). \n",
    "\n",
    "<img src=\"https://raw.githubusercontent.com/Digital-House-DATA/ds_blend_2021_img/master/M4/CLASE_30_Ev-Modelos_Grid-Search/Presentacion/img/M4_CLASE_30_roc_general.png\" alt=\"Drawing\" style=\"width: 500px;\"/>"
   ]
  },
  {
   "cell_type": "markdown",
   "metadata": {
    "slideshow": {
     "slide_type": "slide"
    }
   },
   "source": [
    "### Curva ROC\n",
    "\n",
    "---\n",
    "La clave es estimar **specificity** y **sensitivity** de un modelo para distintos **umbrales de decisión**.\n",
    "\n",
    "Veamos un ejemplo. Consideremos **specificity** y **sensitivity** para cuatro matrices de confusión distintas resultado de elegir 4 **umbrales de decisión**.\n",
    "\n",
    "De más exigente a menos exigente, los umbrales son: *umbral 1 = 1, umbral 2 = 0.75, umbral 3 = 0.50 y , umbral 4 = 0*. \n",
    "\n",
    "**Umbral 1** es el más restrictivo, pues indica que un caso es considerado positivo si su valor de probabilidad es mayor a 1. Esto es muy poco frecuente, entonces todos los casos son clasificados como negativos, y por lo tanto **specificity** es el máximo. \n",
    "\n",
    "Por el contrario, **Umbral 4** es el menos restrictivo, considerando casos positivos a todos los que tienen probabilidad mayor o igual a 0. Entonces todos los casos son predichos como positivos, llevando el **recall o sensitivity** a 1. "
   ]
  },
  {
   "cell_type": "markdown",
   "metadata": {
    "slideshow": {
     "slide_type": "subslide"
    }
   },
   "source": [
    "La tabla para este modelo imaginario es: \n",
    "\n",
    "<img src=\"https://raw.githubusercontent.com/Digital-House-DATA/ds_blend_2021_img/master/M4/CLASE_30_Ev-Modelos_Grid-Search/Presentacion/img/M4_CLASE_30_roc_2.JPG\" alt=\"Drawing\" style=\"width: 500px;\"/>\n",
    "\n",
    "A medida que aumentamos el umbral y nos volvemos más flexibles ganamos **sensitivity** pero perdemos **specificity**. "
   ]
  },
  {
   "cell_type": "markdown",
   "metadata": {
    "slideshow": {
     "slide_type": "slide"
    }
   },
   "source": [
    "### Curva ROC\n",
    "\n",
    "---\n",
    "Con la información de la tabla podemos armar el plot de la **Curva ROC**. \n",
    "\n",
    "El **eje y** corresponde a la **sensitivity** de cada umbral, y el **eje x** corresponde a la **FPR** o (**1-specificity**) de cada umbral (se usa la inversa de **specificity** para que los dos ejes del gráfico aumenten en forma positiva). \n",
    "\n",
    "<img src=\"https://raw.githubusercontent.com/Digital-House-DATA/ds_blend_2021_img/master/M4/CLASE_30_Ev-Modelos_Grid-Search/Presentacion/img/M4_CLASE_30_roc_3.png\" alt=\"Drawing\" style=\"width: 300px;\"/>"
   ]
  },
  {
   "cell_type": "markdown",
   "metadata": {
    "slideshow": {
     "slide_type": "slide"
    }
   },
   "source": [
    "### Curva ROC\n",
    "\n",
    "---\n",
    "\n",
    "**¿Cómo interpretamos la Curva ROC?** Veamos distintos ejemplos.\n",
    "\n",
    "Modelo **random**. Significa que *los True positivos (TP)* **son iguales** a *los falsos positivos (FP)* para todos los umbrales. Es como tirar una moneda para predecir si es positivo o no. \n",
    "\n",
    "<img src=\"https://raw.githubusercontent.com/Digital-House-DATA/ds_blend_2021_img/master/M4/CLASE_30_Ev-Modelos_Grid-Search/Presentacion/img/M4_CLASE_30_roc_4.png\" alt=\"Drawing\" style=\"width: 300px;\"/> "
   ]
  },
  {
   "cell_type": "markdown",
   "metadata": {
    "slideshow": {
     "slide_type": "subslide"
    }
   },
   "source": [
    "El modelo **perfecto** es cuando tiene el  máximo de **sensitivitiy** y el máximo de **specificity**.\n",
    "\n",
    "<img src=\"https://raw.githubusercontent.com/Digital-House-DATA/ds_blend_2021_img/master/M4/CLASE_30_Ev-Modelos_Grid-Search/Presentacion/img/M4_CLASE_30_roc_5.png\" alt=\"Drawing\" style=\"width: 300px;\"/>\n",
    "\n",
    "Los modelos que son **\"buenos\"** suelen estar entre la línea del **random** y del **perfect**. "
   ]
  },
  {
   "cell_type": "markdown",
   "metadata": {
    "slideshow": {
     "slide_type": "slide"
    }
   },
   "source": [
    "### Curva ROC\n",
    "\n",
    "---\n",
    "La **Curva ROC** permite visualmente comparar la performance de dos modelos usando dos medidas claves: *sensitivity* y *specificity*. \n",
    "\n",
    "El modelo más cercano a la curva **perfecta** es mejor que aquellos más cercanos a la línea **random**.\n",
    "\n",
    "En el siguiente gráfico A es mejor que B:\n",
    "\n",
    "<img src=\"https://raw.githubusercontent.com/Digital-House-DATA/ds_blend_2021_img/master/M4/CLASE_30_Ev-Modelos_Grid-Search/Presentacion/img/M4_CLASE_30_roc_6.png\" alt=\"Drawing\" style=\"width: 300px;\"/>"
   ]
  },
  {
   "cell_type": "markdown",
   "metadata": {
    "slideshow": {
     "slide_type": "slide"
    }
   },
   "source": [
    "### AUC\n",
    "\n",
    "---\n",
    "\n",
    "La *Curva ROC* nos permite estimar el **Area bajo la curva (AUC por sus siglas en inglés, Area under the curve)**. \n",
    "\n",
    "El **AUC** resume en una sóla métrica la relación que muestra el gráfico entre **sensitivity** y **specificity**.\n",
    "\n",
    "<img src=\"https://raw.githubusercontent.com/Digital-House-DATA/ds_blend_2021_img/master/M4/CLASE_30_Ev-Modelos_Grid-Search/Presentacion/img/M4_CLASE_30_roc_7.png\" alt=\"Drawing\" style=\"width: 300px;\"/>"
   ]
  },
  {
   "cell_type": "markdown",
   "metadata": {
    "slideshow": {
     "slide_type": "subslide"
    }
   },
   "source": [
    "**Importante:** Dos modelos pueden tener un mismo **AUC** pero ser distintos al visualizar su *Curva ROC*:\n",
    "\n",
    "<img src=\"https://raw.githubusercontent.com/Digital-House-DATA/ds_blend_2021_img/master/M4/CLASE_30_Ev-Modelos_Grid-Search/Presentacion/img/M4_CLASE_30_roc_8.png\" alt=\"Drawing\" style=\"width: 300px;\"/>"
   ]
  },
  {
   "cell_type": "markdown",
   "metadata": {
    "slideshow": {
     "slide_type": "slide"
    }
   },
   "source": [
    "### Implementación\n",
    "\n",
    "---\n",
    "\n",
    "Generemos la **Curva ROC** y el **AUC** en nuestro modelo para clasificar a los moluscos en adultos o no. \n",
    "\n",
    "Para la *curva ROC* usamos la función [`.roc_curve()`](https://scikit-learn.org/stable/modules/generated/sklearn.metrics.roc_curve.html) del módulo `metrics` de `sklearn`. \n",
    "\n",
    "Esta función calcula para **distintos thresholds**, *FPR (1-specificity)* y *TPR (sensitivity o recall)*. Y con estos valores graficamos la curva.\n",
    "\n",
    "- En `.roc_curve()` el primer argumento son los **valores observados** y el segundo la **probabilidad de la clase positiva**\n",
    "\n",
    "- Como **output** nos va a devolver (respetando el orden): **FPR**, **TPR**, **THRESHOLDS**.\n",
    "\n",
    "**Documentación:** [`.roc_curve()`](https://scikit-learn.org/stable/modules/generated/sklearn.metrics.roc_curve.html)"
   ]
  },
  {
   "cell_type": "code",
   "execution_count": 30,
   "metadata": {
    "slideshow": {
     "slide_type": "subslide"
    }
   },
   "outputs": [],
   "source": [
    "from sklearn.metrics import roc_curve\n",
    "fpr_log,tpr_log,thr_log = roc_curve(y_test, y_pred_proba[:,1])"
   ]
  },
  {
   "cell_type": "markdown",
   "metadata": {
    "slideshow": {
     "slide_type": "fragment"
    }
   },
   "source": [
    "Convertimos los valores en un objeto dataframe y graficamos la curva ROC"
   ]
  },
  {
   "cell_type": "code",
   "execution_count": 31,
   "metadata": {
    "slideshow": {
     "slide_type": "fragment"
    }
   },
   "outputs": [
    {
     "data": {
      "image/png": "[encoded data removed]",
      "text/plain": [
       "<Figure size 432x288 with 1 Axes>"
      ]
     },
     "metadata": {
      "needs_background": "light"
     },
     "output_type": "display_data"
    }
   ],
   "source": [
    "df = pd.DataFrame(dict(fpr=fpr_log, tpr=tpr_log, thr = thr_log))\n",
    "\n",
    "plt.axis([0, 1.01, 0, 1.01])\n",
    "plt.xlabel('1 - Specificty'); plt.ylabel('TPR / Sensitivity'); plt.title('ROC Curve')\n",
    "plt.plot(df['fpr'],df['tpr'])\n",
    "plt.plot(np.arange(0,1, step =0.01), np.arange(0,1, step =0.01))\n",
    "plt.show()"
   ]
  },
  {
   "cell_type": "markdown",
   "metadata": {
    "slideshow": {
     "slide_type": "slide"
    }
   },
   "source": [
    "### Implementación\n",
    "\n",
    "---\n",
    "\n",
    "Para calcular la **AUC** usamos la función [`.auc()`](https://scikit-learn.org/stable/modules/generated/sklearn.metrics.auc.html) del módulo `metrics` de `sklearn`. \n",
    "\n",
    "Usa los valores de **TPR** y **FPR** generados en la función `.roc_curve()`\n",
    "\n",
    "- En `.auc()` el primer argumento corresponde a los valores de **FPR** y el segundo a **TPR**.\n",
    "- Como **output** nos va a devolver el **AUC**.\n",
    "\n",
    "**Documentación:** [`.auc()`](https://scikit-learn.org/stable/modules/generated/sklearn.metrics.auc.html)"
   ]
  },
  {
   "cell_type": "code",
   "execution_count": 32,
   "metadata": {
    "slideshow": {
     "slide_type": "fragment"
    }
   },
   "outputs": [
    {
     "name": "stdout",
     "output_type": "stream",
     "text": [
      "AUC= 0.9282387190684134\n"
     ]
    }
   ],
   "source": [
    "from sklearn.metrics import auc\n",
    "print('AUC=', auc(fpr_log, tpr_log))"
   ]
  },
  {
   "cell_type": "markdown",
   "metadata": {
    "slideshow": {
     "slide_type": "slide"
    }
   },
   "source": [
    "<div class=\"div-dhds-fondo-1\"> Grid Search y Random Search\n",
    "<img src=\"https://raw.githubusercontent.com/Digital-House-DATA/ds_blend_2021_img/master/M3/CLASE_21_Regresion_Lineal_Simple/Presentacion/img/M3_CLASE_21_separador.png\" align=\"center\" />\n",
    "\n",
    "</div>"
   ]
  },
  {
   "cell_type": "markdown",
   "metadata": {
    "slideshow": {
     "slide_type": "slide"
    }
   },
   "source": [
    "### Hiperparámetros\n",
    "\n",
    "---\n",
    "\n",
    "Los **hiperparámetros** son las características **externas** de un modelo,  *no se \"aprenden\"*, son valores que tiene que definirse cuando se implementa el modelo, *antes de entrenarlo*.\n",
    "\n",
    "Un ejemplo es el valor *k* en el algoritmo `KNeighborsClassifier`.\n",
    "\n",
    "Los **parámetros** son las características **internas** de un modelo, son valores estimados a partir del entrenamiento con los datos. \n",
    "\n",
    "Un ejemplo son los *coeficientes* de una regresión lineal.\n",
    "\n",
    "<img src=\"https://raw.githubusercontent.com/Digital-House-DATA/ds_blend_2021_img/master/M4/CLASE_30_Ev-Modelos_Grid-Search/Presentacion/img/M4_CLASE_30_grid_hiperparametros.png\" alt=\"hiperparametros\" style=\"width: 500px;\"/>"
   ]
  },
  {
   "cell_type": "markdown",
   "metadata": {
    "slideshow": {
     "slide_type": "slide"
    }
   },
   "source": [
    "### Hiperparámetros\n",
    "\n",
    "---\n",
    "\n",
    "No podemos saber *a priori* cuáles son los mejores valores de los **hiperparámetros** del modelo para resolver un problema determinado. \n",
    "\n",
    "Además, mientras una *configuración específica de hiperparámetros* genera una buena performance del modelo para un determinado dataset, en otro similar quizá ya no lo es.\n",
    "\n",
    "Por lo tanto, la optimización o ajuste de los hiperparámetros, **hyperparameters tuning**, es decir, la selección de un **conjunto óptimo de valores para los hiperparametros** es una parte esencial del machine learning.\n",
    "\n",
    "Pero los modelos pueden tener *muchos hiperparámetros*, y encontrar la mejor combinación nos lleva a un *problema de búsqueda de información*.\n",
    "\n",
    "<img src=\"https://raw.githubusercontent.com/Digital-House-DATA/ds_blend_2021_img/master/M4/CLASE_30_Ev-Modelos_Grid-Search/Presentacion/img/M4_CLASE_30_grid_hiperparametros_ejemplo.png\" alt=\"hiperparametros\" style=\"width: 500px;\"/>"
   ]
  },
  {
   "cell_type": "markdown",
   "metadata": {
    "slideshow": {
     "slide_type": "slide"
    }
   },
   "source": [
    "### Grid Search - Introducción\n",
    "\n",
    "---\n",
    "\n",
    "Vamos a analizar dos métodos de *hyperparameters tuning*: **Grid Search** y **Random Search**.\n",
    "\n",
    "Ambos hacen algo simple; para cada combinación de valores de los hiperparámetros: \n",
    "- los aplica sobre el *dataset de train* --> los *evalua con cross validation* --> *registra el score*.\n",
    "\n",
    "Al final de todas las búsquedas:\n",
    "\n",
    "- selecciona la combinación con **más alto score** --> aplica sobre **train** --> predice sobre **test**.\n"
   ]
  },
  {
   "cell_type": "markdown",
   "metadata": {
    "slideshow": {
     "slide_type": "subslide"
    }
   },
   "source": [
    "\n",
    "<img src=\"https://raw.githubusercontent.com/Digital-House-DATA/ds_blend_2021_img/master/M4/CLASE_30_Ev-Modelos_Grid-Search/Presentacion/img/M4_CLASE_30_grid_grid_random_2.png\" alt=\"Drawing\" width=\"70%\" />"
   ]
  },
  {
   "cell_type": "markdown",
   "metadata": {
    "slideshow": {
     "slide_type": "subslide"
    }
   },
   "source": [
    "`GridSearch` busca la mejor combinación de *hiperparámetros* dentro de una **grilla (grid)** especificada previamente. La búsqueda es **exhaustiva para cada valor de la grilla**.\n",
    "\n",
    "`RandomSearch` selecciona en forma **aleatoria** un **subset** de los *hiperparámetros*.\n",
    "\n",
    "<img src=\"https://raw.githubusercontent.com/Digital-House-DATA/ds_blend_2021_img/master/M4/CLASE_30_Ev-Modelos_Grid-Search/Presentacion/img/M4_CLASE_30_grid_grid_random_1.png\" alt=\"Drawing\" style=\"width: 500px;\"/>\n",
    "\n",
    "Es importante tener en cuenta el **costo a nivel de cómputo** de evaluar todas las combinaciones de los valores de los hiperparámetros. Por lo tanto, en algunos casos vamos a tener que elegir una **grilla reducida**, o usar **RandomSearch** que selecciona un subset de combinaciones. "
   ]
  },
  {
   "cell_type": "markdown",
   "metadata": {
    "slideshow": {
     "slide_type": "slide"
    }
   },
   "source": [
    "### Grid Search - Implementación\n",
    "\n",
    "---\n",
    "\n",
    "Para implementar en `sklearn` una búsqueda sobre **hiperparámetros** tenemos que considerar:\n",
    "\n",
    "- Un **estimador**, es decir, un modelo sobre el cual queremos trabajar.\n",
    "\n",
    "- Un **espacio de parámetros** donde vamos a hacer la búsqueda.\n",
    "\n",
    "- Un **método de busqueda** sobre los modelos candidatos (`RandomSearch`,`GridSearch`).\n",
    "\n",
    "- Un **esquema de validación cruzada**, seleccionando la cantidad de folds.\n",
    "\n",
    "- La **métrica de evaluación** para elegir el mejor modelo.\n"
   ]
  },
  {
   "cell_type": "markdown",
   "metadata": {
    "slideshow": {
     "slide_type": "subslide"
    }
   },
   "source": [
    "Por ejemplo:\n",
    "\n",
    "- Un **estimador**, el modelo KNN.\n",
    "\n",
    "- Un **espacio de parámetros**, el parámetro `n_neighbors` con un rango de valores entre 1 y 30.\n",
    "\n",
    "- Un **método de busqueda**, `RandomSearch`.\n",
    "\n",
    "- Un **esquema de validación cruzada**, Cross validation con 10 folds.\n",
    "\n",
    "- La **métrica de evaluación**, maximizar `accuracy`.\n"
   ]
  },
  {
   "cell_type": "markdown",
   "metadata": {
    "slideshow": {
     "slide_type": "slide"
    }
   },
   "source": [
    "<div class=\"div-dhds-fondo-1\"> Dataset \n",
    "<img src=\"https://raw.githubusercontent.com/Digital-House-DATA/ds_blend_2021_img/master/M3/CLASE_21_Regresion_Lineal_Simple/Presentacion/img/M3_CLASE_21_separador.png\" align=\"center\" />\n",
    "\n",
    "</div>"
   ]
  },
  {
   "cell_type": "markdown",
   "metadata": {
    "slideshow": {
     "slide_type": "slide"
    }
   },
   "source": [
    "###  Dataset\n",
    "\n",
    "---\n",
    "Vamos a aplicar **GridSearch** y **RandomSearch** sobre el dataset de abalones."
   ]
  },
  {
   "cell_type": "code",
   "execution_count": 33,
   "metadata": {
    "slideshow": {
     "slide_type": "skip"
    }
   },
   "outputs": [],
   "source": [
    "from sklearn import preprocessing\n",
    "from sklearn import datasets\n",
    "from sklearn.model_selection import train_test_split\n",
    "from sklearn.datasets import make_classification\n",
    "from sklearn.preprocessing import StandardScaler\n",
    "import matplotlib.pyplot as plt\n",
    "import pandas as pd\n",
    "import numpy as np\n",
    "import seaborn as sns"
   ]
  },
  {
   "cell_type": "code",
   "execution_count": 34,
   "metadata": {
    "slideshow": {
     "slide_type": "fragment"
    }
   },
   "outputs": [
    {
     "name": "stdout",
     "output_type": "stream",
     "text": [
      "Filas: 3676 Columnas: 10\n"
     ]
    },
    {
     "data": {
      "text/html": [
       "<div>\n",
       "<style scoped>\n",
       "    .dataframe tbody tr th:only-of-type {\n",
       "        vertical-align: middle;\n",
       "    }\n",
       "\n",
       "    .dataframe tbody tr th {\n",
       "        vertical-align: top;\n",
       "    }\n",
       "\n",
       "    .dataframe thead th {\n",
       "        text-align: right;\n",
       "    }\n",
       "</style>\n",
       "<table border=\"1\" class=\"dataframe\">\n",
       "  <thead>\n",
       "    <tr style=\"text-align: right;\">\n",
       "      <th></th>\n",
       "      <th>Sex</th>\n",
       "      <th>Length</th>\n",
       "      <th>Diameter</th>\n",
       "      <th>Height</th>\n",
       "      <th>Whole_weight</th>\n",
       "      <th>Shucked_weight</th>\n",
       "      <th>Viscera_weight</th>\n",
       "      <th>Shell_weight</th>\n",
       "      <th>Rings</th>\n",
       "      <th>Adulto</th>\n",
       "    </tr>\n",
       "  </thead>\n",
       "  <tbody>\n",
       "    <tr>\n",
       "      <th>1677</th>\n",
       "      <td>M</td>\n",
       "      <td>0.615</td>\n",
       "      <td>0.475</td>\n",
       "      <td>0.175</td>\n",
       "      <td>1.224</td>\n",
       "      <td>0.6035</td>\n",
       "      <td>0.2610</td>\n",
       "      <td>0.311</td>\n",
       "      <td>9</td>\n",
       "      <td>0</td>\n",
       "    </tr>\n",
       "    <tr>\n",
       "      <th>2173</th>\n",
       "      <td>M</td>\n",
       "      <td>0.595</td>\n",
       "      <td>0.465</td>\n",
       "      <td>0.125</td>\n",
       "      <td>0.799</td>\n",
       "      <td>0.3245</td>\n",
       "      <td>0.2000</td>\n",
       "      <td>0.230</td>\n",
       "      <td>10</td>\n",
       "      <td>1</td>\n",
       "    </tr>\n",
       "    <tr>\n",
       "      <th>2686</th>\n",
       "      <td>M</td>\n",
       "      <td>0.630</td>\n",
       "      <td>0.505</td>\n",
       "      <td>0.150</td>\n",
       "      <td>13.165</td>\n",
       "      <td>0.6325</td>\n",
       "      <td>0.2465</td>\n",
       "      <td>0.370</td>\n",
       "      <td>11</td>\n",
       "      <td>1</td>\n",
       "    </tr>\n",
       "  </tbody>\n",
       "</table>\n",
       "</div>"
      ],
      "text/plain": [
       "     Sex  Length  Diameter  Height  Whole_weight  Shucked_weight  \\\n",
       "1677   M   0.615     0.475   0.175         1.224          0.6035   \n",
       "2173   M   0.595     0.465   0.125         0.799          0.3245   \n",
       "2686   M   0.630     0.505   0.150        13.165          0.6325   \n",
       "\n",
       "      Viscera_weight  Shell_weight  Rings  Adulto  \n",
       "1677          0.2610         0.311      9       0  \n",
       "2173          0.2000         0.230     10       1  \n",
       "2686          0.2465         0.370     11       1  "
      ]
     },
     "execution_count": 34,
     "metadata": {},
     "output_type": "execute_result"
    }
   ],
   "source": [
    "df = pd.read_csv('../Data/abalone.csv', sep=';')\n",
    "print('Filas:', df.shape[0], 'Columnas:', df.shape[1])\n",
    "df.sample(3)"
   ]
  },
  {
   "cell_type": "markdown",
   "metadata": {
    "slideshow": {
     "slide_type": "fragment"
    }
   },
   "source": [
    "Armamos la matriz de features ($X$) y el target ($y$)"
   ]
  },
  {
   "cell_type": "code",
   "execution_count": 35,
   "metadata": {
    "slideshow": {
     "slide_type": "fragment"
    }
   },
   "outputs": [],
   "source": [
    "X = df.drop(['Adulto','Sex'], axis=1)\n",
    "y = df['Adulto']"
   ]
  },
  {
   "cell_type": "markdown",
   "metadata": {
    "slideshow": {
     "slide_type": "fragment"
    }
   },
   "source": [
    "Vemos la distribución de los labels de la clase."
   ]
  },
  {
   "cell_type": "code",
   "execution_count": 36,
   "metadata": {
    "slideshow": {
     "slide_type": "fragment"
    }
   },
   "outputs": [
    {
     "name": "stdout",
     "output_type": "stream",
     "text": [
      "Adulto\n",
      "0    2073\n",
      "1    1603\n",
      "Name: Adulto, dtype: int64\n"
     ]
    }
   ],
   "source": [
    "print(y.groupby(y).count())"
   ]
  },
  {
   "cell_type": "markdown",
   "metadata": {
    "slideshow": {
     "slide_type": "subslide"
    }
   },
   "source": [
    "Hacemos el split entre train y test."
   ]
  },
  {
   "cell_type": "code",
   "execution_count": 37,
   "metadata": {
    "slideshow": {
     "slide_type": "fragment"
    }
   },
   "outputs": [
    {
     "name": "stdout",
     "output_type": "stream",
     "text": [
      "(2573, 8) (1103, 8) (2573,) (1103,)\n"
     ]
    }
   ],
   "source": [
    "X_train, X_test, y_train, y_test = train_test_split(X, y, test_size = 0.30, random_state=56)\n",
    "print(X_train.shape, X_test.shape, y_train.shape, y_test.shape)"
   ]
  },
  {
   "cell_type": "markdown",
   "metadata": {
    "slideshow": {
     "slide_type": "fragment"
    }
   },
   "source": [
    "Debemos estandarizar las features, ya que las escalas entre algunas de ellas son distintas."
   ]
  },
  {
   "cell_type": "code",
   "execution_count": 38,
   "metadata": {
    "slideshow": {
     "slide_type": "fragment"
    }
   },
   "outputs": [],
   "source": [
    "# Utilizamos sklearn para estandarizar la matriz de Features\n",
    "from sklearn.preprocessing import StandardScaler\n",
    "scaler = StandardScaler()\n",
    "X_train = pd.DataFrame(scaler.fit_transform(X_train))\n",
    "X_test = pd.DataFrame(scaler.transform(X_test))"
   ]
  },
  {
   "cell_type": "markdown",
   "metadata": {
    "slideshow": {
     "slide_type": "slide"
    }
   },
   "source": [
    "###  Hiperparámetros de un modelo\n",
    "\n",
    "---\n",
    "Podemos conocer todos los hiperparámetros de los modelos con el método `get_params`.\n",
    "\n",
    "Por ejemplo, veamos los del modelo *KNN, vecinos más cercanos*. "
   ]
  },
  {
   "cell_type": "code",
   "execution_count": 39,
   "metadata": {
    "slideshow": {
     "slide_type": "fragment"
    }
   },
   "outputs": [
    {
     "data": {
      "text/plain": [
       "{'algorithm': 'auto',\n",
       " 'leaf_size': 30,\n",
       " 'metric': 'minkowski',\n",
       " 'metric_params': None,\n",
       " 'n_jobs': None,\n",
       " 'n_neighbors': 5,\n",
       " 'p': 2,\n",
       " 'weights': 'uniform'}"
      ]
     },
     "execution_count": 39,
     "metadata": {},
     "output_type": "execute_result"
    }
   ],
   "source": [
    "from sklearn.neighbors import KNeighborsClassifier\n",
    "model = KNeighborsClassifier()\n",
    "model.get_params()"
   ]
  },
  {
   "cell_type": "markdown",
   "metadata": {
    "slideshow": {
     "slide_type": "slide"
    }
   },
   "source": [
    "###  Prueba manual\n",
    "\n",
    "---\n",
    "Antes de usar los métodos `RandomSearch` o `GridSearch` para realizar el *tuning de los hiperparámetros*, es conveniente realizar **manualmente una prueba** con distintos valores para los hiperparámetros a evaluar.\n",
    "\n",
    "Vamos a calcular el valor de **accuracy** para distintos valores K del hiperparámetro `n_neighbors`, para conocer el valor óptimo.\n",
    "\n",
    "Recordemos que para la evaluación usamos *cross validation*."
   ]
  },
  {
   "cell_type": "markdown",
   "metadata": {
    "slideshow": {
     "slide_type": "subslide"
    }
   },
   "source": [
    "Para hacerlo consideramos el método [`cross_val_score`](https://scikit-learn.org/stable/modules/generated/sklearn.model_selection.cross_val_score.html), que evalúa los resultados de una métrica en un esquema de validación cruzada. \n",
    "\n",
    "En el parámetro `scoring='accuracy'` indicamos la métrica.\n",
    "\n",
    "Y el parámetro `cv=10` para definir 10 folds, lo reemplazamos usando previamente el método [`StratifiedKFold`](https://scikit-learn.org/stable/modules/generated/sklearn.model_selection.StratifiedKFold.html) que asegura que los 10 folds cuentan con casos seleccionados en forma aleatoria *manteniendo la distribución original de las etiquetas*."
   ]
  },
  {
   "cell_type": "code",
   "execution_count": 40,
   "metadata": {
    "slideshow": {
     "slide_type": "fragment"
    }
   },
   "outputs": [],
   "source": [
    "# n_splits = permite determinar la cantidad de folds\n",
    "# random_state = nos permite definir una semilla para asegura reproducibilidad\n",
    "# shuffle = nos asegura que las particiones se van a hacer en forma aleatoria\n",
    "from sklearn.model_selection import StratifiedKFold\n",
    "folds=StratifiedKFold(n_splits=10, random_state=19, shuffle=True)"
   ]
  },
  {
   "cell_type": "markdown",
   "metadata": {
    "slideshow": {
     "slide_type": "subslide"
    }
   },
   "source": [
    "Hacemos un *for* para recorrer distintos valores de K, evaluamos los scores de la validación cruzada de los datos de train y guardamos el promedio de los scores."
   ]
  },
  {
   "cell_type": "code",
   "execution_count": 41,
   "metadata": {
    "slideshow": {
     "slide_type": "fragment"
    }
   },
   "outputs": [],
   "source": [
    "from sklearn.model_selection import cross_val_score\n",
    "k_range = list(range(1, 31))\n",
    "k_scores = []\n",
    "for k in k_range:\n",
    "    knn = KNeighborsClassifier(n_neighbors=k)\n",
    "    scores = cross_val_score(knn, X_train, y_train, cv=folds, scoring='accuracy')\n",
    "    k_scores.append(scores.mean())"
   ]
  },
  {
   "cell_type": "markdown",
   "metadata": {
    "slideshow": {
     "slide_type": "fragment"
    }
   },
   "source": [
    "En la lista `k_scores` encontramos los valores promedio de **accuracy** para los distintos valores de **k**."
   ]
  },
  {
   "cell_type": "code",
   "execution_count": 42,
   "metadata": {},
   "outputs": [
    {
     "name": "stdout",
     "output_type": "stream",
     "text": [
      "K=1:0.8492|| K=2:0.8496|| K=3:0.8838|| K=4:0.8768|| K=5:0.8900|| K=6:0.8885|| K=7:0.8920|| K=8:0.8912|| K=9:0.8947|| K=10:0.8935|| K=11:0.8920|| K=12:0.8920|| K=13:0.8966|| K=14:0.8908|| K=15:0.8935|| K=16:0.8892|| K=17:0.8947|| K=18:0.8923|| K=19:0.8951|| K=20:0.8939|| K=21:0.8927|| K=22:0.8916|| K=23:0.8927|| K=24:0.8923|| K=25:0.8951|| K=26:0.8927|| K=27:0.8920|| K=28:0.8900|| K=29:0.8912|| K=30:0.8888|| "
     ]
    }
   ],
   "source": [
    "for i, value in enumerate(k_scores):\n",
    "     print('K=', i+1,':','%.4f'%value,'||',end=' ',sep='')"
   ]
  },
  {
   "cell_type": "markdown",
   "metadata": {
    "slideshow": {
     "slide_type": "subslide"
    }
   },
   "source": [
    "Grafiquemos estos resultados."
   ]
  },
  {
   "cell_type": "code",
   "execution_count": 43,
   "metadata": {
    "slideshow": {
     "slide_type": "fragment"
    }
   },
   "outputs": [
    {
     "data": {
      "image/png": "[encoded data removed]",
      "text/plain": [
       "<Figure size 432x288 with 1 Axes>"
      ]
     },
     "metadata": {
      "needs_background": "light"
     },
     "output_type": "display_data"
    }
   ],
   "source": [
    "plt.plot(k_range, k_scores)\n",
    "plt.xlabel('Value of K for KNN')\n",
    "plt.ylabel('Cross-Validated Accuracy')\n",
    "plt.grid()"
   ]
  },
  {
   "cell_type": "markdown",
   "metadata": {
    "slideshow": {
     "slide_type": "fragment"
    }
   },
   "source": [
    "Confirmamos que el **k** óptimo es 13 con un score de validación de 0.8966."
   ]
  },
  {
   "cell_type": "markdown",
   "metadata": {
    "slideshow": {
     "slide_type": "slide"
    }
   },
   "source": [
    "### Grid Search - Implementación\n",
    "\n",
    "---\n",
    "\n",
    "Ahora trabajemos con el método `GridSearchCV` que básicamente va a implementar en forma automática la búsqueda y analisis de los hiperparámetros que realizamos en forma manual.\n",
    "\n",
    "\n",
    "Recordemos que para implementar en `sklearn` una búsqueda sobre **hiperparámetros** tenemos que considerar:\n",
    "\n",
    "- Un **estimador**, es decir, un modelo sobre el cual queremos trabajar.\n",
    "\n",
    "- Un **espacio de parámetros** donde vamos a hacer la búsqueda.\n",
    "\n",
    "- Un **método de busqueda** sobre los modelos candidatos (`RandomSearch`,`GridSearch`).\n",
    "\n",
    "- Un **esquema de validación cruzada**, seleccionando la cantidad de folds.\n",
    "\n",
    "- Una **métrica de evaluación** para elegir el mejor modelo.\n"
   ]
  },
  {
   "cell_type": "markdown",
   "metadata": {
    "slideshow": {
     "slide_type": "subslide"
    }
   },
   "source": [
    "`GridSearchCV` lo implementa en sus parámetros:\n",
    "- **estimator =** Modelo instanciado.\n",
    "- **param_grid=** Grilla de parametros para recorrer. Un diccionario cuyas claves son pares (nombre hiperparámetro, lista de valores).\n",
    "- **cv=** Cantidad de folds para la validación cruzada.\n",
    "- **scoring=** Métrica usada para evaluar. \n",
    "\n",
    "Y uno opcional, pero importante porque las búsquedas exhaustivas pueden consumir mucha CPU: \n",
    "- **n_jobs=** Número de procesadores que corren en paralelo."
   ]
  },
  {
   "cell_type": "markdown",
   "metadata": {
    "slideshow": {
     "slide_type": "slide"
    }
   },
   "source": [
    "### Grid Search - Implementación\n",
    "\n",
    "---\n",
    "\n",
    "Avancemos con la implementación."
   ]
  },
  {
   "cell_type": "code",
   "execution_count": 44,
   "metadata": {
    "slideshow": {
     "slide_type": "fragment"
    }
   },
   "outputs": [],
   "source": [
    "from sklearn.model_selection import GridSearchCV"
   ]
  },
  {
   "cell_type": "markdown",
   "metadata": {
    "slideshow": {
     "slide_type": "fragment"
    }
   },
   "source": [
    "**Estimador**: el modelo instanciado."
   ]
  },
  {
   "cell_type": "code",
   "execution_count": 45,
   "metadata": {
    "slideshow": {
     "slide_type": "fragment"
    }
   },
   "outputs": [],
   "source": [
    "knn = KNeighborsClassifier()"
   ]
  },
  {
   "cell_type": "markdown",
   "metadata": {
    "slideshow": {
     "slide_type": "fragment"
    }
   },
   "source": [
    "**Espacio de parámetros:** grilla de parámetros que queremos testear. Diccionario con las claves *nombre=rango de valores*."
   ]
  },
  {
   "cell_type": "code",
   "execution_count": 46,
   "metadata": {
    "slideshow": {
     "slide_type": "fragment"
    }
   },
   "outputs": [
    {
     "name": "stdout",
     "output_type": "stream",
     "text": [
      "{'n_neighbors': [1, 2, 3, 4, 5, 6, 7, 8, 9, 10, 11, 12, 13, 14, 15, 16, 17, 18, 19, 20, 21, 22, 23, 24, 25, 26, 27, 28, 29, 30]}\n"
     ]
    }
   ],
   "source": [
    "k_range = list(range(1, 31))\n",
    "param_grid = dict(n_neighbors=k_range)\n",
    "print(param_grid)"
   ]
  },
  {
   "cell_type": "markdown",
   "metadata": {
    "slideshow": {
     "slide_type": "subslide"
    }
   },
   "source": [
    "**Esquema de validación cruzada:** definimos la cantidad de folds, con el método `StratifiedKFold`"
   ]
  },
  {
   "cell_type": "code",
   "execution_count": 47,
   "metadata": {
    "slideshow": {
     "slide_type": "fragment"
    }
   },
   "outputs": [],
   "source": [
    "folds=StratifiedKFold(n_splits=10, random_state=19, shuffle=True)"
   ]
  },
  {
   "cell_type": "markdown",
   "metadata": {
    "slideshow": {
     "slide_type": "fragment"
    }
   },
   "source": [
    "**Método de busqueda:** GridSearchCV.\n",
    "\n",
    "**Métrica de evaluación:** Accuracy."
   ]
  },
  {
   "cell_type": "code",
   "execution_count": 48,
   "metadata": {
    "slideshow": {
     "slide_type": "fragment"
    }
   },
   "outputs": [],
   "source": [
    "grid = GridSearchCV(knn, param_grid, cv=folds, scoring='accuracy')"
   ]
  },
  {
   "cell_type": "markdown",
   "metadata": {
    "slideshow": {
     "slide_type": "fragment"
    }
   },
   "source": [
    "Entrenamos utilizando el método `.fit` de grid. Puede tardar; recordemos que hace una búsqueda exhaustiva."
   ]
  },
  {
   "cell_type": "code",
   "execution_count": 49,
   "metadata": {
    "slideshow": {
     "slide_type": "fragment"
    }
   },
   "outputs": [
    {
     "data": {
      "text/plain": [
       "GridSearchCV(cv=StratifiedKFold(n_splits=10, random_state=19, shuffle=True),\n",
       "             estimator=KNeighborsClassifier(),\n",
       "             param_grid={'n_neighbors': [1, 2, 3, 4, 5, 6, 7, 8, 9, 10, 11, 12,\n",
       "                                         13, 14, 15, 16, 17, 18, 19, 20, 21, 22,\n",
       "                                         23, 24, 25, 26, 27, 28, 29, 30]},\n",
       "             scoring='accuracy')"
      ]
     },
     "execution_count": 49,
     "metadata": {},
     "output_type": "execute_result"
    }
   ],
   "source": [
    "grid.fit(X_train, y_train)"
   ]
  },
  {
   "cell_type": "markdown",
   "metadata": {
    "slideshow": {
     "slide_type": "slide"
    }
   },
   "source": [
    "### Grid Search - Implementación\n",
    "\n",
    "---\n",
    "Analicemos los resultados.\n",
    "\n",
    "`GridSeachCV` devuelve en **cv\\_results\\_** información sobre la evaluación de los hiperparámetros. \n",
    "\n",
    "Observamos el score obtenido en cada split, el **mean_test_score** y el **std_test_score**.\n",
    "\n",
    "Y además, encontramos **rank_test_score** que nos indica cuál fue el hiperparámetro con mejor score de validación."
   ]
  },
  {
   "cell_type": "code",
   "execution_count": 50,
   "metadata": {
    "slideshow": {
     "slide_type": "fragment"
    }
   },
   "outputs": [
    {
     "data": {
      "text/html": [
       "<div>\n",
       "<style scoped>\n",
       "    .dataframe tbody tr th:only-of-type {\n",
       "        vertical-align: middle;\n",
       "    }\n",
       "\n",
       "    .dataframe tbody tr th {\n",
       "        vertical-align: top;\n",
       "    }\n",
       "\n",
       "    .dataframe thead th {\n",
       "        text-align: right;\n",
       "    }\n",
       "</style>\n",
       "<table border=\"1\" class=\"dataframe\">\n",
       "  <thead>\n",
       "    <tr style=\"text-align: right;\">\n",
       "      <th></th>\n",
       "      <th>mean_fit_time</th>\n",
       "      <th>std_fit_time</th>\n",
       "      <th>mean_score_time</th>\n",
       "      <th>std_score_time</th>\n",
       "      <th>param_n_neighbors</th>\n",
       "      <th>params</th>\n",
       "      <th>split0_test_score</th>\n",
       "      <th>split1_test_score</th>\n",
       "      <th>split2_test_score</th>\n",
       "      <th>split3_test_score</th>\n",
       "      <th>split4_test_score</th>\n",
       "      <th>split5_test_score</th>\n",
       "      <th>split6_test_score</th>\n",
       "      <th>split7_test_score</th>\n",
       "      <th>split8_test_score</th>\n",
       "      <th>split9_test_score</th>\n",
       "      <th>mean_test_score</th>\n",
       "      <th>std_test_score</th>\n",
       "      <th>rank_test_score</th>\n",
       "    </tr>\n",
       "  </thead>\n",
       "  <tbody>\n",
       "    <tr>\n",
       "      <th>0</th>\n",
       "      <td>0.002438</td>\n",
       "      <td>0.000269</td>\n",
       "      <td>0.007173</td>\n",
       "      <td>0.000642</td>\n",
       "      <td>1</td>\n",
       "      <td>{'n_neighbors': 1}</td>\n",
       "      <td>0.879845</td>\n",
       "      <td>0.860465</td>\n",
       "      <td>0.813953</td>\n",
       "      <td>0.856031</td>\n",
       "      <td>0.824903</td>\n",
       "      <td>0.821012</td>\n",
       "      <td>0.856031</td>\n",
       "      <td>0.840467</td>\n",
       "      <td>0.867704</td>\n",
       "      <td>0.871595</td>\n",
       "      <td>0.849201</td>\n",
       "      <td>0.021695</td>\n",
       "      <td>30</td>\n",
       "    </tr>\n",
       "    <tr>\n",
       "      <th>1</th>\n",
       "      <td>0.002540</td>\n",
       "      <td>0.000140</td>\n",
       "      <td>0.007715</td>\n",
       "      <td>0.000245</td>\n",
       "      <td>2</td>\n",
       "      <td>{'n_neighbors': 2}</td>\n",
       "      <td>0.844961</td>\n",
       "      <td>0.852713</td>\n",
       "      <td>0.833333</td>\n",
       "      <td>0.844358</td>\n",
       "      <td>0.832685</td>\n",
       "      <td>0.852140</td>\n",
       "      <td>0.863813</td>\n",
       "      <td>0.828794</td>\n",
       "      <td>0.867704</td>\n",
       "      <td>0.875486</td>\n",
       "      <td>0.849599</td>\n",
       "      <td>0.014996</td>\n",
       "      <td>29</td>\n",
       "    </tr>\n",
       "    <tr>\n",
       "      <th>2</th>\n",
       "      <td>0.002521</td>\n",
       "      <td>0.000217</td>\n",
       "      <td>0.007806</td>\n",
       "      <td>0.000454</td>\n",
       "      <td>3</td>\n",
       "      <td>{'n_neighbors': 3}</td>\n",
       "      <td>0.922481</td>\n",
       "      <td>0.875969</td>\n",
       "      <td>0.856589</td>\n",
       "      <td>0.887160</td>\n",
       "      <td>0.887160</td>\n",
       "      <td>0.887160</td>\n",
       "      <td>0.875486</td>\n",
       "      <td>0.867704</td>\n",
       "      <td>0.883268</td>\n",
       "      <td>0.894942</td>\n",
       "      <td>0.883792</td>\n",
       "      <td>0.016687</td>\n",
       "      <td>27</td>\n",
       "    </tr>\n",
       "  </tbody>\n",
       "</table>\n",
       "</div>"
      ],
      "text/plain": [
       "   mean_fit_time  std_fit_time  mean_score_time  std_score_time  \\\n",
       "0       0.002438      0.000269         0.007173        0.000642   \n",
       "1       0.002540      0.000140         0.007715        0.000245   \n",
       "2       0.002521      0.000217         0.007806        0.000454   \n",
       "\n",
       "  param_n_neighbors              params  split0_test_score  split1_test_score  \\\n",
       "0                 1  {'n_neighbors': 1}           0.879845           0.860465   \n",
       "1                 2  {'n_neighbors': 2}           0.844961           0.852713   \n",
       "2                 3  {'n_neighbors': 3}           0.922481           0.875969   \n",
       "\n",
       "   split2_test_score  split3_test_score  split4_test_score  split5_test_score  \\\n",
       "0           0.813953           0.856031           0.824903           0.821012   \n",
       "1           0.833333           0.844358           0.832685           0.852140   \n",
       "2           0.856589           0.887160           0.887160           0.887160   \n",
       "\n",
       "   split6_test_score  split7_test_score  split8_test_score  split9_test_score  \\\n",
       "0           0.856031           0.840467           0.867704           0.871595   \n",
       "1           0.863813           0.828794           0.867704           0.875486   \n",
       "2           0.875486           0.867704           0.883268           0.894942   \n",
       "\n",
       "   mean_test_score  std_test_score  rank_test_score  \n",
       "0         0.849201        0.021695               30  \n",
       "1         0.849599        0.014996               29  \n",
       "2         0.883792        0.016687               27  "
      ]
     },
     "execution_count": 50,
     "metadata": {},
     "output_type": "execute_result"
    }
   ],
   "source": [
    "pd.DataFrame(grid.cv_results_).head(3)"
   ]
  },
  {
   "cell_type": "markdown",
   "metadata": {
    "slideshow": {
     "slide_type": "subslide"
    }
   },
   "source": [
    "- **.best\\_estimator\\_** señala el mejor modelo. Informa el  **número óptimo de vecinos**; es similar a lo observado en el proceso manual."
   ]
  },
  {
   "cell_type": "code",
   "execution_count": 51,
   "metadata": {
    "slideshow": {
     "slide_type": "fragment"
    }
   },
   "outputs": [
    {
     "data": {
      "text/plain": [
       "KNeighborsClassifier(n_neighbors=13)"
      ]
     },
     "execution_count": 51,
     "metadata": {},
     "output_type": "execute_result"
    }
   ],
   "source": [
    "grid.best_estimator_"
   ]
  },
  {
   "cell_type": "markdown",
   "metadata": {
    "slideshow": {
     "slide_type": "fragment"
    }
   },
   "source": [
    "- **best\\_score\\_** nos indica cuál fue la performance promedio del score de validación del grid search"
   ]
  },
  {
   "cell_type": "code",
   "execution_count": 52,
   "metadata": {
    "slideshow": {
     "slide_type": "fragment"
    }
   },
   "outputs": [
    {
     "data": {
      "text/plain": [
       "0.8966171990468436"
      ]
     },
     "execution_count": 52,
     "metadata": {},
     "output_type": "execute_result"
    }
   ],
   "source": [
    "grid.best_score_"
   ]
  },
  {
   "cell_type": "markdown",
   "metadata": {
    "slideshow": {
     "slide_type": "fragment"
    }
   },
   "source": [
    "- **best\\_params\\_** muestra los valores seleccionados de los hiperparámetros."
   ]
  },
  {
   "cell_type": "code",
   "execution_count": 53,
   "metadata": {
    "slideshow": {
     "slide_type": "fragment"
    }
   },
   "outputs": [
    {
     "data": {
      "text/plain": [
       "{'n_neighbors': 13}"
      ]
     },
     "execution_count": 53,
     "metadata": {},
     "output_type": "execute_result"
    }
   ],
   "source": [
    "grid.best_params_"
   ]
  },
  {
   "cell_type": "markdown",
   "metadata": {
    "slideshow": {
     "slide_type": "slide"
    }
   },
   "source": [
    "### Grid Search - Testing\n",
    "\n",
    "---\n",
    "Ahora debemos hacer lo que siempre hacemos con los modelos. **Ver su performance sobre los datos de test**.\n",
    "\n",
    "`GridSeachCV` tiene un método `predict` sobre el objeto `grid` que usa el modelo entrenado con los datos de train y con la mejor combinación de hiperparámetros. "
   ]
  },
  {
   "cell_type": "code",
   "execution_count": 54,
   "metadata": {
    "slideshow": {
     "slide_type": "fragment"
    }
   },
   "outputs": [],
   "source": [
    "y_pred_grid = grid.predict(X_test)"
   ]
  },
  {
   "cell_type": "markdown",
   "metadata": {
    "slideshow": {
     "slide_type": "fragment"
    }
   },
   "source": [
    "Veamos la **matriz de confusión**.    "
   ]
  },
  {
   "cell_type": "code",
   "execution_count": 55,
   "metadata": {
    "slideshow": {
     "slide_type": "fragment"
    }
   },
   "outputs": [
    {
     "name": "stdout",
     "output_type": "stream",
     "text": [
      "[[567  78]\n",
      " [ 53 405]]\n"
     ]
    }
   ],
   "source": [
    "confusion = confusion_matrix(y_test, y_pred_grid)\n",
    "print(confusion)"
   ]
  },
  {
   "cell_type": "markdown",
   "metadata": {
    "slideshow": {
     "slide_type": "subslide"
    }
   },
   "source": [
    "Podemos importar de **sklearn**, [`classification_report`](https://scikit-learn.org/stable/modules/generated/sklearn.metrics.classification_report.html) que brinda un reporte completo de las principales **métricas de evaluación**."
   ]
  },
  {
   "cell_type": "code",
   "execution_count": 56,
   "metadata": {
    "slideshow": {
     "slide_type": "fragment"
    }
   },
   "outputs": [
    {
     "name": "stdout",
     "output_type": "stream",
     "text": [
      "              precision    recall  f1-score   support\n",
      "\n",
      "           0       0.91      0.88      0.90       645\n",
      "           1       0.84      0.88      0.86       458\n",
      "\n",
      "    accuracy                           0.88      1103\n",
      "   macro avg       0.88      0.88      0.88      1103\n",
      "weighted avg       0.88      0.88      0.88      1103\n",
      "\n"
     ]
    }
   ],
   "source": [
    "from sklearn.metrics import classification_report, confusion_matrix\n",
    "print (classification_report(y_test, y_pred_grid))"
   ]
  },
  {
   "cell_type": "markdown",
   "metadata": {
    "slideshow": {
     "slide_type": "fragment"
    }
   },
   "source": [
    "- Informa las métricas por *label de la clase*. Vemos que funciona mejor para la clase negativa (0) que para la positiva (1).\n",
    "\n",
    "- **accuracy** es 0.88.\n",
    "\n",
    "- **support** indica el total de casos por etiqueta. Y 1103 es el total de casos. \n",
    "\n",
    "- **macro avg** es la media de cada métrica de evaluación para el total de los casos.\n",
    "\n",
    "- **weighted avg** es lo mismo que el anterior, pero se calcula la media ponderada por **support**, es decir, teniendo en cuenta la cantidad de casos de cada clase. Este promedio toma en cuenta el potencial **desbalanceo de clases**. En este caso son similares porque no lo tenemos."
   ]
  },
  {
   "cell_type": "markdown",
   "metadata": {
    "slideshow": {
     "slide_type": "slide"
    }
   },
   "source": [
    "### Randomized Search\n",
    "\n",
    "---\n",
    "Usemos el otro método: [`RandomizedSearchCV`](https://scikit-learn.org/stable/modules/generated/sklearn.model_selection.RandomizedSearchCV.html). \n",
    "\n",
    "Recuerden que la diferencia es que no explora **todo el espacio** de hiperparámetros sino  **combinaciones al azar**. \n",
    "\n",
    "Aunque no cubre todo el espacio, puede tener sus ventajas cuando trabajamos con datasets muy pesados, o espacios de hiperparámetros muy grandes."
   ]
  },
  {
   "cell_type": "code",
   "execution_count": 57,
   "metadata": {
    "slideshow": {
     "slide_type": "fragment"
    }
   },
   "outputs": [],
   "source": [
    "from sklearn.model_selection import RandomizedSearchCV"
   ]
  },
  {
   "cell_type": "markdown",
   "metadata": {
    "slideshow": {
     "slide_type": "fragment"
    }
   },
   "source": [
    "Los parámetros de `RandomizedSearchCV` son los mismos que los de `GridSearchCV` pero se agrega `n_iter` que indica el número de combinaciones de hiperparámetros que queremos seleccionar al azar de la grilla que definimos. \n",
    "\n",
    "Por default está seteado en **10**. "
   ]
  },
  {
   "cell_type": "markdown",
   "metadata": {
    "slideshow": {
     "slide_type": "subslide"
    }
   },
   "source": [
    "Armamos nuevamente nuestra **grilla de hiperparámetros**."
   ]
  },
  {
   "cell_type": "code",
   "execution_count": 58,
   "metadata": {
    "slideshow": {
     "slide_type": "fragment"
    }
   },
   "outputs": [
    {
     "name": "stdout",
     "output_type": "stream",
     "text": [
      "{'n_neighbors': [1, 2, 3, 4, 5, 6, 7, 8, 9, 10, 11, 12, 13, 14, 15, 16, 17, 18, 19, 20, 21, 22, 23, 24, 25, 26, 27, 28, 29, 30]}\n"
     ]
    }
   ],
   "source": [
    "k_range = list(range(1, 31))\n",
    "param_grid = dict(n_neighbors=k_range)\n",
    "print(param_grid)"
   ]
  },
  {
   "cell_type": "markdown",
   "metadata": {
    "slideshow": {
     "slide_type": "fragment"
    }
   },
   "source": [
    "Ahora el tuning se realiza con combinaciones aleatorias de `k`."
   ]
  },
  {
   "cell_type": "code",
   "execution_count": 59,
   "metadata": {
    "slideshow": {
     "slide_type": "fragment"
    }
   },
   "outputs": [
    {
     "data": {
      "text/plain": [
       "RandomizedSearchCV(cv=StratifiedKFold(n_splits=10, random_state=19, shuffle=True),\n",
       "                   estimator=KNeighborsClassifier(), n_iter=20,\n",
       "                   param_distributions={'n_neighbors': [1, 2, 3, 4, 5, 6, 7, 8,\n",
       "                                                        9, 10, 11, 12, 13, 14,\n",
       "                                                        15, 16, 17, 18, 19, 20,\n",
       "                                                        21, 22, 23, 24, 25, 26,\n",
       "                                                        27, 28, 29, 30]},\n",
       "                   random_state=10, scoring='accuracy')"
      ]
     },
     "execution_count": 59,
     "metadata": {},
     "output_type": "execute_result"
    }
   ],
   "source": [
    "random = RandomizedSearchCV(knn, param_grid, n_iter=20, cv=folds, scoring='accuracy',random_state=10)\n",
    "random.fit(X_train, y_train)"
   ]
  },
  {
   "cell_type": "markdown",
   "metadata": {
    "slideshow": {
     "slide_type": "slide"
    }
   },
   "source": [
    "### Randomized Search\n",
    "\n",
    "---\n",
    "Analizamos los resultados.\n",
    "\n",
    "Los mismos métodos que tenemos con `GridSearchCV` los tenemos acá. "
   ]
  },
  {
   "cell_type": "code",
   "execution_count": 60,
   "metadata": {
    "slideshow": {
     "slide_type": "fragment"
    }
   },
   "outputs": [
    {
     "data": {
      "text/html": [
       "<div>\n",
       "<style scoped>\n",
       "    .dataframe tbody tr th:only-of-type {\n",
       "        vertical-align: middle;\n",
       "    }\n",
       "\n",
       "    .dataframe tbody tr th {\n",
       "        vertical-align: top;\n",
       "    }\n",
       "\n",
       "    .dataframe thead th {\n",
       "        text-align: right;\n",
       "    }\n",
       "</style>\n",
       "<table border=\"1\" class=\"dataframe\">\n",
       "  <thead>\n",
       "    <tr style=\"text-align: right;\">\n",
       "      <th></th>\n",
       "      <th>mean_fit_time</th>\n",
       "      <th>std_fit_time</th>\n",
       "      <th>mean_score_time</th>\n",
       "      <th>std_score_time</th>\n",
       "      <th>param_n_neighbors</th>\n",
       "      <th>params</th>\n",
       "      <th>split0_test_score</th>\n",
       "      <th>split1_test_score</th>\n",
       "      <th>split2_test_score</th>\n",
       "      <th>split3_test_score</th>\n",
       "      <th>split4_test_score</th>\n",
       "      <th>split5_test_score</th>\n",
       "      <th>split6_test_score</th>\n",
       "      <th>split7_test_score</th>\n",
       "      <th>split8_test_score</th>\n",
       "      <th>split9_test_score</th>\n",
       "      <th>mean_test_score</th>\n",
       "      <th>std_test_score</th>\n",
       "      <th>rank_test_score</th>\n",
       "    </tr>\n",
       "  </thead>\n",
       "  <tbody>\n",
       "    <tr>\n",
       "      <th>0</th>\n",
       "      <td>0.002660</td>\n",
       "      <td>0.000178</td>\n",
       "      <td>0.009855</td>\n",
       "      <td>0.000564</td>\n",
       "      <td>21</td>\n",
       "      <td>{'n_neighbors': 21}</td>\n",
       "      <td>0.922481</td>\n",
       "      <td>0.868217</td>\n",
       "      <td>0.872093</td>\n",
       "      <td>0.898833</td>\n",
       "      <td>0.891051</td>\n",
       "      <td>0.898833</td>\n",
       "      <td>0.879377</td>\n",
       "      <td>0.887160</td>\n",
       "      <td>0.898833</td>\n",
       "      <td>0.910506</td>\n",
       "      <td>0.892738</td>\n",
       "      <td>0.015974</td>\n",
       "      <td>6</td>\n",
       "    </tr>\n",
       "    <tr>\n",
       "      <th>1</th>\n",
       "      <td>0.002422</td>\n",
       "      <td>0.000124</td>\n",
       "      <td>0.008497</td>\n",
       "      <td>0.000522</td>\n",
       "      <td>8</td>\n",
       "      <td>{'n_neighbors': 8}</td>\n",
       "      <td>0.937984</td>\n",
       "      <td>0.883721</td>\n",
       "      <td>0.875969</td>\n",
       "      <td>0.879377</td>\n",
       "      <td>0.891051</td>\n",
       "      <td>0.910506</td>\n",
       "      <td>0.883268</td>\n",
       "      <td>0.879377</td>\n",
       "      <td>0.879377</td>\n",
       "      <td>0.891051</td>\n",
       "      <td>0.891168</td>\n",
       "      <td>0.018253</td>\n",
       "      <td>14</td>\n",
       "    </tr>\n",
       "    <tr>\n",
       "      <th>2</th>\n",
       "      <td>0.002417</td>\n",
       "      <td>0.000109</td>\n",
       "      <td>0.008281</td>\n",
       "      <td>0.000414</td>\n",
       "      <td>6</td>\n",
       "      <td>{'n_neighbors': 6}</td>\n",
       "      <td>0.930233</td>\n",
       "      <td>0.875969</td>\n",
       "      <td>0.856589</td>\n",
       "      <td>0.883268</td>\n",
       "      <td>0.894942</td>\n",
       "      <td>0.898833</td>\n",
       "      <td>0.887160</td>\n",
       "      <td>0.875486</td>\n",
       "      <td>0.883268</td>\n",
       "      <td>0.898833</td>\n",
       "      <td>0.888458</td>\n",
       "      <td>0.018433</td>\n",
       "      <td>17</td>\n",
       "    </tr>\n",
       "  </tbody>\n",
       "</table>\n",
       "</div>"
      ],
      "text/plain": [
       "   mean_fit_time  std_fit_time  mean_score_time  std_score_time  \\\n",
       "0       0.002660      0.000178         0.009855        0.000564   \n",
       "1       0.002422      0.000124         0.008497        0.000522   \n",
       "2       0.002417      0.000109         0.008281        0.000414   \n",
       "\n",
       "  param_n_neighbors               params  split0_test_score  \\\n",
       "0                21  {'n_neighbors': 21}           0.922481   \n",
       "1                 8   {'n_neighbors': 8}           0.937984   \n",
       "2                 6   {'n_neighbors': 6}           0.930233   \n",
       "\n",
       "   split1_test_score  split2_test_score  split3_test_score  split4_test_score  \\\n",
       "0           0.868217           0.872093           0.898833           0.891051   \n",
       "1           0.883721           0.875969           0.879377           0.891051   \n",
       "2           0.875969           0.856589           0.883268           0.894942   \n",
       "\n",
       "   split5_test_score  split6_test_score  split7_test_score  split8_test_score  \\\n",
       "0           0.898833           0.879377           0.887160           0.898833   \n",
       "1           0.910506           0.883268           0.879377           0.879377   \n",
       "2           0.898833           0.887160           0.875486           0.883268   \n",
       "\n",
       "   split9_test_score  mean_test_score  std_test_score  rank_test_score  \n",
       "0           0.910506         0.892738        0.015974                6  \n",
       "1           0.891051         0.891168        0.018253               14  \n",
       "2           0.898833         0.888458        0.018433               17  "
      ]
     },
     "execution_count": 60,
     "metadata": {},
     "output_type": "execute_result"
    }
   ],
   "source": [
    "pd.DataFrame(random.cv_results_).head(3)"
   ]
  },
  {
   "cell_type": "code",
   "execution_count": 61,
   "metadata": {
    "slideshow": {
     "slide_type": "fragment"
    }
   },
   "outputs": [
    {
     "name": "stdout",
     "output_type": "stream",
     "text": [
      "KNeighborsClassifier(n_neighbors=13)\n",
      "0.8966171990468436\n",
      "{'n_neighbors': 13}\n"
     ]
    }
   ],
   "source": [
    "print (random.best_estimator_)\n",
    "print(random.best_score_)\n",
    "print(random.best_params_)"
   ]
  },
  {
   "cell_type": "markdown",
   "metadata": {
    "slideshow": {
     "slide_type": "subslide"
    }
   },
   "source": [
    "Vemos que `RandomizedSearchCV` en este caso obtuvo el mismo resultado que `GridSearchCV`, aunque no probó tantas combinaciones."
   ]
  },
  {
   "cell_type": "code",
   "execution_count": 62,
   "metadata": {
    "slideshow": {
     "slide_type": "fragment"
    }
   },
   "outputs": [
    {
     "name": "stdout",
     "output_type": "stream",
     "text": [
      "              precision    recall  f1-score   support\n",
      "\n",
      "           0       0.91      0.88      0.90       645\n",
      "           1       0.84      0.88      0.86       458\n",
      "\n",
      "    accuracy                           0.88      1103\n",
      "   macro avg       0.88      0.88      0.88      1103\n",
      "weighted avg       0.88      0.88      0.88      1103\n",
      "\n"
     ]
    }
   ],
   "source": [
    "print (classification_report(y_test, random.predict(X_test)))"
   ]
  },
  {
   "cell_type": "code",
   "execution_count": 63,
   "metadata": {
    "slideshow": {
     "slide_type": "fragment"
    }
   },
   "outputs": [
    {
     "name": "stdout",
     "output_type": "stream",
     "text": [
      "[[567  78]\n",
      " [ 53 405]]\n"
     ]
    }
   ],
   "source": [
    "confusion = confusion_matrix(y_test, random.predict(X_test))\n",
    "print(confusion)"
   ]
  },
  {
   "cell_type": "markdown",
   "metadata": {
    "slideshow": {
     "slide_type": "fragment"
    }
   },
   "source": [
    "Y con los **datos de test** obtuvimos los mismos resultados."
   ]
  },
  {
   "cell_type": "markdown",
   "metadata": {
    "slideshow": {
     "slide_type": "slide"
    }
   },
   "source": [
    "<div class=\"div-dhds-fondo-1\"> Resumen\n",
    "<img src=\"https://raw.githubusercontent.com/Digital-House-DATA/ds_blend_2021_img/master/M3/CLASE_21_Regresion_Lineal_Simple/Presentacion/img/M3_CLASE_21_separador.png\" align=\"center\" />\n",
    "\n",
    "</div>"
   ]
  },
  {
   "cell_type": "markdown",
   "metadata": {
    "slideshow": {
     "slide_type": "slide"
    }
   },
   "source": [
    "### Resumen Métricas\n",
    "\n",
    "---\n",
    "\n",
    "- En los **problemas de CLASIFICACIÓN** el objetivo es predecir la pertenencia o la probabilidad de pertenencia de un caso a una clase.\n",
    "\n",
    "- Para estos problemas contamos con métricas para **evaluar el desempeño del modelo** tales como: **matriz de confusión**, **accuracy**, **sensitivity o recall**, **specificity**, **precision**, **f1-score**, **curva ROC** y **AUC**.\n",
    "\n",
    "\n",
    "- Las métricas de evaluación nos brindan información de qué tan bien nuestro modelo está identificando la pertenencia de un caso a una clase. Cada una de las distintas herramientas y métricas nos permite **hacer foco en distintos aspectos** de su desempeño, y evaluar cuáles son los **tipos de errores** que más está cometiendo.\n",
    "\n",
    "\n",
    "- Además, nos van a permitir **comparar distintos modelos** que entrenemos, y tomar decisiones respecto de cuál es el óptimo para usar (siempre teniendo en cuenta el contexto del problema y la lógica de negocio que tenga detrás)."
   ]
  },
  {
   "cell_type": "markdown",
   "metadata": {
    "slideshow": {
     "slide_type": "slide"
    }
   },
   "source": [
    "### Resumen Grid Search\n",
    "\n",
    "---\n",
    "\n",
    "- Los **hiperparámetros** son aquellas características externas de un modelo que no se \"aprenden\" de forma directa a partir del entrenamiento con los datos, sino que tienen que definirse con anterioridad.\n",
    "\n",
    "- Los **parámetros** de un modelo son características o propiedades internas cuyos valores son estimados a partir del entrenamiento con los datos.\n",
    "\n",
    "- Los **hiperparámetros** son muy importantes a la hora de entrenar un modelo ya que van a impactar en su desempeño y no se puede saber **a priori** cuáles son los mejores.\n",
    "\n",
    "- Existen dos grandes métodos o procesos (aunque no son los únicos) que nos permiten buscar cuáles son los mejores **hiperparámetros** (**hyper-parameter tunning**): \n",
    "\n",
    "    - [`GridSearch`](https://scikit-learn.org/stable/modules/generated/sklearn.model_selection.GridSearchCV.html) se caracteriza por hacer una búsqueda **exhaustiva para cada valor de la grilla de hiperparámetros** y elige la combinación de ellos que maximiza una métrica determinada.\n",
    "\n",
    "    - [`RandomizedSearch`](https://scikit-learn.org/stable/modules/generated/sklearn.model_selection.RandomizedSearchCV.html) realiza la búsqueda de la mejor combinación de **hiperparámetros** pero a partir de seleccionar en forma **aleatoria** un **subset** de los **hiperparámetros**, lo que achica el espacio de búsqueda y reduce el tiempo de cómputo."
   ]
  },
  {
   "cell_type": "markdown",
   "metadata": {
    "slideshow": {
     "slide_type": "subslide"
    }
   },
   "source": [
    "- La receta general para la búsqueda de **hiperparámetros** consta de: \n",
    "    - Elegir un **estimador (modelo)**\n",
    "    - Elegir un **espacio de hiperparámetros**\n",
    "    - Elegir un **método de búsqueda** (`RandomSearch`,`GridSearch`).\n",
    "    - Definir un **esquema de validación cruzada**\n",
    "    - Definir una **métrica de evaluación**"
   ]
  },
  {
   "cell_type": "markdown",
   "metadata": {
    "slideshow": {
     "slide_type": "slide"
    }
   },
   "source": [
    "<div class=\"div-dhds-fondo-1\"> Hands-on\n",
    "<img src=\"https://raw.githubusercontent.com/Digital-House-DATA/ds_blend_2021_img/master/M3/CLASE_21_Regresion_Lineal_Simple/Presentacion/img/M3_CLASE_21_separador.png\" align=\"center\" />\n",
    "\n",
    "</div>"
   ]
  },
  {
   "cell_type": "markdown",
   "metadata": {
    "slideshow": {
     "slide_type": "slide"
    }
   },
   "source": [
    "### Ejercicio\n",
    "\n",
    "----\n",
    "\n",
    "- Usando el dataset de abalones, generamos dos modelos:\n",
    "     - Con el método KNN, para 50 vecinos.\n",
    "     - Con Naive Bayes.\n",
    "\n",
    "- Calculamos para cada modelo la *Matriz de confusion*.\n",
    "\n",
    "- Calculamos para cada modelo las métricas: *Accuracy, Sensitivity o Recall, Precision y  Specificity*.\n",
    "\n",
    "- Comparamos los dos modelos. Cual es el que ajusta mejor?\n",
    "\n",
    "- Usemos una curva ROC para compararlos. Verifica lo anterior?"
   ]
  },
  {
   "cell_type": "code",
   "execution_count": 64,
   "metadata": {
    "slideshow": {
     "slide_type": "fragment"
    }
   },
   "outputs": [],
   "source": [
    "from sklearn import preprocessing\n",
    "from sklearn.model_selection import train_test_split\n",
    "from sklearn.datasets import make_classification\n",
    "import matplotlib.pyplot as plt\n",
    "import pandas as pd\n",
    "import numpy as np\n",
    "import seaborn as sns"
   ]
  },
  {
   "cell_type": "markdown",
   "metadata": {
    "slideshow": {
     "slide_type": "subslide"
    }
   },
   "source": [
    "Leemos el dataset."
   ]
  },
  {
   "cell_type": "code",
   "execution_count": 65,
   "metadata": {
    "slideshow": {
     "slide_type": "fragment"
    }
   },
   "outputs": [
    {
     "name": "stdout",
     "output_type": "stream",
     "text": [
      "Filas: 3676 Columnas: 10\n"
     ]
    },
    {
     "data": {
      "text/html": [
       "<div>\n",
       "<style scoped>\n",
       "    .dataframe tbody tr th:only-of-type {\n",
       "        vertical-align: middle;\n",
       "    }\n",
       "\n",
       "    .dataframe tbody tr th {\n",
       "        vertical-align: top;\n",
       "    }\n",
       "\n",
       "    .dataframe thead th {\n",
       "        text-align: right;\n",
       "    }\n",
       "</style>\n",
       "<table border=\"1\" class=\"dataframe\">\n",
       "  <thead>\n",
       "    <tr style=\"text-align: right;\">\n",
       "      <th></th>\n",
       "      <th>Sex</th>\n",
       "      <th>Length</th>\n",
       "      <th>Diameter</th>\n",
       "      <th>Height</th>\n",
       "      <th>Whole_weight</th>\n",
       "      <th>Shucked_weight</th>\n",
       "      <th>Viscera_weight</th>\n",
       "      <th>Shell_weight</th>\n",
       "      <th>Rings</th>\n",
       "      <th>Adulto</th>\n",
       "    </tr>\n",
       "  </thead>\n",
       "  <tbody>\n",
       "    <tr>\n",
       "      <th>35</th>\n",
       "      <td>M</td>\n",
       "      <td>0.465</td>\n",
       "      <td>0.355</td>\n",
       "      <td>0.105</td>\n",
       "      <td>0.4795</td>\n",
       "      <td>0.227</td>\n",
       "      <td>0.124</td>\n",
       "      <td>0.1250</td>\n",
       "      <td>8</td>\n",
       "      <td>0</td>\n",
       "    </tr>\n",
       "    <tr>\n",
       "      <th>276</th>\n",
       "      <td>F</td>\n",
       "      <td>0.660</td>\n",
       "      <td>0.530</td>\n",
       "      <td>0.185</td>\n",
       "      <td>13.4850</td>\n",
       "      <td>0.493</td>\n",
       "      <td>0.245</td>\n",
       "      <td>0.4900</td>\n",
       "      <td>12</td>\n",
       "      <td>1</td>\n",
       "    </tr>\n",
       "    <tr>\n",
       "      <th>1263</th>\n",
       "      <td>F</td>\n",
       "      <td>0.455</td>\n",
       "      <td>0.365</td>\n",
       "      <td>0.115</td>\n",
       "      <td>0.4305</td>\n",
       "      <td>0.184</td>\n",
       "      <td>0.108</td>\n",
       "      <td>0.1245</td>\n",
       "      <td>8</td>\n",
       "      <td>0</td>\n",
       "    </tr>\n",
       "  </tbody>\n",
       "</table>\n",
       "</div>"
      ],
      "text/plain": [
       "     Sex  Length  Diameter  Height  Whole_weight  Shucked_weight  \\\n",
       "35     M   0.465     0.355   0.105        0.4795           0.227   \n",
       "276    F   0.660     0.530   0.185       13.4850           0.493   \n",
       "1263   F   0.455     0.365   0.115        0.4305           0.184   \n",
       "\n",
       "      Viscera_weight  Shell_weight  Rings  Adulto  \n",
       "35             0.124        0.1250      8       0  \n",
       "276            0.245        0.4900     12       1  \n",
       "1263           0.108        0.1245      8       0  "
      ]
     },
     "execution_count": 65,
     "metadata": {},
     "output_type": "execute_result"
    }
   ],
   "source": [
    "df = pd.read_csv('../Data/abalone.csv', sep=';')\n",
    "print('Filas:', df.shape[0], 'Columnas:', df.shape[1])\n",
    "df.sample(3)"
   ]
  },
  {
   "cell_type": "markdown",
   "metadata": {
    "slideshow": {
     "slide_type": "fragment"
    }
   },
   "source": [
    "Armamos la matriz de features ($X$) y el target ($y$)."
   ]
  },
  {
   "cell_type": "code",
   "execution_count": 66,
   "metadata": {
    "slideshow": {
     "slide_type": "fragment"
    }
   },
   "outputs": [],
   "source": [
    "X = df.drop(['Adulto','Sex'], axis=1)\n",
    "y = df['Adulto']"
   ]
  },
  {
   "cell_type": "markdown",
   "metadata": {
    "slideshow": {
     "slide_type": "fragment"
    }
   },
   "source": [
    "Generamos los datasets de Train y Test."
   ]
  },
  {
   "cell_type": "code",
   "execution_count": 67,
   "metadata": {
    "slideshow": {
     "slide_type": "fragment"
    }
   },
   "outputs": [],
   "source": [
    "# Generamos los datasets de train y test.\n",
    "from sklearn.model_selection import train_test_split\n",
    "X_train, X_test, y_train, y_test = train_test_split(X, y,random_state=2)"
   ]
  },
  {
   "cell_type": "markdown",
   "metadata": {
    "slideshow": {
     "slide_type": "slide"
    }
   },
   "source": [
    "Creamos el modelo KNN para 50 vecinos. Predecimos las clases para los datos de Test."
   ]
  },
  {
   "cell_type": "code",
   "execution_count": 68,
   "metadata": {
    "colab": {},
    "colab_type": "code",
    "id": "4uqP_8_yYZs-",
    "slideshow": {
     "slide_type": "fragment"
    }
   },
   "outputs": [],
   "source": [
    "from sklearn.neighbors import KNeighborsClassifier\n",
    "knn = KNeighborsClassifier(n_neighbors=50)\n",
    "knn.fit(X_train, y_train);\n",
    "y_pred_knn = knn.predict(X_test)"
   ]
  },
  {
   "cell_type": "markdown",
   "metadata": {
    "slideshow": {
     "slide_type": "fragment"
    }
   },
   "source": [
    "Creamos el modelo Naive Bayes. Predecimos las clases para los datos de Test."
   ]
  },
  {
   "cell_type": "code",
   "execution_count": 69,
   "metadata": {
    "slideshow": {
     "slide_type": "fragment"
    }
   },
   "outputs": [],
   "source": [
    "from sklearn.naive_bayes import GaussianNB\n",
    "gnb = GaussianNB()\n",
    "gnb.fit(X_train, y_train)\n",
    "y_pred_bayes = gnb.predict(X_test)"
   ]
  },
  {
   "cell_type": "markdown",
   "metadata": {
    "slideshow": {
     "slide_type": "fragment"
    }
   },
   "source": [
    "**Matriz de confusión**"
   ]
  },
  {
   "cell_type": "code",
   "execution_count": 70,
   "metadata": {
    "slideshow": {
     "slide_type": "fragment"
    }
   },
   "outputs": [],
   "source": [
    "from sklearn.metrics import confusion_matrix\n",
    "#confusion_knn = \n",
    "#print('KNN\\n',confusion_knn)\n",
    "\n",
    "#confusion_bayes = \n",
    "#print('Bayes\\n',confusion_bayes)"
   ]
  },
  {
   "cell_type": "markdown",
   "metadata": {
    "slideshow": {
     "slide_type": "subslide"
    }
   },
   "source": [
    "**Accuracy**"
   ]
  },
  {
   "cell_type": "code",
   "execution_count": 71,
   "metadata": {
    "slideshow": {
     "slide_type": "fragment"
    }
   },
   "outputs": [],
   "source": [
    "from sklearn.metrics import accuracy_score\n",
    "#accuracy_knn =\n",
    "#accuracy_bayes =\n",
    "#print('Accuracy KNN =',accuracy_knn)\n",
    "#print('Accuracy Bayes =',accuracy_bayes)"
   ]
  },
  {
   "cell_type": "markdown",
   "metadata": {
    "slideshow": {
     "slide_type": "fragment"
    }
   },
   "source": [
    "**Recall**"
   ]
  },
  {
   "cell_type": "code",
   "execution_count": 72,
   "metadata": {
    "slideshow": {
     "slide_type": "fragment"
    }
   },
   "outputs": [],
   "source": [
    "from sklearn.metrics import recall_score\n",
    "#recall_knn = \n",
    "#recall_bayes = \n",
    "#print('Recall KNN =', recall_knn)\n",
    "#print('Recall Bayes =', recall_bayes)"
   ]
  },
  {
   "cell_type": "markdown",
   "metadata": {
    "slideshow": {
     "slide_type": "fragment"
    }
   },
   "source": [
    "**Precision**"
   ]
  },
  {
   "cell_type": "code",
   "execution_count": 73,
   "metadata": {
    "slideshow": {
     "slide_type": "fragment"
    }
   },
   "outputs": [],
   "source": [
    "from sklearn.metrics import precision_score\n",
    "#precision_knn =\n",
    "#precision_bayes = \n",
    "#print('Precision KNN =', precision_knn)\n",
    "#print('Precision Bayes =', precision_bayes)"
   ]
  },
  {
   "cell_type": "markdown",
   "metadata": {
    "slideshow": {
     "slide_type": "subslide"
    }
   },
   "source": [
    "**Specificity**"
   ]
  },
  {
   "cell_type": "code",
   "execution_count": 74,
   "metadata": {
    "slideshow": {
     "slide_type": "fragment"
    }
   },
   "outputs": [],
   "source": [
    "# definimos la función que va a tomar como argumentos los valores reales y los predichos\n",
    "def specificity(y_true, y_pred):\n",
    "    tn, fp, fn, tp = confusion_matrix(y_true, y_pred).ravel()\n",
    "    sp = tn / (tn+fp)\n",
    "    return(sp)\n",
    "\n",
    "#specificity_knn = \n",
    "#specificity_bayes = \n",
    "\n",
    "#print('Specificity KNN =', specificity_knn)\n",
    "#print('Specificity Bayes =', specificity_bayes)"
   ]
  },
  {
   "cell_type": "markdown",
   "metadata": {
    "slideshow": {
     "slide_type": "slide"
    }
   },
   "source": [
    "Está claro que el modelo xxxx predice mejor que el modelo yyyy *para este dataset*. Todas las métricas lo indican.\n",
    "\n",
    "Veamos ahora ambas curvas ROC:"
   ]
  },
  {
   "cell_type": "markdown",
   "metadata": {
    "slideshow": {
     "slide_type": "fragment"
    }
   },
   "source": [
    "Recordemos que previamente debemos obtener la probabilidad de pertenecer a la clase positiva."
   ]
  },
  {
   "cell_type": "code",
   "execution_count": 75,
   "metadata": {
    "slideshow": {
     "slide_type": "fragment"
    }
   },
   "outputs": [],
   "source": [
    "#y_pred_knn_proba = \n",
    "#y_pred_bayes_proba = "
   ]
  },
  {
   "cell_type": "code",
   "execution_count": 76,
   "metadata": {
    "slideshow": {
     "slide_type": "fragment"
    }
   },
   "outputs": [],
   "source": [
    "from sklearn.metrics import roc_curve\n",
    "#fpr_log_knn,tpr_log_knn,thr_log_knn = roc_curve(y_test, y_pred_knn_proba[:,1])\n",
    "#fpr_log_bayes,tpr_log_bayes,thr_log_bayes = roc_curve(y_test, y_pred_bayes_proba[:,1])"
   ]
  },
  {
   "cell_type": "markdown",
   "metadata": {
    "slideshow": {
     "slide_type": "subslide"
    }
   },
   "source": [
    "Convertimos los valores en un objeto dataframe y graficamos la curva ROC. \n",
    "\n",
    "Observamos nuevamente que el modelo xxxx estima mejor; está más cerca de la curva perfecta."
   ]
  },
  {
   "cell_type": "code",
   "execution_count": 77,
   "metadata": {
    "slideshow": {
     "slide_type": "fragment"
    }
   },
   "outputs": [],
   "source": [
    "#df_knn = pd.DataFrame(dict(fpr= , tpr=, thr = ))\n",
    "#plt.plot(df_knn['fpr'],df_knn['tpr'], label='KNN')\n",
    "\n",
    "#df_bayes = pd.DataFrame(dict(fpr= , tpr= , thr = ))\n",
    "#plt.plot(df_bayes['fpr'],df_bayes['tpr'], label='Bayes')\n",
    "\n",
    "#plt.axis([0, 1.01, 0, 1.01]); plt.legend()\n",
    "#plt.xlabel('1 - Specificty'); plt.ylabel('TPR / Sensitivity'); plt.title('ROC Curve')\n",
    "#plt.plot(np.arange(0,1, step =0.01), np.arange(0,1, step =0.01))\n",
    "#plt.show()"
   ]
  },
  {
   "cell_type": "markdown",
   "metadata": {
    "slideshow": {
     "slide_type": "slide"
    }
   },
   "source": [
    "### Solución\n",
    "\n",
    "---"
   ]
  },
  {
   "cell_type": "markdown",
   "metadata": {
    "slideshow": {
     "slide_type": "slide"
    }
   },
   "source": [
    "### Ejercicio\n",
    "\n",
    "----\n",
    "\n",
    "- Usando el dataset de abalones, generamos dos modelos:\n",
    "     - Con el método KNN, para 50 vecinos.\n",
    "     - Con Naive Bayes.\n",
    "\n",
    "- Calculamos para cada modelo la *Matriz de confusion*.\n",
    "\n",
    "- Calculamos para cada modelo las métricas: *Accuracy, Sensitivity o Recall, Precision y  Specificity*.\n",
    "\n",
    "- Comparamos los dos modelos. Cual es el que ajusta mejor?\n",
    "\n",
    "- Usemos una curva ROC para compararlos. Verifica lo anterior?"
   ]
  },
  {
   "cell_type": "code",
   "execution_count": 78,
   "metadata": {
    "slideshow": {
     "slide_type": "skip"
    }
   },
   "outputs": [],
   "source": [
    "from sklearn import preprocessing\n",
    "from sklearn.model_selection import train_test_split\n",
    "from sklearn.datasets import make_classification\n",
    "import matplotlib.pyplot as plt\n",
    "import pandas as pd\n",
    "import numpy as np\n",
    "import seaborn as sns"
   ]
  },
  {
   "cell_type": "markdown",
   "metadata": {
    "slideshow": {
     "slide_type": "fragment"
    }
   },
   "source": [
    "Leemos el dataset."
   ]
  },
  {
   "cell_type": "code",
   "execution_count": 79,
   "metadata": {
    "slideshow": {
     "slide_type": "fragment"
    }
   },
   "outputs": [
    {
     "name": "stdout",
     "output_type": "stream",
     "text": [
      "Filas: 3676 Columnas: 10\n"
     ]
    },
    {
     "data": {
      "text/html": [
       "<div>\n",
       "<style scoped>\n",
       "    .dataframe tbody tr th:only-of-type {\n",
       "        vertical-align: middle;\n",
       "    }\n",
       "\n",
       "    .dataframe tbody tr th {\n",
       "        vertical-align: top;\n",
       "    }\n",
       "\n",
       "    .dataframe thead th {\n",
       "        text-align: right;\n",
       "    }\n",
       "</style>\n",
       "<table border=\"1\" class=\"dataframe\">\n",
       "  <thead>\n",
       "    <tr style=\"text-align: right;\">\n",
       "      <th></th>\n",
       "      <th>Sex</th>\n",
       "      <th>Length</th>\n",
       "      <th>Diameter</th>\n",
       "      <th>Height</th>\n",
       "      <th>Whole_weight</th>\n",
       "      <th>Shucked_weight</th>\n",
       "      <th>Viscera_weight</th>\n",
       "      <th>Shell_weight</th>\n",
       "      <th>Rings</th>\n",
       "      <th>Adulto</th>\n",
       "    </tr>\n",
       "  </thead>\n",
       "  <tbody>\n",
       "    <tr>\n",
       "      <th>692</th>\n",
       "      <td>F</td>\n",
       "      <td>0.430</td>\n",
       "      <td>0.325</td>\n",
       "      <td>0.115</td>\n",
       "      <td>0.3865</td>\n",
       "      <td>0.1475</td>\n",
       "      <td>0.1065</td>\n",
       "      <td>0.1100</td>\n",
       "      <td>11</td>\n",
       "      <td>1</td>\n",
       "    </tr>\n",
       "    <tr>\n",
       "      <th>1763</th>\n",
       "      <td>M</td>\n",
       "      <td>0.775</td>\n",
       "      <td>0.630</td>\n",
       "      <td>0.250</td>\n",
       "      <td>27.7950</td>\n",
       "      <td>13.4850</td>\n",
       "      <td>0.7600</td>\n",
       "      <td>0.5780</td>\n",
       "      <td>12</td>\n",
       "      <td>1</td>\n",
       "    </tr>\n",
       "    <tr>\n",
       "      <th>1521</th>\n",
       "      <td>F</td>\n",
       "      <td>0.680</td>\n",
       "      <td>0.500</td>\n",
       "      <td>0.185</td>\n",
       "      <td>1.7410</td>\n",
       "      <td>0.7665</td>\n",
       "      <td>0.3255</td>\n",
       "      <td>0.4685</td>\n",
       "      <td>12</td>\n",
       "      <td>1</td>\n",
       "    </tr>\n",
       "  </tbody>\n",
       "</table>\n",
       "</div>"
      ],
      "text/plain": [
       "     Sex  Length  Diameter  Height  Whole_weight  Shucked_weight  \\\n",
       "692    F   0.430     0.325   0.115        0.3865          0.1475   \n",
       "1763   M   0.775     0.630   0.250       27.7950         13.4850   \n",
       "1521   F   0.680     0.500   0.185        1.7410          0.7665   \n",
       "\n",
       "      Viscera_weight  Shell_weight  Rings  Adulto  \n",
       "692           0.1065        0.1100     11       1  \n",
       "1763          0.7600        0.5780     12       1  \n",
       "1521          0.3255        0.4685     12       1  "
      ]
     },
     "execution_count": 79,
     "metadata": {},
     "output_type": "execute_result"
    }
   ],
   "source": [
    "df = pd.read_csv('../Data/abalone.csv', sep=';')\n",
    "print('Filas:', df.shape[0], 'Columnas:', df.shape[1])\n",
    "df.sample(3)"
   ]
  },
  {
   "cell_type": "markdown",
   "metadata": {
    "slideshow": {
     "slide_type": "subslide"
    }
   },
   "source": [
    "Armamos la matriz de features ($X$) y el target ($y$)."
   ]
  },
  {
   "cell_type": "code",
   "execution_count": 80,
   "metadata": {
    "slideshow": {
     "slide_type": "fragment"
    }
   },
   "outputs": [],
   "source": [
    "X = df.drop(['Adulto','Sex'], axis=1)\n",
    "y = df['Adulto']"
   ]
  },
  {
   "cell_type": "markdown",
   "metadata": {
    "slideshow": {
     "slide_type": "fragment"
    }
   },
   "source": [
    "Generamos los datasets de Train y Test."
   ]
  },
  {
   "cell_type": "code",
   "execution_count": 81,
   "metadata": {
    "slideshow": {
     "slide_type": "fragment"
    }
   },
   "outputs": [],
   "source": [
    "# Generamos los datasets de train y test.\n",
    "from sklearn.model_selection import train_test_split\n",
    "X_train, X_test, y_train, y_test = train_test_split(X, y,random_state=2)"
   ]
  },
  {
   "cell_type": "markdown",
   "metadata": {
    "slideshow": {
     "slide_type": "fragment"
    }
   },
   "source": [
    "Creamos el modelo KNN para 50 vecinos. Predecimos las clases para los datos de Test."
   ]
  },
  {
   "cell_type": "code",
   "execution_count": 82,
   "metadata": {
    "colab": {},
    "colab_type": "code",
    "id": "4uqP_8_yYZs-",
    "slideshow": {
     "slide_type": "fragment"
    }
   },
   "outputs": [],
   "source": [
    "from sklearn.neighbors import KNeighborsClassifier\n",
    "knn = KNeighborsClassifier(n_neighbors=50)\n",
    "knn.fit(X_train, y_train);\n",
    "y_pred_knn = knn.predict(X_test)"
   ]
  },
  {
   "cell_type": "markdown",
   "metadata": {
    "slideshow": {
     "slide_type": "fragment"
    }
   },
   "source": [
    "Creamos el modelo Naive Bayes. Predecimos las clases para los datos de Test."
   ]
  },
  {
   "cell_type": "code",
   "execution_count": 83,
   "metadata": {
    "slideshow": {
     "slide_type": "fragment"
    }
   },
   "outputs": [],
   "source": [
    "from sklearn.naive_bayes import GaussianNB\n",
    "gnb = GaussianNB()\n",
    "gnb.fit(X_train, y_train)\n",
    "y_pred_bayes = gnb.predict(X_test)"
   ]
  },
  {
   "cell_type": "markdown",
   "metadata": {
    "slideshow": {
     "slide_type": "slide"
    }
   },
   "source": [
    "**Matriz de confusión**"
   ]
  },
  {
   "cell_type": "code",
   "execution_count": 84,
   "metadata": {
    "slideshow": {
     "slide_type": "fragment"
    }
   },
   "outputs": [
    {
     "name": "stdout",
     "output_type": "stream",
     "text": [
      "KNN\n",
      " [[486  40]\n",
      " [ 30 363]]\n",
      "Bayes\n",
      " [[432  94]\n",
      " [ 90 303]]\n"
     ]
    }
   ],
   "source": [
    "from sklearn.metrics import confusion_matrix\n",
    "confusion_knn = confusion_matrix(y_test, y_pred_knn)\n",
    "print('KNN\\n',confusion_knn)\n",
    "\n",
    "confusion_bayes = confusion_matrix(y_test, y_pred_bayes)\n",
    "print('Bayes\\n',confusion_bayes)"
   ]
  },
  {
   "cell_type": "markdown",
   "metadata": {
    "slideshow": {
     "slide_type": "fragment"
    }
   },
   "source": [
    "**Accuracy**"
   ]
  },
  {
   "cell_type": "code",
   "execution_count": 85,
   "metadata": {
    "slideshow": {
     "slide_type": "fragment"
    }
   },
   "outputs": [
    {
     "name": "stdout",
     "output_type": "stream",
     "text": [
      "Accuracy KNN = 0.9238302502720348\n",
      "Accuracy Bayes = 0.7997823721436343\n"
     ]
    }
   ],
   "source": [
    "from sklearn.metrics import accuracy_score\n",
    "accuracy_knn = accuracy_score(y_test, y_pred_knn)\n",
    "accuracy_bayes = accuracy_score(y_test, y_pred_bayes)\n",
    "print('Accuracy KNN =',accuracy_knn)\n",
    "print('Accuracy Bayes =',accuracy_bayes)"
   ]
  },
  {
   "cell_type": "markdown",
   "metadata": {
    "slideshow": {
     "slide_type": "subslide"
    }
   },
   "source": [
    "**Recall**"
   ]
  },
  {
   "cell_type": "code",
   "execution_count": 86,
   "metadata": {
    "slideshow": {
     "slide_type": "fragment"
    }
   },
   "outputs": [
    {
     "name": "stdout",
     "output_type": "stream",
     "text": [
      "Recall KNN = 0.9236641221374046\n",
      "Recall Bayes = 0.7709923664122137\n"
     ]
    }
   ],
   "source": [
    "from sklearn.metrics import recall_score\n",
    "recall_knn = recall_score(y_test, y_pred_knn)\n",
    "recall_bayes = recall_score(y_test, y_pred_bayes)\n",
    "print('Recall KNN =', recall_knn)\n",
    "print('Recall Bayes =', recall_bayes)"
   ]
  },
  {
   "cell_type": "markdown",
   "metadata": {
    "slideshow": {
     "slide_type": "fragment"
    }
   },
   "source": [
    "**Precision**"
   ]
  },
  {
   "cell_type": "code",
   "execution_count": 87,
   "metadata": {
    "slideshow": {
     "slide_type": "fragment"
    }
   },
   "outputs": [
    {
     "name": "stdout",
     "output_type": "stream",
     "text": [
      "Precision KNN = 0.9007444168734491\n",
      "Precision Bayes = 0.7632241813602015\n"
     ]
    }
   ],
   "source": [
    "from sklearn.metrics import precision_score\n",
    "precision_knn = precision_score(y_test, y_pred_knn)\n",
    "precision_bayes = precision_score(y_test, y_pred_bayes)\n",
    "print('Precision KNN =', precision_knn)\n",
    "print('Precision Bayes =', precision_bayes)"
   ]
  },
  {
   "cell_type": "markdown",
   "metadata": {
    "slideshow": {
     "slide_type": "subslide"
    }
   },
   "source": [
    "**Specificity**"
   ]
  },
  {
   "cell_type": "code",
   "execution_count": 88,
   "metadata": {
    "slideshow": {
     "slide_type": "fragment"
    }
   },
   "outputs": [
    {
     "name": "stdout",
     "output_type": "stream",
     "text": [
      "Specificity KNN = 0.9239543726235742\n",
      "Specificity Bayes = 0.8212927756653993\n"
     ]
    }
   ],
   "source": [
    "# definimos la función que va a tomar como argumentos los valores reales y los predichos\n",
    "def specificity(y_true, y_pred):\n",
    "    tn, fp, fn, tp = confusion_matrix(y_true, y_pred).ravel()\n",
    "    sp = tn / (tn+fp)\n",
    "    return(sp)\n",
    "\n",
    "specificity_knn = specificity(y_test, y_pred_knn)\n",
    "specificity_bayes = specificity(y_test, y_pred_bayes)\n",
    "\n",
    "print('Specificity KNN =', specificity_knn)\n",
    "print('Specificity Bayes =', specificity_bayes)"
   ]
  },
  {
   "cell_type": "markdown",
   "metadata": {
    "slideshow": {
     "slide_type": "slide"
    }
   },
   "source": [
    "Está claro que el modelo KNN predice mejor que Naive Bayes *para este dataset*. Todas las métricas lo indican.\n",
    "\n",
    "Veamos ahora ambas curvas ROC:"
   ]
  },
  {
   "cell_type": "markdown",
   "metadata": {
    "slideshow": {
     "slide_type": "fragment"
    }
   },
   "source": [
    "Recordemos que previamente debemos obtener la probabilidad de pertenecer a la clase positiva."
   ]
  },
  {
   "cell_type": "code",
   "execution_count": 89,
   "metadata": {
    "slideshow": {
     "slide_type": "fragment"
    }
   },
   "outputs": [],
   "source": [
    "y_pred_knn_proba = knn.predict_proba(X_test)\n",
    "y_pred_bayes_proba = gnb.predict_proba(X_test)"
   ]
  },
  {
   "cell_type": "code",
   "execution_count": 90,
   "metadata": {
    "slideshow": {
     "slide_type": "fragment"
    }
   },
   "outputs": [],
   "source": [
    "from sklearn.metrics import roc_curve\n",
    "fpr_log_knn,tpr_log_knn,thr_log_knn = roc_curve(y_test, y_pred_knn_proba[:,1])\n",
    "fpr_log_bayes,tpr_log_bayes,thr_log_bayes = roc_curve(y_test, y_pred_bayes_proba[:,1])"
   ]
  },
  {
   "cell_type": "markdown",
   "metadata": {
    "slideshow": {
     "slide_type": "subslide"
    }
   },
   "source": [
    "Convertimos los valores en un objeto dataframe y graficamos la curva ROC. \n",
    "\n",
    "Observamos nuevamente que el modelo KNN estima mejor; está más cerca de la curva perfecta."
   ]
  },
  {
   "cell_type": "code",
   "execution_count": 91,
   "metadata": {
    "slideshow": {
     "slide_type": "fragment"
    }
   },
   "outputs": [
    {
     "data": {
      "image/png": "[encoded data removed]",
      "text/plain": [
       "<Figure size 432x288 with 1 Axes>"
      ]
     },
     "metadata": {
      "needs_background": "light"
     },
     "output_type": "display_data"
    }
   ],
   "source": [
    "df_knn = pd.DataFrame(dict(fpr=fpr_log_knn, tpr=tpr_log_knn, thr = thr_log_knn))\n",
    "plt.plot(df_knn['fpr'],df_knn['tpr'], label='KNN')\n",
    "\n",
    "df_bayes = pd.DataFrame(dict(fpr=fpr_log_bayes, tpr=tpr_log_bayes, thr = thr_log_bayes))\n",
    "plt.plot(df_bayes['fpr'],df_bayes['tpr'], label='Bayes')\n",
    "\n",
    "plt.axis([0, 1.01, 0, 1.01]); plt.legend()\n",
    "plt.xlabel('1 - Specificty'); plt.ylabel('TPR / Sensitivity'); plt.title('ROC Curve')\n",
    "plt.plot(np.arange(0,1, step =0.01), np.arange(0,1, step =0.01))\n",
    "plt.show()"
   ]
  },
  {
   "cell_type": "markdown",
   "metadata": {
    "slideshow": {
     "slide_type": "slide"
    }
   },
   "source": [
    "<div class=\"div-dhds-fondo-1\"> Referencias y Material Adicional\n",
    "<img src=\"https://raw.githubusercontent.com/Digital-House-DATA/ds_blend_2021_img/master/M3/CLASE_21_Regresion_Lineal_Simple/Presentacion/img/M3_CLASE_21_separador.png\" align=\"center\" />\n",
    "\n",
    "</div>"
   ]
  },
  {
   "cell_type": "markdown",
   "metadata": {
    "slideshow": {
     "slide_type": "slide"
    }
   },
   "source": [
    "### Referencias y Material Adicional\n",
    "\n",
    "---\n",
    "\n",
    "<a href=\"https://scikit-learn.org/stable/modules/classes.html?highlight=metrics#module-sklearn.metrics\" target=\"_blank\">Scikit-learn: metrics</a>\n",
    "\n",
    "<a href=\"https://towardsdatascience.com/classification-metrics-thresholds-explained-caff18ad2747\" target=\"_blank\">Classification metrics thresholds explained</a>\n",
    "\n",
    "<a href=\"https://albertum.medium.com/short-introduction-to-roc-curve-ed137062672f\" target=\"_blank\">Short introduction to ROC curve</a>\n",
    "\n",
    "<a href=\"https://medium.com/analytics-vidhya/understanding-roc-and-auc-metrics-in-classification-tasks-e5e7594cd6b\" target=\"_blank\">Understanding ROC and AUC metrics in classification tasks</a>\n",
    "\n",
    "<a href=\"https://en.wikipedia.org/wiki/Hyperparameter_optimization\" target=\"_blank\">Hyperparameter optimization</a>\n",
    "\n",
    "<a href=\"https://scikit-learn.org/stable/modules/generated/sklearn.model_selection.GridSearchCV.html\" target=\"_blank\">Scikit-learn: Grid Search</a>\n",
    "\n",
    "<a href=\"https://scikit-learn.org/stable/modules/generated/sklearn.model_selection.RandomizedSearchCV.html\" target=\"_blank\">Scikit-learn: Random Search</a>\n",
    "\n",
    "<a href=\"https://www.kaggle.com/willkoehrsen/intro-to-model-tuning-grid-and-random-search\" target=\"_blank\">Intro to Model Tuning: Grid and Random Search</a>"
   ]
  }
 ],
 "metadata": {
  "kernelspec": {
   "display_name": "Python 3",
   "language": "python",
   "name": "python3"
  },
  "language_info": {
   "codemirror_mode": {
    "name": "ipython",
    "version": 3
   },
   "file_extension": ".py",
   "mimetype": "text/x-python",
   "name": "python",
   "nbconvert_exporter": "python",
   "pygments_lexer": "ipython3",
   "version": "3.8.5"
  }
 },
 "nbformat": 4,
 "nbformat_minor": 4
}
