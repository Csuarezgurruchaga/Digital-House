{
 "cells": [
  {
   "cell_type": "code",
   "execution_count": 1,
   "metadata": {
    "slideshow": {
     "slide_type": "skip"
    }
   },
   "outputs": [
    {
     "name": "stdout",
     "output_type": "stream",
     "text": [
      "/Users/csuarezgurruchaga/Desktop/Digital-House/CLASE_34/dsad_2021/common\n",
      "default checking\n",
      "Running command `conda list`... ok\n",
      "jupyterlab=2.2.6 already installed\n",
      "pandas=1.1.5 already installed\n",
      "bokeh=2.2.3 already installed\n",
      "seaborn=0.11.0 already installed\n",
      "matplotlib=3.3.2 already installed\n",
      "ipywidgets=7.5.1 already installed\n",
      "pytest=6.2.1 already installed\n",
      "chardet=4.0.0 already installed\n",
      "psutil=5.7.2 already installed\n",
      "scipy=1.5.2 already installed\n",
      "statsmodels=0.12.1 already installed\n",
      "scikit-learn=0.23.2 already installed\n",
      "xlrd=2.0.1 already installed\n",
      "Running command `conda install --yes nltk=3.5.0`... ok\n",
      "Collecting package metadata (current_repodata.json): ...working... done\n",
      "Solving environment: ...working... done\n",
      "\n",
      "# All requested packages already installed.\n",
      "\n",
      "\n",
      "unidecode=1.1.1 already installed\n",
      "pydotplus=2.0.2 already installed\n",
      "pandas-datareader=0.9.0 already installed\n",
      "flask=1.1.2 already installed\n"
     ]
    }
   ],
   "source": [
    "# initial setup\n",
    "%run \"../../../common/0_notebooks_base_setup.py\"\n"
   ]
  },
  {
   "cell_type": "code",
   "execution_count": 2,
   "metadata": {
    "slideshow": {
     "slide_type": "skip"
    }
   },
   "outputs": [],
   "source": [
    "import pandas as pd\n",
    "import numpy as np\n",
    "import matplotlib.pyplot as plt"
   ]
  },
  {
   "cell_type": "markdown",
   "metadata": {
    "slideshow": {
     "slide_type": "slide"
    }
   },
   "source": [
    "<link rel=\"stylesheet\" href=\"../../../common/dhds.css\">\n",
    "<div class=\"Table\">\n",
    "    <div class=\"Row\">\n",
    "        <div class=\"Cell grey left\"> <img src=\"https://raw.githubusercontent.com/Digital-House-DATA/ds_blend_2021_img/master/M5/CLASE_34_CART/Presentacion/img/M5_CLASE_34_portada.png\" align=\"center\" width=\"90%\"/></div>        \n",
    "        <div class=\"Cell right\">\n",
    "            <div class=\"div-logo\"><img src=\"https://raw.githubusercontent.com/Digital-House-DATA/ds_blend_2021_img/master/common/logo_DH.png\" align=\"center\" width=70% /></div>\n",
    "            <div class=\"div-curso\">DATA SCIENCE</div>\n",
    "            <div class=\"div-modulo\">MÓDULO 5</div>\n",
    "            <div class=\"div-contenido\">CART - <b>C</b>lassification <b>a</b>nd <b>R</b>egression <b>T</b>rees</div>\n",
    "        </div>\n",
    "    </div>\n",
    "</div>"
   ]
  },
  {
   "cell_type": "markdown",
   "metadata": {
    "slideshow": {
     "slide_type": "slide"
    }
   },
   "source": [
    "## Agenda\n",
    "\n",
    "---\n",
    "\n",
    "- Describir que es un árbol de decisión\n",
    "\n",
    "- Explicar cómo funciona un árbol de clasificación\n",
    "\n",
    "- Explicar cómo funciona un árbol de regresión"
   ]
  },
  {
   "cell_type": "markdown",
   "metadata": {
    "slideshow": {
     "slide_type": "slide"
    }
   },
   "source": [
    "<div class=\"div-dhds-fondo-1\"> Introducción\n",
    "<img src=\"https://raw.githubusercontent.com/Digital-House-DATA/ds_blend_2021_img/master/M5/CLASE_34_CART/Presentacion/img/M5_CLASE_34_separador.png\" align=\"center\" />\n",
    "\n",
    "</div>"
   ]
  },
  {
   "cell_type": "markdown",
   "metadata": {
    "slideshow": {
     "slide_type": "slide"
    }
   },
   "source": [
    "## Introducción\n",
    "\n",
    "---\n",
    "\n",
    "Los árboles de Decisión y los ensambles son herramientas de Machine Learning muy potentes que nos permiten resolver problemas complejos de manera performante. \n",
    "\n",
    "Además, son **fáciles de visualizar y comunicar**, resultando extremadamente poderosos en un contexto en el que participan actores no técnicos.\n",
    "\n",
    "Comencemos con un ejemplo\n"
   ]
  },
  {
   "cell_type": "markdown",
   "metadata": {
    "slideshow": {
     "slide_type": "subslide"
    }
   },
   "source": [
    "Triage es un método de selección y **clasificación de pacientes** empleado en la enfermería y la medicina de emergencias y desastres. \n",
    " \n",
    "Evalúa las prioridades de atención, privilegiando la posibilidad de supervivencia, de acuerdo con las necesidades terapéuticas y los recursos disponibles. \n",
    "\n",
    "Trata por tanto de evitar que se retrase la atención del paciente, que empeoraría su pronóstico por la demora en su atención.\n"
   ]
  },
  {
   "cell_type": "markdown",
   "metadata": {
    "slideshow": {
     "slide_type": "subslide"
    }
   },
   "source": [
    "Consideremos como ejemplo el método Triage para la clasificación de heridos según su gravedad. \n",
    "\n",
    "Aquí los colores determinan la gravedad del paciente.\n",
    "\n",
    "\n",
    "<img src=\"https://raw.githubusercontent.com/Digital-House-DATA/ds_blend_2021_img/master/M5/CLASE_34_CART/Presentacion/img/M5_CLASE_34_Triage.png\" align=\"center\" />\n"
   ]
  },
  {
   "cell_type": "markdown",
   "metadata": {
    "slideshow": {
     "slide_type": "subslide"
    }
   },
   "source": [
    "El árbol da una **regla precisa para decidir** la gravedad del paciente, **dependiendo de los valores tomados por las variables**.\n",
    "\n",
    "La **interpretación del modelo es extremadamente simple** lo que facilita su comunicación a gente no técnica.\n"
   ]
  },
  {
   "cell_type": "markdown",
   "metadata": {
    "slideshow": {
     "slide_type": "slide"
    }
   },
   "source": [
    "## ¿Qué es un árbol de decisión?\n",
    "\n",
    "---\n",
    "\n",
    "Los árboles de decisión son una **técnica de aprendizaje** estadístico que puede usarse para **regresión** y para **clasificación**. \n",
    "\n",
    "\n",
    "- Las técnicas de árbol implican **estratificar o segmentar el espacio de predictores** en un número de **regiones simples**.  \n",
    "\n",
    "    - Para hacer una predicción para una observación dada típicamente se usa la media o la moda de la variable de respuesta para la región a la que pertenece la observación. \n",
    "    \n",
    "\n",
    "- Los métodos basados en árboles son simples y útiles para la interpretación. Sin embargo, **típicamente no son competitivos en términos de precisión predictiva** con los mejores enfoques basados en aprendizaje supervisado.  \n",
    "\n",
    "- Veremos que la **combinación de un gran número de árboles puede llevar a mejoras sustanciales en la precisión** de las predicciones a cambio de cierta pérdida en la interpretabilidad de los resultados.\n",
    "\n"
   ]
  },
  {
   "cell_type": "markdown",
   "metadata": {
    "slideshow": {
     "slide_type": "slide"
    }
   },
   "source": [
    "<div class=\"div-dhds-fondo-1\"> Árboles de Regresión\n",
    "<img src=\"https://raw.githubusercontent.com/Digital-House-DATA/ds_blend_2021_img/master/M5/CLASE_34_CART/Presentacion/img/M5_CLASE_34_separador.png\" align=\"center\" />\n",
    "\n",
    "</div>"
   ]
  },
  {
   "cell_type": "markdown",
   "metadata": {
    "slideshow": {
     "slide_type": "slide"
    }
   },
   "source": [
    "## Ejemplo: Árboles de regresión para predecir el salario de un jugador de baseball\n",
    "\n",
    "---\n",
    "\n",
    "El logaritmo del salario está representado por los colores. Los puntos <a style=\"color:blue;\">AZULES </a>representan los salarios más bajos y los <a style=\"color:red;\">ROJOS</a> los más altos. \n",
    "\n",
    "<img src=\"https://raw.githubusercontent.com/Digital-House-DATA/ds_blend_2021_img/master/M5/CLASE_34_CART/Presentacion/img/M5_CLASE_34_baseball1.png\" align=\"center\"/>\n"
   ]
  },
  {
   "cell_type": "markdown",
   "metadata": {
    "slideshow": {
     "slide_type": "slide"
    }
   },
   "source": [
    "**¿Cómo segmentarían el espacio para separar los salarios?**\n"
   ]
  },
  {
   "cell_type": "markdown",
   "metadata": {
    "slideshow": {
     "slide_type": "subslide"
    }
   },
   "source": [
    "Podemos hacer una primera partición en los **Años**. \n",
    "\n",
    "Separamos las observaciones con menos de aprox. 5 años\n",
    "\n",
    "<img src=\"https://raw.githubusercontent.com/Digital-House-DATA/ds_blend_2021_img/master/M5/CLASE_34_CART/Presentacion/img/M5_CLASE_34_baseball2.png\" align=\"center\"/>\n",
    "\n"
   ]
  },
  {
   "cell_type": "markdown",
   "metadata": {
    "slideshow": {
     "slide_type": "subslide"
    }
   },
   "source": [
    "Luego podemos dividir por la cantidad de **Hits**. \n",
    "\n",
    "<img src=\"https://raw.githubusercontent.com/Digital-House-DATA/ds_blend_2021_img/master/M5/CLASE_34_CART/Presentacion/img/M5_CLASE_34_baseball3.png\" align=\"center\"/>\n",
    "\n"
   ]
  },
  {
   "cell_type": "markdown",
   "metadata": {
    "slideshow": {
     "slide_type": "subslide"
    }
   },
   "source": [
    "Para estos datos, representamos un árbol de regresión para predecir el logaritmo del salario de un jugador de beisball, basado en la cantidad de años que ha jugado en las ligas mayores y la cantidad de hits que hizo en el año anterior:\n",
    "\n",
    "<img src=\"https://raw.githubusercontent.com/Digital-House-DATA/ds_blend_2021_img/master/M5/CLASE_34_CART/Presentacion/img/M5_CLASE_34_arbol_1.png\" align=\"center\"/>\n",
    "\n",
    "En un nodo interno dado, la etiqueta, de la forma $X_j \\lt t_k$, indica la rama izquierda que resulta de esa división, y la rama derecha corresponde a $X_j \\ge t_k$. \n",
    "\n"
   ]
  },
  {
   "cell_type": "markdown",
   "metadata": {
    "slideshow": {
     "slide_type": "subslide"
    }
   },
   "source": [
    "Por ejemplo, la división en la parte superior del árbol da como resultado dos ramas grandes:\n",
    "\n",
    "- La rama de la izquierda corresponde a Años $\\lt$ 4.5\n",
    "\n",
    "- La rama de la derecha corresponde a Años $\\ge$ 4.5. \n",
    "\n",
    "El número en cada hoja es la media de la respuesta de las observaciones que caen allí."
   ]
  },
  {
   "cell_type": "markdown",
   "metadata": {
    "slideshow": {
     "slide_type": "subslide"
    }
   },
   "source": [
    "Entonces\n",
    "\n",
    "\n",
    "- Para los jugadores con menos de 4.5 años de experiencia el salario pronosticado está dado por la media de los salarios de jugadores con menos de 4.5 años de experiencia. Para esos jugadores la media de los logaritmos de los salario es 5.107 por lo que valor pronosticado para el salario es $e^{5.107}$ miles de dólares o  $165,174 \n",
    "\n",
    "- Para los jugadores con experiencia $\\ge 4.5$ existen dos grupos posibles en base a sus hits: aquellos con menos de 118 la temporada pasada, con salario esperado de $e^{5.999} = \\$402,834$, y otro grupo con al menos 118 hits la temporada pasada $e^{6.740} = \\$845,346 $.\n",
    "\n",
    "- Estas tres regiones pueden escribirse como \n",
    "    - $R_1 = \\{X | Years \\lt 4.5 \\}$\n",
    "    - $R_2 = \\{X | Years \\ge 4.5, Hits \\lt 117.5 \\}$\n",
    "    - $R_3 = \\{X | Years \\ge 4.5, Hits \\ge 117.5 \\}$\n"
   ]
  },
  {
   "cell_type": "markdown",
   "metadata": {
    "slideshow": {
     "slide_type": "subslide"
    }
   },
   "source": [
    "- Las regiones $R_1$, $R_2$,  y $R_3$ se conocen como nodos terminales u hojas del árbol. \n",
    "\n",
    "- Los nodos en el árbol donde el espacio de predictores es particionado se conocen como nodos internos.\n",
    "\n",
    "- Las aristas del árbol que conectan los nodos se denominan ramas. \n"
   ]
  },
  {
   "cell_type": "markdown",
   "metadata": {
    "slideshow": {
     "slide_type": "slide"
    }
   },
   "source": [
    "## ¿Como construimos las regiones de un árbol de regresión?\n",
    "\n",
    "---\n",
    "\n",
    "El objetivo es encontrar cajas  $R_1$,...,$R_J$ que minimizan la suma de residuos al cuadrado (RSS) dada por: \n",
    "\n",
    "$$  \\sum_{j=1}^J \\sum_{i \\in R_j}(y_i - \\hat{y}_{R_j})^2$$\n",
    "\n",
    "\n",
    "\n",
    "\n",
    "\n",
    "\n",
    "Donde $\\hat{y}_{R_j}$ es la media de y de la caja $R_j$.\n",
    "\n",
    "### Problema\n",
    "\n",
    "**No es factible computacionalmente considerar todas las posibles particiones del espacio de atributos en J cajas.**\n",
    "\n",
    "Por esta razón se usa un enfoque de arriba hacia abajo \"greedy\" que es conocido como **recursive binary splitting**. \n",
    "\n",
    "Recursive binary splitting  comienza  en la parte de arriba del árbol (donde todas las observaciones pertenecen a una sola región) y sucesivamente particiona el espacio de predictores. Cada nueva división se indica mediante dos nuevas ramas que sigue hacia abajo en el árbol. \n"
   ]
  },
  {
   "cell_type": "markdown",
   "metadata": {
    "slideshow": {
     "slide_type": "slide"
    }
   },
   "source": [
    "## Recursive binary splitting\n",
    "\n",
    "---\n",
    "\n",
    "### Características del método \n",
    "\n",
    "* **recursivo**: divide el trabajo en partes, y resuelve cada parte dividiéndolas a su vez en partes más pequeñas.\n",
    "\n",
    "* **voraz (greedy)**: porque en cada paso de la construcción del árbol se busca la mejor división en ese punto en particular en lugar de mirar hacia adelante y elegir una división que llevaría a un mejor árbol en un paso futuro. \n",
    "\n",
    "* **óptimo local**: no alcanza la mejor solución de todas las posibles, sino una solución localmente óptima.\n",
    "\n",
    "El algoritmo funciona dividiendo recursivamente los registros en subconjuntos cada vez más pequeños. \n"
   ]
  },
  {
   "cell_type": "markdown",
   "metadata": {
    "slideshow": {
     "slide_type": "subslide"
    }
   },
   "source": [
    "### Algoritmo\n",
    "\n",
    "**1.** **Seleccionamos el predictor $X_j$ y el punto de corte $s$** tal que separar el espacio de predictores en las regiones $\\{ X | X_j \\lt s \\} y \\{ X | Xj \\ge s \\}$ **lleva a la mayor reducción posible de la métrica RSS**. \n",
    "\n",
    "Para esto debemos considerar todos los predictores $X_1,...,X_p$, y todos los valores posibles de los puntos de corte $s$ para cada uno de los predictores y luego elegir el predictor y punto de corte tal que  el árbol resultante tiene el menor valor de RSS. \n",
    "\n",
    "En más detalle, definimos las regiones como:\n",
    "\n",
    "$R_1(j, s) = \\{ X | X_j \\lt s \\}$\n",
    "\n",
    "$R_2(j, s) = \\{ X | X_j \\ge s \\}$\n",
    "\n",
    "Y buscamos minimizar la siguiente expresión eligiendo $X_j$ y $s$ dado que los valores pronosticados para cada región están dados por el promedio de la y en esa partición. \n",
    "\n",
    "$ \\sum_{i: x_i \\in R_1(j, s)}(y_i - \\hat{y}_{R_1})^2 + \\sum_{i: x_i \\in R_2(j, s)}(y_i - \\hat{y}_{R_2})^2$\n",
    "\n",
    "\n"
   ]
  },
  {
   "cell_type": "markdown",
   "metadata": {
    "slideshow": {
     "slide_type": "subslide"
    }
   },
   "source": [
    "**2.** A continuación repetimos el proceso buscando el mejor predictor y el mejor punto de corte para volver a dividir los datos con el objetivo de minimizar el valor de RSS para la nueva partición.  Pero esta vez en lugar de dividir el espacio de predictores completo, dividimos una de las regiones identificadas previamente.\n",
    " \n"
   ]
  },
  {
   "cell_type": "markdown",
   "metadata": {
    "slideshow": {
     "slide_type": "subslide"
    }
   },
   "source": [
    "**3**. Ahora tenemos 3 regiones. Volvemos a buscar una división de estas 3 regiones para minimizar el valor de RSS. \n",
    "\n",
    "El proceso continúa hasta que se cumple con algún criterio de detención (por ejemplo cantidad de observaciones en cada región)\n",
    "\n",
    "Una vez que tenemos creadas las regiones  $R_1,...,R_J$ predecimos la respuesta de una observación de test en base a la **media de las observaciones de training en la región** a la que pertenece la observación de test. \n"
   ]
  },
  {
   "cell_type": "markdown",
   "metadata": {
    "slideshow": {
     "slide_type": "subslide"
    }
   },
   "source": [
    "### Resultado\n",
    "\n",
    "Arriba: la salida de la división binaria recursiva en un ejemplo bidimensional. \n",
    "\n",
    "Abajo a la izquierda: un árbol correspondiente a la partición en el panel superior. \n",
    "\n",
    "Abajo a la derecha: una gráfica en perspectiva de la superficie de predicción correspondiente a ese árbol.\n",
    "\n",
    "<img src=\"https://raw.githubusercontent.com/Digital-House-DATA/ds_blend_2021_img/master/M5/CLASE_34_CART/Presentacion/img/M5_CLASE_34_arbol_2.png\" align=\"center\" />"
   ]
  },
  {
   "cell_type": "markdown",
   "metadata": {
    "slideshow": {
     "slide_type": "slide"
    }
   },
   "source": [
    "<div class=\"div-dhds-fondo-1\"> Árboles de Clasificación\n",
    "<img src=\"https://raw.githubusercontent.com/Digital-House-DATA/ds_blend_2021_img/master/M5/CLASE_34_CART/Presentacion/img/M5_CLASE_34_separador.png\" align=\"center\" />\n",
    "\n",
    "</div>"
   ]
  },
  {
   "cell_type": "markdown",
   "metadata": {
    "slideshow": {
     "slide_type": "slide"
    }
   },
   "source": [
    "## Árboles de clasificación\n",
    "\n",
    "---\n",
    "\n",
    "* Un árbol de clasificación es muy similar a uno de regresión excepto que se utiliza para predecir una variable cualitativa en lugar de una cuantitativa. \n",
    "\n",
    "* La predicción se obtiene como la **etiqueta mayoritaria para las observaciones de training dentro de la región** a la que pertenece una observación. \n",
    "\n",
    "* Para construir el árbol usamos recursive binary splitting pero con un criterio distinto a RSS. Una alternativa natural es la tasa de error de clasificación. Como vamos a clasificar a una observación de acuerdo a la clase más frecuente en su región, la **tasa de error de clasificación** es simplemente la **fracción de las observaciones de training en esa región que no pertenecen a la clase mayoritaria**. \n",
    "\n"
   ]
  },
  {
   "cell_type": "markdown",
   "metadata": {
    "slideshow": {
     "slide_type": "slide"
    }
   },
   "source": [
    "## Tasa de error de clasificación\n",
    "\n",
    "---\n",
    "\n",
    "$\\hat{p}_{mk}$ representa la proporción de observaciones de entrenamiento en la m-ésima región que pertenecen a la k-ésima clase\n",
    "\n",
    "$ max_k(\\hat{p}_{mk})$ se obtiene para el valor de k que corresponde a la clase mayoritaria en la región m\n",
    "\n",
    "$E = 1 - max_k(\\hat{p}_{mk})$ es el error de clasificación en la región $m$\n",
    "\n",
    "La **tasa de error de clasificación no es suficientemente sensible** para construir el árbol y en la práctica se prefieren otras dos medidas.\n"
   ]
  },
  {
   "cell_type": "markdown",
   "metadata": {
    "slideshow": {
     "slide_type": "slide"
    }
   },
   "source": [
    "## Concepto de Impureza\n",
    "\n",
    "---\n",
    "\n",
    "Clasificamos según el color de las figuras y obtenemos estos nodos terminales \n",
    "\n",
    "<img src=\"https://raw.githubusercontent.com/Digital-House-DATA/ds_blend_2021_img/master/M5/CLASE_34_CART/Presentacion/img/M5_CLASE_34_impureza.png\" align=\"center\" />\n",
    "\n",
    "\n"
   ]
  },
  {
   "cell_type": "markdown",
   "metadata": {
    "slideshow": {
     "slide_type": "slide"
    }
   },
   "source": [
    "## Índice de Gini\n",
    "\n",
    "---\n",
    "\n",
    "$$G = \\sum_{k=1}^K \\hat{p}_{mk} . (1 - \\hat{p}_{mk})$$\n",
    "\n",
    "donde $\\hat{p}_{mk}$ representa la proporción de observaciones de entrenamiento en la m-ésima región que pertenecen a la k-ésima clase\n",
    "\n",
    "\n",
    "El índice de Gini\n",
    "\n",
    "* mide la varianza total a lo largo de las K clases para cada nodo terminal m. \n",
    "\n",
    "* toma valores chicos cuando las proporciones son cercanas a 1 ó 0. \n",
    "\n",
    "* **se considera como una medida de pureza** de los nodos terminales, un valor pequeño indica que un nodo contiene predominantemente observaciones de una misma clase. \n",
    "\n"
   ]
  },
  {
   "cell_type": "markdown",
   "metadata": {
    "slideshow": {
     "slide_type": "slide"
    }
   },
   "source": [
    "## Entropía\n",
    "\n",
    "--- \n",
    "\n",
    "$$D = - \\sum_{k = 1}^K{\\hat{p}_{mk} . log(\\hat{p}_{mk})}$$\n",
    "\n",
    "donde $\\hat{p}_{mk}$ representa la proporción de observaciones de entrenamiento en la m-ésima región que pertenecen a la k-ésima clase\n",
    "\n",
    "* Como el índice de Gini, la entropía tomará un valor pequeño si los nodos son \"puros\". \n",
    "\n",
    "* Cuando se construye un árbol de clasificación típicamente el Gini index o la entropía son usados para evaluar la calidad de una división en particular porque estas medidas son más sensibles a la pureza de los nodos que la tasa de error de clasificación.  \n"
   ]
  },
  {
   "cell_type": "markdown",
   "metadata": {
    "slideshow": {
     "slide_type": "slide"
    }
   },
   "source": [
    "<div class=\"div-dhds-fondo-1\"> Optimización\n",
    "<img src=\"https://raw.githubusercontent.com/Digital-House-DATA/ds_blend_2021_img/master/M5/CLASE_34_CART/Presentacion/img/M5_CLASE_34_separador.png\" align=\"center\" />\n",
    "\n",
    "</div>"
   ]
  },
  {
   "cell_type": "markdown",
   "metadata": {
    "slideshow": {
     "slide_type": "slide"
    }
   },
   "source": [
    "## Funciones de optimización\n",
    "\n",
    "---\n",
    "\n",
    "Si queremos clasificar según el color de las figuras, y podemos seleccionar por forma ó tamaño, ¿que partición conviene realizar?\n",
    "\n",
    "<img src=\"https://raw.githubusercontent.com/Digital-House-DATA/ds_blend_2021_img/master/M5/CLASE_34_CART/Presentacion/img/M5_CLASE_34_ejemplo.png\" align=\"center\" />\n",
    "\n",
    "En este caso conviene utilizar la forma, ya que así las particiones resultantes son más puras.\n"
   ]
  },
  {
   "cell_type": "markdown",
   "metadata": {
    "slideshow": {
     "slide_type": "slide"
    }
   },
   "source": [
    "### ¿Cómo determinamos la mejor división entre todas las divisiones posibles?\n",
    "\n",
    "---\n",
    "\n",
    "Considerando que no es necesario dividir cuando todos los registros pertenecen a la misma clase pura, en cada paso **buscaremos crear la partición con la pureza más alta posible**.\n",
    "\n",
    "Para hacer esto, necesitaremos una función objetivo para optimizar, que mida la **ganancia en pureza de una división particular**. \n",
    "\n",
    "Por lo tanto, queremos que dependa de la distribución de clases en los nodos (antes y después de la división). \n"
   ]
  },
  {
   "cell_type": "markdown",
   "metadata": {
    "slideshow": {
     "slide_type": "subslide"
    }
   },
   "source": [
    "<img src=\"https://raw.githubusercontent.com/Digital-House-DATA/ds_blend_2021_img/master/M5/CLASE_34_CART/Presentacion/img/M5_CLASE_34_funciones_optimizacion.png\" align=\"center\" />\n",
    "\n",
    "Las tres funciones tienen su máximo en 0.5 y sus mínimos en 0 y 1."
   ]
  },
  {
   "cell_type": "markdown",
   "metadata": {
    "slideshow": {
     "slide_type": "slide"
    }
   },
   "source": [
    "## Ganancia en árboles de clasificación\n",
    "\n",
    "---\n",
    "\n",
    "Las medidas de impureza por sí solas, no son suficientes para decirnos cómo funcionará la división. Todavía tenemos que **comparar la medida de impureza antes y después de la división**. Podemos hacer esta comparación usando la **ganancia**:\n",
    "\n",
    "$$\\Delta = I(padre) - \\sum_{j \\in hijos} \\frac{N_j}{N}. I(hijo_j) $$\n",
    "\n",
    "Donde \n",
    "\n",
    "* $I$ es la medida de impureza, \n",
    "* $N_j$ es el número de registros en el nodo hijo $j$ y \n",
    "* $N$ es el número de registros en el nodo padre.\n",
    "\n",
    "Cuando $I$ es la entropía, esta cantidad se llama **ganancia de información**.\n",
    "\n",
    "### ¿Qué propiedades debe satisfacer una medida de impureza?\n",
    "\n",
    "* Ser cero cuando hay una sola clase\n",
    "\n",
    "* Ser máxima cuando hay igual cantidad de observaciones de cada una de las clases\n",
    "\n"
   ]
  },
  {
   "cell_type": "markdown",
   "metadata": {
    "slideshow": {
     "slide_type": "slide"
    }
   },
   "source": [
    "## Ganancia en árboles de regresión\n",
    "\n",
    "---\n",
    "\n",
    "En el caso de regresión, la variable resultado no es una categoría sino un valor continuo. Por lo tanto, no podemos usar la misma medida de impureza que utilizamos para la clasificación.\n",
    "\n",
    "**Si el objetivo es predecir un valor numérico, la varianza de dicho valor en un nodo nos da una medida de impureza de dicho valor.**\n",
    "\n",
    "Utilizaremos el **Error Cuadrático Medio como medida de impureza** y la función a maximizar seguirá siendo la ganancia.\n",
    "\n",
    "$$\\Delta = ECM(padre) - \\sum_{j \\in hijos} \\frac{N_j}{N}. ECM(hijo_j) $$\n",
    "\n",
    "El objetivo es buscar la ganancia máxima, donde \n",
    "\n",
    "* $ECM$ es el Error Cuadrático Medio, \n",
    "* $N_j$ es el número de registros en el nodo hijo $j$ y \n",
    "* $N$ es el número de registros en el nodo padre\n",
    "\n",
    "Recordemos que $ECM = \\frac{1}{N} . \\sum ( predicted(x) - real(x) )^2 $"
   ]
  },
  {
   "cell_type": "markdown",
   "metadata": {
    "slideshow": {
     "slide_type": "slide"
    }
   },
   "source": [
    "## Poda\n",
    "\n",
    "---\n",
    "\n",
    "El proceso anterior puede producir buenas predicciones en el conjunto de entrenamiento pero es **probable que sobreajuste** estos datos. \n",
    "\n",
    "Esto ocurre porque el árbol resulta demasiado complejo. \n",
    "\n",
    "Un **árbol más pequeño**, con menos divisiones (menos regiones R1, .. RJ), podría tener **menos varianza** y ser más interpretable teniendo como costo un **mayor sesgo**. \n",
    "\n",
    "Hay dos maneras de podar un árbol: antes de armar el árbol completo (**pre-poda**) ó armar el árbol más grande posible y luego podarlo (**post-poda**). \n",
    "\n",
    "\n"
   ]
  },
  {
   "cell_type": "markdown",
   "metadata": {
    "slideshow": {
     "slide_type": "subslide"
    }
   },
   "source": [
    "### Pre-proda\n",
    "\n",
    "---\n",
    "\n",
    "Una técnica para evitar el overfitting es limitar el crecimiento del árbol. Esta técnica se llama pre-poda.\n",
    "\n",
    "Posibles criterios de pre-poda:\n",
    "\n",
    "* Reducción mínima de impureza\n",
    "\n",
    "* Establecer un límite máximo a la profundidad\n",
    "\n",
    "* Establecer un número mínimo de observaciones por hoja\n",
    "\n",
    "* Establecer un número máximo de hojas\n",
    "\n",
    "\n"
   ]
  },
  {
   "cell_type": "markdown",
   "metadata": {
    "slideshow": {
     "slide_type": "subslide"
    }
   },
   "source": [
    "### Post-poda\n",
    "\n",
    "---\n",
    "\n",
    "Otra técnica consiste en armar el árbol más grande posible $T_0$ y luego podarlo (post-poda). \n",
    "\n",
    "En lugar de considerar cada posible subárbol podríamos incluir una penalización por la complejidad regulada por un parámetro de tunning alpha no negativo. \n",
    "\n",
    "Para cada alpha se corresponde un subárbol  $T \\subset T_0$ tal que: \n",
    "\n",
    "$$\\sum_{m = 1} ^ {|T|} \\sum_{i: x_i \\in R_m}(y_i - \\hat{y}_{R_m})^2 + \\alpha |T|$$\n",
    "\n",
    "Donde\n",
    "\n",
    "* $m$ recorre las regiones (nodos terminales) definidas por el árbol\n",
    "\n",
    "* $i$ recorre todos las observaciones ($x_i$) en una región $m$ particular\n",
    "\n",
    "* $\\hat{y}_{R_m}$ es el estimador del valor de $y$ en una región $m$ particular\n",
    "\n",
    "* $|T|$ indica el número de nodos terminales del árbol. \n",
    "\n",
    "* $\\alpha$ es el parámetro de tunning que controla el trade-off entre la complejidad del subárbol y su ajuste a los datos de entrenamiento. \n",
    "\n",
    "Con $ \\alpha = 0$, el subárbol $T$ será igual a $T_0$. \n",
    "\n",
    "Al aumentar  $\\alpha$ el precio a pagar por tener más nodos terminales aumenta, y la expresión anterior se minimiza para un subárbol más pequeño. ¿Lasso?\n",
    "\n",
    "Podemos elegir $\\alpha$  usando cross validation, y luego entrenamos el subárbol correspondiente a ese valor de $\\alpha$.\n"
   ]
  },
  {
   "cell_type": "markdown",
   "metadata": {
    "slideshow": {
     "slide_type": "slide"
    }
   },
   "source": [
    "<div class=\"div-dhds-fondo-1\"> Conclusiones\n",
    "<img src=\"https://raw.githubusercontent.com/Digital-House-DATA/ds_blend_2021_img/master/M5/CLASE_34_CART/Presentacion/img/M5_CLASE_34_separador.png\" align=\"center\" />\n",
    "\n",
    "</div>"
   ]
  },
  {
   "cell_type": "markdown",
   "metadata": {
    "slideshow": {
     "slide_type": "slide"
    }
   },
   "source": [
    "## Conclusiones\n",
    "\n",
    "---\n",
    "\n",
    "### Ventajas\n",
    "\n",
    "* Los árboles son muy fáciles de explicar a las personas.\n",
    "\n",
    "* Parecen más cercanos a la forma en la que las personas toman decisiones \n",
    "\n",
    "* Pueden ser representados gráficamente, pueden ser interpretados por no expertos fácilmente (especialmente árboles pequeños)\n",
    "\n",
    "* Pueden manejar fácilmente predictores cualitativos sin necesidad de crear variables dummy.\n",
    "\n"
   ]
  },
  {
   "cell_type": "markdown",
   "metadata": {
    "slideshow": {
     "slide_type": "subslide"
    }
   },
   "source": [
    "### Desventajas\n",
    "\n",
    "* En general no tienen el mismo nivel de precisión en la predicción comparados con otros enfoques para regresión y clasificación vistos previamente. \n",
    "\n",
    "* Pueden ser poco robustos: un pequeño cambio en los datos puede generar un gran cambio el árbol final estimado. Sin embargo al combinar muchos árboles de decisión usando métodos como bagging, random forests, y boosting la performance predictiva de los árboles mejora sustancialmente. \n"
   ]
  },
  {
   "cell_type": "markdown",
   "metadata": {
    "slideshow": {
     "slide_type": "slide"
    }
   },
   "source": [
    "<div class=\"div-dhds-fondo-1\"> Hands-on\n",
    "<img src=\"https://raw.githubusercontent.com/Digital-House-DATA/ds_blend_2021_img/master/M5/CLASE_34_CART/Presentacion/img/M5_CLASE_34_separador.png\" align=\"center\" />\n",
    "\n",
    "</div>"
   ]
  },
  {
   "cell_type": "markdown",
   "metadata": {
    "slideshow": {
     "slide_type": "slide"
    }
   },
   "source": [
    "## Datos\n",
    "\n",
    "---\n",
    "\n",
    "Hitters.csv está disponible en la carpeta Data de esta clase.\n",
    "\n",
    "### Contexto\n",
    "\n",
    "Este conjunto de datos es parte del paquete R ISLR y se utiliza en el libro e G. James et al. (2013) \"Introducción al aprendizaje estadístico con aplicaciones en R\"\n",
    "\n",
    "### Contenido\n",
    "\n",
    "Este conjunto de datos se tomó originalmente de la biblioteca StatLib que se mantiene en la Universidad Carnegie Mellon. Los datos salariales fueron originalmente de Sports Illustrated, 20 de abril de 1987. Las estadísticas de 1986 y de carrera se obtuvieron de The 1987 Baseball Encyclopedia Update publicado por Collier Books, Macmillan Publishing Company, Nueva York.\n",
    "\n"
   ]
  },
  {
   "cell_type": "markdown",
   "metadata": {
    "slideshow": {
     "slide_type": "subslide"
    }
   },
   "source": [
    "\n",
    "### Formato\n",
    "\n",
    "El dataset tiene 322 observaciones de jugadores de Grandes Ligas sobre las siguientes 20 variables.\n",
    "\n",
    "* AtBat: Number of times at bat in 1986\n",
    "* Hits: Number of hits in 1986\n",
    "* HmRun: Number of home runs in 1986\n",
    "* Runs: Number of runs in 1986\n",
    "* RBI: Number of runs batted in in 1986\n",
    "* Walks: Number of walks in 1986\n",
    "* Years: Number of years in the major leagues\n",
    "* CAtBat: Number of times at bat during his career\n",
    "* CHits: Number of hits during his career\n",
    "* CHmRun: Number of home runs during his career\n",
    "* CRuns: Number of runs during his career\n",
    "* CRBI: Number of runs batted in during his career\n",
    "* CWalks: Number of walks during his career\n",
    "* League: A factor with levels A and N indicating player’s league at the end of 1986\n"
   ]
  },
  {
   "cell_type": "markdown",
   "metadata": {
    "slideshow": {
     "slide_type": "subslide"
    }
   },
   "source": [
    "* Division: A factor with levels E and W indicating player’s division at the end of 1986\n",
    "* PutOuts: Number of put outs in 1986\n",
    "* Assists: Number of assists in 1986\n",
    "* Errors: Number of errors in 1986\n",
    "* Salary: 1987 annual salary on opening day in thousands of dollars\n",
    "* NewLeague: A factor with levels A and N indicating player’s league at the beginning of 1987\n",
    "\n",
    "Games, G., Witten, D., Hastie, T., and Tibshirani, R. (2013) An Introduction to Statistical Learning with applications in R, www.StatLearning.com, Springer-Verlag, New York."
   ]
  },
  {
   "cell_type": "markdown",
   "metadata": {
    "slideshow": {
     "slide_type": "slide"
    }
   },
   "source": [
    "## Ejercicio \n",
    "---\n",
    "\n",
    "Dado el dataset Hitters, queremos predecir el valor del logaritmo de la variable Salary.\n",
    "\n",
    "Para eso:\n",
    "\n",
    "1. Eliminemos todos los registros con valores faltantes\n",
    "\n",
    "2. Creeemos \n",
    "\n",
    "    2.1 el conjuntos de features con todas las variables numéricas (para simplificar, eliminemos las variables categóricas \"League\", \"Division\", \"NewLeague\") y \n",
    "    \n",
    "    2.2 el vector target (log de Salary)\n",
    "\n",
    "3. Creemos los conjuntos de entrenamiento y test\n",
    "\n",
    "4. Usando un árbol de regresión (https://scikit-learn.org/stable/modules/generated/sklearn.tree.DecisionTreeRegressor.html), entrenemos el modelo usando los valores por default de los hiperparámetros\n"
   ]
  },
  {
   "cell_type": "markdown",
   "metadata": {
    "slideshow": {
     "slide_type": "subslide"
    }
   },
   "source": [
    "5. Grafiquemos dos scatterlot para ver que el modelo está sobreajustando los datos de entrenamiento\n",
    "\n",
    "    5.1 x = y_train, y = y_pred_train\n",
    "    \n",
    "    5.2 x = y_test, y = y_pred_test\n",
    "    \n",
    "6. Usemos el método `plot_tree` para graficar el árbol de regresión construido en 4 (my_tree).\n",
    "\n",
    "    <code>tree.plot_tree(my_tree,feature_names = X.columns,filled=True,rounded=True)\n",
    "    print()   \n",
    "    </code>\n",
    "\n",
    "7. Usemos grid search y cross validation con `neg_mean_squared_error` como métrica para determinar los mejores valores de los hiperparámetros \n",
    "\n",
    "    * ccp_alpha: entre 0 y 5 con paso 0.1\n",
    "\n",
    "    * max_depth: entre 1 y 9 con paso 1\n",
    "\n",
    "    * min_samples_split: entre 3 y 10 con paso 1\n",
    "\n",
    "8. Para verificar que se redujo el overfitting, repitamos los gráficos de punto 5 para el mejor modelo seleccionado en cross validation."
   ]
  },
  {
   "cell_type": "code",
   "execution_count": 3,
   "metadata": {
    "slideshow": {
     "slide_type": "slide"
    }
   },
   "outputs": [],
   "source": [
    "import pandas as pd\n",
    "import seaborn as sns\n",
    "from sklearn import tree\n",
    "from sklearn.model_selection import train_test_split, GridSearchCV, KFold, cross_val_score\n",
    "from sklearn.metrics import mean_squared_error\n"
   ]
  },
  {
   "cell_type": "markdown",
   "metadata": {
    "slideshow": {
     "slide_type": "slide"
    }
   },
   "source": [
    "## Solución\n",
    "\n",
    "---\n"
   ]
  },
  {
   "cell_type": "code",
   "execution_count": 4,
   "metadata": {
    "slideshow": {
     "slide_type": "fragment"
    }
   },
   "outputs": [],
   "source": [
    "import pandas as pd\n",
    "import seaborn as sns\n",
    "from sklearn import tree\n",
    "from sklearn.model_selection import train_test_split, GridSearchCV, KFold, cross_val_score\n",
    "from sklearn.metrics import mean_squared_error\n"
   ]
  },
  {
   "cell_type": "code",
   "execution_count": 5,
   "metadata": {
    "slideshow": {
     "slide_type": "slide"
    }
   },
   "outputs": [
    {
     "data": {
      "text/html": [
       "<div>\n",
       "<style scoped>\n",
       "    .dataframe tbody tr th:only-of-type {\n",
       "        vertical-align: middle;\n",
       "    }\n",
       "\n",
       "    .dataframe tbody tr th {\n",
       "        vertical-align: top;\n",
       "    }\n",
       "\n",
       "    .dataframe thead th {\n",
       "        text-align: right;\n",
       "    }\n",
       "</style>\n",
       "<table border=\"1\" class=\"dataframe\">\n",
       "  <thead>\n",
       "    <tr style=\"text-align: right;\">\n",
       "      <th></th>\n",
       "      <th>AtBat</th>\n",
       "      <th>Hits</th>\n",
       "      <th>HmRun</th>\n",
       "      <th>Runs</th>\n",
       "      <th>RBI</th>\n",
       "      <th>Walks</th>\n",
       "      <th>Years</th>\n",
       "      <th>CAtBat</th>\n",
       "      <th>CHits</th>\n",
       "      <th>CHmRun</th>\n",
       "      <th>CRuns</th>\n",
       "      <th>CRBI</th>\n",
       "      <th>CWalks</th>\n",
       "      <th>League</th>\n",
       "      <th>Division</th>\n",
       "      <th>PutOuts</th>\n",
       "      <th>Assists</th>\n",
       "      <th>Errors</th>\n",
       "      <th>Salary</th>\n",
       "      <th>NewLeague</th>\n",
       "    </tr>\n",
       "  </thead>\n",
       "  <tbody>\n",
       "    <tr>\n",
       "      <th>0</th>\n",
       "      <td>293</td>\n",
       "      <td>66</td>\n",
       "      <td>1</td>\n",
       "      <td>30</td>\n",
       "      <td>29</td>\n",
       "      <td>14</td>\n",
       "      <td>1</td>\n",
       "      <td>293</td>\n",
       "      <td>66</td>\n",
       "      <td>1</td>\n",
       "      <td>30</td>\n",
       "      <td>29</td>\n",
       "      <td>14</td>\n",
       "      <td>A</td>\n",
       "      <td>E</td>\n",
       "      <td>446</td>\n",
       "      <td>33</td>\n",
       "      <td>20</td>\n",
       "      <td>NaN</td>\n",
       "      <td>A</td>\n",
       "    </tr>\n",
       "    <tr>\n",
       "      <th>1</th>\n",
       "      <td>315</td>\n",
       "      <td>81</td>\n",
       "      <td>7</td>\n",
       "      <td>24</td>\n",
       "      <td>38</td>\n",
       "      <td>39</td>\n",
       "      <td>14</td>\n",
       "      <td>3449</td>\n",
       "      <td>835</td>\n",
       "      <td>69</td>\n",
       "      <td>321</td>\n",
       "      <td>414</td>\n",
       "      <td>375</td>\n",
       "      <td>N</td>\n",
       "      <td>W</td>\n",
       "      <td>632</td>\n",
       "      <td>43</td>\n",
       "      <td>10</td>\n",
       "      <td>475.0</td>\n",
       "      <td>N</td>\n",
       "    </tr>\n",
       "    <tr>\n",
       "      <th>2</th>\n",
       "      <td>479</td>\n",
       "      <td>130</td>\n",
       "      <td>18</td>\n",
       "      <td>66</td>\n",
       "      <td>72</td>\n",
       "      <td>76</td>\n",
       "      <td>3</td>\n",
       "      <td>1624</td>\n",
       "      <td>457</td>\n",
       "      <td>63</td>\n",
       "      <td>224</td>\n",
       "      <td>266</td>\n",
       "      <td>263</td>\n",
       "      <td>A</td>\n",
       "      <td>W</td>\n",
       "      <td>880</td>\n",
       "      <td>82</td>\n",
       "      <td>14</td>\n",
       "      <td>480.0</td>\n",
       "      <td>A</td>\n",
       "    </tr>\n",
       "    <tr>\n",
       "      <th>3</th>\n",
       "      <td>496</td>\n",
       "      <td>141</td>\n",
       "      <td>20</td>\n",
       "      <td>65</td>\n",
       "      <td>78</td>\n",
       "      <td>37</td>\n",
       "      <td>11</td>\n",
       "      <td>5628</td>\n",
       "      <td>1575</td>\n",
       "      <td>225</td>\n",
       "      <td>828</td>\n",
       "      <td>838</td>\n",
       "      <td>354</td>\n",
       "      <td>N</td>\n",
       "      <td>E</td>\n",
       "      <td>200</td>\n",
       "      <td>11</td>\n",
       "      <td>3</td>\n",
       "      <td>500.0</td>\n",
       "      <td>N</td>\n",
       "    </tr>\n",
       "    <tr>\n",
       "      <th>4</th>\n",
       "      <td>321</td>\n",
       "      <td>87</td>\n",
       "      <td>10</td>\n",
       "      <td>39</td>\n",
       "      <td>42</td>\n",
       "      <td>30</td>\n",
       "      <td>2</td>\n",
       "      <td>396</td>\n",
       "      <td>101</td>\n",
       "      <td>12</td>\n",
       "      <td>48</td>\n",
       "      <td>46</td>\n",
       "      <td>33</td>\n",
       "      <td>N</td>\n",
       "      <td>E</td>\n",
       "      <td>805</td>\n",
       "      <td>40</td>\n",
       "      <td>4</td>\n",
       "      <td>91.5</td>\n",
       "      <td>N</td>\n",
       "    </tr>\n",
       "  </tbody>\n",
       "</table>\n",
       "</div>"
      ],
      "text/plain": [
       "   AtBat  Hits  HmRun  Runs  RBI  Walks  Years  CAtBat  CHits  CHmRun  CRuns  \\\n",
       "0    293    66      1    30   29     14      1     293     66       1     30   \n",
       "1    315    81      7    24   38     39     14    3449    835      69    321   \n",
       "2    479   130     18    66   72     76      3    1624    457      63    224   \n",
       "3    496   141     20    65   78     37     11    5628   1575     225    828   \n",
       "4    321    87     10    39   42     30      2     396    101      12     48   \n",
       "\n",
       "   CRBI  CWalks League Division  PutOuts  Assists  Errors  Salary NewLeague  \n",
       "0    29      14      A        E      446       33      20     NaN         A  \n",
       "1   414     375      N        W      632       43      10   475.0         N  \n",
       "2   266     263      A        W      880       82      14   480.0         A  \n",
       "3   838     354      N        E      200       11       3   500.0         N  \n",
       "4    46      33      N        E      805       40       4    91.5         N  "
      ]
     },
     "execution_count": 5,
     "metadata": {},
     "output_type": "execute_result"
    }
   ],
   "source": [
    "data = pd.read_csv(\"../Data/Hitters.csv\")\n",
    "data.head()"
   ]
  },
  {
   "cell_type": "markdown",
   "metadata": {
    "slideshow": {
     "slide_type": "slide"
    }
   },
   "source": [
    "1. "
   ]
  },
  {
   "cell_type": "code",
   "execution_count": 6,
   "metadata": {
    "slideshow": {
     "slide_type": "fragment"
    }
   },
   "outputs": [
    {
     "name": "stdout",
     "output_type": "stream",
     "text": [
      "(322, 20)\n",
      "(263, 20)\n"
     ]
    }
   ],
   "source": [
    "print(data.shape)\n",
    "data_complete = data.dropna()\n",
    "print(data_complete.shape)"
   ]
  },
  {
   "cell_type": "markdown",
   "metadata": {
    "slideshow": {
     "slide_type": "slide"
    }
   },
   "source": [
    "2. "
   ]
  },
  {
   "cell_type": "code",
   "execution_count": 7,
   "metadata": {
    "slideshow": {
     "slide_type": "fragment"
    }
   },
   "outputs": [
    {
     "name": "stdout",
     "output_type": "stream",
     "text": [
      "(263, 16)\n"
     ]
    },
    {
     "data": {
      "text/html": [
       "<div>\n",
       "<style scoped>\n",
       "    .dataframe tbody tr th:only-of-type {\n",
       "        vertical-align: middle;\n",
       "    }\n",
       "\n",
       "    .dataframe tbody tr th {\n",
       "        vertical-align: top;\n",
       "    }\n",
       "\n",
       "    .dataframe thead th {\n",
       "        text-align: right;\n",
       "    }\n",
       "</style>\n",
       "<table border=\"1\" class=\"dataframe\">\n",
       "  <thead>\n",
       "    <tr style=\"text-align: right;\">\n",
       "      <th></th>\n",
       "      <th>AtBat</th>\n",
       "      <th>Hits</th>\n",
       "      <th>HmRun</th>\n",
       "      <th>Runs</th>\n",
       "      <th>RBI</th>\n",
       "      <th>Walks</th>\n",
       "      <th>Years</th>\n",
       "      <th>CAtBat</th>\n",
       "      <th>CHits</th>\n",
       "      <th>CHmRun</th>\n",
       "      <th>CRuns</th>\n",
       "      <th>CRBI</th>\n",
       "      <th>CWalks</th>\n",
       "      <th>PutOuts</th>\n",
       "      <th>Assists</th>\n",
       "      <th>Errors</th>\n",
       "    </tr>\n",
       "  </thead>\n",
       "  <tbody>\n",
       "    <tr>\n",
       "      <th>1</th>\n",
       "      <td>315</td>\n",
       "      <td>81</td>\n",
       "      <td>7</td>\n",
       "      <td>24</td>\n",
       "      <td>38</td>\n",
       "      <td>39</td>\n",
       "      <td>14</td>\n",
       "      <td>3449</td>\n",
       "      <td>835</td>\n",
       "      <td>69</td>\n",
       "      <td>321</td>\n",
       "      <td>414</td>\n",
       "      <td>375</td>\n",
       "      <td>632</td>\n",
       "      <td>43</td>\n",
       "      <td>10</td>\n",
       "    </tr>\n",
       "    <tr>\n",
       "      <th>2</th>\n",
       "      <td>479</td>\n",
       "      <td>130</td>\n",
       "      <td>18</td>\n",
       "      <td>66</td>\n",
       "      <td>72</td>\n",
       "      <td>76</td>\n",
       "      <td>3</td>\n",
       "      <td>1624</td>\n",
       "      <td>457</td>\n",
       "      <td>63</td>\n",
       "      <td>224</td>\n",
       "      <td>266</td>\n",
       "      <td>263</td>\n",
       "      <td>880</td>\n",
       "      <td>82</td>\n",
       "      <td>14</td>\n",
       "    </tr>\n",
       "    <tr>\n",
       "      <th>3</th>\n",
       "      <td>496</td>\n",
       "      <td>141</td>\n",
       "      <td>20</td>\n",
       "      <td>65</td>\n",
       "      <td>78</td>\n",
       "      <td>37</td>\n",
       "      <td>11</td>\n",
       "      <td>5628</td>\n",
       "      <td>1575</td>\n",
       "      <td>225</td>\n",
       "      <td>828</td>\n",
       "      <td>838</td>\n",
       "      <td>354</td>\n",
       "      <td>200</td>\n",
       "      <td>11</td>\n",
       "      <td>3</td>\n",
       "    </tr>\n",
       "    <tr>\n",
       "      <th>4</th>\n",
       "      <td>321</td>\n",
       "      <td>87</td>\n",
       "      <td>10</td>\n",
       "      <td>39</td>\n",
       "      <td>42</td>\n",
       "      <td>30</td>\n",
       "      <td>2</td>\n",
       "      <td>396</td>\n",
       "      <td>101</td>\n",
       "      <td>12</td>\n",
       "      <td>48</td>\n",
       "      <td>46</td>\n",
       "      <td>33</td>\n",
       "      <td>805</td>\n",
       "      <td>40</td>\n",
       "      <td>4</td>\n",
       "    </tr>\n",
       "    <tr>\n",
       "      <th>5</th>\n",
       "      <td>594</td>\n",
       "      <td>169</td>\n",
       "      <td>4</td>\n",
       "      <td>74</td>\n",
       "      <td>51</td>\n",
       "      <td>35</td>\n",
       "      <td>11</td>\n",
       "      <td>4408</td>\n",
       "      <td>1133</td>\n",
       "      <td>19</td>\n",
       "      <td>501</td>\n",
       "      <td>336</td>\n",
       "      <td>194</td>\n",
       "      <td>282</td>\n",
       "      <td>421</td>\n",
       "      <td>25</td>\n",
       "    </tr>\n",
       "  </tbody>\n",
       "</table>\n",
       "</div>"
      ],
      "text/plain": [
       "   AtBat  Hits  HmRun  Runs  RBI  Walks  Years  CAtBat  CHits  CHmRun  CRuns  \\\n",
       "1    315    81      7    24   38     39     14    3449    835      69    321   \n",
       "2    479   130     18    66   72     76      3    1624    457      63    224   \n",
       "3    496   141     20    65   78     37     11    5628   1575     225    828   \n",
       "4    321    87     10    39   42     30      2     396    101      12     48   \n",
       "5    594   169      4    74   51     35     11    4408   1133      19    501   \n",
       "\n",
       "   CRBI  CWalks  PutOuts  Assists  Errors  \n",
       "1   414     375      632       43      10  \n",
       "2   266     263      880       82      14  \n",
       "3   838     354      200       11       3  \n",
       "4    46      33      805       40       4  \n",
       "5   336     194      282      421      25  "
      ]
     },
     "execution_count": 7,
     "metadata": {},
     "output_type": "execute_result"
    }
   ],
   "source": [
    "columns = [ x for x in data_complete.columns if x not in [\"Salary\",  \"League\", \"Division\", \"NewLeague\"]]\n",
    "X = data_complete.loc[:, columns]\n",
    "print(X.shape)\n",
    "X.head()"
   ]
  },
  {
   "cell_type": "code",
   "execution_count": 8,
   "metadata": {
    "slideshow": {
     "slide_type": "subslide"
    }
   },
   "outputs": [
    {
     "name": "stdout",
     "output_type": "stream",
     "text": [
      "(263,)\n"
     ]
    },
    {
     "data": {
      "text/plain": [
       "1    6.163315\n",
       "2    6.173786\n",
       "3    6.214608\n",
       "4    4.516339\n",
       "5    6.620073\n",
       "Name: Salary, dtype: float64"
      ]
     },
     "execution_count": 8,
     "metadata": {},
     "output_type": "execute_result"
    }
   ],
   "source": [
    "y =  np.log(data_complete.loc[:, 'Salary'])\n",
    "print(y.shape)\n",
    "y.head()"
   ]
  },
  {
   "cell_type": "markdown",
   "metadata": {
    "slideshow": {
     "slide_type": "slide"
    }
   },
   "source": [
    "3. "
   ]
  },
  {
   "cell_type": "code",
   "execution_count": 9,
   "metadata": {
    "slideshow": {
     "slide_type": "fragment"
    }
   },
   "outputs": [],
   "source": [
    "X_train, X_test, y_train, y_test = train_test_split(X, y, test_size=0.3, random_state=127)"
   ]
  },
  {
   "cell_type": "markdown",
   "metadata": {
    "slideshow": {
     "slide_type": "slide"
    }
   },
   "source": [
    "4. "
   ]
  },
  {
   "cell_type": "code",
   "execution_count": 10,
   "metadata": {
    "slideshow": {
     "slide_type": "fragment"
    }
   },
   "outputs": [
    {
     "data": {
      "text/plain": [
       "DecisionTreeRegressor(random_state=40)"
      ]
     },
     "execution_count": 10,
     "metadata": {},
     "output_type": "execute_result"
    }
   ],
   "source": [
    "my_tree = tree.DecisionTreeRegressor(random_state=40)\n",
    "my_tree.fit(X_train, y_train)"
   ]
  },
  {
   "cell_type": "markdown",
   "metadata": {
    "slideshow": {
     "slide_type": "slide"
    }
   },
   "source": [
    "5."
   ]
  },
  {
   "cell_type": "code",
   "execution_count": 11,
   "metadata": {
    "slideshow": {
     "slide_type": "fragment"
    }
   },
   "outputs": [],
   "source": [
    "y_train_pred = my_tree.predict(X_train)\n",
    "y_test_pred = my_tree.predict(X_test)"
   ]
  },
  {
   "cell_type": "code",
   "execution_count": 12,
   "metadata": {
    "slideshow": {
     "slide_type": "fragment"
    }
   },
   "outputs": [
    {
     "data": {
      "text/plain": [
       "0.0"
      ]
     },
     "execution_count": 12,
     "metadata": {},
     "output_type": "execute_result"
    }
   ],
   "source": [
    "mean_squared_error(y_train, y_train_pred) "
   ]
  },
  {
   "cell_type": "code",
   "execution_count": 13,
   "metadata": {
    "slideshow": {
     "slide_type": "fragment"
    }
   },
   "outputs": [
    {
     "data": {
      "text/plain": [
       "0.387171197540024"
      ]
     },
     "execution_count": 13,
     "metadata": {},
     "output_type": "execute_result"
    }
   ],
   "source": [
    "mean_squared_error(y_test, y_test_pred) "
   ]
  },
  {
   "cell_type": "code",
   "execution_count": 14,
   "metadata": {
    "slideshow": {
     "slide_type": "subslide"
    }
   },
   "outputs": [
    {
     "data": {
      "text/plain": [
       "<AxesSubplot:xlabel='Salary'>"
      ]
     },
     "execution_count": 14,
     "metadata": {},
     "output_type": "execute_result"
    }
   ],
   "source": [
    "sns.scatterplot(x = y_train, y = y_train_pred);\n",
    "sns.lineplot(x=[4,7.5], y =[4, 7.5], color=\"green\")"
   ]
  },
  {
   "cell_type": "code",
   "execution_count": 15,
   "metadata": {
    "slideshow": {
     "slide_type": "subslide"
    }
   },
   "outputs": [
    {
     "data": {
      "text/plain": [
       "<AxesSubplot:xlabel='Salary'>"
      ]
     },
     "execution_count": 15,
     "metadata": {},
     "output_type": "execute_result"
    }
   ],
   "source": [
    "sns.scatterplot(x = y_test, y = y_test_pred)\n",
    "sns.lineplot(x=[4,7.5], y =[4, 7.5], color=\"green\")\n"
   ]
  },
  {
   "cell_type": "markdown",
   "metadata": {
    "slideshow": {
     "slide_type": "slide"
    }
   },
   "source": [
    "6.\n",
    "\n",
    "Observemos la complejidad del árbol resultado (no importa que no se vea en detalle, sólo es relevante la cantidad de nodos y la altura del modelo)"
   ]
  },
  {
   "cell_type": "code",
   "execution_count": 16,
   "metadata": {
    "slideshow": {
     "slide_type": "fragment"
    }
   },
   "outputs": [
    {
     "name": "stdout",
     "output_type": "stream",
     "text": [
      "\n"
     ]
    }
   ],
   "source": [
    "tree.plot_tree(my_tree,feature_names = X.columns,filled=True,rounded=True)\n",
    "print()"
   ]
  },
  {
   "cell_type": "markdown",
   "metadata": {
    "slideshow": {
     "slide_type": "slide"
    }
   },
   "source": [
    "7.\n",
    "\n",
    "Cross validation"
   ]
  },
  {
   "cell_type": "code",
   "execution_count": 17,
   "metadata": {
    "slideshow": {
     "slide_type": "fragment"
    }
   },
   "outputs": [
    {
     "name": "stdout",
     "output_type": "stream",
     "text": [
      "{'ccp_alpha': array([0. , 0.1, 0.2, 0.3, 0.4, 0.5, 0.6, 0.7, 0.8, 0.9, 1. , 1.1, 1.2,\n",
      "       1.3, 1.4, 1.5, 1.6, 1.7, 1.8, 1.9, 2. , 2.1, 2.2, 2.3, 2.4, 2.5,\n",
      "       2.6, 2.7, 2.8, 2.9, 3. , 3.1, 3.2, 3.3, 3.4, 3.5, 3.6, 3.7, 3.8,\n",
      "       3.9, 4. , 4.1, 4.2, 4.3, 4.4, 4.5, 4.6, 4.7, 4.8, 4.9, 5. ]), 'max_depth': array([1, 2, 3, 4, 5, 6, 7, 8, 9]), 'min_samples_split': array([ 3,  4,  5,  6,  7,  8,  9, 10])}\n"
     ]
    }
   ],
   "source": [
    "alpha_range = np.arange(0.0, 5.1, 0.1)\n",
    "max_depth_range = np.arange(1, 10, 1)\n",
    "min_samples_split_range = np.arange(3, 11, 1)\n",
    "param_grid = dict(ccp_alpha = alpha_range, \n",
    "                 max_depth = max_depth_range,\n",
    "                 min_samples_split = min_samples_split_range)\n",
    "print(param_grid)"
   ]
  },
  {
   "cell_type": "code",
   "execution_count": 18,
   "metadata": {
    "slideshow": {
     "slide_type": "subslide"
    }
   },
   "outputs": [],
   "source": [
    "folds = KFold(n_splits=10, random_state=17, shuffle=True)"
   ]
  },
  {
   "cell_type": "code",
   "execution_count": 19,
   "metadata": {
    "slideshow": {
     "slide_type": "fragment"
    }
   },
   "outputs": [],
   "source": [
    "grid = GridSearchCV(my_tree, param_grid, cv = folds, scoring = 'neg_mean_squared_error')"
   ]
  },
  {
   "cell_type": "code",
   "execution_count": 20,
   "metadata": {
    "slideshow": {
     "slide_type": "fragment"
    }
   },
   "outputs": [
    {
     "data": {
      "text/plain": [
       "GridSearchCV(cv=KFold(n_splits=10, random_state=17, shuffle=True),\n",
       "             estimator=DecisionTreeRegressor(random_state=40),\n",
       "             param_grid={'ccp_alpha': array([0. , 0.1, 0.2, 0.3, 0.4, 0.5, 0.6, 0.7, 0.8, 0.9, 1. , 1.1, 1.2,\n",
       "       1.3, 1.4, 1.5, 1.6, 1.7, 1.8, 1.9, 2. , 2.1, 2.2, 2.3, 2.4, 2.5,\n",
       "       2.6, 2.7, 2.8, 2.9, 3. , 3.1, 3.2, 3.3, 3.4, 3.5, 3.6, 3.7, 3.8,\n",
       "       3.9, 4. , 4.1, 4.2, 4.3, 4.4, 4.5, 4.6, 4.7, 4.8, 4.9, 5. ]),\n",
       "                         'max_depth': array([1, 2, 3, 4, 5, 6, 7, 8, 9]),\n",
       "                         'min_samples_split': array([ 3,  4,  5,  6,  7,  8,  9, 10])},\n",
       "             scoring='neg_mean_squared_error')"
      ]
     },
     "execution_count": 20,
     "metadata": {},
     "output_type": "execute_result"
    }
   ],
   "source": [
    "grid.fit(X_train, y_train)"
   ]
  },
  {
   "cell_type": "code",
   "execution_count": 21,
   "metadata": {
    "slideshow": {
     "slide_type": "subslide"
    }
   },
   "outputs": [
    {
     "data": {
      "text/plain": [
       "{'ccp_alpha': 0.0, 'max_depth': 3, 'min_samples_split': 3}"
      ]
     },
     "execution_count": 21,
     "metadata": {},
     "output_type": "execute_result"
    }
   ],
   "source": [
    "grid.best_params_"
   ]
  },
  {
   "cell_type": "code",
   "execution_count": 22,
   "metadata": {
    "slideshow": {
     "slide_type": "fragment"
    }
   },
   "outputs": [],
   "source": [
    "my_best_tree = grid.best_estimator_"
   ]
  },
  {
   "cell_type": "code",
   "execution_count": 23,
   "metadata": {
    "slideshow": {
     "slide_type": "fragment"
    }
   },
   "outputs": [],
   "source": [
    "y_train_pred = my_best_tree.predict(X_train)\n",
    "y_test_pred = my_best_tree.predict(X_test)"
   ]
  },
  {
   "cell_type": "code",
   "execution_count": 24,
   "metadata": {
    "slideshow": {
     "slide_type": "subslide"
    }
   },
   "outputs": [
    {
     "data": {
      "text/plain": [
       "0.13393153469029598"
      ]
     },
     "execution_count": 24,
     "metadata": {},
     "output_type": "execute_result"
    }
   ],
   "source": [
    "mean_squared_error(y_train, y_train_pred) "
   ]
  },
  {
   "cell_type": "code",
   "execution_count": 25,
   "metadata": {
    "slideshow": {
     "slide_type": "subslide"
    }
   },
   "outputs": [
    {
     "data": {
      "text/plain": [
       "0.25386123708950886"
      ]
     },
     "execution_count": 25,
     "metadata": {},
     "output_type": "execute_result"
    }
   ],
   "source": [
    "mean_squared_error(y_test, y_test_pred) "
   ]
  },
  {
   "cell_type": "markdown",
   "metadata": {
    "slideshow": {
     "slide_type": "slide"
    }
   },
   "source": [
    "8. "
   ]
  },
  {
   "cell_type": "code",
   "execution_count": 26,
   "metadata": {
    "slideshow": {
     "slide_type": "fragment"
    }
   },
   "outputs": [
    {
     "data": {
      "text/plain": [
       "<AxesSubplot:xlabel='Salary'>"
      ]
     },
     "execution_count": 26,
     "metadata": {},
     "output_type": "execute_result"
    }
   ],
   "source": [
    "sns.scatterplot(x = y_train, y = y_train_pred);\n",
    "sns.lineplot(x=[4,7.5], y =[4, 7.5], color=\"green\")"
   ]
  },
  {
   "cell_type": "code",
   "execution_count": 27,
   "metadata": {
    "slideshow": {
     "slide_type": "subslide"
    }
   },
   "outputs": [
    {
     "data": {
      "text/plain": [
       "<AxesSubplot:xlabel='Salary'>"
      ]
     },
     "execution_count": 27,
     "metadata": {},
     "output_type": "execute_result"
    }
   ],
   "source": [
    "sns.scatterplot(x = y_test, y = y_test_pred);\n",
    "sns.lineplot(x=[4,7.5], y =[4, 7.5], color=\"green\")"
   ]
  },
  {
   "cell_type": "code",
   "execution_count": 28,
   "metadata": {
    "slideshow": {
     "slide_type": "subslide"
    }
   },
   "outputs": [
    {
     "data": {
      "image/png": "[encoded data removed]",
      "text/plain": [
       "<Figure size 640x480 with 1 Axes>"
      ]
     },
     "metadata": {},
     "output_type": "display_data"
    },
    {
     "data": {
      "image/png": "[encoded data removed]",
      "text/plain": [
       "<Figure size 1200x600 with 1 Axes>"
      ]
     },
     "metadata": {},
     "output_type": "display_data"
    }
   ],
   "source": [
    "plt.figure(figsize=(12,6))\n",
    "tree.plot_tree(my_best_tree,feature_names = X.columns,filled=True,rounded=True, fontsize = 10)\n",
    "plt.show()"
   ]
  },
  {
   "cell_type": "markdown",
   "metadata": {
    "slideshow": {
     "slide_type": "slide"
    }
   },
   "source": [
    "<div class=\"div-dhds-fondo-1\"> Referencias y Material Adicional\n",
    "<img src=\"https://raw.githubusercontent.com/Digital-House-DATA/ds_blend_2021_img/master/M5/CLASE_34_CART/Presentacion/img/M5_CLASE_34_separador.png\" align=\"center\" />\n",
    "\n",
    "</div>"
   ]
  },
  {
   "cell_type": "markdown",
   "metadata": {
    "slideshow": {
     "slide_type": "slide"
    }
   },
   "source": [
    "## Referencias\n",
    "\n",
    "---\n",
    "\n",
    "<a href=\"https://www.statlearning.com/\" target=\"_blank\">An Introduction to Statistical Learning: with Applications in R, Chapter 8</a> (gratis!)\n",
    "\n",
    "<a href=\"https://www.kaggle.com/mathchi/hitters-baseball-data\" target=\"_blank\">Dataset Hitters</a>\n",
    "\n",
    "<a href=\"https://www.kaggle.com/tanercam/salary-prediction-project-of-us-baseball-player/data?select=Hitters.csv\" target=\"_blank\">Ejemplo de regresión lineal y regularización con Hitters</a>\n",
    "\n",
    "https://laptrinhx.com/machine-learning-decision-tree-classification-2946896101/\n",
    "\n",
    "http://www.stats.ox.ac.uk/~flaxman/HT17_lecture13.pdf"
   ]
  }
 ],
 "metadata": {
  "kernelspec": {
   "display_name": "Python [conda env:dhdsblend2021] *",
   "language": "python",
   "name": "conda-env-dhdsblend2021-py"
  },
  "language_info": {
   "codemirror_mode": {
    "name": "ipython",
    "version": 3
   },
   "file_extension": ".py",
   "mimetype": "text/x-python",
   "name": "python",
   "nbconvert_exporter": "python",
   "pygments_lexer": "ipython3",
   "version": "3.8.11"
  }
 },
 "nbformat": 4,
 "nbformat_minor": 4
}
