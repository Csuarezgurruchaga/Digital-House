{
 "cells": [
  {
   "cell_type": "code",
   "execution_count": 1,
   "metadata": {},
   "outputs": [
    {
     "name": "stdout",
     "output_type": "stream",
     "text": [
      "/Users/csuarezgurruchaga/Desktop/Digital-House/CLASE_51/dsad_2021/common\n",
      "default checking\n",
      "Running command `conda list`... ok\n",
      "jupyterlab=2.2.6 already installed\n",
      "pandas=1.3.0 already installed\n",
      "bokeh=2.2.3 already installed\n",
      "seaborn=0.11.0 already installed\n",
      "matplotlib=3.3.2 already installed\n",
      "ipywidgets=7.5.1 already installed\n",
      "pytest=6.2.1 already installed\n",
      "chardet=4.0.0 already installed\n",
      "psutil=5.7.2 already installed\n",
      "scipy=1.5.2 already installed\n",
      "statsmodels=0.12.1 already installed\n",
      "scikit-learn=0.23.2 already installed\n",
      "xlrd=2.0.1 already installed\n",
      "nltk=3.5 already installed\n",
      "unidecode=1.1.1 already installed\n",
      "pydotplus=2.0.2 already installed\n",
      "pandas-datareader=0.10.0 already installed\n",
      "flask=1.1.2 already installed\n"
     ]
    }
   ],
   "source": [
    "# initial setup\n",
    "%run \"../../../common/0_notebooks_base_setup.py\"\n"
   ]
  },
  {
   "cell_type": "markdown",
   "metadata": {},
   "source": [
    "<img src='../../../common/logo_DH.png' align='left' width=35%/>"
   ]
  },
  {
   "cell_type": "markdown",
   "metadata": {},
   "source": [
    "# APIs - Práctica independiente\n",
    "\n",
    "\n",
    "#### En esta práctica independiente vamos a utilizar la práctica 3 (Mercadolibre) para generar un dataset y efectuar una predicción. "
   ]
  },
  {
   "cell_type": "markdown",
   "metadata": {},
   "source": [
    "Para realizar esta práctica, ejecuten la tercera práctica guiada, utilizando una búsqueda que les resulte de interés para generar el DataFrame. \n",
    "\n",
    "Pueden elegir como target regresionar el precio de la publicación, o la cantidad de unidades vendidas, y usar el target que no seleccionen como feature en su modelo.\n",
    "\n",
    "**NOTA:** No pidan más de 10000 datos totales para no tener conflictos con los límites de la API, no pidan menos de 500 para poder modelar de forma sencilla."
   ]
  },
  {
   "cell_type": "markdown",
   "metadata": {},
   "source": [
    "### 1. Importamos los datos\n",
    "\n",
    "Vamos a usar esta celda con un input para poder ingresar manualmente la búsqueda que hicimos en la práctica anterior. La búsqueda puede ser cualquier producto que les resulte interesante, sólo recuerden usar el mismo que usaron para generar el dataset!\n",
    "\n",
    "Ejemplo: iphone 11"
   ]
  },
  {
   "cell_type": "code",
   "execution_count": null,
   "metadata": {},
   "outputs": [],
   "source": [
    "import pandas as pd\n",
    "\n",
    "# Lectura del DataFrame\n",
    "search = input(\"Inserten la búsqueda utilizada para generar el DataFrame:\")\n",
    "df = pd.read_csv(f\"../Data/{search.lower().replace(' ', '_')}_meli.csv\")"
   ]
  },
  {
   "cell_type": "markdown",
   "metadata": {},
   "source": [
    "### 2. Identificamos columnas numéricas y categóricas\n",
    "\n",
    "El objetivo de este ejercicio es seleccionar columnas categóricas y numéricas. Vamos a identificarlas, de manera de poder armar un preprocesamiento acorde para cada una. **BONUS:** Identificar columnas de texto y pensar una solución que incluya text mining para nuestro pipeline final."
   ]
  },
  {
   "cell_type": "code",
   "execution_count": null,
   "metadata": {},
   "outputs": [],
   "source": []
  },
  {
   "cell_type": "markdown",
   "metadata": {},
   "source": [
    "### 3. Planteamos la FeatureUnion para nuestras distintas variables\n",
    "\n",
    "Armemos un Pipeline de preprocesamiento para cada tipo de variable, y usemos FeatureUnion para unir los resultados."
   ]
  },
  {
   "cell_type": "code",
   "execution_count": null,
   "metadata": {},
   "outputs": [],
   "source": []
  },
  {
   "cell_type": "markdown",
   "metadata": {},
   "source": [
    "### 4. Armamos nuestro Pipeline\n",
    "\n",
    "Generemos un Pipeline que tome como paso el FeatureUnion del ejercicio anterior."
   ]
  },
  {
   "cell_type": "code",
   "execution_count": null,
   "metadata": {},
   "outputs": [],
   "source": []
  },
  {
   "cell_type": "markdown",
   "metadata": {},
   "source": [
    "### 5. Utilizamos Gridsearch para tunear hiperparámetros\n",
    "Vamos a terminar esta práctica haciendo un tuneo para el Pipeline final. Intentemos maximizar nuestro $R^2$!"
   ]
  },
  {
   "cell_type": "code",
   "execution_count": null,
   "metadata": {},
   "outputs": [],
   "source": []
  }
 ],
 "metadata": {
  "kernelspec": {
   "display_name": "Python [conda env:dhdsblend2021] *",
   "language": "python",
   "name": "conda-env-dhdsblend2021-py"
  },
  "language_info": {
   "codemirror_mode": {
    "name": "ipython",
    "version": 3
   },
   "file_extension": ".py",
   "mimetype": "text/x-python",
   "name": "python",
   "nbconvert_exporter": "python",
   "pygments_lexer": "ipython3",
   "version": "3.8.11"
  }
 },
 "nbformat": 4,
 "nbformat_minor": 4
}
