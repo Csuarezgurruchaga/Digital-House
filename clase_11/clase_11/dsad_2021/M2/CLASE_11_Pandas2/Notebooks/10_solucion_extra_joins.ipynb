{
 "cells": [
  {
   "cell_type": "code",
   "execution_count": 1,
   "metadata": {},
   "outputs": [
    {
     "name": "stdout",
     "output_type": "stream",
     "text": [
      "/Users/csuarezgurruchaga/Desktop/Digital-House/clase_11/clase_11/dsad_2021/common\n",
      "default checking\n",
      "Running command `conda list`... ok\n",
      "jupyterlab=2.2.6 already installed\n",
      "pandas=1.1.5 already installed\n",
      "bokeh=2.2.3 already installed\n",
      "seaborn=0.11.0 already installed\n",
      "matplotlib=3.3.2 already installed\n",
      "ipywidgets=7.5.1 already installed\n",
      "pytest=6.2.1 already installed\n",
      "chardet=4.0.0 already installed\n",
      "psutil=5.7.2 already installed\n",
      "scipy=1.5.2 already installed\n",
      "statsmodels=0.12.1 already installed\n",
      "scikit-learn=0.23.2 already installed\n",
      "xlrd=2.0.1 already installed\n",
      "Running command `conda install --yes nltk=3.5.0`... ok\n",
      "Collecting package metadata (current_repodata.json): ...working... done\n",
      "Solving environment: ...working... done\n",
      "\n",
      "# All requested packages already installed.\n",
      "\n",
      "\n",
      "unidecode=1.1.1 already installed\n",
      "pydotplus=2.0.2 already installed\n",
      "pandas-datareader=0.9.0 already installed\n",
      "flask=1.1.2 already installed\n"
     ]
    }
   ],
   "source": [
    "# initial setup\n",
    "%run \"../../../common/0_notebooks_base_setup.py\"\n"
   ]
  },
  {
   "cell_type": "markdown",
   "metadata": {},
   "source": [
    "---\n",
    "\n",
    "<img src='../../../common/logo_DH.png' align='left' width=35%/>\n"
   ]
  },
  {
   "cell_type": "markdown",
   "metadata": {},
   "source": [
    "# Práctica adicional sobre joins con pandas\n",
    "\n",
    "\n",
    "Trabajaremos con un dataset de campañas de marketing. El mismo está representado por un conjunto de tablas relacionales:\n",
    "\n",
    "* train: relaciona id de consumidores, cupones de descuento, campaña de marketing y contiene la variable target 'redemption_status', que dice si el cupón fue canjeado o no.\n",
    "\n",
    "* campaign data: fecha de inicio y finalización de la campaña y tipo de campaña\n",
    "\n",
    "* customer_demographics: rango etareo, estado civil, tamaño de la familia, nro de hijos, nivel de ingresos, propietario/inquilino/hipoteca\n",
    "\n",
    "* coupon_item_mapping: cada cupón da beneficios sobre distintos items\n",
    "\n",
    "* item_data: marca, tipo de marca y categoría del item\n",
    "\n",
    "* customer_transaction_data: datos sobre las compras hechas por los consumidores. No sabemos en qué compra usaron el cupón de descuento, tal vez la promoción sirve para más de una compra.\n",
    "\n",
    "<img src='../Data/Schema.png'>\n",
    "\n",
    "<b>Origen del dataset:</b>\n",
    "\n",
    "https://www.kaggle.com/vasudeva009/coupon-redemption-smote-feature-selection/data"
   ]
  },
  {
   "cell_type": "code",
   "execution_count": 2,
   "metadata": {},
   "outputs": [],
   "source": [
    "import pandas as pd\n",
    "from sklearn.impute import SimpleImputer"
   ]
  },
  {
   "cell_type": "code",
   "execution_count": 3,
   "metadata": {},
   "outputs": [],
   "source": [
    "train=pd.read_csv('../Data/train.csv')\n",
    "cust_dem=pd.read_csv('../Data/customer_demographics.csv')\n",
    "trans=pd.read_csv('../Data/customer_transaction_data.csv')\n",
    "coupon_item=pd.read_csv('../Data/coupon_item_mapping.csv')\n",
    "item_data=pd.read_csv('../Data/item_data.csv')\n",
    "campaign_data=pd.read_csv('../Data/campaign_data.csv')"
   ]
  },
  {
   "cell_type": "markdown",
   "metadata": {},
   "source": [
    "---\n",
    "#### Train dataframe"
   ]
  },
  {
   "cell_type": "markdown",
   "metadata": {},
   "source": [
    "* Mirar el dataframe y chequear si hay valores nulos"
   ]
  },
  {
   "cell_type": "code",
   "execution_count": 4,
   "metadata": {},
   "outputs": [
    {
     "data": {
      "text/html": [
       "<div>\n",
       "<style scoped>\n",
       "    .dataframe tbody tr th:only-of-type {\n",
       "        vertical-align: middle;\n",
       "    }\n",
       "\n",
       "    .dataframe tbody tr th {\n",
       "        vertical-align: top;\n",
       "    }\n",
       "\n",
       "    .dataframe thead th {\n",
       "        text-align: right;\n",
       "    }\n",
       "</style>\n",
       "<table border=\"1\" class=\"dataframe\">\n",
       "  <thead>\n",
       "    <tr style=\"text-align: right;\">\n",
       "      <th></th>\n",
       "      <th>id</th>\n",
       "      <th>campaign_id</th>\n",
       "      <th>coupon_id</th>\n",
       "      <th>customer_id</th>\n",
       "      <th>redemption_status</th>\n",
       "    </tr>\n",
       "  </thead>\n",
       "  <tbody>\n",
       "    <tr>\n",
       "      <th>0</th>\n",
       "      <td>1</td>\n",
       "      <td>13</td>\n",
       "      <td>27</td>\n",
       "      <td>1053</td>\n",
       "      <td>0</td>\n",
       "    </tr>\n",
       "    <tr>\n",
       "      <th>1</th>\n",
       "      <td>2</td>\n",
       "      <td>13</td>\n",
       "      <td>116</td>\n",
       "      <td>48</td>\n",
       "      <td>0</td>\n",
       "    </tr>\n",
       "    <tr>\n",
       "      <th>2</th>\n",
       "      <td>6</td>\n",
       "      <td>9</td>\n",
       "      <td>635</td>\n",
       "      <td>205</td>\n",
       "      <td>0</td>\n",
       "    </tr>\n",
       "  </tbody>\n",
       "</table>\n",
       "</div>"
      ],
      "text/plain": [
       "   id  campaign_id  coupon_id  customer_id  redemption_status\n",
       "0   1           13         27         1053                  0\n",
       "1   2           13        116           48                  0\n",
       "2   6            9        635          205                  0"
      ]
     },
     "metadata": {},
     "output_type": "display_data"
    },
    {
     "name": "stdout",
     "output_type": "stream",
     "text": [
      "\n",
      "Hay nulos: False\n"
     ]
    }
   ],
   "source": [
    "display(train.head(3))\n",
    "print('\\nHay nulos:',train.isnull().any().any())"
   ]
  },
  {
   "cell_type": "markdown",
   "metadata": {},
   "source": [
    "---\n",
    "#### Customer demographics dataframe\n",
    "\n",
    "* Chequear si hay nulos\n",
    "* Mirar los dtypes\n",
    "* Imputar los valores nulos por la moda de las columnas\n",
    "* Llevar las columnas de variables categóricas a dtype 'category'"
   ]
  },
  {
   "cell_type": "code",
   "execution_count": 5,
   "metadata": {},
   "outputs": [
    {
     "data": {
      "text/html": [
       "<div>\n",
       "<style scoped>\n",
       "    .dataframe tbody tr th:only-of-type {\n",
       "        vertical-align: middle;\n",
       "    }\n",
       "\n",
       "    .dataframe tbody tr th {\n",
       "        vertical-align: top;\n",
       "    }\n",
       "\n",
       "    .dataframe thead th {\n",
       "        text-align: right;\n",
       "    }\n",
       "</style>\n",
       "<table border=\"1\" class=\"dataframe\">\n",
       "  <thead>\n",
       "    <tr style=\"text-align: right;\">\n",
       "      <th></th>\n",
       "      <th>customer_id</th>\n",
       "      <th>age_range</th>\n",
       "      <th>marital_status</th>\n",
       "      <th>rented</th>\n",
       "      <th>family_size</th>\n",
       "      <th>no_of_children</th>\n",
       "      <th>income_bracket</th>\n",
       "    </tr>\n",
       "  </thead>\n",
       "  <tbody>\n",
       "    <tr>\n",
       "      <th>0</th>\n",
       "      <td>1</td>\n",
       "      <td>70+</td>\n",
       "      <td>Married</td>\n",
       "      <td>0</td>\n",
       "      <td>2</td>\n",
       "      <td>NaN</td>\n",
       "      <td>4</td>\n",
       "    </tr>\n",
       "    <tr>\n",
       "      <th>1</th>\n",
       "      <td>6</td>\n",
       "      <td>46-55</td>\n",
       "      <td>Married</td>\n",
       "      <td>0</td>\n",
       "      <td>2</td>\n",
       "      <td>NaN</td>\n",
       "      <td>5</td>\n",
       "    </tr>\n",
       "    <tr>\n",
       "      <th>2</th>\n",
       "      <td>7</td>\n",
       "      <td>26-35</td>\n",
       "      <td>NaN</td>\n",
       "      <td>0</td>\n",
       "      <td>3</td>\n",
       "      <td>1</td>\n",
       "      <td>3</td>\n",
       "    </tr>\n",
       "  </tbody>\n",
       "</table>\n",
       "</div>"
      ],
      "text/plain": [
       "   customer_id age_range marital_status  rented family_size no_of_children  \\\n",
       "0            1       70+        Married       0           2            NaN   \n",
       "1            6     46-55        Married       0           2            NaN   \n",
       "2            7     26-35            NaN       0           3              1   \n",
       "\n",
       "   income_bracket  \n",
       "0               4  \n",
       "1               5  \n",
       "2               3  "
      ]
     },
     "metadata": {},
     "output_type": "display_data"
    },
    {
     "name": "stdout",
     "output_type": "stream",
     "text": [
      "\n",
      "-------------------------\n",
      "Dtypes:\n",
      "\n",
      "customer_id        int64\n",
      "age_range         object\n",
      "marital_status    object\n",
      "rented             int64\n",
      "family_size       object\n",
      "no_of_children    object\n",
      "income_bracket     int64\n",
      "dtype: object\n",
      "\n",
      "-------------------------\n",
      "Nulos:\n",
      "\n",
      "customer_id         0\n",
      "age_range           0\n",
      "marital_status    329\n",
      "rented              0\n",
      "family_size         0\n",
      "no_of_children    538\n",
      "income_bracket      0\n",
      "dtype: int64\n"
     ]
    }
   ],
   "source": [
    "# cust_dem\n",
    "display(cust_dem.head(3))\n",
    "print('\\n-------------------------')\n",
    "print('Dtypes:\\n') \n",
    "print(cust_dem.dtypes)\n",
    "print('\\n-------------------------')\n",
    "print('Nulos:\\n')      \n",
    "print(cust_dem.isnull().sum())"
   ]
  },
  {
   "cell_type": "markdown",
   "metadata": {},
   "source": [
    "Imputamos valores faltantes por la moda"
   ]
  },
  {
   "cell_type": "code",
   "execution_count": 6,
   "metadata": {},
   "outputs": [
    {
     "name": "stdout",
     "output_type": "stream",
     "text": [
      "Nulos:\n",
      "\n",
      "customer_id       0\n",
      "age_range         0\n",
      "marital_status    0\n",
      "rented            0\n",
      "family_size       0\n",
      "no_of_children    0\n",
      "income_bracket    0\n",
      "dtype: int64\n"
     ]
    }
   ],
   "source": [
    "# Imputamos valores faltantes\n",
    "imp=SimpleImputer(strategy='most_frequent')\n",
    "cust_dem[['marital_status','no_of_children']]=imp.fit_transform(cust_dem[['marital_status','no_of_children']])\n",
    "print('Nulos:\\n')      \n",
    "print(cust_dem.isnull().sum())"
   ]
  },
  {
   "cell_type": "markdown",
   "metadata": {},
   "source": [
    "Llevamos variables a tipo categóricas"
   ]
  },
  {
   "cell_type": "code",
   "execution_count": 7,
   "metadata": {},
   "outputs": [
    {
     "name": "stdout",
     "output_type": "stream",
     "text": [
      "Dtypes:\n",
      "\n",
      "customer_id          int64\n",
      "age_range         category\n",
      "marital_status    category\n",
      "rented            category\n",
      "family_size       category\n",
      "no_of_children    category\n",
      "income_bracket    category\n",
      "dtype: object\n"
     ]
    }
   ],
   "source": [
    "# categorical variables\n",
    "cust_dem.iloc[:,1:]=cust_dem.iloc[:,1:].astype('category')\n",
    "print('Dtypes:\\n') \n",
    "print(cust_dem.dtypes)"
   ]
  },
  {
   "cell_type": "markdown",
   "metadata": {},
   "source": [
    "---\n",
    "#### Transactions dataframe\n",
    "* Chequear si hay nulos\n",
    "* ver los dtypes\n",
    "* dropear la columna 'dates'"
   ]
  },
  {
   "cell_type": "code",
   "execution_count": 8,
   "metadata": {},
   "outputs": [
    {
     "data": {
      "text/html": [
       "<div>\n",
       "<style scoped>\n",
       "    .dataframe tbody tr th:only-of-type {\n",
       "        vertical-align: middle;\n",
       "    }\n",
       "\n",
       "    .dataframe tbody tr th {\n",
       "        vertical-align: top;\n",
       "    }\n",
       "\n",
       "    .dataframe thead th {\n",
       "        text-align: right;\n",
       "    }\n",
       "</style>\n",
       "<table border=\"1\" class=\"dataframe\">\n",
       "  <thead>\n",
       "    <tr style=\"text-align: right;\">\n",
       "      <th></th>\n",
       "      <th>date</th>\n",
       "      <th>customer_id</th>\n",
       "      <th>item_id</th>\n",
       "      <th>quantity</th>\n",
       "      <th>selling_price</th>\n",
       "      <th>other_discount</th>\n",
       "      <th>coupon_discount</th>\n",
       "    </tr>\n",
       "  </thead>\n",
       "  <tbody>\n",
       "    <tr>\n",
       "      <th>0</th>\n",
       "      <td>2012-01-02</td>\n",
       "      <td>1501</td>\n",
       "      <td>26830</td>\n",
       "      <td>1</td>\n",
       "      <td>35.26</td>\n",
       "      <td>-10.69</td>\n",
       "      <td>0.0</td>\n",
       "    </tr>\n",
       "    <tr>\n",
       "      <th>1</th>\n",
       "      <td>2012-01-02</td>\n",
       "      <td>1501</td>\n",
       "      <td>54253</td>\n",
       "      <td>1</td>\n",
       "      <td>53.43</td>\n",
       "      <td>-13.89</td>\n",
       "      <td>0.0</td>\n",
       "    </tr>\n",
       "    <tr>\n",
       "      <th>2</th>\n",
       "      <td>2012-01-02</td>\n",
       "      <td>1501</td>\n",
       "      <td>31962</td>\n",
       "      <td>1</td>\n",
       "      <td>106.50</td>\n",
       "      <td>-14.25</td>\n",
       "      <td>0.0</td>\n",
       "    </tr>\n",
       "  </tbody>\n",
       "</table>\n",
       "</div>"
      ],
      "text/plain": [
       "         date  customer_id  item_id  quantity  selling_price  other_discount  \\\n",
       "0  2012-01-02         1501    26830         1          35.26          -10.69   \n",
       "1  2012-01-02         1501    54253         1          53.43          -13.89   \n",
       "2  2012-01-02         1501    31962         1         106.50          -14.25   \n",
       "\n",
       "   coupon_discount  \n",
       "0              0.0  \n",
       "1              0.0  \n",
       "2              0.0  "
      ]
     },
     "metadata": {},
     "output_type": "display_data"
    },
    {
     "name": "stdout",
     "output_type": "stream",
     "text": [
      "\n",
      "Hay nulos: False\n",
      "\n",
      "Dtypes:\n",
      "\n",
      "date                object\n",
      "customer_id          int64\n",
      "item_id              int64\n",
      "quantity             int64\n",
      "selling_price      float64\n",
      "other_discount     float64\n",
      "coupon_discount    float64\n",
      "dtype: object\n"
     ]
    }
   ],
   "source": [
    "# trans data\n",
    "display(trans.head(3))\n",
    "print('\\nHay nulos:',trans.isnull().any().any())\n",
    "print('\\nDtypes:\\n') \n",
    "print(trans.dtypes)"
   ]
  },
  {
   "cell_type": "code",
   "execution_count": 9,
   "metadata": {},
   "outputs": [],
   "source": [
    "trans=trans.drop('date',axis=1)"
   ]
  },
  {
   "cell_type": "code",
   "execution_count": 10,
   "metadata": {},
   "outputs": [
    {
     "name": "stdout",
     "output_type": "stream",
     "text": [
      "\n",
      "Dtypes:\n",
      "\n",
      "customer_id          int64\n",
      "item_id              int64\n",
      "quantity             int64\n",
      "selling_price      float64\n",
      "other_discount     float64\n",
      "coupon_discount    float64\n",
      "dtype: object\n"
     ]
    }
   ],
   "source": [
    "trans.head(3)\n",
    "print('\\nDtypes:\\n') \n",
    "print(trans.dtypes)"
   ]
  },
  {
   "cell_type": "markdown",
   "metadata": {},
   "source": [
    "---\n",
    "#### Coupon-Item dataframe\n",
    "* chequear si hay nulos"
   ]
  },
  {
   "cell_type": "code",
   "execution_count": 11,
   "metadata": {},
   "outputs": [
    {
     "data": {
      "text/html": [
       "<div>\n",
       "<style scoped>\n",
       "    .dataframe tbody tr th:only-of-type {\n",
       "        vertical-align: middle;\n",
       "    }\n",
       "\n",
       "    .dataframe tbody tr th {\n",
       "        vertical-align: top;\n",
       "    }\n",
       "\n",
       "    .dataframe thead th {\n",
       "        text-align: right;\n",
       "    }\n",
       "</style>\n",
       "<table border=\"1\" class=\"dataframe\">\n",
       "  <thead>\n",
       "    <tr style=\"text-align: right;\">\n",
       "      <th></th>\n",
       "      <th>coupon_id</th>\n",
       "      <th>item_id</th>\n",
       "    </tr>\n",
       "  </thead>\n",
       "  <tbody>\n",
       "    <tr>\n",
       "      <th>0</th>\n",
       "      <td>105</td>\n",
       "      <td>37</td>\n",
       "    </tr>\n",
       "    <tr>\n",
       "      <th>1</th>\n",
       "      <td>107</td>\n",
       "      <td>75</td>\n",
       "    </tr>\n",
       "    <tr>\n",
       "      <th>2</th>\n",
       "      <td>494</td>\n",
       "      <td>76</td>\n",
       "    </tr>\n",
       "  </tbody>\n",
       "</table>\n",
       "</div>"
      ],
      "text/plain": [
       "   coupon_id  item_id\n",
       "0        105       37\n",
       "1        107       75\n",
       "2        494       76"
      ]
     },
     "metadata": {},
     "output_type": "display_data"
    },
    {
     "name": "stdout",
     "output_type": "stream",
     "text": [
      "\n",
      "Hay nulos: False\n"
     ]
    }
   ],
   "source": [
    "# Coupon item map\n",
    "display(coupon_item.head(3))\n",
    "print('\\nHay nulos:',coupon_item.isnull().any().any())"
   ]
  },
  {
   "cell_type": "markdown",
   "metadata": {},
   "source": [
    "---\n",
    "#### Item dataframe\n",
    "* Chequear si hay nulos\n",
    "* Llevar las columnas categóricas a dtype 'category'"
   ]
  },
  {
   "cell_type": "code",
   "execution_count": 12,
   "metadata": {},
   "outputs": [
    {
     "data": {
      "text/html": [
       "<div>\n",
       "<style scoped>\n",
       "    .dataframe tbody tr th:only-of-type {\n",
       "        vertical-align: middle;\n",
       "    }\n",
       "\n",
       "    .dataframe tbody tr th {\n",
       "        vertical-align: top;\n",
       "    }\n",
       "\n",
       "    .dataframe thead th {\n",
       "        text-align: right;\n",
       "    }\n",
       "</style>\n",
       "<table border=\"1\" class=\"dataframe\">\n",
       "  <thead>\n",
       "    <tr style=\"text-align: right;\">\n",
       "      <th></th>\n",
       "      <th>item_id</th>\n",
       "      <th>brand</th>\n",
       "      <th>brand_type</th>\n",
       "      <th>category</th>\n",
       "    </tr>\n",
       "  </thead>\n",
       "  <tbody>\n",
       "    <tr>\n",
       "      <th>0</th>\n",
       "      <td>1</td>\n",
       "      <td>1</td>\n",
       "      <td>Established</td>\n",
       "      <td>Grocery</td>\n",
       "    </tr>\n",
       "    <tr>\n",
       "      <th>1</th>\n",
       "      <td>2</td>\n",
       "      <td>1</td>\n",
       "      <td>Established</td>\n",
       "      <td>Miscellaneous</td>\n",
       "    </tr>\n",
       "    <tr>\n",
       "      <th>2</th>\n",
       "      <td>3</td>\n",
       "      <td>56</td>\n",
       "      <td>Local</td>\n",
       "      <td>Bakery</td>\n",
       "    </tr>\n",
       "  </tbody>\n",
       "</table>\n",
       "</div>"
      ],
      "text/plain": [
       "   item_id  brand   brand_type       category\n",
       "0        1      1  Established        Grocery\n",
       "1        2      1  Established  Miscellaneous\n",
       "2        3     56        Local         Bakery"
      ]
     },
     "metadata": {},
     "output_type": "display_data"
    },
    {
     "name": "stdout",
     "output_type": "stream",
     "text": [
      "item_id          int64\n",
      "brand         category\n",
      "brand_type    category\n",
      "category      category\n",
      "dtype: object\n",
      "\n",
      "Hay nulos: False\n"
     ]
    }
   ],
   "source": [
    "# Item Data\n",
    "display(item_data.head(3))\n",
    "item_data[['brand','brand_type','category']]=item_data[['brand','brand_type','category']].astype('category')\n",
    "print(item_data.dtypes)\n",
    "print('\\nHay nulos:',item_data.isnull().any().any())"
   ]
  },
  {
   "cell_type": "markdown",
   "metadata": {},
   "source": [
    "---\n",
    "#### Campaign dataframe\n",
    "* Chequear si hay valores nulos\n",
    "* Llevar las columnas start_date y end_date a tipo TimeStamp\n",
    "* Calcular el período de las promos como end_date - start_date\n",
    "* Dropear start_date y end_date"
   ]
  },
  {
   "cell_type": "code",
   "execution_count": 13,
   "metadata": {},
   "outputs": [
    {
     "data": {
      "text/html": [
       "<div>\n",
       "<style scoped>\n",
       "    .dataframe tbody tr th:only-of-type {\n",
       "        vertical-align: middle;\n",
       "    }\n",
       "\n",
       "    .dataframe tbody tr th {\n",
       "        vertical-align: top;\n",
       "    }\n",
       "\n",
       "    .dataframe thead th {\n",
       "        text-align: right;\n",
       "    }\n",
       "</style>\n",
       "<table border=\"1\" class=\"dataframe\">\n",
       "  <thead>\n",
       "    <tr style=\"text-align: right;\">\n",
       "      <th></th>\n",
       "      <th>campaign_id</th>\n",
       "      <th>campaign_type</th>\n",
       "      <th>start_date</th>\n",
       "      <th>end_date</th>\n",
       "    </tr>\n",
       "  </thead>\n",
       "  <tbody>\n",
       "    <tr>\n",
       "      <th>0</th>\n",
       "      <td>24</td>\n",
       "      <td>Y</td>\n",
       "      <td>21/10/13</td>\n",
       "      <td>20/12/13</td>\n",
       "    </tr>\n",
       "    <tr>\n",
       "      <th>1</th>\n",
       "      <td>25</td>\n",
       "      <td>Y</td>\n",
       "      <td>21/10/13</td>\n",
       "      <td>22/11/13</td>\n",
       "    </tr>\n",
       "    <tr>\n",
       "      <th>2</th>\n",
       "      <td>20</td>\n",
       "      <td>Y</td>\n",
       "      <td>07/09/13</td>\n",
       "      <td>16/11/13</td>\n",
       "    </tr>\n",
       "  </tbody>\n",
       "</table>\n",
       "</div>"
      ],
      "text/plain": [
       "   campaign_id campaign_type start_date  end_date\n",
       "0           24             Y   21/10/13  20/12/13\n",
       "1           25             Y   21/10/13  22/11/13\n",
       "2           20             Y   07/09/13  16/11/13"
      ]
     },
     "metadata": {},
     "output_type": "display_data"
    },
    {
     "name": "stdout",
     "output_type": "stream",
     "text": [
      "campaign_id       int64\n",
      "campaign_type    object\n",
      "start_date       object\n",
      "end_date         object\n",
      "dtype: object\n",
      "\n",
      "Hay nulos: False\n"
     ]
    }
   ],
   "source": [
    "display(campaign_data.head(3))\n",
    "print(campaign_data.dtypes)\n",
    "print('\\nHay nulos:',campaign_data.isnull().any().any())"
   ]
  },
  {
   "cell_type": "markdown",
   "metadata": {},
   "source": [
    "Calculamos cuanto tiempo duró la promoción"
   ]
  },
  {
   "cell_type": "code",
   "execution_count": 14,
   "metadata": {},
   "outputs": [],
   "source": [
    "# Calculamos el período de la promoción\n",
    "\n",
    "start_date=pd.to_datetime(campaign_data['start_date'],dayfirst=True)\n",
    "end_date=pd.to_datetime(campaign_data['end_date'],dayfirst=True)\n",
    "\n",
    "campaign_data['duration']=end_date-start_date # Periodo de validez del cupon\n",
    "campaign_data['duration']=campaign_data['duration'].apply(lambda x: x.days)\n",
    "\n",
    "campaign_data['campaign_type']=campaign_data['campaign_type'].astype('category')\n",
    "\n",
    "campaign_data['month']=start_date.apply(lambda x : x.month).astype('category')\n",
    "campaign_data['year']=start_date.apply(lambda x : x.year).astype('category')\n"
   ]
  },
  {
   "cell_type": "code",
   "execution_count": 15,
   "metadata": {},
   "outputs": [
    {
     "data": {
      "text/html": [
       "<div>\n",
       "<style scoped>\n",
       "    .dataframe tbody tr th:only-of-type {\n",
       "        vertical-align: middle;\n",
       "    }\n",
       "\n",
       "    .dataframe tbody tr th {\n",
       "        vertical-align: top;\n",
       "    }\n",
       "\n",
       "    .dataframe thead th {\n",
       "        text-align: right;\n",
       "    }\n",
       "</style>\n",
       "<table border=\"1\" class=\"dataframe\">\n",
       "  <thead>\n",
       "    <tr style=\"text-align: right;\">\n",
       "      <th></th>\n",
       "      <th>campaign_id</th>\n",
       "      <th>campaign_type</th>\n",
       "      <th>duration</th>\n",
       "      <th>month</th>\n",
       "      <th>year</th>\n",
       "    </tr>\n",
       "  </thead>\n",
       "  <tbody>\n",
       "    <tr>\n",
       "      <th>0</th>\n",
       "      <td>24</td>\n",
       "      <td>Y</td>\n",
       "      <td>60</td>\n",
       "      <td>10</td>\n",
       "      <td>2013</td>\n",
       "    </tr>\n",
       "    <tr>\n",
       "      <th>1</th>\n",
       "      <td>25</td>\n",
       "      <td>Y</td>\n",
       "      <td>32</td>\n",
       "      <td>10</td>\n",
       "      <td>2013</td>\n",
       "    </tr>\n",
       "    <tr>\n",
       "      <th>2</th>\n",
       "      <td>20</td>\n",
       "      <td>Y</td>\n",
       "      <td>70</td>\n",
       "      <td>9</td>\n",
       "      <td>2013</td>\n",
       "    </tr>\n",
       "  </tbody>\n",
       "</table>\n",
       "</div>"
      ],
      "text/plain": [
       "   campaign_id campaign_type  duration month  year\n",
       "0           24             Y        60    10  2013\n",
       "1           25             Y        32    10  2013\n",
       "2           20             Y        70     9  2013"
      ]
     },
     "metadata": {},
     "output_type": "display_data"
    },
    {
     "name": "stdout",
     "output_type": "stream",
     "text": [
      "campaign_id         int64\n",
      "campaign_type    category\n",
      "duration            int64\n",
      "month            category\n",
      "year             category\n",
      "dtype: object\n"
     ]
    }
   ],
   "source": [
    "campaign_data=campaign_data.drop(['start_date','end_date'],axis=1)\n",
    "\n",
    "display(campaign_data.head(3))\n",
    "print(campaign_data.dtypes)"
   ]
  },
  {
   "cell_type": "markdown",
   "metadata": {},
   "source": [
    "---\n",
    "#### Merge Dataframes\n",
    "1. Hacer un merge entre train y campaign_data. ¿Qué columna va en 'on'? ¿Qué criterio va en 'how'?\n",
    "2. Hacer un merge de 1. con customer_demographics. ¿Qué columna va en 'on'? ¿Qué criterio va en 'how'?\n",
    "3. Chequear valores nulos en 2.\n",
    "4. Imputamos valores faltantes en las columnas demográficas. Para eso, sampleamos con reposición de la distribución conjunta de atributos demográficos observados.\n",
    "5. Merge con las transacciones promedio por sujeto:\n",
    "* Hacer un groupby por consumidor en el dataframe de transaccions\n",
    "* Agregar el valor medio a las variables continuas ('selling_price','quantity', etc)\n",
    "* merge con el dataframe obtenido en 4. ¿Qué columna va en 'on'? ¿Qué criterio va en 'how'?\n",
    "6. Merge con transacciones promedio por item\n",
    "* a. Hacer un groupby por item en el dataframe de transaccions\n",
    "* b. Calcular el valor medio de las variables continuas\n",
    "* c. Hacer un merge con el dataframe 'coupon_item'\n",
    "* d. Hacer un merge de c. con item_data ¿Qué columna va en 'on'? ¿Qué criterio va en 'how'?\n",
    "* e. Hacer un groupby del dataframe d. agrupando por 'coupon_id'. Para cada grupo calcular la moda de las variables categóricas 'brand','brand_type,'category'\n",
    "* f. Hacer un groupby del dataframe d. agrupando por 'coupon_id'. Para cada grupo calcular la media de las variables continuas.\n",
    "* g. Hacer un merge de d. con e. y luego con f. ¿Qué columna va en 'on'? ¿Qué criterio va en 'how'?\n",
    "7. Guardar el dataframe resultante en un csv para la práctica de la clase."
   ]
  },
  {
   "cell_type": "code",
   "execution_count": 16,
   "metadata": {},
   "outputs": [
    {
     "data": {
      "text/plain": [
       "((78369, 5), (28, 5), (760, 7), (1324566, 6), (92663, 2), (74066, 4))"
      ]
     },
     "execution_count": 16,
     "metadata": {},
     "output_type": "execute_result"
    }
   ],
   "source": [
    "train.shape,campaign_data.shape, cust_dem.shape,trans.shape,coupon_item.shape,item_data.shape"
   ]
  },
  {
   "cell_type": "markdown",
   "metadata": {},
   "source": [
    "<b>Hacemos un merge entre train y campaign data"
   ]
  },
  {
   "cell_type": "code",
   "execution_count": 17,
   "metadata": {},
   "outputs": [
    {
     "name": "stdout",
     "output_type": "stream",
     "text": [
      "(78369, 9)\n"
     ]
    },
    {
     "data": {
      "text/plain": [
       "id                   0\n",
       "campaign_id          0\n",
       "coupon_id            0\n",
       "customer_id          0\n",
       "redemption_status    0\n",
       "campaign_type        0\n",
       "duration             0\n",
       "month                0\n",
       "year                 0\n",
       "dtype: int64"
      ]
     },
     "execution_count": 17,
     "metadata": {},
     "output_type": "execute_result"
    }
   ],
   "source": [
    "data=pd.merge(train,campaign_data,on='campaign_id',how='left')\n",
    "print(data.shape)\n",
    "data.isnull().sum()\n"
   ]
  },
  {
   "cell_type": "markdown",
   "metadata": {},
   "source": [
    "<b> Merge con los datos demográficos de los consumidores"
   ]
  },
  {
   "cell_type": "code",
   "execution_count": 18,
   "metadata": {},
   "outputs": [
    {
     "data": {
      "text/plain": [
       "(78369, 15)"
      ]
     },
     "execution_count": 18,
     "metadata": {},
     "output_type": "execute_result"
    }
   ],
   "source": [
    "data=pd.merge(data,cust_dem,on='customer_id',how='left')\n",
    "data.shape"
   ]
  },
  {
   "cell_type": "code",
   "execution_count": 19,
   "metadata": {},
   "outputs": [
    {
     "data": {
      "text/plain": [
       "id                       0\n",
       "campaign_id              0\n",
       "coupon_id                0\n",
       "customer_id              0\n",
       "redemption_status        0\n",
       "campaign_type            0\n",
       "duration                 0\n",
       "month                    0\n",
       "year                     0\n",
       "age_range            34708\n",
       "marital_status       34708\n",
       "rented               34708\n",
       "family_size          34708\n",
       "no_of_children       34708\n",
       "income_bracket       34708\n",
       "dtype: int64"
      ]
     },
     "execution_count": 19,
     "metadata": {},
     "output_type": "execute_result"
    }
   ],
   "source": [
    "data.isnull().sum()"
   ]
  },
  {
   "cell_type": "markdown",
   "metadata": {},
   "source": [
    "<b> Imputamos valores faltentes</b>\n",
    "\n",
    "Vamos a samplear de la distribución conjunta de variables con valores faltantes. De esta manera conservamos la variabilidad de los datos (no imputamos todo por la moda) y la estructura de correlaciones entre variables (no asignamos un valor de age_range incompatible con uno el de family_size)"
   ]
  },
  {
   "cell_type": "code",
   "execution_count": 20,
   "metadata": {},
   "outputs": [
    {
     "data": {
      "text/plain": [
       "id                   0\n",
       "campaign_id          0\n",
       "coupon_id            0\n",
       "customer_id          0\n",
       "redemption_status    0\n",
       "campaign_type        0\n",
       "duration             0\n",
       "month                0\n",
       "year                 0\n",
       "age_range            0\n",
       "marital_status       0\n",
       "rented               0\n",
       "family_size          0\n",
       "no_of_children       0\n",
       "income_bracket       0\n",
       "dtype: int64"
      ]
     },
     "execution_count": 20,
     "metadata": {},
     "output_type": "execute_result"
    }
   ],
   "source": [
    "# Imputamos valores faltantes sampleando con reposicion de los datos observados\n",
    "# De esta manera preservamos la estructura de correlaciones observada entre las columnas demográficas\n",
    "\n",
    "impute_columns=['age_range','marital_status','rented','family_size','no_of_children','income_bracket']\n",
    "\n",
    "null_mask=data[impute_columns].isnull().all(axis=1)\n",
    "random_samples=data.loc[~null_mask,impute_columns].sample(n=null_mask.sum(),replace=True)\n",
    "data.loc[null_mask,impute_columns]=random_samples.values\n",
    "\n",
    "data.isnull().sum()"
   ]
  },
  {
   "cell_type": "markdown",
   "metadata": {},
   "source": [
    "<b> Merge con información de transacciones promedio por cliente</b>\n",
    "\n",
    "Agregamos la información de la actividad de compras típicas hechas por cada consumidor."
   ]
  },
  {
   "cell_type": "code",
   "execution_count": 21,
   "metadata": {},
   "outputs": [],
   "source": [
    "# Merge transactions: calculo la media de los valores de las transacciones por sujeto\n",
    "trans_customer=trans.groupby('customer_id')[['quantity','selling_price','other_discount','coupon_discount']].agg('mean')\n",
    "trans_customer.columns=['mean_'+col+'_cust' for col in trans_customer.columns]\n",
    "trans_customer=trans_customer.reset_index();"
   ]
  },
  {
   "cell_type": "code",
   "execution_count": 35,
   "metadata": {},
   "outputs": [
    {
     "data": {
      "text/html": [
       "<div>\n",
       "<style scoped>\n",
       "    .dataframe tbody tr th:only-of-type {\n",
       "        vertical-align: middle;\n",
       "    }\n",
       "\n",
       "    .dataframe tbody tr th {\n",
       "        vertical-align: top;\n",
       "    }\n",
       "\n",
       "    .dataframe thead th {\n",
       "        text-align: right;\n",
       "    }\n",
       "</style>\n",
       "<table border=\"1\" class=\"dataframe\">\n",
       "  <thead>\n",
       "    <tr style=\"text-align: right;\">\n",
       "      <th></th>\n",
       "      <th>customer_id</th>\n",
       "      <th>mean_quantity_cust</th>\n",
       "      <th>mean_selling_price_cust</th>\n",
       "      <th>mean_other_discount_cust</th>\n",
       "      <th>mean_coupon_discount_cust</th>\n",
       "    </tr>\n",
       "  </thead>\n",
       "  <tbody>\n",
       "    <tr>\n",
       "      <th>0</th>\n",
       "      <td>1</td>\n",
       "      <td>1.170802</td>\n",
       "      <td>94.001842</td>\n",
       "      <td>-16.250382</td>\n",
       "      <td>-2.019876</td>\n",
       "    </tr>\n",
       "    <tr>\n",
       "      <th>1</th>\n",
       "      <td>2</td>\n",
       "      <td>1.131265</td>\n",
       "      <td>102.864033</td>\n",
       "      <td>-16.830430</td>\n",
       "      <td>-0.595084</td>\n",
       "    </tr>\n",
       "    <tr>\n",
       "      <th>2</th>\n",
       "      <td>3</td>\n",
       "      <td>11.578723</td>\n",
       "      <td>103.617404</td>\n",
       "      <td>-22.714227</td>\n",
       "      <td>-3.091546</td>\n",
       "    </tr>\n",
       "  </tbody>\n",
       "</table>\n",
       "</div>"
      ],
      "text/plain": [
       "   customer_id  mean_quantity_cust  mean_selling_price_cust  \\\n",
       "0            1            1.170802                94.001842   \n",
       "1            2            1.131265               102.864033   \n",
       "2            3           11.578723               103.617404   \n",
       "\n",
       "   mean_other_discount_cust  mean_coupon_discount_cust  \n",
       "0                -16.250382                  -2.019876  \n",
       "1                -16.830430                  -0.595084  \n",
       "2                -22.714227                  -3.091546  "
      ]
     },
     "execution_count": 35,
     "metadata": {},
     "output_type": "execute_result"
    }
   ],
   "source": [
    "trans_customer.head(3)"
   ]
  },
  {
   "cell_type": "code",
   "execution_count": 22,
   "metadata": {},
   "outputs": [],
   "source": [
    "data=pd.merge(data,trans_customer,on='customer_id',how='left')"
   ]
  },
  {
   "cell_type": "code",
   "execution_count": 23,
   "metadata": {},
   "outputs": [
    {
     "data": {
      "text/plain": [
       "(78369, 19)"
      ]
     },
     "execution_count": 23,
     "metadata": {},
     "output_type": "execute_result"
    }
   ],
   "source": [
    "data.shape"
   ]
  },
  {
   "cell_type": "code",
   "execution_count": 24,
   "metadata": {},
   "outputs": [
    {
     "data": {
      "text/html": [
       "<div>\n",
       "<style scoped>\n",
       "    .dataframe tbody tr th:only-of-type {\n",
       "        vertical-align: middle;\n",
       "    }\n",
       "\n",
       "    .dataframe tbody tr th {\n",
       "        vertical-align: top;\n",
       "    }\n",
       "\n",
       "    .dataframe thead th {\n",
       "        text-align: right;\n",
       "    }\n",
       "</style>\n",
       "<table border=\"1\" class=\"dataframe\">\n",
       "  <thead>\n",
       "    <tr style=\"text-align: right;\">\n",
       "      <th></th>\n",
       "      <th>id</th>\n",
       "      <th>campaign_id</th>\n",
       "      <th>coupon_id</th>\n",
       "      <th>customer_id</th>\n",
       "      <th>redemption_status</th>\n",
       "      <th>campaign_type</th>\n",
       "      <th>duration</th>\n",
       "      <th>month</th>\n",
       "      <th>year</th>\n",
       "      <th>age_range</th>\n",
       "      <th>marital_status</th>\n",
       "      <th>rented</th>\n",
       "      <th>family_size</th>\n",
       "      <th>no_of_children</th>\n",
       "      <th>income_bracket</th>\n",
       "      <th>mean_quantity_cust</th>\n",
       "      <th>mean_selling_price_cust</th>\n",
       "      <th>mean_other_discount_cust</th>\n",
       "      <th>mean_coupon_discount_cust</th>\n",
       "    </tr>\n",
       "  </thead>\n",
       "  <tbody>\n",
       "    <tr>\n",
       "      <th>0</th>\n",
       "      <td>1</td>\n",
       "      <td>13</td>\n",
       "      <td>27</td>\n",
       "      <td>1053</td>\n",
       "      <td>0</td>\n",
       "      <td>X</td>\n",
       "      <td>47</td>\n",
       "      <td>5</td>\n",
       "      <td>2013</td>\n",
       "      <td>46-55</td>\n",
       "      <td>Married</td>\n",
       "      <td>0</td>\n",
       "      <td>1</td>\n",
       "      <td>1</td>\n",
       "      <td>5</td>\n",
       "      <td>340.487097</td>\n",
       "      <td>184.260484</td>\n",
       "      <td>-33.168935</td>\n",
       "      <td>-0.287258</td>\n",
       "    </tr>\n",
       "    <tr>\n",
       "      <th>1</th>\n",
       "      <td>2</td>\n",
       "      <td>13</td>\n",
       "      <td>116</td>\n",
       "      <td>48</td>\n",
       "      <td>0</td>\n",
       "      <td>X</td>\n",
       "      <td>47</td>\n",
       "      <td>5</td>\n",
       "      <td>2013</td>\n",
       "      <td>36-45</td>\n",
       "      <td>Married</td>\n",
       "      <td>0</td>\n",
       "      <td>2</td>\n",
       "      <td>1</td>\n",
       "      <td>3</td>\n",
       "      <td>31.540260</td>\n",
       "      <td>234.247013</td>\n",
       "      <td>-27.699169</td>\n",
       "      <td>-3.215039</td>\n",
       "    </tr>\n",
       "    <tr>\n",
       "      <th>2</th>\n",
       "      <td>6</td>\n",
       "      <td>9</td>\n",
       "      <td>635</td>\n",
       "      <td>205</td>\n",
       "      <td>0</td>\n",
       "      <td>Y</td>\n",
       "      <td>32</td>\n",
       "      <td>3</td>\n",
       "      <td>2013</td>\n",
       "      <td>46-55</td>\n",
       "      <td>Married</td>\n",
       "      <td>0</td>\n",
       "      <td>2</td>\n",
       "      <td>1</td>\n",
       "      <td>7</td>\n",
       "      <td>1.392784</td>\n",
       "      <td>121.094495</td>\n",
       "      <td>-17.795660</td>\n",
       "      <td>-2.212082</td>\n",
       "    </tr>\n",
       "  </tbody>\n",
       "</table>\n",
       "</div>"
      ],
      "text/plain": [
       "   id  campaign_id  coupon_id  customer_id  redemption_status campaign_type  \\\n",
       "0   1           13         27         1053                  0             X   \n",
       "1   2           13        116           48                  0             X   \n",
       "2   6            9        635          205                  0             Y   \n",
       "\n",
       "   duration month  year age_range marital_status rented family_size  \\\n",
       "0        47     5  2013     46-55        Married      0           1   \n",
       "1        47     5  2013     36-45        Married      0           2   \n",
       "2        32     3  2013     46-55        Married      0           2   \n",
       "\n",
       "  no_of_children income_bracket  mean_quantity_cust  mean_selling_price_cust  \\\n",
       "0              1              5          340.487097               184.260484   \n",
       "1              1              3           31.540260               234.247013   \n",
       "2              1              7            1.392784               121.094495   \n",
       "\n",
       "   mean_other_discount_cust  mean_coupon_discount_cust  \n",
       "0                -33.168935                  -0.287258  \n",
       "1                -27.699169                  -3.215039  \n",
       "2                -17.795660                  -2.212082  "
      ]
     },
     "execution_count": 24,
     "metadata": {},
     "output_type": "execute_result"
    }
   ],
   "source": [
    "data.head(3)"
   ]
  },
  {
   "cell_type": "markdown",
   "metadata": {},
   "source": [
    "<b> Transacciones promedio por item </b>\n",
    "\n",
    "Tenemos el mapeo entre cupón e item. Vamos a agregar información sobre cuánto se consume cada item."
   ]
  },
  {
   "cell_type": "code",
   "execution_count": 25,
   "metadata": {},
   "outputs": [
    {
     "data": {
      "text/html": [
       "<div>\n",
       "<style scoped>\n",
       "    .dataframe tbody tr th:only-of-type {\n",
       "        vertical-align: middle;\n",
       "    }\n",
       "\n",
       "    .dataframe tbody tr th {\n",
       "        vertical-align: top;\n",
       "    }\n",
       "\n",
       "    .dataframe thead th {\n",
       "        text-align: right;\n",
       "    }\n",
       "</style>\n",
       "<table border=\"1\" class=\"dataframe\">\n",
       "  <thead>\n",
       "    <tr style=\"text-align: right;\">\n",
       "      <th></th>\n",
       "      <th>item_id</th>\n",
       "      <th>mean_quantity_item</th>\n",
       "      <th>mean_selling_price_item</th>\n",
       "      <th>mean_other_discount_item</th>\n",
       "      <th>mean_coupon_discount_item</th>\n",
       "    </tr>\n",
       "  </thead>\n",
       "  <tbody>\n",
       "    <tr>\n",
       "      <th>0</th>\n",
       "      <td>1</td>\n",
       "      <td>1.0</td>\n",
       "      <td>124.31</td>\n",
       "      <td>0.0</td>\n",
       "      <td>0.0</td>\n",
       "    </tr>\n",
       "    <tr>\n",
       "      <th>1</th>\n",
       "      <td>2</td>\n",
       "      <td>1.0</td>\n",
       "      <td>35.26</td>\n",
       "      <td>0.0</td>\n",
       "      <td>0.0</td>\n",
       "    </tr>\n",
       "    <tr>\n",
       "      <th>2</th>\n",
       "      <td>3</td>\n",
       "      <td>1.0</td>\n",
       "      <td>56.64</td>\n",
       "      <td>0.0</td>\n",
       "      <td>0.0</td>\n",
       "    </tr>\n",
       "  </tbody>\n",
       "</table>\n",
       "</div>"
      ],
      "text/plain": [
       "   item_id  mean_quantity_item  mean_selling_price_item  \\\n",
       "0        1                 1.0                   124.31   \n",
       "1        2                 1.0                    35.26   \n",
       "2        3                 1.0                    56.64   \n",
       "\n",
       "   mean_other_discount_item  mean_coupon_discount_item  \n",
       "0                       0.0                        0.0  \n",
       "1                       0.0                        0.0  \n",
       "2                       0.0                        0.0  "
      ]
     },
     "execution_count": 25,
     "metadata": {},
     "output_type": "execute_result"
    }
   ],
   "source": [
    "# Merge with item data\n",
    "trans_item=trans.groupby('item_id')[['quantity','selling_price','other_discount','coupon_discount']].mean()\n",
    "trans_item.columns=['mean_'+col+'_item' for col in trans_item.columns]\n",
    "trans_item=trans_item.reset_index()\n",
    "trans_item.head(3)\n"
   ]
  },
  {
   "cell_type": "code",
   "execution_count": 26,
   "metadata": {},
   "outputs": [
    {
     "data": {
      "text/html": [
       "<div>\n",
       "<style scoped>\n",
       "    .dataframe tbody tr th:only-of-type {\n",
       "        vertical-align: middle;\n",
       "    }\n",
       "\n",
       "    .dataframe tbody tr th {\n",
       "        vertical-align: top;\n",
       "    }\n",
       "\n",
       "    .dataframe thead th {\n",
       "        text-align: right;\n",
       "    }\n",
       "</style>\n",
       "<table border=\"1\" class=\"dataframe\">\n",
       "  <thead>\n",
       "    <tr style=\"text-align: right;\">\n",
       "      <th></th>\n",
       "      <th>coupon_id</th>\n",
       "      <th>item_id</th>\n",
       "      <th>mean_quantity_item</th>\n",
       "      <th>mean_selling_price_item</th>\n",
       "      <th>mean_other_discount_item</th>\n",
       "      <th>mean_coupon_discount_item</th>\n",
       "      <th>brand</th>\n",
       "      <th>brand_type</th>\n",
       "      <th>category</th>\n",
       "    </tr>\n",
       "  </thead>\n",
       "  <tbody>\n",
       "    <tr>\n",
       "      <th>0</th>\n",
       "      <td>105</td>\n",
       "      <td>37</td>\n",
       "      <td>2.285714</td>\n",
       "      <td>113.12</td>\n",
       "      <td>-17.557143</td>\n",
       "      <td>0.0</td>\n",
       "      <td>56</td>\n",
       "      <td>Local</td>\n",
       "      <td>Grocery</td>\n",
       "    </tr>\n",
       "    <tr>\n",
       "      <th>1</th>\n",
       "      <td>6</td>\n",
       "      <td>37</td>\n",
       "      <td>2.285714</td>\n",
       "      <td>113.12</td>\n",
       "      <td>-17.557143</td>\n",
       "      <td>0.0</td>\n",
       "      <td>56</td>\n",
       "      <td>Local</td>\n",
       "      <td>Grocery</td>\n",
       "    </tr>\n",
       "    <tr>\n",
       "      <th>2</th>\n",
       "      <td>22</td>\n",
       "      <td>37</td>\n",
       "      <td>2.285714</td>\n",
       "      <td>113.12</td>\n",
       "      <td>-17.557143</td>\n",
       "      <td>0.0</td>\n",
       "      <td>56</td>\n",
       "      <td>Local</td>\n",
       "      <td>Grocery</td>\n",
       "    </tr>\n",
       "  </tbody>\n",
       "</table>\n",
       "</div>"
      ],
      "text/plain": [
       "   coupon_id  item_id  mean_quantity_item  mean_selling_price_item  \\\n",
       "0        105       37            2.285714                   113.12   \n",
       "1          6       37            2.285714                   113.12   \n",
       "2         22       37            2.285714                   113.12   \n",
       "\n",
       "   mean_other_discount_item  mean_coupon_discount_item brand brand_type  \\\n",
       "0                -17.557143                        0.0    56      Local   \n",
       "1                -17.557143                        0.0    56      Local   \n",
       "2                -17.557143                        0.0    56      Local   \n",
       "\n",
       "  category  \n",
       "0  Grocery  \n",
       "1  Grocery  \n",
       "2  Grocery  "
      ]
     },
     "execution_count": 26,
     "metadata": {},
     "output_type": "execute_result"
    }
   ],
   "source": [
    "coupon_item_trans=pd.merge(coupon_item,trans_item,on='item_id',how='inner')\n",
    "coupon_item_trans_brand=pd.merge(coupon_item_trans,item_data,on='item_id',how='left')\n",
    "coupon_item_trans_brand.head(3)"
   ]
  },
  {
   "cell_type": "code",
   "execution_count": 27,
   "metadata": {},
   "outputs": [
    {
     "data": {
      "text/plain": [
       "coupon_id                       int64\n",
       "item_id                         int64\n",
       "mean_quantity_item            float64\n",
       "mean_selling_price_item       float64\n",
       "mean_other_discount_item      float64\n",
       "mean_coupon_discount_item     float64\n",
       "brand                        category\n",
       "brand_type                   category\n",
       "category                     category\n",
       "dtype: object"
      ]
     },
     "execution_count": 27,
     "metadata": {},
     "output_type": "execute_result"
    }
   ],
   "source": [
    "coupon_item_trans_brand.dtypes"
   ]
  },
  {
   "cell_type": "code",
   "execution_count": 28,
   "metadata": {},
   "outputs": [
    {
     "data": {
      "text/html": [
       "<div>\n",
       "<style scoped>\n",
       "    .dataframe tbody tr th:only-of-type {\n",
       "        vertical-align: middle;\n",
       "    }\n",
       "\n",
       "    .dataframe tbody tr th {\n",
       "        vertical-align: top;\n",
       "    }\n",
       "\n",
       "    .dataframe thead th {\n",
       "        text-align: right;\n",
       "    }\n",
       "</style>\n",
       "<table border=\"1\" class=\"dataframe\">\n",
       "  <thead>\n",
       "    <tr style=\"text-align: right;\">\n",
       "      <th></th>\n",
       "      <th>coupon_id</th>\n",
       "      <th>brand</th>\n",
       "      <th>brand_type</th>\n",
       "      <th>category</th>\n",
       "    </tr>\n",
       "  </thead>\n",
       "  <tbody>\n",
       "    <tr>\n",
       "      <th>0</th>\n",
       "      <td>1</td>\n",
       "      <td>1475</td>\n",
       "      <td>Established</td>\n",
       "      <td>Natural Products</td>\n",
       "    </tr>\n",
       "    <tr>\n",
       "      <th>1</th>\n",
       "      <td>2</td>\n",
       "      <td>2084</td>\n",
       "      <td>Established</td>\n",
       "      <td>Grocery</td>\n",
       "    </tr>\n",
       "    <tr>\n",
       "      <th>2</th>\n",
       "      <td>3</td>\n",
       "      <td>278</td>\n",
       "      <td>Established</td>\n",
       "      <td>Grocery</td>\n",
       "    </tr>\n",
       "  </tbody>\n",
       "</table>\n",
       "</div>"
      ],
      "text/plain": [
       "   coupon_id  brand   brand_type          category\n",
       "0          1   1475  Established  Natural Products\n",
       "1          2   2084  Established           Grocery\n",
       "2          3    278  Established           Grocery"
      ]
     },
     "execution_count": 28,
     "metadata": {},
     "output_type": "execute_result"
    }
   ],
   "source": [
    "gb=coupon_item_trans_brand.groupby('coupon_id')\n",
    "coupon_category=gb['category'].apply(lambda x:x.value_counts().index[0])\n",
    "coupon_brand_type=gb['brand_type'].apply(lambda x:x.value_counts().index[0])\n",
    "coupon_brand=gb['brand'].apply(lambda x:x.value_counts().index[0])\n",
    "\n",
    "coupon_brand=pd.concat([pd.DataFrame(coupon_brand),pd.DataFrame(coupon_brand_type),pd.DataFrame(coupon_category)], axis=1).reset_index()\n",
    "coupon_brand.head(3)"
   ]
  },
  {
   "cell_type": "code",
   "execution_count": 29,
   "metadata": {},
   "outputs": [
    {
     "data": {
      "text/html": [
       "<div>\n",
       "<style scoped>\n",
       "    .dataframe tbody tr th:only-of-type {\n",
       "        vertical-align: middle;\n",
       "    }\n",
       "\n",
       "    .dataframe tbody tr th {\n",
       "        vertical-align: top;\n",
       "    }\n",
       "\n",
       "    .dataframe thead th {\n",
       "        text-align: right;\n",
       "    }\n",
       "</style>\n",
       "<table border=\"1\" class=\"dataframe\">\n",
       "  <thead>\n",
       "    <tr style=\"text-align: right;\">\n",
       "      <th></th>\n",
       "      <th>coupon_id</th>\n",
       "      <th>mean_quantity_item_coupon</th>\n",
       "      <th>mean_selling_price_item_coupon</th>\n",
       "      <th>mean_other_discount_item_coupon</th>\n",
       "      <th>mean_coupon_discount_item_coupon</th>\n",
       "    </tr>\n",
       "  </thead>\n",
       "  <tbody>\n",
       "    <tr>\n",
       "      <th>0</th>\n",
       "      <td>1</td>\n",
       "      <td>1.221644</td>\n",
       "      <td>100.195701</td>\n",
       "      <td>-25.273218</td>\n",
       "      <td>-1.321524</td>\n",
       "    </tr>\n",
       "    <tr>\n",
       "      <th>1</th>\n",
       "      <td>2</td>\n",
       "      <td>1.137500</td>\n",
       "      <td>114.354438</td>\n",
       "      <td>-23.314062</td>\n",
       "      <td>0.000000</td>\n",
       "    </tr>\n",
       "    <tr>\n",
       "      <th>2</th>\n",
       "      <td>3</td>\n",
       "      <td>1.121525</td>\n",
       "      <td>129.981640</td>\n",
       "      <td>-17.543797</td>\n",
       "      <td>-2.747358</td>\n",
       "    </tr>\n",
       "  </tbody>\n",
       "</table>\n",
       "</div>"
      ],
      "text/plain": [
       "   coupon_id  mean_quantity_item_coupon  mean_selling_price_item_coupon  \\\n",
       "0          1                   1.221644                      100.195701   \n",
       "1          2                   1.137500                      114.354438   \n",
       "2          3                   1.121525                      129.981640   \n",
       "\n",
       "   mean_other_discount_item_coupon  mean_coupon_discount_item_coupon  \n",
       "0                       -25.273218                         -1.321524  \n",
       "1                       -23.314062                          0.000000  \n",
       "2                       -17.543797                         -2.747358  "
      ]
     },
     "execution_count": 29,
     "metadata": {},
     "output_type": "execute_result"
    }
   ],
   "source": [
    "coupon_item_sales=coupon_item_trans_brand.groupby('coupon_id')[['mean_quantity_item','mean_selling_price_item','mean_other_discount_item','mean_coupon_discount_item']].mean()\n",
    "coupon_item_sales.columns=[col+'_coupon' for col in coupon_item_sales]\n",
    "coupon_item_sales=coupon_item_sales.reset_index()\n",
    "coupon_item_sales.head(3)\n"
   ]
  },
  {
   "cell_type": "code",
   "execution_count": 30,
   "metadata": {},
   "outputs": [],
   "source": [
    "data=pd.merge(data,coupon_item_sales,on='coupon_id',how='left')"
   ]
  },
  {
   "cell_type": "code",
   "execution_count": 31,
   "metadata": {},
   "outputs": [],
   "source": [
    "data=pd.merge(data,coupon_brand,on='coupon_id',how='left')"
   ]
  },
  {
   "cell_type": "code",
   "execution_count": 32,
   "metadata": {},
   "outputs": [
    {
     "data": {
      "text/plain": [
       "id                                     int64\n",
       "campaign_id                            int64\n",
       "coupon_id                              int64\n",
       "customer_id                            int64\n",
       "redemption_status                      int64\n",
       "campaign_type                       category\n",
       "duration                               int64\n",
       "month                               category\n",
       "year                                category\n",
       "age_range                           category\n",
       "marital_status                      category\n",
       "rented                              category\n",
       "family_size                         category\n",
       "no_of_children                      category\n",
       "income_bracket                      category\n",
       "mean_quantity_cust                   float64\n",
       "mean_selling_price_cust              float64\n",
       "mean_other_discount_cust             float64\n",
       "mean_coupon_discount_cust            float64\n",
       "mean_quantity_item_coupon            float64\n",
       "mean_selling_price_item_coupon       float64\n",
       "mean_other_discount_item_coupon      float64\n",
       "mean_coupon_discount_item_coupon     float64\n",
       "brand                               category\n",
       "brand_type                          category\n",
       "category                            category\n",
       "dtype: object"
      ]
     },
     "execution_count": 32,
     "metadata": {},
     "output_type": "execute_result"
    }
   ],
   "source": [
    "data[['brand','brand_type','category']]=data[['brand','brand_type','category']].astype('category')\n",
    "data.dtypes"
   ]
  },
  {
   "cell_type": "code",
   "execution_count": 33,
   "metadata": {},
   "outputs": [
    {
     "data": {
      "text/plain": [
       "(78369, 26)"
      ]
     },
     "execution_count": 33,
     "metadata": {},
     "output_type": "execute_result"
    }
   ],
   "source": [
    "data.shape"
   ]
  },
  {
   "cell_type": "code",
   "execution_count": 34,
   "metadata": {},
   "outputs": [],
   "source": [
    "# Guardamos los datos\n",
    "data.to_csv('../Data/data_preprocessed.csv')"
   ]
  },
  {
   "cell_type": "code",
   "execution_count": null,
   "metadata": {},
   "outputs": [],
   "source": []
  }
 ],
 "metadata": {
  "kernelspec": {
   "display_name": "Python [conda env:dhdsblend2021] *",
   "language": "python",
   "name": "conda-env-dhdsblend2021-py"
  },
  "language_info": {
   "codemirror_mode": {
    "name": "ipython",
    "version": 3
   },
   "file_extension": ".py",
   "mimetype": "text/x-python",
   "name": "python",
   "nbconvert_exporter": "python",
   "pygments_lexer": "ipython3",
   "version": "3.8.11"
  }
 },
 "nbformat": 4,
 "nbformat_minor": 4
}
