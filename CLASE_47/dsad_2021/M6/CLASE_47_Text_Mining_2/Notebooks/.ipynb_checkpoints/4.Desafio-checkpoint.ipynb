{
 "cells": [
  {
   "cell_type": "code",
   "execution_count": 58,
   "metadata": {},
   "outputs": [
    {
     "name": "stdout",
     "output_type": "stream",
     "text": [
      "/Users/csuarezgurruchaga/Desktop/Digital-House/CLASE_47/dsad_2021/common\n",
      "default checking\n",
      "Running command `conda list`... ok\n",
      "jupyterlab=2.2.6 already installed\n",
      "pandas=1.1.5 already installed\n",
      "bokeh=2.2.3 already installed\n",
      "seaborn=0.11.0 already installed\n",
      "matplotlib=3.3.2 already installed\n",
      "ipywidgets=7.5.1 already installed\n",
      "pytest=6.2.1 already installed\n",
      "chardet=4.0.0 already installed\n",
      "psutil=5.7.2 already installed\n",
      "scipy=1.5.2 already installed\n",
      "statsmodels=0.12.1 already installed\n",
      "scikit-learn=0.23.2 already installed\n",
      "xlrd=2.0.1 already installed\n",
      "nltk=3.5 already installed\n",
      "unidecode=1.1.1 already installed\n",
      "pydotplus=2.0.2 already installed\n",
      "pandas-datareader=0.9.0 already installed\n",
      "flask=1.1.2 already installed\n"
     ]
    }
   ],
   "source": [
    "# initial setup\n",
    "%run \"../../../common/0_notebooks_base_setup.py\"\n"
   ]
  },
  {
   "cell_type": "markdown",
   "metadata": {},
   "source": [
    "<img src='../../../common/logo_DH.png' align='left' width=35%/>"
   ]
  },
  {
   "cell_type": "markdown",
   "metadata": {},
   "source": [
    "## Desafío: Clasificación de artículos de diario\n",
    "\n",
    "Trabajaremos con un dataset de noticias de los diarios Clarin y Pagina12. El objetivo de la práctica será implementar un modelo que permita predecir de qué diario proviene una noticia."
   ]
  },
  {
   "cell_type": "code",
   "execution_count": 59,
   "metadata": {},
   "outputs": [],
   "source": [
    "import pandas as pd\n",
    "import numpy as np\n",
    "import seaborn as sns\n",
    "import matplotlib.pyplot as plt\n",
    "from sklearn.model_selection import train_test_split, StratifiedKFold, GridSearchCV\n",
    "from sklearn.feature_extraction.text import CountVectorizer\n",
    "from sklearn.naive_bayes import MultinomialNB\n",
    "from sklearn.metrics import accuracy_score,confusion_matrix\n",
    "import unidecode\n",
    "from nltk.corpus import stopwords "
   ]
  },
  {
   "cell_type": "markdown",
   "metadata": {},
   "source": [
    "### 1. Importamos los datos\n",
    "\n",
    "* Importen los datos con pandas y generen un dataframe agregando una columna 'clase' que indique si son noticias de Clarin o de Pagina12.\n",
    "\n",
    "Las noticias de Clarin se encuentran en '../Data/clarin.csv' y las de Pagina12 en '../Data/pagina12.csv'.\n",
    "\n",
    "* Concatenen ambos data sets en un solo dataframe.\n",
    "\n",
    "* ¿Cuántas noticias tenemos de cada diario?\n",
    "\n",
    "* ¿Qué columnas tiene el dataframe? "
   ]
  },
  {
   "cell_type": "code",
   "execution_count": 60,
   "metadata": {},
   "outputs": [],
   "source": [
    "clarin = pd.read_csv('../Data/clarin.csv')\n",
    "pagina = pd.read_csv('../Data/pagina12.csv')"
   ]
  },
  {
   "cell_type": "code",
   "execution_count": 61,
   "metadata": {},
   "outputs": [],
   "source": [
    "clarin['clase']='clarin'\n",
    "pagina['clase']='pagina12'"
   ]
  },
  {
   "cell_type": "code",
   "execution_count": 62,
   "metadata": {},
   "outputs": [],
   "source": [
    "df=pd.concat([clarin, pagina], axis=0)"
   ]
  },
  {
   "cell_type": "code",
   "execution_count": 63,
   "metadata": {},
   "outputs": [
    {
     "data": {
      "text/plain": [
       "clarin      382\n",
       "pagina12    221\n",
       "Name: clase, dtype: int64"
      ]
     },
     "execution_count": 63,
     "metadata": {},
     "output_type": "execute_result"
    }
   ],
   "source": [
    "df.clase.value_counts()"
   ]
  },
  {
   "cell_type": "code",
   "execution_count": 64,
   "metadata": {},
   "outputs": [
    {
     "data": {
      "text/plain": [
       "Index(['Unnamed: 0', 'cuerpo', 'fecha_hora', 'imagen', 'resumen', 'suplemento',\n",
       "       'titulo', 'url', 'clase'],\n",
       "      dtype='object')"
      ]
     },
     "execution_count": 64,
     "metadata": {},
     "output_type": "execute_result"
    }
   ],
   "source": [
    "df.columns"
   ]
  },
  {
   "cell_type": "code",
   "execution_count": 65,
   "metadata": {},
   "outputs": [
    {
     "data": {
      "text/plain": [
       "9"
      ]
     },
     "execution_count": 65,
     "metadata": {},
     "output_type": "execute_result"
    }
   ],
   "source": [
    "df.shape[1]"
   ]
  },
  {
   "cell_type": "markdown",
   "metadata": {},
   "source": [
    "### 2. Limpieza\n",
    "\n",
    "#### 2.1 Faltantes\n",
    "\n",
    "A partir del dataset observamos que los campos que probablemente contengan el vocabulario relevante son \"cuerpo\", \"título\" y \"resumen\".\n",
    "\n",
    "* Saquen del análisis los registros que no tienen cuerpo o título disponible\n",
    "\n",
    "* Completen los resúmenes faltantes con una campo en blanco\n"
   ]
  },
  {
   "cell_type": "code",
   "execution_count": 66,
   "metadata": {},
   "outputs": [],
   "source": [
    "df.cuerpo.dropna(inplace = True)\n",
    "df.titulo.dropna(inplace=True)"
   ]
  },
  {
   "cell_type": "code",
   "execution_count": 67,
   "metadata": {},
   "outputs": [],
   "source": [
    "df.resumen.fillna(' ', inplace=True)"
   ]
  },
  {
   "cell_type": "code",
   "execution_count": 68,
   "metadata": {},
   "outputs": [
    {
     "data": {
      "text/html": [
       "<div>\n",
       "<style scoped>\n",
       "    .dataframe tbody tr th:only-of-type {\n",
       "        vertical-align: middle;\n",
       "    }\n",
       "\n",
       "    .dataframe tbody tr th {\n",
       "        vertical-align: top;\n",
       "    }\n",
       "\n",
       "    .dataframe thead th {\n",
       "        text-align: right;\n",
       "    }\n",
       "</style>\n",
       "<table border=\"1\" class=\"dataframe\">\n",
       "  <thead>\n",
       "    <tr style=\"text-align: right;\">\n",
       "      <th></th>\n",
       "      <th>Unnamed: 0</th>\n",
       "      <th>cuerpo</th>\n",
       "      <th>fecha_hora</th>\n",
       "      <th>imagen</th>\n",
       "      <th>resumen</th>\n",
       "      <th>suplemento</th>\n",
       "      <th>titulo</th>\n",
       "      <th>url</th>\n",
       "      <th>clase</th>\n",
       "    </tr>\n",
       "  </thead>\n",
       "  <tbody>\n",
       "    <tr>\n",
       "      <th>36</th>\n",
       "      <td>36</td>\n",
       "      <td>Por primera vez en la historia de Uruguay, u...</td>\n",
       "      <td>10/10/2017</td>\n",
       "      <td>//images.clarin.com/2017/10/10/HkdWi_c3W_930x5...</td>\n",
       "      <td>Michelle Suárez, de 33 años, milita en el Part...</td>\n",
       "      <td>/sociedad/</td>\n",
       "      <td>Asumió la primera senadora trans en Uruguay</td>\n",
       "      <td>http://www.clarin.com/sociedad/asumio-primera-...</td>\n",
       "      <td>clarin</td>\n",
       "    </tr>\n",
       "    <tr>\n",
       "      <th>33</th>\n",
       "      <td>33</td>\n",
       "      <td>México y Costa Rica lograron la clasificación ...</td>\n",
       "      <td>09 de octubre de 2017</td>\n",
       "      <td>NaN</td>\n",
       "      <td></td>\n",
       "      <td>NaN</td>\n",
       "      <td>Arde la Concacaf</td>\n",
       "      <td>https://www.pagina12.com.ar/67921-arde-la-conc...</td>\n",
       "      <td>pagina12</td>\n",
       "    </tr>\n",
       "  </tbody>\n",
       "</table>\n",
       "</div>"
      ],
      "text/plain": [
       "    Unnamed: 0                                             cuerpo  \\\n",
       "36          36    Por primera vez en la historia de Uruguay, u...   \n",
       "33          33  México y Costa Rica lograron la clasificación ...   \n",
       "\n",
       "               fecha_hora                                             imagen  \\\n",
       "36            10/10/2017   //images.clarin.com/2017/10/10/HkdWi_c3W_930x5...   \n",
       "33  09 de octubre de 2017                                                NaN   \n",
       "\n",
       "                                              resumen  suplemento  \\\n",
       "36  Michelle Suárez, de 33 años, milita en el Part...  /sociedad/   \n",
       "33                                                            NaN   \n",
       "\n",
       "                                         titulo  \\\n",
       "36  Asumió la primera senadora trans en Uruguay   \n",
       "33                             Arde la Concacaf   \n",
       "\n",
       "                                                  url     clase  \n",
       "36  http://www.clarin.com/sociedad/asumio-primera-...    clarin  \n",
       "33  https://www.pagina12.com.ar/67921-arde-la-conc...  pagina12  "
      ]
     },
     "execution_count": 68,
     "metadata": {},
     "output_type": "execute_result"
    }
   ],
   "source": [
    "df.sample(2)"
   ]
  },
  {
   "cell_type": "markdown",
   "metadata": {},
   "source": [
    "#### 2.2 Suplementos relevantes\n",
    "\n",
    "Para mejorar la clasificación es conveniente retirar las secciones donde los dos diarios utilizan un vocabulario similar y muy específico del dominio como, por ejemplo, las relacionadas a deportes.\n",
    "\n",
    "* Miren las secciones dentro de la columna 'suplemento': Ojo que hay secciones de deportes con diferente nombre por ejemplo '/deportes/futbol/'\n",
    "\n",
    "* Remuevan las noticias de deportes"
   ]
  },
  {
   "cell_type": "code",
   "execution_count": 70,
   "metadata": {},
   "outputs": [],
   "source": [
    "import regex as re"
   ]
  },
  {
   "cell_type": "code",
   "execution_count": 71,
   "metadata": {},
   "outputs": [],
   "source": [
    "df = df.applymap(lambda x: x.lower() if type(x)==str else x)"
   ]
  },
  {
   "cell_type": "code",
   "execution_count": 76,
   "metadata": {},
   "outputs": [],
   "source": [
    "deporte=re.compile('deporte')\n",
    "\n",
    "deporte_row=df['suplemento'].apply(lambda x : re.match(deporte, str(x)))\n",
    "\n",
    "strip_rows_mask=deporte_row.isnull()\n",
    "\n",
    "df = df[strip_rows_mask]\n",
    "\n",
    "df.drop(index=df[df['suplemento']=='/br/'].index,inplace=True) # Tiro articulos en portugues"
   ]
  },
  {
   "cell_type": "code",
   "execution_count": null,
   "metadata": {},
   "outputs": [],
   "source": []
  },
  {
   "cell_type": "markdown",
   "metadata": {},
   "source": [
    "#### 2.3 Corpus\n",
    "\n",
    "El data set tiene informacion relevante en las columnas 'título', 'resumen' y 'cuerpo', de modo que podemos generar una nueva columna que sea la concatenación de estas tres. \n",
    "\n",
    "* Generen dicha columna, que será nuestro corpus de documentos.\n"
   ]
  },
  {
   "cell_type": "code",
   "execution_count": 77,
   "metadata": {},
   "outputs": [],
   "source": [
    "df ['corpus']=df['titulo'] + ' ' +df['resumen'] + ' ' + df['cuerpo']"
   ]
  },
  {
   "cell_type": "code",
   "execution_count": 79,
   "metadata": {},
   "outputs": [
    {
     "data": {
      "text/html": [
       "<div>\n",
       "<style scoped>\n",
       "    .dataframe tbody tr th:only-of-type {\n",
       "        vertical-align: middle;\n",
       "    }\n",
       "\n",
       "    .dataframe tbody tr th {\n",
       "        vertical-align: top;\n",
       "    }\n",
       "\n",
       "    .dataframe thead th {\n",
       "        text-align: right;\n",
       "    }\n",
       "</style>\n",
       "<table border=\"1\" class=\"dataframe\">\n",
       "  <thead>\n",
       "    <tr style=\"text-align: right;\">\n",
       "      <th></th>\n",
       "      <th>Unnamed: 0</th>\n",
       "      <th>cuerpo</th>\n",
       "      <th>fecha_hora</th>\n",
       "      <th>imagen</th>\n",
       "      <th>resumen</th>\n",
       "      <th>suplemento</th>\n",
       "      <th>titulo</th>\n",
       "      <th>url</th>\n",
       "      <th>clase</th>\n",
       "      <th>corpus</th>\n",
       "    </tr>\n",
       "  </thead>\n",
       "  <tbody>\n",
       "    <tr>\n",
       "      <th>0</th>\n",
       "      <td>0</td>\n",
       "      <td>el ministerio de agroindustria de la nación,...</td>\n",
       "      <td>10/10/2017</td>\n",
       "      <td>//images.clarin.com/2017/10/10/sj21dsq3z_930x5...</td>\n",
       "      <td>de acuerdo a los datos relevados por el instit...</td>\n",
       "      <td>/lo-ultimo/</td>\n",
       "      <td>soja: aumentó la superficie sembrada con semil...</td>\n",
       "      <td>http://www.clarin.com/rural/soja-aumento-siemb...</td>\n",
       "      <td>clarin</td>\n",
       "      <td>soja: aumentó la superficie sembrada con semil...</td>\n",
       "    </tr>\n",
       "    <tr>\n",
       "      <th>1</th>\n",
       "      <td>1</td>\n",
       "      <td>políticos, economistas, funcionarios, empres...</td>\n",
       "      <td>10/10/2017</td>\n",
       "      <td>//images.clarin.com/2017/10/10/hj7cmic3z_930x5...</td>\n",
       "      <td>los sondeos para las próximas elecciones y la ...</td>\n",
       "      <td>/lo-ultimo/</td>\n",
       "      <td>políticos, empresarios y periodistas en la cel...</td>\n",
       "      <td>http://www.clarin.com/politica/politicos-empre...</td>\n",
       "      <td>clarin</td>\n",
       "      <td>políticos, empresarios y periodistas en la cel...</td>\n",
       "    </tr>\n",
       "  </tbody>\n",
       "</table>\n",
       "</div>"
      ],
      "text/plain": [
       "   Unnamed: 0                                             cuerpo  \\\n",
       "0           0    el ministerio de agroindustria de la nación,...   \n",
       "1           1    políticos, economistas, funcionarios, empres...   \n",
       "\n",
       "     fecha_hora                                             imagen  \\\n",
       "0   10/10/2017   //images.clarin.com/2017/10/10/sj21dsq3z_930x5...   \n",
       "1   10/10/2017   //images.clarin.com/2017/10/10/hj7cmic3z_930x5...   \n",
       "\n",
       "                                             resumen   suplemento  \\\n",
       "0  de acuerdo a los datos relevados por el instit...  /lo-ultimo/   \n",
       "1  los sondeos para las próximas elecciones y la ...  /lo-ultimo/   \n",
       "\n",
       "                                              titulo  \\\n",
       "0  soja: aumentó la superficie sembrada con semil...   \n",
       "1  políticos, empresarios y periodistas en la cel...   \n",
       "\n",
       "                                                 url   clase  \\\n",
       "0  http://www.clarin.com/rural/soja-aumento-siemb...  clarin   \n",
       "1  http://www.clarin.com/politica/politicos-empre...  clarin   \n",
       "\n",
       "                                              corpus  \n",
       "0  soja: aumentó la superficie sembrada con semil...  \n",
       "1  políticos, empresarios y periodistas en la cel...  "
      ]
     },
     "execution_count": 79,
     "metadata": {},
     "output_type": "execute_result"
    }
   ],
   "source": [
    "df.head(2)"
   ]
  },
  {
   "cell_type": "code",
   "execution_count": null,
   "metadata": {},
   "outputs": [],
   "source": []
  },
  {
   "cell_type": "markdown",
   "metadata": {},
   "source": [
    "## 3. Modelo\n",
    "\n",
    "### 3.1 \n",
    "\n",
    "* Vectoricen el corpus de textos resultante con CountVectorizer, removiendo stopwords. Usen el argumento strip_accents='unicode' para remover tildes del texto.\n",
    "\n",
    "Atención: las stopwords importadas de nltk contienen tildes. Elimínenlas antes de vectorizar el corpus.\n",
    "\n",
    "* ¿Cuál es la dimensión de la matriz de features?\n",
    "\n",
    "* Apliquen un modelo Naive Bayes con un split simple entre train y test. \n",
    "\n",
    "* ¿Cuál es el accuracy obtenido?  \n",
    "\n",
    "* Dibujen la matriz de confusión."
   ]
  },
  {
   "cell_type": "code",
   "execution_count": 103,
   "metadata": {},
   "outputs": [],
   "source": [
    "from nltk.corpus import stopwords \n",
    "from nltk.stem.snowball import SnowballStemmer\n",
    "from sklearn.feature_extraction.text import CountVectorizer, TfidfTransformer, TfidfVectorizer\n",
    "from nltk.stem.snowball import SnowballStemmer #spanish\n",
    "from sklearn.model_selection import train_test_split"
   ]
  },
  {
   "cell_type": "code",
   "execution_count": 107,
   "metadata": {},
   "outputs": [],
   "source": [
    "stop_words = stopwords.words('spanish')\n",
    "stop_words=[unidecode.unidecode(word.lower()) for word in stop_words ]; # quitamos acentos de las stopwords\n",
    "\n",
    "spanishStemmer=SnowballStemmer(\"spanish\")\n",
    "\n",
    "stop_words_estem = [spanishStemmer.stem(_) for _ in stop_words]\n",
    "\n",
    "\n",
    "df.corpus = df.corpus.apply(lambda x: spanishStemmer.stem(str(x)))\n",
    "\n",
    "vectorizer=TfidfVectorizer(strip_accents='unicode', stop_words=stop_words_estem)"
   ]
  },
  {
   "cell_type": "code",
   "execution_count": 112,
   "metadata": {},
   "outputs": [],
   "source": [
    "X_train, X_test, y_train, y_test = train_test_split(df.corpus, df.clase, stratify = df.clase, random_state =1203)"
   ]
  },
  {
   "cell_type": "code",
   "execution_count": 113,
   "metadata": {},
   "outputs": [],
   "source": [
    "X_train = vectorizer.fit_transform(X_train)\n",
    "X_test  = vectorizer.transform(X_test)"
   ]
  },
  {
   "cell_type": "code",
   "execution_count": 114,
   "metadata": {},
   "outputs": [
    {
     "data": {
      "text/plain": [
       "(424, 26382)"
      ]
     },
     "execution_count": 114,
     "metadata": {},
     "output_type": "execute_result"
    }
   ],
   "source": [
    "X_train.shape"
   ]
  },
  {
   "cell_type": "code",
   "execution_count": 115,
   "metadata": {},
   "outputs": [],
   "source": [
    "nb=MultinomialNB().fit(X_train, y_train)"
   ]
  },
  {
   "cell_type": "code",
   "execution_count": 116,
   "metadata": {},
   "outputs": [
    {
     "data": {
      "text/plain": [
       "0.6619718309859155"
      ]
     },
     "execution_count": 116,
     "metadata": {},
     "output_type": "execute_result"
    }
   ],
   "source": [
    "accuracy_score(y_test, nb.predict(X_test))"
   ]
  },
  {
   "cell_type": "code",
   "execution_count": 117,
   "metadata": {},
   "outputs": [
    {
     "data": {
      "text/plain": [
       "array([[93,  0],\n",
       "       [48,  1]])"
      ]
     },
     "execution_count": 117,
     "metadata": {},
     "output_type": "execute_result"
    }
   ],
   "source": [
    "confusion_matrix(y_test, nb.predict(X_test))"
   ]
  },
  {
   "cell_type": "markdown",
   "metadata": {},
   "source": [
    "### 3.2 Optimización del modelo\n",
    "\n",
    "* Hagan una gridsearch cross validation variando el hiperparámetro alpha en el rango (0;0.1)\n",
    "\n",
    "* Vean la accuracy y la matriz de confusión obtenida con el mejor modelo, en el test set."
   ]
  },
  {
   "cell_type": "code",
   "execution_count": 122,
   "metadata": {},
   "outputs": [
    {
     "data": {
      "text/plain": [
       "array([0.1, 0.2, 0.3, 0.4, 0.5, 0.6, 0.7, 0.8, 0.9])"
      ]
     },
     "execution_count": 122,
     "metadata": {},
     "output_type": "execute_result"
    }
   ],
   "source": [
    "np.arange(0.1,1,0.1)"
   ]
  },
  {
   "cell_type": "code",
   "execution_count": 127,
   "metadata": {},
   "outputs": [],
   "source": [
    "param_grid = {'alpha':np.arange(0.01,1,0.1)}\n",
    "\n",
    "skf = StratifiedKFold(shuffle = True, random_state=1203)\n",
    "\n",
    "gs = GridSearchCV(MultinomialNB(), param_grid, cv = skf).fit(X_train, y_train)\n",
    "\n",
    "best_nb = gs.best_estimator_"
   ]
  },
  {
   "cell_type": "code",
   "execution_count": 128,
   "metadata": {},
   "outputs": [
    {
     "data": {
      "text/plain": [
       "0.823943661971831"
      ]
     },
     "execution_count": 128,
     "metadata": {},
     "output_type": "execute_result"
    }
   ],
   "source": [
    "accuracy_score(y_test, best_nb.predict(X_test))"
   ]
  },
  {
   "cell_type": "code",
   "execution_count": 129,
   "metadata": {},
   "outputs": [
    {
     "data": {
      "text/plain": [
       "array([[89,  4],\n",
       "       [21, 28]])"
      ]
     },
     "execution_count": 129,
     "metadata": {},
     "output_type": "execute_result"
    }
   ],
   "source": [
    "confusion_matrix(y_test, best_nb.predict(X_test))"
   ]
  },
  {
   "cell_type": "markdown",
   "metadata": {},
   "source": [
    "### 4. Análisis de los resultados \n",
    "\n",
    "El modelo entrenado tiene el atributo \"feature_log_prob\" que contiene el logaritmo de los coeficientes $\\theta_{yi}$, que representan la probabilidad de que el término i-ésimo pertenezca a la clase $y$.\n",
    "\n",
    "¿Cuáles son las features (palabras) que mejor separan a las dos clases?\n",
    "\n",
    "* Calculen el cociente entre los logaritmos de los coeficientes estimados para la clase \"clarin\" y para \"pagina12\". ¿Cuáles términos mustran mayor diferencia entre ambos valores?"
   ]
  },
  {
   "cell_type": "code",
   "execution_count": 155,
   "metadata": {},
   "outputs": [
    {
     "data": {
      "text/html": [
       "<div>\n",
       "<style scoped>\n",
       "    .dataframe tbody tr th:only-of-type {\n",
       "        vertical-align: middle;\n",
       "    }\n",
       "\n",
       "    .dataframe tbody tr th {\n",
       "        vertical-align: top;\n",
       "    }\n",
       "\n",
       "    .dataframe thead th {\n",
       "        text-align: right;\n",
       "    }\n",
       "</style>\n",
       "<table border=\"1\" class=\"dataframe\">\n",
       "  <thead>\n",
       "    <tr style=\"text-align: right;\">\n",
       "      <th></th>\n",
       "      <th>clarin</th>\n",
       "      <th>pagina12</th>\n",
       "      <th>relative_importance</th>\n",
       "      <th>prediccion</th>\n",
       "    </tr>\n",
       "  </thead>\n",
       "  <tbody>\n",
       "    <tr>\n",
       "      <th>0</th>\n",
       "      <td>-9.642326</td>\n",
       "      <td>-10.006470</td>\n",
       "      <td>0.963609</td>\n",
       "      <td>pagina 12</td>\n",
       "    </tr>\n",
       "    <tr>\n",
       "      <th>1</th>\n",
       "      <td>-8.133229</td>\n",
       "      <td>-8.972816</td>\n",
       "      <td>0.906430</td>\n",
       "      <td>pagina 12</td>\n",
       "    </tr>\n",
       "    <tr>\n",
       "      <th>2</th>\n",
       "      <td>-10.704275</td>\n",
       "      <td>-10.621040</td>\n",
       "      <td>1.007837</td>\n",
       "      <td>clarin</td>\n",
       "    </tr>\n",
       "    <tr>\n",
       "      <th>3</th>\n",
       "      <td>-10.842437</td>\n",
       "      <td>-10.621040</td>\n",
       "      <td>1.020845</td>\n",
       "      <td>clarin</td>\n",
       "    </tr>\n",
       "    <tr>\n",
       "      <th>4</th>\n",
       "      <td>-10.589056</td>\n",
       "      <td>-10.621040</td>\n",
       "      <td>0.996989</td>\n",
       "      <td>pagina 12</td>\n",
       "    </tr>\n",
       "    <tr>\n",
       "      <th>...</th>\n",
       "      <td>...</td>\n",
       "      <td>...</td>\n",
       "      <td>...</td>\n",
       "      <td>...</td>\n",
       "    </tr>\n",
       "    <tr>\n",
       "      <th>26377</th>\n",
       "      <td>-10.528606</td>\n",
       "      <td>-10.621040</td>\n",
       "      <td>0.991297</td>\n",
       "      <td>pagina 12</td>\n",
       "    </tr>\n",
       "    <tr>\n",
       "      <th>26378</th>\n",
       "      <td>-10.971231</td>\n",
       "      <td>-10.074580</td>\n",
       "      <td>1.089001</td>\n",
       "      <td>clarin</td>\n",
       "    </tr>\n",
       "    <tr>\n",
       "      <th>26379</th>\n",
       "      <td>-10.456410</td>\n",
       "      <td>-10.621040</td>\n",
       "      <td>0.984500</td>\n",
       "      <td>pagina 12</td>\n",
       "    </tr>\n",
       "    <tr>\n",
       "      <th>26380</th>\n",
       "      <td>-10.456410</td>\n",
       "      <td>-10.621040</td>\n",
       "      <td>0.984500</td>\n",
       "      <td>pagina 12</td>\n",
       "    </tr>\n",
       "    <tr>\n",
       "      <th>26381</th>\n",
       "      <td>-10.456410</td>\n",
       "      <td>-10.621040</td>\n",
       "      <td>0.984500</td>\n",
       "      <td>pagina 12</td>\n",
       "    </tr>\n",
       "  </tbody>\n",
       "</table>\n",
       "<p>26382 rows × 4 columns</p>\n",
       "</div>"
      ],
      "text/plain": [
       "          clarin   pagina12  relative_importance prediccion\n",
       "0      -9.642326 -10.006470             0.963609  pagina 12\n",
       "1      -8.133229  -8.972816             0.906430  pagina 12\n",
       "2     -10.704275 -10.621040             1.007837     clarin\n",
       "3     -10.842437 -10.621040             1.020845     clarin\n",
       "4     -10.589056 -10.621040             0.996989  pagina 12\n",
       "...          ...        ...                  ...        ...\n",
       "26377 -10.528606 -10.621040             0.991297  pagina 12\n",
       "26378 -10.971231 -10.074580             1.089001     clarin\n",
       "26379 -10.456410 -10.621040             0.984500  pagina 12\n",
       "26380 -10.456410 -10.621040             0.984500  pagina 12\n",
       "26381 -10.456410 -10.621040             0.984500  pagina 12\n",
       "\n",
       "[26382 rows x 4 columns]"
      ]
     },
     "execution_count": 155,
     "metadata": {},
     "output_type": "execute_result"
    }
   ],
   "source": [
    "prob_df = pd.DataFrame(np.transpose(best_nb.feature_log_prob_), columns = ['clarin','pagina12'])\n",
    "\n",
    "prob_df['relative_importance']=best_nb.feature_log_prob_[0]/best_nb.feature_log_prob_[1]\n",
    "prob_df['prediccion'] = prob_df['relative_importance'].apply(lambda x: 'clarin' if x>1 else 'pagina 12')\n",
    "\n",
    "prob_df"
   ]
  },
  {
   "cell_type": "code",
   "execution_count": 131,
   "metadata": {},
   "outputs": [
    {
     "data": {
      "text/plain": [
       "array([ -9.64232609,  -8.13322936, -10.7042753 , ..., -10.45640958,\n",
       "       -10.45640958, -10.45640958])"
      ]
     },
     "execution_count": 131,
     "metadata": {},
     "output_type": "execute_result"
    }
   ],
   "source": [
    "best_nb.feature_log_prob_[0]"
   ]
  },
  {
   "cell_type": "code",
   "execution_count": 136,
   "metadata": {},
   "outputs": [
    {
     "data": {
      "text/plain": [
       "array([-10.00647034,  -8.97281571, -10.62104031, -10.62104031,\n",
       "       -10.62104031, -10.62104031,  -9.86713593, -10.62104031,\n",
       "       -10.62104031, -10.62104031, -10.62104031,  -9.9176872 ,\n",
       "       -10.62104031, -10.04286129, -10.62104031, -10.62104031,\n",
       "       -10.34455943, -10.62104031, -10.11114898, -10.54506659])"
      ]
     },
     "execution_count": 136,
     "metadata": {},
     "output_type": "execute_result"
    }
   ],
   "source": [
    "best_nb.feature_log_prob_[1][:20]"
   ]
  },
  {
   "cell_type": "code",
   "execution_count": 156,
   "metadata": {},
   "outputs": [
    {
     "name": "stderr",
     "output_type": "stream",
     "text": [
      "/Users/csuarezgurruchaga/opt/anaconda3/envs/dhdsblend2021/lib/python3.8/site-packages/seaborn/distributions.py:2551: FutureWarning: `distplot` is a deprecated function and will be removed in a future version. Please adapt your code to use either `displot` (a figure-level function with similar flexibility) or `histplot` (an axes-level function for histograms).\n",
      "  warnings.warn(msg, FutureWarning)\n"
     ]
    },
    {
     "name": "stdout",
     "output_type": "stream",
     "text": [
      "Términos representativos de Clarín:\n",
      "\n",
      "['mira' 'cargando' 'video' 'jugadores' 'hamilton' 'leonas' 'messi'\n",
      " 'hockey' 'bienal' 'pic' 'suar' 'vettel' 'shanghai' 'estrellas' 'cafe'\n",
      " 'super' 'iphone' 'futbol' 'lionel' 'piloto' 'schwartzman' 'diego'\n",
      " 'rebotes' 'juegos' 'olimpico' 'evita' 'chicos' 'meolans' 'potro'\n",
      " 'hinchas' 'lamotta' 'arquitectura' 'ardusso' 'productor' 'clarin' 'liga'\n",
      " 'seleccion' 'choque' 'esquizofrenia' 'new' 'all' 'mensajes' 'aleman'\n",
      " 'jugador' 'nba' 'pol' 'ka' 'spataro' 'entradas' 'ferro' 'bossi' 'ap'\n",
      " 'moto' 'metros' 'apple' 'vehiculo' 'bonelli' 'david' 'harvey' 'carne'\n",
      " 'papa' 'cristiano' 'duelo' 'sorprendio' 'palermo' 'ecuador' 'estabilidad'\n",
      " 'sufrio' 'golovkin' 'musica' 'ciccone' 'leones' 'carrera' 'laurita'\n",
      " 'disponibles' 'campeon' 'edificio' 'medico' 'antonana' 'monk' 'av' 'fifa'\n",
      " 'bar' 'ronaldo' 'mejores' 'pista' 'lesion' 'fechas' 'participan'\n",
      " 'marcaron' 'google' 'roger' 'autos' 'nadal' 'tecnologico' 'ferrari' 'pie'\n",
      " 'open' 'oscar' 'ranking']\n",
      "\n",
      "Términos representativos de Página12:\n",
      "\n",
      "['piketty' 'camaristas' 'candidato' 'intelectual' 'municipal' 'loading'\n",
      " 'paginai12' 'ajuste' 'drogadictos' 'siganlo' 'juridica' 'judiciales'\n",
      " 'olvido' 'laborales' 'abogados' 'berger' 'condori' 'ra' 'dictadura'\n",
      " 'lujan' 'fallos' 'cuper' 'faraon' 'abrieron' 'fonzi' 'taiana' 'garrahan'\n",
      " 'software' 'adquisitivo' 'manifestantes' 'avila' 'aprobar' 'lifschitz'\n",
      " 'umet' 'iet' 'acumulada' 'antidumping' 'email' 'protected' 'frigerio'\n",
      " 'provisorio' 'garantias' 'organismos' 'resistencia' 'millan' 'arias'\n",
      " 'sala' 'unidad' 'deberian' 'secesionista' 'explotacion' 'anoche'\n",
      " 'convenio' 'shakespeare' 'canasta' 'vialidad' 'gobernador' 'apelaciones'\n",
      " 'florencio' 'cuarenta' 'concacaf' 'escrutinio' 'legisladores' 'extrema'\n",
      " 'kung' 'fu' 'morales' 'domiciliaria' 'iorio' 'indigenas' 'jujuy'\n",
      " 'provincial' 'allanamiento' 'xul' 'basilica' 'macron' 'suprema' 'camau'\n",
      " 'listas' 'randazzo' 'mapuches' 'cfk' 'panel' 'mapuche' 'legislacion'\n",
      " 'ciudadana' 'hospitales' 'sukerman' 'justicialista' 'pymes' 'gendarmes'\n",
      " 'defensoria' 'observatorio' 'maldonado' 'ciento' 'gendarmeria' 'humanos'\n",
      " 'cidh' 'colombi' 'pilaga']\n"
     ]
    },
    {
     "data": {
      "image/png": "[encoded data removed]",
      "text/plain": [
       "<Figure size 432x288 with 1 Axes>"
      ]
     },
     "metadata": {
      "needs_background": "light"
     },
     "output_type": "display_data"
    }
   ],
   "source": [
    "relative_importance=best_nb.feature_log_prob_[0]/best_nb.feature_log_prob_[1];\n",
    "# Los valores son log-prob (negativos) de modo que relative_importance < 1 implica que\n",
    "# el coeficiente asignado en la clase 0 (clarin) es mayor que en la clase 1 (pagina) y viceveras\n",
    "%matplotlib inline\n",
    "sns.distplot(relative_importance)\n",
    "plt.xlabel('Importancia Relativa')\n",
    "\n",
    "features=np.array(vectorizer.get_feature_names());\n",
    "\n",
    "indices=np.argsort(relative_importance);\n",
    "\n",
    "print('Términos representativos de Clarín:\\n')\n",
    "print(features[indices[:100]])\n",
    "\n",
    "print('\\nTérminos representativos de Página12:\\n')\n",
    "print(features[indices[-100:]])"
   ]
  },
  {
   "cell_type": "code",
   "execution_count": null,
   "metadata": {},
   "outputs": [],
   "source": []
  },
  {
   "cell_type": "code",
   "execution_count": null,
   "metadata": {},
   "outputs": [],
   "source": []
  },
  {
   "cell_type": "code",
   "execution_count": null,
   "metadata": {},
   "outputs": [],
   "source": []
  }
 ],
 "metadata": {
  "kernelspec": {
   "display_name": "Python [conda env:dhdsblend2021] *",
   "language": "python",
   "name": "conda-env-dhdsblend2021-py"
  },
  "language_info": {
   "codemirror_mode": {
    "name": "ipython",
    "version": 3
   },
   "file_extension": ".py",
   "mimetype": "text/x-python",
   "name": "python",
   "nbconvert_exporter": "python",
   "pygments_lexer": "ipython3",
   "version": "3.8.11"
  }
 },
 "nbformat": 4,
 "nbformat_minor": 4
}
