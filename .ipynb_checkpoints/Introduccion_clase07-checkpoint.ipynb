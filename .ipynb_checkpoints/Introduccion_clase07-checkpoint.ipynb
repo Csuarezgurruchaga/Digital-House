{
 "cells": [
  {
   "cell_type": "code",
   "execution_count": 1,
   "id": "a0671da5",
   "metadata": {},
   "outputs": [],
   "source": [
    "import pandas as pd\n",
    "import geopandas as gpd\n",
    "import matplotlib.pyplot as plt\n",
    "import descartes"
   ]
  },
  {
   "cell_type": "code",
   "execution_count": 2,
   "id": "2bf057ae",
   "metadata": {},
   "outputs": [
    {
     "data": {
      "text/html": [
       "<div>\n",
       "<style scoped>\n",
       "    .dataframe tbody tr th:only-of-type {\n",
       "        vertical-align: middle;\n",
       "    }\n",
       "\n",
       "    .dataframe tbody tr th {\n",
       "        vertical-align: top;\n",
       "    }\n",
       "\n",
       "    .dataframe thead th {\n",
       "        text-align: right;\n",
       "    }\n",
       "</style>\n",
       "<table border=\"1\" class=\"dataframe\">\n",
       "  <thead>\n",
       "    <tr style=\"text-align: right;\">\n",
       "      <th></th>\n",
       "      <th>X</th>\n",
       "      <th>Y</th>\n",
       "      <th>NOMBRE</th>\n",
       "      <th>CALLE</th>\n",
       "      <th>NUMERO</th>\n",
       "    </tr>\n",
       "  </thead>\n",
       "  <tbody>\n",
       "    <tr>\n",
       "      <th>0</th>\n",
       "      <td>-58.393750</td>\n",
       "      <td>-34.605027</td>\n",
       "      <td>CASTELBAMBA</td>\n",
       "      <td>RIOBAMBA</td>\n",
       "      <td>345</td>\n",
       "    </tr>\n",
       "    <tr>\n",
       "      <th>1</th>\n",
       "      <td>-58.378510</td>\n",
       "      <td>-34.596003</td>\n",
       "      <td>GOLDEN</td>\n",
       "      <td>ESMERALDA</td>\n",
       "      <td>1040</td>\n",
       "    </tr>\n",
       "    <tr>\n",
       "      <th>2</th>\n",
       "      <td>-58.374727</td>\n",
       "      <td>-34.612002</td>\n",
       "      <td>REY CASTRO</td>\n",
       "      <td>PERU</td>\n",
       "      <td>342</td>\n",
       "    </tr>\n",
       "    <tr>\n",
       "      <th>3</th>\n",
       "      <td>-58.390154</td>\n",
       "      <td>-34.605531</td>\n",
       "      <td>LA FRANCE</td>\n",
       "      <td>SARMIENTO</td>\n",
       "      <td>1656</td>\n",
       "    </tr>\n",
       "    <tr>\n",
       "      <th>4</th>\n",
       "      <td>-58.371747</td>\n",
       "      <td>-34.601950</td>\n",
       "      <td>BAHREIN</td>\n",
       "      <td>LAVALLE</td>\n",
       "      <td>343</td>\n",
       "    </tr>\n",
       "  </tbody>\n",
       "</table>\n",
       "</div>"
      ],
      "text/plain": [
       "           X          Y       NOMBRE       CALLE NUMERO\n",
       "0 -58.393750 -34.605027  CASTELBAMBA   RIOBAMBA     345\n",
       "1 -58.378510 -34.596003       GOLDEN  ESMERALDA    1040\n",
       "2 -58.374727 -34.612002   REY CASTRO       PERU     342\n",
       "3 -58.390154 -34.605531    LA FRANCE  SARMIENTO    1656\n",
       "4 -58.371747 -34.601950     BAHREIN     LAVALLE     343"
      ]
     },
     "execution_count": 2,
     "metadata": {},
     "output_type": "execute_result"
    }
   ],
   "source": [
    "df_locales = pd.read_csv(\"clase_07/dsad_2021/M1/CLASE_07_GeoPandas/Data/locales-bailables.csv\", encoding='latin1')\n",
    "df_locales.loc[:4, ['X', 'Y','NOMBRE','CALLE','NUMERO']]"
   ]
  },
  {
   "cell_type": "code",
   "execution_count": 3,
   "id": "c853d78f",
   "metadata": {},
   "outputs": [
    {
     "data": {
      "text/html": [
       "<div>\n",
       "<style scoped>\n",
       "    .dataframe tbody tr th:only-of-type {\n",
       "        vertical-align: middle;\n",
       "    }\n",
       "\n",
       "    .dataframe tbody tr th {\n",
       "        vertical-align: top;\n",
       "    }\n",
       "\n",
       "    .dataframe thead th {\n",
       "        text-align: right;\n",
       "    }\n",
       "</style>\n",
       "<table border=\"1\" class=\"dataframe\">\n",
       "  <thead>\n",
       "    <tr style=\"text-align: right;\">\n",
       "      <th></th>\n",
       "      <th>geometry</th>\n",
       "      <th>X</th>\n",
       "      <th>Y</th>\n",
       "      <th>NOMBRE</th>\n",
       "      <th>CALLE</th>\n",
       "      <th>NUMERO</th>\n",
       "    </tr>\n",
       "  </thead>\n",
       "  <tbody>\n",
       "    <tr>\n",
       "      <th>0</th>\n",
       "      <td>POINT (-58.39375 -34.60503)</td>\n",
       "      <td>-58.393750</td>\n",
       "      <td>-34.605027</td>\n",
       "      <td>CASTELBAMBA</td>\n",
       "      <td>RIOBAMBA</td>\n",
       "      <td>345</td>\n",
       "    </tr>\n",
       "    <tr>\n",
       "      <th>1</th>\n",
       "      <td>POINT (-58.37851 -34.59600)</td>\n",
       "      <td>-58.378510</td>\n",
       "      <td>-34.596003</td>\n",
       "      <td>GOLDEN</td>\n",
       "      <td>ESMERALDA</td>\n",
       "      <td>1040</td>\n",
       "    </tr>\n",
       "    <tr>\n",
       "      <th>2</th>\n",
       "      <td>POINT (-58.37473 -34.61200)</td>\n",
       "      <td>-58.374727</td>\n",
       "      <td>-34.612002</td>\n",
       "      <td>REY CASTRO</td>\n",
       "      <td>PERU</td>\n",
       "      <td>342</td>\n",
       "    </tr>\n",
       "    <tr>\n",
       "      <th>3</th>\n",
       "      <td>POINT (-58.39015 -34.60553)</td>\n",
       "      <td>-58.390154</td>\n",
       "      <td>-34.605531</td>\n",
       "      <td>LA FRANCE</td>\n",
       "      <td>SARMIENTO</td>\n",
       "      <td>1656</td>\n",
       "    </tr>\n",
       "    <tr>\n",
       "      <th>4</th>\n",
       "      <td>POINT (-58.37175 -34.60195)</td>\n",
       "      <td>-58.371747</td>\n",
       "      <td>-34.601950</td>\n",
       "      <td>BAHREIN</td>\n",
       "      <td>LAVALLE</td>\n",
       "      <td>343</td>\n",
       "    </tr>\n",
       "  </tbody>\n",
       "</table>\n",
       "</div>"
      ],
      "text/plain": [
       "                      geometry          X          Y       NOMBRE       CALLE  \\\n",
       "0  POINT (-58.39375 -34.60503) -58.393750 -34.605027  CASTELBAMBA   RIOBAMBA    \n",
       "1  POINT (-58.37851 -34.59600) -58.378510 -34.596003       GOLDEN  ESMERALDA    \n",
       "2  POINT (-58.37473 -34.61200) -58.374727 -34.612002   REY CASTRO       PERU    \n",
       "3  POINT (-58.39015 -34.60553) -58.390154 -34.605531    LA FRANCE  SARMIENTO    \n",
       "4  POINT (-58.37175 -34.60195) -58.371747 -34.601950     BAHREIN     LAVALLE    \n",
       "\n",
       "  NUMERO  \n",
       "0    345  \n",
       "1   1040  \n",
       "2    342  \n",
       "3   1656  \n",
       "4    343  "
      ]
     },
     "execution_count": 3,
     "metadata": {},
     "output_type": "execute_result"
    }
   ],
   "source": [
    "geo_locales = gpd.GeoDataFrame(df_locales\n",
    "                             ,geometry=gpd.points_from_xy(df_locales.X, df_locales.Y))\n",
    "\n",
    "geo_locales.loc[:4, ['geometry', 'X', 'Y','NOMBRE','CALLE','NUMERO']]"
   ]
  },
  {
   "cell_type": "markdown",
   "id": "47a616af",
   "metadata": {},
   "source": [
    "Ejercicio\n",
    "Representar ciudades de Colombia sobre el mapa del país. Y luego generar una línea entre las ciudades de Bogotá y Barranquilla.\n",
    "\n",
    "Usar este código para generar el DataFrame de las ciudades:\n",
    "\n",
    "df_ciudad = pd.DataFrame(\n",
    "    {'Ciudad': ['Bogota','Cali', 'Medellin', 'Barranquilla'],\n",
    "     'Latitud': [4.60971, 3.43722, 6.25184, 10.96854],\n",
    "     'Longitud': [-74.08175, -76.5225, -75.56359, -74.78132]})"
   ]
  },
  {
   "cell_type": "code",
   "execution_count": 4,
   "id": "9d75969b",
   "metadata": {},
   "outputs": [],
   "source": [
    "import pandas as pd\n",
    "import geopandas as gpd\n",
    "import matplotlib.pyplot as plt\n",
    "import descartes"
   ]
  },
  {
   "cell_type": "code",
   "execution_count": 5,
   "id": "c65bf852",
   "metadata": {},
   "outputs": [],
   "source": [
    "df_ciudad = pd.DataFrame(\n",
    "    {'Ciudad': ['Bogota','Cali', 'Medellin', 'Barranquilla'],\n",
    "     'Latitud': [4.60971, 3.43722, 6.25184, 10.96854],\n",
    "     'Longitud': [-74.08175, -76.5225, -75.56359, -74.78132]})"
   ]
  },
  {
   "cell_type": "code",
   "execution_count": 6,
   "id": "3af008c3",
   "metadata": {},
   "outputs": [
    {
     "data": {
      "text/html": [
       "<div>\n",
       "<style scoped>\n",
       "    .dataframe tbody tr th:only-of-type {\n",
       "        vertical-align: middle;\n",
       "    }\n",
       "\n",
       "    .dataframe tbody tr th {\n",
       "        vertical-align: top;\n",
       "    }\n",
       "\n",
       "    .dataframe thead th {\n",
       "        text-align: right;\n",
       "    }\n",
       "</style>\n",
       "<table border=\"1\" class=\"dataframe\">\n",
       "  <thead>\n",
       "    <tr style=\"text-align: right;\">\n",
       "      <th></th>\n",
       "      <th>Ciudad</th>\n",
       "      <th>Latitud</th>\n",
       "      <th>Longitud</th>\n",
       "    </tr>\n",
       "  </thead>\n",
       "  <tbody>\n",
       "    <tr>\n",
       "      <th>0</th>\n",
       "      <td>Bogota</td>\n",
       "      <td>4.60971</td>\n",
       "      <td>-74.08175</td>\n",
       "    </tr>\n",
       "    <tr>\n",
       "      <th>1</th>\n",
       "      <td>Cali</td>\n",
       "      <td>3.43722</td>\n",
       "      <td>-76.52250</td>\n",
       "    </tr>\n",
       "    <tr>\n",
       "      <th>2</th>\n",
       "      <td>Medellin</td>\n",
       "      <td>6.25184</td>\n",
       "      <td>-75.56359</td>\n",
       "    </tr>\n",
       "    <tr>\n",
       "      <th>3</th>\n",
       "      <td>Barranquilla</td>\n",
       "      <td>10.96854</td>\n",
       "      <td>-74.78132</td>\n",
       "    </tr>\n",
       "  </tbody>\n",
       "</table>\n",
       "</div>"
      ],
      "text/plain": [
       "         Ciudad   Latitud  Longitud\n",
       "0        Bogota   4.60971 -74.08175\n",
       "1          Cali   3.43722 -76.52250\n",
       "2      Medellin   6.25184 -75.56359\n",
       "3  Barranquilla  10.96854 -74.78132"
      ]
     },
     "execution_count": 6,
     "metadata": {},
     "output_type": "execute_result"
    }
   ],
   "source": [
    "df_ciudad"
   ]
  },
  {
   "cell_type": "code",
   "execution_count": 7,
   "id": "5a32e671",
   "metadata": {},
   "outputs": [],
   "source": [
    "gdf = gpd.GeoDataFrame(df_ciudad, geometry = gpd.points_from_xy(df_ciudad.Longitud, df_ciudad.Latitud))"
   ]
  },
  {
   "cell_type": "code",
   "execution_count": 8,
   "id": "38a252c0",
   "metadata": {},
   "outputs": [
    {
     "name": "stdout",
     "output_type": "stream",
     "text": [
      "         Ciudad   Latitud  Longitud                    geometry\n",
      "0        Bogota   4.60971 -74.08175   POINT (-74.08175 4.60971)\n",
      "1          Cali   3.43722 -76.52250   POINT (-76.52250 3.43722)\n",
      "2      Medellin   6.25184 -75.56359   POINT (-75.56359 6.25184)\n",
      "3  Barranquilla  10.96854 -74.78132  POINT (-74.78132 10.96854)\n"
     ]
    }
   ],
   "source": [
    "print(gdf.head())\n"
   ]
  },
  {
   "cell_type": "markdown",
   "id": "def2e667",
   "metadata": {},
   "source": [
    "**¿Que tipo de datos tiene la nueva columna geometry?**\n",
    "\n",
    "-La columna geometry, tiene datos de tipo POINT."
   ]
  },
  {
   "cell_type": "code",
   "execution_count": 10,
   "id": "93916408",
   "metadata": {},
   "outputs": [
    {
     "data": {
      "text/html": [
       "<div>\n",
       "<style scoped>\n",
       "    .dataframe tbody tr th:only-of-type {\n",
       "        vertical-align: middle;\n",
       "    }\n",
       "\n",
       "    .dataframe tbody tr th {\n",
       "        vertical-align: top;\n",
       "    }\n",
       "\n",
       "    .dataframe thead th {\n",
       "        text-align: right;\n",
       "    }\n",
       "</style>\n",
       "<table border=\"1\" class=\"dataframe\">\n",
       "  <thead>\n",
       "    <tr style=\"text-align: right;\">\n",
       "      <th></th>\n",
       "      <th>pop_est</th>\n",
       "      <th>continent</th>\n",
       "      <th>name</th>\n",
       "      <th>iso_a3</th>\n",
       "      <th>gdp_md_est</th>\n",
       "      <th>geometry</th>\n",
       "    </tr>\n",
       "  </thead>\n",
       "  <tbody>\n",
       "    <tr>\n",
       "      <th>32</th>\n",
       "      <td>47698524</td>\n",
       "      <td>South America</td>\n",
       "      <td>Colombia</td>\n",
       "      <td>COL</td>\n",
       "      <td>688000.0</td>\n",
       "      <td>POLYGON ((-66.87633 1.25336, -67.06505 1.13011...</td>\n",
       "    </tr>\n",
       "  </tbody>\n",
       "</table>\n",
       "</div>"
      ],
      "text/plain": [
       "     pop_est      continent      name iso_a3  gdp_md_est  \\\n",
       "32  47698524  South America  Colombia    COL    688000.0   \n",
       "\n",
       "                                             geometry  \n",
       "32  POLYGON ((-66.87633 1.25336, -67.06505 1.13011...  "
      ]
     },
     "execution_count": 10,
     "metadata": {},
     "output_type": "execute_result"
    }
   ],
   "source": [
    "# Usar este código para leer el polígono que representa al contorno de Colombia:\n",
    "world = gpd.read_file(gpd.datasets.get_path('naturalearth_lowres'))\n",
    "geo_colombia = world[world.name == 'Colombia']\n",
    "geo_colombia"
   ]
  },
  {
   "cell_type": "code",
   "execution_count": 40,
   "id": "9ba6132d",
   "metadata": {},
   "outputs": [
    {
     "name": "stdout",
     "output_type": "stream",
     "text": [
      "¿Que tipo de datos es geo_colombia? \n",
      " pop_est          int64\n",
      "continent       object\n",
      "name            object\n",
      "iso_a3          object\n",
      "gdp_md_est     float64\n",
      "geometry      geometry\n",
      "dtype: object\n"
     ]
    }
   ],
   "source": [
    "print(f'¿Que tipo de datos es geo_colombia? \\n {geo_colombia.dtypes}')"
   ]
  },
  {
   "cell_type": "markdown",
   "id": "fb513d7d",
   "metadata": {},
   "source": [
    "### Usando la funcion graficar, generar un grafico de las ciudades sobre el mapa del pais."
   ]
  },
  {
   "cell_type": "code",
   "execution_count": 13,
   "id": "a5caa13a",
   "metadata": {},
   "outputs": [],
   "source": [
    "def graficar(p_ciudad, p_pais):\n",
    "    \"\"\"Grafica ciudades sobre el mapa del pais\"\"\"\n",
    "    \n",
    "    ax = p_pais.plot(color='white', edgecolor='black')\n",
    "\n",
    "    # Sobre las ciudades superpone el mapa del país\n",
    "    p_ciudad.plot(ax=ax, color='red')\n",
    "\n",
    "plt.show()"
   ]
  },
  {
   "cell_type": "code",
   "execution_count": 30,
   "id": "29578293",
   "metadata": {},
   "outputs": [
    {
     "data": {
      "image/png": "[encoded data removed]",
      "text/plain": [
       "<Figure size 432x288 with 1 Axes>"
      ]
     },
     "metadata": {
      "needs_background": "light"
     },
     "output_type": "display_data"
    }
   ],
   "source": [
    "%matplotlib inline\n",
    "graficar(gdf, geo_colombia)"
   ]
  },
  {
   "cell_type": "markdown",
   "id": "8a93b1d2",
   "metadata": {},
   "source": [
    "### Crear una línea entre las ciudades de Bogotá y Barranquilla."
   ]
  },
  {
   "cell_type": "code",
   "execution_count": 80,
   "id": "2e098772",
   "metadata": {},
   "outputs": [
    {
     "data": {
      "text/plain": [
       "shapely.geometry.point.Point"
      ]
     },
     "execution_count": 80,
     "metadata": {},
     "output_type": "execute_result"
    }
   ],
   "source": [
    "from shapely.geometry import Point\n",
    "\n",
    "bogota_point = Point(-74.08175, 4.60971)\n",
    "barranquilla_point = Point(-74.78132, 10.96854)\n",
    "\n",
    "type(bogota_point)"
   ]
  },
  {
   "cell_type": "code",
   "execution_count": 63,
   "id": "eaeb217f",
   "metadata": {},
   "outputs": [
    {
     "data": {
      "image/svg+xml": [
       "<svg xmlns=\"http://www.w3.org/2000/svg\" xmlns:xlink=\"http://www.w3.org/1999/xlink\" width=\"100.0\" height=\"100.0\" viewBox=\"-75.03567319999999 4.3553568 1.2082763999999884 6.867536400000001\" preserveAspectRatio=\"xMinYMin meet\"><g transform=\"matrix(1,0,0,-1,0,15.57825)\"><polyline fill=\"none\" stroke=\"#66cc99\" stroke-width=\"0.13735072800000003\" points=\"-74.08175,4.60971 -74.78132,10.96854\" opacity=\"0.8\" /></g></svg>"
      ],
      "text/plain": [
       "<shapely.geometry.linestring.LineString at 0x7fcbbbb65110>"
      ]
     },
     "execution_count": 63,
     "metadata": {},
     "output_type": "execute_result"
    }
   ],
   "source": [
    "from shapely.geometry import LineString\n",
    "\n",
    "line = LineString([bogota_point, barranquilla_point])\n",
    "line"
   ]
  },
  {
   "cell_type": "code",
   "execution_count": 76,
   "id": "a6cf6451",
   "metadata": {},
   "outputs": [
    {
     "data": {
      "text/plain": [
       "'LineString'"
      ]
     },
     "execution_count": 76,
     "metadata": {},
     "output_type": "execute_result"
    }
   ],
   "source": [
    "line.type"
   ]
  },
  {
   "cell_type": "markdown",
   "id": "4809b5ab",
   "metadata": {},
   "source": [
    "### Graficar la línea sobre el mapa de Colombia."
   ]
  },
  {
   "cell_type": "code",
   "execution_count": 81,
   "id": "9644a8c3",
   "metadata": {},
   "outputs": [],
   "source": [
    "line_on_map = gpd.GeoSeries([bogota_point, barranquilla_point, line])\n",
    "\n"
   ]
  },
  {
   "cell_type": "code",
   "execution_count": 85,
   "id": "c3c08ac4",
   "metadata": {},
   "outputs": [
    {
     "data": {
      "image/png": "[encoded data removed]",
      "text/plain": [
       "<Figure size 432x288 with 1 Axes>"
      ]
     },
     "metadata": {
      "needs_background": "light"
     },
     "output_type": "display_data"
    }
   ],
   "source": [
    "\"\"\"Grafica ciudades y Linea sobre el mapa del pais\"\"\"\n",
    "\n",
    "ax = geo_colombia.plot(color='white', edgecolor='black')\n",
    "\n",
    "# Sobre las ciudades superpone el mapa del país\n",
    "gdf.plot(ax=ax, color='red')\n",
    "\n",
    "#Sobre el mapa del pais, superpone la linea entre las 2 ciudades\n",
    "line_on_map.plot(ax=ax, color='blue')\n",
    "\n",
    "\n",
    "plt.show()"
   ]
  },
  {
   "cell_type": "code",
   "execution_count": null,
   "id": "9519fd77",
   "metadata": {},
   "outputs": [],
   "source": []
  }
 ],
 "metadata": {
  "kernelspec": {
   "display_name": "Python 3",
   "language": "python",
   "name": "python3"
  },
  "language_info": {
   "codemirror_mode": {
    "name": "ipython",
    "version": 3
   },
   "file_extension": ".py",
   "mimetype": "text/x-python",
   "name": "python",
   "nbconvert_exporter": "python",
   "pygments_lexer": "ipython3",
   "version": "3.7.11"
  }
 },
 "nbformat": 4,
 "nbformat_minor": 5
}
