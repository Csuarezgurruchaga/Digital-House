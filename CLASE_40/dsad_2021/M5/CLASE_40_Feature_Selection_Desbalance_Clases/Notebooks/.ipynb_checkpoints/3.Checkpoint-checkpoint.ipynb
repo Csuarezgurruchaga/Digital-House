{
 "cells": [
  {
   "cell_type": "code",
   "execution_count": 36,
   "metadata": {},
   "outputs": [
    {
     "name": "stdout",
     "output_type": "stream",
     "text": [
      "/Users/csuarezgurruchaga/Desktop/Digital-House/CLASE_40/dsad_2021/common\n",
      "default checking\n",
      "Running command `conda list`... ok\n",
      "jupyterlab=2.2.6 already installed\n",
      "pandas=1.1.5 already installed\n",
      "bokeh=2.2.3 already installed\n",
      "seaborn=0.11.0 already installed\n",
      "matplotlib=3.3.2 already installed\n",
      "ipywidgets=7.5.1 already installed\n",
      "pytest=6.2.1 already installed\n",
      "chardet=4.0.0 already installed\n",
      "psutil=5.7.2 already installed\n",
      "scipy=1.5.2 already installed\n",
      "statsmodels=0.12.1 already installed\n",
      "scikit-learn=0.23.2 already installed\n",
      "xlrd=2.0.1 already installed\n",
      "Running command `conda install --yes nltk=3.5.0`... ok\n",
      "Collecting package metadata (current_repodata.json): ...working... done\n",
      "Solving environment: ...working... done\n",
      "\n",
      "# All requested packages already installed.\n",
      "\n",
      "\n",
      "unidecode=1.1.1 already installed\n",
      "pydotplus=2.0.2 already installed\n",
      "pandas-datareader=0.9.0 already installed\n",
      "flask=1.1.2 already installed\n"
     ]
    },
    {
     "data": {
      "text/plain": [
       "<Figure size 432x288 with 0 Axes>"
      ]
     },
     "metadata": {},
     "output_type": "display_data"
    }
   ],
   "source": [
    "# initial setup\n",
    "%run \"../../../common/0_notebooks_base_setup.py\"\n"
   ]
  },
  {
   "cell_type": "markdown",
   "metadata": {},
   "source": [
    "---\n",
    "\n",
    "<img src='../../../common/logo_DH.png' align='left' width=35%/>\n"
   ]
  },
  {
   "cell_type": "markdown",
   "metadata": {},
   "source": [
    "## Checkpoint - Desbalance de clases + Feature Selection\n",
    "\n",
    "En este checkpoint trabajaremos con el dataset de préstamos crediticios 'loans.csv'.\n",
    "\n",
    "En la primera parte combinaremos los elementos vistos en la práctica guiada de clases desbalanceadas para resamplear el data set de entrenamiento.\n",
    "\n",
    "Luego implementaremos un modelo de regresión logística combinado con reducción de la dimensionalidad por eliminación recursiva de features."
   ]
  },
  {
   "cell_type": "code",
   "execution_count": 37,
   "metadata": {},
   "outputs": [],
   "source": [
    "import numpy as np\n",
    "import pandas as pd\n",
    "import matplotlib.pyplot as plt\n",
    "import seaborn as sns\n",
    "from sklearn.linear_model import LogisticRegression,LogisticRegressionCV\n",
    "from sklearn.model_selection import train_test_split, StratifiedKFold\n",
    "from sklearn.preprocessing import StandardScaler,OneHotEncoder\n",
    "from imblearn.under_sampling import RandomUnderSampler\n",
    "from imblearn.over_sampling import SMOTENC\n",
    "from sklearn.metrics import accuracy_score,plot_confusion_matrix,roc_auc_score, classification_report, confusion_matrix, precision_recall_curve, auc"
   ]
  },
  {
   "cell_type": "code",
   "execution_count": 38,
   "metadata": {},
   "outputs": [
    {
     "data": {
      "text/plain": [
       "0    0.811179\n",
       "1    0.188821\n",
       "Name: bad_loans, dtype: float64"
      ]
     },
     "execution_count": 38,
     "metadata": {},
     "output_type": "execute_result"
    }
   ],
   "source": [
    "loans = pd.read_csv('../Data/loans.csv',low_memory=False)\n",
    "loans.dropna(inplace=True)\n",
    "loans.reset_index(drop=True,inplace=True)\n",
    "loans['bad_loans'].value_counts(normalize=True)"
   ]
  },
  {
   "cell_type": "code",
   "execution_count": 39,
   "metadata": {},
   "outputs": [
    {
     "data": {
      "text/html": [
       "<div>\n",
       "<style scoped>\n",
       "    .dataframe tbody tr th:only-of-type {\n",
       "        vertical-align: middle;\n",
       "    }\n",
       "\n",
       "    .dataframe tbody tr th {\n",
       "        vertical-align: top;\n",
       "    }\n",
       "\n",
       "    .dataframe thead th {\n",
       "        text-align: right;\n",
       "    }\n",
       "</style>\n",
       "<table border=\"1\" class=\"dataframe\">\n",
       "  <thead>\n",
       "    <tr style=\"text-align: right;\">\n",
       "      <th></th>\n",
       "      <th>grade</th>\n",
       "      <th>home_ownership</th>\n",
       "      <th>emp_length_num</th>\n",
       "      <th>sub_grade</th>\n",
       "      <th>short_emp</th>\n",
       "      <th>dti</th>\n",
       "      <th>term</th>\n",
       "      <th>purpose</th>\n",
       "      <th>int_rate</th>\n",
       "      <th>last_delinq_none</th>\n",
       "      <th>last_major_derog_none</th>\n",
       "      <th>revol_util</th>\n",
       "      <th>total_rec_late_fee</th>\n",
       "      <th>payment_inc_ratio</th>\n",
       "      <th>bad_loans</th>\n",
       "    </tr>\n",
       "  </thead>\n",
       "  <tbody>\n",
       "    <tr>\n",
       "      <th>8892</th>\n",
       "      <td>C</td>\n",
       "      <td>RENT</td>\n",
       "      <td>3</td>\n",
       "      <td>C4</td>\n",
       "      <td>0</td>\n",
       "      <td>5.77</td>\n",
       "      <td>36 months</td>\n",
       "      <td>debt_consolidation</td>\n",
       "      <td>14.79</td>\n",
       "      <td>1</td>\n",
       "      <td>1</td>\n",
       "      <td>87.3</td>\n",
       "      <td>0.0</td>\n",
       "      <td>5.33254</td>\n",
       "      <td>0</td>\n",
       "    </tr>\n",
       "    <tr>\n",
       "      <th>113024</th>\n",
       "      <td>B</td>\n",
       "      <td>MORTGAGE</td>\n",
       "      <td>4</td>\n",
       "      <td>B2</td>\n",
       "      <td>0</td>\n",
       "      <td>29.46</td>\n",
       "      <td>36 months</td>\n",
       "      <td>credit_card</td>\n",
       "      <td>10.99</td>\n",
       "      <td>0</td>\n",
       "      <td>0</td>\n",
       "      <td>25.1</td>\n",
       "      <td>0.0</td>\n",
       "      <td>10.43760</td>\n",
       "      <td>0</td>\n",
       "    </tr>\n",
       "    <tr>\n",
       "      <th>45152</th>\n",
       "      <td>C</td>\n",
       "      <td>MORTGAGE</td>\n",
       "      <td>6</td>\n",
       "      <td>C2</td>\n",
       "      <td>0</td>\n",
       "      <td>8.60</td>\n",
       "      <td>60 months</td>\n",
       "      <td>home_improvement</td>\n",
       "      <td>15.10</td>\n",
       "      <td>0</td>\n",
       "      <td>0</td>\n",
       "      <td>36.5</td>\n",
       "      <td>0.0</td>\n",
       "      <td>4.16160</td>\n",
       "      <td>1</td>\n",
       "    </tr>\n",
       "  </tbody>\n",
       "</table>\n",
       "</div>"
      ],
      "text/plain": [
       "       grade home_ownership  emp_length_num sub_grade  short_emp    dti  \\\n",
       "8892       C           RENT               3        C4          0   5.77   \n",
       "113024     B       MORTGAGE               4        B2          0  29.46   \n",
       "45152      C       MORTGAGE               6        C2          0   8.60   \n",
       "\n",
       "              term             purpose  int_rate  last_delinq_none  \\\n",
       "8892     36 months  debt_consolidation     14.79                 1   \n",
       "113024   36 months         credit_card     10.99                 0   \n",
       "45152    60 months    home_improvement     15.10                 0   \n",
       "\n",
       "        last_major_derog_none  revol_util  total_rec_late_fee  \\\n",
       "8892                        1        87.3                 0.0   \n",
       "113024                      0        25.1                 0.0   \n",
       "45152                       0        36.5                 0.0   \n",
       "\n",
       "        payment_inc_ratio  bad_loans  \n",
       "8892              5.33254          0  \n",
       "113024           10.43760          0  \n",
       "45152             4.16160          1  "
      ]
     },
     "execution_count": 39,
     "metadata": {},
     "output_type": "execute_result"
    }
   ],
   "source": [
    "loans.sample(3)"
   ]
  },
  {
   "cell_type": "markdown",
   "metadata": {},
   "source": [
    "### 1. Train test split \n",
    "\n",
    "Hagamos un train test split estratificado por la variable target (bad loans). \n",
    "\n",
    "¿Cuál es el desbalance de clases?\n",
    "\n",
    "¿Cuál es el ratio clase mayoritaria/minoritaria?"
   ]
  },
  {
   "cell_type": "code",
   "execution_count": 40,
   "metadata": {},
   "outputs": [],
   "source": [
    "X_train, X_test, y_train, y_test = train_test_split(loans.drop('bad_loans', axis=1), loans.bad_loans, stratify= loans.bad_loans, random_state = 1203)"
   ]
  },
  {
   "cell_type": "code",
   "execution_count": 41,
   "metadata": {},
   "outputs": [
    {
     "data": {
      "text/plain": [
       "0    0.811179\n",
       "1    0.188821\n",
       "Name: bad_loans, dtype: float64"
      ]
     },
     "execution_count": 41,
     "metadata": {},
     "output_type": "execute_result"
    }
   ],
   "source": [
    "loans.bad_loans.value_counts(normalize= True)"
   ]
  },
  {
   "cell_type": "code",
   "execution_count": 42,
   "metadata": {},
   "outputs": [
    {
     "data": {
      "image/png": "[encoded data removed]",
      "text/plain": [
       "<Figure size 432x288 with 1 Axes>"
      ]
     },
     "metadata": {
      "needs_background": "light"
     },
     "output_type": "display_data"
    }
   ],
   "source": [
    "sns.countplot(data=loans, x=loans.bad_loans)\n",
    "plt.title('DISTRUBUCION DEL TARGET')\n",
    "plt.show()"
   ]
  },
  {
   "cell_type": "code",
   "execution_count": null,
   "metadata": {},
   "outputs": [],
   "source": []
  },
  {
   "cell_type": "markdown",
   "metadata": {},
   "source": [
    "### 2. SMOTE-NC \n",
    "\n",
    "Implementemos la herramienta [SMOTENC](https://imbalanced-learn.readthedocs.io/en/stable/generated/imblearn.over_sampling.SMOTENC.html) para resamplear la clase minoritaria en el dataset de entrenamiento. Para ello debemos identificar previamente las variables categóricas y pasarlas como argumento al instanciar el objeto SMOTENC.\n",
    "\n",
    "Usemos un **sampling_strategy=0.5**, de modo que la clase mayoritaria tenga el doble de observaciones que la minoritaria.\n",
    "\n",
    "¿Cuál es el balance de clases ahora?\n",
    "\n",
    "¿Cuál es el ratio mayoritaria/minoritaria?"
   ]
  },
  {
   "cell_type": "code",
   "execution_count": 43,
   "metadata": {},
   "outputs": [],
   "source": [
    "from imblearn.over_sampling import SMOTENC\n"
   ]
  },
  {
   "cell_type": "code",
   "execution_count": 44,
   "metadata": {},
   "outputs": [
    {
     "name": "stdout",
     "output_type": "stream",
     "text": [
      "<class 'pandas.core.frame.DataFrame'>\n",
      "RangeIndex: 122603 entries, 0 to 122602\n",
      "Data columns (total 15 columns):\n",
      " #   Column                 Non-Null Count   Dtype  \n",
      "---  ------                 --------------   -----  \n",
      " 0   grade                  122603 non-null  object \n",
      " 1   home_ownership         122603 non-null  object \n",
      " 2   emp_length_num         122603 non-null  int64  \n",
      " 3   sub_grade              122603 non-null  object \n",
      " 4   short_emp              122603 non-null  int64  \n",
      " 5   dti                    122603 non-null  float64\n",
      " 6   term                   122603 non-null  object \n",
      " 7   purpose                122603 non-null  object \n",
      " 8   int_rate               122603 non-null  float64\n",
      " 9   last_delinq_none       122603 non-null  int64  \n",
      " 10  last_major_derog_none  122603 non-null  int64  \n",
      " 11  revol_util             122603 non-null  float64\n",
      " 12  total_rec_late_fee     122603 non-null  float64\n",
      " 13  payment_inc_ratio      122603 non-null  float64\n",
      " 14  bad_loans              122603 non-null  int64  \n",
      "dtypes: float64(5), int64(5), object(5)\n",
      "memory usage: 14.0+ MB\n"
     ]
    }
   ],
   "source": [
    "loans.info()"
   ]
  },
  {
   "cell_type": "code",
   "execution_count": 45,
   "metadata": {},
   "outputs": [],
   "source": [
    "sm = SMOTENC(categorical_features = (X_train.dtypes==object).values, random_state=1203, sampling_strategy=0.5)\n",
    "\n",
    "X_train_sm, y_train_sm=sm.fit_resample(X_train, y_train)\n",
    "\n"
   ]
  },
  {
   "cell_type": "code",
   "execution_count": 46,
   "metadata": {},
   "outputs": [
    {
     "data": {
      "text/plain": [
       "0    74590\n",
       "1    17362\n",
       "Name: bad_loans, dtype: int64"
      ]
     },
     "execution_count": 46,
     "metadata": {},
     "output_type": "execute_result"
    }
   ],
   "source": [
    "y_train.value_counts()"
   ]
  },
  {
   "cell_type": "code",
   "execution_count": 47,
   "metadata": {},
   "outputs": [
    {
     "name": "stdout",
     "output_type": "stream",
     "text": [
      "Despues del oversampleo 0.5\n"
     ]
    }
   ],
   "source": [
    "print('Despues del oversampleo',(y_train_sm==1).sum()/(y_train_sm==0).sum())\n"
   ]
  },
  {
   "cell_type": "code",
   "execution_count": 48,
   "metadata": {},
   "outputs": [
    {
     "name": "stdout",
     "output_type": "stream",
     "text": [
      "Antes del oversampleo 0.23276578629843142\n"
     ]
    }
   ],
   "source": [
    "\n",
    "print('Antes del oversampleo',(y_train==1).sum()/(y_train==0).sum())\n"
   ]
  },
  {
   "cell_type": "code",
   "execution_count": null,
   "metadata": {},
   "outputs": [],
   "source": []
  },
  {
   "cell_type": "markdown",
   "metadata": {},
   "source": [
    "### 3. Undersampling\n",
    "\n",
    "A partir del dataset aumentado en el paso anterior balanceemos las clases sampleando aleatoriamente observaciones de la clase mayoritaria. Para esto usemos **RandomUnderSampler** con **sampling_strategy='majority'** de modo que queden las clases balanceadas.\n",
    "\n",
    "¿Cómo quedó el balance de clases?\n",
    "\n",
    "¿Y el tamaño del dataset de entrenamiento?\n"
   ]
  },
  {
   "cell_type": "code",
   "execution_count": 49,
   "metadata": {},
   "outputs": [],
   "source": [
    "from imblearn.under_sampling import RandomUnderSampler\n",
    "\t\n",
    "undersampler=RandomUnderSampler(sampling_strategy='majority', random_state=1203);\n",
    "\n",
    "X_train_under, y_train_under=undersampler.fit_resample(X_train_sm,y_train_sm);"
   ]
  },
  {
   "cell_type": "code",
   "execution_count": 50,
   "metadata": {},
   "outputs": [
    {
     "name": "stdout",
     "output_type": "stream",
     "text": [
      "Despues del undersampleo 1.0\n"
     ]
    }
   ],
   "source": [
    "print('Despues del undersampleo',(y_train_under==1).sum()/(y_train_under==0).sum())\n"
   ]
  },
  {
   "cell_type": "code",
   "execution_count": 51,
   "metadata": {},
   "outputs": [
    {
     "name": "stdout",
     "output_type": "stream",
     "text": [
      "Antes del undersampleo 0.5\n"
     ]
    }
   ],
   "source": [
    "print('Antes del undersampleo',(y_train_sm==1).sum()/(y_train_sm==0).sum())\n"
   ]
  },
  {
   "cell_type": "markdown",
   "metadata": {},
   "source": [
    "### 4. Variables dummy\n",
    "\n",
    "Utilicemos la herramienta OneHotEncoder para llevar a dummies las variables categoricas del training set. Luego transformamos de manera conforme las categóricas del test set. \n",
    "\n",
    "¿Cuál sería un posible problema de usar get_dummies?"
   ]
  },
  {
   "cell_type": "code",
   "execution_count": 52,
   "metadata": {},
   "outputs": [],
   "source": [
    "from sklearn.preprocessing import OneHotEncoder"
   ]
  },
  {
   "cell_type": "code",
   "execution_count": 53,
   "metadata": {},
   "outputs": [
    {
     "name": "stdout",
     "output_type": "stream",
     "text": [
      "(74590, 64)\n",
      "(30651, 64)\n"
     ]
    }
   ],
   "source": [
    "# dummy variables\n",
    "categorical_cols = (X_train.dtypes==object).values\n",
    "numerical_cols = ~categorical_cols\n",
    "\n",
    "enc=OneHotEncoder(drop='first',sparse=False)\n",
    "train_dummies=enc.fit_transform(X_train_under.loc[:,categorical_cols])\n",
    "train_dummies=pd.DataFrame(train_dummies)\n",
    "train_dummies.columns=[x for cat_list in enc.categories_ for x in cat_list[1:]]\n",
    "\n",
    "X_train_final=X_train_under.loc[:,numerical_cols].join(train_dummies)\n",
    "\n",
    "test_dummies=enc.transform(X_test.loc[:,categorical_cols])\n",
    "test_dummies=pd.DataFrame(test_dummies)\n",
    "test_dummies.columns=[x for cat_list in enc.categories_ for x in cat_list[1:]]\n",
    "test_dummies.index=X_test.index\n",
    "\n",
    "X_test_final=X_test.loc[:,numerical_cols].join(test_dummies)\n",
    "\n",
    "y_train_final=y_train_under # solo por nomenclatura\n",
    "y_test_final=y_test # solo por nomenclatura\n",
    "\n",
    "print(X_train_final.shape)\n",
    "print(X_test_final.shape)"
   ]
  },
  {
   "cell_type": "code",
   "execution_count": null,
   "metadata": {},
   "outputs": [],
   "source": []
  },
  {
   "cell_type": "code",
   "execution_count": null,
   "metadata": {},
   "outputs": [],
   "source": []
  },
  {
   "cell_type": "code",
   "execution_count": null,
   "metadata": {},
   "outputs": [],
   "source": []
  },
  {
   "cell_type": "markdown",
   "metadata": {},
   "source": [
    "### 5. Regresión logística\n",
    "\n",
    "Implementemos una regresión logística usando LogisticRegressionCV. \n",
    "\n",
    "¿Qué medida de scoring conviene usar?\n",
    "\n",
    "Veamos las métricas principales de performance en el test set: \n",
    "\n",
    "* matriz de confusión\n",
    "* clasification report\n",
    "* área bajo la curva ROC\n",
    "* área bajo la curva Precision-Recall"
   ]
  },
  {
   "cell_type": "code",
   "execution_count": 54,
   "metadata": {},
   "outputs": [],
   "source": [
    "%matplotlib inline\n",
    "def logistic_regression_report(X_train,X_test,y_train,y_test):\n",
    "    \n",
    "    scaler=StandardScaler()    \n",
    "        \n",
    "    X_train_sc=scaler.fit_transform(X_train)\n",
    "    X_test_sc=scaler.transform(X_test)\n",
    "        \n",
    "    model=LogisticRegressionCV(scoring='f1')\n",
    "        \n",
    "    model.fit(X_train_sc,y_train)\n",
    "    y_pred=model.predict(X_test_sc)\n",
    "    y_proba=model.predict_proba(X_test_sc)\n",
    "    \n",
    "    print(classification_report(y_test,y_pred))\n",
    "    \n",
    "    print('Area bajo la curva ROC:',np.round(roc_auc_score(y_test,y_proba[:,1]),4))\n",
    "    \n",
    "    precision, recall,threshold=precision_recall_curve(y_test,y_proba[:,1]);\n",
    "\n",
    "    print('Area bajo la curva Precision-Recall:',np.round(auc(recall,precision),4))\n",
    "\n",
    "    plot_confusion_matrix(model,X_test_sc,y_test,cmap='Blues');\n",
    "    \n",
    "    return model\n",
    "    "
   ]
  },
  {
   "cell_type": "code",
   "execution_count": 55,
   "metadata": {},
   "outputs": [
    {
     "name": "stdout",
     "output_type": "stream",
     "text": [
      "              precision    recall  f1-score   support\n",
      "\n",
      "           0       0.87      0.61      0.72     24863\n",
      "           1       0.26      0.59      0.37      5788\n",
      "\n",
      "    accuracy                           0.61     30651\n",
      "   macro avg       0.57      0.60      0.54     30651\n",
      "weighted avg       0.75      0.61      0.65     30651\n",
      "\n",
      "Area bajo la curva ROC: 0.6524\n",
      "Area bajo la curva Precision-Recall: 0.2988\n"
     ]
    },
    {
     "data": {
      "image/png": "[encoded data removed]",
      "text/plain": [
       "<Figure size 432x288 with 2 Axes>"
      ]
     },
     "metadata": {
      "needs_background": "light"
     },
     "output_type": "display_data"
    }
   ],
   "source": [
    "m=logistic_regression_report(X_train_final,X_test_final,y_train_final,y_test_final)"
   ]
  },
  {
   "cell_type": "markdown",
   "metadata": {},
   "source": [
    "### 6. Feature selection\n",
    "\n",
    "Utilicen la herramientsa RFECV combinada con una regresión logística para seleccionar el mejor subset de features. Usen una regresión logística con el hiperparámetro de regularización C ajustado en el punto anterior. \n",
    "\n",
    "Lo correcto sería optimizar este parámetro para cada subset de features, es decir hacer dos validaciones cruzadas anidadas (una para RFE y otra para la regresión logística), pero por \n",
    "economía de cómputo lo haremos con el valor de C fijo.\n",
    "\n",
    "¿Cuáles features fueron seleccionadas?\n",
    "\n",
    "¿Cuáles fueron descartadas?\n",
    "\n",
    "¿Cuál es la performance del modelo?"
   ]
  },
  {
   "cell_type": "code",
   "execution_count": 56,
   "metadata": {},
   "outputs": [
    {
     "name": "stdout",
     "output_type": "stream",
     "text": [
      "(74590, 64)\n"
     ]
    }
   ],
   "source": [
    "from sklearn.feature_selection import RFECV\n",
    "from sklearn.model_selection import StratifiedKFold\n",
    "\n",
    "skf = StratifiedKFold(n_splits=5, shuffle = True)\n",
    "\n",
    "model = LogisticRegression(C=m.C_[0]) # La penalización óptima podría depender del nro de Features, pero para no sobrecargar el cómputo no optimizaremos C para cada representación de los datos\n",
    "\n",
    "scaler=StandardScaler()    \n",
    "X_train_sc=scaler.fit_transform(X_train_final)\n",
    "X_test_sc=scaler.transform(X_test_final)\n",
    "\n",
    "print(X_train_sc.shape)\n"
   ]
  },
  {
   "cell_type": "code",
   "execution_count": 57,
   "metadata": {},
   "outputs": [
    {
     "data": {
      "text/plain": [
       "RFECV(cv=StratifiedKFold(n_splits=5, random_state=None, shuffle=True),\n",
       "      estimator=LogisticRegression(C=2.782559402207126), n_jobs=-1,\n",
       "      scoring='f1')"
      ]
     },
     "execution_count": 57,
     "metadata": {},
     "output_type": "execute_result"
    }
   ],
   "source": [
    "selector = RFECV(model, scoring='f1',step = 1, cv=skf, verbose=0, n_jobs=-1)\n",
    "selector.fit(X_train_sc, y_train_final)"
   ]
  },
  {
   "cell_type": "code",
   "execution_count": 74,
   "metadata": {},
   "outputs": [
    {
     "data": {
      "text/plain": [
       "(74590, 46)"
      ]
     },
     "execution_count": 74,
     "metadata": {},
     "output_type": "execute_result"
    }
   ],
   "source": [
    "X_train_sc_features_filtradas = X_train_sc[:,selector.support_]\n",
    "\n",
    "X_train_sc_features_filtradas.shape"
   ]
  },
  {
   "cell_type": "code",
   "execution_count": 75,
   "metadata": {},
   "outputs": [
    {
     "data": {
      "text/plain": [
       "(74590, 64)"
      ]
     },
     "execution_count": 75,
     "metadata": {},
     "output_type": "execute_result"
    }
   ],
   "source": [
    "X_train_sc.shape"
   ]
  },
  {
   "cell_type": "code",
   "execution_count": 76,
   "metadata": {},
   "outputs": [
    {
     "data": {
      "text/plain": [
       "array([ True,  True,  True,  True,  True,  True,  True,  True,  True,\n",
       "        True,  True,  True,  True,  True,  True, False,  True,  True,\n",
       "        True,  True,  True,  True,  True,  True,  True, False,  True,\n",
       "        True,  True,  True,  True,  True, False, False, False,  True,\n",
       "        True, False, False, False, False, False, False,  True,  True,\n",
       "       False, False,  True,  True,  True,  True,  True,  True,  True,\n",
       "        True,  True, False, False, False, False,  True,  True, False,\n",
       "        True])"
      ]
     },
     "execution_count": 76,
     "metadata": {},
     "output_type": "execute_result"
    }
   ],
   "source": [
    "selector.support_ # me devuelve una mascara booleana para que filtre las features que no aportan"
   ]
  },
  {
   "cell_type": "code",
   "execution_count": null,
   "metadata": {},
   "outputs": [],
   "source": []
  }
 ],
 "metadata": {
  "kernelspec": {
   "display_name": "Python [conda env:dhdsblend2021] *",
   "language": "python",
   "name": "conda-env-dhdsblend2021-py"
  },
  "language_info": {
   "codemirror_mode": {
    "name": "ipython",
    "version": 3
   },
   "file_extension": ".py",
   "mimetype": "text/x-python",
   "name": "python",
   "nbconvert_exporter": "python",
   "pygments_lexer": "ipython3",
   "version": "3.8.11"
  }
 },
 "nbformat": 4,
 "nbformat_minor": 4
}
