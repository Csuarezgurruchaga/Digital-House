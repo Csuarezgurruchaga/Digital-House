{
 "cells": [
  {
   "cell_type": "markdown",
   "metadata": {},
   "source": [
    "\n"
   ]
  },
  {
   "cell_type": "code",
   "execution_count": 1,
   "metadata": {},
   "outputs": [
    {
     "name": "stdout",
     "output_type": "stream",
     "text": [
      "/Users/csuarezgurruchaga/Desktop/Digital-House/CLASE_40/dsad_2021/common\n",
      "default checking\n",
      "Running command `conda list`... ok\n",
      "jupyterlab=2.2.6 already installed\n",
      "pandas=1.1.5 already installed\n",
      "bokeh=2.2.3 already installed\n",
      "seaborn=0.11.0 already installed\n",
      "matplotlib=3.3.2 already installed\n",
      "ipywidgets=7.5.1 already installed\n",
      "pytest=6.2.1 already installed\n",
      "chardet=4.0.0 already installed\n",
      "psutil=5.7.2 already installed\n",
      "scipy=1.5.2 already installed\n",
      "statsmodels=0.12.1 already installed\n",
      "scikit-learn=0.23.2 already installed\n",
      "xlrd=2.0.1 already installed\n",
      "Running command `conda install --yes nltk=3.5.0`... ok\n",
      "Collecting package metadata (current_repodata.json): ...working... done\n",
      "Solving environment: ...working... done\n",
      "\n",
      "# All requested packages already installed.\n",
      "\n",
      "\n",
      "unidecode=1.1.1 already installed\n",
      "pydotplus=2.0.2 already installed\n",
      "pandas-datareader=0.9.0 already installed\n",
      "flask=1.1.2 already installed\n"
     ]
    }
   ],
   "source": [
    "# initial setup\n",
    "%run \"../../../common/0_notebooks_base_setup.py\"\n"
   ]
  },
  {
   "cell_type": "markdown",
   "metadata": {},
   "source": [
    "---\n",
    "\n",
    "<img src='../../../common/logo_DH.png' align='left' width=35%/>\n"
   ]
  },
  {
   "cell_type": "markdown",
   "metadata": {},
   "source": [
    "## Clasificacion: canjeo de coupones de descuento\n",
    "\n",
    "Trabajaremos con el dataset preprocesado en la notebook 'opcional_preprocesamiento_datos_clase'.\n",
    "El mismo cuenta con información de distintas campañas de marketing en donde se ofrecen coupnes de descuento sobre distintas marcas y productos. El dataset preprocesado cuenta con fetures con información sobre las campañas, sobre los consumidores (hábitos de consumo y características demográficas) y sobre los items alcanzados por las promociones.\n",
    "\n",
    "La variable target es el estado de canje de los cupones: \"redemption_status\". \n",
    "\n",
    "El dataset original está [acá](https://www.kaggle.com/vasudeva009/coupon-redemption-smote-feature-selection/data). Se aconseja mirar la notebook de preprocesamiento para entender mejor las variables del dataset."
   ]
  },
  {
   "cell_type": "code",
   "execution_count": 2,
   "metadata": {},
   "outputs": [],
   "source": [
    "import pandas as pd\n",
    "import numpy as np\n",
    "import matplotlib.pyplot as plt\n",
    "import seaborn as sns\n",
    "from sklearn.model_selection import train_test_split,cross_val_score,StratifiedKFold\n",
    "from imblearn.under_sampling import RandomUnderSampler\n",
    "from imblearn.over_sampling import SMOTENC\n",
    "from sklearn.ensemble import RandomForestClassifier\n",
    "from sklearn.feature_selection import SelectKBest, f_classif,RFECV,RFE\n",
    "from sklearn.pipeline import Pipeline\n",
    "from sklearn.model_selection import GridSearchCV\n",
    "from sklearn.metrics import accuracy_score,plot_confusion_matrix,roc_auc_score, classification_report, confusion_matrix, precision_recall_curve, auc"
   ]
  },
  {
   "cell_type": "code",
   "execution_count": 3,
   "metadata": {},
   "outputs": [
    {
     "data": {
      "text/html": [
       "<div>\n",
       "<style scoped>\n",
       "    .dataframe tbody tr th:only-of-type {\n",
       "        vertical-align: middle;\n",
       "    }\n",
       "\n",
       "    .dataframe tbody tr th {\n",
       "        vertical-align: top;\n",
       "    }\n",
       "\n",
       "    .dataframe thead th {\n",
       "        text-align: right;\n",
       "    }\n",
       "</style>\n",
       "<table border=\"1\" class=\"dataframe\">\n",
       "  <thead>\n",
       "    <tr style=\"text-align: right;\">\n",
       "      <th></th>\n",
       "      <th>Unnamed: 0</th>\n",
       "      <th>id</th>\n",
       "      <th>campaign_id</th>\n",
       "      <th>coupon_id</th>\n",
       "      <th>customer_id</th>\n",
       "      <th>redemption_status</th>\n",
       "      <th>campaign_type</th>\n",
       "      <th>duration</th>\n",
       "      <th>month</th>\n",
       "      <th>year</th>\n",
       "      <th>...</th>\n",
       "      <th>mean_selling_price_cust</th>\n",
       "      <th>mean_other_discount_cust</th>\n",
       "      <th>mean_coupon_discount_cust</th>\n",
       "      <th>mean_quantity_item_coupon</th>\n",
       "      <th>mean_selling_price_item_coupon</th>\n",
       "      <th>mean_other_discount_item_coupon</th>\n",
       "      <th>mean_coupon_discount_item_coupon</th>\n",
       "      <th>brand</th>\n",
       "      <th>brand_type</th>\n",
       "      <th>category</th>\n",
       "    </tr>\n",
       "  </thead>\n",
       "  <tbody>\n",
       "    <tr>\n",
       "      <th>0</th>\n",
       "      <td>0</td>\n",
       "      <td>1</td>\n",
       "      <td>13</td>\n",
       "      <td>27</td>\n",
       "      <td>1053</td>\n",
       "      <td>0</td>\n",
       "      <td>X</td>\n",
       "      <td>47</td>\n",
       "      <td>5</td>\n",
       "      <td>2013</td>\n",
       "      <td>...</td>\n",
       "      <td>184.260484</td>\n",
       "      <td>-33.168935</td>\n",
       "      <td>-0.287258</td>\n",
       "      <td>1.169768</td>\n",
       "      <td>84.478583</td>\n",
       "      <td>-51.732305</td>\n",
       "      <td>-1.241694</td>\n",
       "      <td>1105</td>\n",
       "      <td>Established</td>\n",
       "      <td>Grocery</td>\n",
       "    </tr>\n",
       "    <tr>\n",
       "      <th>1</th>\n",
       "      <td>1</td>\n",
       "      <td>2</td>\n",
       "      <td>13</td>\n",
       "      <td>116</td>\n",
       "      <td>48</td>\n",
       "      <td>0</td>\n",
       "      <td>X</td>\n",
       "      <td>47</td>\n",
       "      <td>5</td>\n",
       "      <td>2013</td>\n",
       "      <td>...</td>\n",
       "      <td>234.247013</td>\n",
       "      <td>-27.699169</td>\n",
       "      <td>-3.215039</td>\n",
       "      <td>1.050926</td>\n",
       "      <td>63.833519</td>\n",
       "      <td>-10.661343</td>\n",
       "      <td>0.000000</td>\n",
       "      <td>56</td>\n",
       "      <td>Local</td>\n",
       "      <td>Grocery</td>\n",
       "    </tr>\n",
       "    <tr>\n",
       "      <th>2</th>\n",
       "      <td>2</td>\n",
       "      <td>6</td>\n",
       "      <td>9</td>\n",
       "      <td>635</td>\n",
       "      <td>205</td>\n",
       "      <td>0</td>\n",
       "      <td>Y</td>\n",
       "      <td>32</td>\n",
       "      <td>3</td>\n",
       "      <td>2013</td>\n",
       "      <td>...</td>\n",
       "      <td>121.094495</td>\n",
       "      <td>-17.795660</td>\n",
       "      <td>-2.212082</td>\n",
       "      <td>1.353802</td>\n",
       "      <td>332.128380</td>\n",
       "      <td>-142.498493</td>\n",
       "      <td>-2.987321</td>\n",
       "      <td>560</td>\n",
       "      <td>Established</td>\n",
       "      <td>Pharmaceutical</td>\n",
       "    </tr>\n",
       "  </tbody>\n",
       "</table>\n",
       "<p>3 rows × 27 columns</p>\n",
       "</div>"
      ],
      "text/plain": [
       "   Unnamed: 0  id  campaign_id  coupon_id  customer_id  redemption_status  \\\n",
       "0           0   1           13         27         1053                  0   \n",
       "1           1   2           13        116           48                  0   \n",
       "2           2   6            9        635          205                  0   \n",
       "\n",
       "  campaign_type  duration  month  year  ... mean_selling_price_cust  \\\n",
       "0             X        47      5  2013  ...              184.260484   \n",
       "1             X        47      5  2013  ...              234.247013   \n",
       "2             Y        32      3  2013  ...              121.094495   \n",
       "\n",
       "  mean_other_discount_cust  mean_coupon_discount_cust  \\\n",
       "0               -33.168935                  -0.287258   \n",
       "1               -27.699169                  -3.215039   \n",
       "2               -17.795660                  -2.212082   \n",
       "\n",
       "  mean_quantity_item_coupon mean_selling_price_item_coupon  \\\n",
       "0                  1.169768                      84.478583   \n",
       "1                  1.050926                      63.833519   \n",
       "2                  1.353802                     332.128380   \n",
       "\n",
       "   mean_other_discount_item_coupon  mean_coupon_discount_item_coupon  brand  \\\n",
       "0                       -51.732305                         -1.241694   1105   \n",
       "1                       -10.661343                          0.000000     56   \n",
       "2                      -142.498493                         -2.987321    560   \n",
       "\n",
       "    brand_type        category  \n",
       "0  Established         Grocery  \n",
       "1        Local         Grocery  \n",
       "2  Established  Pharmaceutical  \n",
       "\n",
       "[3 rows x 27 columns]"
      ]
     },
     "metadata": {},
     "output_type": "display_data"
    },
    {
     "data": {
      "text/plain": [
       "Unnamed: 0                            int64\n",
       "id                                    int64\n",
       "campaign_id                           int64\n",
       "coupon_id                             int64\n",
       "customer_id                           int64\n",
       "redemption_status                     int64\n",
       "campaign_type                        object\n",
       "duration                              int64\n",
       "month                                 int64\n",
       "year                                  int64\n",
       "age_range                            object\n",
       "marital_status                       object\n",
       "rented                                int64\n",
       "family_size                          object\n",
       "no_of_children                       object\n",
       "income_bracket                        int64\n",
       "mean_quantity_cust                  float64\n",
       "mean_selling_price_cust             float64\n",
       "mean_other_discount_cust            float64\n",
       "mean_coupon_discount_cust           float64\n",
       "mean_quantity_item_coupon           float64\n",
       "mean_selling_price_item_coupon      float64\n",
       "mean_other_discount_item_coupon     float64\n",
       "mean_coupon_discount_item_coupon    float64\n",
       "brand                                 int64\n",
       "brand_type                           object\n",
       "category                             object\n",
       "dtype: object"
      ]
     },
     "execution_count": 3,
     "metadata": {},
     "output_type": "execute_result"
    }
   ],
   "source": [
    "data=pd.read_csv('../Data/marketing/data_preprocessed.csv')\n",
    "display(data.head(3))\n",
    "data.dtypes"
   ]
  },
  {
   "cell_type": "code",
   "execution_count": 4,
   "metadata": {},
   "outputs": [],
   "source": [
    "data=data.drop(['Unnamed: 0','id','customer_id','campaign_id','coupon_id'],axis=1)"
   ]
  },
  {
   "cell_type": "code",
   "execution_count": 5,
   "metadata": {},
   "outputs": [
    {
     "data": {
      "text/plain": [
       "redemption_status                      int64\n",
       "campaign_type                       category\n",
       "duration                               int64\n",
       "month                               category\n",
       "year                                category\n",
       "age_range                           category\n",
       "marital_status                      category\n",
       "rented                              category\n",
       "family_size                         category\n",
       "no_of_children                      category\n",
       "income_bracket                      category\n",
       "mean_quantity_cust                   float64\n",
       "mean_selling_price_cust              float64\n",
       "mean_other_discount_cust             float64\n",
       "mean_coupon_discount_cust            float64\n",
       "mean_quantity_item_coupon            float64\n",
       "mean_selling_price_item_coupon       float64\n",
       "mean_other_discount_item_coupon      float64\n",
       "mean_coupon_discount_item_coupon     float64\n",
       "brand                               category\n",
       "brand_type                          category\n",
       "category                            category\n",
       "dtype: object"
      ]
     },
     "execution_count": 5,
     "metadata": {},
     "output_type": "execute_result"
    }
   ],
   "source": [
    "categorical=['campaign_type','month','year','age_range','marital_status','rented','family_size','no_of_children',\\\n",
    "             'income_bracket','brand','brand_type','category']\n",
    "\n",
    "data[categorical]=data[categorical].astype('category')\n",
    "data.dtypes"
   ]
  },
  {
   "cell_type": "markdown",
   "metadata": {},
   "source": [
    "### Primera parte\n",
    "* Ver el balance de clases en el dataset conun value counts de la columna redemption_status\n",
    "* Hacer un train-test-split estratificado\n",
    "* Convertir las variables categoricas a dummy. Conviene que nos quedemos con una versión no dummy del dataset de entrenamiento puesto que luego usaremos SMOTENC\n",
    "* Opcional (recomendado): Armar una función que tome como input un modelo entrenado y un dataset de testeo e imprima las métricas más importantes para evaluar clasificación (classification_report, matriz de confución, area bajo las curvas ROC y Precision-Recall)\n",
    "* Instanciar un modelo Random Forest entrenarlo y evaluarlo en el dataset de testeo"
   ]
  },
  {
   "cell_type": "code",
   "execution_count": 6,
   "metadata": {},
   "outputs": [
    {
     "data": {
      "text/plain": [
       "0    0.990698\n",
       "1    0.009302\n",
       "Name: redemption_status, dtype: float64"
      ]
     },
     "execution_count": 6,
     "metadata": {},
     "output_type": "execute_result"
    }
   ],
   "source": [
    "data['redemption_status'].value_counts(normalize=True)"
   ]
  },
  {
   "cell_type": "code",
   "execution_count": 7,
   "metadata": {},
   "outputs": [],
   "source": [
    "# Train test split\n",
    "\n",
    "X_train,X_test,y_train,y_test=train_test_split(data.drop('redemption_status',axis=1),data['redemption_status'],\\\n",
    "                                               stratify=data['redemption_status'],random_state=0)\n"
   ]
  },
  {
   "cell_type": "code",
   "execution_count": 8,
   "metadata": {},
   "outputs": [
    {
     "name": "stdout",
     "output_type": "stream",
     "text": [
      "Mismas categorías en Train y Test: True\n"
     ]
    }
   ],
   "source": [
    "X_train_dummy=pd.get_dummies(X_train);\n",
    "X_test_dummy=pd.get_dummies(X_test)\n",
    "print('Mismas categorías en Train y Test:',(X_train_dummy.columns==X_test_dummy.columns).all())"
   ]
  },
  {
   "cell_type": "code",
   "execution_count": 9,
   "metadata": {},
   "outputs": [],
   "source": [
    "def evaluate_model(model,X,y_true):\n",
    "    '''\n",
    "    Calcula las métricas ppales para evaluar un clasificador\n",
    "    Toma como imput el modelo entrenado, el dataset de testeo y sus etiquetas\n",
    "    '''\n",
    "    y_pred=model.predict(X)\n",
    "    y_proba=model.predict_proba(X)\n",
    "\n",
    "    print(classification_report(y_true,y_pred))\n",
    "    print('Area bajo la curva ROC:',np.round(roc_auc_score(y_true,y_proba[:,1]),4))\n",
    "    precision, recall,threshold=precision_recall_curve(y_true,y_proba[:,1]);\n",
    "    print('Area bajo la curva Precision-Recall:',np.round(auc(recall,precision),4))\n",
    "    plot_confusion_matrix(model,X,y_true,cmap='Blues');\n",
    "    return"
   ]
  },
  {
   "cell_type": "code",
   "execution_count": 10,
   "metadata": {},
   "outputs": [
    {
     "name": "stdout",
     "output_type": "stream",
     "text": [
      "              precision    recall  f1-score   support\n",
      "\n",
      "           0       0.99      1.00      1.00     19411\n",
      "           1       0.50      0.01      0.02       182\n",
      "\n",
      "    accuracy                           0.99     19593\n",
      "   macro avg       0.75      0.51      0.51     19593\n",
      "weighted avg       0.99      0.99      0.99     19593\n",
      "\n",
      "Area bajo la curva ROC: 0.8702\n",
      "Area bajo la curva Precision-Recall: 0.1332\n"
     ]
    }
   ],
   "source": [
    "model=RandomForestClassifier()\n",
    "model.fit(X_train_dummy,y_train)\n",
    "evaluate_model(model,X_test_dummy,y_test)"
   ]
  },
  {
   "cell_type": "markdown",
   "metadata": {},
   "source": [
    "### Resampling de las clases\n",
    "\n",
    "* Hacer un undersampling de la clase mayoritaria en el training set para balancear las clases. ¿De qué tamaño quedó el dataset de entrenamiento?\n",
    "* Volver a entrenar un random forest y evaluarlo en test\n",
    "* Repetir el procedimiento usando SMOTENC para sobresamplear la clase minoritaria\n",
    "* Instanciar un Random Forest usando class_weight='balanced_subsample', entrenarlo en el training set original (sin resampling) y evaluarlo en test set\n",
    "\n",
    "* Combinar las tres estrategias anteriores:\n",
    "- Undersampling\n",
    "- Oversampling\n",
    "- Class weight\n",
    "Usar una combinación de undersampling y oversampling que les parezca razonable. Idealmente habría que optimizar esta combinación mediante cross-validation, pero no hay que subestimar el tiempo de cómputo. Utilicen una combinación de sampling_stategy que de por resultado un dataset de tamaño reducido respecto del original. Usaremos ese dataset para hacer feature selection en la segunda parte"
   ]
  },
  {
   "cell_type": "code",
   "execution_count": 11,
   "metadata": {},
   "outputs": [
    {
     "name": "stdout",
     "output_type": "stream",
     "text": [
      "X_train_us: (1094, 357)\n",
      "\n",
      "Balance de clases en train:\n",
      "1    547\n",
      "0    547\n",
      "Name: redemption_status, dtype: int64\n",
      "\n",
      "\n",
      "X_test: (19593, 357)\n",
      "\n",
      "Balance de clases en test:\n",
      "0    19411\n",
      "1      182\n",
      "Name: redemption_status, dtype: int64\n"
     ]
    }
   ],
   "source": [
    "# UnderSampling del dataset\n",
    "\n",
    "sampler=RandomUnderSampler()\n",
    "X_train_us,y_train_us=sampler.fit_resample(X_train_dummy,y_train)\n",
    "print('X_train_us:',X_train_us.shape)\n",
    "print('\\nBalance de clases en train:')\n",
    "print(y_train_us.value_counts())\n",
    "\n",
    "print('\\n\\nX_test:',X_test_dummy.shape)\n",
    "print('\\nBalance de clases en test:')\n",
    "print(y_test.value_counts())\n",
    "\n",
    "\n"
   ]
  },
  {
   "cell_type": "code",
   "execution_count": 12,
   "metadata": {},
   "outputs": [
    {
     "name": "stdout",
     "output_type": "stream",
     "text": [
      "DATASET SUBSAMPLEADO\n",
      "              precision    recall  f1-score   support\n",
      "\n",
      "           0       1.00      0.83      0.90     19411\n",
      "           1       0.04      0.85      0.08       182\n",
      "\n",
      "    accuracy                           0.83     19593\n",
      "   macro avg       0.52      0.84      0.49     19593\n",
      "weighted avg       0.99      0.83      0.90     19593\n",
      "\n",
      "Area bajo la curva ROC: 0.9152\n",
      "Area bajo la curva Precision-Recall: 0.1316\n"
     ]
    }
   ],
   "source": [
    "model=RandomForestClassifier()\n",
    "model.fit(X_train_us,y_train_us)\n",
    "print('DATASET SUBSAMPLEADO')\n",
    "evaluate_model(model,X_test_dummy,y_test)"
   ]
  },
  {
   "cell_type": "code",
   "execution_count": 13,
   "metadata": {},
   "outputs": [
    {
     "name": "stdout",
     "output_type": "stream",
     "text": [
      "DATASET SOBRESAMPLEADO\n",
      "X_train_os: (116458, 357)\n",
      "\n",
      "Balance de clases en train:\n",
      "1    58229\n",
      "0    58229\n",
      "Name: redemption_status, dtype: int64\n",
      "\n",
      "\n",
      "X_test: (19593, 357)\n",
      "\n",
      "Balance de clases en test:\n",
      "0    19411\n",
      "1      182\n",
      "Name: redemption_status, dtype: int64\n"
     ]
    }
   ],
   "source": [
    "print('DATASET SOBRESAMPLEADO')\n",
    "categorical_mask=(X_train.dtypes=='category').values\n",
    "sm=SMOTENC(categorical_features=categorical_mask,sampling_strategy='minority')\n",
    "X_train_os,y_train_os=sm.fit_resample(X_train,y_train)\n",
    "X_train_os=pd.get_dummies(X_train_os)\n",
    "\n",
    "print('X_train_os:',X_train_os.shape)\n",
    "print('\\nBalance de clases en train:')\n",
    "print(y_train_os.value_counts())\n",
    "\n",
    "print('\\n\\nX_test:',X_test_dummy.shape)\n",
    "print('\\nBalance de clases en test:')\n",
    "print(y_test.value_counts())"
   ]
  },
  {
   "cell_type": "code",
   "execution_count": 14,
   "metadata": {},
   "outputs": [
    {
     "name": "stdout",
     "output_type": "stream",
     "text": [
      "              precision    recall  f1-score   support\n",
      "\n",
      "           0       0.99      1.00      0.99     19411\n",
      "           1       0.24      0.14      0.17       182\n",
      "\n",
      "    accuracy                           0.99     19593\n",
      "   macro avg       0.62      0.57      0.58     19593\n",
      "weighted avg       0.98      0.99      0.99     19593\n",
      "\n",
      "Area bajo la curva ROC: 0.8725\n",
      "Area bajo la curva Precision-Recall: 0.116\n"
     ]
    }
   ],
   "source": [
    "model=RandomForestClassifier()\n",
    "model.fit(X_train_os,y_train_os)\n",
    "evaluate_model(model,X_test_dummy,y_test)"
   ]
  },
  {
   "cell_type": "code",
   "execution_count": 15,
   "metadata": {},
   "outputs": [
    {
     "name": "stdout",
     "output_type": "stream",
     "text": [
      "              precision    recall  f1-score   support\n",
      "\n",
      "           0       0.99      1.00      1.00     19411\n",
      "           1       0.57      0.02      0.04       182\n",
      "\n",
      "    accuracy                           0.99     19593\n",
      "   macro avg       0.78      0.51      0.52     19593\n",
      "weighted avg       0.99      0.99      0.99     19593\n",
      "\n",
      "Area bajo la curva ROC: 0.89\n",
      "Area bajo la curva Precision-Recall: 0.173\n"
     ]
    }
   ],
   "source": [
    "# Balance de clases\n",
    "model=RandomForestClassifier(class_weight='balanced_subsample')\n",
    "model.fit(X_train_dummy,y_train)\n",
    "evaluate_model(model,X_test_dummy,y_test)"
   ]
  },
  {
   "cell_type": "code",
   "execution_count": 16,
   "metadata": {},
   "outputs": [
    {
     "name": "stdout",
     "output_type": "stream",
     "text": [
      "(13128,)\n",
      "0.16666666666666666\n"
     ]
    }
   ],
   "source": [
    "# Combinando Estrategias\n",
    "sampler=RandomUnderSampler(sampling_strategy=0.05)\n",
    "X,y=sampler.fit_resample(X_train,y_train)\n",
    "sm=SMOTENC(categorical_mask,sampling_strategy=0.2)\n",
    "X_train_rs,y_train_rs=sm.fit_resample( X,y)\n",
    "\n",
    "X_train_rs=pd.get_dummies(X_train_rs)\n",
    "if not (X_test_dummy.columns==X_train_rs.columns).all():\n",
    "    print('Train y Test tienen distintas Categorias:')\n",
    "    print('Usar OneHotEncoding')\n",
    "\n",
    "print(y_train_rs.shape)\n",
    "print(y_train_rs.mean())\n",
    "    \n"
   ]
  },
  {
   "cell_type": "code",
   "execution_count": 17,
   "metadata": {},
   "outputs": [
    {
     "name": "stdout",
     "output_type": "stream",
     "text": [
      "              precision    recall  f1-score   support\n",
      "\n",
      "           0       0.99      0.99      0.99     19411\n",
      "           1       0.18      0.25      0.21       182\n",
      "\n",
      "    accuracy                           0.98     19593\n",
      "   macro avg       0.58      0.62      0.60     19593\n",
      "weighted avg       0.99      0.98      0.98     19593\n",
      "\n",
      "Area bajo la curva ROC: 0.9122\n",
      "Area bajo la curva Precision-Recall: 0.129\n"
     ]
    }
   ],
   "source": [
    "# Balance de clases\n",
    "model=RandomForestClassifier(class_weight='balanced_subsample')\n",
    "model.fit(X_train_rs,y_train_rs)\n",
    "evaluate_model(model,X_test_dummy,y_test)"
   ]
  },
  {
   "cell_type": "markdown",
   "metadata": {},
   "source": [
    "### Segunda Parte: Selección de Features\n",
    "\n",
    "#### SelectKBest\n",
    "\n",
    "Primero seleccionemos featuers usando SelectKbest tomando como medida de score el criterio 'f_classif'\n",
    "\n",
    "* Hacer un pipeline que concatene el selector de features y un RandomForestClassifier con class_weight='balanced_subsample'\n",
    "* Hacer una gridsearchCV variando el parámetro k del selector de features. Usar scoring='f1'.\n",
    "* Graficar los resultados del procedimiento de cross-validation: scores de clasificacion vs nro de features\n",
    "* ¿Con cuántas features se quedarían? ¿Cuáles?\n",
    "* ¿Cuál es el score en el test set al seleccionar el subset de features elegido?\n",
    "* Graficar la importancia de las features para el modelo (atributo feature_importance_)"
   ]
  },
  {
   "cell_type": "code",
   "execution_count": 18,
   "metadata": {},
   "outputs": [
    {
     "name": "stdout",
     "output_type": "stream",
     "text": [
      "Fitting 3 folds for each of 7 candidates, totalling 21 fits\n"
     ]
    },
    {
     "name": "stderr",
     "output_type": "stream",
     "text": [
      "[Parallel(n_jobs=3)]: Using backend LokyBackend with 3 concurrent workers.\n",
      "[Parallel(n_jobs=3)]: Done  21 out of  21 | elapsed:   11.2s finished\n",
      "/Users/csuarezgurruchaga/opt/anaconda3/envs/dhdsblend2021/lib/python3.8/site-packages/sklearn/feature_selection/_univariate_selection.py:114: UserWarning: Features [315] are constant.\n",
      "  warnings.warn(\"Features %s are constant.\" % constant_features_idx,\n",
      "/Users/csuarezgurruchaga/opt/anaconda3/envs/dhdsblend2021/lib/python3.8/site-packages/sklearn/feature_selection/_univariate_selection.py:116: RuntimeWarning: invalid value encountered in true_divide\n",
      "  f = msb / msw\n"
     ]
    },
    {
     "data": {
      "text/plain": [
       "GridSearchCV(cv=StratifiedKFold(n_splits=3, random_state=0, shuffle=True),\n",
       "             estimator=Pipeline(steps=[('selector', SelectKBest()),\n",
       "                                       ('classif',\n",
       "                                        RandomForestClassifier(class_weight='balanced_subsample'))]),\n",
       "             n_jobs=3,\n",
       "             param_grid={'selector__k': array([ 10,  30,  50,  70,  90, 110, 130])},\n",
       "             scoring='f1', verbose=3)"
      ]
     },
     "execution_count": 18,
     "metadata": {},
     "output_type": "execute_result"
    }
   ],
   "source": [
    "# Seleccion de features:\n",
    "skf=StratifiedKFold(n_splits=3,shuffle=True,random_state=0)\n",
    "steps=([('selector',SelectKBest(f_classif)),('classif',RandomForestClassifier(class_weight='balanced_subsample'))])\n",
    "pipe=Pipeline(steps)\n",
    "param_grid={'selector__k':np.arange(10,150,20)}\n",
    "grid=GridSearchCV(pipe,param_grid,scoring='f1',cv=skf,verbose=3,n_jobs=3)\n",
    "grid.fit(X_train_rs,y_train_rs)"
   ]
  },
  {
   "cell_type": "code",
   "execution_count": 19,
   "metadata": {},
   "outputs": [],
   "source": [
    "n_features=grid.cv_results_['param_selector__k'].data\n",
    "mn_cv_score=grid.cv_results_['mean_test_score']\n",
    "err=grid.cv_results_['std_test_score']\n",
    "plt.bar(n_features,mn_cv_score,color = \"r\",width=3,yerr=err,align = \"center\")\n",
    "plt.xlabel('Número de features')\n",
    "plt.ylabel('test score');"
   ]
  },
  {
   "cell_type": "code",
   "execution_count": 20,
   "metadata": {},
   "outputs": [
    {
     "name": "stderr",
     "output_type": "stream",
     "text": [
      "/Users/csuarezgurruchaga/opt/anaconda3/envs/dhdsblend2021/lib/python3.8/site-packages/sklearn/feature_selection/_univariate_selection.py:114: UserWarning: Features [315] are constant.\n",
      "  warnings.warn(\"Features %s are constant.\" % constant_features_idx,\n",
      "/Users/csuarezgurruchaga/opt/anaconda3/envs/dhdsblend2021/lib/python3.8/site-packages/sklearn/feature_selection/_univariate_selection.py:116: RuntimeWarning: invalid value encountered in true_divide\n",
      "  f = msb / msw\n"
     ]
    },
    {
     "name": "stdout",
     "output_type": "stream",
     "text": [
      "              precision    recall  f1-score   support\n",
      "\n",
      "           0       0.99      0.99      0.99     19411\n",
      "           1       0.16      0.28      0.21       182\n",
      "\n",
      "    accuracy                           0.98     19593\n",
      "   macro avg       0.58      0.63      0.60     19593\n",
      "weighted avg       0.99      0.98      0.98     19593\n",
      "\n",
      "Area bajo la curva ROC: 0.9021\n",
      "Area bajo la curva Precision-Recall: 0.115\n"
     ]
    }
   ],
   "source": [
    "# Evaluamos en test\n",
    "skb=SelectKBest(f_classif,k=70)\n",
    "X_train_reduced=skb.fit_transform(X_train_rs,y_train_rs)\n",
    "X_test_reduced=X_test_dummy.loc[:,skb.get_support()]\n",
    "model=RandomForestClassifier(class_weight='balanced_subsample')\n",
    "model.fit(X_train_reduced,y_train_rs)\n",
    "evaluate_model(model,X_test_reduced,y_test)"
   ]
  },
  {
   "cell_type": "code",
   "execution_count": 21,
   "metadata": {},
   "outputs": [
    {
     "data": {
      "text/plain": [
       "(0.0, 30.0)"
      ]
     },
     "execution_count": 21,
     "metadata": {},
     "output_type": "execute_result"
    }
   ],
   "source": [
    "y=np.sort(model.feature_importances_)\n",
    "x=np.argsort(model.feature_importances_)\n",
    "x=x[::-1]\n",
    "feat_names=X_train_rs.columns[skb.get_support()]\n",
    "labels=feat_names[x]\n",
    "y=y[::-1]\n",
    "\n",
    "plt.figure(figsize=(15,8))\n",
    "plt.bar(range(len(y)),y,color = \"r\",width=3,align = \"center\")\n",
    "plt.xticks(range(len(y)), labels, rotation=90)\n",
    "\n",
    "plt.xlim([0,30])"
   ]
  },
  {
   "cell_type": "markdown",
   "metadata": {},
   "source": [
    "#### Seleccion de Features por RFE\n",
    "* Implementar RFECV usando como modelo un randomforest con clases pesadas. Usar un step grande (50) para tener una primera aproximacion\n",
    "* Graficar los scores obtenidos para cada numero de features\n",
    "* Usar RFE para seleccionar el número de features más adecuado. En este caso implementar un paso más fino (step=10), entrenando en todo el dataset de entremiento (sin cross-validation)\n",
    "* Evaluar el modelo en el test set y mirar las feature_importance_"
   ]
  },
  {
   "cell_type": "code",
   "execution_count": 22,
   "metadata": {},
   "outputs": [
    {
     "name": "stdout",
     "output_type": "stream",
     "text": [
      "Fitting estimator with 357 features.\n",
      "Fitting estimator with 307 features.\n",
      "Fitting estimator with 257 features.\n",
      "Fitting estimator with 207 features.\n",
      "Fitting estimator with 157 features.\n",
      "Fitting estimator with 107 features.\n",
      "Fitting estimator with 57 features.\n",
      "Fitting estimator with 7 features.\n",
      "Fitting estimator with 357 features.\n",
      "Fitting estimator with 307 features.\n",
      "Fitting estimator with 257 features.\n",
      "Fitting estimator with 207 features.\n",
      "Fitting estimator with 157 features.\n",
      "Fitting estimator with 107 features.\n",
      "Fitting estimator with 57 features.\n",
      "Fitting estimator with 7 features.\n",
      "Fitting estimator with 357 features.\n",
      "Fitting estimator with 307 features.\n",
      "Fitting estimator with 257 features.\n",
      "Fitting estimator with 207 features.\n",
      "Fitting estimator with 157 features.\n",
      "Fitting estimator with 107 features.\n",
      "Fitting estimator with 57 features.\n",
      "Fitting estimator with 7 features.\n"
     ]
    },
    {
     "data": {
      "text/plain": [
       "RFECV(cv=StratifiedKFold(n_splits=3, random_state=0, shuffle=True),\n",
       "      estimator=RandomForestClassifier(class_weight='balanced_subsample'),\n",
       "      scoring='f1', step=50, verbose=2)"
      ]
     },
     "execution_count": 22,
     "metadata": {},
     "output_type": "execute_result"
    }
   ],
   "source": [
    "# Recursive feature elimination\n",
    "skf=StratifiedKFold(n_splits=3,shuffle=True,random_state=0)\n",
    "rfecv = RFECV(RandomForestClassifier(class_weight='balanced_subsample'), step = 50, cv=skf, scoring = 'f1', verbose=2)\n",
    "rfecv.fit(X_train_rs,y_train_rs)"
   ]
  },
  {
   "cell_type": "code",
   "execution_count": 23,
   "metadata": {},
   "outputs": [],
   "source": [
    "#n_features=grid.cv_results_['param_selector__k'].data\n",
    "mn_cv_score=rfecv.grid_scores_\n",
    "n_features=np.arange(7,357+50,50)\n",
    "n_features=np.insert(n_features,0,1)\n",
    "\n",
    "plt.bar(n_features,mn_cv_score,color = \"r\",width=3,align = \"center\")\n",
    "plt.xlabel('Número de features');\n",
    "plt.ylabel('test score');"
   ]
  },
  {
   "cell_type": "code",
   "execution_count": 24,
   "metadata": {},
   "outputs": [],
   "source": [
    "rfe=RFE(RandomForestClassifier(class_weight='balanced_subsample'),\\\n",
    "       n_features_to_select=70,step=10,verbose=1)"
   ]
  },
  {
   "cell_type": "code",
   "execution_count": 25,
   "metadata": {},
   "outputs": [
    {
     "name": "stdout",
     "output_type": "stream",
     "text": [
      "Fitting estimator with 357 features.\n",
      "Fitting estimator with 347 features.\n",
      "Fitting estimator with 337 features.\n",
      "Fitting estimator with 327 features.\n",
      "Fitting estimator with 317 features.\n",
      "Fitting estimator with 307 features.\n",
      "Fitting estimator with 297 features.\n",
      "Fitting estimator with 287 features.\n",
      "Fitting estimator with 277 features.\n",
      "Fitting estimator with 267 features.\n",
      "Fitting estimator with 257 features.\n",
      "Fitting estimator with 247 features.\n",
      "Fitting estimator with 237 features.\n",
      "Fitting estimator with 227 features.\n",
      "Fitting estimator with 217 features.\n",
      "Fitting estimator with 207 features.\n",
      "Fitting estimator with 197 features.\n",
      "Fitting estimator with 187 features.\n",
      "Fitting estimator with 177 features.\n",
      "Fitting estimator with 167 features.\n",
      "Fitting estimator with 157 features.\n",
      "Fitting estimator with 147 features.\n",
      "Fitting estimator with 137 features.\n",
      "Fitting estimator with 127 features.\n",
      "Fitting estimator with 117 features.\n",
      "Fitting estimator with 107 features.\n",
      "Fitting estimator with 97 features.\n",
      "Fitting estimator with 87 features.\n",
      "Fitting estimator with 77 features.\n"
     ]
    },
    {
     "data": {
      "text/plain": [
       "RFE(estimator=RandomForestClassifier(class_weight='balanced_subsample'),\n",
       "    n_features_to_select=70, step=10, verbose=1)"
      ]
     },
     "execution_count": 25,
     "metadata": {},
     "output_type": "execute_result"
    }
   ],
   "source": [
    "rfe.fit(X_train_rs,y_train_rs)"
   ]
  },
  {
   "cell_type": "code",
   "execution_count": 26,
   "metadata": {},
   "outputs": [
    {
     "name": "stdout",
     "output_type": "stream",
     "text": [
      "              precision    recall  f1-score   support\n",
      "\n",
      "           0       0.99      0.99      0.99     19411\n",
      "           1       0.19      0.29      0.23       182\n",
      "\n",
      "    accuracy                           0.98     19593\n",
      "   macro avg       0.59      0.64      0.61     19593\n",
      "weighted avg       0.99      0.98      0.98     19593\n",
      "\n",
      "Area bajo la curva ROC: 0.9134\n",
      "Area bajo la curva Precision-Recall: 0.131\n"
     ]
    }
   ],
   "source": [
    "X_train_reduced=X_train_rs.loc[:,rfe.support_]\n",
    "X_test_reduced=X_test_dummy.loc[:,rfe.support_]\n",
    "model=RandomForestClassifier(class_weight='balanced_subsample')\n",
    "model.fit(X_train_reduced,y_train_rs)\n",
    "evaluate_model(model,X_test_reduced,y_test)"
   ]
  },
  {
   "cell_type": "code",
   "execution_count": 27,
   "metadata": {},
   "outputs": [
    {
     "data": {
      "text/plain": [
       "(0.0, 30.0)"
      ]
     },
     "execution_count": 27,
     "metadata": {},
     "output_type": "execute_result"
    }
   ],
   "source": [
    "y=np.sort(model.feature_importances_)\n",
    "x=np.argsort(model.feature_importances_)\n",
    "x=x[::-1]\n",
    "feat_names=X_train_rs.columns[skb.get_support()]\n",
    "labels=feat_names[x]\n",
    "y=y[::-1]\n",
    "\n",
    "plt.figure(figsize=(15,8))\n",
    "plt.bar(range(len(y)),y,color = \"r\",width=3,align = \"center\")\n",
    "plt.xticks(range(len(y)),labels,rotation=90);\n",
    "plt.xlim([0,30])"
   ]
  }
 ],
 "metadata": {
  "kernelspec": {
   "display_name": "Python [conda env:dhdsblend2021] *",
   "language": "python",
   "name": "conda-env-dhdsblend2021-py"
  },
  "language_info": {
   "codemirror_mode": {
    "name": "ipython",
    "version": 3
   },
   "file_extension": ".py",
   "mimetype": "text/x-python",
   "name": "python",
   "nbconvert_exporter": "python",
   "pygments_lexer": "ipython3",
   "version": "3.8.11"
  }
 },
 "nbformat": 4,
 "nbformat_minor": 4
}
