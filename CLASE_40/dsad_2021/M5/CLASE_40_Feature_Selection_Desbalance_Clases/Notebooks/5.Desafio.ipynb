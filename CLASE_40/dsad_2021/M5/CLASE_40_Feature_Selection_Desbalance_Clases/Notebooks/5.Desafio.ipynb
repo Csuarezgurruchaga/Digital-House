{
 "cells": [
  {
   "cell_type": "code",
   "execution_count": 1,
   "metadata": {},
   "outputs": [
    {
     "name": "stdout",
     "output_type": "stream",
     "text": [
      "/Users/csuarezgurruchaga/Desktop/Digital-House/CLASE_40/dsad_2021/common\n",
      "default checking\n",
      "Running command `conda list`... ok\n",
      "jupyterlab=2.2.6 already installed\n",
      "pandas=1.1.5 already installed\n",
      "bokeh=2.2.3 already installed\n",
      "seaborn=0.11.0 already installed\n",
      "matplotlib=3.3.2 already installed\n",
      "ipywidgets=7.5.1 already installed\n",
      "pytest=6.2.1 already installed\n",
      "chardet=4.0.0 already installed\n",
      "psutil=5.7.2 already installed\n",
      "scipy=1.5.2 already installed\n",
      "statsmodels=0.12.1 already installed\n",
      "scikit-learn=0.23.2 already installed\n",
      "xlrd=2.0.1 already installed\n",
      "Running command `conda install --yes nltk=3.5.0`... ok\n",
      "Collecting package metadata (current_repodata.json): ...working... done\n",
      "Solving environment: ...working... done\n",
      "\n",
      "# All requested packages already installed.\n",
      "\n",
      "\n",
      "unidecode=1.1.1 already installed\n",
      "pydotplus=2.0.2 already installed\n",
      "pandas-datareader=0.9.0 already installed\n",
      "flask=1.1.2 already installed\n"
     ]
    }
   ],
   "source": [
    "# initial setup\n",
    "%run \"../../../common/0_notebooks_base_setup.py\"\n"
   ]
  },
  {
   "cell_type": "markdown",
   "metadata": {},
   "source": [
    "---\n",
    "\n",
    "<img src='../../../common/logo_DH.png' align='left' width=35%/>\n"
   ]
  },
  {
   "cell_type": "markdown",
   "metadata": {},
   "source": [
    "## Clasificacion: canjeo de coupones de descuento\n",
    "\n",
    "Trabajaremos con el dataset preprocesado en la notebook 'opcional_preprocesamiento_datos_clase'.\n",
    "El mismo cuenta con información de distintas campañas de marketing en donde se ofrecen coupnes de descuento sobre distintas marcas y productos. El dataset preprocesado cuenta con fetures con información sobre las campañas, sobre los consumidores (hábitos de consumo y características demográficas) y sobre los items alcanzados por las promociones.\n",
    "\n",
    "La variable target es el estado de canje de los cupones: \"redemption_status\". \n",
    "\n",
    "El dataset original está [acá](https://www.kaggle.com/vasudeva009/coupon-redemption-smote-feature-selection/data). Se aconseja mirar la notebook de preprocesamiento para entender mejor las variables del dataset."
   ]
  },
  {
   "cell_type": "code",
   "execution_count": 2,
   "metadata": {},
   "outputs": [],
   "source": [
    "import pandas as pd\n",
    "import numpy as np\n",
    "import matplotlib.pyplot as plt\n",
    "from sklearn.model_selection import train_test_split,cross_val_score,StratifiedKFold\n",
    "from imblearn.under_sampling import RandomUnderSampler\n",
    "from imblearn.over_sampling import SMOTENC\n",
    "from sklearn.ensemble import RandomForestClassifier\n",
    "from sklearn.feature_selection import SelectKBest, f_classif,RFECV,RFE\n",
    "from sklearn.pipeline import Pipeline\n",
    "from sklearn.model_selection import GridSearchCV\n",
    "from sklearn.metrics import accuracy_score,plot_confusion_matrix,roc_auc_score, classification_report, confusion_matrix, precision_recall_curve, auc"
   ]
  },
  {
   "cell_type": "code",
   "execution_count": 3,
   "metadata": {},
   "outputs": [
    {
     "data": {
      "text/html": [
       "<div>\n",
       "<style scoped>\n",
       "    .dataframe tbody tr th:only-of-type {\n",
       "        vertical-align: middle;\n",
       "    }\n",
       "\n",
       "    .dataframe tbody tr th {\n",
       "        vertical-align: top;\n",
       "    }\n",
       "\n",
       "    .dataframe thead th {\n",
       "        text-align: right;\n",
       "    }\n",
       "</style>\n",
       "<table border=\"1\" class=\"dataframe\">\n",
       "  <thead>\n",
       "    <tr style=\"text-align: right;\">\n",
       "      <th></th>\n",
       "      <th>Unnamed: 0</th>\n",
       "      <th>id</th>\n",
       "      <th>campaign_id</th>\n",
       "      <th>coupon_id</th>\n",
       "      <th>customer_id</th>\n",
       "      <th>redemption_status</th>\n",
       "      <th>campaign_type</th>\n",
       "      <th>duration</th>\n",
       "      <th>month</th>\n",
       "      <th>year</th>\n",
       "      <th>...</th>\n",
       "      <th>mean_selling_price_cust</th>\n",
       "      <th>mean_other_discount_cust</th>\n",
       "      <th>mean_coupon_discount_cust</th>\n",
       "      <th>mean_quantity_item_coupon</th>\n",
       "      <th>mean_selling_price_item_coupon</th>\n",
       "      <th>mean_other_discount_item_coupon</th>\n",
       "      <th>mean_coupon_discount_item_coupon</th>\n",
       "      <th>brand</th>\n",
       "      <th>brand_type</th>\n",
       "      <th>category</th>\n",
       "    </tr>\n",
       "  </thead>\n",
       "  <tbody>\n",
       "    <tr>\n",
       "      <th>0</th>\n",
       "      <td>0</td>\n",
       "      <td>1</td>\n",
       "      <td>13</td>\n",
       "      <td>27</td>\n",
       "      <td>1053</td>\n",
       "      <td>0</td>\n",
       "      <td>X</td>\n",
       "      <td>47</td>\n",
       "      <td>5</td>\n",
       "      <td>2013</td>\n",
       "      <td>...</td>\n",
       "      <td>184.260484</td>\n",
       "      <td>-33.168935</td>\n",
       "      <td>-0.287258</td>\n",
       "      <td>1.169768</td>\n",
       "      <td>84.478583</td>\n",
       "      <td>-51.732305</td>\n",
       "      <td>-1.241694</td>\n",
       "      <td>1105</td>\n",
       "      <td>Established</td>\n",
       "      <td>Grocery</td>\n",
       "    </tr>\n",
       "    <tr>\n",
       "      <th>1</th>\n",
       "      <td>1</td>\n",
       "      <td>2</td>\n",
       "      <td>13</td>\n",
       "      <td>116</td>\n",
       "      <td>48</td>\n",
       "      <td>0</td>\n",
       "      <td>X</td>\n",
       "      <td>47</td>\n",
       "      <td>5</td>\n",
       "      <td>2013</td>\n",
       "      <td>...</td>\n",
       "      <td>234.247013</td>\n",
       "      <td>-27.699169</td>\n",
       "      <td>-3.215039</td>\n",
       "      <td>1.050926</td>\n",
       "      <td>63.833519</td>\n",
       "      <td>-10.661343</td>\n",
       "      <td>0.000000</td>\n",
       "      <td>56</td>\n",
       "      <td>Local</td>\n",
       "      <td>Grocery</td>\n",
       "    </tr>\n",
       "    <tr>\n",
       "      <th>2</th>\n",
       "      <td>2</td>\n",
       "      <td>6</td>\n",
       "      <td>9</td>\n",
       "      <td>635</td>\n",
       "      <td>205</td>\n",
       "      <td>0</td>\n",
       "      <td>Y</td>\n",
       "      <td>32</td>\n",
       "      <td>3</td>\n",
       "      <td>2013</td>\n",
       "      <td>...</td>\n",
       "      <td>121.094495</td>\n",
       "      <td>-17.795660</td>\n",
       "      <td>-2.212082</td>\n",
       "      <td>1.353802</td>\n",
       "      <td>332.128380</td>\n",
       "      <td>-142.498493</td>\n",
       "      <td>-2.987321</td>\n",
       "      <td>560</td>\n",
       "      <td>Established</td>\n",
       "      <td>Pharmaceutical</td>\n",
       "    </tr>\n",
       "  </tbody>\n",
       "</table>\n",
       "<p>3 rows × 27 columns</p>\n",
       "</div>"
      ],
      "text/plain": [
       "   Unnamed: 0  id  campaign_id  coupon_id  customer_id  redemption_status  \\\n",
       "0           0   1           13         27         1053                  0   \n",
       "1           1   2           13        116           48                  0   \n",
       "2           2   6            9        635          205                  0   \n",
       "\n",
       "  campaign_type  duration  month  year  ... mean_selling_price_cust  \\\n",
       "0             X        47      5  2013  ...              184.260484   \n",
       "1             X        47      5  2013  ...              234.247013   \n",
       "2             Y        32      3  2013  ...              121.094495   \n",
       "\n",
       "  mean_other_discount_cust  mean_coupon_discount_cust  \\\n",
       "0               -33.168935                  -0.287258   \n",
       "1               -27.699169                  -3.215039   \n",
       "2               -17.795660                  -2.212082   \n",
       "\n",
       "  mean_quantity_item_coupon mean_selling_price_item_coupon  \\\n",
       "0                  1.169768                      84.478583   \n",
       "1                  1.050926                      63.833519   \n",
       "2                  1.353802                     332.128380   \n",
       "\n",
       "   mean_other_discount_item_coupon  mean_coupon_discount_item_coupon  brand  \\\n",
       "0                       -51.732305                         -1.241694   1105   \n",
       "1                       -10.661343                          0.000000     56   \n",
       "2                      -142.498493                         -2.987321    560   \n",
       "\n",
       "    brand_type        category  \n",
       "0  Established         Grocery  \n",
       "1        Local         Grocery  \n",
       "2  Established  Pharmaceutical  \n",
       "\n",
       "[3 rows x 27 columns]"
      ]
     },
     "metadata": {},
     "output_type": "display_data"
    },
    {
     "data": {
      "text/plain": [
       "Unnamed: 0                            int64\n",
       "id                                    int64\n",
       "campaign_id                           int64\n",
       "coupon_id                             int64\n",
       "customer_id                           int64\n",
       "redemption_status                     int64\n",
       "campaign_type                        object\n",
       "duration                              int64\n",
       "month                                 int64\n",
       "year                                  int64\n",
       "age_range                            object\n",
       "marital_status                       object\n",
       "rented                                int64\n",
       "family_size                          object\n",
       "no_of_children                       object\n",
       "income_bracket                        int64\n",
       "mean_quantity_cust                  float64\n",
       "mean_selling_price_cust             float64\n",
       "mean_other_discount_cust            float64\n",
       "mean_coupon_discount_cust           float64\n",
       "mean_quantity_item_coupon           float64\n",
       "mean_selling_price_item_coupon      float64\n",
       "mean_other_discount_item_coupon     float64\n",
       "mean_coupon_discount_item_coupon    float64\n",
       "brand                                 int64\n",
       "brand_type                           object\n",
       "category                             object\n",
       "dtype: object"
      ]
     },
     "execution_count": 3,
     "metadata": {},
     "output_type": "execute_result"
    }
   ],
   "source": [
    "data=pd.read_csv('../Data/marketing/data_preprocessed.csv')\n",
    "display(data.head(3))\n",
    "data.dtypes"
   ]
  },
  {
   "cell_type": "code",
   "execution_count": 4,
   "metadata": {},
   "outputs": [],
   "source": [
    "data=data.drop(['Unnamed: 0','id','customer_id','campaign_id','coupon_id'],axis=1)"
   ]
  },
  {
   "cell_type": "code",
   "execution_count": 5,
   "metadata": {},
   "outputs": [
    {
     "data": {
      "text/plain": [
       "redemption_status                      int64\n",
       "campaign_type                       category\n",
       "duration                               int64\n",
       "month                               category\n",
       "year                                category\n",
       "age_range                           category\n",
       "marital_status                      category\n",
       "rented                              category\n",
       "family_size                         category\n",
       "no_of_children                      category\n",
       "income_bracket                      category\n",
       "mean_quantity_cust                   float64\n",
       "mean_selling_price_cust              float64\n",
       "mean_other_discount_cust             float64\n",
       "mean_coupon_discount_cust            float64\n",
       "mean_quantity_item_coupon            float64\n",
       "mean_selling_price_item_coupon       float64\n",
       "mean_other_discount_item_coupon      float64\n",
       "mean_coupon_discount_item_coupon     float64\n",
       "brand                               category\n",
       "brand_type                          category\n",
       "category                            category\n",
       "dtype: object"
      ]
     },
     "execution_count": 5,
     "metadata": {},
     "output_type": "execute_result"
    }
   ],
   "source": [
    "categorical=['campaign_type','month','year','age_range','marital_status','rented','family_size','no_of_children',\\\n",
    "             'income_bracket','brand','brand_type','category']\n",
    "\n",
    "data[categorical]=data[categorical].astype('category')\n",
    "data.dtypes"
   ]
  },
  {
   "cell_type": "markdown",
   "metadata": {},
   "source": [
    "### Primera parte\n",
    "* Ver el balance de clases en el dataset conun value counts de la columna redemption_status\n",
    "* Hacer un train-test-split estratificado\n",
    "* Convertir las variables categoricas a dummy. Conviene que nos quedemos con una versión no dummy del dataset de entrenamiento puesto que luego usaremos SMOTENC\n",
    "* Opcional (recomendado): Armar una función que tome como input un modelo entrenado y un dataset de testeo e imprima las métricas más importantes para evaluar clasificación (classification_report, matriz de confución, area bajo las curvas ROC y Precision-Recall)\n",
    "* Instanciar un modelo Random Forest entrenarlo y evaluarlo en el dataset de testeo"
   ]
  },
  {
   "cell_type": "markdown",
   "metadata": {},
   "source": [
    "### Resampling de las clases\n",
    "\n",
    "* Hacer un undersampling de la clase mayoritaria en el training set para balancear las clases. ¿De qué tamaño quedó el dataset de entrenamiento?\n",
    "* Volver a entrenar un random forest y evaluarlo en test\n",
    "* Repetir el procedimiento usando SMOTENC para sobresamplear la clase minoritaria\n",
    "* Instanciar un Random Forest usando class_weight='balanced_subsample', entrenarlo en el training set original (sin resampling) y evaluarlo en test set\n",
    "\n",
    "* Combinar las tres estrategias anteriores:\n",
    "- Undersampling\n",
    "- Oversampling\n",
    "- Class weight\n",
    "Usar una combinación de undersampling y oversampling que les parezca razonable. Idealmente habría que optimizar esta combinación mediante cross-validation, pero no hay que subestimar el tiempo de cómputo. Utilicen una combinación de sampling_stategy que de por resultado un dataset de tamaño reducido respecto del original. Usaremos ese dataset para hacer feature selection en la segunda parte"
   ]
  },
  {
   "cell_type": "markdown",
   "metadata": {},
   "source": [
    "### Segunda Parte: Selección de Features\n",
    "\n",
    "#### SelectKBest\n",
    "\n",
    "Primero seleccionemos featuers usando SelectKbest tomando como medida de score el criterio 'f_classif'\n",
    "\n",
    "* Hacer un pipeline que concatene el selector de features y un RandomForestClassifier con class_weight='balanced_subsample'\n",
    "* Hacer una gridsearchCV variando el parámetro k del selector de features. Usar scoring='f1'.\n",
    "* Graficar los resultados del procedimiento de cross-validation: scores de clasificacion vs nro de features\n",
    "* ¿Con cuántas features se quedarían? ¿Cuáles?\n",
    "* ¿Cuál es el score en el test set al seleccionar el subset de features elegido?\n",
    "* Graficar la importancia de las features para el modelo (atributo feature_importance_)"
   ]
  },
  {
   "cell_type": "markdown",
   "metadata": {},
   "source": [
    "#### Seleccion de Features por RFE\n",
    "* Implementar RFECV usando como modelo un randomforest con clases pesadas. Usar un step grande (50) para tener una primera aproximacion\n",
    "* Graficar los scores obtenidos para cada numero de features\n",
    "* Usar RFE para seleccionar el número de features más adecuado. En este caso implementar un paso más fino (step=10), entrenando en todo el dataset de entremiento (sin cross-validation)\n",
    "* Evaluar el modelo en el test set y mirar las feature_importance_"
   ]
  }
 ],
 "metadata": {
  "kernelspec": {
   "display_name": "Python [conda env:dhdsblend2021] *",
   "language": "python",
   "name": "conda-env-dhdsblend2021-py"
  },
  "language_info": {
   "codemirror_mode": {
    "name": "ipython",
    "version": 3
   },
   "file_extension": ".py",
   "mimetype": "text/x-python",
   "name": "python",
   "nbconvert_exporter": "python",
   "pygments_lexer": "ipython3",
   "version": "3.8.11"
  }
 },
 "nbformat": 4,
 "nbformat_minor": 4
}
