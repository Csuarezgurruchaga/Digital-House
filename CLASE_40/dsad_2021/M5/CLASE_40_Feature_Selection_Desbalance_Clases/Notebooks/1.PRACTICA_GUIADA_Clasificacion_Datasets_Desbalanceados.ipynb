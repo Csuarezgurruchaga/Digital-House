{
 "cells": [
  {
   "cell_type": "code",
   "execution_count": 3,
   "metadata": {},
   "outputs": [
    {
     "name": "stdout",
     "output_type": "stream",
     "text": [
      "/Users/csuarezgurruchaga/Desktop/Digital-House/CLASE_40/dsad_2021/common\n",
      "default checking\n",
      "Running command `conda list`... ok\n",
      "jupyterlab=2.2.6 already installed\n",
      "pandas=1.1.5 already installed\n",
      "bokeh=2.2.3 already installed\n",
      "seaborn=0.11.0 already installed\n",
      "matplotlib=3.3.2 already installed\n",
      "ipywidgets=7.5.1 already installed\n",
      "pytest=6.2.1 already installed\n",
      "chardet=4.0.0 already installed\n",
      "psutil=5.7.2 already installed\n",
      "scipy=1.5.2 already installed\n",
      "statsmodels=0.12.1 already installed\n",
      "scikit-learn=0.23.2 already installed\n",
      "xlrd=2.0.1 already installed\n",
      "Running command `conda install --yes nltk=3.5.0`... ok\n",
      "Collecting package metadata (current_repodata.json): ...working... done\n",
      "Solving environment: ...working... done\n",
      "\n",
      "# All requested packages already installed.\n",
      "\n",
      "\n",
      "unidecode=1.1.1 already installed\n",
      "pydotplus=2.0.2 already installed\n",
      "pandas-datareader=0.9.0 already installed\n",
      "flask=1.1.2 already installed\n"
     ]
    }
   ],
   "source": [
    "# initial setup\n",
    "%run \"../../../common/0_notebooks_base_setup.py\"\n"
   ]
  },
  {
   "cell_type": "markdown",
   "metadata": {},
   "source": [
    "---\n",
    "\n",
    "<img src='../../../common/logo_DH.png' align='left' width=35%/>\n"
   ]
  },
  {
   "cell_type": "markdown",
   "metadata": {
    "colab_type": "text",
    "id": "epAlo2Q3K8OF"
   },
   "source": [
    "# Práctica Guiada - Clasificación en datasets desbalanceados"
   ]
  },
  {
   "cell_type": "markdown",
   "metadata": {},
   "source": [
    "<a id=\"section_toc\"></a> \n",
    "## Tabla de Contenidos\n",
    "\n",
    "[1- Introducción](#section_intro)\n",
    "\n",
    "[2- Análisis exploratorio del dataset](#section_EDA)\n",
    "\n",
    "[3- Modelo predictivo: regresión logística](#section_modelo)\n",
    "\n",
    "[4- Undersampling](#section_undersampling)\n",
    "\n",
    "[5- Oversampling](#section_oversampling)\n",
    "\n",
    "[6- Class weighting](#section_class_weighting)\n"
   ]
  },
  {
   "cell_type": "markdown",
   "metadata": {
    "colab_type": "text",
    "id": "puQ9YKZCK8OH"
   },
   "source": [
    "### Introducción\n",
    "\n",
    "<a id=\"section_intro\"></a> \n",
    "[volver a TOC](#section_toc)\n",
    "\n",
    "\n",
    "El problema de los datasets desbalanceados ocurre cada vez que por algún motivo las clases que se desean identificar se observan con frecuencia muy diferente. Es una situación que se encuentra en una amplia variedad de problemas de Machine Learning como el diagnóstico de enfermedades o la búsqueda de transacciones fraudulentas en un sistema. \n",
    "\n",
    "Existen dos grandes enfoques para abordar datasets que se encuentran desbalanceados:\n",
    "\n",
    "1.  Hacer un resampling de la muestra, para entrenar al algoritmo con proporciones similares de las clases.\n",
    "2.  Incorporar el desbalance a la función de costos del algoritmo para que tenga incentivos a elegir los parámetros que mejor discriminan la clase minoritaria.\n",
    "\n",
    "\n"
   ]
  },
  {
   "cell_type": "markdown",
   "metadata": {
    "colab_type": "text",
    "id": "6S6sXmsSK8OJ"
   },
   "source": [
    "A continuación presentamos un dataset de la empresa americana Lending Club, que se dedica a proveer servicios financieros para distintos segmentos. \n",
    "\n",
    "Vamos a utilizar información abierta del portal de la empresa para intentar predecir cuáles de los créditos terminan en default. Para más información sobre el datset pueden ingresar <a href='https://www.lendingclub.com/info/download-data.action'> aquí </a>"
   ]
  },
  {
   "cell_type": "markdown",
   "metadata": {},
   "source": [
    "### Actualizar scikit-learn e Instalar imbalanced-learn\n",
    "\n",
    "**Si la primera celda se ejecutó sin errores, omitan esta parte.**\n",
    "\n",
    "Si no, sigan estas instrucciones para instalar las dependencias necesarias para ejecutar esta notebook.\n",
    "\n",
    "En esta práctica usaremos la librería imbalanced-learn. La instalamos con la siguiente linea:\n",
    "\n",
    "!conda install --yes -c conda-forge imbalanced-learn==0.7\n",
    " \n",
    "Pueden tener problemas con versiones de scikitlearn anteriores a 0.23. Entonces:\n",
    "\n",
    "!conda install scikit-learn==0.23\n",
    "\n",
    "o\n",
    "\n",
    "!conda update scikit-learn"
   ]
  },
  {
   "cell_type": "code",
   "execution_count": 4,
   "metadata": {
    "colab": {},
    "colab_type": "code",
    "id": "p2PHSRoPK8OK"
   },
   "outputs": [],
   "source": [
    "import numpy as np\n",
    "import pandas as pd\n",
    "import matplotlib.pyplot as plt\n",
    "from sklearn.preprocessing import StandardScaler, OneHotEncoder\n",
    "from sklearn.linear_model import LogisticRegression, LogisticRegressionCV\n",
    "from sklearn.model_selection import train_test_split\n",
    "from sklearn.metrics import accuracy_score,plot_confusion_matrix,roc_auc_score, classification_report, confusion_matrix, precision_recall_curve, auc\n",
    "\n",
    "%matplotlib inline"
   ]
  },
  {
   "cell_type": "code",
   "execution_count": 5,
   "metadata": {
    "colab": {},
    "colab_type": "code",
    "id": "Ylvmz7hrK8OR"
   },
   "outputs": [],
   "source": [
    "loans = pd.read_csv('../Data/loans.csv',low_memory=False)"
   ]
  },
  {
   "cell_type": "code",
   "execution_count": 6,
   "metadata": {},
   "outputs": [
    {
     "data": {
      "text/html": [
       "<div>\n",
       "<style scoped>\n",
       "    .dataframe tbody tr th:only-of-type {\n",
       "        vertical-align: middle;\n",
       "    }\n",
       "\n",
       "    .dataframe tbody tr th {\n",
       "        vertical-align: top;\n",
       "    }\n",
       "\n",
       "    .dataframe thead th {\n",
       "        text-align: right;\n",
       "    }\n",
       "</style>\n",
       "<table border=\"1\" class=\"dataframe\">\n",
       "  <thead>\n",
       "    <tr style=\"text-align: right;\">\n",
       "      <th></th>\n",
       "      <th>grade</th>\n",
       "      <th>home_ownership</th>\n",
       "      <th>emp_length_num</th>\n",
       "      <th>sub_grade</th>\n",
       "      <th>short_emp</th>\n",
       "      <th>dti</th>\n",
       "      <th>term</th>\n",
       "      <th>purpose</th>\n",
       "      <th>int_rate</th>\n",
       "      <th>last_delinq_none</th>\n",
       "      <th>last_major_derog_none</th>\n",
       "      <th>revol_util</th>\n",
       "      <th>total_rec_late_fee</th>\n",
       "      <th>payment_inc_ratio</th>\n",
       "      <th>bad_loans</th>\n",
       "    </tr>\n",
       "  </thead>\n",
       "  <tbody>\n",
       "    <tr>\n",
       "      <th>0</th>\n",
       "      <td>B</td>\n",
       "      <td>RENT</td>\n",
       "      <td>11</td>\n",
       "      <td>B2</td>\n",
       "      <td>0</td>\n",
       "      <td>27.65</td>\n",
       "      <td>36 months</td>\n",
       "      <td>credit_card</td>\n",
       "      <td>10.65</td>\n",
       "      <td>1</td>\n",
       "      <td>1</td>\n",
       "      <td>83.7</td>\n",
       "      <td>0.00</td>\n",
       "      <td>8.14350</td>\n",
       "      <td>0</td>\n",
       "    </tr>\n",
       "    <tr>\n",
       "      <th>1</th>\n",
       "      <td>C</td>\n",
       "      <td>RENT</td>\n",
       "      <td>1</td>\n",
       "      <td>C4</td>\n",
       "      <td>1</td>\n",
       "      <td>1.00</td>\n",
       "      <td>60 months</td>\n",
       "      <td>car</td>\n",
       "      <td>15.27</td>\n",
       "      <td>1</td>\n",
       "      <td>1</td>\n",
       "      <td>9.4</td>\n",
       "      <td>0.00</td>\n",
       "      <td>2.39320</td>\n",
       "      <td>1</td>\n",
       "    </tr>\n",
       "    <tr>\n",
       "      <th>2</th>\n",
       "      <td>C</td>\n",
       "      <td>RENT</td>\n",
       "      <td>11</td>\n",
       "      <td>C5</td>\n",
       "      <td>0</td>\n",
       "      <td>8.72</td>\n",
       "      <td>36 months</td>\n",
       "      <td>small_business</td>\n",
       "      <td>15.96</td>\n",
       "      <td>1</td>\n",
       "      <td>1</td>\n",
       "      <td>98.5</td>\n",
       "      <td>0.00</td>\n",
       "      <td>8.25955</td>\n",
       "      <td>0</td>\n",
       "    </tr>\n",
       "    <tr>\n",
       "      <th>3</th>\n",
       "      <td>C</td>\n",
       "      <td>RENT</td>\n",
       "      <td>11</td>\n",
       "      <td>C1</td>\n",
       "      <td>0</td>\n",
       "      <td>20.00</td>\n",
       "      <td>36 months</td>\n",
       "      <td>other</td>\n",
       "      <td>13.49</td>\n",
       "      <td>0</td>\n",
       "      <td>1</td>\n",
       "      <td>21.0</td>\n",
       "      <td>16.97</td>\n",
       "      <td>8.27585</td>\n",
       "      <td>0</td>\n",
       "    </tr>\n",
       "    <tr>\n",
       "      <th>4</th>\n",
       "      <td>A</td>\n",
       "      <td>RENT</td>\n",
       "      <td>4</td>\n",
       "      <td>A4</td>\n",
       "      <td>0</td>\n",
       "      <td>11.20</td>\n",
       "      <td>36 months</td>\n",
       "      <td>wedding</td>\n",
       "      <td>7.90</td>\n",
       "      <td>1</td>\n",
       "      <td>1</td>\n",
       "      <td>28.3</td>\n",
       "      <td>0.00</td>\n",
       "      <td>5.21533</td>\n",
       "      <td>0</td>\n",
       "    </tr>\n",
       "  </tbody>\n",
       "</table>\n",
       "</div>"
      ],
      "text/plain": [
       "  grade home_ownership  emp_length_num sub_grade  short_emp    dti  \\\n",
       "0     B           RENT              11        B2          0  27.65   \n",
       "1     C           RENT               1        C4          1   1.00   \n",
       "2     C           RENT              11        C5          0   8.72   \n",
       "3     C           RENT              11        C1          0  20.00   \n",
       "4     A           RENT               4        A4          0  11.20   \n",
       "\n",
       "         term         purpose  int_rate  last_delinq_none  \\\n",
       "0   36 months     credit_card     10.65                 1   \n",
       "1   60 months             car     15.27                 1   \n",
       "2   36 months  small_business     15.96                 1   \n",
       "3   36 months           other     13.49                 0   \n",
       "4   36 months         wedding      7.90                 1   \n",
       "\n",
       "   last_major_derog_none  revol_util  total_rec_late_fee  payment_inc_ratio  \\\n",
       "0                      1        83.7                0.00            8.14350   \n",
       "1                      1         9.4                0.00            2.39320   \n",
       "2                      1        98.5                0.00            8.25955   \n",
       "3                      1        21.0               16.97            8.27585   \n",
       "4                      1        28.3                0.00            5.21533   \n",
       "\n",
       "   bad_loans  \n",
       "0          0  \n",
       "1          1  \n",
       "2          0  \n",
       "3          0  \n",
       "4          0  "
      ]
     },
     "execution_count": 6,
     "metadata": {},
     "output_type": "execute_result"
    }
   ],
   "source": [
    "loans.head()"
   ]
  },
  {
   "cell_type": "markdown",
   "metadata": {
    "colab_type": "text",
    "id": "aYvvW3HlK8OW"
   },
   "source": [
    "\n",
    "<a id=\"section_EDA\"></a> \n",
    "## Análisis exploratorio\n",
    "[volver a TOC](#section_toc)\n",
    "\n",
    "#### Balance de la clase\n",
    "\n",
    "La clase que vamos a intentar predecir es \"bad loans\" que indica si el préstamo fue pagado a tiempo o no. Observamos que la clase está desbalanceada, la mayoría de los préstamos se pagan a tiempo."
   ]
  },
  {
   "cell_type": "code",
   "execution_count": 7,
   "metadata": {
    "colab": {},
    "colab_type": "code",
    "id": "BlIfUosgK8OY"
   },
   "outputs": [
    {
     "data": {
      "text/plain": [
       "0    0.811185\n",
       "1    0.188815\n",
       "Name: bad_loans, dtype: float64"
      ]
     },
     "execution_count": 7,
     "metadata": {},
     "output_type": "execute_result"
    }
   ],
   "source": [
    "loans['bad_loans'].value_counts(normalize=True)"
   ]
  },
  {
   "cell_type": "markdown",
   "metadata": {
    "colab_type": "text",
    "id": "dinDuG-NVXZR"
   },
   "source": [
    "#### Valores faltantes\n",
    "\n",
    "Inspeccionamos los valores faltantes"
   ]
  },
  {
   "cell_type": "code",
   "execution_count": 8,
   "metadata": {
    "colab": {},
    "colab_type": "code",
    "id": "CKTjtKNkK8O3"
   },
   "outputs": [
    {
     "data": {
      "text/plain": [
       "grade                    0\n",
       "home_ownership           0\n",
       "emp_length_num           0\n",
       "sub_grade                0\n",
       "short_emp                0\n",
       "dti                      0\n",
       "term                     0\n",
       "purpose                  0\n",
       "int_rate                 0\n",
       "last_delinq_none         0\n",
       "last_major_derog_none    0\n",
       "revol_util               0\n",
       "total_rec_late_fee       0\n",
       "payment_inc_ratio        4\n",
       "bad_loans                0\n",
       "dtype: int64"
      ]
     },
     "execution_count": 8,
     "metadata": {},
     "output_type": "execute_result"
    }
   ],
   "source": [
    "loans.isnull().sum()"
   ]
  },
  {
   "cell_type": "markdown",
   "metadata": {},
   "source": [
    "Eliminamos las entradas nulas"
   ]
  },
  {
   "cell_type": "code",
   "execution_count": 9,
   "metadata": {
    "colab": {},
    "colab_type": "code",
    "id": "F45nRKCWK8O_"
   },
   "outputs": [
    {
     "data": {
      "text/plain": [
       "grade                    0\n",
       "home_ownership           0\n",
       "emp_length_num           0\n",
       "sub_grade                0\n",
       "short_emp                0\n",
       "dti                      0\n",
       "term                     0\n",
       "purpose                  0\n",
       "int_rate                 0\n",
       "last_delinq_none         0\n",
       "last_major_derog_none    0\n",
       "revol_util               0\n",
       "total_rec_late_fee       0\n",
       "payment_inc_ratio        0\n",
       "bad_loans                0\n",
       "dtype: int64"
      ]
     },
     "execution_count": 9,
     "metadata": {},
     "output_type": "execute_result"
    }
   ],
   "source": [
    "loans.dropna(inplace=True);\n",
    "loans.reset_index(drop=True,inplace=True)\n",
    "loans.isnull().sum()"
   ]
  },
  {
   "cell_type": "markdown",
   "metadata": {
    "colab_type": "text",
    "id": "89F7zV-_K8PT"
   },
   "source": [
    "<a id=\"section_modelo\"></a> \n",
    "## Modelo Predictivo: regresión logística\n",
    "\n",
    "[volver a TOC](#section_toc)\n",
    "\n",
    "Vamos a utilizar Regresión Logística para predecir la clase bad_loans. "
   ]
  },
  {
   "cell_type": "code",
   "execution_count": 10,
   "metadata": {},
   "outputs": [
    {
     "data": {
      "text/plain": [
       "(122603, 15)"
      ]
     },
     "execution_count": 10,
     "metadata": {},
     "output_type": "execute_result"
    }
   ],
   "source": [
    "loans.shape"
   ]
  },
  {
   "cell_type": "markdown",
   "metadata": {},
   "source": [
    "### Variables dummy\n",
    "\n",
    "Generamos las variables dummies para los datos categóricos. "
   ]
  },
  {
   "cell_type": "code",
   "execution_count": 11,
   "metadata": {
    "colab": {},
    "colab_type": "code",
    "id": "zv5V3VJ8K8PV"
   },
   "outputs": [],
   "source": [
    "# Generamos las variables dummies para los datos categóricos.\n",
    "loans_dummy = pd.get_dummies(loans,drop_first=True);"
   ]
  },
  {
   "cell_type": "code",
   "execution_count": 12,
   "metadata": {},
   "outputs": [
    {
     "data": {
      "text/plain": [
       "emp_length_num              int64\n",
       "short_emp                   int64\n",
       "dti                       float64\n",
       "int_rate                  float64\n",
       "last_delinq_none            int64\n",
       "                           ...   \n",
       "purpose_moving              uint8\n",
       "purpose_other               uint8\n",
       "purpose_small_business      uint8\n",
       "purpose_vacation            uint8\n",
       "purpose_wedding             uint8\n",
       "Length: 65, dtype: object"
      ]
     },
     "execution_count": 12,
     "metadata": {},
     "output_type": "execute_result"
    }
   ],
   "source": [
    "loans_dummy.dtypes"
   ]
  },
  {
   "cell_type": "code",
   "execution_count": 13,
   "metadata": {},
   "outputs": [
    {
     "data": {
      "text/plain": [
       "Index(['grade', 'home_ownership', 'emp_length_num', 'sub_grade', 'short_emp',\n",
       "       'dti', 'term', 'purpose', 'int_rate', 'last_delinq_none',\n",
       "       'last_major_derog_none', 'revol_util', 'total_rec_late_fee',\n",
       "       'payment_inc_ratio', 'bad_loans'],\n",
       "      dtype='object')"
      ]
     },
     "execution_count": 13,
     "metadata": {},
     "output_type": "execute_result"
    }
   ],
   "source": [
    "loans.columns"
   ]
  },
  {
   "cell_type": "code",
   "execution_count": 14,
   "metadata": {},
   "outputs": [
    {
     "data": {
      "text/html": [
       "<div>\n",
       "<style scoped>\n",
       "    .dataframe tbody tr th:only-of-type {\n",
       "        vertical-align: middle;\n",
       "    }\n",
       "\n",
       "    .dataframe tbody tr th {\n",
       "        vertical-align: top;\n",
       "    }\n",
       "\n",
       "    .dataframe thead th {\n",
       "        text-align: right;\n",
       "    }\n",
       "</style>\n",
       "<table border=\"1\" class=\"dataframe\">\n",
       "  <thead>\n",
       "    <tr style=\"text-align: right;\">\n",
       "      <th></th>\n",
       "      <th>grade</th>\n",
       "      <th>home_ownership</th>\n",
       "      <th>emp_length_num</th>\n",
       "      <th>sub_grade</th>\n",
       "      <th>short_emp</th>\n",
       "      <th>dti</th>\n",
       "      <th>term</th>\n",
       "      <th>purpose</th>\n",
       "      <th>int_rate</th>\n",
       "      <th>last_delinq_none</th>\n",
       "      <th>last_major_derog_none</th>\n",
       "      <th>revol_util</th>\n",
       "      <th>total_rec_late_fee</th>\n",
       "      <th>payment_inc_ratio</th>\n",
       "      <th>bad_loans</th>\n",
       "    </tr>\n",
       "  </thead>\n",
       "  <tbody>\n",
       "    <tr>\n",
       "      <th>0</th>\n",
       "      <td>B</td>\n",
       "      <td>RENT</td>\n",
       "      <td>11</td>\n",
       "      <td>B2</td>\n",
       "      <td>0</td>\n",
       "      <td>27.65</td>\n",
       "      <td>36 months</td>\n",
       "      <td>credit_card</td>\n",
       "      <td>10.65</td>\n",
       "      <td>1</td>\n",
       "      <td>1</td>\n",
       "      <td>83.7</td>\n",
       "      <td>0.0</td>\n",
       "      <td>8.14350</td>\n",
       "      <td>0</td>\n",
       "    </tr>\n",
       "    <tr>\n",
       "      <th>1</th>\n",
       "      <td>C</td>\n",
       "      <td>RENT</td>\n",
       "      <td>1</td>\n",
       "      <td>C4</td>\n",
       "      <td>1</td>\n",
       "      <td>1.00</td>\n",
       "      <td>60 months</td>\n",
       "      <td>car</td>\n",
       "      <td>15.27</td>\n",
       "      <td>1</td>\n",
       "      <td>1</td>\n",
       "      <td>9.4</td>\n",
       "      <td>0.0</td>\n",
       "      <td>2.39320</td>\n",
       "      <td>1</td>\n",
       "    </tr>\n",
       "    <tr>\n",
       "      <th>2</th>\n",
       "      <td>C</td>\n",
       "      <td>RENT</td>\n",
       "      <td>11</td>\n",
       "      <td>C5</td>\n",
       "      <td>0</td>\n",
       "      <td>8.72</td>\n",
       "      <td>36 months</td>\n",
       "      <td>small_business</td>\n",
       "      <td>15.96</td>\n",
       "      <td>1</td>\n",
       "      <td>1</td>\n",
       "      <td>98.5</td>\n",
       "      <td>0.0</td>\n",
       "      <td>8.25955</td>\n",
       "      <td>0</td>\n",
       "    </tr>\n",
       "  </tbody>\n",
       "</table>\n",
       "</div>"
      ],
      "text/plain": [
       "  grade home_ownership  emp_length_num sub_grade  short_emp    dti  \\\n",
       "0     B           RENT              11        B2          0  27.65   \n",
       "1     C           RENT               1        C4          1   1.00   \n",
       "2     C           RENT              11        C5          0   8.72   \n",
       "\n",
       "         term         purpose  int_rate  last_delinq_none  \\\n",
       "0   36 months     credit_card     10.65                 1   \n",
       "1   60 months             car     15.27                 1   \n",
       "2   36 months  small_business     15.96                 1   \n",
       "\n",
       "   last_major_derog_none  revol_util  total_rec_late_fee  payment_inc_ratio  \\\n",
       "0                      1        83.7                 0.0            8.14350   \n",
       "1                      1         9.4                 0.0            2.39320   \n",
       "2                      1        98.5                 0.0            8.25955   \n",
       "\n",
       "   bad_loans  \n",
       "0          0  \n",
       "1          1  \n",
       "2          0  "
      ]
     },
     "execution_count": 14,
     "metadata": {},
     "output_type": "execute_result"
    }
   ],
   "source": [
    "loans.head(3)"
   ]
  },
  {
   "cell_type": "markdown",
   "metadata": {},
   "source": [
    "#### Train test split\n"
   ]
  },
  {
   "cell_type": "code",
   "execution_count": 15,
   "metadata": {
    "colab": {},
    "colab_type": "code",
    "id": "qLH7JTwoK8PZ"
   },
   "outputs": [],
   "source": [
    "X_train, X_test, y_train, y_test\\\n",
    "                            = train_test_split(loans_dummy.drop(['bad_loans'], axis=1),\\\n",
    "                                    loans_dummy['bad_loans'],\\\n",
    "                                    stratify = loans_dummy['bad_loans'],\\\n",
    "                                    random_state=0)"
   ]
  },
  {
   "cell_type": "code",
   "execution_count": 16,
   "metadata": {},
   "outputs": [
    {
     "name": "stdout",
     "output_type": "stream",
     "text": [
      "Entrenamiento: (91952, 64)\n",
      "Testeo: (30651, 64)\n",
      "\n",
      "Clases train:\n",
      "0    0.811184\n",
      "1    0.188816\n",
      "Name: bad_loans, dtype: float64\n",
      "\n",
      "Clases test:\n",
      "0    0.811164\n",
      "1    0.188836\n",
      "Name: bad_loans, dtype: float64\n"
     ]
    }
   ],
   "source": [
    "# chequeamos la presencia relativa de cada clase y el tamaño de los datasets\n",
    "print('Entrenamiento:',X_train.shape)\n",
    "print('Testeo:',X_test.shape)\n",
    "print('\\nClases train:')\n",
    "print(y_train.value_counts(normalize=True))\n",
    "print('\\nClases test:')\n",
    "print(y_test.value_counts(normalize=True))"
   ]
  },
  {
   "cell_type": "markdown",
   "metadata": {},
   "source": [
    "### Regresión logística\n",
    "\n",
    "La siguiente función implementa una regresión logística optimizando el hiperparámetro de regularización por cross validation.\n",
    "\n",
    "Luego imprime las métricas principales de evaluación en problemas de clasificación."
   ]
  },
  {
   "cell_type": "code",
   "execution_count": 17,
   "metadata": {},
   "outputs": [],
   "source": [
    "def logistic_regression_report(X_train,X_test,y_train,y_test):\n",
    "    \n",
    "    scaler=StandardScaler()  \n",
    "    \n",
    "    X_train_sc=scaler.fit_transform(X_train) # Estandarizamos los datos     \n",
    "    X_test_sc=scaler.transform(X_test)\n",
    "        \n",
    "    model=LogisticRegressionCV(scoring='f1')\n",
    "    \n",
    "    model.fit(X_train_sc,y_train)\n",
    "    y_pred=model.predict(X_test_sc)\n",
    "    y_proba=model.predict_proba(X_test_sc)\n",
    "    \n",
    "    print(classification_report(y_test,y_pred))\n",
    "    \n",
    "    print('Area bajo la curva ROC:',np.round(roc_auc_score(y_test,y_proba[:,1]),4))\n",
    "    \n",
    "    precision, recall,threshold=precision_recall_curve(y_test,y_proba[:,1]);\n",
    "\n",
    "    print('Area bajo la curva Precision-Recall:',np.round(auc(recall,precision),4))\n",
    "\n",
    "    plot_confusion_matrix(model,X_test_sc,y_test,cmap='Blues');\n",
    "\n",
    "    return\n",
    "    "
   ]
  },
  {
   "cell_type": "code",
   "execution_count": 18,
   "metadata": {},
   "outputs": [
    {
     "name": "stdout",
     "output_type": "stream",
     "text": [
      "              precision    recall  f1-score   support\n",
      "\n",
      "           0       0.81      0.99      0.89     24863\n",
      "           1       0.47      0.02      0.05      5788\n",
      "\n",
      "    accuracy                           0.81     30651\n",
      "   macro avg       0.64      0.51      0.47     30651\n",
      "weighted avg       0.75      0.81      0.73     30651\n",
      "\n",
      "Area bajo la curva ROC: 0.689\n",
      "Area bajo la curva Precision-Recall: 0.3252\n"
     ]
    },
    {
     "data": {
      "image/png": "[encoded data removed]",
      "text/plain": [
       "<Figure size 432x288 with 2 Axes>"
      ]
     },
     "metadata": {
      "needs_background": "light"
     },
     "output_type": "display_data"
    }
   ],
   "source": [
    "logistic_regression_report(X_train,X_test,y_train,y_test)"
   ]
  },
  {
   "cell_type": "markdown",
   "metadata": {},
   "source": [
    "Vemos que el modelo tiene una accuracy de 0.81. Los valores de precision y recall nos muestran que el modelo es bueno prediciendo la clase mayoritaria pero es muy malo para la clase minoritaria. "
   ]
  },
  {
   "cell_type": "markdown",
   "metadata": {
    "colab_type": "text",
    "id": "X4jIoxaqK8P0"
   },
   "source": [
    "\n",
    "\n",
    "Vamos a implementar tres posibles soluciones al problema del desbalance de clases:<b> Undersampling, Oversampling, Class weighting</b>\n",
    "\n",
    "Para resamplear los datos utilizaremos la librería <b>imblearn</b>\n",
    "\n"
   ]
  },
  {
   "cell_type": "markdown",
   "metadata": {},
   "source": [
    "<a id=\"section_undersampling\"></a>\n",
    "\n",
    "## Undersampling\n",
    "\n",
    "[Volver a TOC](#section_toc)\n",
    "\n",
    "\n",
    "Una estrategia posible es entrenar un modelo en un subset de datos con clases balanceadas, descartando casos de la clase mayoritaria. Para esto utilizaremos la clase RandomUnderSampler que samplea observaciones de la clase mayoritaria al azar, con o sin reposición.\n",
    "\n",
    "El hiporparámetro **sampling_strategy** sirve para definir la estrategia de sampleo. La opción 'majority' seleccionará un número de muestras igual al de la clase minoritaria. También se puede pasar un valor numérico entre cero y uno que represnte el ratio entre la clase mayoritaria y la minoritaria.\n",
    "\n",
    "[Documentación](https://imbalanced-learn.readthedocs.io/en/stable/generated/imblearn.under_sampling.RandomUnderSampler.html)"
   ]
  },
  {
   "cell_type": "code",
   "execution_count": 19,
   "metadata": {},
   "outputs": [
    {
     "name": "stdout",
     "output_type": "stream",
     "text": [
      "Composición del training set:\n",
      "1    17362\n",
      "0    17362\n",
      "Name: bad_loans, dtype: int64\n",
      "\n",
      "Composición del test set:\n",
      "0    24863\n",
      "1     5788\n",
      "Name: bad_loans, dtype: int64\n"
     ]
    }
   ],
   "source": [
    "from imblearn.under_sampling import RandomUnderSampler\n",
    "\n",
    "undersampler=RandomUnderSampler(sampling_strategy='majority');\n",
    "\n",
    "X_train_us,y_train_us=undersampler.fit_resample(X_train,y_train);\n",
    "\n",
    "print('Composición del training set:')\n",
    "print(y_train_us.value_counts())\n",
    "\n",
    "print('\\nComposición del test set:')\n",
    "print(y_test.value_counts())\n"
   ]
  },
  {
   "cell_type": "code",
   "execution_count": 20,
   "metadata": {},
   "outputs": [
    {
     "name": "stdout",
     "output_type": "stream",
     "text": [
      "              precision    recall  f1-score   support\n",
      "\n",
      "           0       0.88      0.63      0.74     24863\n",
      "           1       0.29      0.64      0.40      5788\n",
      "\n",
      "    accuracy                           0.63     30651\n",
      "   macro avg       0.59      0.64      0.57     30651\n",
      "weighted avg       0.77      0.63      0.67     30651\n",
      "\n",
      "Area bajo la curva ROC: 0.6882\n",
      "Area bajo la curva Precision-Recall: 0.324\n"
     ]
    },
    {
     "data": {
      "image/png": "[encoded data removed]",
      "text/plain": [
       "<Figure size 432x288 with 2 Axes>"
      ]
     },
     "metadata": {
      "needs_background": "light"
     },
     "output_type": "display_data"
    }
   ],
   "source": [
    "logistic_regression_report(X_train_us, X_test, y_train_us, y_test)\n"
   ]
  },
  {
   "cell_type": "markdown",
   "metadata": {},
   "source": [
    "Vemos que el modelo hace un mejor trabajo en reconocer a la clase minoritaria. \n",
    "\n",
    "Cabe recordar que hemos descartado un gran número de observaciones (todas de la clase 0). Veamos cómo generaliza el modelo si las incluimos en el test set."
   ]
  },
  {
   "cell_type": "code",
   "execution_count": 21,
   "metadata": {},
   "outputs": [
    {
     "name": "stdout",
     "output_type": "stream",
     "text": [
      "Composición del training set:\n",
      "1    17362\n",
      "0    17362\n",
      "Name: bad_loans, dtype: int64\n",
      "\n",
      "Composición del test set:\n",
      "0    96423\n",
      "1    22107\n",
      "Name: bad_loans, dtype: int64\n"
     ]
    }
   ],
   "source": [
    "# Agrego los datos dropeados al test set\n",
    "dropped_indices=set(loans.index)-set(undersampler.sample_indices_);\n",
    "\n",
    "dropped_features=loans_dummy.drop(['bad_loans'],axis=1)[loans.index.isin(dropped_indices)];\n",
    "dropped_targets=loans['bad_loans'][loans.index.isin(dropped_indices)];\n",
    "\n",
    "X_test_ext=X_test.append(dropped_features)\n",
    "y_test_ext=y_test.append(dropped_targets)\n",
    "\n",
    "print('Composición del training set:')\n",
    "print(y_train_us.value_counts())\n",
    "\n",
    "print('\\nComposición del test set:')\n",
    "print(y_test_ext.value_counts())\n"
   ]
  },
  {
   "cell_type": "code",
   "execution_count": 22,
   "metadata": {},
   "outputs": [
    {
     "name": "stdout",
     "output_type": "stream",
     "text": [
      "              precision    recall  f1-score   support\n",
      "\n",
      "           0       0.89      0.63      0.73     96423\n",
      "           1       0.28      0.64      0.39     22107\n",
      "\n",
      "    accuracy                           0.63    118530\n",
      "   macro avg       0.58      0.64      0.56    118530\n",
      "weighted avg       0.77      0.63      0.67    118530\n",
      "\n",
      "Area bajo la curva ROC: 0.6865\n",
      "Area bajo la curva Precision-Recall: 0.3226\n"
     ]
    },
    {
     "data": {
      "image/png": "[encoded data removed]",
      "text/plain": [
       "<Figure size 432x288 with 2 Axes>"
      ]
     },
     "metadata": {
      "needs_background": "light"
     },
     "output_type": "display_data"
    }
   ],
   "source": [
    "logistic_regression_report(X_train_us,X_test_ext,y_train_us,y_test_ext)"
   ]
  },
  {
   "cell_type": "markdown",
   "metadata": {
    "colab_type": "text",
    "id": "DuW5s9npK8P1"
   },
   "source": [
    "<a id=\"section_oversampling\"></a>\n",
    "\n",
    "## Oversampling\n",
    "\n",
    "[Volver a TOC](#section_toc)\n",
    "\n"
   ]
  },
  {
   "cell_type": "markdown",
   "metadata": {
    "colab_type": "text",
    "id": "ckQn2V47K8P3"
   },
   "source": [
    "Para aumentar la representación de la clase minoritaria vamos a hacer un oversampling. Una estrategia posible es usar la herramienta RandomOversampler, que funciona de manera análoga a RandomUndersampler. En este caso, el método consiste en samplear observaciones de la clase minoritaria con reposición.\n",
    "\n",
    "El hiperparámetro **sampling_strategy** puede tomar los valores:\n",
    "\n",
    "* 'minority': samplea hasta balancear las clases\n",
    "* número entre 0 y 1: ratio entre las clases mayoritaria y minoritaria\n",
    "\n",
    "[Documentación](https://imbalanced-learn.readthedocs.io/en/stable/generated/imblearn.over_sampling.RandomOverSampler.html)\n"
   ]
  },
  {
   "cell_type": "code",
   "execution_count": 34,
   "metadata": {},
   "outputs": [
    {
     "name": "stdout",
     "output_type": "stream",
     "text": [
      "Composición del training set:\n",
      "1    74590\n",
      "0    74590\n",
      "Name: bad_loans, dtype: int64\n",
      "\n",
      "Composición del test set:\n",
      "0    24863\n",
      "1     5788\n",
      "Name: bad_loans, dtype: int64\n"
     ]
    }
   ],
   "source": [
    "from imblearn.over_sampling import RandomOverSampler\n",
    "\n",
    "oversampler=RandomOverSampler(sampling_strategy='minority');\n",
    "\n",
    "X_train_os,y_train_os=oversampler.fit_resample(X_train,y_train);\n",
    "\n",
    "print('Composición del training set:')\n",
    "print(y_train_os.value_counts())\n",
    "\n",
    "print('\\nComposición del test set:')\n",
    "print(y_test.value_counts())"
   ]
  },
  {
   "cell_type": "code",
   "execution_count": 24,
   "metadata": {},
   "outputs": [
    {
     "name": "stdout",
     "output_type": "stream",
     "text": [
      "              precision    recall  f1-score   support\n",
      "\n",
      "           0       0.88      0.63      0.74     24863\n",
      "           1       0.29      0.65      0.40      5788\n",
      "\n",
      "    accuracy                           0.64     30651\n",
      "   macro avg       0.59      0.64      0.57     30651\n",
      "weighted avg       0.77      0.64      0.67     30651\n",
      "\n",
      "Area bajo la curva ROC: 0.6888\n",
      "Area bajo la curva Precision-Recall: 0.3248\n"
     ]
    },
    {
     "data": {
      "image/png": "[encoded data removed]",
      "text/plain": [
       "<Figure size 432x288 with 2 Axes>"
      ]
     },
     "metadata": {
      "needs_background": "light"
     },
     "output_type": "display_data"
    }
   ],
   "source": [
    "logistic_regression_report(X_train_os,X_test,y_train_os,y_test)"
   ]
  },
  {
   "cell_type": "markdown",
   "metadata": {
    "colab_type": "text",
    "id": "ckQn2V47K8P3"
   },
   "source": [
    "### Over sampling con SMOTE\n",
    "\n",
    "El algoritmo SMOTE (Synthetic Minority Oversample) ofrece otra estrategia de oversampling, generando muestras simuladas de la clase minoritaria.\n",
    "\n",
    "Cuando las features son numéricas, el algoritmo funciona de este modo:\n",
    "\n",
    "1. Se elige un punto al azar de la clase minoritaria.\n",
    "2. Se elige al azar uno de los K vecinos más cercanos al punto elegido en 1.\n",
    "3. Se calcula el vector que une los puntos elegidos en 1 y 2 y se lo multiplica por un número aleatorio entre 0 y 1.\n",
    "4. El punto aleatorio definido en el paso 3 constituye una nueva observación de la clase minoritaria.\n",
    "\n",
    "De este modo, el algoritmo genera datos ficticios vecinos a las observaciones de la clase minoritaria.\n",
    "\n",
    "Cuando las features son tanto numéricas como categóricas conviene usar la versión del algoritmo [SMOTENC](https://imbalanced-learn.readthedocs.io/en/stable/generated/imblearn.over_sampling.SMOTENC.html). Esta versión\n",
    "asigna la categoría más frecuente entre los k-vecinos a la nueva instancia generada.\n",
    "\n",
    "Hay una sutileza al respecto de usar SMOTE con variables dummy. Supongamos que convertimos las variables categóricas a dummy y luego implementamos SMOTENC tomando cada dummy como categórica, con categorías 0 y 1. El algoritmo sampleará los k vecinos más cercanos a una observación de la clase minoritaria y pontrá en cada columna dummy el valor más frecuente entre esos vecinos. Ahora bien, si la mayoría de los k vecinos (más del 50%) no es de la misma categoría, entonces el valor más frecuente en todas las dummy será el cero. De este modo estaríamos asignando erróneamente la categoría al nuevo dato generado.\n",
    "\n",
    "Por este motivo conviene usar SMOTENC con las variables originales categóricas y luego pasar a dummy para entrenar los modelos."
   ]
  },
  {
   "cell_type": "code",
   "execution_count": 25,
   "metadata": {},
   "outputs": [],
   "source": [
    "# Volvemos a hacer el train test split (con la misma semilla que al principio) conservando las variables categóricas\n",
    "\n",
    "X_train_cat, X_test_cat, y_train, y_test\\\n",
    "                            = train_test_split(loans.drop(['bad_loans'], axis=1),\\\n",
    "                                    loans['bad_loans'],\\\n",
    "                                    stratify = loans['bad_loans'],\\\n",
    "                                    random_state=0)"
   ]
  },
  {
   "cell_type": "code",
   "execution_count": 26,
   "metadata": {},
   "outputs": [],
   "source": [
    "from imblearn.over_sampling import SMOTENC\n",
    "\n",
    "categorical_cols=(X_train_cat.dtypes=='object').values\n",
    "numerical_cols= ~categorical_cols\n",
    "\n",
    "sm=SMOTENC(categorical_features=categorical_cols,k_neighbors=5,random_state=0)\n",
    "X_train_sm,y_train_sm=sm.fit_resample(X_train_cat,y_train)"
   ]
  },
  {
   "cell_type": "code",
   "execution_count": 27,
   "metadata": {},
   "outputs": [
    {
     "name": "stdout",
     "output_type": "stream",
     "text": [
      "Balance de clases:\n",
      "1    74590\n",
      "0    74590\n",
      "Name: bad_loans, dtype: int64\n"
     ]
    }
   ],
   "source": [
    "print('Balance de clases:')\n",
    "print(y_train_sm.value_counts(normalize=False))"
   ]
  },
  {
   "cell_type": "code",
   "execution_count": 28,
   "metadata": {},
   "outputs": [
    {
     "name": "stdout",
     "output_type": "stream",
     "text": [
      "(149180, 64)\n",
      "(30651, 64)\n"
     ]
    }
   ],
   "source": [
    "enc=OneHotEncoder(drop='first',sparse=False)\n",
    "train_dummies=enc.fit_transform(X_train_sm.loc[:,categorical_cols])\n",
    "train_dummies=pd.DataFrame(train_dummies)\n",
    "train_dummies.columns=[x for cat_list in enc.categories_ for x in cat_list[1:]]\n",
    "\n",
    "X_train_final=X_train_sm.loc[:,numerical_cols].join(train_dummies)\n",
    "\n",
    "test_dummies=enc.transform(X_test_cat.loc[:,categorical_cols])\n",
    "test_dummies=pd.DataFrame(test_dummies)\n",
    "test_dummies.columns=[x for cat_list in enc.categories_ for x in cat_list[1:]]\n",
    "test_dummies.index=X_test.index\n",
    "\n",
    "X_test_final=X_test_cat.loc[:,numerical_cols].join(test_dummies)\n",
    "\n",
    "print(X_train_final.shape)\n",
    "print(X_test_final.shape)"
   ]
  },
  {
   "cell_type": "code",
   "execution_count": 29,
   "metadata": {},
   "outputs": [
    {
     "name": "stdout",
     "output_type": "stream",
     "text": [
      "              precision    recall  f1-score   support\n",
      "\n",
      "           0       0.85      0.64      0.73     24863\n",
      "           1       0.25      0.53      0.35      5788\n",
      "\n",
      "    accuracy                           0.62     30651\n",
      "   macro avg       0.55      0.59      0.54     30651\n",
      "weighted avg       0.74      0.62      0.66     30651\n",
      "\n",
      "Area bajo la curva ROC: 0.627\n",
      "Area bajo la curva Precision-Recall: 0.2717\n"
     ]
    },
    {
     "data": {
      "image/png": "[encoded data removed]",
      "text/plain": [
       "<Figure size 432x288 with 2 Axes>"
      ]
     },
     "metadata": {
      "needs_background": "light"
     },
     "output_type": "display_data"
    }
   ],
   "source": [
    "logistic_regression_report(X_train_final,X_test_final,y_train_sm,y_test)"
   ]
  },
  {
   "cell_type": "markdown",
   "metadata": {
    "colab_type": "text",
    "id": "GBiqvT9QK8QQ"
   },
   "source": [
    "<a id=\"section_class_weighting\"></a>\n",
    "\n",
    "## Class weighting\n",
    "\n",
    "[Volver a TOC](#section_toc)\n",
    "\n",
    "Otra técnica que podemos utilizar para corregir el desbalance de los datos es incorporar en la función de costos del algoritmo un mayor peso para los errores de entrenamiento cometidos sobre los puntos de la clase minoritaria. \n",
    "\n",
    "La regresuón logística admite el argumento \"class_weight\" para ponderar la contribución a la función de costo de cada clase. Si usamos class_weight = 'balanced' los pesos asignados son la inversa de la frecuencia con que se observa cada clase.\n"
   ]
  },
  {
   "cell_type": "code",
   "execution_count": 30,
   "metadata": {
    "colab": {},
    "colab_type": "code",
    "id": "j8ZXAmXcK8QR"
   },
   "outputs": [],
   "source": [
    "model = LogisticRegressionCV(class_weight = 'balanced')\n",
    "\n",
    "scaler=StandardScaler()\n",
    "\n",
    "X_train_sc=scaler.fit_transform(X_train);\n",
    "X_test_sc=scaler.transform(X_test);\n",
    "\n",
    "model.fit(X_train_sc,y_train)\n",
    "y_pred = model.predict(X_test_sc)\n",
    "pred_probas = model.predict_proba(X_test_sc);"
   ]
  },
  {
   "cell_type": "code",
   "execution_count": 31,
   "metadata": {
    "colab": {},
    "colab_type": "code",
    "id": "j8ZXAmXcK8QR"
   },
   "outputs": [
    {
     "name": "stdout",
     "output_type": "stream",
     "text": [
      "              precision    recall  f1-score   support\n",
      "\n",
      "           0       0.88      0.64      0.74     24863\n",
      "           1       0.29      0.64      0.40      5788\n",
      "\n",
      "    accuracy                           0.64     30651\n",
      "   macro avg       0.59      0.64      0.57     30651\n",
      "weighted avg       0.77      0.64      0.68     30651\n",
      "\n",
      "Area bajo la curva ROC: 0.6866497653860503\n",
      "Area bajo la curva Precision-Recall: 0.32409089241254496\n"
     ]
    },
    {
     "data": {
      "image/png": "[encoded data removed]",
      "text/plain": [
       "<Figure size 432x288 with 2 Axes>"
      ]
     },
     "metadata": {
      "needs_background": "light"
     },
     "output_type": "display_data"
    }
   ],
   "source": [
    "print(classification_report(y_test,y_pred))\n",
    "plot_confusion_matrix(model,X_test_sc,y_test,cmap='Blues');\n",
    "\n",
    "print('Area bajo la curva ROC:',roc_auc_score(y_test,pred_probas[:,1]))\n",
    "\n",
    "precision, recall,threshold=precision_recall_curve(y_test,pred_probas[:,1]);\n",
    "\n",
    "print('Area bajo la curva Precision-Recall:',auc(recall,precision))"
   ]
  },
  {
   "cell_type": "markdown",
   "metadata": {},
   "source": [
    "Para profundizar:\n",
    "\n",
    "https://machinelearningmastery.com/random-oversampling-and-undersampling-for-imbalanced-classification/"
   ]
  }
 ],
 "metadata": {
  "colab": {
   "collapsed_sections": [],
   "name": "2.Practica_Guiada_Datasets_Desbalanceados.ipynb",
   "provenance": [],
   "version": "0.3.2"
  },
  "kernelspec": {
   "display_name": "Python 3",
   "language": "python",
   "name": "python3"
  },
  "language_info": {
   "codemirror_mode": {
    "name": "ipython",
    "version": 3
   },
   "file_extension": ".py",
   "mimetype": "text/x-python",
   "name": "python",
   "nbconvert_exporter": "python",
   "pygments_lexer": "ipython3",
   "version": "3.8.11"
  }
 },
 "nbformat": 4,
 "nbformat_minor": 4
}
