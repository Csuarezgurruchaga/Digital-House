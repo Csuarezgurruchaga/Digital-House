{
 "cells": [
  {
   "cell_type": "markdown",
   "id": "b957f0c6-010a-448f-989f-90b8cc2d3cbf",
   "metadata": {},
   "source": [
    "# Objetivo del proceso a realizar\t\t\t\t\n",
    "## Objetivos del desafío 1\t\t\t\n",
    "- Efectuar una limpieza del dataset provisto. Particularmente, deberá diseñar estrategias para lidiar con los datos perdidos en ciertas variables.\t\t\n",
    "- Realizar un análisis descriptivo de las principales variables.\t\t\n",
    "- Crear nuevas columnas a partir de las características dadas que puedan tener valor predictivo.\t\t"
   ]
  },
  {
   "cell_type": "markdown",
   "id": "e4988249-015e-42dd-b14e-ec5316b20dd2",
   "metadata": {},
   "source": [
    "### 1) Imports"
   ]
  },
  {
   "cell_type": "code",
   "execution_count": 1,
   "id": "655eadec-6c1b-4bf1-b393-eb92bd17bf74",
   "metadata": {},
   "outputs": [],
   "source": [
    "import pandas as pd\n",
    "import numpy as np\n",
    "import matplotlib.pyplot as plt\n",
    "import seaborn as sns\n",
    "import re\n",
    "%matplotlib inline"
   ]
  },
  {
   "cell_type": "code",
   "execution_count": 2,
   "id": "889e37b7-3ec5-476e-94c7-05e97e5d618c",
   "metadata": {},
   "outputs": [],
   "source": [
    "data = pd.read_csv('properatti.csv', sep = \",\")"
   ]
  },
  {
   "cell_type": "code",
   "execution_count": 3,
   "id": "97f36737-5933-44b9-a1ba-59115328677b",
   "metadata": {},
   "outputs": [],
   "source": [
    "df = data.copy()"
   ]
  },
  {
   "cell_type": "markdown",
   "id": "3812cd33-9a30-4a2e-a19b-e77b4d3b4c03",
   "metadata": {},
   "source": [
    "### 2) Analisis General del Data Set"
   ]
  },
  {
   "cell_type": "code",
   "execution_count": 4,
   "id": "f13c154e-135a-4b55-a55f-7cee9759d611",
   "metadata": {},
   "outputs": [
    {
     "name": "stdout",
     "output_type": "stream",
     "text": [
      "<class 'pandas.core.frame.DataFrame'>\n",
      "RangeIndex: 121220 entries, 0 to 121219\n",
      "Data columns (total 26 columns):\n",
      " #   Column                      Non-Null Count   Dtype  \n",
      "---  ------                      --------------   -----  \n",
      " 0   Unnamed: 0                  121220 non-null  int64  \n",
      " 1   operation                   121220 non-null  object \n",
      " 2   property_type               121220 non-null  object \n",
      " 3   place_name                  121197 non-null  object \n",
      " 4   place_with_parent_names     121220 non-null  object \n",
      " 5   country_name                121220 non-null  object \n",
      " 6   state_name                  121220 non-null  object \n",
      " 7   geonames_id                 102503 non-null  float64\n",
      " 8   lat-lon                     69670 non-null   object \n",
      " 9   lat                         69670 non-null   float64\n",
      " 10  lon                         69670 non-null   float64\n",
      " 11  price                       100810 non-null  float64\n",
      " 12  currency                    100809 non-null  object \n",
      " 13  price_aprox_local_currency  100810 non-null  float64\n",
      " 14  price_aprox_usd             100810 non-null  float64\n",
      " 15  surface_total_in_m2         81892 non-null   float64\n",
      " 16  surface_covered_in_m2       101313 non-null  float64\n",
      " 17  price_usd_per_m2            68617 non-null   float64\n",
      " 18  price_per_m2                87658 non-null   float64\n",
      " 19  floor                       7899 non-null    float64\n",
      " 20  rooms                       47390 non-null   float64\n",
      " 21  expenses                    14262 non-null   float64\n",
      " 22  properati_url               121220 non-null  object \n",
      " 23  description                 121218 non-null  object \n",
      " 24  title                       121220 non-null  object \n",
      " 25  image_thumbnail             118108 non-null  object \n",
      "dtypes: float64(13), int64(1), object(12)\n",
      "memory usage: 24.0+ MB\n"
     ]
    }
   ],
   "source": [
    "df.info()"
   ]
  },
  {
   "cell_type": "markdown",
   "id": "c8361f11-c6cc-42b1-8865-78712569837a",
   "metadata": {},
   "source": [
    "Revisamos el porcentaje de nulos"
   ]
  },
  {
   "cell_type": "code",
   "execution_count": 5,
   "id": "ac982336-4539-4579-9875-ed89a207763d",
   "metadata": {},
   "outputs": [
    {
     "data": {
      "text/plain": [
       "Unnamed: 0                     0.000000\n",
       "operation                      0.000000\n",
       "property_type                  0.000000\n",
       "place_name                     0.018974\n",
       "place_with_parent_names        0.000000\n",
       "country_name                   0.000000\n",
       "state_name                     0.000000\n",
       "geonames_id                   15.440521\n",
       "lat-lon                       42.525986\n",
       "lat                           42.525986\n",
       "lon                           42.525986\n",
       "price                         16.837156\n",
       "currency                      16.837981\n",
       "price_aprox_local_currency    16.837156\n",
       "price_aprox_usd               16.837156\n",
       "surface_total_in_m2           32.443491\n",
       "surface_covered_in_m2         16.422208\n",
       "price_usd_per_m2              43.394654\n",
       "price_per_m2                  27.686850\n",
       "floor                         93.483749\n",
       "rooms                         60.905791\n",
       "expenses                      88.234615\n",
       "properati_url                  0.000000\n",
       "description                    0.001650\n",
       "title                          0.000000\n",
       "image_thumbnail                2.567233\n",
       "dtype: float64"
      ]
     },
     "execution_count": 5,
     "metadata": {},
     "output_type": "execute_result"
    }
   ],
   "source": [
    "df.isnull().sum()/df.shape[0]*100"
   ]
  },
  {
   "cell_type": "markdown",
   "id": "477ceb4f-aba2-4b60-8789-7b214df148b6",
   "metadata": {},
   "source": [
    "### 3) Analisis de duplicados"
   ]
  },
  {
   "cell_type": "markdown",
   "id": "28f4c5b6-1740-4949-96d9-96a7faf8d042",
   "metadata": {},
   "source": [
    "Vamos a ver si tenemos inmuebles duplicados en nuetro dataset.\n",
    "\n",
    "Definimos que tenemos un duplicado segun la columna 'properati_url', ya que 2 publicaciones distintas, no pueden remitir a la misma URL de properati."
   ]
  },
  {
   "cell_type": "code",
   "execution_count": 6,
   "id": "1dd244fe-294d-4128-9fbd-ea1591c54364",
   "metadata": {},
   "outputs": [
    {
     "data": {
      "text/plain": [
       "False"
      ]
     },
     "execution_count": 6,
     "metadata": {},
     "output_type": "execute_result"
    }
   ],
   "source": [
    "df.duplicated('properati_url').any()"
   ]
  },
  {
   "cell_type": "markdown",
   "id": "5a66c148-a2cc-4800-917f-7f6a88eeda7b",
   "metadata": {},
   "source": [
    "No hay filas duplicadas"
   ]
  },
  {
   "cell_type": "code",
   "execution_count": null,
   "id": "4f24323f-e2ec-4746-8e72-3d6fd5b7a4a7",
   "metadata": {},
   "outputs": [],
   "source": []
  },
  {
   "cell_type": "markdown",
   "id": "83c38321-5538-403b-b1ec-d99e8ae5ed4c",
   "metadata": {},
   "source": [
    "Verificamos que todas las propiedades provistas estan para la venta, y ninguna en renta, con lo cual la columna 'operation' no nos aporta mucha informacion."
   ]
  },
  {
   "cell_type": "code",
   "execution_count": 7,
   "id": "80038819-2ecd-45f1-b1ab-cbdd910e910a",
   "metadata": {},
   "outputs": [
    {
     "data": {
      "text/plain": [
       "sell    121220\n",
       "Name: operation, dtype: int64"
      ]
     },
     "execution_count": 7,
     "metadata": {},
     "output_type": "execute_result"
    }
   ],
   "source": [
    "df.operation.value_counts()"
   ]
  },
  {
   "cell_type": "markdown",
   "id": "da02f881-4ebe-4a69-84f1-529edebe8208",
   "metadata": {},
   "source": [
    "Vamos a revisar los valores estadisticos de las variables numericas de nuestro Data set"
   ]
  },
  {
   "cell_type": "code",
   "execution_count": 8,
   "id": "93e90c1d-6d3b-44a3-93e4-26c5f687206b",
   "metadata": {},
   "outputs": [
    {
     "data": {
      "text/html": [
       "<div>\n",
       "<style scoped>\n",
       "    .dataframe tbody tr th:only-of-type {\n",
       "        vertical-align: middle;\n",
       "    }\n",
       "\n",
       "    .dataframe tbody tr th {\n",
       "        vertical-align: top;\n",
       "    }\n",
       "\n",
       "    .dataframe thead th {\n",
       "        text-align: right;\n",
       "    }\n",
       "</style>\n",
       "<table border=\"1\" class=\"dataframe\">\n",
       "  <thead>\n",
       "    <tr style=\"text-align: right;\">\n",
       "      <th></th>\n",
       "      <th>price</th>\n",
       "      <th>price_aprox_local_currency</th>\n",
       "      <th>price_aprox_usd</th>\n",
       "      <th>surface_total_in_m2</th>\n",
       "      <th>surface_covered_in_m2</th>\n",
       "      <th>price_usd_per_m2</th>\n",
       "      <th>price_per_m2</th>\n",
       "    </tr>\n",
       "  </thead>\n",
       "  <tbody>\n",
       "    <tr>\n",
       "      <th>count</th>\n",
       "      <td>1.008100e+05</td>\n",
       "      <td>1.008100e+05</td>\n",
       "      <td>1.008100e+05</td>\n",
       "      <td>81892.000000</td>\n",
       "      <td>101313.000000</td>\n",
       "      <td>68617.000000</td>\n",
       "      <td>8.765800e+04</td>\n",
       "    </tr>\n",
       "    <tr>\n",
       "      <th>mean</th>\n",
       "      <td>4.685259e+05</td>\n",
       "      <td>4.229397e+06</td>\n",
       "      <td>2.397006e+05</td>\n",
       "      <td>233.795328</td>\n",
       "      <td>133.050181</td>\n",
       "      <td>2160.086916</td>\n",
       "      <td>6.912216e+03</td>\n",
       "    </tr>\n",
       "    <tr>\n",
       "      <th>std</th>\n",
       "      <td>2.260101e+06</td>\n",
       "      <td>6.904714e+06</td>\n",
       "      <td>3.913239e+05</td>\n",
       "      <td>1782.222147</td>\n",
       "      <td>724.351479</td>\n",
       "      <td>2759.288621</td>\n",
       "      <td>2.837864e+04</td>\n",
       "    </tr>\n",
       "    <tr>\n",
       "      <th>min</th>\n",
       "      <td>0.000000e+00</td>\n",
       "      <td>0.000000e+00</td>\n",
       "      <td>0.000000e+00</td>\n",
       "      <td>0.000000</td>\n",
       "      <td>0.000000</td>\n",
       "      <td>0.600000</td>\n",
       "      <td>1.510204e+00</td>\n",
       "    </tr>\n",
       "    <tr>\n",
       "      <th>25%</th>\n",
       "      <td>1.100000e+05</td>\n",
       "      <td>1.583309e+06</td>\n",
       "      <td>8.973388e+04</td>\n",
       "      <td>50.000000</td>\n",
       "      <td>45.000000</td>\n",
       "      <td>1218.181818</td>\n",
       "      <td>1.550000e+03</td>\n",
       "    </tr>\n",
       "    <tr>\n",
       "      <th>50%</th>\n",
       "      <td>1.850000e+05</td>\n",
       "      <td>2.558452e+06</td>\n",
       "      <td>1.450000e+05</td>\n",
       "      <td>84.000000</td>\n",
       "      <td>75.000000</td>\n",
       "      <td>1800.000000</td>\n",
       "      <td>2.213115e+03</td>\n",
       "    </tr>\n",
       "    <tr>\n",
       "      <th>75%</th>\n",
       "      <td>4.200000e+05</td>\n",
       "      <td>4.675792e+06</td>\n",
       "      <td>2.650000e+05</td>\n",
       "      <td>200.000000</td>\n",
       "      <td>150.000000</td>\n",
       "      <td>2486.411765</td>\n",
       "      <td>3.355549e+03</td>\n",
       "    </tr>\n",
       "    <tr>\n",
       "      <th>max</th>\n",
       "      <td>6.500000e+08</td>\n",
       "      <td>8.212711e+08</td>\n",
       "      <td>4.654544e+07</td>\n",
       "      <td>200000.000000</td>\n",
       "      <td>187000.000000</td>\n",
       "      <td>206333.333333</td>\n",
       "      <td>4.000000e+06</td>\n",
       "    </tr>\n",
       "  </tbody>\n",
       "</table>\n",
       "</div>"
      ],
      "text/plain": [
       "              price  price_aprox_local_currency  price_aprox_usd  \\\n",
       "count  1.008100e+05                1.008100e+05     1.008100e+05   \n",
       "mean   4.685259e+05                4.229397e+06     2.397006e+05   \n",
       "std    2.260101e+06                6.904714e+06     3.913239e+05   \n",
       "min    0.000000e+00                0.000000e+00     0.000000e+00   \n",
       "25%    1.100000e+05                1.583309e+06     8.973388e+04   \n",
       "50%    1.850000e+05                2.558452e+06     1.450000e+05   \n",
       "75%    4.200000e+05                4.675792e+06     2.650000e+05   \n",
       "max    6.500000e+08                8.212711e+08     4.654544e+07   \n",
       "\n",
       "       surface_total_in_m2  surface_covered_in_m2  price_usd_per_m2  \\\n",
       "count         81892.000000          101313.000000      68617.000000   \n",
       "mean            233.795328             133.050181       2160.086916   \n",
       "std            1782.222147             724.351479       2759.288621   \n",
       "min               0.000000               0.000000          0.600000   \n",
       "25%              50.000000              45.000000       1218.181818   \n",
       "50%              84.000000              75.000000       1800.000000   \n",
       "75%             200.000000             150.000000       2486.411765   \n",
       "max          200000.000000          187000.000000     206333.333333   \n",
       "\n",
       "       price_per_m2  \n",
       "count  8.765800e+04  \n",
       "mean   6.912216e+03  \n",
       "std    2.837864e+04  \n",
       "min    1.510204e+00  \n",
       "25%    1.550000e+03  \n",
       "50%    2.213115e+03  \n",
       "75%    3.355549e+03  \n",
       "max    4.000000e+06  "
      ]
     },
     "execution_count": 8,
     "metadata": {},
     "output_type": "execute_result"
    }
   ],
   "source": [
    "cols=['price','price_aprox_local_currency','price_aprox_usd','surface_total_in_m2','surface_covered_in_m2','price_usd_per_m2','price_per_m2']\n",
    "df[cols].describe()"
   ]
  },
  {
   "cell_type": "markdown",
   "id": "94ccf141-c359-4ba0-8dfb-1d192949ae76",
   "metadata": {},
   "source": [
    "Aca podemos observar algunos valores extraños en el data set:\n",
    "\n",
    "* El valor minimo de superficie cubierta y total, es 0.\n",
    "\n",
    "* El valor minimo de venta es 0.\n",
    "\n",
    "* El valor maximo de superficie llega a 20 hectareas\n"
   ]
  },
  {
   "cell_type": "markdown",
   "id": "ae8c9dc6-9e9b-404b-bf52-c24115d0546f",
   "metadata": {},
   "source": [
    "### 4) Analisis de columnas"
   ]
  },
  {
   "cell_type": "markdown",
   "id": "f9a8ceda-bf47-47d6-a45b-82008cc2daeb",
   "metadata": {},
   "source": [
    "**Analisis Descriptivo de las principales variables:**\n",
    "\n",
    "* price_per_m2: Es nuestra variable objetivo, es la que vamos a querer predecir en la siguiente etapa del trabajo, nos representa el precio por metro cuadrado del inmueble.VARIABLE CONTINUA\n",
    "\n",
    "* price_usd_per_m2: Esta variable nos indica el valor en dolares por metro cuadrado del inmueble publicado.VARIABLE CONTINUA\n",
    "\n",
    "* price: Esta variable nos indica el precio del inmueble expresado en la moneda \"currency\".VARIABLE CONTINUA\n",
    "\n",
    "* currency: Esta variable nos indica la moneda en la que se publico el inmueble, puede valer (usd,ars,uyu,pen).VARIABLE CATEGORICA\n",
    "\n",
    "* surface_total_in_m2: Esta variable nos indica los metros cuadrados totales de la propiedad publicada.VARIABLE CONTINUA\n",
    "\n",
    "* surface_covered_in_m2: Esta variable nos indica los metros cuadrados cubiertos de la propiedad publicada.VARIABLE CONTINUA\n",
    "\n",
    "* property_type: Nos indica el tipo de propiedad publicada (ph, apartment, house, store).VARIABLE CATEGORICA\n",
    "\n",
    "* place_name: Nos indica el barrio(si es dentro de CABA) o localidad, de donde esta la propiedad publicada.VARIABLE CATEGORICA\n",
    "\n",
    "* state_name: Nos indica la provincia en donde se encuentra la propiedad publicada.VARIABLE CATEGORICA\n",
    "\n",
    "* place_with_parent_names: Es una combinacion de place_name y state_name, en algunos casos, con algunos datos mas sobre la ubicacion, como el partido. place_with_parent_names = |country_name|state_name|place_name|.VARIABLE CATEGORICA\n",
    "\n",
    "* floor: Numero de piso en donde esta ubicado el inmueble(en caso de corresponder).VARIABLE CUALITATIVA ORDINAL\n",
    "\n",
    "* rooms: Esta variable nos indica la cantidad de ambientes que posee el inmueble.VARIABLE CATEGORICA\n",
    "\n",
    "* expenses: Valor de las expensas del inmueble (en caso de corresponder).VARIABLE CONTINUA\n",
    "\n",
    "* description: Una breve descripcion sobre la propiedad en venta."
   ]
  },
  {
   "cell_type": "code",
   "execution_count": 9,
   "id": "71f0b4af-cb5d-48e0-b77d-078dc41d5ecc",
   "metadata": {},
   "outputs": [],
   "source": [
    "#Para evitar problemas con los strings, convertimos todo el df en minuscula\n",
    "df = df.applymap(lambda x: x.lower() if type(x) is str else x)"
   ]
  },
  {
   "cell_type": "code",
   "execution_count": null,
   "id": "77f986b0-ff17-49c7-915f-cd37daae1688",
   "metadata": {},
   "outputs": [],
   "source": []
  },
  {
   "cell_type": "markdown",
   "id": "c1336505-6a34-4f6f-a4f4-b410eb2d3dfa",
   "metadata": {},
   "source": [
    "### 5) Análisis inicial de la distribución de los datos"
   ]
  },
  {
   "cell_type": "code",
   "execution_count": null,
   "id": "d7b3d8e5-1a10-4f28-b753-48229cf33f75",
   "metadata": {},
   "outputs": [],
   "source": []
  },
  {
   "cell_type": "markdown",
   "id": "40c946a4-5451-44b1-b692-51f7706d7342",
   "metadata": {},
   "source": [
    "Separamos las columnas que consideramos tengan alguna relacion con el precio_per_m2 o nos puedan brindar informacion util "
   ]
  },
  {
   "cell_type": "code",
   "execution_count": 10,
   "id": "c37a657c-d2ac-4401-924b-72faa41edb77",
   "metadata": {},
   "outputs": [],
   "source": [
    "cols_utiles=['property_type','place_name','place_with_parent_names','state_name','price','currency'\\\n",
    "            ,'price_aprox_local_currency','price_aprox_usd','surface_total_in_m2','surface_covered_in_m2'\\\n",
    "            ,'price_usd_per_m2','price_per_m2','floor','rooms','expenses','description']\n",
    "cols_utiles_sin_price=['property_type','place_name','place_with_parent_names','state_name','currency'\\\n",
    "            ,'price_aprox_local_currency','price_aprox_usd','surface_total_in_m2','surface_covered_in_m2'\\\n",
    "            ,'price_usd_per_m2','price_per_m2','floor','rooms','expenses','description']"
   ]
  },
  {
   "cell_type": "code",
   "execution_count": null,
   "id": "4d87e764-4a5f-4ae3-ac1c-68d506babe21",
   "metadata": {},
   "outputs": [],
   "source": []
  },
  {
   "cell_type": "code",
   "execution_count": 11,
   "id": "72b71302-886d-4222-beed-b9c7bb1c9b51",
   "metadata": {},
   "outputs": [
    {
     "data": {
      "text/html": [
       "<div>\n",
       "<style scoped>\n",
       "    .dataframe tbody tr th:only-of-type {\n",
       "        vertical-align: middle;\n",
       "    }\n",
       "\n",
       "    .dataframe tbody tr th {\n",
       "        vertical-align: top;\n",
       "    }\n",
       "\n",
       "    .dataframe thead th {\n",
       "        text-align: right;\n",
       "    }\n",
       "</style>\n",
       "<table border=\"1\" class=\"dataframe\">\n",
       "  <thead>\n",
       "    <tr style=\"text-align: right;\">\n",
       "      <th></th>\n",
       "      <th>price_aprox_local_currency</th>\n",
       "      <th>price_aprox_usd</th>\n",
       "      <th>surface_total_in_m2</th>\n",
       "      <th>surface_covered_in_m2</th>\n",
       "      <th>price_usd_per_m2</th>\n",
       "      <th>price_per_m2</th>\n",
       "      <th>floor</th>\n",
       "      <th>rooms</th>\n",
       "      <th>expenses</th>\n",
       "    </tr>\n",
       "    <tr>\n",
       "      <th>property_type</th>\n",
       "      <th></th>\n",
       "      <th></th>\n",
       "      <th></th>\n",
       "      <th></th>\n",
       "      <th></th>\n",
       "      <th></th>\n",
       "      <th></th>\n",
       "      <th></th>\n",
       "      <th></th>\n",
       "    </tr>\n",
       "  </thead>\n",
       "  <tbody>\n",
       "    <tr>\n",
       "      <th>apartment</th>\n",
       "      <td>2099695.5</td>\n",
       "      <td>119000.0</td>\n",
       "      <td>59.0</td>\n",
       "      <td>52.0</td>\n",
       "      <td>2167.832168</td>\n",
       "      <td>2710.072464</td>\n",
       "      <td>3.0</td>\n",
       "      <td>2.0</td>\n",
       "      <td>1700.0</td>\n",
       "    </tr>\n",
       "    <tr>\n",
       "      <th>house</th>\n",
       "      <td>4234680.0</td>\n",
       "      <td>240000.0</td>\n",
       "      <td>278.0</td>\n",
       "      <td>180.0</td>\n",
       "      <td>1057.934509</td>\n",
       "      <td>1529.411765</td>\n",
       "      <td>1.0</td>\n",
       "      <td>4.0</td>\n",
       "      <td>4500.0</td>\n",
       "    </tr>\n",
       "    <tr>\n",
       "      <th>ph</th>\n",
       "      <td>2117340.0</td>\n",
       "      <td>120000.0</td>\n",
       "      <td>90.0</td>\n",
       "      <td>73.0</td>\n",
       "      <td>1328.619462</td>\n",
       "      <td>1718.750000</td>\n",
       "      <td>2.0</td>\n",
       "      <td>3.0</td>\n",
       "      <td>500.0</td>\n",
       "    </tr>\n",
       "    <tr>\n",
       "      <th>store</th>\n",
       "      <td>3705345.0</td>\n",
       "      <td>210000.0</td>\n",
       "      <td>154.0</td>\n",
       "      <td>120.0</td>\n",
       "      <td>1637.931034</td>\n",
       "      <td>2100.000000</td>\n",
       "      <td>1.0</td>\n",
       "      <td>1.0</td>\n",
       "      <td>1111.0</td>\n",
       "    </tr>\n",
       "  </tbody>\n",
       "</table>\n",
       "</div>"
      ],
      "text/plain": [
       "               price_aprox_local_currency  price_aprox_usd  \\\n",
       "property_type                                                \n",
       "apartment                       2099695.5         119000.0   \n",
       "house                           4234680.0         240000.0   \n",
       "ph                              2117340.0         120000.0   \n",
       "store                           3705345.0         210000.0   \n",
       "\n",
       "               surface_total_in_m2  surface_covered_in_m2  price_usd_per_m2  \\\n",
       "property_type                                                                 \n",
       "apartment                     59.0                   52.0       2167.832168   \n",
       "house                        278.0                  180.0       1057.934509   \n",
       "ph                            90.0                   73.0       1328.619462   \n",
       "store                        154.0                  120.0       1637.931034   \n",
       "\n",
       "               price_per_m2  floor  rooms  expenses  \n",
       "property_type                                        \n",
       "apartment       2710.072464    3.0    2.0    1700.0  \n",
       "house           1529.411765    1.0    4.0    4500.0  \n",
       "ph              1718.750000    2.0    3.0     500.0  \n",
       "store           2100.000000    1.0    1.0    1111.0  "
      ]
     },
     "execution_count": 11,
     "metadata": {},
     "output_type": "execute_result"
    }
   ],
   "source": [
    "groupby_property_type=df.groupby('property_type')[cols_utiles_sin_price].median()\n",
    "groupby_property_type"
   ]
  },
  {
   "cell_type": "markdown",
   "id": "641723a0-4bdd-49e1-9079-a53e093a7c02",
   "metadata": {},
   "source": [
    "Dado que 'price', depende del valor de currency, si esta en usd o en ars, vamos a calcularlos por separados, para no crear un bias."
   ]
  },
  {
   "cell_type": "code",
   "execution_count": 12,
   "id": "abfac3cc-cad2-4926-90cb-e97473302422",
   "metadata": {},
   "outputs": [
    {
     "data": {
      "text/html": [
       "<div>\n",
       "<style scoped>\n",
       "    .dataframe tbody tr th:only-of-type {\n",
       "        vertical-align: middle;\n",
       "    }\n",
       "\n",
       "    .dataframe tbody tr th {\n",
       "        vertical-align: top;\n",
       "    }\n",
       "\n",
       "    .dataframe thead th {\n",
       "        text-align: right;\n",
       "    }\n",
       "</style>\n",
       "<table border=\"1\" class=\"dataframe\">\n",
       "  <thead>\n",
       "    <tr style=\"text-align: right;\">\n",
       "      <th></th>\n",
       "      <th>price_aprox_local_currency</th>\n",
       "      <th>price_aprox_usd</th>\n",
       "      <th>surface_total_in_m2</th>\n",
       "      <th>surface_covered_in_m2</th>\n",
       "      <th>price_usd_per_m2</th>\n",
       "      <th>price_per_m2</th>\n",
       "      <th>floor</th>\n",
       "      <th>rooms</th>\n",
       "      <th>expenses</th>\n",
       "      <th>price_usd</th>\n",
       "      <th>price_ars</th>\n",
       "      <th>cant de propiedades</th>\n",
       "    </tr>\n",
       "    <tr>\n",
       "      <th>property_type</th>\n",
       "      <th></th>\n",
       "      <th></th>\n",
       "      <th></th>\n",
       "      <th></th>\n",
       "      <th></th>\n",
       "      <th></th>\n",
       "      <th></th>\n",
       "      <th></th>\n",
       "      <th></th>\n",
       "      <th></th>\n",
       "      <th></th>\n",
       "      <th></th>\n",
       "    </tr>\n",
       "  </thead>\n",
       "  <tbody>\n",
       "    <tr>\n",
       "      <th>apartment</th>\n",
       "      <td>2099695.5</td>\n",
       "      <td>119000.0</td>\n",
       "      <td>59.0</td>\n",
       "      <td>52.0</td>\n",
       "      <td>2167.832168</td>\n",
       "      <td>2710.072464</td>\n",
       "      <td>3.0</td>\n",
       "      <td>2.0</td>\n",
       "      <td>1700.0</td>\n",
       "      <td>129394.0</td>\n",
       "      <td>1420000.0</td>\n",
       "      <td>71065</td>\n",
       "    </tr>\n",
       "    <tr>\n",
       "      <th>house</th>\n",
       "      <td>4234680.0</td>\n",
       "      <td>240000.0</td>\n",
       "      <td>278.0</td>\n",
       "      <td>180.0</td>\n",
       "      <td>1057.934509</td>\n",
       "      <td>1529.411765</td>\n",
       "      <td>1.0</td>\n",
       "      <td>4.0</td>\n",
       "      <td>4500.0</td>\n",
       "      <td>250000.0</td>\n",
       "      <td>1450000.0</td>\n",
       "      <td>40268</td>\n",
       "    </tr>\n",
       "    <tr>\n",
       "      <th>ph</th>\n",
       "      <td>2117340.0</td>\n",
       "      <td>120000.0</td>\n",
       "      <td>90.0</td>\n",
       "      <td>73.0</td>\n",
       "      <td>1328.619462</td>\n",
       "      <td>1718.750000</td>\n",
       "      <td>2.0</td>\n",
       "      <td>3.0</td>\n",
       "      <td>500.0</td>\n",
       "      <td>125000.0</td>\n",
       "      <td>1350000.0</td>\n",
       "      <td>5751</td>\n",
       "    </tr>\n",
       "    <tr>\n",
       "      <th>store</th>\n",
       "      <td>3705345.0</td>\n",
       "      <td>210000.0</td>\n",
       "      <td>154.0</td>\n",
       "      <td>120.0</td>\n",
       "      <td>1637.931034</td>\n",
       "      <td>2100.000000</td>\n",
       "      <td>1.0</td>\n",
       "      <td>1.0</td>\n",
       "      <td>1111.0</td>\n",
       "      <td>235000.0</td>\n",
       "      <td>1100000.0</td>\n",
       "      <td>4136</td>\n",
       "    </tr>\n",
       "  </tbody>\n",
       "</table>\n",
       "</div>"
      ],
      "text/plain": [
       "               price_aprox_local_currency  price_aprox_usd  \\\n",
       "property_type                                                \n",
       "apartment                       2099695.5         119000.0   \n",
       "house                           4234680.0         240000.0   \n",
       "ph                              2117340.0         120000.0   \n",
       "store                           3705345.0         210000.0   \n",
       "\n",
       "               surface_total_in_m2  surface_covered_in_m2  price_usd_per_m2  \\\n",
       "property_type                                                                 \n",
       "apartment                     59.0                   52.0       2167.832168   \n",
       "house                        278.0                  180.0       1057.934509   \n",
       "ph                            90.0                   73.0       1328.619462   \n",
       "store                        154.0                  120.0       1637.931034   \n",
       "\n",
       "               price_per_m2  floor  rooms  expenses  price_usd  price_ars  \\\n",
       "property_type                                                               \n",
       "apartment       2710.072464    3.0    2.0    1700.0   129394.0  1420000.0   \n",
       "house           1529.411765    1.0    4.0    4500.0   250000.0  1450000.0   \n",
       "ph              1718.750000    2.0    3.0     500.0   125000.0  1350000.0   \n",
       "store           2100.000000    1.0    1.0    1111.0   235000.0  1100000.0   \n",
       "\n",
       "               cant de propiedades  \n",
       "property_type                       \n",
       "apartment                    71065  \n",
       "house                        40268  \n",
       "ph                            5751  \n",
       "store                         4136  "
      ]
     },
     "execution_count": 12,
     "metadata": {},
     "output_type": "execute_result"
    }
   ],
   "source": [
    "groupby_property_type_price_usd=df[df.currency=='usd'].groupby('property_type')['price'].median()\n",
    "groupby_property_type_price_ars=df[df.currency=='ars'].groupby('property_type')['price'].median()\n",
    "\n",
    "groupby_property_type['price_usd']=groupby_property_type_price_usd\n",
    "groupby_property_type['price_ars']=groupby_property_type_price_ars\n",
    "groupby_property_type['cant de propiedades']=df.groupby('property_type')['operation'].count()\n",
    "\n",
    "groupby_property_type"
   ]
  },
  {
   "cell_type": "markdown",
   "id": "0bcac653-c337-4098-ba2f-b734025b92b9",
   "metadata": {},
   "source": [
    "Al agrupar las propiedades por su tipo, podemos realizar las siguientes observaciones:\n",
    "\n",
    "*  Las casas son las que suelen tener un mayor precio, pero tambien son las que tienen mas metros cuadrados tienen y pagan mas expensas.\n",
    "\n",
    "*  Los departamentos son las propiedades que mayor valor por metro cuadrado tienen.\n",
    "\n",
    "*  Los ph, son la opcion mas economica de propiedad, ya que tienen el precio mas bajo y el menor valor de expensas.\n",
    "\n",
    "*  La mayoria de los inmuebles publicados son departamentos."
   ]
  },
  {
   "cell_type": "code",
   "execution_count": 13,
   "id": "0de5f5c5-09dd-451f-a1ad-c0c6e059b402",
   "metadata": {},
   "outputs": [
    {
     "data": {
      "text/html": [
       "<div>\n",
       "<style scoped>\n",
       "    .dataframe tbody tr th:only-of-type {\n",
       "        vertical-align: middle;\n",
       "    }\n",
       "\n",
       "    .dataframe tbody tr th {\n",
       "        vertical-align: top;\n",
       "    }\n",
       "\n",
       "    .dataframe thead th {\n",
       "        text-align: right;\n",
       "    }\n",
       "</style>\n",
       "<table border=\"1\" class=\"dataframe\">\n",
       "  <thead>\n",
       "    <tr style=\"text-align: right;\">\n",
       "      <th></th>\n",
       "      <th>price_aprox_local_currency</th>\n",
       "      <th>price_aprox_usd</th>\n",
       "      <th>surface_total_in_m2</th>\n",
       "      <th>surface_covered_in_m2</th>\n",
       "      <th>price_usd_per_m2</th>\n",
       "      <th>price_per_m2</th>\n",
       "      <th>floor</th>\n",
       "      <th>rooms</th>\n",
       "      <th>expenses</th>\n",
       "      <th>price_usd</th>\n",
       "      <th>price_ars</th>\n",
       "      <th>cant de propiedades</th>\n",
       "    </tr>\n",
       "    <tr>\n",
       "      <th>state_name</th>\n",
       "      <th></th>\n",
       "      <th></th>\n",
       "      <th></th>\n",
       "      <th></th>\n",
       "      <th></th>\n",
       "      <th></th>\n",
       "      <th></th>\n",
       "      <th></th>\n",
       "      <th></th>\n",
       "      <th></th>\n",
       "      <th></th>\n",
       "      <th></th>\n",
       "    </tr>\n",
       "  </thead>\n",
       "  <tbody>\n",
       "    <tr>\n",
       "      <th>capital federal</th>\n",
       "      <td>2.774792e+06</td>\n",
       "      <td>157261.000</td>\n",
       "      <td>62.0</td>\n",
       "      <td>55.0</td>\n",
       "      <td>2468.750000</td>\n",
       "      <td>2777.419355</td>\n",
       "      <td>4.0</td>\n",
       "      <td>3.0</td>\n",
       "      <td>2000.0</td>\n",
       "      <td>160000.0</td>\n",
       "      <td>1875934.5</td>\n",
       "      <td>32316</td>\n",
       "    </tr>\n",
       "    <tr>\n",
       "      <th>bs.as. g.b.a. zona norte</th>\n",
       "      <td>4.058235e+06</td>\n",
       "      <td>230000.000</td>\n",
       "      <td>160.0</td>\n",
       "      <td>120.0</td>\n",
       "      <td>1666.666667</td>\n",
       "      <td>2019.230769</td>\n",
       "      <td>3.0</td>\n",
       "      <td>3.0</td>\n",
       "      <td>3800.0</td>\n",
       "      <td>240000.0</td>\n",
       "      <td>2431652.0</td>\n",
       "      <td>25560</td>\n",
       "    </tr>\n",
       "    <tr>\n",
       "      <th>bs.as. g.b.a. zona sur</th>\n",
       "      <td>2.470230e+06</td>\n",
       "      <td>140000.000</td>\n",
       "      <td>110.0</td>\n",
       "      <td>94.0</td>\n",
       "      <td>1492.063492</td>\n",
       "      <td>1644.736842</td>\n",
       "      <td>3.0</td>\n",
       "      <td>3.0</td>\n",
       "      <td>1400.0</td>\n",
       "      <td>140000.0</td>\n",
       "      <td>1235000.0</td>\n",
       "      <td>13952</td>\n",
       "    </tr>\n",
       "    <tr>\n",
       "      <th>córdoba</th>\n",
       "      <td>1.729152e+06</td>\n",
       "      <td>97999.500</td>\n",
       "      <td>79.0</td>\n",
       "      <td>85.0</td>\n",
       "      <td>1223.601326</td>\n",
       "      <td>8414.062500</td>\n",
       "      <td>2.0</td>\n",
       "      <td>3.0</td>\n",
       "      <td>1400.0</td>\n",
       "      <td>160000.0</td>\n",
       "      <td>1400000.0</td>\n",
       "      <td>12069</td>\n",
       "    </tr>\n",
       "    <tr>\n",
       "      <th>santa fe</th>\n",
       "      <td>1.405187e+06</td>\n",
       "      <td>79638.820</td>\n",
       "      <td>60.0</td>\n",
       "      <td>53.0</td>\n",
       "      <td>1594.879375</td>\n",
       "      <td>27800.000000</td>\n",
       "      <td>3.0</td>\n",
       "      <td>3.0</td>\n",
       "      <td>770.0</td>\n",
       "      <td>130000.0</td>\n",
       "      <td>1260000.0</td>\n",
       "      <td>10172</td>\n",
       "    </tr>\n",
       "    <tr>\n",
       "      <th>buenos aires costa atlántica</th>\n",
       "      <td>1.905606e+06</td>\n",
       "      <td>108000.000</td>\n",
       "      <td>75.0</td>\n",
       "      <td>70.0</td>\n",
       "      <td>1617.647059</td>\n",
       "      <td>1750.000000</td>\n",
       "      <td>3.0</td>\n",
       "      <td>3.0</td>\n",
       "      <td>1500.0</td>\n",
       "      <td>105764.0</td>\n",
       "      <td>2176608.0</td>\n",
       "      <td>10006</td>\n",
       "    </tr>\n",
       "    <tr>\n",
       "      <th>bs.as. g.b.a. zona oeste</th>\n",
       "      <td>1.940895e+06</td>\n",
       "      <td>110000.000</td>\n",
       "      <td>125.0</td>\n",
       "      <td>80.0</td>\n",
       "      <td>1260.000000</td>\n",
       "      <td>1625.000000</td>\n",
       "      <td>3.0</td>\n",
       "      <td>3.0</td>\n",
       "      <td>800.0</td>\n",
       "      <td>115000.0</td>\n",
       "      <td>849871.5</td>\n",
       "      <td>9322</td>\n",
       "    </tr>\n",
       "    <tr>\n",
       "      <th>buenos aires interior</th>\n",
       "      <td>2.382008e+06</td>\n",
       "      <td>135000.000</td>\n",
       "      <td>220.0</td>\n",
       "      <td>110.0</td>\n",
       "      <td>866.666667</td>\n",
       "      <td>1500.000000</td>\n",
       "      <td>3.0</td>\n",
       "      <td>4.0</td>\n",
       "      <td>1000.0</td>\n",
       "      <td>150000.0</td>\n",
       "      <td>1200000.0</td>\n",
       "      <td>2291</td>\n",
       "    </tr>\n",
       "    <tr>\n",
       "      <th>río negro</th>\n",
       "      <td>2.734898e+06</td>\n",
       "      <td>155000.000</td>\n",
       "      <td>150.0</td>\n",
       "      <td>105.0</td>\n",
       "      <td>1600.000000</td>\n",
       "      <td>2800.000000</td>\n",
       "      <td>2.0</td>\n",
       "      <td>3.0</td>\n",
       "      <td>550.0</td>\n",
       "      <td>180000.0</td>\n",
       "      <td>1200000.0</td>\n",
       "      <td>808</td>\n",
       "    </tr>\n",
       "    <tr>\n",
       "      <th>neuquén</th>\n",
       "      <td>2.180514e+06</td>\n",
       "      <td>123580.375</td>\n",
       "      <td>70.0</td>\n",
       "      <td>63.0</td>\n",
       "      <td>1815.715000</td>\n",
       "      <td>14065.934066</td>\n",
       "      <td>8.0</td>\n",
       "      <td>3.0</td>\n",
       "      <td>650.0</td>\n",
       "      <td>182500.0</td>\n",
       "      <td>1761500.0</td>\n",
       "      <td>733</td>\n",
       "    </tr>\n",
       "    <tr>\n",
       "      <th>mendoza</th>\n",
       "      <td>2.196740e+06</td>\n",
       "      <td>124500.000</td>\n",
       "      <td>118.0</td>\n",
       "      <td>100.0</td>\n",
       "      <td>1435.439560</td>\n",
       "      <td>1857.142857</td>\n",
       "      <td>4.0</td>\n",
       "      <td>4.0</td>\n",
       "      <td>5000.0</td>\n",
       "      <td>161250.0</td>\n",
       "      <td>1350000.0</td>\n",
       "      <td>681</td>\n",
       "    </tr>\n",
       "    <tr>\n",
       "      <th>tucumán</th>\n",
       "      <td>1.583309e+06</td>\n",
       "      <td>89733.880</td>\n",
       "      <td>100.0</td>\n",
       "      <td>90.0</td>\n",
       "      <td>785.171452</td>\n",
       "      <td>24617.671575</td>\n",
       "      <td>2.0</td>\n",
       "      <td>3.0</td>\n",
       "      <td>1750.0</td>\n",
       "      <td>194474.5</td>\n",
       "      <td>1500000.0</td>\n",
       "      <td>674</td>\n",
       "    </tr>\n",
       "    <tr>\n",
       "      <th>corrientes</th>\n",
       "      <td>2.693433e+06</td>\n",
       "      <td>152650.000</td>\n",
       "      <td>110.0</td>\n",
       "      <td>120.0</td>\n",
       "      <td>1500.000000</td>\n",
       "      <td>1483.597884</td>\n",
       "      <td>NaN</td>\n",
       "      <td>5.0</td>\n",
       "      <td>1.0</td>\n",
       "      <td>154900.0</td>\n",
       "      <td>1550000.0</td>\n",
       "      <td>583</td>\n",
       "    </tr>\n",
       "    <tr>\n",
       "      <th>misiones</th>\n",
       "      <td>1.499782e+06</td>\n",
       "      <td>85000.000</td>\n",
       "      <td>115.0</td>\n",
       "      <td>84.0</td>\n",
       "      <td>564.871547</td>\n",
       "      <td>17000.000000</td>\n",
       "      <td>5.0</td>\n",
       "      <td>3.0</td>\n",
       "      <td>2500.0</td>\n",
       "      <td>170000.0</td>\n",
       "      <td>1425000.0</td>\n",
       "      <td>464</td>\n",
       "    </tr>\n",
       "    <tr>\n",
       "      <th>entre ríos</th>\n",
       "      <td>1.682266e+06</td>\n",
       "      <td>95342.250</td>\n",
       "      <td>134.5</td>\n",
       "      <td>95.0</td>\n",
       "      <td>864.105154</td>\n",
       "      <td>9000.000000</td>\n",
       "      <td>3.0</td>\n",
       "      <td>3.0</td>\n",
       "      <td>500.0</td>\n",
       "      <td>159000.0</td>\n",
       "      <td>1250000.0</td>\n",
       "      <td>369</td>\n",
       "    </tr>\n",
       "    <tr>\n",
       "      <th>salta</th>\n",
       "      <td>1.710715e+06</td>\n",
       "      <td>96954.570</td>\n",
       "      <td>150.0</td>\n",
       "      <td>94.5</td>\n",
       "      <td>1078.532212</td>\n",
       "      <td>18420.289855</td>\n",
       "      <td>3.0</td>\n",
       "      <td>4.0</td>\n",
       "      <td>3300.0</td>\n",
       "      <td>250000.0</td>\n",
       "      <td>1306500.0</td>\n",
       "      <td>278</td>\n",
       "    </tr>\n",
       "    <tr>\n",
       "      <th>chubut</th>\n",
       "      <td>3.528900e+06</td>\n",
       "      <td>200000.000</td>\n",
       "      <td>134.0</td>\n",
       "      <td>124.0</td>\n",
       "      <td>1500.000000</td>\n",
       "      <td>2091.666667</td>\n",
       "      <td>6.0</td>\n",
       "      <td>3.0</td>\n",
       "      <td>1000.0</td>\n",
       "      <td>210000.0</td>\n",
       "      <td>1600000.0</td>\n",
       "      <td>259</td>\n",
       "    </tr>\n",
       "    <tr>\n",
       "      <th>san luis</th>\n",
       "      <td>2.205562e+06</td>\n",
       "      <td>125000.000</td>\n",
       "      <td>240.0</td>\n",
       "      <td>120.0</td>\n",
       "      <td>934.959350</td>\n",
       "      <td>1635.382060</td>\n",
       "      <td>3.5</td>\n",
       "      <td>3.0</td>\n",
       "      <td>1500.0</td>\n",
       "      <td>142500.0</td>\n",
       "      <td>1600000.0</td>\n",
       "      <td>252</td>\n",
       "    </tr>\n",
       "    <tr>\n",
       "      <th>la pampa</th>\n",
       "      <td>1.632788e+06</td>\n",
       "      <td>92538.065</td>\n",
       "      <td>125.0</td>\n",
       "      <td>110.0</td>\n",
       "      <td>855.936328</td>\n",
       "      <td>13000.000000</td>\n",
       "      <td>NaN</td>\n",
       "      <td>4.0</td>\n",
       "      <td>800.0</td>\n",
       "      <td>127500.0</td>\n",
       "      <td>1400000.0</td>\n",
       "      <td>157</td>\n",
       "    </tr>\n",
       "    <tr>\n",
       "      <th>formosa</th>\n",
       "      <td>8.814045e+05</td>\n",
       "      <td>49953.500</td>\n",
       "      <td>40.0</td>\n",
       "      <td>NaN</td>\n",
       "      <td>1513.742424</td>\n",
       "      <td>NaN</td>\n",
       "      <td>NaN</td>\n",
       "      <td>NaN</td>\n",
       "      <td>1200.0</td>\n",
       "      <td>NaN</td>\n",
       "      <td>890696.0</td>\n",
       "      <td>65</td>\n",
       "    </tr>\n",
       "    <tr>\n",
       "      <th>chaco</th>\n",
       "      <td>2.473921e+06</td>\n",
       "      <td>140209.190</td>\n",
       "      <td>200.0</td>\n",
       "      <td>160.0</td>\n",
       "      <td>852.589356</td>\n",
       "      <td>12089.232883</td>\n",
       "      <td>NaN</td>\n",
       "      <td>4.0</td>\n",
       "      <td>2100.0</td>\n",
       "      <td>315000.0</td>\n",
       "      <td>2000000.0</td>\n",
       "      <td>57</td>\n",
       "    </tr>\n",
       "    <tr>\n",
       "      <th>san juan</th>\n",
       "      <td>5.046799e+06</td>\n",
       "      <td>286026.750</td>\n",
       "      <td>80.0</td>\n",
       "      <td>97.0</td>\n",
       "      <td>1648.244241</td>\n",
       "      <td>10518.867925</td>\n",
       "      <td>NaN</td>\n",
       "      <td>2.5</td>\n",
       "      <td>NaN</td>\n",
       "      <td>600000.0</td>\n",
       "      <td>1700000.0</td>\n",
       "      <td>40</td>\n",
       "    </tr>\n",
       "    <tr>\n",
       "      <th>tierra del fuego</th>\n",
       "      <td>2.177050e+06</td>\n",
       "      <td>123384.080</td>\n",
       "      <td>200.0</td>\n",
       "      <td>85.5</td>\n",
       "      <td>917.419400</td>\n",
       "      <td>21133.993743</td>\n",
       "      <td>NaN</td>\n",
       "      <td>3.5</td>\n",
       "      <td>300.0</td>\n",
       "      <td>260000.0</td>\n",
       "      <td>1670000.0</td>\n",
       "      <td>31</td>\n",
       "    </tr>\n",
       "    <tr>\n",
       "      <th>catamarca</th>\n",
       "      <td>1.076314e+07</td>\n",
       "      <td>610000.000</td>\n",
       "      <td>300.0</td>\n",
       "      <td>251.0</td>\n",
       "      <td>376.138108</td>\n",
       "      <td>3401.360544</td>\n",
       "      <td>1.0</td>\n",
       "      <td>3.0</td>\n",
       "      <td>NaN</td>\n",
       "      <td>960000.0</td>\n",
       "      <td>1750000.0</td>\n",
       "      <td>27</td>\n",
       "    </tr>\n",
       "    <tr>\n",
       "      <th>jujuy</th>\n",
       "      <td>2.464025e+06</td>\n",
       "      <td>139648.350</td>\n",
       "      <td>1738.0</td>\n",
       "      <td>70.5</td>\n",
       "      <td>287.742900</td>\n",
       "      <td>21610.915493</td>\n",
       "      <td>1.0</td>\n",
       "      <td>5.0</td>\n",
       "      <td>NaN</td>\n",
       "      <td>750000.0</td>\n",
       "      <td>1700000.0</td>\n",
       "      <td>26</td>\n",
       "    </tr>\n",
       "    <tr>\n",
       "      <th>santa cruz</th>\n",
       "      <td>2.473921e+06</td>\n",
       "      <td>140209.190</td>\n",
       "      <td>254.5</td>\n",
       "      <td>170.0</td>\n",
       "      <td>552.339205</td>\n",
       "      <td>8666.666667</td>\n",
       "      <td>NaN</td>\n",
       "      <td>3.5</td>\n",
       "      <td>NaN</td>\n",
       "      <td>190000.0</td>\n",
       "      <td>1700000.0</td>\n",
       "      <td>20</td>\n",
       "    </tr>\n",
       "    <tr>\n",
       "      <th>la rioja</th>\n",
       "      <td>1.075510e+06</td>\n",
       "      <td>60954.385</td>\n",
       "      <td>300.0</td>\n",
       "      <td>195.0</td>\n",
       "      <td>243.029233</td>\n",
       "      <td>2438.888889</td>\n",
       "      <td>NaN</td>\n",
       "      <td>6.5</td>\n",
       "      <td>NaN</td>\n",
       "      <td>49000.0</td>\n",
       "      <td>1300000.0</td>\n",
       "      <td>4</td>\n",
       "    </tr>\n",
       "    <tr>\n",
       "      <th>santiago del estero</th>\n",
       "      <td>3.176010e+06</td>\n",
       "      <td>180000.000</td>\n",
       "      <td>730.0</td>\n",
       "      <td>111.0</td>\n",
       "      <td>224.000000</td>\n",
       "      <td>1600.000000</td>\n",
       "      <td>NaN</td>\n",
       "      <td>1.0</td>\n",
       "      <td>1.0</td>\n",
       "      <td>230000.0</td>\n",
       "      <td>540000.0</td>\n",
       "      <td>4</td>\n",
       "    </tr>\n",
       "  </tbody>\n",
       "</table>\n",
       "</div>"
      ],
      "text/plain": [
       "                              price_aprox_local_currency  price_aprox_usd  \\\n",
       "state_name                                                                  \n",
       "capital federal                             2.774792e+06       157261.000   \n",
       "bs.as. g.b.a. zona norte                    4.058235e+06       230000.000   \n",
       "bs.as. g.b.a. zona sur                      2.470230e+06       140000.000   \n",
       "córdoba                                     1.729152e+06        97999.500   \n",
       "santa fe                                    1.405187e+06        79638.820   \n",
       "buenos aires costa atlántica                1.905606e+06       108000.000   \n",
       "bs.as. g.b.a. zona oeste                    1.940895e+06       110000.000   \n",
       "buenos aires interior                       2.382008e+06       135000.000   \n",
       "río negro                                   2.734898e+06       155000.000   \n",
       "neuquén                                     2.180514e+06       123580.375   \n",
       "mendoza                                     2.196740e+06       124500.000   \n",
       "tucumán                                     1.583309e+06        89733.880   \n",
       "corrientes                                  2.693433e+06       152650.000   \n",
       "misiones                                    1.499782e+06        85000.000   \n",
       "entre ríos                                  1.682266e+06        95342.250   \n",
       "salta                                       1.710715e+06        96954.570   \n",
       "chubut                                      3.528900e+06       200000.000   \n",
       "san luis                                    2.205562e+06       125000.000   \n",
       "la pampa                                    1.632788e+06        92538.065   \n",
       "formosa                                     8.814045e+05        49953.500   \n",
       "chaco                                       2.473921e+06       140209.190   \n",
       "san juan                                    5.046799e+06       286026.750   \n",
       "tierra del fuego                            2.177050e+06       123384.080   \n",
       "catamarca                                   1.076314e+07       610000.000   \n",
       "jujuy                                       2.464025e+06       139648.350   \n",
       "santa cruz                                  2.473921e+06       140209.190   \n",
       "la rioja                                    1.075510e+06        60954.385   \n",
       "santiago del estero                         3.176010e+06       180000.000   \n",
       "\n",
       "                              surface_total_in_m2  surface_covered_in_m2  \\\n",
       "state_name                                                                 \n",
       "capital federal                              62.0                   55.0   \n",
       "bs.as. g.b.a. zona norte                    160.0                  120.0   \n",
       "bs.as. g.b.a. zona sur                      110.0                   94.0   \n",
       "córdoba                                      79.0                   85.0   \n",
       "santa fe                                     60.0                   53.0   \n",
       "buenos aires costa atlántica                 75.0                   70.0   \n",
       "bs.as. g.b.a. zona oeste                    125.0                   80.0   \n",
       "buenos aires interior                       220.0                  110.0   \n",
       "río negro                                   150.0                  105.0   \n",
       "neuquén                                      70.0                   63.0   \n",
       "mendoza                                     118.0                  100.0   \n",
       "tucumán                                     100.0                   90.0   \n",
       "corrientes                                  110.0                  120.0   \n",
       "misiones                                    115.0                   84.0   \n",
       "entre ríos                                  134.5                   95.0   \n",
       "salta                                       150.0                   94.5   \n",
       "chubut                                      134.0                  124.0   \n",
       "san luis                                    240.0                  120.0   \n",
       "la pampa                                    125.0                  110.0   \n",
       "formosa                                      40.0                    NaN   \n",
       "chaco                                       200.0                  160.0   \n",
       "san juan                                     80.0                   97.0   \n",
       "tierra del fuego                            200.0                   85.5   \n",
       "catamarca                                   300.0                  251.0   \n",
       "jujuy                                      1738.0                   70.5   \n",
       "santa cruz                                  254.5                  170.0   \n",
       "la rioja                                    300.0                  195.0   \n",
       "santiago del estero                         730.0                  111.0   \n",
       "\n",
       "                              price_usd_per_m2  price_per_m2  floor  rooms  \\\n",
       "state_name                                                                   \n",
       "capital federal                    2468.750000   2777.419355    4.0    3.0   \n",
       "bs.as. g.b.a. zona norte           1666.666667   2019.230769    3.0    3.0   \n",
       "bs.as. g.b.a. zona sur             1492.063492   1644.736842    3.0    3.0   \n",
       "córdoba                            1223.601326   8414.062500    2.0    3.0   \n",
       "santa fe                           1594.879375  27800.000000    3.0    3.0   \n",
       "buenos aires costa atlántica       1617.647059   1750.000000    3.0    3.0   \n",
       "bs.as. g.b.a. zona oeste           1260.000000   1625.000000    3.0    3.0   \n",
       "buenos aires interior               866.666667   1500.000000    3.0    4.0   \n",
       "río negro                          1600.000000   2800.000000    2.0    3.0   \n",
       "neuquén                            1815.715000  14065.934066    8.0    3.0   \n",
       "mendoza                            1435.439560   1857.142857    4.0    4.0   \n",
       "tucumán                             785.171452  24617.671575    2.0    3.0   \n",
       "corrientes                         1500.000000   1483.597884    NaN    5.0   \n",
       "misiones                            564.871547  17000.000000    5.0    3.0   \n",
       "entre ríos                          864.105154   9000.000000    3.0    3.0   \n",
       "salta                              1078.532212  18420.289855    3.0    4.0   \n",
       "chubut                             1500.000000   2091.666667    6.0    3.0   \n",
       "san luis                            934.959350   1635.382060    3.5    3.0   \n",
       "la pampa                            855.936328  13000.000000    NaN    4.0   \n",
       "formosa                            1513.742424           NaN    NaN    NaN   \n",
       "chaco                               852.589356  12089.232883    NaN    4.0   \n",
       "san juan                           1648.244241  10518.867925    NaN    2.5   \n",
       "tierra del fuego                    917.419400  21133.993743    NaN    3.5   \n",
       "catamarca                           376.138108   3401.360544    1.0    3.0   \n",
       "jujuy                               287.742900  21610.915493    1.0    5.0   \n",
       "santa cruz                          552.339205   8666.666667    NaN    3.5   \n",
       "la rioja                            243.029233   2438.888889    NaN    6.5   \n",
       "santiago del estero                 224.000000   1600.000000    NaN    1.0   \n",
       "\n",
       "                              expenses  price_usd  price_ars  \\\n",
       "state_name                                                     \n",
       "capital federal                 2000.0   160000.0  1875934.5   \n",
       "bs.as. g.b.a. zona norte        3800.0   240000.0  2431652.0   \n",
       "bs.as. g.b.a. zona sur          1400.0   140000.0  1235000.0   \n",
       "córdoba                         1400.0   160000.0  1400000.0   \n",
       "santa fe                         770.0   130000.0  1260000.0   \n",
       "buenos aires costa atlántica    1500.0   105764.0  2176608.0   \n",
       "bs.as. g.b.a. zona oeste         800.0   115000.0   849871.5   \n",
       "buenos aires interior           1000.0   150000.0  1200000.0   \n",
       "río negro                        550.0   180000.0  1200000.0   \n",
       "neuquén                          650.0   182500.0  1761500.0   \n",
       "mendoza                         5000.0   161250.0  1350000.0   \n",
       "tucumán                         1750.0   194474.5  1500000.0   \n",
       "corrientes                         1.0   154900.0  1550000.0   \n",
       "misiones                        2500.0   170000.0  1425000.0   \n",
       "entre ríos                       500.0   159000.0  1250000.0   \n",
       "salta                           3300.0   250000.0  1306500.0   \n",
       "chubut                          1000.0   210000.0  1600000.0   \n",
       "san luis                        1500.0   142500.0  1600000.0   \n",
       "la pampa                         800.0   127500.0  1400000.0   \n",
       "formosa                         1200.0        NaN   890696.0   \n",
       "chaco                           2100.0   315000.0  2000000.0   \n",
       "san juan                           NaN   600000.0  1700000.0   \n",
       "tierra del fuego                 300.0   260000.0  1670000.0   \n",
       "catamarca                          NaN   960000.0  1750000.0   \n",
       "jujuy                              NaN   750000.0  1700000.0   \n",
       "santa cruz                         NaN   190000.0  1700000.0   \n",
       "la rioja                           NaN    49000.0  1300000.0   \n",
       "santiago del estero                1.0   230000.0   540000.0   \n",
       "\n",
       "                              cant de propiedades  \n",
       "state_name                                         \n",
       "capital federal                             32316  \n",
       "bs.as. g.b.a. zona norte                    25560  \n",
       "bs.as. g.b.a. zona sur                      13952  \n",
       "córdoba                                     12069  \n",
       "santa fe                                    10172  \n",
       "buenos aires costa atlántica                10006  \n",
       "bs.as. g.b.a. zona oeste                     9322  \n",
       "buenos aires interior                        2291  \n",
       "río negro                                     808  \n",
       "neuquén                                       733  \n",
       "mendoza                                       681  \n",
       "tucumán                                       674  \n",
       "corrientes                                    583  \n",
       "misiones                                      464  \n",
       "entre ríos                                    369  \n",
       "salta                                         278  \n",
       "chubut                                        259  \n",
       "san luis                                      252  \n",
       "la pampa                                      157  \n",
       "formosa                                        65  \n",
       "chaco                                          57  \n",
       "san juan                                       40  \n",
       "tierra del fuego                               31  \n",
       "catamarca                                      27  \n",
       "jujuy                                          26  \n",
       "santa cruz                                     20  \n",
       "la rioja                                        4  \n",
       "santiago del estero                             4  "
      ]
     },
     "execution_count": 13,
     "metadata": {},
     "output_type": "execute_result"
    }
   ],
   "source": [
    "groupby_provincia_price_usd=df[df.currency=='usd'].groupby('state_name')['price'].median()\n",
    "groupby_provincia_price_ars=df[df.currency=='ars'].groupby('state_name')['price'].median()\n",
    "\n",
    "groupby_provincia=df.groupby('state_name')[cols_utiles_sin_price].median()\n",
    "\n",
    "groupby_provincia['price_usd']=groupby_provincia_price_usd\n",
    "groupby_provincia['price_ars']=groupby_provincia_price_ars\n",
    "groupby_provincia['cant de propiedades']=df.groupby('state_name')[cols_utiles_sin_price].count().property_type\n",
    "\n",
    "\n",
    "groupby_provincia.sort_values('cant de propiedades',ascending=False)"
   ]
  },
  {
   "cell_type": "markdown",
   "id": "505d8939-9e42-4fe0-94b9-a4df7c5c8c70",
   "metadata": {},
   "source": [
    "Al agrupar las propiedades por provincia, podemos realizar las siguientes observaciones:\n",
    "\n",
    "*  Las propiedades que se encuentran en capital federal, son las que tienen un precio por metro cuadrado en usd mas alto.\n",
    "\n",
    "*  Las propiedades que se encuentran en jujuy, son las que tienen mayor cantidad de metros cuadrados.\n",
    "\n",
    "*  La mayor cantidad de propiedades en venta, se encuentran en capital federal.\n"
   ]
  },
  {
   "cell_type": "code",
   "execution_count": null,
   "id": "c855270a-2385-4ef7-93f1-bf0688dfde2f",
   "metadata": {},
   "outputs": [],
   "source": []
  },
  {
   "cell_type": "code",
   "execution_count": null,
   "id": "8e8939ae-7222-4719-9dd3-9693b0ed2e5c",
   "metadata": {},
   "outputs": [],
   "source": []
  },
  {
   "cell_type": "markdown",
   "id": "04037b68-5944-401a-9a6c-8f71fa7d1f24",
   "metadata": {},
   "source": [
    "### 6) Analisis de consistencia y calidad de los datos"
   ]
  },
  {
   "cell_type": "markdown",
   "id": "2aebead3-6144-439a-b156-e3bf18484e08",
   "metadata": {},
   "source": [
    "#### Los precios estan en distintas monedas, vamos a llevar todo a usd."
   ]
  },
  {
   "cell_type": "code",
   "execution_count": 14,
   "id": "142c9a3f-1f84-4887-98a9-3a1fef3f2e8a",
   "metadata": {},
   "outputs": [
    {
     "data": {
      "text/plain": [
       "usd    87587\n",
       "ars    13219\n",
       "pen        2\n",
       "uyu        1\n",
       "Name: currency, dtype: int64"
      ]
     },
     "execution_count": 14,
     "metadata": {},
     "output_type": "execute_result"
    }
   ],
   "source": [
    "df.currency.value_counts()"
   ]
  },
  {
   "cell_type": "markdown",
   "id": "b0c0b580-c575-45a5-b900-790d8c9625ab",
   "metadata": {},
   "source": [
    "##### Primero, vamos a estudiar los casos donde currency vale pen y uyu"
   ]
  },
  {
   "cell_type": "code",
   "execution_count": 15,
   "id": "ce7acc10-6dfe-4ae0-958e-553e8a449830",
   "metadata": {},
   "outputs": [
    {
     "data": {
      "text/plain": [
       "['casa con calefacción central, mendoza, san roque, por $ 650.000.000']"
      ]
     },
     "execution_count": 15,
     "metadata": {},
     "output_type": "execute_result"
    }
   ],
   "source": [
    "df_currency_uyu=df[df.currency=='uyu']\n",
    "list(df_currency_uyu.description)"
   ]
  },
  {
   "cell_type": "code",
   "execution_count": 16,
   "id": "3eadb496-e3ff-4b39-bb2f-241d878ed6f3",
   "metadata": {},
   "outputs": [
    {
     "data": {
      "text/html": [
       "<div>\n",
       "<style scoped>\n",
       "    .dataframe tbody tr th:only-of-type {\n",
       "        vertical-align: middle;\n",
       "    }\n",
       "\n",
       "    .dataframe tbody tr th {\n",
       "        vertical-align: top;\n",
       "    }\n",
       "\n",
       "    .dataframe thead th {\n",
       "        text-align: right;\n",
       "    }\n",
       "</style>\n",
       "<table border=\"1\" class=\"dataframe\">\n",
       "  <thead>\n",
       "    <tr style=\"text-align: right;\">\n",
       "      <th></th>\n",
       "      <th>Unnamed: 0</th>\n",
       "      <th>operation</th>\n",
       "      <th>property_type</th>\n",
       "      <th>place_name</th>\n",
       "      <th>place_with_parent_names</th>\n",
       "      <th>country_name</th>\n",
       "      <th>state_name</th>\n",
       "      <th>geonames_id</th>\n",
       "      <th>lat-lon</th>\n",
       "      <th>lat</th>\n",
       "      <th>...</th>\n",
       "      <th>surface_covered_in_m2</th>\n",
       "      <th>price_usd_per_m2</th>\n",
       "      <th>price_per_m2</th>\n",
       "      <th>floor</th>\n",
       "      <th>rooms</th>\n",
       "      <th>expenses</th>\n",
       "      <th>properati_url</th>\n",
       "      <th>description</th>\n",
       "      <th>title</th>\n",
       "      <th>image_thumbnail</th>\n",
       "    </tr>\n",
       "  </thead>\n",
       "  <tbody>\n",
       "    <tr>\n",
       "      <th>107390</th>\n",
       "      <td>107390</td>\n",
       "      <td>sell</td>\n",
       "      <td>house</td>\n",
       "      <td>san roque</td>\n",
       "      <td>|argentina|mendoza|san roque|</td>\n",
       "      <td>argentina</td>\n",
       "      <td>mendoza</td>\n",
       "      <td>3836586.0</td>\n",
       "      <td>NaN</td>\n",
       "      <td>NaN</td>\n",
       "      <td>...</td>\n",
       "      <td>NaN</td>\n",
       "      <td>NaN</td>\n",
       "      <td>NaN</td>\n",
       "      <td>NaN</td>\n",
       "      <td>NaN</td>\n",
       "      <td>NaN</td>\n",
       "      <td>http://www.properati.com.ar/1by0s_venta_casa_s...</td>\n",
       "      <td>casa con calefacción central, mendoza, san roq...</td>\n",
       "      <td>casa - san vicente</td>\n",
       "      <td>https://thumbs4.properati.com/2/pa0rbudkrk6ggv...</td>\n",
       "    </tr>\n",
       "  </tbody>\n",
       "</table>\n",
       "<p>1 rows × 26 columns</p>\n",
       "</div>"
      ],
      "text/plain": [
       "        Unnamed: 0 operation property_type place_name  \\\n",
       "107390      107390      sell         house  san roque   \n",
       "\n",
       "              place_with_parent_names country_name state_name  geonames_id  \\\n",
       "107390  |argentina|mendoza|san roque|    argentina    mendoza    3836586.0   \n",
       "\n",
       "       lat-lon  lat  ...  surface_covered_in_m2  price_usd_per_m2  \\\n",
       "107390     NaN  NaN  ...                    NaN               NaN   \n",
       "\n",
       "       price_per_m2  floor  rooms  expenses  \\\n",
       "107390          NaN    NaN    NaN       NaN   \n",
       "\n",
       "                                            properati_url  \\\n",
       "107390  http://www.properati.com.ar/1by0s_venta_casa_s...   \n",
       "\n",
       "                                              description               title  \\\n",
       "107390  casa con calefacción central, mendoza, san roq...  casa - san vicente   \n",
       "\n",
       "                                          image_thumbnail  \n",
       "107390  https://thumbs4.properati.com/2/pa0rbudkrk6ggv...  \n",
       "\n",
       "[1 rows x 26 columns]"
      ]
     },
     "execution_count": 16,
     "metadata": {},
     "output_type": "execute_result"
    }
   ],
   "source": [
    "df_currency_uyu"
   ]
  },
  {
   "cell_type": "code",
   "execution_count": 17,
   "id": "8237972b-cde9-4996-8157-4161e679927a",
   "metadata": {},
   "outputs": [
    {
     "data": {
      "text/plain": [
       "price       650000000.0\n",
       "currency            ars\n",
       "Name: 107390, dtype: object"
      ]
     },
     "execution_count": 17,
     "metadata": {},
     "output_type": "execute_result"
    }
   ],
   "source": [
    "#Entonces vamos a imputarle el valor de price = $ 650.000.000, con currency='ars'\n",
    "df.loc[107390,'price']=650000000\n",
    "df.loc[107390,'currency']='ars'\n",
    "df.loc[107390,['price','currency']]"
   ]
  },
  {
   "cell_type": "code",
   "execution_count": 18,
   "id": "235705f9-0e13-426a-a17c-00ba5ab32562",
   "metadata": {},
   "outputs": [
    {
     "data": {
      "text/plain": [
       "['ref.: 55:preventa ::: oportunidad ::: dúplex a entregarse en 20 meses de 47m2, pequeño patio. con todos los artefactos.- departamento de 1 dormitorios con patio, cochera y parrilla entrega: $380.000 + 24 cuotas de $24.000 ( ) departamento de 1 dormitorio con patio, sin cochera entrega: $350.000 + 24 cuotas de $22.000 (  ) (  ) cuotas ajustadas al indice de la construcción.-  ',\n",
       " 'ref.: 56duplex en venta de 1 dormitorio con aproximadamente 50m2 c/u hay 3 departamentos en venta, todos con cocina, termotanque y calefactores. ']"
      ]
     },
     "execution_count": 18,
     "metadata": {},
     "output_type": "execute_result"
    }
   ],
   "source": [
    "list(df[df.currency=='pen'].description)"
   ]
  },
  {
   "cell_type": "code",
   "execution_count": null,
   "id": "3baa8e80-c645-4c59-a061-f4a67a6ab0fa",
   "metadata": {},
   "outputs": [],
   "source": []
  },
  {
   "cell_type": "markdown",
   "id": "505eda57-c8db-4f16-b19a-9f00cc0ecf62",
   "metadata": {},
   "source": [
    "En este caso, para el primer inmueble, tomamos el valor con cochera y nos daria un total de $1.239.063,536, con currency='ars', y tomando para las cuotas un indice CAC = 19.10% y 50.45% para 2017 y 2018. Tambien asumimos que el valor 47m2 refiere a la superficie cubierta en metros cuadrados\n",
    "\n",
    "\n",
    "https://ikiwi.net.ar/indice-cac/#Expandocac2017 "
   ]
  },
  {
   "cell_type": "code",
   "execution_count": 19,
   "id": "9b958145-bab1-4f3c-9d79-c607f7c62481",
   "metadata": {},
   "outputs": [
    {
     "data": {
      "text/plain": [
       "price                    12390635.36\n",
       "currency                         ars\n",
       "surface_covered_in_m2           47.0\n",
       "Name: 50387, dtype: object"
      ]
     },
     "execution_count": 19,
     "metadata": {},
     "output_type": "execute_result"
    }
   ],
   "source": [
    "df.loc[50387,'price']=12390635.36\n",
    "df.loc[50387,'currency']='ars'\n",
    "df.loc[50387,'surface_covered_in_m2']=47\n",
    "\n",
    "df.loc[50387,['price','currency','surface_covered_in_m2']]"
   ]
  },
  {
   "cell_type": "code",
   "execution_count": null,
   "id": "fd64a33e-2aed-4d49-bfbd-fc5be6299efe",
   "metadata": {},
   "outputs": [],
   "source": []
  },
  {
   "cell_type": "markdown",
   "id": "45b98258-cfeb-4f10-9f3f-82810ddec2e3",
   "metadata": {},
   "source": [
    "El segundo caso, es un poco confusa la descripcion, asi que tomamos el criterio de dropearlo."
   ]
  },
  {
   "cell_type": "code",
   "execution_count": 20,
   "id": "9a6df6d2-6d86-4e8f-9721-b834c5673c45",
   "metadata": {},
   "outputs": [
    {
     "data": {
      "text/html": [
       "<div>\n",
       "<style scoped>\n",
       "    .dataframe tbody tr th:only-of-type {\n",
       "        vertical-align: middle;\n",
       "    }\n",
       "\n",
       "    .dataframe tbody tr th {\n",
       "        vertical-align: top;\n",
       "    }\n",
       "\n",
       "    .dataframe thead th {\n",
       "        text-align: right;\n",
       "    }\n",
       "</style>\n",
       "<table border=\"1\" class=\"dataframe\">\n",
       "  <thead>\n",
       "    <tr style=\"text-align: right;\">\n",
       "      <th></th>\n",
       "      <th>Unnamed: 0</th>\n",
       "      <th>operation</th>\n",
       "      <th>property_type</th>\n",
       "      <th>place_name</th>\n",
       "      <th>place_with_parent_names</th>\n",
       "      <th>country_name</th>\n",
       "      <th>state_name</th>\n",
       "      <th>geonames_id</th>\n",
       "      <th>lat-lon</th>\n",
       "      <th>lat</th>\n",
       "      <th>...</th>\n",
       "      <th>surface_covered_in_m2</th>\n",
       "      <th>price_usd_per_m2</th>\n",
       "      <th>price_per_m2</th>\n",
       "      <th>floor</th>\n",
       "      <th>rooms</th>\n",
       "      <th>expenses</th>\n",
       "      <th>properati_url</th>\n",
       "      <th>description</th>\n",
       "      <th>title</th>\n",
       "      <th>image_thumbnail</th>\n",
       "    </tr>\n",
       "  </thead>\n",
       "  <tbody>\n",
       "    <tr>\n",
       "      <th>50388</th>\n",
       "      <td>50388</td>\n",
       "      <td>sell</td>\n",
       "      <td>apartment</td>\n",
       "      <td>capital federal</td>\n",
       "      <td>|argentina|capital federal|</td>\n",
       "      <td>argentina</td>\n",
       "      <td>capital federal</td>\n",
       "      <td>3433955.0</td>\n",
       "      <td>NaN</td>\n",
       "      <td>NaN</td>\n",
       "      <td>...</td>\n",
       "      <td>NaN</td>\n",
       "      <td>NaN</td>\n",
       "      <td>NaN</td>\n",
       "      <td>NaN</td>\n",
       "      <td>NaN</td>\n",
       "      <td>NaN</td>\n",
       "      <td>http://www.properati.com.ar/19e90_venta_depart...</td>\n",
       "      <td>ref.: 56duplex en venta de 1 dormitorio con ap...</td>\n",
       "      <td>duplex a la venta | liniers 1200 | tandil</td>\n",
       "      <td>https://thumbs4.properati.com/8/_cbxayr_9pdysg...</td>\n",
       "    </tr>\n",
       "  </tbody>\n",
       "</table>\n",
       "<p>1 rows × 26 columns</p>\n",
       "</div>"
      ],
      "text/plain": [
       "       Unnamed: 0 operation property_type       place_name  \\\n",
       "50388       50388      sell     apartment  capital federal   \n",
       "\n",
       "           place_with_parent_names country_name       state_name  geonames_id  \\\n",
       "50388  |argentina|capital federal|    argentina  capital federal    3433955.0   \n",
       "\n",
       "      lat-lon  lat  ...  surface_covered_in_m2  price_usd_per_m2 price_per_m2  \\\n",
       "50388     NaN  NaN  ...                    NaN               NaN          NaN   \n",
       "\n",
       "       floor  rooms  expenses  \\\n",
       "50388    NaN    NaN       NaN   \n",
       "\n",
       "                                           properati_url  \\\n",
       "50388  http://www.properati.com.ar/19e90_venta_depart...   \n",
       "\n",
       "                                             description  \\\n",
       "50388  ref.: 56duplex en venta de 1 dormitorio con ap...   \n",
       "\n",
       "                                           title  \\\n",
       "50388  duplex a la venta | liniers 1200 | tandil   \n",
       "\n",
       "                                         image_thumbnail  \n",
       "50388  https://thumbs4.properati.com/8/_cbxayr_9pdysg...  \n",
       "\n",
       "[1 rows x 26 columns]"
      ]
     },
     "execution_count": 20,
     "metadata": {},
     "output_type": "execute_result"
    }
   ],
   "source": [
    "df[df.currency=='pen']"
   ]
  },
  {
   "cell_type": "code",
   "execution_count": 21,
   "id": "470c3bf5-d25e-49cf-bc97-2f64f60a9ba1",
   "metadata": {},
   "outputs": [],
   "source": [
    "df.drop(index=50388, inplace=True)\n",
    "df.reset_index(drop=True,inplace=True)"
   ]
  },
  {
   "cell_type": "code",
   "execution_count": null,
   "id": "1a51b106-7b14-43b1-bafc-424166fd50d1",
   "metadata": {},
   "outputs": [],
   "source": [
    "### ACA ME QUEDEEEEEEEEEEEEE, SEGUIRRRRR, VIENDO SI PUEDO TRANSFORMAR TODO A USD O TENGO QUE SEGUIR TRABAJANDO EN ARS Y USD\n",
    "\n",
    "aaa"
   ]
  },
  {
   "cell_type": "code",
   "execution_count": 24,
   "id": "6788be4b-38f8-426a-9e83-a5251f1aac3e",
   "metadata": {},
   "outputs": [
    {
     "data": {
      "text/html": [
       "<div>\n",
       "<style scoped>\n",
       "    .dataframe tbody tr th:only-of-type {\n",
       "        vertical-align: middle;\n",
       "    }\n",
       "\n",
       "    .dataframe tbody tr th {\n",
       "        vertical-align: top;\n",
       "    }\n",
       "\n",
       "    .dataframe thead th {\n",
       "        text-align: right;\n",
       "    }\n",
       "</style>\n",
       "<table border=\"1\" class=\"dataframe\">\n",
       "  <thead>\n",
       "    <tr style=\"text-align: right;\">\n",
       "      <th></th>\n",
       "      <th>property_type</th>\n",
       "      <th>place_name</th>\n",
       "      <th>place_with_parent_names</th>\n",
       "      <th>state_name</th>\n",
       "      <th>price</th>\n",
       "      <th>currency</th>\n",
       "      <th>price_aprox_local_currency</th>\n",
       "      <th>price_aprox_usd</th>\n",
       "      <th>surface_total_in_m2</th>\n",
       "      <th>surface_covered_in_m2</th>\n",
       "      <th>price_usd_per_m2</th>\n",
       "      <th>price_per_m2</th>\n",
       "      <th>floor</th>\n",
       "      <th>rooms</th>\n",
       "      <th>expenses</th>\n",
       "      <th>description</th>\n",
       "    </tr>\n",
       "  </thead>\n",
       "  <tbody>\n",
       "    <tr>\n",
       "      <th>0</th>\n",
       "      <td>ph</td>\n",
       "      <td>mataderos</td>\n",
       "      <td>|argentina|capital federal|mataderos|</td>\n",
       "      <td>capital federal</td>\n",
       "      <td>62000.0</td>\n",
       "      <td>usd</td>\n",
       "      <td>1093959.0</td>\n",
       "      <td>62000.0</td>\n",
       "      <td>55.0</td>\n",
       "      <td>40.0</td>\n",
       "      <td>1127.272727</td>\n",
       "      <td>1550.0</td>\n",
       "      <td>NaN</td>\n",
       "      <td>NaN</td>\n",
       "      <td>NaN</td>\n",
       "      <td>2 ambientes tipo casa planta baja por pasillo,...</td>\n",
       "    </tr>\n",
       "  </tbody>\n",
       "</table>\n",
       "</div>"
      ],
      "text/plain": [
       "  property_type place_name                place_with_parent_names  \\\n",
       "0            ph  mataderos  |argentina|capital federal|mataderos|   \n",
       "\n",
       "        state_name    price currency  price_aprox_local_currency  \\\n",
       "0  capital federal  62000.0      usd                   1093959.0   \n",
       "\n",
       "   price_aprox_usd  surface_total_in_m2  surface_covered_in_m2  \\\n",
       "0          62000.0                 55.0                   40.0   \n",
       "\n",
       "   price_usd_per_m2  price_per_m2  floor  rooms  expenses  \\\n",
       "0       1127.272727        1550.0    NaN    NaN       NaN   \n",
       "\n",
       "                                         description  \n",
       "0  2 ambientes tipo casa planta baja por pasillo,...  "
      ]
     },
     "execution_count": 24,
     "metadata": {},
     "output_type": "execute_result"
    }
   ],
   "source": [
    "df[cols_utiles].head(1)"
   ]
  },
  {
   "cell_type": "code",
   "execution_count": null,
   "id": "06917d0d-e2d5-49ca-9f99-43dd2382438e",
   "metadata": {},
   "outputs": [],
   "source": []
  },
  {
   "cell_type": "code",
   "execution_count": null,
   "id": "e0cb96f0-5789-4656-a0cf-b8973529c282",
   "metadata": {},
   "outputs": [],
   "source": []
  },
  {
   "cell_type": "code",
   "execution_count": null,
   "id": "4929f18d-e95b-42f7-903d-c671d4cd726f",
   "metadata": {},
   "outputs": [],
   "source": [
    "price_per_m2:\n",
    "    currency=usd\n",
    "        price_per_m2 = price/surface_covered_in_m2\n",
    "        Si coinciden surface_covered_in_m2 y surface_total_in_m2, entonces price_per_m2 == price_usd_per_m2\n",
    "    currency=ars\n",
    "        price_per_m2=price/surface_covered_in_m2(apartment and house), hay que chequear con store\n",
    "        Si coinciden surface_covered_in_m2 y surface_total_in_m2, entonces price_usd_per_m2 == 17.830501*price_per_m2\n",
    "    currency=uyu\n",
    "        segun la descripcion, hay q ponerle price=650.000.000 y currency=ars\n",
    "    currency=pen\n",
    "        Segun la descripcion es un departamento de pozo, con cochera, lo vamos a tomar $956.000, currency=ars, \n",
    "        tomamos la superficie que nos dice como surface_covered_in_m2=47m2."
   ]
  },
  {
   "cell_type": "code",
   "execution_count": null,
   "id": "28fac433-6994-4087-8aad-adfeeb65a178",
   "metadata": {},
   "outputs": [],
   "source": []
  },
  {
   "cell_type": "code",
   "execution_count": null,
   "id": "f6be192f-fc86-45f0-b6f2-048bcfb57198",
   "metadata": {},
   "outputs": [],
   "source": []
  },
  {
   "cell_type": "code",
   "execution_count": null,
   "id": "338af603-42df-45da-b0ae-22939ba4940a",
   "metadata": {},
   "outputs": [],
   "source": []
  },
  {
   "cell_type": "code",
   "execution_count": null,
   "id": "b13d7cea-387d-4c31-be29-332d4f58c47c",
   "metadata": {},
   "outputs": [],
   "source": []
  },
  {
   "cell_type": "markdown",
   "id": "409bd4fa-8949-4e38-b9d5-376c8d0c7275",
   "metadata": {},
   "source": [
    "### Floor"
   ]
  },
  {
   "cell_type": "markdown",
   "id": "b9c10b42-9117-4f6a-9937-fed5c8a07eac",
   "metadata": {},
   "source": [
    "Sabemos que los departamentos que se encuentran en los pisos superiores de los edificios, suelen tener precios superiores a los que se encuentran cerca de la planta baja, pero nuestra columna floor, esta muy vacia, vamos a ver si podemos completarla con la informacion que encontramos en la columna 'description'"
   ]
  },
  {
   "cell_type": "code",
   "execution_count": null,
   "id": "6d179818-182b-4084-8454-054c69123a1c",
   "metadata": {},
   "outputs": [],
   "source": [
    "df.property_type.value_counts()"
   ]
  },
  {
   "cell_type": "code",
   "execution_count": null,
   "id": "968e2f90-2de6-45b1-8a52-75b71cdd2564",
   "metadata": {
    "tags": []
   },
   "outputs": [],
   "source": [
    "departamento_mask = df.property_type=='apartment'\n",
    "patron_piso = re.compile(r'(\\d+(º)?(\\s)?(piso))|((piso)(\\s)?\\d+(º)?)')\n",
    "\n",
    "encuentra_piso=df.loc[departamento_mask,'description'].apply(lambda x: re.search(patron_piso,str(x)))\n",
    "\n",
    "encuentra_piso_mask=encuentra_piso.notnull()\n",
    "\n",
    "pisos=encuentra_piso[encuentra_piso_mask].apply(lambda x: x.group())\n"
   ]
  },
  {
   "cell_type": "code",
   "execution_count": null,
   "id": "51c3ee10-6cc3-4de5-b1c5-875d6da861c7",
   "metadata": {
    "tags": []
   },
   "outputs": [],
   "source": [
    "# pisos.shape\n",
    "pisos.sample(10)"
   ]
  },
  {
   "cell_type": "markdown",
   "id": "f0bceedf-b567-4a37-92b5-fb87410ba5ef",
   "metadata": {},
   "source": [
    "Nuestro REGEX matchea dentro de todo bastante bien, solo debemos filtrar algunos valores altos. Pero primero, vamos a filtrar y convertir a int, nuestra variable pisos"
   ]
  },
  {
   "cell_type": "code",
   "execution_count": null,
   "id": "84d8d5b9-c7f0-4238-9506-819e00202d69",
   "metadata": {},
   "outputs": [],
   "source": [
    "pisos_sin_piso=pisos.replace(\"piso\",\" \",regex=True)\n",
    "pisos_sin_piso = pisos_sin_piso.apply(lambda x: str(x).strip())\n",
    "pisos_clean_str = pisos_sin_piso.replace(\"º\",\"\",regex=True)\n",
    "pisos_int = pisos_clean_str.apply(lambda y: int(y))\n",
    "pisos_int.sample(5)"
   ]
  },
  {
   "cell_type": "markdown",
   "id": "8a1bc553-da9f-4244-8b9f-49c5c6a1c447",
   "metadata": {},
   "source": [
    "Ahora, voy a intentar sacarme de encima a los pocos valores que el regex me tomo por error, primero defino con mi criterio, que los edificios no pueden tener mas de 40 pisos"
   ]
  },
  {
   "cell_type": "code",
   "execution_count": null,
   "id": "e85adec1-32a4-4451-86aa-047d1dc7d5b2",
   "metadata": {},
   "outputs": [],
   "source": [
    "pisos_filtrado_mask = pisos_int <= 50\n",
    "\n",
    "pisos_filtrado_menor50=pisos_int[pisos_filtrado_mask]"
   ]
  },
  {
   "cell_type": "code",
   "execution_count": null,
   "id": "4603bd9f-6308-40a5-913e-61de341d344e",
   "metadata": {},
   "outputs": [],
   "source": [
    "g=sns.histplot(pisos_filtrado_menor50)\n",
    "sns.set(rc = {'figure.figsize':(15,6)})\n",
    "g.set_title(\"DISTRIBUCION DE LOS DEPARTAMENTOS SEGUN LOS PISOS\", fontsize = 17)\n",
    "g.set_xlabel(\"PISO DE LA PROPIEDAD\", fontsize = 15)\n",
    "g.set_ylabel(\"CANTIDAD DE DEPARTAMENTOS\", fontsize = 15)"
   ]
  },
  {
   "cell_type": "markdown",
   "id": "799b5b2a-9f0a-45f9-93d4-e3b2d9ad552b",
   "metadata": {},
   "source": [
    "La gran mayoria de los departamentos, rondan entre el 2do y 10mo piso"
   ]
  },
  {
   "cell_type": "code",
   "execution_count": null,
   "id": "dc4cc48c-1770-46ce-a9c0-f4bbe8601171",
   "metadata": {},
   "outputs": [],
   "source": [
    "pisos_filtrado_menor50.median()"
   ]
  },
  {
   "cell_type": "markdown",
   "id": "9f8e79af-1394-455a-b713-89742ceb813e",
   "metadata": {},
   "source": [
    "Porcentaje de valores faltantes en floor para viviendas tipo departamento"
   ]
  },
  {
   "cell_type": "code",
   "execution_count": null,
   "id": "683a7638-48a7-4a16-a17b-de365aa06d86",
   "metadata": {},
   "outputs": [],
   "source": [
    "df.floor[departamento_mask].isnull().sum()/df.floor[departamento_mask].shape[0]*100"
   ]
  },
  {
   "cell_type": "markdown",
   "id": "49382bea-4a41-4b27-8b63-1fb1c8ab664d",
   "metadata": {},
   "source": [
    "Ahora con estos valores de pisos, voy a imputar mi columna floor, en las filas donde property_type sea apartment y floor tenga valor nan"
   ]
  },
  {
   "cell_type": "code",
   "execution_count": null,
   "id": "0a015b9d-7441-4887-9557-9c70c807cbc1",
   "metadata": {},
   "outputs": [],
   "source": [
    "null_floor_mask = df.floor.isnull()\n",
    "departamento_mask\n",
    "departamento_y_floor_null=np.logical_and(departamento_mask,null_floor_mask)\n",
    "\n",
    "df.loc[departamento_y_floor_null,'floor']=pisos_filtrado_menor50"
   ]
  },
  {
   "cell_type": "code",
   "execution_count": null,
   "id": "632997de-1ebd-4eb8-acc1-12b3a5a71628",
   "metadata": {},
   "outputs": [],
   "source": [
    "df.floor[departamento_mask].isnull().sum()/df.floor[departamento_mask].shape[0]*100"
   ]
  },
  {
   "cell_type": "code",
   "execution_count": null,
   "id": "c6764a53-c101-47c9-ad2c-ec0ef7a00fda",
   "metadata": {},
   "outputs": [],
   "source": []
  },
  {
   "cell_type": "markdown",
   "id": "2fde1e40-141d-4dcd-8baa-565fbfcc0c4e",
   "metadata": {},
   "source": [
    "Bajo el porcentaje de nulos, pero aun sigue siendo muy alto para tomar esta columna como relevante."
   ]
  },
  {
   "cell_type": "code",
   "execution_count": null,
   "id": "f6751479-f40b-4209-96b1-38fa50f0897a",
   "metadata": {},
   "outputs": [],
   "source": []
  },
  {
   "cell_type": "markdown",
   "id": "7b2b65ac-532b-4f4e-a550-3f375b63294e",
   "metadata": {},
   "source": [
    "### Rooms"
   ]
  },
  {
   "cell_type": "markdown",
   "id": "eae1b50e-268d-4c3f-a47f-49eba41e317c",
   "metadata": {},
   "source": [
    "Es posible que la cantidad de ambientes en los departamentos, que se encuentren en la misma zona (place_name), influya en el valor del inmueble, pero tenemos un 60.9% de columnas Null, veremos si podemos obtener alguna informacion de la columna description, como hicimos con floor."
   ]
  },
  {
   "cell_type": "code",
   "execution_count": null,
   "id": "1ca7a1d5-0e25-465a-a64e-ef7fb845d41a",
   "metadata": {},
   "outputs": [],
   "source": [
    "patron_ambientes = re.compile(r'\\d+(\\s)?(ambiente(s)?)|\\d+(\\s)?(amb(\\.)?)')\n",
    "\n",
    "\n",
    "encuentra_ambientes=df.loc[departamento_mask,'description'].apply(lambda x: re.search(patron_ambientes,str(x)))\n",
    "\n",
    "encuentra_ambientes_mask=encuentra_ambientes.notnull()\n",
    "\n",
    "ambientes=encuentra_ambientes[encuentra_ambientes_mask].apply(lambda x: x.group())\n",
    "ambientes.sample(30)\n",
    "# ambientes.shape\n",
    "ambientes.value_counts()"
   ]
  },
  {
   "cell_type": "markdown",
   "id": "575fefb1-edc2-4711-8f11-3c5988c87944",
   "metadata": {},
   "source": [
    "Podemos ver que nuestro Regex funciono bastante bien, pero hay alguno valores que hay que filtrar, para esto primero vamos a convertir a dato numerico "
   ]
  },
  {
   "cell_type": "code",
   "execution_count": null,
   "id": "8ee969f7-8a37-4dce-8743-818ff7f18c18",
   "metadata": {},
   "outputs": [],
   "source": [
    "ambientes_sin_ambientes=ambientes.replace(\"ambientes\",\" \",regex=True)\n",
    "ambientes_sin_ambientes_sin_ambiente=ambientes_sin_ambientes.replace(\"ambiente\",\" \",regex=True)\n",
    "ambientes_sin_ambientes_sin_ambiente_sin_amb=ambientes_sin_ambientes_sin_ambiente.replace(\"amb(\\.)?\",\" \",regex=True)\n",
    "\n",
    "ambientes_clean_str = ambientes_sin_ambientes_sin_ambiente_sin_amb.apply(lambda x: str(x).strip())\n",
    "ambientes_int = ambientes_clean_str.apply(lambda y: int(y))\n",
    "ambientes_int.sample(5)"
   ]
  },
  {
   "cell_type": "code",
   "execution_count": null,
   "id": "c1afd88c-29b1-4cf1-a979-71c92c527cc5",
   "metadata": {},
   "outputs": [],
   "source": []
  },
  {
   "cell_type": "markdown",
   "id": "564a9173-8f0d-4eee-92dd-c1f2f746c8db",
   "metadata": {},
   "source": [
    "Voy a tomar un criterio de que mas de 10 ambientes, en un departamento, es un valor incorrecto"
   ]
  },
  {
   "cell_type": "code",
   "execution_count": null,
   "id": "51c9a7b3-7ac1-4464-963b-9b02def6ddda",
   "metadata": {},
   "outputs": [],
   "source": [
    "ambientes_menor_10=ambientes_int<10\n",
    "ambientes_clean=ambientes_int[ambientes_menor_10]"
   ]
  },
  {
   "cell_type": "code",
   "execution_count": null,
   "id": "a18199a5-0ee0-4f38-844e-362f17536b07",
   "metadata": {},
   "outputs": [],
   "source": [
    "g1=sns.histplot(ambientes_clean)\n",
    "sns.set(rc = {'figure.figsize':(15,6)})\n",
    "g1.set_title(\"CANTIDAD DE DEPARTAMENTOS EN FUNCION DE SU N DE AMBIENTES\", fontsize = 17)\n",
    "g1.set_xlabel(\"Nº AMBIENTES\", fontsize = 15)\n",
    "g1.set_ylabel(\"CANTIDAD DE DEPARTAMENTOS\", fontsize = 15)"
   ]
  },
  {
   "cell_type": "markdown",
   "id": "39d9b3fc-7b0c-478a-9c67-9b6de59e1fec",
   "metadata": {},
   "source": [
    "Podemos observar que la gran mayoria de los departamentos en venta, tienen 2 y 3 ambientes"
   ]
  },
  {
   "cell_type": "code",
   "execution_count": null,
   "id": "42473cb4-9f06-48ae-a03a-5f51043d1a6d",
   "metadata": {},
   "outputs": [],
   "source": []
  },
  {
   "cell_type": "code",
   "execution_count": null,
   "id": "3c2c9866-d47c-46ef-a5c4-0e3b9aca8f4e",
   "metadata": {},
   "outputs": [],
   "source": []
  },
  {
   "cell_type": "markdown",
   "id": "7c344e69-e013-4cc1-bf85-2598fde022ee",
   "metadata": {},
   "source": [
    "Porcentaje de valores faltantes en la columna rooms, para viviendas tipo departamento."
   ]
  },
  {
   "cell_type": "code",
   "execution_count": null,
   "id": "76f3369f-b24a-42ca-8bf0-092a2b4d3da9",
   "metadata": {},
   "outputs": [],
   "source": [
    "df.rooms[departamento_mask].isnull().sum()/df.rooms[departamento_mask].shape[0]*100"
   ]
  },
  {
   "cell_type": "markdown",
   "id": "742afded-fd3a-4154-a353-731a3230b6ad",
   "metadata": {},
   "source": [
    "Ahora vamos a imputar con ambientes_clean, algunos de los valores faltantes de rooms"
   ]
  },
  {
   "cell_type": "code",
   "execution_count": null,
   "id": "a3fd1fa8-b9fa-44bc-9858-1be059faf667",
   "metadata": {},
   "outputs": [],
   "source": [
    "rooms_null_mask=df.rooms.isnull()\n",
    "departamento_rooms_null_mask = np.logical_and(rooms_null_mask,departamento_mask)\n",
    "\n",
    "df.loc[departamento_rooms_null_mask,'rooms']=ambientes_clean\n",
    "\n",
    "df.rooms[departamento_mask].isnull().sum()/df.rooms[departamento_mask].shape[0]*100"
   ]
  },
  {
   "cell_type": "markdown",
   "id": "464b5b96-697b-4a05-9774-c67b59441cd6",
   "metadata": {},
   "source": [
    "Podemos ver como bajamos casi un 20% el valor de NaN rows en los inmuebles tipo departamento"
   ]
  },
  {
   "cell_type": "code",
   "execution_count": null,
   "id": "d573964c-8c66-4c53-b720-5d83866f0d58",
   "metadata": {},
   "outputs": [],
   "source": []
  },
  {
   "cell_type": "code",
   "execution_count": null,
   "id": "c7f93351-6c0a-424b-a40c-cdbefd0ee527",
   "metadata": {},
   "outputs": [],
   "source": []
  },
  {
   "cell_type": "code",
   "execution_count": null,
   "id": "de1158de-7802-4018-ac84-09536ce839c0",
   "metadata": {},
   "outputs": [],
   "source": []
  },
  {
   "cell_type": "markdown",
   "id": "4ba9b885-ae23-4274-82a1-cf647195c2cd",
   "metadata": {},
   "source": [
    "### Cocheras"
   ]
  },
  {
   "cell_type": "markdown",
   "id": "a8c9758d-a722-4eec-b960-877d7f8434af",
   "metadata": {},
   "source": [
    "Vamos a filtrar los departamentos que tengan cochera, para estudiar si el precio por m2 aumenta en estos casos."
   ]
  },
  {
   "cell_type": "code",
   "execution_count": null,
   "id": "241cc24e-37a8-462e-8453-5c885ad66fac",
   "metadata": {},
   "outputs": [],
   "source": [
    "df_departamentos = df[departamento_mask]\n",
    "\n",
    "patron_cochera = re.compile(r'cochera(s)?|garage(s)?|garaje(s)?')\n",
    "\n",
    "encuentra_cochera=df.loc[departamento_mask,'description'].apply(lambda x: re.search(patron_cochera,str(x)))\n",
    "\n",
    "departamentos_con_cochera_mask=encuentra_cochera.notnull()\n",
    "\n",
    "\n",
    "departamentos_con_cochera = df_departamentos[departamentos_con_cochera_mask]\n",
    "departamentos_con_cochera.sample(3)"
   ]
  },
  {
   "cell_type": "code",
   "execution_count": null,
   "id": "d7b9b202-b0b4-4391-b51b-144b5fd3f9d1",
   "metadata": {},
   "outputs": [],
   "source": []
  },
  {
   "cell_type": "code",
   "execution_count": null,
   "id": "7981d161-675b-4d3d-9251-985f63c4c79a",
   "metadata": {},
   "outputs": [],
   "source": []
  },
  {
   "cell_type": "markdown",
   "id": "6943e3d7-d1dd-4a42-82e4-7a33f889e028",
   "metadata": {},
   "source": [
    "### Expenses"
   ]
  },
  {
   "cell_type": "code",
   "execution_count": null,
   "id": "7d8fb3ba-7dd7-46d2-8722-426647794d54",
   "metadata": {},
   "outputs": [],
   "source": []
  },
  {
   "cell_type": "markdown",
   "id": "e65d5850-f06b-4611-85cf-9dcc061b3f16",
   "metadata": {},
   "source": [
    "## Piscinas"
   ]
  },
  {
   "cell_type": "markdown",
   "id": "16bfd920-cae5-48f4-bfe7-c11b0f78d78c",
   "metadata": {},
   "source": [
    "Vamos a ver de todas las propiedades, cuales tienen pileta, para ver si esto afecta al valor por metro cuadrado de la propiedad"
   ]
  },
  {
   "cell_type": "code",
   "execution_count": null,
   "id": "875e05ae-2e3c-4072-833a-7b20d763bfb8",
   "metadata": {},
   "outputs": [],
   "source": [
    "patron_pileta = re.compile(r'piscina|pileta')\n",
    "\n",
    "encuentra_pileta=df['description'].apply(lambda x: re.search(patron_pileta,str(x)))\n",
    "\n",
    "inmuebles_con_pileta_mask=encuentra_pileta.notnull()\n",
    "\n",
    "\n",
    "inmuebles_con_pileta = df[inmuebles_con_pileta_mask]"
   ]
  },
  {
   "cell_type": "code",
   "execution_count": null,
   "id": "0caae16f-c7e8-4707-8014-3440d49dd51e",
   "metadata": {},
   "outputs": [],
   "source": [
    "list(inmuebles_con_pileta.description.sample(1))"
   ]
  },
  {
   "cell_type": "code",
   "execution_count": null,
   "id": "f91016e1-6bdc-44df-b663-ee27ceb2856e",
   "metadata": {},
   "outputs": [],
   "source": []
  },
  {
   "cell_type": "code",
   "execution_count": null,
   "id": "378e612d-fcdf-4da6-b138-863232bd330e",
   "metadata": {},
   "outputs": [],
   "source": []
  },
  {
   "cell_type": "code",
   "execution_count": null,
   "id": "a9a39872-5439-49a7-8da6-fc4e43e7b814",
   "metadata": {},
   "outputs": [],
   "source": []
  },
  {
   "cell_type": "markdown",
   "id": "0d191eb0-8fe4-470c-b605-2f3ff6902a80",
   "metadata": {},
   "source": [
    "## Filtrado de columnas con demasiados elementos faltantes, que puedan producirnos un bias muy alto si queremos imputarlas de alguna manera"
   ]
  },
  {
   "cell_type": "markdown",
   "id": "2a2f8154-01f5-4bc2-ad2d-e2e234502702",
   "metadata": {},
   "source": [
    "Vamos a quedarnos con aquellas columnas que por lo menos tengan el 60% de los valores sin NaN."
   ]
  },
  {
   "cell_type": "code",
   "execution_count": null,
   "id": "36eab8e4-adb2-4fa0-ba74-ec29508505c0",
   "metadata": {},
   "outputs": [],
   "source": [
    "threshold= df.shape[0]*0.6\n",
    "df_cols_utiles = df[cols_utiles].dropna(thresh = threshold ,axis=1)"
   ]
  },
  {
   "cell_type": "code",
   "execution_count": null,
   "id": "566fdc42-36db-40d6-8de1-4d0d80938e80",
   "metadata": {
    "tags": []
   },
   "outputs": [],
   "source": [
    "df_cols_utiles.shape[1]"
   ]
  },
  {
   "cell_type": "code",
   "execution_count": null,
   "id": "e04c81ad-9d2d-4e5d-b657-74b5e25f5858",
   "metadata": {},
   "outputs": [],
   "source": [
    "len(cols_utiles)"
   ]
  },
  {
   "cell_type": "markdown",
   "id": "83c9774f-aa91-44a8-b09c-4d0f5be91a14",
   "metadata": {},
   "source": [
    "De esta manera, dropeamos las columnas 'rooms', 'floor', 'expenses', 'price_usd_per_m2'"
   ]
  },
  {
   "cell_type": "code",
   "execution_count": null,
   "id": "aa4a39ad-5589-46de-8fc1-3c8771e9cde5",
   "metadata": {},
   "outputs": [],
   "source": [
    "df_cols_utiles.isnull().sum()/df_cols_utiles.shape[0]*100"
   ]
  },
  {
   "cell_type": "markdown",
   "id": "c4104cbb-76cb-46fa-be8f-9fc1808650f1",
   "metadata": {},
   "source": [
    "Dado que 'price_usd_per_m2', está muy cerca del umbral, veremos si tiene alguna utilidad con nuestra variable mas relevante o podemos descartarlo directamente."
   ]
  },
  {
   "cell_type": "code",
   "execution_count": null,
   "id": "53cfcab5-82ce-416a-8a43-95f7caf736be",
   "metadata": {},
   "outputs": [],
   "source": [
    "notnull_price_usd_per_m2_mask=df['price_usd_per_m2'].notnull()\n",
    "null_price_per_m2_mask = df['price_per_m2'].isnull()\n",
    "\n",
    "(notnull_price_usd_per_m2_mask==null_price_per_m2_mask).any()\n",
    "#Hay alguna fila donde price_usd_per_m2, tenga un valor util y price_per_m2, sea NaN?"
   ]
  },
  {
   "cell_type": "markdown",
   "id": "ef23c0ef-7ce6-4c4c-b542-5f30ff3823e2",
   "metadata": {},
   "source": [
    "Debido a la proximidad con el umbral que fijamos, y que puede aportarnos informacion util, vamos a cambiar el umbral al 55% de valores utiles, para no perder 'price_usd_per_m2'"
   ]
  },
  {
   "cell_type": "code",
   "execution_count": null,
   "id": "b773b2fc-4ede-4e27-adc0-70634f8bb7fc",
   "metadata": {},
   "outputs": [],
   "source": [
    "threshold2= df.shape[0]*0.55\n",
    "df_cols_utiles2 = df[cols_utiles].dropna(thresh = threshold2 ,axis=1)"
   ]
  },
  {
   "cell_type": "code",
   "execution_count": null,
   "id": "2c8e0a28-d408-45be-bd8e-44651fe99a22",
   "metadata": {},
   "outputs": [],
   "source": [
    "df_cols_utiles2.isnull().sum()/df_cols_utiles2.shape[0]*100"
   ]
  },
  {
   "cell_type": "code",
   "execution_count": null,
   "id": "4a14ed98-97ad-4f98-979b-3edbd063be6f",
   "metadata": {},
   "outputs": [],
   "source": [
    "df_cols_utiles2.sample(5)"
   ]
  },
  {
   "cell_type": "code",
   "execution_count": null,
   "id": "b82da1ac-daaf-4ea2-a7e8-61bd3cf36820",
   "metadata": {},
   "outputs": [],
   "source": []
  },
  {
   "cell_type": "markdown",
   "id": "cc6c69be-725e-4958-b563-52e09eda62e5",
   "metadata": {},
   "source": [
    "**Ahora vamos a comprobar si columnas como'price_aprox_local_currency','price_aprox_usd','place_with_parent_names','currency', tienen alguna utilidad para nosotros, o la informacion que nos dan, las tenemos contenidas en otras columnas**"
   ]
  },
  {
   "cell_type": "markdown",
   "id": "bf98c9f1-2453-45ad-906a-e761192e282b",
   "metadata": {},
   "source": [
    "## 'price_aprox_local_currency','price_aprox_usd',"
   ]
  },
  {
   "cell_type": "code",
   "execution_count": null,
   "id": "f1c9af76-648a-431b-8718-e14b7d5c8b07",
   "metadata": {},
   "outputs": [],
   "source": [
    "df_cols_utiles2[['price_aprox_local_currency','price_aprox_usd','price','currency']].sample(5)"
   ]
  },
  {
   "cell_type": "markdown",
   "id": "591a2bc6-f2db-46fe-8d4e-f016c5b78011",
   "metadata": {},
   "source": [
    "Observando el dataset, vemos que price_aprox_local_currency(ars), se aproxima al valor de price, cuando currency esta en 'ars'\n",
    "\n",
    "Tambien vemos que price_aprox_usd, coincide con el valor de price, cuando currency esta en 'usd'.\n"
   ]
  },
  {
   "cell_type": "code",
   "execution_count": null,
   "id": "65b41074-a187-4d40-8f7a-74355443ebcb",
   "metadata": {},
   "outputs": [],
   "source": [
    "ars_mask = df_cols_utiles2.currency == 'ars'\n",
    "\n",
    "df_cols_utiles2_ars=df_cols_utiles2[ars_mask]\n",
    "\n",
    "rel = df_cols_utiles2_ars.price/df_cols_utiles2_ars.price_aprox_local_currency\n",
    "relacion = rel.mean()\n",
    "relacion"
   ]
  },
  {
   "cell_type": "markdown",
   "id": "7f453d78-130b-483a-a4e4-5dcfb1bbee83",
   "metadata": {},
   "source": [
    "Observamos que la relacion entre price y price_aprox_local_currency, es \"relacion\""
   ]
  },
  {
   "cell_type": "code",
   "execution_count": null,
   "id": "cb18efbb-f622-42f8-a1ab-1ac23879c0a8",
   "metadata": {},
   "outputs": [],
   "source": []
  },
  {
   "cell_type": "markdown",
   "id": "947d2482-eb5e-410d-91ee-489d83b9e0d0",
   "metadata": {},
   "source": [
    "\n",
    "Nuestro objetivo, es eliminar price_aprox_local_currency y price_aprox_usd, una vez las usemos para completar price\n",
    "\n",
    "Veamos primero si nos son utiles estas columnas para lo que queremos hacer."
   ]
  },
  {
   "cell_type": "code",
   "execution_count": null,
   "id": "70db9a65-9458-4b3e-8b6f-a6360a34888e",
   "metadata": {},
   "outputs": [],
   "source": []
  },
  {
   "cell_type": "code",
   "execution_count": null,
   "id": "97c567f0-a8e8-4dc5-9a83-387ba641f6f4",
   "metadata": {},
   "outputs": [],
   "source": [
    "notnull_price_aprox_local_currency=df_cols_utiles2.price_aprox_local_currency.notnull()\n",
    "notnull_price_aprox_usd=df_cols_utiles2.price_aprox_usd.notnull()\n",
    "price_ars_usd = (df_cols_utiles2.currency == 'usd') | (df_cols_utiles2.currency == 'ars')\n",
    "null_price_ars_usd=df_cols_utiles2.price[price_ars_usd].isnull()\n",
    "\n",
    "\n",
    "price_local_o_price_usd=np.logical_or(notnull_price_aprox_local_currency,notnull_price_aprox_usd)\n",
    "\n",
    "null_price_notnull_price_local_o_price_usd=np.logical_and(price_local_o_price_usd,null_price_ars_usd)\n",
    "\n",
    "null_price_notnull_price_local_o_price_usd.any()"
   ]
  },
  {
   "cell_type": "markdown",
   "id": "5c8a5a7f-254f-4a62-bbdc-17eb712eed0e",
   "metadata": {},
   "source": [
    "Por lo tanto, comprobamos que **NO HAY** ningun valor no nulo en price_aprox_usd o price_aprox_local_currency, que podamos utilizar para imputar price, con currency 'ars' o 'usd'"
   ]
  },
  {
   "cell_type": "code",
   "execution_count": null,
   "id": "dac1e994-a38b-46e3-8563-efc15a443033",
   "metadata": {},
   "outputs": [],
   "source": []
  },
  {
   "cell_type": "code",
   "execution_count": null,
   "id": "c0100c02-9c31-4d1f-a4ef-ddafa2939ba1",
   "metadata": {},
   "outputs": [],
   "source": []
  },
  {
   "cell_type": "markdown",
   "id": "42d58e82-719a-4a2d-a9d5-fcfc9e6c4e4f",
   "metadata": {},
   "source": [
    "## place_with_parent_names"
   ]
  },
  {
   "cell_type": "markdown",
   "id": "138583d6-32ac-487f-b8bf-81be9f8b056e",
   "metadata": {},
   "source": [
    "place_with_parent_names = |country_name|state_name|place_name|, con lo cual, no nos da informacion extra, y es mas facil utilizar para los groupby sus columnas \"hijas\", con lo cual, la utilizaremos para completar \"place_name\", que tiene algunos nulos y luego la descartaremos."
   ]
  },
  {
   "cell_type": "code",
   "execution_count": null,
   "id": "0882968d-6917-45fb-8c57-6eb9d370c2c3",
   "metadata": {},
   "outputs": [],
   "source": []
  },
  {
   "cell_type": "markdown",
   "id": "6bb84f41-d137-4fb2-bddd-f05742567d3a",
   "metadata": {},
   "source": [
    "Vamos a comprobar si podemos completar place_name, con place_with_parent_names. Para esto, vamos a eliminar las filas donde haya NaN en place_name y comparar si es igual al anteultimo elemento de place_with_parent_names, al aplicarle un split(el ultimo es el pipe)."
   ]
  },
  {
   "cell_type": "code",
   "execution_count": null,
   "id": "69cb562e-749d-4186-8c0b-9d3f612dfed1",
   "metadata": {},
   "outputs": [],
   "source": [
    "place_name_tester=df_cols_utiles2.place_with_parent_names.apply(lambda x: x.split('|')[-2])\n",
    "place_name_tester"
   ]
  },
  {
   "cell_type": "code",
   "execution_count": null,
   "id": "72205528-d9a0-4c40-ab93-34eff7c97129",
   "metadata": {},
   "outputs": [],
   "source": [
    "place_name_null_mask = df_cols_utiles2.place_name.isnull()"
   ]
  },
  {
   "cell_type": "code",
   "execution_count": null,
   "id": "5d93602d-fa42-4e1d-9e31-285dc5afd968",
   "metadata": {
    "tags": []
   },
   "outputs": [],
   "source": [
    "(place_name_tester[~place_name_null_mask]==df_cols_utiles2.place_name[~place_name_null_mask]).all()"
   ]
  },
  {
   "cell_type": "markdown",
   "id": "bb1a8d75-bbff-46d8-a192-c9417c96e1c2",
   "metadata": {},
   "source": [
    "Comprobamos que podemos imputar el valor de place_name, a partir de la columna place_with_parent_names, asi que vamos a imputarlo"
   ]
  },
  {
   "cell_type": "code",
   "execution_count": null,
   "id": "c8c00f36-23d7-4792-9802-29253aac1edc",
   "metadata": {},
   "outputs": [],
   "source": [
    "df_cols_utiles2.loc[place_name_null_mask,'place_name'] = place_name_tester\n",
    "\n",
    "df_cols_utiles2.place_name.isnull().sum()"
   ]
  },
  {
   "cell_type": "code",
   "execution_count": null,
   "id": "8c7baae8-69fa-40e5-b564-0e6be4932b82",
   "metadata": {},
   "outputs": [],
   "source": []
  },
  {
   "cell_type": "markdown",
   "id": "8aa89204-48e8-4e62-b245-2a4a2b5fc0db",
   "metadata": {},
   "source": [
    "Ahora dropeamos algunas columnas de nuestro data frame"
   ]
  },
  {
   "cell_type": "code",
   "execution_count": null,
   "id": "86c0c62f-b12a-4758-ba3a-d3f17f20c7f5",
   "metadata": {},
   "outputs": [],
   "source": [
    "df_cols_utiles2.head(1)"
   ]
  },
  {
   "cell_type": "code",
   "execution_count": null,
   "id": "6b8f5c7c-4fd5-44e3-bfd9-15dcfddefc8a",
   "metadata": {},
   "outputs": [],
   "source": [
    "df_cols_utiles3=df_cols_utiles2.drop(['place_with_parent_names','price_aprox_local_currency','price_aprox_usd'], axis=1)\n",
    "df_cols_utiles3.head(3)"
   ]
  },
  {
   "cell_type": "code",
   "execution_count": null,
   "id": "8f767c71-fde0-46e8-83e4-e8e3fd31a2af",
   "metadata": {},
   "outputs": [],
   "source": []
  },
  {
   "cell_type": "code",
   "execution_count": null,
   "id": "c7f6e4c0-a1c1-45c4-a2da-cae4b34032e5",
   "metadata": {},
   "outputs": [],
   "source": []
  },
  {
   "cell_type": "code",
   "execution_count": null,
   "id": "be8a1472-8740-4a25-94c5-dbcd1e30dc66",
   "metadata": {},
   "outputs": [],
   "source": []
  },
  {
   "cell_type": "markdown",
   "id": "eff2365e-7a42-42ea-883a-baab946deda9",
   "metadata": {},
   "source": [
    "Estudiando el dataset, podemos observar, que el valor de price_usd_per_m2, es igual al de price_per_m2, cuando surface_covered_in_m2 es igual a surface_total_in_m2, SIEMPRE QUE CURRENCY ESTE EN USD"
   ]
  },
  {
   "cell_type": "code",
   "execution_count": null,
   "id": "23417da9-cd49-4390-a18f-83d19ee0f5fb",
   "metadata": {
    "tags": []
   },
   "outputs": [],
   "source": [
    "df_cols_utiles2[df_cols_utiles2.surface_covered_in_m2 == df_cols_utiles2.surface_total_in_m2][['price_usd_per_m2','price_per_m2']]"
   ]
  },
  {
   "cell_type": "code",
   "execution_count": null,
   "id": "16bd7182-8cf1-4ceb-b03c-53d1d611613a",
   "metadata": {},
   "outputs": [],
   "source": [
    "## IMPUTACION A price_usd_per_m2 con ,price_per_m2 para filas donde currency es 'usd'"
   ]
  },
  {
   "cell_type": "code",
   "execution_count": null,
   "id": "3f9b11f1-a881-4f09-8880-317873bb66f1",
   "metadata": {},
   "outputs": [],
   "source": []
  },
  {
   "cell_type": "code",
   "execution_count": null,
   "id": "b961e033-7b0c-4d91-add7-397245ab1d30",
   "metadata": {
    "tags": []
   },
   "outputs": [],
   "source": [
    "currency_usd_mask=df_cols_utiles2.currency == 'usd'\n",
    "cubiertos_igual_totales=df_cols_utiles2.surface_covered_in_m2==df_cols_utiles2.surface_total_in_m2\n",
    "\n",
    "df_price_per_m2_igual_price_usd_per_m2= df_cols_utiles2[np.logical_and(currency_usd_mask,cubiertos_igual_totales)]\n",
    "\n",
    "df_price_per_m2_igual_price_usd_per_m2.price_per_m2.isnull().any()"
   ]
  },
  {
   "cell_type": "markdown",
   "id": "94d04f33-6c8c-4f66-9a9a-7951a1479d8e",
   "metadata": {},
   "source": [
    "Comprobamos que **NO HAY** ningun valor de `price_usd_per_m2` que podamos imputar usando la relacion el valor de `price_per_m2`, es igual al de price_per_m2, cuando surface_covered_in_m2 es igual a surface_total_in_m2, SIEMPRE QUE CURRENCY ESTE EN USD"
   ]
  },
  {
   "cell_type": "code",
   "execution_count": null,
   "id": "9584cb6b-bcd2-4c4f-887d-51e33bf54d9e",
   "metadata": {},
   "outputs": [],
   "source": [
    "df_cols_utiles2.price_usd_per_m2.notnull().sum()"
   ]
  },
  {
   "cell_type": "code",
   "execution_count": null,
   "id": "1fe35502-4d75-4768-878d-dc57369de5ef",
   "metadata": {},
   "outputs": [],
   "source": [
    "df_cols_utiles2.price_per_m2.notnull().sum()"
   ]
  },
  {
   "cell_type": "code",
   "execution_count": null,
   "id": "1475991d-1ece-49fb-8e33-f50395e3bf15",
   "metadata": {},
   "outputs": [],
   "source": [
    "## IMPUTACION A price_per_m2 con price_usd_per_m2, para filas donde currency es 'usd'"
   ]
  },
  {
   "cell_type": "code",
   "execution_count": null,
   "id": "87ab0f67-2f61-4503-a6a8-0f5f2f5da369",
   "metadata": {},
   "outputs": [],
   "source": []
  },
  {
   "cell_type": "code",
   "execution_count": null,
   "id": "61e914da-e36b-4553-89b7-3a632c9ea42b",
   "metadata": {},
   "outputs": [],
   "source": [
    "df_cols_utiles2.currency.value_counts()"
   ]
  },
  {
   "cell_type": "markdown",
   "id": "ef301d33-4602-4d03-943b-8ad08f6cfcba",
   "metadata": {},
   "source": [
    "Para las propiedades en donde currency esta en 'ars', podemos observar que price_per_m2 coincide con price/surface_covered_in_m2\n"
   ]
  },
  {
   "cell_type": "code",
   "execution_count": null,
   "id": "4dd02f27-747f-4518-adaf-aba14556c24c",
   "metadata": {},
   "outputs": [],
   "source": []
  },
  {
   "cell_type": "code",
   "execution_count": null,
   "id": "e9929b7f-2346-49d3-914b-624f969d37be",
   "metadata": {},
   "outputs": [],
   "source": []
  },
  {
   "cell_type": "code",
   "execution_count": null,
   "id": "bc536314-99dc-4a51-8dc5-b1e89d8280c4",
   "metadata": {},
   "outputs": [],
   "source": []
  },
  {
   "cell_type": "code",
   "execution_count": null,
   "id": "c0d18779-5e02-475b-bf3d-ae42f0732ea4",
   "metadata": {},
   "outputs": [],
   "source": []
  },
  {
   "cell_type": "code",
   "execution_count": null,
   "id": "13d08c0a-557a-407b-a4e1-7b6de5478775",
   "metadata": {},
   "outputs": [],
   "source": []
  },
  {
   "cell_type": "code",
   "execution_count": null,
   "id": "a2c11b9e-c239-429b-8131-5cbd2d9bbcac",
   "metadata": {},
   "outputs": [],
   "source": []
  },
  {
   "cell_type": "code",
   "execution_count": null,
   "id": "745b63a0-68ca-4566-a036-491ad3de4df1",
   "metadata": {},
   "outputs": [],
   "source": []
  },
  {
   "cell_type": "code",
   "execution_count": null,
   "id": "4c605265-81ac-4732-b02e-8dc2a687f406",
   "metadata": {},
   "outputs": [],
   "source": []
  },
  {
   "cell_type": "code",
   "execution_count": null,
   "id": "b618017a-04f7-4dbb-9f80-50049ab517ea",
   "metadata": {},
   "outputs": [],
   "source": []
  },
  {
   "cell_type": "code",
   "execution_count": null,
   "id": "edcd6548-1275-4b3e-89e0-1fc30e18ff1e",
   "metadata": {},
   "outputs": [],
   "source": []
  },
  {
   "cell_type": "code",
   "execution_count": null,
   "id": "63d4e553-e870-4ee7-bb36-8c966414a907",
   "metadata": {},
   "outputs": [],
   "source": []
  },
  {
   "cell_type": "code",
   "execution_count": null,
   "id": "ea6632f1-954e-49e5-b383-74c7a785c13b",
   "metadata": {},
   "outputs": [],
   "source": []
  },
  {
   "cell_type": "code",
   "execution_count": null,
   "id": "8d1121fc-18e9-4354-bdb9-a76a0819d4bd",
   "metadata": {},
   "outputs": [],
   "source": []
  },
  {
   "cell_type": "code",
   "execution_count": null,
   "id": "9af2c76f-a822-478f-9fa3-37cc5130ccf3",
   "metadata": {},
   "outputs": [],
   "source": []
  },
  {
   "cell_type": "code",
   "execution_count": null,
   "id": "65f3999e-8530-4a4a-861c-4cc3b4788c6e",
   "metadata": {},
   "outputs": [],
   "source": []
  },
  {
   "cell_type": "code",
   "execution_count": null,
   "id": "27385310-c5a1-434d-a977-756c9f46584c",
   "metadata": {},
   "outputs": [],
   "source": []
  },
  {
   "cell_type": "code",
   "execution_count": null,
   "id": "d1eecebb-b390-409e-99d3-324a529c0c49",
   "metadata": {},
   "outputs": [],
   "source": []
  },
  {
   "cell_type": "code",
   "execution_count": null,
   "id": "a6604d5c-ebfe-43db-a76c-2f18eaee9739",
   "metadata": {},
   "outputs": [],
   "source": []
  },
  {
   "cell_type": "code",
   "execution_count": null,
   "id": "ef50be4a-d78a-463c-9e20-c87703607283",
   "metadata": {},
   "outputs": [],
   "source": []
  },
  {
   "cell_type": "code",
   "execution_count": null,
   "id": "cd4f01d2-8e15-4bd2-9a8f-fdeed170e927",
   "metadata": {},
   "outputs": [],
   "source": []
  },
  {
   "cell_type": "code",
   "execution_count": null,
   "id": "853f7239-51c7-458d-97e1-a7ebeee5b268",
   "metadata": {},
   "outputs": [],
   "source": []
  },
  {
   "cell_type": "code",
   "execution_count": null,
   "id": "8e6a0c91-639c-40eb-8ed0-b667405f60f3",
   "metadata": {},
   "outputs": [],
   "source": []
  },
  {
   "cell_type": "code",
   "execution_count": null,
   "id": "b575261d-a334-4181-8523-08b15d106db0",
   "metadata": {},
   "outputs": [],
   "source": []
  },
  {
   "cell_type": "code",
   "execution_count": null,
   "id": "5039ff24-72fd-4481-8f95-ebae2191e2ee",
   "metadata": {},
   "outputs": [],
   "source": []
  },
  {
   "cell_type": "code",
   "execution_count": null,
   "id": "11104bb7-83e2-42e1-b958-c20272ee36e2",
   "metadata": {},
   "outputs": [],
   "source": []
  },
  {
   "cell_type": "code",
   "execution_count": null,
   "id": "0c4128a9-5f2c-470a-a318-fa98594b3d99",
   "metadata": {},
   "outputs": [],
   "source": []
  },
  {
   "cell_type": "code",
   "execution_count": null,
   "id": "5f209f81-9096-4a2e-8d32-e12696a024ac",
   "metadata": {},
   "outputs": [],
   "source": []
  },
  {
   "cell_type": "code",
   "execution_count": null,
   "id": "51624c84-8cb8-4738-a4e3-4ffac9a1e0ed",
   "metadata": {},
   "outputs": [],
   "source": []
  },
  {
   "cell_type": "code",
   "execution_count": null,
   "id": "3c01d76a-c393-44cb-bddf-9e91840e2e17",
   "metadata": {},
   "outputs": [],
   "source": []
  },
  {
   "cell_type": "code",
   "execution_count": null,
   "id": "bfa62e3e-2f7c-463a-9ed2-eb23436d7393",
   "metadata": {},
   "outputs": [],
   "source": [
    "AAA"
   ]
  },
  {
   "cell_type": "code",
   "execution_count": null,
   "id": "94a93a05-a88e-4ebf-9be3-3a4eb6a103cd",
   "metadata": {
    "tags": []
   },
   "outputs": [],
   "source": [
    "currency_ars_mask=df_cols_utiles2.currency == 'ars'\n",
    "df_cols_ars = df_cols_utiles2[currency_ars_mask]\n",
    "df_price_surface_covered = df_cols_ars['price'] / df_cols_ars.surface_covered_in_m2\n",
    "\n",
    "b = df_cols_utiles2[currency_ars_mask].price_per_m2.dropna()\n",
    "a = df_price_surface_covered.dropna()\n",
    "\n",
    "(a==b).all()"
   ]
  },
  {
   "cell_type": "code",
   "execution_count": null,
   "id": "ec5fad63-ebbd-44dc-a350-65c4ca400546",
   "metadata": {
    "tags": []
   },
   "outputs": [],
   "source": [
    "pesos_mask=df_cols_utiles2.currency == 'ars'\n",
    "\n",
    "df_cols_utiles2[pesos_mask].sample(5)"
   ]
  },
  {
   "cell_type": "code",
   "execution_count": null,
   "id": "05d9d328-958c-42f3-9a48-dbf7fe5acc91",
   "metadata": {},
   "outputs": [],
   "source": [
    "uyu_mask=df_cols_utiles2.currency == 'uyu'\n",
    "\n",
    "df_cols_utiles2[uyu_mask].sample()"
   ]
  },
  {
   "cell_type": "code",
   "execution_count": null,
   "id": "39eb0fde-bdbb-4759-9af1-43693e28ee6e",
   "metadata": {},
   "outputs": [],
   "source": [
    "pen_mask=df_cols_utiles2.currency == 'pen'\n",
    "\n",
    "df_cols_utiles2[pen_mask].sample(2)"
   ]
  },
  {
   "cell_type": "code",
   "execution_count": null,
   "id": "f3fc6b21-461c-4f24-b69b-93872a66c6bc",
   "metadata": {},
   "outputs": [],
   "source": []
  },
  {
   "cell_type": "code",
   "execution_count": null,
   "id": "26547c56-1089-49a1-af43-3274527273c7",
   "metadata": {},
   "outputs": [],
   "source": []
  }
 ],
 "metadata": {
  "kernelspec": {
   "display_name": "Python 3",
   "language": "python",
   "name": "python3"
  },
  "language_info": {
   "codemirror_mode": {
    "name": "ipython",
    "version": 3
   },
   "file_extension": ".py",
   "mimetype": "text/x-python",
   "name": "python",
   "nbconvert_exporter": "python",
   "pygments_lexer": "ipython3",
   "version": "3.8.8"
  }
 },
 "nbformat": 4,
 "nbformat_minor": 5
}
