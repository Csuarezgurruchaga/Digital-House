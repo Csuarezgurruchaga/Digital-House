{
 "cells": [
  {
   "cell_type": "markdown",
   "id": "ec13a127",
   "metadata": {},
   "source": [
    "# CS GO Dataset de snapshots"
   ]
  },
  {
   "cell_type": "markdown",
   "id": "34007f67",
   "metadata": {},
   "source": [
    "## Imports"
   ]
  },
  {
   "cell_type": "code",
   "execution_count": 26,
   "id": "5ee74ea9",
   "metadata": {},
   "outputs": [],
   "source": [
    "import pandas as pd\n",
    "\n",
    "%matplotlib inline"
   ]
  },
  {
   "cell_type": "markdown",
   "id": "3a2c5d60",
   "metadata": {},
   "source": [
    "Descripcion\n",
    "- The dataset consists of round snapshots from about 700 demos from high level tournament \n",
    "play in 2019 and 2020. Warmup rounds and restarts have been filtered, and for the remaining \n",
    "live rounds a round snapshot has been recorded every 20 seconds until the round is decided. \n",
    "Following its initial publication, It has been pre-processed and flattened to improve readability and make it easier for algorithms to process. \n",
    "The total number of snapshots is 122411. Snapshots are i.i.d and should be treated as individual data points, not as part of a match.\n",
    "\n",
    "\n",
    "Preguntas a responder\n",
    "\n",
    "- frecuencia de victoria con el equipo con más dinero (correlacionar round ganado con la sumatoria de dinero)\n",
    "- armas más favorables que otras? (correlacionar salud de equipo contrario con armas del equipo contrario)\n",
    "- mapas mas favorables para defender o atacar (correlacionar los mapas de eSports con equipo ganador de ronda)\n",
    "- atributos para conseguir victoria. Es interesante esto para correlacionar si:\n",
    "    - En el equipo existe distribucion de armas (SMG, rifle de asalto, machinegun, etc) o si todos usan las mismas\n",
    "    - Cant. de granadas flash\n",
    "    - Cantidad de defuse kit en el caso de ser CT\n",
    "    - +razones\n",
    "\n",
    "\n"
   ]
  },
  {
   "cell_type": "markdown",
   "id": "00991fc7",
   "metadata": {},
   "source": [
    "## Descripción dataset"
   ]
  },
  {
   "cell_type": "code",
   "execution_count": 27,
   "id": "5895bced",
   "metadata": {},
   "outputs": [],
   "source": [
    "df = pd.read_csv('Data/cs_go_grupo5.csv',sep =',')"
   ]
  },
  {
   "cell_type": "code",
   "execution_count": 28,
   "id": "5cba0d66",
   "metadata": {},
   "outputs": [
    {
     "data": {
      "text/html": [
       "<div>\n",
       "<style scoped>\n",
       "    .dataframe tbody tr th:only-of-type {\n",
       "        vertical-align: middle;\n",
       "    }\n",
       "\n",
       "    .dataframe tbody tr th {\n",
       "        vertical-align: top;\n",
       "    }\n",
       "\n",
       "    .dataframe thead th {\n",
       "        text-align: right;\n",
       "    }\n",
       "</style>\n",
       "<table border=\"1\" class=\"dataframe\">\n",
       "  <thead>\n",
       "    <tr style=\"text-align: right;\">\n",
       "      <th></th>\n",
       "      <th>Unnamed: 0</th>\n",
       "      <th>time_left</th>\n",
       "      <th>ct_score</th>\n",
       "      <th>t_score</th>\n",
       "      <th>map</th>\n",
       "      <th>bomb_planted</th>\n",
       "      <th>ct_health</th>\n",
       "      <th>t_health</th>\n",
       "      <th>ct_armor</th>\n",
       "      <th>t_armor</th>\n",
       "      <th>...</th>\n",
       "      <th>t_grenade_flashbang</th>\n",
       "      <th>ct_grenade_smokegrenade</th>\n",
       "      <th>t_grenade_smokegrenade</th>\n",
       "      <th>ct_grenade_incendiarygrenade</th>\n",
       "      <th>t_grenade_incendiarygrenade</th>\n",
       "      <th>ct_grenade_molotovgrenade</th>\n",
       "      <th>t_grenade_molotovgrenade</th>\n",
       "      <th>ct_grenade_decoygrenade</th>\n",
       "      <th>t_grenade_decoygrenade</th>\n",
       "      <th>round_winner</th>\n",
       "    </tr>\n",
       "  </thead>\n",
       "  <tbody>\n",
       "    <tr>\n",
       "      <th>0</th>\n",
       "      <td>0</td>\n",
       "      <td>175.00</td>\n",
       "      <td>0.0</td>\n",
       "      <td>0.0</td>\n",
       "      <td>de_dust2</td>\n",
       "      <td>False</td>\n",
       "      <td>500.0</td>\n",
       "      <td>500.0</td>\n",
       "      <td>0.0</td>\n",
       "      <td>0.0</td>\n",
       "      <td>...</td>\n",
       "      <td>0.0</td>\n",
       "      <td>0.0</td>\n",
       "      <td>0.0</td>\n",
       "      <td>0.0</td>\n",
       "      <td>0.0</td>\n",
       "      <td>0.0</td>\n",
       "      <td>0.0</td>\n",
       "      <td>0.0</td>\n",
       "      <td>0.0</td>\n",
       "      <td>CT</td>\n",
       "    </tr>\n",
       "    <tr>\n",
       "      <th>1</th>\n",
       "      <td>1</td>\n",
       "      <td>156.03</td>\n",
       "      <td>0.0</td>\n",
       "      <td>0.0</td>\n",
       "      <td>de_dust2</td>\n",
       "      <td>False</td>\n",
       "      <td>500.0</td>\n",
       "      <td>500.0</td>\n",
       "      <td>400.0</td>\n",
       "      <td>300.0</td>\n",
       "      <td>...</td>\n",
       "      <td>0.0</td>\n",
       "      <td>0.0</td>\n",
       "      <td>2.0</td>\n",
       "      <td>0.0</td>\n",
       "      <td>0.0</td>\n",
       "      <td>0.0</td>\n",
       "      <td>0.0</td>\n",
       "      <td>0.0</td>\n",
       "      <td>0.0</td>\n",
       "      <td>CT</td>\n",
       "    </tr>\n",
       "    <tr>\n",
       "      <th>2</th>\n",
       "      <td>2</td>\n",
       "      <td>96.03</td>\n",
       "      <td>0.0</td>\n",
       "      <td>0.0</td>\n",
       "      <td>de_dust2</td>\n",
       "      <td>False</td>\n",
       "      <td>391.0</td>\n",
       "      <td>400.0</td>\n",
       "      <td>294.0</td>\n",
       "      <td>200.0</td>\n",
       "      <td>...</td>\n",
       "      <td>0.0</td>\n",
       "      <td>0.0</td>\n",
       "      <td>2.0</td>\n",
       "      <td>0.0</td>\n",
       "      <td>0.0</td>\n",
       "      <td>0.0</td>\n",
       "      <td>0.0</td>\n",
       "      <td>0.0</td>\n",
       "      <td>0.0</td>\n",
       "      <td>CT</td>\n",
       "    </tr>\n",
       "    <tr>\n",
       "      <th>3</th>\n",
       "      <td>3</td>\n",
       "      <td>76.03</td>\n",
       "      <td>0.0</td>\n",
       "      <td>0.0</td>\n",
       "      <td>de_dust2</td>\n",
       "      <td>False</td>\n",
       "      <td>391.0</td>\n",
       "      <td>400.0</td>\n",
       "      <td>294.0</td>\n",
       "      <td>200.0</td>\n",
       "      <td>...</td>\n",
       "      <td>0.0</td>\n",
       "      <td>0.0</td>\n",
       "      <td>0.0</td>\n",
       "      <td>0.0</td>\n",
       "      <td>0.0</td>\n",
       "      <td>0.0</td>\n",
       "      <td>0.0</td>\n",
       "      <td>0.0</td>\n",
       "      <td>0.0</td>\n",
       "      <td>CT</td>\n",
       "    </tr>\n",
       "    <tr>\n",
       "      <th>4</th>\n",
       "      <td>4</td>\n",
       "      <td>174.97</td>\n",
       "      <td>1.0</td>\n",
       "      <td>0.0</td>\n",
       "      <td>de_dust2</td>\n",
       "      <td>False</td>\n",
       "      <td>500.0</td>\n",
       "      <td>500.0</td>\n",
       "      <td>192.0</td>\n",
       "      <td>0.0</td>\n",
       "      <td>...</td>\n",
       "      <td>0.0</td>\n",
       "      <td>0.0</td>\n",
       "      <td>0.0</td>\n",
       "      <td>0.0</td>\n",
       "      <td>0.0</td>\n",
       "      <td>0.0</td>\n",
       "      <td>0.0</td>\n",
       "      <td>0.0</td>\n",
       "      <td>0.0</td>\n",
       "      <td>CT</td>\n",
       "    </tr>\n",
       "  </tbody>\n",
       "</table>\n",
       "<p>5 rows × 98 columns</p>\n",
       "</div>"
      ],
      "text/plain": [
       "   Unnamed: 0  time_left  ct_score  t_score       map  bomb_planted  \\\n",
       "0           0     175.00       0.0      0.0  de_dust2         False   \n",
       "1           1     156.03       0.0      0.0  de_dust2         False   \n",
       "2           2      96.03       0.0      0.0  de_dust2         False   \n",
       "3           3      76.03       0.0      0.0  de_dust2         False   \n",
       "4           4     174.97       1.0      0.0  de_dust2         False   \n",
       "\n",
       "   ct_health  t_health  ct_armor  t_armor  ...  t_grenade_flashbang  \\\n",
       "0      500.0     500.0       0.0      0.0  ...                  0.0   \n",
       "1      500.0     500.0     400.0    300.0  ...                  0.0   \n",
       "2      391.0     400.0     294.0    200.0  ...                  0.0   \n",
       "3      391.0     400.0     294.0    200.0  ...                  0.0   \n",
       "4      500.0     500.0     192.0      0.0  ...                  0.0   \n",
       "\n",
       "   ct_grenade_smokegrenade  t_grenade_smokegrenade  \\\n",
       "0                      0.0                     0.0   \n",
       "1                      0.0                     2.0   \n",
       "2                      0.0                     2.0   \n",
       "3                      0.0                     0.0   \n",
       "4                      0.0                     0.0   \n",
       "\n",
       "   ct_grenade_incendiarygrenade  t_grenade_incendiarygrenade  \\\n",
       "0                           0.0                          0.0   \n",
       "1                           0.0                          0.0   \n",
       "2                           0.0                          0.0   \n",
       "3                           0.0                          0.0   \n",
       "4                           0.0                          0.0   \n",
       "\n",
       "   ct_grenade_molotovgrenade  t_grenade_molotovgrenade  \\\n",
       "0                        0.0                       0.0   \n",
       "1                        0.0                       0.0   \n",
       "2                        0.0                       0.0   \n",
       "3                        0.0                       0.0   \n",
       "4                        0.0                       0.0   \n",
       "\n",
       "   ct_grenade_decoygrenade  t_grenade_decoygrenade  round_winner  \n",
       "0                      0.0                     0.0            CT  \n",
       "1                      0.0                     0.0            CT  \n",
       "2                      0.0                     0.0            CT  \n",
       "3                      0.0                     0.0            CT  \n",
       "4                      0.0                     0.0            CT  \n",
       "\n",
       "[5 rows x 98 columns]"
      ]
     },
     "execution_count": 28,
     "metadata": {},
     "output_type": "execute_result"
    }
   ],
   "source": [
    "df.head()"
   ]
  },
  {
   "cell_type": "code",
   "execution_count": 29,
   "id": "4b050ce5",
   "metadata": {},
   "outputs": [
    {
     "name": "stdout",
     "output_type": "stream",
     "text": [
      "El dataset se compone de  121054 filas y 98 columnas\n"
     ]
    }
   ],
   "source": [
    "df.shape\n",
    "print('El dataset se compone de ',df.shape[0],'filas y', df.shape[1],'columnas')"
   ]
  },
  {
   "cell_type": "code",
   "execution_count": 30,
   "id": "0c1c79d2",
   "metadata": {},
   "outputs": [
    {
     "name": "stdout",
     "output_type": "stream",
     "text": [
      "<class 'pandas.core.frame.DataFrame'>\n",
      "RangeIndex: 121054 entries, 0 to 121053\n",
      "Data columns (total 98 columns):\n",
      " #   Column                        Non-Null Count   Dtype  \n",
      "---  ------                        --------------   -----  \n",
      " 0   Unnamed: 0                    121054 non-null  int64  \n",
      " 1   time_left                     121054 non-null  float64\n",
      " 2   ct_score                      121054 non-null  float64\n",
      " 3   t_score                       121054 non-null  float64\n",
      " 4   map                           121054 non-null  object \n",
      " 5   bomb_planted                  121054 non-null  bool   \n",
      " 6   ct_health                     121054 non-null  float64\n",
      " 7   t_health                      121054 non-null  float64\n",
      " 8   ct_armor                      121054 non-null  float64\n",
      " 9   t_armor                       121054 non-null  float64\n",
      " 10  ct_money                      121054 non-null  float64\n",
      " 11  t_money                       121054 non-null  float64\n",
      " 12  ct_helmets                    121054 non-null  float64\n",
      " 13  t_helmets                     121054 non-null  float64\n",
      " 14  ct_defuse_kits                121054 non-null  float64\n",
      " 15  ct_players_alive              121054 non-null  float64\n",
      " 16  t_players_alive               121054 non-null  float64\n",
      " 17  ct_weapon_ak47                121054 non-null  float64\n",
      " 18  t_weapon_ak47                 121054 non-null  float64\n",
      " 19  ct_weapon_aug                 121054 non-null  float64\n",
      " 20  t_weapon_aug                  121054 non-null  float64\n",
      " 21  ct_weapon_awp                 121054 non-null  float64\n",
      " 22  t_weapon_awp                  121054 non-null  float64\n",
      " 23  ct_weapon_bizon               121054 non-null  float64\n",
      " 24  t_weapon_bizon                121054 non-null  float64\n",
      " 25  ct_weapon_cz75auto            121054 non-null  float64\n",
      " 26  t_weapon_cz75auto             121054 non-null  float64\n",
      " 27  ct_weapon_elite               121054 non-null  float64\n",
      " 28  t_weapon_elite                121054 non-null  float64\n",
      " 29  ct_weapon_famas               121054 non-null  float64\n",
      " 30  t_weapon_famas                121054 non-null  float64\n",
      " 31  ct_weapon_g3sg1               121054 non-null  float64\n",
      " 32  t_weapon_g3sg1                121054 non-null  float64\n",
      " 33  ct_weapon_galilar             121054 non-null  float64\n",
      " 34  t_weapon_galilar              121054 non-null  float64\n",
      " 35  ct_weapon_glock               121054 non-null  float64\n",
      " 36  t_weapon_glock                121054 non-null  float64\n",
      " 37  ct_weapon_m249                121054 non-null  float64\n",
      " 38  t_weapon_m249                 121054 non-null  float64\n",
      " 39  ct_weapon_m4a1s               121054 non-null  float64\n",
      " 40  t_weapon_m4a1s                121054 non-null  float64\n",
      " 41  ct_weapon_m4a4                121054 non-null  float64\n",
      " 42  t_weapon_m4a4                 121054 non-null  float64\n",
      " 43  ct_weapon_mac10               121054 non-null  float64\n",
      " 44  t_weapon_mac10                121054 non-null  float64\n",
      " 45  ct_weapon_mag7                121054 non-null  float64\n",
      " 46  t_weapon_mag7                 121054 non-null  float64\n",
      " 47  ct_weapon_mp5sd               121054 non-null  float64\n",
      " 48  t_weapon_mp5sd                121054 non-null  float64\n",
      " 49  ct_weapon_mp7                 121054 non-null  float64\n",
      " 50  t_weapon_mp7                  121054 non-null  float64\n",
      " 51  ct_weapon_mp9                 121054 non-null  float64\n",
      " 52  t_weapon_mp9                  121054 non-null  float64\n",
      " 53  ct_weapon_negev               121054 non-null  float64\n",
      " 54  t_weapon_negev                121054 non-null  float64\n",
      " 55  ct_weapon_nova                121054 non-null  float64\n",
      " 56  t_weapon_nova                 121054 non-null  float64\n",
      " 57  ct_weapon_p90                 121054 non-null  float64\n",
      " 58  t_weapon_p90                  121054 non-null  float64\n",
      " 59  ct_weapon_r8revolver          121054 non-null  float64\n",
      " 60  t_weapon_r8revolver           121054 non-null  float64\n",
      " 61  ct_weapon_sawedoff            121054 non-null  float64\n",
      " 62  t_weapon_sawedoff             121054 non-null  float64\n",
      " 63  ct_weapon_scar20              121054 non-null  float64\n",
      " 64  t_weapon_scar20               121054 non-null  float64\n",
      " 65  ct_weapon_sg553               121054 non-null  float64\n",
      " 66  t_weapon_sg553                121054 non-null  float64\n",
      " 67  ct_weapon_ssg08               121054 non-null  float64\n",
      " 68  t_weapon_ssg08                121054 non-null  float64\n",
      " 69  ct_weapon_ump45               121054 non-null  float64\n",
      " 70  t_weapon_ump45                121054 non-null  float64\n",
      " 71  ct_weapon_xm1014              121054 non-null  float64\n",
      " 72  t_weapon_xm1014               121054 non-null  float64\n",
      " 73  ct_weapon_deagle              121054 non-null  float64\n",
      " 74  t_weapon_deagle               121054 non-null  float64\n",
      " 75  ct_weapon_fiveseven           121054 non-null  float64\n",
      " 76  t_weapon_fiveseven            121054 non-null  float64\n",
      " 77  ct_weapon_usps                121054 non-null  float64\n",
      " 78  t_weapon_usps                 121054 non-null  float64\n",
      " 79  ct_weapon_p250                121054 non-null  float64\n",
      " 80  t_weapon_p250                 121054 non-null  float64\n",
      " 81  ct_weapon_p2000               121054 non-null  float64\n",
      " 82  t_weapon_p2000                121054 non-null  float64\n",
      " 83  ct_weapon_tec9                121054 non-null  float64\n",
      " 84  t_weapon_tec9                 121054 non-null  float64\n",
      " 85  ct_grenade_hegrenade          121054 non-null  float64\n",
      " 86  t_grenade_hegrenade           121054 non-null  float64\n",
      " 87  ct_grenade_flashbang          121054 non-null  float64\n",
      " 88  t_grenade_flashbang           121054 non-null  float64\n",
      " 89  ct_grenade_smokegrenade       121054 non-null  float64\n",
      " 90  t_grenade_smokegrenade        121054 non-null  float64\n",
      " 91  ct_grenade_incendiarygrenade  121054 non-null  float64\n",
      " 92  t_grenade_incendiarygrenade   121054 non-null  float64\n",
      " 93  ct_grenade_molotovgrenade     121054 non-null  float64\n",
      " 94  t_grenade_molotovgrenade      121054 non-null  float64\n",
      " 95  ct_grenade_decoygrenade       121054 non-null  float64\n",
      " 96  t_grenade_decoygrenade        121054 non-null  float64\n",
      " 97  round_winner                  121054 non-null  object \n",
      "dtypes: bool(1), float64(94), int64(1), object(2)\n",
      "memory usage: 89.7+ MB\n"
     ]
    }
   ],
   "source": [
    "df.info()"
   ]
  },
  {
   "cell_type": "markdown",
   "id": "0ee9705f",
   "metadata": {},
   "source": [
    "Se distinguen las siguientes featutres:\n",
    "\n",
    "5 categorias independiente del equipo\n",
    " 0   time_left                     122410 non-null  float64\n",
    " 1   ct_score                      122410 non-null  float64\n",
    " 2   t_score                       122410 non-null  float64\n",
    " 3   map                           122410 non-null  object \n",
    " 4   bomb_planted                  122410 non-null  bool\n",
    "\n",
    "TIME_LEFT describe el tiempo restante hasta el fin del round\n",
    "\n",
    "ct_score y t_score dan el puntaje en el momento de la captura\n",
    "\n",
    "map describe el mapa que se está jugando\n",
    "\n",
    "bomb_planted define si está o no plantada la bomba al momento de la captura\n",
    "\n"
   ]
  },
  {
   "cell_type": "code",
   "execution_count": 31,
   "id": "90776ded",
   "metadata": {},
   "outputs": [
    {
     "data": {
      "text/html": [
       "<div>\n",
       "<style scoped>\n",
       "    .dataframe tbody tr th:only-of-type {\n",
       "        vertical-align: middle;\n",
       "    }\n",
       "\n",
       "    .dataframe tbody tr th {\n",
       "        vertical-align: top;\n",
       "    }\n",
       "\n",
       "    .dataframe thead th {\n",
       "        text-align: right;\n",
       "    }\n",
       "</style>\n",
       "<table border=\"1\" class=\"dataframe\">\n",
       "  <thead>\n",
       "    <tr style=\"text-align: right;\">\n",
       "      <th></th>\n",
       "      <th>Unnamed: 0</th>\n",
       "      <th>time_left</th>\n",
       "      <th>ct_score</th>\n",
       "      <th>t_score</th>\n",
       "      <th>ct_health</th>\n",
       "      <th>t_health</th>\n",
       "      <th>ct_armor</th>\n",
       "      <th>t_armor</th>\n",
       "      <th>ct_money</th>\n",
       "      <th>t_money</th>\n",
       "      <th>...</th>\n",
       "      <th>ct_grenade_flashbang</th>\n",
       "      <th>t_grenade_flashbang</th>\n",
       "      <th>ct_grenade_smokegrenade</th>\n",
       "      <th>t_grenade_smokegrenade</th>\n",
       "      <th>ct_grenade_incendiarygrenade</th>\n",
       "      <th>t_grenade_incendiarygrenade</th>\n",
       "      <th>ct_grenade_molotovgrenade</th>\n",
       "      <th>t_grenade_molotovgrenade</th>\n",
       "      <th>ct_grenade_decoygrenade</th>\n",
       "      <th>t_grenade_decoygrenade</th>\n",
       "    </tr>\n",
       "  </thead>\n",
       "  <tbody>\n",
       "    <tr>\n",
       "      <th>count</th>\n",
       "      <td>121054.000000</td>\n",
       "      <td>121054.000000</td>\n",
       "      <td>121054.000000</td>\n",
       "      <td>121054.000000</td>\n",
       "      <td>121054.000000</td>\n",
       "      <td>121054.000000</td>\n",
       "      <td>121054.000000</td>\n",
       "      <td>121054.000000</td>\n",
       "      <td>121054.000000</td>\n",
       "      <td>121054.000000</td>\n",
       "      <td>...</td>\n",
       "      <td>121054.000000</td>\n",
       "      <td>121054.000000</td>\n",
       "      <td>121054.000000</td>\n",
       "      <td>121054.000000</td>\n",
       "      <td>121054.000000</td>\n",
       "      <td>121054.000000</td>\n",
       "      <td>121054.000000</td>\n",
       "      <td>121054.000000</td>\n",
       "      <td>121054.000000</td>\n",
       "      <td>121054.000000</td>\n",
       "    </tr>\n",
       "    <tr>\n",
       "      <th>mean</th>\n",
       "      <td>61211.649603</td>\n",
       "      <td>97.779809</td>\n",
       "      <td>6.697152</td>\n",
       "      <td>6.768888</td>\n",
       "      <td>412.612892</td>\n",
       "      <td>403.256034</td>\n",
       "      <td>316.213632</td>\n",
       "      <td>300.425488</td>\n",
       "      <td>9835.801378</td>\n",
       "      <td>11299.019446</td>\n",
       "      <td>...</td>\n",
       "      <td>1.865399</td>\n",
       "      <td>1.871330</td>\n",
       "      <td>1.552745</td>\n",
       "      <td>1.640747</td>\n",
       "      <td>1.010590</td>\n",
       "      <td>0.019462</td>\n",
       "      <td>0.047805</td>\n",
       "      <td>1.363846</td>\n",
       "      <td>0.027872</td>\n",
       "      <td>0.025914</td>\n",
       "    </tr>\n",
       "    <tr>\n",
       "      <th>std</th>\n",
       "      <td>35350.228422</td>\n",
       "      <td>54.274380</td>\n",
       "      <td>4.791150</td>\n",
       "      <td>4.824726</td>\n",
       "      <td>131.805923</td>\n",
       "      <td>139.401569</td>\n",
       "      <td>170.006382</td>\n",
       "      <td>173.772098</td>\n",
       "      <td>11223.205878</td>\n",
       "      <td>12175.515454</td>\n",
       "      <td>...</td>\n",
       "      <td>1.774786</td>\n",
       "      <td>1.796927</td>\n",
       "      <td>1.741392</td>\n",
       "      <td>1.832858</td>\n",
       "      <td>1.462583</td>\n",
       "      <td>0.142500</td>\n",
       "      <td>0.226938</td>\n",
       "      <td>1.666982</td>\n",
       "      <td>0.170086</td>\n",
       "      <td>0.164700</td>\n",
       "    </tr>\n",
       "    <tr>\n",
       "      <th>min</th>\n",
       "      <td>0.000000</td>\n",
       "      <td>0.010000</td>\n",
       "      <td>0.000000</td>\n",
       "      <td>0.000000</td>\n",
       "      <td>1.000000</td>\n",
       "      <td>0.000000</td>\n",
       "      <td>0.000000</td>\n",
       "      <td>0.000000</td>\n",
       "      <td>0.000000</td>\n",
       "      <td>0.000000</td>\n",
       "      <td>...</td>\n",
       "      <td>0.000000</td>\n",
       "      <td>0.000000</td>\n",
       "      <td>0.000000</td>\n",
       "      <td>0.000000</td>\n",
       "      <td>0.000000</td>\n",
       "      <td>0.000000</td>\n",
       "      <td>0.000000</td>\n",
       "      <td>0.000000</td>\n",
       "      <td>0.000000</td>\n",
       "      <td>0.000000</td>\n",
       "    </tr>\n",
       "    <tr>\n",
       "      <th>25%</th>\n",
       "      <td>30587.250000</td>\n",
       "      <td>54.920000</td>\n",
       "      <td>3.000000</td>\n",
       "      <td>3.000000</td>\n",
       "      <td>353.000000</td>\n",
       "      <td>324.000000</td>\n",
       "      <td>195.000000</td>\n",
       "      <td>178.000000</td>\n",
       "      <td>1250.000000</td>\n",
       "      <td>1550.000000</td>\n",
       "      <td>...</td>\n",
       "      <td>0.000000</td>\n",
       "      <td>0.000000</td>\n",
       "      <td>0.000000</td>\n",
       "      <td>0.000000</td>\n",
       "      <td>0.000000</td>\n",
       "      <td>0.000000</td>\n",
       "      <td>0.000000</td>\n",
       "      <td>0.000000</td>\n",
       "      <td>0.000000</td>\n",
       "      <td>0.000000</td>\n",
       "    </tr>\n",
       "    <tr>\n",
       "      <th>50%</th>\n",
       "      <td>61214.500000</td>\n",
       "      <td>94.910000</td>\n",
       "      <td>6.000000</td>\n",
       "      <td>6.000000</td>\n",
       "      <td>500.000000</td>\n",
       "      <td>500.000000</td>\n",
       "      <td>380.000000</td>\n",
       "      <td>341.000000</td>\n",
       "      <td>5600.000000</td>\n",
       "      <td>7300.000000</td>\n",
       "      <td>...</td>\n",
       "      <td>1.000000</td>\n",
       "      <td>1.000000</td>\n",
       "      <td>1.000000</td>\n",
       "      <td>1.000000</td>\n",
       "      <td>0.000000</td>\n",
       "      <td>0.000000</td>\n",
       "      <td>0.000000</td>\n",
       "      <td>1.000000</td>\n",
       "      <td>0.000000</td>\n",
       "      <td>0.000000</td>\n",
       "    </tr>\n",
       "    <tr>\n",
       "      <th>75%</th>\n",
       "      <td>91835.750000</td>\n",
       "      <td>166.910000</td>\n",
       "      <td>10.000000</td>\n",
       "      <td>10.000000</td>\n",
       "      <td>500.000000</td>\n",
       "      <td>500.000000</td>\n",
       "      <td>486.000000</td>\n",
       "      <td>469.000000</td>\n",
       "      <td>14700.000000</td>\n",
       "      <td>18150.000000</td>\n",
       "      <td>...</td>\n",
       "      <td>3.000000</td>\n",
       "      <td>3.000000</td>\n",
       "      <td>3.000000</td>\n",
       "      <td>3.000000</td>\n",
       "      <td>2.000000</td>\n",
       "      <td>0.000000</td>\n",
       "      <td>0.000000</td>\n",
       "      <td>2.000000</td>\n",
       "      <td>0.000000</td>\n",
       "      <td>0.000000</td>\n",
       "    </tr>\n",
       "    <tr>\n",
       "      <th>max</th>\n",
       "      <td>122409.000000</td>\n",
       "      <td>175.000000</td>\n",
       "      <td>32.000000</td>\n",
       "      <td>33.000000</td>\n",
       "      <td>500.000000</td>\n",
       "      <td>500.000000</td>\n",
       "      <td>500.000000</td>\n",
       "      <td>500.000000</td>\n",
       "      <td>80000.000000</td>\n",
       "      <td>80000.000000</td>\n",
       "      <td>...</td>\n",
       "      <td>7.000000</td>\n",
       "      <td>7.000000</td>\n",
       "      <td>6.000000</td>\n",
       "      <td>9.000000</td>\n",
       "      <td>5.000000</td>\n",
       "      <td>3.000000</td>\n",
       "      <td>3.000000</td>\n",
       "      <td>5.000000</td>\n",
       "      <td>3.000000</td>\n",
       "      <td>2.000000</td>\n",
       "    </tr>\n",
       "  </tbody>\n",
       "</table>\n",
       "<p>8 rows × 95 columns</p>\n",
       "</div>"
      ],
      "text/plain": [
       "          Unnamed: 0      time_left       ct_score        t_score  \\\n",
       "count  121054.000000  121054.000000  121054.000000  121054.000000   \n",
       "mean    61211.649603      97.779809       6.697152       6.768888   \n",
       "std     35350.228422      54.274380       4.791150       4.824726   \n",
       "min         0.000000       0.010000       0.000000       0.000000   \n",
       "25%     30587.250000      54.920000       3.000000       3.000000   \n",
       "50%     61214.500000      94.910000       6.000000       6.000000   \n",
       "75%     91835.750000     166.910000      10.000000      10.000000   \n",
       "max    122409.000000     175.000000      32.000000      33.000000   \n",
       "\n",
       "           ct_health       t_health       ct_armor        t_armor  \\\n",
       "count  121054.000000  121054.000000  121054.000000  121054.000000   \n",
       "mean      412.612892     403.256034     316.213632     300.425488   \n",
       "std       131.805923     139.401569     170.006382     173.772098   \n",
       "min         1.000000       0.000000       0.000000       0.000000   \n",
       "25%       353.000000     324.000000     195.000000     178.000000   \n",
       "50%       500.000000     500.000000     380.000000     341.000000   \n",
       "75%       500.000000     500.000000     486.000000     469.000000   \n",
       "max       500.000000     500.000000     500.000000     500.000000   \n",
       "\n",
       "            ct_money        t_money  ...  ct_grenade_flashbang  \\\n",
       "count  121054.000000  121054.000000  ...         121054.000000   \n",
       "mean     9835.801378   11299.019446  ...              1.865399   \n",
       "std     11223.205878   12175.515454  ...              1.774786   \n",
       "min         0.000000       0.000000  ...              0.000000   \n",
       "25%      1250.000000    1550.000000  ...              0.000000   \n",
       "50%      5600.000000    7300.000000  ...              1.000000   \n",
       "75%     14700.000000   18150.000000  ...              3.000000   \n",
       "max     80000.000000   80000.000000  ...              7.000000   \n",
       "\n",
       "       t_grenade_flashbang  ct_grenade_smokegrenade  t_grenade_smokegrenade  \\\n",
       "count        121054.000000            121054.000000           121054.000000   \n",
       "mean              1.871330                 1.552745                1.640747   \n",
       "std               1.796927                 1.741392                1.832858   \n",
       "min               0.000000                 0.000000                0.000000   \n",
       "25%               0.000000                 0.000000                0.000000   \n",
       "50%               1.000000                 1.000000                1.000000   \n",
       "75%               3.000000                 3.000000                3.000000   \n",
       "max               7.000000                 6.000000                9.000000   \n",
       "\n",
       "       ct_grenade_incendiarygrenade  t_grenade_incendiarygrenade  \\\n",
       "count                 121054.000000                121054.000000   \n",
       "mean                       1.010590                     0.019462   \n",
       "std                        1.462583                     0.142500   \n",
       "min                        0.000000                     0.000000   \n",
       "25%                        0.000000                     0.000000   \n",
       "50%                        0.000000                     0.000000   \n",
       "75%                        2.000000                     0.000000   \n",
       "max                        5.000000                     3.000000   \n",
       "\n",
       "       ct_grenade_molotovgrenade  t_grenade_molotovgrenade  \\\n",
       "count              121054.000000             121054.000000   \n",
       "mean                    0.047805                  1.363846   \n",
       "std                     0.226938                  1.666982   \n",
       "min                     0.000000                  0.000000   \n",
       "25%                     0.000000                  0.000000   \n",
       "50%                     0.000000                  1.000000   \n",
       "75%                     0.000000                  2.000000   \n",
       "max                     3.000000                  5.000000   \n",
       "\n",
       "       ct_grenade_decoygrenade  t_grenade_decoygrenade  \n",
       "count            121054.000000           121054.000000  \n",
       "mean                  0.027872                0.025914  \n",
       "std                   0.170086                0.164700  \n",
       "min                   0.000000                0.000000  \n",
       "25%                   0.000000                0.000000  \n",
       "50%                   0.000000                0.000000  \n",
       "75%                   0.000000                0.000000  \n",
       "max                   3.000000                2.000000  \n",
       "\n",
       "[8 rows x 95 columns]"
      ]
     },
     "execution_count": 31,
     "metadata": {},
     "output_type": "execute_result"
    }
   ],
   "source": [
    "df.describe()"
   ]
  },
  {
   "cell_type": "markdown",
   "id": "ce9804de",
   "metadata": {},
   "source": [
    "## Análisis de variables macro a nivel ronda"
   ]
  },
  {
   "cell_type": "markdown",
   "id": "a9e5b6ba",
   "metadata": {},
   "source": [
    "Se distinguen las siguientes variables:\n",
    "- Time left\n",
    "- Scores\n",
    "- Mapa\n",
    "- ¿Está plantada la bomba? (booleano)\n",
    "- Jugadores vivos (ct_players_alive, t_players_alive)\n",
    "- Ganador final de la ronda (96: round_winner)"
   ]
  },
  {
   "cell_type": "code",
   "execution_count": 32,
   "id": "b3dee2db",
   "metadata": {},
   "outputs": [
    {
     "data": {
      "text/plain": [
       "<AxesSubplot:>"
      ]
     },
     "execution_count": 32,
     "metadata": {},
     "output_type": "execute_result"
    },
    {
     "data": {
      "image/png": "[encoded data removed]",
      "text/plain": [
       "<Figure size 432x288 with 1 Axes>"
      ]
     },
     "metadata": {
      "needs_background": "light"
     },
     "output_type": "display_data"
    }
   ],
   "source": [
    "df.time_left.hist()"
   ]
  },
  {
   "cell_type": "code",
   "execution_count": 33,
   "id": "6aba36c1",
   "metadata": {},
   "outputs": [
    {
     "data": {
      "text/plain": [
       "array([ 0.,  1.,  2.,  3.,  4.,  5.,  6.,  7.,  8.,  9., 10., 11., 12.,\n",
       "       13., 14., 15., 16., 17., 18., 19., 20., 21., 22., 23., 24., 25.,\n",
       "       26., 27., 28., 29., 30., 31., 32.])"
      ]
     },
     "execution_count": 33,
     "metadata": {},
     "output_type": "execute_result"
    }
   ],
   "source": [
    "df.ct_score.unique()"
   ]
  },
  {
   "cell_type": "code",
   "execution_count": 34,
   "id": "e7ca1b66",
   "metadata": {},
   "outputs": [
    {
     "data": {
      "text/plain": [
       "array([ 0.,  1.,  2.,  3.,  4., 11., 12., 13., 14., 15.,  5.,  6.,  8.,\n",
       "        9., 10.,  7., 16., 17., 18., 19., 20., 21., 23., 22., 24., 26.,\n",
       "       27., 28., 29., 30., 25., 31., 32., 33.])"
      ]
     },
     "execution_count": 34,
     "metadata": {},
     "output_type": "execute_result"
    }
   ],
   "source": [
    "df.t_score.unique()"
   ]
  },
  {
   "cell_type": "code",
   "execution_count": 35,
   "id": "96cd9f19",
   "metadata": {},
   "outputs": [
    {
     "data": {
      "text/plain": [
       "<AxesSubplot:>"
      ]
     },
     "execution_count": 35,
     "metadata": {},
     "output_type": "execute_result"
    },
    {
     "data": {
      "image/png": "[encoded data removed]",
      "text/plain": [
       "<Figure size 432x288 with 1 Axes>"
      ]
     },
     "metadata": {
      "needs_background": "light"
     },
     "output_type": "display_data"
    }
   ],
   "source": [
    "df.ct_score.hist()"
   ]
  },
  {
   "cell_type": "code",
   "execution_count": 36,
   "id": "50d9dff8",
   "metadata": {},
   "outputs": [
    {
     "data": {
      "text/plain": [
       "<AxesSubplot:>"
      ]
     },
     "execution_count": 36,
     "metadata": {},
     "output_type": "execute_result"
    },
    {
     "data": {
      "image/png": "[encoded data removed]",
      "text/plain": [
       "<Figure size 432x288 with 1 Axes>"
      ]
     },
     "metadata": {
      "needs_background": "light"
     },
     "output_type": "display_data"
    }
   ],
   "source": [
    "df.t_score.hist()"
   ]
  },
  {
   "cell_type": "code",
   "execution_count": 37,
   "id": "f13d4dbe",
   "metadata": {},
   "outputs": [
    {
     "name": "stdout",
     "output_type": "stream",
     "text": [
      "Se juegan únicamente  8 mapas en eSports\n"
     ]
    }
   ],
   "source": [
    "maps_played = df.map.unique()\n",
    "\n",
    "print('Se juegan únicamente ',len(maps_played),'mapas en eSports')"
   ]
  },
  {
   "cell_type": "code",
   "execution_count": 38,
   "id": "c1c8132e",
   "metadata": {},
   "outputs": [
    {
     "name": "stdout",
     "output_type": "stream",
     "text": [
      "0 indica no plantada, 1 indica plantada\n"
     ]
    }
   ],
   "source": [
    "df.bomb_planted.value_counts()\n",
    "\n",
    "print('0 indica no plantada, 1 indica plantada')"
   ]
  },
  {
   "cell_type": "code",
   "execution_count": 39,
   "id": "f16034f1",
   "metadata": {},
   "outputs": [
    {
     "data": {
      "text/plain": [
       "T     61746\n",
       "CT    59308\n",
       "Name: round_winner, dtype: int64"
      ]
     },
     "execution_count": 39,
     "metadata": {},
     "output_type": "execute_result"
    }
   ],
   "source": [
    "df.round_winner.value_counts()"
   ]
  },
  {
   "cell_type": "markdown",
   "id": "445a9d04",
   "metadata": {},
   "source": [
    "## Análisis de variables por equipo"
   ]
  },
  {
   "cell_type": "code",
   "execution_count": null,
   "id": "d44ecb81",
   "metadata": {},
   "outputs": [],
   "source": []
  },
  {
   "cell_type": "code",
   "execution_count": 40,
   "id": "252d50eb",
   "metadata": {},
   "outputs": [
    {
     "data": {
      "text/plain": [
       "<AxesSubplot:>"
      ]
     },
     "execution_count": 40,
     "metadata": {},
     "output_type": "execute_result"
    },
    {
     "data": {
      "image/png": "[encoded data removed]",
      "text/plain": [
       "<Figure size 432x288 with 1 Axes>"
      ]
     },
     "metadata": {
      "needs_background": "light"
     },
     "output_type": "display_data"
    }
   ],
   "source": [
    "df.ct_health.hist()\n"
   ]
  },
  {
   "cell_type": "code",
   "execution_count": 41,
   "id": "ba69989a",
   "metadata": {},
   "outputs": [
    {
     "data": {
      "text/plain": [
       "<AxesSubplot:>"
      ]
     },
     "execution_count": 41,
     "metadata": {},
     "output_type": "execute_result"
    },
    {
     "data": {
      "image/png": "[encoded data removed]",
      "text/plain": [
       "<Figure size 432x288 with 1 Axes>"
      ]
     },
     "metadata": {
      "needs_background": "light"
     },
     "output_type": "display_data"
    }
   ],
   "source": [
    "df.t_armor.hist()"
   ]
  },
  {
   "cell_type": "markdown",
   "id": "cd3437b4",
   "metadata": {},
   "source": [
    "Se distinguen las siguientes variables:\n",
    "- Salud (CT y TT) [Valor entre 0 y 500]\n",
    "- Armor (CT y TT) [Valor entre 0 y 500]\n",
    "- Helmet (CT y TT) [Valor entre 0 y 5]\n",
    "- Plata (CT y TT). Considerar que el maximo es 16000 por jugador\n",
    "- Defuse kits disponbiles\n",
    "- Armas a disposición (deben tenerlas encima para la captura lógicamente).\n",
    "    - Respecto a las armas se distinguen las siguientes categorías. Se deberá dividir las columnas y crear familias, salvo que interese algun arma particular:\n",
    "        - Pistols\n",
    "        - Shotguns\n",
    "        - SMGs\n",
    "        - Rifles\n",
    "        - Sniper Rifles\t\n",
    "        - Machine Guns\n",
    "        - Grenades (Flash, HE, Decoy, Smoke, Molotov, Incendiaria)\n",
    "        - Other Equipment (no se considera cuchi ni la Zeus)"
   ]
  },
  {
   "cell_type": "code",
   "execution_count": 42,
   "id": "38c9f496",
   "metadata": {},
   "outputs": [
    {
     "data": {
      "text/plain": [
       "0.0    37743\n",
       "5.0    18332\n",
       "1.0    17939\n",
       "2.0    16121\n",
       "4.0    15478\n",
       "3.0    15441\n",
       "Name: ct_helmets, dtype: int64"
      ]
     },
     "execution_count": 42,
     "metadata": {},
     "output_type": "execute_result"
    }
   ],
   "source": [
    "df.ct_helmets.value_counts()"
   ]
  },
  {
   "cell_type": "code",
   "execution_count": 43,
   "id": "90d2962b",
   "metadata": {},
   "outputs": [
    {
     "data": {
      "text/plain": [
       "0.0    41257\n",
       "1.0    27212\n",
       "2.0    17092\n",
       "3.0    15288\n",
       "4.0    11952\n",
       "5.0     8253\n",
       "Name: ct_defuse_kits, dtype: int64"
      ]
     },
     "execution_count": 43,
     "metadata": {},
     "output_type": "execute_result"
    }
   ],
   "source": [
    "df.ct_defuse_kits.value_counts()"
   ]
  },
  {
   "cell_type": "code",
   "execution_count": 44,
   "id": "f662881c",
   "metadata": {},
   "outputs": [
    {
     "data": {
      "text/plain": [
       "0.0    51216\n",
       "1.0    24667\n",
       "2.0    20719\n",
       "3.0    14232\n",
       "4.0     8409\n",
       "5.0     1811\n",
       "Name: t_weapon_ak47, dtype: int64"
      ]
     },
     "execution_count": 44,
     "metadata": {},
     "output_type": "execute_result"
    }
   ],
   "source": [
    "df.t_weapon_ak47.value_counts()"
   ]
  },
  {
   "cell_type": "code",
   "execution_count": 45,
   "id": "896de71a",
   "metadata": {},
   "outputs": [
    {
     "data": {
      "text/plain": [
       "<AxesSubplot:>"
      ]
     },
     "execution_count": 45,
     "metadata": {},
     "output_type": "execute_result"
    },
    {
     "data": {
      "image/png": "[encoded data removed]",
      "text/plain": [
       "<Figure size 432x288 with 1 Axes>"
      ]
     },
     "metadata": {
      "needs_background": "light"
     },
     "output_type": "display_data"
    }
   ],
   "source": [
    "df.ct_money.hist()"
   ]
  },
  {
   "cell_type": "code",
   "execution_count": null,
   "id": "2f1417fb",
   "metadata": {},
   "outputs": [],
   "source": []
  }
 ],
 "metadata": {
  "kernelspec": {
   "display_name": "Python 3",
   "language": "python",
   "name": "python3"
  },
  "language_info": {
   "codemirror_mode": {
    "name": "ipython",
    "version": 3
   },
   "file_extension": ".py",
   "mimetype": "text/x-python",
   "name": "python",
   "nbconvert_exporter": "python",
   "pygments_lexer": "ipython3",
   "version": "3.8.11"
  }
 },
 "nbformat": 4,
 "nbformat_minor": 5
}
