{
 "cells": [
  {
   "cell_type": "markdown",
   "id": "adjacent-brisbane",
   "metadata": {},
   "source": [
    "# GPS MÓDULO 2"
   ]
  },
  {
   "cell_type": "code",
   "execution_count": 2,
   "id": "acoustic-bracket",
   "metadata": {},
   "outputs": [],
   "source": [
    "import pandas as pd\n",
    "# opción mostrar hasta 500 columnas\n",
    "pd.set_option('display.max_columns', 500)\n",
    "# opción mostrar toda la info de una columna\n",
    "# pd.set_option('display.max_colwidth', None)\n",
    "# opción de que muestre hasta 3 decimales y suprima la notación científica\n",
    "pd.set_option('display.float_format', lambda x: '%.3f' % x)\n",
    "import numpy as np"
   ]
  },
  {
   "cell_type": "code",
   "execution_count": 3,
   "id": "hourly-family",
   "metadata": {},
   "outputs": [],
   "source": [
    "# setear parámetros generales para los gráficos\n",
    "import matplotlib.pyplot as plt\n",
    "#plt.rc('font', size=12)          # controls default text sizes\n",
    "plt.rc('axes', titlesize=15)     # fontsize of the axes title\n",
    "plt.rc('axes', labelsize=14)    # fontsize of the x and y labels\n",
    "plt.rc('xtick', labelsize=11)    # fontsize of the tick labels\n",
    "plt.rc('ytick', labelsize=11)    # fontsize of the tick labels\n",
    "plt.rc('legend', fontsize=9)    # legend fontsize\n",
    "plt.rc('figure', titlesize=19)  # fontsize of the figure title"
   ]
  },
  {
   "cell_type": "code",
   "execution_count": 4,
   "id": "decreased-portfolio",
   "metadata": {},
   "outputs": [],
   "source": [
    "# también se puede usar\n",
    "# with pd.option_context('display.max_rows', None, 'display.max_columns', None):  # more options can be specified also\n",
    "#    print(data_agrup_type_state)"
   ]
  },
  {
   "cell_type": "markdown",
   "id": "adjusted-berkeley",
   "metadata": {},
   "source": [
    "## 0. CARGAMOS DATASET DE PROPERATTI"
   ]
  },
  {
   "cell_type": "code",
   "execution_count": 5,
   "id": "funded-qualification",
   "metadata": {},
   "outputs": [],
   "source": [
    "import pandas as pd\n",
    "import numpy as np\n",
    "import matplotlib.pyplot as plt\n",
    "import seaborn as sns"
   ]
  },
  {
   "cell_type": "code",
   "execution_count": 6,
   "id": "vocal-stockholm",
   "metadata": {},
   "outputs": [
    {
     "ename": "FileNotFoundError",
     "evalue": "[Errno 2] No such file or directory: 'properati.csv'",
     "output_type": "error",
     "traceback": [
      "\u001b[0;31m---------------------------------------------------------------------------\u001b[0m",
      "\u001b[0;31mFileNotFoundError\u001b[0m                         Traceback (most recent call last)",
      "\u001b[0;32m<ipython-input-6-c4fac4cb6c11>\u001b[0m in \u001b[0;36m<module>\u001b[0;34m\u001b[0m\n\u001b[0;32m----> 1\u001b[0;31m \u001b[0mdf\u001b[0m \u001b[0;34m=\u001b[0m \u001b[0mpd\u001b[0m\u001b[0;34m.\u001b[0m\u001b[0mread_csv\u001b[0m\u001b[0;34m(\u001b[0m\u001b[0;34m'properati.csv'\u001b[0m\u001b[0;34m,\u001b[0m \u001b[0mindex_col\u001b[0m\u001b[0;34m=\u001b[0m\u001b[0;34m'Unnamed: 0'\u001b[0m\u001b[0;34m)\u001b[0m\u001b[0;34m\u001b[0m\u001b[0;34m\u001b[0m\u001b[0m\n\u001b[0m",
      "\u001b[0;32m~/opt/anaconda3/lib/python3.8/site-packages/pandas/io/parsers.py\u001b[0m in \u001b[0;36mread_csv\u001b[0;34m(filepath_or_buffer, sep, delimiter, header, names, index_col, usecols, squeeze, prefix, mangle_dupe_cols, dtype, engine, converters, true_values, false_values, skipinitialspace, skiprows, skipfooter, nrows, na_values, keep_default_na, na_filter, verbose, skip_blank_lines, parse_dates, infer_datetime_format, keep_date_col, date_parser, dayfirst, cache_dates, iterator, chunksize, compression, thousands, decimal, lineterminator, quotechar, quoting, doublequote, escapechar, comment, encoding, dialect, error_bad_lines, warn_bad_lines, delim_whitespace, low_memory, memory_map, float_precision, storage_options)\u001b[0m\n\u001b[1;32m    608\u001b[0m     \u001b[0mkwds\u001b[0m\u001b[0;34m.\u001b[0m\u001b[0mupdate\u001b[0m\u001b[0;34m(\u001b[0m\u001b[0mkwds_defaults\u001b[0m\u001b[0;34m)\u001b[0m\u001b[0;34m\u001b[0m\u001b[0;34m\u001b[0m\u001b[0m\n\u001b[1;32m    609\u001b[0m \u001b[0;34m\u001b[0m\u001b[0m\n\u001b[0;32m--> 610\u001b[0;31m     \u001b[0;32mreturn\u001b[0m \u001b[0m_read\u001b[0m\u001b[0;34m(\u001b[0m\u001b[0mfilepath_or_buffer\u001b[0m\u001b[0;34m,\u001b[0m \u001b[0mkwds\u001b[0m\u001b[0;34m)\u001b[0m\u001b[0;34m\u001b[0m\u001b[0;34m\u001b[0m\u001b[0m\n\u001b[0m\u001b[1;32m    611\u001b[0m \u001b[0;34m\u001b[0m\u001b[0m\n\u001b[1;32m    612\u001b[0m \u001b[0;34m\u001b[0m\u001b[0m\n",
      "\u001b[0;32m~/opt/anaconda3/lib/python3.8/site-packages/pandas/io/parsers.py\u001b[0m in \u001b[0;36m_read\u001b[0;34m(filepath_or_buffer, kwds)\u001b[0m\n\u001b[1;32m    460\u001b[0m \u001b[0;34m\u001b[0m\u001b[0m\n\u001b[1;32m    461\u001b[0m     \u001b[0;31m# Create the parser.\u001b[0m\u001b[0;34m\u001b[0m\u001b[0;34m\u001b[0m\u001b[0;34m\u001b[0m\u001b[0m\n\u001b[0;32m--> 462\u001b[0;31m     \u001b[0mparser\u001b[0m \u001b[0;34m=\u001b[0m \u001b[0mTextFileReader\u001b[0m\u001b[0;34m(\u001b[0m\u001b[0mfilepath_or_buffer\u001b[0m\u001b[0;34m,\u001b[0m \u001b[0;34m**\u001b[0m\u001b[0mkwds\u001b[0m\u001b[0;34m)\u001b[0m\u001b[0;34m\u001b[0m\u001b[0;34m\u001b[0m\u001b[0m\n\u001b[0m\u001b[1;32m    463\u001b[0m \u001b[0;34m\u001b[0m\u001b[0m\n\u001b[1;32m    464\u001b[0m     \u001b[0;32mif\u001b[0m \u001b[0mchunksize\u001b[0m \u001b[0;32mor\u001b[0m \u001b[0miterator\u001b[0m\u001b[0;34m:\u001b[0m\u001b[0;34m\u001b[0m\u001b[0;34m\u001b[0m\u001b[0m\n",
      "\u001b[0;32m~/opt/anaconda3/lib/python3.8/site-packages/pandas/io/parsers.py\u001b[0m in \u001b[0;36m__init__\u001b[0;34m(self, f, engine, **kwds)\u001b[0m\n\u001b[1;32m    817\u001b[0m             \u001b[0mself\u001b[0m\u001b[0;34m.\u001b[0m\u001b[0moptions\u001b[0m\u001b[0;34m[\u001b[0m\u001b[0;34m\"has_index_names\"\u001b[0m\u001b[0;34m]\u001b[0m \u001b[0;34m=\u001b[0m \u001b[0mkwds\u001b[0m\u001b[0;34m[\u001b[0m\u001b[0;34m\"has_index_names\"\u001b[0m\u001b[0;34m]\u001b[0m\u001b[0;34m\u001b[0m\u001b[0;34m\u001b[0m\u001b[0m\n\u001b[1;32m    818\u001b[0m \u001b[0;34m\u001b[0m\u001b[0m\n\u001b[0;32m--> 819\u001b[0;31m         \u001b[0mself\u001b[0m\u001b[0;34m.\u001b[0m\u001b[0m_engine\u001b[0m \u001b[0;34m=\u001b[0m \u001b[0mself\u001b[0m\u001b[0;34m.\u001b[0m\u001b[0m_make_engine\u001b[0m\u001b[0;34m(\u001b[0m\u001b[0mself\u001b[0m\u001b[0;34m.\u001b[0m\u001b[0mengine\u001b[0m\u001b[0;34m)\u001b[0m\u001b[0;34m\u001b[0m\u001b[0;34m\u001b[0m\u001b[0m\n\u001b[0m\u001b[1;32m    820\u001b[0m \u001b[0;34m\u001b[0m\u001b[0m\n\u001b[1;32m    821\u001b[0m     \u001b[0;32mdef\u001b[0m \u001b[0mclose\u001b[0m\u001b[0;34m(\u001b[0m\u001b[0mself\u001b[0m\u001b[0;34m)\u001b[0m\u001b[0;34m:\u001b[0m\u001b[0;34m\u001b[0m\u001b[0;34m\u001b[0m\u001b[0m\n",
      "\u001b[0;32m~/opt/anaconda3/lib/python3.8/site-packages/pandas/io/parsers.py\u001b[0m in \u001b[0;36m_make_engine\u001b[0;34m(self, engine)\u001b[0m\n\u001b[1;32m   1048\u001b[0m             )\n\u001b[1;32m   1049\u001b[0m         \u001b[0;31m# error: Too many arguments for \"ParserBase\"\u001b[0m\u001b[0;34m\u001b[0m\u001b[0;34m\u001b[0m\u001b[0;34m\u001b[0m\u001b[0m\n\u001b[0;32m-> 1050\u001b[0;31m         \u001b[0;32mreturn\u001b[0m \u001b[0mmapping\u001b[0m\u001b[0;34m[\u001b[0m\u001b[0mengine\u001b[0m\u001b[0;34m]\u001b[0m\u001b[0;34m(\u001b[0m\u001b[0mself\u001b[0m\u001b[0;34m.\u001b[0m\u001b[0mf\u001b[0m\u001b[0;34m,\u001b[0m \u001b[0;34m**\u001b[0m\u001b[0mself\u001b[0m\u001b[0;34m.\u001b[0m\u001b[0moptions\u001b[0m\u001b[0;34m)\u001b[0m  \u001b[0;31m# type: ignore[call-arg]\u001b[0m\u001b[0;34m\u001b[0m\u001b[0;34m\u001b[0m\u001b[0m\n\u001b[0m\u001b[1;32m   1051\u001b[0m \u001b[0;34m\u001b[0m\u001b[0m\n\u001b[1;32m   1052\u001b[0m     \u001b[0;32mdef\u001b[0m \u001b[0m_failover_to_python\u001b[0m\u001b[0;34m(\u001b[0m\u001b[0mself\u001b[0m\u001b[0;34m)\u001b[0m\u001b[0;34m:\u001b[0m\u001b[0;34m\u001b[0m\u001b[0;34m\u001b[0m\u001b[0m\n",
      "\u001b[0;32m~/opt/anaconda3/lib/python3.8/site-packages/pandas/io/parsers.py\u001b[0m in \u001b[0;36m__init__\u001b[0;34m(self, src, **kwds)\u001b[0m\n\u001b[1;32m   1865\u001b[0m \u001b[0;34m\u001b[0m\u001b[0m\n\u001b[1;32m   1866\u001b[0m         \u001b[0;31m# open handles\u001b[0m\u001b[0;34m\u001b[0m\u001b[0;34m\u001b[0m\u001b[0;34m\u001b[0m\u001b[0m\n\u001b[0;32m-> 1867\u001b[0;31m         \u001b[0mself\u001b[0m\u001b[0;34m.\u001b[0m\u001b[0m_open_handles\u001b[0m\u001b[0;34m(\u001b[0m\u001b[0msrc\u001b[0m\u001b[0;34m,\u001b[0m \u001b[0mkwds\u001b[0m\u001b[0;34m)\u001b[0m\u001b[0;34m\u001b[0m\u001b[0;34m\u001b[0m\u001b[0m\n\u001b[0m\u001b[1;32m   1868\u001b[0m         \u001b[0;32massert\u001b[0m \u001b[0mself\u001b[0m\u001b[0;34m.\u001b[0m\u001b[0mhandles\u001b[0m \u001b[0;32mis\u001b[0m \u001b[0;32mnot\u001b[0m \u001b[0;32mNone\u001b[0m\u001b[0;34m\u001b[0m\u001b[0;34m\u001b[0m\u001b[0m\n\u001b[1;32m   1869\u001b[0m         \u001b[0;32mfor\u001b[0m \u001b[0mkey\u001b[0m \u001b[0;32min\u001b[0m \u001b[0;34m(\u001b[0m\u001b[0;34m\"storage_options\"\u001b[0m\u001b[0;34m,\u001b[0m \u001b[0;34m\"encoding\"\u001b[0m\u001b[0;34m,\u001b[0m \u001b[0;34m\"memory_map\"\u001b[0m\u001b[0;34m,\u001b[0m \u001b[0;34m\"compression\"\u001b[0m\u001b[0;34m)\u001b[0m\u001b[0;34m:\u001b[0m\u001b[0;34m\u001b[0m\u001b[0;34m\u001b[0m\u001b[0m\n",
      "\u001b[0;32m~/opt/anaconda3/lib/python3.8/site-packages/pandas/io/parsers.py\u001b[0m in \u001b[0;36m_open_handles\u001b[0;34m(self, src, kwds)\u001b[0m\n\u001b[1;32m   1360\u001b[0m         \u001b[0mLet\u001b[0m \u001b[0mthe\u001b[0m \u001b[0mreaders\u001b[0m \u001b[0mopen\u001b[0m \u001b[0mIOHanldes\u001b[0m \u001b[0mafter\u001b[0m \u001b[0mthey\u001b[0m \u001b[0mare\u001b[0m \u001b[0mdone\u001b[0m \u001b[0;32mwith\u001b[0m \u001b[0mtheir\u001b[0m \u001b[0mpotential\u001b[0m \u001b[0mraises\u001b[0m\u001b[0;34m.\u001b[0m\u001b[0;34m\u001b[0m\u001b[0;34m\u001b[0m\u001b[0m\n\u001b[1;32m   1361\u001b[0m         \"\"\"\n\u001b[0;32m-> 1362\u001b[0;31m         self.handles = get_handle(\n\u001b[0m\u001b[1;32m   1363\u001b[0m             \u001b[0msrc\u001b[0m\u001b[0;34m,\u001b[0m\u001b[0;34m\u001b[0m\u001b[0;34m\u001b[0m\u001b[0m\n\u001b[1;32m   1364\u001b[0m             \u001b[0;34m\"r\"\u001b[0m\u001b[0;34m,\u001b[0m\u001b[0;34m\u001b[0m\u001b[0;34m\u001b[0m\u001b[0m\n",
      "\u001b[0;32m~/opt/anaconda3/lib/python3.8/site-packages/pandas/io/common.py\u001b[0m in \u001b[0;36mget_handle\u001b[0;34m(path_or_buf, mode, encoding, compression, memory_map, is_text, errors, storage_options)\u001b[0m\n\u001b[1;32m    640\u001b[0m                 \u001b[0merrors\u001b[0m \u001b[0;34m=\u001b[0m \u001b[0;34m\"replace\"\u001b[0m\u001b[0;34m\u001b[0m\u001b[0;34m\u001b[0m\u001b[0m\n\u001b[1;32m    641\u001b[0m             \u001b[0;31m# Encoding\u001b[0m\u001b[0;34m\u001b[0m\u001b[0;34m\u001b[0m\u001b[0;34m\u001b[0m\u001b[0m\n\u001b[0;32m--> 642\u001b[0;31m             handle = open(\n\u001b[0m\u001b[1;32m    643\u001b[0m                 \u001b[0mhandle\u001b[0m\u001b[0;34m,\u001b[0m\u001b[0;34m\u001b[0m\u001b[0;34m\u001b[0m\u001b[0m\n\u001b[1;32m    644\u001b[0m                 \u001b[0mioargs\u001b[0m\u001b[0;34m.\u001b[0m\u001b[0mmode\u001b[0m\u001b[0;34m,\u001b[0m\u001b[0;34m\u001b[0m\u001b[0;34m\u001b[0m\u001b[0m\n",
      "\u001b[0;31mFileNotFoundError\u001b[0m: [Errno 2] No such file or directory: 'properati.csv'"
     ]
    }
   ],
   "source": [
    "df = pd.read_csv('properati.csv', index_col='Unnamed: 0')"
   ]
  },
  {
   "cell_type": "code",
   "execution_count": null,
   "id": "encouraging-invalid",
   "metadata": {},
   "outputs": [],
   "source": [
    "df.head(2)"
   ]
  },
  {
   "cell_type": "code",
   "execution_count": null,
   "id": "right-essex",
   "metadata": {},
   "outputs": [],
   "source": [
    "# opción mostrar toda la info de una columna\n",
    "pd.set_option('display.max_colwidth', None) # current 50"
   ]
  },
  {
   "cell_type": "code",
   "execution_count": null,
   "id": "interim-representative",
   "metadata": {},
   "outputs": [],
   "source": [
    "df.description.iloc[1]"
   ]
  },
  {
   "cell_type": "code",
   "execution_count": null,
   "id": "younger-clause",
   "metadata": {},
   "outputs": [],
   "source": []
  },
  {
   "cell_type": "markdown",
   "id": "surface-twenty",
   "metadata": {},
   "source": [
    "## 2. PANDAS 2"
   ]
  },
  {
   "cell_type": "markdown",
   "id": "republican-alexander",
   "metadata": {},
   "source": [
    "### Groupby y transform para completar nulos\n",
    "\n",
    "Queremos completar nulos en price_aprox_usd con la media corresp al tipo de propiedad y state_name"
   ]
  },
  {
   "cell_type": "code",
   "execution_count": null,
   "id": "shared-selling",
   "metadata": {},
   "outputs": [],
   "source": [
    "df[['property_type','state_name','price_aprox_usd']].head()"
   ]
  },
  {
   "cell_type": "code",
   "execution_count": null,
   "id": "destroyed-double",
   "metadata": {},
   "outputs": [],
   "source": [
    "# mask de nulos\n",
    "mask_nulos = df['price_aprox_usd'].isnull()"
   ]
  },
  {
   "cell_type": "code",
   "execution_count": null,
   "id": "sealed-worker",
   "metadata": {},
   "outputs": [],
   "source": [
    "df[mask_nulos][['property_type','state_name','price_aprox_usd']].head()"
   ]
  },
  {
   "cell_type": "code",
   "execution_count": null,
   "id": "demographic-shipping",
   "metadata": {},
   "outputs": [],
   "source": [
    "# Vamos a hacer la media pesada por el tipo de propiedad y el state name\n",
    "df_groupby=df.groupby(['property_type','state_name'])"
   ]
  },
  {
   "cell_type": "code",
   "execution_count": null,
   "id": "appointed-shore",
   "metadata": {},
   "outputs": [],
   "source": [
    "pd.set_option('display.max_rows', 100) # default= None significa todos ; el de inicio es 15"
   ]
  },
  {
   "cell_type": "code",
   "execution_count": null,
   "id": "touched-continent",
   "metadata": {},
   "outputs": [],
   "source": [
    "df_groupby['price_aprox_usd'].mean()"
   ]
  },
  {
   "cell_type": "code",
   "execution_count": null,
   "id": "aggressive-shape",
   "metadata": {},
   "outputs": [],
   "source": [
    "# Aplicamos el transform al groupby combinado al lambda\n",
    "df_groupby['price_aprox_usd'].transform(lambda x: x.fillna(x.mean()))"
   ]
  },
  {
   "cell_type": "code",
   "execution_count": null,
   "id": "suburban-insulation",
   "metadata": {},
   "outputs": [],
   "source": [
    "#Chequeamos que esté haciendo lo que queríamos que haga\n",
    "# Recordemos los nulos\n",
    "df[mask_nulos][['property_type','state_name','price_aprox_usd']].head()"
   ]
  },
  {
   "cell_type": "code",
   "execution_count": null,
   "id": "initial-mounting",
   "metadata": {},
   "outputs": [],
   "source": [
    "df_groupby['price_aprox_usd'].transform(lambda x: x.fillna(x.mean())).iloc[67]"
   ]
  },
  {
   "cell_type": "code",
   "execution_count": null,
   "id": "actual-helping",
   "metadata": {},
   "outputs": [],
   "source": [
    "media_check_fill=df_groupby['price_aprox_usd'].mean()\n",
    "\n",
    "media_check_fill[('house','Bs.As. G.B.A. Zona Oeste')]"
   ]
  },
  {
   "cell_type": "code",
   "execution_count": null,
   "id": "integrated-michigan",
   "metadata": {},
   "outputs": [],
   "source": []
  },
  {
   "cell_type": "markdown",
   "id": "grateful-andrew",
   "metadata": {},
   "source": [
    "### Pivot table"
   ]
  },
  {
   "cell_type": "code",
   "execution_count": null,
   "id": "saved-steel",
   "metadata": {},
   "outputs": [],
   "source": [
    "# Propiedades de Capital Federal\n",
    "df_capital=df[df['state_name']=='Capital Federal']"
   ]
  },
  {
   "cell_type": "code",
   "execution_count": null,
   "id": "pregnant-terror",
   "metadata": {},
   "outputs": [],
   "source": [
    "df_capital.pivot_table(index='place_name',columns='property_type',\n",
    "                       aggfunc={'price_aprox_usd':[np.mean,'count']})"
   ]
  },
  {
   "cell_type": "code",
   "execution_count": null,
   "id": "academic-vacuum",
   "metadata": {},
   "outputs": [],
   "source": [
    "# https://pandas.pydata.org/pandas-docs/stable/reference/api/pandas.DataFrame.plot.html\n",
    "sns.set_style('darkgrid')\n",
    "df_capital.pivot_table(index='place_name',values='price_aprox_usd')\\\n",
    "          .sort_values(by='price_aprox_usd')\\\n",
    "          .plot(kind='bar',figsize=(15,4),title='Precio promedio por barrio',\n",
    "                xlabel='Barrios',ylabel='Precio aprox USD (promedio)',color='red',legend=False);"
   ]
  },
  {
   "cell_type": "markdown",
   "id": "utility-buffalo",
   "metadata": {},
   "source": [
    "### Merge + groupby (+lambda) para sacar outliers"
   ]
  },
  {
   "cell_type": "markdown",
   "id": "irish-approach",
   "metadata": {},
   "source": [
    "Primero un groupby combinado con lambda para calcular el percentil 90 por barrio"
   ]
  },
  {
   "cell_type": "code",
   "execution_count": null,
   "id": "employed-gabriel",
   "metadata": {},
   "outputs": [],
   "source": [
    "df_groupby_barrios=df_capital.groupby('place_name')"
   ]
  },
  {
   "cell_type": "code",
   "execution_count": null,
   "id": "painful-staff",
   "metadata": {},
   "outputs": [],
   "source": [
    "umbral_90=df_groupby_barrios['price_aprox_usd'].aggregate(lambda x: np.percentile(x.dropna(),90))"
   ]
  },
  {
   "cell_type": "code",
   "execution_count": null,
   "id": "induced-september",
   "metadata": {},
   "outputs": [],
   "source": [
    "umbral_90"
   ]
  },
  {
   "cell_type": "markdown",
   "id": "partial-macro",
   "metadata": {},
   "source": [
    "Unimos el resultado del groupby con un merge a nuestro dataframe original"
   ]
  },
  {
   "cell_type": "code",
   "execution_count": null,
   "id": "aging-tuning",
   "metadata": {},
   "outputs": [],
   "source": [
    "df_capital_new=df_capital.merge(umbral_90.reset_index().rename(columns={'price_aprox_usd':'percentil_90'}),\n",
    "                how='left',on='place_name')"
   ]
  },
  {
   "cell_type": "code",
   "execution_count": null,
   "id": "international-metabolism",
   "metadata": {},
   "outputs": [],
   "source": [
    "df_capital_new.head(2)"
   ]
  },
  {
   "cell_type": "markdown",
   "id": "published-buying",
   "metadata": {},
   "source": [
    "Filtramos el dataset según la columna percentil_90"
   ]
  },
  {
   "cell_type": "code",
   "execution_count": null,
   "id": "modular-society",
   "metadata": {},
   "outputs": [],
   "source": [
    "df_capital_clean_for_plot=df_capital_new[df_capital_new['price_aprox_usd']<df_capital_new['percentil_90']]"
   ]
  },
  {
   "cell_type": "code",
   "execution_count": null,
   "id": "eleven-progress",
   "metadata": {},
   "outputs": [],
   "source": []
  },
  {
   "cell_type": "markdown",
   "id": "occupied-screening",
   "metadata": {},
   "source": [
    "Hacemos el plot con seaborn usando boxplots"
   ]
  },
  {
   "cell_type": "code",
   "execution_count": null,
   "id": "unknown-curve",
   "metadata": {},
   "outputs": [],
   "source": [
    "sns.set_style('darkgrid')\n",
    "fig,ax0 = plt.subplots(1, 1, figsize=(15, 6))\n",
    "ax0=sns.boxplot(data=df_capital_clean_for_plot,\n",
    "                x='place_name',y='price_aprox_usd',palette='magma',\n",
    "                order=df_groupby_barrios['price_aprox_usd'].median().sort_values().index.values,\n",
    "                ax=ax0)\n",
    "ax0.set(xlabel = \"Barrios\", ylabel = \"Precio en USD\", title = \"Boxplot por Barrios\")\n",
    "plt.xticks(rotation=90);"
   ]
  },
  {
   "cell_type": "code",
   "execution_count": null,
   "id": "completed-madagascar",
   "metadata": {},
   "outputs": [],
   "source": []
  },
  {
   "cell_type": "markdown",
   "id": "qualified-denver",
   "metadata": {},
   "source": [
    "## 3. DATA WRANGLING"
   ]
  },
  {
   "cell_type": "markdown",
   "id": "thousand-slovenia",
   "metadata": {},
   "source": [
    "### Qcut para filtrar superficies muy grandes"
   ]
  },
  {
   "cell_type": "code",
   "execution_count": null,
   "id": "animated-capital",
   "metadata": {},
   "outputs": [],
   "source": [
    "fig,axs = plt.subplots(2, 2, figsize=(18, 13))\n",
    "\n",
    "#Dividimos la superficie usando qcut y contamos la cant. de observaciones\n",
    "pd.qcut(df_capital_clean_for_plot['surface_total_in_m2'],q=10)\\\n",
    "  .value_counts()\\\n",
    "  .sort_index()\\\n",
    "  .plot(kind='barh',ax=axs[0,0])\n",
    "axs[0,0].set(xlabel = \"Cantidad de observaciones\", ylabel = \"Categorias\", title = \"Superficie por deciles\")\n",
    "\n",
    "# Dividimos la superficie usando cut con 10 bins\n",
    "pd.cut(df_capital_clean_for_plot['surface_total_in_m2'],bins=10)\\\n",
    "  .value_counts()\\\n",
    "  .sort_index()\\\n",
    "  .plot(kind='barh',ax=axs[0,1],color='red')\n",
    "axs[0,1].set(xlabel = \"Cantidad de observaciones\", ylabel = \"\", title = \"Superficie por bines (10)\")\n",
    "\n",
    "# Repetimos la figura 1 pero viendo la proporción de observacciones\n",
    "pd.qcut(df_capital_clean_for_plot['surface_total_in_m2'],q=10)\\\n",
    "  .value_counts(normalize=True)\\\n",
    "  .sort_index()\\\n",
    "  .plot(kind='barh',ax=axs[1,0],color='c')\n",
    "axs[1,0].set(xlabel = \"Proproción de observaciones\", ylabel = \"Categorias\", title = \"Superficie por deciles\")\n",
    "\n",
    "plt.tight_layout()"
   ]
  },
  {
   "cell_type": "code",
   "execution_count": null,
   "id": "daily-reputation",
   "metadata": {},
   "outputs": [],
   "source": [
    "#filtramos la base generando una maskara booleana\n",
    "maskara_filtrar_superficies=pd.qcut(df_capital_clean_for_plot['surface_total_in_m2'],q=10).astype(str)!='(150.0, 8053.0]'"
   ]
  },
  {
   "cell_type": "code",
   "execution_count": null,
   "id": "modular-contrary",
   "metadata": {},
   "outputs": [],
   "source": [
    "df_capital_clean_for_plot_superficie=df_capital_clean_for_plot[maskara_filtrar_superficies]"
   ]
  },
  {
   "cell_type": "code",
   "execution_count": null,
   "id": "underlying-catalyst",
   "metadata": {},
   "outputs": [],
   "source": [
    "df_capital_clean_for_plot_superficie.shape"
   ]
  },
  {
   "cell_type": "code",
   "execution_count": null,
   "id": "median-research",
   "metadata": {},
   "outputs": [],
   "source": []
  },
  {
   "cell_type": "markdown",
   "id": "british-mexican",
   "metadata": {},
   "source": [
    "### Variables categóricas y get dummies"
   ]
  },
  {
   "cell_type": "code",
   "execution_count": null,
   "id": "loving-baker",
   "metadata": {},
   "outputs": [],
   "source": [
    "df_clean_dummies=pd.get_dummies(df_capital_clean_for_plot,columns=['property_type'],drop_first=True)"
   ]
  },
  {
   "cell_type": "code",
   "execution_count": null,
   "id": "usual-olive",
   "metadata": {},
   "outputs": [],
   "source": [
    "# pd.set_option('display.max_colwidth', 50)\n",
    "df_clean_dummies.head()"
   ]
  },
  {
   "cell_type": "markdown",
   "id": "trained-citizen",
   "metadata": {},
   "source": [
    "Vamos a usar la columna dummie para quedarnos solo con los departamentos"
   ]
  },
  {
   "cell_type": "code",
   "execution_count": null,
   "id": "fatty-norfolk",
   "metadata": {},
   "outputs": [],
   "source": [
    "df_clean_dummies_dpto=df_clean_dummies[df_clean_dummies['property_type_apartment']==1]"
   ]
  },
  {
   "cell_type": "code",
   "execution_count": null,
   "id": "stupid-google",
   "metadata": {},
   "outputs": [],
   "source": []
  },
  {
   "cell_type": "markdown",
   "id": "heated-planner",
   "metadata": {},
   "source": [
    "### Plotly"
   ]
  },
  {
   "cell_type": "code",
   "execution_count": null,
   "id": "needed-organizer",
   "metadata": {},
   "outputs": [],
   "source": [
    "import plotly.express as px\n",
    "import plotly as pl\n",
    "pl.offline.init_notebook_mode(connected=True)"
   ]
  },
  {
   "cell_type": "code",
   "execution_count": null,
   "id": "weighted-accommodation",
   "metadata": {},
   "outputs": [],
   "source": [
    "# df_capital_clean_for_plot_superficie = df_capital_clean_for_plot.copy()"
   ]
  },
  {
   "cell_type": "code",
   "execution_count": null,
   "id": "solved-decision",
   "metadata": {},
   "outputs": [],
   "source": [
    "# dropeo los nans porque sino no me deja ajustar el size a una variable que tiene valores faltantes\n",
    "fig = px.scatter(data_frame = df_capital_clean_for_plot_superficie.dropna(subset=['price_usd_per_m2',\n",
    "                                                                                   'surface_total_in_m2',\n",
    "                                                                                   'surface_covered_in_m2']), \n",
    "                 x = \"price_usd_per_m2\", y = \"surface_total_in_m2\",\n",
    "                 size='surface_covered_in_m2',size_max=45,\n",
    "                 color = \"property_type\", opacity = 0.6,\n",
    "                 width=800, height=500,\n",
    "                 hover_data={'property_type':False})\n",
    "\n",
    "fig.update_layout(\n",
    "    title='Relación entre precio y superficie',\n",
    "    yaxis=dict(title='Superficie en m2'),\n",
    "    xaxis=dict(title='Precio por m2 (USD)'))\n",
    "\n",
    "fig.update_xaxes(rangeslider_visible=True)\n",
    "\n",
    "fig.show()"
   ]
  },
  {
   "cell_type": "markdown",
   "id": "blessed-phase",
   "metadata": {},
   "source": [
    "**Plotly en 3D**"
   ]
  },
  {
   "cell_type": "code",
   "execution_count": null,
   "id": "assisted-clock",
   "metadata": {},
   "outputs": [],
   "source": [
    "fig = px.scatter_3d(df_capital_clean_for_plot_superficie, \n",
    "                    x=\"price_usd_per_m2\", y=\"surface_total_in_m2\", \n",
    "                    z=\"surface_covered_in_m2\", color=\"property_type\")\n",
    "\n",
    "fig.update_layout(\n",
    "    title='Relación entre precio, superficie total y superficie cubierta',\n",
    "    scene = dict(xaxis_title='Precio por m2 (USD)',\n",
    "                 yaxis_title='Sup. Total en m2',\n",
    "                 zaxis_title='Sup. Cubierta en m2'))\n",
    "fig.show()"
   ]
  },
  {
   "cell_type": "code",
   "execution_count": null,
   "id": "theoretical-bracket",
   "metadata": {},
   "outputs": [],
   "source": [
    "df_capital_clean_for_plot_superficie.columns.values"
   ]
  },
  {
   "cell_type": "code",
   "execution_count": null,
   "id": "interracial-payroll",
   "metadata": {},
   "outputs": [],
   "source": [
    "fig = px.sunburst(df_capital_clean_for_plot_superficie.dropna(subset=['price_usd_per_m2',\n",
    "                                                                                   'surface_total_in_m2',\n",
    "                                                                                   'surface_covered_in_m2']), \n",
    "                  path=['property_type', 'place_name'], values='price_usd_per_m2',\n",
    "                  color='surface_total_in_m2')\n",
    "\n",
    "fig.update_layout(\n",
    "    title='Relación tipo de inmueble y barrios (precio total y superficie)')\n",
    "\n",
    "fig.show()"
   ]
  },
  {
   "cell_type": "code",
   "execution_count": null,
   "id": "wanted-niagara",
   "metadata": {},
   "outputs": [],
   "source": []
  },
  {
   "cell_type": "markdown",
   "id": "digital-briefing",
   "metadata": {},
   "source": [
    "### Hagamos Mapas con Plotly"
   ]
  },
  {
   "cell_type": "code",
   "execution_count": null,
   "id": "basic-exposure",
   "metadata": {},
   "outputs": [],
   "source": [
    "df_capital_clean_for_plot_superficie.dropna(subset=['lat','lon']).head(2)"
   ]
  },
  {
   "cell_type": "code",
   "execution_count": null,
   "id": "blocked-morris",
   "metadata": {},
   "outputs": [],
   "source": [
    "fig = px.scatter_mapbox(df_capital_clean_for_plot_superficie.dropna(subset=['lat','lon','price_usd_per_m2']),\n",
    "                        title='Inmuebles CABA - por tipo de propiedad y precio x m2 (USD)',\n",
    "                        lat=\"lat\", lon=\"lon\", color=\"property_type\", size=\"price_usd_per_m2\",\n",
    "                  color_continuous_scale=px.colors.cyclical.IceFire, size_max=20, zoom=10,\n",
    "                  mapbox_style=\"stamen-toner\")#open-street-map\n",
    "#open-street-map, white-bg, carto-positron, carto-darkmatter, stamen-terrain, stamen-toner, stamen-watercolor\n",
    "\n",
    "fig.show()"
   ]
  },
  {
   "cell_type": "code",
   "execution_count": null,
   "id": "knowing-writing",
   "metadata": {},
   "outputs": [],
   "source": [
    "fig = px.scatter_mapbox(df_clean_dummies_dpto.dropna(subset=['lat','lon','price_usd_per_m2']),\n",
    "                        title='Apartamentos - precio m2 (USD) y superficie total',\n",
    "                        lat=\"lat\", lon=\"lon\", color=\"price_usd_per_m2\", size=\"surface_total_in_m2\",\n",
    "                        color_continuous_scale=px.colors.sequential.Hot, \n",
    "                        range_color=[0,8000],\n",
    "                        size_max=15, zoom=10,\n",
    "                        mapbox_style=\"stamen-toner\")#open-street-map\n",
    "#open-street-map, white-bg, carto-positron, carto-darkmatter, stamen-terrain, stamen-toner, stamen-watercolor\n",
    "#px.colors.cyclical.IceFire\n",
    "# https://plotly.com/python/builtin-colorscales/ (lista de colormaps)\n",
    "\n",
    "fig.show()"
   ]
  },
  {
   "cell_type": "code",
   "execution_count": null,
   "id": "raised-elephant",
   "metadata": {},
   "outputs": [],
   "source": []
  },
  {
   "cell_type": "code",
   "execution_count": null,
   "id": "379ef963-8a47-4eef-91eb-0d5d3200173f",
   "metadata": {},
   "outputs": [],
   "source": []
  },
  {
   "cell_type": "code",
   "execution_count": null,
   "id": "8f28dff7-e08e-4235-a4ea-258d8923ab93",
   "metadata": {},
   "outputs": [],
   "source": [
    "pd.read_csv('')"
   ]
  },
  {
   "cell_type": "code",
   "execution_count": null,
   "id": "0eaa7733-9cef-4f9f-b6ca-472c268f3e06",
   "metadata": {},
   "outputs": [],
   "source": [
    "df"
   ]
  },
  {
   "cell_type": "code",
   "execution_count": null,
   "id": "4596d2f8-149e-4354-9d8c-a289d0ac436a",
   "metadata": {},
   "outputs": [],
   "source": []
  }
 ],
 "metadata": {
  "kernelspec": {
   "display_name": "Python 3",
   "language": "python",
   "name": "python3"
  },
  "language_info": {
   "codemirror_mode": {
    "name": "ipython",
    "version": 3
   },
   "file_extension": ".py",
   "mimetype": "text/x-python",
   "name": "python",
   "nbconvert_exporter": "python",
   "pygments_lexer": "ipython3",
   "version": "3.8.8"
  }
 },
 "nbformat": 4,
 "nbformat_minor": 5
}
