{
 "cells": [
  {
   "cell_type": "code",
   "execution_count": 80,
   "metadata": {},
   "outputs": [
    {
     "name": "stdout",
     "output_type": "stream",
     "text": [
      "C:\\Users\\Charl\\OneDrive\\Desktop\\Data Science\\00 Digital-House\\clase_04\\dsad_2021\\common\n",
      "default checking\n",
      "Running command `conda list`... ok\n",
      "jupyterlab=2.2.6 already installed\n",
      "pandas=1.1.5 already installed\n",
      "bokeh=2.2.3 already installed\n",
      "seaborn=0.11.0 already installed\n",
      "matplotlib=3.3.2 already installed\n",
      "ipywidgets=7.5.1 already installed\n",
      "pytest=6.2.1 already installed\n",
      "chardet=4.0.0 already installed\n",
      "psutil=5.7.2 already installed\n",
      "scipy=1.5.2 already installed\n",
      "statsmodels=0.12.1 already installed\n",
      "scikit-learn=0.23.2 already installed\n",
      "xlrd=2.0.1 already installed\n",
      "Running command `conda install --yes nltk=3.5.0`... ok\n",
      "Collecting package metadata (current_repodata.json): ...working... done\n",
      "Solving environment: ...working... done\n",
      "\n",
      "# All requested packages already installed.\n",
      "\n",
      "\n",
      "unidecode=1.1.1 already installed\n",
      "pydotplus=2.0.2 already installed\n",
      "pandas-datareader=0.9.0 already installed\n",
      "flask=1.1.2 already installed\n"
     ]
    }
   ],
   "source": [
    "%run \"../../../common/0_notebooks_base_setup.py\"   "
   ]
  },
  {
   "cell_type": "markdown",
   "metadata": {},
   "source": [
    "---\n",
    "\n",
    "<img src='../../../common/logo_DH.png' align='left' width=35%/>\n"
   ]
  },
  {
   "cell_type": "markdown",
   "metadata": {},
   "source": [
    "En la práctica de la clase de hoy usaremos un dataset de Kaggle que tiene datos de ventas:\n",
    "\n",
    "https://www.kaggle.com/kyanyoga/sample-sales-data\n",
    "\n",
    "Ustedes tienen un subconjunto de los datos disponibles para resolver los ejercicios de esta práctica."
   ]
  },
  {
   "cell_type": "markdown",
   "metadata": {},
   "source": [
    "## Ejercicio 1\n",
    "Leer los datos del archivo /M1/CLASE_03/Data/sales_data_sample_excercise.csv\n",
    "\n",
    "Este archivo tiene algunos datos numéricos y otros de tipo cadena de caracteres. \n",
    "\n",
    "Las columnas son:\n",
    "\n",
    "* ORDERNUMBER: int, id de la orden\n",
    "\n",
    "* SALES: float, monto abonado\n",
    "\n",
    "* MONTH_ID: int, mes\n",
    "\n",
    "* YEAR_ID: int, año\n",
    "\n",
    "* PRODUCTLINE: str, producto\n",
    "\n",
    "* COUNTRY: str, país de venta\n",
    "\n",
    "¿Recuerdan que todos los elementos de una instancia de ndarray deben ser del mismo tipo? Entonces vamos a leer el archivo y crear una instancia de ndarray de tipo cadena de caracteres.\n",
    "\n",
    "¿Qué pasaría si intentáramos crear una instancia de tipo int? ¿Y de tipo float?\n"
   ]
  },
  {
   "cell_type": "code",
   "execution_count": 81,
   "metadata": {},
   "outputs": [
    {
     "data": {
      "text/plain": [
       "array([[10107,  2871,     2,  2003,    -1,    -1],\n",
       "       [10121,  2765,     5,  2003,    -1,    -1],\n",
       "       [10134,  3884,     7,  2003,    -1,    -1],\n",
       "       ...,\n",
       "       [10386,  5417,     3,  2005,    -1,    -1],\n",
       "       [10397,  2116,     3,  2005,    -1,    -1],\n",
       "       [10414,  3079,     5,  2005,    -1,    -1]])"
      ]
     },
     "execution_count": 81,
     "metadata": {},
     "output_type": "execute_result"
    }
   ],
   "source": [
    "path='../Data/sales_data_sample_excercise.csv'\n",
    "data = np.genfromtxt(path, delimiter = '\\t', dtype = int, skip_header=1)\n",
    "data"
   ]
  },
  {
   "cell_type": "code",
   "execution_count": 82,
   "metadata": {},
   "outputs": [
    {
     "data": {
      "text/plain": [
       "array([[1.01070e+04, 2.87100e+03, 2.00000e+00, 2.00300e+03,         nan,\n",
       "                nan],\n",
       "       [1.01210e+04, 2.76590e+03, 5.00000e+00, 2.00300e+03,         nan,\n",
       "                nan],\n",
       "       [1.01340e+04, 3.88434e+03, 7.00000e+00, 2.00300e+03,         nan,\n",
       "                nan],\n",
       "       ...,\n",
       "       [1.03860e+04, 5.41757e+03, 3.00000e+00, 2.00500e+03,         nan,\n",
       "                nan],\n",
       "       [1.03970e+04, 2.11616e+03, 3.00000e+00, 2.00500e+03,         nan,\n",
       "                nan],\n",
       "       [1.04140e+04, 3.07944e+03, 5.00000e+00, 2.00500e+03,         nan,\n",
       "                nan]])"
      ]
     },
     "execution_count": 82,
     "metadata": {},
     "output_type": "execute_result"
    }
   ],
   "source": [
    "path='../Data/sales_data_sample_excercise.csv'\n",
    "data = np.genfromtxt(path, delimiter = '\\t', skip_header=1)\n",
    "data"
   ]
  },
  {
   "cell_type": "code",
   "execution_count": 83,
   "metadata": {},
   "outputs": [
    {
     "data": {
      "text/plain": [
       "array([['10107', '2871', '2', '2003', 'Motorcycles', 'USA'],\n",
       "       ['10121', '2765.9', '5', '2003', 'Motorcycles', 'France'],\n",
       "       ['10134', '3884.34', '7', '2003', 'Motorcycles', 'France'],\n",
       "       ...,\n",
       "       ['10386', '5417.57', '3', '2005', 'Ships', 'Spain'],\n",
       "       ['10397', '2116.16', '3', '2005', 'Ships', 'France'],\n",
       "       ['10414', '3079.44', '5', '2005', 'Ships', 'USA']], dtype='<U16')"
      ]
     },
     "execution_count": 83,
     "metadata": {},
     "output_type": "execute_result"
    }
   ],
   "source": [
    "import numpy as np\n",
    "path='../Data/sales_data_sample_excercise.csv'\n",
    "data = np.genfromtxt(path, delimiter = '\\t', dtype = str, skip_header=1)\n",
    "data"
   ]
  },
  {
   "cell_type": "markdown",
   "metadata": {},
   "source": [
    "## Ejercicio 2\n",
    "\n",
    "La función `distribution_plotter` grafica los datos que recibe como parámetro en una instancia de numpy array\n",
    "\n",
    "Graficar los precios de ventas en tres países. ¿Qué pueden decir respecto a sus distribuciones?\n",
    "\n",
    "Comparar las distribuciones con la de los precios de ventas sin distinguir por paises"
   ]
  },
  {
   "cell_type": "code",
   "execution_count": 84,
   "metadata": {},
   "outputs": [],
   "source": [
    "import seaborn as sns\n",
    "\n",
    "def distribution_plotter(data, label, bin_width=500):    \n",
    "    sns.set(rc={\"figure.figsize\": (7, 5)})\n",
    "    sns.set_style(\"white\")    \n",
    "    dist = sns.histplot(data, stat = 'count', kde = False, \n",
    "                        line_kws = {'linewidth':5}, \n",
    "                        binwidth = bin_width)    \n",
    "    dist.set_title('Distribucion ' + label + '\\n', fontsize = 16)"
   ]
  },
  {
   "cell_type": "code",
   "execution_count": 85,
   "metadata": {},
   "outputs": [
    {
     "data": {
      "text/plain": [
       "array([2871.  , 2765.9 , 3884.34, ..., 5417.57, 2116.16, 3079.44])"
      ]
     },
     "execution_count": 85,
     "metadata": {},
     "output_type": "execute_result"
    }
   ],
   "source": [
    "sales=data[:,1].astype(float)\n",
    "sales"
   ]
  },
  {
   "cell_type": "code",
   "execution_count": 86,
   "metadata": {},
   "outputs": [
    {
     "data": {
      "image/png": "[encoded data removed]",
      "text/plain": [
       "<Figure size 504x360 with 1 Axes>"
      ]
     },
     "metadata": {},
     "output_type": "display_data"
    }
   ],
   "source": [
    "distribution_plotter(sales, 'SALES EN TODOS LOS PAISES', bin_width=300)"
   ]
  },
  {
   "cell_type": "code",
   "execution_count": 87,
   "metadata": {},
   "outputs": [],
   "source": [
    "#Escojo Australia, Suiza y USA"
   ]
  },
  {
   "cell_type": "code",
   "execution_count": 88,
   "metadata": {},
   "outputs": [
    {
     "data": {
      "image/png": "[encoded data removed]",
      "text/plain": [
       "<Figure size 504x360 with 1 Axes>"
      ]
     },
     "metadata": {},
     "output_type": "display_data"
    }
   ],
   "source": [
    "australia_sales = [datos[1].astype(float) for datos in data if np.any(datos == 'Australia')]\n",
    "distribution_plotter(australia_sales, 'AUSTRALIA SALES', bin_width=300)"
   ]
  },
  {
   "cell_type": "code",
   "execution_count": 99,
   "metadata": {},
   "outputs": [
    {
     "data": {
      "image/png": "[encoded data removed]",
      "text/plain": [
       "<Figure size 504x360 with 1 Axes>"
      ]
     },
     "metadata": {},
     "output_type": "display_data"
    }
   ],
   "source": [
    "suiza_sales = [datos[1].astype(float) for datos in data if np.any(datos == 'Sweden')]\n",
    "distribution_plotter(suiza_sales, 'SUIZA SALES', bin_width=500)"
   ]
  },
  {
   "cell_type": "code",
   "execution_count": 90,
   "metadata": {},
   "outputs": [
    {
     "data": {
      "image/png": "[encoded data removed]",
      "text/plain": [
       "<Figure size 504x360 with 1 Axes>"
      ]
     },
     "metadata": {},
     "output_type": "display_data"
    }
   ],
   "source": [
    "usa_sales = [datos[1].astype(float) for datos in data if np.any(datos == 'USA')]\n",
    "distribution_plotter(usa_sales, 'USA SALES', bin_width=300)"
   ]
  },
  {
   "cell_type": "code",
   "execution_count": null,
   "metadata": {},
   "outputs": [],
   "source": [
    "Parece una distribucion normal, con un sesgo hacia la izquierda, con lo cual,  moda < mediana < media"
   ]
  },
  {
   "cell_type": "markdown",
   "metadata": {},
   "source": [
    "## Ejercicio 3\n",
    "Para los tres países del punto anterior, calcular con dos decimales\n",
    "* Media\n",
    "* Mediana\n",
    "* Rango\n",
    "* Desvío estandard\n",
    "\n",
    "Repetir para todos los datos de ventas sin distinguir por país.\n",
    "\n",
    "¿Qué conclusiones pueden sacar respecto a la información que brinda cada una de estas medidas en este caso particular?"
   ]
  },
  {
   "cell_type": "code",
   "execution_count": 91,
   "metadata": {},
   "outputs": [
    {
     "name": "stdout",
     "output_type": "stream",
     "text": [
      "Los valores de Australia son:\n",
      "\n",
      "Media de precios : 3408.77\n",
      "La mitad de los precios son menores o iguales a :  3070.4\n",
      "El rango de precios es : 9121.68\n",
      "El desvio respecto a la media es de :  1749.4096278511977\n"
     ]
    }
   ],
   "source": [
    "print('Los valores de Australia son:\\n' )\n",
    "print('Media de precios :', np.mean(australia_sales).round(2))\n",
    "print('La mitad de los precios son menores o iguales a : ',np.median(australia_sales).round(2))\n",
    "print('El rango de precios es :',(np.max(australia_sales)-np.min(australia_sales)).round(2))\n",
    "print('El desvio respecto a la media es de : ',np.std(australia_sales))"
   ]
  },
  {
   "cell_type": "code",
   "execution_count": 92,
   "metadata": {},
   "outputs": [
    {
     "name": "stdout",
     "output_type": "stream",
     "text": [
      "Los valores de Suiza son:\n",
      "\n",
      "Media de precios :  3684.46\n",
      "La mitad de los precios son menores o iguales a :  3256.96\n",
      "El rango de precios es : 5741.63\n",
      "El desvio respecto a la media es de :  1666.0223770295304\n"
     ]
    }
   ],
   "source": [
    "print('Los valores de Suiza son:\\n' )\n",
    "print('Media de precios : ',np.mean(suiza_sales).round(2))\n",
    "print('La mitad de los precios son menores o iguales a : ',np.median(suiza_sales).round(2))\n",
    "print('El rango de precios es :',(np.max(suiza_sales)-np.min(suiza_sales)).round(2))\n",
    "print('El desvio respecto a la media es de : ',np.std(suiza_sales))"
   ]
  },
  {
   "cell_type": "code",
   "execution_count": 93,
   "metadata": {},
   "outputs": [
    {
     "name": "stdout",
     "output_type": "stream",
     "text": [
      "Los valores de USA son:\n",
      "\n",
      "Media de precios :  3613.53\n",
      "La mitad de los precios son menores o iguales a :  3236.06\n",
      "El rango de precios es : 13541.66\n",
      "El desvio respecto a la media es de :  1879.9971929724536\n"
     ]
    }
   ],
   "source": [
    "print('Los valores de USA son:\\n' )\n",
    "print('Media de precios : ',np.mean(usa_sales).round(2))\n",
    "print('La mitad de los precios son menores o iguales a : ',np.median(usa_sales).round(2))\n",
    "print('El rango de precios es :',(np.max(usa_sales)-np.min(usa_sales)).round(2))\n",
    "print('El desvio respecto a la media es de : ',np.std(usa_sales))"
   ]
  },
  {
   "cell_type": "code",
   "execution_count": 94,
   "metadata": {},
   "outputs": [
    {
     "name": "stdout",
     "output_type": "stream",
     "text": [
      "Los valores totales de ventas son:\n",
      "\n",
      "Media de precios :  3553.89\n",
      "La mitad de los precios son menores o iguales a :  3184.8\n",
      "El rango de precios es : 13600.67\n",
      "El desvio respecto a la media es de :  1841.5388520655404\n"
     ]
    }
   ],
   "source": [
    "print('Los valores totales de ventas son:\\n' )\n",
    "print('Media de precios : ',np.mean(sales).round(2))\n",
    "print('La mitad de los precios son menores o iguales a : ',np.median(sales).round(2))\n",
    "print('El rango de precios es :',(np.max(sales)-np.min(sales)).round(2))\n",
    "print('El desvio respecto a la media es de : ',np.std(sales))"
   ]
  }
 ],
 "metadata": {
  "kernelspec": {
   "display_name": "Python 3 (ipykernel)",
   "language": "python",
   "name": "python3"
  },
  "language_info": {
   "codemirror_mode": {
    "name": "ipython",
    "version": 3
   },
   "file_extension": ".py",
   "mimetype": "text/x-python",
   "name": "python",
   "nbconvert_exporter": "python",
   "pygments_lexer": "ipython3",
   "version": "3.9.5"
  }
 },
 "nbformat": 4,
 "nbformat_minor": 4
}
