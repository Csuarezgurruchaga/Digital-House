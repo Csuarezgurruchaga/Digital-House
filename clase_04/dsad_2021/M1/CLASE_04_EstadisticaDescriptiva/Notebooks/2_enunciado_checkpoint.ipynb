{
 "cells": [
  {
   "cell_type": "code",
   "execution_count": 4,
   "metadata": {},
   "outputs": [
    {
     "name": "stdout",
     "output_type": "stream",
     "text": [
      "C:\\Users\\Charl\\OneDrive\\Desktop\\Data Science\\00 Digital-House\\clase_04\\dsad_2021\\common\n",
      "default checking\n",
      "Running command `conda list`... ok\n",
      "jupyterlab=2.2.6 already installed\n",
      "pandas=1.1.5 already installed\n",
      "bokeh=2.2.3 already installed\n",
      "seaborn=0.11.0 already installed\n",
      "matplotlib=3.3.2 already installed\n",
      "ipywidgets=7.5.1 already installed\n",
      "pytest=6.2.1 already installed\n",
      "chardet=4.0.0 already installed\n",
      "psutil=5.7.2 already installed\n",
      "scipy=1.5.2 already installed\n",
      "statsmodels=0.12.1 already installed\n",
      "scikit-learn=0.23.2 already installed\n",
      "xlrd=2.0.1 already installed\n",
      "Running command `conda install --yes nltk=3.5.0`... ok\n",
      "Collecting package metadata (current_repodata.json): ...working... done\n",
      "Solving environment: ...working... done\n",
      "\n",
      "# All requested packages already installed.\n",
      "\n",
      "\n",
      "unidecode=1.1.1 already installed\n",
      "pydotplus=2.0.2 already installed\n",
      "pandas-datareader=0.9.0 already installed\n",
      "flask=1.1.2 already installed\n"
     ]
    }
   ],
   "source": [
    "%run \"../../../common/0_notebooks_base_setup.py\"    "
   ]
  },
  {
   "cell_type": "markdown",
   "metadata": {},
   "source": [
    "---\n",
    "\n",
    "<img src='../../../common/logo_DH.png' align='left' width=35%/>\n"
   ]
  },
  {
   "cell_type": "markdown",
   "metadata": {},
   "source": [
    "# Checkpoint Estadística Descriptiva"
   ]
  },
  {
   "cell_type": "markdown",
   "metadata": {},
   "source": [
    "Para esta práctica usaremos un subconjunto de los registros de un dataset de Kaggle que tiene datos oceanográficos https://www.kaggle.com/sohier/calcofi\n",
    "\n",
    "El conjunto de datos de CalCOFI representa la serie cronológica más larga (desde 1949 hasta el presente) y más completa (más de 50.000 estaciones de muestreo) de datos oceanográficos y de larvas de peces del mundo. \n",
    "\n",
    "Incluye datos sobre la abundancia de las larvas de más de 250 especies de peces; datos de frecuencia de tallas de larvas y datos de abundancia de huevos en especies comerciales clave; y datos oceanográficos y de plancton. \n",
    "\n",
    "Los datos físicos, químicos y biológicos recopilados a intervalos regulares de tiempo y espacio son valiosos para documentar los ciclos climáticos en la corriente de California y una variedad de respuestas biológicas a esos ciclos. \n",
    "\n",
    "La idea de esta práctica es analizar las variables numéricas de este dataset reducido (sólo cinco estaciones de muestreo) calculando medidas de tendencia central, de dispersión, y de asociación entre esas variables.\n"
   ]
  },
  {
   "cell_type": "markdown",
   "metadata": {},
   "source": [
    "## Ejercicio 1\n",
    "Leer los datos del archivo /M1/CLASE_04_EstadisticaDescriptiva/Data/bottle_reducido.csv\n",
    "\n",
    "Este archivo tiene algunos datos numéricos y otros de tipo cadena de caracteres. \n",
    "\n",
    "Cada uno del los registros del dataset representa una medición en una estación. Las variables medidas son profundidad, temperatura, saturación de oxígeno, nivel de salinidad.\n",
    "\n",
    "Las columnas son:\n",
    "\n",
    "* **Sta_ID**: cadena de caracteres, representa el id de la estación\n",
    "\n",
    "* **Depth_ID**: cadena de caracteres, representa el id de la medición\n",
    "\n",
    "* **Depthm**: numérico, representa la profundidad en metros \n",
    "\n",
    "* **T_degC**: numérico, representa la temperatura en grados centigrados\n",
    "\n",
    "* **O2Sat**: numérico, representa la saturación de oxígeno\n",
    "\n",
    "* **Salnty**: numérico, representa el nivel de salinidad\n",
    "\n",
    "¿Recuerdan que todos los elementos de una instancia de ndarray deben ser del mismo tipo? Entonces vamos a leer el archivo y crear una instancia de ndarray de tipo cadena de caracteres.\n",
    "\n",
    "¿Qué pasaría si intentáramos crear una instancia de tipo int? ¿Y de tipo float?\n"
   ]
  },
  {
   "cell_type": "code",
   "execution_count": 5,
   "metadata": {},
   "outputs": [],
   "source": [
    "import numpy as np\n",
    "\n",
    "# local:\n",
    "data_location = '../Data/bottle_reducido.csv'"
   ]
  },
  {
   "cell_type": "code",
   "execution_count": 15,
   "metadata": {},
   "outputs": [
    {
     "data": {
      "text/plain": [
       "array([['044.0 048.5', '19-4904CR-HY-087-0606-04400485-0000B-3', '0',\n",
       "        '10.3', '92.8', '33.03'],\n",
       "       ['044.0 048.5', '19-4904CR-HY-087-0606-04400485-0006A-3', '6',\n",
       "        '18.46', '111.8', '32.92'],\n",
       "       ['044.0 048.5', '19-4904CR-HY-087-0606-04400485-0010A-7', '10',\n",
       "        '10.29', '95.0', '32.951'],\n",
       "       ...,\n",
       "       ['036.7 115.0', '19-4911BD-HY-318-2130-03671150-1100A-7', '1100',\n",
       "        '3.51', '6.4', '34.44'],\n",
       "       ['036.7 115.0', '19-4911BD-HY-318-2130-03671150-1200A-7', '1200',\n",
       "        '3.29', '7.3', '34.481'],\n",
       "       ['036.7 115.0', '19-4911BD-HY-318-2130-03671150-1247A-3', '1247',\n",
       "        '3.18', '7.6', '34.5']], dtype='<U38')"
      ]
     },
     "execution_count": 15,
     "metadata": {},
     "output_type": "execute_result"
    }
   ],
   "source": [
    "data = np.genfromtxt(data_location,delimiter='\\t', skip_header = 1, dtype=str)\n",
    "data"
   ]
  },
  {
   "cell_type": "code",
   "execution_count": 12,
   "metadata": {},
   "outputs": [
    {
     "data": {
      "text/plain": [
       "array([[  -1,   -1,    0,   10,   92,   33],\n",
       "       [  -1,   -1,    6,   18,  111,   32],\n",
       "       [  -1,   -1,   10,   10,   95,   32],\n",
       "       ...,\n",
       "       [  -1,   -1, 1100,    3,    6,   34],\n",
       "       [  -1,   -1, 1200,    3,    7,   34],\n",
       "       [  -1,   -1, 1247,    3,    7,   34]])"
      ]
     },
     "execution_count": 12,
     "metadata": {},
     "output_type": "execute_result"
    }
   ],
   "source": [
    "data = np.genfromtxt(data_location,delimiter='\\t', skip_header = 1, dtype=int)\n",
    "data"
   ]
  },
  {
   "cell_type": "code",
   "execution_count": 13,
   "metadata": {},
   "outputs": [
    {
     "data": {
      "text/plain": [
       "array([[     nan,      nan,    0.   ,   10.3  ,   92.8  ,   33.03 ],\n",
       "       [     nan,      nan,    6.   ,   18.46 ,  111.8  ,   32.92 ],\n",
       "       [     nan,      nan,   10.   ,   10.29 ,   95.   ,   32.951],\n",
       "       ...,\n",
       "       [     nan,      nan, 1100.   ,    3.51 ,    6.4  ,   34.44 ],\n",
       "       [     nan,      nan, 1200.   ,    3.29 ,    7.3  ,   34.481],\n",
       "       [     nan,      nan, 1247.   ,    3.18 ,    7.6  ,   34.5  ]])"
      ]
     },
     "execution_count": 13,
     "metadata": {},
     "output_type": "execute_result"
    }
   ],
   "source": [
    "data = np.genfromtxt(data_location,delimiter='\\t', skip_header = 1)\n",
    "data"
   ]
  },
  {
   "cell_type": "markdown",
   "metadata": {},
   "source": [
    "## Ejercicio 2\n",
    "\n",
    "Sobre los datos de nivel de salinidad (columna Salnty) calcular:\n",
    "\n",
    "* media\n",
    "\n",
    "* mediana \n",
    "\n",
    "* desvio\n",
    "\n",
    "* rango\n"
   ]
  },
  {
   "cell_type": "code",
   "execution_count": 16,
   "metadata": {},
   "outputs": [],
   "source": [
    "salinity_column_index = 5\n",
    "salinity_vector = data[:, salinity_column_index]\n",
    "salinity_vector_numeric = salinity_vector.astype(float)"
   ]
  },
  {
   "cell_type": "code",
   "execution_count": 17,
   "metadata": {},
   "outputs": [
    {
     "data": {
      "text/plain": [
       "33.601653746770026"
      ]
     },
     "execution_count": 17,
     "metadata": {},
     "output_type": "execute_result"
    }
   ],
   "source": [
    "salinity_vector_numeric.mean()"
   ]
  },
  {
   "cell_type": "code",
   "execution_count": 18,
   "metadata": {},
   "outputs": [
    {
     "data": {
      "text/plain": [
       "33.8485"
      ]
     },
     "execution_count": 18,
     "metadata": {},
     "output_type": "execute_result"
    }
   ],
   "source": [
    "np.median(salinity_vector_numeric)"
   ]
  },
  {
   "cell_type": "code",
   "execution_count": 19,
   "metadata": {},
   "outputs": [
    {
     "data": {
      "text/plain": [
       "0.6562158205240991"
      ]
     },
     "execution_count": 19,
     "metadata": {},
     "output_type": "execute_result"
    }
   ],
   "source": [
    "np.std(salinity_vector_numeric)"
   ]
  },
  {
   "cell_type": "code",
   "execution_count": 21,
   "metadata": {},
   "outputs": [
    {
     "data": {
      "text/plain": [
       "2.3600000000000065"
      ]
     },
     "execution_count": 21,
     "metadata": {},
     "output_type": "execute_result"
    }
   ],
   "source": [
    "np.max(salinity_vector_numeric) - np.min(salinity_vector_numeric)"
   ]
  },
  {
   "cell_type": "markdown",
   "metadata": {},
   "source": [
    "## Ejercicio 3\n",
    "\n",
    "Usando la función `distribution_plotter` graficar las distribuciones de las variables Depthm, T_degC, O2Sat, Salnty\n",
    "\n",
    "<code>\n",
    "\n",
    "import seaborn as sns\n",
    "\n",
    "def distribution_plotter(data, label, bin_width=100):    \n",
    "    sns.set(rc={\"figure.figsize\": (7, 5)})\n",
    "    sns.set_style(\"white\")    \n",
    "    dist = sns.histplot(data, stat = 'count', kde = False, \n",
    "                        line_kws = {'linewidth':5}, \n",
    "                        binwidth = bin_width)    \n",
    "    dist.set_title('Distribucion ' + label + '\\n', fontsize = 16)\n",
    "</code>\n",
    "\n",
    "\n",
    "Qué pueden decir de estas distribuciones?\n",
    "\n",
    "Pongan atención en la elección del parámetro `bin_width` para que el gráfico sea informativo.\n"
   ]
  },
  {
   "cell_type": "code",
   "execution_count": 23,
   "metadata": {},
   "outputs": [],
   "source": [
    "import seaborn as sns\n",
    "\n",
    "def distribution_plotter(data, label, bin_width=100):    \n",
    "    sns.set(rc={\"figure.figsize\": (7, 5)})\n",
    "    sns.set_style(\"white\")    \n",
    "    dist = sns.histplot(data, stat = 'count', kde = False, \n",
    "                        line_kws = {'linewidth':5}, \n",
    "                        binwidth = bin_width)    \n",
    "    dist.set_title('Distribucion ' + label + '\\n', fontsize = 16)"
   ]
  },
  {
   "cell_type": "code",
   "execution_count": 25,
   "metadata": {},
   "outputs": [],
   "source": [
    "depthm_column_index = 2\n",
    "tdegC_column_index = 3\n",
    "o2sat_column_index = 4\n",
    "salnty_column_index = 5\n",
    "\n",
    "depthm_vector_numeric = data[:, depthm_column_index].astype(float)\n",
    "tdegC_vector_numeric = data[:, tdegC_column_index].astype(float)\n",
    "o2sat_vector_numeric = data[:, o2sat_column_index].astype(float)\n",
    "salnty_vector_numeric = data[:,salnty_column_index].astype(float)"
   ]
  },
  {
   "cell_type": "code",
   "execution_count": 26,
   "metadata": {},
   "outputs": [
    {
     "data": {
      "image/png": "[encoded data removed]",
      "text/plain": [
       "<Figure size 504x360 with 1 Axes>"
      ]
     },
     "metadata": {},
     "output_type": "display_data"
    }
   ],
   "source": [
    "distribution_plotter(depthm_vector_numeric, 'PROFUNDIDAD', bin_width=100)"
   ]
  },
  {
   "cell_type": "code",
   "execution_count": 41,
   "metadata": {},
   "outputs": [
    {
     "data": {
      "image/png": "[encoded data removed]",
      "text/plain": [
       "<Figure size 504x360 with 1 Axes>"
      ]
     },
     "metadata": {},
     "output_type": "display_data"
    }
   ],
   "source": [
    "distribution_plotter(tdegC_vector_numeric, 'TEMPERATURA', bin_width=1)"
   ]
  },
  {
   "cell_type": "code",
   "execution_count": 38,
   "metadata": {},
   "outputs": [
    {
     "data": {
      "image/png": "[encoded data removed]",
      "text/plain": [
       "<Figure size 504x360 with 1 Axes>"
      ]
     },
     "metadata": {},
     "output_type": "display_data"
    }
   ],
   "source": [
    "distribution_plotter(o2sat_vector_numeric, 'SATURACION DE OXIGENO', bin_width=5)"
   ]
  },
  {
   "cell_type": "code",
   "execution_count": 42,
   "metadata": {},
   "outputs": [
    {
     "data": {
      "image/png": "[encoded data removed]",
      "text/plain": [
       "<Figure size 504x360 with 1 Axes>"
      ]
     },
     "metadata": {},
     "output_type": "display_data"
    }
   ],
   "source": [
    "distribution_plotter(salnty_vector_numeric, 'SALINIDAD', bin_width=0.1)"
   ]
  },
  {
   "cell_type": "markdown",
   "metadata": {},
   "source": [
    "## Ejercicio 4\n",
    "\n",
    "Calcular las matrices de correlación y covarianza de las variables Depthm, T_degC, O2Sat, Salnty\n",
    "\n",
    "A partir de estos resultados, elegir sólo una de estas variables para intentar predecir el valor de salinidad:\n",
    "\n",
    "* ¿Usarían para esto la matriz de correlación o la de covarianzas? ¿Por qué?\n",
    "\n",
    "* ¿Qué variable elegirían? Justificar la decisión.\n",
    "\n"
   ]
  },
  {
   "cell_type": "code",
   "execution_count": 48,
   "metadata": {},
   "outputs": [
    {
     "data": {
      "text/plain": [
       "array([ 0.  , 10.3 , 92.8 , 33.03])"
      ]
     },
     "execution_count": 48,
     "metadata": {},
     "output_type": "execute_result"
    }
   ],
   "source": [
    "variables_colums_index = range(2,6)\n",
    "\n",
    "X = data[:, variables_colums_index].astype(float)\n",
    "\n",
    "X[0]"
   ]
  },
  {
   "cell_type": "markdown",
   "metadata": {},
   "source": [
    "Para poder aplicar las funciones de covarianza y correlacion, debo cumplir con la documentacion \" Each row of x represents a variable, and each column a single observation of all those variables. \""
   ]
  },
  {
   "cell_type": "code",
   "execution_count": 52,
   "metadata": {},
   "outputs": [
    {
     "data": {
      "text/plain": [
       "array([[   0.   ,    6.   ,   10.   , ..., 1100.   , 1200.   , 1247.   ],\n",
       "       [  10.3  ,   18.46 ,   10.29 , ...,    3.51 ,    3.29 ,    3.18 ],\n",
       "       [  92.8  ,  111.8  ,   95.   , ...,    6.4  ,    7.3  ,    7.6  ],\n",
       "       [  33.03 ,   32.92 ,   32.951, ...,   34.44 ,   34.481,   34.5  ]])"
      ]
     },
     "execution_count": 52,
     "metadata": {},
     "output_type": "execute_result"
    }
   ],
   "source": [
    "data2 = X.T\n",
    "data2"
   ]
  },
  {
   "cell_type": "code",
   "execution_count": null,
   "metadata": {},
   "outputs": [],
   "source": [
    "#Calculo matrices de correlacion"
   ]
  },
  {
   "cell_type": "code",
   "execution_count": 53,
   "metadata": {},
   "outputs": [
    {
     "data": {
      "text/plain": [
       "array([[ 1.        , -0.81016811, -0.83900896,  0.83514915],\n",
       "       [-0.81016811,  1.        ,  0.8955951 , -0.91514575],\n",
       "       [-0.83900896,  0.8955951 ,  1.        , -0.97048787],\n",
       "       [ 0.83514915, -0.91514575, -0.97048787,  1.        ]])"
      ]
     },
     "execution_count": 53,
     "metadata": {},
     "output_type": "execute_result"
    }
   ],
   "source": [
    "correlacon = np.corrcoef(data2)"
   ]
  },
  {
   "cell_type": "code",
   "execution_count": 55,
   "metadata": {},
   "outputs": [
    {
     "data": {
      "text/plain": [
       "array([[ 1.22730122e+05, -1.11538543e+03, -1.10802454e+04,\n",
       "         1.92117557e+02],\n",
       "       [-1.11538543e+03,  1.54435978e+01,  1.32676236e+02,\n",
       "        -2.36152167e+00],\n",
       "       [-1.10802454e+04,  1.32676236e+02,  1.42106646e+03,\n",
       "        -2.40228614e+01],\n",
       "       [ 1.92117557e+02, -2.36152167e+00, -2.40228614e+01,\n",
       "         4.31176278e-01]])"
      ]
     },
     "execution_count": 55,
     "metadata": {},
     "output_type": "execute_result"
    }
   ],
   "source": [
    "covarianza = np.cov(X.T)\n",
    "covarianza"
   ]
  },
  {
   "cell_type": "code",
   "execution_count": null,
   "metadata": {},
   "outputs": [],
   "source": []
  },
  {
   "cell_type": "code",
   "execution_count": null,
   "metadata": {},
   "outputs": [],
   "source": []
  }
 ],
 "metadata": {
  "kernelspec": {
   "display_name": "Python 3 (ipykernel)",
   "language": "python",
   "name": "python3"
  },
  "language_info": {
   "codemirror_mode": {
    "name": "ipython",
    "version": 3
   },
   "file_extension": ".py",
   "mimetype": "text/x-python",
   "name": "python",
   "nbconvert_exporter": "python",
   "pygments_lexer": "ipython3",
   "version": "3.9.5"
  }
 },
 "nbformat": 4,
 "nbformat_minor": 4
}
