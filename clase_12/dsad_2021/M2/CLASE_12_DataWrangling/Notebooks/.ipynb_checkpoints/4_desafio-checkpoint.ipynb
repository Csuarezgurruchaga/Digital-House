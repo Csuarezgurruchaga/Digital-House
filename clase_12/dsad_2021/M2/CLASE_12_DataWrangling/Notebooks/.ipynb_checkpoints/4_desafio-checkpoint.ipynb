{
 "cells": [
  {
   "cell_type": "code",
   "execution_count": 1,
   "metadata": {},
   "outputs": [
    {
     "name": "stdout",
     "output_type": "stream",
     "text": [
      "/Users/csuarezgurruchaga/Desktop/Digital-House/clase_12/dsad_2021/common\n",
      "default checking\n",
      "Running command `conda list`... ok\n",
      "jupyterlab=2.2.6 already installed\n",
      "pandas=1.1.5 already installed\n",
      "bokeh=2.2.3 already installed\n",
      "seaborn=0.11.0 already installed\n",
      "matplotlib=3.3.2 already installed\n",
      "ipywidgets=7.5.1 already installed\n",
      "pytest=6.2.1 already installed\n",
      "chardet=4.0.0 already installed\n",
      "psutil=5.7.2 already installed\n",
      "scipy=1.5.2 already installed\n",
      "statsmodels=0.12.1 already installed\n",
      "scikit-learn=0.23.2 already installed\n",
      "xlrd=2.0.1 already installed\n",
      "Running command `conda install --yes nltk=3.5.0`... ok\n",
      "Collecting package metadata (current_repodata.json): ...working... done\n",
      "Solving environment: ...working... done\n",
      "\n",
      "# All requested packages already installed.\n",
      "\n",
      "\n",
      "unidecode=1.1.1 already installed\n",
      "pydotplus=2.0.2 already installed\n",
      "pandas-datareader=0.9.0 already installed\n",
      "flask=1.1.2 already installed\n"
     ]
    }
   ],
   "source": [
    "# initial setup\n",
    "%run \"../../../common/0_notebooks_base_setup.py\""
   ]
  },
  {
   "cell_type": "markdown",
   "metadata": {},
   "source": [
    "---\n",
    "\n",
    "<img src='../../../common/logo_DH.png' align='left' width=35%/>\n"
   ]
  },
  {
   "cell_type": "markdown",
   "metadata": {},
   "source": [
    "# Data Wrangling\n",
    "\n",
    "## Introducción\n",
    "\n",
    "Data wrangling es el proceso de limpieza y unificación de conjuntos de datos desordenados y complejos para facilitar su acceso, exploración, análisis o modelización posterior.\n",
    "\n",
    "Las tareas que involucra son\n",
    "* Limpieza de datos\n",
    "* Eliminación de registros duplicados\n",
    "* Transformación de datos\n",
    "* Discretización de variables\n",
    "* Detección y filtro de outliers\n",
    "* Construcción de variables dummies\n"
   ]
  },
  {
   "cell_type": "markdown",
   "metadata": {},
   "source": [
    "## Dataset\n",
    "\n",
    "En esta clase usaremos un dataset con info de películas que disponibiliza datos de movielens (https://movielens.org/).\n",
    "\n",
    "https://grouplens.org/datasets/movielens/\n",
    "\n",
    "http://files.grouplens.org/datasets/movielens/ml-latest-small.zip\n",
    "\n",
    "Este conjunto de datos está conformado por varios archivos:\n",
    "* **movies**: idPelicula, título y género; \n",
    "\n",
    "donde cada registro tiene los datos de una película\n",
    "\n",
    "* **ratings**: idUsuario, idPelicula, rating, fecha; \n",
    "\n",
    "donde cada registro tienen la calificación otorgada por un usuario a una película\n",
    "\n",
    "* **tags**: idUsuario, idPelicula, tag, fecha; \n",
    "\n",
    "donde cada registro tienen el tag que asignó un usuario a una película\n"
   ]
  },
  {
   "cell_type": "markdown",
   "metadata": {},
   "source": [
    "## Imports"
   ]
  },
  {
   "cell_type": "code",
   "execution_count": 2,
   "metadata": {},
   "outputs": [],
   "source": [
    "import pandas as pd\n",
    "import numpy as np"
   ]
  },
  {
   "cell_type": "markdown",
   "metadata": {},
   "source": [
    "## Ejercicio 1  - Importar \n",
    "\n",
    "Leamos los datos de movies, ratings y tags desde los archivos\n",
    "* ../Data/movies.csv\n",
    "* ../Data/ratings.csv\n",
    "* ../Data/tags.csv\n",
    "\n",
    "en las variables \n",
    "* data_movies\n",
    "* data_ratings\n",
    "* data_tags\n",
    "\n",
    "Veamos cuántos registros hay en cada DataFrame y de qué tipos son los datos de cada columna. \n",
    "\n",
    "Veamos los primeros registros de cada DataFrame para verificar que los datos fueron importados correctamente."
   ]
  },
  {
   "cell_type": "code",
   "execution_count": 3,
   "metadata": {},
   "outputs": [],
   "source": [
    "data_movies =pd.read_csv ('../Data/movies.csv', sep=',')\n",
    "data_ratings=pd.read_csv('../Data/ratings.csv', sep=',')\n",
    "data_tags=pd.read_csv('../Data/tags.csv', sep=',')"
   ]
  },
  {
   "cell_type": "code",
   "execution_count": 7,
   "metadata": {},
   "outputs": [
    {
     "name": "stdout",
     "output_type": "stream",
     "text": [
      "<class 'pandas.core.frame.DataFrame'>\n",
      "RangeIndex: 9742 entries, 0 to 9741\n",
      "Data columns (total 3 columns):\n",
      " #   Column   Non-Null Count  Dtype \n",
      "---  ------   --------------  ----- \n",
      " 0   movieId  9742 non-null   int64 \n",
      " 1   title    9742 non-null   object\n",
      " 2   genres   9742 non-null   object\n",
      "dtypes: int64(1), object(2)\n",
      "memory usage: 228.5+ KB\n"
     ]
    },
    {
     "data": {
      "text/html": [
       "<div>\n",
       "<style scoped>\n",
       "    .dataframe tbody tr th:only-of-type {\n",
       "        vertical-align: middle;\n",
       "    }\n",
       "\n",
       "    .dataframe tbody tr th {\n",
       "        vertical-align: top;\n",
       "    }\n",
       "\n",
       "    .dataframe thead th {\n",
       "        text-align: right;\n",
       "    }\n",
       "</style>\n",
       "<table border=\"1\" class=\"dataframe\">\n",
       "  <thead>\n",
       "    <tr style=\"text-align: right;\">\n",
       "      <th></th>\n",
       "      <th>movieId</th>\n",
       "      <th>title</th>\n",
       "      <th>genres</th>\n",
       "    </tr>\n",
       "  </thead>\n",
       "  <tbody>\n",
       "    <tr>\n",
       "      <th>0</th>\n",
       "      <td>1</td>\n",
       "      <td>Toy Story (1995)</td>\n",
       "      <td>Adventure|Animation|Children|Comedy|Fantasy</td>\n",
       "    </tr>\n",
       "    <tr>\n",
       "      <th>1</th>\n",
       "      <td>2</td>\n",
       "      <td>Jumanji (1995)</td>\n",
       "      <td>Adventure|Children|Fantasy</td>\n",
       "    </tr>\n",
       "    <tr>\n",
       "      <th>2</th>\n",
       "      <td>3</td>\n",
       "      <td>Grumpier Old Men (1995)</td>\n",
       "      <td>Comedy|Romance</td>\n",
       "    </tr>\n",
       "  </tbody>\n",
       "</table>\n",
       "</div>"
      ],
      "text/plain": [
       "   movieId                    title  \\\n",
       "0        1         Toy Story (1995)   \n",
       "1        2           Jumanji (1995)   \n",
       "2        3  Grumpier Old Men (1995)   \n",
       "\n",
       "                                        genres  \n",
       "0  Adventure|Animation|Children|Comedy|Fantasy  \n",
       "1                   Adventure|Children|Fantasy  \n",
       "2                               Comedy|Romance  "
      ]
     },
     "execution_count": 7,
     "metadata": {},
     "output_type": "execute_result"
    }
   ],
   "source": [
    "data_movies.info()\n",
    "data_movies.head(3)"
   ]
  },
  {
   "cell_type": "code",
   "execution_count": 8,
   "metadata": {},
   "outputs": [
    {
     "name": "stdout",
     "output_type": "stream",
     "text": [
      "<class 'pandas.core.frame.DataFrame'>\n",
      "RangeIndex: 100836 entries, 0 to 100835\n",
      "Data columns (total 4 columns):\n",
      " #   Column     Non-Null Count   Dtype  \n",
      "---  ------     --------------   -----  \n",
      " 0   userId     100836 non-null  int64  \n",
      " 1   movieId    100836 non-null  int64  \n",
      " 2   rating     100836 non-null  float64\n",
      " 3   timestamp  100836 non-null  int64  \n",
      "dtypes: float64(1), int64(3)\n",
      "memory usage: 3.1 MB\n"
     ]
    },
    {
     "data": {
      "text/html": [
       "<div>\n",
       "<style scoped>\n",
       "    .dataframe tbody tr th:only-of-type {\n",
       "        vertical-align: middle;\n",
       "    }\n",
       "\n",
       "    .dataframe tbody tr th {\n",
       "        vertical-align: top;\n",
       "    }\n",
       "\n",
       "    .dataframe thead th {\n",
       "        text-align: right;\n",
       "    }\n",
       "</style>\n",
       "<table border=\"1\" class=\"dataframe\">\n",
       "  <thead>\n",
       "    <tr style=\"text-align: right;\">\n",
       "      <th></th>\n",
       "      <th>userId</th>\n",
       "      <th>movieId</th>\n",
       "      <th>rating</th>\n",
       "      <th>timestamp</th>\n",
       "    </tr>\n",
       "  </thead>\n",
       "  <tbody>\n",
       "    <tr>\n",
       "      <th>0</th>\n",
       "      <td>1</td>\n",
       "      <td>1</td>\n",
       "      <td>4.0</td>\n",
       "      <td>964982703</td>\n",
       "    </tr>\n",
       "    <tr>\n",
       "      <th>1</th>\n",
       "      <td>1</td>\n",
       "      <td>3</td>\n",
       "      <td>4.0</td>\n",
       "      <td>964981247</td>\n",
       "    </tr>\n",
       "    <tr>\n",
       "      <th>2</th>\n",
       "      <td>1</td>\n",
       "      <td>6</td>\n",
       "      <td>4.0</td>\n",
       "      <td>964982224</td>\n",
       "    </tr>\n",
       "  </tbody>\n",
       "</table>\n",
       "</div>"
      ],
      "text/plain": [
       "   userId  movieId  rating  timestamp\n",
       "0       1        1     4.0  964982703\n",
       "1       1        3     4.0  964981247\n",
       "2       1        6     4.0  964982224"
      ]
     },
     "execution_count": 8,
     "metadata": {},
     "output_type": "execute_result"
    }
   ],
   "source": [
    "data_ratings.info()\n",
    "data_ratings.head(3)"
   ]
  },
  {
   "cell_type": "code",
   "execution_count": 9,
   "metadata": {},
   "outputs": [
    {
     "name": "stdout",
     "output_type": "stream",
     "text": [
      "<class 'pandas.core.frame.DataFrame'>\n",
      "RangeIndex: 3683 entries, 0 to 3682\n",
      "Data columns (total 4 columns):\n",
      " #   Column     Non-Null Count  Dtype \n",
      "---  ------     --------------  ----- \n",
      " 0   userId     3683 non-null   int64 \n",
      " 1   movieId    3683 non-null   int64 \n",
      " 2   tag        3683 non-null   object\n",
      " 3   timestamp  3683 non-null   int64 \n",
      "dtypes: int64(3), object(1)\n",
      "memory usage: 115.2+ KB\n"
     ]
    },
    {
     "data": {
      "text/html": [
       "<div>\n",
       "<style scoped>\n",
       "    .dataframe tbody tr th:only-of-type {\n",
       "        vertical-align: middle;\n",
       "    }\n",
       "\n",
       "    .dataframe tbody tr th {\n",
       "        vertical-align: top;\n",
       "    }\n",
       "\n",
       "    .dataframe thead th {\n",
       "        text-align: right;\n",
       "    }\n",
       "</style>\n",
       "<table border=\"1\" class=\"dataframe\">\n",
       "  <thead>\n",
       "    <tr style=\"text-align: right;\">\n",
       "      <th></th>\n",
       "      <th>userId</th>\n",
       "      <th>movieId</th>\n",
       "      <th>tag</th>\n",
       "      <th>timestamp</th>\n",
       "    </tr>\n",
       "  </thead>\n",
       "  <tbody>\n",
       "    <tr>\n",
       "      <th>0</th>\n",
       "      <td>2</td>\n",
       "      <td>60756</td>\n",
       "      <td>funny</td>\n",
       "      <td>1445714994</td>\n",
       "    </tr>\n",
       "    <tr>\n",
       "      <th>1</th>\n",
       "      <td>2</td>\n",
       "      <td>60756</td>\n",
       "      <td>Highly quotable</td>\n",
       "      <td>1445714996</td>\n",
       "    </tr>\n",
       "    <tr>\n",
       "      <th>2</th>\n",
       "      <td>2</td>\n",
       "      <td>60756</td>\n",
       "      <td>will ferrell</td>\n",
       "      <td>1445714992</td>\n",
       "    </tr>\n",
       "  </tbody>\n",
       "</table>\n",
       "</div>"
      ],
      "text/plain": [
       "   userId  movieId              tag   timestamp\n",
       "0       2    60756            funny  1445714994\n",
       "1       2    60756  Highly quotable  1445714996\n",
       "2       2    60756     will ferrell  1445714992"
      ]
     },
     "execution_count": 9,
     "metadata": {},
     "output_type": "execute_result"
    }
   ],
   "source": [
    "data_tags.info()\n",
    "data_tags.head(3)"
   ]
  },
  {
   "cell_type": "markdown",
   "metadata": {},
   "source": [
    "## Ejercicio 2  - Registros duplicados\n",
    "\n",
    "**2.a** Veamos si existen registros duplicados en el DataFrame data_tags considerando sólo las columnas \"movieId\", \"tag\", marcando como no duplicado la primera ocurrencia de un valor.\n",
    "\n",
    "https://pandas.pydata.org/pandas-docs/stable/reference/api/pandas.DataFrame.duplicated.html\n",
    "\n",
    "\n",
    "**2.b** Usemos el método `drop_duplicates` para obtener otro  `DataFrame` sin los casos duplicados considerando sólo las columnas \"movieId\", \"tag\". Usemos el método `duplicated` para verificar que el nuevo `DataFrame` efectivamente no tiene valores duplicados.\n",
    "\n",
    "https://pandas.pydata.org/pandas-docs/stable/reference/api/pandas.DataFrame.drop_duplicates.html"
   ]
  },
  {
   "cell_type": "code",
   "execution_count": 13,
   "metadata": {},
   "outputs": [
    {
     "data": {
      "text/plain": [
       "True"
      ]
     },
     "execution_count": 13,
     "metadata": {},
     "output_type": "execute_result"
    }
   ],
   "source": [
    "data_tags.duplicated([\"movieId\", \"tag\"], keep='first').any()"
   ]
  },
  {
   "cell_type": "code",
   "execution_count": 16,
   "metadata": {},
   "outputs": [],
   "source": [
    "data_tags_nodupl=data_tags.drop_duplicates([\"movieId\", \"tag\"], keep='first')"
   ]
  },
  {
   "cell_type": "code",
   "execution_count": 17,
   "metadata": {},
   "outputs": [
    {
     "data": {
      "text/plain": [
       "False"
      ]
     },
     "execution_count": 17,
     "metadata": {},
     "output_type": "execute_result"
    }
   ],
   "source": [
    "data_tags_nodupl.duplicated([\"movieId\", \"tag\"], keep='first').any()"
   ]
  },
  {
   "cell_type": "markdown",
   "metadata": {},
   "source": [
    "## Ejercicio 3 - Transformar datos\n",
    "\n",
    "Construyamos un diccionario que asocie un puntaje a una etiqueta.\n",
    "\n",
    "Las etiquetas son:\n",
    "\n",
    "* mala, para puntajes menores a 3;\n",
    "\n",
    "* regular, para mayor igual a 3 y  menor que 4;\n",
    "\n",
    "* buena para puntaje mayor o igual que 4\n",
    "\n",
    "Usemos el método `map` para crear una nueva columna en data (`rating_label`) que tenga las etiquetas asociadas al valor del campo `rating` para cada registro\n"
   ]
  },
  {
   "cell_type": "code",
   "execution_count": 32,
   "metadata": {},
   "outputs": [
    {
     "data": {
      "text/html": [
       "<div>\n",
       "<style scoped>\n",
       "    .dataframe tbody tr th:only-of-type {\n",
       "        vertical-align: middle;\n",
       "    }\n",
       "\n",
       "    .dataframe tbody tr th {\n",
       "        vertical-align: top;\n",
       "    }\n",
       "\n",
       "    .dataframe thead th {\n",
       "        text-align: right;\n",
       "    }\n",
       "</style>\n",
       "<table border=\"1\" class=\"dataframe\">\n",
       "  <thead>\n",
       "    <tr style=\"text-align: right;\">\n",
       "      <th></th>\n",
       "      <th>userId</th>\n",
       "      <th>movieId</th>\n",
       "      <th>rating</th>\n",
       "      <th>timestamp</th>\n",
       "      <th>rating_label</th>\n",
       "    </tr>\n",
       "  </thead>\n",
       "  <tbody>\n",
       "    <tr>\n",
       "      <th>57684</th>\n",
       "      <td>380</td>\n",
       "      <td>38038</td>\n",
       "      <td>5.0</td>\n",
       "      <td>1494071345</td>\n",
       "      <td>buena</td>\n",
       "    </tr>\n",
       "    <tr>\n",
       "      <th>58132</th>\n",
       "      <td>381</td>\n",
       "      <td>497</td>\n",
       "      <td>4.0</td>\n",
       "      <td>1165975976</td>\n",
       "      <td>buena</td>\n",
       "    </tr>\n",
       "    <tr>\n",
       "      <th>7190</th>\n",
       "      <td>50</td>\n",
       "      <td>3000</td>\n",
       "      <td>3.5</td>\n",
       "      <td>1527106195</td>\n",
       "      <td>regular</td>\n",
       "    </tr>\n",
       "    <tr>\n",
       "      <th>55601</th>\n",
       "      <td>368</td>\n",
       "      <td>1674</td>\n",
       "      <td>3.0</td>\n",
       "      <td>971275562</td>\n",
       "      <td>regular</td>\n",
       "    </tr>\n",
       "    <tr>\n",
       "      <th>42819</th>\n",
       "      <td>288</td>\n",
       "      <td>3699</td>\n",
       "      <td>3.0</td>\n",
       "      <td>975691843</td>\n",
       "      <td>regular</td>\n",
       "    </tr>\n",
       "    <tr>\n",
       "      <th>32609</th>\n",
       "      <td>222</td>\n",
       "      <td>420</td>\n",
       "      <td>3.0</td>\n",
       "      <td>1391352264</td>\n",
       "      <td>regular</td>\n",
       "    </tr>\n",
       "    <tr>\n",
       "      <th>70445</th>\n",
       "      <td>448</td>\n",
       "      <td>148592</td>\n",
       "      <td>3.0</td>\n",
       "      <td>1487797588</td>\n",
       "      <td>regular</td>\n",
       "    </tr>\n",
       "    <tr>\n",
       "      <th>43522</th>\n",
       "      <td>292</td>\n",
       "      <td>541</td>\n",
       "      <td>3.5</td>\n",
       "      <td>1219625188</td>\n",
       "      <td>regular</td>\n",
       "    </tr>\n",
       "    <tr>\n",
       "      <th>11556</th>\n",
       "      <td>68</td>\n",
       "      <td>89774</td>\n",
       "      <td>3.0</td>\n",
       "      <td>1332628553</td>\n",
       "      <td>regular</td>\n",
       "    </tr>\n",
       "    <tr>\n",
       "      <th>82324</th>\n",
       "      <td>522</td>\n",
       "      <td>27611</td>\n",
       "      <td>5.0</td>\n",
       "      <td>1301727637</td>\n",
       "      <td>buena</td>\n",
       "    </tr>\n",
       "    <tr>\n",
       "      <th>99706</th>\n",
       "      <td>610</td>\n",
       "      <td>3039</td>\n",
       "      <td>4.5</td>\n",
       "      <td>1493850239</td>\n",
       "      <td>buena</td>\n",
       "    </tr>\n",
       "    <tr>\n",
       "      <th>63163</th>\n",
       "      <td>414</td>\n",
       "      <td>2529</td>\n",
       "      <td>3.0</td>\n",
       "      <td>961514761</td>\n",
       "      <td>regular</td>\n",
       "    </tr>\n",
       "    <tr>\n",
       "      <th>52108</th>\n",
       "      <td>339</td>\n",
       "      <td>3751</td>\n",
       "      <td>4.5</td>\n",
       "      <td>1460183508</td>\n",
       "      <td>buena</td>\n",
       "    </tr>\n",
       "    <tr>\n",
       "      <th>40521</th>\n",
       "      <td>274</td>\n",
       "      <td>71500</td>\n",
       "      <td>2.5</td>\n",
       "      <td>1257958549</td>\n",
       "      <td>mala</td>\n",
       "    </tr>\n",
       "    <tr>\n",
       "      <th>87634</th>\n",
       "      <td>564</td>\n",
       "      <td>90405</td>\n",
       "      <td>2.0</td>\n",
       "      <td>1478451897</td>\n",
       "      <td>mala</td>\n",
       "    </tr>\n",
       "    <tr>\n",
       "      <th>85560</th>\n",
       "      <td>555</td>\n",
       "      <td>2012</td>\n",
       "      <td>3.0</td>\n",
       "      <td>978748996</td>\n",
       "      <td>regular</td>\n",
       "    </tr>\n",
       "    <tr>\n",
       "      <th>2061</th>\n",
       "      <td>18</td>\n",
       "      <td>33794</td>\n",
       "      <td>4.5</td>\n",
       "      <td>1455050618</td>\n",
       "      <td>buena</td>\n",
       "    </tr>\n",
       "    <tr>\n",
       "      <th>9588</th>\n",
       "      <td>64</td>\n",
       "      <td>1513</td>\n",
       "      <td>4.0</td>\n",
       "      <td>1161565629</td>\n",
       "      <td>buena</td>\n",
       "    </tr>\n",
       "    <tr>\n",
       "      <th>94250</th>\n",
       "      <td>599</td>\n",
       "      <td>7235</td>\n",
       "      <td>3.0</td>\n",
       "      <td>1498522090</td>\n",
       "      <td>regular</td>\n",
       "    </tr>\n",
       "    <tr>\n",
       "      <th>18157</th>\n",
       "      <td>115</td>\n",
       "      <td>260</td>\n",
       "      <td>5.0</td>\n",
       "      <td>959800922</td>\n",
       "      <td>buena</td>\n",
       "    </tr>\n",
       "  </tbody>\n",
       "</table>\n",
       "</div>"
      ],
      "text/plain": [
       "       userId  movieId  rating   timestamp rating_label\n",
       "57684     380    38038     5.0  1494071345        buena\n",
       "58132     381      497     4.0  1165975976        buena\n",
       "7190       50     3000     3.5  1527106195      regular\n",
       "55601     368     1674     3.0   971275562      regular\n",
       "42819     288     3699     3.0   975691843      regular\n",
       "32609     222      420     3.0  1391352264      regular\n",
       "70445     448   148592     3.0  1487797588      regular\n",
       "43522     292      541     3.5  1219625188      regular\n",
       "11556      68    89774     3.0  1332628553      regular\n",
       "82324     522    27611     5.0  1301727637        buena\n",
       "99706     610     3039     4.5  1493850239        buena\n",
       "63163     414     2529     3.0   961514761      regular\n",
       "52108     339     3751     4.5  1460183508        buena\n",
       "40521     274    71500     2.5  1257958549         mala\n",
       "87634     564    90405     2.0  1478451897         mala\n",
       "85560     555     2012     3.0   978748996      regular\n",
       "2061       18    33794     4.5  1455050618        buena\n",
       "9588       64     1513     4.0  1161565629        buena\n",
       "94250     599     7235     3.0  1498522090      regular\n",
       "18157     115      260     5.0   959800922        buena"
      ]
     },
     "execution_count": 32,
     "metadata": {},
     "output_type": "execute_result"
    }
   ],
   "source": [
    "bins = [0,3,4,5.1]\n",
    "\n",
    "rating_label = pd.cut(data_ratings.rating, bins, labels = ['mala','regular','buena'], right=False)\n",
    "\n",
    "data_ratings['rating_label'] = rating_label\n",
    "data_ratings.sample(20)"
   ]
  },
  {
   "cell_type": "markdown",
   "metadata": {},
   "source": [
    "Nota: esto ya sabíamos resolverlo usando máscaras booleanas"
   ]
  },
  {
   "cell_type": "markdown",
   "metadata": {},
   "source": [
    "## Ejercicio 4 - Reemplazar valores\n",
    "\n",
    "El método `replace` ofrece varias formas de efectuar reemplazos sobre una serie de Pandas:\n",
    "\n",
    "* Un valor viejo por un valor nuevo.\n",
    "    \n",
    "* Una lista de valores viejos por un valor nuevo.\n",
    "    \n",
    "* Una lista de valores viejos por una lista de valores nuevos.\n",
    "    \n",
    "* Un diccionario que mapee valores nuevos y viejos.\n",
    "\n",
    "\n",
    "https://pandas.pydata.org/pandas-docs/stable/reference/api/pandas.DataFrame.replace.html\n",
    "\n",
    "**4.a - Una lista de valores viejos por un valor nuevo** \n",
    "\n",
    "Veamos cuáles son los tags que están asignados a una única película. \n",
    "\n",
    "Reemplacemos ese valor por \"tag_que_no_funciona\" y eliminemos registros duplicados considerando los campos \"userId\",  \"movieId\", \"tag\".\n",
    "\n",
    "Ayuda: `value_counts`"
   ]
  },
  {
   "cell_type": "code",
   "execution_count": 58,
   "metadata": {},
   "outputs": [
    {
     "data": {
      "text/plain": [
       "True"
      ]
     },
     "execution_count": 58,
     "metadata": {},
     "output_type": "execute_result"
    }
   ],
   "source": [
    "tags=data_tags.tag.value_counts(ascending=True)\n",
    "\n",
    "tags_df=tags.reset_index()\n",
    "\n",
    "tags_valor_uno = tags_df.tag==1\n",
    "\n",
    "tags_a_reemplazar=tags_df[tags_valor_uno]['index']\n",
    "lista_a_reemplazar=list(tags_a_reemplazar)\n",
    "\n",
    "\n",
    "df_4a=data_tags.replace(lista_a_reemplazar,\"tag_que_no_funciona\")\n",
    "\n",
    "df_4a.duplicated([\"userId\", \"movieId\", \"tag\"]).any()"
   ]
  },
  {
   "cell_type": "code",
   "execution_count": 59,
   "metadata": {},
   "outputs": [],
   "source": [
    "df_4a_fin=df_4a.drop_duplicates([\"userId\", \"movieId\", \"tag\"])"
   ]
  },
  {
   "cell_type": "code",
   "execution_count": 60,
   "metadata": {},
   "outputs": [
    {
     "data": {
      "text/plain": [
       "False"
      ]
     },
     "execution_count": 60,
     "metadata": {},
     "output_type": "execute_result"
    }
   ],
   "source": [
    "df_4a_fin.duplicated([\"userId\", \"movieId\", \"tag\"]).any()"
   ]
  },
  {
   "cell_type": "code",
   "execution_count": null,
   "metadata": {},
   "outputs": [],
   "source": []
  },
  {
   "cell_type": "markdown",
   "metadata": {},
   "source": [
    "**4.b - Una lista de valores viejos por una lista de valores nuevos**\n",
    "\n",
    "Reemplacemos cada valor de tag, por la primera palabra que lo compone.\n",
    "\n",
    "Para eso, creamos una serie con valores únicos con el valor del campo tag. \n",
    "\n",
    "Contruimos otra instancia de Series donde cada elemento sea la primera palabra del objeto Series anterior. Ayuda: listas por comprensión y `split`\n",
    "\n",
    "Usamos replace para campiar el valor de cada tag por su primera palabra.\n"
   ]
  },
  {
   "cell_type": "code",
   "execution_count": 76,
   "metadata": {},
   "outputs": [
    {
     "data": {
      "text/html": [
       "<div>\n",
       "<style scoped>\n",
       "    .dataframe tbody tr th:only-of-type {\n",
       "        vertical-align: middle;\n",
       "    }\n",
       "\n",
       "    .dataframe tbody tr th {\n",
       "        vertical-align: top;\n",
       "    }\n",
       "\n",
       "    .dataframe thead th {\n",
       "        text-align: right;\n",
       "    }\n",
       "</style>\n",
       "<table border=\"1\" class=\"dataframe\">\n",
       "  <thead>\n",
       "    <tr style=\"text-align: right;\">\n",
       "      <th></th>\n",
       "      <th>userId</th>\n",
       "      <th>movieId</th>\n",
       "      <th>tag</th>\n",
       "      <th>timestamp</th>\n",
       "    </tr>\n",
       "  </thead>\n",
       "  <tbody>\n",
       "    <tr>\n",
       "      <th>0</th>\n",
       "      <td>2</td>\n",
       "      <td>60756</td>\n",
       "      <td>funny</td>\n",
       "      <td>1445714994</td>\n",
       "    </tr>\n",
       "    <tr>\n",
       "      <th>1</th>\n",
       "      <td>2</td>\n",
       "      <td>60756</td>\n",
       "      <td>Highly</td>\n",
       "      <td>1445714996</td>\n",
       "    </tr>\n",
       "    <tr>\n",
       "      <th>2</th>\n",
       "      <td>2</td>\n",
       "      <td>60756</td>\n",
       "      <td>will</td>\n",
       "      <td>1445714992</td>\n",
       "    </tr>\n",
       "  </tbody>\n",
       "</table>\n",
       "</div>"
      ],
      "text/plain": [
       "   userId  movieId     tag   timestamp\n",
       "0       2    60756   funny  1445714994\n",
       "1       2    60756  Highly  1445714996\n",
       "2       2    60756    will  1445714992"
      ]
     },
     "execution_count": 76,
     "metadata": {},
     "output_type": "execute_result"
    }
   ],
   "source": [
    "data_tags\n",
    "tags_unicos = data_tags.tag.unique()\n",
    "tags_unicos_2 =[ tags.split(' ')[0] for tags in tags_unicos]\n",
    "\n",
    "tag_resumido = data_tags.replace(tags_unicos,tags_unicos_2)\n",
    "# data_tags.head(3)\n",
    "tag_resumido.head(3)"
   ]
  },
  {
   "cell_type": "markdown",
   "metadata": {},
   "source": [
    "**4.c - Un diccionario que mapee valores nuevos y viejos**\n",
    "\n",
    "Reemplacemos los valores de tags \n",
    "* \"Al Pacino\" por \"Pacino\"\n",
    "* \"Leonardo DiCaprio\" por \"DiCaprio\"\n",
    "* \"Tom Hanks\" por \"Hanks\"\n",
    "* \"Martin Scorsese\" por \"Scorsese\"\n",
    "\n",
    "Contemos cuantas veces aparecen cada uno de los valores a reemplazar, y cuántas los valores de reemplazo. Ayuda: `value_counts`\n",
    "\n",
    "Construyamos un diccionario con este mapeo y usemos el método `replace`\n",
    "\n",
    "Volvamos a contar cuántas veces aparecen cada uno de los valores a reemplazar, y cuántas los valores de reemplazo.\n"
   ]
  },
  {
   "cell_type": "code",
   "execution_count": null,
   "metadata": {},
   "outputs": [],
   "source": []
  },
  {
   "cell_type": "markdown",
   "metadata": {},
   "source": [
    "## Ejercicio 5 - Discretizar variables\n",
    "\n",
    "Vamos a volver a resolver el Ejercicio 3 usando el método `cut`\n",
    "\n",
    "https://pandas.pydata.org/pandas-docs/stable/reference/api/pandas.cut.html\n",
    "\n",
    "Defino los valores de corte:\n",
    "\n",
    "* mala, para puntajes menores a 3;\n",
    "\n",
    "* regular, para mayor igual a 3 y  menor que 4;\n",
    "\n",
    "* buena para puntaje mayor o igual que 4\n"
   ]
  },
  {
   "cell_type": "code",
   "execution_count": null,
   "metadata": {},
   "outputs": [],
   "source": []
  },
  {
   "cell_type": "markdown",
   "metadata": {},
   "source": [
    "## Ejercicio 6 - Detectar y filtrar outliers\n",
    "\n",
    "No existe un criterio que sea válido en todos los casos para identificar los outliers. El criterio de mayor que el tercer cuartil más 1.5 veces el rango intercuartil o menor que el primer cuartil menos 1.5 veces el rango intercuartil (Q3 - Q1) surge de la distribución normal. En esa distribución el 99.7% de la población se encuentra en el rango definido por la media (poblacional) más menos 3 veces el desvío estándar (poblacional)\n",
    "\n",
    "**Queremos ver cuáles son las películas que son outliers en cantidad de calificaciones.**\n",
    "\n",
    "**6.a** Usando data_ratings eliminamos duplicados considerando las columnas \"userId\", \"movieId\". Esto lo hacemos para contar sólo una vez los votos de un usuario a una película.\n",
    "\n",
    "**6.b** Sobre el DataFrame obtenido en el paso anterior, hacemos count agrupado por película. Esto nos da como resultado una instancia de Series que asignamos a la variable movie_votes_count.\n",
    "\n",
    "**6.c** Calculemos los cuartilos de los valores de movie_votes_count y los valores que usaremos de umbral para determinar outliers.\n",
    "(Ayuda: https://pandas.pydata.org/pandas-docs/stable/reference/api/pandas.DataFrame.quantile.html)\n",
    "\n",
    "**6.d** Filtremos los datos de movie_votes_count excluyendo los outliers. \n",
    "\n",
    "**6.e** Comparemos movie_votes_count antes y después del filtro con:\n",
    "* el método `describe`\n",
    "* boxplots de seaborn\n",
    "\n",
    "**6.f** Adicional: Miremos cuáles son los títulos de las cinco películas más votadas que son outliers de cantidad de calificaciones"
   ]
  },
  {
   "cell_type": "code",
   "execution_count": 77,
   "metadata": {},
   "outputs": [],
   "source": [
    "data_ratings_sin_dup = data_ratings.drop_duplicates([\"userId\", \"movieId\"])"
   ]
  },
  {
   "cell_type": "code",
   "execution_count": 85,
   "metadata": {},
   "outputs": [],
   "source": [
    "data_ratings_sin_dup['movie_votes_count']=data_ratings_sin_dup.groupby('movieId').count()['userId']"
   ]
  },
  {
   "cell_type": "code",
   "execution_count": 91,
   "metadata": {},
   "outputs": [],
   "source": [
    "q1 = data_ratings_sin_dup.movie_votes_count.quantile(0.25)\n",
    "q2 = data_ratings_sin_dup.movie_votes_count.quantile(0.5)\n",
    "q3 = data_ratings_sin_dup.movie_votes_count.quantile(0.75)\n",
    "q4 = data_ratings_sin_dup.movie_votes_count.quantile(1)\n",
    "\n",
    "outlier_min_lvl = q1 - 1.5*(q3-q1)\n",
    "outlier_max_lvl = q3 + 1.5*(q3-q1)"
   ]
  },
  {
   "cell_type": "code",
   "execution_count": 94,
   "metadata": {},
   "outputs": [],
   "source": [
    "outliers=np.logical_or(data_ratings_sin_dup['movie_votes_count'] > outlier_max_lvl , outlier_min_lvl< data_ratings_sin_dup['movie_votes_count'])"
   ]
  },
  {
   "cell_type": "code",
   "execution_count": null,
   "metadata": {},
   "outputs": [],
   "source": []
  },
  {
   "cell_type": "code",
   "execution_count": null,
   "metadata": {},
   "outputs": [],
   "source": []
  },
  {
   "cell_type": "code",
   "execution_count": null,
   "metadata": {},
   "outputs": [],
   "source": []
  },
  {
   "cell_type": "markdown",
   "metadata": {},
   "source": [
    "## Ejercicio 7 - Variables categóricas y dummies\n",
    "\n",
    "**7.a** Usando el método `get_dummies` con `drop_first = True` agreguemos al DataFrame data_ratings variables dummies que representen las categorias de rating_label\n",
    "\n",
    "https://pandas.pydata.org/pandas-docs/stable/reference/api/pandas.get_dummies.html\n",
    "\n",
    "\n",
    "**7.b** Comparemos las variables dummies generadas en el punto anterior con las que se generan usando `drop_first = False`. ¿Cuál es la diferencia? ¿Representan el mismo conjunto de valores posibles?\n",
    "\n",
    "**7.c** Adicional: Cambienos las categorias que se muestran como resultado de `get_dummies` con `drop_first = True`. Ayuda: https://pandas.pydata.org/pandas-docs/stable/user_guide/categorical.html#categoricaldtype\n",
    "\n"
   ]
  },
  {
   "cell_type": "code",
   "execution_count": null,
   "metadata": {},
   "outputs": [],
   "source": []
  },
  {
   "cell_type": "markdown",
   "metadata": {},
   "source": [
    "En esta segunda solución (7.b), tenemos una columna para cada categoría de los valores originales. \n",
    "\n",
    "Los valores representados son exactamente los mismos que había en la columna original (como en las solución 7.a), pero una de las columnas es redundante porque se puede determinar su valor partiendo de los valores de las otras dos.\n",
    "\n",
    "Las dos soluciones representan todas la categorias posibles de la variable original. \n",
    "\n",
    "Observemos que los valores (0,0,0), (0,1,1), (1,1,0), (1,0,1), (1,1) no representan una categoría en la variable original."
   ]
  },
  {
   "cell_type": "code",
   "execution_count": null,
   "metadata": {},
   "outputs": [],
   "source": []
  }
 ],
 "metadata": {
  "kernelspec": {
   "display_name": "Python 3",
   "language": "python",
   "name": "python3"
  },
  "language_info": {
   "codemirror_mode": {
    "name": "ipython",
    "version": 3
   },
   "file_extension": ".py",
   "mimetype": "text/x-python",
   "name": "python",
   "nbconvert_exporter": "python",
   "pygments_lexer": "ipython3",
   "version": "3.8.11"
  }
 },
 "nbformat": 4,
 "nbformat_minor": 4
}
