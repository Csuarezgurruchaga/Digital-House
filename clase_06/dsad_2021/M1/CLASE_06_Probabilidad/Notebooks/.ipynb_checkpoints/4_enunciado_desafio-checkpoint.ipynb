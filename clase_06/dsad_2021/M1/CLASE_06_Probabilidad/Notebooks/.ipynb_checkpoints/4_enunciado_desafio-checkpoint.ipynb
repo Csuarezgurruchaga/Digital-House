{
 "cells": [
  {
   "cell_type": "code",
   "execution_count": 1,
   "metadata": {},
   "outputs": [
    {
     "name": "stdout",
     "output_type": "stream",
     "text": [
      "/Users/csuarezgurruchaga/Desktop/Digital-House/clase_06/dsad_2021/common\n",
      "default checking\n",
      "Running command `conda list`... ok\n",
      "jupyterlab=2.2.6 already installed\n",
      "pandas=1.1.5 already installed\n",
      "bokeh=2.2.3 already installed\n",
      "seaborn=0.11.0 already installed\n",
      "matplotlib=3.3.2 already installed\n",
      "ipywidgets=7.5.1 already installed\n",
      "pytest=6.2.1 already installed\n",
      "chardet=4.0.0 already installed\n",
      "psutil=5.7.2 already installed\n",
      "scipy=1.5.2 already installed\n",
      "statsmodels=0.12.1 already installed\n",
      "scikit-learn=0.23.2 already installed\n",
      "xlrd=2.0.1 already installed\n",
      "Running command `conda install --yes nltk=3.5.0`... ok\n",
      "Collecting package metadata (current_repodata.json): ...working... done\n",
      "Solving environment: ...working... done\n",
      "\n",
      "# All requested packages already installed.\n",
      "\n",
      "\n",
      "unidecode=1.1.1 already installed\n",
      "pydotplus=2.0.2 already installed\n",
      "pandas-datareader=0.9.0 already installed\n",
      "flask=1.1.2 already installed\n"
     ]
    }
   ],
   "source": [
    "%run \"../../../common/0_notebooks_base_setup.py\"   "
   ]
  },
  {
   "cell_type": "markdown",
   "metadata": {},
   "source": [
    "---\n",
    "\n",
    "<img src='../../../common/logo_DH.png' align='left' width=35%/>\n"
   ]
  },
  {
   "cell_type": "markdown",
   "metadata": {},
   "source": [
    "En la práctica de la clase de hoy usaremos un dataset de Kaggle que tiene datos de ventas:\n",
    "\n",
    "https://www.kaggle.com/kyanyoga/sample-sales-data\n",
    "\n",
    "Ustedes tienen un subconjunto de los datos disponibles, que usaremos para resolver ejercicios de Numpy, Estadística y Probabilidad."
   ]
  },
  {
   "cell_type": "markdown",
   "metadata": {},
   "source": [
    "## Ejercicio 1\n",
    "Leer los datos del archivo /M1/CLASE_03/Data/sales_data_sample_excercise.csv\n",
    "\n",
    "Este archivo tiene algunos datos numéricos y otros de tipo cadena de caracteres. \n",
    "\n",
    "Las columnas son:\n",
    "\n",
    "* ORDERNUMBER: int, id de la orden\n",
    "\n",
    "* SALES: float, monto abonado\n",
    "\n",
    "* MONTH_ID: int, mes\n",
    "\n",
    "* YEAR_ID: int, año\n",
    "\n",
    "* PRODUCTLINE: str, producto\n",
    "\n",
    "* COUNTRY: str, país de venta\n",
    "\n",
    "¿Recuerdan que todos los elementos de una instancia de ndarray deben ser del mismo tipo? Entonces vamos a leer el archivo y crear una instancia de ndarray de tipo cadena de caracteres.\n",
    "\n",
    "¿Qué pasaría si intentáramos crear una instancia de tipo int? ¿Y de tipo float?\n"
   ]
  },
  {
   "cell_type": "code",
   "execution_count": 2,
   "metadata": {},
   "outputs": [],
   "source": [
    "## [BORRAR_PRESENCIAL]\n",
    "\n",
    "import numpy as np\n",
    "import pandas as pd\n",
    "# local:\n",
    "path = \"../Data/sales_data_sample_excercise.csv\"\n",
    "\n"
   ]
  },
  {
   "cell_type": "code",
   "execution_count": 3,
   "metadata": {},
   "outputs": [
    {
     "data": {
      "text/plain": [
       "array([[        nan,         nan,         nan,         nan,         nan,\n",
       "                nan],\n",
       "       [1.01070e+04, 2.87100e+03, 2.00000e+00, 2.00300e+03,         nan,\n",
       "                nan],\n",
       "       [1.01210e+04, 2.76590e+03, 5.00000e+00, 2.00300e+03,         nan,\n",
       "                nan],\n",
       "       ...,\n",
       "       [1.03860e+04, 5.41757e+03, 3.00000e+00, 2.00500e+03,         nan,\n",
       "                nan],\n",
       "       [1.03970e+04, 2.11616e+03, 3.00000e+00, 2.00500e+03,         nan,\n",
       "                nan],\n",
       "       [1.04140e+04, 3.07944e+03, 5.00000e+00, 2.00500e+03,         nan,\n",
       "                nan]])"
      ]
     },
     "execution_count": 3,
     "metadata": {},
     "output_type": "execute_result"
    }
   ],
   "source": [
    "np.genfromtxt(path, delimiter = \"\\t\")"
   ]
  },
  {
   "cell_type": "code",
   "execution_count": 4,
   "metadata": {},
   "outputs": [
    {
     "data": {
      "text/plain": [
       "array([[   -1,    -1,    -1,    -1,    -1,    -1],\n",
       "       [10107,  2871,     2,  2003,    -1,    -1],\n",
       "       [10121,    -1,     5,  2003,    -1,    -1],\n",
       "       ...,\n",
       "       [10386,    -1,     3,  2005,    -1,    -1],\n",
       "       [10397,    -1,     3,  2005,    -1,    -1],\n",
       "       [10414,    -1,     5,  2005,    -1,    -1]])"
      ]
     },
     "execution_count": 4,
     "metadata": {},
     "output_type": "execute_result"
    }
   ],
   "source": [
    "np.genfromtxt(path, delimiter = \"\\t\", dtype=int)"
   ]
  },
  {
   "cell_type": "code",
   "execution_count": 5,
   "metadata": {},
   "outputs": [
    {
     "data": {
      "text/html": [
       "<div>\n",
       "<style scoped>\n",
       "    .dataframe tbody tr th:only-of-type {\n",
       "        vertical-align: middle;\n",
       "    }\n",
       "\n",
       "    .dataframe tbody tr th {\n",
       "        vertical-align: top;\n",
       "    }\n",
       "\n",
       "    .dataframe thead th {\n",
       "        text-align: right;\n",
       "    }\n",
       "</style>\n",
       "<table border=\"1\" class=\"dataframe\">\n",
       "  <thead>\n",
       "    <tr style=\"text-align: right;\">\n",
       "      <th></th>\n",
       "      <th>ORDERNUMBER</th>\n",
       "      <th>SALES</th>\n",
       "      <th>MONTH_ID</th>\n",
       "      <th>YEAR_ID</th>\n",
       "      <th>PRODUCTLINE</th>\n",
       "      <th>COUNTRY</th>\n",
       "    </tr>\n",
       "  </thead>\n",
       "  <tbody>\n",
       "    <tr>\n",
       "      <th>0</th>\n",
       "      <td>10107</td>\n",
       "      <td>2871.00</td>\n",
       "      <td>2</td>\n",
       "      <td>2003</td>\n",
       "      <td>Motorcycles</td>\n",
       "      <td>USA</td>\n",
       "    </tr>\n",
       "    <tr>\n",
       "      <th>1</th>\n",
       "      <td>10121</td>\n",
       "      <td>2765.90</td>\n",
       "      <td>5</td>\n",
       "      <td>2003</td>\n",
       "      <td>Motorcycles</td>\n",
       "      <td>France</td>\n",
       "    </tr>\n",
       "    <tr>\n",
       "      <th>2</th>\n",
       "      <td>10134</td>\n",
       "      <td>3884.34</td>\n",
       "      <td>7</td>\n",
       "      <td>2003</td>\n",
       "      <td>Motorcycles</td>\n",
       "      <td>France</td>\n",
       "    </tr>\n",
       "    <tr>\n",
       "      <th>3</th>\n",
       "      <td>10145</td>\n",
       "      <td>3746.70</td>\n",
       "      <td>8</td>\n",
       "      <td>2003</td>\n",
       "      <td>Motorcycles</td>\n",
       "      <td>USA</td>\n",
       "    </tr>\n",
       "    <tr>\n",
       "      <th>4</th>\n",
       "      <td>10159</td>\n",
       "      <td>5205.27</td>\n",
       "      <td>10</td>\n",
       "      <td>2003</td>\n",
       "      <td>Motorcycles</td>\n",
       "      <td>USA</td>\n",
       "    </tr>\n",
       "    <tr>\n",
       "      <th>...</th>\n",
       "      <td>...</td>\n",
       "      <td>...</td>\n",
       "      <td>...</td>\n",
       "      <td>...</td>\n",
       "      <td>...</td>\n",
       "      <td>...</td>\n",
       "    </tr>\n",
       "    <tr>\n",
       "      <th>2818</th>\n",
       "      <td>10350</td>\n",
       "      <td>2244.40</td>\n",
       "      <td>12</td>\n",
       "      <td>2004</td>\n",
       "      <td>Ships</td>\n",
       "      <td>Spain</td>\n",
       "    </tr>\n",
       "    <tr>\n",
       "      <th>2819</th>\n",
       "      <td>10373</td>\n",
       "      <td>3978.51</td>\n",
       "      <td>1</td>\n",
       "      <td>2005</td>\n",
       "      <td>Ships</td>\n",
       "      <td>Finland</td>\n",
       "    </tr>\n",
       "    <tr>\n",
       "      <th>2820</th>\n",
       "      <td>10386</td>\n",
       "      <td>5417.57</td>\n",
       "      <td>3</td>\n",
       "      <td>2005</td>\n",
       "      <td>Ships</td>\n",
       "      <td>Spain</td>\n",
       "    </tr>\n",
       "    <tr>\n",
       "      <th>2821</th>\n",
       "      <td>10397</td>\n",
       "      <td>2116.16</td>\n",
       "      <td>3</td>\n",
       "      <td>2005</td>\n",
       "      <td>Ships</td>\n",
       "      <td>France</td>\n",
       "    </tr>\n",
       "    <tr>\n",
       "      <th>2822</th>\n",
       "      <td>10414</td>\n",
       "      <td>3079.44</td>\n",
       "      <td>5</td>\n",
       "      <td>2005</td>\n",
       "      <td>Ships</td>\n",
       "      <td>USA</td>\n",
       "    </tr>\n",
       "  </tbody>\n",
       "</table>\n",
       "<p>2823 rows × 6 columns</p>\n",
       "</div>"
      ],
      "text/plain": [
       "      ORDERNUMBER    SALES  MONTH_ID  YEAR_ID  PRODUCTLINE  COUNTRY\n",
       "0           10107  2871.00         2     2003  Motorcycles      USA\n",
       "1           10121  2765.90         5     2003  Motorcycles   France\n",
       "2           10134  3884.34         7     2003  Motorcycles   France\n",
       "3           10145  3746.70         8     2003  Motorcycles      USA\n",
       "4           10159  5205.27        10     2003  Motorcycles      USA\n",
       "...           ...      ...       ...      ...          ...      ...\n",
       "2818        10350  2244.40        12     2004        Ships    Spain\n",
       "2819        10373  3978.51         1     2005        Ships  Finland\n",
       "2820        10386  5417.57         3     2005        Ships    Spain\n",
       "2821        10397  2116.16         3     2005        Ships   France\n",
       "2822        10414  3079.44         5     2005        Ships      USA\n",
       "\n",
       "[2823 rows x 6 columns]"
      ]
     },
     "execution_count": 5,
     "metadata": {},
     "output_type": "execute_result"
    }
   ],
   "source": [
    "df = pd.read_csv(path, sep = \"\\t\")\n",
    "df"
   ]
  },
  {
   "cell_type": "code",
   "execution_count": null,
   "metadata": {},
   "outputs": [],
   "source": []
  },
  {
   "cell_type": "markdown",
   "metadata": {},
   "source": [
    "## Ejercicio 2\n",
    "\n",
    "Ahora queremos simular datos que representen las precios de ventas de USA en el mismo período, usando una distribución normal.\n",
    "\n",
    "¿Qué parámetros tiene esa distribución?\n",
    "\n",
    "Generar 100 datos simulados."
   ]
  },
  {
   "cell_type": "markdown",
   "metadata": {},
   "source": [
    "Rta> La distribucion utiliza los parametros Media y Varianza"
   ]
  },
  {
   "cell_type": "code",
   "execution_count": 6,
   "metadata": {},
   "outputs": [
    {
     "name": "stderr",
     "output_type": "stream",
     "text": [
      "/Users/csuarezgurruchaga/opt/anaconda3/envs/dhdsblend2021/lib/python3.8/site-packages/pandas/core/generic.py:5170: SettingWithCopyWarning: \n",
      "A value is trying to be set on a copy of a slice from a DataFrame.\n",
      "Try using .loc[row_indexer,col_indexer] = value instead\n",
      "\n",
      "See the caveats in the documentation: https://pandas.pydata.org/pandas-docs/stable/user_guide/indexing.html#returning-a-view-versus-a-copy\n",
      "  self[name] = value\n"
     ]
    },
    {
     "data": {
      "text/plain": [
       "count     1004.000000\n",
       "mean      3613.528715\n",
       "std       1880.934147\n",
       "min        541.140000\n",
       "25%       2246.250000\n",
       "50%       3236.060000\n",
       "75%       4583.950000\n",
       "max      14082.800000\n",
       "Name: SALES, dtype: float64"
      ]
     },
     "execution_count": 6,
     "metadata": {},
     "output_type": "execute_result"
    }
   ],
   "source": [
    "df_USA = df[df.COUNTRY == 'USA']\n",
    "df_USA.head()\n",
    "df_USA.SALES = (df_USA.SALES).astype(float)\n",
    "df_USA.SALES.describe()"
   ]
  },
  {
   "cell_type": "code",
   "execution_count": 7,
   "metadata": {},
   "outputs": [
    {
     "data": {
      "text/plain": [
       "array([ 5398.28555407,  3600.7769609 ,  1841.57306062,  3134.47835902,\n",
       "        1196.74156964,  -396.45738485,  2525.37611521,  1675.89223419,\n",
       "        4351.66029329,  4522.63411324,  5806.63675201,    54.55087611,\n",
       "        4231.29308933,  7721.17826357,  4944.61365391,  4098.28914541,\n",
       "        6089.0657386 ,  1416.50005409,  5970.3160203 ,  2720.75147287,\n",
       "        2547.17473437,  4849.81151545,  -746.96410979,  2348.71377604,\n",
       "        2782.44954812,  3785.50730829,  5975.26073651,  5171.19757753,\n",
       "        4771.70213455,   879.74599435,  3264.19712515,  1730.58575427,\n",
       "        2749.24718962,  5473.05130559,   894.89248924,  3993.56837071,\n",
       "        2793.36935731,  9402.34358901, -1062.96922031,   976.11945493,\n",
       "        4613.93609298,  2332.92971174,  1628.99806661,  3453.93444599,\n",
       "        2517.06972876,  3564.95291972,  6347.50533978,  6884.31466322,\n",
       "        2094.74061728,  4980.10399255,  3981.8292606 ,  4093.81636554,\n",
       "        4586.19877321,  1921.9644916 ,  1229.34694832,  3105.8144116 ,\n",
       "        1524.00812967,  2656.66476203,   665.90381407,  5662.77214565,\n",
       "        2688.66030527,  -661.34237866,  4154.71705222,  2162.03471946,\n",
       "        3084.60724379,  5544.21605501,  5250.2695849 ,  6235.36943903,\n",
       "        4651.27319637,  4455.14429642,  2423.78335341,  4225.24657157,\n",
       "        -742.44020155,  5620.95896978,  2681.31090562,  2673.66448524,\n",
       "        5222.54517104,  1827.54028533,  3687.80441959,   508.15723629,\n",
       "        1949.16141535,   263.06669542,  3903.96392745,  8488.45174121,\n",
       "        3376.18810496,  4247.78762359,  1996.66758873,  9284.27373051,\n",
       "        4744.7199794 ,  1690.2996632 ,  2723.74758171,  5229.0226812 ,\n",
       "        3174.55711522,  6201.94763335,  3889.92536543,  4110.53444874,\n",
       "        4021.99563827,  4530.59959537,  3372.75278635,  5471.32259886])"
      ]
     },
     "execution_count": 7,
     "metadata": {},
     "output_type": "execute_result"
    }
   ],
   "source": [
    "#Genero 100 datos simulados con distribucion normal\n",
    "\n",
    "rng = np.random.default_rng() #RANDOM GENERATOR\n",
    "simuloVentas = rng.normal(df_USA.SALES.mean(),np.std(df_USA.SALES),size = 100)\n",
    "simuloVentas"
   ]
  },
  {
   "cell_type": "markdown",
   "metadata": {},
   "source": [
    "## Ejercicio 3\n",
    "\n",
    "Agregando a los datos originales los datos simulados en el punto anterior, calcular: \n",
    "* Media\n",
    "* Mediana\n",
    "* Rango\n",
    "* Desvío estandard\n",
    "\n",
    "Y comparar con el conjunto sin datos simulados\n",
    "\n",
    "Ayuda: https://docs.scipy.org/doc/numpy/reference/generated/numpy.concatenate.html"
   ]
  },
  {
   "cell_type": "code",
   "execution_count": 8,
   "metadata": {},
   "outputs": [
    {
     "name": "stdout",
     "output_type": "stream",
     "text": [
      "3602.9685705415563 3245.49 15145.769220308779 1900.3591905322573\n"
     ]
    }
   ],
   "source": [
    "df2=df_USA.SALES\n",
    "full_usa = np.concatenate((df2,simuloVentas), axis = 0)\n",
    "mean_usa,median_usa,rang_usa,desvio_usa=full_usa.mean(),np.median(full_usa),np.max(full_usa)-np.min(full_usa),np.std(full_usa)\n",
    "\n",
    "print(mean_usa,median_usa,rang_usa,desvio_usa)"
   ]
  },
  {
   "cell_type": "markdown",
   "metadata": {},
   "source": [
    "## Ejercicio 4\n",
    "\n",
    "Ahora queremos simular datos que representen las precios de ventas de USA en el mismo período, usando una distribución uniforme.\n",
    "\n",
    "¿Qué parámetros tiene esa distribución?\n",
    "\n",
    "Generar 100 datos simulados."
   ]
  },
  {
   "cell_type": "code",
   "execution_count": 9,
   "metadata": {},
   "outputs": [
    {
     "data": {
      "text/plain": [
       "array([ 3619.647122  ,  4830.57373851, 11338.79191894,  9698.75082472,\n",
       "        5837.412557  ,  5047.99305443,  8643.2337161 ,  3069.83085182,\n",
       "        9651.37361099, 13294.71418851,  3902.79906397, 13390.56593854,\n",
       "        9576.64272915,  1839.75723852,  6524.38253376, 12545.54966436,\n",
       "        9985.81816121,  4962.12452446, 10479.74565224,  3522.13272211,\n",
       "        1646.06591859,  2706.39186525,  5146.66107059,  6840.62752176,\n",
       "        4148.92298196, 11588.1066912 ,  3158.66689967,  2294.36621011,\n",
       "        1782.43289941,  8646.74452793, 12115.76425679,  8688.09030379,\n",
       "       13161.80951046, 10355.88276625, 12194.43335269, 13125.91653408,\n",
       "        7937.40523175, 13238.78839883,  7244.09838865,  4248.4833544 ,\n",
       "        6658.97365186,  9546.87098744,  5021.95247747, 12775.40698583,\n",
       "        4022.35107638,  5142.97980628,  4046.44471427,  5354.4753796 ,\n",
       "         609.1507356 ,  9053.48901065,  4365.07061383,  1463.16034123,\n",
       "        8894.02828815,  2928.8910783 ,  4663.06404768,  6511.47929137,\n",
       "        2575.12903388,  3492.25856809,  6964.39777459,  6991.9650701 ,\n",
       "        3997.40975642,  4570.66768907,  4320.1720537 ,  4069.81509862,\n",
       "        7078.53335075,  3411.6880374 ,  7252.80102574,  3875.92714555,\n",
       "       11895.58699561,  2980.40720667, 12216.16736648,  2955.61046028,\n",
       "       10704.58011644,  8816.72472774,  3373.44637029, 10831.07397024,\n",
       "        3916.54188405,  1699.92330017,  8910.65399435,  7812.58256961,\n",
       "        9133.6849842 ,  2902.4548927 ,  3901.69914571,  9814.78001817,\n",
       "        1636.27633717, 12391.08917642,  6346.37355872,  8915.22394004,\n",
       "        4781.1082818 ,  2964.59413901,   672.65833248,  3385.4703287 ,\n",
       "       12322.39339169, 13714.87042193,  6523.7417021 ,  5670.03688388,\n",
       "        4277.92155253, 13623.79337186,  1329.29989162,  6076.07548886])"
      ]
     },
     "execution_count": 9,
     "metadata": {},
     "output_type": "execute_result"
    }
   ],
   "source": [
    "rng = np.random.default_rng(12345)\n",
    "usa_uniforme = rng.uniform(low=np.min(df2), high=np.max(df2), size=100)\n",
    "usa_uniforme"
   ]
  },
  {
   "cell_type": "markdown",
   "metadata": {},
   "source": [
    "## Ejercicio 5\n",
    "\n",
    "Agregando a los datos originales los datos simulados en el punto anterior, calcular: \n",
    "* Media\n",
    "* Mediana\n",
    "* Rango\n",
    "* Desvío estandard\n",
    "\n",
    "Y comparar con el conjunto sin datos simulados."
   ]
  },
  {
   "cell_type": "code",
   "execution_count": 14,
   "metadata": {},
   "outputs": [
    {
     "name": "stdout",
     "output_type": "stream",
     "text": [
      "Los valores ORIGINALES                      3613.5287151394423 3236.06 13541.66 1879.9971929724536\n",
      "Los valores originales + Simulados UNIFORME 3891.458085495366 3354.585 13541.66 2284.5955491633713\n",
      "Los valores originales + Simulados Normal   3602.9685705415563 3245.49 15145.769220308779 1900.3591905322573\n"
     ]
    }
   ],
   "source": [
    "full_usa_uniforme = np.concatenate((df2,usa_uniforme), axis=0)\n",
    "# usa_uniforme_Serie = pd.Series(usa_uniforme)\n",
    "# full_usa_uniforme2 = df2.append(usa_uniforme_Serie)\n",
    "# full_usa_uniforme == full_usa_uniforme2\n",
    "\n",
    "mean_usa_uniform,median_usa_uniform,rang_usa_uniform,desvio_usa_uniform=full_usa_uniforme.mean(),np.median(full_usa_uniforme),np.max(full_usa_uniforme)-np.min(full_usa_uniforme),np.std(full_usa_uniforme)\n",
    "mean_usaorigin,median_usaorigin,rang_usaorigin,desvio_usaorigin=df_USA.SALES.mean(),np.median(df_USA.SALES),np.max(df_USA.SALES)-np.min(df_USA.SALES),np.std(df_USA.SALES)\n",
    "\n",
    "\n",
    "\n",
    "print('Los valores ORIGINALES                     ',mean_usaorigin,median_usaorigin,rang_usaorigin,desvio_usaorigin)\n",
    "print('Los valores originales + Simulados UNIFORME',mean_usa_uniform,median_usa_uniform,rang_usa_uniform,desvio_usa_uniform)\n",
    "print('Los valores originales + Simulados Normal  ',mean_usa,median_usa,rang_usa,desvio_usa)"
   ]
  },
  {
   "cell_type": "code",
   "execution_count": 11,
   "metadata": {},
   "outputs": [],
   "source": [
    "#Comparo con el conjunto sin datos simulados\n",
    "\n"
   ]
  },
  {
   "cell_type": "markdown",
   "metadata": {},
   "source": [
    "## Ejercicio 6\n",
    "\n",
    "¿Cuál de las dos imputaciones de datos preservó mejor la distribución original?"
   ]
  },
  {
   "cell_type": "markdown",
   "metadata": {},
   "source": [
    "El conjunto de datos, que utilizo el modelo gausseano, fue el que mas cercano de los datos originales estuvo."
   ]
  },
  {
   "cell_type": "code",
   "execution_count": 12,
   "metadata": {},
   "outputs": [],
   "source": [
    "import seaborn as sns\n",
    "\n",
    "def distribution_plotter(data, label, color = 'steelblue',\n",
    "                         bin_width=200):    \n",
    "    sns.set(rc={\"figure.figsize\": (7, 5)})\n",
    "    sns.set_style(\"white\")    \n",
    "    dist = sns.histplot(data, stat = 'count', kde = False, \n",
    "                        line_kws = {'linewidth':5}, \n",
    "                        binwidth = bin_width,\n",
    "                       color = color)    \n",
    "    dist.set_title('Distribucion ' + label + '\\n', fontsize = 16)\n",
    "    \n",
    "    \n"
   ]
  },
  {
   "cell_type": "code",
   "execution_count": 17,
   "metadata": {},
   "outputs": [
    {
     "data": {
      "image/png": "[encoded data removed]",
      "text/plain": [
       "<Figure size 504x360 with 1 Axes>"
      ]
     },
     "metadata": {},
     "output_type": "display_data"
    }
   ],
   "source": [
    "%matplotlib inline\n",
    "distribution_plotter(df_USA.SALES, \"ORIGINAL\")"
   ]
  },
  {
   "cell_type": "code",
   "execution_count": 19,
   "metadata": {},
   "outputs": [
    {
     "data": {
      "image/png": "[encoded data removed]",
      "text/plain": [
       "<Figure size 504x360 with 1 Axes>"
      ]
     },
     "metadata": {},
     "output_type": "display_data"
    }
   ],
   "source": [
    "distribution_plotter(full_usa_uniforme, \"ORIGINAL+modelo uniforme\")"
   ]
  },
  {
   "cell_type": "code",
   "execution_count": 20,
   "metadata": {},
   "outputs": [
    {
     "data": {
      "image/png": "[encoded data removed]",
      "text/plain": [
       "<Figure size 504x360 with 1 Axes>"
      ]
     },
     "metadata": {},
     "output_type": "display_data"
    }
   ],
   "source": [
    "distribution_plotter(full_usa, \"ORIGINAL+modelo normal\")"
   ]
  },
  {
   "cell_type": "code",
   "execution_count": null,
   "metadata": {},
   "outputs": [],
   "source": []
  }
 ],
 "metadata": {
  "kernelspec": {
   "display_name": "Python 3",
   "language": "python",
   "name": "python3"
  },
  "language_info": {
   "codemirror_mode": {
    "name": "ipython",
    "version": 3
   },
   "file_extension": ".py",
   "mimetype": "text/x-python",
   "name": "python",
   "nbconvert_exporter": "python",
   "pygments_lexer": "ipython3",
   "version": "3.8.11"
  }
 },
 "nbformat": 4,
 "nbformat_minor": 4
}
