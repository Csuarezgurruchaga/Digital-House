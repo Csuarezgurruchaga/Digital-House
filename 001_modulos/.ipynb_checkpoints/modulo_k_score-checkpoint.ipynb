{
 "cells": [
  {
   "cell_type": "code",
   "execution_count": 2,
   "id": "3ffd4af0-4138-463d-8a4e-e76b6ccfe78d",
   "metadata": {},
   "outputs": [],
   "source": [
    "from sklearn.model_selection import cross_val_score, KFold\n",
    "from sklearn.neighbors import KNeighborsClassifier\n",
    "\n",
    "def scores_knn(X, y, start,stop,step):\n",
    "    \n",
    "    # Vamos a querer graficar los distintos valores del score de cross validation en función del hiperparámetro n_neighbors\n",
    "    # Para esto vamos a generar una lista de diccionarios que después se puede convertir fácilmente en DataFrame\n",
    "    \n",
    "    # Lista de diccionarios - la inicializamos vacío y por fuera del for loop para ir alimentándola en cada iteración\n",
    "    scores_para_df = []\n",
    "    \n",
    "    \n",
    "    for i in range(start,stop,step):\n",
    "        \n",
    "        # En cada iteración, instanciamos el modelo con un hiperparámetro distinto\n",
    "        model = KNeighborsClassifier(n_neighbors=i)\n",
    "\n",
    "        # cross_val_scores nos devuelve un array de 5 resultados, uno por cada partición que hizo automáticamente CV\n",
    "        kf = KFold(n_splits=10, shuffle=True, random_state=10)\n",
    "        cv_scores = cross_val_score(model, X, y, cv=kf)\n",
    "\n",
    "        # Para cada valor de n_neighbours, creamos un diccionario con el valor de n_neighbours y la media y el desvío de los scores\n",
    "        dict_row_score = {'score_medio':np.mean(cv_scores),'score_std':np.std(cv_scores),'n_neighbours':i}\n",
    "\n",
    "        # Guardamos cada uno en la lista de diccionarios\n",
    "        scores_para_df.append(dict_row_score)\n",
    "    \n",
    "    # Creamos el DF a partir de la lista de resultados\n",
    "    df_scores = pd.DataFrame(scores_para_df)\n",
    "    \n",
    "    # Incorporamos los límites inferior y superior, restando y sumando el valor del desvío estándar, respectivamente\n",
    "    df_scores['limite_inferior'] = df_scores['score_medio'] - df_scores['score_std']\n",
    "    df_scores['limite_superior'] = df_scores['score_medio'] + df_scores['score_std']\n",
    "    \n",
    "    # Retornamos el DF\n",
    "    return df_scores"
   ]
  },
  {
   "cell_type": "code",
   "execution_count": null,
   "id": "e75bcbf1-e617-49b0-9ce7-d72349421d86",
   "metadata": {},
   "outputs": [],
   "source": []
  }
 ],
 "metadata": {
  "kernelspec": {
   "display_name": "Python 3",
   "language": "python",
   "name": "python3"
  },
  "language_info": {
   "codemirror_mode": {
    "name": "ipython",
    "version": 3
   },
   "file_extension": ".py",
   "mimetype": "text/x-python",
   "name": "python",
   "nbconvert_exporter": "python",
   "pygments_lexer": "ipython3",
   "version": "3.8.8"
  }
 },
 "nbformat": 4,
 "nbformat_minor": 5
}
