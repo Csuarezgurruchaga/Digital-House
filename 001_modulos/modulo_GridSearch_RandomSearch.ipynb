{
 "cells": [
  {
   "cell_type": "code",
   "execution_count": 4,
   "id": "ee2e32b6",
   "metadata": {
    "colab": {},
    "colab_type": "code",
    "id": "R4pw4fWNi7cd"
   },
   "outputs": [],
   "source": [
    "from sklearn.model_selection import RandomizedSearchCV, GridSearchCV, StratifiedKFold"
   ]
  },
  {
   "cell_type": "code",
   "execution_count": 5,
   "id": "78147d56",
   "metadata": {
    "colab": {},
    "colab_type": "code",
    "id": "we23TyU6i7cg"
   },
   "outputs": [],
   "source": [
    "def busquedaGridsearch(params_):\n",
    "    folds=StratifiedKFold(n_splits=10, random_state=19, shuffle=True)\n",
    "    gs = GridSearchCV(estimator=KNeighborsClassifier(), param_grid=params_, scoring='accuracy', cv=folds, n_jobs=4)\n",
    "    fit = gs.fit(X_train, y_train)\n",
    "    return gs    "
   ]
  },
  {
   "cell_type": "code",
   "execution_count": 6,
   "id": "9e19a28e",
   "metadata": {
    "colab": {},
    "colab_type": "code",
    "id": "KDKnMaGCi7cj"
   },
   "outputs": [],
   "source": [
    "def busquedaRandomSearch(params_,iter_):\n",
    "    folds=StratifiedKFold(n_splits=10, random_state=19, shuffle=True)\n",
    "    gs = RandomizedSearchCV(estimator=KNeighborsClassifier(), param_distributions=params_, scoring='accuracy', cv=folds, n_jobs=4, n_iter = iter_ )\n",
    "    fit = gs.fit(X_train, y_train)\n",
    "    return gs    "
   ]
  },
  {
   "cell_type": "code",
   "execution_count": null,
   "id": "c8ddbeeb",
   "metadata": {},
   "outputs": [],
   "source": []
  }
 ],
 "metadata": {
  "kernelspec": {
   "display_name": "Python 3",
   "language": "python",
   "name": "python3"
  },
  "language_info": {
   "codemirror_mode": {
    "name": "ipython",
    "version": 3
   },
   "file_extension": ".py",
   "mimetype": "text/x-python",
   "name": "python",
   "nbconvert_exporter": "python",
   "pygments_lexer": "ipython3",
   "version": "3.8.11"
  }
 },
 "nbformat": 4,
 "nbformat_minor": 5
}
