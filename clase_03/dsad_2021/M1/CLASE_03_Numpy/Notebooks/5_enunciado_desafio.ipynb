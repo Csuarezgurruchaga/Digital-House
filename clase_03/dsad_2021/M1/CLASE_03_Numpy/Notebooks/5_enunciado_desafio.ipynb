{
 "cells": [
  {
   "cell_type": "code",
   "execution_count": 1,
   "metadata": {},
   "outputs": [
    {
     "name": "stdout",
     "output_type": "stream",
     "text": [
      "C:\\Users\\Charl\\OneDrive\\Desktop\\Digital-House\\clase_03\\dsad_2021\\common\n",
      "default checking\n",
      "Running command `conda list`... error\n",
      "    'conda' is not recognized as an internal or external command,\n",
      "operable program or batch file.\n",
      "\n"
     ]
    }
   ],
   "source": [
    "# settings local:\n",
    "%run \"../../../common/0_notebooks_base_setup.py\"   "
   ]
  },
  {
   "cell_type": "markdown",
   "metadata": {},
   "source": [
    "---\n",
    "\n",
    "<img src='../../../common/logo_DH.png' align='left' width=35%/>\n"
   ]
  },
  {
   "cell_type": "markdown",
   "metadata": {},
   "source": [
    "En la práctica de la clase de hoy usaremos un dataset de Kaggle que tiene datos de ventas:\n",
    "\n",
    "https://www.kaggle.com/kyanyoga/sample-sales-data\n",
    "\n",
    "Ustedes tienen un subconjunto de los datos disponibles, que usaremos para resolver ejercicios de Numpy."
   ]
  },
  {
   "cell_type": "markdown",
   "metadata": {},
   "source": [
    "## Ejercicio 1\n",
    "\n",
    "Leer los datos del archivo /M1/CLASE_03_Numpy/Data/sales_data_sample_excercise.csv\n",
    "\n",
    "Este archivo tiene algunos datos numéricos y otros de tipo cadena de caracteres. \n",
    "\n",
    "Las columnas son:\n",
    "\n",
    "* ORDERNUMBER: int, id de la orden\n",
    "\n",
    "* SALES: float, monto abonado\n",
    "\n",
    "* MONTH_ID: int, mes\n",
    "\n",
    "* YEAR_ID: int, año\n",
    "\n",
    "* PRODUCTLINE: str, producto\n",
    "\n",
    "* COUNTRY: str, país de venta\n",
    "\n",
    "¿Recuerdan que todos los elementos de una instancia de ndarray deben ser del mismo tipo? Entonces vamos a leer el archivo y crear una instancia de ndarray de tipo cadena de caracteres.\n",
    "\n",
    "¿Qué pasaría si intentáramos crear una instancia de tipo int? ¿Y de tipo float?\n"
   ]
  },
  {
   "cell_type": "code",
   "execution_count": 2,
   "metadata": {},
   "outputs": [
    {
     "data": {
      "text/plain": [
       "array([['10107', '2871', '2', '2003', 'Motorcycles', 'USA'],\n",
       "       ['10121', '2765.9', '5', '2003', 'Motorcycles', 'France'],\n",
       "       ['10134', '3884.34', '7', '2003', 'Motorcycles', 'France'],\n",
       "       ...,\n",
       "       ['10386', '5417.57', '3', '2005', 'Ships', 'Spain'],\n",
       "       ['10397', '2116.16', '3', '2005', 'Ships', 'France'],\n",
       "       ['10414', '3079.44', '5', '2005', 'Ships', 'USA']], dtype='<U16')"
      ]
     },
     "execution_count": 2,
     "metadata": {},
     "output_type": "execute_result"
    }
   ],
   "source": [
    "import numpy as np\n",
    "\n",
    "path = '../Data/sales_data_sample_excercise.csv'\n",
    "np.genfromtxt(path, skip_header = 1 ,delimiter = '\\t', dtype = str)"
   ]
  },
  {
   "cell_type": "code",
   "execution_count": 3,
   "metadata": {},
   "outputs": [
    {
     "data": {
      "text/plain": [
       "array([[10107,  2871,     2,  2003,    -1,    -1],\n",
       "       [10121,  2765,     5,  2003,    -1,    -1],\n",
       "       [10134,  3884,     7,  2003,    -1,    -1],\n",
       "       ...,\n",
       "       [10386,  5417,     3,  2005,    -1,    -1],\n",
       "       [10397,  2116,     3,  2005,    -1,    -1],\n",
       "       [10414,  3079,     5,  2005,    -1,    -1]])"
      ]
     },
     "execution_count": 3,
     "metadata": {},
     "output_type": "execute_result"
    }
   ],
   "source": [
    "#Si lo intentamos leer tipo int, trunca los floats a tipo entero, y los str, les asigna -1\n",
    "import numpy as np\n",
    "\n",
    "path = '../Data/sales_data_sample_excercise.csv'\n",
    "np.genfromtxt(path, skip_header = 1 ,delimiter = '\\t', dtype = int) "
   ]
  },
  {
   "cell_type": "code",
   "execution_count": 4,
   "metadata": {},
   "outputs": [
    {
     "data": {
      "text/plain": [
       "array([[1.01070e+04, 2.87100e+03, 2.00000e+00, 2.00300e+03,         nan,\n",
       "                nan],\n",
       "       [1.01210e+04, 2.76590e+03, 5.00000e+00, 2.00300e+03,         nan,\n",
       "                nan],\n",
       "       [1.01340e+04, 3.88434e+03, 7.00000e+00, 2.00300e+03,         nan,\n",
       "                nan],\n",
       "       ...,\n",
       "       [1.03860e+04, 5.41757e+03, 3.00000e+00, 2.00500e+03,         nan,\n",
       "                nan],\n",
       "       [1.03970e+04, 2.11616e+03, 3.00000e+00, 2.00500e+03,         nan,\n",
       "                nan],\n",
       "       [1.04140e+04, 3.07944e+03, 5.00000e+00, 2.00500e+03,         nan,\n",
       "                nan]])"
      ]
     },
     "execution_count": 4,
     "metadata": {},
     "output_type": "execute_result"
    }
   ],
   "source": [
    "import numpy as np\n",
    "\n",
    "path = '../Data/sales_data_sample_excercise.csv'\n",
    "np.genfromtxt(path, skip_header = 1 ,delimiter = '\\t', dtype = float) "
   ]
  },
  {
   "cell_type": "markdown",
   "metadata": {},
   "source": [
    "## Ejercicio 2\n",
    "\n",
    "Crear un array numérico que tenga como valores las columna SALES y otro array de str que tenga como valores la columna COUNTRY\n",
    "\n",
    "Ayuda: https://docs.scipy.org/doc/numpy/reference/generated/numpy.ndarray.astype.html"
   ]
  },
  {
   "cell_type": "code",
   "execution_count": 5,
   "metadata": {},
   "outputs": [
    {
     "name": "stdout",
     "output_type": "stream",
     "text": [
      "[2871.   2765.9  3884.34 ... 5417.57 2116.16 3079.44]\n",
      "['USA' 'France' 'France' ... 'Spain' 'France' 'USA']\n"
     ]
    }
   ],
   "source": [
    "import numpy as np\n",
    "\n",
    "path = '../Data/sales_data_sample_excercise.csv'\n",
    "file = np.genfromtxt(path, skip_header = 1 ,delimiter = '\\t', dtype = str) \n",
    "#Sales es columna 2, todas las filas y Country, es columna 6, todas las filas\n",
    "Sales_vector_str = file[:,1]\n",
    "Country_vector_str = file[:,5]\n",
    "sales_numeric = (Sales_vector_str).astype(float)\n",
    "print(sales_numeric)\n",
    "print(Country_vector_str)"
   ]
  },
  {
   "cell_type": "markdown",
   "metadata": {},
   "source": [
    "## Ejercicio 3\n",
    "\n",
    "¿Cuál fue el monto mínimo de una venta? ¿Cuál fue el monto máximo?"
   ]
  },
  {
   "cell_type": "code",
   "execution_count": 6,
   "metadata": {},
   "outputs": [
    {
     "data": {
      "text/plain": [
       "482.13"
      ]
     },
     "execution_count": 6,
     "metadata": {},
     "output_type": "execute_result"
    }
   ],
   "source": [
    "np.min(sales_numeric)"
   ]
  },
  {
   "cell_type": "code",
   "execution_count": 7,
   "metadata": {},
   "outputs": [
    {
     "data": {
      "text/plain": [
       "14082.8"
      ]
     },
     "execution_count": 7,
     "metadata": {},
     "output_type": "execute_result"
    }
   ],
   "source": [
    "np.max(sales_numeric)"
   ]
  },
  {
   "cell_type": "markdown",
   "metadata": {},
   "source": [
    "## Ejercicio 4\n",
    "\n",
    "¿Cuántas ventas se hicieron en Spain?\n",
    "\n",
    "Ayuda: boolean indexing\n"
   ]
  },
  {
   "cell_type": "code",
   "execution_count": 8,
   "metadata": {},
   "outputs": [
    {
     "data": {
      "text/plain": [
       "342"
      ]
     },
     "execution_count": 8,
     "metadata": {},
     "output_type": "execute_result"
    }
   ],
   "source": [
    "condicion = Country_vector_str =='Spain'\n",
    "sales_numeric[condicion].shape[0]"
   ]
  },
  {
   "cell_type": "markdown",
   "metadata": {},
   "source": [
    "## Ejercicio 5\n",
    "\n",
    "¿Qué porcentaje de las ventas se hicieron en Spain?\n"
   ]
  },
  {
   "cell_type": "code",
   "execution_count": 9,
   "metadata": {},
   "outputs": [],
   "source": [
    "percentageOfSales = sales_numeric[condicion].shape[0] / sales_numeric.shape[0] * 100\n"
   ]
  },
  {
   "cell_type": "markdown",
   "metadata": {},
   "source": [
    "## Ejercicio 6\n",
    "\n",
    "¿Cuál es el país de la venta de precio máximo? ¿Cuál es el id de esa venta?\n",
    "\n",
    "Ayuda: boolean indexing"
   ]
  },
  {
   "cell_type": "code",
   "execution_count": 10,
   "metadata": {},
   "outputs": [
    {
     "name": "stdout",
     "output_type": "stream",
     "text": [
      "['USA']\n",
      "['10407']\n"
     ]
    }
   ],
   "source": [
    "maxPrice = 14082.8\n",
    "mask = sales_numeric == maxPrice\n",
    "\n",
    "print(Country_vector_str[mask])\n",
    "print(file[:,0][mask])"
   ]
  },
  {
   "cell_type": "markdown",
   "metadata": {},
   "source": [
    "## Ejercicio 7\n",
    "\n",
    "¿Cuál es el precio promedio de ventas en France? ¿Cuál es el desvío?"
   ]
  },
  {
   "cell_type": "code",
   "execution_count": 11,
   "metadata": {},
   "outputs": [
    {
     "name": "stdout",
     "output_type": "stream",
     "text": [
      "3537.9507006369427\n",
      "1939.214360481481\n"
     ]
    }
   ],
   "source": [
    "condicion = Country_vector_str =='France'\n",
    "print(np.mean(sales_numeric[condicion]))\n",
    "print(np.std(sales_numeric[condicion]))"
   ]
  },
  {
   "cell_type": "markdown",
   "metadata": {},
   "source": [
    "## Ejercicio 8\n",
    "\n",
    "¿Cuál fue el año con máximo desvío en las ventas en France?\n",
    "\n",
    "Ayuda: https://docs.scipy.org/doc/numpy/reference/generated/numpy.unique.html"
   ]
  },
  {
   "cell_type": "code",
   "execution_count": 22,
   "metadata": {},
   "outputs": [
    {
     "name": "stdout",
     "output_type": "stream",
     "text": [
      "[2003. 2004. 2005.]\n"
     ]
    },
    {
     "data": {
      "text/plain": [
       "2149.5467692849306"
      ]
     },
     "execution_count": 22,
     "metadata": {},
     "output_type": "execute_result"
    }
   ],
   "source": [
    "print((np.unique(file[:,3])).astype(float))\n",
    "#saco el desvio de cada año\n",
    "aniosTofloat = file[:,3].astype(float)\n",
    "listaAnios = [2003,2004,2005]\n",
    "lista=[]\n",
    "for anios in listaAnios:\n",
    "    lista.append(np.std(sales_numeric[aniosTofloat == anios]))\n",
    "\n",
    "max(lista)\n",
    " "
   ]
  },
  {
   "cell_type": "code",
   "execution_count": null,
   "metadata": {},
   "outputs": [],
   "source": []
  },
  {
   "cell_type": "code",
   "execution_count": null,
   "metadata": {},
   "outputs": [],
   "source": []
  }
 ],
 "metadata": {
  "kernelspec": {
   "display_name": "Python 3 (ipykernel)",
   "language": "python",
   "name": "python3"
  },
  "language_info": {
   "codemirror_mode": {
    "name": "ipython",
    "version": 3
   },
   "file_extension": ".py",
   "mimetype": "text/x-python",
   "name": "python",
   "nbconvert_exporter": "python",
   "pygments_lexer": "ipython3",
   "version": "3.9.5"
  }
 },
 "nbformat": 4,
 "nbformat_minor": 4
}
