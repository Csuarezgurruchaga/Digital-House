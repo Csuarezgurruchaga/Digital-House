{
 "cells": [
  {
   "cell_type": "code",
   "execution_count": 2,
   "id": "bd25194f-8d20-4c20-97e1-44393a77b71e",
   "metadata": {},
   "outputs": [],
   "source": [
    "# Ejercicio 1\n",
    "# Dada la instancia de NumPy array\n",
    "\n",
    "# data = np.array([[0, 1, 2, 3, 4], \n",
    "#               [2, 3, 5, 6, 7], \n",
    "#               [5, 6, 7, 8, 9], \n",
    "#               [10, 11, 12, 13, 14], \n",
    "#               [15, 16, 17, 18, 19], \n",
    "#               [1, 2, 3, 4, 5]\n",
    "#              ])\n",
    "\n",
    "# Obtener un array que tenga sólo las filas impares de 'data' usando:\n",
    "\n",
    "# Slicing:\n",
    "\n",
    "# Fancy indexing\n",
    "\n",
    "# El resultado debe ser\n",
    "\n",
    "# np.array([[0, 1, 2, 3, 4], \n",
    "#     [5, 6, 7, 8, 9], \n",
    "#     [15, 16, 17, 18, 19]])"
   ]
  },
  {
   "cell_type": "code",
   "execution_count": 3,
   "id": "f8fce34e-394c-4e53-b5dc-f01add81ab14",
   "metadata": {},
   "outputs": [
    {
     "name": "stdout",
     "output_type": "stream",
     "text": [
      "[[ 2  3  5  6  7]\n",
      " [10 11 12 13 14]\n",
      " [ 1  2  3  4  5]]\n",
      "\n",
      "[[ 2  3  5  6  7]\n",
      " [10 11 12 13 14]\n",
      " [ 1  2  3  4  5]]\n"
     ]
    }
   ],
   "source": [
    "import numpy as np\n",
    "\n",
    "data = np.array ([[0, 1, 2, 3, 4], \n",
    "                  [2, 3, 5, 6, 7], \n",
    "                  [5, 6, 7, 8, 9], \n",
    "                  [10, 11, 12, 13, 14], \n",
    "                  [15, 16, 17, 18, 19], \n",
    "                  [1, 2, 3, 4, 5]\n",
    "                 ])\n",
    "odd_rows = data[1:6:2,:]\n",
    "print(odd_rows)\n",
    "print()\n",
    "fancy_list = [1,3,5]\n",
    "fancy_odd_rows = data[fancy_list,:]\n",
    "print(fancy_odd_rows)"
   ]
  },
  {
   "cell_type": "code",
   "execution_count": 4,
   "id": "6efb8ed9-a9d0-4415-8d7d-0902d8dace26",
   "metadata": {},
   "outputs": [],
   "source": [
    "# Ejercicio 2\n",
    "# Seleccionar los elementos de valor par de 'data' usando boolean indexing"
   ]
  },
  {
   "cell_type": "code",
   "execution_count": 5,
   "id": "7f1a3caf-147d-4ee6-a5a0-5ddbf6feee0b",
   "metadata": {},
   "outputs": [
    {
     "name": "stdout",
     "output_type": "stream",
     "text": [
      "[ 0  2  4  2  6  6  8 10 12 14 16 18  2  4]\n",
      "\n",
      "[[ 0  0  2  0  4]\n",
      " [ 2  0  0  6  0]\n",
      " [ 0  6  0  8  0]\n",
      " [10  0 12  0 14]\n",
      " [ 0 16  0 18  0]\n",
      " [ 0  2  0  4  0]]\n"
     ]
    }
   ],
   "source": [
    "condition = data % 2 == 0\n",
    "\n",
    "print(data[condition])\n",
    "print()\n",
    "print(np.where(condition, data, 0))"
   ]
  },
  {
   "cell_type": "code",
   "execution_count": null,
   "id": "fd7a6944-2768-4bde-9ab9-b6e33d3d1b54",
   "metadata": {},
   "outputs": [],
   "source": []
  }
 ],
 "metadata": {
  "kernelspec": {
   "display_name": "Python 3 (ipykernel)",
   "language": "python",
   "name": "python3"
  },
  "language_info": {
   "codemirror_mode": {
    "name": "ipython",
    "version": 3
   },
   "file_extension": ".py",
   "mimetype": "text/x-python",
   "name": "python",
   "nbconvert_exporter": "python",
   "pygments_lexer": "ipython3",
   "version": "3.9.5"
  }
 },
 "nbformat": 4,
 "nbformat_minor": 5
}
