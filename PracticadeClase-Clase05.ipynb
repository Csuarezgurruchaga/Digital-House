{
 "cells": [
  {
   "cell_type": "markdown",
   "id": "d33f2464",
   "metadata": {},
   "source": [
    "**Ejercicio Series**\n",
    "\n",
    "Dadas dos series de representan cantidades\n",
    "\n",
    "cantidades_prod1 = pd.Series([3, 7, 1], index=['local_a', 'local_b', 'local_c'])\n",
    "cantidades_prod2 = pd.Series([54, 70, 985] index=['local_a', 'local_b', 'local_c'])\n",
    "\n",
    "* ¿Qué cantidad de prod2 hay en local_b?\n",
    "\n",
    "* Usando iloc obtener la suma de prod1 en local_a y local_c\n",
    "\n",
    "* Usando index responder ¿qué local corresponde al índice 1 de cantidades_prod1?"
   ]
  },
  {
   "cell_type": "code",
   "execution_count": 2,
   "id": "7a965a57",
   "metadata": {},
   "outputs": [],
   "source": [
    "import numpy as np\n",
    "import pandas as pd\n",
    "cantidades_prod1 = pd.Series([3, 7, 1], index=['local_a', 'local_b', 'local_c'])\n",
    "cantidades_prod2 = pd.Series([54, 70, 985], index=['local_a', 'local_b', 'local_c'])"
   ]
  },
  {
   "cell_type": "code",
   "execution_count": 43,
   "id": "cc76b713",
   "metadata": {},
   "outputs": [
    {
     "name": "stdout",
     "output_type": "stream",
     "text": [
      "70\n"
     ]
    },
    {
     "data": {
      "text/plain": [
       "70"
      ]
     },
     "execution_count": 43,
     "metadata": {},
     "output_type": "execute_result"
    }
   ],
   "source": [
    "prod2EnB = cantidades_prod2.loc['local_b']\n",
    "print(prod2EnB)\n",
    "Prod2enB = cantidades.iloc[1,1]\n",
    "Prod2enB"
   ]
  },
  {
   "cell_type": "code",
   "execution_count": 44,
   "id": "68c45423",
   "metadata": {},
   "outputs": [
    {
     "data": {
      "text/plain": [
       "4"
      ]
     },
     "execution_count": 44,
     "metadata": {},
     "output_type": "execute_result"
    }
   ],
   "source": [
    "producto1 = cantidades_prod1.iloc[0] + cantidades_prod1.iloc[2]\n",
    "producto1"
   ]
  },
  {
   "cell_type": "code",
   "execution_count": 47,
   "id": "95931639",
   "metadata": {},
   "outputs": [
    {
     "data": {
      "text/plain": [
       "'local_b'"
      ]
     },
     "execution_count": 47,
     "metadata": {},
     "output_type": "execute_result"
    }
   ],
   "source": [
    "cantidades_prod1.index\n",
    "cantidades_prod1.index[1]"
   ]
  },
  {
   "cell_type": "markdown",
   "id": "4cd4b11d",
   "metadata": {},
   "source": [
    "**Ejercicio DataFrame**\n",
    "\n",
    "* Construir una instancia de DataFrame usando las dos series del ejercicio anterior como columnas.\n",
    "\n",
    "* Agregar al dataframe del paso anterior la columna 'total' cuyos datos sean el resultado de sumar las columnas 'cantidades_prod1' y 'cantidades_prod2'\n",
    "\n",
    "* Mostrar los primeros dos registros de ese dataframe\n",
    "\n",
    "* Mostrar los últimos dos registros de ese dataframe\n",
    "\n",
    "* Obtener los nombres de locales que tengan en total más de 60 productos"
   ]
  },
  {
   "cell_type": "code",
   "execution_count": 38,
   "id": "c36e3fe3",
   "metadata": {},
   "outputs": [
    {
     "data": {
      "text/html": [
       "<div>\n",
       "<style scoped>\n",
       "    .dataframe tbody tr th:only-of-type {\n",
       "        vertical-align: middle;\n",
       "    }\n",
       "\n",
       "    .dataframe tbody tr th {\n",
       "        vertical-align: top;\n",
       "    }\n",
       "\n",
       "    .dataframe thead th {\n",
       "        text-align: right;\n",
       "    }\n",
       "</style>\n",
       "<table border=\"1\" class=\"dataframe\">\n",
       "  <thead>\n",
       "    <tr style=\"text-align: right;\">\n",
       "      <th></th>\n",
       "      <th>Producto 1</th>\n",
       "      <th>Producto 2</th>\n",
       "      <th>Totales</th>\n",
       "    </tr>\n",
       "  </thead>\n",
       "  <tbody>\n",
       "    <tr>\n",
       "      <th>local_a</th>\n",
       "      <td>3</td>\n",
       "      <td>54</td>\n",
       "      <td>57</td>\n",
       "    </tr>\n",
       "    <tr>\n",
       "      <th>local_b</th>\n",
       "      <td>7</td>\n",
       "      <td>70</td>\n",
       "      <td>77</td>\n",
       "    </tr>\n",
       "    <tr>\n",
       "      <th>local_c</th>\n",
       "      <td>1</td>\n",
       "      <td>985</td>\n",
       "      <td>986</td>\n",
       "    </tr>\n",
       "  </tbody>\n",
       "</table>\n",
       "</div>"
      ],
      "text/plain": [
       "         Producto 1  Producto 2  Totales\n",
       "local_a           3          54       57\n",
       "local_b           7          70       77\n",
       "local_c           1         985      986"
      ]
     },
     "execution_count": 38,
     "metadata": {},
     "output_type": "execute_result"
    }
   ],
   "source": [
    "cantidades = pd.DataFrame({'Producto 1': cantidades_prod1,\n",
    "                           'Producto 2':cantidades_prod2, \n",
    "                          })\n",
    "cantidades['Totales'] = cantidades['Producto 1'] + cantidades['Producto 2']\n",
    "\n",
    "cantidades"
   ]
  },
  {
   "cell_type": "code",
   "execution_count": 50,
   "id": "83e9d8cd",
   "metadata": {},
   "outputs": [
    {
     "data": {
      "text/html": [
       "<div>\n",
       "<style scoped>\n",
       "    .dataframe tbody tr th:only-of-type {\n",
       "        vertical-align: middle;\n",
       "    }\n",
       "\n",
       "    .dataframe tbody tr th {\n",
       "        vertical-align: top;\n",
       "    }\n",
       "\n",
       "    .dataframe thead th {\n",
       "        text-align: right;\n",
       "    }\n",
       "</style>\n",
       "<table border=\"1\" class=\"dataframe\">\n",
       "  <thead>\n",
       "    <tr style=\"text-align: right;\">\n",
       "      <th></th>\n",
       "      <th>Producto 1</th>\n",
       "      <th>Producto 2</th>\n",
       "      <th>Totales</th>\n",
       "    </tr>\n",
       "  </thead>\n",
       "  <tbody>\n",
       "    <tr>\n",
       "      <th>local_a</th>\n",
       "      <td>3</td>\n",
       "      <td>54</td>\n",
       "      <td>57</td>\n",
       "    </tr>\n",
       "    <tr>\n",
       "      <th>local_b</th>\n",
       "      <td>7</td>\n",
       "      <td>70</td>\n",
       "      <td>77</td>\n",
       "    </tr>\n",
       "  </tbody>\n",
       "</table>\n",
       "</div>"
      ],
      "text/plain": [
       "         Producto 1  Producto 2  Totales\n",
       "local_a           3          54       57\n",
       "local_b           7          70       77"
      ]
     },
     "execution_count": 50,
     "metadata": {},
     "output_type": "execute_result"
    }
   ],
   "source": [
    "cantidades.head(2)"
   ]
  },
  {
   "cell_type": "code",
   "execution_count": 48,
   "id": "f8beb4a2",
   "metadata": {},
   "outputs": [
    {
     "data": {
      "text/html": [
       "<div>\n",
       "<style scoped>\n",
       "    .dataframe tbody tr th:only-of-type {\n",
       "        vertical-align: middle;\n",
       "    }\n",
       "\n",
       "    .dataframe tbody tr th {\n",
       "        vertical-align: top;\n",
       "    }\n",
       "\n",
       "    .dataframe thead th {\n",
       "        text-align: right;\n",
       "    }\n",
       "</style>\n",
       "<table border=\"1\" class=\"dataframe\">\n",
       "  <thead>\n",
       "    <tr style=\"text-align: right;\">\n",
       "      <th></th>\n",
       "      <th>Producto 1</th>\n",
       "      <th>Producto 2</th>\n",
       "      <th>Totales</th>\n",
       "    </tr>\n",
       "  </thead>\n",
       "  <tbody>\n",
       "    <tr>\n",
       "      <th>local_b</th>\n",
       "      <td>7</td>\n",
       "      <td>70</td>\n",
       "      <td>77</td>\n",
       "    </tr>\n",
       "    <tr>\n",
       "      <th>local_c</th>\n",
       "      <td>1</td>\n",
       "      <td>985</td>\n",
       "      <td>986</td>\n",
       "    </tr>\n",
       "  </tbody>\n",
       "</table>\n",
       "</div>"
      ],
      "text/plain": [
       "         Producto 1  Producto 2  Totales\n",
       "local_b           7          70       77\n",
       "local_c           1         985      986"
      ]
     },
     "execution_count": 48,
     "metadata": {},
     "output_type": "execute_result"
    }
   ],
   "source": [
    "cantidades.tail(2)"
   ]
  },
  {
   "cell_type": "code",
   "execution_count": 33,
   "id": "ea650fda",
   "metadata": {},
   "outputs": [
    {
     "data": {
      "text/html": [
       "<div>\n",
       "<style scoped>\n",
       "    .dataframe tbody tr th:only-of-type {\n",
       "        vertical-align: middle;\n",
       "    }\n",
       "\n",
       "    .dataframe tbody tr th {\n",
       "        vertical-align: top;\n",
       "    }\n",
       "\n",
       "    .dataframe thead th {\n",
       "        text-align: right;\n",
       "    }\n",
       "</style>\n",
       "<table border=\"1\" class=\"dataframe\">\n",
       "  <thead>\n",
       "    <tr style=\"text-align: right;\">\n",
       "      <th></th>\n",
       "      <th>Producto 1</th>\n",
       "      <th>Producto 2</th>\n",
       "      <th>Totales</th>\n",
       "    </tr>\n",
       "  </thead>\n",
       "  <tbody>\n",
       "    <tr>\n",
       "      <th>local_b</th>\n",
       "      <td>7</td>\n",
       "      <td>70</td>\n",
       "      <td>77</td>\n",
       "    </tr>\n",
       "    <tr>\n",
       "      <th>local_c</th>\n",
       "      <td>1</td>\n",
       "      <td>985</td>\n",
       "      <td>986</td>\n",
       "    </tr>\n",
       "  </tbody>\n",
       "</table>\n",
       "</div>"
      ],
      "text/plain": [
       "         Producto 1  Producto 2  Totales\n",
       "local_b           7          70       77\n",
       "local_c           1         985      986"
      ]
     },
     "execution_count": 33,
     "metadata": {},
     "output_type": "execute_result"
    }
   ],
   "source": [
    "cantidades[(cantidades['Producto 1'] > 60) | (cantidades['Producto 2'] > 60)]"
   ]
  }
 ],
 "metadata": {
  "kernelspec": {
   "display_name": "Python 3",
   "language": "python",
   "name": "python3"
  },
  "language_info": {
   "codemirror_mode": {
    "name": "ipython",
    "version": 3
   },
   "file_extension": ".py",
   "mimetype": "text/x-python",
   "name": "python",
   "nbconvert_exporter": "python",
   "pygments_lexer": "ipython3",
   "version": "3.8.10"
  }
 },
 "nbformat": 4,
 "nbformat_minor": 5
}
