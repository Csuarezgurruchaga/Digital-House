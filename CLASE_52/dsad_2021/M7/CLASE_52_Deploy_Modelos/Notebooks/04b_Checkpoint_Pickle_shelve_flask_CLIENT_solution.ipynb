{
 "cells": [
  {
   "cell_type": "code",
   "execution_count": 8,
   "metadata": {},
   "outputs": [
    {
     "name": "stdout",
     "output_type": "stream",
     "text": [
      "/Users/csuarezgurruchaga/Desktop/Digital-House/CLASE_52/dsad_2021/common\n",
      "default checking\n",
      "Running command `conda list`... ok\n",
      "jupyterlab=2.2.6 already installed\n",
      "pandas=1.3.0 already installed\n",
      "bokeh=2.2.3 already installed\n",
      "seaborn=0.11.0 already installed\n",
      "matplotlib=3.3.2 already installed\n",
      "ipywidgets=7.5.1 already installed\n",
      "pytest=6.2.1 already installed\n",
      "chardet=4.0.0 already installed\n",
      "psutil=5.7.2 already installed\n",
      "scipy=1.5.2 already installed\n",
      "statsmodels=0.12.1 already installed\n",
      "scikit-learn=0.23.2 already installed\n",
      "xlrd=2.0.1 already installed\n",
      "nltk=3.5 already installed\n",
      "unidecode=1.1.1 already installed\n",
      "pydotplus=2.0.2 already installed\n",
      "pandas-datareader=0.10.0 already installed\n",
      "flask=1.1.2 already installed\n"
     ]
    }
   ],
   "source": [
    "# initial setup\n",
    "%run \"../../../common/0_notebooks_base_setup.py\"\n"
   ]
  },
  {
   "cell_type": "markdown",
   "metadata": {},
   "source": [
    "---\n",
    "\n",
    "<img src='../../../common/logo_DH.png' align='left' width=35%/>"
   ]
  },
  {
   "cell_type": "markdown",
   "metadata": {},
   "source": [
    "# <h1><center><ins>PICKLE y FLASK</ins></center></h1>\n",
    "<h1><center>Checkpoint [CLIENTE]  —solución—:</center></h1>\n",
    "<img src=\"img/00_pickle.jpg\" alt=\"Drawing\" style=\"width: 400px;\"/>\n",
    "<img src=\"img/04_flask.jpg\" alt=\"Drawing\" style=\"width: 500px;\"/>"
   ]
  },
  {
   "cell_type": "markdown",
   "metadata": {},
   "source": [
    "Si todo salió bien, en este preciso momento tienen otra notebook abierta, simulando ser un **SERVIDOR**, en la cual definieron DOS funciones asociadas cada una a un endpoint de nuestra API. \n",
    "La idea de esta notebook es hacer los distintos llamados a esos endpoints para que la magia de nuestra API suceda. Si todavía NO construyeron los endpoints, entonces vuelvan a la notebook **Checkpoint_Pickle_shelve_flask_API** y sigan las instrucciones."
   ]
  },
  {
   "cell_type": "markdown",
   "metadata": {},
   "source": [
    "Importamos las librerías que vamos a utilizar"
   ]
  },
  {
   "cell_type": "code",
   "execution_count": 19,
   "metadata": {},
   "outputs": [],
   "source": [
    "# Algunas de las de siempre\n",
    "import numpy as np\n",
    "import pandas as pd\n",
    "\n",
    "# Las que vamos a necesitar para hacer los llamados y para lidiar con los datos en formato json\n",
    "import requests\n",
    "from flask import  Flask, request, jsonify, render_template\n",
    "import json"
   ]
  },
  {
   "cell_type": "markdown",
   "metadata": {},
   "source": [
    "***"
   ]
  },
  {
   "cell_type": "markdown",
   "metadata": {},
   "source": [
    "## **PRIMERA FUNCIÓN/ENDOPOINT:** filtrar por club, guardar nuevo dataframe y figura"
   ]
  },
  {
   "cell_type": "markdown",
   "metadata": {},
   "source": [
    "Para este primer endpoint, necesitamos cargar la base con los datos de los jugadores."
   ]
  },
  {
   "cell_type": "code",
   "execution_count": 20,
   "metadata": {},
   "outputs": [],
   "source": [
    "df = pd.read_csv('../Data/fifa_2018_completo_editado.csv',index_col='Unnamed: 0')"
   ]
  },
  {
   "cell_type": "markdown",
   "metadata": {},
   "source": [
    "Usando la librería **request**, usamos el método **post** para enviar el input del primer llamado (en la notebook que simula ser el servidor está el detalle de lo que tenemos que pasarle a este **endpoint**). Tengan en cuenta que el dataframe lo tienen que pasar a un formato json con el métod de pandas <a class=\"reference internal\" href=https://pandas.pydata.org/pandas-docs/stable/reference/api/pandas.DataFrame.to_json.html><b><code>.to_json()</code></b></a>)"
   ]
  },
  {
   "cell_type": "code",
   "execution_count": 21,
   "metadata": {},
   "outputs": [],
   "source": [
    "# Definimos los datos que vamos a pasar en el request\n",
    "base=df.to_json() #dataframe en formato json\n",
    "club_elegido='FC Barcelona'\n",
    "radar_color='b'\n",
    "fig_size=(25,15)\n",
    "url = 'http://localhost:508/describir_equipo' #definimos la URL para hacer el llamado local con el endpoint correspondiente"
   ]
  },
  {
   "cell_type": "code",
   "execution_count": 22,
   "metadata": {},
   "outputs": [
    {
     "name": "stdout",
     "output_type": "stream",
     "text": [
      "{'cant_jugadores': 24, 'lista_jugadores': ['L. Messi', 'L. Suárez', 'I. Rakitić', 'Piqué', 'Iniesta', 'Sergio Busquets', 'M. ter Stegen', 'Jordi Alba', 'O. Dembélé', 'S. Umtiti', 'J. Mascherano', 'André Gomes', 'Deulofeu', 'A. Turan', 'Nélson Semedo', 'Rafinha', 'J. Cillessen', 'Sergi Roberto', 'Paulinho', 'Denis Suárez', 'L. Digne', 'Paco Alcácer', 'Aleix Vidal', 'Adrián Ortolá'], 'media_altura': 179.33333333333334, 'media_edad': 26.333333333333332, 'media_peso': 74.625}\n"
     ]
    }
   ],
   "source": [
    "# Hacemos el pedido y vemos los resultados.\n",
    "# Si todo salió bien se tiene que haber guardado en la carpeta Data el output de este primer endpoint como un pickle\n",
    "des = requests.post(url,\n",
    "                       json = {'base' : base,\n",
    "                               'club_elegido':club_elegido,\n",
    "                               'radar_color':radar_color,\n",
    "                               'fig_size':fig_size})\n",
    "print(des.json())"
   ]
  },
  {
   "cell_type": "markdown",
   "metadata": {},
   "source": [
    "***"
   ]
  },
  {
   "cell_type": "markdown",
   "metadata": {},
   "source": [
    "## **SEGUNDA FUNCIÓN/ENDOPOINT:** comparar jugadores del club elegido"
   ]
  },
  {
   "cell_type": "code",
   "execution_count": 23,
   "metadata": {},
   "outputs": [],
   "source": [
    "#Definimos las variables que vamos a utilizar para el pedido\n",
    "club_elegido='FC Barcelona'\n",
    "jugador_uno='L. Suárez' #dirección donde se encuentra el modelo grabado\n",
    "jugador_dos='L. Messi' #nombre del modelo grabado\n",
    "color_uno='b'\n",
    "color_dos='r'\n",
    "url = 'http://localhost:508/comparar_jugadores' #definimos la URL para hacer el llamado local con el endpoint correspondiente\n"
   ]
  },
  {
   "cell_type": "code",
   "execution_count": 24,
   "metadata": {},
   "outputs": [
    {
     "name": "stdout",
     "output_type": "stream",
     "text": [
      "{'potencia': {'L. Messi': 93, 'L. Suárez': 92}, 'ritmo': {'L. Messi': 89, 'L. Suárez': 82}, 'disparos': {'L. Messi': 90, 'L. Suárez': 90}, 'pases': {'L. Messi': 86, 'L. Suárez': 79}, 'amagues': {'L. Messi': 96, 'L. Suárez': 87}, 'defensa': {'L. Messi': 26, 'L. Suárez': 42}, 'fisico': {'L. Messi': 61, 'L. Suárez': 81}}\n"
     ]
    }
   ],
   "source": [
    "#Hacemos el llamado\n",
    "jug = requests.get(url, \n",
    "                    params = {'club':club_elegido,\n",
    "                              'jugador_uno':jugador_uno,\n",
    "                              'jugador_dos':jugador_dos,\n",
    "                              'color_uno':color_uno,\n",
    "                              'color_dos':color_dos})\n",
    "print(jug.json())"
   ]
  },
  {
   "cell_type": "code",
   "execution_count": null,
   "metadata": {},
   "outputs": [],
   "source": []
  }
 ],
 "metadata": {
  "kernelspec": {
   "display_name": "Python [conda env:dhdsblend2021] *",
   "language": "python",
   "name": "conda-env-dhdsblend2021-py"
  },
  "language_info": {
   "codemirror_mode": {
    "name": "ipython",
    "version": 3
   },
   "file_extension": ".py",
   "mimetype": "text/x-python",
   "name": "python",
   "nbconvert_exporter": "python",
   "pygments_lexer": "ipython3",
   "version": "3.8.11"
  }
 },
 "nbformat": 4,
 "nbformat_minor": 4
}
