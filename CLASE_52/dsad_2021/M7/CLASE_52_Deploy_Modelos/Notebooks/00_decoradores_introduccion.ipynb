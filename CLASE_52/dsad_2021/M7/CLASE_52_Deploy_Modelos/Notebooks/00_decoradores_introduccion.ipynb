{
 "cells": [
  {
   "cell_type": "code",
   "execution_count": 8,
   "id": "f35808ad",
   "metadata": {},
   "outputs": [
    {
     "name": "stdout",
     "output_type": "stream",
     "text": [
      "vamos a realizar un calculo\n",
      "30\n",
      "hemos realizado un calculo\n",
      "20\n"
     ]
    }
   ],
   "source": [
    "def funcion_decoradora(funcion_parametro):\n",
    "    \n",
    "    def funcion_interior():\n",
    "        \n",
    "        #acciones adicionales que decoran\n",
    "        \n",
    "        print('vamos a realizar un calculo')\n",
    "        \n",
    "        funcion_parametro()\n",
    "        # acciones adicionales que decoran\n",
    "        \n",
    "        print('hemos realizado un calculo')\n",
    "        \n",
    "    return funcion_interior\n",
    "\n",
    "@funcion_decoradora\n",
    "def suma():\n",
    "    print(15+20)\n",
    "    \n",
    "def resta():\n",
    "    print(40-30)\n",
    "    \n",
    "suma()\n",
    "resta()"
   ]
  },
  {
   "cell_type": "code",
   "execution_count": 18,
   "id": "13788f9a",
   "metadata": {},
   "outputs": [
    {
     "name": "stdout",
     "output_type": "stream",
     "text": [
      "vamos a realizar un calculo\n",
      "30\n",
      "hemos realizado un calculo\n",
      "vamos a realizar un calculo\n",
      "20\n",
      "hemos realizado un calculo\n",
      "vamos a realizar un calculo\n",
      "125\n",
      "hemos realizado un calculo\n"
     ]
    }
   ],
   "source": [
    "def funcion_decoradora(funcion_parametro):\n",
    "    \n",
    "    def funcion_interior(*args, **kwargs):\n",
    "        \n",
    "        #acciones adicionales que decoran\n",
    "        \n",
    "        print('vamos a realizar un calculo')\n",
    "        \n",
    "        funcion_parametro(*args, **kwargs)\n",
    "        # acciones adicionales que decoran\n",
    "        \n",
    "        print('hemos realizado un calculo')\n",
    "        \n",
    "    return funcion_interior\n",
    "\n",
    "@funcion_decoradora\n",
    "def suma(a,b):\n",
    "    print(a+b)\n",
    "    \n",
    "@funcion_decoradora    \n",
    "def resta(c,d):\n",
    "    print(c-d)\n",
    "@funcion_decoradora\n",
    "def potencia(base, exponente):\n",
    "    print(pow(base,exponente))\n",
    "    \n",
    "suma(10,20)\n",
    "resta(40,20)\n",
    "\n",
    "# potencia(5,3)\n",
    "potencia(exponente=3, base=5)"
   ]
  },
  {
   "cell_type": "code",
   "execution_count": null,
   "id": "6d357a7d",
   "metadata": {},
   "outputs": [],
   "source": []
  }
 ],
 "metadata": {
  "kernelspec": {
   "display_name": "Python 3",
   "language": "python",
   "name": "python3"
  },
  "language_info": {
   "codemirror_mode": {
    "name": "ipython",
    "version": 3
   },
   "file_extension": ".py",
   "mimetype": "text/x-python",
   "name": "python",
   "nbconvert_exporter": "python",
   "pygments_lexer": "ipython3",
   "version": "3.8.11"
  }
 },
 "nbformat": 4,
 "nbformat_minor": 5
}
