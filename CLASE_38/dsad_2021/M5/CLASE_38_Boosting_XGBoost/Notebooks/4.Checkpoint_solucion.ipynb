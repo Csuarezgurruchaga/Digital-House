{
 "cells": [
  {
   "cell_type": "code",
   "execution_count": 2,
   "metadata": {},
   "outputs": [
    {
     "name": "stdout",
     "output_type": "stream",
     "text": [
      "/Users/csuarezgurruchaga/Desktop/Digital-House/CLASE_38/dsad_2021/common\n",
      "default checking\n",
      "Running command `conda list`... ok\n",
      "jupyterlab=2.2.6 already installed\n",
      "pandas=1.1.5 already installed\n",
      "bokeh=2.2.3 already installed\n",
      "seaborn=0.11.0 already installed\n",
      "matplotlib=3.3.2 already installed\n",
      "ipywidgets=7.5.1 already installed\n",
      "pytest=6.2.1 already installed\n",
      "chardet=4.0.0 already installed\n",
      "psutil=5.7.2 already installed\n",
      "scipy=1.5.2 already installed\n",
      "statsmodels=0.12.1 already installed\n",
      "scikit-learn=0.23.2 already installed\n",
      "xlrd=2.0.1 already installed\n",
      "Running command `conda install --yes nltk=3.5.0`... ok\n",
      "Collecting package metadata (current_repodata.json): ...working... done\n",
      "Solving environment: ...working... done\n",
      "\n",
      "# All requested packages already installed.\n",
      "\n",
      "\n",
      "unidecode=1.1.1 already installed\n",
      "pydotplus=2.0.2 already installed\n",
      "pandas-datareader=0.9.0 already installed\n",
      "flask=1.1.2 already installed\n"
     ]
    }
   ],
   "source": [
    "# initial setup\n",
    "%run \"../../../common/0_notebooks_base_setup.py\"\n"
   ]
  },
  {
   "cell_type": "markdown",
   "metadata": {},
   "source": [
    "**Setup**\n",
    "\n",
    "Si la instalación de lightgbm da error, ejecutar en Anaconda Prompt \n",
    "\n",
    "`conda install -c conda-forge xgboost=1.4.0`\n",
    "\n",
    "`conda install -c conda-forge lightgbm=3.2.1`"
   ]
  },
  {
   "cell_type": "markdown",
   "metadata": {},
   "source": [
    "---\n",
    "\n",
    "<img src='../../../common/logo_DH.png' align='left' width=35%/>\n"
   ]
  },
  {
   "cell_type": "markdown",
   "metadata": {
    "colab_type": "text",
    "id": "knzulYd1Cfir"
   },
   "source": [
    "## Prediciendo quiebra de empresas"
   ]
  },
  {
   "cell_type": "markdown",
   "metadata": {
    "colab_type": "text",
    "id": "961vNjYyCfis"
   },
   "source": [
    "En este Checkpoint vamos a trabajar en predecir la quiebra de empresas en Polonia. La información fue obtenida del Servicio de Información de Mercados Emergentes (EMIS por sus siglas en inglés), que es una base de datos que contiene información de los mercados emergentes alrededor del mundo. Las compañías en bancarrota fueron analizadas en el período 2000-2012, mientras que las que continuan operando se evaluaron desde 2007 a 2013.\n",
    "\n",
    "En este caso sólo vamos a trabajar con el tercer año de los disponibles. Se puede consultar la página de UCI en donde se encuentra alojado <a href='https://archive.ics.uci.edu/ml/datasets/Polish+companies+bankruptcy+data'> aqui </a> \n",
    "\n",
    "El dataset empleado tiene datos de las empresas y su estatus tres años después."
   ]
  },
  {
   "cell_type": "code",
   "execution_count": 3,
   "metadata": {
    "colab": {},
    "colab_type": "code",
    "id": "be9V_LltCfiu"
   },
   "outputs": [],
   "source": [
    "import pandas as pd\n",
    "import numpy as np\n",
    "import scipy.stats as st"
   ]
  },
  {
   "cell_type": "code",
   "execution_count": 4,
   "metadata": {
    "colab": {},
    "colab_type": "code",
    "id": "1wb2uNoLCfi1"
   },
   "outputs": [],
   "source": [
    "df = pd.read_csv(\"../Data/3year.csv\")"
   ]
  },
  {
   "cell_type": "code",
   "execution_count": 5,
   "metadata": {
    "colab": {},
    "colab_type": "code",
    "id": "Z-fgwsKVCfi6",
    "outputId": "8742bfa1-b1d4-490b-ecc2-e1781b4b53e4"
   },
   "outputs": [
    {
     "data": {
      "text/html": [
       "<div>\n",
       "<style scoped>\n",
       "    .dataframe tbody tr th:only-of-type {\n",
       "        vertical-align: middle;\n",
       "    }\n",
       "\n",
       "    .dataframe tbody tr th {\n",
       "        vertical-align: top;\n",
       "    }\n",
       "\n",
       "    .dataframe thead th {\n",
       "        text-align: right;\n",
       "    }\n",
       "</style>\n",
       "<table border=\"1\" class=\"dataframe\">\n",
       "  <thead>\n",
       "    <tr style=\"text-align: right;\">\n",
       "      <th></th>\n",
       "      <th>Unnamed: 0</th>\n",
       "      <th>Attr1</th>\n",
       "      <th>Attr2</th>\n",
       "      <th>Attr3</th>\n",
       "      <th>Attr4</th>\n",
       "      <th>Attr5</th>\n",
       "      <th>Attr6</th>\n",
       "      <th>Attr7</th>\n",
       "      <th>Attr8</th>\n",
       "      <th>Attr9</th>\n",
       "      <th>...</th>\n",
       "      <th>Attr56</th>\n",
       "      <th>Attr57</th>\n",
       "      <th>Attr58</th>\n",
       "      <th>Attr59</th>\n",
       "      <th>Attr60</th>\n",
       "      <th>Attr61</th>\n",
       "      <th>Attr62</th>\n",
       "      <th>Attr63</th>\n",
       "      <th>Attr64</th>\n",
       "      <th>class</th>\n",
       "    </tr>\n",
       "  </thead>\n",
       "  <tbody>\n",
       "    <tr>\n",
       "      <th>0</th>\n",
       "      <td>0</td>\n",
       "      <td>0.174190</td>\n",
       "      <td>0.41299</td>\n",
       "      <td>0.14371</td>\n",
       "      <td>1.3480</td>\n",
       "      <td>-28.9820</td>\n",
       "      <td>0.60383</td>\n",
       "      <td>0.219460</td>\n",
       "      <td>1.1225</td>\n",
       "      <td>1.1961</td>\n",
       "      <td>...</td>\n",
       "      <td>0.163960</td>\n",
       "      <td>0.375740</td>\n",
       "      <td>0.83604</td>\n",
       "      <td>0.000007</td>\n",
       "      <td>9.7145</td>\n",
       "      <td>6.2813</td>\n",
       "      <td>84.291</td>\n",
       "      <td>4.3303</td>\n",
       "      <td>4.0341</td>\n",
       "      <td>b'0'</td>\n",
       "    </tr>\n",
       "    <tr>\n",
       "      <th>1</th>\n",
       "      <td>1</td>\n",
       "      <td>0.146240</td>\n",
       "      <td>0.46038</td>\n",
       "      <td>0.28230</td>\n",
       "      <td>1.6294</td>\n",
       "      <td>2.5952</td>\n",
       "      <td>0.00000</td>\n",
       "      <td>0.171850</td>\n",
       "      <td>1.1721</td>\n",
       "      <td>1.6018</td>\n",
       "      <td>...</td>\n",
       "      <td>0.027516</td>\n",
       "      <td>0.271000</td>\n",
       "      <td>0.90108</td>\n",
       "      <td>0.000000</td>\n",
       "      <td>5.9882</td>\n",
       "      <td>4.1103</td>\n",
       "      <td>102.190</td>\n",
       "      <td>3.5716</td>\n",
       "      <td>5.9500</td>\n",
       "      <td>b'0'</td>\n",
       "    </tr>\n",
       "    <tr>\n",
       "      <th>2</th>\n",
       "      <td>2</td>\n",
       "      <td>0.000595</td>\n",
       "      <td>0.22612</td>\n",
       "      <td>0.48839</td>\n",
       "      <td>3.1599</td>\n",
       "      <td>84.8740</td>\n",
       "      <td>0.19114</td>\n",
       "      <td>0.004572</td>\n",
       "      <td>2.9881</td>\n",
       "      <td>1.0077</td>\n",
       "      <td>...</td>\n",
       "      <td>0.007639</td>\n",
       "      <td>0.000881</td>\n",
       "      <td>0.99236</td>\n",
       "      <td>0.000000</td>\n",
       "      <td>6.7742</td>\n",
       "      <td>3.7922</td>\n",
       "      <td>64.846</td>\n",
       "      <td>5.6287</td>\n",
       "      <td>4.4581</td>\n",
       "      <td>b'0'</td>\n",
       "    </tr>\n",
       "    <tr>\n",
       "      <th>3</th>\n",
       "      <td>3</td>\n",
       "      <td>0.024526</td>\n",
       "      <td>0.43236</td>\n",
       "      <td>0.27546</td>\n",
       "      <td>1.7833</td>\n",
       "      <td>-10.1050</td>\n",
       "      <td>0.56944</td>\n",
       "      <td>0.024526</td>\n",
       "      <td>1.3057</td>\n",
       "      <td>1.0509</td>\n",
       "      <td>...</td>\n",
       "      <td>0.048398</td>\n",
       "      <td>0.043445</td>\n",
       "      <td>0.95160</td>\n",
       "      <td>0.142980</td>\n",
       "      <td>4.2286</td>\n",
       "      <td>5.0528</td>\n",
       "      <td>98.783</td>\n",
       "      <td>3.6950</td>\n",
       "      <td>3.4844</td>\n",
       "      <td>b'0'</td>\n",
       "    </tr>\n",
       "    <tr>\n",
       "      <th>4</th>\n",
       "      <td>4</td>\n",
       "      <td>0.188290</td>\n",
       "      <td>0.41504</td>\n",
       "      <td>0.34231</td>\n",
       "      <td>1.9279</td>\n",
       "      <td>-58.2740</td>\n",
       "      <td>0.00000</td>\n",
       "      <td>0.233580</td>\n",
       "      <td>1.4094</td>\n",
       "      <td>1.3393</td>\n",
       "      <td>...</td>\n",
       "      <td>0.176480</td>\n",
       "      <td>0.321880</td>\n",
       "      <td>0.82635</td>\n",
       "      <td>0.073039</td>\n",
       "      <td>2.5912</td>\n",
       "      <td>7.0756</td>\n",
       "      <td>100.540</td>\n",
       "      <td>3.6303</td>\n",
       "      <td>4.6375</td>\n",
       "      <td>b'0'</td>\n",
       "    </tr>\n",
       "  </tbody>\n",
       "</table>\n",
       "<p>5 rows × 66 columns</p>\n",
       "</div>"
      ],
      "text/plain": [
       "   Unnamed: 0     Attr1    Attr2    Attr3   Attr4    Attr5    Attr6     Attr7  \\\n",
       "0           0  0.174190  0.41299  0.14371  1.3480 -28.9820  0.60383  0.219460   \n",
       "1           1  0.146240  0.46038  0.28230  1.6294   2.5952  0.00000  0.171850   \n",
       "2           2  0.000595  0.22612  0.48839  3.1599  84.8740  0.19114  0.004572   \n",
       "3           3  0.024526  0.43236  0.27546  1.7833 -10.1050  0.56944  0.024526   \n",
       "4           4  0.188290  0.41504  0.34231  1.9279 -58.2740  0.00000  0.233580   \n",
       "\n",
       "    Attr8   Attr9  ...    Attr56    Attr57   Attr58    Attr59  Attr60  Attr61  \\\n",
       "0  1.1225  1.1961  ...  0.163960  0.375740  0.83604  0.000007  9.7145  6.2813   \n",
       "1  1.1721  1.6018  ...  0.027516  0.271000  0.90108  0.000000  5.9882  4.1103   \n",
       "2  2.9881  1.0077  ...  0.007639  0.000881  0.99236  0.000000  6.7742  3.7922   \n",
       "3  1.3057  1.0509  ...  0.048398  0.043445  0.95160  0.142980  4.2286  5.0528   \n",
       "4  1.4094  1.3393  ...  0.176480  0.321880  0.82635  0.073039  2.5912  7.0756   \n",
       "\n",
       "    Attr62  Attr63  Attr64  class  \n",
       "0   84.291  4.3303  4.0341   b'0'  \n",
       "1  102.190  3.5716  5.9500   b'0'  \n",
       "2   64.846  5.6287  4.4581   b'0'  \n",
       "3   98.783  3.6950  3.4844   b'0'  \n",
       "4  100.540  3.6303  4.6375   b'0'  \n",
       "\n",
       "[5 rows x 66 columns]"
      ]
     },
     "execution_count": 5,
     "metadata": {},
     "output_type": "execute_result"
    }
   ],
   "source": [
    "df.head()"
   ]
  },
  {
   "cell_type": "code",
   "execution_count": 6,
   "metadata": {
    "colab": {},
    "colab_type": "code",
    "id": "DHpJ70GaCfjG"
   },
   "outputs": [],
   "source": [
    "# eliminamos la primera columna que se trata de un indice.\n",
    "df = df.drop(\"Unnamed: 0\", axis = 1)"
   ]
  },
  {
   "cell_type": "markdown",
   "metadata": {
    "colab_type": "text",
    "id": "6uEKVm-QCfjM"
   },
   "source": [
    "Acá hay una descripción de los atributos\n",
    "\n",
    "- Attr1: net profit / total assets\n",
    "- Attr2: total liabilities / total assets\n",
    "- Attr3: working capital / total assets\n",
    "- Attr4: current assets / short-term liabilities\n",
    "- Attr5: [(cash + short-term securities + receivables - short-term liabilities) / (operating expenses - depreciation)] * 365\n",
    "- Attr6: retained earnings / total assets\n",
    "- Attr7: EBIT / total assets\n",
    "- Attr8: book value of equity / total liabilities\n",
    "- Attr9: sales / total assets\n",
    "- Attr10: equity / total assets\n",
    "- Attr11: (gross profit + extraordinary items + financial expenses) / total assets\n",
    "- Attr12: gross profit / short-term liabilities\n",
    "- Attr13: (gross profit + depreciation) / sales\n",
    "- Attr14: (gross profit + interest) / total assets\n",
    "- Attr15: (total liabilities * 365) / (gross profit + depreciation)\n",
    "- Attr16: (gross profit + depreciation) / total liabilities\n",
    "- Attr17: total assets / total liabilities\n",
    "- Attr18: gross profit / total assets\n",
    "- Attr19: gross profit / sales\n",
    "- Attr20: (inventory * 365) / sales\n",
    "- Attr21: sales (n) / sales (n-1)\n",
    "- Attr22: profit on operating activities / total assets\n",
    "- Attr23: net profit / sales\n",
    "- Attr24: gross profit (in 3 years) / total assets\n",
    "- Attr25: (equity - share capital) / total assets\n",
    "- Attr26: (net profit + depreciation) / total liabilities\n",
    "- Attr27: profit on operating activities / financial expenses\n",
    "- Attr28: working capital / fixed assets\n",
    "- Attr29: logarithm of total assets\n",
    "- Attr30: (total liabilities - cash) / sales\n",
    "- Attr31: (gross profit + interest) / sales\n",
    "- Attr32: (current liabilities * 365) / cost of products sold\n",
    "- Attr33: operating expenses / short-term liabilities\n",
    "- Attr34: operating expenses / total liabilities\n",
    "- Attr35: profit on sales / total assets\n",
    "- Attr36: total sales / total assets\n",
    "- Attr37: (current assets - inventories) / long-term liabilities\n",
    "- Attr38: constant capital / total assets\n",
    "- Attr39: profit on sales / sales\n",
    "- Attr40: (current assets - inventory - receivables) / short-term liabilities\n",
    "- Attr41: total liabilities / ((profit on operating activities + depreciation) * (12/365))\n",
    "- Attr42: profit on operating activities / sales\n",
    "- Attr43: rotation receivables + inventory turnover in days\n",
    "- Attr44: (receivables * 365) / sales\n",
    "- Attr45: net profit / inventory\n",
    "- Attr46: (current assets - inventory) / short-term liabilities\n",
    "- Attr47: (inventory * 365) / cost of products sold\n",
    "- Attr48: EBITDA (profit on operating activities - depreciation) / total assets\n",
    "- Attr49: EBITDA (profit on operating activities - depreciation) / sales\n",
    "- Attr50: current assets / total liabilities\n",
    "- Attr51: short-term liabilities / total assets\n",
    "- Attr52: (short-term liabilities * 365) / cost of products sold)\n",
    "- Attr53: equity / fixed assets\n",
    "- Attr54: constant capital / fixed assets\n",
    "- Attr55: working capital\n",
    "- Attr56: (sales - cost of products sold) / sales\n",
    "- Attr57: (current assets - inventory - short-term liabilities) / (sales - gross profit - depreciation)\n",
    "- Attr58: total costs /total sales\n",
    "- Attr59: long-term liabilities / equity\n",
    "- Attr60: sales / inventory\n",
    "- Attr61: sales / receivables\n",
    "- Attr62: (short-term liabilities *365) / sales\n",
    "- Attr63: sales / short-term liabilities\n",
    "- Attr64: sales / fixed assets\n",
    "- class: toma los valores \"b'0'\" y \"b'1'\" indicando si la empresa quebro o no."
   ]
  },
  {
   "cell_type": "markdown",
   "metadata": {},
   "source": [
    "### Ejercicio 1\n",
    "1) Obtener la `matriz de features X` y la `variable target y`  \n",
    "2) Analizar la forma (shape) del dataset.  \n",
    "3) Ver los valores que toma la variable target  \n",
    "4) Aplicar LabelEncoder sobre la variable target."
   ]
  },
  {
   "cell_type": "code",
   "execution_count": 7,
   "metadata": {
    "colab": {},
    "colab_type": "code",
    "id": "vlYFzjkxCfjQ"
   },
   "outputs": [],
   "source": [
    "y = df[\"class\"]\n",
    "X = df.drop(\"class\", axis = 1)"
   ]
  },
  {
   "cell_type": "code",
   "execution_count": 8,
   "metadata": {},
   "outputs": [
    {
     "name": "stdout",
     "output_type": "stream",
     "text": [
      "el dataset tiene  10503  filas y  64  columnas\n"
     ]
    }
   ],
   "source": [
    "print(\"el dataset tiene \", X.shape[0], \" filas y \", X.shape[1], \" columnas\")"
   ]
  },
  {
   "cell_type": "code",
   "execution_count": 9,
   "metadata": {
    "colab_type": "text",
    "id": "CX2gyjuRCfjO"
   },
   "outputs": [
    {
     "data": {
      "text/plain": [
       "array([\"b'0'\", \"b'1'\"], dtype=object)"
      ]
     },
     "execution_count": 9,
     "metadata": {},
     "output_type": "execute_result"
    }
   ],
   "source": [
    "y.unique()\n"
   ]
  },
  {
   "cell_type": "code",
   "execution_count": 10,
   "metadata": {
    "colab": {},
    "colab_type": "code",
    "id": "kCvTLZwfCfjh"
   },
   "outputs": [],
   "source": [
    "from sklearn.preprocessing import LabelEncoder\n",
    "encoder = LabelEncoder()"
   ]
  },
  {
   "cell_type": "code",
   "execution_count": 11,
   "metadata": {
    "colab": {},
    "colab_type": "code",
    "id": "W_OGGsYeCfkJ"
   },
   "outputs": [],
   "source": [
    "y = encoder.fit_transform(y)"
   ]
  },
  {
   "cell_type": "code",
   "execution_count": 12,
   "metadata": {
    "colab": {},
    "colab_type": "code",
    "id": "huMAVxxmCfkT",
    "outputId": "4b3f73b9-86c4-4053-f80d-995ab06a89e6"
   },
   "outputs": [
    {
     "data": {
      "text/plain": [
       "array([0, 0, 0, ..., 1, 1, 1])"
      ]
     },
     "execution_count": 12,
     "metadata": {},
     "output_type": "execute_result"
    }
   ],
   "source": [
    "y"
   ]
  },
  {
   "cell_type": "markdown",
   "metadata": {},
   "source": [
    "### Ejercicio 2\n",
    "1) Realizar un split en Train y Test, dejando un 20% para test  \n",
    "2) crear un generador de CV utilizando: `cv = StratifiedKFold(n_splits=5, random_state=41, shuffle=True)` para luego pasarselo tanto a `GridSearchCV` como a `cross_val_score`\n"
   ]
  },
  {
   "cell_type": "code",
   "execution_count": 13,
   "metadata": {
    "colab": {},
    "colab_type": "code",
    "id": "1NbebhB0Cfkd"
   },
   "outputs": [],
   "source": [
    "from sklearn.model_selection import train_test_split\n",
    "X_train, X_test, y_train, y_test = train_test_split(X,y,test_size=0.2)"
   ]
  },
  {
   "cell_type": "code",
   "execution_count": 14,
   "metadata": {
    "colab": {},
    "colab_type": "code",
    "id": "14_X-cEfCfkn"
   },
   "outputs": [],
   "source": [
    "from sklearn.model_selection import cross_val_score, StratifiedKFold\n",
    "cv = StratifiedKFold(n_splits=5, random_state=41, shuffle=True)"
   ]
  },
  {
   "cell_type": "markdown",
   "metadata": {
    "colab_type": "text",
    "id": "xrkS4Qa6Cfng"
   },
   "source": [
    "### Ejercicio 3: Xgboost\n",
    "1) Importar el clasificador `XGBoost` del módulo `xgboost.sklearn` que nos provee clases y métodos aceptados por la API de sklearn. La clase que contiene este clasificador se llama XGBClassifier\n"
   ]
  },
  {
   "cell_type": "code",
   "execution_count": 15,
   "metadata": {
    "colab": {},
    "colab_type": "code",
    "id": "Gmhx9Sy1Cfnk"
   },
   "outputs": [],
   "source": [
    "from xgboost.sklearn import XGBClassifier\n",
    "model_xg = XGBClassifier(n_jobs=-1, use_label_encoder=False)"
   ]
  },
  {
   "cell_type": "markdown",
   "metadata": {
    "colab_type": "text",
    "id": "R6tDIBUkCfnt"
   },
   "source": [
    "2) Utilizando el siguiente diccionario de parametros, optimizar los hiperparámetros.  \n",
    "3) Imprimir en pantalla la mejor selección de hiperparámetros"
   ]
  },
  {
   "cell_type": "code",
   "execution_count": 16,
   "metadata": {
    "colab": {},
    "colab_type": "code",
    "id": "cBQxwRbgCfny"
   },
   "outputs": [],
   "source": [
    "from sklearn.model_selection import GridSearchCV\n",
    "params = {  \n",
    "    \"n_estimators\": [50,100,500],      # Number of boosted trees to fit.\n",
    "    \"max_depth\": [1,2,3,4],            # Maximum tree depth for base learners.\n",
    "    \"learning_rate\": [0.01, 0.1],      # Boosting learning rate (xgb’s “eta”)\n",
    "}"
   ]
  },
  {
   "cell_type": "code",
   "execution_count": 17,
   "metadata": {},
   "outputs": [],
   "source": [
    "xgb = GridSearchCV(model_xg, param_grid=params, cv=cv, verbose=1, n_jobs=-1)"
   ]
  },
  {
   "cell_type": "code",
   "execution_count": 18,
   "metadata": {
    "colab": {},
    "colab_type": "code",
    "id": "IevW3viRCfn-",
    "outputId": "d1b30fc4-d0d6-4f87-fe2f-94ae5c424d28"
   },
   "outputs": [
    {
     "name": "stdout",
     "output_type": "stream",
     "text": [
      "Fitting 5 folds for each of 24 candidates, totalling 120 fits\n"
     ]
    },
    {
     "name": "stderr",
     "output_type": "stream",
     "text": [
      "[Parallel(n_jobs=-1)]: Using backend LokyBackend with 8 concurrent workers.\n",
      "[Parallel(n_jobs=-1)]: Done  34 tasks      | elapsed:   50.0s\n",
      "[Parallel(n_jobs=-1)]: Done 120 out of 120 | elapsed:  4.9min finished\n"
     ]
    },
    {
     "name": "stdout",
     "output_type": "stream",
     "text": [
      "[14:01:07] WARNING: ../src/learner.cc:1115: Starting in XGBoost 1.3.0, the default evaluation metric used with the objective 'binary:logistic' was changed from 'error' to 'logloss'. Explicitly set eval_metric if you'd like to restore the old behavior.\n"
     ]
    },
    {
     "data": {
      "text/plain": [
       "GridSearchCV(cv=StratifiedKFold(n_splits=5, random_state=41, shuffle=True),\n",
       "             estimator=XGBClassifier(base_score=None, booster=None,\n",
       "                                     colsample_bylevel=None,\n",
       "                                     colsample_bynode=None,\n",
       "                                     colsample_bytree=None,\n",
       "                                     enable_categorical=False, gamma=None,\n",
       "                                     gpu_id=None, importance_type=None,\n",
       "                                     interaction_constraints=None,\n",
       "                                     learning_rate=None, max_delta_step=None,\n",
       "                                     max_depth=None, min_c...\n",
       "                                     missing=nan, monotone_constraints=None,\n",
       "                                     n_estimators=100, n_jobs=-1,\n",
       "                                     num_parallel_tree=None, predictor=None,\n",
       "                                     random_state=None, reg_alpha=None,\n",
       "                                     reg_lambda=None, scale_pos_weight=None,\n",
       "                                     subsample=None, tree_method=None,\n",
       "                                     use_label_encoder=False,\n",
       "                                     validate_parameters=None, verbosity=None),\n",
       "             n_jobs=-1,\n",
       "             param_grid={'learning_rate': [0.01, 0.1],\n",
       "                         'max_depth': [1, 2, 3, 4],\n",
       "                         'n_estimators': [50, 100, 500]},\n",
       "             verbose=1)"
      ]
     },
     "execution_count": 18,
     "metadata": {},
     "output_type": "execute_result"
    }
   ],
   "source": [
    "xgb.fit(X_train,y_train)"
   ]
  },
  {
   "cell_type": "code",
   "execution_count": 19,
   "metadata": {},
   "outputs": [
    {
     "data": {
      "text/plain": [
       "{'learning_rate': 0.1, 'max_depth': 3, 'n_estimators': 500}"
      ]
     },
     "execution_count": 19,
     "metadata": {},
     "output_type": "execute_result"
    }
   ],
   "source": [
    "xgb.best_params_"
   ]
  },
  {
   "cell_type": "markdown",
   "metadata": {
    "colab": {},
    "colab_type": "code",
    "id": "TWN_SYVkCfoM"
   },
   "source": [
    "5) Evaluar el rendimiento del estimador optimo, utilizando cross validation.  \n",
    "(pasarle como argumento cv el generador de CV splits del creado en el punto 3)  \n",
    "**nota:** ver función evaluar_rendimiento() utilizada en la notebook `2-Boosting_Practica.ipynb`"
   ]
  },
  {
   "cell_type": "code",
   "execution_count": 20,
   "metadata": {
    "colab": {},
    "colab_type": "code",
    "id": "CoC30kJgCfoW",
    "outputId": "32a88e44-2471-4b9a-96f7-8294535dd7dc"
   },
   "outputs": [],
   "source": [
    "def evaluar_rendimiento(modelo, nombre, X, y, cv):\n",
    "    s = cross_val_score(modelo, X, y, cv=cv, n_jobs=-1)\n",
    "    print(\"Rendimiento de {}:\\t{:0.3} ± {:0.3}\".format( \\\n",
    "        nombre, s.mean().round(3), s.std().round(3)))"
   ]
  },
  {
   "cell_type": "code",
   "execution_count": 21,
   "metadata": {},
   "outputs": [
    {
     "name": "stdout",
     "output_type": "stream",
     "text": [
      "Rendimiento de XG Boost:\t0.97 ± 0.004\n"
     ]
    }
   ],
   "source": [
    "evaluar_rendimiento(xgb.best_estimator_,\"XG Boost\", X_train, y_train, cv)\n"
   ]
  },
  {
   "cell_type": "markdown",
   "metadata": {},
   "source": [
    "6) utilizando roc_auc_score de la libreria sklearn.metrics, determinar el valor del ROC."
   ]
  },
  {
   "cell_type": "code",
   "execution_count": 22,
   "metadata": {},
   "outputs": [],
   "source": [
    "import warnings\n",
    "warnings.filterwarnings(action='ignore', category=UserWarning)"
   ]
  },
  {
   "cell_type": "code",
   "execution_count": 23,
   "metadata": {
    "colab": {},
    "colab_type": "code",
    "id": "iSPh4BliCfob",
    "outputId": "bbcae194-4930-4247-85de-2a8dfa40e9b1"
   },
   "outputs": [
    {
     "name": "stdout",
     "output_type": "stream",
     "text": [
      "El valor del AUC es:  0.7591435295614287\n"
     ]
    }
   ],
   "source": [
    "from sklearn.metrics import roc_auc_score\n",
    "xgb_auc = roc_auc_score(y_test, xgb.predict(X_test))\n",
    "print(\"El valor del AUC es: \", xgb_auc)"
   ]
  },
  {
   "cell_type": "code",
   "execution_count": 24,
   "metadata": {},
   "outputs": [
    {
     "data": {
      "text/plain": [
       "array([0, 0, 0, ..., 0, 0, 0])"
      ]
     },
     "execution_count": 24,
     "metadata": {},
     "output_type": "execute_result"
    }
   ],
   "source": [
    "xgb.predict(X_test)"
   ]
  },
  {
   "cell_type": "markdown",
   "metadata": {
    "colab_type": "text",
    "id": "9ccsI2ZnCfog"
   },
   "source": [
    "7) utilizando plot_roc de la libreria sklearn.metrics, graficamos la curva ROC por clase"
   ]
  },
  {
   "cell_type": "code",
   "execution_count": 25,
   "metadata": {
    "colab": {},
    "colab_type": "code",
    "id": "ttPIpN_iCfoj",
    "outputId": "bddf28c8-dc31-4df9-a2e2-4b79c73ae726"
   },
   "outputs": [
    {
     "data": {
      "image/png": "[encoded data removed]",
      "text/plain": [
       "<Figure size 432x288 with 1 Axes>"
      ]
     },
     "metadata": {
      "needs_background": "light"
     },
     "output_type": "display_data"
    }
   ],
   "source": [
    "from scikitplot.metrics import plot_roc\n",
    "%matplotlib inline\n",
    "plot_roc(y_test, xgb.predict_proba(X_test), plot_micro = False, plot_macro= False);\n"
   ]
  },
  {
   "cell_type": "markdown",
   "metadata": {},
   "source": [
    "### BONUS: \n",
    "graficar la importancia de los atributos del estimador optimizado.  \n",
    "\n",
    "https://machinelearningmastery.com/feature-importance-and-feature-selection-with-xgboost-in-python/"
   ]
  },
  {
   "cell_type": "code",
   "execution_count": 26,
   "metadata": {
    "colab": {},
    "colab_type": "code",
    "id": "ZIV1v9ukCfor",
    "outputId": "d3530218-f0ce-46b4-8924-8a07665718d9"
   },
   "outputs": [
    {
     "data": {
      "image/png": "[encoded data removed]",
      "text/plain": [
       "<Figure size 432x288 with 1 Axes>"
      ]
     },
     "metadata": {
      "needs_background": "light"
     },
     "output_type": "display_data"
    }
   ],
   "source": [
    "from xgboost import plot_importance\n",
    "plot_importance(xgb.best_estimator_, height = 0.8,max_num_features=5);"
   ]
  },
  {
   "cell_type": "code",
   "execution_count": null,
   "metadata": {},
   "outputs": [],
   "source": []
  },
  {
   "cell_type": "code",
   "execution_count": null,
   "metadata": {},
   "outputs": [],
   "source": []
  },
  {
   "cell_type": "code",
   "execution_count": null,
   "metadata": {
    "colab": {},
    "colab_type": "code",
    "id": "fkfek4PQDz4d"
   },
   "outputs": [],
   "source": []
  }
 ],
 "metadata": {
  "colab": {
   "collapsed_sections": [],
   "name": "1.PRACTICA_GUIADA_XGBoost_LightGBM.ipynb",
   "provenance": [],
   "version": "0.3.2"
  },
  "kernelspec": {
   "display_name": "Python [conda env:dhdsblend2021] *",
   "language": "python",
   "name": "conda-env-dhdsblend2021-py"
  },
  "language_info": {
   "codemirror_mode": {
    "name": "ipython",
    "version": 3
   },
   "file_extension": ".py",
   "mimetype": "text/x-python",
   "name": "python",
   "nbconvert_exporter": "python",
   "pygments_lexer": "ipython3",
   "version": "3.8.11"
  }
 },
 "nbformat": 4,
 "nbformat_minor": 4
}
