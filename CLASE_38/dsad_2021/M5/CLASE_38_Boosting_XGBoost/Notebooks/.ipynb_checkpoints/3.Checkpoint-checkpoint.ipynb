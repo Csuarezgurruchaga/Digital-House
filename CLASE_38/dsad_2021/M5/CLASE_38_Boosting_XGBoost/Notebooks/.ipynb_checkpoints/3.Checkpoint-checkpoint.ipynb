{
 "cells": [
  {
   "cell_type": "code",
   "execution_count": 1,
   "metadata": {},
   "outputs": [
    {
     "name": "stdout",
     "output_type": "stream",
     "text": [
      "/Users/csuarezgurruchaga/Desktop/Digital-House/CLASE_38/dsad_2021/common\n",
      "default checking\n",
      "Running command `conda list`... ok\n",
      "jupyterlab=2.2.6 already installed\n",
      "pandas=1.1.5 already installed\n",
      "bokeh=2.2.3 already installed\n",
      "seaborn=0.11.0 already installed\n",
      "matplotlib=3.3.2 already installed\n",
      "ipywidgets=7.5.1 already installed\n",
      "pytest=6.2.1 already installed\n",
      "chardet=4.0.0 already installed\n",
      "psutil=5.7.2 already installed\n",
      "scipy=1.5.2 already installed\n",
      "statsmodels=0.12.1 already installed\n",
      "scikit-learn=0.23.2 already installed\n",
      "xlrd=2.0.1 already installed\n",
      "Running command `conda install --yes nltk=3.5.0`... ok\n",
      "Collecting package metadata (current_repodata.json): ...working... done\n",
      "Solving environment: ...working... done\n",
      "\n",
      "# All requested packages already installed.\n",
      "\n",
      "\n",
      "unidecode=1.1.1 already installed\n",
      "pydotplus=2.0.2 already installed\n",
      "pandas-datareader=0.9.0 already installed\n",
      "flask=1.1.2 already installed\n"
     ]
    }
   ],
   "source": [
    "# initial setup\n",
    "%run \"../../../common/0_notebooks_base_setup.py\"\n"
   ]
  },
  {
   "cell_type": "markdown",
   "metadata": {},
   "source": [
    "**Setup**\n",
    "\n",
    "Si la instalación de lightgbm da error, ejecutar en Anaconda Prompt \n",
    "\n",
    "`conda install -c conda-forge xgboost=1.4.0`\n",
    "\n",
    "`conda install -c conda-forge lightgbm=3.2.1`"
   ]
  },
  {
   "cell_type": "markdown",
   "metadata": {},
   "source": [
    "---\n",
    "\n",
    "<img src='../../../common/logo_DH.png' align='left' width=35%/>\n"
   ]
  },
  {
   "cell_type": "markdown",
   "metadata": {
    "colab_type": "text",
    "id": "knzulYd1Cfir"
   },
   "source": [
    "## Prediciendo quiebra de empresas"
   ]
  },
  {
   "cell_type": "markdown",
   "metadata": {
    "colab_type": "text",
    "id": "961vNjYyCfis"
   },
   "source": [
    "En este Checkpoint vamos a trabajar en predecir la quiebra de empresas en Polonia. La información fue obtenida del Servicio de Información de Mercados Emergentes (EMIS por sus siglas en inglés), que es una base de datos que contiene información de los mercados emergentes alrededor del mundo. Las compañías en bancarrota fueron analizadas en el período 2000-2012, mientras que las que continuan operando se evaluaron desde 2007 a 2013.\n",
    "\n",
    "En este caso sólo vamos a trabajar con el tercer año de los disponibles. Se puede consultar la página de UCI en donde se encuentra alojado <a href='https://archive.ics.uci.edu/ml/datasets/Polish+companies+bankruptcy+data'> aqui </a> \n",
    "\n",
    "El dataset empleado tiene datos de las empresas y su estatus tres años después."
   ]
  },
  {
   "cell_type": "code",
   "execution_count": 2,
   "metadata": {
    "colab": {},
    "colab_type": "code",
    "id": "be9V_LltCfiu"
   },
   "outputs": [],
   "source": [
    "import pandas as pd\n",
    "import numpy as np\n",
    "import scipy.stats as st"
   ]
  },
  {
   "cell_type": "code",
   "execution_count": 3,
   "metadata": {
    "colab": {},
    "colab_type": "code",
    "id": "1wb2uNoLCfi1"
   },
   "outputs": [],
   "source": [
    "df = pd.read_csv(\"../Data/3year.csv\", index_col='Unnamed: 0')"
   ]
  },
  {
   "cell_type": "code",
   "execution_count": 4,
   "metadata": {
    "colab": {},
    "colab_type": "code",
    "id": "Z-fgwsKVCfi6",
    "outputId": "8742bfa1-b1d4-490b-ecc2-e1781b4b53e4"
   },
   "outputs": [
    {
     "data": {
      "text/html": [
       "<div>\n",
       "<style scoped>\n",
       "    .dataframe tbody tr th:only-of-type {\n",
       "        vertical-align: middle;\n",
       "    }\n",
       "\n",
       "    .dataframe tbody tr th {\n",
       "        vertical-align: top;\n",
       "    }\n",
       "\n",
       "    .dataframe thead th {\n",
       "        text-align: right;\n",
       "    }\n",
       "</style>\n",
       "<table border=\"1\" class=\"dataframe\">\n",
       "  <thead>\n",
       "    <tr style=\"text-align: right;\">\n",
       "      <th></th>\n",
       "      <th>Attr1</th>\n",
       "      <th>Attr2</th>\n",
       "      <th>Attr3</th>\n",
       "      <th>Attr4</th>\n",
       "      <th>Attr5</th>\n",
       "      <th>Attr6</th>\n",
       "      <th>Attr7</th>\n",
       "      <th>Attr8</th>\n",
       "      <th>Attr9</th>\n",
       "      <th>Attr10</th>\n",
       "      <th>...</th>\n",
       "      <th>Attr56</th>\n",
       "      <th>Attr57</th>\n",
       "      <th>Attr58</th>\n",
       "      <th>Attr59</th>\n",
       "      <th>Attr60</th>\n",
       "      <th>Attr61</th>\n",
       "      <th>Attr62</th>\n",
       "      <th>Attr63</th>\n",
       "      <th>Attr64</th>\n",
       "      <th>class</th>\n",
       "    </tr>\n",
       "  </thead>\n",
       "  <tbody>\n",
       "    <tr>\n",
       "      <th>0</th>\n",
       "      <td>0.174190</td>\n",
       "      <td>0.41299</td>\n",
       "      <td>0.14371</td>\n",
       "      <td>1.3480</td>\n",
       "      <td>-28.9820</td>\n",
       "      <td>0.60383</td>\n",
       "      <td>0.219460</td>\n",
       "      <td>1.1225</td>\n",
       "      <td>1.1961</td>\n",
       "      <td>0.46359</td>\n",
       "      <td>...</td>\n",
       "      <td>0.163960</td>\n",
       "      <td>0.375740</td>\n",
       "      <td>0.83604</td>\n",
       "      <td>0.000007</td>\n",
       "      <td>9.7145</td>\n",
       "      <td>6.2813</td>\n",
       "      <td>84.291</td>\n",
       "      <td>4.3303</td>\n",
       "      <td>4.0341</td>\n",
       "      <td>b'0'</td>\n",
       "    </tr>\n",
       "    <tr>\n",
       "      <th>1</th>\n",
       "      <td>0.146240</td>\n",
       "      <td>0.46038</td>\n",
       "      <td>0.28230</td>\n",
       "      <td>1.6294</td>\n",
       "      <td>2.5952</td>\n",
       "      <td>0.00000</td>\n",
       "      <td>0.171850</td>\n",
       "      <td>1.1721</td>\n",
       "      <td>1.6018</td>\n",
       "      <td>0.53962</td>\n",
       "      <td>...</td>\n",
       "      <td>0.027516</td>\n",
       "      <td>0.271000</td>\n",
       "      <td>0.90108</td>\n",
       "      <td>0.000000</td>\n",
       "      <td>5.9882</td>\n",
       "      <td>4.1103</td>\n",
       "      <td>102.190</td>\n",
       "      <td>3.5716</td>\n",
       "      <td>5.9500</td>\n",
       "      <td>b'0'</td>\n",
       "    </tr>\n",
       "    <tr>\n",
       "      <th>2</th>\n",
       "      <td>0.000595</td>\n",
       "      <td>0.22612</td>\n",
       "      <td>0.48839</td>\n",
       "      <td>3.1599</td>\n",
       "      <td>84.8740</td>\n",
       "      <td>0.19114</td>\n",
       "      <td>0.004572</td>\n",
       "      <td>2.9881</td>\n",
       "      <td>1.0077</td>\n",
       "      <td>0.67566</td>\n",
       "      <td>...</td>\n",
       "      <td>0.007639</td>\n",
       "      <td>0.000881</td>\n",
       "      <td>0.99236</td>\n",
       "      <td>0.000000</td>\n",
       "      <td>6.7742</td>\n",
       "      <td>3.7922</td>\n",
       "      <td>64.846</td>\n",
       "      <td>5.6287</td>\n",
       "      <td>4.4581</td>\n",
       "      <td>b'0'</td>\n",
       "    </tr>\n",
       "    <tr>\n",
       "      <th>3</th>\n",
       "      <td>0.024526</td>\n",
       "      <td>0.43236</td>\n",
       "      <td>0.27546</td>\n",
       "      <td>1.7833</td>\n",
       "      <td>-10.1050</td>\n",
       "      <td>0.56944</td>\n",
       "      <td>0.024526</td>\n",
       "      <td>1.3057</td>\n",
       "      <td>1.0509</td>\n",
       "      <td>0.56453</td>\n",
       "      <td>...</td>\n",
       "      <td>0.048398</td>\n",
       "      <td>0.043445</td>\n",
       "      <td>0.95160</td>\n",
       "      <td>0.142980</td>\n",
       "      <td>4.2286</td>\n",
       "      <td>5.0528</td>\n",
       "      <td>98.783</td>\n",
       "      <td>3.6950</td>\n",
       "      <td>3.4844</td>\n",
       "      <td>b'0'</td>\n",
       "    </tr>\n",
       "    <tr>\n",
       "      <th>4</th>\n",
       "      <td>0.188290</td>\n",
       "      <td>0.41504</td>\n",
       "      <td>0.34231</td>\n",
       "      <td>1.9279</td>\n",
       "      <td>-58.2740</td>\n",
       "      <td>0.00000</td>\n",
       "      <td>0.233580</td>\n",
       "      <td>1.4094</td>\n",
       "      <td>1.3393</td>\n",
       "      <td>0.58496</td>\n",
       "      <td>...</td>\n",
       "      <td>0.176480</td>\n",
       "      <td>0.321880</td>\n",
       "      <td>0.82635</td>\n",
       "      <td>0.073039</td>\n",
       "      <td>2.5912</td>\n",
       "      <td>7.0756</td>\n",
       "      <td>100.540</td>\n",
       "      <td>3.6303</td>\n",
       "      <td>4.6375</td>\n",
       "      <td>b'0'</td>\n",
       "    </tr>\n",
       "  </tbody>\n",
       "</table>\n",
       "<p>5 rows × 65 columns</p>\n",
       "</div>"
      ],
      "text/plain": [
       "      Attr1    Attr2    Attr3   Attr4    Attr5    Attr6     Attr7   Attr8  \\\n",
       "0  0.174190  0.41299  0.14371  1.3480 -28.9820  0.60383  0.219460  1.1225   \n",
       "1  0.146240  0.46038  0.28230  1.6294   2.5952  0.00000  0.171850  1.1721   \n",
       "2  0.000595  0.22612  0.48839  3.1599  84.8740  0.19114  0.004572  2.9881   \n",
       "3  0.024526  0.43236  0.27546  1.7833 -10.1050  0.56944  0.024526  1.3057   \n",
       "4  0.188290  0.41504  0.34231  1.9279 -58.2740  0.00000  0.233580  1.4094   \n",
       "\n",
       "    Attr9   Attr10  ...    Attr56    Attr57   Attr58    Attr59  Attr60  \\\n",
       "0  1.1961  0.46359  ...  0.163960  0.375740  0.83604  0.000007  9.7145   \n",
       "1  1.6018  0.53962  ...  0.027516  0.271000  0.90108  0.000000  5.9882   \n",
       "2  1.0077  0.67566  ...  0.007639  0.000881  0.99236  0.000000  6.7742   \n",
       "3  1.0509  0.56453  ...  0.048398  0.043445  0.95160  0.142980  4.2286   \n",
       "4  1.3393  0.58496  ...  0.176480  0.321880  0.82635  0.073039  2.5912   \n",
       "\n",
       "   Attr61   Attr62  Attr63  Attr64  class  \n",
       "0  6.2813   84.291  4.3303  4.0341   b'0'  \n",
       "1  4.1103  102.190  3.5716  5.9500   b'0'  \n",
       "2  3.7922   64.846  5.6287  4.4581   b'0'  \n",
       "3  5.0528   98.783  3.6950  3.4844   b'0'  \n",
       "4  7.0756  100.540  3.6303  4.6375   b'0'  \n",
       "\n",
       "[5 rows x 65 columns]"
      ]
     },
     "execution_count": 4,
     "metadata": {},
     "output_type": "execute_result"
    }
   ],
   "source": [
    "df.head()"
   ]
  },
  {
   "cell_type": "markdown",
   "metadata": {
    "colab_type": "text",
    "id": "6uEKVm-QCfjM"
   },
   "source": [
    "Acá hay una descripción de los atributos\n",
    "\n",
    "- Attr1: net profit / total assets\n",
    "- Attr2: total liabilities / total assets\n",
    "- Attr3: working capital / total assets\n",
    "- Attr4: current assets / short-term liabilities\n",
    "- Attr5: [(cash + short-term securities + receivables - short-term liabilities) / (operating expenses - depreciation)] * 365\n",
    "- Attr6: retained earnings / total assets\n",
    "- Attr7: EBIT / total assets\n",
    "- Attr8: book value of equity / total liabilities\n",
    "- Attr9: sales / total assets\n",
    "- Attr10: equity / total assets\n",
    "- Attr11: (gross profit + extraordinary items + financial expenses) / total assets\n",
    "- Attr12: gross profit / short-term liabilities\n",
    "- Attr13: (gross profit + depreciation) / sales\n",
    "- Attr14: (gross profit + interest) / total assets\n",
    "- Attr15: (total liabilities * 365) / (gross profit + depreciation)\n",
    "- Attr16: (gross profit + depreciation) / total liabilities\n",
    "- Attr17: total assets / total liabilities\n",
    "- Attr18: gross profit / total assets\n",
    "- Attr19: gross profit / sales\n",
    "- Attr20: (inventory * 365) / sales\n",
    "- Attr21: sales (n) / sales (n-1)\n",
    "- Attr22: profit on operating activities / total assets\n",
    "- Attr23: net profit / sales\n",
    "- Attr24: gross profit (in 3 years) / total assets\n",
    "- Attr25: (equity - share capital) / total assets\n",
    "- Attr26: (net profit + depreciation) / total liabilities\n",
    "- Attr27: profit on operating activities / financial expenses\n",
    "- Attr28: working capital / fixed assets\n",
    "- Attr29: logarithm of total assets\n",
    "- Attr30: (total liabilities - cash) / sales\n",
    "- Attr31: (gross profit + interest) / sales\n",
    "- Attr32: (current liabilities * 365) / cost of products sold\n",
    "- Attr33: operating expenses / short-term liabilities\n",
    "- Attr34: operating expenses / total liabilities\n",
    "- Attr35: profit on sales / total assets\n",
    "- Attr36: total sales / total assets\n",
    "- Attr37: (current assets - inventories) / long-term liabilities\n",
    "- Attr38: constant capital / total assets\n",
    "- Attr39: profit on sales / sales\n",
    "- Attr40: (current assets - inventory - receivables) / short-term liabilities\n",
    "- Attr41: total liabilities / ((profit on operating activities + depreciation) * (12/365))\n",
    "- Attr42: profit on operating activities / sales\n",
    "- Attr43: rotation receivables + inventory turnover in days\n",
    "- Attr44: (receivables * 365) / sales\n",
    "- Attr45: net profit / inventory\n",
    "- Attr46: (current assets - inventory) / short-term liabilities\n",
    "- Attr47: (inventory * 365) / cost of products sold\n",
    "- Attr48: EBITDA (profit on operating activities - depreciation) / total assets\n",
    "- Attr49: EBITDA (profit on operating activities - depreciation) / sales\n",
    "- Attr50: current assets / total liabilities\n",
    "- Attr51: short-term liabilities / total assets\n",
    "- Attr52: (short-term liabilities * 365) / cost of products sold)\n",
    "- Attr53: equity / fixed assets\n",
    "- Attr54: constant capital / fixed assets\n",
    "- Attr55: working capital\n",
    "- Attr56: (sales - cost of products sold) / sales\n",
    "- Attr57: (current assets - inventory - short-term liabilities) / (sales - gross profit - depreciation)\n",
    "- Attr58: total costs /total sales\n",
    "- Attr59: long-term liabilities / equity\n",
    "- Attr60: sales / inventory\n",
    "- Attr61: sales / receivables\n",
    "- Attr62: (short-term liabilities *365) / sales\n",
    "- Attr63: sales / short-term liabilities\n",
    "- Attr64: sales / fixed assets\n",
    "- class: toma los valores \"b'0'\" y \"b'1'\" indicando si la empresa quebro o no."
   ]
  },
  {
   "cell_type": "markdown",
   "metadata": {},
   "source": [
    "### Ejercicio 1\n",
    "1) Obtener la `matriz de features X` y la `variable target y`  \n",
    "2) Analizar la forma (shape) del dataset.  \n",
    "3) Ver los valores que toma la variable target  \n",
    "4) Aplicar LabelEncoder sobre la variable target."
   ]
  },
  {
   "cell_type": "code",
   "execution_count": 5,
   "metadata": {
    "colab": {},
    "colab_type": "code",
    "id": "vlYFzjkxCfjQ"
   },
   "outputs": [
    {
     "name": "stdout",
     "output_type": "stream",
     "text": [
      "<class 'pandas.core.frame.DataFrame'>\n",
      "Int64Index: 10503 entries, 0 to 10502\n",
      "Data columns (total 65 columns):\n",
      " #   Column  Non-Null Count  Dtype  \n",
      "---  ------  --------------  -----  \n",
      " 0   Attr1   10503 non-null  float64\n",
      " 1   Attr2   10503 non-null  float64\n",
      " 2   Attr3   10503 non-null  float64\n",
      " 3   Attr4   10485 non-null  float64\n",
      " 4   Attr5   10478 non-null  float64\n",
      " 5   Attr6   10503 non-null  float64\n",
      " 6   Attr7   10503 non-null  float64\n",
      " 7   Attr8   10489 non-null  float64\n",
      " 8   Attr9   10500 non-null  float64\n",
      " 9   Attr10  10503 non-null  float64\n",
      " 10  Attr11  10503 non-null  float64\n",
      " 11  Attr12  10485 non-null  float64\n",
      " 12  Attr13  10460 non-null  float64\n",
      " 13  Attr14  10503 non-null  float64\n",
      " 14  Attr15  10495 non-null  float64\n",
      " 15  Attr16  10489 non-null  float64\n",
      " 16  Attr17  10489 non-null  float64\n",
      " 17  Attr18  10503 non-null  float64\n",
      " 18  Attr19  10460 non-null  float64\n",
      " 19  Attr20  10460 non-null  float64\n",
      " 20  Attr21  9696 non-null   float64\n",
      " 21  Attr22  10503 non-null  float64\n",
      " 22  Attr23  10460 non-null  float64\n",
      " 23  Attr24  10276 non-null  float64\n",
      " 24  Attr25  10503 non-null  float64\n",
      " 25  Attr26  10489 non-null  float64\n",
      " 26  Attr27  9788 non-null   float64\n",
      " 27  Attr28  10275 non-null  float64\n",
      " 28  Attr29  10503 non-null  float64\n",
      " 29  Attr30  10460 non-null  float64\n",
      " 30  Attr31  10460 non-null  float64\n",
      " 31  Attr32  10402 non-null  float64\n",
      " 32  Attr33  10485 non-null  float64\n",
      " 33  Attr34  10489 non-null  float64\n",
      " 34  Attr35  10503 non-null  float64\n",
      " 35  Attr36  10503 non-null  float64\n",
      " 36  Attr37  5767 non-null   float64\n",
      " 37  Attr38  10503 non-null  float64\n",
      " 38  Attr39  10460 non-null  float64\n",
      " 39  Attr40  10485 non-null  float64\n",
      " 40  Attr41  10301 non-null  float64\n",
      " 41  Attr42  10460 non-null  float64\n",
      " 42  Attr43  10460 non-null  float64\n",
      " 43  Attr44  10460 non-null  float64\n",
      " 44  Attr45  9912 non-null   float64\n",
      " 45  Attr46  10485 non-null  float64\n",
      " 46  Attr47  10417 non-null  float64\n",
      " 47  Attr48  10503 non-null  float64\n",
      " 48  Attr49  10460 non-null  float64\n",
      " 49  Attr50  10489 non-null  float64\n",
      " 50  Attr51  10503 non-null  float64\n",
      " 51  Attr52  10417 non-null  float64\n",
      " 52  Attr53  10275 non-null  float64\n",
      " 53  Attr54  10275 non-null  float64\n",
      " 54  Attr55  10503 non-null  float64\n",
      " 55  Attr56  10460 non-null  float64\n",
      " 56  Attr57  10503 non-null  float64\n",
      " 57  Attr58  10474 non-null  float64\n",
      " 58  Attr59  10503 non-null  float64\n",
      " 59  Attr60  9911 non-null   float64\n",
      " 60  Attr61  10486 non-null  float64\n",
      " 61  Attr62  10460 non-null  float64\n",
      " 62  Attr63  10485 non-null  float64\n",
      " 63  Attr64  10275 non-null  float64\n",
      " 64  class   10503 non-null  object \n",
      "dtypes: float64(64), object(1)\n",
      "memory usage: 5.3+ MB\n"
     ]
    }
   ],
   "source": [
    "df.info()"
   ]
  },
  {
   "cell_type": "code",
   "execution_count": 6,
   "metadata": {},
   "outputs": [],
   "source": [
    "df.dropna(inplace=True)"
   ]
  },
  {
   "cell_type": "code",
   "execution_count": 7,
   "metadata": {},
   "outputs": [
    {
     "data": {
      "text/plain": [
       "(4885, 65)"
      ]
     },
     "execution_count": 7,
     "metadata": {},
     "output_type": "execute_result"
    }
   ],
   "source": [
    "df.shape"
   ]
  },
  {
   "cell_type": "code",
   "execution_count": 8,
   "metadata": {
    "colab": {},
    "colab_type": "code",
    "id": "huMAVxxmCfkT",
    "outputId": "4b3f73b9-86c4-4053-f80d-995ab06a89e6"
   },
   "outputs": [],
   "source": [
    "X = df.drop(['class'], axis=1)\n",
    "y = df['class']"
   ]
  },
  {
   "cell_type": "code",
   "execution_count": 9,
   "metadata": {},
   "outputs": [
    {
     "data": {
      "text/plain": [
       "b'0'    0.978096\n",
       "b'1'    0.021904\n",
       "Name: class, dtype: float64"
      ]
     },
     "execution_count": 9,
     "metadata": {},
     "output_type": "execute_result"
    }
   ],
   "source": [
    "y.value_counts(normalize=True)"
   ]
  },
  {
   "cell_type": "code",
   "execution_count": 10,
   "metadata": {},
   "outputs": [
    {
     "data": {
      "image/png": "[encoded data removed]",
      "text/plain": [
       "<Figure size 640x480 with 1 Axes>"
      ]
     },
     "metadata": {},
     "output_type": "display_data"
    }
   ],
   "source": [
    "import seaborn as sns\n",
    "import matplotlib.pyplot as plt\n",
    "\n",
    "sns.countplot(x = df['class'])\n",
    "plt.show()"
   ]
  },
  {
   "cell_type": "code",
   "execution_count": 11,
   "metadata": {},
   "outputs": [],
   "source": [
    "from sklearn.preprocessing import LabelEncoder"
   ]
  },
  {
   "cell_type": "code",
   "execution_count": 12,
   "metadata": {},
   "outputs": [],
   "source": [
    "enc = LabelEncoder()\n",
    "\n",
    "y = enc.fit_transform(df['class'])"
   ]
  },
  {
   "cell_type": "markdown",
   "metadata": {},
   "source": [
    "### Ejercicio 2\n",
    "1) Realizar un split en Train y Test, dejando un 20% para test  \n",
    "2) crear un generador de CV utilizando: `cv = StratifiedKFold(n_splits=5, random_state=41, shuffle=True)` para luego pasarselo tanto a `GridSearchCV` como a `cross_val_score`\n"
   ]
  },
  {
   "cell_type": "code",
   "execution_count": 13,
   "metadata": {
    "colab": {},
    "colab_type": "code",
    "id": "1NbebhB0Cfkd"
   },
   "outputs": [],
   "source": [
    "from sklearn.model_selection import train_test_split\n",
    "from sklearn.model_selection import StratifiedKFold, GridSearchCV, cross_val_score, RandomizedSearchCV\n",
    "from sklearn.ensemble import GradientBoostingClassifier\n",
    "\n",
    "X_train, X_test, y_train, y_test = train_test_split(X, y, stratify = y, random_state = 1203, test_size = 0.2)"
   ]
  },
  {
   "cell_type": "code",
   "execution_count": 14,
   "metadata": {
    "colab": {},
    "colab_type": "code",
    "id": "14_X-cEfCfkn"
   },
   "outputs": [],
   "source": [
    "kfold = StratifiedKFold(n_splits=5, shuffle=True, random_state=1203)\n"
   ]
  },
  {
   "cell_type": "code",
   "execution_count": 15,
   "metadata": {},
   "outputs": [],
   "source": [
    "gbclf = GradientBoostingClassifier()"
   ]
  },
  {
   "cell_type": "code",
   "execution_count": 16,
   "metadata": {},
   "outputs": [],
   "source": [
    "params = {'n_estimators':[1000] , \n",
    "          'learning_rate':[0.1, 0.3],\n",
    "          'max_depth' : [3, 5]}"
   ]
  },
  {
   "cell_type": "code",
   "execution_count": 17,
   "metadata": {},
   "outputs": [],
   "source": [
    "gs = GridSearchCV(gbclf ,param_grid=params, n_jobs=-1, cv=kfold, scoring='f1')"
   ]
  },
  {
   "cell_type": "code",
   "execution_count": 18,
   "metadata": {},
   "outputs": [
    {
     "data": {
      "text/plain": [
       "GridSearchCV(cv=StratifiedKFold(n_splits=5, random_state=1203, shuffle=True),\n",
       "             estimator=GradientBoostingClassifier(), n_jobs=-1,\n",
       "             param_grid={'learning_rate': [0.1, 0.3], 'max_depth': [3, 5],\n",
       "                         'n_estimators': [1000]},\n",
       "             scoring='f1')"
      ]
     },
     "execution_count": 18,
     "metadata": {},
     "output_type": "execute_result"
    }
   ],
   "source": [
    "gs.fit(X_train, y_train)"
   ]
  },
  {
   "cell_type": "code",
   "execution_count": 19,
   "metadata": {},
   "outputs": [],
   "source": [
    "best_gbclf=gs.best_estimator_"
   ]
  },
  {
   "cell_type": "code",
   "execution_count": 20,
   "metadata": {},
   "outputs": [
    {
     "data": {
      "text/plain": [
       "GradientBoostingClassifier(n_estimators=1000)"
      ]
     },
     "execution_count": 20,
     "metadata": {},
     "output_type": "execute_result"
    }
   ],
   "source": [
    "best_gbclf.fit(X_train, y_train)"
   ]
  },
  {
   "cell_type": "code",
   "execution_count": 21,
   "metadata": {},
   "outputs": [
    {
     "data": {
      "text/plain": [
       "array([0.19047619, 0.1       , 0.08695652, 0.16666667, 0.27272727])"
      ]
     },
     "execution_count": 21,
     "metadata": {},
     "output_type": "execute_result"
    }
   ],
   "source": [
    "cv_score_train = cross_val_score(best_gbclf, X_train, y_train, cv=kfold, n_jobs=-1, scoring='f1')\n",
    "cv_score_train"
   ]
  },
  {
   "cell_type": "code",
   "execution_count": 22,
   "metadata": {},
   "outputs": [
    {
     "data": {
      "text/plain": [
       "0.16336533032185205"
      ]
     },
     "execution_count": 22,
     "metadata": {},
     "output_type": "execute_result"
    }
   ],
   "source": [
    "cv_score_train.mean()"
   ]
  },
  {
   "cell_type": "code",
   "execution_count": 23,
   "metadata": {},
   "outputs": [
    {
     "data": {
      "text/plain": [
       "0.24"
      ]
     },
     "execution_count": 23,
     "metadata": {},
     "output_type": "execute_result"
    }
   ],
   "source": [
    "from sklearn.metrics import f1_score\n",
    "\n",
    "f1_score_test = f1_score(y_test, best_gbclf.predict(X_test))\n",
    "f1_score_test"
   ]
  },
  {
   "cell_type": "code",
   "execution_count": 24,
   "metadata": {},
   "outputs": [],
   "source": [
    "from sklearn.dummy import DummyClassifier\n",
    "from sklearn.metrics import accuracy_score,confusion_matrix, classification_report"
   ]
  },
  {
   "cell_type": "code",
   "execution_count": 25,
   "metadata": {},
   "outputs": [],
   "source": [
    "dmclf = DummyClassifier(strategy='most_frequent').fit(X_train, y_train)"
   ]
  },
  {
   "cell_type": "code",
   "execution_count": 26,
   "metadata": {},
   "outputs": [
    {
     "name": "stdout",
     "output_type": "stream",
     "text": [
      "              precision    recall  f1-score   support\n",
      "\n",
      "           0       0.98      1.00      0.99       956\n",
      "           1       0.00      0.00      0.00        21\n",
      "\n",
      "    accuracy                           0.98       977\n",
      "   macro avg       0.49      0.50      0.49       977\n",
      "weighted avg       0.96      0.98      0.97       977\n",
      "\n"
     ]
    },
    {
     "name": "stderr",
     "output_type": "stream",
     "text": [
      "/Users/csuarezgurruchaga/opt/anaconda3/envs/dhdsblend2021/lib/python3.8/site-packages/sklearn/metrics/_classification.py:1221: UndefinedMetricWarning: Precision and F-score are ill-defined and being set to 0.0 in labels with no predicted samples. Use `zero_division` parameter to control this behavior.\n",
      "  _warn_prf(average, modifier, msg_start, len(result))\n"
     ]
    }
   ],
   "source": [
    "# Classification Report de Dummie Classifier\n",
    "print(classification_report(y_test, dmclf.predict(X_test)))"
   ]
  },
  {
   "cell_type": "code",
   "execution_count": 27,
   "metadata": {},
   "outputs": [
    {
     "name": "stdout",
     "output_type": "stream",
     "text": [
      "              precision    recall  f1-score   support\n",
      "\n",
      "           0       0.98      1.00      0.99       956\n",
      "           1       0.75      0.14      0.24        21\n",
      "\n",
      "    accuracy                           0.98       977\n",
      "   macro avg       0.87      0.57      0.62       977\n",
      "weighted avg       0.98      0.98      0.97       977\n",
      "\n"
     ]
    }
   ],
   "source": [
    "# Classification Report de gradient boost classfier\n",
    "print(classification_report(y_test, best_gbclf.predict(X_test)))"
   ]
  },
  {
   "cell_type": "code",
   "execution_count": 28,
   "metadata": {},
   "outputs": [
    {
     "data": {
      "text/plain": [
       "0    973\n",
       "1      4\n",
       "dtype: int64"
      ]
     },
     "execution_count": 28,
     "metadata": {},
     "output_type": "execute_result"
    }
   ],
   "source": [
    "pd.Series(best_gbclf.predict(X_test)).value_counts()"
   ]
  },
  {
   "cell_type": "code",
   "execution_count": 29,
   "metadata": {},
   "outputs": [
    {
     "data": {
      "text/plain": [
       "array([[955,   1],\n",
       "       [ 18,   3]])"
      ]
     },
     "execution_count": 29,
     "metadata": {},
     "output_type": "execute_result"
    }
   ],
   "source": [
    "#Matriz de confusion de Gradient Booost classifier\n",
    "\n",
    "confusion_matrix(y_test, best_gbclf.predict(X_test))"
   ]
  },
  {
   "cell_type": "code",
   "execution_count": 30,
   "metadata": {},
   "outputs": [
    {
     "data": {
      "text/plain": [
       "array([[956,   0],\n",
       "       [ 21,   0]])"
      ]
     },
     "execution_count": 30,
     "metadata": {},
     "output_type": "execute_result"
    }
   ],
   "source": [
    "#Matriz de confusion de Dummie Classifier\n",
    "\n",
    "confusion_matrix(y_test,  dmclf.predict(X_test))"
   ]
  },
  {
   "cell_type": "markdown",
   "metadata": {
    "colab_type": "text",
    "id": "xrkS4Qa6Cfng"
   },
   "source": [
    "### Ejercicio 3: Xgboost\n",
    "1) Importar el clasificador `XGBoost` del módulo `xgboost.sklearn` que nos provee clases y métodos aceptados por la API de sklearn. La clase que contiene este clasificador se llama XGBClassifier\n"
   ]
  },
  {
   "cell_type": "code",
   "execution_count": 77,
   "metadata": {
    "colab": {},
    "colab_type": "code",
    "id": "Gmhx9Sy1Cfnk"
   },
   "outputs": [],
   "source": [
    "from xgboost.sklearn import XGBClassifier\n"
   ]
  },
  {
   "cell_type": "markdown",
   "metadata": {
    "colab_type": "text",
    "id": "R6tDIBUkCfnt"
   },
   "source": [
    "2) Utilizando el siguiente diccionario de parametros, optimizar los hiperparámetros.  \n",
    "3) Imprimir en pantalla la mejor selección de hiperparámetros"
   ]
  },
  {
   "cell_type": "code",
   "execution_count": 78,
   "metadata": {
    "colab": {},
    "colab_type": "code",
    "id": "cBQxwRbgCfny"
   },
   "outputs": [],
   "source": [
    "from sklearn.model_selection import GridSearchCV,StratifiedKFold \n",
    "\n",
    "params = {  \n",
    "    \"n_estimators\": [50,100,500],      # Number of boosted trees to fit.\n",
    "    \"max_depth\": [1,2,3,4],            # Maximum tree depth for base learners.\n",
    "    \"learning_rate\": [0.01, 0.1],      # Boosting learning rate (xgb’s “eta”)\n",
    "}\n",
    "cv = StratifiedKFold(n_splits = 5 , shuffle = True, random_state = 1203)\n",
    "xgb = XGBClassifier(scale_pos_weight = 194) # 972/5 me da la relacion de desbalanceo, \n",
    "                                            # siempre sobre la clase positiva trabaja"
   ]
  },
  {
   "cell_type": "code",
   "execution_count": 79,
   "metadata": {},
   "outputs": [
    {
     "name": "stderr",
     "output_type": "stream",
     "text": [
      "/Users/csuarezgurruchaga/opt/anaconda3/envs/dhdsblend2021/lib/python3.8/site-packages/xgboost/sklearn.py:1224: UserWarning: The use of label encoder in XGBClassifier is deprecated and will be removed in a future release. To remove this warning, do the following: 1) Pass option use_label_encoder=False when constructing XGBClassifier object; and 2) Encode your labels (y) as integers starting with 0, i.e. 0, 1, 2, ..., [num_class - 1].\n",
      "  warnings.warn(label_encoder_deprecation_msg, UserWarning)\n"
     ]
    },
    {
     "name": "stdout",
     "output_type": "stream",
     "text": [
      "[14:22:10] WARNING: ../src/learner.cc:1115: Starting in XGBoost 1.3.0, the default evaluation metric used with the objective 'binary:logistic' was changed from 'error' to 'logloss'. Explicitly set eval_metric if you'd like to restore the old behavior.\n"
     ]
    }
   ],
   "source": [
    "gsearch = GridSearchCV(xgb, params, scoring='f1', n_jobs=-1, cv=cv).fit(X_train, y_train)"
   ]
  },
  {
   "cell_type": "code",
   "execution_count": 80,
   "metadata": {
    "colab": {},
    "colab_type": "code",
    "id": "IevW3viRCfn-",
    "outputId": "d1b30fc4-d0d6-4f87-fe2f-94ae5c424d28"
   },
   "outputs": [],
   "source": [
    "best_xgb = gsearch.best_estimator_"
   ]
  },
  {
   "cell_type": "markdown",
   "metadata": {
    "colab": {},
    "colab_type": "code",
    "id": "TWN_SYVkCfoM"
   },
   "source": [
    "5) Evaluar el rendimiento del estimador optimo, utilizando cross validation.  \n",
    "(pasarle como argumento cv el generador de CV splits del creado en el punto 3)  \n",
    "**nota:** ver función evaluar_rendimiento() utilizada en la notebook `2-Boosting_Practica.ipynb`"
   ]
  },
  {
   "cell_type": "code",
   "execution_count": 81,
   "metadata": {
    "colab": {},
    "colab_type": "code",
    "id": "CoC30kJgCfoW",
    "outputId": "32a88e44-2471-4b9a-96f7-8294535dd7dc"
   },
   "outputs": [
    {
     "name": "stdout",
     "output_type": "stream",
     "text": [
      "[0.32       0.41666667 0.2962963  0.28571429 0.37037037] \n",
      "\n",
      "0.3378095238095238 \n",
      "\n",
      "Desvio std de:  0.04905731084647296\n"
     ]
    }
   ],
   "source": [
    "score_train = cross_val_score(best_xgb, X_train, y_train, cv=cv, n_jobs=-1, scoring='f1')\n",
    "print(score_train,'\\n')\n",
    "print(score_train.mean(),'\\n')\n",
    "print('Desvio std de: ',score_train.std())"
   ]
  },
  {
   "cell_type": "code",
   "execution_count": 82,
   "metadata": {},
   "outputs": [
    {
     "data": {
      "text/plain": [
       "0.4615384615384615"
      ]
     },
     "execution_count": 82,
     "metadata": {},
     "output_type": "execute_result"
    }
   ],
   "source": [
    "score_test = f1_score(y_test, best_xgb.predict(X_test))\n",
    "score_test"
   ]
  },
  {
   "cell_type": "code",
   "execution_count": 83,
   "metadata": {},
   "outputs": [
    {
     "data": {
      "text/plain": [
       "0.9785056294779939"
      ]
     },
     "execution_count": 83,
     "metadata": {},
     "output_type": "execute_result"
    }
   ],
   "source": [
    "# Dataset desbalanceado, no me guio\n",
    "accuracy_score(y_test, best_xgb.predict(X_test))"
   ]
  },
  {
   "cell_type": "markdown",
   "metadata": {},
   "source": [
    "6) utilizando roc_auc_score de la libreria sklearn.metrics, determinar el valor del ROC."
   ]
  },
  {
   "cell_type": "code",
   "execution_count": 84,
   "metadata": {
    "colab": {},
    "colab_type": "code",
    "id": "iSPh4BliCfob",
    "outputId": "bbcae194-4930-4247-85de-2a8dfa40e9b1"
   },
   "outputs": [
    {
     "data": {
      "text/plain": [
       "0.7095786013150029"
      ]
     },
     "execution_count": 84,
     "metadata": {},
     "output_type": "execute_result"
    }
   ],
   "source": [
    "from sklearn.metrics import roc_auc_score\n",
    "\n",
    "roc_auc_score(y_test, best_xgb.predict(X_test))\n"
   ]
  },
  {
   "cell_type": "markdown",
   "metadata": {
    "colab_type": "text",
    "id": "9ccsI2ZnCfog"
   },
   "source": [
    "7) utilizando plot_roc de la libreria sklearn.metrics, graficamos la curva ROC por clase"
   ]
  },
  {
   "cell_type": "code",
   "execution_count": 85,
   "metadata": {
    "colab": {},
    "colab_type": "code",
    "id": "ttPIpN_iCfoj",
    "outputId": "bddf28c8-dc31-4df9-a2e2-4b79c73ae726"
   },
   "outputs": [
    {
     "data": {
      "text/plain": [
       "<Figure size 1080x576 with 0 Axes>"
      ]
     },
     "metadata": {},
     "output_type": "display_data"
    },
    {
     "data": {
      "image/png": "[encoded data removed]",
      "text/plain": [
       "<Figure size 432x288 with 1 Axes>"
      ]
     },
     "metadata": {
      "needs_background": "light"
     },
     "output_type": "display_data"
    }
   ],
   "source": [
    "from scikitplot.metrics import plot_roc\n",
    "%matplotlib inline\n",
    "plt.show()\n",
    "plt.figure(figsize=(15,8))\n",
    "\n",
    "plot_roc(y_test, best_xgb.predict_proba(X_test), plot_micro = False, plot_macro= False);\n"
   ]
  },
  {
   "cell_type": "markdown",
   "metadata": {},
   "source": [
    "### BONUS: \n",
    "graficar la importancia de los atributos del estimador optimizado.  \n",
    "\n",
    "https://machinelearningmastery.com/feature-importance-and-feature-selection-with-xgboost-in-python/"
   ]
  },
  {
   "cell_type": "code",
   "execution_count": 86,
   "metadata": {},
   "outputs": [
    {
     "data": {
      "text/plain": [
       "array([0.01386108, 0.00789424, 0.00556785, 0.02604259, 0.02369124,\n",
       "       0.03849015, 0.00178272, 0.00059861, 0.02226298, 0.00433808,\n",
       "       0.00840944, 0.01622468, 0.10417272, 0.        , 0.00423845,\n",
       "       0.00787611, 0.00050626, 0.        , 0.01885754, 0.01854504,\n",
       "       0.05619079, 0.01390542, 0.02288218, 0.01146513, 0.02798761,\n",
       "       0.0636465 , 0.01638079, 0.00133971, 0.01471137, 0.00222398,\n",
       "       0.01884378, 0.01788859, 0.00630138, 0.1070427 , 0.01727828,\n",
       "       0.02293576, 0.00733458, 0.00072386, 0.01836064, 0.003514  ,\n",
       "       0.01631043, 0.01568703, 0.02524587, 0.01628004, 0.01492371,\n",
       "       0.01190476, 0.01297348, 0.00678821, 0.00586671, 0.0165635 ,\n",
       "       0.00648408, 0.00489546, 0.0048415 , 0.00609052, 0.0035823 ,\n",
       "       0.00370001, 0.00839989, 0.01170946, 0.00698367, 0.        ,\n",
       "       0.00279358, 0.00978143, 0.0035336 , 0.01034391], dtype=float32)"
      ]
     },
     "execution_count": 86,
     "metadata": {},
     "output_type": "execute_result"
    }
   ],
   "source": [
    "best_xgb.feature_importances_"
   ]
  },
  {
   "cell_type": "code",
   "execution_count": 92,
   "metadata": {
    "colab": {},
    "colab_type": "code",
    "id": "ZIV1v9ukCfor",
    "outputId": "d3530218-f0ce-46b4-8924-8a07665718d9"
   },
   "outputs": [
    {
     "data": {
      "text/html": [
       "<div>\n",
       "<style scoped>\n",
       "    .dataframe tbody tr th:only-of-type {\n",
       "        vertical-align: middle;\n",
       "    }\n",
       "\n",
       "    .dataframe tbody tr th {\n",
       "        vertical-align: top;\n",
       "    }\n",
       "\n",
       "    .dataframe thead th {\n",
       "        text-align: right;\n",
       "    }\n",
       "</style>\n",
       "<table border=\"1\" class=\"dataframe\">\n",
       "  <thead>\n",
       "    <tr style=\"text-align: right;\">\n",
       "      <th></th>\n",
       "      <th>FEATURES</th>\n",
       "      <th>IMPORTANCIA</th>\n",
       "    </tr>\n",
       "  </thead>\n",
       "  <tbody>\n",
       "    <tr>\n",
       "      <th>33</th>\n",
       "      <td>Attr34</td>\n",
       "      <td>0.107043</td>\n",
       "    </tr>\n",
       "    <tr>\n",
       "      <th>12</th>\n",
       "      <td>Attr13</td>\n",
       "      <td>0.104173</td>\n",
       "    </tr>\n",
       "    <tr>\n",
       "      <th>25</th>\n",
       "      <td>Attr26</td>\n",
       "      <td>0.063646</td>\n",
       "    </tr>\n",
       "    <tr>\n",
       "      <th>20</th>\n",
       "      <td>Attr21</td>\n",
       "      <td>0.056191</td>\n",
       "    </tr>\n",
       "    <tr>\n",
       "      <th>5</th>\n",
       "      <td>Attr6</td>\n",
       "      <td>0.038490</td>\n",
       "    </tr>\n",
       "  </tbody>\n",
       "</table>\n",
       "</div>"
      ],
      "text/plain": [
       "   FEATURES  IMPORTANCIA\n",
       "33   Attr34     0.107043\n",
       "12   Attr13     0.104173\n",
       "25   Attr26     0.063646\n",
       "20   Attr21     0.056191\n",
       "5     Attr6     0.038490"
      ]
     },
     "execution_count": 92,
     "metadata": {},
     "output_type": "execute_result"
    }
   ],
   "source": [
    "pd.DataFrame({'FEATURES':X_train.columns, 'IMPORTANCIA':best_xgb.feature_importances_}).sort_values('IMPORTANCIA', ascending =False).head(5)"
   ]
  },
  {
   "cell_type": "code",
   "execution_count": 88,
   "metadata": {},
   "outputs": [
    {
     "data": {
      "image/png": "[encoded data removed]",
      "text/plain": [
       "<Figure size 432x288 with 1 Axes>"
      ]
     },
     "metadata": {
      "needs_background": "light"
     },
     "output_type": "display_data"
    }
   ],
   "source": [
    "from xgboost import plot_importance\n",
    "plot_importance(best_xgb, height = 0.8,max_num_features=5);"
   ]
  },
  {
   "cell_type": "code",
   "execution_count": null,
   "metadata": {},
   "outputs": [],
   "source": []
  }
 ],
 "metadata": {
  "colab": {
   "collapsed_sections": [],
   "name": "1.PRACTICA_GUIADA_XGBoost_LightGBM.ipynb",
   "provenance": [],
   "version": "0.3.2"
  },
  "kernelspec": {
   "display_name": "Python [conda env:dhdsblend2021] *",
   "language": "python",
   "name": "conda-env-dhdsblend2021-py"
  },
  "language_info": {
   "codemirror_mode": {
    "name": "ipython",
    "version": 3
   },
   "file_extension": ".py",
   "mimetype": "text/x-python",
   "name": "python",
   "nbconvert_exporter": "python",
   "pygments_lexer": "ipython3",
   "version": "3.8.11"
  }
 },
 "nbformat": 4,
 "nbformat_minor": 4
}
