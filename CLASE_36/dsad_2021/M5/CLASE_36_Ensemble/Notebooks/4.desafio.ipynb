{
 "cells": [
  {
   "cell_type": "code",
   "execution_count": 1,
   "id": "f4430b6d",
   "metadata": {},
   "outputs": [
    {
     "name": "stdout",
     "output_type": "stream",
     "text": [
      "/Users/csuarezgurruchaga/Desktop/Digital-House/CLASE_36/dsad_2021/common\n",
      "default checking\n",
      "Running command `conda list`... ok\n",
      "jupyterlab=2.2.6 already installed\n",
      "pandas=1.1.5 already installed\n",
      "bokeh=2.2.3 already installed\n",
      "seaborn=0.11.0 already installed\n",
      "matplotlib=3.3.2 already installed\n",
      "ipywidgets=7.5.1 already installed\n",
      "pytest=6.2.1 already installed\n",
      "chardet=4.0.0 already installed\n",
      "psutil=5.7.2 already installed\n",
      "scipy=1.5.2 already installed\n",
      "statsmodels=0.12.1 already installed\n",
      "scikit-learn=0.23.2 already installed\n",
      "xlrd=2.0.1 already installed\n",
      "Running command `conda install --yes nltk=3.5.0`... ok\n",
      "Collecting package metadata (current_repodata.json): ...working... done\n",
      "Solving environment: ...working... done\n",
      "\n",
      "# All requested packages already installed.\n",
      "\n",
      "\n",
      "unidecode=1.1.1 already installed\n",
      "pydotplus=2.0.2 already installed\n",
      "pandas-datareader=0.9.0 already installed\n",
      "flask=1.1.2 already installed\n"
     ]
    }
   ],
   "source": [
    "# initial setup\n",
    "%run \"../../../common/0_notebooks_base_setup.py\"\n"
   ]
  },
  {
   "cell_type": "markdown",
   "id": "63ce9922",
   "metadata": {},
   "source": [
    "---\n",
    "\n",
    "<img src='../../../common/logo_DH.png' align='left' width=35%/>\n"
   ]
  },
  {
   "cell_type": "markdown",
   "id": "d8ed31c3",
   "metadata": {},
   "source": [
    "# Modelos de Ensamble"
   ]
  },
  {
   "cell_type": "markdown",
   "id": "5bb3d9b8",
   "metadata": {},
   "source": [
    "## Introducción\n",
    "\n",
    "Usando el dataset Movie_classification, que vimos en la clase de CART, vamos a \n",
    "\n",
    "* Entrenar tres modelos base de clasificación, y construir a partir de ellos un ensamble para predecir el valor de la variable Start_Tech_Oscar usando predict_proba y AUC como métrica\n",
    "\n",
    "* Comparar la performance de los modelos base con la del modelo de ensamble, y con el resultado del checkpoint.\n"
   ]
  },
  {
   "cell_type": "markdown",
   "id": "93b1eac5",
   "metadata": {},
   "source": [
    "## Dataset\n",
    "\n",
    "En esta clase usaremos un dataset con info de películas (\"Movie_classification.csv\").  \n",
    "Este dataset esta conformado por los siguientes features:  \n",
    "\n",
    " *   **Marketing expense:**    (float64)    Gasto total en Marketing      \n",
    " *   **Production expense:**   (float64)    Gasto total de Producción\n",
    " *   **Multiplex coverage:**   (float64)    Cobertura promedio de Multiplex\n",
    " *   **Budget:**               (float64)    Presupuesto\n",
    " *   **Movie_length:**         (float64)    Duración de la película\n",
    " *   **Lead_ Actor_Rating:**   (float64)    Puntaje sobre el actor principal\n",
    " *   **Lead_Actress_rating:**  (float64)    Puntaje sobre la actriz principal\n",
    " *   **Director_rating:**      (float64)    Puntaje sobre el Director\n",
    " *   **Producer_rating:**      (float64)    Puntaje sobre el Productor\n",
    " *   **Critic_rating:**        (float64)    Puntaje que le puso la crítica\n",
    " *   **Trailer_views:**        (int64)      Cantidad de vistas del Trailer\n",
    " *   **3D_available:**         (object)     Si esta disponible en 3D (Yes/No)\n",
    " *   **Time_taken:**           (float64)    Duración de la película\n",
    " *   **Twitter_hastags:**      (float64)    Cantidad de menciones en twitter\n",
    " *   **Genre:**                (object)     Genero de la película\n",
    " *   **Avg_age_actors:**       (int64)      Edad promedio de los actores\n",
    " *   **Num_multiplex:**        (int64)      Cantidad de Multiplex\n",
    " *   **Collection:**           (int64)      Recaudación\n",
    " *   **Start_Tech_Oscar:**     (int64)      Si recibió un oscar o no.\n",
    " "
   ]
  },
  {
   "cell_type": "markdown",
   "id": "304c71ea",
   "metadata": {},
   "source": [
    "## Imports"
   ]
  },
  {
   "cell_type": "code",
   "execution_count": 2,
   "id": "ce35a09f",
   "metadata": {},
   "outputs": [],
   "source": [
    "import pandas as pd\n",
    "import numpy as np\n",
    "from sklearn.model_selection import train_test_split\n",
    "from sklearn.preprocessing import StandardScaler\n",
    "from sklearn.metrics import roc_auc_score, accuracy_score, confusion_matrix\n",
    "from sklearn.naive_bayes import GaussianNB\n",
    "from sklearn.neighbors import KNeighborsClassifier\n",
    "from sklearn import tree"
   ]
  },
  {
   "cell_type": "markdown",
   "id": "2d387571",
   "metadata": {},
   "source": [
    "## Ejercicio 1\n",
    "\n",
    "Leamos el dataset \"Movie_classification\", eliminemos los registros con valores faltantes y las features categóricas \"Genre\" y \"3D_available\""
   ]
  },
  {
   "cell_type": "code",
   "execution_count": null,
   "id": "7e46ffc1",
   "metadata": {},
   "outputs": [],
   "source": []
  },
  {
   "cell_type": "code",
   "execution_count": null,
   "id": "5c2c79fe",
   "metadata": {},
   "outputs": [],
   "source": []
  },
  {
   "cell_type": "code",
   "execution_count": null,
   "id": "4c688ccf",
   "metadata": {},
   "outputs": [],
   "source": []
  },
  {
   "cell_type": "code",
   "execution_count": null,
   "id": "c127eadb",
   "metadata": {},
   "outputs": [],
   "source": []
  },
  {
   "cell_type": "markdown",
   "id": "90cce13a",
   "metadata": {},
   "source": [
    "## Ejercicio 2\n",
    "\n",
    "Crear los conjuntos de train y test"
   ]
  },
  {
   "cell_type": "code",
   "execution_count": null,
   "id": "617bd22d",
   "metadata": {},
   "outputs": [],
   "source": []
  },
  {
   "cell_type": "markdown",
   "id": "466e7fec",
   "metadata": {},
   "source": [
    "## Ejercicio 3\n",
    "\n",
    "Estandarizar las features para los conjuntos de train y test"
   ]
  },
  {
   "cell_type": "code",
   "execution_count": null,
   "id": "1f9059bc",
   "metadata": {},
   "outputs": [],
   "source": []
  },
  {
   "cell_type": "markdown",
   "id": "121e75c3",
   "metadata": {},
   "source": [
    "## Ejercicio 4\n",
    "\n",
    "Entrenar un modelo Naive Bayes para predecir el valor de \"Start_Tech_Oscar\".\n",
    "\n",
    "Evaluar su perfomance en test mediante AUC.\n"
   ]
  },
  {
   "cell_type": "code",
   "execution_count": null,
   "id": "407bad83",
   "metadata": {},
   "outputs": [],
   "source": []
  },
  {
   "cell_type": "code",
   "execution_count": null,
   "id": "5b263dfa",
   "metadata": {},
   "outputs": [],
   "source": []
  },
  {
   "cell_type": "markdown",
   "id": "4bb43918",
   "metadata": {},
   "source": [
    "## Ejercicio 5\n",
    "\n",
    "Entrenar un modelo KNN para predecir el valor de \"Start_Tech_Oscar\".\n",
    "\n",
    "Evaluar su perfomance en test mediante AUC.\n"
   ]
  },
  {
   "cell_type": "code",
   "execution_count": null,
   "id": "6e0dbd90",
   "metadata": {},
   "outputs": [],
   "source": []
  },
  {
   "cell_type": "code",
   "execution_count": null,
   "id": "bb3e2480",
   "metadata": {},
   "outputs": [],
   "source": []
  },
  {
   "cell_type": "markdown",
   "id": "24bc28d8",
   "metadata": {},
   "source": [
    "## Ejercicio 6\n",
    "\n",
    "Entrenar unárbol de clasificación para predecir el valor de \"Start_Tech_Oscar\".\n",
    "\n",
    "Evaluar su perfomance en test mediante la matriz de confusión.\n"
   ]
  },
  {
   "cell_type": "code",
   "execution_count": null,
   "id": "a2d092fc",
   "metadata": {},
   "outputs": [],
   "source": []
  },
  {
   "cell_type": "code",
   "execution_count": null,
   "id": "f8485863",
   "metadata": {},
   "outputs": [],
   "source": []
  },
  {
   "cell_type": "markdown",
   "id": "09ffbfc8",
   "metadata": {},
   "source": [
    "## Ejercicio 7\n",
    "\n",
    "\n",
    "Construir un modelo de ensamble usando como modelos base los tres modelos anteriores.\n",
    "\n",
    "Para esto, escribir la función `predict_proba_ensamble` que calcule la probabilidad de 1 como el promedio de las probabilidades respuesta de los predictores base\n",
    "\n",
    "Evaluar la performance del ensamble (usando como umbral 0.5) mediante\n",
    "\n",
    "* AUC\n",
    "\n",
    "* accuracy\n",
    "\n",
    "* confusion_matrix\n",
    "\n",
    "\n",
    "Comparar estos resultados con los obtenidos en el ejercicio 7 del checkpoint.\n"
   ]
  },
  {
   "cell_type": "code",
   "execution_count": null,
   "id": "128b242b",
   "metadata": {},
   "outputs": [],
   "source": []
  },
  {
   "cell_type": "code",
   "execution_count": null,
   "id": "d77f292e",
   "metadata": {},
   "outputs": [],
   "source": []
  },
  {
   "cell_type": "code",
   "execution_count": null,
   "id": "91625887",
   "metadata": {},
   "outputs": [],
   "source": []
  },
  {
   "cell_type": "markdown",
   "id": "aad9d87b",
   "metadata": {},
   "source": [
    "## Opcional:\n",
    "\n",
    "¿Pueden mejorar el valor de accuracy del ensamble usando otro valor (distinto de 0.5) para el umbral? \n",
    "\n",
    "¿Qué pasa con la matriz de confusión cuando mejora el valor de accuracy?\n",
    "\n",
    "Pueden hacer la prueba en un ciclo for con distintos valores de threshold, o usar roc_curve (https://scikit-learn.org/stable/modules/generated/sklearn.metrics.roc_curve.html) para intentar responder."
   ]
  },
  {
   "cell_type": "code",
   "execution_count": null,
   "id": "6aeb417f",
   "metadata": {},
   "outputs": [],
   "source": []
  }
 ],
 "metadata": {
  "kernelspec": {
   "display_name": "Python [conda env:dhdsblend2021] *",
   "language": "python",
   "name": "conda-env-dhdsblend2021-py"
  },
  "language_info": {
   "codemirror_mode": {
    "name": "ipython",
    "version": 3
   },
   "file_extension": ".py",
   "mimetype": "text/x-python",
   "name": "python",
   "nbconvert_exporter": "python",
   "pygments_lexer": "ipython3",
   "version": "3.8.11"
  }
 },
 "nbformat": 4,
 "nbformat_minor": 5
}
