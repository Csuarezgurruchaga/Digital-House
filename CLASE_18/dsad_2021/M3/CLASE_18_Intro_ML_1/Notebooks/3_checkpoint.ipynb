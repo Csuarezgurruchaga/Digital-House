{
 "cells": [
  {
   "cell_type": "code",
   "execution_count": 1,
   "metadata": {},
   "outputs": [
    {
     "name": "stdout",
     "output_type": "stream",
     "text": [
      "/Users/csuarezgurruchaga/Desktop/Digital-House/CLASE_18/dsad_2021/common\n",
      "default checking\n",
      "Running command `conda list`... ok\n",
      "jupyterlab=2.2.6 already installed\n",
      "pandas=1.1.5 already installed\n",
      "bokeh=2.2.3 already installed\n",
      "seaborn=0.11.0 already installed\n",
      "matplotlib=3.3.2 already installed\n",
      "ipywidgets=7.5.1 already installed\n",
      "pytest=6.2.1 already installed\n",
      "chardet=4.0.0 already installed\n",
      "psutil=5.7.2 already installed\n",
      "scipy=1.5.2 already installed\n",
      "statsmodels=0.12.1 already installed\n",
      "scikit-learn=0.23.2 already installed\n",
      "xlrd=2.0.1 already installed\n",
      "Running command `conda install --yes nltk=3.5.0`... ok\n",
      "Collecting package metadata (current_repodata.json): ...working... done\n",
      "Solving environment: ...working... done\n",
      "\n",
      "# All requested packages already installed.\n",
      "\n",
      "\n",
      "unidecode=1.1.1 already installed\n",
      "pydotplus=2.0.2 already installed\n",
      "pandas-datareader=0.9.0 already installed\n",
      "flask=1.1.2 already installed\n"
     ]
    }
   ],
   "source": [
    "# initial setup\n",
    "%run \"../../../common/0_notebooks_base_setup.py\"    "
   ]
  },
  {
   "cell_type": "markdown",
   "metadata": {},
   "source": [
    "---\n",
    "\n",
    "<img src='../../../common/logo_DH.png' align='left' width=35%/>\n"
   ]
  },
  {
   "cell_type": "markdown",
   "metadata": {},
   "source": [
    "# Introduccion a Machine Learning I\n",
    "\n",
    "---"
   ]
  },
  {
   "cell_type": "markdown",
   "metadata": {},
   "source": [
    "En esta práctica vamos a presentar preguntas para que desarrollen en forma concisa las respuestas."
   ]
  },
  {
   "cell_type": "markdown",
   "metadata": {},
   "source": [
    "## Pregunta 1\n",
    "\n",
    "Cual es la diferencia principal entre un modelo de aprendizaje supervisado y uno no supervisado?"
   ]
  },
  {
   "cell_type": "markdown",
   "metadata": {},
   "source": [
    "### Respuesta\n",
    "\n",
    "La presencia del vector TARGET\n"
   ]
  },
  {
   "cell_type": "markdown",
   "metadata": {},
   "source": [
    "## Pregunta 2\n",
    "\n",
    "Que tipos de problemas se resuelven con modelos de clasificación y cuáles con modelos de regresión?"
   ]
  },
  {
   "cell_type": "markdown",
   "metadata": {},
   "source": [
    "### Respuesta\n",
    "\n",
    "Los que tienen un vector TARGET, de tipo CATEGORICO, y con regresion los que son con tipo CONTINUO"
   ]
  },
  {
   "cell_type": "markdown",
   "metadata": {},
   "source": [
    "## Pregunta 3\n",
    "\n",
    "Por qué es necesario hacer un análisis exploratorio de los datos antes de construir un modelo?"
   ]
  },
  {
   "cell_type": "markdown",
   "metadata": {},
   "source": [
    "### Respuesta\n",
    "\n",
    "* Necesitamos saber si todos los registros están completos, y si no, como completarlos o eliminarlos.\n",
    "\n",
    "* Para conocer qué tipo de pregunta podemos contestar. Por ejemplo, si se puede predecir el valor de una variable continua, o de una categoria (dependiendo de cual sea la variable target).\n",
    "\n",
    "* Para ver entre los modelos disponibles cuáles se pueden usar para responder las preguntas.\n"
   ]
  },
  {
   "cell_type": "markdown",
   "metadata": {},
   "source": [
    "## Pregunta 4\n",
    "\n",
    "Por qué es importante separar entrenamiento y testing?"
   ]
  },
  {
   "cell_type": "markdown",
   "metadata": {},
   "source": [
    "### Respuesta\n",
    "\n",
    "Para poder ver como generaliza el modelo, si lo hace correctamente o no (VALIDAR EL MODELO). Que puede deberse a Overfitting o Underfitting, por el dilema sesgo varianza"
   ]
  },
  {
   "cell_type": "markdown",
   "metadata": {},
   "source": [
    "## Pregunta 5\n",
    "\n",
    "Sobre qué conjunto de datos se evalúa el punto 6 de la metodología de trabajo?"
   ]
  },
  {
   "cell_type": "markdown",
   "metadata": {},
   "source": [
    "### Respuesta\n",
    "\n",
    "Utilizando el modelo, con Xtest como Fetures y ytest como las variables objetivo"
   ]
  },
  {
   "cell_type": "markdown",
   "metadata": {},
   "source": [
    "## Pregunta 6\n",
    "\n",
    "Determinar que valor de sesgo y varianza tienen cada uno de estos graficos.\n",
    "\n",
    "<img src=\"img/M3_CLASE_18_chk_001.PNG\" align=\"center\" width=40% height=25%/>"
   ]
  },
  {
   "cell_type": "markdown",
   "metadata": {},
   "source": [
    "### Respuesta\n",
    "\n",
    "El primer grafico, pareceria tratarse del caso de un modelo que generaliza mal debido a Underfitting, se caracteriza por tener un alto cesgo y baja varianza.\n",
    "El segundo grafico, parece tratarse del caso de un modelo de regresion linea multiple, el cual generaliza bastante bien los datos.\n",
    "El tercer grafico, parece tratarse del caso de un modelo que generaliza mal, debido a Overfitting, modelo con alta flexibilidad, parece haber aprendido con sumo detalle la relacion entre Xtrain e Ytrain, pero no generaliza bien. Estos casos suelen tener un pequeño cesgo, pero alta varianza."
   ]
  },
  {
   "cell_type": "markdown",
   "metadata": {},
   "source": [
    "## Pregunta 7\n",
    "\n",
    "Dados varios modelos entrenados que resuelven el mismo problema, cómo decidirian cuál usar?"
   ]
  },
  {
   "cell_type": "markdown",
   "metadata": {},
   "source": [
    "### Respuesta\n",
    "\n",
    "Eligiria el que tenga mejor performance, el que generalice de mejor manera de todos, el dataset de TEST."
   ]
  },
  {
   "cell_type": "markdown",
   "metadata": {},
   "source": [
    "## Pregunta 8\n",
    "\n",
    "Menciona algún uso común de cross validation."
   ]
  },
  {
   "cell_type": "markdown",
   "metadata": {},
   "source": [
    "### Respuesta\n",
    "\n"
   ]
  },
  {
   "cell_type": "code",
   "execution_count": null,
   "metadata": {},
   "outputs": [],
   "source": []
  }
 ],
 "metadata": {
  "kernelspec": {
   "display_name": "Python 3",
   "language": "python",
   "name": "python3"
  },
  "language_info": {
   "codemirror_mode": {
    "name": "ipython",
    "version": 3
   },
   "file_extension": ".py",
   "mimetype": "text/x-python",
   "name": "python",
   "nbconvert_exporter": "python",
   "pygments_lexer": "ipython3",
   "version": "3.8.11"
  }
 },
 "nbformat": 4,
 "nbformat_minor": 4
}
