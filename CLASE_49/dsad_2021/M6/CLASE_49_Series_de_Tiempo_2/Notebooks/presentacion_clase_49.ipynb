{
 "cells": [
  {
   "cell_type": "code",
   "execution_count": 315,
   "metadata": {
    "slideshow": {
     "slide_type": "skip"
    }
   },
   "outputs": [],
   "source": [
    "# initial setup\n",
    "##%run \"../../../common/0_notebooks_base_setup.py\"\n"
   ]
  },
  {
   "cell_type": "markdown",
   "metadata": {
    "slideshow": {
     "slide_type": "slide"
    }
   },
   "source": [
    "<link rel=\"stylesheet\" href=\"../../../common/dhds.css\">\n",
    "<div class=\"Table\">\n",
    "    <div class=\"Row\">\n",
    "        <div class=\"Cell grey left\"> <img src=\"https://raw.githubusercontent.com/Digital-House-DATA/ds_blend_2021_img/master/M6/CLASE_49_Series_de_Tiempo_2/Presentacion/img/M6_CLASE_49_portada.jpg\" align=\"center\" width=\"70%\"/></div>\n",
    "        <div class=\"Cell right\">\n",
    "            <div class=\"div-logo\"><img src=\"https://raw.githubusercontent.com/Digital-House-DATA/ds_blend_2021_img/master/common/logo_DH.png\" align=\"center\" width=70% /></div>\n",
    "            <div class=\"div-curso\">DATA SCIENCE</div>\n",
    "            <div class=\"div-modulo\">MÓDULO 6</div>\n",
    "            <div class=\"div-contenido\">Series de Tiempo 2\n",
    "\n",
    "</div>\n",
    "        </div>\n",
    "    </div>\n",
    "</div>"
   ]
  },
  {
   "cell_type": "markdown",
   "metadata": {
    "slideshow": {
     "slide_type": "slide"
    }
   },
   "source": [
    "### Agenda\n",
    "\n",
    "---\n",
    "   - Series Estacionarias.\n",
    "      - Componentes.\n",
    "      - Diferenciación\n",
    "      - Test de Dickey-Fuller Aumentado (ADF)\n",
    "---      \n",
    "   - ARIMA.\n",
    "      - Modelo Auto-Regresivo AR(p)\n",
    "      - Modelo de Media Movil MA(q)\n",
    "      - Modelo ARIMA sin estacionalidad\n",
    "      - Estimación parámetros p y q\n"
   ]
  },
  {
   "cell_type": "markdown",
   "metadata": {
    "slideshow": {
     "slide_type": "slide"
    }
   },
   "source": [
    "<div class=\"div-dhds-fondo-1\"> Introducción\n",
    "<img src=\"https://raw.githubusercontent.com/Digital-House-DATA/ds_blend_2021_img/master/M3/CLASE_21_Regresion_Lineal_Simple/Presentacion/img/M3_CLASE_21_separador.png\" align=\"center\" />\n",
    "\n",
    "</div>"
   ]
  },
  {
   "cell_type": "markdown",
   "metadata": {
    "slideshow": {
     "slide_type": "slide"
    }
   },
   "source": [
    "### Introducción\n",
    "\n",
    "---\n",
    "\n",
    "En esta clase vamos a trabajar con la **componente cíclica** de las series de tiempo. \n",
    "\n",
    "Recordemos la descomposición de una serie de tiempo:\n",
    "\n",
    "$$ y_t = T_t + S_t + C_t + \\varepsilon_t. $$\n",
    "\n",
    "donde T es la tendencia, S es la estacionalidad, C es el ciclo y $ \\varepsilon $ es el error aleatorio.\n",
    "\n",
    "<img src=\"https://raw.githubusercontent.com/Digital-House-DATA/ds_blend_2021_img/master/M6/CLASE_48_Series_de_Tiempo_1/Presentacion/img/M6_CLASE_48_002_componentes.jpg\" alt=\"componentes\" width=50% height=30% align=\"center\"/>"
   ]
  },
  {
   "cell_type": "markdown",
   "metadata": {
    "slideshow": {
     "slide_type": "subslide"
    }
   },
   "source": [
    "Por **ciclo** se entiende cualquier tipo de dinámica *no capturada por la tendencia o la estacionalidad*.\n",
    "\n",
    "Estamos ante la presencia de ciclos cuando observamos algún tipo de dinámica que *vincula al presente con el pasado*. No tiene por qué ser un ciclo rígido.\n",
    "\n",
    "Los ciclos son **más complejos** de analizar que la tendencia y la estacionalidad."
   ]
  },
  {
   "cell_type": "markdown",
   "metadata": {
    "slideshow": {
     "slide_type": "slide"
    }
   },
   "source": [
    "<div class=\"div-dhds-fondo-1\"> Series estacionarias\n",
    "<img src=\"https://raw.githubusercontent.com/Digital-House-DATA/ds_blend_2021_img/master/M3/CLASE_21_Regresion_Lineal_Simple/Presentacion/img/M3_CLASE_21_separador.png\" align=\"center\" />\n",
    "\n",
    "</div>"
   ]
  },
  {
   "cell_type": "markdown",
   "metadata": {
    "slideshow": {
     "slide_type": "slide"
    }
   },
   "source": [
    "### Introducción\n",
    "\n",
    "---\n",
    "Solamente podemos trabajar con ciclos si tenemos **series estacionarias**. \n",
    "\n",
    "En una serie estacionaria las *propiedades estadísticas del proceso* que las genera no cambian en el tiempo.\n",
    "\n",
    "Y estas propiedades nos permiten analizar y predecir las series de tiempo.\n",
    "\n",
    "<img src=\"https://raw.githubusercontent.com/Digital-House-DATA/ds_blend_2021_img/master/M6/CLASE_49_Series_de_Tiempo_2/Presentacion/img/M6_CLASE_49_001_estacionaria.png\" alt=\"estacionaria\" width=40% height=25% align=\"center\"/>"
   ]
  },
  {
   "cell_type": "markdown",
   "metadata": {
    "slideshow": {
     "slide_type": "subslide"
    }
   },
   "source": [
    "Recordemos nuevamente que por la definición de **ciclos**, las series con *tendencia o estacionalidad* no son estacionarias.\n",
    "\n",
    "<img src=\"https://raw.githubusercontent.com/Digital-House-DATA/ds_blend_2021_img/master/M6/CLASE_49_Series_de_Tiempo_2/Presentacion/img/M6_CLASE_49_002_estacionaria_ejemplos.png\" alt=\"estacionaria\" width=50% height=30% align=\"center\"/>\n",
    "\n",
    "Observemos que:\n",
    "- Los casos (d), (h) e (i) tienen estacionalidad. \n",
    "- Los casos (a), (c), (e), (f) e (i) tienen tendencia. \n",
    "- **Solo los casos** (b) and (g) son series estacionarias.\n",
    "\n",
    "El caso (g) parece *no estacionario*, pero sí lo es, ya que los ciclos *no se repiten a intervalos regulares*, son impredecibles."
   ]
  },
  {
   "cell_type": "markdown",
   "metadata": {
    "slideshow": {
     "slide_type": "slide"
    }
   },
   "source": [
    "### Definición\n",
    "\n",
    "---\n",
    "La idea de la definición de serie de tiempo estacionaria es que las medidas estadísticas  *permanezcan constantes o con mínimas variaciones*, independientemente del tiempo.\n",
    "\n",
    "Una **serie es estacionaria** (o bien estacionaria en sentido débil) si:\n",
    "\n",
    "$ 1)\\hspace{1cm}E(y_t) = \\mu,  \\forall t. $\n",
    "\n",
    "$ 2)\\hspace{1cm}Var(y_t) = \\gamma < \\infty,  \\forall t. $\n",
    "\n",
    "$ 3)\\hspace{1cm}Cov(y_t, y_{t-k}) = \\gamma_k < \\infty,  \\forall t,k. $\n",
    "\n",
    "\n",
    "1) Nos indica que *el promedio* es constante a lo largo del tiempo, es decir que no depende de t.\n",
    "\n",
    "2) La *varianza* debe ser un valor constante y finito para todo t.\n",
    "\n",
    "3) La *autocovarianza* es un valor constante. Es la covarianza de la variable contra sí misma en otros momentos del tiempo. Debe depender *solamente de la traslación k (los periodos que me muevo) y no del tiempo*.\n"
   ]
  },
  {
   "cell_type": "markdown",
   "metadata": {
    "slideshow": {
     "slide_type": "subslide"
    }
   },
   "source": [
    "Veamos algunos ejemplos donde se representa el valor constante de las medidas.\n",
    "\n",
    "Es decir, donde podemos observar **la estacionariedad** en la serie.\n",
    "\n",
    "<img src=\"https://raw.githubusercontent.com/Digital-House-DATA/ds_blend_2021_img/master/M6/CLASE_49_Series_de_Tiempo_2/Presentacion/img/M6_CLASE_49_003_estacionaria_ejemplos.png\" alt=\"estacionaria\" width=80% height=40% align=\"center\"/>"
   ]
  },
  {
   "cell_type": "markdown",
   "metadata": {
    "slideshow": {
     "slide_type": "slide"
    }
   },
   "source": [
    "### Diferenciación\n",
    "\n",
    "---"
   ]
  },
  {
   "cell_type": "markdown",
   "metadata": {
    "slideshow": {
     "slide_type": "fragment"
    }
   },
   "source": [
    "Existen procedimientos para **transformar** una serie no estacionaria en estacionaria.\n",
    "\n",
    "Una forma es *computar las diferencias* entre observaciones *separadas por un lag*, generalmente de 1, es decir consecutivas.\n",
    "\n",
    "Al proceso se lo llama **Diferenciación** (differencing).\n",
    "\n",
    "Este proceso tiene un **orden de integración**, que indica el número de veces que debe ser aplicada en forma recursiva para transformar a una serie en estacionaria. Generalmente es de orden 1, se aplica una sola vez.\n",
    "\n",
    "En este ejemplo, a la izquierda vemos la serie del valor de las acciones de Google, y a la derecha, las diferencias entre dias consecutivos.\n",
    "\n",
    "<img src=\"https://raw.githubusercontent.com/Digital-House-DATA/ds_blend_2021_img/master/M6/CLASE_49_Series_de_Tiempo_2/Presentacion/img/M6_CLASE_49_005_comparacion.JPG\" alt=\"comparacion\" width=60% height=30% align=\"center\"/>"
   ]
  },
  {
   "cell_type": "markdown",
   "metadata": {
    "slideshow": {
     "slide_type": "slide"
    }
   },
   "source": [
    "### ACF (Función de autocorrelación)\n",
    "\n",
    "---"
   ]
  },
  {
   "cell_type": "markdown",
   "metadata": {
    "slideshow": {
     "slide_type": "fragment"
    }
   },
   "source": [
    "La *autocorrelación (ACF)* es la correlación de la variable contra sí misma en otro momento del tiempo.\n",
    "\n",
    "Usando *ACF* podemos verificar *si la serie es estacionaria*.\n",
    "\n",
    "A medida que calculamos ACF incrementando la distancia (lag) entre ambas series:\n",
    "\n",
    "- En las series *no estacionarias* ACF desciende **más lentamente**.\n",
    "\n",
    "- En las *estacionarias* desciende a cero **más rápidamente**.\n",
    "\n",
    "<img src=\"https://raw.githubusercontent.com/Digital-House-DATA/ds_blend_2021_img/master/M6/CLASE_49_Series_de_Tiempo_2/Presentacion/img/M6_CLASE_49_004_acf.png\" alt=\"acf\" width=80% height=40% align=\"center\"/>"
   ]
  },
  {
   "cell_type": "markdown",
   "metadata": {
    "slideshow": {
     "slide_type": "slide"
    }
   },
   "source": [
    "### Dataset\n",
    "\n",
    "---\n",
    "\n",
    "Vamos a usar la serie de precios de las acciones de Intel, entre 2010 y 2020, mensualizada.\n",
    "\n",
    "Creamos nuevas variables para aplicar un modelo de Transformación logarítmica + estacionalidad mensual."
   ]
  },
  {
   "cell_type": "code",
   "execution_count": 316,
   "metadata": {
    "slideshow": {
     "slide_type": "skip"
    }
   },
   "outputs": [],
   "source": [
    "import pandas as pd\n",
    "import numpy as np\n",
    "\n",
    "import matplotlib.pyplot as plt\n",
    "#import matplotlib as mpl\n",
    "import seaborn as sns\n",
    "\n",
    "import statsmodels.api as sm\n",
    "import statsmodels.formula.api as smf\n",
    "import statsmodels.tsa.api as smt\n",
    "\n",
    "from scipy import stats\n",
    "from statistics import mode\n",
    "\n",
    "import warnings\n",
    "warnings.filterwarnings('ignore')"
   ]
  },
  {
   "cell_type": "code",
   "execution_count": 317,
   "metadata": {
    "slideshow": {
     "slide_type": "fragment"
    }
   },
   "outputs": [],
   "source": [
    "df = pd.read_csv(\"../Data/INTC-JMS.csv\",sep='\\t', parse_dates=['date'], index_col='date')"
   ]
  },
  {
   "cell_type": "code",
   "execution_count": 318,
   "metadata": {},
   "outputs": [
    {
     "data": {
      "text/html": [
       "<div>\n",
       "<style scoped>\n",
       "    .dataframe tbody tr th:only-of-type {\n",
       "        vertical-align: middle;\n",
       "    }\n",
       "\n",
       "    .dataframe tbody tr th {\n",
       "        vertical-align: top;\n",
       "    }\n",
       "\n",
       "    .dataframe thead th {\n",
       "        text-align: right;\n",
       "    }\n",
       "</style>\n",
       "<table border=\"1\" class=\"dataframe\">\n",
       "  <thead>\n",
       "    <tr style=\"text-align: right;\">\n",
       "      <th></th>\n",
       "      <th>value</th>\n",
       "    </tr>\n",
       "    <tr>\n",
       "      <th>date</th>\n",
       "      <th></th>\n",
       "    </tr>\n",
       "  </thead>\n",
       "  <tbody>\n",
       "    <tr>\n",
       "      <th>2010-01-01</th>\n",
       "      <td>13.726318</td>\n",
       "    </tr>\n",
       "    <tr>\n",
       "      <th>2010-02-01</th>\n",
       "      <td>14.525841</td>\n",
       "    </tr>\n",
       "    <tr>\n",
       "      <th>2010-03-01</th>\n",
       "      <td>15.897274</td>\n",
       "    </tr>\n",
       "  </tbody>\n",
       "</table>\n",
       "</div>"
      ],
      "text/plain": [
       "                value\n",
       "date                 \n",
       "2010-01-01  13.726318\n",
       "2010-02-01  14.525841\n",
       "2010-03-01  15.897274"
      ]
     },
     "execution_count": 318,
     "metadata": {},
     "output_type": "execute_result"
    }
   ],
   "source": [
    "df.head(3)"
   ]
  },
  {
   "cell_type": "code",
   "execution_count": 319,
   "metadata": {},
   "outputs": [
    {
     "name": "stdout",
     "output_type": "stream",
     "text": [
      "<class 'pandas.core.frame.DataFrame'>\n",
      "DatetimeIndex: 120 entries, 2010-01-01 to 2019-12-01\n",
      "Data columns (total 1 columns):\n",
      " #   Column  Non-Null Count  Dtype  \n",
      "---  ------  --------------  -----  \n",
      " 0   value   120 non-null    float64\n",
      "dtypes: float64(1)\n",
      "memory usage: 1.9 KB\n"
     ]
    }
   ],
   "source": [
    "df.info()"
   ]
  },
  {
   "cell_type": "code",
   "execution_count": 320,
   "metadata": {
    "slideshow": {
     "slide_type": "fragment"
    }
   },
   "outputs": [],
   "source": [
    "# Generamos nuevas variables:\n",
    "# 'timeIndex': dummy de tiempo\n",
    "# 'log_value': transformación logarítmica del valor de la serie\n",
    "# 'month': variable categórica con los meses, para luego generar las dummies de mes\n",
    "# dummies de mes\n",
    "df[\"timeIndex\"] = pd.Series(np.arange(len(df['value'])), index=df.index)\n",
    "df['log_value'] = np.log(df['value'])\n",
    "\n",
    "df['month'] = [d.strftime('%b') for d in df.index]\n",
    "dummies_mes = pd.get_dummies(df['month'], drop_first=True)\n",
    "df = df.join(dummies_mes)"
   ]
  },
  {
   "cell_type": "code",
   "execution_count": 321,
   "metadata": {
    "slideshow": {
     "slide_type": "fragment"
    }
   },
   "outputs": [
    {
     "data": {
      "text/html": [
       "<div>\n",
       "<style scoped>\n",
       "    .dataframe tbody tr th:only-of-type {\n",
       "        vertical-align: middle;\n",
       "    }\n",
       "\n",
       "    .dataframe tbody tr th {\n",
       "        vertical-align: top;\n",
       "    }\n",
       "\n",
       "    .dataframe thead th {\n",
       "        text-align: right;\n",
       "    }\n",
       "</style>\n",
       "<table border=\"1\" class=\"dataframe\">\n",
       "  <thead>\n",
       "    <tr style=\"text-align: right;\">\n",
       "      <th></th>\n",
       "      <th>value</th>\n",
       "      <th>timeIndex</th>\n",
       "      <th>log_value</th>\n",
       "      <th>month</th>\n",
       "      <th>Aug</th>\n",
       "      <th>Dec</th>\n",
       "      <th>Feb</th>\n",
       "      <th>Jan</th>\n",
       "      <th>Jul</th>\n",
       "      <th>Jun</th>\n",
       "      <th>Mar</th>\n",
       "      <th>May</th>\n",
       "      <th>Nov</th>\n",
       "      <th>Oct</th>\n",
       "      <th>Sep</th>\n",
       "    </tr>\n",
       "    <tr>\n",
       "      <th>date</th>\n",
       "      <th></th>\n",
       "      <th></th>\n",
       "      <th></th>\n",
       "      <th></th>\n",
       "      <th></th>\n",
       "      <th></th>\n",
       "      <th></th>\n",
       "      <th></th>\n",
       "      <th></th>\n",
       "      <th></th>\n",
       "      <th></th>\n",
       "      <th></th>\n",
       "      <th></th>\n",
       "      <th></th>\n",
       "      <th></th>\n",
       "    </tr>\n",
       "  </thead>\n",
       "  <tbody>\n",
       "    <tr>\n",
       "      <th>2010-01-01</th>\n",
       "      <td>13.726318</td>\n",
       "      <td>0</td>\n",
       "      <td>2.619315</td>\n",
       "      <td>Jan</td>\n",
       "      <td>0</td>\n",
       "      <td>0</td>\n",
       "      <td>0</td>\n",
       "      <td>1</td>\n",
       "      <td>0</td>\n",
       "      <td>0</td>\n",
       "      <td>0</td>\n",
       "      <td>0</td>\n",
       "      <td>0</td>\n",
       "      <td>0</td>\n",
       "      <td>0</td>\n",
       "    </tr>\n",
       "    <tr>\n",
       "      <th>2010-02-01</th>\n",
       "      <td>14.525841</td>\n",
       "      <td>1</td>\n",
       "      <td>2.675929</td>\n",
       "      <td>Feb</td>\n",
       "      <td>0</td>\n",
       "      <td>0</td>\n",
       "      <td>1</td>\n",
       "      <td>0</td>\n",
       "      <td>0</td>\n",
       "      <td>0</td>\n",
       "      <td>0</td>\n",
       "      <td>0</td>\n",
       "      <td>0</td>\n",
       "      <td>0</td>\n",
       "      <td>0</td>\n",
       "    </tr>\n",
       "    <tr>\n",
       "      <th>2010-03-01</th>\n",
       "      <td>15.897274</td>\n",
       "      <td>2</td>\n",
       "      <td>2.766148</td>\n",
       "      <td>Mar</td>\n",
       "      <td>0</td>\n",
       "      <td>0</td>\n",
       "      <td>0</td>\n",
       "      <td>0</td>\n",
       "      <td>0</td>\n",
       "      <td>0</td>\n",
       "      <td>1</td>\n",
       "      <td>0</td>\n",
       "      <td>0</td>\n",
       "      <td>0</td>\n",
       "      <td>0</td>\n",
       "    </tr>\n",
       "  </tbody>\n",
       "</table>\n",
       "</div>"
      ],
      "text/plain": [
       "                value  timeIndex  log_value month  Aug  Dec  Feb  Jan  Jul  \\\n",
       "date                                                                         \n",
       "2010-01-01  13.726318          0   2.619315   Jan    0    0    0    1    0   \n",
       "2010-02-01  14.525841          1   2.675929   Feb    0    0    1    0    0   \n",
       "2010-03-01  15.897274          2   2.766148   Mar    0    0    0    0    0   \n",
       "\n",
       "            Jun  Mar  May  Nov  Oct  Sep  \n",
       "date                                      \n",
       "2010-01-01    0    0    0    0    0    0  \n",
       "2010-02-01    0    0    0    0    0    0  \n",
       "2010-03-01    0    1    0    0    0    0  "
      ]
     },
     "execution_count": 321,
     "metadata": {},
     "output_type": "execute_result"
    }
   ],
   "source": [
    "df.head(3)"
   ]
  },
  {
   "cell_type": "markdown",
   "metadata": {
    "slideshow": {
     "slide_type": "subslide"
    }
   },
   "source": [
    "Creamos el modelo sobre train, y predecimos el valor (el log de la serie 'model_log_est').\n",
    "\n",
    "Luego generamos el back transformation 'back_model_log_est', con una función exponencial."
   ]
  },
  {
   "cell_type": "code",
   "execution_count": 322,
   "metadata": {
    "slideshow": {
     "slide_type": "fragment"
    }
   },
   "outputs": [],
   "source": [
    "# Dividimos en train y test\n",
    "from sklearn.model_selection import train_test_split\n",
    "df_train, df_test = train_test_split(df, test_size=12, random_state=42, shuffle=False)"
   ]
  },
  {
   "cell_type": "code",
   "execution_count": 323,
   "metadata": {},
   "outputs": [],
   "source": [
    "# guardo para el futuro\n",
    "df_train1 = df_train.copy()\n",
    "df_test1 = df_test.copy()"
   ]
  },
  {
   "cell_type": "code",
   "execution_count": 324,
   "metadata": {
    "slideshow": {
     "slide_type": "fragment"
    }
   },
   "outputs": [],
   "source": [
    "model_log_est = smf.ols( \\\n",
    "    'log_value ~ timeIndex + Aug + Dec + Feb + Jan + Jul + Jun + Mar + May + Nov + Oct + Sep',\\\n",
    "    data = df_train).fit()"
   ]
  },
  {
   "cell_type": "code",
   "execution_count": 325,
   "metadata": {
    "slideshow": {
     "slide_type": "fragment"
    }
   },
   "outputs": [],
   "source": [
    "df_train['model_log_est'] = model_log_est.predict(\n",
    "    df_train[[\"timeIndex\", \"Aug\", \"Dec\", \"Feb\", \"Jan\", \"Jul\", \"Jun\", \"Mar\", \"May\", \"Nov\", \"Oct\", \"Sep\"]])\n",
    "df_test['model_log_est'] = model_log_est.predict(  \n",
    "    df_test[[\"timeIndex\", \"Aug\", \"Dec\", \"Feb\", \"Jan\",\"Jul\", \"Jun\", \"Mar\", \"May\", \"Nov\", \"Oct\", \"Sep\"]])"
   ]
  },
  {
   "cell_type": "code",
   "execution_count": 326,
   "metadata": {
    "slideshow": {
     "slide_type": "fragment"
    }
   },
   "outputs": [],
   "source": [
    "df_train['back_model_log_est'] = np.exp(df_train['model_log_est'])\n",
    "df_test['back_model_log_est'] = np.exp(df_test['model_log_est'])"
   ]
  },
  {
   "cell_type": "markdown",
   "metadata": {
    "slideshow": {
     "slide_type": "subslide"
    }
   },
   "source": [
    "Verificamos analíticamente la performance del modelo."
   ]
  },
  {
   "cell_type": "code",
   "execution_count": 327,
   "metadata": {
    "slideshow": {
     "slide_type": "fragment"
    }
   },
   "outputs": [],
   "source": [
    "def RMSE(predicted, actual):\n",
    "    mse = (predicted - actual) ** 2\n",
    "    rmse = np.sqrt(mse.sum() / mse.count())\n",
    "    return rmse"
   ]
  },
  {
   "cell_type": "code",
   "execution_count": 328,
   "metadata": {
    "slideshow": {
     "slide_type": "fragment"
    }
   },
   "outputs": [
    {
     "data": {
      "text/html": [
       "<div>\n",
       "<style scoped>\n",
       "    .dataframe tbody tr th:only-of-type {\n",
       "        vertical-align: middle;\n",
       "    }\n",
       "\n",
       "    .dataframe tbody tr th {\n",
       "        vertical-align: top;\n",
       "    }\n",
       "\n",
       "    .dataframe thead th {\n",
       "        text-align: right;\n",
       "    }\n",
       "</style>\n",
       "<table border=\"1\" class=\"dataframe\">\n",
       "  <thead>\n",
       "    <tr style=\"text-align: right;\">\n",
       "      <th></th>\n",
       "      <th>Model</th>\n",
       "      <th>RMSE</th>\n",
       "    </tr>\n",
       "  </thead>\n",
       "  <tbody>\n",
       "    <tr>\n",
       "      <th>0</th>\n",
       "      <td>Log Model + est</td>\n",
       "      <td>4.15533</td>\n",
       "    </tr>\n",
       "  </tbody>\n",
       "</table>\n",
       "</div>"
      ],
      "text/plain": [
       "             Model     RMSE\n",
       "0  Log Model + est  4.15533"
      ]
     },
     "execution_count": 328,
     "metadata": {},
     "output_type": "execute_result"
    }
   ],
   "source": [
    "df_Results = pd.DataFrame(columns = [\"Model\", \"RMSE\"])\n",
    "df_Results.loc[0, \"Model\"] = \"Log Model + est\"\n",
    "df_Results.loc[0, \"RMSE\"] = RMSE(df_test['back_model_log_est'], df_test['value'])\n",
    "df_Results"
   ]
  },
  {
   "cell_type": "markdown",
   "metadata": {
    "slideshow": {
     "slide_type": "subslide"
    }
   },
   "source": [
    "Observamos visualmente las ventas y las ventas transformadas (log)."
   ]
  },
  {
   "cell_type": "code",
   "execution_count": 329,
   "metadata": {},
   "outputs": [
    {
     "data": {
      "image/png": "[encoded data removed]",
      "text/plain": [
       "<Figure size 432x288 with 1 Axes>"
      ]
     },
     "metadata": {
      "needs_background": "light"
     },
     "output_type": "display_data"
    }
   ],
   "source": [
    "df.plot(kind=\"line\", y = [\"value\"]);"
   ]
  },
  {
   "cell_type": "code",
   "execution_count": 330,
   "metadata": {},
   "outputs": [
    {
     "data": {
      "image/png": "[encoded data removed]",
      "text/plain": [
       "<Figure size 432x288 with 1 Axes>"
      ]
     },
     "metadata": {
      "needs_background": "light"
     },
     "output_type": "display_data"
    }
   ],
   "source": [
    "df.plot(kind=\"line\", y = [\"log_value\"]);"
   ]
  },
  {
   "cell_type": "markdown",
   "metadata": {},
   "source": [
    "Observamos visualmente las ventas predichas vs el valor real."
   ]
  },
  {
   "cell_type": "code",
   "execution_count": 331,
   "metadata": {
    "slideshow": {
     "slide_type": "fragment"
    }
   },
   "outputs": [
    {
     "data": {
      "image/png": "[encoded data removed]",
      "text/plain": [
       "<Figure size 720x360 with 2 Axes>"
      ]
     },
     "metadata": {
      "needs_background": "light"
     },
     "output_type": "display_data"
    }
   ],
   "source": [
    "fig, axes = plt.subplots(1, 2,figsize=(10,5))\n",
    "df_train.plot(kind = \"line\", y = [\"value\",\"back_model_log_est\"],ax=axes[0],title='Train');\n",
    "df_test.plot(kind = \"line\", y = [\"value\",\"back_model_log_est\"],ax=axes[1],title='Test');\n",
    "plt.show()"
   ]
  },
  {
   "cell_type": "markdown",
   "metadata": {
    "slideshow": {
     "slide_type": "slide"
    }
   },
   "source": [
    "### Test de Dickey-Fuller aumentado (ADF)\n",
    "\n",
    "---\n",
    "\n",
    "Podemos detectar series estacionarias con Test estadísticos de hipótesis de estacionaridad.\n",
    "\n",
    "Uno de ellos es el **test de Dickey-Fuller aumentado (ADF)**. \n",
    "\n",
    "Es un test donde la hipótesis nula $H_0$ indica que la serie no es estacionaria.\n",
    "\n",
    "En otras palabras \n",
    "- si p > 0.05 (nivel de significación mayor al 5%),  **$H_0$ no se rechaza**, y la serie *no es estacionaria*.\n",
    "- Caso contrario, si p < 0.05, **la hipótesis nula se rechaza** y se considera *estacionaria*."
   ]
  },
  {
   "cell_type": "markdown",
   "metadata": {
    "slideshow": {
     "slide_type": "subslide"
    }
   },
   "source": [
    "Aplicamos el test a los valores originales de la serie."
   ]
  },
  {
   "cell_type": "code",
   "execution_count": 332,
   "metadata": {
    "slideshow": {
     "slide_type": "fragment"
    }
   },
   "outputs": [
    {
     "data": {
      "image/png": "[encoded data removed]",
      "text/plain": [
       "<Figure size 288x216 with 1 Axes>"
      ]
     },
     "metadata": {
      "needs_background": "light"
     },
     "output_type": "display_data"
    }
   ],
   "source": [
    "plt.figure(figsize=(4,3)); plt.plot(df_train.timeIndex, df_train.value); plt.show()"
   ]
  },
  {
   "cell_type": "markdown",
   "metadata": {
    "slideshow": {
     "slide_type": "subslide"
    }
   },
   "source": [
    "La función `adfuller` implementa ADF. Devuelve como resultados:\n",
    "\n",
    "- p-value. Si es mayor a 5%, $H_0$ no se rechaza, y la serie *no es estacionaria*.\n",
    "- El valor del estadístico. Si es menor a algunos valores críticos, se considera *estacionaria*.\n",
    "- Valores críticos.\n",
    "\n",
    "Se observa un p-value > 0.05 para la serie. Por lo tanto **no es estacionaria**."
   ]
  },
  {
   "cell_type": "code",
   "execution_count": 333,
   "metadata": {
    "slideshow": {
     "slide_type": "fragment"
    }
   },
   "outputs": [
    {
     "name": "stdout",
     "output_type": "stream",
     "text": [
      "ADF Statistic: -0.249548\n",
      "p-value: 0.932352\n",
      "Valor crítico 1%: -3.49\n",
      "Valor crítico 5%: -2.89\n",
      "Valor crítico 10%: -2.58\n"
     ]
    }
   ],
   "source": [
    "from statsmodels.tsa.stattools import adfuller\n",
    "\n",
    "result = adfuller(df_train['value']); \n",
    "print('ADF Statistic: %f' % result[0]); print('p-value: %f' % result[1])\n",
    "for key, value in  result[4].items():\n",
    "    print('Valor crítico %s: %.2f' % (key,value))"
   ]
  },
  {
   "cell_type": "markdown",
   "metadata": {
    "slideshow": {
     "slide_type": "subslide"
    }
   },
   "source": [
    "Aplicamos ahora ADF al **residuo** de la serie entre los valores originales y el valor predicho con back transformation.\n",
    "\n"
   ]
  },
  {
   "cell_type": "code",
   "execution_count": 334,
   "metadata": {
    "slideshow": {
     "slide_type": "fragment"
    }
   },
   "outputs": [
    {
     "data": {
      "image/png": "[encoded data removed]",
      "text/plain": [
       "<Figure size 288x180 with 1 Axes>"
      ]
     },
     "metadata": {
      "needs_background": "light"
     },
     "output_type": "display_data"
    }
   ],
   "source": [
    "res_model = df_train['value'] - df_train['back_model_log_est']\n",
    "plt.figure(figsize=(4,2.5))\n",
    "plt.plot(df_train.timeIndex, res_model, '-')\n",
    "plt.show()"
   ]
  },
  {
   "cell_type": "code",
   "execution_count": 335,
   "metadata": {
    "slideshow": {
     "slide_type": "fragment"
    }
   },
   "outputs": [
    {
     "name": "stdout",
     "output_type": "stream",
     "text": [
      "ADF Statistic: -3.496312\n",
      "p-value: 0.008082\n",
      "Valor crítico 1%: -3.49\n",
      "Valor crítico 5%: -2.89\n",
      "Valor crítico 10%: -2.58\n"
     ]
    }
   ],
   "source": [
    "result = adfuller(res_model); print('ADF Statistic: %f' % result[0]); \n",
    "print('p-value: %f' % result[1])\n",
    "for key, value in  result[4].items():\n",
    "    print('Valor crítico %s: %.2f' % (key,value))"
   ]
  },
  {
   "cell_type": "markdown",
   "metadata": {},
   "source": [
    "p-value es menor a 5%, por lo tanto la serie *es estacionaria*."
   ]
  },
  {
   "cell_type": "code",
   "execution_count": 336,
   "metadata": {},
   "outputs": [
    {
     "data": {
      "text/html": [
       "<div>\n",
       "<style scoped>\n",
       "    .dataframe tbody tr th:only-of-type {\n",
       "        vertical-align: middle;\n",
       "    }\n",
       "\n",
       "    .dataframe tbody tr th {\n",
       "        vertical-align: top;\n",
       "    }\n",
       "\n",
       "    .dataframe thead th {\n",
       "        text-align: right;\n",
       "    }\n",
       "</style>\n",
       "<table border=\"1\" class=\"dataframe\">\n",
       "  <thead>\n",
       "    <tr style=\"text-align: right;\">\n",
       "      <th></th>\n",
       "      <th>value</th>\n",
       "      <th>timeIndex</th>\n",
       "      <th>log_value</th>\n",
       "      <th>month</th>\n",
       "      <th>Aug</th>\n",
       "      <th>Dec</th>\n",
       "      <th>Feb</th>\n",
       "      <th>Jan</th>\n",
       "      <th>Jul</th>\n",
       "      <th>Jun</th>\n",
       "      <th>Mar</th>\n",
       "      <th>May</th>\n",
       "      <th>Nov</th>\n",
       "      <th>Oct</th>\n",
       "      <th>Sep</th>\n",
       "      <th>model_log_est</th>\n",
       "      <th>back_model_log_est</th>\n",
       "    </tr>\n",
       "    <tr>\n",
       "      <th>date</th>\n",
       "      <th></th>\n",
       "      <th></th>\n",
       "      <th></th>\n",
       "      <th></th>\n",
       "      <th></th>\n",
       "      <th></th>\n",
       "      <th></th>\n",
       "      <th></th>\n",
       "      <th></th>\n",
       "      <th></th>\n",
       "      <th></th>\n",
       "      <th></th>\n",
       "      <th></th>\n",
       "      <th></th>\n",
       "      <th></th>\n",
       "      <th></th>\n",
       "      <th></th>\n",
       "    </tr>\n",
       "  </thead>\n",
       "  <tbody>\n",
       "    <tr>\n",
       "      <th>2010-01-01</th>\n",
       "      <td>13.726318</td>\n",
       "      <td>0</td>\n",
       "      <td>2.619315</td>\n",
       "      <td>Jan</td>\n",
       "      <td>0</td>\n",
       "      <td>0</td>\n",
       "      <td>0</td>\n",
       "      <td>1</td>\n",
       "      <td>0</td>\n",
       "      <td>0</td>\n",
       "      <td>0</td>\n",
       "      <td>0</td>\n",
       "      <td>0</td>\n",
       "      <td>0</td>\n",
       "      <td>0</td>\n",
       "      <td>2.580494</td>\n",
       "      <td>13.203656</td>\n",
       "    </tr>\n",
       "    <tr>\n",
       "      <th>2010-02-01</th>\n",
       "      <td>14.525841</td>\n",
       "      <td>1</td>\n",
       "      <td>2.675929</td>\n",
       "      <td>Feb</td>\n",
       "      <td>0</td>\n",
       "      <td>0</td>\n",
       "      <td>1</td>\n",
       "      <td>0</td>\n",
       "      <td>0</td>\n",
       "      <td>0</td>\n",
       "      <td>0</td>\n",
       "      <td>0</td>\n",
       "      <td>0</td>\n",
       "      <td>0</td>\n",
       "      <td>0</td>\n",
       "      <td>2.585094</td>\n",
       "      <td>13.264532</td>\n",
       "    </tr>\n",
       "    <tr>\n",
       "      <th>2010-03-01</th>\n",
       "      <td>15.897274</td>\n",
       "      <td>2</td>\n",
       "      <td>2.766148</td>\n",
       "      <td>Mar</td>\n",
       "      <td>0</td>\n",
       "      <td>0</td>\n",
       "      <td>0</td>\n",
       "      <td>0</td>\n",
       "      <td>0</td>\n",
       "      <td>0</td>\n",
       "      <td>1</td>\n",
       "      <td>0</td>\n",
       "      <td>0</td>\n",
       "      <td>0</td>\n",
       "      <td>0</td>\n",
       "      <td>2.619031</td>\n",
       "      <td>13.722421</td>\n",
       "    </tr>\n",
       "    <tr>\n",
       "      <th>2010-04-01</th>\n",
       "      <td>16.289536</td>\n",
       "      <td>3</td>\n",
       "      <td>2.790523</td>\n",
       "      <td>Apr</td>\n",
       "      <td>0</td>\n",
       "      <td>0</td>\n",
       "      <td>0</td>\n",
       "      <td>0</td>\n",
       "      <td>0</td>\n",
       "      <td>0</td>\n",
       "      <td>0</td>\n",
       "      <td>0</td>\n",
       "      <td>0</td>\n",
       "      <td>0</td>\n",
       "      <td>0</td>\n",
       "      <td>2.648439</td>\n",
       "      <td>14.131963</td>\n",
       "    </tr>\n",
       "    <tr>\n",
       "      <th>2010-05-01</th>\n",
       "      <td>15.276789</td>\n",
       "      <td>4</td>\n",
       "      <td>2.726335</td>\n",
       "      <td>May</td>\n",
       "      <td>0</td>\n",
       "      <td>0</td>\n",
       "      <td>0</td>\n",
       "      <td>0</td>\n",
       "      <td>0</td>\n",
       "      <td>0</td>\n",
       "      <td>0</td>\n",
       "      <td>1</td>\n",
       "      <td>0</td>\n",
       "      <td>0</td>\n",
       "      <td>0</td>\n",
       "      <td>2.650178</td>\n",
       "      <td>14.156554</td>\n",
       "    </tr>\n",
       "  </tbody>\n",
       "</table>\n",
       "</div>"
      ],
      "text/plain": [
       "                value  timeIndex  log_value month  Aug  Dec  Feb  Jan  Jul  \\\n",
       "date                                                                         \n",
       "2010-01-01  13.726318          0   2.619315   Jan    0    0    0    1    0   \n",
       "2010-02-01  14.525841          1   2.675929   Feb    0    0    1    0    0   \n",
       "2010-03-01  15.897274          2   2.766148   Mar    0    0    0    0    0   \n",
       "2010-04-01  16.289536          3   2.790523   Apr    0    0    0    0    0   \n",
       "2010-05-01  15.276789          4   2.726335   May    0    0    0    0    0   \n",
       "\n",
       "            Jun  Mar  May  Nov  Oct  Sep  model_log_est  back_model_log_est  \n",
       "date                                                                         \n",
       "2010-01-01    0    0    0    0    0    0       2.580494           13.203656  \n",
       "2010-02-01    0    0    0    0    0    0       2.585094           13.264532  \n",
       "2010-03-01    0    1    0    0    0    0       2.619031           13.722421  \n",
       "2010-04-01    0    0    0    0    0    0       2.648439           14.131963  \n",
       "2010-05-01    0    0    1    0    0    0       2.650178           14.156554  "
      ]
     },
     "execution_count": 336,
     "metadata": {},
     "output_type": "execute_result"
    }
   ],
   "source": [
    "df_train.head()"
   ]
  },
  {
   "cell_type": "markdown",
   "metadata": {
    "slideshow": {
     "slide_type": "slide"
    }
   },
   "source": [
    "<div class=\"div-dhds-fondo-1\"> Modelos AR(p) y MA(q)\n",
    "<img src=\"https://raw.githubusercontent.com/Digital-House-DATA/ds_blend_2021_img/master/M3/CLASE_21_Regresion_Lineal_Simple/Presentacion/img/M3_CLASE_21_separador.png\" align=\"center\" />\n",
    "\n",
    "</div>"
   ]
  },
  {
   "cell_type": "markdown",
   "metadata": {
    "slideshow": {
     "slide_type": "slide"
    }
   },
   "source": [
    "### Modelo Auto-Regresivo AR(p)\n",
    "\n",
    "---\n",
    "El término **autorregresión** indica que es una regresión de la variable contra sí misma.\n",
    "\n",
    "Pronosticamos la variable usando **una combinación lineal de valores pasados** de la serie.\n",
    " \n",
    "Un **modelo AR(p)**, es un modelo autorregresivo de orden p, que se expresa:\n",
    "\n",
    "$$ y_t = c + \\phi_1 y_{t-1} + \\phi_2 y_{t-2} + \\phi_3 y_{t-3} + .. + \\phi_p y_{t-p} + \\epsilon_{t} \\\\ $$\n",
    "\n",
    "where $\\epsilon_{t}$ es *white noise* (ruido blanco), $y_{t-x}$ los p valores anteriores de la serie."
   ]
  },
  {
   "cell_type": "markdown",
   "metadata": {
    "slideshow": {
     "slide_type": "subslide"
    }
   },
   "source": [
    "Los modelos autoregresivos manejan un amplio rango de patrones de series de tiempo.\n",
    "\n",
    "Veamos qué diferentes son ambos modelos al cambiar los parámetros:\n",
    "\n",
    "- AR(1) es\n",
    "$$y_t = 18 - 0.8 y_{t-1} + \\epsilon_{t}$$\n",
    "\n",
    "- AR(2) es  \n",
    "$$y_t = 8 + 1.3 y_{t-1} - 0.7 y_{t-2} + \\epsilon_{t}$$\n",
    "\n",
    "<img src=\"https://raw.githubusercontent.com/Digital-House-DATA/ds_blend_2021_img/master/M6/CLASE_49_Series_de_Tiempo_2/Presentacion/img/M6_CLASE_49_006_ar.png\" alt=\"ar\" width=70% height=35% align=\"center\"/>"
   ]
  },
  {
   "cell_type": "markdown",
   "metadata": {
    "slideshow": {
     "slide_type": "subslide"
    }
   },
   "source": [
    "Tenemos casos particulares para AR(1) model: $y_t = c + \\phi_1 y_{t-1} + \\epsilon_{t}$.\n",
    "\n",
    "- Si  $\\phi_1 = 0$ , entonces $y_t = \\epsilon_{t}$. Es **White Noise**.\n",
    "\n",
    "- Si  $\\phi_1 = 1$ y $c=0$, entonces $y_t = y_{t-1} + \\epsilon_{t}$. Es **Random Walk**.\n",
    "\n",
    "- Si  $\\phi_1 = 1$ y $c!=0$, entonces $y_t = c + y_{t-1} + \\epsilon_{t}$. Es **Random Walk con deriva**.\n",
    "\n",
    "- Para que cumpla con las condiciones de estacionaridad, se requiere que $ |\\phi_1| < 1 $."
   ]
  },
  {
   "cell_type": "markdown",
   "metadata": {
    "slideshow": {
     "slide_type": "slide"
    }
   },
   "source": [
    "### Modelo de Media Movil MA(q)\n",
    "\n",
    "---\n",
    "Un modelo de media móvil usa **shocks inobservables presentes y pasados (ruido blanco)** basados en un modelo similar a una regresión.\n",
    "\n",
    "Un **modelo MA(q)**, es un modelo de media movil de orden q, que se expresa:\n",
    "\n",
    "$$ y_t = c + e_t + \\theta_1 e_{t-1} + \\theta_2 e_{t-2} + ... + \\theta_q e_{t-q} $$\n",
    "\n",
    "donde **$e_{t-x}$ es ruido blanco o rezagos**, y $q$ representa la **cantidad de rezagos o componentes aleatorios** considerados en el modelo. \n",
    "\n",
    "Recordemos que el componente aleatorio es la parte de las series de tiempo que *no se explica con la tendencia ni la estacionalidad*."
   ]
  },
  {
   "cell_type": "markdown",
   "metadata": {
    "slideshow": {
     "slide_type": "subslide"
    }
   },
   "source": [
    "Los modelos de Media movil también manejan un amplio rango de patrones de series de tiempo.\n",
    "\n",
    "Veamos las diferencias que se generan cambiando los parámetros:\n",
    "\n",
    "- MA(1) es\n",
    "$$y_t = 20 + e_t + 0.8 e_{t-1}$$\n",
    "\n",
    "- MA(2) es  \n",
    "$$y_t = e_t - e_{t-1} + 0.8 e_{t-2}$$\n",
    "\n",
    "<img src=\"https://raw.githubusercontent.com/Digital-House-DATA/ds_blend_2021_img/master/M6/CLASE_49_Series_de_Tiempo_2/Presentacion/img/M6_CLASE_49_007_ma.png\" alt=\"ma\" width=70% height=35% align=\"center\"/>"
   ]
  },
  {
   "cell_type": "markdown",
   "metadata": {
    "slideshow": {
     "slide_type": "subslide"
    }
   },
   "source": [
    "*No debe confundirse* el modelo MA(q) con la Media movil (Moving Average o Rolling Mean) que vimos en la clase anterior.\n",
    "\n",
    "MA(q) lo usamos para pronosticar valores futuros; Media movil para estimar el ciclo de la tendencia en los valores pasados."
   ]
  },
  {
   "cell_type": "markdown",
   "metadata": {
    "slideshow": {
     "slide_type": "slide"
    }
   },
   "source": [
    "<div class=\"div-dhds-fondo-1\"> Modelo ARIMA\n",
    "<img src=\"https://raw.githubusercontent.com/Digital-House-DATA/ds_blend_2021_img/master/M3/CLASE_21_Regresion_Lineal_Simple/Presentacion/img/M3_CLASE_21_separador.png\" align=\"center\" />\n",
    "\n",
    "</div>"
   ]
  },
  {
   "cell_type": "markdown",
   "metadata": {
    "slideshow": {
     "slide_type": "slide"
    }
   },
   "source": [
    "### Definición\n",
    "\n",
    "---\n",
    "El modelo **ARIMA sin estacionalidad** surge de la combinación de:\n",
    "* Un modelo Auto-Regresivo AR(p).\n",
    "* Un modelo de media móvil MA(q).\n",
    "* Un proceso de Diferenciación con un orden de *Integración*. \n",
    "\n",
    "Su denominación es un acrónimo de: **AutoRegressive Integrated Moving Average** model. "
   ]
  },
  {
   "cell_type": "markdown",
   "metadata": {
    "slideshow": {
     "slide_type": "fragment"
    }
   },
   "source": [
    "---\n",
    "\n",
    "El modelo completo se escribe **ARIMA(p,d,q)** donde:\n",
    "\n",
    "* **Número de términos AR (autorregresivos) (p)**: es el orden p de la parte correspondiente al modelo AR(p).\n",
    "\n",
    "* **Número de términos MA (promedio móvil) (q)**: es el orden q de la parte correspondiente al modelo MA(q).\n",
    "\n",
    "* **Número de diferenciaciones (d)**: es el orden de integración del proceso de diferenciación. Si la serie es estacionaria, es igual a cero, ya que no se necesita."
   ]
  },
  {
   "cell_type": "markdown",
   "metadata": {
    "slideshow": {
     "slide_type": "subslide"
    }
   },
   "source": [
    "Para determinar el valor de $p$ y $q$, usamos:\n",
    "\n",
    "* **Plot de la Función de autocorrelación (ACF)**: Como vimos antes, muestra las autocorrelaciones que miden la relación entre $y_t$ y  $y_{t-k}$, para diferentes valores de k.\n",
    "\n",
    "* **Plot de la Función de autocorrelación parcial (PACF)**: mide la misma relación entre $y_t$ y $y_{t-k}$, pero eliminando los efectos que generan las correlaciones con los valores intermedios $y_{t-x}$, x entre 1 y $k-1$"
   ]
  },
  {
   "cell_type": "markdown",
   "metadata": {
    "slideshow": {
     "slide_type": "slide"
    }
   },
   "source": [
    "### Ejemplo\n",
    "\n",
    "---\n",
    "Vamos a trabajar con los **residuos** de la última serie calculada, previamente calculados.\n",
    "\n",
    "Es decir, las diferencias entre el valor original de la serie y los valores predichos por el modelo con back transformation."
   ]
  },
  {
   "cell_type": "code",
   "execution_count": 337,
   "metadata": {
    "slideshow": {
     "slide_type": "fragment"
    }
   },
   "outputs": [
    {
     "data": {
      "image/png": "[encoded data removed]",
      "text/plain": [
       "<Figure size 288x216 with 1 Axes>"
      ]
     },
     "metadata": {
      "needs_background": "light"
     },
     "output_type": "display_data"
    }
   ],
   "source": [
    "res_model = df_train['value'] - df_train['back_model_log_est']\n",
    "plt.figure(figsize=(4,3)); plt.plot(df_train.timeIndex, res_model, '-');plt.show()"
   ]
  },
  {
   "cell_type": "markdown",
   "metadata": {
    "slideshow": {
     "slide_type": "subslide"
    }
   },
   "source": [
    "Recordemos que al aplicarle el test de Dickey-Fuller, **ADF**, vimos que *es estacionaria*.\n",
    "\n",
    "Lo muestra un p-value menor a 5%."
   ]
  },
  {
   "cell_type": "code",
   "execution_count": 338,
   "metadata": {
    "slideshow": {
     "slide_type": "fragment"
    }
   },
   "outputs": [
    {
     "name": "stdout",
     "output_type": "stream",
     "text": [
      "ADF Statistic: -3.496312\n",
      "p-value: 0.008082\n",
      "Valor crítico 1%: -3.49\n",
      "Valor crítico 5%: -2.89\n",
      "Valor crítico 10%: -2.58\n"
     ]
    }
   ],
   "source": [
    "result = adfuller(res_model)\n",
    "print('ADF Statistic: %f' % result[0])\n",
    "print('p-value: %f' % result[1])\n",
    "for key, value in  result[4].items():\n",
    "    print('Valor crítico %s: %.2f' % (key,value))"
   ]
  },
  {
   "cell_type": "markdown",
   "metadata": {
    "slideshow": {
     "slide_type": "slide"
    }
   },
   "source": [
    "### Parámetros p y q\n",
    "\n",
    "---\n",
    "Para determinar **los parámetros p y q** necesitamos generar los plot ACF y PACF.\n",
    "\n",
    "Idealmente, no queremos ninguna correlación entre la serie y los rezagos de sí misma. Viendo los gráficos, deberían caer todos los picos en la región azul.\n",
    "\n",
    "Los plots son útiles para determinar modelos del tipo **ARIMA(p,d,0) o ARIMA(0,d,q)**.\n",
    "\n",
    "Para estos casos, la regla a aplicar es:\n",
    "\n",
    "- La serie sigue un modelo *ARIMA(p,d,0)* si:\n",
    "    - ACF cae en forma exponencial o sinusoide.\n",
    "    - PACF tiene un pico importante en el lag p, y ningún otro más alla de lag p, es decir que caen en la región azul.\n",
    "    \n",
    "- La serie sigue un modelo *ARIMA(0,d,q)* si sucede lo contrario:\n",
    "    - PACF cae en forma exponencial o sinusoide.\n",
    "    - ACF tiene un pico importante en el lag q, y ningún otro más alla de lag q.\n",
    "    \n",
    "A veces se complementa con otra regla, donde el cero se reemplaza por los primeros rezagos significativamente mayores a cero. "
   ]
  },
  {
   "cell_type": "markdown",
   "metadata": {
    "slideshow": {
     "slide_type": "subslide"
    }
   },
   "source": [
    "Generamos los plot ACF y PACF sobre la serie, con un número de rezagos (lags) suficiente para determinar p y q.\n",
    "\n",
    "En nuestro ejemplo, *ACF cae en forma exponencial* y *PACF tiene dos picos significativos* .\n",
    "\n",
    "Por lo tanto asumimos $p = 2$ y $q = 0$. También podemos considerar  $p = 2$ y $q = 2$.\n",
    "\n",
    "COMENT JMS: para mí es ARIMA (1,0,0). De hecho, da mejor así. \n",
    "Recordar que el lag 0 de ACF y PACF va a dar siempre 1 (corelación de la serie consigo misma, sin ningún lag), y ese\n",
    "valor no lo tomamos"
   ]
  },
  {
   "cell_type": "code",
   "execution_count": 339,
   "metadata": {
    "slideshow": {
     "slide_type": "fragment"
    }
   },
   "outputs": [],
   "source": [
    "from statsmodels.tsa.stattools import acf, pacf\n",
    "from statsmodels.graphics.tsaplots import plot_acf, plot_pacf"
   ]
  },
  {
   "cell_type": "code",
   "execution_count": 340,
   "metadata": {
    "slideshow": {
     "slide_type": "fragment"
    }
   },
   "outputs": [
    {
     "data": {
      "image/png": "[encoded data removed]",
      "text/plain": [
       "<Figure size 576x216 with 2 Axes>"
      ]
     },
     "metadata": {
      "needs_background": "light"
     },
     "output_type": "display_data"
    }
   ],
   "source": [
    "fig, axes = plt.subplots(1, 2,figsize=(8,3))\n",
    "smt.graphics.plot_acf(res_model, lags=20,ax=axes[0],title='ACF')\n",
    "smt.graphics.plot_pacf(res_model, lags=20,ax=axes[1],title='PACF')\n",
    "plt.show()"
   ]
  },
  {
   "cell_type": "markdown",
   "metadata": {
    "slideshow": {
     "slide_type": "slide"
    }
   },
   "source": [
    "### ARIMA\n",
    "\n",
    "---"
   ]
  },
  {
   "cell_type": "code",
   "execution_count": 341,
   "metadata": {
    "slideshow": {
     "slide_type": "fragment"
    }
   },
   "outputs": [],
   "source": [
    "# Importamos el modelo ARIMA de statsmodels\n",
    "from statsmodels.tsa.arima_model import ARIMA"
   ]
  },
  {
   "cell_type": "markdown",
   "metadata": {
    "slideshow": {
     "slide_type": "fragment"
    }
   },
   "source": [
    "Instanciamos el modelo con los parámetros determinados en el análisis de ACF y PACF.\n",
    "\n",
    "- p=1, d=0, q=0. \n",
    "\n",
    "$d=0$ porque la serie es estacionaria.\n",
    "\n",
    "https://www.statsmodels.org/stable/generated/statsmodels.tsa.arima_model.ARIMA.fit.html#statsmodels.tsa.arima_model.ARIMA.fit\n"
   ]
  },
  {
   "cell_type": "code",
   "execution_count": 342,
   "metadata": {
    "slideshow": {
     "slide_type": "fragment"
    }
   },
   "outputs": [],
   "source": [
    "model_ARIMA = ARIMA(res_model, order= (1,0,0))\n",
    "results_ARIMA = model_ARIMA.fit()"
   ]
  },
  {
   "cell_type": "markdown",
   "metadata": {
    "slideshow": {
     "slide_type": "subslide"
    }
   },
   "source": [
    "Analizamos los resultados. Entre otros, **AIC y BIC**, indican, a menor valor, mejor modelo.\n",
    "\n",
    "- AIC - Criterio de Información de Akaike.\n",
    "- BIC - Criterio de Información Bayesiano (Schwartz)."
   ]
  },
  {
   "cell_type": "code",
   "execution_count": 343,
   "metadata": {
    "slideshow": {
     "slide_type": "subslide"
    }
   },
   "outputs": [
    {
     "name": "stdout",
     "output_type": "stream",
     "text": [
      "                              ARMA Model Results                              \n",
      "==============================================================================\n",
      "Dep. Variable:                      y   No. Observations:                  108\n",
      "Model:                     ARMA(1, 0)   Log Likelihood                -196.901\n",
      "Method:                       css-mle   S.D. of innovations              1.489\n",
      "Date:                Fri, 28 Jan 2022   AIC                            399.802\n",
      "Time:                        16:34:27   BIC                            407.848\n",
      "Sample:                    01-01-2010   HQIC                           403.064\n",
      "                         - 12-01-2018                                         \n",
      "==============================================================================\n",
      "                 coef    std err          z      P>|z|      [0.025      0.975]\n",
      "------------------------------------------------------------------------------\n",
      "const          0.2049      0.965      0.212      0.832      -1.686       2.096\n",
      "ar.L1.y        0.8592      0.047     18.410      0.000       0.768       0.951\n",
      "                                    Roots                                    \n",
      "=============================================================================\n",
      "                  Real          Imaginary           Modulus         Frequency\n",
      "-----------------------------------------------------------------------------\n",
      "AR.1            1.1638           +0.0000j            1.1638            0.0000\n",
      "-----------------------------------------------------------------------------\n"
     ]
    }
   ],
   "source": [
    "print(results_ARIMA.summary())"
   ]
  },
  {
   "cell_type": "markdown",
   "metadata": {
    "slideshow": {
     "slide_type": "slide"
    }
   },
   "source": [
    "### ARIMA - analizamos los residuos\n",
    "\n",
    "---"
   ]
  },
  {
   "cell_type": "markdown",
   "metadata": {
    "slideshow": {
     "slide_type": "subslide"
    }
   },
   "source": [
    "Analizamos los residuos del modelo ARIMA que se obtienen con el método `resid()`.\n",
    "\n",
    "Parecen estar correctos, con la media cercana a cero y una varianza uniforme.\n",
    "\n",
    "Viendo los plot ACF y PACF, todos los picos caen en la región azul. Mostrando que no existe autocorrelación.\n",
    "\n",
    "El resíduo ahora es ruido blanco.\n",
    "\n",
    "https://www.statsmodels.org/stable/generated/statsmodels.tsa.arima_model.ARIMAResults.html#statsmodels.tsa.arima_model.ARIMAResults"
   ]
  },
  {
   "cell_type": "code",
   "execution_count": 344,
   "metadata": {},
   "outputs": [
    {
     "data": {
      "image/png": "[encoded data removed]",
      "text/plain": [
       "<Figure size 720x288 with 4 Axes>"
      ]
     },
     "metadata": {
      "needs_background": "light"
     },
     "output_type": "display_data"
    }
   ],
   "source": [
    "residuals = pd.DataFrame(results_ARIMA.resid)\n",
    "fig, axes = plt.subplots(2, 2,figsize=(10,4))\n",
    "\n",
    "residuals.plot(title=\"Residuals\", ax=axes[0,0]); \n",
    "residuals.plot(kind='kde', title='Density', ax=axes[0,1])\n",
    "smt.graphics.plot_acf(residuals, lags=20,ax=axes[1,0],title='ACF'); \n",
    "smt.graphics.plot_pacf(residuals, lags=20,ax=axes[1,1],title='PACF')\n",
    "plt.show()"
   ]
  },
  {
   "cell_type": "markdown",
   "metadata": {
    "slideshow": {
     "slide_type": "slide"
    }
   },
   "source": [
    "### ARIMA - predicciones\n",
    "\n",
    "---"
   ]
  },
  {
   "cell_type": "markdown",
   "metadata": {
    "slideshow": {
     "slide_type": "fragment"
    }
   },
   "source": [
    "Como los otros modelos que vimos, hacemos las predicciones con el método `forecast()`.\n",
    "\n",
    "https://www.statsmodels.org/stable/generated/statsmodels.tsa.arima_model.ARIMAResults.forecast.html#statsmodels.tsa.arima_model.ARIMAResults.forecast\n"
   ]
  },
  {
   "cell_type": "code",
   "execution_count": 345,
   "metadata": {
    "slideshow": {
     "slide_type": "fragment"
    }
   },
   "outputs": [],
   "source": [
    "predictions_ARIMA, se, conf = results_ARIMA.forecast(len(df_test['value']), alpha=0.05)"
   ]
  },
  {
   "cell_type": "markdown",
   "metadata": {
    "slideshow": {
     "slide_type": "fragment"
    }
   },
   "source": [
    "Sumamos los resultados del modelo ARIMA a los valores originales.\n",
    "\n",
    "Recordemos que hicimos el modelo sobre los **residuos** de la última serie calculada, previamente calculados: las diferencias entre el valor original de la serie y los valores predichos por el modelo con back transformation."
   ]
  },
  {
   "cell_type": "code",
   "execution_count": 346,
   "metadata": {},
   "outputs": [
    {
     "data": {
      "text/html": [
       "<div>\n",
       "<style scoped>\n",
       "    .dataframe tbody tr th:only-of-type {\n",
       "        vertical-align: middle;\n",
       "    }\n",
       "\n",
       "    .dataframe tbody tr th {\n",
       "        vertical-align: top;\n",
       "    }\n",
       "\n",
       "    .dataframe thead th {\n",
       "        text-align: right;\n",
       "    }\n",
       "</style>\n",
       "<table border=\"1\" class=\"dataframe\">\n",
       "  <thead>\n",
       "    <tr style=\"text-align: right;\">\n",
       "      <th></th>\n",
       "      <th>value</th>\n",
       "      <th>timeIndex</th>\n",
       "      <th>log_value</th>\n",
       "      <th>month</th>\n",
       "      <th>Aug</th>\n",
       "      <th>Dec</th>\n",
       "      <th>Feb</th>\n",
       "      <th>Jan</th>\n",
       "      <th>Jul</th>\n",
       "      <th>Jun</th>\n",
       "      <th>Mar</th>\n",
       "      <th>May</th>\n",
       "      <th>Nov</th>\n",
       "      <th>Oct</th>\n",
       "      <th>Sep</th>\n",
       "      <th>model_log_est</th>\n",
       "      <th>back_model_log_est</th>\n",
       "    </tr>\n",
       "    <tr>\n",
       "      <th>date</th>\n",
       "      <th></th>\n",
       "      <th></th>\n",
       "      <th></th>\n",
       "      <th></th>\n",
       "      <th></th>\n",
       "      <th></th>\n",
       "      <th></th>\n",
       "      <th></th>\n",
       "      <th></th>\n",
       "      <th></th>\n",
       "      <th></th>\n",
       "      <th></th>\n",
       "      <th></th>\n",
       "      <th></th>\n",
       "      <th></th>\n",
       "      <th></th>\n",
       "      <th></th>\n",
       "    </tr>\n",
       "  </thead>\n",
       "  <tbody>\n",
       "    <tr>\n",
       "      <th>2010-01-01</th>\n",
       "      <td>13.726318</td>\n",
       "      <td>0</td>\n",
       "      <td>2.619315</td>\n",
       "      <td>Jan</td>\n",
       "      <td>0</td>\n",
       "      <td>0</td>\n",
       "      <td>0</td>\n",
       "      <td>1</td>\n",
       "      <td>0</td>\n",
       "      <td>0</td>\n",
       "      <td>0</td>\n",
       "      <td>0</td>\n",
       "      <td>0</td>\n",
       "      <td>0</td>\n",
       "      <td>0</td>\n",
       "      <td>2.580494</td>\n",
       "      <td>13.203656</td>\n",
       "    </tr>\n",
       "    <tr>\n",
       "      <th>2010-02-01</th>\n",
       "      <td>14.525841</td>\n",
       "      <td>1</td>\n",
       "      <td>2.675929</td>\n",
       "      <td>Feb</td>\n",
       "      <td>0</td>\n",
       "      <td>0</td>\n",
       "      <td>1</td>\n",
       "      <td>0</td>\n",
       "      <td>0</td>\n",
       "      <td>0</td>\n",
       "      <td>0</td>\n",
       "      <td>0</td>\n",
       "      <td>0</td>\n",
       "      <td>0</td>\n",
       "      <td>0</td>\n",
       "      <td>2.585094</td>\n",
       "      <td>13.264532</td>\n",
       "    </tr>\n",
       "    <tr>\n",
       "      <th>2010-03-01</th>\n",
       "      <td>15.897274</td>\n",
       "      <td>2</td>\n",
       "      <td>2.766148</td>\n",
       "      <td>Mar</td>\n",
       "      <td>0</td>\n",
       "      <td>0</td>\n",
       "      <td>0</td>\n",
       "      <td>0</td>\n",
       "      <td>0</td>\n",
       "      <td>0</td>\n",
       "      <td>1</td>\n",
       "      <td>0</td>\n",
       "      <td>0</td>\n",
       "      <td>0</td>\n",
       "      <td>0</td>\n",
       "      <td>2.619031</td>\n",
       "      <td>13.722421</td>\n",
       "    </tr>\n",
       "  </tbody>\n",
       "</table>\n",
       "</div>"
      ],
      "text/plain": [
       "                value  timeIndex  log_value month  Aug  Dec  Feb  Jan  Jul  \\\n",
       "date                                                                         \n",
       "2010-01-01  13.726318          0   2.619315   Jan    0    0    0    1    0   \n",
       "2010-02-01  14.525841          1   2.675929   Feb    0    0    1    0    0   \n",
       "2010-03-01  15.897274          2   2.766148   Mar    0    0    0    0    0   \n",
       "\n",
       "            Jun  Mar  May  Nov  Oct  Sep  model_log_est  back_model_log_est  \n",
       "date                                                                         \n",
       "2010-01-01    0    0    0    0    0    0       2.580494           13.203656  \n",
       "2010-02-01    0    0    0    0    0    0       2.585094           13.264532  \n",
       "2010-03-01    0    1    0    0    0    0       2.619031           13.722421  "
      ]
     },
     "execution_count": 346,
     "metadata": {},
     "output_type": "execute_result"
    }
   ],
   "source": [
    "df_train.head(3)"
   ]
  },
  {
   "cell_type": "code",
   "execution_count": 347,
   "metadata": {
    "slideshow": {
     "slide_type": "fragment"
    }
   },
   "outputs": [],
   "source": [
    "df_train['model_ARIMA'] = df_train['back_model_log_est'] + results_ARIMA.fittedvalues\n",
    "df_test['model_ARIMA'] = df_test['back_model_log_est'] + predictions_ARIMA"
   ]
  },
  {
   "cell_type": "markdown",
   "metadata": {
    "slideshow": {
     "slide_type": "subslide"
    }
   },
   "source": [
    "Comparamos la serie con las estimaciones del modelo, en train y test."
   ]
  },
  {
   "cell_type": "code",
   "execution_count": 348,
   "metadata": {
    "slideshow": {
     "slide_type": "fragment"
    }
   },
   "outputs": [
    {
     "data": {
      "image/png": "[encoded data removed]",
      "text/plain": [
       "<Figure size 720x216 with 1 Axes>"
      ]
     },
     "metadata": {
      "needs_background": "light"
     },
     "output_type": "display_data"
    }
   ],
   "source": [
    "df_train.plot(kind = \"line\", y = ['value', 'model_ARIMA'],figsize=(10,3));"
   ]
  },
  {
   "cell_type": "code",
   "execution_count": 349,
   "metadata": {
    "slideshow": {
     "slide_type": "fragment"
    }
   },
   "outputs": [
    {
     "data": {
      "image/png": "[encoded data removed]",
      "text/plain": [
       "<Figure size 432x432 with 1 Axes>"
      ]
     },
     "metadata": {
      "needs_background": "light"
     },
     "output_type": "display_data"
    }
   ],
   "source": [
    "df_test.plot(kind = \"line\", y = ['value', 'model_ARIMA'],figsize=(6,6));"
   ]
  },
  {
   "cell_type": "markdown",
   "metadata": {
    "slideshow": {
     "slide_type": "subslide"
    }
   },
   "source": [
    "Comprobamos analíticamente la mejoría que presenta ARIMA respecto al modelo anterior."
   ]
  },
  {
   "cell_type": "code",
   "execution_count": 350,
   "metadata": {
    "slideshow": {
     "slide_type": "fragment"
    }
   },
   "outputs": [
    {
     "data": {
      "text/html": [
       "<div>\n",
       "<style scoped>\n",
       "    .dataframe tbody tr th:only-of-type {\n",
       "        vertical-align: middle;\n",
       "    }\n",
       "\n",
       "    .dataframe tbody tr th {\n",
       "        vertical-align: top;\n",
       "    }\n",
       "\n",
       "    .dataframe thead th {\n",
       "        text-align: right;\n",
       "    }\n",
       "</style>\n",
       "<table border=\"1\" class=\"dataframe\">\n",
       "  <thead>\n",
       "    <tr style=\"text-align: right;\">\n",
       "      <th></th>\n",
       "      <th>Model</th>\n",
       "      <th>RMSE</th>\n",
       "    </tr>\n",
       "  </thead>\n",
       "  <tbody>\n",
       "    <tr>\n",
       "      <th>0</th>\n",
       "      <td>Log Model + est</td>\n",
       "      <td>4.15533</td>\n",
       "    </tr>\n",
       "    <tr>\n",
       "      <th>1</th>\n",
       "      <td>Log Model + est + ARIMA</td>\n",
       "      <td>4.10392</td>\n",
       "    </tr>\n",
       "  </tbody>\n",
       "</table>\n",
       "</div>"
      ],
      "text/plain": [
       "                     Model     RMSE\n",
       "0          Log Model + est  4.15533\n",
       "1  Log Model + est + ARIMA  4.10392"
      ]
     },
     "execution_count": 350,
     "metadata": {},
     "output_type": "execute_result"
    }
   ],
   "source": [
    "df_Results.loc[1, \"Model\"] = \"Log Model + est + ARIMA\"\n",
    "df_Results.loc[1, \"RMSE\"] = RMSE(df_test['model_ARIMA'], df_test['value'])\n",
    "df_Results"
   ]
  },
  {
   "cell_type": "markdown",
   "metadata": {
    "slideshow": {
     "slide_type": "slide"
    }
   },
   "source": [
    "## Conclusiones\n",
    "\n",
    "---"
   ]
  },
  {
   "cell_type": "markdown",
   "metadata": {
    "slideshow": {
     "slide_type": "fragment"
    }
   },
   "source": [
    "Estuvimos estudiando las series estacionarias, evaluar si lo son y como transformarlas. Necesarias para aplicar el modelo a las series de tiempo.\n",
    "\n",
    "El modelo ARIMA(p,d,q) se compone de tres modelos:\n",
    "- Un modelo Auto-Regresivo AR(p)\n",
    "- Un modelo de Media Movil MA(q)\n",
    "- Un proceso de diferenciación (d).\n",
    "      \n",
    "Vimos como determinar los parámetros p y q.\n",
    "\n",
    "Y finalmente analizamos algunos resultados de la aplicación del modelo.\n",
    "\n",
    "ARIMA es un modelo que podemos profundizar en su estudio para desarrollar mejores predicciones."
   ]
  },
  {
   "cell_type": "markdown",
   "metadata": {
    "slideshow": {
     "slide_type": "slide"
    }
   },
   "source": [
    "<div class=\"div-dhds-fondo-1\"> Hands-on\n",
    "<img src=\"https://raw.githubusercontent.com/Digital-House-DATA/ds_blend_2021_img/master/M3/CLASE_21_Regresion_Lineal_Simple/Presentacion/img/M3_CLASE_21_separador.png\" align=\"center\" />\n",
    "\n",
    "</div>"
   ]
  },
  {
   "cell_type": "markdown",
   "metadata": {
    "slideshow": {
     "slide_type": "slide"
    }
   },
   "source": [
    "### Ejercicio\n",
    "\n",
    "----\n",
    "\n",
    "A partir de la serie con los valores de las acciones de General Motors:\n",
    "- Se genera un modelo de transformacion logaritmica con estacionalidad mensual.\n",
    "- Y una serie con los residuos: la diferencia entre la serie y los valores predichos.\n",
    "\n",
    "Sobre esta última serie debe:\n",
    "\n",
    "1. Aplicar el test de Dickey-Fuller aumentado, ADF, para validar que es estacionaria.\n",
    "2. Calcular los valores p y q para el modelo ARIMA(p,d,q).\n",
    "3. Generar el modelo ARIMA y calcular las predicciones.\n",
    "4. Sumamos los resultados del modelo ARIMA a los valores originales. Graficamos la serie junto con las estimaciones del modelo, en train y test."
   ]
  },
  {
   "cell_type": "code",
   "execution_count": 351,
   "metadata": {
    "colab": {},
    "colab_type": "code",
    "id": "p2PHSRoPK8OK",
    "slideshow": {
     "slide_type": "fragment"
    }
   },
   "outputs": [],
   "source": [
    "import numpy as np\n",
    "import pandas as pd\n",
    "import matplotlib.pyplot as plt\n",
    "import seaborn as sns\n",
    "%matplotlib inline\n",
    "import warnings\n",
    "warnings.filterwarnings('ignore')"
   ]
  },
  {
   "cell_type": "markdown",
   "metadata": {
    "slideshow": {
     "slide_type": "subslide"
    }
   },
   "source": [
    "Leemos la serie y preparamos las variables."
   ]
  },
  {
   "cell_type": "code",
   "execution_count": 352,
   "metadata": {
    "slideshow": {
     "slide_type": "fragment"
    }
   },
   "outputs": [],
   "source": [
    "df = pd.read_csv(\"../Data/GE.csv\", parse_dates=['date'], index_col='date')"
   ]
  },
  {
   "cell_type": "code",
   "execution_count": 353,
   "metadata": {
    "slideshow": {
     "slide_type": "fragment"
    }
   },
   "outputs": [],
   "source": [
    "# Generamos nuevas variables\n",
    "df[\"timeIndex\"] = pd.Series(np.arange(len(df['value'])), index=df.index)\n",
    "df['log_value'] = np.log(df['value'])\n",
    "\n",
    "df['month'] = [d.strftime('%b') for d in df.index]\n",
    "dummies_mes = pd.get_dummies(df['month'])\n",
    "df = df.join(dummies_mes)"
   ]
  },
  {
   "cell_type": "code",
   "execution_count": 354,
   "metadata": {
    "slideshow": {
     "slide_type": "fragment"
    }
   },
   "outputs": [
    {
     "name": "stdout",
     "output_type": "stream",
     "text": [
      "(93, 16)\n"
     ]
    },
    {
     "data": {
      "text/html": [
       "<div>\n",
       "<style scoped>\n",
       "    .dataframe tbody tr th:only-of-type {\n",
       "        vertical-align: middle;\n",
       "    }\n",
       "\n",
       "    .dataframe tbody tr th {\n",
       "        vertical-align: top;\n",
       "    }\n",
       "\n",
       "    .dataframe thead th {\n",
       "        text-align: right;\n",
       "    }\n",
       "</style>\n",
       "<table border=\"1\" class=\"dataframe\">\n",
       "  <thead>\n",
       "    <tr style=\"text-align: right;\">\n",
       "      <th></th>\n",
       "      <th>value</th>\n",
       "      <th>timeIndex</th>\n",
       "      <th>log_value</th>\n",
       "      <th>month</th>\n",
       "      <th>Apr</th>\n",
       "      <th>Aug</th>\n",
       "      <th>Dec</th>\n",
       "      <th>Feb</th>\n",
       "      <th>Jan</th>\n",
       "      <th>Jul</th>\n",
       "      <th>Jun</th>\n",
       "      <th>Mar</th>\n",
       "      <th>May</th>\n",
       "      <th>Nov</th>\n",
       "      <th>Oct</th>\n",
       "      <th>Sep</th>\n",
       "    </tr>\n",
       "    <tr>\n",
       "      <th>date</th>\n",
       "      <th></th>\n",
       "      <th></th>\n",
       "      <th></th>\n",
       "      <th></th>\n",
       "      <th></th>\n",
       "      <th></th>\n",
       "      <th></th>\n",
       "      <th></th>\n",
       "      <th></th>\n",
       "      <th></th>\n",
       "      <th></th>\n",
       "      <th></th>\n",
       "      <th></th>\n",
       "      <th></th>\n",
       "      <th></th>\n",
       "      <th></th>\n",
       "    </tr>\n",
       "  </thead>\n",
       "  <tbody>\n",
       "    <tr>\n",
       "      <th>2010-01-01</th>\n",
       "      <td>11.433279</td>\n",
       "      <td>0</td>\n",
       "      <td>2.436528</td>\n",
       "      <td>Jan</td>\n",
       "      <td>0</td>\n",
       "      <td>0</td>\n",
       "      <td>0</td>\n",
       "      <td>0</td>\n",
       "      <td>1</td>\n",
       "      <td>0</td>\n",
       "      <td>0</td>\n",
       "      <td>0</td>\n",
       "      <td>0</td>\n",
       "      <td>0</td>\n",
       "      <td>0</td>\n",
       "      <td>0</td>\n",
       "    </tr>\n",
       "    <tr>\n",
       "      <th>2010-02-01</th>\n",
       "      <td>11.419061</td>\n",
       "      <td>1</td>\n",
       "      <td>2.435284</td>\n",
       "      <td>Feb</td>\n",
       "      <td>0</td>\n",
       "      <td>0</td>\n",
       "      <td>0</td>\n",
       "      <td>1</td>\n",
       "      <td>0</td>\n",
       "      <td>0</td>\n",
       "      <td>0</td>\n",
       "      <td>0</td>\n",
       "      <td>0</td>\n",
       "      <td>0</td>\n",
       "      <td>0</td>\n",
       "      <td>0</td>\n",
       "    </tr>\n",
       "    <tr>\n",
       "      <th>2010-03-01</th>\n",
       "      <td>13.021428</td>\n",
       "      <td>2</td>\n",
       "      <td>2.566596</td>\n",
       "      <td>Mar</td>\n",
       "      <td>0</td>\n",
       "      <td>0</td>\n",
       "      <td>0</td>\n",
       "      <td>0</td>\n",
       "      <td>0</td>\n",
       "      <td>0</td>\n",
       "      <td>0</td>\n",
       "      <td>1</td>\n",
       "      <td>0</td>\n",
       "      <td>0</td>\n",
       "      <td>0</td>\n",
       "      <td>0</td>\n",
       "    </tr>\n",
       "  </tbody>\n",
       "</table>\n",
       "</div>"
      ],
      "text/plain": [
       "                value  timeIndex  log_value month  Apr  Aug  Dec  Feb  Jan  \\\n",
       "date                                                                         \n",
       "2010-01-01  11.433279          0   2.436528   Jan    0    0    0    0    1   \n",
       "2010-02-01  11.419061          1   2.435284   Feb    0    0    0    1    0   \n",
       "2010-03-01  13.021428          2   2.566596   Mar    0    0    0    0    0   \n",
       "\n",
       "            Jul  Jun  Mar  May  Nov  Oct  Sep  \n",
       "date                                           \n",
       "2010-01-01    0    0    0    0    0    0    0  \n",
       "2010-02-01    0    0    0    0    0    0    0  \n",
       "2010-03-01    0    0    1    0    0    0    0  "
      ]
     },
     "execution_count": 354,
     "metadata": {},
     "output_type": "execute_result"
    }
   ],
   "source": [
    "print(df.shape)\n",
    "df.head(3)"
   ]
  },
  {
   "cell_type": "markdown",
   "metadata": {
    "slideshow": {
     "slide_type": "subslide"
    }
   },
   "source": [
    "Creamos el modelo sobre train, y predecimos el valor (el log de la serie 'model_log_est').\n",
    "\n",
    "Luego generamos el back transformation 'back_model_log_est', con una función exponencial."
   ]
  },
  {
   "cell_type": "code",
   "execution_count": 355,
   "metadata": {
    "slideshow": {
     "slide_type": "fragment"
    }
   },
   "outputs": [],
   "source": [
    "# Dividimos en train y test\n",
    "from sklearn.model_selection import train_test_split\n",
    "df_train, df_test = train_test_split(df, test_size=12, random_state=42, shuffle=False)"
   ]
  },
  {
   "cell_type": "code",
   "execution_count": 356,
   "metadata": {
    "slideshow": {
     "slide_type": "fragment"
    }
   },
   "outputs": [],
   "source": [
    "model_log_est = smf.ols( \\\n",
    "    'log_value ~ timeIndex + Aug + Dec + Feb + Jan + Jul + Jun + Mar + May + Nov + Oct + Sep', \\\n",
    "    data = df_train).fit()"
   ]
  },
  {
   "cell_type": "code",
   "execution_count": 357,
   "metadata": {
    "slideshow": {
     "slide_type": "fragment"
    }
   },
   "outputs": [],
   "source": [
    "df_train['model_log_est'] = model_log_est.predict( \\\n",
    "    df_train[[\"timeIndex\", \"Aug\", \"Dec\", \"Feb\", \"Jan\", \"Jul\", \"Jun\", \"Mar\", \"May\", \"Nov\", \"Oct\", \"Sep\"]])\n",
    "df_test['model_log_est'] = model_log_est.predict( \\\n",
    "    df_test[[\"timeIndex\", \"Aug\", \"Dec\", \"Feb\", \"Jan\",\"Jul\", \"Jun\", \"Mar\", \"May\", \"Nov\", \"Oct\", \"Sep\"]])"
   ]
  },
  {
   "cell_type": "code",
   "execution_count": 358,
   "metadata": {
    "slideshow": {
     "slide_type": "fragment"
    }
   },
   "outputs": [],
   "source": [
    "df_train['back_model_log_est'] = np.exp(df_train['model_log_est'])\n",
    "df_test['back_model_log_est'] = np.exp(df_test['model_log_est'])"
   ]
  },
  {
   "cell_type": "markdown",
   "metadata": {
    "slideshow": {
     "slide_type": "subslide"
    }
   },
   "source": [
    "Vamos a trabajar con los **residuos** de la última serie calculada, previamente calculados.\n",
    "\n",
    "Es decir, las diferencias entre el valor original de la serie y los valores predichos por el modelo con back transformation."
   ]
  },
  {
   "cell_type": "code",
   "execution_count": 359,
   "metadata": {
    "slideshow": {
     "slide_type": "fragment"
    }
   },
   "outputs": [
    {
     "data": {
      "image/png": "[encoded data removed]",
      "text/plain": [
       "<Figure size 288x216 with 1 Axes>"
      ]
     },
     "metadata": {
      "needs_background": "light"
     },
     "output_type": "display_data"
    }
   ],
   "source": [
    "res_model = df_train['value'] - df_train['back_model_log_est']\n",
    "plt.figure(figsize=(4,3)); plt.plot(df_train.timeIndex, res_model, '-');plt.show()"
   ]
  },
  {
   "cell_type": "markdown",
   "metadata": {
    "slideshow": {
     "slide_type": "slide"
    }
   },
   "source": [
    "### Ejercicio 1\n",
    "\n",
    "----\n",
    "\n",
    "Aplicar el test de Dickey-Fuller aumentado, ADF, para validar que es estacionaria."
   ]
  },
  {
   "cell_type": "code",
   "execution_count": 360,
   "metadata": {
    "slideshow": {
     "slide_type": "fragment"
    }
   },
   "outputs": [],
   "source": [
    "# result = ....\n",
    "# print('ADF Statistic: %f' % result[0])\n",
    "# print('p-value: %f' % result[1])\n",
    "# for key, value in  result[4].items():\n",
    "#     print('Valor crítico %s: %.2f' % (key,value))"
   ]
  },
  {
   "cell_type": "markdown",
   "metadata": {
    "slideshow": {
     "slide_type": "slide"
    }
   },
   "source": [
    "### Ejercicio 2\n",
    "\n",
    "----\n",
    "\n",
    "Calcular los valores p y q para el modelo ARIMA(p,d,q)."
   ]
  },
  {
   "cell_type": "code",
   "execution_count": 361,
   "metadata": {
    "slideshow": {
     "slide_type": "fragment"
    }
   },
   "outputs": [],
   "source": [
    "from statsmodels.tsa.stattools import acf, pacf\n",
    "from statsmodels.graphics.tsaplots import plot_acf, plot_pacf"
   ]
  },
  {
   "cell_type": "code",
   "execution_count": 362,
   "metadata": {
    "slideshow": {
     "slide_type": "subslide"
    }
   },
   "outputs": [
    {
     "data": {
      "image/png": "[encoded data removed]",
      "text/plain": [
       "<Figure size 576x216 with 2 Axes>"
      ]
     },
     "metadata": {
      "needs_background": "light"
     },
     "output_type": "display_data"
    }
   ],
   "source": [
    "fig, axes = plt.subplots(1, 2,figsize=(8,3))\n",
    "#smt.graphics.plot_acf(....., ....,ax=axes[0],title='ACF')\n",
    "#smt.graphics.plot_pacf(...., ....,ax=axes[1],title='PACF')\n",
    "plt.show()"
   ]
  },
  {
   "cell_type": "markdown",
   "metadata": {
    "slideshow": {
     "slide_type": "slide"
    }
   },
   "source": [
    "### Ejercicio 3\n",
    "\n",
    "----\n",
    "\n",
    "Generar el modelo ARIMA y calcular las predicciones."
   ]
  },
  {
   "cell_type": "code",
   "execution_count": 363,
   "metadata": {
    "slideshow": {
     "slide_type": "fragment"
    }
   },
   "outputs": [],
   "source": [
    "from statsmodels.tsa.arima_model import ARIMA"
   ]
  },
  {
   "cell_type": "code",
   "execution_count": 364,
   "metadata": {
    "slideshow": {
     "slide_type": "fragment"
    }
   },
   "outputs": [],
   "source": [
    "#model_ARIMA = ARIMA(....., order=(.,.,.))\n",
    "#results_ARIMA = model_ARIMA.fit()"
   ]
  },
  {
   "cell_type": "code",
   "execution_count": 365,
   "metadata": {
    "slideshow": {
     "slide_type": "fragment"
    }
   },
   "outputs": [],
   "source": [
    "#predictions_ARIMA, se, conf = results_ARIMA.forecast(......), alpha=0.05)"
   ]
  },
  {
   "cell_type": "markdown",
   "metadata": {
    "slideshow": {
     "slide_type": "slide"
    }
   },
   "source": [
    "### Ejercicio 4\n",
    "\n",
    "----\n",
    "\n",
    "Sumamos los resultados del modelo ARIMA a los valores originales. Graficamos la serie junto con las estimaciones del modelo, en train y test.\n",
    "\n",
    "Recordemos que hicimos el modelo sobre los **residuos** de la última serie calculada, previamente calculados: las diferencias entre el valor original de la serie y los valores predichos por el modelo con back transformation."
   ]
  },
  {
   "cell_type": "code",
   "execution_count": 366,
   "metadata": {
    "slideshow": {
     "slide_type": "fragment"
    }
   },
   "outputs": [],
   "source": [
    "#df_train['model_ARIMA'] = df_train['value'] + .....\n",
    "#df_test['model_ARIMA'] = df_test['value'] + ....."
   ]
  },
  {
   "cell_type": "markdown",
   "metadata": {
    "slideshow": {
     "slide_type": "subslide"
    }
   },
   "source": [
    "Comparamos la serie con las estimaciones del modelo, en train y test."
   ]
  },
  {
   "cell_type": "code",
   "execution_count": 367,
   "metadata": {
    "slideshow": {
     "slide_type": "fragment"
    }
   },
   "outputs": [],
   "source": [
    "#df_train.plot(kind = \"line\", y = ['...', '....'],figsize=(10,3));"
   ]
  },
  {
   "cell_type": "code",
   "execution_count": 368,
   "metadata": {
    "slideshow": {
     "slide_type": "fragment"
    }
   },
   "outputs": [],
   "source": [
    "#df_test.plot(kind = \"line\", y = ['...', '...'],figsize=(10,3));"
   ]
  },
  {
   "cell_type": "markdown",
   "metadata": {
    "slideshow": {
     "slide_type": "slide"
    }
   },
   "source": [
    "### Solución\n",
    "\n",
    "---"
   ]
  },
  {
   "cell_type": "code",
   "execution_count": 369,
   "metadata": {
    "colab": {},
    "colab_type": "code",
    "id": "p2PHSRoPK8OK",
    "slideshow": {
     "slide_type": "fragment"
    }
   },
   "outputs": [],
   "source": [
    "import numpy as np\n",
    "import pandas as pd\n",
    "import matplotlib.pyplot as plt\n",
    "import seaborn as sns\n",
    "%matplotlib inline\n",
    "import warnings\n",
    "warnings.filterwarnings('ignore')"
   ]
  },
  {
   "cell_type": "markdown",
   "metadata": {
    "slideshow": {
     "slide_type": "subslide"
    }
   },
   "source": [
    "Leemos la serie y preparamos las variables."
   ]
  },
  {
   "cell_type": "code",
   "execution_count": 370,
   "metadata": {
    "slideshow": {
     "slide_type": "fragment"
    }
   },
   "outputs": [],
   "source": [
    "df = pd.read_csv(\"../Data/GE.csv\", parse_dates=['date'], index_col='date')"
   ]
  },
  {
   "cell_type": "code",
   "execution_count": 371,
   "metadata": {
    "slideshow": {
     "slide_type": "fragment"
    }
   },
   "outputs": [],
   "source": [
    "# Generamos nuevas variables\n",
    "df[\"timeIndex\"] = pd.Series(np.arange(len(df['value'])), index=df.index)\n",
    "df['log_value'] = np.log(df['value'])\n",
    "\n",
    "df['month'] = [d.strftime('%b') for d in df.index]\n",
    "dummies_mes = pd.get_dummies(df['month'])\n",
    "df = df.join(dummies_mes)"
   ]
  },
  {
   "cell_type": "code",
   "execution_count": 372,
   "metadata": {
    "slideshow": {
     "slide_type": "fragment"
    }
   },
   "outputs": [
    {
     "name": "stdout",
     "output_type": "stream",
     "text": [
      "(93, 16)\n"
     ]
    },
    {
     "data": {
      "text/html": [
       "<div>\n",
       "<style scoped>\n",
       "    .dataframe tbody tr th:only-of-type {\n",
       "        vertical-align: middle;\n",
       "    }\n",
       "\n",
       "    .dataframe tbody tr th {\n",
       "        vertical-align: top;\n",
       "    }\n",
       "\n",
       "    .dataframe thead th {\n",
       "        text-align: right;\n",
       "    }\n",
       "</style>\n",
       "<table border=\"1\" class=\"dataframe\">\n",
       "  <thead>\n",
       "    <tr style=\"text-align: right;\">\n",
       "      <th></th>\n",
       "      <th>value</th>\n",
       "      <th>timeIndex</th>\n",
       "      <th>log_value</th>\n",
       "      <th>month</th>\n",
       "      <th>Apr</th>\n",
       "      <th>Aug</th>\n",
       "      <th>Dec</th>\n",
       "      <th>Feb</th>\n",
       "      <th>Jan</th>\n",
       "      <th>Jul</th>\n",
       "      <th>Jun</th>\n",
       "      <th>Mar</th>\n",
       "      <th>May</th>\n",
       "      <th>Nov</th>\n",
       "      <th>Oct</th>\n",
       "      <th>Sep</th>\n",
       "    </tr>\n",
       "    <tr>\n",
       "      <th>date</th>\n",
       "      <th></th>\n",
       "      <th></th>\n",
       "      <th></th>\n",
       "      <th></th>\n",
       "      <th></th>\n",
       "      <th></th>\n",
       "      <th></th>\n",
       "      <th></th>\n",
       "      <th></th>\n",
       "      <th></th>\n",
       "      <th></th>\n",
       "      <th></th>\n",
       "      <th></th>\n",
       "      <th></th>\n",
       "      <th></th>\n",
       "      <th></th>\n",
       "    </tr>\n",
       "  </thead>\n",
       "  <tbody>\n",
       "    <tr>\n",
       "      <th>2010-01-01</th>\n",
       "      <td>11.433279</td>\n",
       "      <td>0</td>\n",
       "      <td>2.436528</td>\n",
       "      <td>Jan</td>\n",
       "      <td>0</td>\n",
       "      <td>0</td>\n",
       "      <td>0</td>\n",
       "      <td>0</td>\n",
       "      <td>1</td>\n",
       "      <td>0</td>\n",
       "      <td>0</td>\n",
       "      <td>0</td>\n",
       "      <td>0</td>\n",
       "      <td>0</td>\n",
       "      <td>0</td>\n",
       "      <td>0</td>\n",
       "    </tr>\n",
       "    <tr>\n",
       "      <th>2010-02-01</th>\n",
       "      <td>11.419061</td>\n",
       "      <td>1</td>\n",
       "      <td>2.435284</td>\n",
       "      <td>Feb</td>\n",
       "      <td>0</td>\n",
       "      <td>0</td>\n",
       "      <td>0</td>\n",
       "      <td>1</td>\n",
       "      <td>0</td>\n",
       "      <td>0</td>\n",
       "      <td>0</td>\n",
       "      <td>0</td>\n",
       "      <td>0</td>\n",
       "      <td>0</td>\n",
       "      <td>0</td>\n",
       "      <td>0</td>\n",
       "    </tr>\n",
       "    <tr>\n",
       "      <th>2010-03-01</th>\n",
       "      <td>13.021428</td>\n",
       "      <td>2</td>\n",
       "      <td>2.566596</td>\n",
       "      <td>Mar</td>\n",
       "      <td>0</td>\n",
       "      <td>0</td>\n",
       "      <td>0</td>\n",
       "      <td>0</td>\n",
       "      <td>0</td>\n",
       "      <td>0</td>\n",
       "      <td>0</td>\n",
       "      <td>1</td>\n",
       "      <td>0</td>\n",
       "      <td>0</td>\n",
       "      <td>0</td>\n",
       "      <td>0</td>\n",
       "    </tr>\n",
       "  </tbody>\n",
       "</table>\n",
       "</div>"
      ],
      "text/plain": [
       "                value  timeIndex  log_value month  Apr  Aug  Dec  Feb  Jan  \\\n",
       "date                                                                         \n",
       "2010-01-01  11.433279          0   2.436528   Jan    0    0    0    0    1   \n",
       "2010-02-01  11.419061          1   2.435284   Feb    0    0    0    1    0   \n",
       "2010-03-01  13.021428          2   2.566596   Mar    0    0    0    0    0   \n",
       "\n",
       "            Jul  Jun  Mar  May  Nov  Oct  Sep  \n",
       "date                                           \n",
       "2010-01-01    0    0    0    0    0    0    0  \n",
       "2010-02-01    0    0    0    0    0    0    0  \n",
       "2010-03-01    0    0    1    0    0    0    0  "
      ]
     },
     "execution_count": 372,
     "metadata": {},
     "output_type": "execute_result"
    }
   ],
   "source": [
    "print(df.shape)\n",
    "df.head(3)"
   ]
  },
  {
   "cell_type": "code",
   "execution_count": 373,
   "metadata": {},
   "outputs": [
    {
     "data": {
      "image/png": "[encoded data removed]",
      "text/plain": [
       "<Figure size 720x216 with 1 Axes>"
      ]
     },
     "metadata": {
      "needs_background": "light"
     },
     "output_type": "display_data"
    }
   ],
   "source": [
    "df.plot(kind = \"line\", y = ['value'],figsize=(10,3));"
   ]
  },
  {
   "cell_type": "markdown",
   "metadata": {
    "slideshow": {
     "slide_type": "subslide"
    }
   },
   "source": [
    "Creamos el modelo sobre train, y predecimos el valor (el log de la serie 'model_log_est').\n",
    "\n",
    "Luego generamos el back transformation 'back_model_log_est', con una función exponencial."
   ]
  },
  {
   "cell_type": "code",
   "execution_count": 374,
   "metadata": {
    "slideshow": {
     "slide_type": "fragment"
    }
   },
   "outputs": [],
   "source": [
    "# Dividimos en train y test\n",
    "from sklearn.model_selection import train_test_split\n",
    "df_train, df_test = train_test_split(df, test_size=12, random_state=42, shuffle=False)"
   ]
  },
  {
   "cell_type": "code",
   "execution_count": 375,
   "metadata": {
    "slideshow": {
     "slide_type": "fragment"
    }
   },
   "outputs": [],
   "source": [
    "model_log_est = smf.ols( \\\n",
    "    'log_value ~ timeIndex + Aug + Dec + Feb + Jan + Jul + Jun + Mar + May + Nov + Oct + Sep',\\\n",
    "                          data = df_train).fit()"
   ]
  },
  {
   "cell_type": "code",
   "execution_count": 376,
   "metadata": {
    "slideshow": {
     "slide_type": "fragment"
    }
   },
   "outputs": [],
   "source": [
    "df_train['model_log_est'] = model_log_est.predict( \\\n",
    "    df_train[[\"timeIndex\", \"Aug\", \"Dec\", \"Feb\", \"Jan\", \"Jul\", \"Jun\", \"Mar\", \"May\", \"Nov\", \"Oct\", \"Sep\"]])\n",
    "df_test['model_log_est'] = model_log_est.predict( \\\n",
    "    df_test[[\"timeIndex\", \"Aug\", \"Dec\", \"Feb\", \"Jan\",\"Jul\", \"Jun\", \"Mar\", \"May\", \"Nov\", \"Oct\", \"Sep\"]])"
   ]
  },
  {
   "cell_type": "code",
   "execution_count": 377,
   "metadata": {},
   "outputs": [
    {
     "data": {
      "text/html": [
       "<div>\n",
       "<style scoped>\n",
       "    .dataframe tbody tr th:only-of-type {\n",
       "        vertical-align: middle;\n",
       "    }\n",
       "\n",
       "    .dataframe tbody tr th {\n",
       "        vertical-align: top;\n",
       "    }\n",
       "\n",
       "    .dataframe thead th {\n",
       "        text-align: right;\n",
       "    }\n",
       "</style>\n",
       "<table border=\"1\" class=\"dataframe\">\n",
       "  <thead>\n",
       "    <tr style=\"text-align: right;\">\n",
       "      <th></th>\n",
       "      <th>value</th>\n",
       "      <th>timeIndex</th>\n",
       "      <th>log_value</th>\n",
       "      <th>month</th>\n",
       "      <th>Apr</th>\n",
       "      <th>Aug</th>\n",
       "      <th>Dec</th>\n",
       "      <th>Feb</th>\n",
       "      <th>Jan</th>\n",
       "      <th>Jul</th>\n",
       "      <th>Jun</th>\n",
       "      <th>Mar</th>\n",
       "      <th>May</th>\n",
       "      <th>Nov</th>\n",
       "      <th>Oct</th>\n",
       "      <th>Sep</th>\n",
       "      <th>model_log_est</th>\n",
       "    </tr>\n",
       "    <tr>\n",
       "      <th>date</th>\n",
       "      <th></th>\n",
       "      <th></th>\n",
       "      <th></th>\n",
       "      <th></th>\n",
       "      <th></th>\n",
       "      <th></th>\n",
       "      <th></th>\n",
       "      <th></th>\n",
       "      <th></th>\n",
       "      <th></th>\n",
       "      <th></th>\n",
       "      <th></th>\n",
       "      <th></th>\n",
       "      <th></th>\n",
       "      <th></th>\n",
       "      <th></th>\n",
       "      <th></th>\n",
       "    </tr>\n",
       "  </thead>\n",
       "  <tbody>\n",
       "    <tr>\n",
       "      <th>2016-08-01</th>\n",
       "      <td>27.537054</td>\n",
       "      <td>79</td>\n",
       "      <td>3.315533</td>\n",
       "      <td>Aug</td>\n",
       "      <td>0</td>\n",
       "      <td>1</td>\n",
       "      <td>0</td>\n",
       "      <td>0</td>\n",
       "      <td>0</td>\n",
       "      <td>0</td>\n",
       "      <td>0</td>\n",
       "      <td>0</td>\n",
       "      <td>0</td>\n",
       "      <td>0</td>\n",
       "      <td>0</td>\n",
       "      <td>0</td>\n",
       "      <td>3.265027</td>\n",
       "    </tr>\n",
       "    <tr>\n",
       "      <th>2016-09-01</th>\n",
       "      <td>26.109070</td>\n",
       "      <td>80</td>\n",
       "      <td>3.262283</td>\n",
       "      <td>Sep</td>\n",
       "      <td>0</td>\n",
       "      <td>0</td>\n",
       "      <td>0</td>\n",
       "      <td>0</td>\n",
       "      <td>0</td>\n",
       "      <td>0</td>\n",
       "      <td>0</td>\n",
       "      <td>0</td>\n",
       "      <td>0</td>\n",
       "      <td>0</td>\n",
       "      <td>0</td>\n",
       "      <td>1</td>\n",
       "      <td>3.282031</td>\n",
       "    </tr>\n",
       "  </tbody>\n",
       "</table>\n",
       "</div>"
      ],
      "text/plain": [
       "                value  timeIndex  log_value month  Apr  Aug  Dec  Feb  Jan  \\\n",
       "date                                                                         \n",
       "2016-08-01  27.537054         79   3.315533   Aug    0    1    0    0    0   \n",
       "2016-09-01  26.109070         80   3.262283   Sep    0    0    0    0    0   \n",
       "\n",
       "            Jul  Jun  Mar  May  Nov  Oct  Sep  model_log_est  \n",
       "date                                                          \n",
       "2016-08-01    0    0    0    0    0    0    0       3.265027  \n",
       "2016-09-01    0    0    0    0    0    0    1       3.282031  "
      ]
     },
     "execution_count": 377,
     "metadata": {},
     "output_type": "execute_result"
    }
   ],
   "source": [
    "df_train.tail(2)"
   ]
  },
  {
   "cell_type": "code",
   "execution_count": 378,
   "metadata": {},
   "outputs": [
    {
     "data": {
      "text/html": [
       "<div>\n",
       "<style scoped>\n",
       "    .dataframe tbody tr th:only-of-type {\n",
       "        vertical-align: middle;\n",
       "    }\n",
       "\n",
       "    .dataframe tbody tr th {\n",
       "        vertical-align: top;\n",
       "    }\n",
       "\n",
       "    .dataframe thead th {\n",
       "        text-align: right;\n",
       "    }\n",
       "</style>\n",
       "<table border=\"1\" class=\"dataframe\">\n",
       "  <thead>\n",
       "    <tr style=\"text-align: right;\">\n",
       "      <th></th>\n",
       "      <th>value</th>\n",
       "      <th>timeIndex</th>\n",
       "      <th>log_value</th>\n",
       "      <th>month</th>\n",
       "      <th>Apr</th>\n",
       "      <th>Aug</th>\n",
       "      <th>Dec</th>\n",
       "      <th>Feb</th>\n",
       "      <th>Jan</th>\n",
       "      <th>Jul</th>\n",
       "      <th>Jun</th>\n",
       "      <th>Mar</th>\n",
       "      <th>May</th>\n",
       "      <th>Nov</th>\n",
       "      <th>Oct</th>\n",
       "      <th>Sep</th>\n",
       "      <th>model_log_est</th>\n",
       "    </tr>\n",
       "    <tr>\n",
       "      <th>date</th>\n",
       "      <th></th>\n",
       "      <th></th>\n",
       "      <th></th>\n",
       "      <th></th>\n",
       "      <th></th>\n",
       "      <th></th>\n",
       "      <th></th>\n",
       "      <th></th>\n",
       "      <th></th>\n",
       "      <th></th>\n",
       "      <th></th>\n",
       "      <th></th>\n",
       "      <th></th>\n",
       "      <th></th>\n",
       "      <th></th>\n",
       "      <th></th>\n",
       "      <th></th>\n",
       "    </tr>\n",
       "  </thead>\n",
       "  <tbody>\n",
       "    <tr>\n",
       "      <th>2016-10-01</th>\n",
       "      <td>25.850901</td>\n",
       "      <td>81</td>\n",
       "      <td>3.252345</td>\n",
       "      <td>Oct</td>\n",
       "      <td>0</td>\n",
       "      <td>0</td>\n",
       "      <td>0</td>\n",
       "      <td>0</td>\n",
       "      <td>0</td>\n",
       "      <td>0</td>\n",
       "      <td>0</td>\n",
       "      <td>0</td>\n",
       "      <td>0</td>\n",
       "      <td>0</td>\n",
       "      <td>1</td>\n",
       "      <td>0</td>\n",
       "      <td>3.333242</td>\n",
       "    </tr>\n",
       "    <tr>\n",
       "      <th>2016-11-01</th>\n",
       "      <td>27.325562</td>\n",
       "      <td>82</td>\n",
       "      <td>3.307823</td>\n",
       "      <td>Nov</td>\n",
       "      <td>0</td>\n",
       "      <td>0</td>\n",
       "      <td>0</td>\n",
       "      <td>0</td>\n",
       "      <td>0</td>\n",
       "      <td>0</td>\n",
       "      <td>0</td>\n",
       "      <td>0</td>\n",
       "      <td>0</td>\n",
       "      <td>1</td>\n",
       "      <td>0</td>\n",
       "      <td>0</td>\n",
       "      <td>3.337024</td>\n",
       "    </tr>\n",
       "  </tbody>\n",
       "</table>\n",
       "</div>"
      ],
      "text/plain": [
       "                value  timeIndex  log_value month  Apr  Aug  Dec  Feb  Jan  \\\n",
       "date                                                                         \n",
       "2016-10-01  25.850901         81   3.252345   Oct    0    0    0    0    0   \n",
       "2016-11-01  27.325562         82   3.307823   Nov    0    0    0    0    0   \n",
       "\n",
       "            Jul  Jun  Mar  May  Nov  Oct  Sep  model_log_est  \n",
       "date                                                          \n",
       "2016-10-01    0    0    0    0    0    1    0       3.333242  \n",
       "2016-11-01    0    0    0    0    1    0    0       3.337024  "
      ]
     },
     "execution_count": 378,
     "metadata": {},
     "output_type": "execute_result"
    }
   ],
   "source": [
    "df_test.head(2)"
   ]
  },
  {
   "cell_type": "code",
   "execution_count": 379,
   "metadata": {
    "slideshow": {
     "slide_type": "fragment"
    }
   },
   "outputs": [],
   "source": [
    "df_train['back_model_log_est'] = np.exp(df_train['model_log_est'])\n",
    "df_test['back_model_log_est'] = np.exp(df_test['model_log_est'])"
   ]
  },
  {
   "cell_type": "code",
   "execution_count": 380,
   "metadata": {},
   "outputs": [
    {
     "data": {
      "image/png": "[encoded data removed]",
      "text/plain": [
       "<Figure size 720x216 with 1 Axes>"
      ]
     },
     "metadata": {
      "needs_background": "light"
     },
     "output_type": "display_data"
    }
   ],
   "source": [
    "df_train.plot(kind = \"line\", y = ['value', 'back_model_log_est'],figsize=(10,3));"
   ]
  },
  {
   "cell_type": "code",
   "execution_count": 381,
   "metadata": {},
   "outputs": [
    {
     "data": {
      "image/png": "[encoded data removed]",
      "text/plain": [
       "<Figure size 720x216 with 1 Axes>"
      ]
     },
     "metadata": {
      "needs_background": "light"
     },
     "output_type": "display_data"
    }
   ],
   "source": [
    "df_test.plot(kind = \"line\", y = ['value', 'back_model_log_est'],figsize=(10,3));"
   ]
  },
  {
   "cell_type": "code",
   "execution_count": 382,
   "metadata": {},
   "outputs": [],
   "source": [
    "# Vemos el valor de RMSE hasta acá\n",
    "def RMSE(predicted, actual):\n",
    "    mse = (predicted - actual) ** 2\n",
    "    rmse = np.sqrt(mse.sum() / mse.count())\n",
    "    return rmse"
   ]
  },
  {
   "cell_type": "code",
   "execution_count": 383,
   "metadata": {},
   "outputs": [
    {
     "data": {
      "text/plain": [
       "5.550721324298145"
      ]
     },
     "execution_count": 383,
     "metadata": {},
     "output_type": "execute_result"
    }
   ],
   "source": [
    "RMSE(df_test['back_model_log_est'], df_test['value'])"
   ]
  },
  {
   "cell_type": "code",
   "execution_count": null,
   "metadata": {},
   "outputs": [],
   "source": []
  },
  {
   "cell_type": "markdown",
   "metadata": {
    "slideshow": {
     "slide_type": "subslide"
    }
   },
   "source": [
    "Vamos a trabajar con los **residuos** de la última serie calculada, previamente calculados.\n",
    "\n",
    "Es decir, las diferencias entre el valor original de la serie y los valores predichos por el modelo con back transformation."
   ]
  },
  {
   "cell_type": "code",
   "execution_count": 384,
   "metadata": {
    "slideshow": {
     "slide_type": "fragment"
    }
   },
   "outputs": [
    {
     "data": {
      "image/png": "[encoded data removed]",
      "text/plain": [
       "<Figure size 288x216 with 1 Axes>"
      ]
     },
     "metadata": {
      "needs_background": "light"
     },
     "output_type": "display_data"
    }
   ],
   "source": [
    "res_model = df_train['value'] - df_train['back_model_log_est']\n",
    "plt.figure(figsize=(4,3)); plt.plot(df_train.timeIndex, res_model, '-');plt.show()"
   ]
  },
  {
   "cell_type": "markdown",
   "metadata": {
    "slideshow": {
     "slide_type": "slide"
    }
   },
   "source": [
    "### Ejercicio 1\n",
    "\n",
    "----\n",
    "\n",
    "Aplicar el test de Dickey-Fuller aumentado, ADF, para validar que es estacionaria.\n",
    "\n",
    "Muestra un p-value menor a 5%, por lo tanto es estacionaria. La podemos usar para el modelo ARIMA."
   ]
  },
  {
   "cell_type": "code",
   "execution_count": 385,
   "metadata": {
    "slideshow": {
     "slide_type": "fragment"
    }
   },
   "outputs": [
    {
     "name": "stdout",
     "output_type": "stream",
     "text": [
      "ADF Statistic: -3.827876\n",
      "p-value: 0.002635\n",
      "Valor crítico 1%: -3.51\n",
      "Valor crítico 5%: -2.90\n",
      "Valor crítico 10%: -2.59\n"
     ]
    }
   ],
   "source": [
    "result = adfuller(res_model)\n",
    "print('ADF Statistic: %f' % result[0])\n",
    "print('p-value: %f' % result[1])\n",
    "for key, value in  result[4].items():\n",
    "    print('Valor crítico %s: %.2f' % (key,value))"
   ]
  },
  {
   "cell_type": "markdown",
   "metadata": {
    "slideshow": {
     "slide_type": "slide"
    }
   },
   "source": [
    "### Ejercicio 2\n",
    "\n",
    "----\n",
    "\n",
    "Calcular los valores p y q para el modelo ARIMA(p,d,q).\n",
    "\n",
    "Generamos los plot ACF y PACF sobre la serie, con 20 rezagos (lags).\n",
    "\n",
    "En nuestro ejemplo, *ACF cae en forma exponencial* y *PACF tiene dos picos significativos* .\n",
    "\n",
    "Por lo tanto asumimos $p = 2$ y $q = 0$. También podriamos considerar  $p = 2$ y $q = 2$ y chequear cual tiene mejor performance."
   ]
  },
  {
   "cell_type": "code",
   "execution_count": 386,
   "metadata": {
    "slideshow": {
     "slide_type": "fragment"
    }
   },
   "outputs": [],
   "source": [
    "from statsmodels.tsa.stattools import acf, pacf\n",
    "from statsmodels.graphics.tsaplots import plot_acf, plot_pacf"
   ]
  },
  {
   "cell_type": "code",
   "execution_count": 387,
   "metadata": {
    "slideshow": {
     "slide_type": "subslide"
    }
   },
   "outputs": [
    {
     "data": {
      "image/png": "[encoded data removed]",
      "text/plain": [
       "<Figure size 576x216 with 2 Axes>"
      ]
     },
     "metadata": {
      "needs_background": "light"
     },
     "output_type": "display_data"
    }
   ],
   "source": [
    "fig, axes = plt.subplots(1, 2,figsize=(8,3))\n",
    "smt.graphics.plot_acf(res_model, lags=20,ax=axes[0],title='ACF')\n",
    "smt.graphics.plot_pacf(res_model, lags=20,ax=axes[1],title='PACF')\n",
    "plt.show()"
   ]
  },
  {
   "cell_type": "markdown",
   "metadata": {
    "slideshow": {
     "slide_type": "slide"
    }
   },
   "source": [
    "### Ejercicio 3\n",
    "\n",
    "----\n",
    "\n",
    "Generar el modelo ARIMA y calcular las predicciones.\n",
    "\n",
    "Instanciamos el modelo con los parámetros determinados en el análisis de ACF y PACF.\n",
    "\n",
    "- p=2, d=0, q=0. \n",
    "\n",
    "$d=0$ porque la serie es estacionaria.\n",
    "\n",
    "Hacemos las predicciones con el método `forecast()`."
   ]
  },
  {
   "cell_type": "code",
   "execution_count": 388,
   "metadata": {
    "slideshow": {
     "slide_type": "fragment"
    }
   },
   "outputs": [],
   "source": [
    "from statsmodels.tsa.arima_model import ARIMA"
   ]
  },
  {
   "cell_type": "code",
   "execution_count": 389,
   "metadata": {
    "slideshow": {
     "slide_type": "fragment"
    }
   },
   "outputs": [],
   "source": [
    "model_ARIMA = ARIMA(res_model, order=(1,0,0))\n",
    "results_ARIMA = model_ARIMA.fit()"
   ]
  },
  {
   "cell_type": "code",
   "execution_count": 390,
   "metadata": {},
   "outputs": [
    {
     "data": {
      "text/html": [
       "<table class=\"simpletable\">\n",
       "<caption>ARMA Model Results</caption>\n",
       "<tr>\n",
       "  <th>Dep. Variable:</th>         <td>y</td>        <th>  No. Observations:  </th>    <td>81</td>   \n",
       "</tr>\n",
       "<tr>\n",
       "  <th>Model:</th>            <td>ARMA(1, 0)</td>    <th>  Log Likelihood     </th> <td>-105.653</td>\n",
       "</tr>\n",
       "<tr>\n",
       "  <th>Method:</th>             <td>css-mle</td>     <th>  S.D. of innovations</th>   <td>0.888</td> \n",
       "</tr>\n",
       "<tr>\n",
       "  <th>Date:</th>          <td>Fri, 28 Jan 2022</td> <th>  AIC                </th>  <td>217.306</td>\n",
       "</tr>\n",
       "<tr>\n",
       "  <th>Time:</th>              <td>16:34:34</td>     <th>  BIC                </th>  <td>224.489</td>\n",
       "</tr>\n",
       "<tr>\n",
       "  <th>Sample:</th>           <td>01-01-2010</td>    <th>  HQIC               </th>  <td>220.188</td>\n",
       "</tr>\n",
       "<tr>\n",
       "  <th></th>                 <td>- 09-01-2016</td>   <th>                     </th>     <td> </td>   \n",
       "</tr>\n",
       "</table>\n",
       "<table class=\"simpletable\">\n",
       "<tr>\n",
       "     <td></td>        <th>coef</th>     <th>std err</th>      <th>z</th>      <th>P>|z|</th>  <th>[0.025</th>    <th>0.975]</th>  \n",
       "</tr>\n",
       "<tr>\n",
       "  <th>const</th>   <td>    0.0212</td> <td>    0.296</td> <td>    0.072</td> <td> 0.943</td> <td>   -0.558</td> <td>    0.601</td>\n",
       "</tr>\n",
       "<tr>\n",
       "  <th>ar.L1.y</th> <td>    0.6743</td> <td>    0.080</td> <td>    8.414</td> <td> 0.000</td> <td>    0.517</td> <td>    0.831</td>\n",
       "</tr>\n",
       "</table>\n",
       "<table class=\"simpletable\">\n",
       "<caption>Roots</caption>\n",
       "<tr>\n",
       "    <td></td>   <th>            Real</th>  <th>         Imaginary</th> <th>         Modulus</th>  <th>        Frequency</th>\n",
       "</tr>\n",
       "<tr>\n",
       "  <th>AR.1</th> <td>           1.4831</td> <td>          +0.0000j</td> <td>           1.4831</td> <td>           0.0000</td>\n",
       "</tr>\n",
       "</table>"
      ],
      "text/plain": [
       "<class 'statsmodels.iolib.summary.Summary'>\n",
       "\"\"\"\n",
       "                              ARMA Model Results                              \n",
       "==============================================================================\n",
       "Dep. Variable:                      y   No. Observations:                   81\n",
       "Model:                     ARMA(1, 0)   Log Likelihood                -105.653\n",
       "Method:                       css-mle   S.D. of innovations              0.888\n",
       "Date:                Fri, 28 Jan 2022   AIC                            217.306\n",
       "Time:                        16:34:34   BIC                            224.489\n",
       "Sample:                    01-01-2010   HQIC                           220.188\n",
       "                         - 09-01-2016                                         \n",
       "==============================================================================\n",
       "                 coef    std err          z      P>|z|      [0.025      0.975]\n",
       "------------------------------------------------------------------------------\n",
       "const          0.0212      0.296      0.072      0.943      -0.558       0.601\n",
       "ar.L1.y        0.6743      0.080      8.414      0.000       0.517       0.831\n",
       "                                    Roots                                    \n",
       "=============================================================================\n",
       "                  Real          Imaginary           Modulus         Frequency\n",
       "-----------------------------------------------------------------------------\n",
       "AR.1            1.4831           +0.0000j            1.4831            0.0000\n",
       "-----------------------------------------------------------------------------\n",
       "\"\"\""
      ]
     },
     "execution_count": 390,
     "metadata": {},
     "output_type": "execute_result"
    }
   ],
   "source": [
    "results_ARIMA.summary()"
   ]
  },
  {
   "cell_type": "code",
   "execution_count": 391,
   "metadata": {
    "slideshow": {
     "slide_type": "fragment"
    }
   },
   "outputs": [],
   "source": [
    "predictions_ARIMA, se, conf = results_ARIMA.forecast(len(df_test['value']))#, alpha=0.05)"
   ]
  },
  {
   "cell_type": "markdown",
   "metadata": {
    "slideshow": {
     "slide_type": "slide"
    }
   },
   "source": [
    "### Ejercicio 4\n",
    "\n",
    "----\n",
    "\n",
    "Sumamos los resultados del modelo ARIMA a los valores originales. Graficamos la serie junto con las estimaciones del modelo, en train y test.\n",
    "\n",
    "Recordemos que hicimos el modelo sobre los **residuos** de la última serie calculada, previamente calculados: las diferencias entre el valor original de la serie y los valores predichos por el modelo con back transformation."
   ]
  },
  {
   "cell_type": "code",
   "execution_count": 392,
   "metadata": {
    "slideshow": {
     "slide_type": "fragment"
    }
   },
   "outputs": [],
   "source": [
    "df_train['model_ARIMA'] = df_train['back_model_log_est'] + results_ARIMA.fittedvalues\n",
    "df_test['model_ARIMA'] = df_test['back_model_log_est'] + predictions_ARIMA"
   ]
  },
  {
   "cell_type": "markdown",
   "metadata": {
    "slideshow": {
     "slide_type": "subslide"
    }
   },
   "source": [
    "Comparamos la serie con las estimaciones del modelo, en train y test."
   ]
  },
  {
   "cell_type": "code",
   "execution_count": 393,
   "metadata": {
    "slideshow": {
     "slide_type": "fragment"
    }
   },
   "outputs": [
    {
     "data": {
      "image/png": "[encoded data removed]",
      "text/plain": [
       "<Figure size 720x216 with 1 Axes>"
      ]
     },
     "metadata": {
      "needs_background": "light"
     },
     "output_type": "display_data"
    }
   ],
   "source": [
    "df_train.plot(kind = \"line\", y = ['value', 'model_ARIMA'],figsize=(10,3));"
   ]
  },
  {
   "cell_type": "code",
   "execution_count": 394,
   "metadata": {
    "slideshow": {
     "slide_type": "fragment"
    }
   },
   "outputs": [
    {
     "data": {
      "image/png": "[encoded data removed]",
      "text/plain": [
       "<Figure size 720x216 with 1 Axes>"
      ]
     },
     "metadata": {
      "needs_background": "light"
     },
     "output_type": "display_data"
    }
   ],
   "source": [
    "df_test.plot(kind = \"line\", y = ['value', 'model_ARIMA'],figsize=(10,3));"
   ]
  },
  {
   "cell_type": "code",
   "execution_count": 395,
   "metadata": {
    "slideshow": {
     "slide_type": "fragment"
    }
   },
   "outputs": [],
   "source": [
    "def RMSE(predicted, actual):\n",
    "    mse = (predicted - actual) ** 2\n",
    "    rmse = np.sqrt(mse.sum() / mse.count())\n",
    "    return rmse"
   ]
  },
  {
   "cell_type": "code",
   "execution_count": 396,
   "metadata": {
    "slideshow": {
     "slide_type": "fragment"
    }
   },
   "outputs": [
    {
     "data": {
      "text/plain": [
       "5.529606075880175"
      ]
     },
     "execution_count": 396,
     "metadata": {},
     "output_type": "execute_result"
    }
   ],
   "source": [
    "RMSE(df_test['model_ARIMA'], df_test['value'])"
   ]
  },
  {
   "cell_type": "markdown",
   "metadata": {
    "slideshow": {
     "slide_type": "slide"
    }
   },
   "source": [
    "<div class=\"div-dhds-fondo-1\"> Referencias y Material Adicional\n",
    "<img src=\"https://raw.githubusercontent.com/Digital-House-DATA/ds_blend_2021_img/master/M3/CLASE_21_Regresion_Lineal_Simple/Presentacion/img/M3_CLASE_21_separador.png\" align=\"center\" />\n",
    "\n",
    "</div>"
   ]
  },
  {
   "cell_type": "markdown",
   "metadata": {
    "slideshow": {
     "slide_type": "slide"
    }
   },
   "source": [
    "### Referencias y Material Adicional\n",
    "\n",
    "---\n",
    "\n",
    "<a href=\"https://www.statsmodels.org/stable/index.html\" target=\"_blank\">statmodels</a>\n",
    "\n",
    "<a href=\"https://pandas.pydata.org/pandas-docs/version/0.23/timeseries.html\" target=\"_blank\">Pandas - Time Series / Date functionality</a>\n",
    "\n",
    "<a href=\"https://towardsdatascience.com/stationarity-in-time-series-analysis-90c94f27322\" target=\"_blank\">Stationarity in time series analysis</a>\n",
    "\n",
    "<a href=\"https://otexts.com/fpp2/stationarity.html\" target=\"_blank\">Forecasting: Principles and Practice - Estacionaridad</a>\n",
    "\n",
    "<a href=\"https://towardsdatascience.com/pandas-resample-tricks-you-should-know-for-manipulating-time-series-data-7e9643a7e7f3\" target=\"_blank\">Pandas resample() tricks you should know for manipulating time-series data</a>\n",
    "\n",
    "<a href=\"https://towardsdatascience.com/time-series-in-python-exponential-smoothing-and-arima-processes-2c67f2a52788\" target=\"_blank\">Time Series in Python — Exponential Smoothing and ARIMA processes</a>\n",
    "\n",
    "<a href=\"https://www.analyticsvidhya.com/blog/2018/02/time-series-forecasting-methods/\" target=\"_blank\">Time Series Forecasting Methods</a>\n",
    "\n",
    "<a href=\"https://towardsdatascience.com/moving-averages-in-python-16170e20f6c\" target=\"_blank\">Moving averages with Python</a>\n",
    "\n",
    "<a href=\"https://www.machinelearningplus.com/time-series/augmented-dickey-fuller-test/\" target=\"_blank\">Augmented Dickey Fuller Test</a>\n",
    "\n",
    "<a href=\"https://www.machinelearningplus.com/time-series/arima-model-time-series-forecasting-python/\" target=\"_blank\">ARIMA Model – Complete Guide to Time Series Forecasting in Python</a>\n",
    "\n",
    "<a href=\"https://towardsdatascience.com/time-series-forecasting-using-auto-arima-in-python-bb83e49210cd\" target=\"_blank\">Time Series forecasting using Auto ARIMA in python</a>\n",
    "\n",
    "<a href=\"https://analyticsindiamag.com/a-complete-tutorial-on-arauto-for-time-series-analysis-and-modelling/\" target=\"_blank\">A complete tutorial on Arauto for time-series analysis and modelling</a>\n",
    "\n",
    "<a href=\"https://machinelearningmastery.com/xgboost-for-time-series-forecasting/\" target=\"_blank\">How to Use XGBoost for Time Series Forecasting</a>"
   ]
  },
  {
   "cell_type": "code",
   "execution_count": null,
   "metadata": {},
   "outputs": [],
   "source": []
  },
  {
   "cell_type": "markdown",
   "metadata": {},
   "source": [
    "### Auto ARIMA\n",
    "\n",
    "Instalar con > `conda install -c conda-forge pmdarima`\n",
    "\n",
    "https://alkaline-ml.com/pmdarima/modules/generated/pmdarima.arima.auto_arima.html   <br>\n",
    "https://alkaline-ml.com/pmdarima/tips_and_tricks.html\n",
    "\n",
    "\n",
    " Probamos auto ARIMA con el dataset original de Intel"
   ]
  },
  {
   "cell_type": "code",
   "execution_count": 397,
   "metadata": {},
   "outputs": [],
   "source": [
    "X_train = df_train1['log_value']\n",
    "df_test = df_test1.copy()"
   ]
  },
  {
   "cell_type": "code",
   "execution_count": 398,
   "metadata": {},
   "outputs": [],
   "source": [
    "import pmdarima as pm"
   ]
  },
  {
   "cell_type": "code",
   "execution_count": 399,
   "metadata": {},
   "outputs": [
    {
     "name": "stdout",
     "output_type": "stream",
     "text": [
      "Performing stepwise search to minimize aic\n",
      " ARIMA(0,1,0)(0,0,0)[12] intercept   : AIC=-288.486, Time=0.05 sec\n",
      " ARIMA(1,1,0)(1,0,0)[12] intercept   : AIC=-284.821, Time=0.18 sec\n",
      " ARIMA(0,1,1)(0,0,1)[12] intercept   : AIC=-284.740, Time=0.28 sec\n",
      " ARIMA(0,1,0)(0,0,0)[12]             : AIC=-287.187, Time=0.03 sec\n",
      " ARIMA(0,1,0)(1,0,0)[12] intercept   : AIC=-286.804, Time=0.10 sec\n",
      " ARIMA(0,1,0)(0,0,1)[12] intercept   : AIC=-286.729, Time=0.07 sec\n",
      " ARIMA(0,1,0)(1,0,1)[12] intercept   : AIC=inf, Time=0.43 sec\n",
      " ARIMA(1,1,0)(0,0,0)[12] intercept   : AIC=-286.487, Time=0.03 sec\n",
      " ARIMA(0,1,1)(0,0,0)[12] intercept   : AIC=-286.487, Time=0.09 sec\n",
      " ARIMA(1,1,1)(0,0,0)[12] intercept   : AIC=-284.840, Time=0.10 sec\n",
      "\n",
      "Best model:  ARIMA(0,1,0)(0,0,0)[12] intercept\n",
      "Total fit time: 1.385 seconds\n"
     ]
    }
   ],
   "source": [
    "# ojo, stepwise = True prueba muchos menos de manera inteligente y llega a la misma conclusión\n",
    "model = pm.auto_arima(X_train,\n",
    "                      d=None, max_d=2,\n",
    "                      start_p=0, max_p=5,\n",
    "                      start_q=0, max_q=5,\n",
    "                      D=None,\n",
    "                      max_D=2,\n",
    "                      start_P=0, max_P=5,\n",
    "                      start_Q=0, max_Q=5,\n",
    "                      m = 12, seasonal = True, random_state=20,\n",
    "                      njobs = -1,\n",
    "                      maxiter = 100,\n",
    "                      max_order = None,\n",
    "                      stepwise = True,\n",
    "                      with_intercept = 'auto',\n",
    "                      error_action='warn',\n",
    "                      suppress_warnings=True, trace=True)"
   ]
  },
  {
   "cell_type": "code",
   "execution_count": 400,
   "metadata": {},
   "outputs": [
    {
     "data": {
      "image/png": "[encoded data removed]",
      "text/plain": [
       "<Figure size 432x288 with 4 Axes>"
      ]
     },
     "metadata": {
      "needs_background": "light"
     },
     "output_type": "display_data"
    },
    {
     "data": {
      "image/png": "[encoded data removed]",
      "text/plain": [
       "<Figure size 432x288 with 1 Axes>"
      ]
     },
     "metadata": {
      "needs_background": "light"
     },
     "output_type": "display_data"
    }
   ],
   "source": [
    "# plot residual errors \n",
    "residuals = pd.DataFrame(model.resid()) \n",
    "model.plot_diagnostics() \n",
    "plt.show() \n",
    "residuals.plot(kind='kde', title='Residuos') \n",
    "plt.show()"
   ]
  },
  {
   "cell_type": "code",
   "execution_count": 401,
   "metadata": {},
   "outputs": [
    {
     "name": "stdout",
     "output_type": "stream",
     "text": [
      "                               SARIMAX Results                                \n",
      "==============================================================================\n",
      "Dep. Variable:                      y   No. Observations:                  108\n",
      "Model:               SARIMAX(0, 1, 0)   Log Likelihood                 146.243\n",
      "Date:                Fri, 28 Jan 2022   AIC                           -288.486\n",
      "Time:                        16:34:38   BIC                           -283.141\n",
      "Sample:                             0   HQIC                          -286.319\n",
      "                                - 108                                         \n",
      "Covariance Type:                  opg                                         \n",
      "==============================================================================\n",
      "                 coef    std err          z      P>|z|      [0.025      0.975]\n",
      "------------------------------------------------------------------------------\n",
      "intercept      0.0109      0.006      1.826      0.068      -0.001       0.023\n",
      "sigma2         0.0038      0.001      7.145      0.000       0.003       0.005\n",
      "===================================================================================\n",
      "Ljung-Box (L1) (Q):                   0.00   Jarque-Bera (JB):                 0.19\n",
      "Prob(Q):                              0.97   Prob(JB):                         0.91\n",
      "Heteroskedasticity (H):               0.70   Skew:                            -0.10\n",
      "Prob(H) (two-sided):                  0.28   Kurtosis:                         2.92\n",
      "===================================================================================\n",
      "\n",
      "Warnings:\n",
      "[1] Covariance matrix calculated using the outer product of gradients (complex-step).\n"
     ]
    }
   ],
   "source": [
    "print(model.summary())"
   ]
  },
  {
   "cell_type": "code",
   "execution_count": 402,
   "metadata": {},
   "outputs": [
    {
     "data": {
      "text/plain": [
       "array([3.79817799, 3.80909339, 3.82000878, 3.83092418, 3.84183958,\n",
       "       3.85275498, 3.86367037, 3.87458577, 3.88550117, 3.89641657,\n",
       "       3.90733197, 3.91824736])"
      ]
     },
     "metadata": {},
     "output_type": "display_data"
    }
   ],
   "source": [
    "dynamic_forecast = model.predict(n_periods=12)\n",
    "display(dynamic_forecast)"
   ]
  },
  {
   "cell_type": "code",
   "execution_count": 403,
   "metadata": {},
   "outputs": [],
   "source": [
    "df_test['back_model_auto_arima'] = np.exp(dynamic_forecast)\n"
   ]
  },
  {
   "cell_type": "code",
   "execution_count": 404,
   "metadata": {},
   "outputs": [
    {
     "data": {
      "text/html": [
       "<div>\n",
       "<style scoped>\n",
       "    .dataframe tbody tr th:only-of-type {\n",
       "        vertical-align: middle;\n",
       "    }\n",
       "\n",
       "    .dataframe tbody tr th {\n",
       "        vertical-align: top;\n",
       "    }\n",
       "\n",
       "    .dataframe thead th {\n",
       "        text-align: right;\n",
       "    }\n",
       "</style>\n",
       "<table border=\"1\" class=\"dataframe\">\n",
       "  <thead>\n",
       "    <tr style=\"text-align: right;\">\n",
       "      <th></th>\n",
       "      <th>value</th>\n",
       "      <th>timeIndex</th>\n",
       "      <th>log_value</th>\n",
       "      <th>month</th>\n",
       "      <th>Aug</th>\n",
       "      <th>Dec</th>\n",
       "      <th>Feb</th>\n",
       "      <th>Jan</th>\n",
       "      <th>Jul</th>\n",
       "      <th>Jun</th>\n",
       "      <th>Mar</th>\n",
       "      <th>May</th>\n",
       "      <th>Nov</th>\n",
       "      <th>Oct</th>\n",
       "      <th>Sep</th>\n",
       "      <th>back_model_auto_arima</th>\n",
       "    </tr>\n",
       "    <tr>\n",
       "      <th>date</th>\n",
       "      <th></th>\n",
       "      <th></th>\n",
       "      <th></th>\n",
       "      <th></th>\n",
       "      <th></th>\n",
       "      <th></th>\n",
       "      <th></th>\n",
       "      <th></th>\n",
       "      <th></th>\n",
       "      <th></th>\n",
       "      <th></th>\n",
       "      <th></th>\n",
       "      <th></th>\n",
       "      <th></th>\n",
       "      <th></th>\n",
       "      <th></th>\n",
       "    </tr>\n",
       "  </thead>\n",
       "  <tbody>\n",
       "    <tr>\n",
       "      <th>2019-01-01</th>\n",
       "      <td>44.314102</td>\n",
       "      <td>108</td>\n",
       "      <td>3.791303</td>\n",
       "      <td>Jan</td>\n",
       "      <td>0</td>\n",
       "      <td>0</td>\n",
       "      <td>0</td>\n",
       "      <td>1</td>\n",
       "      <td>0</td>\n",
       "      <td>0</td>\n",
       "      <td>0</td>\n",
       "      <td>0</td>\n",
       "      <td>0</td>\n",
       "      <td>0</td>\n",
       "      <td>0</td>\n",
       "      <td>44.619813</td>\n",
       "    </tr>\n",
       "    <tr>\n",
       "      <th>2019-02-01</th>\n",
       "      <td>49.806332</td>\n",
       "      <td>109</td>\n",
       "      <td>3.908142</td>\n",
       "      <td>Feb</td>\n",
       "      <td>0</td>\n",
       "      <td>0</td>\n",
       "      <td>1</td>\n",
       "      <td>0</td>\n",
       "      <td>0</td>\n",
       "      <td>0</td>\n",
       "      <td>0</td>\n",
       "      <td>0</td>\n",
       "      <td>0</td>\n",
       "      <td>0</td>\n",
       "      <td>0</td>\n",
       "      <td>45.109523</td>\n",
       "    </tr>\n",
       "    <tr>\n",
       "      <th>2019-03-01</th>\n",
       "      <td>50.822388</td>\n",
       "      <td>110</td>\n",
       "      <td>3.928337</td>\n",
       "      <td>Mar</td>\n",
       "      <td>0</td>\n",
       "      <td>0</td>\n",
       "      <td>0</td>\n",
       "      <td>0</td>\n",
       "      <td>0</td>\n",
       "      <td>0</td>\n",
       "      <td>1</td>\n",
       "      <td>0</td>\n",
       "      <td>0</td>\n",
       "      <td>0</td>\n",
       "      <td>0</td>\n",
       "      <td>45.604609</td>\n",
       "    </tr>\n",
       "  </tbody>\n",
       "</table>\n",
       "</div>"
      ],
      "text/plain": [
       "                value  timeIndex  log_value month  Aug  Dec  Feb  Jan  Jul  \\\n",
       "date                                                                         \n",
       "2019-01-01  44.314102        108   3.791303   Jan    0    0    0    1    0   \n",
       "2019-02-01  49.806332        109   3.908142   Feb    0    0    1    0    0   \n",
       "2019-03-01  50.822388        110   3.928337   Mar    0    0    0    0    0   \n",
       "\n",
       "            Jun  Mar  May  Nov  Oct  Sep  back_model_auto_arima  \n",
       "date                                                             \n",
       "2019-01-01    0    0    0    0    0    0              44.619813  \n",
       "2019-02-01    0    0    0    0    0    0              45.109523  \n",
       "2019-03-01    0    1    0    0    0    0              45.604609  "
      ]
     },
     "execution_count": 404,
     "metadata": {},
     "output_type": "execute_result"
    }
   ],
   "source": [
    "df_test.head(3)"
   ]
  },
  {
   "cell_type": "code",
   "execution_count": null,
   "metadata": {},
   "outputs": [],
   "source": []
  },
  {
   "cell_type": "code",
   "execution_count": 405,
   "metadata": {
    "slideshow": {
     "slide_type": "fragment"
    }
   },
   "outputs": [
    {
     "data": {
      "text/html": [
       "<div>\n",
       "<style scoped>\n",
       "    .dataframe tbody tr th:only-of-type {\n",
       "        vertical-align: middle;\n",
       "    }\n",
       "\n",
       "    .dataframe tbody tr th {\n",
       "        vertical-align: top;\n",
       "    }\n",
       "\n",
       "    .dataframe thead th {\n",
       "        text-align: right;\n",
       "    }\n",
       "</style>\n",
       "<table border=\"1\" class=\"dataframe\">\n",
       "  <thead>\n",
       "    <tr style=\"text-align: right;\">\n",
       "      <th></th>\n",
       "      <th>Model</th>\n",
       "      <th>RMSE</th>\n",
       "    </tr>\n",
       "  </thead>\n",
       "  <tbody>\n",
       "    <tr>\n",
       "      <th>0</th>\n",
       "      <td>Log Model + est</td>\n",
       "      <td>4.15533</td>\n",
       "    </tr>\n",
       "    <tr>\n",
       "      <th>1</th>\n",
       "      <td>Log Model + est + ARIMA</td>\n",
       "      <td>4.10392</td>\n",
       "    </tr>\n",
       "    <tr>\n",
       "      <th>2</th>\n",
       "      <td>Auto ARIMA</td>\n",
       "      <td>4.12785</td>\n",
       "    </tr>\n",
       "  </tbody>\n",
       "</table>\n",
       "</div>"
      ],
      "text/plain": [
       "                     Model     RMSE\n",
       "0          Log Model + est  4.15533\n",
       "1  Log Model + est + ARIMA  4.10392\n",
       "2               Auto ARIMA  4.12785"
      ]
     },
     "execution_count": 405,
     "metadata": {},
     "output_type": "execute_result"
    }
   ],
   "source": [
    "df_Results.loc[2, \"Model\"] = \"Auto ARIMA\"\n",
    "df_Results.loc[2, \"RMSE\"] = RMSE(df_test['back_model_auto_arima'], df_test['value'])\n",
    "df_Results"
   ]
  },
  {
   "cell_type": "markdown",
   "metadata": {},
   "source": [
    "Observamos visualmente las ventas predichas vs el valor real."
   ]
  },
  {
   "cell_type": "code",
   "execution_count": 406,
   "metadata": {
    "slideshow": {
     "slide_type": "fragment"
    }
   },
   "outputs": [
    {
     "data": {
      "image/png": "[encoded data removed]",
      "text/plain": [
       "<Figure size 720x360 with 1 Axes>"
      ]
     },
     "metadata": {
      "needs_background": "light"
     },
     "output_type": "display_data"
    }
   ],
   "source": [
    "fig, axes = plt.subplots(figsize=(10,5))\n",
    "\n",
    "df_test.plot(kind = \"line\", y = [\"value\",\"back_model_auto_arima\"],ax=axes,title='Test');\n",
    "plt.show()"
   ]
  },
  {
   "cell_type": "code",
   "execution_count": 407,
   "metadata": {},
   "outputs": [
    {
     "data": {
      "text/plain": [
       "0.19347354882961187"
      ]
     },
     "execution_count": 407,
     "metadata": {},
     "output_type": "execute_result"
    }
   ],
   "source": [
    "from sklearn.metrics import r2_score\n",
    "r2_score(df_test['value'], df_test['back_model_auto_arima'])"
   ]
  }
 ],
 "metadata": {
  "kernelspec": {
   "display_name": "Python 3",
   "language": "python",
   "name": "python3"
  },
  "language_info": {
   "codemirror_mode": {
    "name": "ipython",
    "version": 3
   },
   "file_extension": ".py",
   "mimetype": "text/x-python",
   "name": "python",
   "nbconvert_exporter": "python",
   "pygments_lexer": "ipython3",
   "version": "3.8.11"
  }
 },
 "nbformat": 4,
 "nbformat_minor": 4
}
