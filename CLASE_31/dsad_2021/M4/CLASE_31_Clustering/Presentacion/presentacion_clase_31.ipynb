{
 "cells": [
  {
   "cell_type": "code",
   "execution_count": 93,
   "metadata": {
    "slideshow": {
     "slide_type": "skip"
    }
   },
   "outputs": [
    {
     "name": "stdout",
     "output_type": "stream",
     "text": [
      "/media/paulati/Nuevo vol/paula/dh/2021/dsad_2021_paula/common\n",
      "default checking\n",
      "Running command `conda list`... ok\n",
      "jupyterlab=2.2.6 already installed\n",
      "pandas=1.1.5 already installed\n",
      "bokeh=2.2.3 already installed\n",
      "seaborn=0.11.0 already installed\n",
      "matplotlib=3.3.2 already installed\n",
      "ipywidgets=7.5.1 already installed\n",
      "pytest=6.2.1 already installed\n",
      "chardet=4.0.0 already installed\n",
      "psutil=5.7.2 already installed\n",
      "scipy=1.5.2 already installed\n",
      "statsmodels=0.12.1 already installed\n",
      "scikit-learn=0.23.2 already installed\n",
      "xlrd=2.0.1 already installed\n",
      "nltk=3.5 already installed\n",
      "unidecode=1.1.1 already installed\n",
      "pydotplus=2.0.2 already installed\n",
      "pandas-datareader=0.9.0 already installed\n",
      "flask=1.1.2 already installed\n"
     ]
    },
    {
     "data": {
      "text/plain": [
       "<Figure size 432x288 with 0 Axes>"
      ]
     },
     "metadata": {},
     "output_type": "display_data"
    }
   ],
   "source": [
    "# initial setup\n",
    "%run \"../../../common/0_notebooks_base_setup.py\"\n"
   ]
  },
  {
   "cell_type": "markdown",
   "metadata": {
    "slideshow": {
     "slide_type": "slide"
    }
   },
   "source": [
    "<link rel=\"stylesheet\" href=\"../../../common/dhds.css\">\n",
    "<div class=\"Table\">\n",
    "    <div class=\"Row\">\n",
    "        <div class=\"Cell grey left\"> <img src=\"https://raw.githubusercontent.com/Digital-House-DATA/ds_blend_2021_img/master/M4/CLASE_31_Clustering/Presentacion/img/M4_CLASE_31_portada.PNG\" align=\"center\" width=\"70%\"/></div>\n",
    "        <div class=\"Cell right\">\n",
    "            <div class=\"div-logo\"><img src=\"https://raw.githubusercontent.com/Digital-House-DATA/ds_blend_2021_img/master/common/logo_DH.png\" align=\"center\" width=70% /></div>\n",
    "            <div class=\"div-curso\">DATA SCIENCE</div>\n",
    "            <div class=\"div-modulo\">MÓDULO 4</div>\n",
    "            <div class=\"div-contenido\">Clustering</div>\n",
    "        </div>\n",
    "    </div>\n",
    "</div>"
   ]
  },
  {
   "cell_type": "markdown",
   "metadata": {
    "slideshow": {
     "slide_type": "slide"
    }
   },
   "source": [
    "### Agenda\n",
    "\n",
    "---\n",
    "\n",
    "- Aprendizaje no supervisado. Clustering\n",
    "\n",
    "- K-means\n",
    "\n",
    "- Clustering Jerárquico\n",
    "\n",
    "- DBScan\n"
   ]
  },
  {
   "cell_type": "markdown",
   "metadata": {
    "slideshow": {
     "slide_type": "slide"
    }
   },
   "source": [
    "<div class=\"div-dhds-fondo-1\"> Aprendizaje no supervisado - Clustering \n",
    "<img src=\"https://raw.githubusercontent.com/Digital-House-DATA/ds_blend_2021_img/master/M3/CLASE_21_Regresion_Lineal_Simple/Presentacion/img/M3_CLASE_21_separador.png\" align=\"center\" />\n",
    "\n",
    "</div>"
   ]
  },
  {
   "cell_type": "markdown",
   "metadata": {
    "slideshow": {
     "slide_type": "slide"
    }
   },
   "source": [
    "### Aprendizaje no supervisado\n",
    "\n",
    "---\n",
    "\n",
    "Recordemos:\n",
    "\n",
    "¿Cuál es la principal diferencia entre los problemas de *aprendizaje supervisado* y *aprendizaje no supervisado*?\n",
    "\n",
    "<img src=\"https://raw.githubusercontent.com/Digital-House-DATA/ds_blend_2021_img/master/M4/CLASE_31_Clustering/Presentacion/img/M4_CLASE_31_001_no_supervisado.png\" alt=\"no_supervisado\" width=60% height=45% />\n",
    "\n",
    "- En el Aprendizaje no supervisado solamente disponemos de la matriz de features X;  **no hay una variable target** contra la cual evaluar los resultados.\n",
    "\n",
    "    El objetivo consiste en encontrar regularidades en los datos que nos permitan agruparlos por su similaridad."
   ]
  },
  {
   "cell_type": "markdown",
   "metadata": {
    "slideshow": {
     "slide_type": "slide"
    }
   },
   "source": [
    "### Aprendizaje no supervisado\n",
    "\n",
    "---\n",
    "\n",
    "<img src=\"https://raw.githubusercontent.com/Digital-House-DATA/ds_blend_2021_img/master/M4/CLASE_31_Clustering/Presentacion/img/M4_CLASE_31_002_clustering.png\" alt=\"clustering\" width=60% height=40% />\n",
    "\n",
    "Dentro del aprendizaje supervisado tenemos dos grandes grupos de algoritmos:\n",
    "\n",
    "- **Clustering**. Es el proceso de organizar los objetos en grupos cuyos miembros son similares y los grupos distintos entre sí. \n",
    "\n",
    "   Llamamos **cluster** a la colección de datos similares entre ellos.   \n",
    "   \n",
    "- *Reducción de dimensionalidad*. Transforman los datos con alta dimensionalidad, a una representación con menos features que resume las características principales del dataset.\n",
    "\n",
    "    Lo veremos en detalle en otra clase."
   ]
  },
  {
   "cell_type": "markdown",
   "metadata": {
    "slideshow": {
     "slide_type": "subslide"
    }
   },
   "source": [
    "¿Cuál es la diferencia entre Clasificación y Clustering? Ya que ambos crean grupos.\n",
    "\n",
    "- En la clasificación, estamos agrupando los datos de acuerdo *con un conjunto de grupos predefinidos por la clase*. (Supervisado)\n",
    "\n",
    "- En clustering agrupamos los datos con características similares. En otras palabras, tenemos que descubrir las propias clases. (No Supervisado)\n",
    "\n",
    "<img src=\"https://raw.githubusercontent.com/Digital-House-DATA/ds_blend_2021_img/master/M4/CLASE_31_Clustering/Presentacion/img/M4_CLASE_31_003_clustering_class.PNG\" alt=\"clustering_class\" width=60% height=45% />"
   ]
  },
  {
   "cell_type": "markdown",
   "metadata": {
    "slideshow": {
     "slide_type": "subslide"
    }
   },
   "source": [
    "Posibles aplicaciones del clustering:\n",
    "\n",
    "- *Marketing*: grupos de clientes con comportamiento similar.\n",
    "\n",
    "- *Biología*: clasificación de plantas y animales.\n",
    "\n",
    "- *Urbanismo*: identificación de grupos de casas según su tipo de vivienda, valor y ubicación geográfica.\n",
    "\n",
    "- *Textos*: Agrupar documentos que pertenecen a temas similares.\n",
    "\n",
    "- Búsqueda de outliers, valores atípicos.\n",
    "\n",
    "- Hacer un modelo exploratorio de los datos antes de realizar un modelo de clasificación."
   ]
  },
  {
   "cell_type": "markdown",
   "metadata": {
    "slideshow": {
     "slide_type": "slide"
    }
   },
   "source": [
    "### Clustering\n",
    "\n",
    "---\n",
    "\n",
    "Como el objetivo del clustering es encontrar grupos de datos similares entre sí, los resultados dependen de *cómo medimos dicha similaridad*. \n",
    "\n",
    "- En clustering, **la distancia** es la medida más común. La usamos en los *algoritmos K-means y Clustering Jerárquico*.\n",
    "\n",
    "- Otra forma de agrupar es determinando *como se distribuyen las observaciones en el espacio de dimensiones*. Lo llamamos **estimación de la densidad**. Lo usaremos en el *algoritmo DBSCAN*.\n",
    "\n",
    "<img src=\"https://raw.githubusercontent.com/Digital-House-DATA/ds_blend_2021_img/master/M4/CLASE_31_Clustering/Presentacion/img/M4_CLASE_31_004_kmeans_dbscan.PNG\" alt=\"kmeans_dbscan\" width=60% height=45% />"
   ]
  },
  {
   "cell_type": "markdown",
   "metadata": {
    "slideshow": {
     "slide_type": "subslide"
    }
   },
   "source": [
    "En los algoritmos basados en distancia, se deben agrupar las observaciones tales que:\n",
    "\n",
    "- las distancias **internas** deberían ser pequeñas. *Dentro del cluster*.\n",
    "\n",
    "- las distancias **externas** deberían ser grandes. *Entre los clusters*.\n",
    "\n",
    "<img src=\"https://raw.githubusercontent.com/Digital-House-DATA/ds_blend_2021_img/master/M4/CLASE_31_Clustering/Presentacion/img/M4_CLASE_31_005_distancia.png\" alt=\"distancia\" width=60% height=45% />"
   ]
  },
  {
   "cell_type": "markdown",
   "metadata": {
    "slideshow": {
     "slide_type": "slide"
    }
   },
   "source": [
    "<div class=\"div-dhds-fondo-1\"> K-means\n",
    "<img src=\"https://raw.githubusercontent.com/Digital-House-DATA/ds_blend_2021_img/master/M3/CLASE_21_Regresion_Lineal_Simple/Presentacion/img/M3_CLASE_21_separador.png\" align=\"center\" />\n",
    "\n",
    "</div>"
   ]
  },
  {
   "cell_type": "markdown",
   "metadata": {
    "slideshow": {
     "slide_type": "slide"
    }
   },
   "source": [
    "### K-means\n",
    "\n",
    "---\n",
    "\n",
    "K-means es uno de los algoritmos más conocidos para identificar clusters, por su simplicidad y eficiencia. \n",
    "\n",
    "- *Simplicidad*: fácil de entender y de implementar.\n",
    "\n",
    "- *Eficiencia*: la complejidad en tiempo de cómputo es *O(tkn)*, donde n es el tamaño de la muestra, k el número de clusters y t es el número de iteraciones. Como k y t son pequeños valores, se considera un *algoritmo lineal*.\n",
    "\n",
    "<p style=\"color:red;font-size:15px\">Importante:</p>\n",
    "\n",
    "- <p style=\"color:red;font-size:30px\">El número de clusters K es fijado a priori.</p>\n",
    "\n",
    "- <p style=\"color:blue;font-size:30px\">Los clusters son disjuntos.</p>"
   ]
  },
  {
   "cell_type": "markdown",
   "metadata": {
    "slideshow": {
     "slide_type": "slide"
    }
   },
   "source": [
    "### K-means\n",
    "\n",
    "---\n",
    "\n",
    "El criterio para agrupar los datos es por su cercanía a ciertos puntos en el espacio llamados centroides.  \n",
    "\n",
    "Veamos una representación:"
   ]
  },
  {
   "cell_type": "markdown",
   "metadata": {
    "slideshow": {
     "slide_type": "fragment"
    }
   },
   "source": [
    "<img src=\"https://raw.githubusercontent.com/Digital-House-DATA/ds_blend_2021_img/master/M4/CLASE_31_Clustering/Presentacion/img/M4_CLASE_31_006_iterations.webp\" alt=\"iterations\" width=50% height=40% />"
   ]
  },
  {
   "cell_type": "markdown",
   "metadata": {
    "slideshow": {
     "slide_type": "subslide"
    }
   },
   "source": [
    "En su versión más simple, el algoritmo funciona así:\n",
    "\n",
    "1. Se eligen al azar los k puntos en el espacio, **los centroides**. \n",
    "\n",
    "2. Se asocia cada punto u observación con el número de centroide **más cercano**, definiendo así *k-clusters*.\n",
    "\n",
    "3. Se redefinen los centroides como **los centros geométricos de los puntos dentro de cada cluster**. Dicho de otra forma, la posición nueva de cada centroide es el promedio de las posiciones de los puntos asignados al cluster.\n",
    "\n",
    "4. Se repiten los pasos 2-3 *hasta que el algoritmo converge*, es decir, hasta que la composición de los clusters no cambia, o llegue al límite de las iteraciones."
   ]
  },
  {
   "cell_type": "markdown",
   "metadata": {
    "slideshow": {
     "slide_type": "slide"
    }
   },
   "source": [
    "### K-means\n",
    "\n",
    "---\n",
    "\n",
    "El algoritmo tiene como objetivo minimizar la función objetivo:\n",
    "\n",
    "\\begin{equation}\n",
    "J=\\sum_{j=1}^k \\sum_{\\vec{x} \\in S_j} \\vert\\vert \\vec{x} - \\vec{c}_j \\vert\\vert^2\n",
    "\\end{equation}\n",
    "\n",
    "en donde $\\vec{c}_j$ es el centroide del cluster $S_j$.\n",
    "\n",
    "Se busca minimizar la función J que es *la suma de las distancias al cuadrado de los puntos al centroide de su cluster*. \n",
    "\n",
    "K-means no necesariamente selecciona el mínimo de la función objetivo, ya que es sensible a la *selección inicial de los centroides*."
   ]
  },
  {
   "cell_type": "markdown",
   "metadata": {
    "slideshow": {
     "slide_type": "slide"
    }
   },
   "source": [
    "###  Dataset\n",
    "\n",
    "---\n",
    "Para ejemplificar los conceptos, vamos a intentar agrupar a las provincias argentinas.\n",
    "\n",
    "<img src=\"https://raw.githubusercontent.com/Digital-House-DATA/ds_blend_2021_img/master/M4/CLASE_31_Clustering/Presentacion/img/M4_CLASE_31_007_argentina.png\" alt=\"argentina\" width=30% height=45% />"
   ]
  },
  {
   "cell_type": "code",
   "execution_count": 94,
   "metadata": {
    "slideshow": {
     "slide_type": "skip"
    }
   },
   "outputs": [],
   "source": [
    "from sklearn import preprocessing\n",
    "from sklearn.preprocessing import StandardScaler\n",
    "import matplotlib.pyplot as plt\n",
    "import pandas as pd\n",
    "import numpy as np\n",
    "import seaborn as sns"
   ]
  },
  {
   "cell_type": "markdown",
   "metadata": {
    "slideshow": {
     "slide_type": "subslide"
    }
   },
   "source": [
    "Para cada provincia argentina, tenemos datos de los contribuyentes. Por ejemplo, recaudación total, cantidad de contribuyentes, total de contribuyentes por actividad económica, etc."
   ]
  },
  {
   "cell_type": "code",
   "execution_count": 95,
   "metadata": {
    "slideshow": {
     "slide_type": "fragment"
    }
   },
   "outputs": [
    {
     "name": "stdout",
     "output_type": "stream",
     "text": [
      "Filas: 24 Columnas: 16\n"
     ]
    }
   ],
   "source": [
    "df = pd.read_csv('../Data/provincias_actividad.csv', sep=';')\n",
    "print('Filas:', df.shape[0], 'Columnas:', df.shape[1])"
   ]
  },
  {
   "cell_type": "code",
   "execution_count": 96,
   "metadata": {
    "slideshow": {
     "slide_type": "fragment"
    }
   },
   "outputs": [
    {
     "data": {
      "text/html": [
       "<div>\n",
       "<style scoped>\n",
       "    .dataframe tbody tr th:only-of-type {\n",
       "        vertical-align: middle;\n",
       "    }\n",
       "\n",
       "    .dataframe tbody tr th {\n",
       "        vertical-align: top;\n",
       "    }\n",
       "\n",
       "    .dataframe thead th {\n",
       "        text-align: right;\n",
       "    }\n",
       "</style>\n",
       "<table border=\"1\" class=\"dataframe\">\n",
       "  <thead>\n",
       "    <tr style=\"text-align: right;\">\n",
       "      <th></th>\n",
       "      <th>Jurisdiccion</th>\n",
       "      <th>Descripcion</th>\n",
       "      <th>Hab_km2</th>\n",
       "      <th>RecaCM</th>\n",
       "      <th>TotalContribCM</th>\n",
       "      <th>CoParticipacion</th>\n",
       "      <th>Cereales</th>\n",
       "      <th>Oleaginosas</th>\n",
       "      <th>Bovino</th>\n",
       "      <th>Construccion</th>\n",
       "      <th>Venta_Mayor</th>\n",
       "      <th>Venta_menor_prendas</th>\n",
       "      <th>Transporte merc_ granel</th>\n",
       "      <th>Transporte_carga</th>\n",
       "      <th>Seguros</th>\n",
       "      <th>Inmobiliarios</th>\n",
       "    </tr>\n",
       "  </thead>\n",
       "  <tbody>\n",
       "    <tr>\n",
       "      <th>0</th>\n",
       "      <td>901</td>\n",
       "      <td>Capital_Federal</td>\n",
       "      <td>14450.8</td>\n",
       "      <td>15479936868</td>\n",
       "      <td>396727</td>\n",
       "      <td>4219793357</td>\n",
       "      <td>7876</td>\n",
       "      <td>3056</td>\n",
       "      <td>10482</td>\n",
       "      <td>20980</td>\n",
       "      <td>12578</td>\n",
       "      <td>6500</td>\n",
       "      <td>3039</td>\n",
       "      <td>19555</td>\n",
       "      <td>7822</td>\n",
       "      <td>19516</td>\n",
       "    </tr>\n",
       "    <tr>\n",
       "      <th>1</th>\n",
       "      <td>902</td>\n",
       "      <td>Buenos_Aires</td>\n",
       "      <td>50.8</td>\n",
       "      <td>11448441128</td>\n",
       "      <td>415396</td>\n",
       "      <td>37700278142</td>\n",
       "      <td>10256</td>\n",
       "      <td>4131</td>\n",
       "      <td>11978</td>\n",
       "      <td>21450</td>\n",
       "      <td>13480</td>\n",
       "      <td>6720</td>\n",
       "      <td>7046</td>\n",
       "      <td>24834</td>\n",
       "      <td>7928</td>\n",
       "      <td>19508</td>\n",
       "    </tr>\n",
       "    <tr>\n",
       "      <th>2</th>\n",
       "      <td>903</td>\n",
       "      <td>Catamarca</td>\n",
       "      <td>3.6</td>\n",
       "      <td>166109956</td>\n",
       "      <td>15051</td>\n",
       "      <td>4724629477</td>\n",
       "      <td>382</td>\n",
       "      <td>318</td>\n",
       "      <td>311</td>\n",
       "      <td>615</td>\n",
       "      <td>1860</td>\n",
       "      <td>234</td>\n",
       "      <td>611</td>\n",
       "      <td>1293</td>\n",
       "      <td>213</td>\n",
       "      <td>1090</td>\n",
       "    </tr>\n",
       "  </tbody>\n",
       "</table>\n",
       "</div>"
      ],
      "text/plain": [
       "   Jurisdiccion      Descripcion  Hab_km2       RecaCM  TotalContribCM  \\\n",
       "0           901  Capital_Federal  14450.8  15479936868          396727   \n",
       "1           902     Buenos_Aires     50.8  11448441128          415396   \n",
       "2           903        Catamarca      3.6    166109956           15051   \n",
       "\n",
       "   CoParticipacion  Cereales  Oleaginosas  Bovino  Construccion  Venta_Mayor  \\\n",
       "0       4219793357      7876         3056   10482         20980        12578   \n",
       "1      37700278142     10256         4131   11978         21450        13480   \n",
       "2       4724629477       382          318     311           615         1860   \n",
       "\n",
       "   Venta_menor_prendas  Transporte merc_ granel  Transporte_carga  Seguros  \\\n",
       "0                 6500                     3039             19555     7822   \n",
       "1                 6720                     7046             24834     7928   \n",
       "2                  234                      611              1293      213   \n",
       "\n",
       "   Inmobiliarios  \n",
       "0          19516  \n",
       "1          19508  \n",
       "2           1090  "
      ]
     },
     "execution_count": 96,
     "metadata": {},
     "output_type": "execute_result"
    }
   ],
   "source": [
    "df.head(3)"
   ]
  },
  {
   "cell_type": "markdown",
   "metadata": {
    "slideshow": {
     "slide_type": "slide"
    }
   },
   "source": [
    "###  K-means\n",
    "\n",
    "---\n",
    "\n",
    "Recordemos que al utilizar distancias para calcular los clusters, es conveniente *estandarizar las variables previamente*."
   ]
  },
  {
   "cell_type": "code",
   "execution_count": 97,
   "metadata": {
    "slideshow": {
     "slide_type": "fragment"
    }
   },
   "outputs": [],
   "source": [
    "X = df.drop(df.columns[[0, 1]], axis=1) # Eliminamos variables de texto\n",
    "\n",
    "scaler=StandardScaler()\n",
    "X_scaled=scaler.fit_transform(X)"
   ]
  },
  {
   "cell_type": "code",
   "execution_count": 98,
   "metadata": {
    "slideshow": {
     "slide_type": "fragment"
    }
   },
   "outputs": [
    {
     "data": {
      "text/plain": [
       "[array([ 4.79576116,  3.7248256 ,  3.18255718, -0.44616555,  2.1038175 ,\n",
       "         1.68096434,  2.76515225,  3.26306408,  3.00195067,  3.23973257,\n",
       "         0.39818925,  2.61280524,  3.24493909,  3.23804032]),\n",
       " array([-0.19564853,  2.60827336,  3.35934112,  4.24772459,  2.95440432,\n",
       "         2.55834407,  3.25633115,  3.34688635,  3.29907947,  3.36644023,\n",
       "         2.02008948,  3.5269072 ,  3.29635047,  3.23643104])]"
      ]
     },
     "execution_count": 98,
     "metadata": {},
     "output_type": "execute_result"
    }
   ],
   "source": [
    "np.set_printoptions(suppress=True)\n",
    "[X_scaled[i] for i in range(2)]"
   ]
  },
  {
   "cell_type": "markdown",
   "metadata": {
    "slideshow": {
     "slide_type": "slide"
    }
   },
   "source": [
    "###  K-means\n",
    "\n",
    "---\n",
    "\n",
    "Al instanciar el método, le indicamos dos hiperparámetros:\n",
    "\n",
    "- **n_clusters**: la cantidad de clusters que vamos a generar.\n",
    "\n",
    "- *n_init*: número máximo de iteraciones. Puede terminar antes."
   ]
  },
  {
   "cell_type": "code",
   "execution_count": 99,
   "metadata": {
    "slideshow": {
     "slide_type": "fragment"
    }
   },
   "outputs": [],
   "source": [
    "from sklearn.cluster import KMeans\n",
    "\n",
    "kmeans = KMeans(n_clusters=7,n_init=10,random_state=0) # Numero de repeticiones=10"
   ]
  },
  {
   "cell_type": "markdown",
   "metadata": {
    "slideshow": {
     "slide_type": "fragment"
    }
   },
   "source": [
    "Ajustamos el modelo a los datos estandarizados."
   ]
  },
  {
   "cell_type": "code",
   "execution_count": 100,
   "metadata": {
    "slideshow": {
     "slide_type": "fragment"
    }
   },
   "outputs": [
    {
     "data": {
      "text/plain": [
       "KMeans(n_clusters=7, random_state=0)"
      ]
     },
     "execution_count": 100,
     "metadata": {},
     "output_type": "execute_result"
    }
   ],
   "source": [
    "kmeans.fit(X_scaled)"
   ]
  },
  {
   "cell_type": "markdown",
   "metadata": {
    "colab": {},
    "colab_type": "code",
    "id": "Hua9z2EQYqgY",
    "slideshow": {
     "slide_type": "fragment"
    }
   },
   "source": [
    "Obtenemos parámetros del modelo:\n",
    "\n",
    "* *labels_* : vector con la asignación del cluster a cada observación.\n",
    "* *cluster\\_centers\\_* : Coordenadas de los centroides."
   ]
  },
  {
   "cell_type": "code",
   "execution_count": 101,
   "metadata": {
    "slideshow": {
     "slide_type": "fragment"
    }
   },
   "outputs": [],
   "source": [
    "labels = kmeans.labels_ \n",
    "centroids = kmeans.cluster_centers_"
   ]
  },
  {
   "cell_type": "markdown",
   "metadata": {
    "colab": {},
    "colab_type": "code",
    "id": "Hua9z2EQYqgY",
    "slideshow": {
     "slide_type": "subslide"
    }
   },
   "source": [
    "Observamos que dejó solas a las provincias de Capital Federal (3) y Buenos Aires (1), las dos con valores mayores. \n",
    "\n",
    "Luego agrupo a Santa Fe y Cordoba (2), las que le siguen en valores. A continuación agrupa a las restantes provincias."
   ]
  },
  {
   "cell_type": "code",
   "execution_count": 102,
   "metadata": {
    "slideshow": {
     "slide_type": "fragment"
    }
   },
   "outputs": [
    {
     "data": {
      "text/html": [
       "<div>\n",
       "<style scoped>\n",
       "    .dataframe tbody tr th:only-of-type {\n",
       "        vertical-align: middle;\n",
       "    }\n",
       "\n",
       "    .dataframe tbody tr th {\n",
       "        vertical-align: top;\n",
       "    }\n",
       "\n",
       "    .dataframe thead th {\n",
       "        text-align: right;\n",
       "    }\n",
       "</style>\n",
       "<table border=\"1\" class=\"dataframe\">\n",
       "  <thead>\n",
       "    <tr style=\"text-align: right;\">\n",
       "      <th></th>\n",
       "      <th>Provincia</th>\n",
       "      <th>Cluster</th>\n",
       "    </tr>\n",
       "  </thead>\n",
       "  <tbody>\n",
       "    <tr>\n",
       "      <th>1</th>\n",
       "      <td>Buenos_Aires</td>\n",
       "      <td>1</td>\n",
       "    </tr>\n",
       "    <tr>\n",
       "      <th>3</th>\n",
       "      <td>Cordoba</td>\n",
       "      <td>2</td>\n",
       "    </tr>\n",
       "    <tr>\n",
       "      <th>20</th>\n",
       "      <td>Santa_Fe</td>\n",
       "      <td>2</td>\n",
       "    </tr>\n",
       "    <tr>\n",
       "      <th>0</th>\n",
       "      <td>Capital_Federal</td>\n",
       "      <td>3</td>\n",
       "    </tr>\n",
       "  </tbody>\n",
       "</table>\n",
       "</div>"
      ],
      "text/plain": [
       "          Provincia  Cluster\n",
       "1      Buenos_Aires        1\n",
       "3           Cordoba        2\n",
       "20         Santa_Fe        2\n",
       "0   Capital_Federal        3"
      ]
     },
     "execution_count": 102,
     "metadata": {},
     "output_type": "execute_result"
    }
   ],
   "source": [
    "#concatenamos Descripcion con el cluster asignado a cada registro\n",
    "frames = [df['Descripcion'],pd.DataFrame(labels, columns=['Cluster'])]\n",
    "result = pd.concat(frames, axis=1)\n",
    "#cambiamos el nombre de columna de Descripcion a Provincia\n",
    "clusters = result.rename(columns={'Descripcion':'Provincia'})\n",
    "\n",
    "#miramos que provinicas fueron asignadas a los clusters 1 2 y 3\n",
    "clusters.loc[clusters.Cluster.isin([1,2,3])].sort_values(\"Cluster\")"
   ]
  },
  {
   "cell_type": "code",
   "execution_count": 103,
   "metadata": {
    "slideshow": {
     "slide_type": "fragment"
    }
   },
   "outputs": [
    {
     "data": {
      "text/html": [
       "<div>\n",
       "<style scoped>\n",
       "    .dataframe tbody tr th:only-of-type {\n",
       "        vertical-align: middle;\n",
       "    }\n",
       "\n",
       "    .dataframe tbody tr th {\n",
       "        vertical-align: top;\n",
       "    }\n",
       "\n",
       "    .dataframe thead th {\n",
       "        text-align: right;\n",
       "    }\n",
       "</style>\n",
       "<table border=\"1\" class=\"dataframe\">\n",
       "  <thead>\n",
       "    <tr style=\"text-align: right;\">\n",
       "      <th></th>\n",
       "      <th>Provincia</th>\n",
       "    </tr>\n",
       "    <tr>\n",
       "      <th>Cluster</th>\n",
       "      <th></th>\n",
       "    </tr>\n",
       "  </thead>\n",
       "  <tbody>\n",
       "    <tr>\n",
       "      <th>0</th>\n",
       "      <td>3</td>\n",
       "    </tr>\n",
       "    <tr>\n",
       "      <th>4</th>\n",
       "      <td>10</td>\n",
       "    </tr>\n",
       "    <tr>\n",
       "      <th>5</th>\n",
       "      <td>2</td>\n",
       "    </tr>\n",
       "    <tr>\n",
       "      <th>6</th>\n",
       "      <td>5</td>\n",
       "    </tr>\n",
       "  </tbody>\n",
       "</table>\n",
       "</div>"
      ],
      "text/plain": [
       "         Provincia\n",
       "Cluster           \n",
       "0                3\n",
       "4               10\n",
       "5                2\n",
       "6                5"
      ]
     },
     "execution_count": 103,
     "metadata": {},
     "output_type": "execute_result"
    }
   ],
   "source": [
    "# vemos cuántas provincias hay asignadas a cada cluster\n",
    "clusters.loc[clusters.Cluster.isin([0,4,5,6])].groupby(\"Cluster\").count()"
   ]
  },
  {
   "cell_type": "code",
   "execution_count": 104,
   "metadata": {
    "slideshow": {
     "slide_type": "subslide"
    }
   },
   "outputs": [
    {
     "data": {
      "text/html": [
       "<div>\n",
       "<style scoped>\n",
       "    .dataframe tbody tr th:only-of-type {\n",
       "        vertical-align: middle;\n",
       "    }\n",
       "\n",
       "    .dataframe tbody tr th {\n",
       "        vertical-align: top;\n",
       "    }\n",
       "\n",
       "    .dataframe thead th {\n",
       "        text-align: right;\n",
       "    }\n",
       "</style>\n",
       "<table border=\"1\" class=\"dataframe\">\n",
       "  <thead>\n",
       "    <tr style=\"text-align: right;\">\n",
       "      <th></th>\n",
       "      <th>Provincia</th>\n",
       "      <th>Cluster</th>\n",
       "    </tr>\n",
       "  </thead>\n",
       "  <tbody>\n",
       "    <tr>\n",
       "      <th>12</th>\n",
       "      <td>Mendoza</td>\n",
       "      <td>0</td>\n",
       "    </tr>\n",
       "    <tr>\n",
       "      <th>4</th>\n",
       "      <td>Corrientes</td>\n",
       "      <td>0</td>\n",
       "    </tr>\n",
       "    <tr>\n",
       "      <th>15</th>\n",
       "      <td>Rio_Negro</td>\n",
       "      <td>0</td>\n",
       "    </tr>\n",
       "    <tr>\n",
       "      <th>19</th>\n",
       "      <td>Santa_Cruz</td>\n",
       "      <td>4</td>\n",
       "    </tr>\n",
       "    <tr>\n",
       "      <th>17</th>\n",
       "      <td>San_Juan</td>\n",
       "      <td>4</td>\n",
       "    </tr>\n",
       "    <tr>\n",
       "      <th>14</th>\n",
       "      <td>Neuquen</td>\n",
       "      <td>4</td>\n",
       "    </tr>\n",
       "    <tr>\n",
       "      <th>13</th>\n",
       "      <td>Misiones</td>\n",
       "      <td>4</td>\n",
       "    </tr>\n",
       "    <tr>\n",
       "      <th>22</th>\n",
       "      <td>Tierra_del_Fuego</td>\n",
       "      <td>4</td>\n",
       "    </tr>\n",
       "    <tr>\n",
       "      <th>2</th>\n",
       "      <td>Catamarca</td>\n",
       "      <td>4</td>\n",
       "    </tr>\n",
       "    <tr>\n",
       "      <th>9</th>\n",
       "      <td>Jujuy</td>\n",
       "      <td>4</td>\n",
       "    </tr>\n",
       "    <tr>\n",
       "      <th>8</th>\n",
       "      <td>Formosa</td>\n",
       "      <td>4</td>\n",
       "    </tr>\n",
       "    <tr>\n",
       "      <th>6</th>\n",
       "      <td>Chubut</td>\n",
       "      <td>4</td>\n",
       "    </tr>\n",
       "    <tr>\n",
       "      <th>11</th>\n",
       "      <td>La_Rioja</td>\n",
       "      <td>4</td>\n",
       "    </tr>\n",
       "    <tr>\n",
       "      <th>10</th>\n",
       "      <td>La_Pampa</td>\n",
       "      <td>5</td>\n",
       "    </tr>\n",
       "    <tr>\n",
       "      <th>18</th>\n",
       "      <td>San_Luis</td>\n",
       "      <td>5</td>\n",
       "    </tr>\n",
       "    <tr>\n",
       "      <th>7</th>\n",
       "      <td>Entre_Rios</td>\n",
       "      <td>6</td>\n",
       "    </tr>\n",
       "    <tr>\n",
       "      <th>16</th>\n",
       "      <td>Salta</td>\n",
       "      <td>6</td>\n",
       "    </tr>\n",
       "    <tr>\n",
       "      <th>5</th>\n",
       "      <td>Chaco</td>\n",
       "      <td>6</td>\n",
       "    </tr>\n",
       "    <tr>\n",
       "      <th>21</th>\n",
       "      <td>Santiago_del_Estero</td>\n",
       "      <td>6</td>\n",
       "    </tr>\n",
       "    <tr>\n",
       "      <th>23</th>\n",
       "      <td>Tucuman</td>\n",
       "      <td>6</td>\n",
       "    </tr>\n",
       "  </tbody>\n",
       "</table>\n",
       "</div>"
      ],
      "text/plain": [
       "              Provincia  Cluster\n",
       "12              Mendoza        0\n",
       "4            Corrientes        0\n",
       "15            Rio_Negro        0\n",
       "19           Santa_Cruz        4\n",
       "17             San_Juan        4\n",
       "14              Neuquen        4\n",
       "13             Misiones        4\n",
       "22     Tierra_del_Fuego        4\n",
       "2             Catamarca        4\n",
       "9                 Jujuy        4\n",
       "8               Formosa        4\n",
       "6                Chubut        4\n",
       "11             La_Rioja        4\n",
       "10             La_Pampa        5\n",
       "18             San_Luis        5\n",
       "7            Entre_Rios        6\n",
       "16                Salta        6\n",
       "5                 Chaco        6\n",
       "21  Santiago_del_Estero        6\n",
       "23              Tucuman        6"
      ]
     },
     "execution_count": 104,
     "metadata": {},
     "output_type": "execute_result"
    }
   ],
   "source": [
    "#miramos que provinicas fueron asignadas a los clusters 0 4 5 6\n",
    "clusters.loc[clusters.Cluster.isin([0,4,5,6])].sort_values(\"Cluster\")"
   ]
  },
  {
   "cell_type": "markdown",
   "metadata": {
    "slideshow": {
     "slide_type": "slide"
    }
   },
   "source": [
    "###  Regla del codo\n",
    "\n",
    "---\n",
    "\n",
    "Como evaluamos si el valor K cantidad de clusters es el óptimo?\n",
    "\n",
    "Habiamos visto que K-means busca minimizar *la suma de las distancias al cuadrado de los puntos al centroide de su cluster*. \n",
    "\n",
    "Calculamos el valor de la función para distintos K. Usamos el atributo *'inertia_'*."
   ]
  },
  {
   "cell_type": "code",
   "execution_count": 105,
   "metadata": {
    "slideshow": {
     "slide_type": "fragment"
    }
   },
   "outputs": [
    {
     "data": {
      "image/png": "[encoded data removed]",
      "text/plain": [
       "<Figure size 360x216 with 1 Axes>"
      ]
     },
     "metadata": {
      "needs_background": "light"
     },
     "output_type": "display_data"
    }
   ],
   "source": [
    "sq_distances=[]; k_values=range(2,10);\n",
    "\n",
    "for k in k_values:\n",
    "    kmeans=KMeans(n_clusters=k,n_init=10,random_state=0) # Numero de repeticiones=10\n",
    "    kmeans.fit(X_scaled)\n",
    "    sq_distances.append(kmeans.inertia_)\n",
    "\n",
    "plt.figure(figsize=(5,3)); sns.lineplot(x=k_values,y=sq_distances,marker='o',size=30,legend=False);\n",
    "plt.ylabel('Suma Distancias Cuadráticas');plt.xlabel('Número de clusters');    "
   ]
  },
  {
   "cell_type": "markdown",
   "metadata": {
    "slideshow": {
     "slide_type": "subslide"
    }
   },
   "source": [
    "Observamos que a medida que aumenta el número de clusters, la suma de distancias cuadráticas se achica. \n",
    "\n",
    "Evidentemente, si k fuera igual a n, habría un centroide para cada punto y las distancias serían todas iguales a cero.\n",
    "\n",
    "Pero podemos aplicar un criterio para elegir el k mirando este gráfico. Lo llamamos **la regla del codo** (Elbow method).\n",
    "\n",
    "Se elige el k **a partir del cual la curva se aplana**, *\"donde se encuentra el codo\"*.\n",
    "\n",
    "En nuestro ejemplo, $K = 4$ es una buena opción."
   ]
  },
  {
   "cell_type": "markdown",
   "metadata": {
    "slideshow": {
     "slide_type": "slide"
    }
   },
   "source": [
    "### Silhouette score\n",
    "\n",
    "---\n",
    "\n",
    "El **coeficiente Silhouette** mide cuán cercano es un punto al resto de los que están *en su mismo cluster*, en relación a cuán cercano es a los puntos *del cluster más próximo*. \n",
    "\n",
    "Es decir que para cada punto $i$, se tiene un coeficiente $s_i$\n",
    "\n",
    "$$\n",
    "s_i=\\frac{b(i)-a(i)}{max\\{a(i),b(i)\\}}\n",
    "$$\n",
    "\n",
    "en donde $a(i)$ es la distancia promedio a los otros puntos del mismo cluster y $b(i)$ es la distancia promedio a todos los puntos del cluster vecino más cercano. De esta manera\n",
    "\n",
    "$$\n",
    "-1\\le s_i \\le 1\n",
    "$$\n",
    "\n",
    "- Si $s$ es cercano a 1, significa que el punto $i$ está correctamente etiquetado\n",
    "\n",
    "- $s$ cercano a cero indica que estaría igual de bien (o mal) etiquetarlo con el cluster vecino más cercano\n",
    "\n",
    "- $s$ cercano a -1 significa que el punto $i$ está mal etiquetado y pertenece al cluster vecino."
   ]
  },
  {
   "cell_type": "markdown",
   "metadata": {
    "slideshow": {
     "slide_type": "subslide"
    }
   },
   "source": [
    "Para obtener un score del clustering promediamos los coeficientes:\n",
    "\n",
    "$$\n",
    "S(C)=\\frac{1}{k}\\sum_{j=1}^k \\bar{s}_j\n",
    "$$\n",
    "\n",
    "en donde $\\bar{s}_j$ es el coeficiente promedio de todos los puntos dentro del cluster j-ésimo.\n",
    "\n",
    "Graficamos el score en función de k; el valor óptimo está entre k= 2 y 4."
   ]
  },
  {
   "cell_type": "code",
   "execution_count": 106,
   "metadata": {
    "slideshow": {
     "slide_type": "fragment"
    }
   },
   "outputs": [
    {
     "data": {
      "image/png": "[encoded data removed]",
      "text/plain": [
       "<Figure size 360x216 with 1 Axes>"
      ]
     },
     "metadata": {
      "needs_background": "light"
     },
     "output_type": "display_data"
    }
   ],
   "source": [
    "from sklearn.metrics import silhouette_score,silhouette_samples\n",
    "sil=[]; k_values=range(2,10);\n",
    "\n",
    "for k in k_values:\n",
    "    kmeans=KMeans(n_clusters=k,n_init=10,random_state=0) # Numero de repeticiones=10\n",
    "    kmeans.fit(X_scaled); score=silhouette_score(X_scaled,kmeans.labels_)\n",
    "    sil.append(score)\n",
    "\n",
    "plt.figure(figsize=(5,3));sns.lineplot(x=k_values,y=sil,marker='o',size=30,legend=False);\n",
    "plt.ylabel('Silhouette score',fontsize=8);plt.xlabel('Número de clusters',fontsize=8);"
   ]
  },
  {
   "cell_type": "markdown",
   "metadata": {
    "slideshow": {
     "slide_type": "slide"
    }
   },
   "source": [
    "#### Calinski-Harabasz score\n",
    "\n",
    "---\n",
    "\n",
    "Mide la relación entre la *dispersión inter-clusters* y la *dispersión intra-clusters*. \n",
    "\n",
    "Una estructura de clusters bien definidos tiene una *alta dispersión entre clusters diferentes* y *baja dispersión dentro de cada cluster*. \n",
    "\n",
    "Se define:\n",
    "\n",
    "$$\n",
    "s(k)=\\frac{Tr(B_k)}{Tr(W_k)}\\frac{N-k}{k-1}\n",
    "$$\n",
    "\n",
    "en donde $Tr(B_k)$ y $Tr(W_k)$ son las trazas de las matrices de dispersión entre clusters $B_k$ e intra clusters $Tr(W_k)$.\n",
    "\n",
    "\n",
    "El factor $\\frac{Tr(B_k)}{Tr(W_k)}$ tiende a aumentar con el número de clusters, puesto que al aumentar k estamos generando clusters más chicos y por ende menos dispersos. \n",
    "\n",
    "El segundo factor $\\frac{N-k}{k-1}$ busca controlar este efecto: tiende a cero cuando k tiende a N. "
   ]
  },
  {
   "cell_type": "markdown",
   "metadata": {
    "slideshow": {
     "slide_type": "subslide"
    }
   },
   "source": [
    "Calculamos el score para distintos valores de K. \n",
    "\n",
    "Dependiendo de la estructura de los datos puede aparecer:\n",
    "\n",
    "- Un *pico bien definido* que nos permita elegir el k.\n",
    "- Sino, se usa la *regla del codo*."
   ]
  },
  {
   "cell_type": "code",
   "execution_count": 107,
   "metadata": {
    "slideshow": {
     "slide_type": "fragment"
    }
   },
   "outputs": [
    {
     "data": {
      "image/png": "[encoded data removed]",
      "text/plain": [
       "<Figure size 360x216 with 1 Axes>"
      ]
     },
     "metadata": {
      "needs_background": "light"
     },
     "output_type": "display_data"
    }
   ],
   "source": [
    "from sklearn.metrics import calinski_harabasz_score\n",
    "k_values=range(2,9); ch_scores=[]\n",
    "\n",
    "for k in k_values:  \n",
    "    kmeans=KMeans(n_clusters=k,n_init=10,random_state=0) # Numero de repeticiones=10\n",
    "    kmeans.fit(X_scaled)\n",
    "    score=calinski_harabasz_score(X_scaled,kmeans.labels_)\n",
    "    ch_scores.append(score)\n",
    "\n",
    "plt.figure(figsize=(5,3));\n",
    "sns.lineplot(x=k_values,y=ch_scores,marker='o',size=30,legend=False);\n",
    "plt.ylabel('Calinski-Harabasz',fontsize=10);plt.xlabel('Número de clusters',fontsize=10);"
   ]
  },
  {
   "cell_type": "markdown",
   "metadata": {
    "slideshow": {
     "slide_type": "slide"
    }
   },
   "source": [
    "### K-means - resumen\n",
    "\n",
    "---\n",
    "- Requiere definir el valor de K a priori.\n",
    "\n",
    "- Los clusters son disjuntos.\n",
    "\n",
    "- Como empieza con una asignación de clusters aleatoria *los resultados pueden variar*. \n",
    "\n",
    "   Se puede mejorar haciendo *varias corridas* y seleccionar el que resulte con menor costo.\n",
    "   \n",
    "- Se basa en la hipótesis de que los clusters tienen una geometría esférica, y por eso busca minimizar la distancia euclídea (al cuadrado). \n",
    "\n",
    "   Si los clusters tuvieran *otra geometría* tal vez no los identifique.\n",
    "\n",
    "- K-means es **sensible a outliers**. Como todos los puntos se asignan a algún cluster, la presencia de outliers en los datos puede sesgar la estimación de los centroides, afectando el resultado final. \n",
    "\n",
    "   En general conviene aislarlos previamente; otras veces forman un cluster y nos ayudan con el análisis de los datos. \n"
   ]
  },
  {
   "cell_type": "markdown",
   "metadata": {
    "slideshow": {
     "slide_type": "slide"
    }
   },
   "source": [
    "<div class=\"div-dhds-fondo-1\"> Clustering Jerárquico\n",
    "<img src=\"https://raw.githubusercontent.com/Digital-House-DATA/ds_blend_2021_img/master/M3/CLASE_21_Regresion_Lineal_Simple/Presentacion/img/M3_CLASE_21_separador.png\" align=\"center\" />\n",
    "\n",
    "</div>"
   ]
  },
  {
   "cell_type": "markdown",
   "metadata": {
    "slideshow": {
     "slide_type": "slide"
    }
   },
   "source": [
    "### Clustering Jerárquico\n",
    "\n",
    "---\n",
    "\n",
    "Distinto a K-means, **Clustering Jerárquico** comienza asignando todos los puntos a su *propio cluster*. Es decir que cada punto es un cluster. \n",
    "\n",
    "Se los llama *aglomerativos o bottom up*.\n",
    "\n",
    "Como dice su nombre, construye **una jerarquía** en cada paso, combinando los dos puntos más cercanos en un único cluster.\n",
    "\n",
    "Finaliza con *todos los puntos en un único cluster*.\n",
    "\n",
    "<img src=\"https://raw.githubusercontent.com/Digital-House-DATA/ds_blend_2021_img/master/M4/CLASE_31_Clustering/Presentacion/img/M4_CLASE_31_008_jerarquico.PNG\" alt=\"jerarquico\" width=60% height=45% />"
   ]
  },
  {
   "cell_type": "markdown",
   "metadata": {
    "slideshow": {
     "slide_type": "slide"
    }
   },
   "source": [
    "### Clustering Jerárquico\n",
    "\n",
    "---\n",
    "\n",
    "<img src=\"https://raw.githubusercontent.com/Digital-House-DATA/ds_blend_2021_img/master/M4/CLASE_31_Clustering/Presentacion/img/M4_CLASE_31_009_dendograma.PNG\" alt=\"dendograma\" width=35% height=25% />\n",
    "\n",
    "La visualización de los clusters en forma de árbol se llama **dendograma**. Es muy útil para determinar el número de clusters más apropiado. \n",
    "\n",
    "- La línea punteada horizontal corta a *cuatro líneas verticales*. Indica que seleccionamos *cuatro clusters*.\n",
    "\n",
    "- Moviendo la línea hacia arriba o hacia abajo, determinamos los K clusters seleccionados.\n",
    "\n",
    "Por lo tanto, este algoritmo **no requiere determinar el número K de clusters a priori**."
   ]
  },
  {
   "cell_type": "markdown",
   "metadata": {
    "slideshow": {
     "slide_type": "slide"
    }
   },
   "source": [
    "### Clustering Jerárquico\n",
    " \n",
    "---\n",
    "Para la construcción del clustering jerárquico necesitamos dos elementos:\n",
    "\n",
    "- Una *medida de distancia*, al igual que con k-means, para determinar la cercanía.\n",
    "\n",
    "- Un criterio para fusionar los clusters. Por ejemplo, medir la distancia entre ellos y seleccionar los más cercanos. \n",
    "\n",
    "   A este criterio se lo llama **linkage**.\n",
    "\n",
    "<img src=\"https://raw.githubusercontent.com/Digital-House-DATA/ds_blend_2021_img/master/M4/CLASE_31_Clustering/Presentacion/img/M4_CLASE_31_010_linkage.png\" alt=\"linkage\" width=80% height=75% />\n"
   ]
  },
  {
   "cell_type": "markdown",
   "metadata": {
    "slideshow": {
     "slide_type": "subslide"
    }
   },
   "source": [
    "<img src=\"https://raw.githubusercontent.com/Digital-House-DATA/ds_blend_2021_img/master/M4/CLASE_31_Clustering/Presentacion/img/M4_CLASE_31_011_linkage.png\" alt=\"linkage\" width=80% height=60% />\n",
    "\n",
    "* <b>Ward</b> es la opción por default. Tiende a generar *clusters de dimensiones similares* y funciona bien en la mayoría de los casos.\n",
    "\n",
    "* Si tenemos clusters con *diferentes cantidad de miembros*, <b>Complete</b> y <b>Average</b> son buenas opciones.\n",
    "\n",
    "* <b>Single linkage</b> tiende a generar clusters extendidos en los que las hojas se van agregando de a una."
   ]
  },
  {
   "cell_type": "markdown",
   "metadata": {
    "slideshow": {
     "slide_type": "slide"
    }
   },
   "source": [
    "### Ejemplo\n",
    "\n",
    "---\n",
    "\n",
    "Vamos a generar clusters sobre un dataset de automoviles.\n",
    "\n",
    "<img src=\"https://raw.githubusercontent.com/Digital-House-DATA/ds_blend_2021_img/master/M4/CLASE_31_Clustering/Presentacion/img/M4_CLASE_31_012_autos.jpg\" alt=\"autos\" width=45% height=25% />"
   ]
  },
  {
   "cell_type": "code",
   "execution_count": 108,
   "metadata": {
    "slideshow": {
     "slide_type": "skip"
    }
   },
   "outputs": [],
   "source": [
    "import numpy as np\n",
    "import pandas as pd\n",
    "from matplotlib import pyplot as plt\n",
    "import seaborn as sns\n",
    "from sklearn.preprocessing import StandardScaler\n",
    "from scipy.spatial.distance import pdist"
   ]
  },
  {
   "cell_type": "code",
   "execution_count": 109,
   "metadata": {
    "slideshow": {
     "slide_type": "fragment"
    }
   },
   "outputs": [
    {
     "name": "stdout",
     "output_type": "stream",
     "text": [
      "Filas: 199 Columnas: 19\n"
     ]
    }
   ],
   "source": [
    "df = pd.read_csv('../Data/automobile.csv', sep=';')\n",
    "print('Filas:', df.shape[0], 'Columnas:', df.shape[1])"
   ]
  },
  {
   "cell_type": "code",
   "execution_count": 110,
   "metadata": {
    "slideshow": {
     "slide_type": "subslide"
    }
   },
   "outputs": [
    {
     "data": {
      "text/html": [
       "<div>\n",
       "<style scoped>\n",
       "    .dataframe tbody tr th:only-of-type {\n",
       "        vertical-align: middle;\n",
       "    }\n",
       "\n",
       "    .dataframe tbody tr th {\n",
       "        vertical-align: top;\n",
       "    }\n",
       "\n",
       "    .dataframe thead th {\n",
       "        text-align: right;\n",
       "    }\n",
       "</style>\n",
       "<table border=\"1\" class=\"dataframe\">\n",
       "  <thead>\n",
       "    <tr style=\"text-align: right;\">\n",
       "      <th></th>\n",
       "      <th>make</th>\n",
       "      <th>fuel_type</th>\n",
       "      <th>num_of_doors</th>\n",
       "      <th>body_style</th>\n",
       "      <th>wheel_base</th>\n",
       "      <th>length</th>\n",
       "      <th>width</th>\n",
       "      <th>height</th>\n",
       "      <th>curb_weight</th>\n",
       "      <th>num_of_cylinders</th>\n",
       "      <th>engine_size</th>\n",
       "      <th>bore</th>\n",
       "      <th>stroke</th>\n",
       "      <th>compression_ratio</th>\n",
       "      <th>horsepower</th>\n",
       "      <th>peak_rpm</th>\n",
       "      <th>city_mpg</th>\n",
       "      <th>highway_mpg</th>\n",
       "      <th>price</th>\n",
       "    </tr>\n",
       "  </thead>\n",
       "  <tbody>\n",
       "    <tr>\n",
       "      <th>179</th>\n",
       "      <td>volkswagen</td>\n",
       "      <td>gas</td>\n",
       "      <td>four</td>\n",
       "      <td>sedan</td>\n",
       "      <td>97.3</td>\n",
       "      <td>171.7</td>\n",
       "      <td>65.5</td>\n",
       "      <td>55.7</td>\n",
       "      <td>2212</td>\n",
       "      <td>four</td>\n",
       "      <td>109</td>\n",
       "      <td>3.19</td>\n",
       "      <td>3.40</td>\n",
       "      <td>9.0</td>\n",
       "      <td>85</td>\n",
       "      <td>5250</td>\n",
       "      <td>27</td>\n",
       "      <td>34</td>\n",
       "      <td>8195</td>\n",
       "    </tr>\n",
       "    <tr>\n",
       "      <th>87</th>\n",
       "      <td>nissan</td>\n",
       "      <td>gas</td>\n",
       "      <td>two</td>\n",
       "      <td>sedan</td>\n",
       "      <td>94.5</td>\n",
       "      <td>165.3</td>\n",
       "      <td>63.8</td>\n",
       "      <td>54.5</td>\n",
       "      <td>1918</td>\n",
       "      <td>four</td>\n",
       "      <td>97</td>\n",
       "      <td>3.15</td>\n",
       "      <td>3.29</td>\n",
       "      <td>9.4</td>\n",
       "      <td>69</td>\n",
       "      <td>5200</td>\n",
       "      <td>31</td>\n",
       "      <td>37</td>\n",
       "      <td>6649</td>\n",
       "    </tr>\n",
       "    <tr>\n",
       "      <th>90</th>\n",
       "      <td>nissan</td>\n",
       "      <td>gas</td>\n",
       "      <td>two</td>\n",
       "      <td>sedan</td>\n",
       "      <td>94.5</td>\n",
       "      <td>165.3</td>\n",
       "      <td>63.8</td>\n",
       "      <td>54.5</td>\n",
       "      <td>1951</td>\n",
       "      <td>four</td>\n",
       "      <td>97</td>\n",
       "      <td>3.15</td>\n",
       "      <td>3.29</td>\n",
       "      <td>9.4</td>\n",
       "      <td>69</td>\n",
       "      <td>5200</td>\n",
       "      <td>31</td>\n",
       "      <td>37</td>\n",
       "      <td>7299</td>\n",
       "    </tr>\n",
       "  </tbody>\n",
       "</table>\n",
       "</div>"
      ],
      "text/plain": [
       "           make fuel_type num_of_doors body_style  wheel_base  length  width  \\\n",
       "179  volkswagen       gas         four      sedan        97.3   171.7   65.5   \n",
       "87       nissan       gas          two      sedan        94.5   165.3   63.8   \n",
       "90       nissan       gas          two      sedan        94.5   165.3   63.8   \n",
       "\n",
       "     height  curb_weight num_of_cylinders  engine_size  bore  stroke  \\\n",
       "179    55.7         2212             four          109  3.19    3.40   \n",
       "87     54.5         1918             four           97  3.15    3.29   \n",
       "90     54.5         1951             four           97  3.15    3.29   \n",
       "\n",
       "     compression_ratio  horsepower  peak_rpm   city_mpg  highway_mpg  price  \n",
       "179                9.0          85       5250        27           34   8195  \n",
       "87                 9.4          69       5200        31           37   6649  \n",
       "90                 9.4          69       5200        31           37   7299  "
      ]
     },
     "execution_count": 110,
     "metadata": {},
     "output_type": "execute_result"
    }
   ],
   "source": [
    "df.sample(3)"
   ]
  },
  {
   "cell_type": "markdown",
   "metadata": {
    "slideshow": {
     "slide_type": "fragment"
    }
   },
   "source": [
    "Seleccionamos algunas features, y las *estandarizamos*."
   ]
  },
  {
   "cell_type": "code",
   "execution_count": 111,
   "metadata": {
    "slideshow": {
     "slide_type": "fragment"
    }
   },
   "outputs": [],
   "source": [
    "columns = ['wheel_base','length','width','height','horsepower','highway_mpg','price']\n",
    "X = df[columns]\n",
    "scaler=StandardScaler()\n",
    "X_scaled=scaler.fit_transform(X)"
   ]
  },
  {
   "cell_type": "markdown",
   "metadata": {
    "slideshow": {
     "slide_type": "slide"
    }
   },
   "source": [
    "###  Scipy\n",
    "\n",
    "---\n",
    "Para implementar el modelo usamos el método **linkage** de la *librería scipy*, que no tiene los métodos \"fit\" y \"predict\" clásicos de sklearn. "
   ]
  },
  {
   "cell_type": "code",
   "execution_count": 112,
   "metadata": {
    "slideshow": {
     "slide_type": "fragment"
    }
   },
   "outputs": [],
   "source": [
    "from scipy.cluster.hierarchy import dendrogram, linkage, cophenet, fcluster\n",
    "from scipy.spatial.distance import pdist\n",
    "Z = linkage(X_scaled, 'ward'); # ward indica el tipo de linkage"
   ]
  },
  {
   "cell_type": "markdown",
   "metadata": {
    "slideshow": {
     "slide_type": "fragment"
    }
   },
   "source": [
    "Linkage devuelva una matriz **Z** de (n-1) filas y 4 columnas. \n",
    "\n",
    "- En cada fila i, **iteración i-ésima**, las dos primeras columnas indican los clusters que se combinan, y forman el nuevo cluster **n + i**. \n",
    "    \n",
    "    Un cluster con un número menor a **n** corresponde a una de las **n** observaciones originales. \n",
    "- La tercera columna indica la *distancia entre los clusters*.\n",
    "- La cuarta es *el número de observaciones* en el cluster que se está formando."
   ]
  },
  {
   "cell_type": "code",
   "execution_count": 113,
   "metadata": {
    "slideshow": {
     "slide_type": "subslide"
    }
   },
   "outputs": [
    {
     "data": {
      "text/plain": [
       "198"
      ]
     },
     "execution_count": 113,
     "metadata": {},
     "output_type": "execute_result"
    }
   ],
   "source": [
    "len(Z) # n"
   ]
  },
  {
   "cell_type": "code",
   "execution_count": 114,
   "metadata": {
    "slideshow": {
     "slide_type": "fragment"
    }
   },
   "outputs": [
    {
     "data": {
      "text/plain": [
       "array([[ 23.        , 115.        ,   0.        ,   2.        ],\n",
       "       [ 83.        ,  84.        ,   0.        ,   2.        ],\n",
       "       [ 24.        , 116.        ,   0.        ,   2.        ],\n",
       "       [ 21.        , 114.        ,   0.        ,   2.        ],\n",
       "       [ 28.        , 119.        ,   0.        ,   2.        ],\n",
       "       [174.        , 175.        ,   0.00742738,   2.        ],\n",
       "       [ 12.        ,  13.        ,   0.0167116 ,   2.        ],\n",
       "       [ 78.        , 120.        ,   0.0167116 ,   2.        ],\n",
       "       [145.        , 146.        ,   0.01856844,   2.        ],\n",
       "       [157.        , 158.        ,   0.02228213,   2.        ]])"
      ]
     },
     "execution_count": 114,
     "metadata": {},
     "output_type": "execute_result"
    }
   ],
   "source": [
    "Z[:10,:] # primeras diez iteraciones"
   ]
  },
  {
   "cell_type": "code",
   "execution_count": 115,
   "metadata": {
    "slideshow": {
     "slide_type": "fragment"
    }
   },
   "outputs": [
    {
     "data": {
      "text/plain": [
       "array([[390.        , 392.        ,  15.25361793, 130.        ],\n",
       "       [391.        , 393.        ,  17.56016162,  69.        ],\n",
       "       [394.        , 395.        ,  34.7237213 , 199.        ]])"
      ]
     },
     "execution_count": 115,
     "metadata": {},
     "output_type": "execute_result"
    }
   ],
   "source": [
    "Z[195:,:] # últimas tres iteraciones"
   ]
  },
  {
   "cell_type": "markdown",
   "metadata": {
    "slideshow": {
     "slide_type": "slide"
    }
   },
   "source": [
    "###  Scipy\n",
    "\n",
    "---\n",
    "Con el método **dendogram** graficamos el dendograma a partir del array Z. "
   ]
  },
  {
   "cell_type": "code",
   "execution_count": 116,
   "metadata": {
    "slideshow": {
     "slide_type": "fragment"
    }
   },
   "outputs": [
    {
     "data": {
      "image/png": "[encoded data removed]",
      "text/plain": [
       "<Figure size 432x180 with 1 Axes>"
      ]
     },
     "metadata": {
      "needs_background": "light"
     },
     "output_type": "display_data"
    }
   ],
   "source": [
    "plt.figure(figsize=[6,2.5]); \n",
    "plt.title('Dendrogram'); \n",
    "plt.xlabel('Index Numbers or Cluster size'); \n",
    "plt.ylabel('Distance')\n",
    "\n",
    "dendrogram(Z,\n",
    "           leaf_rotation=90., leaf_font_size=5.,  \n",
    "           color_threshold=0, truncate_mode='lastp' )\n",
    "plt.show()"
   ]
  },
  {
   "cell_type": "markdown",
   "metadata": {
    "slideshow": {
     "slide_type": "slide"
    }
   },
   "source": [
    "###  Scipy\n",
    "\n",
    "---\n",
    "Para identificar clusters en el dendrograma debemos definir una distancia de **corte en el eje horizontal**; cada rama independiente del árbol es un cluster. \n",
    "\n",
    "Por ejemplo cortando el árbol a una altura de distancia=8 generamos *8 clusters*."
   ]
  },
  {
   "cell_type": "code",
   "execution_count": 117,
   "metadata": {
    "slideshow": {
     "slide_type": "fragment"
    }
   },
   "outputs": [
    {
     "data": {
      "image/png": "[encoded data removed]",
      "text/plain": [
       "<Figure size 576x252 with 1 Axes>"
      ]
     },
     "metadata": {
      "needs_background": "light"
     },
     "output_type": "display_data"
    }
   ],
   "source": [
    "from scipy.cluster import hierarchy \n",
    "\n",
    "plt.figure(figsize=[8,3.5]); plt.title('Dendrogram'); plt.xlabel('Data points'); plt.ylabel('Distance')\n",
    "\n",
    "color_palette=['r','g','y','m','c'];\n",
    "hierarchy.set_link_color_palette(color_palette) \n",
    "\n",
    "dendrogram(Z, leaf_rotation=90., leaf_font_size=5., color_threshold=8, )\n",
    "\n",
    "plt.hlines(8,0,2000,linestyle='--'); plt.xticks([]); plt.show()"
   ]
  },
  {
   "cell_type": "markdown",
   "metadata": {
    "slideshow": {
     "slide_type": "subslide"
    }
   },
   "source": [
    "Para ver las observaciones de cada cluster usamos el método `fcluster`. "
   ]
  },
  {
   "cell_type": "code",
   "execution_count": 118,
   "metadata": {
    "slideshow": {
     "slide_type": "fragment"
    }
   },
   "outputs": [],
   "source": [
    "labels=fcluster(Z,8,criterion='maxclust');"
   ]
  },
  {
   "cell_type": "markdown",
   "metadata": {
    "slideshow": {
     "slide_type": "fragment"
    }
   },
   "source": [
    "Veamos el total de automoviles agrupados por cluster."
   ]
  },
  {
   "cell_type": "code",
   "execution_count": 119,
   "metadata": {
    "slideshow": {
     "slide_type": "fragment"
    }
   },
   "outputs": [
    {
     "data": {
      "text/plain": [
       "Cluster\n",
       "1    22\n",
       "2    38\n",
       "3    29\n",
       "4    41\n",
       "5    13\n",
       "6     8\n",
       "7     7\n",
       "8    41\n",
       "Name: Modelo, dtype: int64"
      ]
     },
     "execution_count": 119,
     "metadata": {},
     "output_type": "execute_result"
    }
   ],
   "source": [
    "frames = [df['make'],df['body_style'],pd.DataFrame(labels, columns=['Cluster'])]\n",
    "result = pd.concat(frames,axis=1)\n",
    "clusters = result.rename(columns={'make':'Modelo'})\n",
    "#clusters.loc[clusters['Cluster'].isin([4])].sort_values(\"Cluster\")\n",
    "clusters.groupby(\"Cluster\")['Modelo'].count()"
   ]
  },
  {
   "cell_type": "markdown",
   "metadata": {
    "slideshow": {
     "slide_type": "subslide"
    }
   },
   "source": [
    "Veamos el detalle de automoviles para dos clusters."
   ]
  },
  {
   "cell_type": "code",
   "execution_count": 120,
   "metadata": {
    "slideshow": {
     "slide_type": "fragment"
    }
   },
   "outputs": [
    {
     "data": {
      "text/html": [
       "<div>\n",
       "<style scoped>\n",
       "    .dataframe tbody tr th:only-of-type {\n",
       "        vertical-align: middle;\n",
       "    }\n",
       "\n",
       "    .dataframe tbody tr th {\n",
       "        vertical-align: top;\n",
       "    }\n",
       "\n",
       "    .dataframe thead th {\n",
       "        text-align: right;\n",
       "    }\n",
       "</style>\n",
       "<table border=\"1\" class=\"dataframe\">\n",
       "  <thead>\n",
       "    <tr style=\"text-align: right;\">\n",
       "      <th></th>\n",
       "      <th>Modelo</th>\n",
       "      <th>body_style</th>\n",
       "      <th>Cluster</th>\n",
       "    </tr>\n",
       "  </thead>\n",
       "  <tbody>\n",
       "    <tr>\n",
       "      <th>15</th>\n",
       "      <td>bmw</td>\n",
       "      <td>sedan</td>\n",
       "      <td>6</td>\n",
       "    </tr>\n",
       "    <tr>\n",
       "      <th>16</th>\n",
       "      <td>bmw</td>\n",
       "      <td>sedan</td>\n",
       "      <td>6</td>\n",
       "    </tr>\n",
       "    <tr>\n",
       "      <th>49</th>\n",
       "      <td>jaguar</td>\n",
       "      <td>sedan</td>\n",
       "      <td>6</td>\n",
       "    </tr>\n",
       "    <tr>\n",
       "      <th>68</th>\n",
       "      <td>mercedes-benz</td>\n",
       "      <td>convertible</td>\n",
       "      <td>6</td>\n",
       "    </tr>\n",
       "    <tr>\n",
       "      <th>122</th>\n",
       "      <td>porsche</td>\n",
       "      <td>hardtop</td>\n",
       "      <td>6</td>\n",
       "    </tr>\n",
       "    <tr>\n",
       "      <th>123</th>\n",
       "      <td>porsche</td>\n",
       "      <td>hardtop</td>\n",
       "      <td>6</td>\n",
       "    </tr>\n",
       "    <tr>\n",
       "      <th>124</th>\n",
       "      <td>porsche</td>\n",
       "      <td>convertible</td>\n",
       "      <td>6</td>\n",
       "    </tr>\n",
       "    <tr>\n",
       "      <th>125</th>\n",
       "      <td>porsche</td>\n",
       "      <td>hatchback</td>\n",
       "      <td>6</td>\n",
       "    </tr>\n",
       "    <tr>\n",
       "      <th>17</th>\n",
       "      <td>bmw</td>\n",
       "      <td>sedan</td>\n",
       "      <td>7</td>\n",
       "    </tr>\n",
       "    <tr>\n",
       "      <th>47</th>\n",
       "      <td>jaguar</td>\n",
       "      <td>sedan</td>\n",
       "      <td>7</td>\n",
       "    </tr>\n",
       "    <tr>\n",
       "      <th>48</th>\n",
       "      <td>jaguar</td>\n",
       "      <td>sedan</td>\n",
       "      <td>7</td>\n",
       "    </tr>\n",
       "    <tr>\n",
       "      <th>66</th>\n",
       "      <td>mercedes-benz</td>\n",
       "      <td>sedan</td>\n",
       "      <td>7</td>\n",
       "    </tr>\n",
       "    <tr>\n",
       "      <th>67</th>\n",
       "      <td>mercedes-benz</td>\n",
       "      <td>sedan</td>\n",
       "      <td>7</td>\n",
       "    </tr>\n",
       "    <tr>\n",
       "      <th>69</th>\n",
       "      <td>mercedes-benz</td>\n",
       "      <td>sedan</td>\n",
       "      <td>7</td>\n",
       "    </tr>\n",
       "    <tr>\n",
       "      <th>70</th>\n",
       "      <td>mercedes-benz</td>\n",
       "      <td>hardtop</td>\n",
       "      <td>7</td>\n",
       "    </tr>\n",
       "  </tbody>\n",
       "</table>\n",
       "</div>"
      ],
      "text/plain": [
       "            Modelo   body_style  Cluster\n",
       "15             bmw        sedan        6\n",
       "16             bmw        sedan        6\n",
       "49          jaguar        sedan        6\n",
       "68   mercedes-benz  convertible        6\n",
       "122        porsche      hardtop        6\n",
       "123        porsche      hardtop        6\n",
       "124        porsche  convertible        6\n",
       "125        porsche    hatchback        6\n",
       "17             bmw        sedan        7\n",
       "47          jaguar        sedan        7\n",
       "48          jaguar        sedan        7\n",
       "66   mercedes-benz        sedan        7\n",
       "67   mercedes-benz        sedan        7\n",
       "69   mercedes-benz        sedan        7\n",
       "70   mercedes-benz      hardtop        7"
      ]
     },
     "execution_count": 120,
     "metadata": {},
     "output_type": "execute_result"
    }
   ],
   "source": [
    "clusters.loc[clusters['Cluster'].isin([6,7])].sort_values(\"Cluster\")"
   ]
  },
  {
   "cell_type": "markdown",
   "metadata": {
    "slideshow": {
     "slide_type": "slide"
    }
   },
   "source": [
    "### Coeficiente Cofenético\n",
    "\n",
    "---\n",
    "\n",
    "Este coeficiente compara *las distancias originales* entre las observaciones, con las *distancias que tienen los clusters a los que pertenecen*.\n",
    "\n",
    "Un coeficiente cercano a uno es ideal; indica que las dos distancias están muy correlacionadas.\n",
    "\n",
    "$$\n",
    "c=\\frac{\\sum_{i<j} (x(i,j)-\\bar{x})(t_{i,j}-\\bar{t})}\n",
    "{\\sqrt{\\sum_{i<j} (x(i,j)-\\bar{x})^2 \\sum_{i<j} (t(i,j)-\\bar{t})^2}}\n",
    "$$\n",
    "\n",
    "en donde $x(i,j)$ es la distancia entre los puntos i-j y $t(i,j)$ es la distancia entre los clusters que contenían al punto i y al punto j al momento de unirse."
   ]
  },
  {
   "cell_type": "markdown",
   "metadata": {
    "slideshow": {
     "slide_type": "subslide"
    }
   },
   "source": [
    "El coeficiente cofenético de nuestro modelo usando linkage Ward es:"
   ]
  },
  {
   "cell_type": "code",
   "execution_count": 121,
   "metadata": {
    "slideshow": {
     "slide_type": "fragment"
    }
   },
   "outputs": [
    {
     "name": "stdout",
     "output_type": "stream",
     "text": [
      "Cophenetic coefficient: 0.6399094729176885\n"
     ]
    }
   ],
   "source": [
    "c,dists=cophenet(Z, pdist(X_scaled))\n",
    "print('Cophenetic coefficient:',c)"
   ]
  },
  {
   "cell_type": "markdown",
   "metadata": {
    "slideshow": {
     "slide_type": "slide"
    }
   },
   "source": [
    "###  Comparando linkage\n",
    "\n",
    "---\n",
    "Comparemos los distintos tipos de linkage y su coeficiente cofenético:"
   ]
  },
  {
   "cell_type": "code",
   "execution_count": 122,
   "metadata": {
    "slideshow": {
     "slide_type": "fragment"
    }
   },
   "outputs": [],
   "source": [
    "def plot_dendrogram(X_sc,method,ax):\n",
    "    Z = linkage(X_sc, method);\n",
    "    c,dists=cophenet(Z, pdist(X_sc));\n",
    "    ax.set_title(method+' c='+str(np.around(c,2)))        \n",
    "    ax.set_xticklabels([])\n",
    "    dendrogram(Z, leaf_rotation=90., leaf_font_size=5.,  \n",
    "              color_threshold=0, truncate_mode='lastp', ax=ax)        \n",
    "    return  "
   ]
  },
  {
   "cell_type": "code",
   "execution_count": 123,
   "metadata": {
    "slideshow": {
     "slide_type": "subslide"
    }
   },
   "outputs": [
    {
     "data": {
      "image/png": "[encoded data removed]",
      "text/plain": [
       "<Figure size 576x504 with 4 Axes>"
      ]
     },
     "metadata": {
      "needs_background": "light"
     },
     "output_type": "display_data"
    }
   ],
   "source": [
    "fig,axes=plt.subplots(2,2,figsize=(8,7))\n",
    "plot_dendrogram(X_scaled,'ward',axes[0,0])\n",
    "plot_dendrogram(X_scaled,'average',axes[0,1])\n",
    "plot_dendrogram(X_scaled,'complete',axes[1,0])\n",
    "plot_dendrogram(X_scaled,'single',axes[1,1])\n",
    "plt.show()"
   ]
  },
  {
   "cell_type": "markdown",
   "metadata": {
    "slideshow": {
     "slide_type": "slide"
    }
   },
   "source": [
    "### Cluster jerárquico - resumen\n",
    "\n",
    "---\n",
    "\n",
    "- No es necesario definir a priori la cantidad de clusters.\n",
    "\n",
    "- Ofrece una representación gráfica (dendrograma) del proceso de generación de clusters.\n",
    "\n",
    "- Existen varios métodos para unir los clusters (linkage).\n",
    "\n",
    "- Es más costoso computacionalmente que K-Means.\n",
    "\n",
    "- También puede fallar cuando los clusters no tienen una geometría esférica."
   ]
  },
  {
   "cell_type": "markdown",
   "metadata": {
    "slideshow": {
     "slide_type": "slide"
    }
   },
   "source": [
    "<div class=\"div-dhds-fondo-1\"> DBSCAN\n",
    "<img src=\"https://raw.githubusercontent.com/Digital-House-DATA/ds_blend_2021_img/master/M3/CLASE_21_Regresion_Lineal_Simple/Presentacion/img/M3_CLASE_21_separador.png\" align=\"center\" />\n",
    "\n",
    "</div>"
   ]
  },
  {
   "cell_type": "markdown",
   "metadata": {
    "slideshow": {
     "slide_type": "slide"
    }
   },
   "source": [
    "### DBSCAN\n",
    "\n",
    "---"
   ]
  },
  {
   "cell_type": "markdown",
   "metadata": {
    "slideshow": {
     "slide_type": "fragment"
    }
   },
   "source": [
    "**Dbscan** (Density Based Spatial Clustering of Applications with Noise), como su nombre lo indica, identifica clusters como *regiones de alta densidad de puntos*. \n",
    "\n",
    "El algoritmo tiene dos hiperparámetros: \n",
    "\n",
    "- *epsilon*: máxima distancia entre dos puntos para considerarlos pertenecientes al mismo cluster (similar al concepto de “cercanía”).\n",
    "\n",
    "- *min_points*: mínimo número de puntos necesarios para formar un cluster (para evitar la formación de clusters demasiado pequeños).\n",
    "\n",
    "<img src=\"https://raw.githubusercontent.com/Digital-House-DATA/ds_blend_2021_img/master/M4/CLASE_31_Clustering/Presentacion/img/M4_CLASE_31_014_dbscan_parametro.png\" alt=\"dbscan\" width=45% height=30% />"
   ]
  },
  {
   "cell_type": "markdown",
   "metadata": {
    "slideshow": {
     "slide_type": "subslide"
    }
   },
   "source": [
    "Se definen tres tipos de puntos:\n",
    "\n",
    "* **Core**: puntos que tienen al menos *min-points* vecinos dentro de un *radio Eps*. Son puntos de *alta densidad*.\n",
    "\n",
    "* **Border**: puntos que están dentro del radio de un punto core, pero no cumplen la condición de core. Son las *fronteras de los clusters*.\n",
    "\n",
    "* **Noise**: puntos que no cumplen la condición de *core ni de border*. Son *outliers o ruido*, y no pertenecen a ningún cluster."
   ]
  },
  {
   "cell_type": "markdown",
   "metadata": {
    "slideshow": {
     "slide_type": "slide"
    }
   },
   "source": [
    "### DBSCAN\n",
    "\n",
    "---\n",
    "La idea principal es que un punto pertenece a un cluster si está cerca de muchos puntos de ese cluster.\n",
    "\n",
    "El algoritmo básico es:\n",
    "\n",
    "1. Se selecciona un punto al azar, y se determina su vecindario usando el *radio epsilon*. \n",
    "\n",
    "2. Si tiene al menos *min_points* vecinos, se lo marca como *core*, y se crea un cluster digamos  \"A\". En caso contrario, se lo marca como *noise*.\n",
    "\n",
    "3. Todos los puntos vecinos del *core* son asignados al cluster \"A\".\n",
    "\n",
    "4. Si algunos de estos puntos son *core*, los puntos que tiene como vecinos se incorporan al cluster \"A\", si ya no fueron seleccionados.\n",
    "\n",
    "5. Se selecciona un punto nuevo no procesado, y se repiten los pasos.\n",
    "\n",
    "6. El proceso finaliza cuando se visitaron todos los puntos.\n",
    "\n",
    "Nota: Un punto marcado como *noise* puede ser revisado."
   ]
  },
  {
   "cell_type": "markdown",
   "metadata": {
    "slideshow": {
     "slide_type": "slide"
    }
   },
   "source": [
    "### Ejemplo\n",
    "\n",
    "---\n",
    "Creamos un dataset con el método `make_moons`."
   ]
  },
  {
   "cell_type": "code",
   "execution_count": 124,
   "metadata": {
    "slideshow": {
     "slide_type": "skip"
    }
   },
   "outputs": [],
   "source": [
    "from sklearn.datasets import make_moons\n",
    "import numpy as np\n",
    "from sklearn.preprocessing import StandardScaler\n",
    "from sklearn.cluster import DBSCAN,KMeans\n",
    "from sklearn.metrics import silhouette_score, calinski_harabasz_score\n",
    "import matplotlib.pyplot as plt\n",
    "from scipy.spatial.distance import pdist,squareform\n",
    "plt.style.use('ggplot')\n",
    "%matplotlib inline"
   ]
  },
  {
   "cell_type": "code",
   "execution_count": 125,
   "metadata": {
    "slideshow": {
     "slide_type": "fragment"
    }
   },
   "outputs": [
    {
     "data": {
      "image/png": "[encoded data removed]",
      "text/plain": [
       "<Figure size 504x216 with 1 Axes>"
      ]
     },
     "metadata": {
      "needs_background": "light"
     },
     "output_type": "display_data"
    }
   ],
   "source": [
    "from sklearn.datasets import make_moons\n",
    "X, label = make_moons(n_samples=400, noise=0.07, random_state=19)\n",
    "X= StandardScaler().fit_transform(X)\n",
    "\n",
    "fig, ax = plt.subplots(figsize=(7,3))\n",
    "sctr = ax.scatter(X[:,0],X[:,1], c='lightblue', edgecolor='black', s=40, alpha=0.9, cmap=plt.cm.Set1)"
   ]
  },
  {
   "cell_type": "markdown",
   "metadata": {
    "slideshow": {
     "slide_type": "slide"
    }
   },
   "source": [
    "### Ejemplo\n",
    "\n",
    "---\n",
    "El método `DBSCAN` implementa el modelo. Y tiene un método `fit_predict` para calcular los clusters sobre los datos."
   ]
  },
  {
   "cell_type": "code",
   "execution_count": 126,
   "metadata": {
    "slideshow": {
     "slide_type": "fragment"
    }
   },
   "outputs": [],
   "source": [
    "from sklearn.cluster import DBSCAN\n",
    "dbscan = DBSCAN(eps=0.2, min_samples=5)\n",
    "y_pred = dbscan.fit_predict(X)"
   ]
  },
  {
   "cell_type": "markdown",
   "metadata": {
    "slideshow": {
     "slide_type": "fragment"
    }
   },
   "source": [
    "Vamos a graficar los dos clusters y los outliers."
   ]
  },
  {
   "cell_type": "code",
   "execution_count": 127,
   "metadata": {
    "slideshow": {
     "slide_type": "fragment"
    }
   },
   "outputs": [
    {
     "data": {
      "text/plain": [
       "Text(0.5, 1.0, 'Clusters determined by DBSCAN')"
      ]
     },
     "execution_count": 127,
     "metadata": {},
     "output_type": "execute_result"
    },
    {
     "data": {
      "image/png": "[encoded data removed]",
      "text/plain": [
       "<Figure size 504x216 with 1 Axes>"
      ]
     },
     "metadata": {
      "needs_background": "light"
     },
     "output_type": "display_data"
    }
   ],
   "source": [
    "plt.figure(figsize=(7,3))\n",
    "plt.scatter(X[:,0], X[:,1],c=y_pred, cmap='Paired')\n",
    "plt.title(\"Clusters determined by DBSCAN\")"
   ]
  },
  {
   "cell_type": "markdown",
   "metadata": {
    "slideshow": {
     "slide_type": "subslide"
    }
   },
   "source": [
    "Similar a los otros modelos de clusters, podemos acceder al número de cluster de cada observación con la función `labels_`.\n",
    "\n",
    "En DBSCAN, los puntos marcados con $-1$ son outliers."
   ]
  },
  {
   "cell_type": "code",
   "execution_count": 128,
   "metadata": {
    "slideshow": {
     "slide_type": "fragment"
    }
   },
   "outputs": [
    {
     "data": {
      "text/plain": [
       "5"
      ]
     },
     "execution_count": 128,
     "metadata": {},
     "output_type": "execute_result"
    }
   ],
   "source": [
    "dbscan.labels_[dbscan.labels_ == -1].size"
   ]
  },
  {
   "cell_type": "markdown",
   "metadata": {
    "slideshow": {
     "slide_type": "slide"
    }
   },
   "source": [
    "### Parámetros\n",
    "\n",
    "---\n",
    "Si conocemos del dominio de los datos, `epsilon` es una distancia típica con sentido físico y `minPts` es el tamaño mínimo para los clusters. \n",
    "\n",
    "Si no, existen algunas heurísticas para determinar los valores:\n",
    "\n",
    "* <b>minPts:</b> Una regla de pulgar es asignar este parámetro en función del número de dimensiones $D$ en el dataset.\n",
    "    \n",
    "    En general se elige <b>minPts=2D</b>, pero puede ser un valor mayor para datasets muy grandes, ruidosos o con datos duplicados.\n",
    "\n",
    "* <b>epsilon</b> Se puede determinar mirando un gráfico de distancias al k-ésimo vecino, con `k=minPts-1`. Se calcula la distancia al k-ésimo vecino más cercano de cada punto y luego se grafican estas distancias de mayor a menor. \n",
    "\n",
    "    Una buena elección de `epsilon` es el codo o punto de quiebre de la curva.\n",
    "\n",
    "Para conocer más: <a href=\"https://en.wikipedia.org/wiki/DBSCAN#Parameter_estimation\" target=\"_blank\">Referencia</a>"
   ]
  },
  {
   "cell_type": "code",
   "execution_count": 129,
   "metadata": {
    "slideshow": {
     "slide_type": "subslide"
    }
   },
   "outputs": [
    {
     "data": {
      "image/png": "[encoded data removed]",
      "text/plain": [
       "<Figure size 432x288 with 1 Axes>"
      ]
     },
     "metadata": {
      "needs_background": "light"
     },
     "output_type": "display_data"
    }
   ],
   "source": [
    "from scipy.spatial.distance import pdist,squareform\n",
    "minPts=5; k=minPts-1;\n",
    "D=squareform(pdist(X));\n",
    "k_distances=np.zeros(D.shape[0]);\n",
    "\n",
    "for i in range(D.shape[0]):\n",
    "    distances=np.sort(D[i]);\n",
    "    k_distances[i]=distances[k];\n",
    "    \n",
    "k_distances=np.sort(k_distances); k_distances=k_distances[::-1];\n",
    "    \n",
    "plt.plot(k_distances); plt.xlabel('Rank'); plt.ylabel('K-distance');\n",
    "plt.hlines([0.2,0.15],0,400,linestyles='dashed');"
   ]
  },
  {
   "cell_type": "markdown",
   "metadata": {
    "slideshow": {
     "slide_type": "fragment"
    }
   },
   "source": [
    "Una elección de $\\epsilon$ entre 0.15 y 0.20 parece ser apropiada."
   ]
  },
  {
   "cell_type": "markdown",
   "metadata": {
    "slideshow": {
     "slide_type": "slide"
    }
   },
   "source": [
    "### DBSCAN - resumen\n",
    "\n",
    "---\n",
    "\n",
    "- Funciona muy bien en clusters con límites no lineales y de tamaños muy diferentes.\n",
    "\n",
    "- No requiere la definición de un número de clusters a priori.\n",
    "\n",
    "- Incorpora el concepto de **ruido**, lo que lo hace robusto a *outliers*.\n",
    "\n",
    "- En datasets con zonas de densidades muy diferentes puede no trabajar adecuadamente, ya que no funciona correctamente con el mismo *epsilon* y *min_points*.\n",
    "\n",
    "- Si no se conocen bien los datos y su escala puede ser dificil determinar $\\epsilon$."
   ]
  },
  {
   "cell_type": "markdown",
   "metadata": {
    "slideshow": {
     "slide_type": "slide"
    }
   },
   "source": [
    "<div class=\"div-dhds-fondo-1\"> Hands-on\n",
    "<img src=\"https://raw.githubusercontent.com/Digital-House-DATA/ds_blend_2021_img/master/M3/CLASE_21_Regresion_Lineal_Simple/Presentacion/img/M3_CLASE_21_separador.png\" align=\"center\" />\n",
    "\n",
    "</div>"
   ]
  },
  {
   "cell_type": "markdown",
   "metadata": {
    "slideshow": {
     "slide_type": "slide"
    }
   },
   "source": [
    "### Ejercicio\n",
    "\n",
    "----\n",
    "\n",
    "Usando otros atributos del dataset de automoviles:\n",
    "\n",
    "- Buscamos el mejor K con *Score Silhouette*.\n",
    "\n",
    "- Generamos los K clusters con *K-means*.\n",
    "\n",
    "- Generamos los K clusters con *Cluster Jerárquico*.\n",
    "\n",
    "- Generamos el dendograma.\n",
    "\n",
    "- Comparamos ambos modelos usando una matriz de k filas y k columnas, donde el elemento (i, j) corresponde a la cantidad de registros etiquetados con i por *K-means* y con j por *Cluster Jerárquico*. (Es algo parecido a la matriz de confusión que usamos en problemas de clasificación con métodos supervisados.)"
   ]
  },
  {
   "cell_type": "code",
   "execution_count": 130,
   "metadata": {
    "slideshow": {
     "slide_type": "skip"
    }
   },
   "outputs": [],
   "source": [
    "from sklearn import preprocessing\n",
    "from sklearn.preprocessing import StandardScaler\n",
    "import matplotlib.pyplot as plt\n",
    "import pandas as pd\n",
    "import numpy as np\n",
    "import seaborn as sns"
   ]
  },
  {
   "cell_type": "markdown",
   "metadata": {
    "slideshow": {
     "slide_type": "slide"
    }
   },
   "source": [
    "### Archivo\n",
    "\n",
    "----"
   ]
  },
  {
   "cell_type": "code",
   "execution_count": 131,
   "metadata": {
    "slideshow": {
     "slide_type": "fragment"
    }
   },
   "outputs": [
    {
     "name": "stdout",
     "output_type": "stream",
     "text": [
      "Filas: 199 Columnas: 19\n"
     ]
    }
   ],
   "source": [
    "df = pd.read_csv('../Data/automobile.csv', sep=';')\n",
    "print('Filas:', df.shape[0], 'Columnas:', df.shape[1])"
   ]
  },
  {
   "cell_type": "code",
   "execution_count": 132,
   "metadata": {
    "slideshow": {
     "slide_type": "fragment"
    }
   },
   "outputs": [
    {
     "data": {
      "text/html": [
       "<div>\n",
       "<style scoped>\n",
       "    .dataframe tbody tr th:only-of-type {\n",
       "        vertical-align: middle;\n",
       "    }\n",
       "\n",
       "    .dataframe tbody tr th {\n",
       "        vertical-align: top;\n",
       "    }\n",
       "\n",
       "    .dataframe thead th {\n",
       "        text-align: right;\n",
       "    }\n",
       "</style>\n",
       "<table border=\"1\" class=\"dataframe\">\n",
       "  <thead>\n",
       "    <tr style=\"text-align: right;\">\n",
       "      <th></th>\n",
       "      <th>make</th>\n",
       "      <th>fuel_type</th>\n",
       "      <th>num_of_doors</th>\n",
       "      <th>body_style</th>\n",
       "      <th>wheel_base</th>\n",
       "      <th>length</th>\n",
       "      <th>width</th>\n",
       "      <th>height</th>\n",
       "      <th>curb_weight</th>\n",
       "      <th>num_of_cylinders</th>\n",
       "      <th>engine_size</th>\n",
       "      <th>bore</th>\n",
       "      <th>stroke</th>\n",
       "      <th>compression_ratio</th>\n",
       "      <th>horsepower</th>\n",
       "      <th>peak_rpm</th>\n",
       "      <th>city_mpg</th>\n",
       "      <th>highway_mpg</th>\n",
       "      <th>price</th>\n",
       "    </tr>\n",
       "  </thead>\n",
       "  <tbody>\n",
       "    <tr>\n",
       "      <th>2</th>\n",
       "      <td>alfa-romeo</td>\n",
       "      <td>gas</td>\n",
       "      <td>two</td>\n",
       "      <td>hatchback</td>\n",
       "      <td>94.5</td>\n",
       "      <td>171.2</td>\n",
       "      <td>65.5</td>\n",
       "      <td>52.4</td>\n",
       "      <td>2823</td>\n",
       "      <td>six</td>\n",
       "      <td>152</td>\n",
       "      <td>2.68</td>\n",
       "      <td>3.47</td>\n",
       "      <td>9.0</td>\n",
       "      <td>154</td>\n",
       "      <td>5000</td>\n",
       "      <td>19</td>\n",
       "      <td>26</td>\n",
       "      <td>16500</td>\n",
       "    </tr>\n",
       "    <tr>\n",
       "      <th>122</th>\n",
       "      <td>porsche</td>\n",
       "      <td>gas</td>\n",
       "      <td>two</td>\n",
       "      <td>hardtop</td>\n",
       "      <td>89.5</td>\n",
       "      <td>168.9</td>\n",
       "      <td>65.0</td>\n",
       "      <td>51.6</td>\n",
       "      <td>2756</td>\n",
       "      <td>six</td>\n",
       "      <td>194</td>\n",
       "      <td>3.74</td>\n",
       "      <td>2.90</td>\n",
       "      <td>9.5</td>\n",
       "      <td>207</td>\n",
       "      <td>5900</td>\n",
       "      <td>17</td>\n",
       "      <td>25</td>\n",
       "      <td>32528</td>\n",
       "    </tr>\n",
       "    <tr>\n",
       "      <th>11</th>\n",
       "      <td>bmw</td>\n",
       "      <td>gas</td>\n",
       "      <td>four</td>\n",
       "      <td>sedan</td>\n",
       "      <td>101.2</td>\n",
       "      <td>176.8</td>\n",
       "      <td>64.8</td>\n",
       "      <td>54.3</td>\n",
       "      <td>2395</td>\n",
       "      <td>four</td>\n",
       "      <td>108</td>\n",
       "      <td>3.50</td>\n",
       "      <td>2.80</td>\n",
       "      <td>8.8</td>\n",
       "      <td>101</td>\n",
       "      <td>5800</td>\n",
       "      <td>23</td>\n",
       "      <td>29</td>\n",
       "      <td>16925</td>\n",
       "    </tr>\n",
       "  </tbody>\n",
       "</table>\n",
       "</div>"
      ],
      "text/plain": [
       "           make fuel_type num_of_doors body_style  wheel_base  length  width  \\\n",
       "2    alfa-romeo       gas          two  hatchback        94.5   171.2   65.5   \n",
       "122     porsche       gas          two    hardtop        89.5   168.9   65.0   \n",
       "11          bmw       gas         four      sedan       101.2   176.8   64.8   \n",
       "\n",
       "     height  curb_weight num_of_cylinders  engine_size  bore  stroke  \\\n",
       "2      52.4         2823              six          152  2.68    3.47   \n",
       "122    51.6         2756              six          194  3.74    2.90   \n",
       "11     54.3         2395             four          108  3.50    2.80   \n",
       "\n",
       "     compression_ratio  horsepower  peak_rpm   city_mpg  highway_mpg  price  \n",
       "2                  9.0         154       5000        19           26  16500  \n",
       "122                9.5         207       5900        17           25  32528  \n",
       "11                 8.8         101       5800        23           29  16925  "
      ]
     },
     "execution_count": 132,
     "metadata": {},
     "output_type": "execute_result"
    }
   ],
   "source": [
    "df.sample(3)"
   ]
  },
  {
   "cell_type": "markdown",
   "metadata": {
    "slideshow": {
     "slide_type": "fragment"
    }
   },
   "source": [
    "Seleccionamos algunas features, y las *estandarizamos*."
   ]
  },
  {
   "cell_type": "code",
   "execution_count": 133,
   "metadata": {
    "slideshow": {
     "slide_type": "fragment"
    }
   },
   "outputs": [],
   "source": [
    "from sklearn.preprocessing import StandardScaler\n",
    "columns = ['curb_weight','length','width','height','city_mpg']\n",
    "X = df[columns]\n",
    "scaler=StandardScaler()\n",
    "X_scaled=scaler.fit_transform(X)"
   ]
  },
  {
   "cell_type": "markdown",
   "metadata": {
    "slideshow": {
     "slide_type": "slide"
    }
   },
   "source": [
    "### K-means\n",
    "\n",
    "----"
   ]
  },
  {
   "cell_type": "markdown",
   "metadata": {
    "slideshow": {
     "slide_type": "fragment"
    }
   },
   "source": [
    "Graficamos el score Silhouette *para K entre 2 y 10*, y determinamos que el valor óptimo es *K=3*."
   ]
  },
  {
   "cell_type": "code",
   "execution_count": 134,
   "metadata": {
    "slideshow": {
     "slide_type": "fragment"
    }
   },
   "outputs": [],
   "source": [
    "from sklearn.metrics import silhouette_score,silhouette_samples\n",
    "sil=[]; k_values=range(2,10);\n",
    "\n",
    "#for ...\n",
    "#plt.figure...\n",
    "#plt.ylabel('Silhouette score',fontsize=8);plt.xlabel('Número de clusters',fontsize=8);"
   ]
  },
  {
   "cell_type": "markdown",
   "metadata": {
    "slideshow": {
     "slide_type": "subslide"
    }
   },
   "source": [
    "Creamos los clusters con K-means para *K=3*."
   ]
  },
  {
   "cell_type": "code",
   "execution_count": 135,
   "metadata": {
    "slideshow": {
     "slide_type": "fragment"
    }
   },
   "outputs": [],
   "source": [
    "from sklearn.cluster import KMeans\n",
    "#kmeans=KMeans...\n",
    "#kmeans.fit(X_scaled)"
   ]
  },
  {
   "cell_type": "markdown",
   "metadata": {
    "colab": {},
    "colab_type": "code",
    "id": "Hua9z2EQYqgY",
    "slideshow": {
     "slide_type": "fragment"
    }
   },
   "source": [
    "Obtenemos el parámetro `labels_`, el vector con la asignación del cluster a cada observación."
   ]
  },
  {
   "cell_type": "code",
   "execution_count": 136,
   "metadata": {
    "slideshow": {
     "slide_type": "fragment"
    }
   },
   "outputs": [],
   "source": [
    "labels_kmeans = kmeans.labels_ "
   ]
  },
  {
   "cell_type": "markdown",
   "metadata": {
    "slideshow": {
     "slide_type": "slide"
    }
   },
   "source": [
    "### Cluster Jerárquico\n",
    "\n",
    "----"
   ]
  },
  {
   "cell_type": "markdown",
   "metadata": {
    "slideshow": {
     "slide_type": "fragment"
    }
   },
   "source": [
    "Creamos los clusters con Cluster Jerárquico para *K=3*. Usamos el linkage *ward*."
   ]
  },
  {
   "cell_type": "code",
   "execution_count": 137,
   "metadata": {
    "slideshow": {
     "slide_type": "fragment"
    }
   },
   "outputs": [],
   "source": [
    "from scipy.cluster.hierarchy import dendrogram, linkage, cophenet, fcluster\n",
    "from scipy.spatial.distance import pdist\n",
    "#Z = linkage..."
   ]
  },
  {
   "cell_type": "markdown",
   "metadata": {
    "slideshow": {
     "slide_type": "fragment"
    }
   },
   "source": [
    "Para ver las observaciones de cada cluster usamos el método `fcluster`. "
   ]
  },
  {
   "cell_type": "code",
   "execution_count": 138,
   "metadata": {
    "slideshow": {
     "slide_type": "fragment"
    }
   },
   "outputs": [],
   "source": [
    "labels_jerarquico = fcluster(Z,3,criterion='maxclust');"
   ]
  },
  {
   "cell_type": "markdown",
   "metadata": {
    "slideshow": {
     "slide_type": "fragment"
    }
   },
   "source": [
    "Truco para igualar la numeración entre ambos modelos"
   ]
  },
  {
   "cell_type": "code",
   "execution_count": 139,
   "metadata": {
    "slideshow": {
     "slide_type": "fragment"
    }
   },
   "outputs": [],
   "source": [
    "labels_jerarquico = np.where(labels_jerarquico==2, 0, labels_jerarquico)\n",
    "labels_jerarquico = np.where(labels_jerarquico==3, 2, labels_jerarquico)"
   ]
  },
  {
   "cell_type": "code",
   "execution_count": 140,
   "metadata": {
    "slideshow": {
     "slide_type": "subslide"
    }
   },
   "outputs": [
    {
     "data": {
      "text/plain": [
       "array([3, 1, 0, 2, 5, 6, 0, 6, 0, 0, 5, 0, 7, 0, 7, 7, 6, 0, 5, 0, 2, 4,\n",
       "       0, 6], dtype=int32)"
      ]
     },
     "execution_count": 140,
     "metadata": {},
     "output_type": "execute_result"
    }
   ],
   "source": [
    "labels_kmeans"
   ]
  },
  {
   "cell_type": "code",
   "execution_count": 141,
   "metadata": {
    "slideshow": {
     "slide_type": "fragment"
    }
   },
   "outputs": [
    {
     "data": {
      "text/plain": [
       "array([1, 1, 0, 1, 1, 1, 2, 2, 2, 0, 1, 1, 1, 1, 2, 0, 0, 2, 1, 1, 1, 1,\n",
       "       1, 1, 1, 1, 1, 1, 1, 0, 1, 1, 1, 1, 1, 1, 1, 1, 1, 1, 1, 1, 1, 1,\n",
       "       1, 1, 1, 2, 2, 0, 1, 1, 1, 1, 1, 1, 1, 1, 1, 1, 1, 1, 1, 2, 2, 2,\n",
       "       2, 2, 0, 2, 2, 2, 1, 1, 1, 1, 1, 1, 0, 0, 0, 1, 1, 1, 1, 1, 1, 1,\n",
       "       1, 1, 1, 1, 1, 1, 1, 1, 1, 2, 2, 2, 0, 0, 0, 2, 2, 2, 2, 2, 2, 2,\n",
       "       2, 2, 2, 2, 1, 1, 1, 1, 1, 1, 0, 0, 0, 0, 0, 0, 2, 2, 2, 2, 2, 2,\n",
       "       1, 1, 1, 1, 1, 1, 1, 1, 1, 1, 1, 1, 1, 1, 1, 1, 1, 1, 1, 1, 1, 1,\n",
       "       1, 1, 1, 1, 1, 1, 1, 1, 1, 1, 1, 1, 1, 1, 1, 1, 1, 1, 0, 0, 2, 2,\n",
       "       1, 1, 1, 1, 1, 1, 1, 1, 1, 1, 1, 1, 2, 2, 2, 2, 2, 2, 2, 2, 2, 2,\n",
       "       2], dtype=int32)"
      ]
     },
     "execution_count": 141,
     "metadata": {},
     "output_type": "execute_result"
    }
   ],
   "source": [
    "labels_jerarquico"
   ]
  },
  {
   "cell_type": "markdown",
   "metadata": {
    "slideshow": {
     "slide_type": "slide"
    }
   },
   "source": [
    "### Dendograma\n",
    "\n",
    "----"
   ]
  },
  {
   "cell_type": "markdown",
   "metadata": {
    "slideshow": {
     "slide_type": "fragment"
    }
   },
   "source": [
    "Generamos el dendograma."
   ]
  },
  {
   "cell_type": "code",
   "execution_count": 142,
   "metadata": {
    "slideshow": {
     "slide_type": "fragment"
    }
   },
   "outputs": [
    {
     "data": {
      "text/plain": [
       "Text(0, 0.5, 'Distance')"
      ]
     },
     "execution_count": 142,
     "metadata": {},
     "output_type": "execute_result"
    },
    {
     "data": {
      "image/png": "[encoded data removed]",
      "text/plain": [
       "<Figure size 432x180 with 1 Axes>"
      ]
     },
     "metadata": {
      "needs_background": "light"
     },
     "output_type": "display_data"
    }
   ],
   "source": [
    "plt.figure(figsize=[6,2.5]); plt.title('Dendrogram'); plt.xlabel('Index Numbers or Cluster size');plt.ylabel('Distance')\n",
    "\n",
    "#dendrogram(...\n",
    "#plt.show()"
   ]
  },
  {
   "cell_type": "markdown",
   "metadata": {
    "slideshow": {
     "slide_type": "slide"
    }
   },
   "source": [
    "### Matriz de comparación entre algoritmos de clustering\n",
    "\n",
    "----"
   ]
  },
  {
   "cell_type": "markdown",
   "metadata": {
    "slideshow": {
     "slide_type": "fragment"
    }
   },
   "source": [
    "Podemos usar el método `confusion_matrix` de `scikit-learn` para construir esta matriz tomando los valores de los clusters predichos por k-means **como si fueran** los verdaderos valores de las etiquetas, y los valores de los clusters predichos por el clustering jerarquico **como si fueran** los predichos.\n",
    "\n",
    "Pero no pierdan de vista que ésta no es la matriz de confusión que conocemos (porque este no es un problema de aprendizaje supervisado) aunque este método sirva para construir la matriz que compara los algoritmos de clustering."
   ]
  },
  {
   "cell_type": "code",
   "execution_count": 143,
   "metadata": {
    "slideshow": {
     "slide_type": "fragment"
    }
   },
   "outputs": [],
   "source": [
    "from sklearn.metrics import confusion_matrix\n",
    "#confusion_cluster = confusion_matrix(...,...)\n",
    "#print('K-means vs Jerárquico\\n',confusion_cluster)"
   ]
  },
  {
   "cell_type": "markdown",
   "metadata": {
    "slideshow": {
     "slide_type": "slide"
    }
   },
   "source": [
    "### Solución\n",
    "\n",
    "---"
   ]
  },
  {
   "cell_type": "markdown",
   "metadata": {
    "slideshow": {
     "slide_type": "slide"
    }
   },
   "source": [
    "### Ejercicio\n",
    "\n",
    "----\n",
    "\n",
    "Usando otros atributos del dataset de automoviles:\n",
    "\n",
    "- Buscamos el mejor K con *Score Silhouette*.\n",
    "\n",
    "- Generamos los K clusters con *K-means*.\n",
    "\n",
    "- Generamos los K clusters con *Cluster Jerárquico*.\n",
    "\n",
    "- Generamos el dendograma.\n",
    "\n",
    "- Comparamos ambos modelos usando una matriz de k filas y k columnas, donde el elemento (i, j) corresponde a la cantidad de registros etiquetados con i por *K-means* y con j por *Cluster Jerárquico*. (Es algo parecido a la matriz de confusión que usamos en problemas de clasificación con métodos supervisados.)"
   ]
  },
  {
   "cell_type": "code",
   "execution_count": 144,
   "metadata": {
    "slideshow": {
     "slide_type": "skip"
    }
   },
   "outputs": [],
   "source": [
    "from sklearn import preprocessing\n",
    "from sklearn.preprocessing import StandardScaler\n",
    "import matplotlib.pyplot as plt\n",
    "import pandas as pd\n",
    "import numpy as np\n",
    "import seaborn as sns"
   ]
  },
  {
   "cell_type": "markdown",
   "metadata": {
    "slideshow": {
     "slide_type": "slide"
    }
   },
   "source": [
    "### Archivo\n",
    "\n",
    "----"
   ]
  },
  {
   "cell_type": "code",
   "execution_count": 145,
   "metadata": {
    "slideshow": {
     "slide_type": "fragment"
    }
   },
   "outputs": [
    {
     "name": "stdout",
     "output_type": "stream",
     "text": [
      "Filas: 199 Columnas: 19\n"
     ]
    }
   ],
   "source": [
    "df = pd.read_csv('../Data/automobile.csv', sep=';')\n",
    "print('Filas:', df.shape[0], 'Columnas:', df.shape[1])"
   ]
  },
  {
   "cell_type": "code",
   "execution_count": 146,
   "metadata": {
    "slideshow": {
     "slide_type": "fragment"
    }
   },
   "outputs": [
    {
     "data": {
      "text/html": [
       "<div>\n",
       "<style scoped>\n",
       "    .dataframe tbody tr th:only-of-type {\n",
       "        vertical-align: middle;\n",
       "    }\n",
       "\n",
       "    .dataframe tbody tr th {\n",
       "        vertical-align: top;\n",
       "    }\n",
       "\n",
       "    .dataframe thead th {\n",
       "        text-align: right;\n",
       "    }\n",
       "</style>\n",
       "<table border=\"1\" class=\"dataframe\">\n",
       "  <thead>\n",
       "    <tr style=\"text-align: right;\">\n",
       "      <th></th>\n",
       "      <th>make</th>\n",
       "      <th>fuel_type</th>\n",
       "      <th>num_of_doors</th>\n",
       "      <th>body_style</th>\n",
       "      <th>wheel_base</th>\n",
       "      <th>length</th>\n",
       "      <th>width</th>\n",
       "      <th>height</th>\n",
       "      <th>curb_weight</th>\n",
       "      <th>num_of_cylinders</th>\n",
       "      <th>engine_size</th>\n",
       "      <th>bore</th>\n",
       "      <th>stroke</th>\n",
       "      <th>compression_ratio</th>\n",
       "      <th>horsepower</th>\n",
       "      <th>peak_rpm</th>\n",
       "      <th>city_mpg</th>\n",
       "      <th>highway_mpg</th>\n",
       "      <th>price</th>\n",
       "    </tr>\n",
       "  </thead>\n",
       "  <tbody>\n",
       "    <tr>\n",
       "      <th>49</th>\n",
       "      <td>jaguar</td>\n",
       "      <td>gas</td>\n",
       "      <td>two</td>\n",
       "      <td>sedan</td>\n",
       "      <td>102.0</td>\n",
       "      <td>191.7</td>\n",
       "      <td>70.6</td>\n",
       "      <td>47.8</td>\n",
       "      <td>3950</td>\n",
       "      <td>twelve</td>\n",
       "      <td>326</td>\n",
       "      <td>3.54</td>\n",
       "      <td>2.76</td>\n",
       "      <td>11.5</td>\n",
       "      <td>262</td>\n",
       "      <td>5000</td>\n",
       "      <td>13</td>\n",
       "      <td>17</td>\n",
       "      <td>36000</td>\n",
       "    </tr>\n",
       "    <tr>\n",
       "      <th>33</th>\n",
       "      <td>honda</td>\n",
       "      <td>gas</td>\n",
       "      <td>two</td>\n",
       "      <td>hatchback</td>\n",
       "      <td>93.7</td>\n",
       "      <td>150.0</td>\n",
       "      <td>64.0</td>\n",
       "      <td>52.6</td>\n",
       "      <td>1940</td>\n",
       "      <td>four</td>\n",
       "      <td>92</td>\n",
       "      <td>2.91</td>\n",
       "      <td>3.41</td>\n",
       "      <td>9.2</td>\n",
       "      <td>76</td>\n",
       "      <td>6000</td>\n",
       "      <td>30</td>\n",
       "      <td>34</td>\n",
       "      <td>6529</td>\n",
       "    </tr>\n",
       "    <tr>\n",
       "      <th>61</th>\n",
       "      <td>mazda</td>\n",
       "      <td>gas</td>\n",
       "      <td>four</td>\n",
       "      <td>sedan</td>\n",
       "      <td>104.9</td>\n",
       "      <td>175.0</td>\n",
       "      <td>66.1</td>\n",
       "      <td>54.4</td>\n",
       "      <td>2670</td>\n",
       "      <td>four</td>\n",
       "      <td>140</td>\n",
       "      <td>3.76</td>\n",
       "      <td>3.16</td>\n",
       "      <td>8.0</td>\n",
       "      <td>120</td>\n",
       "      <td>5000</td>\n",
       "      <td>19</td>\n",
       "      <td>27</td>\n",
       "      <td>18280</td>\n",
       "    </tr>\n",
       "  </tbody>\n",
       "</table>\n",
       "</div>"
      ],
      "text/plain": [
       "      make fuel_type num_of_doors body_style  wheel_base  length  width  \\\n",
       "49  jaguar       gas          two      sedan       102.0   191.7   70.6   \n",
       "33   honda       gas          two  hatchback        93.7   150.0   64.0   \n",
       "61   mazda       gas         four      sedan       104.9   175.0   66.1   \n",
       "\n",
       "    height  curb_weight num_of_cylinders  engine_size  bore  stroke  \\\n",
       "49    47.8         3950           twelve          326  3.54    2.76   \n",
       "33    52.6         1940             four           92  2.91    3.41   \n",
       "61    54.4         2670             four          140  3.76    3.16   \n",
       "\n",
       "    compression_ratio  horsepower  peak_rpm   city_mpg  highway_mpg  price  \n",
       "49               11.5         262       5000        13           17  36000  \n",
       "33                9.2          76       6000        30           34   6529  \n",
       "61                8.0         120       5000        19           27  18280  "
      ]
     },
     "execution_count": 146,
     "metadata": {},
     "output_type": "execute_result"
    }
   ],
   "source": [
    "df.sample(3)"
   ]
  },
  {
   "cell_type": "markdown",
   "metadata": {
    "slideshow": {
     "slide_type": "fragment"
    }
   },
   "source": [
    "Seleccionamos algunas features, y las *estandarizamos*."
   ]
  },
  {
   "cell_type": "code",
   "execution_count": 147,
   "metadata": {
    "slideshow": {
     "slide_type": "fragment"
    }
   },
   "outputs": [],
   "source": [
    "from sklearn.preprocessing import StandardScaler\n",
    "columns = ['curb_weight','length','width','height','city_mpg']\n",
    "X = df[columns]\n",
    "scaler=StandardScaler()\n",
    "X_scaled=scaler.fit_transform(X)"
   ]
  },
  {
   "cell_type": "markdown",
   "metadata": {
    "slideshow": {
     "slide_type": "slide"
    }
   },
   "source": [
    "### K-means\n",
    "\n",
    "----"
   ]
  },
  {
   "cell_type": "markdown",
   "metadata": {
    "slideshow": {
     "slide_type": "fragment"
    }
   },
   "source": [
    "Graficamos el score Silhouette *para K entre 2 y 10*, y determinamos que el valor óptimo es *K=3*."
   ]
  },
  {
   "cell_type": "code",
   "execution_count": 148,
   "metadata": {
    "slideshow": {
     "slide_type": "fragment"
    }
   },
   "outputs": [
    {
     "data": {
      "image/png": "[encoded data removed]",
      "text/plain": [
       "<Figure size 360x216 with 1 Axes>"
      ]
     },
     "metadata": {
      "needs_background": "light"
     },
     "output_type": "display_data"
    }
   ],
   "source": [
    "from sklearn.metrics import silhouette_score,silhouette_samples\n",
    "sil=[]; k_values=range(2,10);\n",
    "\n",
    "for k in k_values:\n",
    "    kmeans=KMeans(n_clusters=k,n_init=10,random_state=0) # Numero de repeticiones=10\n",
    "    kmeans.fit(X_scaled); score=silhouette_score(X_scaled,kmeans.labels_)\n",
    "    sil.append(score)\n",
    "\n",
    "plt.figure(figsize=(5,3));sns.lineplot(x=k_values,y=sil,marker='o',size=30,legend=False);\n",
    "plt.ylabel('Silhouette score',fontsize=8);plt.xlabel('Número de clusters',fontsize=8);"
   ]
  },
  {
   "cell_type": "markdown",
   "metadata": {
    "slideshow": {
     "slide_type": "subslide"
    }
   },
   "source": [
    "Creamos los clusters con K-means para *K=3*."
   ]
  },
  {
   "cell_type": "code",
   "execution_count": 149,
   "metadata": {
    "slideshow": {
     "slide_type": "fragment"
    }
   },
   "outputs": [
    {
     "data": {
      "text/plain": [
       "KMeans(n_clusters=3, random_state=0)"
      ]
     },
     "execution_count": 149,
     "metadata": {},
     "output_type": "execute_result"
    }
   ],
   "source": [
    "from sklearn.cluster import KMeans\n",
    "kmeans=KMeans(n_clusters=3,n_init=10,random_state=0) # Numero de repeticiones=10\n",
    "kmeans.fit(X_scaled)"
   ]
  },
  {
   "cell_type": "markdown",
   "metadata": {
    "colab": {},
    "colab_type": "code",
    "id": "Hua9z2EQYqgY",
    "slideshow": {
     "slide_type": "fragment"
    }
   },
   "source": [
    "Obtenemos el parámetro `labels_`, el vector con la asignación del cluster a cada observación."
   ]
  },
  {
   "cell_type": "code",
   "execution_count": 150,
   "metadata": {
    "slideshow": {
     "slide_type": "fragment"
    }
   },
   "outputs": [],
   "source": [
    "labels_kmeans = kmeans.labels_ "
   ]
  },
  {
   "cell_type": "markdown",
   "metadata": {
    "slideshow": {
     "slide_type": "slide"
    }
   },
   "source": [
    "### Cluster Jerárquico\n",
    "\n",
    "----"
   ]
  },
  {
   "cell_type": "markdown",
   "metadata": {
    "slideshow": {
     "slide_type": "fragment"
    }
   },
   "source": [
    "Creamos los clusters con Cluster Jerárquico para *K=3*. Usamos el linkage *ward*."
   ]
  },
  {
   "cell_type": "code",
   "execution_count": 151,
   "metadata": {
    "slideshow": {
     "slide_type": "fragment"
    }
   },
   "outputs": [],
   "source": [
    "from scipy.cluster.hierarchy import dendrogram, linkage, cophenet, fcluster\n",
    "from scipy.spatial.distance import pdist\n",
    "Z = linkage(X_scaled, 'ward');"
   ]
  },
  {
   "cell_type": "markdown",
   "metadata": {
    "slideshow": {
     "slide_type": "fragment"
    }
   },
   "source": [
    "Para ver las observaciones de cada cluster usamos el método `fcluster`. "
   ]
  },
  {
   "cell_type": "code",
   "execution_count": 152,
   "metadata": {
    "slideshow": {
     "slide_type": "fragment"
    }
   },
   "outputs": [],
   "source": [
    "labels_jerarquico = fcluster(Z,3,criterion='maxclust');"
   ]
  },
  {
   "cell_type": "markdown",
   "metadata": {
    "slideshow": {
     "slide_type": "fragment"
    }
   },
   "source": [
    "Truco para igualar la numeración entre ambos modelos"
   ]
  },
  {
   "cell_type": "code",
   "execution_count": 153,
   "metadata": {
    "slideshow": {
     "slide_type": "fragment"
    }
   },
   "outputs": [],
   "source": [
    "labels_jerarquico = np.where(labels_jerarquico==2, 0, labels_jerarquico)\n",
    "labels_jerarquico = np.where(labels_jerarquico==3, 2, labels_jerarquico)"
   ]
  },
  {
   "cell_type": "code",
   "execution_count": 154,
   "metadata": {
    "slideshow": {
     "slide_type": "subslide"
    }
   },
   "outputs": [
    {
     "data": {
      "text/plain": [
       "array([2, 2, 2, 2, 2, 2, 1, 1, 1, 1, 2, 2, 2, 2, 1, 1, 1, 1, 0, 0, 0, 0,\n",
       "       0, 0, 0, 0, 0, 0, 2, 2, 0, 0, 0, 0, 0, 0, 0, 2, 2, 2, 2, 2, 2, 2,\n",
       "       0, 0, 2, 1, 1, 1, 0, 0, 0, 0, 0, 2, 2, 2, 2, 2, 2, 2, 2, 1, 1, 1,\n",
       "       1, 1, 1, 1, 1, 1, 0, 0, 0, 0, 2, 2, 2, 2, 2, 2, 2, 2, 2, 0, 0, 0,\n",
       "       0, 0, 0, 0, 0, 0, 0, 2, 2, 1, 1, 1, 2, 2, 2, 1, 1, 1, 1, 1, 1, 1,\n",
       "       1, 1, 1, 1, 0, 0, 0, 0, 0, 2, 2, 2, 2, 2, 2, 1, 1, 1, 1, 1, 1, 1,\n",
       "       0, 0, 0, 0, 2, 2, 2, 2, 2, 2, 2, 2, 0, 0, 0, 0, 2, 2, 0, 0, 0, 0,\n",
       "       0, 0, 0, 0, 0, 2, 2, 2, 2, 2, 2, 2, 2, 2, 2, 2, 2, 2, 1, 1, 1, 1,\n",
       "       0, 2, 0, 2, 2, 0, 2, 2, 2, 2, 2, 2, 1, 1, 1, 1, 1, 1, 1, 1, 1, 1,\n",
       "       1], dtype=int32)"
      ]
     },
     "execution_count": 154,
     "metadata": {},
     "output_type": "execute_result"
    }
   ],
   "source": [
    "labels_kmeans"
   ]
  },
  {
   "cell_type": "code",
   "execution_count": 155,
   "metadata": {
    "slideshow": {
     "slide_type": "fragment"
    }
   },
   "outputs": [
    {
     "data": {
      "text/plain": [
       "array([2, 2, 2, 2, 1, 1, 1, 1, 1, 2, 2, 2, 2, 2, 1, 1, 1, 1, 0, 0, 0, 0,\n",
       "       0, 0, 0, 0, 0, 0, 2, 2, 0, 0, 0, 0, 0, 0, 2, 0, 0, 2, 0, 2, 2, 0,\n",
       "       0, 0, 2, 1, 1, 1, 0, 0, 0, 0, 0, 2, 2, 2, 2, 2, 2, 1, 2, 1, 1, 1,\n",
       "       1, 1, 1, 1, 1, 1, 0, 0, 0, 0, 2, 2, 2, 2, 2, 2, 2, 2, 2, 0, 0, 0,\n",
       "       0, 0, 0, 0, 0, 0, 0, 2, 2, 1, 1, 1, 2, 2, 2, 1, 1, 1, 1, 1, 1, 1,\n",
       "       1, 1, 1, 1, 0, 0, 0, 0, 0, 2, 2, 2, 2, 2, 2, 1, 1, 1, 1, 1, 1, 1,\n",
       "       0, 0, 0, 0, 0, 0, 2, 2, 0, 0, 2, 2, 0, 0, 0, 2, 2, 2, 0, 0, 0, 0,\n",
       "       0, 0, 0, 0, 0, 0, 0, 2, 2, 2, 2, 2, 2, 2, 2, 2, 2, 2, 2, 2, 1, 1,\n",
       "       2, 2, 2, 2, 2, 2, 2, 0, 0, 1, 2, 2, 1, 1, 1, 1, 1, 1, 1, 1, 1, 1,\n",
       "       1], dtype=int32)"
      ]
     },
     "execution_count": 155,
     "metadata": {},
     "output_type": "execute_result"
    }
   ],
   "source": [
    "labels_jerarquico"
   ]
  },
  {
   "cell_type": "markdown",
   "metadata": {
    "slideshow": {
     "slide_type": "slide"
    }
   },
   "source": [
    "### Dendograma\n",
    "\n",
    "----"
   ]
  },
  {
   "cell_type": "markdown",
   "metadata": {
    "slideshow": {
     "slide_type": "fragment"
    }
   },
   "source": [
    "Generamos el dendograma."
   ]
  },
  {
   "cell_type": "code",
   "execution_count": 156,
   "metadata": {
    "slideshow": {
     "slide_type": "fragment"
    }
   },
   "outputs": [
    {
     "data": {
      "image/png": "[encoded data removed]",
      "text/plain": [
       "<Figure size 432x180 with 1 Axes>"
      ]
     },
     "metadata": {
      "needs_background": "light"
     },
     "output_type": "display_data"
    }
   ],
   "source": [
    "plt.figure(figsize=[6,2.5]); plt.title('Dendrogram'); plt.xlabel('Index Numbers or Cluster size');plt.ylabel('Distance')\n",
    "\n",
    "dendrogram(Z,\n",
    "           leaf_rotation=90., leaf_font_size=5.,  \n",
    "           color_threshold=0, truncate_mode='lastp' )\n",
    "plt.show()"
   ]
  },
  {
   "cell_type": "markdown",
   "metadata": {
    "slideshow": {
     "slide_type": "slide"
    }
   },
   "source": [
    "### Matriz de comparación entre algoritmos de clustering\n",
    "\n",
    "----"
   ]
  },
  {
   "cell_type": "markdown",
   "metadata": {
    "slideshow": {
     "slide_type": "fragment"
    }
   },
   "source": [
    "Usamos el método `confusion_matrix` de `scikit-learn` para construir esta matriz tomando los valores de los clusters predichos por k-means **como si fueran** los verdaderos valores de las etiquetas, y los valores de los clusters predichos por el clustering jerarquico **como si fueran** los predichos.\n",
    "\n",
    "Pero no pierdan de vista que ésta no es la matriz de confusión que conocemos (porque este no es un problema de aprendizaje supervisado) aunque este método sirva para construir la matriz que compara los algoritmos de clustering."
   ]
  },
  {
   "cell_type": "code",
   "execution_count": 157,
   "metadata": {
    "slideshow": {
     "slide_type": "fragment"
    }
   },
   "outputs": [
    {
     "name": "stdout",
     "output_type": "stream",
     "text": [
      "K-means vs Jerárquico\n",
      " [[58  0  5]\n",
      " [ 0 53  3]\n",
      " [12  4 64]]\n"
     ]
    }
   ],
   "source": [
    "from sklearn.metrics import confusion_matrix\n",
    "confusion_cluster = confusion_matrix(labels_kmeans, labels_jerarquico)\n",
    "print('K-means vs Jerárquico\\n',confusion_cluster)"
   ]
  },
  {
   "cell_type": "markdown",
   "metadata": {
    "slideshow": {
     "slide_type": "slide"
    }
   },
   "source": [
    "<div class=\"div-dhds-fondo-1\"> Referencias y Material Adicional\n",
    "<img src=\"https://raw.githubusercontent.com/Digital-House-DATA/ds_blend_2021_img/master/M3/CLASE_21_Regresion_Lineal_Simple/Presentacion/img/M3_CLASE_21_separador.png\" align=\"center\" />\n",
    "\n",
    "</div>"
   ]
  },
  {
   "cell_type": "markdown",
   "metadata": {
    "slideshow": {
     "slide_type": "slide"
    }
   },
   "source": [
    "### Referencias y Material Adicional\n",
    "\n",
    "---\n",
    "\n",
    "<a href=\"https://scikit-learn.org/stable/modules/clustering.html#clustering\" target=\"_blank\">Scikit-learn: clustering</a>\n",
    "\n",
    "<a href=\"https://sites.google.com/site/adol7387pleci15/amseen729camdon1419\" target=\"_blank\">Introduction to Machine Learning with Python. Andreas C. Müller & Sarah Guido\n",
    "</a>\n",
    "\n",
    "<a href=\"https://towardsdatascience.com/unsupervised-learning-and-data-clustering-eeecb78b422a\" target=\"_blank\">Unsupervised learning and data clustering</a>\n",
    "\n",
    "<a href=\"https://towardsdatascience.com/clustering-metrics-better-than-the-elbow-method-6926e1f723a6\" target=\"_blank\">Clustering metrics better than the elbow method</a>\n",
    "\n",
    "<a href=\"https://joernhees.de/blog/2015/08/26/scipy-hierarchical-clustering-and-dendrogram-tutorial/#Selecting-a-Distance-Cut-Off-aka-Determining-the-Number-of-Clusters\" target=\"_blank\">Selecting a Distance Cut-Off aka Determining the Number of Clusters</a>\n",
    "\n",
    "<a href=\"https://towardsdatascience.com/dbscan-clustering-explained-97556a2ad556\" target=\"_blank\">DBSCAN clustering - explained</a>\n"
   ]
  }
 ],
 "metadata": {
  "kernelspec": {
   "display_name": "Python 3",
   "language": "python",
   "name": "python3"
  },
  "language_info": {
   "codemirror_mode": {
    "name": "ipython",
    "version": 3
   },
   "file_extension": ".py",
   "mimetype": "text/x-python",
   "name": "python",
   "nbconvert_exporter": "python",
   "pygments_lexer": "ipython3",
   "version": "3.8.5"
  }
 },
 "nbformat": 4,
 "nbformat_minor": 4
}
