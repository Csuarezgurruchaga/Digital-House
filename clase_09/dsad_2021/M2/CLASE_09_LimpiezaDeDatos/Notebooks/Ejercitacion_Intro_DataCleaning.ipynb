{
 "cells": [
  {
   "cell_type": "code",
   "execution_count": 1,
   "id": "dd568cfd-1fda-4355-87ef-d60e8825f1fc",
   "metadata": {},
   "outputs": [],
   "source": [
    "import pandas as pd\n",
    "import numpy as np"
   ]
  },
  {
   "cell_type": "code",
   "execution_count": 2,
   "id": "65953b10-1db6-41a0-bf99-6fafa05abcf8",
   "metadata": {},
   "outputs": [
    {
     "data": {
      "text/plain": [
       "(13580, 21)"
      ]
     },
     "execution_count": 2,
     "metadata": {},
     "output_type": "execute_result"
    }
   ],
   "source": [
    "df = pd.read_csv(\"melb_data.csv\")\n",
    "df.shape"
   ]
  },
  {
   "cell_type": "code",
   "execution_count": 3,
   "id": "b939ed74-f640-4974-9432-01e55c40660c",
   "metadata": {
    "tags": []
   },
   "outputs": [
    {
     "name": "stdout",
     "output_type": "stream",
     "text": [
      "<class 'pandas.core.frame.DataFrame'>\n",
      "RangeIndex: 13580 entries, 0 to 13579\n",
      "Data columns (total 21 columns):\n",
      " #   Column         Non-Null Count  Dtype  \n",
      "---  ------         --------------  -----  \n",
      " 0   Suburb         13580 non-null  object \n",
      " 1   Address        13580 non-null  object \n",
      " 2   Rooms          13580 non-null  int64  \n",
      " 3   Type           13580 non-null  object \n",
      " 4   Price          13580 non-null  float64\n",
      " 5   Method         13580 non-null  object \n",
      " 6   SellerG        13580 non-null  object \n",
      " 7   Date           13580 non-null  object \n",
      " 8   Distance       13580 non-null  float64\n",
      " 9   Postcode       13580 non-null  float64\n",
      " 10  Bedroom2       13580 non-null  float64\n",
      " 11  Bathroom       13580 non-null  float64\n",
      " 12  Car            13518 non-null  float64\n",
      " 13  Landsize       13580 non-null  float64\n",
      " 14  BuildingArea   7130 non-null   float64\n",
      " 15  YearBuilt      8205 non-null   float64\n",
      " 16  CouncilArea    12211 non-null  object \n",
      " 17  Lattitude      13580 non-null  float64\n",
      " 18  Longtitude     13580 non-null  float64\n",
      " 19  Regionname     13580 non-null  object \n",
      " 20  Propertycount  13580 non-null  float64\n",
      "dtypes: float64(12), int64(1), object(8)\n",
      "memory usage: 2.2+ MB\n"
     ]
    }
   ],
   "source": [
    "df.info()"
   ]
  },
  {
   "cell_type": "code",
   "execution_count": 17,
   "id": "06838561-3157-4e62-a1d1-fffbdb82670d",
   "metadata": {},
   "outputs": [
    {
     "data": {
      "text/plain": [
       "6450"
      ]
     },
     "execution_count": 17,
     "metadata": {},
     "output_type": "execute_result"
    }
   ],
   "source": [
    "df.BuildingArea.isnull().sum()\n",
    "#Cuento cuantos valores nulos tengo en la columna building Area"
   ]
  },
  {
   "cell_type": "markdown",
   "id": "fd02b6f8-b380-4c03-b862-36bfd5619305",
   "metadata": {},
   "source": [
    "#### FILLNA WITH RANDOM VALUES"
   ]
  },
  {
   "cell_type": "code",
   "execution_count": 10,
   "id": "eb4190b6-ab10-4180-b58e-427457d61585",
   "metadata": {
    "tags": []
   },
   "outputs": [],
   "source": [
    "df2 = df.copy()\n",
    "possibleValues = df2.BuildingArea[df2.BuildingArea.notnull()]"
   ]
  },
  {
   "cell_type": "code",
   "execution_count": 22,
   "id": "42c6851d-6522-4aa1-aae6-266646099d98",
   "metadata": {},
   "outputs": [],
   "source": [
    "rng = np.random.default_rng()\n",
    "indexx = rng.integers(low=0, high = len(possibleValues), size = 1)"
   ]
  },
  {
   "cell_type": "code",
   "execution_count": 23,
   "id": "38db94a6-c7c6-4f32-a8ec-ab7ec15cfc6b",
   "metadata": {},
   "outputs": [
    {
     "name": "stdout",
     "output_type": "stream",
     "text": [
      "[7064]\n"
     ]
    }
   ],
   "source": [
    "print(indexx)"
   ]
  },
  {
   "cell_type": "code",
   "execution_count": 28,
   "id": "9c20c096-aa28-4576-858c-39b2feeda9b2",
   "metadata": {},
   "outputs": [],
   "source": [
    "newvalue = possibleValues.iloc[indexx[0]]"
   ]
  },
  {
   "cell_type": "code",
   "execution_count": 31,
   "id": "3ffb3241-79b4-4eda-95ec-04253414fbc1",
   "metadata": {},
   "outputs": [],
   "source": [
    "df2.BuildingArea.fillna(newvalue, inplace = True)"
   ]
  },
  {
   "cell_type": "markdown",
   "id": "1c11b477-1f5d-4914-9487-9669e774868f",
   "metadata": {},
   "source": [
    "#### FILLNA WITH MEAN () VALUES"
   ]
  },
  {
   "cell_type": "code",
   "execution_count": 33,
   "id": "99ad26c3-4cf9-47ee-a709-f2f8658a73e2",
   "metadata": {},
   "outputs": [],
   "source": [
    "df3 = df.copy()"
   ]
  },
  {
   "cell_type": "code",
   "execution_count": 34,
   "id": "a7268b6e-70e6-45e5-8339-c68849ac85f0",
   "metadata": {},
   "outputs": [
    {
     "data": {
      "text/plain": [
       "6450"
      ]
     },
     "execution_count": 34,
     "metadata": {},
     "output_type": "execute_result"
    }
   ],
   "source": [
    "df3.BuildingArea.isnull().sum()"
   ]
  },
  {
   "cell_type": "code",
   "execution_count": 36,
   "id": "04cbd143-d7df-4307-a35f-cfe8f6b7201b",
   "metadata": {},
   "outputs": [],
   "source": [
    "df3.BuildingArea.fillna(df3.BuildingArea.mean(), inplace = True)"
   ]
  },
  {
   "cell_type": "code",
   "execution_count": 37,
   "id": "b5129c96-44e9-4ed2-bede-fd4f2fab492d",
   "metadata": {},
   "outputs": [
    {
     "data": {
      "text/plain": [
       "0"
      ]
     },
     "execution_count": 37,
     "metadata": {},
     "output_type": "execute_result"
    }
   ],
   "source": [
    "df3.BuildingArea.isnull().sum()"
   ]
  },
  {
   "cell_type": "markdown",
   "id": "756425f2-860f-4582-9756-c9a082edbfce",
   "metadata": {},
   "source": [
    "#### FILLNA CON MEDIA CONDICIONADA"
   ]
  },
  {
   "cell_type": "code",
   "execution_count": 39,
   "id": "8069b25b-a109-48b9-9ec8-21e801ddee2b",
   "metadata": {},
   "outputs": [],
   "source": [
    "df4 = df.copy()"
   ]
  },
  {
   "cell_type": "code",
   "execution_count": 42,
   "id": "c3c23c95-eed1-4632-be89-e54fbe0a68ce",
   "metadata": {},
   "outputs": [],
   "source": [
    "filler_values = df4.groupby('CouncilArea').BuildingArea.mean()"
   ]
  },
  {
   "cell_type": "code",
   "execution_count": 44,
   "id": "ce3ef344-4fdc-4ce9-8dc5-8e3b3801b650",
   "metadata": {},
   "outputs": [
    {
     "data": {
      "text/plain": [
       "CouncilArea\n",
       "Banyule       150.988636\n",
       "Bayside       193.903500\n",
       "Boroondara    188.153227\n",
       "Brimbank      141.652200\n",
       "Cardinia      267.958000\n",
       "Name: BuildingArea, dtype: float64"
      ]
     },
     "execution_count": 44,
     "metadata": {},
     "output_type": "execute_result"
    }
   ],
   "source": [
    "filler_values.head()"
   ]
  },
  {
   "cell_type": "code",
   "execution_count": 45,
   "id": "0e330cff-85b2-409e-98f7-30968dbce601",
   "metadata": {
    "collapsed": true,
    "jupyter": {
     "outputs_hidden": true
    },
    "tags": []
   },
   "outputs": [
    {
     "data": {
      "text/plain": [
       "Index(['Banyule', 'Bayside', 'Boroondara', 'Brimbank', 'Cardinia', 'Casey',\n",
       "       'Darebin', 'Frankston', 'Glen Eira', 'Greater Dandenong', 'Hobsons Bay',\n",
       "       'Hume', 'Kingston', 'Knox', 'Macedon Ranges', 'Manningham',\n",
       "       'Maribyrnong', 'Maroondah', 'Melbourne', 'Melton', 'Monash',\n",
       "       'Moonee Valley', 'Moorabool', 'Moreland', 'Nillumbik', 'Port Phillip',\n",
       "       'Stonnington', 'Unavailable', 'Whitehorse', 'Whittlesea', 'Wyndham',\n",
       "       'Yarra', 'Yarra Ranges'],\n",
       "      dtype='object', name='CouncilArea')"
      ]
     },
     "execution_count": 45,
     "metadata": {},
     "output_type": "execute_result"
    }
   ],
   "source": [
    "filler_values.index"
   ]
  },
  {
   "cell_type": "code",
   "execution_count": 48,
   "id": "f51421e0-adff-4bf2-922d-4f29ca795b38",
   "metadata": {},
   "outputs": [],
   "source": [
    "#COnvierto a df para poder mergearlo con mi df\n",
    "filler_values_df = pd.DataFrame(filler_values)\n",
    "filler_values_df.reset_index = True"
   ]
  },
  {
   "cell_type": "code",
   "execution_count": 49,
   "id": "869dc846-c751-4fad-9b93-4bbe9ad1ab4a",
   "metadata": {},
   "outputs": [
    {
     "data": {
      "text/html": [
       "<div>\n",
       "<style scoped>\n",
       "    .dataframe tbody tr th:only-of-type {\n",
       "        vertical-align: middle;\n",
       "    }\n",
       "\n",
       "    .dataframe tbody tr th {\n",
       "        vertical-align: top;\n",
       "    }\n",
       "\n",
       "    .dataframe thead th {\n",
       "        text-align: right;\n",
       "    }\n",
       "</style>\n",
       "<table border=\"1\" class=\"dataframe\">\n",
       "  <thead>\n",
       "    <tr style=\"text-align: right;\">\n",
       "      <th></th>\n",
       "      <th>BuildingArea</th>\n",
       "    </tr>\n",
       "    <tr>\n",
       "      <th>CouncilArea</th>\n",
       "      <th></th>\n",
       "    </tr>\n",
       "  </thead>\n",
       "  <tbody>\n",
       "    <tr>\n",
       "      <th>Banyule</th>\n",
       "      <td>150.988636</td>\n",
       "    </tr>\n",
       "    <tr>\n",
       "      <th>Bayside</th>\n",
       "      <td>193.903500</td>\n",
       "    </tr>\n",
       "    <tr>\n",
       "      <th>Boroondara</th>\n",
       "      <td>188.153227</td>\n",
       "    </tr>\n",
       "    <tr>\n",
       "      <th>Brimbank</th>\n",
       "      <td>141.652200</td>\n",
       "    </tr>\n",
       "    <tr>\n",
       "      <th>Cardinia</th>\n",
       "      <td>267.958000</td>\n",
       "    </tr>\n",
       "  </tbody>\n",
       "</table>\n",
       "</div>"
      ],
      "text/plain": [
       "             BuildingArea\n",
       "CouncilArea              \n",
       "Banyule        150.988636\n",
       "Bayside        193.903500\n",
       "Boroondara     188.153227\n",
       "Brimbank       141.652200\n",
       "Cardinia       267.958000"
      ]
     },
     "execution_count": 49,
     "metadata": {},
     "output_type": "execute_result"
    }
   ],
   "source": [
    "filler_values_df.head()"
   ]
  },
  {
   "cell_type": "code",
   "execution_count": 205,
   "id": "14d348f6-f8e0-49d8-a6e8-b2c2c6cd6b3f",
   "metadata": {},
   "outputs": [
    {
     "data": {
      "text/html": [
       "<div>\n",
       "<style scoped>\n",
       "    .dataframe tbody tr th:only-of-type {\n",
       "        vertical-align: middle;\n",
       "    }\n",
       "\n",
       "    .dataframe tbody tr th {\n",
       "        vertical-align: top;\n",
       "    }\n",
       "\n",
       "    .dataframe thead th {\n",
       "        text-align: right;\n",
       "    }\n",
       "</style>\n",
       "<table border=\"1\" class=\"dataframe\">\n",
       "  <thead>\n",
       "    <tr style=\"text-align: right;\">\n",
       "      <th></th>\n",
       "      <th>Suburb</th>\n",
       "      <th>Address</th>\n",
       "      <th>Rooms</th>\n",
       "      <th>Type</th>\n",
       "      <th>Price</th>\n",
       "      <th>Method</th>\n",
       "      <th>SellerG</th>\n",
       "      <th>Date</th>\n",
       "      <th>Distance</th>\n",
       "      <th>Postcode</th>\n",
       "      <th>...</th>\n",
       "      <th>BuildingArea</th>\n",
       "      <th>YearBuilt</th>\n",
       "      <th>CouncilArea</th>\n",
       "      <th>Lattitude</th>\n",
       "      <th>Longtitude</th>\n",
       "      <th>Regionname</th>\n",
       "      <th>Propertycount</th>\n",
       "      <th>BuildingArea_mean</th>\n",
       "      <th>BuildingArea_mean</th>\n",
       "      <th>BuildingArea_mean</th>\n",
       "    </tr>\n",
       "  </thead>\n",
       "  <tbody>\n",
       "    <tr>\n",
       "      <th>0</th>\n",
       "      <td>Abbotsford</td>\n",
       "      <td>85 Turner St</td>\n",
       "      <td>2</td>\n",
       "      <td>h</td>\n",
       "      <td>1480000.0</td>\n",
       "      <td>S</td>\n",
       "      <td>Biggin</td>\n",
       "      <td>3/12/2016</td>\n",
       "      <td>2.5</td>\n",
       "      <td>3067.0</td>\n",
       "      <td>...</td>\n",
       "      <td>114.525127</td>\n",
       "      <td>NaN</td>\n",
       "      <td>Yarra</td>\n",
       "      <td>-37.7996</td>\n",
       "      <td>144.9984</td>\n",
       "      <td>Northern Metropolitan</td>\n",
       "      <td>4019.0</td>\n",
       "      <td>114.525127</td>\n",
       "      <td>114.525127</td>\n",
       "      <td>114.525127</td>\n",
       "    </tr>\n",
       "    <tr>\n",
       "      <th>1</th>\n",
       "      <td>Abbotsford</td>\n",
       "      <td>25 Bloomburg St</td>\n",
       "      <td>2</td>\n",
       "      <td>h</td>\n",
       "      <td>1035000.0</td>\n",
       "      <td>S</td>\n",
       "      <td>Biggin</td>\n",
       "      <td>4/02/2016</td>\n",
       "      <td>2.5</td>\n",
       "      <td>3067.0</td>\n",
       "      <td>...</td>\n",
       "      <td>79.000000</td>\n",
       "      <td>1900.0</td>\n",
       "      <td>Yarra</td>\n",
       "      <td>-37.8079</td>\n",
       "      <td>144.9934</td>\n",
       "      <td>Northern Metropolitan</td>\n",
       "      <td>4019.0</td>\n",
       "      <td>114.525127</td>\n",
       "      <td>114.525127</td>\n",
       "      <td>114.525127</td>\n",
       "    </tr>\n",
       "    <tr>\n",
       "      <th>2</th>\n",
       "      <td>Abbotsford</td>\n",
       "      <td>5 Charles St</td>\n",
       "      <td>3</td>\n",
       "      <td>h</td>\n",
       "      <td>1465000.0</td>\n",
       "      <td>SP</td>\n",
       "      <td>Biggin</td>\n",
       "      <td>4/03/2017</td>\n",
       "      <td>2.5</td>\n",
       "      <td>3067.0</td>\n",
       "      <td>...</td>\n",
       "      <td>150.000000</td>\n",
       "      <td>1900.0</td>\n",
       "      <td>Yarra</td>\n",
       "      <td>-37.8093</td>\n",
       "      <td>144.9944</td>\n",
       "      <td>Northern Metropolitan</td>\n",
       "      <td>4019.0</td>\n",
       "      <td>114.525127</td>\n",
       "      <td>114.525127</td>\n",
       "      <td>114.525127</td>\n",
       "    </tr>\n",
       "    <tr>\n",
       "      <th>3</th>\n",
       "      <td>Abbotsford</td>\n",
       "      <td>40 Federation La</td>\n",
       "      <td>3</td>\n",
       "      <td>h</td>\n",
       "      <td>850000.0</td>\n",
       "      <td>PI</td>\n",
       "      <td>Biggin</td>\n",
       "      <td>4/03/2017</td>\n",
       "      <td>2.5</td>\n",
       "      <td>3067.0</td>\n",
       "      <td>...</td>\n",
       "      <td>114.525127</td>\n",
       "      <td>NaN</td>\n",
       "      <td>Yarra</td>\n",
       "      <td>-37.7969</td>\n",
       "      <td>144.9969</td>\n",
       "      <td>Northern Metropolitan</td>\n",
       "      <td>4019.0</td>\n",
       "      <td>114.525127</td>\n",
       "      <td>114.525127</td>\n",
       "      <td>114.525127</td>\n",
       "    </tr>\n",
       "    <tr>\n",
       "      <th>4</th>\n",
       "      <td>Abbotsford</td>\n",
       "      <td>55a Park St</td>\n",
       "      <td>4</td>\n",
       "      <td>h</td>\n",
       "      <td>1600000.0</td>\n",
       "      <td>VB</td>\n",
       "      <td>Nelson</td>\n",
       "      <td>4/06/2016</td>\n",
       "      <td>2.5</td>\n",
       "      <td>3067.0</td>\n",
       "      <td>...</td>\n",
       "      <td>142.000000</td>\n",
       "      <td>2014.0</td>\n",
       "      <td>Yarra</td>\n",
       "      <td>-37.8072</td>\n",
       "      <td>144.9941</td>\n",
       "      <td>Northern Metropolitan</td>\n",
       "      <td>4019.0</td>\n",
       "      <td>114.525127</td>\n",
       "      <td>114.525127</td>\n",
       "      <td>114.525127</td>\n",
       "    </tr>\n",
       "  </tbody>\n",
       "</table>\n",
       "<p>5 rows × 24 columns</p>\n",
       "</div>"
      ],
      "text/plain": [
       "       Suburb           Address  Rooms Type      Price Method SellerG  \\\n",
       "0  Abbotsford      85 Turner St      2    h  1480000.0      S  Biggin   \n",
       "1  Abbotsford   25 Bloomburg St      2    h  1035000.0      S  Biggin   \n",
       "2  Abbotsford      5 Charles St      3    h  1465000.0     SP  Biggin   \n",
       "3  Abbotsford  40 Federation La      3    h   850000.0     PI  Biggin   \n",
       "4  Abbotsford       55a Park St      4    h  1600000.0     VB  Nelson   \n",
       "\n",
       "        Date  Distance  Postcode  ...  BuildingArea  YearBuilt  CouncilArea  \\\n",
       "0  3/12/2016       2.5    3067.0  ...    114.525127        NaN        Yarra   \n",
       "1  4/02/2016       2.5    3067.0  ...     79.000000     1900.0        Yarra   \n",
       "2  4/03/2017       2.5    3067.0  ...    150.000000     1900.0        Yarra   \n",
       "3  4/03/2017       2.5    3067.0  ...    114.525127        NaN        Yarra   \n",
       "4  4/06/2016       2.5    3067.0  ...    142.000000     2014.0        Yarra   \n",
       "\n",
       "   Lattitude  Longtitude             Regionname Propertycount  \\\n",
       "0   -37.7996    144.9984  Northern Metropolitan        4019.0   \n",
       "1   -37.8079    144.9934  Northern Metropolitan        4019.0   \n",
       "2   -37.8093    144.9944  Northern Metropolitan        4019.0   \n",
       "3   -37.7969    144.9969  Northern Metropolitan        4019.0   \n",
       "4   -37.8072    144.9941  Northern Metropolitan        4019.0   \n",
       "\n",
       "  BuildingArea_mean BuildingArea_mean BuildingArea_mean  \n",
       "0        114.525127        114.525127        114.525127  \n",
       "1        114.525127        114.525127        114.525127  \n",
       "2        114.525127        114.525127        114.525127  \n",
       "3        114.525127        114.525127        114.525127  \n",
       "4        114.525127        114.525127        114.525127  \n",
       "\n",
       "[5 rows x 24 columns]"
      ]
     },
     "execution_count": 205,
     "metadata": {},
     "output_type": "execute_result"
    }
   ],
   "source": [
    "df4 = pd.merge(df4, filler_values_df, on = \"CouncilArea\", suffixes = (\"\", \"_mean\") , how = 'left')\n",
    "df4.head()"
   ]
  },
  {
   "cell_type": "code",
   "execution_count": 53,
   "id": "afaa08ec-686b-463e-9aab-e2acd2bb6d6f",
   "metadata": {},
   "outputs": [],
   "source": [
    "df4.BuildingArea.fillna(df4.BuildingArea_mean, inplace = True)"
   ]
  },
  {
   "cell_type": "code",
   "execution_count": 57,
   "id": "ca740f80-fae2-446b-b281-c2aaffaeb17d",
   "metadata": {},
   "outputs": [
    {
     "data": {
      "text/plain": [
       "687"
      ]
     },
     "execution_count": 57,
     "metadata": {},
     "output_type": "execute_result"
    }
   ],
   "source": [
    "df4.BuildingArea.isnull().sum()"
   ]
  },
  {
   "cell_type": "code",
   "execution_count": null,
   "id": "c770f071-7ba7-4682-b691-f520dcdc2010",
   "metadata": {},
   "outputs": [],
   "source": []
  },
  {
   "cell_type": "markdown",
   "id": "0aefaff9-4a83-4023-a9c9-549bae15a7c5",
   "metadata": {},
   "source": [
    "#### REGEX (REGULAR EXPRESIONS)"
   ]
  },
  {
   "cell_type": "markdown",
   "id": "241f0d65-8be2-4d07-85a3-90f9155cf1e4",
   "metadata": {
    "jupyter": {
     "source_hidden": true
    },
    "tags": []
   },
   "source": [
    "¿Qué patrón pueden identificar para los siguientes strings?\n",
    "\n",
    "ana_laura@hotmail.com\n",
    "\n",
    "juan.perez@gmail.com\n",
    "\n",
    "florgimenez@yahoo.com.ar"
   ]
  },
  {
   "cell_type": "code",
   "execution_count": 121,
   "id": "c6a55963-00b9-497d-ba71-0a8bfd75f518",
   "metadata": {
    "jupyter": {
     "source_hidden": true
    },
    "tags": []
   },
   "outputs": [],
   "source": [
    "import re \n",
    "\n",
    "string = \"\"\"ana_laura@hotmail.com\n",
    "\n",
    "            juan.perez@gmail.com\n",
    "\n",
    "            florgimenez@yahoo.com.ar\"\"\"\n",
    "\n",
    "patron = re.compile(r'(\\w+)@(\\w+)?(.com)?(.ar)?')\n",
    "\n",
    "mo1 = patron.findall(string)\n",
    "\n"
   ]
  },
  {
   "cell_type": "code",
   "execution_count": 123,
   "id": "3428ddd6-0b08-4b52-8428-d2330083acd0",
   "metadata": {
    "collapsed": true,
    "jupyter": {
     "outputs_hidden": true,
     "source_hidden": true
    },
    "tags": []
   },
   "outputs": [
    {
     "name": "stdout",
     "output_type": "stream",
     "text": [
      "[('ana_laura', 'hotmail', '.com', ''), ('perez', 'gmail', '.com', ''), ('florgimenez', 'yahoo', '.com', '.ar')]\n"
     ]
    }
   ],
   "source": [
    "print(mo1)"
   ]
  },
  {
   "cell_type": "markdown",
   "id": "358b2483-57e5-4ec7-a11c-74a83d7a12c3",
   "metadata": {},
   "source": [
    "### HANDS ON"
   ]
  },
  {
   "cell_type": "markdown",
   "id": "5c21828f-6000-4655-9ed4-efc098b2c56f",
   "metadata": {},
   "source": [
    "Ejercicio 1\n",
    "\n",
    "Usando los datos de propiedades de Melbourne (../Data/melb_data.csv), queremos imputar los valores faltantes del campo YearBuilt usando la mediana de ese campo por vendedor SellerG\n",
    "\n",
    "¿Cántos valores nulos en el campo YearBuilt hay antes de la imputación?\n",
    "\n",
    "¿Cántos valores nulos en el campo YearBuilt hay después de la imputación?"
   ]
  },
  {
   "cell_type": "code",
   "execution_count": 193,
   "id": "93fbc4ad-a345-4832-a978-d1c28c071291",
   "metadata": {},
   "outputs": [],
   "source": [
    "data = pd.read_csv('melb_data.csv')"
   ]
  },
  {
   "cell_type": "code",
   "execution_count": 194,
   "id": "062fac56-2d0e-48e4-a844-4f41ddffbdd0",
   "metadata": {
    "collapsed": true,
    "jupyter": {
     "outputs_hidden": true
    },
    "tags": []
   },
   "outputs": [
    {
     "name": "stdout",
     "output_type": "stream",
     "text": [
      "<class 'pandas.core.frame.DataFrame'>\n",
      "RangeIndex: 13580 entries, 0 to 13579\n",
      "Data columns (total 21 columns):\n",
      " #   Column         Non-Null Count  Dtype  \n",
      "---  ------         --------------  -----  \n",
      " 0   Suburb         13580 non-null  object \n",
      " 1   Address        13580 non-null  object \n",
      " 2   Rooms          13580 non-null  int64  \n",
      " 3   Type           13580 non-null  object \n",
      " 4   Price          13580 non-null  float64\n",
      " 5   Method         13580 non-null  object \n",
      " 6   SellerG        13580 non-null  object \n",
      " 7   Date           13580 non-null  object \n",
      " 8   Distance       13580 non-null  float64\n",
      " 9   Postcode       13580 non-null  float64\n",
      " 10  Bedroom2       13580 non-null  float64\n",
      " 11  Bathroom       13580 non-null  float64\n",
      " 12  Car            13518 non-null  float64\n",
      " 13  Landsize       13580 non-null  float64\n",
      " 14  BuildingArea   7130 non-null   float64\n",
      " 15  YearBuilt      8205 non-null   float64\n",
      " 16  CouncilArea    12211 non-null  object \n",
      " 17  Lattitude      13580 non-null  float64\n",
      " 18  Longtitude     13580 non-null  float64\n",
      " 19  Regionname     13580 non-null  object \n",
      " 20  Propertycount  13580 non-null  float64\n",
      "dtypes: float64(12), int64(1), object(8)\n",
      "memory usage: 2.2+ MB\n"
     ]
    }
   ],
   "source": [
    "data.info()"
   ]
  },
  {
   "cell_type": "code",
   "execution_count": 195,
   "id": "f7c62bf4-caa9-4cfd-a466-534cbaa91bec",
   "metadata": {},
   "outputs": [
    {
     "data": {
      "text/plain": [
       "5375"
      ]
     },
     "execution_count": 195,
     "metadata": {},
     "output_type": "execute_result"
    }
   ],
   "source": [
    "data.YearBuilt.isnull().sum()\n",
    "#Tengo 5375 valores nulos(Null/Nan/Nat), antes de la imputacion"
   ]
  },
  {
   "cell_type": "code",
   "execution_count": 192,
   "id": "70ccf2d1-d4e1-4b1e-acf2-2bde829ad4b7",
   "metadata": {
    "collapsed": true,
    "jupyter": {
     "outputs_hidden": true
    },
    "tags": []
   },
   "outputs": [
    {
     "data": {
      "text/html": [
       "<div>\n",
       "<style scoped>\n",
       "    .dataframe tbody tr th:only-of-type {\n",
       "        vertical-align: middle;\n",
       "    }\n",
       "\n",
       "    .dataframe tbody tr th {\n",
       "        vertical-align: top;\n",
       "    }\n",
       "\n",
       "    .dataframe thead th {\n",
       "        text-align: right;\n",
       "    }\n",
       "</style>\n",
       "<table border=\"1\" class=\"dataframe\">\n",
       "  <thead>\n",
       "    <tr style=\"text-align: right;\">\n",
       "      <th></th>\n",
       "      <th>Suburb</th>\n",
       "      <th>Address</th>\n",
       "      <th>Rooms</th>\n",
       "      <th>Type</th>\n",
       "      <th>Price</th>\n",
       "      <th>Method</th>\n",
       "      <th>SellerG</th>\n",
       "      <th>Date</th>\n",
       "      <th>Distance</th>\n",
       "      <th>Postcode</th>\n",
       "      <th>...</th>\n",
       "      <th>Bathroom</th>\n",
       "      <th>Car</th>\n",
       "      <th>Landsize</th>\n",
       "      <th>BuildingArea</th>\n",
       "      <th>YearBuilt</th>\n",
       "      <th>CouncilArea</th>\n",
       "      <th>Lattitude</th>\n",
       "      <th>Longtitude</th>\n",
       "      <th>Regionname</th>\n",
       "      <th>Propertycount</th>\n",
       "    </tr>\n",
       "  </thead>\n",
       "  <tbody>\n",
       "    <tr>\n",
       "      <th>0</th>\n",
       "      <td>Abbotsford</td>\n",
       "      <td>85 Turner St</td>\n",
       "      <td>2</td>\n",
       "      <td>h</td>\n",
       "      <td>1480000.0</td>\n",
       "      <td>S</td>\n",
       "      <td>Biggin</td>\n",
       "      <td>3/12/2016</td>\n",
       "      <td>2.5</td>\n",
       "      <td>3067.0</td>\n",
       "      <td>...</td>\n",
       "      <td>1.0</td>\n",
       "      <td>1.0</td>\n",
       "      <td>202.0</td>\n",
       "      <td>NaN</td>\n",
       "      <td>NaN</td>\n",
       "      <td>Yarra</td>\n",
       "      <td>-37.7996</td>\n",
       "      <td>144.9984</td>\n",
       "      <td>Northern Metropolitan</td>\n",
       "      <td>4019.0</td>\n",
       "    </tr>\n",
       "    <tr>\n",
       "      <th>1</th>\n",
       "      <td>Abbotsford</td>\n",
       "      <td>25 Bloomburg St</td>\n",
       "      <td>2</td>\n",
       "      <td>h</td>\n",
       "      <td>1035000.0</td>\n",
       "      <td>S</td>\n",
       "      <td>Biggin</td>\n",
       "      <td>4/02/2016</td>\n",
       "      <td>2.5</td>\n",
       "      <td>3067.0</td>\n",
       "      <td>...</td>\n",
       "      <td>1.0</td>\n",
       "      <td>0.0</td>\n",
       "      <td>156.0</td>\n",
       "      <td>79.0</td>\n",
       "      <td>1900.0</td>\n",
       "      <td>Yarra</td>\n",
       "      <td>-37.8079</td>\n",
       "      <td>144.9934</td>\n",
       "      <td>Northern Metropolitan</td>\n",
       "      <td>4019.0</td>\n",
       "    </tr>\n",
       "    <tr>\n",
       "      <th>2</th>\n",
       "      <td>Abbotsford</td>\n",
       "      <td>5 Charles St</td>\n",
       "      <td>3</td>\n",
       "      <td>h</td>\n",
       "      <td>1465000.0</td>\n",
       "      <td>SP</td>\n",
       "      <td>Biggin</td>\n",
       "      <td>4/03/2017</td>\n",
       "      <td>2.5</td>\n",
       "      <td>3067.0</td>\n",
       "      <td>...</td>\n",
       "      <td>2.0</td>\n",
       "      <td>0.0</td>\n",
       "      <td>134.0</td>\n",
       "      <td>150.0</td>\n",
       "      <td>1900.0</td>\n",
       "      <td>Yarra</td>\n",
       "      <td>-37.8093</td>\n",
       "      <td>144.9944</td>\n",
       "      <td>Northern Metropolitan</td>\n",
       "      <td>4019.0</td>\n",
       "    </tr>\n",
       "    <tr>\n",
       "      <th>3</th>\n",
       "      <td>Abbotsford</td>\n",
       "      <td>40 Federation La</td>\n",
       "      <td>3</td>\n",
       "      <td>h</td>\n",
       "      <td>850000.0</td>\n",
       "      <td>PI</td>\n",
       "      <td>Biggin</td>\n",
       "      <td>4/03/2017</td>\n",
       "      <td>2.5</td>\n",
       "      <td>3067.0</td>\n",
       "      <td>...</td>\n",
       "      <td>2.0</td>\n",
       "      <td>1.0</td>\n",
       "      <td>94.0</td>\n",
       "      <td>NaN</td>\n",
       "      <td>NaN</td>\n",
       "      <td>Yarra</td>\n",
       "      <td>-37.7969</td>\n",
       "      <td>144.9969</td>\n",
       "      <td>Northern Metropolitan</td>\n",
       "      <td>4019.0</td>\n",
       "    </tr>\n",
       "    <tr>\n",
       "      <th>4</th>\n",
       "      <td>Abbotsford</td>\n",
       "      <td>55a Park St</td>\n",
       "      <td>4</td>\n",
       "      <td>h</td>\n",
       "      <td>1600000.0</td>\n",
       "      <td>VB</td>\n",
       "      <td>Nelson</td>\n",
       "      <td>4/06/2016</td>\n",
       "      <td>2.5</td>\n",
       "      <td>3067.0</td>\n",
       "      <td>...</td>\n",
       "      <td>1.0</td>\n",
       "      <td>2.0</td>\n",
       "      <td>120.0</td>\n",
       "      <td>142.0</td>\n",
       "      <td>2014.0</td>\n",
       "      <td>Yarra</td>\n",
       "      <td>-37.8072</td>\n",
       "      <td>144.9941</td>\n",
       "      <td>Northern Metropolitan</td>\n",
       "      <td>4019.0</td>\n",
       "    </tr>\n",
       "  </tbody>\n",
       "</table>\n",
       "<p>5 rows × 21 columns</p>\n",
       "</div>"
      ],
      "text/plain": [
       "       Suburb           Address  Rooms Type      Price Method SellerG  \\\n",
       "0  Abbotsford      85 Turner St      2    h  1480000.0      S  Biggin   \n",
       "1  Abbotsford   25 Bloomburg St      2    h  1035000.0      S  Biggin   \n",
       "2  Abbotsford      5 Charles St      3    h  1465000.0     SP  Biggin   \n",
       "3  Abbotsford  40 Federation La      3    h   850000.0     PI  Biggin   \n",
       "4  Abbotsford       55a Park St      4    h  1600000.0     VB  Nelson   \n",
       "\n",
       "        Date  Distance  Postcode  ...  Bathroom  Car  Landsize  BuildingArea  \\\n",
       "0  3/12/2016       2.5    3067.0  ...       1.0  1.0     202.0           NaN   \n",
       "1  4/02/2016       2.5    3067.0  ...       1.0  0.0     156.0          79.0   \n",
       "2  4/03/2017       2.5    3067.0  ...       2.0  0.0     134.0         150.0   \n",
       "3  4/03/2017       2.5    3067.0  ...       2.0  1.0      94.0           NaN   \n",
       "4  4/06/2016       2.5    3067.0  ...       1.0  2.0     120.0         142.0   \n",
       "\n",
       "   YearBuilt  CouncilArea Lattitude  Longtitude             Regionname  \\\n",
       "0        NaN        Yarra  -37.7996    144.9984  Northern Metropolitan   \n",
       "1     1900.0        Yarra  -37.8079    144.9934  Northern Metropolitan   \n",
       "2     1900.0        Yarra  -37.8093    144.9944  Northern Metropolitan   \n",
       "3        NaN        Yarra  -37.7969    144.9969  Northern Metropolitan   \n",
       "4     2014.0        Yarra  -37.8072    144.9941  Northern Metropolitan   \n",
       "\n",
       "  Propertycount  \n",
       "0        4019.0  \n",
       "1        4019.0  \n",
       "2        4019.0  \n",
       "3        4019.0  \n",
       "4        4019.0  \n",
       "\n",
       "[5 rows x 21 columns]"
      ]
     },
     "execution_count": 192,
     "metadata": {},
     "output_type": "execute_result"
    }
   ],
   "source": [
    "data.head()"
   ]
  },
  {
   "cell_type": "code",
   "execution_count": 197,
   "id": "c4e2bfb1-f4e0-478c-a089-9ea60ba8edf0",
   "metadata": {},
   "outputs": [],
   "source": [
    "fillers = data.groupby('SellerG').YearBuilt.median()"
   ]
  },
  {
   "cell_type": "code",
   "execution_count": 199,
   "id": "53a18980-cbd9-4cc8-97f7-e929bb00a00d",
   "metadata": {
    "collapsed": true,
    "jupyter": {
     "outputs_hidden": true
    },
    "tags": []
   },
   "outputs": [
    {
     "data": {
      "text/plain": [
       "Index(['@Realty', 'ASL', 'Abercromby's', 'Ace', 'Alexkarbon', 'Allens',\n",
       "       'Anderson', 'Appleby', 'Aquire', 'Area',\n",
       "       ...\n",
       "       'Zahn', 'buyMyplace', 'hockingstuart', 'hockingstuart/Advantage',\n",
       "       'hockingstuart/Barry', 'hockingstuart/Village', 'iOne', 'iProperty',\n",
       "       'iSell', 'iTRAK'],\n",
       "      dtype='object', name='SellerG', length=268)"
      ]
     },
     "execution_count": 199,
     "metadata": {},
     "output_type": "execute_result"
    }
   ],
   "source": [
    "fillers.index"
   ]
  },
  {
   "cell_type": "code",
   "execution_count": 200,
   "id": "1a0cfac5-df27-4fbd-90b1-35f68a445caf",
   "metadata": {},
   "outputs": [],
   "source": [
    "#Convierto a DataFrame para poder mergearlo con mi data\n",
    "df_filler = pd.DataFrame(fillers)"
   ]
  },
  {
   "cell_type": "code",
   "execution_count": 201,
   "id": "004eec92-3c24-42c0-8f64-6bfb3c918319",
   "metadata": {},
   "outputs": [
    {
     "data": {
      "text/html": [
       "<div>\n",
       "<style scoped>\n",
       "    .dataframe tbody tr th:only-of-type {\n",
       "        vertical-align: middle;\n",
       "    }\n",
       "\n",
       "    .dataframe tbody tr th {\n",
       "        vertical-align: top;\n",
       "    }\n",
       "\n",
       "    .dataframe thead th {\n",
       "        text-align: right;\n",
       "    }\n",
       "</style>\n",
       "<table border=\"1\" class=\"dataframe\">\n",
       "  <thead>\n",
       "    <tr style=\"text-align: right;\">\n",
       "      <th></th>\n",
       "      <th>YearBuilt</th>\n",
       "    </tr>\n",
       "    <tr>\n",
       "      <th>SellerG</th>\n",
       "      <th></th>\n",
       "    </tr>\n",
       "  </thead>\n",
       "  <tbody>\n",
       "    <tr>\n",
       "      <th>@Realty</th>\n",
       "      <td>1970.0</td>\n",
       "    </tr>\n",
       "    <tr>\n",
       "      <th>ASL</th>\n",
       "      <td>1962.5</td>\n",
       "    </tr>\n",
       "    <tr>\n",
       "      <th>Abercromby's</th>\n",
       "      <td>1946.5</td>\n",
       "    </tr>\n",
       "    <tr>\n",
       "      <th>Ace</th>\n",
       "      <td>NaN</td>\n",
       "    </tr>\n",
       "    <tr>\n",
       "      <th>Alexkarbon</th>\n",
       "      <td>2000.0</td>\n",
       "    </tr>\n",
       "  </tbody>\n",
       "</table>\n",
       "</div>"
      ],
      "text/plain": [
       "              YearBuilt\n",
       "SellerG                \n",
       "@Realty          1970.0\n",
       "ASL              1962.5\n",
       "Abercromby's     1946.5\n",
       "Ace                 NaN\n",
       "Alexkarbon       2000.0"
      ]
     },
     "execution_count": 201,
     "metadata": {},
     "output_type": "execute_result"
    }
   ],
   "source": [
    "df_filler.head()"
   ]
  },
  {
   "cell_type": "code",
   "execution_count": 202,
   "id": "dfb90344-6e9e-4279-a1f8-89ef80d03c7d",
   "metadata": {},
   "outputs": [],
   "source": [
    "df_filler.reset_index=True"
   ]
  },
  {
   "cell_type": "code",
   "execution_count": null,
   "id": "e4cddc82-5029-4d0a-af70-92bb553cfdb4",
   "metadata": {},
   "outputs": [],
   "source": []
  },
  {
   "cell_type": "code",
   "execution_count": 206,
   "id": "d7b93b6e-1bf6-4d0a-8672-98677fd3f2a7",
   "metadata": {},
   "outputs": [],
   "source": [
    "merge_filler = pd.merge(data,df_filler, on = 'SellerG', how = \"left\", suffixes = (\"\", \"_median\"))"
   ]
  },
  {
   "cell_type": "code",
   "execution_count": 208,
   "id": "a614fe0b-ed3b-4f7a-a213-bb79d31c4c28",
   "metadata": {},
   "outputs": [
    {
     "data": {
      "text/html": [
       "<div>\n",
       "<style scoped>\n",
       "    .dataframe tbody tr th:only-of-type {\n",
       "        vertical-align: middle;\n",
       "    }\n",
       "\n",
       "    .dataframe tbody tr th {\n",
       "        vertical-align: top;\n",
       "    }\n",
       "\n",
       "    .dataframe thead th {\n",
       "        text-align: right;\n",
       "    }\n",
       "</style>\n",
       "<table border=\"1\" class=\"dataframe\">\n",
       "  <thead>\n",
       "    <tr style=\"text-align: right;\">\n",
       "      <th></th>\n",
       "      <th>Suburb</th>\n",
       "      <th>Address</th>\n",
       "      <th>Rooms</th>\n",
       "      <th>Type</th>\n",
       "      <th>Price</th>\n",
       "      <th>Method</th>\n",
       "      <th>SellerG</th>\n",
       "      <th>Date</th>\n",
       "      <th>Distance</th>\n",
       "      <th>Postcode</th>\n",
       "      <th>...</th>\n",
       "      <th>Car</th>\n",
       "      <th>Landsize</th>\n",
       "      <th>BuildingArea</th>\n",
       "      <th>YearBuilt</th>\n",
       "      <th>CouncilArea</th>\n",
       "      <th>Lattitude</th>\n",
       "      <th>Longtitude</th>\n",
       "      <th>Regionname</th>\n",
       "      <th>Propertycount</th>\n",
       "      <th>YearBuilt_median</th>\n",
       "    </tr>\n",
       "  </thead>\n",
       "  <tbody>\n",
       "    <tr>\n",
       "      <th>0</th>\n",
       "      <td>Abbotsford</td>\n",
       "      <td>85 Turner St</td>\n",
       "      <td>2</td>\n",
       "      <td>h</td>\n",
       "      <td>1480000.0</td>\n",
       "      <td>S</td>\n",
       "      <td>Biggin</td>\n",
       "      <td>3/12/2016</td>\n",
       "      <td>2.5</td>\n",
       "      <td>3067.0</td>\n",
       "      <td>...</td>\n",
       "      <td>1.0</td>\n",
       "      <td>202.0</td>\n",
       "      <td>NaN</td>\n",
       "      <td>NaN</td>\n",
       "      <td>Yarra</td>\n",
       "      <td>-37.7996</td>\n",
       "      <td>144.9984</td>\n",
       "      <td>Northern Metropolitan</td>\n",
       "      <td>4019.0</td>\n",
       "      <td>1970.0</td>\n",
       "    </tr>\n",
       "    <tr>\n",
       "      <th>1</th>\n",
       "      <td>Abbotsford</td>\n",
       "      <td>25 Bloomburg St</td>\n",
       "      <td>2</td>\n",
       "      <td>h</td>\n",
       "      <td>1035000.0</td>\n",
       "      <td>S</td>\n",
       "      <td>Biggin</td>\n",
       "      <td>4/02/2016</td>\n",
       "      <td>2.5</td>\n",
       "      <td>3067.0</td>\n",
       "      <td>...</td>\n",
       "      <td>0.0</td>\n",
       "      <td>156.0</td>\n",
       "      <td>79.0</td>\n",
       "      <td>1900.0</td>\n",
       "      <td>Yarra</td>\n",
       "      <td>-37.8079</td>\n",
       "      <td>144.9934</td>\n",
       "      <td>Northern Metropolitan</td>\n",
       "      <td>4019.0</td>\n",
       "      <td>1970.0</td>\n",
       "    </tr>\n",
       "    <tr>\n",
       "      <th>2</th>\n",
       "      <td>Abbotsford</td>\n",
       "      <td>5 Charles St</td>\n",
       "      <td>3</td>\n",
       "      <td>h</td>\n",
       "      <td>1465000.0</td>\n",
       "      <td>SP</td>\n",
       "      <td>Biggin</td>\n",
       "      <td>4/03/2017</td>\n",
       "      <td>2.5</td>\n",
       "      <td>3067.0</td>\n",
       "      <td>...</td>\n",
       "      <td>0.0</td>\n",
       "      <td>134.0</td>\n",
       "      <td>150.0</td>\n",
       "      <td>1900.0</td>\n",
       "      <td>Yarra</td>\n",
       "      <td>-37.8093</td>\n",
       "      <td>144.9944</td>\n",
       "      <td>Northern Metropolitan</td>\n",
       "      <td>4019.0</td>\n",
       "      <td>1970.0</td>\n",
       "    </tr>\n",
       "    <tr>\n",
       "      <th>3</th>\n",
       "      <td>Abbotsford</td>\n",
       "      <td>40 Federation La</td>\n",
       "      <td>3</td>\n",
       "      <td>h</td>\n",
       "      <td>850000.0</td>\n",
       "      <td>PI</td>\n",
       "      <td>Biggin</td>\n",
       "      <td>4/03/2017</td>\n",
       "      <td>2.5</td>\n",
       "      <td>3067.0</td>\n",
       "      <td>...</td>\n",
       "      <td>1.0</td>\n",
       "      <td>94.0</td>\n",
       "      <td>NaN</td>\n",
       "      <td>NaN</td>\n",
       "      <td>Yarra</td>\n",
       "      <td>-37.7969</td>\n",
       "      <td>144.9969</td>\n",
       "      <td>Northern Metropolitan</td>\n",
       "      <td>4019.0</td>\n",
       "      <td>1970.0</td>\n",
       "    </tr>\n",
       "    <tr>\n",
       "      <th>4</th>\n",
       "      <td>Abbotsford</td>\n",
       "      <td>55a Park St</td>\n",
       "      <td>4</td>\n",
       "      <td>h</td>\n",
       "      <td>1600000.0</td>\n",
       "      <td>VB</td>\n",
       "      <td>Nelson</td>\n",
       "      <td>4/06/2016</td>\n",
       "      <td>2.5</td>\n",
       "      <td>3067.0</td>\n",
       "      <td>...</td>\n",
       "      <td>2.0</td>\n",
       "      <td>120.0</td>\n",
       "      <td>142.0</td>\n",
       "      <td>2014.0</td>\n",
       "      <td>Yarra</td>\n",
       "      <td>-37.8072</td>\n",
       "      <td>144.9941</td>\n",
       "      <td>Northern Metropolitan</td>\n",
       "      <td>4019.0</td>\n",
       "      <td>1960.0</td>\n",
       "    </tr>\n",
       "  </tbody>\n",
       "</table>\n",
       "<p>5 rows × 22 columns</p>\n",
       "</div>"
      ],
      "text/plain": [
       "       Suburb           Address  Rooms Type      Price Method SellerG  \\\n",
       "0  Abbotsford      85 Turner St      2    h  1480000.0      S  Biggin   \n",
       "1  Abbotsford   25 Bloomburg St      2    h  1035000.0      S  Biggin   \n",
       "2  Abbotsford      5 Charles St      3    h  1465000.0     SP  Biggin   \n",
       "3  Abbotsford  40 Federation La      3    h   850000.0     PI  Biggin   \n",
       "4  Abbotsford       55a Park St      4    h  1600000.0     VB  Nelson   \n",
       "\n",
       "        Date  Distance  Postcode  ...  Car  Landsize  BuildingArea  YearBuilt  \\\n",
       "0  3/12/2016       2.5    3067.0  ...  1.0     202.0           NaN        NaN   \n",
       "1  4/02/2016       2.5    3067.0  ...  0.0     156.0          79.0     1900.0   \n",
       "2  4/03/2017       2.5    3067.0  ...  0.0     134.0         150.0     1900.0   \n",
       "3  4/03/2017       2.5    3067.0  ...  1.0      94.0           NaN        NaN   \n",
       "4  4/06/2016       2.5    3067.0  ...  2.0     120.0         142.0     2014.0   \n",
       "\n",
       "   CouncilArea  Lattitude Longtitude             Regionname  Propertycount  \\\n",
       "0        Yarra   -37.7996   144.9984  Northern Metropolitan         4019.0   \n",
       "1        Yarra   -37.8079   144.9934  Northern Metropolitan         4019.0   \n",
       "2        Yarra   -37.8093   144.9944  Northern Metropolitan         4019.0   \n",
       "3        Yarra   -37.7969   144.9969  Northern Metropolitan         4019.0   \n",
       "4        Yarra   -37.8072   144.9941  Northern Metropolitan         4019.0   \n",
       "\n",
       "  YearBuilt_median  \n",
       "0           1970.0  \n",
       "1           1970.0  \n",
       "2           1970.0  \n",
       "3           1970.0  \n",
       "4           1960.0  \n",
       "\n",
       "[5 rows x 22 columns]"
      ]
     },
     "execution_count": 208,
     "metadata": {},
     "output_type": "execute_result"
    }
   ],
   "source": [
    "merge_filler.head()"
   ]
  },
  {
   "cell_type": "code",
   "execution_count": 211,
   "id": "97ec0c2b-e5f2-42b4-acdc-5f41c10a5226",
   "metadata": {},
   "outputs": [],
   "source": [
    "data.YearBuilt.fillna(merge_filler.YearBuilt_median, inplace = True)"
   ]
  },
  {
   "cell_type": "code",
   "execution_count": 213,
   "id": "18891cf1-f7d3-48aa-bdb8-6813e465e052",
   "metadata": {},
   "outputs": [
    {
     "data": {
      "text/plain": [
       "51"
      ]
     },
     "execution_count": 213,
     "metadata": {},
     "output_type": "execute_result"
    }
   ],
   "source": [
    "data.YearBuilt.isnull().sum()"
   ]
  },
  {
   "cell_type": "markdown",
   "id": "bc1985b0-504a-4ba4-b854-6ffd20ae2163",
   "metadata": {},
   "source": [
    "**Quedaron 51 filas con valures nulos en YearBuilt, dsp de la imputacion condicional**"
   ]
  },
  {
   "cell_type": "code",
   "execution_count": 220,
   "id": "895b9b73-9e6b-43fe-933e-a5bf94a4ef1c",
   "metadata": {},
   "outputs": [
    {
     "data": {
      "text/plain": [
       "array(['Propertyau', 'North', 'Joe', 'Thomas', 'CASTRAN', 'Coventry',\n",
       "       'Reach', 'Nguyen', 'Changing', 'Elite', 'Leased',\n",
       "       'hockingstuart/Barry', 'Blue', 'Steveway', 'Parkinson', 'Calder',\n",
       "       'David', 'White', 'Craig', 'Metro', 'Ace', 'JRW', 'M.J', 'Asset',\n",
       "       'Mitchell', 'Conquest', 'Community', 'Free', 'Xynergy', 'Keatings',\n",
       "       'Better', 'Nicholls', 'Meadows', 'L', 'Darras', 'Roger', 'Le',\n",
       "       'Boutique', 'Area', 'PRD'], dtype=object)"
      ]
     },
     "execution_count": 220,
     "metadata": {},
     "output_type": "execute_result"
    }
   ],
   "source": [
    "#Estos 51 registros corresponden a los siguientes vendedores\n",
    "data[data.YearBuilt.isnull()].SellerG.unique()"
   ]
  },
  {
   "cell_type": "code",
   "execution_count": null,
   "id": "776528a5-c1c9-44e3-a01e-a51d2679d9fb",
   "metadata": {},
   "outputs": [],
   "source": []
  },
  {
   "cell_type": "markdown",
   "id": "a2b68ce4-d5bb-4ae8-9e0c-5694dc6cd74a",
   "metadata": {},
   "source": [
    "Ejercicio 2\n",
    "Queremos definir una expresión regular que nos permita extraer el punto cardinal al que referencia Regionname en los datos de propiedades de Melbourne (../Data/melb_data.csv),\n",
    "\n",
    "Por ejemplo:\n",
    "\n",
    "si el valor es Northern Metropolitan o Northern Victoria, el resultado debe ser North\n",
    "\n",
    "si el valor es Western Metropolitan o Western Victoria, el resultado debe ser West\n",
    "\n",
    "si el valor es Southern Metropolitan o Southern Victoria, el resultado debe ser South\n",
    "\n",
    "si el valor es Eastern Metropolitan o Eastern Victoria, el resultado debe ser East\n",
    "\n",
    "Sugerencia: usar como textos para hacer pruebas\n",
    "\n",
    "'Northern Metropolitan',\n",
    "\n",
    "'Western Metropolitan',\n",
    "\n",
    "'Southern Metropolitan',\n",
    "\n",
    "'Eastern Metropolitan',\n",
    "\n",
    "'South-Eastern Metropolitan',\n",
    "\n",
    "'Eastern Victoria',\n",
    "\n",
    "'Northern Victoria',\n",
    "\n",
    "'Western Victoria'\n",
    "\n",
    "y el método search"
   ]
  },
  {
   "cell_type": "code",
   "execution_count": 429,
   "id": "0da741e7-af59-4ad8-897e-881eda7f89ec",
   "metadata": {},
   "outputs": [],
   "source": [
    "import re\n",
    "patron = re.compile(r'(^N(\\w){4})|(^W(\\w){3})|(^S(\\w){4}-(\\w){4})|(^S(\\w){4})|(^E(\\w){3})')\n",
    "\n",
    "mo1 = patron.search('South Metropolitan')"
   ]
  },
  {
   "cell_type": "code",
   "execution_count": 430,
   "id": "0e2e205d-e2d0-40b7-be42-e0655513ecce",
   "metadata": {},
   "outputs": [
    {
     "data": {
      "text/plain": [
       "'South'"
      ]
     },
     "execution_count": 430,
     "metadata": {},
     "output_type": "execute_result"
    }
   ],
   "source": [
    "mo1.group()"
   ]
  },
  {
   "cell_type": "markdown",
   "id": "d27a8ab1-db86-4626-881b-4f6cfa123f80",
   "metadata": {},
   "source": [
    "Ejercicio 3\n",
    "\n",
    "Usando la expresión regular definida en el punto anterior, el método apply y una función lambda, obtener una instancia de Series con los puntos cardinales a los que referencia Regionname en cada registro."
   ]
  },
  {
   "cell_type": "code",
   "execution_count": 436,
   "id": "1b6bc908-fb98-4d96-bfd2-9d1b90cb58be",
   "metadata": {},
   "outputs": [],
   "source": [
    "def puntoCardinal(x):\n",
    "    patron = re.compile(r'(^N(\\w){4})|(^W(\\w){3})|(^S(\\w){4}-(\\w){4})|(^S(\\w){4})|(^E(\\w){3})')\n",
    "    mo1 = patron.search(x)\n",
    "    return mo1.group()\n",
    "\n",
    "\n",
    "data_cardinal = data.Regionname.apply(lambda x: puntoCardinal(x))"
   ]
  },
  {
   "cell_type": "code",
   "execution_count": 439,
   "id": "1d4bb345-40d4-4dbd-af55-85d1abd8d2d0",
   "metadata": {},
   "outputs": [
    {
     "data": {
      "text/plain": [
       "11812     West\n",
       "12815    South\n",
       "898      South\n",
       "3637     South\n",
       "3828     South\n",
       "7776     North\n",
       "13224    South\n",
       "3928      West\n",
       "11640     East\n",
       "3282      East\n",
       "Name: Regionname, dtype: object"
      ]
     },
     "execution_count": 439,
     "metadata": {},
     "output_type": "execute_result"
    }
   ],
   "source": [
    "data_cardinal.sample(10)"
   ]
  },
  {
   "cell_type": "code",
   "execution_count": null,
   "id": "15996003-6b31-4a2b-929a-d64940802705",
   "metadata": {},
   "outputs": [],
   "source": []
  },
  {
   "cell_type": "code",
   "execution_count": null,
   "id": "15709830-fd22-47fe-b0bb-40c44b260afb",
   "metadata": {},
   "outputs": [],
   "source": []
  },
  {
   "cell_type": "code",
   "execution_count": 171,
   "id": "03f6bbf3-6aaf-42a9-aef8-3b637345b4be",
   "metadata": {},
   "outputs": [
    {
     "data": {
      "text/html": [
       "<div>\n",
       "<style scoped>\n",
       "    .dataframe tbody tr th:only-of-type {\n",
       "        vertical-align: middle;\n",
       "    }\n",
       "\n",
       "    .dataframe tbody tr th {\n",
       "        vertical-align: top;\n",
       "    }\n",
       "\n",
       "    .dataframe thead th {\n",
       "        text-align: right;\n",
       "    }\n",
       "</style>\n",
       "<table border=\"1\" class=\"dataframe\">\n",
       "  <thead>\n",
       "    <tr style=\"text-align: right;\">\n",
       "      <th></th>\n",
       "      <th>movie_id</th>\n",
       "      <th>ranking</th>\n",
       "      <th>user_id</th>\n",
       "      <th>genero</th>\n",
       "    </tr>\n",
       "  </thead>\n",
       "  <tbody>\n",
       "    <tr>\n",
       "      <th>0</th>\n",
       "      <td>1</td>\n",
       "      <td>9</td>\n",
       "      <td>5</td>\n",
       "      <td>accion</td>\n",
       "    </tr>\n",
       "    <tr>\n",
       "      <th>1</th>\n",
       "      <td>2</td>\n",
       "      <td>8</td>\n",
       "      <td>232323</td>\n",
       "      <td>suspenso</td>\n",
       "    </tr>\n",
       "    <tr>\n",
       "      <th>2</th>\n",
       "      <td>3</td>\n",
       "      <td>9</td>\n",
       "      <td>4444</td>\n",
       "      <td>terror</td>\n",
       "    </tr>\n",
       "    <tr>\n",
       "      <th>3</th>\n",
       "      <td>4</td>\n",
       "      <td>5</td>\n",
       "      <td>43222</td>\n",
       "      <td>animacion</td>\n",
       "    </tr>\n",
       "    <tr>\n",
       "      <th>4</th>\n",
       "      <td>5</td>\n",
       "      <td>4</td>\n",
       "      <td>555</td>\n",
       "      <td>accion</td>\n",
       "    </tr>\n",
       "  </tbody>\n",
       "</table>\n",
       "</div>"
      ],
      "text/plain": [
       "   movie_id  ranking user_id     genero\n",
       "0         1        9       5     accion\n",
       "1         2        8  232323   suspenso\n",
       "2         3        9    4444     terror\n",
       "3         4        5   43222  animacion\n",
       "4         5        4     555     accion"
      ]
     },
     "execution_count": 171,
     "metadata": {},
     "output_type": "execute_result"
    }
   ],
   "source": [
    "merge1 = pd.DataFrame({'movie_id':[1,2,3,4,5], 'ranking':[9,8,9,5,4], 'user_id':['5','232323','4444','43222','555'], 'genero':['accion','suspenso','terror','animacion','accion']})\n",
    "merge1"
   ]
  },
  {
   "cell_type": "code",
   "execution_count": 172,
   "id": "5dd70764-c179-46a7-803c-58939e721b6f",
   "metadata": {},
   "outputs": [],
   "source": [
    "merge = pd.DataFrame([{'movie_id' : 1, 'movie': 'Toy Story', 'genero':'accion'},{'movie_id': 2, \"movie\": 'Star Wars','genero':'terror'},{'movie_id':3, \"movie\":'Madagascar','genero':'comedia'},{'movie_id':4 , 'movie':'Depredador', 'genero':'animacion'}])"
   ]
  },
  {
   "cell_type": "code",
   "execution_count": 173,
   "id": "d1f7a5a2-667b-4a0d-a01c-f6fff3110fd7",
   "metadata": {},
   "outputs": [
    {
     "data": {
      "text/html": [
       "<div>\n",
       "<style scoped>\n",
       "    .dataframe tbody tr th:only-of-type {\n",
       "        vertical-align: middle;\n",
       "    }\n",
       "\n",
       "    .dataframe tbody tr th {\n",
       "        vertical-align: top;\n",
       "    }\n",
       "\n",
       "    .dataframe thead th {\n",
       "        text-align: right;\n",
       "    }\n",
       "</style>\n",
       "<table border=\"1\" class=\"dataframe\">\n",
       "  <thead>\n",
       "    <tr style=\"text-align: right;\">\n",
       "      <th></th>\n",
       "      <th>movie_id</th>\n",
       "      <th>movie</th>\n",
       "      <th>genero</th>\n",
       "    </tr>\n",
       "  </thead>\n",
       "  <tbody>\n",
       "    <tr>\n",
       "      <th>0</th>\n",
       "      <td>1</td>\n",
       "      <td>Toy Story</td>\n",
       "      <td>accion</td>\n",
       "    </tr>\n",
       "    <tr>\n",
       "      <th>1</th>\n",
       "      <td>2</td>\n",
       "      <td>Star Wars</td>\n",
       "      <td>terror</td>\n",
       "    </tr>\n",
       "    <tr>\n",
       "      <th>2</th>\n",
       "      <td>3</td>\n",
       "      <td>Madagascar</td>\n",
       "      <td>comedia</td>\n",
       "    </tr>\n",
       "    <tr>\n",
       "      <th>3</th>\n",
       "      <td>4</td>\n",
       "      <td>Depredador</td>\n",
       "      <td>animacion</td>\n",
       "    </tr>\n",
       "  </tbody>\n",
       "</table>\n",
       "</div>"
      ],
      "text/plain": [
       "   movie_id       movie     genero\n",
       "0         1   Toy Story     accion\n",
       "1         2   Star Wars     terror\n",
       "2         3  Madagascar    comedia\n",
       "3         4  Depredador  animacion"
      ]
     },
     "execution_count": 173,
     "metadata": {},
     "output_type": "execute_result"
    }
   ],
   "source": [
    "merge"
   ]
  },
  {
   "cell_type": "code",
   "execution_count": 157,
   "id": "501304db-fd85-42a3-81cd-601a61629b61",
   "metadata": {},
   "outputs": [
    {
     "data": {
      "text/plain": [
       "Index(['movie_id', 'movie', 'id'], dtype='object')"
      ]
     },
     "execution_count": 157,
     "metadata": {},
     "output_type": "execute_result"
    }
   ],
   "source": [
    "merge.columns"
   ]
  },
  {
   "cell_type": "code",
   "execution_count": 154,
   "id": "67dee0cd-c7c3-4369-9097-3554fc27ce16",
   "metadata": {},
   "outputs": [
    {
     "data": {
      "text/plain": [
       "Index(['movie_id', 'ranking', 'user_id'], dtype='object')"
      ]
     },
     "execution_count": 154,
     "metadata": {},
     "output_type": "execute_result"
    }
   ],
   "source": [
    "merge1.columns"
   ]
  },
  {
   "cell_type": "code",
   "execution_count": 191,
   "id": "3d4c07a1-8b83-4385-97f7-8ee68a3c32da",
   "metadata": {},
   "outputs": [
    {
     "data": {
      "text/html": [
       "<div>\n",
       "<style scoped>\n",
       "    .dataframe tbody tr th:only-of-type {\n",
       "        vertical-align: middle;\n",
       "    }\n",
       "\n",
       "    .dataframe tbody tr th {\n",
       "        vertical-align: top;\n",
       "    }\n",
       "\n",
       "    .dataframe thead th {\n",
       "        text-align: right;\n",
       "    }\n",
       "</style>\n",
       "<table border=\"1\" class=\"dataframe\">\n",
       "  <thead>\n",
       "    <tr style=\"text-align: right;\">\n",
       "      <th></th>\n",
       "      <th>movie_id</th>\n",
       "      <th>movie</th>\n",
       "      <th>genero</th>\n",
       "      <th>ranking</th>\n",
       "      <th>user_id</th>\n",
       "      <th>genero_mean</th>\n",
       "    </tr>\n",
       "  </thead>\n",
       "  <tbody>\n",
       "    <tr>\n",
       "      <th>0</th>\n",
       "      <td>1</td>\n",
       "      <td>Toy Story</td>\n",
       "      <td>accion</td>\n",
       "      <td>9</td>\n",
       "      <td>5</td>\n",
       "      <td>accion</td>\n",
       "    </tr>\n",
       "    <tr>\n",
       "      <th>1</th>\n",
       "      <td>2</td>\n",
       "      <td>Star Wars</td>\n",
       "      <td>terror</td>\n",
       "      <td>8</td>\n",
       "      <td>232323</td>\n",
       "      <td>suspenso</td>\n",
       "    </tr>\n",
       "    <tr>\n",
       "      <th>2</th>\n",
       "      <td>3</td>\n",
       "      <td>Madagascar</td>\n",
       "      <td>comedia</td>\n",
       "      <td>9</td>\n",
       "      <td>4444</td>\n",
       "      <td>terror</td>\n",
       "    </tr>\n",
       "    <tr>\n",
       "      <th>3</th>\n",
       "      <td>4</td>\n",
       "      <td>Depredador</td>\n",
       "      <td>animacion</td>\n",
       "      <td>5</td>\n",
       "      <td>43222</td>\n",
       "      <td>animacion</td>\n",
       "    </tr>\n",
       "    <tr>\n",
       "      <th>4</th>\n",
       "      <td>5</td>\n",
       "      <td>NaN</td>\n",
       "      <td>NaN</td>\n",
       "      <td>4</td>\n",
       "      <td>555</td>\n",
       "      <td>accion</td>\n",
       "    </tr>\n",
       "  </tbody>\n",
       "</table>\n",
       "</div>"
      ],
      "text/plain": [
       "   movie_id       movie     genero  ranking user_id genero_mean\n",
       "0         1   Toy Story     accion        9       5      accion\n",
       "1         2   Star Wars     terror        8  232323    suspenso\n",
       "2         3  Madagascar    comedia        9    4444      terror\n",
       "3         4  Depredador  animacion        5   43222   animacion\n",
       "4         5         NaN        NaN        4     555      accion"
      ]
     },
     "execution_count": 191,
     "metadata": {},
     "output_type": "execute_result"
    }
   ],
   "source": [
    "mergeo = pd.merge(merge,merge1, on = \"movie_id\",suffixes = (\"\", \"_mean\"), how='outer')\n",
    "mergeo"
   ]
  },
  {
   "cell_type": "code",
   "execution_count": 178,
   "id": "4de1316a-e730-4c5d-90f9-ca71fc1b85a1",
   "metadata": {},
   "outputs": [],
   "source": [
    "mergeo = pd.merge(merge,merge1, on = \"movie_id\")"
   ]
  },
  {
   "cell_type": "code",
   "execution_count": 179,
   "id": "161bd573-e214-4ecf-b6b2-b04c0132e57a",
   "metadata": {},
   "outputs": [
    {
     "data": {
      "text/html": [
       "<div>\n",
       "<style scoped>\n",
       "    .dataframe tbody tr th:only-of-type {\n",
       "        vertical-align: middle;\n",
       "    }\n",
       "\n",
       "    .dataframe tbody tr th {\n",
       "        vertical-align: top;\n",
       "    }\n",
       "\n",
       "    .dataframe thead th {\n",
       "        text-align: right;\n",
       "    }\n",
       "</style>\n",
       "<table border=\"1\" class=\"dataframe\">\n",
       "  <thead>\n",
       "    <tr style=\"text-align: right;\">\n",
       "      <th></th>\n",
       "      <th>movie_id</th>\n",
       "      <th>movie</th>\n",
       "      <th>genero_x</th>\n",
       "      <th>ranking</th>\n",
       "      <th>user_id</th>\n",
       "      <th>genero_y</th>\n",
       "    </tr>\n",
       "  </thead>\n",
       "  <tbody>\n",
       "    <tr>\n",
       "      <th>0</th>\n",
       "      <td>1</td>\n",
       "      <td>Toy Story</td>\n",
       "      <td>accion</td>\n",
       "      <td>9</td>\n",
       "      <td>5</td>\n",
       "      <td>accion</td>\n",
       "    </tr>\n",
       "    <tr>\n",
       "      <th>1</th>\n",
       "      <td>2</td>\n",
       "      <td>Star Wars</td>\n",
       "      <td>terror</td>\n",
       "      <td>8</td>\n",
       "      <td>232323</td>\n",
       "      <td>suspenso</td>\n",
       "    </tr>\n",
       "    <tr>\n",
       "      <th>2</th>\n",
       "      <td>3</td>\n",
       "      <td>Madagascar</td>\n",
       "      <td>comedia</td>\n",
       "      <td>9</td>\n",
       "      <td>4444</td>\n",
       "      <td>terror</td>\n",
       "    </tr>\n",
       "    <tr>\n",
       "      <th>3</th>\n",
       "      <td>4</td>\n",
       "      <td>Depredador</td>\n",
       "      <td>animacion</td>\n",
       "      <td>5</td>\n",
       "      <td>43222</td>\n",
       "      <td>animacion</td>\n",
       "    </tr>\n",
       "  </tbody>\n",
       "</table>\n",
       "</div>"
      ],
      "text/plain": [
       "   movie_id       movie   genero_x  ranking user_id   genero_y\n",
       "0         1   Toy Story     accion        9       5     accion\n",
       "1         2   Star Wars     terror        8  232323   suspenso\n",
       "2         3  Madagascar    comedia        9    4444     terror\n",
       "3         4  Depredador  animacion        5   43222  animacion"
      ]
     },
     "execution_count": 179,
     "metadata": {},
     "output_type": "execute_result"
    }
   ],
   "source": [
    "mergeo"
   ]
  },
  {
   "cell_type": "code",
   "execution_count": null,
   "id": "bcdfe3ca-c1c4-4070-8bbb-2622bae7a243",
   "metadata": {},
   "outputs": [],
   "source": []
  }
 ],
 "metadata": {
  "kernelspec": {
   "display_name": "Python 3",
   "language": "python",
   "name": "python3"
  },
  "language_info": {
   "codemirror_mode": {
    "name": "ipython",
    "version": 3
   },
   "file_extension": ".py",
   "mimetype": "text/x-python",
   "name": "python",
   "nbconvert_exporter": "python",
   "pygments_lexer": "ipython3",
   "version": "3.8.8"
  }
 },
 "nbformat": 4,
 "nbformat_minor": 5
}
