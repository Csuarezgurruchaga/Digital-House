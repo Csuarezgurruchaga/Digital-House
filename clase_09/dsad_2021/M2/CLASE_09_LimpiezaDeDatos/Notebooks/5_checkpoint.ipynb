{
 "cells": [
  {
   "cell_type": "code",
   "execution_count": 1,
   "metadata": {},
   "outputs": [
    {
     "name": "stdout",
     "output_type": "stream",
     "text": [
      "/Users/csuarezgurruchaga/Desktop/Digital-House/clase_09/dsad_2021/common\n",
      "default checking\n",
      "Running command `conda list`... ok\n",
      "jupyterlab=2.2.6 already installed\n",
      "pandas=1.1.5 already installed\n",
      "bokeh=2.2.3 already installed\n",
      "seaborn=0.11.0 already installed\n",
      "matplotlib=3.3.2 already installed\n",
      "ipywidgets=7.5.1 already installed\n",
      "pytest=6.2.1 already installed\n",
      "chardet=4.0.0 already installed\n",
      "psutil=5.7.2 already installed\n",
      "scipy=1.5.2 already installed\n",
      "statsmodels=0.12.1 already installed\n",
      "scikit-learn=0.23.2 already installed\n",
      "xlrd=2.0.1 already installed\n",
      "Running command `conda install --yes nltk=3.5.0`... ok\n",
      "Collecting package metadata (current_repodata.json): ...working... done\n",
      "Solving environment: ...working... done\n",
      "\n",
      "# All requested packages already installed.\n",
      "\n",
      "\n",
      "unidecode=1.1.1 already installed\n",
      "pydotplus=2.0.2 already installed\n",
      "pandas-datareader=0.9.0 already installed\n",
      "flask=1.1.2 already installed\n"
     ]
    }
   ],
   "source": [
    "# initial setup\n",
    "%run \"../../../common/0_notebooks_base_setup.py\"\n",
    "%matplotlib inline"
   ]
  },
  {
   "cell_type": "markdown",
   "metadata": {},
   "source": [
    "Los temas que vimos en esta parte son limpieza de datos, expresiones regulares, funciones lambda, apply .\n",
    "\n",
    "La idea de esta práctica es ejercitar los puntos que vamos a necesitar en la clase presencial.\n",
    "\n",
    "Usaremos el dataset de las obras del Met (The Metropolitan Museum of Art)\n",
    "\n",
    "https://github.com/metmuseum/openaccess/\n",
    "\n"
   ]
  },
  {
   "cell_type": "markdown",
   "metadata": {},
   "source": [
    "## Ejercicio 1\n",
    "Vamos a leer en la variable `data` los datos del archivo /M2/CLASE_05_Limpieza_de_datos/Data/MetObjects_sample.csv en un `DataFrame` de pandas con el método `read_csv` \n",
    "\n",
    "Veamos de qué tipos de datos son las columnas.\n"
   ]
  },
  {
   "cell_type": "code",
   "execution_count": 2,
   "metadata": {},
   "outputs": [],
   "source": [
    "import pandas as pd\n",
    "import numpy as np\n",
    "import os\n",
    "%matplotlib inline\n",
    "\n",
    "data = pd.read_csv(\"../Data/MetObjects_sample.csv\")\n"
   ]
  },
  {
   "cell_type": "markdown",
   "metadata": {},
   "source": [
    "## Ejercicio 2\n",
    "¿Qué campos tienen valores nulos? ¿Qué porcentaje de nulos tienen cada uno de ellos?"
   ]
  },
  {
   "cell_type": "code",
   "execution_count": 3,
   "metadata": {},
   "outputs": [
    {
     "name": "stdout",
     "output_type": "stream",
     "text": [
      "<class 'pandas.core.frame.DataFrame'>\n",
      "RangeIndex: 4743 entries, 0 to 4742\n",
      "Data columns (total 52 columns):\n",
      " #   Column                   Non-Null Count  Dtype  \n",
      "---  ------                   --------------  -----  \n",
      " 0   Unnamed: 0               4743 non-null   int64  \n",
      " 1   Object Number            4743 non-null   object \n",
      " 2   Is Highlight             4743 non-null   bool   \n",
      " 3   Is Public Domain         4743 non-null   bool   \n",
      " 4   Is Timeline Work         4743 non-null   bool   \n",
      " 5   Object ID                4743 non-null   int64  \n",
      " 6   Department               4743 non-null   object \n",
      " 7   AccessionYear            3743 non-null   object \n",
      " 8   Object Name              4655 non-null   object \n",
      " 9   Title                    3914 non-null   object \n",
      " 10  Culture                  2318 non-null   object \n",
      " 11  Period                   1319 non-null   object \n",
      " 12  Dynasty                  184 non-null    object \n",
      " 13  Reign                    71 non-null     object \n",
      " 14  Portfolio                144 non-null    object \n",
      " 15  Artist Role              2384 non-null   object \n",
      " 16  Artist Prefix            736 non-null    object \n",
      " 17  Artist Display Name      2398 non-null   object \n",
      " 18  Artist Display Bio       2112 non-null   object \n",
      " 19  Artist Suffix            79 non-null     object \n",
      " 20  Artist Alpha Sort        2398 non-null   object \n",
      " 21  Artist Nationality       1574 non-null   object \n",
      " 22  Artist Begin Date        2097 non-null   object \n",
      " 23  Artist End Date          2088 non-null   object \n",
      " 24  Artist Gender            992 non-null    object \n",
      " 25  Artist ULAN URL          1779 non-null   object \n",
      " 26  Artist Wikidata URL      1313 non-null   object \n",
      " 27  Object Date              3173 non-null   object \n",
      " 28  Object Begin Date        4743 non-null   int64  \n",
      " 29  Object End Date          4743 non-null   int64  \n",
      " 30  Medium                   4611 non-null   object \n",
      " 31  Dimensions               4235 non-null   object \n",
      " 32  Credit Line              4683 non-null   object \n",
      " 33  Geography Type           533 non-null    object \n",
      " 34  City                     262 non-null    object \n",
      " 35  State                    18 non-null     object \n",
      " 36  County                   69 non-null     object \n",
      " 37  Country                  662 non-null    object \n",
      " 38  Region                   207 non-null    object \n",
      " 39  Subregion                134 non-null    object \n",
      " 40  Locale                   80 non-null     object \n",
      " 41  Locus                    31 non-null     object \n",
      " 42  Excavation               73 non-null     object \n",
      " 43  River                    12 non-null     object \n",
      " 44  Classification           4293 non-null   object \n",
      " 45  Rights and Reproduction  128 non-null    object \n",
      " 46  Link Resource            4743 non-null   object \n",
      " 47  Object Wikidata URL      217 non-null    object \n",
      " 48  Metadata Date            0 non-null      float64\n",
      " 49  Repository               4743 non-null   object \n",
      " 50  Tags                     2256 non-null   object \n",
      " 51  Tags AAT URL             2256 non-null   object \n",
      "dtypes: bool(3), float64(1), int64(4), object(44)\n",
      "memory usage: 1.8+ MB\n"
     ]
    }
   ],
   "source": [
    "data.info()"
   ]
  },
  {
   "cell_type": "code",
   "execution_count": 4,
   "metadata": {},
   "outputs": [
    {
     "data": {
      "text/plain": [
       "Unnamed: 0                   0.000000\n",
       "Object Number                0.000000\n",
       "Is Highlight                 0.000000\n",
       "Is Public Domain             0.000000\n",
       "Is Timeline Work             0.000000\n",
       "Object ID                    0.000000\n",
       "Department                   0.000000\n",
       "AccessionYear               21.083702\n",
       "Object Name                  1.855366\n",
       "Title                       17.478389\n",
       "Culture                     51.127978\n",
       "Period                      72.190597\n",
       "Dynasty                     96.120599\n",
       "Reign                       98.503057\n",
       "Portfolio                   96.963947\n",
       "Artist Role                 49.736454\n",
       "Artist Prefix               84.482395\n",
       "Artist Display Name         49.441282\n",
       "Artist Display Bio          55.471221\n",
       "Artist Suffix               98.334388\n",
       "Artist Alpha Sort           49.441282\n",
       "Artist Nationality          66.814253\n",
       "Artist Begin Date           55.787476\n",
       "Artist End Date             55.977230\n",
       "Artist Gender               79.084967\n",
       "Artist ULAN URL             62.492094\n",
       "Artist Wikidata URL         72.317099\n",
       "Object Date                 33.101413\n",
       "Object Begin Date            0.000000\n",
       "Object End Date              0.000000\n",
       "Medium                       2.783049\n",
       "Dimensions                  10.710521\n",
       "Credit Line                  1.265022\n",
       "Geography Type              88.762387\n",
       "City                        94.476070\n",
       "State                       99.620493\n",
       "County                      98.545225\n",
       "Country                     86.042589\n",
       "Region                      95.635674\n",
       "Subregion                   97.174784\n",
       "Locale                      98.313304\n",
       "Locus                       99.346405\n",
       "Excavation                  98.460890\n",
       "River                       99.746996\n",
       "Classification               9.487666\n",
       "Rights and Reproduction     97.301286\n",
       "Link Resource                0.000000\n",
       "Object Wikidata URL         95.424837\n",
       "Metadata Date              100.000000\n",
       "Repository                   0.000000\n",
       "Tags                        52.435168\n",
       "Tags AAT URL                52.435168\n",
       "dtype: float64"
      ]
     },
     "execution_count": 4,
     "metadata": {},
     "output_type": "execute_result"
    }
   ],
   "source": [
    "nullproportion=(data.isnull().sum()/data.shape[0])*100\n",
    "nullproportion"
   ]
  },
  {
   "cell_type": "markdown",
   "metadata": {},
   "source": [
    "## Ejercicio 3\n",
    "\n",
    "Analicemos la columna Object Date\n",
    "\n",
    "¿Qué formato tienen los valores de este campo? ¿Qué patrones pueden identificar?\n",
    "\n",
    "Sugerencia: recuerden el método value_counts\n",
    "https://pandas.pydata.org/pandas-docs/stable/reference/api/pandas.Series.value_counts.html"
   ]
  },
  {
   "cell_type": "code",
   "execution_count": 5,
   "metadata": {},
   "outputs": [
    {
     "data": {
      "text/plain": [
       "19th century              130\n",
       "18th century               80\n",
       "17th century               65\n",
       "1912                       54\n",
       "1911                       50\n",
       "                         ... \n",
       "ca. 1352–1336 B.C.          1\n",
       "ca. 1786–1560 B.C.          1\n",
       "1917-1918                   1\n",
       "664–656 B.C. or longer      1\n",
       "ca. 1645                    1\n",
       "Name: Object Date, Length: 1378, dtype: int64"
      ]
     },
     "execution_count": 5,
     "metadata": {},
     "output_type": "execute_result"
    }
   ],
   "source": [
    "df=data.copy()\n",
    "(df[\"Object Date\"]).dtype\n",
    "# Los valores de este campo tienen formato objeto\n",
    "df[\"Object Date\"].value_counts()"
   ]
  },
  {
   "cell_type": "markdown",
   "metadata": {},
   "source": [
    "## Ejercicio 4\n",
    "\n",
    "Usando expresiones regulares, apply y funciones lambda, creemos un nuevo campo \"ObjectDateClean\" que sea de tipo numérico y tenga el valor del año corresponiente a cada registro extrayéndolo del campo ObjectDate.\n",
    "\n",
    "¿Qué características tienen los valores de los registros que no verificaron ningún patrón de los definidos?\n",
    "\n",
    "Ayuda: Identifiquemos los patrones y decidamos cómo extraer el año de los valores de los registros que verifican cada uno de esos patrones. Después, de a un patrón, usemos la estrategia que definimos antes para extraer el valor del año de los registros que lo verifican."
   ]
  },
  {
   "cell_type": "code",
   "execution_count": 6,
   "metadata": {},
   "outputs": [],
   "source": [
    "import re \n",
    "import numpy as np "
   ]
  },
  {
   "cell_type": "code",
   "execution_count": 7,
   "metadata": {},
   "outputs": [],
   "source": [
    "patron1_anios = re.compile(r\"(\\d)?\\d\\d\\d$\")\n",
    "\n",
    "#Yo ahora quiero encontrar, que filas coinciden con mi patron1\n",
    "\n",
    "filas_patron1 = df['Object Date'].apply(lambda x: x if x is np.NaN else re.compile(r\"(\\d)?\\d\\d\\d$\").search(x))\n",
    "filas_patron1_notnull = filas_patron1.notnull()\n",
    "#Ahora que tengo la mascara de filas con valores q condicen mi patron, puedo crear una columna nueva donde \n",
    "#guarde todos los años filtrados con mi regex, que responden a este patron\n",
    "\n",
    "#Ahora con un apply, necesito convertir los objetos que me devuelve search, para objtener el año\n",
    "df.loc[filas_patron1_notnull,'ObjectDateClean'] = filas_patron1[filas_patron1_notnull].apply(lambda x: x.group(0))\n",
    "\n"
   ]
  },
  {
   "cell_type": "code",
   "execution_count": 8,
   "metadata": {},
   "outputs": [
    {
     "data": {
      "text/html": [
       "<div>\n",
       "<style scoped>\n",
       "    .dataframe tbody tr th:only-of-type {\n",
       "        vertical-align: middle;\n",
       "    }\n",
       "\n",
       "    .dataframe tbody tr th {\n",
       "        vertical-align: top;\n",
       "    }\n",
       "\n",
       "    .dataframe thead th {\n",
       "        text-align: right;\n",
       "    }\n",
       "</style>\n",
       "<table border=\"1\" class=\"dataframe\">\n",
       "  <thead>\n",
       "    <tr style=\"text-align: right;\">\n",
       "      <th></th>\n",
       "      <th>Object Date</th>\n",
       "      <th>ObjectDateClean</th>\n",
       "    </tr>\n",
       "  </thead>\n",
       "  <tbody>\n",
       "    <tr>\n",
       "      <th>4506</th>\n",
       "      <td>1625</td>\n",
       "      <td>1625</td>\n",
       "    </tr>\n",
       "    <tr>\n",
       "      <th>907</th>\n",
       "      <td>ca. 1740</td>\n",
       "      <td>1740</td>\n",
       "    </tr>\n",
       "    <tr>\n",
       "      <th>4233</th>\n",
       "      <td>1961</td>\n",
       "      <td>1961</td>\n",
       "    </tr>\n",
       "    <tr>\n",
       "      <th>3878</th>\n",
       "      <td>1890</td>\n",
       "      <td>1890</td>\n",
       "    </tr>\n",
       "    <tr>\n",
       "      <th>4723</th>\n",
       "      <td>ca. 1550</td>\n",
       "      <td>1550</td>\n",
       "    </tr>\n",
       "    <tr>\n",
       "      <th>2536</th>\n",
       "      <td>2002</td>\n",
       "      <td>2002</td>\n",
       "    </tr>\n",
       "    <tr>\n",
       "      <th>947</th>\n",
       "      <td>1916-1917</td>\n",
       "      <td>1917</td>\n",
       "    </tr>\n",
       "    <tr>\n",
       "      <th>3020</th>\n",
       "      <td>1606</td>\n",
       "      <td>1606</td>\n",
       "    </tr>\n",
       "    <tr>\n",
       "      <th>135</th>\n",
       "      <td>1912</td>\n",
       "      <td>1912</td>\n",
       "    </tr>\n",
       "    <tr>\n",
       "      <th>2758</th>\n",
       "      <td>ca. 1831</td>\n",
       "      <td>1831</td>\n",
       "    </tr>\n",
       "  </tbody>\n",
       "</table>\n",
       "</div>"
      ],
      "text/plain": [
       "     Object Date ObjectDateClean\n",
       "4506        1625            1625\n",
       "907     ca. 1740            1740\n",
       "4233        1961            1961\n",
       "3878        1890            1890\n",
       "4723    ca. 1550            1550\n",
       "2536        2002            2002\n",
       "947    1916-1917            1917\n",
       "3020        1606            1606\n",
       "135         1912            1912\n",
       "2758    ca. 1831            1831"
      ]
     },
     "execution_count": 8,
     "metadata": {},
     "output_type": "execute_result"
    }
   ],
   "source": [
    "df.loc[filas_patron1_notnull, [\"Object Date\",\"ObjectDateClean\"]].sample(10)"
   ]
  },
  {
   "cell_type": "markdown",
   "metadata": {},
   "source": [
    "Ahora quiero tomar tmb los años que vienen en formato periodo"
   ]
  },
  {
   "cell_type": "code",
   "execution_count": 9,
   "metadata": {},
   "outputs": [],
   "source": [
    "patron2_anios = re.compile(r'(?P<Periodos>\\d\\d\\d\\d)\\-(\\d)+')"
   ]
  },
  {
   "cell_type": "code",
   "execution_count": 10,
   "metadata": {},
   "outputs": [],
   "source": [
    "filas_patron2 = df['Object Date'].apply(lambda x: x if x==np.NaN else re.compile(r'(?P<Periodos>\\d\\d\\d\\d)\\-(\\d)+').search(str(x)))\n",
    "\n",
    "#Ahora creo mi mascara booleana de donde tengo este patron con los años, le aplico el search por regex y lo filtro\n",
    "\n",
    "df.loc[filas_patron2.notnull(),'ObjectDateClean']=filas_patron2[filas_patron2.notnull()].apply(lambda x: x.group('Periodos')) "
   ]
  },
  {
   "cell_type": "code",
   "execution_count": 11,
   "metadata": {},
   "outputs": [
    {
     "data": {
      "text/html": [
       "<div>\n",
       "<style scoped>\n",
       "    .dataframe tbody tr th:only-of-type {\n",
       "        vertical-align: middle;\n",
       "    }\n",
       "\n",
       "    .dataframe tbody tr th {\n",
       "        vertical-align: top;\n",
       "    }\n",
       "\n",
       "    .dataframe thead th {\n",
       "        text-align: right;\n",
       "    }\n",
       "</style>\n",
       "<table border=\"1\" class=\"dataframe\">\n",
       "  <thead>\n",
       "    <tr style=\"text-align: right;\">\n",
       "      <th></th>\n",
       "      <th>ObjectDateClean</th>\n",
       "      <th>Object Date</th>\n",
       "    </tr>\n",
       "  </thead>\n",
       "  <tbody>\n",
       "    <tr>\n",
       "      <th>133</th>\n",
       "      <td>1890</td>\n",
       "      <td>1890-1910</td>\n",
       "    </tr>\n",
       "    <tr>\n",
       "      <th>142</th>\n",
       "      <td>1850</td>\n",
       "      <td>ca. 1850-70</td>\n",
       "    </tr>\n",
       "    <tr>\n",
       "      <th>163</th>\n",
       "      <td>1916</td>\n",
       "      <td>1916-1917</td>\n",
       "    </tr>\n",
       "    <tr>\n",
       "      <th>253</th>\n",
       "      <td>1917</td>\n",
       "      <td>1917-1918</td>\n",
       "    </tr>\n",
       "    <tr>\n",
       "      <th>275</th>\n",
       "      <td>1916</td>\n",
       "      <td>1916-1917</td>\n",
       "    </tr>\n",
       "    <tr>\n",
       "      <th>367</th>\n",
       "      <td>1916</td>\n",
       "      <td>1916-1917</td>\n",
       "    </tr>\n",
       "    <tr>\n",
       "      <th>495</th>\n",
       "      <td>1916</td>\n",
       "      <td>1916-1917</td>\n",
       "    </tr>\n",
       "    <tr>\n",
       "      <th>551</th>\n",
       "      <td>1916</td>\n",
       "      <td>1916-1917</td>\n",
       "    </tr>\n",
       "    <tr>\n",
       "      <th>555</th>\n",
       "      <td>1916</td>\n",
       "      <td>1916-1917</td>\n",
       "    </tr>\n",
       "    <tr>\n",
       "      <th>846</th>\n",
       "      <td>1916</td>\n",
       "      <td>1916-1917</td>\n",
       "    </tr>\n",
       "    <tr>\n",
       "      <th>937</th>\n",
       "      <td>1916</td>\n",
       "      <td>1916-1917</td>\n",
       "    </tr>\n",
       "    <tr>\n",
       "      <th>947</th>\n",
       "      <td>1916</td>\n",
       "      <td>1916-1917</td>\n",
       "    </tr>\n",
       "    <tr>\n",
       "      <th>958</th>\n",
       "      <td>1850</td>\n",
       "      <td>ca. 1850-1900</td>\n",
       "    </tr>\n",
       "    <tr>\n",
       "      <th>3092</th>\n",
       "      <td>1933</td>\n",
       "      <td>1933-39</td>\n",
       "    </tr>\n",
       "    <tr>\n",
       "      <th>3403</th>\n",
       "      <td>1548</td>\n",
       "      <td>1548-49</td>\n",
       "    </tr>\n",
       "    <tr>\n",
       "      <th>4218</th>\n",
       "      <td>1850</td>\n",
       "      <td>ca. 1850-70</td>\n",
       "    </tr>\n",
       "  </tbody>\n",
       "</table>\n",
       "</div>"
      ],
      "text/plain": [
       "     ObjectDateClean    Object Date\n",
       "133             1890      1890-1910\n",
       "142             1850    ca. 1850-70\n",
       "163             1916      1916-1917\n",
       "253             1917      1917-1918\n",
       "275             1916      1916-1917\n",
       "367             1916      1916-1917\n",
       "495             1916      1916-1917\n",
       "551             1916      1916-1917\n",
       "555             1916      1916-1917\n",
       "846             1916      1916-1917\n",
       "937             1916      1916-1917\n",
       "947             1916      1916-1917\n",
       "958             1850  ca. 1850-1900\n",
       "3092            1933        1933-39\n",
       "3403            1548        1548-49\n",
       "4218            1850    ca. 1850-70"
      ]
     },
     "execution_count": 11,
     "metadata": {},
     "output_type": "execute_result"
    }
   ],
   "source": [
    "df.loc[filas_patron2.notnull(),['ObjectDateClean','Object Date']]"
   ]
  },
  {
   "cell_type": "markdown",
   "metadata": {},
   "source": [
    "ahora voy a operar con los centurys, mismo procedimiento"
   ]
  },
  {
   "cell_type": "code",
   "execution_count": 46,
   "metadata": {},
   "outputs": [],
   "source": [
    "patron3 = \\\n",
    "df['Object Date']\\\n",
    ".apply(lambda x: x if x==np.NaN else re.compile((\"(?P<century>(\\d)?\\d)((\\w\\w) (C|c)entury)\")).search(str(x)))\n",
    "\n",
    "#Ahora voy a crear mi mascara booleana de los matches\n",
    "\n",
    "mascara_booleana=patron3.notnull()"
   ]
  },
  {
   "cell_type": "code",
   "execution_count": 47,
   "metadata": {},
   "outputs": [],
   "source": [
    "df.loc[mascara_booleana,'ObjectDateClean'] = \\\n",
    "patron3[mascara_booleana].apply(lambda x: x.group('century'))\n",
    "#Ahora convierto el siglo a un periodo de año\n",
    "\n",
    "df.loc[mascara_booleana,'ObjectDateClean'] = (df.loc[mascara_booleana,'ObjectDateClean'].astype(int)-1)*100"
   ]
  },
  {
   "cell_type": "code",
   "execution_count": 48,
   "metadata": {},
   "outputs": [
    {
     "data": {
      "text/html": [
       "<div>\n",
       "<style scoped>\n",
       "    .dataframe tbody tr th:only-of-type {\n",
       "        vertical-align: middle;\n",
       "    }\n",
       "\n",
       "    .dataframe tbody tr th {\n",
       "        vertical-align: top;\n",
       "    }\n",
       "\n",
       "    .dataframe thead th {\n",
       "        text-align: right;\n",
       "    }\n",
       "</style>\n",
       "<table border=\"1\" class=\"dataframe\">\n",
       "  <thead>\n",
       "    <tr style=\"text-align: right;\">\n",
       "      <th></th>\n",
       "      <th>ObjectDateClean</th>\n",
       "      <th>Object Date</th>\n",
       "    </tr>\n",
       "  </thead>\n",
       "  <tbody>\n",
       "    <tr>\n",
       "      <th>0</th>\n",
       "      <td>1900</td>\n",
       "      <td>20th century</td>\n",
       "    </tr>\n",
       "    <tr>\n",
       "      <th>9</th>\n",
       "      <td>1200</td>\n",
       "      <td>11th–13th century</td>\n",
       "    </tr>\n",
       "    <tr>\n",
       "      <th>15</th>\n",
       "      <td>100</td>\n",
       "      <td>1st–2nd century A.D.</td>\n",
       "    </tr>\n",
       "    <tr>\n",
       "      <th>26</th>\n",
       "      <td>1800</td>\n",
       "      <td>19th century</td>\n",
       "    </tr>\n",
       "    <tr>\n",
       "      <th>27</th>\n",
       "      <td>1600</td>\n",
       "      <td>17th century</td>\n",
       "    </tr>\n",
       "    <tr>\n",
       "      <th>...</th>\n",
       "      <td>...</td>\n",
       "      <td>...</td>\n",
       "    </tr>\n",
       "    <tr>\n",
       "      <th>4728</th>\n",
       "      <td>1700</td>\n",
       "      <td>first half 18th century</td>\n",
       "    </tr>\n",
       "    <tr>\n",
       "      <th>4730</th>\n",
       "      <td>1200</td>\n",
       "      <td>early 13th century</td>\n",
       "    </tr>\n",
       "    <tr>\n",
       "      <th>4731</th>\n",
       "      <td>1900</td>\n",
       "      <td>late 19th–early 20th century</td>\n",
       "    </tr>\n",
       "    <tr>\n",
       "      <th>4737</th>\n",
       "      <td>200</td>\n",
       "      <td>4th–3rd century B.C.</td>\n",
       "    </tr>\n",
       "    <tr>\n",
       "      <th>4740</th>\n",
       "      <td>200</td>\n",
       "      <td>3rd century B.C.–A.D. 4th century</td>\n",
       "    </tr>\n",
       "  </tbody>\n",
       "</table>\n",
       "<p>877 rows × 2 columns</p>\n",
       "</div>"
      ],
      "text/plain": [
       "     ObjectDateClean                        Object Date\n",
       "0               1900                       20th century\n",
       "9               1200                  11th–13th century\n",
       "15               100               1st–2nd century A.D.\n",
       "26              1800                       19th century\n",
       "27              1600                       17th century\n",
       "...              ...                                ...\n",
       "4728            1700            first half 18th century\n",
       "4730            1200                 early 13th century\n",
       "4731            1900       late 19th–early 20th century\n",
       "4737             200               4th–3rd century B.C.\n",
       "4740             200  3rd century B.C.–A.D. 4th century\n",
       "\n",
       "[877 rows x 2 columns]"
      ]
     },
     "execution_count": 48,
     "metadata": {},
     "output_type": "execute_result"
    }
   ],
   "source": [
    "df.loc[mascara_booleana,['ObjectDateClean','Object Date']]"
   ]
  },
  {
   "cell_type": "code",
   "execution_count": 49,
   "metadata": {},
   "outputs": [
    {
     "data": {
      "text/plain": [
       "18.11090027408813"
      ]
     },
     "execution_count": 49,
     "metadata": {},
     "output_type": "execute_result"
    }
   ],
   "source": [
    "(df['ObjectDateClean'].isnull().sum()/df.shape[0])*100"
   ]
  },
  {
   "cell_type": "code",
   "execution_count": 50,
   "metadata": {},
   "outputs": [],
   "source": [
    "mascara_nulos=df['Object Date'].isnull()\n",
    "\n",
    "df.loc[mascara_nulos,'ObjectDateClean']=0"
   ]
  },
  {
   "cell_type": "code",
   "execution_count": 51,
   "metadata": {},
   "outputs": [],
   "source": [
    "nulos_ObjectClean=df['ObjectDateClean'].isnull()"
   ]
  },
  {
   "cell_type": "code",
   "execution_count": 52,
   "metadata": {},
   "outputs": [
    {
     "data": {
      "text/html": [
       "<div>\n",
       "<style scoped>\n",
       "    .dataframe tbody tr th:only-of-type {\n",
       "        vertical-align: middle;\n",
       "    }\n",
       "\n",
       "    .dataframe tbody tr th {\n",
       "        vertical-align: top;\n",
       "    }\n",
       "\n",
       "    .dataframe thead th {\n",
       "        text-align: right;\n",
       "    }\n",
       "</style>\n",
       "<table border=\"1\" class=\"dataframe\">\n",
       "  <thead>\n",
       "    <tr style=\"text-align: right;\">\n",
       "      <th></th>\n",
       "      <th>Object Date</th>\n",
       "      <th>ObjectDateClean</th>\n",
       "    </tr>\n",
       "  </thead>\n",
       "  <tbody>\n",
       "    <tr>\n",
       "      <th>8</th>\n",
       "      <td>1815–30</td>\n",
       "      <td>NaN</td>\n",
       "    </tr>\n",
       "    <tr>\n",
       "      <th>10</th>\n",
       "      <td>ca. 1808–12</td>\n",
       "      <td>NaN</td>\n",
       "    </tr>\n",
       "    <tr>\n",
       "      <th>11</th>\n",
       "      <td>ca. 1295–1070 B.C.</td>\n",
       "      <td>NaN</td>\n",
       "    </tr>\n",
       "    <tr>\n",
       "      <th>12</th>\n",
       "      <td>1815–30</td>\n",
       "      <td>NaN</td>\n",
       "    </tr>\n",
       "    <tr>\n",
       "      <th>20</th>\n",
       "      <td>664–30 B.C.</td>\n",
       "      <td>NaN</td>\n",
       "    </tr>\n",
       "    <tr>\n",
       "      <th>...</th>\n",
       "      <td>...</td>\n",
       "      <td>...</td>\n",
       "    </tr>\n",
       "    <tr>\n",
       "      <th>4726</th>\n",
       "      <td>late 6th/early 5th centuries B.C.</td>\n",
       "      <td>NaN</td>\n",
       "    </tr>\n",
       "    <tr>\n",
       "      <th>4732</th>\n",
       "      <td>1905–6</td>\n",
       "      <td>NaN</td>\n",
       "    </tr>\n",
       "    <tr>\n",
       "      <th>4735</th>\n",
       "      <td>ca. 2124–1504 B.C.</td>\n",
       "      <td>NaN</td>\n",
       "    </tr>\n",
       "    <tr>\n",
       "      <th>4736</th>\n",
       "      <td>1825–35</td>\n",
       "      <td>NaN</td>\n",
       "    </tr>\n",
       "    <tr>\n",
       "      <th>4738</th>\n",
       "      <td>1782, 2nd edition</td>\n",
       "      <td>NaN</td>\n",
       "    </tr>\n",
       "  </tbody>\n",
       "</table>\n",
       "<p>859 rows × 2 columns</p>\n",
       "</div>"
      ],
      "text/plain": [
       "                            Object Date ObjectDateClean\n",
       "8                               1815–30             NaN\n",
       "10                          ca. 1808–12             NaN\n",
       "11                   ca. 1295–1070 B.C.             NaN\n",
       "12                              1815–30             NaN\n",
       "20                          664–30 B.C.             NaN\n",
       "...                                 ...             ...\n",
       "4726  late 6th/early 5th centuries B.C.             NaN\n",
       "4732                             1905–6             NaN\n",
       "4735                 ca. 2124–1504 B.C.             NaN\n",
       "4736                            1825–35             NaN\n",
       "4738                  1782, 2nd edition             NaN\n",
       "\n",
       "[859 rows x 2 columns]"
      ]
     },
     "execution_count": 52,
     "metadata": {},
     "output_type": "execute_result"
    }
   ],
   "source": [
    "df.loc[nulos_ObjectClean, [\"Object Date\", \"ObjectDateClean\"]]"
   ]
  },
  {
   "cell_type": "markdown",
   "metadata": {},
   "source": [
    "Posiblemente veamos que nos faltó considerar:\n",
    "* los valores terminados en BC o B.C., y marcar esos años como negativos \n",
    "* considerar los períodos que tienen siglos, en lugar de años\n",
    "* borrar las C. que aparecen de sufijo\n",
    "* Considerar pallabras mals escritas como \"cenutry\"\n",
    "\n",
    "Si tienen ganas de seguir practicando pueden resolver algunos de éstos.\n"
   ]
  }
 ],
 "metadata": {
  "kernelspec": {
   "display_name": "Python 3",
   "language": "python",
   "name": "python3"
  },
  "language_info": {
   "codemirror_mode": {
    "name": "ipython",
    "version": 3
   },
   "file_extension": ".py",
   "mimetype": "text/x-python",
   "name": "python",
   "nbconvert_exporter": "python",
   "pygments_lexer": "ipython3",
   "version": "3.8.11"
  }
 },
 "nbformat": 4,
 "nbformat_minor": 4
}
