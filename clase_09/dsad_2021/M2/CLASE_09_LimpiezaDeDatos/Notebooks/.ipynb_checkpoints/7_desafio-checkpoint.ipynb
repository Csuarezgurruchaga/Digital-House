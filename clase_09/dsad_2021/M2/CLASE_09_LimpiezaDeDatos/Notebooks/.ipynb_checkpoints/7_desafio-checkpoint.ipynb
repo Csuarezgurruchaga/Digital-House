{
 "cells": [
  {
   "cell_type": "code",
   "execution_count": 1,
   "metadata": {},
   "outputs": [
    {
     "name": "stdout",
     "output_type": "stream",
     "text": [
      "/Users/csuarezgurruchaga/Desktop/Digital-House/clase_09/dsad_2021/common\n",
      "default checking\n",
      "Running command `conda list`... ok\n",
      "jupyterlab=2.2.6 already installed\n",
      "pandas=1.1.5 already installed\n",
      "bokeh=2.2.3 already installed\n",
      "seaborn=0.11.0 already installed\n",
      "matplotlib=3.3.2 already installed\n",
      "ipywidgets=7.5.1 already installed\n",
      "pytest=6.2.1 already installed\n",
      "chardet=4.0.0 already installed\n",
      "psutil=5.7.2 already installed\n",
      "scipy=1.5.2 already installed\n",
      "statsmodels=0.12.1 already installed\n",
      "scikit-learn=0.23.2 already installed\n",
      "xlrd=2.0.1 already installed\n",
      "Running command `conda install --yes nltk=3.5.0`... ok\n",
      "Collecting package metadata (current_repodata.json): ...working... done\n",
      "Solving environment: ...working... done\n",
      "\n",
      "# All requested packages already installed.\n",
      "\n",
      "\n",
      "unidecode=1.1.1 already installed\n",
      "pydotplus=2.0.2 already installed\n",
      "pandas-datareader=0.9.0 already installed\n",
      "flask=1.1.2 already installed\n"
     ]
    }
   ],
   "source": [
    "# initial setup\n",
    "%run \"../../../common/0_notebooks_base_setup.py\"\n"
   ]
  },
  {
   "cell_type": "markdown",
   "metadata": {},
   "source": [
    "---\n",
    "\n",
    "<img src='../../../common/logo_DH.png' align='left' width=35%/>\n"
   ]
  },
  {
   "cell_type": "markdown",
   "metadata": {},
   "source": [
    "# Limpieza de datos. Apply. Expresiones regulares."
   ]
  },
  {
   "cell_type": "markdown",
   "metadata": {},
   "source": [
    "La limpieza es un paso necesario en todo proyecto de datos. \n",
    "\n",
    "Podemos resumir el proceso de limpieza de datos en las siguientes cinco tareas:\n",
    "\n",
    "**1. Resolver problemas de formato y asignar tipos de datos correctos.**\n",
    "\n",
    "Por ejemplo, cuando al pasar de CSV a Pandas una fecha no se importa correctamente como puede ser el caso de un campo fecha donde se importa 20090609231247 en lugar de 2009-06-09 23:12:47.\n",
    "\n",
    "El formato en que se encuentran los datos determina qué operaciones pueden realizarse sobre ellos.\n",
    "\n",
    "**2. Estandarizar categorías.**\n",
    "\n",
    "Cuando los datos se recolectaron con un sisstema que no tiene valores tipificadaos, valores que representan la misma categoría pueden estar expresados de forma distinta. Por ejemplo: Arg, AR, Argentina\n",
    "\n",
    "**3. Corregir valores erróneos.**\n",
    "\n",
    "Por ejemplo: un valor numérico o inválido para describir el género; o una edad representada por un número negativo o mucho mayor que 100.\n",
    "\n",
    "**4. Completar datos faltantes.**\n",
    "\n",
    "Los datasets del mundo real suelen venir con datos faltantes que responden a información que se perdió o nunca se recolectó. Existen varias técnicas para completar datos faltantes. Al proceso de completar datos faltantes se lo llama \"imputación\".\n",
    "\n",
    "**5. Organizar el dataset.**\n",
    "\n",
    "Es importante estructurar las filas y columnas de la forma más conveniente. Para hacerlo se pueden aplicar las reglas del \"tidy data\".\n"
   ]
  },
  {
   "cell_type": "markdown",
   "metadata": {},
   "source": [
    "\n",
    "## Dataset\n",
    "\n",
    "El Met (Metropolitan Museum of Art) provee datasets de información de más de 420.000 piezas de arte en su colección.\n",
    "\n",
    "https://github.com/metmuseum/openaccess/\n",
    "\n",
    "Los problemas que presentan este dataset incluyen:\n",
    "* Valores faltantes\n",
    "* Posibles duplicaciones\n",
    "* Campos con mezcla de campos de tipo numérico con cadenas de caracteres\n",
    "\n",
    "En esta clase vamos a detectar algunos de los qué campos presentan problemas, y solucionarlos usando las herramientas que adquirimos en las prácticas guiadas.\n"
   ]
  },
  {
   "cell_type": "markdown",
   "metadata": {},
   "source": [
    "## Ejercicio 1:\n",
    "\n",
    "Vamos a leer en la variable `data` los datos del archivo /M2/CLASE_05_Limpieza_de_datos/Data/MetObjects_sample.csv en un `DataFrame` de pandas con el método `read_csv` \n",
    "\n",
    "Veamos cuántas filas y columnas tiene el DataFrame data"
   ]
  },
  {
   "cell_type": "code",
   "execution_count": 2,
   "metadata": {},
   "outputs": [],
   "source": [
    "import pandas as pd\n",
    "import numpy as np\n",
    "import re \n",
    "%matplotlib inline"
   ]
  },
  {
   "cell_type": "code",
   "execution_count": 3,
   "metadata": {},
   "outputs": [],
   "source": [
    "data = pd.read_csv('../Data/MetObjects_sample.csv', sep=',')"
   ]
  },
  {
   "cell_type": "code",
   "execution_count": 4,
   "metadata": {},
   "outputs": [
    {
     "name": "stdout",
     "output_type": "stream",
     "text": [
      "El dataframe Data tiene 4743 filas y 52 columnas \n"
     ]
    }
   ],
   "source": [
    "data.shape\n",
    "print('El dataframe Data tiene {} filas y {} columnas '.format(data.shape[0],data.shape[1]))"
   ]
  },
  {
   "cell_type": "code",
   "execution_count": 5,
   "metadata": {},
   "outputs": [
    {
     "name": "stdout",
     "output_type": "stream",
     "text": [
      "<class 'pandas.core.frame.DataFrame'>\n",
      "RangeIndex: 4743 entries, 0 to 4742\n",
      "Data columns (total 52 columns):\n",
      " #   Column                   Non-Null Count  Dtype  \n",
      "---  ------                   --------------  -----  \n",
      " 0   Unnamed: 0               4743 non-null   int64  \n",
      " 1   Object Number            4743 non-null   object \n",
      " 2   Is Highlight             4743 non-null   bool   \n",
      " 3   Is Public Domain         4743 non-null   bool   \n",
      " 4   Is Timeline Work         4743 non-null   bool   \n",
      " 5   Object ID                4743 non-null   int64  \n",
      " 6   Department               4743 non-null   object \n",
      " 7   AccessionYear            3743 non-null   object \n",
      " 8   Object Name              4655 non-null   object \n",
      " 9   Title                    3914 non-null   object \n",
      " 10  Culture                  2318 non-null   object \n",
      " 11  Period                   1319 non-null   object \n",
      " 12  Dynasty                  184 non-null    object \n",
      " 13  Reign                    71 non-null     object \n",
      " 14  Portfolio                144 non-null    object \n",
      " 15  Artist Role              2384 non-null   object \n",
      " 16  Artist Prefix            736 non-null    object \n",
      " 17  Artist Display Name      2398 non-null   object \n",
      " 18  Artist Display Bio       2112 non-null   object \n",
      " 19  Artist Suffix            79 non-null     object \n",
      " 20  Artist Alpha Sort        2398 non-null   object \n",
      " 21  Artist Nationality       1574 non-null   object \n",
      " 22  Artist Begin Date        2097 non-null   object \n",
      " 23  Artist End Date          2088 non-null   object \n",
      " 24  Artist Gender            992 non-null    object \n",
      " 25  Artist ULAN URL          1779 non-null   object \n",
      " 26  Artist Wikidata URL      1313 non-null   object \n",
      " 27  Object Date              3173 non-null   object \n",
      " 28  Object Begin Date        4743 non-null   int64  \n",
      " 29  Object End Date          4743 non-null   int64  \n",
      " 30  Medium                   4611 non-null   object \n",
      " 31  Dimensions               4235 non-null   object \n",
      " 32  Credit Line              4683 non-null   object \n",
      " 33  Geography Type           533 non-null    object \n",
      " 34  City                     262 non-null    object \n",
      " 35  State                    18 non-null     object \n",
      " 36  County                   69 non-null     object \n",
      " 37  Country                  662 non-null    object \n",
      " 38  Region                   207 non-null    object \n",
      " 39  Subregion                134 non-null    object \n",
      " 40  Locale                   80 non-null     object \n",
      " 41  Locus                    31 non-null     object \n",
      " 42  Excavation               73 non-null     object \n",
      " 43  River                    12 non-null     object \n",
      " 44  Classification           4293 non-null   object \n",
      " 45  Rights and Reproduction  128 non-null    object \n",
      " 46  Link Resource            4743 non-null   object \n",
      " 47  Object Wikidata URL      217 non-null    object \n",
      " 48  Metadata Date            0 non-null      float64\n",
      " 49  Repository               4743 non-null   object \n",
      " 50  Tags                     2256 non-null   object \n",
      " 51  Tags AAT URL             2256 non-null   object \n",
      "dtypes: bool(3), float64(1), int64(4), object(44)\n",
      "memory usage: 1.8+ MB\n"
     ]
    }
   ],
   "source": [
    "data.info()"
   ]
  },
  {
   "cell_type": "markdown",
   "metadata": {},
   "source": [
    "## Ejercicio 2: Formato y tipos de datos\n",
    "\n",
    "Vamos a ver de qué tipo de datos es cada columna del DataFrame, y vamos a convertir o dar formato **a alguna de las columnas** que tienen tipo de datos incorrecto.\n",
    "\n",
    "### 2.a Detectar las columnas que tienen tipo de datos incorrecto"
   ]
  },
  {
   "cell_type": "code",
   "execution_count": 6,
   "metadata": {},
   "outputs": [
    {
     "name": "stdout",
     "output_type": "stream",
     "text": [
      "<class 'pandas.core.frame.DataFrame'>\n",
      "RangeIndex: 4743 entries, 0 to 4742\n",
      "Data columns (total 52 columns):\n",
      " #   Column                   Non-Null Count  Dtype  \n",
      "---  ------                   --------------  -----  \n",
      " 0   Unnamed: 0               4743 non-null   int64  \n",
      " 1   Object Number            4743 non-null   object \n",
      " 2   Is Highlight             4743 non-null   bool   \n",
      " 3   Is Public Domain         4743 non-null   bool   \n",
      " 4   Is Timeline Work         4743 non-null   bool   \n",
      " 5   Object ID                4743 non-null   int64  \n",
      " 6   Department               4743 non-null   object \n",
      " 7   AccessionYear            3743 non-null   object \n",
      " 8   Object Name              4655 non-null   object \n",
      " 9   Title                    3914 non-null   object \n",
      " 10  Culture                  2318 non-null   object \n",
      " 11  Period                   1319 non-null   object \n",
      " 12  Dynasty                  184 non-null    object \n",
      " 13  Reign                    71 non-null     object \n",
      " 14  Portfolio                144 non-null    object \n",
      " 15  Artist Role              2384 non-null   object \n",
      " 16  Artist Prefix            736 non-null    object \n",
      " 17  Artist Display Name      2398 non-null   object \n",
      " 18  Artist Display Bio       2112 non-null   object \n",
      " 19  Artist Suffix            79 non-null     object \n",
      " 20  Artist Alpha Sort        2398 non-null   object \n",
      " 21  Artist Nationality       1574 non-null   object \n",
      " 22  Artist Begin Date        2097 non-null   object \n",
      " 23  Artist End Date          2088 non-null   object \n",
      " 24  Artist Gender            992 non-null    object \n",
      " 25  Artist ULAN URL          1779 non-null   object \n",
      " 26  Artist Wikidata URL      1313 non-null   object \n",
      " 27  Object Date              3173 non-null   object \n",
      " 28  Object Begin Date        4743 non-null   int64  \n",
      " 29  Object End Date          4743 non-null   int64  \n",
      " 30  Medium                   4611 non-null   object \n",
      " 31  Dimensions               4235 non-null   object \n",
      " 32  Credit Line              4683 non-null   object \n",
      " 33  Geography Type           533 non-null    object \n",
      " 34  City                     262 non-null    object \n",
      " 35  State                    18 non-null     object \n",
      " 36  County                   69 non-null     object \n",
      " 37  Country                  662 non-null    object \n",
      " 38  Region                   207 non-null    object \n",
      " 39  Subregion                134 non-null    object \n",
      " 40  Locale                   80 non-null     object \n",
      " 41  Locus                    31 non-null     object \n",
      " 42  Excavation               73 non-null     object \n",
      " 43  River                    12 non-null     object \n",
      " 44  Classification           4293 non-null   object \n",
      " 45  Rights and Reproduction  128 non-null    object \n",
      " 46  Link Resource            4743 non-null   object \n",
      " 47  Object Wikidata URL      217 non-null    object \n",
      " 48  Metadata Date            0 non-null      float64\n",
      " 49  Repository               4743 non-null   object \n",
      " 50  Tags                     2256 non-null   object \n",
      " 51  Tags AAT URL             2256 non-null   object \n",
      "dtypes: bool(3), float64(1), int64(4), object(44)\n",
      "memory usage: 1.8+ MB\n"
     ]
    }
   ],
   "source": [
    "data.info()"
   ]
  },
  {
   "cell_type": "markdown",
   "metadata": {},
   "source": [
    "### 2.b AccessionYear\n",
    "\n",
    "Analizar la columna AccessionYear que fue leída como object, y debería ser int.\n",
    "\n",
    "¿Qué valores toma ese campo? ¿Cómo se distribuyen esos valores? ¿Hay valores nulos?\n",
    "\n",
    "Queremos extraer el dato año de los valores no numéricos, y crear una nueva columna en el DataFrame de tipo int que se llame AccessionYearClean y tenga estos valores.\n",
    "\n",
    "Para eso vamos a usar expresiones regulares, apply y lambda.\n",
    "\n",
    "Observación: si la columna tiene valores NaN no vamos a poder convertirla al tipo int. Una opción es reemplazar los valores NaN por algún entero antes de convertir (`fillna`). La otra opción es dejar la columna como tipo float (el tipo de NaN es float).\n"
   ]
  },
  {
   "cell_type": "code",
   "execution_count": 7,
   "metadata": {},
   "outputs": [
    {
     "data": {
      "text/plain": [
       "array([nan, '2005-02-15', '2020-03-23', '1986-12-29', '1992', '1991',\n",
       "       '1975', '1930', '1874', '1915', '1920', '1921', '1916', '1929',\n",
       "       '1907', '1989', '1962', '1917', '1895', '1950', '1896', '1924',\n",
       "       '1951', '1970', '1958', '1938', '2006', '1953', '1891', '1965',\n",
       "       '1966', '2009', '1911', '1947', '1925', '1955', '1914', '1928',\n",
       "       '2012', '1926', '2015', '1879', '1887', '1949', '1902', '1981',\n",
       "       '1979', '1899', '1918', '1906', '1912', '2001', '1985', '1976',\n",
       "       '1946', '1927', '1973', '1941', '1900', '2019', '2013', '1942',\n",
       "       '1968', '1967', '1988', '1986', '1933', '1913', '1909', '1977',\n",
       "       '1922', '1964', '2018', '1936', '1948', '1919', '1954', '1959',\n",
       "       '1931', '1943', '1908', '1945', '1932', '1982', '1939', '1881',\n",
       "       '1956', '2002', '1910', '2008', '1923', '1961', '1937', '2004',\n",
       "       '1971', '1905', '1893', '1898', '1994', '1960', '1957', '1880',\n",
       "       '1984', '2016', '1944', '1969', '1972', '1871', '1987', '2007',\n",
       "       '1980', '2000', '1990', '1892', '1995', '1974', '1978', '1940',\n",
       "       '1983', '1952', '2011', '1889', '1993', '2005', '1996', '1886',\n",
       "       '1963', '2003', '2017', '1997', '1901', '2014', '1883', '2010',\n",
       "       '1935', '1999', '1894', '1934', '1998', '1904', '1897', '1890',\n",
       "       '1873'], dtype=object)"
      ]
     },
     "execution_count": 7,
     "metadata": {},
     "output_type": "execute_result"
    }
   ],
   "source": [
    "data[\"AccessionYear\"].unique()"
   ]
  },
  {
   "cell_type": "code",
   "execution_count": 8,
   "metadata": {},
   "outputs": [
    {
     "name": "stdout",
     "output_type": "stream",
     "text": [
      "En total en la columna AccessionYear hay 1000 NaN Values\n"
     ]
    }
   ],
   "source": [
    "# hay valores nulos\n",
    "print(\"En total en la columna AccessionYear hay {} NaN Values\".format(data.AccessionYear.isnull().sum()))"
   ]
  },
  {
   "cell_type": "code",
   "execution_count": 9,
   "metadata": {},
   "outputs": [
    {
     "data": {
      "text/plain": [
       "1963          220\n",
       "1917          140\n",
       "1874          126\n",
       "1929           99\n",
       "2011           98\n",
       "             ... \n",
       "1986-12-29      1\n",
       "1871            1\n",
       "2005-02-15      1\n",
       "1873            1\n",
       "1892            1\n",
       "Name: AccessionYear, Length: 142, dtype: int64"
      ]
     },
     "execution_count": 9,
     "metadata": {},
     "output_type": "execute_result"
    }
   ],
   "source": [
    "#Se distribuyen de la siguiente manera\n",
    "data.AccessionYear.value_counts()"
   ]
  },
  {
   "cell_type": "code",
   "execution_count": 10,
   "metadata": {},
   "outputs": [],
   "source": [
    "patron = re.compile(\"\\d{4}\")\n",
    "patron_data = data['AccessionYear'].apply(lambda x: x if x is np.NaN else patron.search(str(x)))\n",
    "#Ahora voy a crear mi mascara booleana\n",
    "mascara = patron_data.notnull()\n",
    "\n",
    "data.loc[mascara, 'AccessionYearClean'] = patron_data[mascara].apply(lambda x: x.group(0))"
   ]
  },
  {
   "cell_type": "code",
   "execution_count": 11,
   "metadata": {},
   "outputs": [
    {
     "data": {
      "text/html": [
       "<div>\n",
       "<style scoped>\n",
       "    .dataframe tbody tr th:only-of-type {\n",
       "        vertical-align: middle;\n",
       "    }\n",
       "\n",
       "    .dataframe tbody tr th {\n",
       "        vertical-align: top;\n",
       "    }\n",
       "\n",
       "    .dataframe thead th {\n",
       "        text-align: right;\n",
       "    }\n",
       "</style>\n",
       "<table border=\"1\" class=\"dataframe\">\n",
       "  <thead>\n",
       "    <tr style=\"text-align: right;\">\n",
       "      <th></th>\n",
       "      <th>AccessionYear</th>\n",
       "      <th>AccessionYearClean</th>\n",
       "    </tr>\n",
       "  </thead>\n",
       "  <tbody>\n",
       "    <tr>\n",
       "      <th>1000</th>\n",
       "      <td>2005-02-15</td>\n",
       "      <td>2005</td>\n",
       "    </tr>\n",
       "    <tr>\n",
       "      <th>1001</th>\n",
       "      <td>2020-03-23</td>\n",
       "      <td>2020</td>\n",
       "    </tr>\n",
       "    <tr>\n",
       "      <th>1002</th>\n",
       "      <td>1986-12-29</td>\n",
       "      <td>1986</td>\n",
       "    </tr>\n",
       "    <tr>\n",
       "      <th>1003</th>\n",
       "      <td>1992</td>\n",
       "      <td>1992</td>\n",
       "    </tr>\n",
       "    <tr>\n",
       "      <th>1004</th>\n",
       "      <td>1991</td>\n",
       "      <td>1991</td>\n",
       "    </tr>\n",
       "    <tr>\n",
       "      <th>...</th>\n",
       "      <td>...</td>\n",
       "      <td>...</td>\n",
       "    </tr>\n",
       "    <tr>\n",
       "      <th>4738</th>\n",
       "      <td>1941</td>\n",
       "      <td>1941</td>\n",
       "    </tr>\n",
       "    <tr>\n",
       "      <th>4739</th>\n",
       "      <td>1979</td>\n",
       "      <td>1979</td>\n",
       "    </tr>\n",
       "    <tr>\n",
       "      <th>4740</th>\n",
       "      <td>1979</td>\n",
       "      <td>1979</td>\n",
       "    </tr>\n",
       "    <tr>\n",
       "      <th>4741</th>\n",
       "      <td>1953</td>\n",
       "      <td>1953</td>\n",
       "    </tr>\n",
       "    <tr>\n",
       "      <th>4742</th>\n",
       "      <td>1963</td>\n",
       "      <td>1963</td>\n",
       "    </tr>\n",
       "  </tbody>\n",
       "</table>\n",
       "<p>3743 rows × 2 columns</p>\n",
       "</div>"
      ],
      "text/plain": [
       "     AccessionYear AccessionYearClean\n",
       "1000    2005-02-15               2005\n",
       "1001    2020-03-23               2020\n",
       "1002    1986-12-29               1986\n",
       "1003          1992               1992\n",
       "1004          1991               1991\n",
       "...            ...                ...\n",
       "4738          1941               1941\n",
       "4739          1979               1979\n",
       "4740          1979               1979\n",
       "4741          1953               1953\n",
       "4742          1963               1963\n",
       "\n",
       "[3743 rows x 2 columns]"
      ]
     },
     "execution_count": 11,
     "metadata": {},
     "output_type": "execute_result"
    }
   ],
   "source": [
    "data.loc[mascara, ['AccessionYear','AccessionYearClean']]"
   ]
  },
  {
   "cell_type": "code",
   "execution_count": 12,
   "metadata": {},
   "outputs": [
    {
     "data": {
      "text/plain": [
       "1000    2005\n",
       "1001    2020\n",
       "1002    1986\n",
       "1003    1992\n",
       "1004    1991\n",
       "        ... \n",
       "4738    1941\n",
       "4739    1979\n",
       "4740    1979\n",
       "4741    1953\n",
       "4742    1963\n",
       "Name: AccessionYearClean, Length: 3743, dtype: int64"
      ]
     },
     "execution_count": 12,
     "metadata": {},
     "output_type": "execute_result"
    }
   ],
   "source": [
    "(data.loc[data.AccessionYearClean.notnull(),'AccessionYearClean']).astype(int)"
   ]
  },
  {
   "cell_type": "code",
   "execution_count": 13,
   "metadata": {},
   "outputs": [
    {
     "data": {
      "text/plain": [
       "array([nan, '2005', '2020', '1986', '1992', '1991', '1975', '1930',\n",
       "       '1874', '1915', '1920', '1921', '1916', '1929', '1907', '1989',\n",
       "       '1962', '1917', '1895', '1950', '1896', '1924', '1951', '1970',\n",
       "       '1958', '1938', '2006', '1953', '1891', '1965', '1966', '2009',\n",
       "       '1911', '1947', '1925', '1955', '1914', '1928', '2012', '1926',\n",
       "       '2015', '1879', '1887', '1949', '1902', '1981', '1979', '1899',\n",
       "       '1918', '1906', '1912', '2001', '1985', '1976', '1946', '1927',\n",
       "       '1973', '1941', '1900', '2019', '2013', '1942', '1968', '1967',\n",
       "       '1988', '1933', '1913', '1909', '1977', '1922', '1964', '2018',\n",
       "       '1936', '1948', '1919', '1954', '1959', '1931', '1943', '1908',\n",
       "       '1945', '1932', '1982', '1939', '1881', '1956', '2002', '1910',\n",
       "       '2008', '1923', '1961', '1937', '2004', '1971', '1905', '1893',\n",
       "       '1898', '1994', '1960', '1957', '1880', '1984', '2016', '1944',\n",
       "       '1969', '1972', '1871', '1987', '2007', '1980', '2000', '1990',\n",
       "       '1892', '1995', '1974', '1978', '1940', '1983', '1952', '2011',\n",
       "       '1889', '1993', '1996', '1886', '1963', '2003', '2017', '1997',\n",
       "       '1901', '2014', '1883', '2010', '1935', '1999', '1894', '1934',\n",
       "       '1998', '1904', '1897', '1890', '1873'], dtype=object)"
      ]
     },
     "execution_count": 13,
     "metadata": {},
     "output_type": "execute_result"
    }
   ],
   "source": [
    "data.AccessionYearClean.unique()\n",
    "#Aca podemos ver que nos falta trabajar con los NaN"
   ]
  },
  {
   "cell_type": "code",
   "execution_count": 14,
   "metadata": {},
   "outputs": [
    {
     "data": {
      "text/plain": [
       "0     NaN\n",
       "1     NaN\n",
       "2     NaN\n",
       "3     NaN\n",
       "4     NaN\n",
       "       ..\n",
       "995   NaN\n",
       "996   NaN\n",
       "997   NaN\n",
       "998   NaN\n",
       "999   NaN\n",
       "Name: AccessionYearClean, Length: 1000, dtype: float64"
      ]
     },
     "execution_count": 14,
     "metadata": {},
     "output_type": "execute_result"
    }
   ],
   "source": [
    "(data.loc[data.AccessionYearClean.isnull(), 'AccessionYearClean']).astype(float)\n",
    "#Convertimos a float los NaN"
   ]
  },
  {
   "cell_type": "markdown",
   "metadata": {},
   "source": [
    "## Ejercicio 3: Categorias - Valores erróneos\n",
    "\n",
    "Miremos ahora el campo \"Artist Gender\"\n",
    "\n",
    "¿Qué valores toma ese campo? ¿Cómo se distribuyen esos valores? ¿Hay valores nulos?\n",
    "\n",
    "Queremos definir como categorías válidas Male, Female y Unknown\n",
    "\n",
    "Y crear una nueva columna en el DataFrame que se llame ArtistGenderClean y tenga estos valores.\n",
    "\n",
    "Para eso vamos a usar expresiones regulares, apply y lambda.\n",
    "\n",
    "¿Podemos deducir cómo está representada la categoría Male en el dataset original?\n",
    "\n",
    "Nota: La propuesta que hacemos para limpiar este campo no es del todo correcta, y vamos a ver por qué más adelante. Pero sirve como ejercicio.\n"
   ]
  },
  {
   "cell_type": "code",
   "execution_count": 15,
   "metadata": {},
   "outputs": [
    {
     "data": {
      "text/plain": [
       "array([nan, '|', 'Female|', '||', 'Female', '|Female', '|||', '||Female',\n",
       "       '|||||', '|Female||', '|||||||', '||||', '||||||', '||Female|',\n",
       "       'Female||', '|Female|', 'Female||Female', '|||||||||||||||||',\n",
       "       '|||||||||||', '|||||||||||||||Female|||',\n",
       "       '|Female|Female|||Female', '|||Female|||||', '||||||||',\n",
       "       'Female|Female'], dtype=object)"
      ]
     },
     "execution_count": 15,
     "metadata": {},
     "output_type": "execute_result"
    }
   ],
   "source": [
    "data['Artist Gender'].unique()"
   ]
  },
  {
   "cell_type": "code",
   "execution_count": 16,
   "metadata": {},
   "outputs": [
    {
     "data": {
      "text/plain": [
       "|                           583\n",
       "||                          170\n",
       "Female                       81\n",
       "Female|                      43\n",
       "|||                          41\n",
       "|Female                      23\n",
       "||||                         20\n",
       "||||||                        7\n",
       "|||||||                       3\n",
       "|||||                         3\n",
       "Female||                      3\n",
       "|Female|                      2\n",
       "|||||||||||                   2\n",
       "Female||Female                2\n",
       "||Female|                     1\n",
       "||Female                      1\n",
       "|||Female|||||                1\n",
       "|||||||||||||||Female|||      1\n",
       "|Female|Female|||Female       1\n",
       "|Female||                     1\n",
       "|||||||||||||||||             1\n",
       "Female|Female                 1\n",
       "||||||||                      1\n",
       "Name: Artist Gender, dtype: int64"
      ]
     },
     "execution_count": 16,
     "metadata": {},
     "output_type": "execute_result"
    }
   ],
   "source": [
    "data['Artist Gender'].value_counts()"
   ]
  },
  {
   "cell_type": "code",
   "execution_count": 17,
   "metadata": {},
   "outputs": [
    {
     "data": {
      "text/plain": [
       "3751"
      ]
     },
     "execution_count": 17,
     "metadata": {},
     "output_type": "execute_result"
    }
   ],
   "source": [
    "data['Artist Gender'].isnull().sum()"
   ]
  },
  {
   "cell_type": "code",
   "execution_count": 18,
   "metadata": {},
   "outputs": [],
   "source": [
    "# cada | representa un hombre\n",
    "# Si solo quieren definir como validas las categorias Female(todas mujeres), Male(todos hombres), unknow(las demas)"
   ]
  },
  {
   "cell_type": "code",
   "execution_count": 19,
   "metadata": {},
   "outputs": [],
   "source": [
    "patron_gender = re.compile('^\\|$')\n",
    "\n",
    "male = data[\"Artist Gender\"].apply(lambda x: x if x is np.NaN else re.sub(patron_gender,\"Male\",str(x)))\n",
    "\n",
    "mask_male = male.notnull()\n",
    "\n",
    "data.loc[mask_male,\"Artist Gender Clean\"] = male[mask_male]"
   ]
  },
  {
   "cell_type": "code",
   "execution_count": 20,
   "metadata": {},
   "outputs": [
    {
     "data": {
      "text/plain": [
       "array([nan, 'Male', 'Female|', '||', 'Female', '|Female', '|||',\n",
       "       '||Female', '|||||', '|Female||', '|||||||', '||||', '||||||',\n",
       "       '||Female|', 'Female||', '|Female|', 'Female||Female',\n",
       "       '|||||||||||||||||', '|||||||||||', '|||||||||||||||Female|||',\n",
       "       '|Female|Female|||Female', '|||Female|||||', '||||||||',\n",
       "       'Female|Female'], dtype=object)"
      ]
     },
     "execution_count": 20,
     "metadata": {},
     "output_type": "execute_result"
    }
   ],
   "source": [
    "data[\"Artist Gender Clean\"].unique()"
   ]
  },
  {
   "cell_type": "code",
   "execution_count": 21,
   "metadata": {},
   "outputs": [],
   "source": [
    "patron_gender2 = re.compile('(^Female$)')\n",
    "\n",
    "female = data[\"Artist Gender\"].apply(lambda x: x if x is np.NaN  else patron_gender2.match(str(x)))\n",
    "\n",
    "mask_female = female.notnull()"
   ]
  },
  {
   "cell_type": "code",
   "execution_count": 22,
   "metadata": {},
   "outputs": [
    {
     "data": {
      "text/plain": [
       "Unknow    4079\n",
       "Male       583\n",
       "Female      81\n",
       "Name: Artist Gender Clean, dtype: int64"
      ]
     },
     "execution_count": 22,
     "metadata": {},
     "output_type": "execute_result"
    }
   ],
   "source": [
    "patron_gender3 = re.compile('(\\w)?\\|+')\n",
    "\n",
    "patron_gender33 = data[\"Artist Gender Clean\"].apply(lambda x: x if x is np.NaN else patron_gender3.search(str(x)))\n",
    "\n",
    "patron_gender3_bool = patron_gender33.notnull()\n",
    "\n",
    "mask_unknow = np.logical_or((~np.logical_or(mask_female, mask_male)),patron_gender3_bool)\n",
    "data.loc[mask_unknow, \"Artist Gender Clean\"] = \"Unknow\"\n",
    "\n",
    "data[\"Artist Gender Clean\"].value_counts()"
   ]
  },
  {
   "cell_type": "markdown",
   "metadata": {},
   "source": [
    "## Ejercicio 4: Imputación\n",
    "\n",
    "Vamos a analizar ahora los campos \"Object Date\", \"Object Begin Date\", \"Object End Date\"\n",
    "\n",
    "**4.a ¿Cuántos valores nulos hay en \"Object Date\"? ¿Cuántos en \"Object Begin Date\"? ¿Cuántos en \"Object End Date\"?**\n"
   ]
  },
  {
   "cell_type": "code",
   "execution_count": 23,
   "metadata": {},
   "outputs": [
    {
     "data": {
      "text/plain": [
       "1570"
      ]
     },
     "execution_count": 23,
     "metadata": {},
     "output_type": "execute_result"
    }
   ],
   "source": [
    "data[\"Object Date\"].isnull().sum()"
   ]
  },
  {
   "cell_type": "code",
   "execution_count": 24,
   "metadata": {},
   "outputs": [
    {
     "data": {
      "text/plain": [
       "0"
      ]
     },
     "execution_count": 24,
     "metadata": {},
     "output_type": "execute_result"
    }
   ],
   "source": [
    "data[\"Object Begin Date\"].isnull().sum()"
   ]
  },
  {
   "cell_type": "code",
   "execution_count": 25,
   "metadata": {},
   "outputs": [
    {
     "data": {
      "text/plain": [
       "0"
      ]
     },
     "execution_count": 25,
     "metadata": {},
     "output_type": "execute_result"
    }
   ],
   "source": [
    "data[\"Object End Date\"].isnull().sum()"
   ]
  },
  {
   "cell_type": "markdown",
   "metadata": {},
   "source": [
    "**4.b Usaremos los valores de \"Object Begin Date\" o \"Object End Date\" para imputar los valores de \"Object Date\" con alguno de esos dos campos.**\n",
    "\n",
    "1) Vamos a crear una columna nueva (\"Object Date 4b\") donde copiamos todos los datos de Object Date (para no cambiar los valores originales y nos sirvan para el próximo ejercicio)\n",
    "\n",
    "2) Vamos a rellenar la columna \"Object Date 4b\" con la estrategia que planteamos."
   ]
  },
  {
   "cell_type": "code",
   "execution_count": 26,
   "metadata": {},
   "outputs": [],
   "source": [
    "data[\"Object Date 4b\"]=data[\"Object Date\"]"
   ]
  },
  {
   "cell_type": "markdown",
   "metadata": {},
   "source": [
    "**4.c Usaremos aleatoriamente los valores de \"Object Begin Date\" o \"Object End Date\" para imputar los valores de \"Object Date\" con alguno de esos dos campos.**\n",
    "\n",
    "Para eso definimos una función get_fill_value que recibe como parámetro una fila da data, y si el valor del campo \"Object Date\" es nulo devuelve aleatoriamente el valor del campo \"Object Begin Date\" u \"Object End Date\" de ese registro.\n",
    "\n",
    "(En este ejercicio practicamos todo!)"
   ]
  },
  {
   "cell_type": "code",
   "execution_count": 27,
   "metadata": {},
   "outputs": [],
   "source": [
    "def get_fill_value(x):\n",
    "    rng = np.random.default_rng()\n",
    "    col = rng.integers(low=0,high=101,size=1)\n",
    "    if col%2==0:\n",
    "        return x[\"Object Begin Date\"]\n",
    "    else:\n",
    "        return x[\"Object End Date\"]\n",
    "    \n",
    "object_bool=data[\"Object Date 4b\"].isnull()\n",
    "\n",
    "data.loc[object_bool,[\"Object Date 4b\"]] = data.apply(lambda x : get_fill_value(x), axis=1)"
   ]
  },
  {
   "cell_type": "code",
   "execution_count": 28,
   "metadata": {},
   "outputs": [
    {
     "data": {
      "text/html": [
       "<div>\n",
       "<style scoped>\n",
       "    .dataframe tbody tr th:only-of-type {\n",
       "        vertical-align: middle;\n",
       "    }\n",
       "\n",
       "    .dataframe tbody tr th {\n",
       "        vertical-align: top;\n",
       "    }\n",
       "\n",
       "    .dataframe thead th {\n",
       "        text-align: right;\n",
       "    }\n",
       "</style>\n",
       "<table border=\"1\" class=\"dataframe\">\n",
       "  <thead>\n",
       "    <tr style=\"text-align: right;\">\n",
       "      <th></th>\n",
       "      <th>Object Date</th>\n",
       "      <th>Object Date 4b</th>\n",
       "      <th>Object Begin Date</th>\n",
       "      <th>Object End Date</th>\n",
       "    </tr>\n",
       "  </thead>\n",
       "  <tbody>\n",
       "    <tr>\n",
       "      <th>51</th>\n",
       "      <td>NaN</td>\n",
       "      <td>0</td>\n",
       "      <td>0</td>\n",
       "      <td>0</td>\n",
       "    </tr>\n",
       "    <tr>\n",
       "      <th>103</th>\n",
       "      <td>NaN</td>\n",
       "      <td>330</td>\n",
       "      <td>-7000</td>\n",
       "      <td>330</td>\n",
       "    </tr>\n",
       "    <tr>\n",
       "      <th>122</th>\n",
       "      <td>NaN</td>\n",
       "      <td>0</td>\n",
       "      <td>0</td>\n",
       "      <td>0</td>\n",
       "    </tr>\n",
       "    <tr>\n",
       "      <th>136</th>\n",
       "      <td>NaN</td>\n",
       "      <td>0</td>\n",
       "      <td>0</td>\n",
       "      <td>0</td>\n",
       "    </tr>\n",
       "    <tr>\n",
       "      <th>159</th>\n",
       "      <td>NaN</td>\n",
       "      <td>0</td>\n",
       "      <td>0</td>\n",
       "      <td>0</td>\n",
       "    </tr>\n",
       "    <tr>\n",
       "      <th>...</th>\n",
       "      <td>...</td>\n",
       "      <td>...</td>\n",
       "      <td>...</td>\n",
       "      <td>...</td>\n",
       "    </tr>\n",
       "    <tr>\n",
       "      <th>2498</th>\n",
       "      <td>NaN</td>\n",
       "      <td>1440</td>\n",
       "      <td>1440</td>\n",
       "      <td>1450</td>\n",
       "    </tr>\n",
       "    <tr>\n",
       "      <th>2499</th>\n",
       "      <td>NaN</td>\n",
       "      <td>-7000</td>\n",
       "      <td>-7000</td>\n",
       "      <td>-30</td>\n",
       "    </tr>\n",
       "    <tr>\n",
       "      <th>2500</th>\n",
       "      <td>NaN</td>\n",
       "      <td>1644</td>\n",
       "      <td>1644</td>\n",
       "      <td>1911</td>\n",
       "    </tr>\n",
       "    <tr>\n",
       "      <th>2501</th>\n",
       "      <td>NaN</td>\n",
       "      <td>1536</td>\n",
       "      <td>1526</td>\n",
       "      <td>1536</td>\n",
       "    </tr>\n",
       "    <tr>\n",
       "      <th>2502</th>\n",
       "      <td>NaN</td>\n",
       "      <td>618</td>\n",
       "      <td>618</td>\n",
       "      <td>907</td>\n",
       "    </tr>\n",
       "  </tbody>\n",
       "</table>\n",
       "<p>1570 rows × 4 columns</p>\n",
       "</div>"
      ],
      "text/plain": [
       "     Object Date Object Date 4b  Object Begin Date  Object End Date\n",
       "51           NaN              0                  0                0\n",
       "103          NaN            330              -7000              330\n",
       "122          NaN              0                  0                0\n",
       "136          NaN              0                  0                0\n",
       "159          NaN              0                  0                0\n",
       "...          ...            ...                ...              ...\n",
       "2498         NaN           1440               1440             1450\n",
       "2499         NaN          -7000              -7000              -30\n",
       "2500         NaN           1644               1644             1911\n",
       "2501         NaN           1536               1526             1536\n",
       "2502         NaN            618                618              907\n",
       "\n",
       "[1570 rows x 4 columns]"
      ]
     },
     "execution_count": 28,
     "metadata": {},
     "output_type": "execute_result"
    }
   ],
   "source": [
    "data.loc[object_bool,[\"Object Date\",\"Object Date 4b\",\"Object Begin Date\",\"Object End Date\"]]"
   ]
  },
  {
   "cell_type": "markdown",
   "metadata": {},
   "source": [
    "Vamos a contar ahora cuántos registros rellenó con los valores de Object Begin Date y cuántos con Object End Date"
   ]
  },
  {
   "cell_type": "code",
   "execution_count": 29,
   "metadata": {},
   "outputs": [
    {
     "data": {
      "text/plain": [
       "867"
      ]
     },
     "execution_count": 29,
     "metadata": {},
     "output_type": "execute_result"
    }
   ],
   "source": [
    "(data[\"Object Begin Date\"] == data['Object Date 4b']).sum()"
   ]
  },
  {
   "cell_type": "code",
   "execution_count": 30,
   "metadata": {},
   "outputs": [
    {
     "data": {
      "text/plain": [
       "860"
      ]
     },
     "execution_count": 30,
     "metadata": {},
     "output_type": "execute_result"
    }
   ],
   "source": [
    "(data[\"Object End Date\"] == data['Object Date 4b']).sum()"
   ]
  },
  {
   "cell_type": "markdown",
   "metadata": {},
   "source": [
    "Nota, la suma de ambos registros no da la cantidad total de filas, ya que los valores 0 donde ambas columnas son iguales, tambien los esta contando."
   ]
  },
  {
   "cell_type": "markdown",
   "metadata": {},
   "source": [
    "## Nota: Organizar el dataset\n",
    "\n",
    "Para llevar a cabo esta tarea necesitamos algunas herramientas que veremos en la segunda parte de Pandas.\n",
    "\n",
    "En esa clase vamos a volver a este ejercicio y resolver este punto.\n",
    "\n",
    "Los campos que vamos a analizar son \"Artist Nationality\" y \"Artist Display Name\""
   ]
  },
  {
   "cell_type": "code",
   "execution_count": 31,
   "metadata": {},
   "outputs": [
    {
     "data": {
      "text/plain": [
       "American                                                   329\n",
       "Austrian                                                   153\n",
       "French                                                     146\n",
       "Japanese                                                    96\n",
       "Italian                                                     93\n",
       "                                                          ... \n",
       "American, born Austria                                       1\n",
       "French, born Germany|Italian                                 1\n",
       "Netherlandish|Italian|Italian                                1\n",
       "Italian|Italian|Italian|Italian|Italian|Italian|Italian      1\n",
       "British, born Cuba                                           1\n",
       "Name: Artist Nationality, Length: 167, dtype: int64"
      ]
     },
     "execution_count": 31,
     "metadata": {},
     "output_type": "execute_result"
    }
   ],
   "source": [
    "data[\"Artist Nationality\"].value_counts()"
   ]
  },
  {
   "cell_type": "code",
   "execution_count": 32,
   "metadata": {},
   "outputs": [
    {
     "data": {
      "text/plain": [
       "Walker Evans                                                                                                       35\n",
       "Unknown                                                                                                            32\n",
       "W. Duke, Sons & Co.                                                                                                21\n",
       "Kinney Brothers Tobacco Company                                                                                    20\n",
       "Unidentified Artist                                                                                                19\n",
       "                                                                                                                   ..\n",
       "Lucas Cranach the Elder|Albrecht Dürer                                                                              1\n",
       "Burton Silverman                                                                                                    1\n",
       "S. Arlent Edwards                                                                                                   1\n",
       "Napoléon II, King of Rome and Duke of Reichstadt|Thomas Rowlandson|Napoléon Bonaparte|Rudolph Ackermann, London     1\n",
       "Wiener Werkstätte|Richard Teschner                                                                                  1\n",
       "Name: Artist Display Name, Length: 1595, dtype: int64"
      ]
     },
     "execution_count": 32,
     "metadata": {},
     "output_type": "execute_result"
    }
   ],
   "source": [
    "data[\"Artist Display Name\"].value_counts() "
   ]
  }
 ],
 "metadata": {
  "kernelspec": {
   "display_name": "Python [conda env:dhdsblend2021] *",
   "language": "python",
   "name": "conda-env-dhdsblend2021-py"
  },
  "language_info": {
   "codemirror_mode": {
    "name": "ipython",
    "version": 3
   },
   "file_extension": ".py",
   "mimetype": "text/x-python",
   "name": "python",
   "nbconvert_exporter": "python",
   "pygments_lexer": "ipython3",
   "version": "3.8.11"
  }
 },
 "nbformat": 4,
 "nbformat_minor": 4
}
